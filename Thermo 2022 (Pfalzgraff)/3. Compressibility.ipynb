{
 "cells": [
  {
   "cell_type": "markdown",
   "metadata": {},
   "source": [
    "### Computational Guided Inquiry for PChem \n",
    "\n",
    "# Analyzing the Compressibility of a Real Gas"
   ]
  },
  {
   "cell_type": "markdown",
   "metadata": {},
   "source": [
    "## Pre-class activities:\n",
    "1. Make sure you have the files 'P_comp.txt', 'T_comp.txt' and 'rhoReal.txt' in the same folder as this notebook file.  They should all have come in the zip file together.  \n",
    "\n",
    "2. Read the Introduction below, and copy all the equations in the introduction into your comp notebook. \n",
    "\n",
    "3. Suppose that for a real gas at a particular temperature and pressure, you find that Z > 1.  What does that tell you about the balance of attractive and repulsive interactions in the gas?  Are attractive interactions more important, or repulsive interactions? Briefly explain how you know. \n",
    "\n",
    "4. The compressibility, $Z$, can be written as a function of $p$, $\\rho_n$, and $T$.  Using Eq. (2) below, derive the expression for $Z$ in terms of $\\rho_n$, $p$, and $T$. \n",
    "\n",
    "5. Copy down the equations we derived in class for the second and third virial coefficients of a van der Waals gas. From these equations, solve for the van der Waals coefficients 'a' and 'b' in terms of the second and third virial coefficients. (When you're done, you'll have two expressions, one of the form \"a = ...\" and one of the form \"b = ...\").\n"
   ]
  },
  {
   "cell_type": "markdown",
   "metadata": {},
   "source": [
    "## Introduction\n",
    "Everybody knows that gases are compressible - they become denser when the pressure goes up. But not all gases do this in exactly the same way.  That's because a gas's compressibility is influenced by intermolecular forces, which we know vary from gas to gas.  That, in turn, implies something rather intriguing to a physical chemist: it means that by studying gas density, we can gain insight into how gas molecules interact!  That is one reason why physical chemists have long been interested in analyzing gas density.\n",
    "\n",
    "Last week, we looked at equations of state for the ideal gas and the van der Waals gas.  As we saw in class, there is another particularly powerful equation of state for a real gas, called the virial equation of state,\n",
    "\n",
    "$$pV_m=RTZ\\qquad(1)$$ \t\t\t\t\t\t\n",
    "\n",
    "Where $V_m=\\frac{V}{n}$ . In Eq. (1), Z is a unitless quantity called the compression factor.  Z is equal to 1 for an ideal gas, but for a real gas, Z may be greater than or less than 1, and its value depends on $p$, $T$, and $V_m$.  You can manipulate Eq. (1) to get the definition of Z:\n",
    "\n",
    "$$Z\\equiv\\frac{pV_m}{RT}\\qquad(2)$$\n",
    "\n",
    "The neat idea of the virial equation is that we write Z as an infinite series in the number density, $\\rho_n$\n",
    "\n",
    "$$Z=1 + B\\rho_n + C\\rho_n^2 + D\\rho_n ^3 + ...\\qquad(3)$$\n",
    "\n",
    "where B, C, etc, are constants that depend on the temperature. This power series is very flexible because you can approximate any function with it if you include enough terms.  This means that the virial equation of state can be “molded” to describe any real gas if the correct coefficients B, C, etc are chosen.  \n",
    "\n",
    "We will explore some properties of this flexible equation of state, extract virial coefficients from experimental data, and also determine the van der Waals parameters for air! \n",
    "\n",
    "\n",
    "\n"
   ]
  },
  {
   "cell_type": "markdown",
   "metadata": {},
   "source": [
    "## In-class activities  \n",
    "<br>\n",
    "Import various libraries."
   ]
  },
  {
   "cell_type": "code",
   "execution_count": null,
   "metadata": {},
   "outputs": [],
   "source": [
    "import numpy as np\n",
    "import matplotlib.pyplot as plt\n",
    "from mpl_toolkits.mplot3d import axes3d\n",
    "from matplotlib import cm\n",
    "%matplotlib notebook"
   ]
  },
  {
   "cell_type": "markdown",
   "metadata": {},
   "source": [
    "You'll next want to define the necessary variables, and load the appropriate text files."
   ]
  },
  {
   "cell_type": "code",
   "execution_count": null,
   "metadata": {},
   "outputs": [],
   "source": [
    "# Constants\n",
    "R=0.08206 # L atm / mol k\n",
    "\n",
    "# Load the data\n",
    "P = np.loadtxt('P_comp.txt')\n",
    "T = np.loadtxt('T_comp.txt')"
   ]
  },
  {
   "cell_type": "markdown",
   "metadata": {},
   "source": [
    "It's convenient to report the temperatures and pressures we're working with. Modify the cell below to finish that reporting."
   ]
  },
  {
   "cell_type": "code",
   "execution_count": null,
   "metadata": {},
   "outputs": [],
   "source": [
    "# Report the temperatures we are working with\n",
    "print('T = ', T)\n",
    "\n",
    "# Also report the pressures\n",
    "print('P = ', P)\n",
    "\n",
    "#Construct a grid of pressure and temperature.\n",
    "Pgrid,Tgrid=np.meshgrid(P,T)\n"
   ]
  },
  {
   "cell_type": "markdown",
   "metadata": {},
   "source": [
    "Now let's load the data for the density of air.  This is the density of air measured at different pressures and temperatures."
   ]
  },
  {
   "cell_type": "code",
   "execution_count": null,
   "metadata": {},
   "outputs": [],
   "source": [
    "# Load rho of the real gas\n",
    "rhoGrid = np.loadtxt('rhoReal.txt')"
   ]
  },
  {
   "cell_type": "markdown",
   "metadata": {},
   "source": [
    "Using your grids of p, T, and $\\rho_n$, calculate the compressibility factor, $Z$, of air on a grid in the cell below.  "
   ]
  },
  {
   "cell_type": "code",
   "execution_count": null,
   "metadata": {},
   "outputs": [],
   "source": [
    "# Calculate Z(p,T) using the grids of p, T, and rho_n.   \n",
    "# Be careful of order of operations.\n",
    "Zgrid = # you fill this in."
   ]
  },
  {
   "cell_type": "markdown",
   "metadata": {},
   "source": [
    "Now we'll plot your thermodynamic surface $Z(\\rho_n,T)$:"
   ]
  },
  {
   "cell_type": "code",
   "execution_count": null,
   "metadata": {},
   "outputs": [],
   "source": [
    "# Open a 3-d plot window\n",
    "ax = plt.figure().gca(projection='3d') # Set up a three dimensional graphics window \n",
    "\n",
    "# Graph rho(T,P) \n",
    "ax.plot_surface(rhoGrid, Tgrid, Zgrid, cmap=cm.plasma) # Make the 3D plot\n",
    "ax.set_xlabel('Number density (mol/L)') # Label axes\n",
    "ax.set_ylabel('T (K)')\n",
    "ax.set_zlabel('Z')\n"
   ]
  },
  {
   "cell_type": "markdown",
   "metadata": {},
   "source": [
    "#### Pause for Analysis #1: Make a sketch of your thermodynamic surface $Z(\\rho_n,T)\\space$ in your comp notebook.  Then answer the questions below: \t\n",
    "#### a. In words, describe the asymptotic or limiting behaviors of Z, especially in the limit of low number density. (It is worth recalling that $Z(\\rho_n,T) = 1$ for an ideal gas).  On your sketch above, also indicate the regions of state space where ideal gas behavior deviates most strongly from real gas behavior.\n",
    "#### b. From inspection of your thermodynamic surface, estimate the Boyle temperature of air.  How do you know which of the isotherms is closest to the Boyle temperature?"
   ]
  },
  {
   "cell_type": "markdown",
   "metadata": {},
   "source": [
    "In this part, we will slice some isotherms to look at how $Z$ changes with $\\rho_n$ at constant temperature.  <u>Your instructor will assign you a temperature – when you get to this step, ask them to do so.  </u>\n",
    "\n",
    "To plot $Z$ vs $\\rho_n$ at a specific $T$, you will have to extract the row corresponding to the correct temperature from your variables Zgrid and rhoGrid. One way to do this is to use Python’s logical indexing. In the example below, I have extracted $\\rho_n$ at temperature T= 250K.  <u>Be sure to change the temperature to the one you were assigned.</u>"
   ]
  },
  {
   "cell_type": "code",
   "execution_count": null,
   "metadata": {},
   "outputs": [],
   "source": [
    "# Open a figure window\n",
    "plt.figure()\n",
    "\n",
    "# Extract real and ideal density isotherms\n",
    "rho = np.squeeze(rhoGrid[T==250.,:]) # Squeeze lets python know that we just want a column of numbers, not an array\n",
    "Z = np.squeeze(Zgrid[T==250.,:])\n",
    "\n",
    "# Plot the Z vs rho isotherm\n",
    "plt.plot(rho.T,Z.T,'o-')\n",
    "plt.xlabel('Number density (mol/L)')\n",
    "plt.ylabel('Z')\n"
   ]
  },
  {
   "cell_type": "markdown",
   "metadata": {},
   "source": [
    "#### Pause for Analysis #2: Sketch this graph in your comp notebook.  What can you infer about the sign of B at your temperature from your plot?  "
   ]
  },
  {
   "cell_type": "markdown",
   "metadata": {},
   "source": [
    "Our goal now is to determine the value of the second virial coefficient, $B$, at your assinged temperature.  To do this, we will fit your isotherm to an equation of the form:\n",
    "$$ Z = A + B\\rho_n + C\\rho_n ^2 + D\\rho_n ^3 + E \\rho_n^4$$\n",
    "Basically, we're approximating $Z$ as a fourth order polynomial (instead of the infinite series that it really is).  That's what the cell below does:"
   ]
  },
  {
   "cell_type": "code",
   "execution_count": null,
   "metadata": {},
   "outputs": [],
   "source": [
    "pfit = np.flipud(np.polyfit(rho,Z,4))\n",
    "A = pfit[0]\n",
    "B = pfit[1]\n",
    "C = pfit[2]\n",
    "D = pfit[3]\n",
    "E = pfit[4]\n",
    "\n",
    "print(\"A =\", A)\n",
    "print(\"B =\", B)\n",
    "print(\"C =\", C)\n",
    "print(\"D =\", D)\n",
    "print(\"E =\", E)"
   ]
  },
  {
   "cell_type": "markdown",
   "metadata": {},
   "source": [
    "#### Pause for Analysis #3:  Record these fit coefficients in your notebook.  Then answer the questions below.\n",
    "#### a.\tWhat should the value of the coefficient A be?  Is it close to what you expect?\n",
    "#### b. Do you notice any patterns in the virial coefficients for larger powers of $\\rho_n$?  Is this what you would expect?\n",
    "#### c. Record your value of B on the board.  Include units.  "
   ]
  },
  {
   "cell_type": "markdown",
   "metadata": {},
   "source": [
    "Our final task is to use our information about the virial coefficients to derive van der Waals parameters for air. In the cell below, use the values of the virial coefficients you found above to solve for the van der Waals parameters.\n",
    "\n",
    "Note that if you need to take a square root of some number x, you can do this using np.sqrt(x).  Also, don't forget to use the temperature you were assigned (don't use the variable 'T', because T is a list of temperatures)."
   ]
  },
  {
   "cell_type": "code",
   "execution_count": null,
   "metadata": {},
   "outputs": [],
   "source": [
    "# Solve for the van der Waals parameters\n",
    "b =  # you fill this in\n",
    "a = # you fill this in\n",
    "\n",
    "# Print out the van der Waals parameters\n",
    "print(\"The value of the van der Waals parameter 'a' is:\", a, \"L atm / mol K\")\n",
    "print(\"The value of the van der Waals parameter 'b' is:\", b, \"L/mol\")"
   ]
  },
  {
   "cell_type": "markdown",
   "metadata": {
    "collapsed": true
   },
   "source": [
    "## Post-class reflection (due next class)\n",
    "In your comp notebook, enter the following:\n",
    "\n",
    "1. Your responses to the \"pause for analysis\" items.\n",
    "2. Your values for the van der Waals parameters 'a' and 'b' for air, at your assigned temperature.\n",
    "3. In your own words, define the terms _compressibility factor_, _Boyle temperature_, _virial equation_, and _virial coefficients_\n"
   ]
  },
  {
   "cell_type": "code",
   "execution_count": null,
   "metadata": {},
   "outputs": [],
   "source": []
  }
 ],
 "metadata": {
  "kernelspec": {
   "display_name": "Python 3",
   "language": "python",
   "name": "python3"
  },
  "language_info": {
   "codemirror_mode": {
    "name": "ipython",
    "version": 3
   },
   "file_extension": ".py",
   "mimetype": "text/x-python",
   "name": "python",
   "nbconvert_exporter": "python",
   "pygments_lexer": "ipython3",
   "version": "3.6.5"
  }
 },
 "nbformat": 4,
 "nbformat_minor": 1
}

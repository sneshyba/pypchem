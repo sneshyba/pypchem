{
 "cells": [
  {
   "cell_type": "markdown",
   "metadata": {},
   "source": [
    "### Computational Guided Inquiry for PChem \n",
    "\n",
    "# Probability Densities\n",
    "\n",
    "## Objective: Use Python graphics to visualize probability densities##\n"
   ]
  },
  {
   "cell_type": "markdown",
   "metadata": {},
   "source": [
    "## Pre-class activities:  \n",
    "Read the Introduction below. This will take a while, so make sure you set aside plenty of time. \n",
    "\n",
    "Prepare a page of your comp notebook with the following information:\n",
    "• Equations 1-6 from the Introduction.  \n",
    "• Values of the gas constant, $R$, and molar mass, $M$, of a gas molecule of your choice in the SI unit system.   \n",
    "• A description of the trapezoidal rule in your own words. A pictoral representation might be useful.  \n"
   ]
  },
  {
   "cell_type": "markdown",
   "metadata": {},
   "source": [
    "## Introduction\n",
    "\n",
    "A probability density function describes the relative likelihood of a continuous random variable having a given value.  For example, gas molecules move over a continuous range of velocities and we can use the Boltzmann density function, $f_B$, to describe the x, y, or z-component of the velocity ($v_x$, $v_y$, or $v_z$).  In addition to a velocity component, this function also depends on the temperature (*T*) and the molar mass of the molecule (*M*); we say it is <em>parameterized</em> by these quantitites.  Similarly, the Maxwell density function, $f_M$, is a function of the speed (*v*), and is also parameterized by *T* and *M*.  Analytically, we write the Boltzmann density function as\n",
    "\n",
    "<p style='text-align: right;'>\n",
    "$ f_B(v_x) = N_Be^{-{\\scriptsize(\\dfrac{M}{2RT}}){\\Large v_x^2}} $\n",
    "$\\qquad\\qquad\\qquad\\qquad\\qquad\\qquad\\qquad\\qquad\\qquad  (1) $\n",
    "</p>\n",
    "\n",
    "where we have written it as a function of the x-direction velocity component, $v_x$ (the y- and z-forms look very similar).  The quantity $N_B$ is a normalization constant,\n",
    "\n",
    "<p style='text-align: right;'>\n",
    "$ N_B = {\\small{(\\dfrac{M}{2 \\pi RT}})}^{1/2} $\n",
    "$\\qquad\\qquad\\qquad\\qquad\\qquad\\qquad\\qquad\\qquad\\qquad  (2) $\n",
    "</p>\n",
    "\n"
   ]
  },
  {
   "cell_type": "markdown",
   "metadata": {},
   "source": [
    "Similarly, the Maxwell density function is written\n",
    "\n",
    "<p style='text-align: right;'>\n",
    "$ f_M(v) = N_Mv^2e^{-{\\scriptsize(\\dfrac{M}{2RT}}){\\Large v^2}} $\n",
    "$\\qquad\\qquad\\qquad\\qquad\\qquad\\qquad\\qquad\\qquad\\qquad  (3) $\n",
    "</p>\n",
    "\n",
    "with a normalization constant of\n",
    "\n",
    "<p style='text-align: right;'>\n",
    "$ N_M = 4 \\pi {\\small{(\\dfrac{M}{2 \\pi RT}})}^{3/2} $\n",
    "$\\qquad\\qquad\\qquad\\qquad\\qquad\\qquad\\qquad\\qquad\\qquad  (4) $\n",
    "</p>\n"
   ]
  },
  {
   "cell_type": "markdown",
   "metadata": {},
   "source": [
    "For a given molar mass, we can think of these functions as surfaces in two dimensions, (1) the velocity component or speed and (2) the temperature.  A shorthand for these surfaces would be $f_B(v_x,T)$ or $f_M(v,T)$.  What do such surfaces look like?  One is shown in the figure below.  Such figures are useful for developing an intuition about how molecules move; for example, it is evident from the figure that molecules exhibit a broader distribution of velocities at higher temperature.\n",
    "\n",
    "<p style='text-align: center;'>\n",
    "<img src=\"http://webspace.pugetsound.edu/facultypages/nesh/Notebook/fbsurface.png\" height=\"500\" width=\"500\"/>  \n",
    "\n",
    "<p style='text-align: center;'>\n",
    "<strong>Figure 1</strong>. Probability density as a function of velocity and temperature.  \n"
   ]
  },
  {
   "cell_type": "markdown",
   "metadata": {},
   "source": [
    "An important quantitative use of probability densities is to calculate averages, or _moments_, which in thermodynamics are denoted using the notation $\\langle ...\\rangle$.  For example, the _first moment_ of the x-direction velocity component is calculated using the Boltzmann density function\n",
    "\n",
    "<p style='text-align: right;'>\n",
    "$ \\langle v_x \\rangle = \\int\\limits_{-\\infty}^{\\infty} v_xf_B(v_x)dv_x  $\n",
    "$\\qquad\\qquad\\qquad\\qquad\\qquad\\qquad\\qquad\\qquad\\qquad  (5) $\n",
    "</p>\n",
    "\n",
    "As can be seen from this equation, we calculate the first moment of the x-direction velocity component by integrating the product of the x-direction velocity component ($v_x$) and the Boltzmann density function ($f_B$) from -$\\infty$ to +$\\infty$.  Higher-order moments are calculated similarly, e.,g., the _second moment_ is found by integrating the product of the square of the x-component of the velocity ($v_x^2$) and the Boltzmann density function from -$\\infty$ to +$\\infty$\n",
    "\n",
    "<p style='text-align: right;'>\n",
    "$ \\langle v_x^2 \\rangle = \\int\\limits_{-\\infty}^{\\infty} v_x^2 f_B(v_x)dv_x  $\n",
    "$\\qquad\\qquad\\qquad\\qquad\\qquad\\qquad\\qquad\\qquad\\qquad  (6) $\n",
    "</p>\n",
    "\n"
   ]
  },
  {
   "cell_type": "markdown",
   "metadata": {},
   "source": [
    "If the quantity you are interested in averaging depends on the speed (as opposed to the velocity component), then you would use the Maxwell density function.  For example, the <em>first moment of the speed</em> is given by\n",
    "\n",
    "<p style='text-align: right;'>\n",
    "$ \\langle v \\rangle = \\int\\limits_0^{\\infty} vf_M(v)dv  $\n",
    "$\\qquad\\qquad\\qquad\\qquad\\qquad\\qquad\\qquad\\qquad\\qquad  (7) $\n",
    "</p>\n",
    "\n",
    "It then follows that higher-order moments would be written\n",
    "\n",
    "<p style='text-align: right;'>\n",
    "$ \\langle v^n \\rangle = \\int\\limits_0^{\\infty} v^nf_M(v)dv  $\n",
    "$\\qquad\\qquad\\qquad\\qquad\\qquad\\qquad\\qquad\\qquad\\qquad  (8) $\n",
    "</p>\n",
    "\n"
   ]
  },
  {
   "cell_type": "markdown",
   "metadata": {},
   "source": [
    "It turns out that various moments of the speed, when taken to appropriate powers, have special symbols and names: $\\bar c = \\langle v \\rangle$ is just the average speed, $c = \\langle v^2 \\rangle ^\\frac{1}{2}$ is called the root-mean-squared speed, $\\tilde c = \\langle v^3 \\rangle ^\\frac{1}{3}$ is called the cubed-root-mean-cubed speed.\n",
    "\n",
    "Some of the integrals written above can be evaluated analytically, which means a closed-form expression is available.  There are integral tables for that.  Other integrals can be seen, by inspecting the integrands (the function being integrated), to be equal to zero!  Other (in fact most!) integrals have no analytical solution.  But _all_ the integrals discussed so far can be evaluated numerically, with the help of a computer.  The main goal of this activity is to show you how to do that; on the way, you will pick up some intuition about the temperature dependence of density functions.\n",
    "\n",
    "\n"
   ]
  },
  {
   "cell_type": "markdown",
   "metadata": {},
   "source": [
    "## In-class activities  \n",
    "This imports various libraries."
   ]
  },
  {
   "cell_type": "code",
   "execution_count": null,
   "metadata": {},
   "outputs": [],
   "source": [
    "import numpy as np\n",
    "from numpy import pi\n",
    "import matplotlib.pyplot as plt\n",
    "from matplotlib import cm\n",
    "from mpl_toolkits.mplot3d import axes3d\n",
    "%matplotlib notebook"
   ]
  },
  {
   "cell_type": "markdown",
   "metadata": {},
   "source": [
    "The first objective is to get Python to display the Boltzmann probability density function, $f_B(v_x,T)$, of the gas you chose as a thermodynamic surface. You will want to set your ranges as -2000 to 2000 m/s for $v_x$ and 100 to 1000 K for $T$. Modify the cell below appropriately to do this."
   ]
  },
  {
   "cell_type": "code",
   "execution_count": null,
   "metadata": {},
   "outputs": [],
   "source": [
    "# This part explores the temperature dependence of fb(v) \n",
    "R = 8.314\n",
    "n = 1\n",
    "M = # fill this in for your gas\n",
    "\n",
    "# Calculate a grid of velocities and temperatures.  Youll need to change this.\n",
    "vx = np.linspace(-200,200)\n",
    "T = np.linspace(50,500)\n",
    "\n",
    "# Make the grids.\n",
    "vxgrid,Tgrid = np.meshgrid(vx,T)\n",
    "\n",
    "# Get the probability density for every point on the grid\n",
    "D = M/(2*R*Tgrid)\n",
    "NB = np.sqrt(M/(2*pi*R*Tgrid))\n",
    "fBgrid= NB * np.exp(-D*vxgrid**2)\n"
   ]
  },
  {
   "cell_type": "markdown",
   "metadata": {},
   "source": [
    "Now we're ready to graph it."
   ]
  },
  {
   "cell_type": "code",
   "execution_count": null,
   "metadata": {},
   "outputs": [],
   "source": [
    "# Set up a figure for 3d graphics\n",
    "ax = plt.figure().gca(projection='3d')\n",
    "\n",
    "# Make the mesh plot; the \"stride\" parameters improve the appearance\n",
    "ax.plot_surface(vxgrid, Tgrid, fBgrid, cmap=cm.plasma) \n",
    "ax.set_xlabel('vx (m/s)') # Label axes\n",
    "ax.set_ylabel('T (K)')\n",
    "ax.set_zlabel('fB (s/m)')"
   ]
  },
  {
   "cell_type": "markdown",
   "metadata": {},
   "source": [
    "### Pause for Analysis: The important thing to look at here is how $f_B (v_x)\\space$ changes as a function of temperature. In your notebook, on a single graph make sketches of $f_B (v_x)\\space$ for a low-temperature and a high-temperature case. Your sketches should be clearly labeled and qualitatively correct in terms of the relative height and width of these two functions. "
   ]
  },
  {
   "cell_type": "markdown",
   "metadata": {},
   "source": [
    "Your next task is to make a similar two-dimensional surface for the _Maxwell_ probability distribution function, $f_M(v,T)$. As you did before, modify the cell below to set the temperature range from 100 to 1000 K. The Maxwell distribution describes speeds, so your $v$ values should go from 0 to 2000 m/s. "
   ]
  },
  {
   "cell_type": "code",
   "execution_count": null,
   "metadata": {},
   "outputs": [],
   "source": [
    "# Speeds and temperatures.  You'll need to change this.\n",
    "v = np.linspace(0,200)\n",
    "T = np.linspace(50,500)\n",
    "\n",
    "# Make the grids.\n",
    "vgrid,Tgrid = np.meshgrid(v,T)\n",
    "\n",
    "# Get the probability density for every point on the grid\n",
    "D = M/(2*R*Tgrid)\n",
    "NM = np.sqrt(2)*M**1.5*R**(-1.5)*Tgrid**(-1.5)*pi**(-0.5)\n",
    "fMgrid= NM*vgrid**2*np.exp(-D*vgrid**2)"
   ]
  },
  {
   "cell_type": "markdown",
   "metadata": {},
   "source": [
    "Make a 2d mesh plot of this too. As before, you should add appropriate axis labels to your graph."
   ]
  },
  {
   "cell_type": "code",
   "execution_count": null,
   "metadata": {},
   "outputs": [],
   "source": [
    "# Set up a figure for 3d graphics\n",
    "ax = plt.figure().gca(projection='3d')\n",
    "\n",
    "# Make the mesh plot\n",
    "ax.plot_surface(vxgrid, Tgrid, fMgrid, cmap=cm.plasma) \n",
    "ax.set_xlabel('vx (m/s)') # Label axes\n",
    "ax.set_ylabel('T (K)')\n",
    "ax.set_zlabel('fB (s/m)')"
   ]
  },
  {
   "cell_type": "markdown",
   "metadata": {},
   "source": [
    "### Pause for Analysis: Similarly to how you analyzed $f_B(v_x)\\space$, make a a sketch of $f_M(v)\\space$ at low temperature and another at high temperature, in your computational lab notebook.  Once again, make sure that your plots are clearly labeled and correct. "
   ]
  },
  {
   "cell_type": "markdown",
   "metadata": {},
   "source": [
    "Now that you have explored how the Boltzmann and Maxwell distribution functions vary with temperature, it is time to take a closer look at the first few moments of the x-direction velocity component. Starting with the first moment, calculate and graph the integrand $v_x f_B(v_x)$ (see Eq. 5) at **300 K**, and use the trapezoidal rule to integrate. You'll need to extend the range of vx until you are plotting the whole integrand. \n",
    "\n",
    "The code below is set up to do this for the first and second moments, you'll need to do the third.  Remember that to raise to a power in python you have to use double asterisks \"**\""
   ]
  },
  {
   "cell_type": "code",
   "execution_count": null,
   "metadata": {},
   "outputs": [],
   "source": [
    "# Moments for Boltzmann\n",
    "\n",
    "# Lay out an array of velocities and their probability densities at a single temperature\n",
    "T = 50  \n",
    "D = M/(2*R*T)\n",
    "NB = np.sqrt(M/(2*pi*R*T))\n",
    "\n",
    "vx = np.linspace(-200,200) # you'll need to change this so that you are plotting the whole integrand.\n",
    "fB = NB * np.exp(-D*vx**2)\n",
    "\n",
    "#Plot the integrand for the first moment, and calculate the moment using the trapezoidal rule\n",
    "plt.figure() # Set up a graphics window \n",
    "plt.plot(vx,fB*vx) # Plot the integrand\n",
    "plt.grid(True)\n",
    "plt.xlabel('vx (m/s)') # Label the x axis\n",
    "plt.ylabel('fM * vx') # Label the y axis\n",
    "print('the mean of vx is', np.trapz(fB*vx,vx),'m/s')\n",
    "\n",
    "#Do the same for the second moment \n",
    "plt.figure()\n",
    "plt.plot(vx,fB*vx**2)\n",
    "plt.grid(True)\n",
    "plt.xlabel('vx (m/s)') # Label the x axis\n",
    "plt.ylabel('fM * v_x^2') # Label the y axis\n",
    "print('the mean of vx^2 is', np.trapz(fB*vx**2,vx),'m^2/s^2')\n",
    "\n",
    "#Do the same for the third moment \n"
   ]
  },
  {
   "cell_type": "markdown",
   "metadata": {},
   "source": [
    "### Pause for Analysis: Sketch the integrands in your notebook and record the values of $\\langle v_x \\rangle , \\langle v_x^2 \\rangle , and \\langle v_x^3 \\rangle $ that you calculated. Articulate a _mathematical_ reason and a _physical_ reason for any mean values that are close to zero.   \n",
    "\n",
    "### Using this reasoning, make a prediction about the fourth moment (i.e., sketch what you imagine the integrand of $\\langle v_x^4 \\rangle$ will look like, and say whether you think the fourth moment will be zero or not)."
   ]
  },
  {
   "cell_type": "markdown",
   "metadata": {},
   "source": [
    "Now you'll do a similar thing with the three moments of the _speed_.  Starting with the first moment, calculate and graph the integrands $v^nf_M(v)$ (see Eq. 10) at **300 K**, and the integrals (which are the moments). "
   ]
  },
  {
   "cell_type": "code",
   "execution_count": null,
   "metadata": {},
   "outputs": [],
   "source": [
    "# Moments for Maxwell\n",
    "\n",
    "# Lay out an array of velocities and their probability densities at a single temperature\n",
    "T = 50\n",
    "D = M/(2*R*T)\n",
    "NM = np.sqrt(2)*M**1.5*R**(-1.5)*T**(-1.5)*pi**(-0.5)\n",
    "v = np.linspace(0,1600)\n",
    "fM = NM *v**2 * np.exp(-D*v**2)\n",
    "\n",
    "#Plot the integrand for the first moment, and calculate the moment (called \"c-bar\") using the trapezoidal rule\n",
    "plt.figure() # Set up a graphics window \n",
    "plt.plot(v,fM*v)\n",
    "plt.grid(True)\n",
    "moment = np.trapz(fM*v,v)\n",
    "cbar = moment**.5\n",
    "print(\"The first moment of fM is\", cbar, \"m/s\")\n",
    "\n",
    "#Do the same for the second moment and its square root (called \"c\")\n",
    "\n",
    "\n",
    "#Do the same for the third moment and its cubed root (called \"ctilde\")\n"
   ]
  },
  {
   "cell_type": "markdown",
   "metadata": {},
   "source": [
    "### Pause for Analysis: You will notice that there is a trend in the values of $\\bar c$, $c$, and $\\tilde c$.  Describe it. "
   ]
  },
  {
   "cell_type": "markdown",
   "metadata": {},
   "source": [
    "## Post-class activities:    \n",
    "In your CGI notebook, enter the following:\n",
    "\n",
    "1. Your responses to the \"pause for analysis\" items.\n",
    "2. You'll notice that everywhere the temperature, $T$, occurs in the above formulas, it is divided by the molar mass, $M$. That's interesting, isn't it? it means you ought to be able to predict the effects of a higher or lower mass based on what you've observed about a higher or lower temperature. **So try this**: make a _prediction_ about how $f_B(v_x)$ would change (qualitatively) for, say, $H_2$ (would the distribution be broader or narrower? Taller or shorter?). Then use python to re-calculate $f_B(v_x)$ for $H_2$ by modifying the molar mass you entered at the start of this exercise (see the third executable cell) to see how your prediction fared.\n",
    "3. In this exercise, you evaluated moments using the _trapezoidal rule_. What is the trapezoidal rule?\n",
    "\n",
    "I'll also be looking at your python notebook (the .ipynb file) in our shared folder. I will be looking for evidence of your mastery of the computational methods embedded in the exercise: whether the notebook is complete and your results accurate."
   ]
  },
  {
   "cell_type": "code",
   "execution_count": null,
   "metadata": {},
   "outputs": [],
   "source": []
  }
 ],
 "metadata": {
  "kernelspec": {
   "display_name": "Python 3",
   "language": "python",
   "name": "python3"
  },
  "language_info": {
   "codemirror_mode": {
    "name": "ipython",
    "version": 3
   },
   "file_extension": ".py",
   "mimetype": "text/x-python",
   "name": "python",
   "nbconvert_exporter": "python",
   "pygments_lexer": "ipython3",
   "version": "3.6.5"
  }
 },
 "nbformat": 4,
 "nbformat_minor": 1
}

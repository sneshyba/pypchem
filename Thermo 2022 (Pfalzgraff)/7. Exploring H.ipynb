{
 "cells": [
  {
   "cell_type": "markdown",
   "metadata": {},
   "source": [
    "### Computational Guided Inquiry for PChem\n",
    "\n",
    "# Exploring H(T,P)\n",
    "\n",
    "## Objective: Use Python graphics to visualize thermodynamic surfaces"
   ]
  },
  {
   "cell_type": "markdown",
   "metadata": {},
   "source": [
    "## Pre-class activities:\n",
    "\n",
    "1. Read the Introduction below.  \n",
    "2. Copy down all the equations in the introduction.\n",
    "3. If you heat a gas up by 15 degrees at constant pressure and its enthalpy increases by 450 J, what is $C_p$ for the gas?\n",
    "4. Why is $\\mu_T = 0$ for an ideal gas?\n",
    "5. Use Euler's chain rule to show that $\\mu_{JT} = - \\frac{\\mu_T}{C_p}$ "
   ]
  },
  {
   "cell_type": "markdown",
   "metadata": {},
   "source": [
    "## Introduction\n",
    "\n",
    "As you know, the slopes of the enthalpy in a T,P state space are given by\n",
    "\n",
    "<p style='text-align: right;'>\n",
    "$ \\mu_T =  (\\dfrac{\\partial H}{\\partial P})_T $\n",
    "$\\qquad\\qquad\\qquad\\qquad\\qquad\\qquad\\qquad\\qquad\\qquad  (1) $\n",
    "</p>\n",
    "\n",
    "and\n",
    "\n",
    "<p style='text-align: right;'>\n",
    "$ C_P =  (\\dfrac{\\partial H}{\\partial T})_P $\n",
    "$\\qquad\\qquad\\qquad\\qquad\\qquad\\qquad\\qquad\\qquad\\qquad  (2) $\n",
    "</p>\n",
    "\n",
    "In your pre-class work, it will be your task to show that the Joule-Thomson coefficient is related to these two quantities according to the following equation:\n",
    "<p style='text-align: right;'>\n",
    "$ \\mu_{JT} =  -\\dfrac{\\mu_T}{C_p}$\n",
    "$\\qquad\\qquad\\qquad\\qquad\\qquad\\qquad\\qquad\\qquad\\qquad  (3) $\n",
    "</p>\n",
    "\n",
    "In this exercise, you'll analyze a thermodynamic surface of $H(p,T)$ for $\\mathrm{CO_2}$.  You'll predict the Joule Thomson inversion temperature by looking at the surface, and then use eq. (3) to predict $\\mu_{JT}$."
   ]
  },
  {
   "cell_type": "markdown",
   "metadata": {},
   "source": [
    "## In-class activities  \n",
    "\n",
    "Import various libraries."
   ]
  },
  {
   "cell_type": "code",
   "execution_count": null,
   "metadata": {},
   "outputs": [],
   "source": [
    "import numpy as np\n",
    "import matplotlib.pyplot as plt\n",
    "from mpl_toolkits.mplot3d import axes3d\n",
    "from matplotlib import cm"
   ]
  },
  {
   "cell_type": "code",
   "execution_count": null,
   "metadata": {},
   "outputs": [],
   "source": [
    "%matplotlib notebook"
   ]
  },
  {
   "cell_type": "markdown",
   "metadata": {},
   "source": [
    "Load in the supplied thermodynamic surface H(p,T). "
   ]
  },
  {
   "cell_type": "code",
   "execution_count": null,
   "metadata": {},
   "outputs": [],
   "source": [
    "T = np.load('T.npy') # Range of temperatures between 1000 and 3500 K\n",
    "P_atm = np.load('P.npy') # Range of pressures from 1 to 1000 atm\n",
    "Hgrid = np.load('H.npy') # Enthalpy (in units of J / mol) on a grid of p and T"
   ]
  },
  {
   "cell_type": "markdown",
   "metadata": {},
   "source": [
    "Let's print the temperatures and pressures we are working with.  Let's also convert our pressure to Pascals for future convenience."
   ]
  },
  {
   "cell_type": "code",
   "execution_count": null,
   "metadata": {},
   "outputs": [],
   "source": [
    "# Print the pressures and temperatures we are working with:\n",
    "print(\"T = \", T)\n",
    "print(\"P in atmospheres = \", P_atm) \n",
    "\n",
    "# Let's also convert the pressure from atm to Pascals so everything is in SI units.\n",
    "P_Pascals = P_atm * # you fill this in\n",
    "\n",
    "# Make grids of P and T\n",
    "Pgrid,Tgrid = np.meshgrid(P_Pascals, T)"
   ]
  },
  {
   "cell_type": "markdown",
   "metadata": {},
   "source": [
    "Now let's graph it in 3D."
   ]
  },
  {
   "cell_type": "code",
   "execution_count": null,
   "metadata": {},
   "outputs": [],
   "source": [
    "# Graph it in 3d\n",
    "ax = plt.figure().gca(projection='3d') # Set up a three dimensional graphics window \n",
    "ax.plot_surface(Pgrid, Tgrid, Hgrid, cmap=cm.viridis) # Make the mesh plot\n",
    "ax.set_xlabel('P (Pa)') # Label axes\n",
    "ax.set_ylabel('T (K)')\n",
    "ax.set_zlabel('H (J / mol K)')"
   ]
  },
  {
   "cell_type": "markdown",
   "metadata": {},
   "source": [
    "### Pause for Analysis #1.  From visual inspection of your plot, what is the approximate inversion temperature of this gas?  Remember, the inversion temperature is the temperature where $\\mu_T = 0$"
   ]
  },
  {
   "cell_type": "markdown",
   "metadata": {},
   "source": [
    "Your next task is to predict the Joule Thomson coefficient of this gas at 1 atm and 1100 K.  To do this, we'll use Eq. (3). The first thing we want to do is get the value of $C_p$ at 1 atm and 1100K.  To do this, first we'll extract the 1.0 atm isobar from Hgrid and plot it. "
   ]
  },
  {
   "cell_type": "markdown",
   "metadata": {},
   "source": [
    "To extract the 1 atm isobar, you'll need to know which index of the pressure corresponds to 1 atm.  You'll then need to grab the corresponding column from H_grid.  Scrolling up and looking at your printed pressures, which index corresponds to 1 atm?  We see that the very first pressure listed is 1 atm.  In python, lists are numbered starting at zero, so the very first pressure listed has index zero.  That's already filled in for you below."
   ]
  },
  {
   "cell_type": "code",
   "execution_count": null,
   "metadata": {},
   "outputs": [],
   "source": [
    "H_isobar_1_atm = Hgrid[:,0]\n",
    "plt.figure()\n",
    "plt.plot(T, H_isobar_1_atm)\n",
    "plt.xlabel('T (K)')\n",
    "plt.ylabel('H (J / mol)')"
   ]
  },
  {
   "cell_type": "markdown",
   "metadata": {},
   "source": [
    "We'd really like to know the constant pressure heat capacity, $C_p$ for this gas.  To do that, we need to take the derivative, $(\\dfrac{\\partial H}{\\partial T})_P$.  It turns out there is a function called *np.gradient* which will estimate the derivative by taking the difference between nearby points, i.e. $C_p = (\\dfrac{\\partial H}{\\partial T})_P \\approx \\dfrac{\\Delta H}{\\Delta T}$.  Note this is how you estimated $C_p$ in your prelab!"
   ]
  },
  {
   "cell_type": "code",
   "execution_count": null,
   "metadata": {},
   "outputs": [],
   "source": [
    "# Ask the computer to estimate the derivative (dH/dT)p.  The syntax is shown below:\n",
    "Cp_1_atm = np.gradient(H_isobar_1_atm,T)\n",
    "\n",
    "# Now plot it\n",
    "plt.figure()\n",
    "plt.plot(T, Cp_1_atm)\n",
    "plt.xlabel('T (K)')\n",
    "plt.ylabel('Cp (J / mol )')\n",
    "plt.ylim(28,32)"
   ]
  },
  {
   "cell_type": "markdown",
   "metadata": {},
   "source": [
    "### Pause for Analysis #2. \n",
    "#### a. Reading from your plot, what value do you obtain for $C_p$?  Does this depend on temperature?\n",
    "#### b. What value would you expect $C_p$ to take for $\\mathrm{CO_2}$?  Assume at these temperatures $\\mathrm{CO_2}$ is non-vibrating.  Is the value you get here close?"
   ]
  },
  {
   "cell_type": "markdown",
   "metadata": {},
   "source": [
    "Now your goal is to plot the 1100K isotherm and calculate $\\mu_T$ at 1100K.  To do that, you'll need to take the row out of Hgrid that corresponds to 1100K.  To know which index to use, scroll up to where you printed the temperatures and count.  Remember that the first temperature has an index of zero."
   ]
  },
  {
   "cell_type": "code",
   "execution_count": null,
   "metadata": {},
   "outputs": [],
   "source": [
    "H_isotherm_1100_K = Hgrid[??,:] # you fill this in.  Hint: it's not 0.\n",
    "\n",
    "# And let's plot it.\n",
    "plt.figure()\n",
    "plt.plot(P_atm, H_isotherm_1100_K)\n",
    "plt.xlabel('P (atm)')\n",
    "plt.ylabel('H (J / mol)')"
   ]
  },
  {
   "cell_type": "markdown",
   "metadata": {},
   "source": [
    "### Pause for Analysis #3. Is the isothermal Joule Thomson coefficient, $\\mu_T$, positive or negative at this temperature?  How do you know?"
   ]
  },
  {
   "cell_type": "markdown",
   "metadata": {},
   "source": [
    "Now let's plot $\\mu_T$ as a function of pressure.  To do this we first need to use np.gradient to estimate the derivative $(\\dfrac{\\partial H}{\\partial p})_T$.  This is done for you below."
   ]
  },
  {
   "cell_type": "code",
   "execution_count": null,
   "metadata": {},
   "outputs": [],
   "source": [
    "mu_T_1100K = # you fill this in.  You'll need to use np.gradient\n",
    "plt.figure()\n",
    "plt.plot(P_atm, mu_T_1100K)\n",
    "plt.xlabel('P (atm)')\n",
    "plt.ylabel(\"$\\mu_T$ (J / Pa mol)\")"
   ]
  },
  {
   "cell_type": "markdown",
   "metadata": {},
   "source": [
    "### Pause for Analysis #4. Reading from the graph, what value do you obtain for $\\mu_T$?"
   ]
  },
  {
   "cell_type": "markdown",
   "metadata": {},
   "source": [
    "### Pause for Analysis #5. What is the value of the isothermal Joule Thomson coefficient, $\\mu_{JT}$ at 1 atm and 1100 K?"
   ]
  },
  {
   "cell_type": "markdown",
   "metadata": {},
   "source": [
    "## Post-class activities:\n",
    "In your CGI notebook, enter:\n",
    "\n",
    "1. Your responses to the \"pause for analysis\" items\n",
    "2. Why, in terms of intermolecular forces, is $\\mu_T < 0$ at low temperatures and $\\mu_T > 0$ at high temperatures?\n",
    "3. If you perform a Joule Thomson experiment on $\\mathrm{CO_2}$ that decreases the pressure starting 1 atm and 1100 K, will the gas heat up or cool down?  Briefly explain.\n",
    "\n",
    "I'll also be looking at your python notebook (the .ipynb file) in our shared folder. I will be looking for evidence of your mastery of the computational methods embedded in the exercise: whether the notebook is complete and your results accurate."
   ]
  },
  {
   "cell_type": "code",
   "execution_count": null,
   "metadata": {},
   "outputs": [],
   "source": []
  }
 ],
 "metadata": {
  "kernelspec": {
   "display_name": "Python 3",
   "language": "python",
   "name": "python3"
  },
  "language_info": {
   "codemirror_mode": {
    "name": "ipython",
    "version": 3
   },
   "file_extension": ".py",
   "mimetype": "text/x-python",
   "name": "python",
   "nbconvert_exporter": "python",
   "pygments_lexer": "ipython3",
   "version": "3.6.5"
  }
 },
 "nbformat": 4,
 "nbformat_minor": 1
}

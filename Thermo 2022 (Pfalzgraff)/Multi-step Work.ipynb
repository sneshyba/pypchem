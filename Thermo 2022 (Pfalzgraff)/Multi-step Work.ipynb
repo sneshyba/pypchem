{
 "cells": [
  {
   "cell_type": "markdown",
   "metadata": {},
   "source": [
    "In this assignment, we will write a function that calculates the reversible work for compressing a gas in a series of irreversible steps.  First, import various libraries."
   ]
  },
  {
   "cell_type": "code",
   "execution_count": null,
   "metadata": {},
   "outputs": [],
   "source": [
    "import numpy as np\n",
    "import matplotlib.pyplot as plt"
   ]
  },
  {
   "cell_type": "markdown",
   "metadata": {},
   "source": [
    "Below is a starter function for you to fill in.  The function should take as input the two volumes and the number of steps and calculate the work required to compress the gas against a constant pressure in that many steps.  In the starter function below, you will need to delete the line w_step = 0 and repalce it with a few lines that you will use to calculate the work.  "
   ]
  },
  {
   "cell_type": "code",
   "execution_count": 1,
   "metadata": {},
   "outputs": [],
   "source": [
    "def multi_step_work(N,Vf,Vi,T):\n",
    "    \"\"\" Calculates the work to compress one mole of gas in N  equal steps at constant temperature.\n",
    "    Inputs:\n",
    "    N: The number of steps\n",
    "    Vf: The final volume (in m^3)\n",
    "    Vi: The initial volume (in m^3)\n",
    "    T: The temperature \"\"\"\n",
    "    R = 8.314; # J / mol K\n",
    "    w = 0.\n",
    "    # Calculate the work required to compress the gas in N equal steps.  \n",
    "    # You are going to need a for loop to do this.\n",
    "   \n",
    "    return w"
   ]
  },
  {
   "cell_type": "markdown",
   "metadata": {},
   "source": [
    "Let's test your function.  Check the number you got in your prelab for the work required to compress the gas in one step with at least one other person, then fill that in below."
   ]
  },
  {
   "cell_type": "code",
   "execution_count": null,
   "metadata": {},
   "outputs": [],
   "source": [
    "Vf = 1.0 # m^3\n",
    "Vi = 2.5 #m^3\n",
    "T = 300\n",
    "\n",
    "print(\"The work required for a single step is\", multi_step_work(1,Vf,Vi,T), \"J.\")\n",
    "print(\"The right answer is\", # you fill this in, \"J.\")"
   ]
  },
  {
   "cell_type": "markdown",
   "metadata": {},
   "source": [
    "If your function didn't pass the test, modify it above until it does.  Note when you change the function you need to re-execute the cell.\n",
    "\n",
    "We should also do a few more tests.  Let's try calculating what the work should be for two and three steps.  It should definitely be going down!  Then we'll have your function print what it gets for two and three steps.  Fill in the correct answers for the work required to compress the gas in two or three steps."
   ]
  },
  {
   "cell_type": "code",
   "execution_count": null,
   "metadata": {},
   "outputs": [],
   "source": [
    "print(\"The work required for a two steps is ?? J, we got: \", multi_step_work(2,Vf,Vi,T))\n",
    "print(\"The work required for a three steps is ?? J, we got:\", multi_step_work(3,Vf,Vi,T))"
   ]
  },
  {
   "cell_type": "markdown",
   "metadata": {},
   "source": [
    "If your function didn't pass these tests, modify your code above until it does pass.\n",
    "\n",
    "Now, we can use a for loop to call your function for all of the different volumes that are asked for in the problem."
   ]
  },
  {
   "cell_type": "code",
   "execution_count": null,
   "metadata": {},
   "outputs": [],
   "source": [
    "steps_to_try = [1,2,10,100,1000] #Make a list of all of the different numbers of steps we want to try.\n",
    "#This part loops over all of the different steps we want to try and tries them all, one at a time.  Efficient!\n",
    "for number_of_steps in steps_to_try:\n",
    "    work = multi_step_work(number_of_steps,Vf,Vi,T)\n",
    "    print(\"The work required to compress the gas in\", number_of_steps, \"steps is \", int(work), \"J.\")\n",
    "isothermal_reversible_work = -8.314*T*np.log(Vf/Vi) # n= 1 mol.\n",
    "print(\"The work required for an isothermal reversible compression would be:\", int(isothermal_reversible_work), \"J.\")"
   ]
  },
  {
   "cell_type": "code",
   "execution_count": null,
   "metadata": {},
   "outputs": [],
   "source": []
  }
 ],
 "metadata": {
  "kernelspec": {
   "display_name": "Python 3",
   "language": "python",
   "name": "python3"
  },
  "language_info": {
   "codemirror_mode": {
    "name": "ipython",
    "version": 3
   },
   "file_extension": ".py",
   "mimetype": "text/x-python",
   "name": "python",
   "nbconvert_exporter": "python",
   "pygments_lexer": "ipython3",
   "version": "3.6.5"
  }
 },
 "nbformat": 4,
 "nbformat_minor": 2
}

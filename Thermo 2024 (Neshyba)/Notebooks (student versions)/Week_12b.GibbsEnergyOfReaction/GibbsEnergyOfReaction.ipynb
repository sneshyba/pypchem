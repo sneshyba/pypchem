{
 "cells": [
  {
   "cell_type": "markdown",
   "metadata": {
    "deletable": false,
    "editable": false,
    "nbgrader": {
     "cell_type": "markdown",
     "checksum": "fbb646b34111a949cf1c9832978d22b4",
     "grade": false,
     "grade_id": "cell-fbed683de8d5125f",
     "locked": true,
     "schema_version": 3,
     "solution": false,
     "task": false
    }
   },
   "source": [
    "### Neshyba, 2024\n",
    "\n",
    "# Gibbs energy of reaction\n",
    "\n",
    "## Introduction\n",
    "In this exercise, we're going to assume that the temperature and pressure are fixed to some known value (like, the standard-state values $T^o$ and $P^o$). That's because there are new variables we want to focus on, namely, the moles of reagents A and B in a reaction mixture. Basically, this means a new state space, consisting of variables $n_A$ and $n_B$. We could call this a *composition state space* (again, at a given temperature and pressure).\n",
    "\n",
    "We're also going to assume we have stock solutions of reagents, solutions with solutes A and B, both having a concentration given by $C_i=1 \\underline M$. \n",
    "\n",
    "## Thermodynamics of mixing\n",
    "Now, suppose we know how many moles of A and B (given by $n_A$ and $n_B$) we want to mix up. How much volume of stock solutions of A and B do we need to mix? That's easy, we can use the *nCV* equation,\n",
    "\n",
    "$$\n",
    "V_A = {n_A \\over C_i} \\ \\ \\ (1)\n",
    "$$\n",
    "\n",
    "and \n",
    "$$\n",
    "V_B = {n_B \\over C_i} \\ \\ \\ (2)\n",
    "$$\n",
    "\n",
    "Of course, the total volume of our reaction mixture will be \n",
    "\n",
    "$$\n",
    "V_{tot} = V_A + V_B \\ \\ \\ (3)\n",
    "$$\n",
    "\n",
    "Our next task will be to calculate the Gibbs energy of the reagents in their stock solutions (before mixing them):\n",
    "\n",
    "$$\n",
    "G^o(n_A,n_B) = n_A G^o_A + n_B G^o_B \\ \\ \\ (4)\n",
    "$$\n",
    "\n",
    "Values of $G^o_A$ and $G^o_B$ are available in thermodynamic tables, like https://en.wikipedia.org/wiki/Standard_Gibbs_free_energy_of_formation, but beware of a notational difference: what we're calling $G^o_A$ here is usually called $\\Delta G^o_f(A)$ elsewhere. We're using our notation because it's a little more streamlined.\n",
    "\n",
    "Next we need to find the Gibbs energy of mixing our two solutions. This will depend on the entropy of mixing, which, as we've seen, can be calculated using *E-ICE* (\"equal initial concentrations entropy\") equation,\n",
    "\n",
    "$$\n",
    "\\Delta S_{mixing} = -n_{tot}R \\times [\\chi_A ln(\\chi_A) + \\chi_B ln(\\chi_B)] \\ \\ \\ (5)\n",
    "$$\n",
    "\n",
    "Assuming ideal solutions at a given temperature, since $G=H-TS$, we could then write \n",
    "\n",
    "$$\n",
    "\\Delta G_{mixing}(n_A,n_B) = \\Delta H_{mixing} - T\\Delta S_{mixing} \\approx -T\\Delta S_{mixing} \\ \\ \\ (6)\n",
    "$$\n",
    "\n",
    "where $\\approx$ means we've assumed negligible enthalpy of interaction between A and B. Then we could combine the above to say\n",
    "\n",
    "$$\n",
    "G(n_A,n_B) = G^o(n_A,n_B) + \\Delta G_{mixing}(n_A,n_B) \\ \\ \\ (7)\n",
    "$$\n",
    "\n",
    "## $G$ along a reaction coordinate \n",
    "So far, the surface $G(n_A,n_B)$ is hypothetical, in the sense that it tells us the Gibbs energy of any combination of A and B. But what if what's really going on is that A is reacting to form B? That places a constraint on the moles of A and B we would see in our reaction mixture as the reaction progresses. For example, suppose the reaction stoichiometry is $A → B$, and we start off with a solution of pure $1 \\underline M A$. Now we wait a bit (maybe add a catalyst to make things go faster), so that some of $A$ turns into $B$. Let's say the moles of A that have reacted is given by $\\varepsilon$. Then we'd say\n",
    "\n",
    "$$\n",
    "n_A = 1-\\varepsilon \\ \\ \\ \\ (8)\n",
    "$$\n",
    "\n",
    "and\n",
    "\n",
    "$$\n",
    "n_B = \\varepsilon \\ \\ \\ \\ (9)\n",
    "$$\n",
    "\n",
    "## Learning goals\n",
    "1. I can explain what \"composition state space\" is, and how it relates to a reaction coordinate. \n",
    "1. I can explain relationships between $G^o(n_A,n_B)$, $\\Delta G_{mix}$, and $G(n_A,n_B)$, including how they appear graphically in a composition state space."
   ]
  },
  {
   "cell_type": "code",
   "execution_count": null,
   "metadata": {
    "deletable": false,
    "editable": false,
    "nbgrader": {
     "cell_type": "code",
     "checksum": "f85a3d0f2fe42f24dbb6ab4544d01303",
     "grade": false,
     "grade_id": "cell-689415d4580b3a71",
     "locked": true,
     "schema_version": 3,
     "solution": false,
     "task": false
    }
   },
   "outputs": [],
   "source": [
    "import pint; from pint import UnitRegistry; AssignQuantity = UnitRegistry().Quantity\n",
    "import warnings; warnings.filterwarnings(\"ignore\", \"The unit of the quantity is stripped when downcasting to ndarray\")\n",
    "import numpy as np\n",
    "import matplotlib.pyplot as plt\n",
    "import sys; sys.path.append('/home'); import PchemLibrary as PL"
   ]
  },
  {
   "cell_type": "code",
   "execution_count": null,
   "metadata": {
    "deletable": false,
    "editable": false,
    "nbgrader": {
     "cell_type": "code",
     "checksum": "be11c2a92086099fc31727afd36b0fad",
     "grade": false,
     "grade_id": "cell-259e81790a830bcd",
     "locked": true,
     "schema_version": 3,
     "solution": false,
     "task": false
    }
   },
   "outputs": [],
   "source": [
    "%matplotlib notebook"
   ]
  },
  {
   "cell_type": "markdown",
   "metadata": {
    "deletable": false,
    "editable": false,
    "nbgrader": {
     "cell_type": "markdown",
     "checksum": "759005a487e0b5dd9b9234535ef854e7",
     "grade": false,
     "grade_id": "cell-551d1a651ba6fae8",
     "locked": true,
     "schema_version": 3,
     "solution": false,
     "task": false
    }
   },
   "source": [
    "### Rate constants and state space\n",
    "The cell below specifies initial (stock) concentrations of reagents A and B, and layes out the state space $(n_A,n_B)$."
   ]
  },
  {
   "cell_type": "code",
   "execution_count": null,
   "metadata": {},
   "outputs": [],
   "source": [
    "# Specifying some constants\n",
    "Ci = AssignQuantity(1,'mol/L')\n",
    "R = AssignQuantity(8.314,'J/mol/K')\n",
    "T = AssignQuantity(298,'K')\n",
    "\n",
    "# This lays out the \"state space\" (and labels for when we need them)\n",
    "start = 0.001\n",
    "stop = 0.999\n",
    "nA, nB = PL.Statespace([start,stop,200],[start,stop,201])\n",
    "nA = AssignQuantity(nA,'mole')\n",
    "nB = AssignQuantity(nB,'mole')\n",
    "ntot = nA + nB\n",
    "xlabel = str(nA.units)+'s of A'\n",
    "ylabel = str(nB.units)+'s of B'"
   ]
  },
  {
   "cell_type": "markdown",
   "metadata": {
    "deletable": false,
    "editable": false,
    "nbgrader": {
     "cell_type": "markdown",
     "checksum": "f2a4e67f7d5e88b6b1259bf220f3a914",
     "grade": false,
     "grade_id": "cell-f6bf88676bb29c1d",
     "locked": true,
     "schema_version": 3,
     "solution": false,
     "task": false
    }
   },
   "source": [
    "### Getting volumes of stock solutions\n",
    "In the cell below, calculate the volumes of stock solutions of A and B that contain nA moles of A and nB moles of B, assuming stock concentration Ci (see Eqs. 1 and 2). Name these variables VA and VB."
   ]
  },
  {
   "cell_type": "code",
   "execution_count": null,
   "metadata": {
    "deletable": false,
    "nbgrader": {
     "cell_type": "code",
     "checksum": "f89d086768134ea1e9cbad1db0c6ba8e",
     "grade": true,
     "grade_id": "cell-fac8b33094710e5c",
     "locked": false,
     "points": 2,
     "schema_version": 3,
     "solution": true,
     "task": false
    }
   },
   "outputs": [],
   "source": [
    "# Your code here \n"
   ]
  },
  {
   "cell_type": "markdown",
   "metadata": {
    "deletable": false,
    "editable": false,
    "nbgrader": {
     "cell_type": "markdown",
     "checksum": "0b72680e559bbd236af9e64d683bf8a0",
     "grade": false,
     "grade_id": "cell-a1c24e7c5cb687cf",
     "locked": true,
     "schema_version": 3,
     "solution": false,
     "task": false
    }
   },
   "source": [
    "### Graphing the volumes with *PL.plot_surfaces*\n",
    "The cell below creates a 3d plot of the two volumes you just made:\n",
    "\n",
    "- The volumes of stock solution A that will be combined to make the reaction mixture\n",
    "- The volumes of stock solution B that will be combined to make the reaction mixture\n",
    "\n",
    "You'll probably have to rotate the image to see these surfaces."
   ]
  },
  {
   "cell_type": "code",
   "execution_count": null,
   "metadata": {},
   "outputs": [],
   "source": [
    "# This graphs the volume grids you just made\n",
    "\n",
    "# Assemble the list of volumes\n",
    "Vlist = [VA, VB]\n",
    "\n",
    "# Prepping the labels\n",
    "zlabel = \"V \"+str(VA.units)\n",
    "llist = [xlabel,ylabel,zlabel]\n",
    "\n",
    "# Prepping the colors\n",
    "clist = ['red', 'green']\n",
    "tlist = ['VA', 'VB']\n",
    "\n",
    "# Plotting the entropies using PL.plot_surfaces\n",
    "PL.plot_surfaces(nA,nB,Vlist,colorlist=clist,titlelist=tlist,labellist=llist)"
   ]
  },
  {
   "cell_type": "markdown",
   "metadata": {
    "deletable": false,
    "editable": false,
    "nbgrader": {
     "cell_type": "markdown",
     "checksum": "d06a1c951412cdfd4be1dbed72495c0d",
     "grade": false,
     "grade_id": "cell-f2e42311a6a1a58a",
     "locked": true,
     "schema_version": 3,
     "solution": false,
     "task": false
    }
   },
   "source": [
    "### Your turn\n",
    "In the cell below, graph *three volumes* in our $(n_A,n_B)$ state space:\n",
    "- The volumes of stock solution A that will be combined to make the reaction mixture (as done above)\n",
    "- The volumes of stock solution B that will be combined to make the reaction mixture (as done above)\n",
    "- The total volume of the reaction mixture. You'll have to choose a color for the total volume -- gray seems to work nicely."
   ]
  },
  {
   "cell_type": "code",
   "execution_count": null,
   "metadata": {
    "deletable": false,
    "nbgrader": {
     "cell_type": "code",
     "checksum": "9d80f3f080e0448cfe6146df85767973",
     "grade": true,
     "grade_id": "cell-1fbfe31db2473421",
     "locked": false,
     "points": 4,
     "schema_version": 3,
     "solution": true,
     "task": false
    }
   },
   "outputs": [],
   "source": [
    "# Get the total volume (Eq. 3) ... call it \"Vtot\"\n",
    "# Your code here \n",
    "\n",
    "\n",
    "# Now graph all three volume grids\n",
    "# Your code here \n"
   ]
  },
  {
   "cell_type": "markdown",
   "metadata": {
    "deletable": false,
    "editable": false,
    "nbgrader": {
     "cell_type": "markdown",
     "checksum": "999db375fd0555fde3bcad4455ebad5d",
     "grade": false,
     "grade_id": "cell-a4835b14ba9a54ac",
     "locked": true,
     "schema_version": 3,
     "solution": false,
     "task": false
    }
   },
   "source": [
    "### Calculating the Gibbs energy of a reaction mixture\n",
    "You'll need to fill in a few items in the cell below, with the help of Eqs. 4-7."
   ]
  },
  {
   "cell_type": "code",
   "execution_count": null,
   "metadata": {
    "deletable": false,
    "nbgrader": {
     "cell_type": "code",
     "checksum": "d74b119ca364447c9d50da8356a16a1f",
     "grade": true,
     "grade_id": "cell-45964da0cc8b487a",
     "locked": false,
     "points": 10,
     "schema_version": 3,
     "solution": true,
     "task": false
    }
   },
   "outputs": [],
   "source": [
    "# Here are standard-state Gibbs energies of A and B, on a per-mole basis\n",
    "G0A = AssignQuantity(3,'kJ/mol')\n",
    "G0B = AssignQuantity(1,'kJ/mol')\n",
    "\n",
    "# Now calculate the Gibbs energy of each volume of stock solution (see Eq. 4)\n",
    "# Your code here \n",
    "\n",
    "\n",
    "# We'll need mole fractions of A and B in the mixture after our stock solutions are combined\n",
    "# Your code here \n",
    "\n",
    "\n",
    "# Now we can calculate the Entropy of mixing (Eq. 5)\n",
    "# Your code here \n",
    "\n",
    "\n",
    "# ... and the Gibbs energy of mixing (Eq. 6)\n",
    "# Your code here \n",
    "\n",
    "\n",
    "# ... and the total Gibbs energy of the solution (Eq. 7)\n",
    "# Your code here \n"
   ]
  },
  {
   "cell_type": "markdown",
   "metadata": {
    "deletable": false,
    "editable": false,
    "nbgrader": {
     "cell_type": "markdown",
     "checksum": "565ec0084a999b8a3fa441defe0f7097",
     "grade": false,
     "grade_id": "cell-2069b4416aefac91",
     "locked": true,
     "schema_version": 3,
     "solution": false,
     "task": false
    }
   },
   "source": [
    "### Visualizing the Gibbs energy of the reaction mixture\n",
    "In the cell below, use *PL.plot_surfaces* to graph $G^o$ and $G$ (two surfaces together) in our $n_A$, $n_B$ state space. You may have to rotate the image to see both surfaces."
   ]
  },
  {
   "cell_type": "code",
   "execution_count": null,
   "metadata": {
    "deletable": false,
    "nbgrader": {
     "cell_type": "code",
     "checksum": "6cff31526b1bb2966970530d816b0c35",
     "grade": true,
     "grade_id": "cell-bd98330d056006e9",
     "locked": false,
     "points": 4,
     "schema_version": 3,
     "solution": true,
     "task": false
    }
   },
   "outputs": [],
   "source": [
    "# Assemble the list of volumes\n",
    "Glist = [G0, G]\n",
    "\n",
    "# Now prep the annotation lists (llist, clist, and tlist), then plot the Gibbs energies using PL.plot_surfaces\n",
    "\n",
    "# Your code here \n"
   ]
  },
  {
   "cell_type": "markdown",
   "metadata": {
    "deletable": false,
    "editable": false,
    "nbgrader": {
     "cell_type": "markdown",
     "checksum": "d982e0c870667c290a6768c3f9a05179",
     "grade": false,
     "grade_id": "cell-309eef4a32e094eb",
     "locked": true,
     "schema_version": 3,
     "solution": false,
     "task": false
    }
   },
   "source": [
    "### Pause for analysis\n",
    "Take a moment to study what you just plotted. Then answer these questions:\n",
    "1. Why is $G=G^o$ along the edges? \n",
    "1. Use the entropy of mixing to explain why is $G<G^o$ everywhere else in the state space."
   ]
  },
  {
   "cell_type": "markdown",
   "metadata": {
    "deletable": false,
    "nbgrader": {
     "cell_type": "markdown",
     "checksum": "048b057501c90548617aedc2e2123366",
     "grade": true,
     "grade_id": "cell-914bd72fb7b9213f",
     "locked": false,
     "points": 2,
     "schema_version": 3,
     "solution": true,
     "task": false
    }
   },
   "source": [
    "YOUR ANSWER HERE"
   ]
  },
  {
   "cell_type": "markdown",
   "metadata": {
    "deletable": false,
    "editable": false,
    "nbgrader": {
     "cell_type": "markdown",
     "checksum": "6187b687208a80180144de5f1b64402f",
     "grade": false,
     "grade_id": "cell-182139cd1a777f03",
     "locked": true,
     "schema_version": 3,
     "solution": false,
     "task": false
    }
   },
   "source": [
    "### Visualizing $G$ along a reaction coordinate $\\epsilon$\n",
    "Here we're using Eqs. 8 and 9 in the Introduction."
   ]
  },
  {
   "cell_type": "code",
   "execution_count": null,
   "metadata": {},
   "outputs": [],
   "source": [
    "# Lay out the reaction coordinate \"eps\", and arrays of nA and nB (nAarray and nBarray) that go with it\n",
    "eps = np.linspace(start,stop)\n",
    "nAarray = AssignQuantity(1-eps,'mol')\n",
    "nBarray = AssignQuantity(eps,'mol')\n",
    "\n",
    "# This plots the Gibbs energy along this path\n",
    "Garray = PL.StateSpaceInterpolator([nA,nB],nAarray,nBarray,G,AssignQuantity)\n",
    "plt.figure()\n",
    "plt.plot(eps,Garray.to('kjoule'))\n",
    "plt.grid(True)\n",
    "plt.xlabel('epsilon (reaction progress)')\n",
    "plt.ylabel('kjoule')"
   ]
  },
  {
   "cell_type": "markdown",
   "metadata": {
    "deletable": false,
    "editable": false,
    "nbgrader": {
     "cell_type": "markdown",
     "checksum": "3ad779dbd1003c2f4a4ae8838e6acc4d",
     "grade": false,
     "grade_id": "cell-ea88246cafc3e7fd",
     "locked": true,
     "schema_version": 3,
     "solution": false,
     "task": false
    }
   },
   "source": [
    "### Pause for analysis\n",
    "Study the graph you just made, $G(\\varepsilon)$, in relationship to the $G(n_A,n_B)$ surface, then answer these questions: \n",
    "1. At what values of $n_A$ and $n_B$ does $G(\\varepsilon)$ begin? \n",
    "1. At what values of $n_A$ and $n_B$ does $G(\\varepsilon)$ end? "
   ]
  },
  {
   "cell_type": "markdown",
   "metadata": {
    "deletable": false,
    "nbgrader": {
     "cell_type": "markdown",
     "checksum": "783641beeea305c9d8c07888b716407d",
     "grade": true,
     "grade_id": "cell-d60dc56c60e45540",
     "locked": false,
     "points": 2,
     "schema_version": 3,
     "solution": true,
     "task": false
    }
   },
   "source": [
    "YOUR ANSWER HERE"
   ]
  },
  {
   "cell_type": "markdown",
   "metadata": {
    "deletable": false,
    "editable": false,
    "nbgrader": {
     "cell_type": "markdown",
     "checksum": "c0ad959ff18ca4ee60b3d8cd8031a54b",
     "grade": false,
     "grade_id": "cell-46bb862155f4e18b",
     "locked": true,
     "schema_version": 3,
     "solution": false,
     "task": false
    }
   },
   "source": [
    "### Refresh/save/validate/close/submit/logout"
   ]
  }
 ],
 "metadata": {
  "kernelspec": {
   "display_name": "Python 3 (ipykernel)",
   "language": "python",
   "name": "python3"
  },
  "language_info": {
   "codemirror_mode": {
    "name": "ipython",
    "version": 3
   },
   "file_extension": ".py",
   "mimetype": "text/x-python",
   "name": "python",
   "nbconvert_exporter": "python",
   "pygments_lexer": "ipython3",
   "version": "3.10.2"
  }
 },
 "nbformat": 4,
 "nbformat_minor": 2
}

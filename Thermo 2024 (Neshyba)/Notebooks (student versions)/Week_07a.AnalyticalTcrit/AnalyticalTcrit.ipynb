{
 "cells": [
  {
   "cell_type": "markdown",
   "id": "bdf44b91",
   "metadata": {
    "deletable": false,
    "editable": false,
    "nbgrader": {
     "cell_type": "markdown",
     "checksum": "5e3187304c60340f0e2ab6ad7d77470a",
     "grade": false,
     "grade_id": "cell-e5c57a47a6734dda",
     "locked": true,
     "schema_version": 3,
     "solution": false,
     "task": false
    }
   },
   "source": [
    "### Computational Guided Inquiry for PChem (Neshyba, 2024)\n",
    "\n",
    "# Analytical derivation of the critical point of a vdw gas\n",
    "\n",
    "## Introduction\n",
    "Here, we'll learn how to harness the power of the *sympy* package of Python to derive what are called *critical values* -- the critical temperature, pressure, and volume -- of a van der Waals gas. \n",
    "\n",
    "First, we'll have a look at a PV diagram of a real gas, Fig. 1.\n",
    "\n",
    "<img align='center' src=\"http://webspace.pugetsound.edu/facultypages/nesh/Notebook/Pr(Vr) air.png\" height=\"500\" width=\"500\"/>\n",
    "<p style='text-align: center;'>\n",
    "<strong>Figure 1</strong>. Reduced pressure of air as a function of its reduced volume. \n",
    "</p>\n",
    "\n",
    "There are several things to notice about this graph. First, the y-axis been rescaled so that we're actually plotting something called the *reduced pressure*, $P_r$, of the air. What is that? It's a dimensionless quantity, defined as the *actual* pressure of the air divided by the *critical* pressure of air,\n",
    "    \n",
    "$$\n",
    "P_r = {P \\over P_{crit}} \\ \\ \\ \\ (1)\n",
    "$$\n",
    "\n",
    "We'll get to what $P_{crit}$ is later. For now, let's say that every type of gas has a specific critical pressure that can be measured. \n",
    "\n",
    "You can also see that the x-axis has been rescaled too: it's the *reduced volume*. This is defined similarly to what we just did with pressure, namely\n",
    "    \n",
    "$$\n",
    "V_r = {V \\over V_{crit}} \\ \\ \\ \\ (2)\n",
    "$$\n",
    "\n",
    "Like the critical pressure, every type of gas has a specific critical volume that can be measured. \n",
    "\n",
    "A third thing to notice about Fig. 1 is each line is an isotherm, labeled by its *reduced temperature*, \n",
    "    \n",
    "$$\n",
    "T_r = {T \\over T_{crit}} \\ \\ \\ \\ (3)\n",
    "$$\n",
    "\n",
    "(yes, $T_{crit}$ is a measurable property of the gas). \n",
    "    \n",
    "So ... why plot these isotherms in such a weird space? The main reason is that doing so exposes a remarkable generality: the pressure of *all* gases look a lot like this, when you plot their reduced pressure as a function of reduced volume! Crazy.\n",
    "    \n",
    "To move forward on this idea, we have to explain those critical values ($P_{crit}$, $V_{crit}$, and $T_{crit})$ are. Here goes:\n",
    "    \n",
    "- The critical temperature is the highest temperature to which you can heat a gas and still be able to condense it into a liquid by compressing it. Above $T_{crit}$, it's like there is no \"liquid\" or \"gas\", but instead a single phase, called a \"supercritical fluid,\" that can be converted seamlessly from liquid to gas and back. Every gas has a distinctive critical temperature. In fact, if you take a look at tabulations of $T_{crit}$ (such as https://en.wikipedia.org/wiki/Critical_point_%28thermodynamics%29), you'll see that most of them -- including the $N_2$ and $O_2$ that make up most of Earth's atmosphere -- have values of $T_{crit}$ that are well below room temperature. That means, for your entire life, you have been breathing in and out supercritical fluids. \n",
    "- The critical pressure is a little trickier to see in Fig. 1, so we're going to resort to the modeled data shown in Fig. 2. \n",
    "    \n",
    "<img align='center' src=\"http://webspace.pugetsound.edu/facultypages/nesh/Notebook/Pr(Vr).png\" height=\"500\" width=\"500\"/>\n",
    "<p style='text-align: center;'>\n",
    "<strong>Figure 2</strong>. Reduced pressure of an ideal gas as a function of its reduced volume. \n",
    "</p>\n",
    "\n",
    "Figure 2 shows the properties a van der Waals gas -- which are close to a real gas, we hope -- in reduced variables. The line to focus on is the green one, since it corresponds to the critical temperature ($T_r=1$, so $T=T_{crit}$, according to Eq. 3). This line is also called the *critical isotherm*.\n",
    "    \n",
    "Now focus on the point along the critical isotherm where it flattens out. That flattening-out signals what's called an inflection point in $P_r(V_r)$ -- namely, a point along an isotherm at which not only is the *slope* zero,\n",
    "    \n",
    "$$\n",
    "\\big (\n",
    "{ {\\partial P} \\over {\\partial V} }\n",
    "\\big )_T  = 0 \\ \\ \\ \\ (4)\n",
    "$$\n",
    " \n",
    "but also the *curvature* is zero,\n",
    "\n",
    "$$\n",
    "\\big (\n",
    "{ {\\partial ^2 P} \\over {\\partial V ^2} } \n",
    "\\big )_T = 0 \\ \\ \\ \\ (5)\n",
    "$$\n",
    "\n",
    "This point has a special name: it's called the *critical point* in the PV diagram. If you inspect Fig. 2 carefully, you'll see that, like the reduced temperature, this critical point occurs at $P_r=1$ and $V_r=1$.\n",
    "    \n",
    "It turns out that we can deduce the critical point values of a van der Waals gas with the help of a little calculus. How? Let's suppose we find the values of the temperature, pressure, and volume, for which Eqs. 4 and 5 are both true at the same time. Then we'd have the critical point! Presumably, these critial point values will depend on the van der Waals parameters of the gas in question. And that's exactly what we're looking for in this CGI: expressions for $P_{crit}$, $V_{crit}$, and $T_{crit}$ in terms of van der Waals parameters $a$ and $b$.\n",
    "\n",
    "To get there, we're going to learn to use a new Python tool. The tool is the Python package called Sympy, which not only knows calculus, it also knows how to solve simultaneous equations. We just need to learn how to use Sympy. \n",
    "  \n",
    "## Learning Goals\n",
    "1. Taking derivatives and integrals (sp.diff and sp.integrate).\n",
    "1. Setting up equations.\n",
    "1. Solving multiple simultaneous equations.\n",
    "1. Displaying all possible solutions.\n",
    "1. Finding $V_{crit}$, $T_{crit}$, and $P_{crit}$ from the vdw equation."
   ]
  },
  {
   "cell_type": "code",
   "execution_count": null,
   "id": "babd8808",
   "metadata": {
    "deletable": false,
    "editable": false,
    "nbgrader": {
     "cell_type": "code",
     "checksum": "f1e7cd139b729f40fad84458066a514e",
     "grade": false,
     "grade_id": "cell-f872d19a92bf3153",
     "locked": true,
     "schema_version": 3,
     "solution": false,
     "task": false
    }
   },
   "outputs": [],
   "source": [
    "import sympy as sp\n",
    "import numpy as np\n",
    "import matplotlib.pyplot as plt\n",
    "import pint; from pint import UnitRegistry; AssignQuantity = UnitRegistry().Quantity"
   ]
  },
  {
   "cell_type": "code",
   "execution_count": null,
   "id": "15a27275",
   "metadata": {},
   "outputs": [],
   "source": [
    "%matplotlib notebook"
   ]
  },
  {
   "cell_type": "markdown",
   "id": "cea251d7",
   "metadata": {
    "deletable": false,
    "editable": false,
    "nbgrader": {
     "cell_type": "markdown",
     "checksum": "e2f5e80b7268351edf5e61f41f2b63cc",
     "grade": false,
     "grade_id": "cell-70f05a578e68150a",
     "locked": true,
     "schema_version": 3,
     "solution": false,
     "task": false
    }
   },
   "source": [
    "### Differentiating with sympy\n",
    "Here, we use the sp.diff function to take a derivative. We also try out the \"display\" method of formatting the result (which is a lot easier to read)."
   ]
  },
  {
   "cell_type": "code",
   "execution_count": null,
   "id": "1079640d",
   "metadata": {
    "deletable": false,
    "editable": false,
    "nbgrader": {
     "cell_type": "code",
     "checksum": "2384b4ffa69a8df6155859fed410f5b3",
     "grade": false,
     "grade_id": "cell-9e6eaf7c97d2c405",
     "locked": true,
     "schema_version": 3,
     "solution": false,
     "task": false
    }
   },
   "outputs": [],
   "source": [
    "# Practice at using sympy's differential function\n",
    "\n",
    "# Set up the symbolic variable x\n",
    "sp.var(\"x\")\n",
    "\n",
    "# Create the function x^3\n",
    "f = x**3\n",
    "\n",
    "# Differentiate f with respect to x\n",
    "dfdx = sp.diff(f,x)\n",
    "\n",
    "# Print the results\n",
    "print(dfdx)\n",
    "display(dfdx)"
   ]
  },
  {
   "cell_type": "markdown",
   "id": "3ee978c0",
   "metadata": {
    "deletable": false,
    "editable": false,
    "nbgrader": {
     "cell_type": "markdown",
     "checksum": "d041d1963bbdf03fa35320621583b327",
     "grade": false,
     "grade_id": "cell-d816e2ca9fb068e5",
     "locked": true,
     "schema_version": 3,
     "solution": false,
     "task": false
    }
   },
   "source": [
    "### Your turn\n",
    "Below, use sympy to find $\\frac {d (x^{-1})}{dx}$. Print the result using Python's regular \"print\" and \"display\"."
   ]
  },
  {
   "cell_type": "code",
   "execution_count": null,
   "id": "5efb3885",
   "metadata": {
    "deletable": false,
    "nbgrader": {
     "cell_type": "code",
     "checksum": "83a1635acb66cae56405af933f817234",
     "grade": true,
     "grade_id": "cell-d678dfc2122bb25d",
     "locked": false,
     "points": 2,
     "schema_version": 3,
     "solution": true,
     "task": false
    }
   },
   "outputs": [],
   "source": [
    "# Your code here \n"
   ]
  },
  {
   "cell_type": "markdown",
   "id": "e6adc4bf",
   "metadata": {
    "deletable": false,
    "editable": false,
    "nbgrader": {
     "cell_type": "markdown",
     "checksum": "298202639df009f471d7a234fc176bec",
     "grade": false,
     "grade_id": "cell-12ddc8293f364688",
     "locked": true,
     "schema_version": 3,
     "solution": false,
     "task": false
    }
   },
   "source": [
    "### Integrating with sympy\n",
    "If we want to integrate, we can use sympy's integral function. For example, to get $\\int x^2dx$, we could say\n",
    "\n",
    "    x = sp.var(\"x\")\n",
    "    integrand = x**2\n",
    "    F_indef = sp.integrate(integrand,x)\n",
    "\n",
    "\n",
    "Try this below, but with the integrand being $\\frac {1}{x}$. "
   ]
  },
  {
   "cell_type": "code",
   "execution_count": null,
   "id": "0116926d",
   "metadata": {
    "deletable": false,
    "nbgrader": {
     "cell_type": "code",
     "checksum": "e61c6f7c1efc1c97f3d9f96beb69ea78",
     "grade": true,
     "grade_id": "cell-7a1ed0199f09e558",
     "locked": false,
     "points": 2,
     "schema_version": 3,
     "solution": true,
     "task": false
    }
   },
   "outputs": [],
   "source": [
    "# Your code here \n"
   ]
  },
  {
   "cell_type": "markdown",
   "id": "5ff04f80",
   "metadata": {
    "deletable": false,
    "editable": false,
    "nbgrader": {
     "cell_type": "markdown",
     "checksum": "6642261f29773d9bf541bafae999556d",
     "grade": false,
     "grade_id": "cell-f6b352838c9f194d",
     "locked": true,
     "schema_version": 3,
     "solution": false,
     "task": false
    }
   },
   "source": [
    "### Solving for $x$\n",
    "Below, we try out sympy's solver function in solving for solutions to $x^2=4$. Here are the steps:\n",
    "\n",
    "- Set up some symbolic variables that we'll need.\n",
    "- Create the equation $x^2=4$.\n",
    "- Use *solver* to find values of $x$ that satisfy it.\n",
    "\n",
    "When multiple solutions to an equation are possible, *solver* will try to find all of them! The code block in the last part of this cell loops through all of the solutions *solver* has found. "
   ]
  },
  {
   "cell_type": "code",
   "execution_count": null,
   "id": "4de13e26",
   "metadata": {},
   "outputs": [],
   "source": [
    "# Set up symbolic variables we need\n",
    "sp.var(\"x\")\n",
    "\n",
    "# Create the equation\n",
    "eq = sp.Eq(x**2,4)\n",
    "display(eq)\n",
    "\n",
    "# Use solver to find the value of x that satisfies the equation\n",
    "result = sp.solve(eq,x)\n",
    "\n",
    "# List the solutions one by one\n",
    "print('I found ', len(result),' solutions for x')\n",
    "for i in range(len(result)):\n",
    "    display(result[i])"
   ]
  },
  {
   "cell_type": "markdown",
   "id": "dc317ff4",
   "metadata": {
    "deletable": false,
    "editable": false,
    "nbgrader": {
     "cell_type": "markdown",
     "checksum": "c8a25f02830036bd2cf88ce22ec2d8ac",
     "grade": false,
     "grade_id": "cell-f2ad3c5428336193",
     "locked": true,
     "schema_version": 3,
     "solution": false,
     "task": false
    }
   },
   "source": [
    "### Your turn\n",
    "Use solver to find and display all solutions to $Ax^2+B=0$."
   ]
  },
  {
   "cell_type": "code",
   "execution_count": null,
   "id": "fe16ae0a",
   "metadata": {
    "deletable": false,
    "nbgrader": {
     "cell_type": "code",
     "checksum": "09cb50fb9b1f365561695e71e06e36f6",
     "grade": true,
     "grade_id": "cell-9a4e38925ab003b9",
     "locked": false,
     "points": 4,
     "schema_version": 3,
     "solution": true,
     "task": false
    }
   },
   "outputs": [],
   "source": [
    "# Set up additional symbolic variables we need\n",
    "sp.var(\"A\")\n",
    "sp.var(\"B\")\n",
    "\n",
    "# Your code here \n"
   ]
  },
  {
   "cell_type": "markdown",
   "id": "5547c6fe",
   "metadata": {
    "deletable": false,
    "editable": false,
    "nbgrader": {
     "cell_type": "markdown",
     "checksum": "637d0a455c2bcd0d2819bfda2577fdc4",
     "grade": false,
     "grade_id": "cell-fc5faf7553c91d45",
     "locked": true,
     "schema_version": 3,
     "solution": false,
     "task": false
    }
   },
   "source": [
    "### Solving multiple simultaneous equations\n",
    "OK, how about *two* simultaneous equations? Below we find the values of $x$ and $y$ that satisfy $x^2+y^2=1$ and $x=0$."
   ]
  },
  {
   "cell_type": "code",
   "execution_count": null,
   "id": "06d63f8e",
   "metadata": {
    "deletable": false,
    "editable": false,
    "nbgrader": {
     "cell_type": "code",
     "checksum": "5a0a3637b1301b6f3ddfee505a97f5fe",
     "grade": false,
     "grade_id": "cell-149d8720afdef16d",
     "locked": true,
     "schema_version": 3,
     "solution": false,
     "task": false
    }
   },
   "outputs": [],
   "source": [
    "# Set up symbolic variables x and y\n",
    "sp.var(\"x\")\n",
    "sp.var(\"y\")\n",
    "\n",
    "# Set up the equations\n",
    "eq1 = sp.Eq(x**2+y**2,1)\n",
    "eq2 = sp.Eq(x,0)\n",
    "\n",
    "# Use sp.solve to solve the simultaneous equations\n",
    "result = sp.solve([eq1,eq2],(x,y))\n",
    "\n",
    "# List the solutions\n",
    "print('I found ', len(result),' solutions for x and y')\n",
    "for i in range(len(result)):\n",
    "    display(result[i])"
   ]
  },
  {
   "cell_type": "markdown",
   "id": "6df576a1",
   "metadata": {
    "deletable": false,
    "editable": false,
    "nbgrader": {
     "cell_type": "markdown",
     "checksum": "9fe73ee8ec48d04b7f7159942c21b8e9",
     "grade": false,
     "grade_id": "cell-61922d19d7b56fb1",
     "locked": true,
     "schema_version": 3,
     "solution": false,
     "task": false
    }
   },
   "source": [
    "### Your turn\n",
    "In the cell below, repeat what we just did, but for the simultaneous equations $x+y=5$ *and* $x^2+y^2=17$."
   ]
  },
  {
   "cell_type": "code",
   "execution_count": null,
   "id": "25fc2372",
   "metadata": {
    "deletable": false,
    "nbgrader": {
     "cell_type": "code",
     "checksum": "afab18a09467cd572a7160eef49e37bf",
     "grade": true,
     "grade_id": "cell-20495c7f3a92e45b",
     "locked": false,
     "points": 4,
     "schema_version": 3,
     "solution": true,
     "task": false
    }
   },
   "outputs": [],
   "source": [
    "# Your code here \n"
   ]
  },
  {
   "cell_type": "markdown",
   "id": "d1f197f1",
   "metadata": {
    "deletable": false,
    "editable": false,
    "nbgrader": {
     "cell_type": "markdown",
     "checksum": "6caa3a94a7a65b4237723ca94434c56e",
     "grade": false,
     "grade_id": "cell-f0aee752fde3d4bf",
     "locked": true,
     "schema_version": 3,
     "solution": false,
     "task": false
    }
   },
   "source": [
    "### Finding the critical temperature and volume for a vdw gas\n",
    "Finally, we're ready to do some thermodynamics with this! Follow the prompts in the cell below."
   ]
  },
  {
   "cell_type": "code",
   "execution_count": null,
   "id": "8cde63df",
   "metadata": {
    "deletable": false,
    "nbgrader": {
     "cell_type": "code",
     "checksum": "400f968425c111e06b665e774c46a242",
     "grade": true,
     "grade_id": "cell-93bc6043aeb40d61",
     "locked": false,
     "points": 8,
     "schema_version": 3,
     "solution": true,
     "task": false
    }
   },
   "outputs": [],
   "source": [
    "# Preliminaries -- this defines a van der Waals gas\n",
    "sp.var(\"a\")\n",
    "sp.var(\"b\")\n",
    "sp.var(\"n\")\n",
    "sp.var(\"R\")\n",
    "sp.var(\"T\")\n",
    "sp.var(\"V\")\n",
    "P = n*R*T/(V-n*b) -a*n**2/V**2\n",
    "\n",
    "# Differentiate P with respect to V using Sympy and construct Eq. 4 of the Introduction.\n",
    "dPdV = sp.diff(P,V)\n",
    "eq4 = sp.Eq(dPdV, 0);display(eq4)\n",
    "\n",
    "# Do the rest ... differentiate dPdV to construct Eq. 5 ... solve them for T & V ... list all solutions\n",
    "# Your code here \n",
    "\n"
   ]
  },
  {
   "cell_type": "markdown",
   "id": "ec6d2082",
   "metadata": {
    "deletable": false,
    "editable": false,
    "nbgrader": {
     "cell_type": "markdown",
     "checksum": "c9dc2b4c5a9f578f9b3d23deaa1f5be7",
     "grade": false,
     "grade_id": "cell-7fa495b29e134cdc",
     "locked": true,
     "schema_version": 3,
     "solution": false,
     "task": false
    }
   },
   "source": [
    "### Pause for analysis\n",
    "You just solved for the critical temperature and volume of an ideal gas (yay)! Your last task is to find the critical pressure. To do that, create a variable Pcrit by expressing the van der Waals pressure in terms of your expressions for $V_{crit}$ and $T_{crit}$. Then display the result."
   ]
  },
  {
   "cell_type": "code",
   "execution_count": null,
   "id": "a27dbfe9",
   "metadata": {
    "deletable": false,
    "nbgrader": {
     "cell_type": "code",
     "checksum": "60e66196af2ab0ebce7a96e7b23ee503",
     "grade": true,
     "grade_id": "cell-b12673eba02741f9",
     "locked": false,
     "points": 6,
     "schema_version": 3,
     "solution": true,
     "task": false
    }
   },
   "outputs": [],
   "source": [
    "# Your code here \n"
   ]
  },
  {
   "cell_type": "markdown",
   "id": "86877c2b",
   "metadata": {
    "deletable": false,
    "editable": false,
    "nbgrader": {
     "cell_type": "markdown",
     "checksum": "fefd16869fe8344ace49505e2c46668e",
     "grade": false,
     "grade_id": "cell-686fd7f4e9cd989c",
     "locked": true,
     "schema_version": 3,
     "solution": false,
     "task": false
    }
   },
   "source": [
    "### Refresh/save/validate/close/submit/logout"
   ]
  }
 ],
 "metadata": {
  "kernelspec": {
   "display_name": "Python 3 (ipykernel)",
   "language": "python",
   "name": "python3"
  },
  "language_info": {
   "codemirror_mode": {
    "name": "ipython",
    "version": 3
   },
   "file_extension": ".py",
   "mimetype": "text/x-python",
   "name": "python",
   "nbconvert_exporter": "python",
   "pygments_lexer": "ipython3",
   "version": "3.10.2"
  }
 },
 "nbformat": 4,
 "nbformat_minor": 5
}

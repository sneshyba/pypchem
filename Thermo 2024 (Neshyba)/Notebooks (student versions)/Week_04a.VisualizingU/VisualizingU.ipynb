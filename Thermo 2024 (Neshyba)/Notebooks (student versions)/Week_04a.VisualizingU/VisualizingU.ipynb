{
 "cells": [
  {
   "cell_type": "markdown",
   "metadata": {
    "deletable": false,
    "editable": false,
    "id": "M2QMGX4Nuqg4",
    "nbgrader": {
     "cell_type": "markdown",
     "checksum": "2630f6e3c81da47d10dc8d91cc11f0af",
     "grade": false,
     "grade_id": "cell-63f90496efbfa02b",
     "locked": true,
     "schema_version": 3,
     "solution": false,
     "task": false
    }
   },
   "source": [
    "### Computational Guided Inquiry for PChem (Neshyba, 2024)\n",
    "\n",
    "# Visualizing $U$,  $C_V$, and $\\pi_T$\n",
    "\n",
    "## Visualizing $U(T,V)$ as a thermodynamic surface\n",
    "\n",
    "Internal energy is usually written as a function of T and V, designated by the notation $U=U(T,V)$. Conceptually, this energy is very straightforward: it is the sum of the kinetic and potential energies of all molecules in a given sample. Figure 1 below shows $U(T,V)$ of a real gas. You can see some of the behaviors expected of all gases (e.g., increasing $U$ with increasing temperature), and some of the behaviors expected specifically of real gases (see the low-volume part of state space).\n",
    "\n",
    "<p style='text-align: center;'>\n",
    "<img src=\"http://webspace.pugetsound.edu/facultypages/nesh/Notebook/UVT figure 4.png\" height=\"400\" width=\"400\"/>  \n",
    "<strong>Figure 1</strong>. Thermodynamic surfaces of the internal energy, $U$, in a temperature/volume state space.\n",
    "</p>\n",
    "\n",
    "## Visualizing $C_V$ and $\\pi_T$\n",
    "\n",
    "Formally, the slope of $U$ in the temperature direction, at constant volume, is written $\\big(\\frac{\\partial U}{\\partial T}\\big)_V$. This slope has a name, the *constant-volume heat capacity,* and is symbolized $C_V$. So we say\n",
    "\n",
    "$$\n",
    "C_V =  \\big(\\frac{\\partial U}{\\partial T}\\big)_V \\ \\ \\ \\ (1)\n",
    "$$\n",
    "\n",
    "Similarly, the slope of $U$ in the pressure direction is given a special symbol, $\\pi_T$, and name, the *internal pressure* (because it has units pressure) -- which we've encountered before! Formally, we say\n",
    "\n",
    "$$ \n",
    "\\pi_T =  \\big(\\frac{\\partial U}{\\partial V}\\big)_T \\ \\ \\ \\ (2)\n",
    "$$\n",
    "\n",
    "Getting the thermodynamic surfaces for $C_V(T,V)$ and $\\pi_T(T,V)$ numerially should be a cinch for us, once we have $U(T,V)$, using the partial derivative functions dF_dx and dF_dy.\n",
    "\n",
    "\n",
    "## About units\n",
    "As previously, the data stored in the files that you'll be picking up in this exercise are almost all SI, with the exception of the energy values stored in Ugrid1.txt, etc., which are stored in $kJ/mol$. For cosmetic purposes, however, it'll be more convenient to do some conversions, for example to use $L$ instead of $m^3$.\n",
    "\n",
    "There might be a \"unit surprise\" for you here too: since $\\pi_T =  \\big(\\frac{\\partial U}{\\partial V}\\big)_T$, it must have dimensions energy/volume. That turns out to be a pressure! Here we're converting those quantities into bars (again, for cosmetic reasons).\n",
    "\n",
    "## Learning Goals\n",
    "1. Given an image of $U(T,V)$ as a thermodynamic surface, I can predict what $C_V$ and $\\pi_T$ will look like as thermodynamic surfaces. \n",
    "1. Given a state function (like $U(T,V)$) in gridded form, I can use partial derivative functions dF_dx and dF_dy to compute and display the corresponding partial derivatives ($C_V$ and $\\pi_T$). \n",
    "1. I can use numpy's *max* and *min* functions to pull out the maximum or minimum value of a set of variables.\n",
    "1. I can plot multiple surfaces on one graph (using PL.plot_surfaces)."
   ]
  },
  {
   "cell_type": "code",
   "execution_count": null,
   "metadata": {
    "deletable": false,
    "editable": false,
    "id": "tVKrPxLxuqhA",
    "nbgrader": {
     "cell_type": "code",
     "checksum": "4afdd8971d8b34487d65e6caae051982",
     "grade": false,
     "grade_id": "cell-2262666647a5b096",
     "locked": true,
     "schema_version": 3,
     "solution": false,
     "task": false
    }
   },
   "outputs": [],
   "source": [
    "import pint; from pint import UnitRegistry; AssignQuantity = UnitRegistry().Quantity\n",
    "import warnings; warnings.filterwarnings(\"ignore\", \"The unit of the quantity is stripped when downcasting to ndarray\")\n",
    "import numpy as np\n",
    "import matplotlib.pyplot as plt\n",
    "import sys; sys.path.append('/home'); import PchemLibrary as PL\n",
    "from mpl_toolkits.mplot3d import axes3d"
   ]
  },
  {
   "cell_type": "code",
   "execution_count": null,
   "metadata": {
    "deletable": false,
    "editable": false,
    "id": "tVKrPxLxuqhA",
    "nbgrader": {
     "cell_type": "code",
     "checksum": "dbd5bf54ab8513e012f54e396df6e0f5",
     "grade": false,
     "grade_id": "cell-2262666647a5b096x",
     "locked": true,
     "schema_version": 3,
     "solution": false,
     "task": false
    }
   },
   "outputs": [],
   "source": [
    "%matplotlib notebook"
   ]
  },
  {
   "cell_type": "markdown",
   "metadata": {
    "deletable": false,
    "editable": false,
    "id": "Z6EcoTrzuqhB",
    "nbgrader": {
     "cell_type": "markdown",
     "checksum": "c4d50092628d169b0a7c5966d52571a2",
     "grade": false,
     "grade_id": "cell-3e3f9a4aa9c35919x",
     "locked": true,
     "schema_version": 3,
     "solution": false,
     "task": false
    }
   },
   "source": [
    "### Loading and inspecting the data\n",
    "The cell below loads and plots three internal energy state functions on a $(T,V)$ state space grid. For the most part, the state space is SI (degrees K for temperature, $m^3/mol$ for volume), however the units of $U$ are $kJ/mol$. We're also converting the volumes to Liters for cosmetic purposes.\n",
    "\n",
    "We're also introducing a new function, PL.plot_surfaces, which allows you to plot multiple surfaces on the same graph."
   ]
  },
  {
   "cell_type": "code",
   "execution_count": null,
   "metadata": {
    "deletable": false,
    "id": "09pNsJAWuqhB",
    "nbgrader": {
     "cell_type": "code",
     "checksum": "4cb6882874f791fd74a4ec0d31abd6df",
     "grade": true,
     "grade_id": "cell-6e89822c7f288b89",
     "locked": false,
     "points": 1,
     "schema_version": 3,
     "solution": true,
     "task": false
    }
   },
   "outputs": [],
   "source": [
    "# Loading the thermodynamic state space\n",
    "Tgrid = np.loadtxt('Tgrid.txt'); Tgrid = AssignQuantity(Tgrid,'K')\n",
    "Vgrid = np.loadtxt('Vgrid.txt'); Vgrid = AssignQuantity(Vgrid,'m^3/mol'); Vgrid.ito('L/mol')\n",
    "print(np.shape(Tgrid))\n",
    "\n",
    "# Loading the three internal energy state functions \n",
    "Ugrid1 = np.loadtxt('Ugrid1.txt'); Ugrid1 = AssignQuantity(Ugrid1,'kJ/mol')\n",
    "Ugrid2 = np.loadtxt('Ugrid2.txt'); Ugrid2 = AssignQuantity(Ugrid2,'kJ/mol')\n",
    "Ugrid3 = np.loadtxt('Ugrid3.txt'); Ugrid3 = AssignQuantity(Ugrid3,'kJ/mol')\n",
    "\n",
    "# Axis labels\n",
    "xlabel = 'T '+str(Tgrid.units)\n",
    "ylabel = 'V '+str(Vgrid.units)\n",
    "zlabel = 'U '+str(Ugrid1.units)\n",
    "llist = [xlabel, ylabel, zlabel]\n",
    "\n",
    "# Plotting surface 1\n",
    "PL.plot_surface1(Tgrid, Vgrid, Ugrid1, color='red',title='U1',labellist=llist).show()\n",
    "\n",
    "# Plot surface 2\n",
    "# Your code here \n",
    "\n",
    "\n",
    "# Plot surface 3\n",
    "# Your code here \n",
    "\n",
    "\n",
    "# Preparing lists for multiple surfaces\n",
    "Ulist = [Ugrid1,Ugrid2,Ugrid3]\n",
    "tlist = ['U1','U2','U3']\n",
    "clist = ['red','green','blue']\n",
    "\n",
    "# This plots three surfaces with specified colors, titles, and x-y-z labels\n",
    "PL.plot_surfaces(Tgrid,Vgrid,Ulist,colorlist=clist,titlelist=tlist,labellist=llist).show()"
   ]
  },
  {
   "cell_type": "markdown",
   "metadata": {
    "deletable": false,
    "editable": false,
    "nbgrader": {
     "cell_type": "markdown",
     "checksum": "b8b42fa480ac5a0a84ba9cfb945c0615",
     "grade": false,
     "grade_id": "cell-89f9e81979d48bae",
     "locked": true,
     "schema_version": 3,
     "solution": false,
     "task": false
    }
   },
   "source": [
    "### Pause for analysis\n",
    "A couple of features of these three surfaces you might make a note of:\n",
    "\n",
    "1. The size of the state space is 50x50.\n",
    "1. All three $U(T,V)$ surfaces go up with increasing temperature, although $U_3(T,V)$ does so with a constant slope, while $U_1(T,V)$ and $U_2(T,V)$ do so with some curvature. \n",
    "\n",
    "Both these observations will become important later, as you distinguish which $U(T,V)$ surfaces describe real or ideal gases, and which describe monatomic or polyatomic gases.\n",
    "\n",
    "Now take a close look at the volume dependence of three surfaces: only one is volume-dependent. Which one? "
   ]
  },
  {
   "cell_type": "markdown",
   "metadata": {
    "deletable": false,
    "nbgrader": {
     "cell_type": "markdown",
     "checksum": "c93745b4a85fab857a6a0316ff7b8137",
     "grade": true,
     "grade_id": "cell-384402a521f70127",
     "locked": false,
     "points": 2,
     "schema_version": 3,
     "solution": true,
     "task": false
    }
   },
   "source": [
    "YOUR ANSWER HERE"
   ]
  },
  {
   "cell_type": "markdown",
   "metadata": {
    "deletable": false,
    "editable": false,
    "nbgrader": {
     "cell_type": "markdown",
     "checksum": "44cf2f9925023d1bb5b66e9fe3787067",
     "grade": false,
     "grade_id": "cell-d3bd737b65382917",
     "locked": true,
     "schema_version": 3,
     "solution": false,
     "task": false
    }
   },
   "source": [
    "### Computing $C_V$ as thermodynamic surfaces\n",
    "In the cell below, we use our PL.dF_dx function compute the three $C_V$ surfaces corresponding to these three $U(T,V)$ surfaces. We're also using numpy's max function to get a sense of the range of $C_V$ values. That way, if we scale subsequent plots with the same maximum, it'll be easier to compare them."
   ]
  },
  {
   "cell_type": "code",
   "execution_count": null,
   "metadata": {
    "deletable": false,
    "editable": false,
    "nbgrader": {
     "cell_type": "code",
     "checksum": "825fa022f15b4db299da72bf63b2e0a9",
     "grade": false,
     "grade_id": "cell-3185cb8930350f08",
     "locked": true,
     "schema_version": 3,
     "solution": false,
     "task": false
    }
   },
   "outputs": [],
   "source": [
    "# Calculate the partial of U with respect to T\n",
    "Tgridnew, Vgridnew, CV1 = PL.dF_dx([Tgrid,Vgrid],Ugrid1)\n",
    "Tgridnew, Vgridnew, CV2 = PL.dF_dx([Tgrid,Vgrid],Ugrid2)\n",
    "Tgridnew, Vgridnew, CV3 = PL.dF_dx([Tgrid,Vgrid],Ugrid3)\n",
    "CV1.ito('J/mol/K')\n",
    "CV2.ito('J/mol/K')\n",
    "CV3.ito('J/mol/K')\n",
    "\n",
    "# Get a sense of the max values for graphing\n",
    "max_all_three_CVs = np.max([CV1,CV2,CV3]); print('The maximum Cv value is', max_all_three_CVs)\n",
    "myzrange = [0,max_all_three_CVs]"
   ]
  },
  {
   "cell_type": "markdown",
   "metadata": {
    "deletable": false,
    "editable": false,
    "nbgrader": {
     "cell_type": "markdown",
     "checksum": "3fe070b3a3a36fcb94fdd82e2e0509cb",
     "grade": false,
     "grade_id": "cell-11f121fabfd8f83e",
     "locked": true,
     "schema_version": 3,
     "solution": false,
     "task": false
    }
   },
   "source": [
    "### Plotting\n",
    "In the cell below, we plot the $C_V$ surfaces for $U_1$ in a temperature-volume state space. Note that we're using the new state space grids Tgridnew and Vgridnew, because (as you may recall) dF_dx shortened its shape: it has only 49 temperatures now.\n",
    "\n",
    "Notice also that we've had to change the syntax of the call to PL.plot_surface slightly. That's so we can adjust the height of the z-axis."
   ]
  },
  {
   "cell_type": "code",
   "execution_count": null,
   "metadata": {
    "deletable": false,
    "editable": false,
    "nbgrader": {
     "cell_type": "code",
     "checksum": "99472320e313f7fb7299708adf80e867",
     "grade": false,
     "grade_id": "cell-82ed4bda84d3e397",
     "locked": true,
     "schema_version": 3,
     "solution": false,
     "task": false
    }
   },
   "outputs": [],
   "source": [
    "# Using PL.plot_surface1 to plot CV of the first grid, in red\n",
    "llist = [xlabel,ylabel,'CV '+str(CV1.units)]\n",
    "ax = PL.plot_surface1(Tgridnew, Vgridnew, CV1, color='red',title='CV1',labellist=llist,zrange=myzrange).show()"
   ]
  },
  {
   "cell_type": "markdown",
   "metadata": {
    "deletable": false,
    "editable": false,
    "nbgrader": {
     "cell_type": "markdown",
     "checksum": "ccef980d17a6d8c18490b5cc9fd18586",
     "grade": false,
     "grade_id": "cell-4e0f59d3b69e9cfb",
     "locked": true,
     "schema_version": 3,
     "solution": false,
     "task": false
    }
   },
   "source": [
    "### Your turn\n",
    "Do this again, i.e., use PL.plot_surface1 to visualize $C_{V2}$ (based on $U_2$) and $C_{V3}$ (based on $U_3$), scaling the vertical axis to the same maximum as you did before."
   ]
  },
  {
   "cell_type": "code",
   "execution_count": null,
   "metadata": {
    "deletable": false,
    "nbgrader": {
     "cell_type": "code",
     "checksum": "34e35074fd357d8f1c9aff83231cb642",
     "grade": true,
     "grade_id": "cell-dfbacd93b22095af",
     "locked": false,
     "points": 4,
     "schema_version": 3,
     "solution": true,
     "task": false
    }
   },
   "outputs": [],
   "source": [
    "# Use PL.plot_surface1 to visualize CV of the second grid, in green\n",
    "# Your code here \n",
    "\n",
    "\n",
    "# PL.plot_surface1 to visualize CV of the third grid, in \"blues_r\"\n",
    "# Your code here \n"
   ]
  },
  {
   "cell_type": "markdown",
   "metadata": {
    "deletable": false,
    "editable": false,
    "nbgrader": {
     "cell_type": "markdown",
     "checksum": "bd747b26e271d7d924e40d37233c14b2",
     "grade": false,
     "grade_id": "cell-f8d437e7d4fe2256",
     "locked": true,
     "schema_version": 3,
     "solution": false,
     "task": false
    }
   },
   "source": [
    "### Pause for analysis\n",
    "1. $C_V(T,V)$ is supposed to be flat (constant) for a monatomic ideal gas. For the gas that seems to be a monatomic ideal gas, approximately what is the value of $C_V$? \n",
    "1. For the two other gases -- presumed to be polyatomic gases -- $C_V(T,V)$ is supposed to be (generally) higher than that of a monatomic gas. Did that work out?"
   ]
  },
  {
   "cell_type": "markdown",
   "metadata": {
    "deletable": false,
    "nbgrader": {
     "cell_type": "markdown",
     "checksum": "898f8848973e6854803e6e7033b70db9",
     "grade": true,
     "grade_id": "cell-5721c69f619a6593",
     "locked": false,
     "points": 2,
     "schema_version": 3,
     "solution": true,
     "task": false
    }
   },
   "source": [
    "YOUR ANSWER HERE"
   ]
  },
  {
   "cell_type": "markdown",
   "metadata": {
    "deletable": false,
    "editable": false,
    "nbgrader": {
     "cell_type": "markdown",
     "checksum": "95f55375c21157417d4fab6b2360cfd9",
     "grade": false,
     "grade_id": "cell-ec665fc95998a634",
     "locked": true,
     "schema_version": 3,
     "solution": false,
     "task": false
    }
   },
   "source": [
    "### Calculating $\\pi_T$\n",
    "In the cell below, calculate $\\pi_T$ surfaces for the three internal energy grids. Some notes: \n",
    "1. A convenient naming convention could be piT1, piT2, and piT3 (but it's your choice).\n",
    "1. Don't forget that this time we want the partial in the \"y\" direction, so use dF_dy.\n",
    "1. It'll be handy to record the maximum $\\pi_T$ value among all three, and to create an appropriate zlabel, for subsequent plotting."
   ]
  },
  {
   "cell_type": "code",
   "execution_count": null,
   "metadata": {
    "deletable": false,
    "nbgrader": {
     "cell_type": "code",
     "checksum": "72dd1723f8067494af486025f91feabe",
     "grade": true,
     "grade_id": "cell-bd45442421071a20",
     "locked": false,
     "points": 3,
     "schema_version": 3,
     "solution": true,
     "task": false
    }
   },
   "outputs": [],
   "source": [
    "# Calculate the partials of U with respect to V for the U1, U2, and U3\n",
    "# Your code here \n",
    "\n",
    "\n",
    "# Convert the pi_T values to bar\n",
    "# Your code here \n",
    "\n",
    "\n",
    "# Get a sense of the max values for graphing\n",
    "# Your code here \n"
   ]
  },
  {
   "cell_type": "markdown",
   "metadata": {
    "deletable": false,
    "editable": false,
    "nbgrader": {
     "cell_type": "markdown",
     "checksum": "20dd40a1f57002021aefd9f782c7141f",
     "grade": false,
     "grade_id": "cell-04a674f454ccc7b6",
     "locked": true,
     "schema_version": 3,
     "solution": false,
     "task": false
    }
   },
   "source": [
    "### Visualizing $\\pi_T$\n",
    "In the cell below, plot all three $\\pi_T$ surfaces, using a vertical scale based on the maximum of all three."
   ]
  },
  {
   "cell_type": "code",
   "execution_count": null,
   "metadata": {
    "deletable": false,
    "nbgrader": {
     "cell_type": "code",
     "checksum": "715e864005b987297e4a7bdeb5bf7e8d",
     "grade": true,
     "grade_id": "cell-d08d94c67e77f534",
     "locked": false,
     "points": 3,
     "schema_version": 3,
     "solution": true,
     "task": false
    }
   },
   "outputs": [],
   "source": [
    "# Prep the labels\n",
    "llist = [xlabel,ylabel,'pi_T '+str(piT1.units)]\n",
    "\n",
    "# Plot piT of the the first grid, in red\n",
    "# Your code here \n",
    "\n",
    "\n",
    "# Plot piT of the the second grid, in green\n",
    "# Your code here \n",
    "\n",
    "\n",
    "# Plot piT of the the third grid, in blue\n",
    "# Your code here \n"
   ]
  },
  {
   "cell_type": "markdown",
   "metadata": {
    "deletable": false,
    "editable": false,
    "nbgrader": {
     "cell_type": "markdown",
     "checksum": "35d2724d312744a09f3d1436b40d3893",
     "grade": false,
     "grade_id": "cell-d98775152dc3a67f",
     "locked": true,
     "schema_version": 3,
     "solution": false,
     "task": false
    }
   },
   "source": [
    "### Pause for analysis\n",
    "You will have noticed that one of these gases has a non-zero $\\pi_T$. Is it positive or negative? Does it seem to depend more on temperature or on volume? Enter your response in the cell below."
   ]
  },
  {
   "cell_type": "markdown",
   "metadata": {
    "deletable": false,
    "nbgrader": {
     "cell_type": "markdown",
     "checksum": "e827d7454b610d06416c8b607f5a443d",
     "grade": true,
     "grade_id": "cell-ee14c7df6693ac96",
     "locked": false,
     "points": 1,
     "schema_version": 3,
     "solution": true,
     "task": false
    }
   },
   "source": [
    "YOUR ANSWER HERE"
   ]
  },
  {
   "cell_type": "markdown",
   "metadata": {
    "deletable": false,
    "editable": false,
    "nbgrader": {
     "cell_type": "markdown",
     "checksum": "eaa614f6cb75507278cfdd5d4f419c12",
     "grade": false,
     "grade_id": "cell-9c2b0f71c5a638a8",
     "locked": true,
     "schema_version": 3,
     "solution": false,
     "task": false
    }
   },
   "source": [
    "### Validating and finishing up\n",
    "Assuming all this has gone smoothly and a Kernel/Restart & Run All has run without error, don't forget to\n",
    "1. Close this notebook using the \"File/Close and Halt\" dropdown menu\n",
    "1. Using the Assignments tab, submit this notebook\n",
    "1. Press the Logout tab of the Home Page"
   ]
  }
 ],
 "metadata": {
  "colab": {
   "collapsed_sections": [],
   "name": "4. Visualizing_U.ipynb",
   "provenance": []
  },
  "kernelspec": {
   "display_name": "Python 3 (ipykernel)",
   "language": "python",
   "name": "python3"
  },
  "language_info": {
   "codemirror_mode": {
    "name": "ipython",
    "version": 3
   },
   "file_extension": ".py",
   "mimetype": "text/x-python",
   "name": "python",
   "nbconvert_exporter": "python",
   "pygments_lexer": "ipython3",
   "version": "3.10.2"
  }
 },
 "nbformat": 4,
 "nbformat_minor": 1
}

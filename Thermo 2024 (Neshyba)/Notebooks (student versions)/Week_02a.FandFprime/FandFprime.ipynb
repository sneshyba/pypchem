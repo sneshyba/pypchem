{
 "cells": [
  {
   "cell_type": "markdown",
   "metadata": {
    "deletable": false,
    "editable": false,
    "id": "72Dt7fEhD9y-",
    "nbgrader": {
     "cell_type": "markdown",
     "checksum": "90262ab21389c00b1dd77419960ec2fc",
     "grade": false,
     "grade_id": "cell-7f22f7773acda3eb",
     "locked": true,
     "schema_version": 3,
     "solution": false,
     "task": false
    }
   },
   "source": [
    "### Computational Guided Inquiry for PChem (Neshyba, 2024)\n",
    "\n",
    "# f and f'\n",
    "\n",
    "## Overview\n",
    "The goal of this CGI is give you some practice with how to generate arrays of numbers in Python, plotting them, and taking numerical derivatives. \n",
    "\n",
    "## Computing skills\n",
    "\n",
    "1. I can create arrays of numbers using linspace, and other arrays of numbers from them.\n",
    "1. I know how to plot multiple curves on one graph, and annotate them, using the label/legend method.\n",
    "1. I can take numerical derivatives of functions, and plot them too."
   ]
  },
  {
   "cell_type": "code",
   "execution_count": null,
   "metadata": {
    "deletable": false,
    "editable": false,
    "executionInfo": {
     "elapsed": 136,
     "status": "ok",
     "timestamp": 1624505477391,
     "user": {
      "displayName": "Jesus Deloya Garcia",
      "photoUrl": "",
      "userId": "00001932609572610710"
     },
     "user_tz": 420
    },
    "id": "AGlAnVvG8A__",
    "nbgrader": {
     "cell_type": "code",
     "checksum": "aacd3896996186f8b2eaeeb2b236e9b7",
     "grade": false,
     "grade_id": "cell-18156fa86d41a7a7",
     "locked": true,
     "schema_version": 3,
     "solution": false,
     "task": false
    }
   },
   "outputs": [],
   "source": [
    "import numpy as np\n",
    "import matplotlib.pyplot as plt"
   ]
  },
  {
   "cell_type": "code",
   "execution_count": null,
   "metadata": {
    "deletable": false,
    "editable": false,
    "nbgrader": {
     "cell_type": "code",
     "checksum": "4a5599cabe652f6426c7b67e3f339408",
     "grade": false,
     "grade_id": "cell-792c5c29f84a3d76",
     "locked": true,
     "schema_version": 3,
     "solution": false,
     "task": false
    }
   },
   "outputs": [],
   "source": [
    "%matplotlib notebook"
   ]
  },
  {
   "cell_type": "markdown",
   "metadata": {
    "deletable": false,
    "editable": false,
    "id": "XZrSuYB08BAF",
    "nbgrader": {
     "cell_type": "markdown",
     "checksum": "dfe9cae213b3153cc83bfda93d644822",
     "grade": false,
     "grade_id": "cell-9f20b0134b9661a0",
     "locked": true,
     "schema_version": 3,
     "solution": false,
     "task": false
    }
   },
   "source": [
    "### Generating arrays of numbers with np.linspace\n",
    "In the example below, we create an array of twenty numbers, from -5 to +5, and store it as variable xarray."
   ]
  },
  {
   "cell_type": "code",
   "execution_count": null,
   "metadata": {
    "colab": {
     "base_uri": "https://localhost:8080/"
    },
    "deletable": false,
    "editable": false,
    "executionInfo": {
     "elapsed": 136,
     "status": "ok",
     "timestamp": 1624505490865,
     "user": {
      "displayName": "Jesus Deloya Garcia",
      "photoUrl": "",
      "userId": "00001932609572610710"
     },
     "user_tz": 420
    },
    "id": "y3zMLxKd8BAF",
    "nbgrader": {
     "cell_type": "code",
     "checksum": "d68687eaf6cf450af94c8448c5b35544",
     "grade": false,
     "grade_id": "cell-2dc5fd7face34844",
     "locked": true,
     "schema_version": 3,
     "solution": false,
     "task": false
    },
    "outputId": "3acf98cd-214d-4c91-a884-069a60c7980c"
   },
   "outputs": [],
   "source": [
    "# Create an array and print it\n",
    "x = np.linspace(-5,5)\n",
    "print(x)"
   ]
  },
  {
   "cell_type": "markdown",
   "metadata": {
    "deletable": false,
    "editable": false,
    "nbgrader": {
     "cell_type": "markdown",
     "checksum": "5770c4cb621cc66b8236590409d13449",
     "grade": false,
     "grade_id": "cell-238bba071f133f43",
     "locked": true,
     "schema_version": 3,
     "solution": false,
     "task": false
    }
   },
   "source": [
    "### Your turn\n",
    "Remake the x-array, but running from 0 to 2, and print it."
   ]
  },
  {
   "cell_type": "code",
   "execution_count": null,
   "metadata": {
    "deletable": false,
    "nbgrader": {
     "cell_type": "code",
     "checksum": "78422bd2a2c72d40a1c9be216a381b96",
     "grade": true,
     "grade_id": "cell-e273c30921cd5e8f",
     "locked": false,
     "points": 2,
     "schema_version": 3,
     "solution": true,
     "task": false
    }
   },
   "outputs": [],
   "source": [
    "# Your code here \n"
   ]
  },
  {
   "cell_type": "markdown",
   "metadata": {
    "deletable": false,
    "editable": false,
    "nbgrader": {
     "cell_type": "markdown",
     "checksum": "63a22230d9d61ac386b5022f5fae2536",
     "grade": false,
     "grade_id": "cell-f7c1961ec0750235",
     "locked": true,
     "schema_version": 3,
     "solution": false,
     "task": false
    }
   },
   "source": [
    "### Creating arrays with a different number of values\n",
    "It turns out that np.linspace defaults to 50 values. If you want to change that (say, to 100 values) you can use the syntax\n",
    "\n",
    "    x = np.linspace(0,2,100)\n",
    "    \n",
    "In the cell below, create and print an array \"x\" that runs from 0 to 3, with 200 points."
   ]
  },
  {
   "cell_type": "code",
   "execution_count": null,
   "metadata": {
    "deletable": false,
    "nbgrader": {
     "cell_type": "code",
     "checksum": "689c32f97af888004ca9c7613c247006",
     "grade": true,
     "grade_id": "cell-9f4aab0c8c79e53e",
     "locked": false,
     "points": 2,
     "schema_version": 3,
     "solution": true,
     "task": false
    }
   },
   "outputs": [],
   "source": [
    "# Your code here \n"
   ]
  },
  {
   "cell_type": "markdown",
   "metadata": {
    "deletable": false,
    "editable": false,
    "id": "s3UwX3nh8BAF",
    "nbgrader": {
     "cell_type": "markdown",
     "checksum": "cb5f015f288276cf70eac76fa45b80b1",
     "grade": false,
     "grade_id": "cell-865ce8a40ca95aee",
     "locked": true,
     "schema_version": 3,
     "solution": false,
     "task": false
    }
   },
   "source": [
    "### Plotting multple curves on a single graph using the label/legend method\n",
    "When you use an array in an algebraic expression, the resulting variable is also an array. The cell below calculates arrays corresponding to $x^2$ and $x^{1/2}$, and plots them using the label/legend method."
   ]
  },
  {
   "cell_type": "code",
   "execution_count": null,
   "metadata": {
    "colab": {
     "base_uri": "https://localhost:8080/"
    },
    "deletable": false,
    "editable": false,
    "executionInfo": {
     "elapsed": 2,
     "status": "ok",
     "timestamp": 1623957240334,
     "user": {
      "displayName": "Steven Neshyba",
      "photoUrl": "https://lh3.googleusercontent.com/a-/AOh14GhNBBB4oUDYM5LFwp5QBiZMax8b3ieYXI_9F1wa=s64",
      "userId": "12688310908552577631"
     },
     "user_tz": 420
    },
    "id": "2ENJGI6w8BAG",
    "nbgrader": {
     "cell_type": "code",
     "checksum": "7aea6e0a753d4f401a063dabd277539b",
     "grade": false,
     "grade_id": "cell-a5a02b920c8b82a3",
     "locked": true,
     "schema_version": 3,
     "solution": false,
     "task": false
    },
    "outputId": "37f7280d-b0ce-4e78-f2c5-80f3015fca02"
   },
   "outputs": [],
   "source": [
    "# Initialize the plot window\n",
    "plt.figure()\n",
    "\n",
    "# Calculate and plot x**2 and x**(1/2) as a function of x on the same graph, and annotate\n",
    "xsquared = x**2\n",
    "xroot2 = x**(1/2)\n",
    "plt.plot(x,xsquared,label='x^2')\n",
    "plt.plot(x,xroot2,label='x^(1/2)')\n",
    "plt.xlabel('x')\n",
    "plt.legend()\n",
    "plt.grid(True)"
   ]
  },
  {
   "cell_type": "markdown",
   "metadata": {
    "deletable": false,
    "editable": false,
    "nbgrader": {
     "cell_type": "markdown",
     "checksum": "c686a7fcf2fb9b15b1a62485d6b6fb88",
     "grade": false,
     "grade_id": "cell-732b24cf20724c85",
     "locked": true,
     "schema_version": 3,
     "solution": false,
     "task": false
    }
   },
   "source": [
    "### Your turn\n",
    "In the cell below, compute and plot $x^3$ and $x^{1/3}$ as a function of x, on the same graph, and annotate using the label/legend method."
   ]
  },
  {
   "cell_type": "code",
   "execution_count": null,
   "metadata": {
    "deletable": false,
    "nbgrader": {
     "cell_type": "code",
     "checksum": "6ff2602cbcd1d006158e5fb77a017dba",
     "grade": true,
     "grade_id": "cell-4646e09e5363d0a4",
     "locked": false,
     "points": 4,
     "schema_version": 3,
     "solution": true,
     "task": false
    }
   },
   "outputs": [],
   "source": [
    "# Initialize the plot window\n",
    "plt.figure()\n",
    "\n",
    "# Calculate and plot x**(3) & x**(1/3) as a function of x on the same graph, and annotate using label/legend\n",
    "# Your code here \n"
   ]
  },
  {
   "cell_type": "markdown",
   "metadata": {
    "deletable": false,
    "editable": false,
    "nbgrader": {
     "cell_type": "markdown",
     "checksum": "aa92395a793c97cf0f1ff755e9497338",
     "grade": false,
     "grade_id": "cell-694ab1ef0834f60e",
     "locked": true,
     "schema_version": 3,
     "solution": false,
     "task": false
    }
   },
   "source": [
    "### Numerical derivatives\n",
    "The cell below shows how to calculate a *numerical* derivative. This uses Numpy's \"diff\" function, which takes differences between numbers in a list. "
   ]
  },
  {
   "cell_type": "code",
   "execution_count": null,
   "metadata": {
    "deletable": false,
    "editable": false,
    "nbgrader": {
     "cell_type": "code",
     "checksum": "2f37ad5d34b36d0e735e8b2a3c019b29",
     "grade": false,
     "grade_id": "cell-5cebd9262611fc60",
     "locked": true,
     "schema_version": 3,
     "solution": false,
     "task": false
    }
   },
   "outputs": [],
   "source": [
    "# Print out some lengths of these arrays\n",
    "f = xsquared\n",
    "print('the length of x is ', np.size(x))\n",
    "print('the length of f(x) is ', np.size(f))\n",
    "\n",
    "# Find differences in x and f(x)\n",
    "dx = np.diff(x)\n",
    "df = np.diff(f)\n",
    "print('the length of dx is ', np.size(dx))\n",
    "print('the length of df is ', np.size(df))\n",
    "\n",
    "# Calculate the derivative\n",
    "dfdx = df/dx\n",
    "\n",
    "# Plot it\n",
    "plt.figure()\n",
    "plt.plot(x[1:],dfdx)\n",
    "plt.xlabel('x')\n",
    "plt.ylabel('df/dx')\n",
    "plt.grid(True)"
   ]
  },
  {
   "cell_type": "markdown",
   "metadata": {
    "deletable": false,
    "editable": false,
    "nbgrader": {
     "cell_type": "markdown",
     "checksum": "3f2af734f0dfdfbd3ccbc691842ed36f",
     "grade": false,
     "grade_id": "cell-4a1419d377f80642",
     "locked": true,
     "schema_version": 3,
     "solution": false,
     "task": false
    }
   },
   "source": [
    "### Pause for analysis\n",
    "Study the results above for a moment, and think about the following.\n",
    "\n",
    "1. Does the function have the right shape? (What *is* the derivative of $x^2$ with respect to $x$?)\n",
    "1. Although x and f(x) each contain 200 numbers, dx, df, and dfdx contain only 199. That's because these are *differences* between successive values in those arrays. Numerical differentiation of arrays of numbers always produces new arrays that are \"one shorter.\"\n",
    "1. Because of this, when we go to plot the numerical version of $\\dfrac{df}{dx}$ as a function of $x$, we need to shorten $x$ by one. In the code here, we have chosen \"x[1:]\", which cuts out the first value of $x$ (the syntax \"x[:-1]\" would have cut out the last one)."
   ]
  },
  {
   "cell_type": "markdown",
   "metadata": {
    "deletable": false,
    "editable": false,
    "nbgrader": {
     "cell_type": "markdown",
     "checksum": "e1283340d5ad80e61445fe1ca92336b3",
     "grade": false,
     "grade_id": "cell-a3a28c6d990eda97",
     "locked": true,
     "schema_version": 3,
     "solution": false,
     "task": false
    }
   },
   "source": [
    "### Your turn\n",
    "In the cell below, use the same techniques to calculate sin(x), using the same x-array that we just used. (Numpy has a sin function, by the way: it's np.sin(...).)\n",
    "\n",
    "Next, calculate the numerical derivative of $f(x)=sin(x)$ as a function of x, using the techniques we just outlined. \n",
    "\n",
    "Next, plot the numerical derivative you just got, shortening your x-axis in two different ways:\n",
    "\n",
    "1. For one curve, skip the first value of x (i.e., \"x[1:]\")\n",
    "1. For the other curve, skip the last value of x (i.e., \"x[:-1]\")\n",
    "\n",
    "You should put both these on the same graph, annotating using the label/legend method."
   ]
  },
  {
   "cell_type": "code",
   "execution_count": null,
   "metadata": {
    "deletable": false,
    "nbgrader": {
     "cell_type": "code",
     "checksum": "bdb89728b2ac788a451286624288da97",
     "grade": true,
     "grade_id": "cell-92950e420fb992eb",
     "locked": false,
     "points": 4,
     "schema_version": 3,
     "solution": true,
     "task": false
    }
   },
   "outputs": [],
   "source": [
    "# Your code here \n"
   ]
  },
  {
   "cell_type": "markdown",
   "metadata": {
    "deletable": false,
    "editable": false,
    "nbgrader": {
     "cell_type": "markdown",
     "checksum": "18df9ccbd3ad05803b2a4e8ce7c05977",
     "grade": false,
     "grade_id": "cell-eeeff5df3419d2d7",
     "locked": true,
     "schema_version": 3,
     "solution": false,
     "task": false
    }
   },
   "source": [
    "### Pause for analysis\n",
    "Assuming your two curve match pretty well, in the cell below, predict  whether this agreement would be better, or worse, if you had used 1000 points in your array instead of the 200, and offer a rationale for your answer."
   ]
  },
  {
   "cell_type": "markdown",
   "metadata": {
    "deletable": false,
    "nbgrader": {
     "cell_type": "markdown",
     "checksum": "e93963f42c041eece7e28e826d43628d",
     "grade": true,
     "grade_id": "cell-e0eac3f10be9d78c",
     "locked": false,
     "points": 1,
     "schema_version": 3,
     "solution": true,
     "task": false
    }
   },
   "source": [
    "YOUR ANSWER HERE"
   ]
  },
  {
   "cell_type": "markdown",
   "metadata": {
    "deletable": false,
    "editable": false,
    "nbgrader": {
     "cell_type": "markdown",
     "checksum": "6f6a4e8432a44ce15fe4e80548eb249a",
     "grade": false,
     "grade_id": "cell-ac3a648a1fd01847",
     "locked": true,
     "schema_version": 3,
     "solution": false,
     "task": false
    }
   },
   "source": [
    "### Refresh/save/validate/close/submit/logout"
   ]
  }
 ],
 "metadata": {
  "colab": {
   "collapsed_sections": [],
   "name": "1.Introduction_to_python3.ipynb",
   "provenance": []
  },
  "kernelspec": {
   "display_name": "Python 3 (ipykernel)",
   "language": "python",
   "name": "python3"
  },
  "language_info": {
   "codemirror_mode": {
    "name": "ipython",
    "version": 3
   },
   "file_extension": ".py",
   "mimetype": "text/x-python",
   "name": "python",
   "nbconvert_exporter": "python",
   "pygments_lexer": "ipython3",
   "version": "3.10.2"
  }
 },
 "nbformat": 4,
 "nbformat_minor": 1
}

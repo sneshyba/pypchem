{
 "cells": [
  {
   "cell_type": "markdown",
   "metadata": {
    "deletable": false,
    "editable": false,
    "nbgrader": {
     "cell_type": "markdown",
     "checksum": "36582920be5f9d4a6593bdf45a3199fb",
     "grade": false,
     "grade_id": "cell-553df27f65f50066",
     "locked": true,
     "schema_version": 3,
     "solution": false,
     "task": false
    }
   },
   "source": [
    "### Computational Guided Inquiry for PChem (Neshyba & Guasco, 2024)\n",
    "\n",
    "# Visualizing Probability Densities\n",
    "\n",
    "## A mathematical formulation of probability densities\n",
    "A probability density function describes the relative likelihood of a continuous random variable having a given value. For example, The *Boltzmann probability density* of the velocity of a particle can be written as\n",
    "\n",
    "$$\n",
    "f_B(v_x) = N_Be^{-{ ( {\\frac{M}{2RT}}} ) {v_x^2}} \\ \\ \\ \\   (1)  \n",
    "$$\n",
    "\n",
    "where we have written it as a function of the *x-direction velocity component*, $v_x$ (the y- and z-forms look very similar). You can see that this function also depends on the temperature (*T*) and the molar mass of the molecule (*M*); we say $f_B$ is *parameterized* by these quantitites. The quantity $N_B$ in Eq. 1 is called a *normalization constant*, which also depends on these parameters,\n",
    "\n",
    "$$\n",
    "N_B = {\\big( {\\frac{M}{2 \\pi RT}} \\big)}^{1/2}  \\ \\ \\ \\ (2)\n",
    "$$\n",
    "\n",
    "Similarly, the *Maxwell probability density* is written\n",
    "\n",
    "$$\n",
    "f_M(v) = N_Mv^2e^{-{( \\frac{M}{2RT}} ) {v^2}} \\ \\ \\ \\ (3)\n",
    "$$\n",
    "\n",
    "where (unlike $f_B$) we have written it as a function of the *molecular speed*, $v$. The normalization constant for the Maxwell probability density is given by\n",
    "\n",
    "$$\n",
    "N_M = 4 \\pi \\big( {{\\frac{M}{2 \\pi RT}} \\big)}^{3/2} \\ \\ \\ \\ (4) \n",
    "$$\n",
    "\n",
    "## Visualizing probability densities as thermodynamic surfaces\n",
    "For a given molar mass, we can think of these functions as surfaces in two dimensions, (1) the velocity component or speed and (2) the temperature. A shorthand for these surfaces would be $f_B(T,v_x)$ or $f_M(T,v)$. What do such surfaces look like? One is shown in the figure below. Such figures are useful for developing an intuition about how molecules move; for example, it is evident from the figure that molecules exhibit a broader distribution of velocities at higher temperature.\n",
    "\n",
    "<p style='text-align: center;'>\n",
    "<img src=\"http://webspace.pugetsound.edu/facultypages/nesh/Notebook/fbsurface.png\" height=\"600\" width=\"600\"/>\n",
    "\n",
    "__Figure 1__. The Boltzmann probability density as a function of velocity and temperature.\n",
    "</p>\n",
    "\n",
    "## Units\n",
    "It may not be obvious from mathematical formulas above, but the fact is that the dimensions of $f_B$ have to be the *inverse* of $v_x$. Since we're using the SI unit system here, specifying $v_x$ in $m/s$ means $f_B$ has to have units $s/m$. Same for $v$ and $f_M$.\n",
    "\n",
    "## Learning Goals\n",
    "1. I can explain the difference between a velocity component ($v_x$, $v_y$, or $v_z$) and a speed ($v$), including the physically possible ranges of each.\n",
    "1. I can describe which probability density ($f_B$ or $f_M$) is appropriate for velocity component, and which is for speed.\n",
    "1. I can use Python to visualize $f_B(T,v_x)$ and $f_M(T,v)$ as two-dimensional surfaces; even if the x- and y-axes were not labeled, I could identify them from the shape of those surfaces."
   ]
  },
  {
   "cell_type": "code",
   "execution_count": null,
   "metadata": {
    "deletable": false,
    "editable": false,
    "nbgrader": {
     "cell_type": "code",
     "checksum": "1d447eaa83bb42350b73cc8d860116a3",
     "grade": false,
     "grade_id": "cell-2c03e73104c84bcd",
     "locked": true,
     "schema_version": 3,
     "solution": false,
     "task": false
    }
   },
   "outputs": [],
   "source": [
    "import numpy as np\n",
    "import matplotlib.pyplot as plt\n",
    "from pint import UnitRegistry; AssignQuantity = UnitRegistry().Quantity\n",
    "import sys; sys.path.append('/home'); import PchemLibrary as PL"
   ]
  },
  {
   "cell_type": "code",
   "execution_count": null,
   "metadata": {
    "deletable": false,
    "editable": false,
    "nbgrader": {
     "cell_type": "code",
     "checksum": "5f1359b2b89997ad05f6934a59876f3a",
     "grade": false,
     "grade_id": "cell-f752c8f88cfcb328",
     "locked": true,
     "schema_version": 3,
     "solution": false,
     "task": false
    }
   },
   "outputs": [],
   "source": [
    "%matplotlib notebook"
   ]
  },
  {
   "cell_type": "markdown",
   "metadata": {
    "deletable": false,
    "editable": false,
    "nbgrader": {
     "cell_type": "markdown",
     "checksum": "0b192721769528b923132a654c2bc21e",
     "grade": false,
     "grade_id": "cell-ff0fb05f18e364cb",
     "locked": true,
     "schema_version": 3,
     "solution": false,
     "task": false
    }
   },
   "source": [
    "### Assign the following values using AssignQuantity\n",
    "    \n",
    "    n should be 1 mole\n",
    "    R should be 8.314 J/(mol K)\n",
    "    M should be 0.028 kg/mol (The molar mass N2, in SI units)"
   ]
  },
  {
   "cell_type": "code",
   "execution_count": null,
   "metadata": {
    "deletable": false,
    "nbgrader": {
     "cell_type": "code",
     "checksum": "d682b2b6e81e96e5931d9226b5806565",
     "grade": true,
     "grade_id": "cell-3022971838347b3d",
     "locked": false,
     "points": 3,
     "schema_version": 3,
     "solution": true,
     "task": false
    }
   },
   "outputs": [],
   "source": [
    "# n\n",
    "# Your code here \n",
    "\n",
    "\n",
    "# R\n",
    "# Your code here \n",
    "\n",
    "\n",
    "# Mass of a mole of N2\n",
    "# Your code here \n"
   ]
  },
  {
   "cell_type": "markdown",
   "metadata": {
    "deletable": false,
    "editable": false,
    "nbgrader": {
     "cell_type": "markdown",
     "checksum": "cd43a6c5226ed488da1de5bb9243aee1",
     "grade": false,
     "grade_id": "cell-b2cd2a6df9658f29",
     "locked": true,
     "schema_version": 3,
     "solution": false,
     "task": false
    }
   },
   "source": [
    "### Calculating $f_B(T, v_x)$\n",
    "\n",
    "To calculate the Boltzmann probability density, we have to specify some parameters; the units are all SI."
   ]
  },
  {
   "cell_type": "code",
   "execution_count": null,
   "metadata": {
    "deletable": false,
    "editable": false,
    "nbgrader": {
     "cell_type": "code",
     "checksum": "df738c62260605a96af6e4d2e2311d6e",
     "grade": false,
     "grade_id": "cell-cc822cd6b148f3dd",
     "locked": true,
     "schema_version": 3,
     "solution": false,
     "task": false
    }
   },
   "outputs": [],
   "source": [
    "# Temperature\n",
    "T = AssignQuantity(298, \"K\")\n",
    "print(T)\n",
    "\n",
    "# Velocity component in the x-direction\n",
    "vx = AssignQuantity(500,\"m/s\")\n",
    "print(vx)\n",
    "\n",
    "# Here's the normalization constant\n",
    "NB = np.sqrt(M/(2*np.pi*R*T))\n",
    "print(NB)\n",
    "\n",
    "# Now the Boltzmann function, converted to s/m\n",
    "D = M/(2*R*T)\n",
    "fB = NB * np.exp(-D*vx**2)\n",
    "fB.ito(\"s/m\")\n",
    "print(fB)"
   ]
  },
  {
   "cell_type": "markdown",
   "metadata": {
    "deletable": false,
    "editable": false,
    "nbgrader": {
     "cell_type": "markdown",
     "checksum": "b1c99b47fe3413b7c327943db41498d0",
     "grade": false,
     "grade_id": "cell-3fd8a3b24ce48d31",
     "locked": true,
     "schema_version": 3,
     "solution": false,
     "task": false
    }
   },
   "source": [
    "### Your turn\n",
    "OK, do the same for $f_M(T,v)$. Differences will be: \n",
    "\n",
    "- Instead of a velocity component, we need a speed (\"v\") of $500 \\ {m\\over s}$. Do this using AssignQuantity.\n",
    "- There's a different normalization constant (see the introduction).\n",
    "- As with fB, convert fM to seconds/meter."
   ]
  },
  {
   "cell_type": "code",
   "execution_count": null,
   "metadata": {
    "deletable": false,
    "nbgrader": {
     "cell_type": "code",
     "checksum": "39bf632b1d8564bb6ad8d64877fd040f",
     "grade": true,
     "grade_id": "cell-e004a6799acc1659",
     "locked": false,
     "points": 4,
     "schema_version": 3,
     "solution": true,
     "task": false
    }
   },
   "outputs": [],
   "source": [
    "# Temperature\n",
    "# Your code here \n",
    "\n",
    "\n",
    "# Speed in the x-direction\n",
    "# Your code here \n",
    "\n",
    "\n",
    "# NM\n",
    "# Your code here \n",
    "\n",
    "\n",
    "# fM in s/m\n",
    "# Your code here \n"
   ]
  },
  {
   "cell_type": "markdown",
   "metadata": {
    "deletable": false,
    "editable": false,
    "nbgrader": {
     "cell_type": "markdown",
     "checksum": "4e21d6d879b4c2cd5608869be8ddcde6",
     "grade": false,
     "grade_id": "cell-2aabee36483de7c2",
     "locked": true,
     "schema_version": 3,
     "solution": false,
     "task": false
    }
   },
   "source": [
    "### Visualizing $f_B(T,v_x)$\n",
    "Our next objective is to get Python to display the probability density function $f_B(T,v_x)$. We've tried to keep the variable names as simple as possible, but just just to be clear, the variables TB, vx, D, NB, and fB created in this cell are all *grids*."
   ]
  },
  {
   "cell_type": "code",
   "execution_count": null,
   "metadata": {
    "deletable": false,
    "editable": false,
    "nbgrader": {
     "cell_type": "code",
     "checksum": "9c39514412a920c14bae8ff84853721d",
     "grade": false,
     "grade_id": "cell-aa79c55b2c1cd61d",
     "locked": true,
     "schema_version": 3,
     "solution": false,
     "task": false
    }
   },
   "outputs": [],
   "source": [
    "# Make the grids, with units\n",
    "TB,vx = PL.Statespace([50,500,40],[-2000,2000,60])\n",
    "TB = AssignQuantity(TB,\"K\")\n",
    "vx = AssignQuantity(vx,\"m/s\")\n",
    "\n",
    "# Calculate the normalization constant as a grid\n",
    "NB = np.sqrt(M/(2*np.pi*R*TB))\n",
    "\n",
    "# Calculate fB for this state space\n",
    "D = M/(2*R*TB)\n",
    "fB = NB * np.exp(-D*vx**2)\n",
    "fB.ito(1/vx.units)\n",
    "print(\"shape of fB:\",np.shape(fB))\n",
    "print(\"units of fB:\",fB.units)\n",
    "\n",
    "# Prep the axis labels\n",
    "llist = [\"T (\"+str(TB.units)+')',\"vx (\"+str(vx.units)+\")\",\"fB (\"+str(fB.units)+')']\n",
    "\n",
    "# Graph the fB surface\n",
    "PL.plot_surface1(TB, vx, fB, color='blue', title='fB(T,vx)',labellist=llist).show() # Make the mesh plot"
   ]
  },
  {
   "cell_type": "markdown",
   "metadata": {
    "deletable": false,
    "editable": false,
    "nbgrader": {
     "cell_type": "markdown",
     "checksum": "8e88eb1d99005625e0b72860a3c5c6c0",
     "grade": false,
     "grade_id": "cell-f0c5eb8817a71156",
     "locked": true,
     "schema_version": 3,
     "solution": false,
     "task": false
    }
   },
   "source": [
    "### Pause for analysis\n",
    "Take a moment to digest your results here. For example, if somebody had shown you this graph, but forgotten to label the x- and y-axes, would you be able to figure out which was the temperature axis, and which was $v_x$?"
   ]
  },
  {
   "cell_type": "markdown",
   "metadata": {
    "collapsed": true,
    "deletable": false,
    "editable": false,
    "nbgrader": {
     "cell_type": "markdown",
     "checksum": "de18e535ca2ae6c2bae37169c56018c7",
     "grade": false,
     "grade_id": "cell-eb3b0663dc1d51a1",
     "locked": true,
     "schema_version": 3,
     "solution": false,
     "task": false
    }
   },
   "source": [
    "### Your turn\n",
    "Now do something similar, but for $f_M(T,v)$. There will be some changes you'll need to pay attention to. For one, speeds are non-negative (you can't ride a bicycle at \"-10 mph\"). Because of this, your state space should specify speeds from 0 to 2000 m/s, something along the lines of the command\n",
    "\n",
    "    TM,v = PL.Statespace([50,500,40],[0,2000,70])\n",
    "\n",
    "with subsequent attachment of units, as usual. Another point to notice is that this command creates new state-space grids, with shapes (40, 70). Since DM, NM, and fM are all created using these grids, they would also have shapes of (40, 70)."
   ]
  },
  {
   "cell_type": "code",
   "execution_count": null,
   "metadata": {
    "deletable": false,
    "nbgrader": {
     "cell_type": "code",
     "checksum": "c3ce17003b835fb038eade2006e7fdc3",
     "grade": true,
     "grade_id": "cell-504f18d17ee06095",
     "locked": false,
     "points": 4,
     "schema_version": 3,
     "solution": true,
     "task": false
    }
   },
   "outputs": [],
   "source": [
    "# Make T and v as grids using PL.Statespace, with units\n",
    "# Your code here \n",
    "\n",
    "\n",
    "# Calculate the normalization constant\n",
    "# Your code here \n",
    "\n",
    "\n",
    "# Calculate fM for this state space\n",
    "# Your code here \n",
    "\n",
    "\n",
    "# Prep the axis labels\n",
    "llist = [\"T\",\"v\",\"fM\"]\n",
    "llist = [\"T (\"+str(TM.units)+')',\"v (\"+str(v.units)+\")\",\"fM (\"+str(fM.units)+')']\n",
    "\n",
    "# Graph the fM surface\n",
    "# Your code here \n"
   ]
  },
  {
   "cell_type": "markdown",
   "metadata": {
    "deletable": false,
    "editable": false,
    "nbgrader": {
     "cell_type": "markdown",
     "checksum": "5c0ad8e5c92fe8f0d2d7c4919a469dc7",
     "grade": false,
     "grade_id": "cell-edc01534e6cbc1a0",
     "locked": true,
     "schema_version": 3,
     "solution": false,
     "task": false
    }
   },
   "source": [
    "### Pause for analysis\n",
    "Similarly to before, take a moment to digest this image. What strikes you as being particularly different relative to $f_B(T,v_x)$? Would you know how to identify which was which if somebody showed you both surfaces?"
   ]
  },
  {
   "cell_type": "markdown",
   "metadata": {
    "deletable": false,
    "editable": false,
    "nbgrader": {
     "cell_type": "markdown",
     "checksum": "8353e372304137759d80e2c8ae666a00",
     "grade": false,
     "grade_id": "cell-0e913f039bc9b846",
     "locked": true,
     "schema_version": 3,
     "solution": false,
     "task": false
    }
   },
   "source": [
    "### Refresh/save/validate\n",
    "To double-check everything is OK, repeat the \"Three steps for refreshing and saving your code,\" and press the \"Validate\" button (as usual).\n",
    "\n",
    "### Close/submit/logout\n",
    "1. Close this notebook using the \"File/Close and Halt\" dropdown menu\n",
    "1. Using the Assignments tab, submit this notebook\n",
    "1. Press the Logout tab of the Home Page"
   ]
  }
 ],
 "metadata": {
  "kernelspec": {
   "display_name": "Python 3 (ipykernel)",
   "language": "python",
   "name": "python3"
  },
  "language_info": {
   "codemirror_mode": {
    "name": "ipython",
    "version": 3
   },
   "file_extension": ".py",
   "mimetype": "text/x-python",
   "name": "python",
   "nbconvert_exporter": "python",
   "pygments_lexer": "ipython3",
   "version": "3.10.2"
  }
 },
 "nbformat": 4,
 "nbformat_minor": 1
}

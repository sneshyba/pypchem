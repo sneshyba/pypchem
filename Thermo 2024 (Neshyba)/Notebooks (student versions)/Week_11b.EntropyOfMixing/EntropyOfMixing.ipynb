{
 "cells": [
  {
   "cell_type": "markdown",
   "metadata": {
    "deletable": false,
    "editable": false,
    "nbgrader": {
     "cell_type": "markdown",
     "checksum": "0aafa8fc6c4f4be455d185258cfae60a",
     "grade": false,
     "grade_id": "cell-702df8f53394fbe4",
     "locked": true,
     "schema_version": 3,
     "solution": false,
     "task": false
    }
   },
   "source": [
    "### Neshyba, 2024\n",
    "\n",
    "# Entropy of Mixing\n",
    "\n",
    "## Introduction\n",
    "The *nCV* (\"moles-concentration-volume\") equation is\n",
    "\n",
    "$$\n",
    "n = CV \\ \\ \\ \\ (1)\n",
    "$$\n",
    "\n",
    "The *dilution* equation is\n",
    "\n",
    "$$\n",
    "C_f/C_i = V_i/V_f \\ \\ \\ \\ (2)\n",
    "$$\n",
    "\n",
    "To estimate the entropy change associated with a dilution (assuming ideal solutions), you can use\n",
    "\n",
    "$$\n",
    "\\Delta S = -n_{tot}R \\times ln \\big({C_f \\over C_i}\\big) \\ \\ \\ \\ (3)\n",
    "$$\n",
    "\n",
    "The *E-ICE* (\"equal initial concentrations entropy\") equation for finding the entropy of mixing is\n",
    "\n",
    "$$\n",
    "\\Delta S = -n_{tot}R \\times [\\chi_A ln(\\chi_A) + \\chi_B ln(\\chi_B) + ...] \\ \\ \\ \\ (4)\n",
    "$$\n",
    "\n",
    "where the mole fractions are given by $\\chi_A={n_A \\over n_{tot}}$, etc.\n",
    "\n",
    "## Learning Goals\n",
    "1. Gain familiarity with how concentrations change with dilution.\n",
    "1. Gain familiarity with the entropy changes attending dilution and mixing of solutions."
   ]
  },
  {
   "cell_type": "code",
   "execution_count": null,
   "metadata": {
    "deletable": false,
    "editable": false,
    "nbgrader": {
     "cell_type": "code",
     "checksum": "60e9c3392bce9197fbb93fe77eb9c299",
     "grade": false,
     "grade_id": "cell-9d1207df8c39b9cf",
     "locked": true,
     "schema_version": 3,
     "solution": false,
     "task": false
    }
   },
   "outputs": [],
   "source": [
    "import pint; from pint import UnitRegistry; AssignQuantity = UnitRegistry().Quantity\n",
    "import warnings; warnings.filterwarnings(\"ignore\", \"The unit of the quantity is stripped when downcasting to ndarray\")\n",
    "import numpy as np\n",
    "import matplotlib.pyplot as plt\n",
    "from mpl_toolkits.mplot3d import axes3d"
   ]
  },
  {
   "cell_type": "code",
   "execution_count": null,
   "metadata": {
    "deletable": false,
    "editable": false,
    "nbgrader": {
     "cell_type": "code",
     "checksum": "51d7d96dbb104879d002b1656fb3830f",
     "grade": false,
     "grade_id": "cell-680f4374a0908d4e",
     "locked": true,
     "schema_version": 3,
     "solution": false,
     "task": false
    }
   },
   "outputs": [],
   "source": [
    "%matplotlib notebook"
   ]
  },
  {
   "cell_type": "code",
   "execution_count": null,
   "metadata": {
    "deletable": false,
    "editable": false,
    "nbgrader": {
     "cell_type": "code",
     "checksum": "f649afb4bb6c93554127383ff8387836",
     "grade": false,
     "grade_id": "cell-ea90352070a7a85f",
     "locked": true,
     "schema_version": 3,
     "solution": false,
     "task": false
    }
   },
   "outputs": [],
   "source": [
    "R = AssignQuantity(8.314,'J/mol/K')"
   ]
  },
  {
   "cell_type": "markdown",
   "metadata": {
    "deletable": false,
    "editable": false,
    "nbgrader": {
     "cell_type": "markdown",
     "checksum": "eebd09998cedb3f4134e9855eb1ada9e",
     "grade": false,
     "grade_id": "cell-044a9aab060fbfe3",
     "locked": true,
     "schema_version": 3,
     "solution": false,
     "task": false
    }
   },
   "source": [
    "### Finding moles of solute using the *nCV* equation\n",
    "Calculate the number of moles of solute in $20 \\ mL$ of a $0.5$ <u>M</u> solution."
   ]
  },
  {
   "cell_type": "code",
   "execution_count": null,
   "metadata": {
    "deletable": false,
    "nbgrader": {
     "cell_type": "code",
     "checksum": "8c3d4c593488e5edc3265659c00f5698",
     "grade": true,
     "grade_id": "cell-0dd3c1706b066aee",
     "locked": false,
     "points": 4,
     "schema_version": 3,
     "solution": true,
     "task": false
    }
   },
   "outputs": [],
   "source": [
    "# Your code here \n"
   ]
  },
  {
   "cell_type": "markdown",
   "metadata": {
    "deletable": false,
    "editable": false,
    "nbgrader": {
     "cell_type": "markdown",
     "checksum": "32ff41d71a7f3c56d81fb49b66400c2d",
     "grade": false,
     "grade_id": "cell-48d389d44a0ede3c",
     "locked": true,
     "schema_version": 3,
     "solution": false,
     "task": false
    }
   },
   "source": [
    "### Finding the entropy of dilution\n",
    "Calculate the solute concentration after $20 \\ mL$ of a $0.5$ <u>M</u> solution is diluted to $100 \\ mL$. Then calculate the entropy change associated with this dilution. Report your answer in *J/K*."
   ]
  },
  {
   "cell_type": "code",
   "execution_count": null,
   "metadata": {
    "deletable": false,
    "nbgrader": {
     "cell_type": "code",
     "checksum": "7d1d9765f30b9e02ab623731a51bd4f9",
     "grade": true,
     "grade_id": "cell-934c166da865493d",
     "locked": false,
     "points": 4,
     "schema_version": 3,
     "solution": true,
     "task": false
    }
   },
   "outputs": [],
   "source": [
    "# Your code here \n"
   ]
  },
  {
   "cell_type": "markdown",
   "metadata": {
    "deletable": false,
    "editable": false,
    "nbgrader": {
     "cell_type": "markdown",
     "checksum": "c74b35ade9d68feb30acbe96de2e7bbe",
     "grade": false,
     "grade_id": "cell-e8a16319f944a451",
     "locked": true,
     "schema_version": 3,
     "solution": false,
     "task": false
    }
   },
   "source": [
    "### Finding the entropy of mixing\n",
    "Use the *E-ICE* equation to calculate the entropy change when $10 \\ mL$ of 1 <u>M</u> A mixes with $20 \\ mL$ of 1 <u>M</u> B. Report your answer in *J/K*."
   ]
  },
  {
   "cell_type": "code",
   "execution_count": null,
   "metadata": {
    "deletable": false,
    "nbgrader": {
     "cell_type": "code",
     "checksum": "03b280839416c899b1cf5390f8e1a53d",
     "grade": true,
     "grade_id": "cell-0f82d907a183b455",
     "locked": false,
     "points": 6,
     "schema_version": 3,
     "solution": true,
     "task": false
    }
   },
   "outputs": [],
   "source": [
    "# Your code here \n"
   ]
  },
  {
   "cell_type": "markdown",
   "metadata": {
    "deletable": false,
    "editable": false,
    "nbgrader": {
     "cell_type": "markdown",
     "checksum": "13905268b84cc19fa6af73433efab6d1",
     "grade": false,
     "grade_id": "cell-a8b1ade9a26403e4",
     "locked": true,
     "schema_version": 3,
     "solution": false,
     "task": false
    }
   },
   "source": [
    "### Finding the entropy of mixing for a range of volume ratios\n",
    "Suppose a series$^*$ of mixtures is prepared from the following volumes of 1 <u>M</u> *A* and *B* solutions:\n",
    "\n",
    "$V_A$ ranging from $0.001$ to $1 \\ L$  \n",
    "$V_B$ ranging from $1$ to $0.001 \\ L$\n",
    "\n",
    "Using the E-ICE equation, calculate and plot the entropy of mixing associated with each combination, in *J/K*. "
   ]
  },
  {
   "cell_type": "code",
   "execution_count": null,
   "metadata": {
    "deletable": false,
    "nbgrader": {
     "cell_type": "code",
     "checksum": "edcf1d064da19be1e88fa0cd1f3688af",
     "grade": true,
     "grade_id": "cell-26565c488c2a713c",
     "locked": false,
     "points": 6,
     "schema_version": 3,
     "solution": true,
     "task": false
    }
   },
   "outputs": [],
   "source": [
    "# Your code here \n"
   ]
  },
  {
   "cell_type": "markdown",
   "metadata": {
    "deletable": false,
    "editable": false,
    "nbgrader": {
     "cell_type": "markdown",
     "checksum": "d6cff915d2889170ca1605f853ded6a6",
     "grade": false,
     "grade_id": "cell-5845831575a80b25",
     "locked": true,
     "schema_version": 3,
     "solution": false,
     "task": false
    }
   },
   "source": [
    "### Pause for analysis\n",
    "What's the maximum entropy of mixing? What proportions of reagents give rise to it?"
   ]
  },
  {
   "cell_type": "markdown",
   "metadata": {
    "deletable": false,
    "nbgrader": {
     "cell_type": "markdown",
     "checksum": "f8a222358601277bb9e310ab4aa9d751",
     "grade": true,
     "grade_id": "cell-c050f378cc5b8300",
     "locked": false,
     "points": 2,
     "schema_version": 3,
     "solution": true,
     "task": false
    }
   },
   "source": [
    "YOUR ANSWER HERE"
   ]
  },
  {
   "cell_type": "markdown",
   "metadata": {
    "deletable": false,
    "editable": false,
    "nbgrader": {
     "cell_type": "markdown",
     "checksum": "7a7cb06248a7e7a1867ed34044947e3f",
     "grade": false,
     "grade_id": "cell-15a43089c22aa5c5",
     "locked": true,
     "schema_version": 3,
     "solution": false,
     "task": false
    }
   },
   "source": [
    "### Refresh/save/validate/close/submit/logout"
   ]
  }
 ],
 "metadata": {
  "kernelspec": {
   "display_name": "Python 3 (ipykernel)",
   "language": "python",
   "name": "python3"
  },
  "language_info": {
   "codemirror_mode": {
    "name": "ipython",
    "version": 3
   },
   "file_extension": ".py",
   "mimetype": "text/x-python",
   "name": "python",
   "nbconvert_exporter": "python",
   "pygments_lexer": "ipython3",
   "version": "3.10.2"
  }
 },
 "nbformat": 4,
 "nbformat_minor": 2
}

{
 "cells": [
  {
   "cell_type": "markdown",
   "id": "d3717d1d",
   "metadata": {
    "deletable": false,
    "editable": false,
    "nbgrader": {
     "cell_type": "markdown",
     "checksum": "b9d342080851870c1ddd8c24693b46a6",
     "grade": false,
     "grade_id": "cell-d8a751cb879ecebb",
     "locked": true,
     "schema_version": 3,
     "solution": false,
     "task": false
    }
   },
   "source": [
    "### Neshyba & de Miguel, 2024\n",
    "\n",
    "# An Introduction to Statistical Mechanics\n",
    "\n",
    "## Introduction\n",
    "Statistical Mechanics is the name coined by Josiah Willard Gibbs back in 1884 to describe a set of methods people were inventing at the time, which were aimed at using *microscopic* properties of substances to explain their *macroscopic* properties (see https://en.wikipedia.org/wiki/Statistical_mechanics). Nowadays, those microscopic properties tend to be atomic-level properties that we can observe from spectroscopy experiments (like IR absorption experiments), or that we can predict from calculations (e.g., by solving Schrödinger's Equation). The macroscopic properties that StatMech tries to explain span a huge range of possibilities, including heat capacities, thermoconductivity -- any bulk property you can measure. \n",
    "\n",
    "To use StatMech for the application we are going to tackle here, we'll need to develop some foundational tools, starting with how molecules vibrate.\n",
    "\n",
    "## The frequency of molecular vibrations\n",
    "You may recall from your O-chem days that molecular vibrations can be separated into various vibrational \"modes.\" An example is shown in Fig. 1 -- this is called a \"scissor\" vibrational mode. Other modes involve stretching of bonds, others bending; in yet other cases, we can identify a kind of extended vibrational mode involving multiple molecules, vibrating synchronously with one another. (An extreme example of the latter occurs in crystals, in which case the vibrational modes are called *phonon modes* -- see https://en.wikipedia.org/wiki/Phonon). For our present purpose, the important thing is that each vibrational mode vibrates with a certain frequency, typically expressed in wavenumbers and given the symbol $\\overline \\nu$. A popular unit of $\\overline \\nu$ is $cm^{-1}$.\n",
    "\n",
    "<p style='text-align: center;'>\n",
    "<img src=\"http://webspace.pugetsound.edu/facultypages/nesh/Notebook/glycine in water, NH2 scissors.gif\" height=\"275\" width=\"275\"/>\n",
    "<strong>Figure 1</strong>. NH$_2$ scissors vibrational mode of aqueous glycine in which the water solvent is represented as a homogeneous dielectric medium, corresponding to a high-temperature limit. The frequency of this vibration is referred to in the text as $\\overline \\nu_{HT}$. \n",
    "</p>\n",
    "\n",
    "In some circumstances, the wavenumber of the motion shown in Fig. 1 is temperature-dependent. Crazy, yes. How could such a thing happen? One way is via mechanical coupling to solvent molecules, as shown in Fig. 2. The thinking goes like this: when the temperature is low, molecules are moving around slowly enough that the motion of some of the surrounding solvent molecules has become synchronized with the motion of the solute. Since this \"delocalization\" of motion is different from the motion of an isolated molecule, it's to be expected that $\\overline \\nu$ would be different.\n",
    "\n",
    "<p style='text-align: center;'>\n",
    "<img src=\"http://webspace.pugetsound.edu/facultypages/nesh/Notebook/glycine with 5 waters, NH2 scissors.gif\" height=\"400\" width=\"400\"/>\n",
    "<strong>Figure 2</strong>. NH$_2$ scissors motion of glycine in which the solute's vibrational motion is mechanically coupled to vibrations of nearby solvent molecules, corresponding to a low-temperature limit. The frequency of this vibration is referred to in the text as $\\overline \\nu_{LT}$. \n",
    "</p>\n",
    "\n",
    "Our first task is to determine values of the high-temperature wavenumber shown in Fig. 1, which we'll call $\\overline \\nu_{HT}$, and the low-temperature wavenumber shown in Fig. 2, which we'll call $\\overline \\nu_{LT}$. We'll do that with the help of an electronic structure package (e.g., Spartan$^{TM}$).\n",
    "\n",
    "## Thermophoresis\n",
    "*Thermophoresis* is a phenomenon first documented in the mid-1800s, but of considerable contemporary interest too. But what is it? As described in https://en.wikipedia.org/wiki/Thermophoresis,\n",
    "\n",
    "\"The phenomenon is observed at the scale of one millimeter or less. An example that may be observed by the naked eye with good lighting is when the hot rod of an electric heater is surrounded by tobacco smoke: the smoke goes away from the immediate vicinity of the hot rod. As the small particles of air nearest the hot rod are heated, they create a fast flow away from the rod, down the temperature gradient. They have acquired higher kinetic energy with their higher temperature. When they collide with the large, slower-moving particles of the tobacco smoke they push the latter away from the rod.\"\n",
    "\n",
    "The kind of thermophoresis just described is called *thermophobic*, because the smoke moves *away* from the warmth. There's also *thermophylic* thermophoresis, in which particles are drawn *toward* the warmer side. \n",
    "\n",
    "Here we'll consider the thermophoresis of solutes dissolved in a solvent that is sandwiched between two thermal reservoirs, as shown in Fig. 3.\n",
    "\n",
    "<p style='text-align: center;'>\n",
    "<img src=\"http://webspace.pugetsound.edu/facultypages/nesh/Notebook/Thermophoretic forces.jpg\" height=\"500\" width=\"500\"/>\n",
    "<strong>Figure 3</strong>. Effect of thermophoretic forces in a temperature gradient.\n",
    "</p>\n",
    "\n",
    "Here, we'll assume $T$ depends linearly on $x$,\n",
    "\n",
    "$$\n",
    "T(x) = T_{cold} + (T_{hot}-T_{cold}){x \\over L} \\ \\ \\ \\ (1)\n",
    "$$\n",
    "\n",
    "## Quantization of vibrational motion\n",
    "In Quantum Mechanics (and in real life), molecular vibrations exhibit a property called *energy quantization*, in which the amount of energy a given molecule can have is restricted to a set of discrete values. An example is shown in Fig. 4.\n",
    "\n",
    "<p style='text-align: center;'>\n",
    "<img src=\"http://webspace.pugetsound.edu/facultypages/nesh/Notebook/Vibrational Energy Levels.png\" height=\"400\" width=\"400\"/>\n",
    "<strong>Figure 4</strong>. Vibrational energy levels (from Al Shara et al, 2011, https://www.researchgate.net/publication/228531722_Solution_of_Time-Independent_Schrodinger_Equation_for_a_Two-Dimensional_Quantum_Harmonic_Oscillator_Using_He's_Homotopy_Perturbation_Method).\n",
    "</p>\n",
    "\n",
    "Figure 4 is typical for vibrational motion, in that the vibrational energy levels form a kind of ladder, in which the rungs of the ladder indicate energies of *vibrational states* of the vibration. The first rung of the ladder is called *ground vibrational state*, and is assigned a quantum number $n=0$. The next rung up is the *first excited vibrational state*, with $n=1$, and so on. It turns out that the gaps between successive energy levels (rungs on the ladder) are more or less constant for any given vibrational mode. What's more, that gap is found to be a function of the frequency of vibration we were just talking about: it's $\\hbar \\omega$, where $\\omega = 2 \\pi c \\overline \\nu$, and $\\hbar$ is called the *reduced Planck's constant*. Here, we'll be using a per-mole form of this gap by multipying by Avogadro's number:\n",
    "\n",
    "$$\n",
    "E_{gap} = N_A \\hbar \\omega  = N_A \\hbar 2 \\pi c \\overline \\nu \\ \\ \\ \\ (2)\n",
    "$$\n",
    "\n",
    "That means $E_n = E_o + \\Delta E_n$, where $n=0,1,2$ and so on. Because the energy gaps are all the same, we can write the energies above the ground state as \n",
    "\n",
    "$$\n",
    "\\Delta E_n = n E_{gap}  \\ \\ \\ \\ (3)\n",
    "$$\n",
    "\n",
    "## A new state space\n",
    "Because of the foregoing, it'll be convenient to define a state space consisting of one dimension ($x$) that says where the solute is in our thermophoresis experiment (Fig. 3), and another dimension ($n$) that says which vibrational quantum state the solute is in (Fig. 4). We'll call this our $(x,n)$ state space.\n",
    "\n",
    "\n",
    "## The Partition Function\n",
    "The overarching goal of this CGI is to predict whether the solute of interest -- such as the one shown in Figs. 1 and 2 -- is thermophobic or thermophylic. To do that, we're going need the apparatus of Statistical Mechanics. And at the very foundation of Statistical Mechanics is a quantity called the *partition function*, which we'll represent with the symbol $Z$. \n",
    "\n",
    "What's a partition function? It turns out that we can think of it as having two parts, $Z=Z' \\times exp\\bigl ({-E_o \\over RT} \\bigr )$, where $Z'$ (the *unscaled partition function*) has a convenient physical interpretation: it is the total number of quantum states available to a molecule at any given temperature. An example is shown in Fig. 5.\n",
    "\n",
    "<p style='text-align: center;'>\n",
    "<img src=\"http://webspace.pugetsound.edu/facultypages/nesh/Notebook/PartitionFunctionOfHO.png\" height=\"500\" width=\"500\"/>\n",
    "<strong>Figure 5</strong>. Unscaled ($Z'$) part of the partition function $Z$ for a vibrating molecule having an $E_{gap}=1 {kJ \\over mol}$.\n",
    "</p>\n",
    "\n",
    "Let's see if we can make sense of this figure. We'll start out with the idea that a molecule of interest is in its ground state (bottom rung of Fig. 4). Now another molecule hits it. Will that collision be able to bump our molecule up to the next rung up? We can make the following educated guesses:\n",
    "\n",
    "- The Equipartition Theorem tells us that, on average, intermolecular collisions have an energy of ${3 \\over 2}RT$. At low temperatures, ${3 \\over 2}RT << E_{gap}$, so intermolecular collisions would hardly ever have enough energy to bump molecules out of their ground vibrational state. So we expect $Z'\\approx 1$ at low temperature. That's what we see on the left-hand-size of Fig. 5: $Z'\\approx 1$.\n",
    "- As we raise the temperature, we'll eventually reach a point at which intermolecular collisions have enough energy to bump molecules out of the lowest-energy vibrational states, and into higher-energy states (remember, ${3 \\over 2}RT$ is an *average*, so some collisions will have more energy than that). With more states available to our molecule, $Z'$ should start to rise. In Fig. 5, we see this start to happen at around $25 K$ (but in other cases, it's higher, because $E_{gap}$ is bigger).\n",
    "\n",
    "It turns out that the quantitative formulation of $Z'$ is surprisingly simple. We start with\n",
    "\n",
    "$$\n",
    "Z'_n = e^{-\\Delta E_n / RT} \\ \\ \\ \\ (4)\n",
    "$$\n",
    "\n",
    "Then $Z'$ is the sum of $Z'_n$ over all the quantum states (rungs in the ladder) shown in Fig. 4:\n",
    "\n",
    "$$\n",
    "Z' = \\sum_{n} Z'_n \\ \\ \\ \\ (5)\n",
    "$$\n",
    "\n",
    "With these ingredients for making a vibrational partition function in hand, our next step is to show how it sheds light on thermophoresis. We'll tackle how to do that next.\n",
    "\n",
    "## Using the partition function to determine a solute's thermophoretic properties \n",
    "How does Statistical Mechanics help us determine whether our solute molecule is thermophobic or thermophylic (or some combination of these)? The route is through the relationship between $Z$ and the *free energy of solvation*, which we'll call $\\Delta U_{sol}$ from Thermodynamics. First we construct the actual partition function from the unscaled $Z'$ we mentioned above,\n",
    "\n",
    "$$\n",
    "Z = Z' \\times exp\\bigl ({-E_o \\over RT} \\bigr ) \\ \\ \\ \\ (6)\n",
    "$$\n",
    "\n",
    "where (according to Fig. 4) $E_o={E_{gap} \\over 2}$. From there we can compute \n",
    "\n",
    "$$\n",
    "\\Delta U_{sol} = \\bigl (RT^2 {d \\over dx} lnZ \\bigr ) \\times {dx \\over dT} \\ \\ \\ \\ (7)\n",
    "$$\n",
    "\n",
    "The idea is, if $\\Delta U_{sol}$ slopes down toward the cold temperature side (to the left in Fig. 3), then solute molecules trying to find their lowest energy will tend to move in that direction. That's *thermophobic* behavior! Alternatively, if $\\Delta U_{sol}$ slopes down toward the warm side, solute molecules will tend to move in *that* direction, so *thermophylic*! \n",
    "\n",
    "The equations presented so far provide all the formulas we need to calculate $U_{sol}(x)$, but there are two derivatives in Eq. 7 that we do have to evaluate, and those are worth talking about a bit:\n",
    "\n",
    "- ${dx \\over dT}$ obviously depends on particulars of the thermal gradient, Eq. 1. An easy way to find ${dx \\over dT}$ is to take the derivative ${dT \\over dx}$, and invert it.\n",
    "- ${d \\over dx} lnZ$ can be got analytically, but it's easier to do so numerically. That can be accomplished with a Numpy function called called np.gradient (an example is given in the code below).\n",
    "\n",
    "\n",
    "## Idea of this CGI\n",
    "The idea of this CGI is to use Statistical Mechanics to predict the thermophoretic properties of a solute. There are Spartan and Python components:\n",
    "\n",
    "1. In Spartan, you'll construct a solute molecule containing an amine group, and find the frequency of its scissors vibration assuming water as a solvent. You'll do that first with an \"implicit\" solvent as shown in Fig. 1, representing high-temperature vibrations; that'll get you $\\overline \\nu _{HT}$. Then you'll set up another Spartan run,  with explicit representation of the solvent as shown in Fig. 2, representing low-temperature vibrations; that'll get you $\\overline \\nu _{LT}$. \n",
    "1. In Python, you'll construct a $(x,n)$ state space, and compute vibrational wavenumbers on that state space in a way that transitions smoothly between $\\overline \\nu _{LT}$ and $\\overline \\nu _{HT}$. Then you'll find the partition function of your solute over a range of temperatures corresponding to the hot and cold temperatures shown in Fig. 3. From the partition function you'll find $\\Delta U_{sol}$ across that same span of temperatures, and therefore be able to make a prediction about thermophoresis. \n",
    "\n",
    "\n",
    "## Learning goals\n",
    "1. I can explain what thermophoresis is.\n",
    "1. I can compute the energies, partition functions, and internal energy of vibrational motion. \n",
    "1. I can use the shape of $\\Delta U_{sol}(T)$ to predict whether a solute will exibit thermophobic or thermophylic thermophoresis."
   ]
  },
  {
   "cell_type": "code",
   "execution_count": null,
   "id": "05e2526d",
   "metadata": {
    "deletable": false,
    "editable": false,
    "nbgrader": {
     "cell_type": "code",
     "checksum": "e8cddb1d8fbc68a8ecf94aaccbe37391",
     "grade": false,
     "grade_id": "cell-f3608ae232613b5f",
     "locked": true,
     "schema_version": 3,
     "solution": false,
     "task": false
    }
   },
   "outputs": [],
   "source": [
    "import pint; from pint import UnitRegistry; AssignQuantity = UnitRegistry().Quantity\n",
    "import warnings; warnings.filterwarnings(\"ignore\", \"The unit of the quantity is stripped when downcasting to ndarray\")\n",
    "import numpy as np\n",
    "import sys; sys.path.append('/home'); import PchemLibrary as PL\n",
    "import matplotlib.pyplot as plt"
   ]
  },
  {
   "cell_type": "code",
   "execution_count": null,
   "id": "20982bb9",
   "metadata": {},
   "outputs": [],
   "source": [
    "%matplotlib notebook"
   ]
  },
  {
   "cell_type": "code",
   "execution_count": null,
   "id": "08803b02",
   "metadata": {
    "deletable": false,
    "editable": false,
    "nbgrader": {
     "cell_type": "code",
     "checksum": "7af5edffb813adb510eea4b520100a76",
     "grade": false,
     "grade_id": "cell-21797e2d5977d7bb",
     "locked": true,
     "schema_version": 3,
     "solution": false,
     "task": false
    }
   },
   "outputs": [],
   "source": [
    "# Constants\n",
    "hbar = AssignQuantity(1,'atomic_unit_of_time * hartree')\n",
    "R = AssignQuantity(8.314e-3,'kjoule/mol/K')\n",
    "NA = AssignQuantity(6.02e23,'1/mol')\n",
    "c = AssignQuantity(3.0e8,'m/s')"
   ]
  },
  {
   "cell_type": "markdown",
   "id": "f09a99a8",
   "metadata": {
    "deletable": false,
    "editable": false,
    "nbgrader": {
     "cell_type": "markdown",
     "checksum": "1101df04b94a312668030f7d21b23ef3",
     "grade": false,
     "grade_id": "cell-b1c11108805550e0",
     "locked": true,
     "schema_version": 3,
     "solution": false,
     "task": false
    }
   },
   "source": [
    "### Specifying our system's state space\n",
    "In the cell below, we create an $(x,n)$ state space consisting of 101 distances ($x$) spanning 0 to 1 mm, and 11 dimensionless vibrational quantum numbers ($n$) spanning 0 to 10. "
   ]
  },
  {
   "cell_type": "code",
   "execution_count": null,
   "id": "010f7570",
   "metadata": {},
   "outputs": [],
   "source": [
    "# This defines the state space\n",
    "L = AssignQuantity(1,'mm')\n",
    "nmax = 10\n",
    "xgrid,ngrid = PL.Statespace([0,L,200],[0,nmax,nmax+1])\n",
    "xgrid = AssignQuantity(xgrid,L.units)\n",
    "ngrid = AssignQuantity(ngrid,'dimensionless')\n",
    "print(xgrid.units)\n",
    "print(ngrid.units)\n",
    "\n",
    "# This will be handy later on\n",
    "xarray = xgrid[:,0]"
   ]
  },
  {
   "cell_type": "markdown",
   "id": "e15b5e11",
   "metadata": {
    "deletable": false,
    "editable": false,
    "nbgrader": {
     "cell_type": "markdown",
     "checksum": "4f43ef699f429f7a01ab0c3782bbc5e7",
     "grade": false,
     "grade_id": "cell-97e30d16f12f1710",
     "locked": true,
     "schema_version": 3,
     "solution": false,
     "task": false
    }
   },
   "source": [
    "### Visualizing $T(x)$\n",
    "In the cell below, use Eq. 1 to calculate Tgrid as a function of xgrid. Then we use PL.plot_surface to visualize it in our $(x,n)$ state space."
   ]
  },
  {
   "cell_type": "code",
   "execution_count": null,
   "id": "2e2a7789",
   "metadata": {},
   "outputs": [],
   "source": [
    "# The temperature range\n",
    "T_cold = AssignQuantity(273,'K')\n",
    "T_hot = AssignQuantity(350,'K')\n",
    "\n",
    "# Calculate Tgrid as a function of xgrid\n",
    "Tgrid = T_cold + (T_hot-T_cold)*xgrid/L\n",
    "ax = PL.plot_surface(xgrid,ngrid,Tgrid)\n",
    "\n",
    "# Annotating\n",
    "ax.set_xlabel('x ('+str(xgrid.units)+')')\n",
    "ax.set_ylabel('n')\n",
    "ax.set_zlabel('Temperature '+str(Tgrid.units))\n",
    "\n",
    "# This will be handy later on\n",
    "Tarray = Tgrid[:,0]"
   ]
  },
  {
   "cell_type": "markdown",
   "id": "753faadf",
   "metadata": {
    "deletable": false,
    "editable": false,
    "nbgrader": {
     "cell_type": "markdown",
     "checksum": "4af217e3ba864246b9d37c5f7a1c582a",
     "grade": false,
     "grade_id": "cell-65e4666acaf296f9",
     "locked": true,
     "schema_version": 3,
     "solution": false,
     "task": false
    }
   },
   "source": [
    "### Visualizing $\\overline \\nu(x,n)$\n",
    "In the cell below, assign values for the low- and high-temperature wavenumbers you got from Spartan. \n",
    "\n",
    "Below that (done for you) we use a specially-prepared sigmoid function to construct $\\overline \\nu (x,n)$ in our $(x,n)$ state space, and PL.plot_surface to visualize it. "
   ]
  },
  {
   "cell_type": "code",
   "execution_count": null,
   "id": "68163271",
   "metadata": {
    "deletable": false,
    "nbgrader": {
     "cell_type": "code",
     "checksum": "7505d434c9596dd5a506db723c2e7840",
     "grade": true,
     "grade_id": "cell-035dd3acda7066f8",
     "locked": false,
     "points": 4,
     "schema_version": 3,
     "solution": true,
     "task": false
    }
   },
   "outputs": [],
   "source": [
    "# Specify nubar_LT and nubar_HT\n",
    "# Your code here \n",
    "\n",
    "\n",
    "# Use a specially-prepared sigmoid function to generate a surface of nubar values\n",
    "nubar = PL.f_sigmoid(nubar_LT, nubar_HT, Tgrid, AssignQuantity)\n",
    "\n",
    "# Plot nubar(x,n)\n",
    "ax = PL.plot_surface(xgrid,ngrid,nubar)\n",
    "ax.set_xlabel(\"x (\"+str(xgrid.units)+\")\")\n",
    "ax.set_ylabel(\"n\")\n",
    "ax.set_zlabel('nubar '+str(nubar.units))"
   ]
  },
  {
   "cell_type": "markdown",
   "id": "2487057a",
   "metadata": {
    "deletable": false,
    "editable": false,
    "nbgrader": {
     "cell_type": "markdown",
     "checksum": "e0baa3d3325023a454dc7d662e55c3a3",
     "grade": false,
     "grade_id": "cell-b6afeb49dd8c9019",
     "locked": true,
     "schema_version": 3,
     "solution": false,
     "task": false
    }
   },
   "source": [
    "### Visualizing $E_{gap}(x,n)$\n",
    "In the cell below, use Eq. 2 to calculate $E_{gap}$ in our $(x,n)$ state space, and PL.plot_surface to visualize it."
   ]
  },
  {
   "cell_type": "code",
   "execution_count": null,
   "id": "8016b9b9",
   "metadata": {
    "deletable": false,
    "nbgrader": {
     "cell_type": "code",
     "checksum": "809649ccf7321482b2999b33fcb8f080",
     "grade": true,
     "grade_id": "cell-19b63e52a78c9669",
     "locked": false,
     "points": 4,
     "schema_version": 3,
     "solution": true,
     "task": false
    }
   },
   "outputs": [],
   "source": [
    "# Your code here \n"
   ]
  },
  {
   "cell_type": "markdown",
   "id": "0d5190ed",
   "metadata": {
    "deletable": false,
    "editable": false,
    "nbgrader": {
     "cell_type": "markdown",
     "checksum": "3390764ba8be5e196b46f783d0518f9f",
     "grade": false,
     "grade_id": "cell-43e6b28dc815c6b0",
     "locked": true,
     "schema_version": 3,
     "solution": false,
     "task": false
    }
   },
   "source": [
    "### Pause for analysis\n",
    "The gaps shown in this figure represent the energy needed to bump a molecule from its ground vibrational state ($n=0$ in Fig. 4) to its first excited vibrational state ($n=1$). Is that gap bigger, or smaller than the  energy available in a typical thermal collision at room temperature (${3\\over 2} RT$)? \n",
    "\n",
    "The reason this is important is, if ${3\\over 2} RT$ is about the same magnitude as $E_{gap}$, we can expect that lots of molecules will be in an excited vibrational state, and therefore, $Z'_n>>1$. Alternatively, if ${3\\over 2} RT$ is a lot smaller than $E_{gap}$, we can expect that hardly any molecules will be in an excited vibrational state, and therefore $Z'_n\\approx 1$.\n",
    "\n",
    "Which of these two possibilities do you think is more likely?"
   ]
  },
  {
   "cell_type": "markdown",
   "id": "b5d31bb6",
   "metadata": {
    "deletable": false,
    "nbgrader": {
     "cell_type": "markdown",
     "checksum": "23348a7d67911cb557f454700bd77a2e",
     "grade": true,
     "grade_id": "cell-4d292444299efdcb",
     "locked": false,
     "points": 2,
     "schema_version": 3,
     "solution": true,
     "task": false
    }
   },
   "source": [
    "YOUR ANSWER HERE"
   ]
  },
  {
   "cell_type": "markdown",
   "id": "1da11fc4",
   "metadata": {
    "deletable": false,
    "editable": false,
    "nbgrader": {
     "cell_type": "markdown",
     "checksum": "0fe0fb9614fe31d89f7f05ecc3b92120",
     "grade": false,
     "grade_id": "cell-a9ccf1d29d3179ff",
     "locked": true,
     "schema_version": 3,
     "solution": false,
     "task": false
    }
   },
   "source": [
    "### Visualizing $\\Delta E_n(x,n)$\n",
    "In the cell below, your task is to use Eq. 3 to construct $\\Delta E_n$ in our $(x,n)$ state space. Then use PL.plot_surface to visualize it ."
   ]
  },
  {
   "cell_type": "code",
   "execution_count": null,
   "id": "2686b34c",
   "metadata": {
    "deletable": false,
    "nbgrader": {
     "cell_type": "code",
     "checksum": "c96066814171d351b1f1d2fe5337fc11",
     "grade": true,
     "grade_id": "cell-39654bc278dac63e",
     "locked": false,
     "points": 4,
     "schema_version": 3,
     "solution": true,
     "task": false
    }
   },
   "outputs": [],
   "source": [
    "# Your code here \n"
   ]
  },
  {
   "cell_type": "markdown",
   "id": "9e769d3a",
   "metadata": {
    "deletable": false,
    "editable": false,
    "nbgrader": {
     "cell_type": "markdown",
     "checksum": "9989ef2816ef394c092c721701baddeb",
     "grade": false,
     "grade_id": "cell-065aac144b15241b",
     "locked": true,
     "schema_version": 3,
     "solution": false,
     "task": false
    }
   },
   "source": [
    "### Visualizing $Z'_n$ \n",
    "In the cell below, your task is to use Eq. 4 to construct $Z'_n$ (call it \"Zprime_n\") in our $(x,n)$ state space. Then use PL.plot_surface to visualize it ."
   ]
  },
  {
   "cell_type": "code",
   "execution_count": null,
   "id": "e1260ab0",
   "metadata": {
    "deletable": false,
    "nbgrader": {
     "cell_type": "code",
     "checksum": "3209cbd20a44c43891f72266a250e875",
     "grade": true,
     "grade_id": "cell-fec0238a367bac14",
     "locked": false,
     "points": 4,
     "schema_version": 3,
     "solution": true,
     "task": false
    }
   },
   "outputs": [],
   "source": [
    "# Your code here \n"
   ]
  },
  {
   "cell_type": "markdown",
   "id": "ada3d2aa",
   "metadata": {
    "deletable": false,
    "editable": false,
    "nbgrader": {
     "cell_type": "markdown",
     "checksum": "1b519e457329bfbcca8100bee7b0495c",
     "grade": false,
     "grade_id": "cell-f89de3922402c917",
     "locked": true,
     "schema_version": 3,
     "solution": false,
     "task": false
    }
   },
   "source": [
    "### Visualizing $Z'(x)$\n",
    "In the cell below, your task is to use Eq. 5 to construct $Z'(x)$ by carrying out the summation shown in that equation. How do you do that? For a 2-dimensional array like $Z_n$, summation over the first index is accomplished by\n",
    "\n",
    "    Zprime_array = np.sum(Zprime_n,axis=0)\n",
    "\n",
    "Summation over the second index is accomplished by \n",
    "\n",
    "    Zprime_array = np.sum(Zprime_n,axis=1)\n",
    "    \n",
    "Since we want to sum over $n$-values, the second of these is the way to go. \n",
    "\n",
    "Because Zprime_array is just a function of $x$ (not $n$), we plot it as a function of xarray."
   ]
  },
  {
   "cell_type": "code",
   "execution_count": null,
   "id": "de0f8f82",
   "metadata": {
    "deletable": false,
    "nbgrader": {
     "cell_type": "code",
     "checksum": "f0d5569122c98bd0a1b435296f7ef4f5",
     "grade": true,
     "grade_id": "cell-3769cf00013c8364",
     "locked": false,
     "points": 2,
     "schema_version": 3,
     "solution": true,
     "task": false
    }
   },
   "outputs": [],
   "source": [
    "# Your code here \n",
    "\n",
    "\n",
    "# Visualizing Zarray\n",
    "plt.figure()\n",
    "plt.plot(xarray,Zprime_array)\n",
    "plt.xlabel(\"x (\" +str(xarray.units)+\")\")\n",
    "plt.ylabel(\"Z' (\"+str(Zprime_array.units)+\")\")\n",
    "plt.grid(True)\n",
    "plt.ylim(1-.0001,1.0015)"
   ]
  },
  {
   "cell_type": "markdown",
   "id": "8b57f28c",
   "metadata": {
    "deletable": false,
    "editable": false,
    "nbgrader": {
     "cell_type": "markdown",
     "checksum": "ee6a3f0a22cfebeeadf83e4aaeae6efc",
     "grade": false,
     "grade_id": "cell-ede45e92fce94fc7",
     "locked": true,
     "schema_version": 3,
     "solution": false,
     "task": false
    }
   },
   "source": [
    "### Pause for analysis\n",
    "You'll probably notice that $Z(x)$ hardly budges from 1. What's the physical reason behind that? *Hint: it has to do with ${3 \\over 2}RT$*."
   ]
  },
  {
   "cell_type": "markdown",
   "id": "71d97a46",
   "metadata": {
    "deletable": false,
    "nbgrader": {
     "cell_type": "markdown",
     "checksum": "a40376dd4c36f1748f1df7f617a822ff",
     "grade": true,
     "grade_id": "cell-b2f7342c5162e704",
     "locked": false,
     "points": 2,
     "schema_version": 3,
     "solution": true,
     "task": false
    }
   },
   "source": [
    "YOUR ANSWER HERE"
   ]
  },
  {
   "cell_type": "markdown",
   "id": "dc74d94b",
   "metadata": {
    "deletable": false,
    "editable": false,
    "nbgrader": {
     "cell_type": "markdown",
     "checksum": "c78ede87b36e089d7141cccb4528ef39",
     "grade": false,
     "grade_id": "cell-66c9cf7c122edf00",
     "locked": true,
     "schema_version": 3,
     "solution": false,
     "task": false
    }
   },
   "source": [
    "### Visualizing $\\Delta U_{sol}(x)$\n",
    "The cell below has you take the last few steps to getting to our goal. The first step, $E_o=E_{gap}/2$, is done for you. After that:\n",
    "\n",
    "- Calculate $Z(x)$ using Eq. 6\n",
    "- Calculate $\\Delta U_{sol}(x)$ using Eq. 7\n",
    "\n",
    "For the calculation of $\\Delta U_{sol}(x)$, you'll need to take some derivatives. As mentioned in the Introduction, $dx/dT$ can be got analytically, but for ${d \\over dx} lnZ$, it's convenient to use a numerical method. Something like\n",
    "\n",
    "    dlogZarray_dx = np.gradient(logZ_array,dx,edge_order=2)\n",
    "\n",
    "will do the trick.\n",
    "\n",
    "In the end, we need a graph of $\\Delta U_{sol}$ as a function of $x$."
   ]
  },
  {
   "cell_type": "code",
   "execution_count": null,
   "id": "ba444a48",
   "metadata": {
    "deletable": false,
    "nbgrader": {
     "cell_type": "code",
     "checksum": "85da58615b4c8522bd1018c051383f59",
     "grade": true,
     "grade_id": "cell-02fd5cce41faca7c",
     "locked": false,
     "points": 10,
     "schema_version": 3,
     "solution": true,
     "task": false
    }
   },
   "outputs": [],
   "source": [
    "# Getting the ground-state vibrational energies across x\n",
    "E0 = Egap[:,0]/2\n",
    "\n",
    "# Getting Z(x) and U(x)\n",
    "# Your code here \n"
   ]
  },
  {
   "cell_type": "markdown",
   "id": "03f29dc4",
   "metadata": {
    "deletable": false,
    "editable": false,
    "nbgrader": {
     "cell_type": "markdown",
     "checksum": "e557bedcff0c31a4169f87c0902e8f09",
     "grade": false,
     "grade_id": "cell-bfd02eb35921e98a",
     "locked": true,
     "schema_version": 3,
     "solution": false,
     "task": false
    }
   },
   "source": [
    "### Pause for analysis\n",
    "After studying the picture of $\\Delta U_{sol}$ displayed above, what's your conclusion? Is your solute thermophylic or thermophobic? Or a little bit of both? How do you come to that conclusion?"
   ]
  },
  {
   "cell_type": "markdown",
   "id": "201ef944",
   "metadata": {
    "deletable": false,
    "nbgrader": {
     "cell_type": "markdown",
     "checksum": "9a8b03dcfe4159f8afec2c062ba57111",
     "grade": true,
     "grade_id": "cell-23314b656b63cb90",
     "locked": false,
     "points": 2,
     "schema_version": 3,
     "solution": true,
     "task": false
    }
   },
   "source": [
    "YOUR ANSWER HERE"
   ]
  },
  {
   "cell_type": "markdown",
   "id": "0e51d46e",
   "metadata": {
    "deletable": false,
    "editable": false,
    "nbgrader": {
     "cell_type": "markdown",
     "checksum": "6ec8eb7b20a181c9c4574ae1761d6eb4",
     "grade": false,
     "grade_id": "cell-989978c963aa7a6f",
     "locked": true,
     "schema_version": 3,
     "solution": false,
     "task": false
    }
   },
   "source": [
    "### Refresh/save/validate/close/submit/logout"
   ]
  }
 ],
 "metadata": {
  "kernelspec": {
   "display_name": "Python 3 (ipykernel)",
   "language": "python",
   "name": "python3"
  },
  "language_info": {
   "codemirror_mode": {
    "name": "ipython",
    "version": 3
   },
   "file_extension": ".py",
   "mimetype": "text/x-python",
   "name": "python",
   "nbconvert_exporter": "python",
   "pygments_lexer": "ipython3",
   "version": "3.10.2"
  }
 },
 "nbformat": 4,
 "nbformat_minor": 5
}

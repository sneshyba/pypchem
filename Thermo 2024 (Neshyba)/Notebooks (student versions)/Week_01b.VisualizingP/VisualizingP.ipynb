{
 "cells": [
  {
   "cell_type": "markdown",
   "metadata": {
    "deletable": false,
    "editable": false,
    "nbgrader": {
     "cell_type": "markdown",
     "checksum": "5886f06c4f5f68d4822cc83038f48dce",
     "grade": false,
     "grade_id": "cell-c6b4f998c04935d3",
     "locked": true,
     "schema_version": 3,
     "solution": false,
     "task": false
    }
   },
   "source": [
    "### Computational Guided Inquiry for PChem (Neshyba, 2024)\n",
    "\n",
    "\n",
    "# Visualizing $P(T,V)$\n",
    "\n",
    "\n",
    "## Maxwell's thermodynamic surface\n",
    "A fundamental idea of thermodynamics is the notion of _thermodynamic surfaces_. James Clerk Maxwell famously made three plaster models of a thermodynamic surface, and gave one as a present to Gibbs, shown below.\n",
    "\n",
    "<p style='text-align: center;'>\n",
    "<img src=\"https://upload.wikimedia.org/wikipedia/commons/2/27/Maxwell%27s_thermodynamic_surface%2C_commentary_book_figures_1%2C2.jpg\" height=\"500\" width=\"500\"/>\n",
    "    \n",
    "__Figure 1__. Thermodynamic surface of the energy of an idealized water-like substance constructed by James Clerk Maxwell as a gift to Josiah Willard Gibbs$^1$. \n",
    "</p>\n",
    "\n",
    "These models depict the energy of an idealized, water-like substance as a function of its volume and entropy. We'll return to the idea behind entropy later, for now the important point is that _all_ substances (real or idealized) are characterized by thermodynamic surfaces like these -- and they're really useful. \n",
    "\n",
    "Some nomenclature will help keep these ideas in mind. When we're looking at surfaces like these, the \"height\" is called the *state function*, and the \"ground\" is called the _state space_. Also, our symbol for energy is $U$, for volume $V$, and for entropy $S$. A compact description of this would be $U(V,S)$.\n",
    "\n",
    "## Grids in Python\n",
    "To get to where we need to get, we'll have to introduce the idea of a *grid*. You can think of a grid as a bunch of arrays stacked up parallel to each other. The state space variables in the figure above (the volume and the entropy) would both be represented as grids; so would the state function (the energy). Below, you'll get some practice at this. \n",
    "\n",
    "\n",
    "## Other thermodynamic surfaces\n",
    "In fact, there are lots of thermodynamic surfaces that arise in thermodynamics. You've probably already encountered two important ones, both symbolized as $P(T,V)$. One is given by the ideal gas law,\n",
    "\n",
    "$$\n",
    "P(T,V) = \\dfrac{n R T}{V} \\ \\ \\ \\ (1)\n",
    "$$\n",
    "\n",
    "and the other is given by vdw, \n",
    "\n",
    "$$\n",
    "P(T,V) = {{n R T} \\over {V - nb}} - {{n^2 a} \\over V^2}  \\ \\ \\ (2)\n",
    "$$\n",
    "\n",
    "Here, the state function is $P$, and the state space is ($T,V$).\n",
    "\n",
    "So what does $P(T,V)$ look like according to Eqs. 1 and 2? If you had some plaster, you could make them, like Maxwell did. Or, you could use a computer to generate them. That's what this CGI is all about.\n",
    "\n",
    "## The Boyle temperature\n",
    "Turns out, it's pretty typical that the pressure predicted by the ideal gas law is often a little too *high* at low temperatures, and a little too *low* at high temperatures. The switch-over temperature has a name: it's called the *Boyle temperature*. If we treat a van der Waals gas as our approximation to a real gas, it turns out that we can predict the Boyle temperature quite easily: it's \n",
    "\n",
    "$$\n",
    "T_{Boyle} \\approx {a \\over {Rb}} \\ \\ \\ (3)\n",
    "$$\n",
    "\n",
    "## String manipulation\n",
    "In Python, strings are a way to represent text. They come in handy when we need to label the axes of plots. Here, we'll get some practice at that.\n",
    "\n",
    "## Learning goals\n",
    "The main learning goals of this exercise can be phrased follows. \n",
    "1. I have a basic understanding of string manipulation in Python (e.g., how to convert numbers into strings, and how join strings together).\n",
    "1. I can explain what a *state space* is, and I can create grids of state space variables of a desired range and number of elements.\n",
    "1. I can use Python to visualize simple gas equations of state (like the ideal gas or a van der Waals gas) as a thermodynamic surface.\n",
    "1. I know where, in state $T,V$ state space, ideal behavior deviates most from a \"real\" gas (treating van der Waals gas as real).\n",
    "1. I can explain what the Boyle temperature of a gas means.\n",
    "1. I can predict the Boyle temperature of a gas from its van der Waals parameters.\n",
    "\n",
    "## References\n",
    "(1) Willard Gibbs: American Genius (1942), by Muriel Rukeyser.  "
   ]
  },
  {
   "cell_type": "code",
   "execution_count": null,
   "metadata": {
    "deletable": false,
    "editable": false,
    "nbgrader": {
     "cell_type": "code",
     "checksum": "198972212d750b46ba9d1e94ff365555",
     "grade": false,
     "grade_id": "cell-3d4d6f85372af024",
     "locked": true,
     "schema_version": 3,
     "solution": false,
     "task": false
    }
   },
   "outputs": [],
   "source": [
    "from pint import UnitRegistry; AssignQuantity = UnitRegistry().Quantity\n",
    "import numpy as np\n",
    "import sys; sys.path.append('/home'); import PchemLibrary as PL"
   ]
  },
  {
   "cell_type": "code",
   "execution_count": null,
   "metadata": {
    "deletable": false,
    "editable": false,
    "nbgrader": {
     "cell_type": "code",
     "checksum": "3b3a729109b8b02c6090482a44442381",
     "grade": false,
     "grade_id": "cell-7f5819b9ff04e277",
     "locked": true,
     "schema_version": 3,
     "solution": false,
     "task": false
    }
   },
   "outputs": [],
   "source": [
    "%matplotlib notebook"
   ]
  },
  {
   "cell_type": "markdown",
   "metadata": {
    "deletable": false,
    "editable": false,
    "nbgrader": {
     "cell_type": "markdown",
     "checksum": "e285ce44f6b5598d0d6c62aec5b589ef",
     "grade": false,
     "grade_id": "cell-78d996cd1571724a",
     "locked": true,
     "schema_version": 3,
     "solution": false,
     "task": false
    }
   },
   "source": [
    "###  Constants for our pressure calculation\n",
    "We'll be working in the L-atm unit system for this exercise. The cell below assigns a value for one parameter that we'll be holding constant (the number of moles of gas), and one parameter that really *is* a constant ($R$, the universal gas constant). The cell also shows you how to use pint's *AssignQuantity* function to make these assignments. "
   ]
  },
  {
   "cell_type": "code",
   "execution_count": null,
   "metadata": {
    "deletable": false,
    "editable": false,
    "nbgrader": {
     "cell_type": "code",
     "checksum": "c947aeeceb929f39eb00919832f3e5d0",
     "grade": false,
     "grade_id": "cell-97cf79fa93a9ea41",
     "locked": true,
     "schema_version": 3,
     "solution": false,
     "task": false
    }
   },
   "outputs": [],
   "source": [
    "# Moles, and the gas constant\n",
    "n = AssignQuantity(1,\"mol\"); print(n)\n",
    "R = AssignQuantity(0.082057,\"L atm /(mol K)\"); print(R)"
   ]
  },
  {
   "cell_type": "markdown",
   "metadata": {
    "deletable": false,
    "editable": false,
    "nbgrader": {
     "cell_type": "markdown",
     "checksum": "24c3b2c1a093d1dc73b9099a93314274",
     "grade": false,
     "grade_id": "cell-a71236231ba03545",
     "locked": true,
     "schema_version": 3,
     "solution": false,
     "task": false
    }
   },
   "source": [
    "### String manipulations\n",
    "The code below does some string manipulation. Try it!"
   ]
  },
  {
   "cell_type": "code",
   "execution_count": null,
   "metadata": {
    "deletable": false,
    "editable": false,
    "nbgrader": {
     "cell_type": "code",
     "checksum": "c254ced36585b0fc241b4cbb280f2d2a",
     "grade": false,
     "grade_id": "cell-101a7065bdaac102",
     "locked": true,
     "schema_version": 3,
     "solution": false,
     "task": false
    }
   },
   "outputs": [],
   "source": [
    "# Join two strings\n",
    "string1 = \"Hello \"\n",
    "string2 = \"World!\"\n",
    "label = string1+string2\n",
    "print(label)\n",
    "\n",
    "# Join a string with a number\n",
    "string1 = \"speed of light = \"\n",
    "string2 = str(3e8)\n",
    "label = string1+string2\n",
    "print(label)\n",
    "\n",
    "# Join a string with units\n",
    "string1 = \"The units of n are \"\n",
    "string2 = str(n.units)\n",
    "label = string1+string2\n",
    "print(label)"
   ]
  },
  {
   "cell_type": "markdown",
   "metadata": {
    "deletable": false,
    "editable": false,
    "nbgrader": {
     "cell_type": "markdown",
     "checksum": "69b0bcf0dc8718b69c474fa8fb1eb92e",
     "grade": false,
     "grade_id": "cell-9f1f682ed16099ad",
     "locked": true,
     "schema_version": 3,
     "solution": false,
     "task": false
    }
   },
   "source": [
    "### Your turn\n",
    "Create a label from the units of R, something like \"The units of R are \", joined with the units of R, doing something like this:\n",
    "\n",
    "    string1 = \"The units of R are \"\n",
    "    string2 = str(R.units)"
   ]
  },
  {
   "cell_type": "code",
   "execution_count": null,
   "metadata": {
    "deletable": false,
    "nbgrader": {
     "cell_type": "code",
     "checksum": "b83f0d2607ce1901a8aa3d3f78318981",
     "grade": true,
     "grade_id": "cell-4cabe4766374a858",
     "locked": false,
     "points": 3,
     "schema_version": 3,
     "solution": true,
     "task": false
    }
   },
   "outputs": [],
   "source": [
    "# Make string1\n",
    "# Your code here \n",
    "\n",
    "\n",
    "# Make string2\n",
    "# Your code here \n",
    "\n",
    "\n",
    "# Join them and print the result\n",
    "# Your code here \n"
   ]
  },
  {
   "cell_type": "markdown",
   "metadata": {
    "deletable": false,
    "editable": false,
    "nbgrader": {
     "cell_type": "markdown",
     "checksum": "9a90617e1b75de668df4159b20b68026",
     "grade": false,
     "grade_id": "cell-202750a46d267d54",
     "locked": true,
     "schema_version": 3,
     "solution": false,
     "task": false
    }
   },
   "source": [
    "### Creating state spaces using a Pchem function\n",
    "Python functions are procedures or algorithms that you might want to use multiple times. Python has a lot of built-in functions that are widely used -- like the exponent function, for example. In Pchem, however, you'll see that we often have our own particular needs that aren't met by any built-in function. \n",
    "\n",
    "Fortunately, Python has a way to create our own, tailor-made functions! They're stored in a library that was imported at the start of this notebook, called PchemLibrary.py; the way they are imported is such that that we can use them by prefixing \"PL.\" to the function name. \n",
    "\n",
    "The cell below uses one such function, called PL.Statespace, to create state space variables called xgrid and ygrid; subsequent command lines attach units to them. Execute the cell to see how this works!"
   ]
  },
  {
   "cell_type": "code",
   "execution_count": null,
   "metadata": {
    "deletable": false,
    "editable": false,
    "nbgrader": {
     "cell_type": "code",
     "checksum": "c5a04443efd9d7c1b774321a6c1bd2ea",
     "grade": false,
     "grade_id": "cell-9ee487e6f5f7cdac",
     "locked": true,
     "schema_version": 3,
     "solution": false,
     "task": false
    }
   },
   "outputs": [],
   "source": [
    "# This creates two numerical grids\n",
    "xgrid,ygrid = PL.Statespace([2,4,3],[5,8,4])\n",
    "\n",
    "# This attaches units\n",
    "xgrid = AssignQuantity(xgrid,\"meter\")\n",
    "ygrid = AssignQuantity(ygrid,\"meter\")\n",
    "\n",
    "# Checking out the results\n",
    "print('The shape of xgrid is ', np.shape(xgrid))\n",
    "print('The shape of ygrid is ', np.shape(ygrid))\n",
    "print('The contents of xgrid are ', xgrid)\n",
    "print('The contents of ygrid are ', ygrid)"
   ]
  },
  {
   "cell_type": "markdown",
   "metadata": {
    "deletable": false,
    "editable": false,
    "nbgrader": {
     "cell_type": "markdown",
     "checksum": "a8477485a57120a94b8f8d8b42a63c6c",
     "grade": false,
     "grade_id": "cell-69a2971fb998e738",
     "locked": true,
     "schema_version": 3,
     "solution": false,
     "task": false
    }
   },
   "source": [
    "### Pause for Analysis\n",
    "If you look at these results a bit, you'll notice that the values [2,4,3] in the call to PL.Statespace resulted in grids with three distinct values of \"x\", running from 2 to 4. The values [5,8,4] in the call to PL.Statespace resulted in grids with four distinct values of \"y\", running from 5 to 8. It's important to understand this pattern when we go to making state-space grids with a lot more points in them."
   ]
  },
  {
   "cell_type": "markdown",
   "metadata": {
    "deletable": false,
    "editable": false,
    "nbgrader": {
     "cell_type": "markdown",
     "checksum": "fe2f20e6f971021e0e9b7c22fa2495df",
     "grade": false,
     "grade_id": "cell-b76fdf4259681731",
     "locked": true,
     "schema_version": 3,
     "solution": false,
     "task": false
    }
   },
   "source": [
    "### Your turn\n",
    "Here you'll practice your state-space-making skills. We want variable \"Tgrid\", having 51 distinct temperatures running from 200 to 400 K, and variable \"Vgrid\", having 42 distinct volumes running from 1 to 42 L. After making them, it's advisable to print these variables, using something like\n",
    "\n",
    "    print(Tgrid)\n",
    "    print(Vgrid)\n",
    "\n",
    "to make sure you've made the right things."
   ]
  },
  {
   "cell_type": "code",
   "execution_count": null,
   "metadata": {
    "deletable": false,
    "nbgrader": {
     "cell_type": "code",
     "checksum": "9b51ca793c8c0bec2ed3295742d24804",
     "grade": true,
     "grade_id": "cell-bd71ce390b1aeb4a",
     "locked": false,
     "points": 3,
     "schema_version": 3,
     "solution": true,
     "task": false
    }
   },
   "outputs": [],
   "source": [
    "# Your code here \n"
   ]
  },
  {
   "cell_type": "markdown",
   "metadata": {
    "deletable": false,
    "editable": false,
    "nbgrader": {
     "cell_type": "markdown",
     "checksum": "246a1662fd72139b7aa8494a11fcf02a",
     "grade": false,
     "grade_id": "cell-6fcda122c6b9fa08",
     "locked": true,
     "schema_version": 3,
     "solution": false,
     "task": false
    }
   },
   "source": [
    "### Visualizing the ideal gas equation of state as a thermodynamic surface\n",
    "In the cell below, we do two things: \n",
    "\n",
    "1. We calculate the pressure of an ideal gas at every point in our $T,V$ state space. Mathematically, we could call this $P_{ideal}(T,V)$.\n",
    "1. We use another PchemLibrary function -- PL.plot_surface -- to visualize $P_{ideal}(T,V)$. PL.plot_surface also accepts a list of three strings to display as axis labels (one for each Cartesian dimension)."
   ]
  },
  {
   "cell_type": "code",
   "execution_count": null,
   "metadata": {
    "deletable": false,
    "editable": false,
    "nbgrader": {
     "cell_type": "code",
     "checksum": "8951fb5efce2a740ca03798738b2c61b",
     "grade": false,
     "grade_id": "cell-6de4db34594d6350",
     "locked": true,
     "schema_version": 3,
     "solution": false,
     "task": false
    }
   },
   "outputs": [],
   "source": [
    "# Get the pressure of an ideal gas\n",
    "Pgrid_ideal = n*R*Tgrid/Vgrid\n",
    "print(\"The units of pressure are \"+str(Pgrid_ideal.units))\n",
    "print('The shape of Pgrid_ideal is ', np.shape(Pgrid_ideal))\n",
    "\n",
    "# Prepping the axis labels\n",
    "xlabel = \"T \"+str(Tgrid.units)\n",
    "ylabel = \"V \"+str(Vgrid.units) \n",
    "zlabel = \"P \"+str(Pgrid_ideal.units)\n",
    "llist = [xlabel, ylabel, zlabel]\n",
    "\n",
    "# Graph the pressure\n",
    "PL.plot_surface1(Tgrid, Vgrid, Pgrid_ideal, color='purple',title='ideal gas',labellist=llist).show()"
   ]
  },
  {
   "cell_type": "markdown",
   "metadata": {
    "deletable": false,
    "editable": false,
    "nbgrader": {
     "cell_type": "markdown",
     "checksum": "61633b6d40472a0c283942cf1a1517a7",
     "grade": false,
     "grade_id": "cell-a3f36728e4d75aee",
     "locked": true,
     "schema_version": 3,
     "solution": false,
     "task": false
    }
   },
   "source": [
    "### Your turn - vdw\n",
    "Using the same state space, make a new gridded variable Pgrid_vdw, for Argon gas (you can use the same source for vdw constants as we did before, https://en.wikipedia.org/wiki/Van_der_Waals_constants_(data_page)). Don't forget to specify the units of vdw parameters $a$ and $b$. Also, make some reasonable labels for your axes."
   ]
  },
  {
   "cell_type": "code",
   "execution_count": null,
   "metadata": {
    "deletable": false,
    "nbgrader": {
     "cell_type": "code",
     "checksum": "c092c9e81de413c84b7b0dbde6fe3a1d",
     "grade": true,
     "grade_id": "cell-6f94d41ed66e8fe",
     "locked": false,
     "points": 5,
     "schema_version": 3,
     "solution": true,
     "task": false
    }
   },
   "outputs": [],
   "source": [
    "# Assign a and b values (with units) for Argon gas\n",
    "# Your code here \n",
    "\n",
    "\n",
    "# Calculate the van der Waals pressure as a state function on the same temperature-volume state space\n",
    "# Your code here \n",
    "\n",
    "\n",
    "# Graph the van der Waals pressure on the temperature-volume state space\n",
    "# Your code here \n"
   ]
  },
  {
   "cell_type": "markdown",
   "metadata": {
    "deletable": false,
    "editable": false,
    "nbgrader": {
     "cell_type": "markdown",
     "checksum": "e7b7907e991573dd34df6a9a58a4fe12",
     "grade": false,
     "grade_id": "cell-9d097c889be3c6c7",
     "locked": true,
     "schema_version": 3,
     "solution": false,
     "task": false
    }
   },
   "source": [
    "### Your challenge: Inspecting the deviation from ideal\n",
    "In the cell below, calculate a new thermodynamic surface as the *difference* between the vdw and the ideal surfaces. You can use a command like this:\n",
    "\n",
    "    Pgrid_diff = Pgrid_ideal - Pgrid_vdw\n",
    "    \n",
    "Then display *that* surface in a temperature-volume state space. Add appropriate labeling, etc."
   ]
  },
  {
   "cell_type": "code",
   "execution_count": null,
   "metadata": {
    "deletable": false,
    "nbgrader": {
     "cell_type": "code",
     "checksum": "dc3ebce7eb84d3730ea4af15b1821eb7",
     "grade": true,
     "grade_id": "cell-c62d8ec7050a1d8f",
     "locked": false,
     "points": 3,
     "schema_version": 3,
     "solution": true,
     "task": false
    }
   },
   "outputs": [],
   "source": [
    "# Your code here \n"
   ]
  },
  {
   "cell_type": "markdown",
   "metadata": {
    "deletable": false,
    "editable": false,
    "nbgrader": {
     "cell_type": "markdown",
     "checksum": "42cbdd4be47cc346b2584e18c6a103fa",
     "grade": false,
     "grade_id": "cell-7463ac494e8f4e74",
     "locked": true,
     "schema_version": 3,
     "solution": false,
     "task": false
    }
   },
   "source": [
    "### Calculating the Boyle temperature\n",
    "Use Eq. 3 in the Introduction to predict the Boyle temperature of your van der Waals gas, and print your result\n",
    "\n",
    "    print(\"Predicted Boyle Temperature\", TBoyle)\n",
    "    \n",
    "Since this result is probably not going to be in a unit you recognize, make a persistent conversion, as in\n",
    "\n",
    "    TBoyle.ito('K')\n",
    "    print(\"Predicted Boyle Temperature\", TBoyle)"
   ]
  },
  {
   "cell_type": "code",
   "execution_count": null,
   "metadata": {
    "deletable": false,
    "nbgrader": {
     "cell_type": "code",
     "checksum": "100e6f64ad4c1834f295e1a58edd225e",
     "grade": true,
     "grade_id": "cell-cd35cfcc7dfe6655",
     "locked": false,
     "points": 2,
     "schema_version": 3,
     "solution": true,
     "task": false
    }
   },
   "outputs": [],
   "source": [
    "# Your code here \n"
   ]
  },
  {
   "cell_type": "markdown",
   "metadata": {
    "deletable": false,
    "editable": false,
    "nbgrader": {
     "cell_type": "markdown",
     "checksum": "7731c08ca08c855294a1bd4b64647a02",
     "grade": false,
     "grade_id": "cell-e81ec1c2f5b4a78d",
     "locked": true,
     "schema_version": 3,
     "solution": false,
     "task": false
    }
   },
   "source": [
    "### Pause for Analysis\n",
    "In the space below, comment on how close the Boyle temperature you just calculated (using Eq. 3) seems to come to switch-over temperature suggested by the thermodynamic surface Pgrid_diff. "
   ]
  },
  {
   "cell_type": "markdown",
   "metadata": {
    "deletable": false,
    "nbgrader": {
     "cell_type": "markdown",
     "checksum": "5caa62bac82be2cfbcb015449b591ec0",
     "grade": true,
     "grade_id": "cell-b10cc32a7e93ffed",
     "locked": false,
     "points": 1,
     "schema_version": 3,
     "solution": true,
     "task": false
    }
   },
   "source": [
    "YOUR ANSWER HERE"
   ]
  },
  {
   "cell_type": "markdown",
   "metadata": {
    "deletable": false,
    "editable": false,
    "nbgrader": {
     "cell_type": "markdown",
     "checksum": "0871e6d5a753f0f0a82b5342b41e2b42",
     "grade": false,
     "grade_id": "cell-5e1fb8b44f70c7cd",
     "locked": true,
     "schema_version": 3,
     "solution": false,
     "task": false
    }
   },
   "source": [
    "### Validating\n",
    "This step will help ensure that you didn't miss something (although it's not a guarantee). Find the \"Validate\" button and press it. If there are any errors or warnings, fix them.\n",
    "\n",
    "### Three steps for finishing up\n",
    "Assuming all has gone smoothly, carry out these remaining three steps (but read this carefully before carrying them out, since you won't have this to look at after step #1):\n",
    "1. Close this notebook using the \"File/Close and Halt\" dropdown menu\n",
    "1. Using the Assignments tab, submit this notebook\n",
    "1. Press the Logout tab of the Home Page"
   ]
  }
 ],
 "metadata": {
  "kernelspec": {
   "display_name": "Python 3 (ipykernel)",
   "language": "python",
   "name": "python3"
  },
  "language_info": {
   "codemirror_mode": {
    "name": "ipython",
    "version": 3
   },
   "file_extension": ".py",
   "mimetype": "text/x-python",
   "name": "python",
   "nbconvert_exporter": "python",
   "pygments_lexer": "ipython3",
   "version": "3.10.2"
  }
 },
 "nbformat": 4,
 "nbformat_minor": 1
}

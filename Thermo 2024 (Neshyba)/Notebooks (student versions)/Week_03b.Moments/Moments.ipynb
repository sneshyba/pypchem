{
 "cells": [
  {
   "cell_type": "markdown",
   "metadata": {
    "deletable": false,
    "editable": false,
    "nbgrader": {
     "cell_type": "markdown",
     "checksum": "7f5f1317aa827d5230acfa000fcde53d",
     "grade": false,
     "grade_id": "cell-b265cf7c2409072c",
     "locked": true,
     "schema_version": 3,
     "solution": false,
     "task": false
    }
   },
   "source": [
    "### Computational Guided Inquiry for PChem (Neshyba, 2024)\n",
    "\n",
    "# Moments of probability densities\n",
    "\n",
    "## Introduction\n",
    "\n",
    "An important quantitative use of probability densities is to calculate averages -- like a molecule's average speed, for example, or its average kinetic energy. To get to that idea, we're first going to explore a necessary precondition, namely, that probability densities have to be *normalized*.\n",
    "\n",
    "## The idea of normalization\n",
    "Normalization means the area under a probability density isotherm equals one. For the Boltzmann probability density we'd express this as property as\n",
    "\n",
    "$$ \n",
    "\\int\\limits_{-\\infty}^{\\infty} f_B(T,v_x) \\ dv_x = 1 \\ \\ \\ \\ (1) \n",
    "$$\n",
    "\n",
    "while for the Maxwell probability density we'd write\n",
    "\n",
    "$$ \n",
    "\\int\\limits_0^{\\infty} f_M(T,v) \\ dv = 1 \\ \\ \\ \\ (2) \n",
    "$$\n",
    "\n",
    "## Getting moments from probability densities\n",
    "*Moments* in thermodynamics are denoted using the notation $\\langle ...\\rangle$. For example, the first moment of the speed is given by\n",
    "\n",
    "$$ \n",
    "\\langle v \\rangle = \\int\\limits_0^{\\infty} f_M(T,v) \\ v \\ dv  \\ \\ \\ \\ (3) \n",
    "$$\n",
    "\n",
    "Generalizing this idea, we could write\n",
    "\n",
    "$$ \n",
    "\\langle v^n \\rangle = \\int\\limits_0^{\\infty} f_M(T,v) \\ v^n \\ dv \\ \\ \\ \\ (4) \n",
    "$$\n",
    "\n",
    "where obviously $n=1$ gives the first moment of the speed.\n",
    "\n",
    "These moments can be evaluated analytically, which means a closed-form expression is available. There are integral tables for that. But you can also evaluate them numerically -- which is nice because doing so can provide a check on your skill at using an integral table. The trapezoidal rule works very nicely for this purpose too (see, e.g., https://en.wikipedia.org/wiki/Trapezoidal_rule). In this CGI, we're going to focus on numerical integration; we'll take an analytical approach later.\n",
    "\n",
    "## Getting averages from moments\n",
    "These moments have different dimensions, and therefore different units: the units of $\\langle v \\rangle$ in SI would be $m/s$, whereas $\\langle v^2 \\rangle$ would be $m^2/s^2$. That makes it difficult to compare them to one another. To get around that, we can raise the moments to  appropriate exponents (like 1, 1/2, 1/3, etc.). When we do that, we also assign special names to the results:\n",
    "\n",
    "- The first moment of the speed raised to the power \"1\" is just the *average speed*. We symbolize it as $\\bar c$,\n",
    "\n",
    "$$\n",
    "\\bar c = \\langle v \\rangle \\ \\ \\ \\ (5)\n",
    "$$ \n",
    "\n",
    "- The second moment of the speed raised to the power \"1/2\" is the *root mean square* speed. We symbolize it as $c$,\n",
    "\n",
    "$$\n",
    "c = \\langle v^2 \\rangle ^\\frac{1}{2} \\ \\ \\ \\ (6)\n",
    "$$ \n",
    "\n",
    "- The third moment of the speed raised to the power \"1/3\" is the *cubed-root-mean-cubed speed*. We symbolize it as $\\tilde c$,\n",
    "\n",
    "$$\n",
    "\\tilde c = \\langle v^3 \\rangle ^\\frac{1}{3} \\ \\ \\ \\ (7)\n",
    "$$\n",
    "\n",
    "## Analytical expressions for moments of the Maxwell density\n",
    "It's possible to derive *analytical* expressions for the preceding moments. For example,\n",
    "\n",
    "$$\n",
    "\\bar c = \\bigl( \\frac{8RT}{\\pi M} \\bigr)^{1/2} \\ \\ \\ \\ (8)\n",
    "$$ \n",
    "\n",
    "and\n",
    "\n",
    "$$ \n",
    "c = \\bigl( \\frac{3RT}{M} \\bigr)^{1/2} \\ \\ \\ \\ (9)\n",
    "$$ \n",
    "\n",
    "You'll use these expressions in the last part of this exercise to compare to your numerical results.\n",
    "\n",
    "## The kinetic energy connection\n",
    "Averages like those described here are useful in various ways. One that we'll explore here is the connection to kinetic energy of molecules -- which, as you might imagine, is based on the idea the kinetic energy of something (like a molecule) moving in the $x$-direction equals ${1 \\over 2} m v_x^2$. More math to follow.\n",
    "\n",
    "\n",
    "## The idea of metadata\n",
    "The idea behind *Metadata* often needs a little explanation. For example, you might be supplied with a grid of speeds, but in what units? The datasets we used in a previous CGI (fB.txt, fM.txt, etc.) have simple metadata attached. Here, we extract that metadata from those files by means of some Linux (operating system) commands. \n",
    "\n",
    "## Learning Goals\n",
    "1. I can explain what it means to say that a probability density should be *normalized*, and how to test whether a given function really is normalized.\n",
    "1. I can write integral formulas for moments of the speed (and velocity components).\n",
    "1. I can describe how the trapezoidal rule works.\n",
    "1. I can numerically evaluate integrals describing moments (using np.trapz), and can describe what it means to verify whether such integrations are converged.\n",
    "1. I am familiar with deriving and evaluating analytical expressions for $\\bar c$, $c$, $\\tilde c$, and $\\langle \\epsilon \\rangle$."
   ]
  },
  {
   "cell_type": "code",
   "execution_count": null,
   "metadata": {
    "deletable": false,
    "editable": false,
    "nbgrader": {
     "cell_type": "code",
     "checksum": "ef3c0112748bb3c7031dab4f509f976b",
     "grade": false,
     "grade_id": "cell-09c40c13a8e8d8b8",
     "locked": true,
     "schema_version": 3,
     "solution": false,
     "task": false
    }
   },
   "outputs": [],
   "source": [
    "import numpy as np\n",
    "import matplotlib.pyplot as plt\n",
    "from pint import UnitRegistry; AssignQuantity = UnitRegistry().Quantity\n",
    "import warnings; warnings.filterwarnings(\"ignore\", \"The unit of the quantity is stripped when downcasting to ndarray\")\n",
    "import sys; sys.path.append('/home'); import PchemLibrary as PL"
   ]
  },
  {
   "cell_type": "code",
   "execution_count": null,
   "metadata": {
    "deletable": false,
    "editable": false,
    "nbgrader": {
     "cell_type": "code",
     "checksum": "2abe41bfcb482495e466951909592b90",
     "grade": false,
     "grade_id": "cell-95856d3deba1cea1",
     "locked": true,
     "schema_version": 3,
     "solution": false,
     "task": false
    }
   },
   "outputs": [],
   "source": [
    "%matplotlib notebook"
   ]
  },
  {
   "cell_type": "markdown",
   "metadata": {
    "deletable": false,
    "editable": false,
    "nbgrader": {
     "cell_type": "markdown",
     "checksum": "71ec904246eec625b2082e91cca7774e",
     "grade": false,
     "grade_id": "cell-b6f6928a489be2a6",
     "locked": true,
     "schema_version": 3,
     "solution": false,
     "task": false
    }
   },
   "source": [
    "### Checking out the metadata\n",
    "The code below executes a Linux command -- i.e., an operating system command -- that reads metadata from two of the files we created in a previous exercise. You're prompted to duplicate it for other gridded variables from that exercise."
   ]
  },
  {
   "cell_type": "code",
   "execution_count": null,
   "metadata": {
    "deletable": false,
    "nbgrader": {
     "cell_type": "code",
     "checksum": "a8844efa25643285fa53d8afbe7ef364",
     "grade": true,
     "grade_id": "cell-373dad70eaa5ccc1",
     "locked": false,
     "points": 4,
     "schema_version": 3,
     "solution": true,
     "task": false
    }
   },
   "outputs": [],
   "source": [
    "# Extract metadata for the velocity component\n",
    "%cat 'vx.txt' | grep \"#\"\n",
    "\n",
    "# Do the same for TB and fB\n",
    "# Your code here \n",
    "\n",
    "\n",
    "# Extract metadata for the speed\n",
    "%cat 'v.txt' | grep \"#\"\n",
    "\n",
    "# Do the same for TM and fM\n",
    "# Your code here \n"
   ]
  },
  {
   "cell_type": "markdown",
   "metadata": {
    "deletable": false,
    "editable": false,
    "nbgrader": {
     "cell_type": "markdown",
     "checksum": "763b2a0dc1355e50dd0fa4cc16cdaddd",
     "grade": false,
     "grade_id": "cell-0e2f9af88d3514d2",
     "locked": true,
     "schema_version": 3,
     "solution": false,
     "task": false
    }
   },
   "source": [
    "### Loading the state space and probability density\n",
    "Now that we know what the units are, we'll load all six the data files, and attach units using AssignQuantity. It'll smooth things along if you name these variables \"TB\", \"fB\", \"TM\", and \"fM\"."
   ]
  },
  {
   "cell_type": "code",
   "execution_count": null,
   "metadata": {
    "deletable": false,
    "nbgrader": {
     "cell_type": "code",
     "checksum": "fd10261a26aa0d7c73ad695351ad70c3",
     "grade": true,
     "grade_id": "cell-15d001baab87cdca",
     "locked": false,
     "points": 4,
     "schema_version": 3,
     "solution": true,
     "task": false
    }
   },
   "outputs": [],
   "source": [
    "# Load the velocity component file and attach units\n",
    "vx = np.loadtxt('vx.txt'); vx = AssignQuantity(vx,'m/s'); print(np.shape(vx))\n",
    "\n",
    "# Do the same for TB and fB\n",
    "# Your code here \n",
    "\n",
    "\n",
    "\n",
    "# Load the speed file & attach units\n",
    "v = np.loadtxt('v.txt'); v = AssignQuantity(v,'m/s'); print(np.shape(v))\n",
    "\n",
    "# Do the same for TM and fM\n",
    "# Your code here \n"
   ]
  },
  {
   "cell_type": "markdown",
   "metadata": {
    "deletable": false,
    "editable": false,
    "nbgrader": {
     "cell_type": "markdown",
     "checksum": "6cf1f309ffa133045cb52239933376cc",
     "grade": false,
     "grade_id": "cell-4b8d7f855e59d407",
     "locked": true,
     "schema_version": 3,
     "solution": false,
     "task": false
    }
   },
   "source": [
    "### Graphing\n",
    "In the cell below, we make a surface plot (using PL.plot_surface) of $f_B(T_B,v_x)$. This is mainly to make sure that what we thought we loaded, really is that."
   ]
  },
  {
   "cell_type": "code",
   "execution_count": null,
   "metadata": {},
   "outputs": [],
   "source": [
    "# Graphing fB(T,vx)\n",
    "llist = [\"TB\",\"vx\",\"fB\"]\n",
    "PL.plot_surface1(TB, vx, fB, color='blue',title='fB(T,vx)',labellist=llist).show()"
   ]
  },
  {
   "cell_type": "markdown",
   "metadata": {
    "deletable": false,
    "editable": false,
    "nbgrader": {
     "cell_type": "markdown",
     "checksum": "e4b915c11ca54cb24bd2a122fc021f70",
     "grade": false,
     "grade_id": "cell-cb62bd4604e5540e",
     "locked": true,
     "schema_version": 3,
     "solution": false,
     "task": false
    }
   },
   "source": [
    "### Your turn\n",
    "Do something similar, but this time a surface plot of $f_M(T_M,v)$"
   ]
  },
  {
   "cell_type": "code",
   "execution_count": null,
   "metadata": {
    "deletable": false,
    "nbgrader": {
     "cell_type": "code",
     "checksum": "ee25a8ab9f355621d75b01e56554f388",
     "grade": true,
     "grade_id": "cell-35828b14c0434cc2",
     "locked": false,
     "points": 3,
     "schema_version": 3,
     "solution": true,
     "task": false
    }
   },
   "outputs": [],
   "source": [
    "# Graphing fM(T,v)\n",
    "# Your code here \n"
   ]
  },
  {
   "cell_type": "markdown",
   "metadata": {
    "deletable": false,
    "editable": false,
    "nbgrader": {
     "cell_type": "markdown",
     "checksum": "1d2cf7fe68ab35b1865b584eefe70115",
     "grade": false,
     "grade_id": "cell-6630bb2a5aff499f",
     "locked": true,
     "schema_version": 3,
     "solution": false,
     "task": false
    }
   },
   "source": [
    "### Visualizing isotherms\n",
    "The cell below takes slices of the first and last temperatures of $f_B(T_B,v_x)$ and graphs them on the same plot. The first slice is at a lower temperature, so it's colored blue; the last is colored red because it's hot."
   ]
  },
  {
   "cell_type": "code",
   "execution_count": null,
   "metadata": {
    "deletable": false,
    "editable": false,
    "nbgrader": {
     "cell_type": "code",
     "checksum": "f61617bcf0cdb537ddfeb872debc186e",
     "grade": false,
     "grade_id": "cell-639fb93f5fd3b849",
     "locked": true,
     "schema_version": 3,
     "solution": false,
     "task": false
    }
   },
   "outputs": [],
   "source": [
    "# Slicing\n",
    "vxfirst = vx[0,:]\n",
    "fBfirst = fB[0,:]\n",
    "vxlast = vx[-1,:]\n",
    "fBlast = fB[-1,:]\n",
    "\n",
    "# Specifying labels \n",
    "xlabel = 'velocity component ' + str(vxfirst.units)\n",
    "ylabel = 'Boltzmann probablity density ' + str(fBfirst.units)\n",
    "\n",
    "# Plot first and last using the label/legend method\n",
    "plt.figure()\n",
    "plt.plot(vxfirst,fBfirst,'blue',label='Low T')\n",
    "plt.plot(vxlast,fBlast,'red',label='High T')\n",
    "plt.legend()\n",
    "plt.grid(True)\n",
    "plt.xlabel(xlabel)\n",
    "plt.ylabel(ylabel)"
   ]
  },
  {
   "cell_type": "markdown",
   "metadata": {
    "deletable": false,
    "editable": false,
    "nbgrader": {
     "cell_type": "markdown",
     "checksum": "edebb26045ce475c9fee48c334b29482",
     "grade": false,
     "grade_id": "cell-21008af91bbde7d2",
     "locked": true,
     "schema_version": 3,
     "solution": false,
     "task": false
    }
   },
   "source": [
    "### Your turn\n",
    "Now slice and plot the first and last isotherms of $f_M(v)$. Use the \"label/legend\" method to annotate."
   ]
  },
  {
   "cell_type": "code",
   "execution_count": null,
   "metadata": {
    "deletable": false,
    "nbgrader": {
     "cell_type": "code",
     "checksum": "a21213c7afc7b8104fa7603ab4b3632d",
     "grade": true,
     "grade_id": "cell-999c7b40479acbbf",
     "locked": false,
     "points": 4,
     "schema_version": 3,
     "solution": true,
     "task": false
    }
   },
   "outputs": [],
   "source": [
    "# Slice out the first and last temperatures of the Maxwell function\n",
    "# Your code here \n",
    "\n",
    "\n",
    "# Graph them together (using the label/legend method)\n",
    "# Your code here \n"
   ]
  },
  {
   "cell_type": "markdown",
   "metadata": {
    "deletable": false,
    "editable": false,
    "nbgrader": {
     "cell_type": "markdown",
     "checksum": "934e5cad95089d858454f5f7a837a931",
     "grade": false,
     "grade_id": "cell-50a28b75cbf6cd9f",
     "locked": true,
     "schema_version": 3,
     "solution": false,
     "task": false
    }
   },
   "source": [
    "### Verifying normalization\n",
    "Before we look at the moments of the velocity components, let's have a look at whether our Boltzmann functions are actually *normalized*. For this purpose, we'll use numpy's *trapz* function, which implements the trapezoidal rule for integration. Because this is a numerical method, we don't expect the area to be exactly one -- but we'll be happy if it's pretty close."
   ]
  },
  {
   "cell_type": "code",
   "execution_count": null,
   "metadata": {
    "deletable": false,
    "editable": false,
    "nbgrader": {
     "cell_type": "code",
     "checksum": "041cb88790e926804311d4a2a3b66d6b",
     "grade": false,
     "grade_id": "cell-8395f37cc2e7ff51",
     "locked": true,
     "schema_version": 3,
     "solution": false,
     "task": false
    }
   },
   "outputs": [],
   "source": [
    "# Testing for normalization of fB, low-temperature\n",
    "integrand = fBfirst\n",
    "Area_under_fBfirst = np.trapz(integrand,vxfirst)\n",
    "print(Area_under_fBfirst)\n",
    "\n",
    "# Testing for normalization of fB, high-temperature\n",
    "integrand = fBlast\n",
    "Area_under_fBlast = np.trapz(integrand,vxlast)\n",
    "print(Area_under_fBlast)"
   ]
  },
  {
   "cell_type": "markdown",
   "metadata": {
    "deletable": false,
    "editable": false,
    "nbgrader": {
     "cell_type": "markdown",
     "checksum": "1cf567a86b25ea136efe37022e59dc8c",
     "grade": false,
     "grade_id": "cell-c475486d4dcc4dd0",
     "locked": true,
     "schema_version": 3,
     "solution": false,
     "task": false
    }
   },
   "source": [
    "### Your turn\n",
    "Below, test for normalization of our two Maxwell curves (low-temperature and high-temperature)."
   ]
  },
  {
   "cell_type": "code",
   "execution_count": null,
   "metadata": {
    "deletable": false,
    "nbgrader": {
     "cell_type": "code",
     "checksum": "5c88b2071216f363c35c3c00379a37ff",
     "grade": true,
     "grade_id": "cell-306b6daa5bbe88e8",
     "locked": false,
     "points": 4,
     "schema_version": 3,
     "solution": true,
     "task": false
    }
   },
   "outputs": [],
   "source": [
    "# Test for normalization of fM, low-temperature\n",
    "# Your code here \n",
    "\n",
    "\n",
    "# Test for normalization of fM, high-temperature\n",
    "# Your code here \n"
   ]
  },
  {
   "cell_type": "markdown",
   "metadata": {
    "deletable": false,
    "editable": false,
    "nbgrader": {
     "cell_type": "markdown",
     "checksum": "d32ab6bad6a888ec7bdc1b4bf57aea4a",
     "grade": false,
     "grade_id": "cell-0ef7f1475c7e57cd",
     "locked": true,
     "schema_version": 3,
     "solution": false,
     "task": false
    }
   },
   "source": [
    "### Moments \n",
    "Now we'll take a look at the *first moment* of the Maxwell density function. As you'll be able to see from the cell below, we can do this numerically using the same trapezoidal rule that we used to test for normalization of $f_M$: if you compare Eqs. (2) and (3), you'll see that the only difference is that the integrand is $f_M \\times v$ (rather than $f_M$).\n",
    "\n",
    "You'll also see in the cell below that we're graphing this integrand ($f_M \\times v$) as a function of $v$. The purpose of graphing the integrand in this way is to examine whether the integration is converged -- so that we know we're not missing anything."
   ]
  },
  {
   "cell_type": "code",
   "execution_count": null,
   "metadata": {
    "deletable": false,
    "editable": false,
    "nbgrader": {
     "cell_type": "code",
     "checksum": "dd3cdbb6ced9201f81823ab871ca8128",
     "grade": false,
     "grade_id": "cell-1bf40eb31e1bf7f1",
     "locked": true,
     "schema_version": 3,
     "solution": false,
     "task": false
    }
   },
   "outputs": [],
   "source": [
    "# Labels and a title\n",
    "xlabel = 'speed (m/s)'\n",
    "ylabel = 'fM x v'\n",
    "title = 'Integrands for calculating the first moment of speed'\n",
    "\n",
    "# Computing the integrand of the low-temperature speed moment, and integrating\n",
    "integrandfirst = fMfirst*vfirst\n",
    "moment1 = np.trapz(integrandfirst,vfirst)\n",
    "cbar = moment1\n",
    "print('c-bar low T ', cbar)\n",
    "\n",
    "# Same in the high-temperature limit\n",
    "integrandlast = vlast*fMlast\n",
    "moment1 = np.trapz(integrandlast,vlast)\n",
    "cbar = moment1\n",
    "print('c-bar high T ', cbar)\n",
    "\n",
    "# Graphing the integrands\n",
    "plt.figure()\n",
    "plt.plot(vfirst,integrandfirst,'blue',label='Low T')\n",
    "plt.plot(vlast,integrandlast,'red',label='High T')\n",
    "plt.xlabel(xlabel)\n",
    "plt.ylabel(ylabel)\n",
    "plt.title('Integrands for finding c-bar')\n",
    "plt.grid(True)\n",
    "plt.legend()"
   ]
  },
  {
   "cell_type": "markdown",
   "metadata": {
    "deletable": false,
    "editable": false,
    "nbgrader": {
     "cell_type": "markdown",
     "checksum": "832bbf15a10f3d52caaa3e0e65e2d8d7",
     "grade": false,
     "grade_id": "cell-302ec43712c37a4a",
     "locked": true,
     "schema_version": 3,
     "solution": false,
     "task": false
    }
   },
   "source": [
    "### Your turn: the second moment of the speed, and the rms speed ($c$)\n",
    "Now do something analogous for the *second* moment of the speed, at the first and last temperatures. Start with computing and plotting the relevant integrand. You should also print $c$, i.e., the *square root* of $<v^2>$, for each temperature (see Eq. 6). "
   ]
  },
  {
   "cell_type": "code",
   "execution_count": null,
   "metadata": {
    "deletable": false,
    "nbgrader": {
     "cell_type": "code",
     "checksum": "b8128673abd816701b29eb3f371f0c9f",
     "grade": true,
     "grade_id": "cell-9d9fdc9b1e1881ed",
     "locked": false,
     "points": 6,
     "schema_version": 3,
     "solution": true,
     "task": false
    }
   },
   "outputs": [],
   "source": [
    "# Labels and a title\n",
    "xlabel = 'speed (m/s)'\n",
    "ylabel = 'fM x v^2'\n",
    "title = 'Integrands for calculating the second moment of speed'\n",
    "\n",
    "# Compute the second moment of the speed, and the square root of it, at low temperature\n",
    "# Your code here \n",
    "\n",
    "\n",
    "# Same but at high temperature\n",
    "# Your code here \n",
    "\n",
    "\n",
    "# Graphing the integrands\n",
    "# Your code here \n"
   ]
  },
  {
   "cell_type": "markdown",
   "metadata": {},
   "source": [
    "### Your turn (again)\n",
    "Now find values of the *third* moment, for the first and last temperatures. Also, print $\\tilde c$, i.e., the corresponding *cubed root* of $<v^3>$ (see Eq. 7), at both temperatures."
   ]
  },
  {
   "cell_type": "code",
   "execution_count": null,
   "metadata": {
    "deletable": false,
    "nbgrader": {
     "cell_type": "code",
     "checksum": "472217ab7a35f023e8f59ee730713ada",
     "grade": true,
     "grade_id": "cell-1b79454c650c6cd8",
     "locked": false,
     "points": 6,
     "schema_version": 3,
     "solution": true,
     "task": false
    }
   },
   "outputs": [],
   "source": [
    "# Labels and a title\n",
    "xlabel = 'speed (m/s)'\n",
    "ylabel = 'v^3 x fM'\n",
    "title = 'Integrands for calculating the third moment of speed'\n",
    "\n",
    "# Compute the third moment of the speed, and the cubed root of it, at low temperature\n",
    "# Your code here \n",
    "\n",
    "\n",
    "# Same but at high temperature\n",
    "# Your code here \n",
    "\n",
    "\n",
    "# Graphing the integrands\n",
    "# Your code here \n"
   ]
  },
  {
   "cell_type": "markdown",
   "metadata": {
    "deletable": false,
    "editable": false,
    "nbgrader": {
     "cell_type": "markdown",
     "checksum": "15b44eed87bcd96010d344a4b85bebe9",
     "grade": false,
     "grade_id": "cell-615d68eb142d880e",
     "locked": true,
     "schema_version": 3,
     "solution": false,
     "task": false
    }
   },
   "source": [
    "### Comparison to analytical results\n",
    "In the cell below, calculate values of $\\bar c$, $c$, and $\\tilde c$ from analytical expressions (with a minimum of parentheses), and print the results. For the first two of these, see the introduction. For $\\tilde c =$, use your own analytical result."
   ]
  },
  {
   "cell_type": "code",
   "execution_count": null,
   "metadata": {
    "deletable": false,
    "nbgrader": {
     "cell_type": "code",
     "checksum": "cfdb251909a5c1abe6e2bd94e28cf417",
     "grade": true,
     "grade_id": "cell-0c4a2cf43fad7096",
     "locked": false,
     "points": 6,
     "schema_version": 3,
     "solution": true,
     "task": false
    }
   },
   "outputs": [],
   "source": [
    "# Constants for T=500 K, M=28 g/mol\n",
    "T = AssignQuantity(500,'K')          # Assuming the high-temperature results\n",
    "M = AssignQuantity(0.028,'kg/mol')   # Assuming N2 gas\n",
    "R = AssignQuantity(8.314,'J/mol/K')  # SI gas constant\n",
    "\n",
    "# cbar\n",
    "# Your code here \n",
    "\n",
    "\n",
    "# c\n",
    "# Your code here \n",
    "\n",
    "\n",
    "# ctilde\n",
    "# Your code here \n"
   ]
  },
  {
   "cell_type": "markdown",
   "metadata": {
    "deletable": false,
    "editable": false,
    "nbgrader": {
     "cell_type": "markdown",
     "checksum": "f71401225644a8d9430490938634d002",
     "grade": false,
     "grade_id": "cell-741b7e0848e5a59e",
     "locked": true,
     "schema_version": 3,
     "solution": false,
     "task": false
    }
   },
   "source": [
    "### Pause for analysis\n",
    "One check on your code and theory here is whether you got values close to your numerical results. Another check is to verify that $\\bar c < c < \\tilde c$. If you find any big discrepancies along these lines, you might want to go back and see what might have gone wrong."
   ]
  },
  {
   "cell_type": "markdown",
   "metadata": {
    "deletable": false,
    "editable": false,
    "nbgrader": {
     "cell_type": "markdown",
     "checksum": "97bdf489903f49800d1f97fb27a1d198",
     "grade": false,
     "grade_id": "cell-d110ccf56e1fdcbb",
     "locked": true,
     "schema_version": 3,
     "solution": false,
     "task": false
    }
   },
   "source": [
    "### The kinetic energy connection\n",
    "Here we'll develop the connection that you have probably already intuited, that an understanding of moments gives us insight into the kinetic energy of molecules. We already noted that the kinetic energy of a molecule whose mass is $m$, moving in the $x$-direction with velocity $v_x$, equals ${1 \\over 2} m v_x^2$. Assuming similar expressions apply in the $y$ and $z$ directions, this means we can write the molecule's *average* kinetic energy as\n",
    "\n",
    "$$\n",
    "\\langle \\epsilon \\rangle _{one \\ molecule} =  \\langle {1 \\over 2} m v_x^2 \\rangle +  \\langle {1 \\over 2}m v_y^2 \\rangle +  \\langle {1 \\over 2}m v_z^2 \\rangle \\ \\ \\ \\ (10)\n",
    "$$ \n",
    "\n",
    "where, by definition, $\\langle {1 \\over 2} m v_x^2 \\rangle =  \\int\\limits_{-\\infty}^{\\infty} f_B(T,v_x) \\ {1 \\over 2} m v_x^2 \\ dv_x$ (and similarly for $v_y$ and $v_z$). \n",
    "\n",
    "There are two simplifications here that will help us out a lot. First, since it doesn't matter whether we multiply by ${1 \\over 2} m$ before or after we solve these integrals, we can write each as ${1 \\over 2} m \\langle  v_x^2 \\rangle$ (etc.). And second, if we suppose that space is isotropic, the averages in $y$, and $z$ should be the same as in $x$. That all adds up to\n",
    "\n",
    "$$\n",
    "\\langle \\epsilon \\rangle _{one \\ molecule} = {3 \\over 2}m \\langle v_x^2 \\rangle \\ \\ \\ \\ (11)\n",
    "$$\n",
    "\n",
    "We know how to use integral tables to solve integrals like this; the result looks like $\\langle \\epsilon \\rangle _{one \\ molecule} = const \\times k_B  T$. To scale up to a mole of molecules, we would need to multiply by Avogadro's number. Writing that molar quantity as $\\langle \\epsilon \\rangle$, \n",
    "\n",
    "$$\n",
    "\\langle \\epsilon \\rangle = {3 \\over 2} R T  \\ \\ \\ \\ (12)\n",
    "$$\n",
    "\n",
    "Your task in the following cell is to use this expression to evaluate $\\langle \\epsilon \\rangle$ (your choice of molecule) at a temperature of $298 K$. Report (print) your result in units $kJ/mol$."
   ]
  },
  {
   "cell_type": "code",
   "execution_count": null,
   "metadata": {
    "deletable": false,
    "nbgrader": {
     "cell_type": "code",
     "checksum": "57494402fb57585ed9569e9d3981b568",
     "grade": true,
     "grade_id": "cell-625ae14a5e8eec10",
     "locked": false,
     "points": 2,
     "schema_version": 3,
     "solution": true,
     "task": false
    }
   },
   "outputs": [],
   "source": [
    "# Your code here \n"
   ]
  },
  {
   "cell_type": "markdown",
   "metadata": {
    "deletable": false,
    "editable": false,
    "nbgrader": {
     "cell_type": "markdown",
     "checksum": "3b38a2affb3d7dbd89bef4439f0eb470",
     "grade": false,
     "grade_id": "cell-8036f09987e9daa4",
     "locked": true,
     "schema_version": 3,
     "solution": false,
     "task": false
    }
   },
   "source": [
    "### Refresh/save/validate/submit/logout\n",
    "Almost done! To double-check everything is OK, repeat the \"Three steps for refreshing and saving your code,\" and press the \"Validate\" button (as usual). Then close, submit and log out."
   ]
  }
 ],
 "metadata": {
  "kernelspec": {
   "display_name": "Python 3 (ipykernel)",
   "language": "python",
   "name": "python3"
  },
  "language_info": {
   "codemirror_mode": {
    "name": "ipython",
    "version": 3
   },
   "file_extension": ".py",
   "mimetype": "text/x-python",
   "name": "python",
   "nbconvert_exporter": "python",
   "pygments_lexer": "ipython3",
   "version": "3.10.2"
  }
 },
 "nbformat": 4,
 "nbformat_minor": 1
}

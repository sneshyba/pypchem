{
 "cells": [
  {
   "cell_type": "markdown",
   "metadata": {
    "deletable": false,
    "editable": false,
    "nbgrader": {
     "cell_type": "markdown",
     "checksum": "45f9f3bf786ae970ecdcdc4762488f4b",
     "grade": false,
     "grade_id": "cell-cfee71f6d079d191",
     "locked": true,
     "schema_version": 3,
     "solution": false,
     "task": false
    }
   },
   "source": [
    "### Computational Guided Inquiry for PChem (Neshyba, 2024)\n",
    "\n",
    "# $f'_M(T,\\epsilon)$\n",
    "\n",
    "## Introduction\n",
    "\n",
    "We've been introduced already to the probability density for molecular speed,\n",
    "\n",
    "$$\n",
    "f_M(T,v) = N_Mv^2e^{-{( \\frac{M}{2RT}} ) {v^2}} \\ \\ \\ \\ (1)\n",
    "$$\n",
    "\n",
    "where $M$ is the molar mass of our molecule, and \n",
    "\n",
    "$$\n",
    "N_M = 4 \\pi \\big( {{\\frac{M}{2 \\pi RT}} \\big)}^{3/2} \\ \\ \\ \\ (2) \n",
    "$$\n",
    "\n",
    "is a normalization constant. Here, we're going to be investigating something similar, but instead of focusing on a molecule's speed, we'll be focusing on its kinetic energy. For a mole of molecules, this is given by\n",
    "\n",
    "$$\n",
    "\\epsilon = {1 \\over 2} M v^2 \\ \\ \\ \\ (3)\n",
    "$$\n",
    "\n",
    "The inverse of Eq. (3) is going to come in handy, so we may as well write it down now:\n",
    "\n",
    "$$\n",
    "v = \\big ({{2 \\epsilon} \\over M} \\big )^{1/2} \\ \\ \\ \\ (4)\n",
    "$$\n",
    "\n",
    "It has probably already occurred to you that this relationship (between kinetic energy and speed) means that there is a definite relationship between their probability densities. And indeed there is! The key idea is \n",
    "\n",
    "$$\n",
    "f'_M(T,\\epsilon) = f_M(T,v(\\epsilon)) {dv \\over {d\\epsilon}} \\ \\ \\ \\ (5)\n",
    "$$\n",
    "\n",
    "Note that we've written the speed here in a funny way: $v(\\epsilon)$. What does that mean? Well, we want $f'_M(T,\\epsilon)$ to be a function of $\\epsilon$, not speed, so this notation means \"write $f_M(T,v)$ as in Eq. (1), but everywhere you see $v$, substitute Eq. (4).\"\n",
    "\n",
    "Don't forget that the goal here is to calculate probabilities! To do that in terms of a range of speeds, you'd use\n",
    "\n",
    "$$\n",
    "Probability = f_M(T,v) \\Delta v \\ \\ \\ \\ (6)\n",
    "$$\n",
    "\n",
    "while doing so in terms of a range of energies you'd use\n",
    "\n",
    "$$\n",
    "Probability = f'_M(T,\\epsilon) \\Delta \\epsilon \\ \\ \\ \\ (7)\n",
    "$$\n",
    "\n",
    "## Learning Goals\n",
    "1. I can convert probability density functions from speed to energy.\n",
    "1. I can use those probability densities to compute probablities for a range of energies."
   ]
  },
  {
   "cell_type": "code",
   "execution_count": null,
   "metadata": {
    "deletable": false,
    "editable": false,
    "nbgrader": {
     "cell_type": "code",
     "checksum": "cd4be4ee1ca19fb38aae887b2c55b48b",
     "grade": false,
     "grade_id": "cell-61ab37bc366e7e0e",
     "locked": true,
     "schema_version": 3,
     "solution": false,
     "task": false
    }
   },
   "outputs": [],
   "source": [
    "import numpy as np\n",
    "import pint; from pint import UnitRegistry; AssignQuantity = UnitRegistry().Quantity"
   ]
  },
  {
   "cell_type": "code",
   "execution_count": null,
   "metadata": {
    "deletable": false,
    "editable": false,
    "nbgrader": {
     "cell_type": "code",
     "checksum": "2eb035896b4e0b90ba600f597f3a9383",
     "grade": false,
     "grade_id": "cell-0fbe85606292263e",
     "locked": true,
     "schema_version": 3,
     "solution": false,
     "task": false
    }
   },
   "outputs": [],
   "source": [
    "# The gas constant\n",
    "R = AssignQuantity(8.314,'J/mol/K')\n",
    "\n",
    "# Working with one mole throughout\n",
    "n = AssignQuantity(1,'mol')\n",
    "\n",
    "# This is N2\n",
    "M = AssignQuantity(0.028,'kg/mol')"
   ]
  },
  {
   "cell_type": "markdown",
   "metadata": {
    "deletable": false,
    "editable": false,
    "nbgrader": {
     "cell_type": "markdown",
     "checksum": "21fe867a370a24cc84be62ff592b58cb",
     "grade": false,
     "grade_id": "cell-3d49ccc7043a0827",
     "locked": true,
     "schema_version": 3,
     "solution": false,
     "task": false
    }
   },
   "source": [
    "### Problem 1. Finding a value for $f'_M(T,\\epsilon)$\n",
    "As preparation for this, you'll need to use Eq. (5) to derive an analytical expression for $f'_M(T,\\epsilon)$. Then use that formula in the cell below to calculate $f'_M(T,\\epsilon)$ when $T=300 \\ K$ and $\\epsilon=4 \\ {kJ \\over mol}$. Report your result in units ${mol \\over kJ}$."
   ]
  },
  {
   "cell_type": "code",
   "execution_count": null,
   "metadata": {
    "deletable": false,
    "nbgrader": {
     "cell_type": "code",
     "checksum": "5a27d52c7dc2fd6d2da030bea5d573be",
     "grade": true,
     "grade_id": "cell-9fa17985277a0c78",
     "locked": false,
     "points": 4,
     "schema_version": 3,
     "solution": true,
     "task": false
    }
   },
   "outputs": [],
   "source": [
    "# Specify the temperature\n",
    "# Your code here \n",
    "\n",
    "\n",
    "# Specify the kinetic energy\n",
    "# Your code here \n",
    "\n",
    "\n",
    "# Calculate the probability density in terms of the energy\n",
    "# Your code here \n"
   ]
  },
  {
   "cell_type": "markdown",
   "metadata": {
    "deletable": false,
    "editable": false,
    "nbgrader": {
     "cell_type": "markdown",
     "checksum": "459af1f1553f69cba10638db3059de53",
     "grade": false,
     "grade_id": "cell-0e88b0e62903cd7f",
     "locked": true,
     "schema_version": 3,
     "solution": false,
     "task": false
    }
   },
   "source": [
    "### Problem 2. Finding a probability using energies\n",
    "Let's say we're interested in the probability of finding molecules having an energy in the range $\\Delta \\epsilon = 0.15 \\ {kJ \\over mol}$, in the vicinity of $\\epsilon = 4 \\ {kJ \\over mol}$ . Since you already have a value for the probability *density*, $f'_M(T,\\epsilon)$, you can use Eq. (7) to get this probability -- but multiply your result by 100, please, to report your result as a percentage."
   ]
  },
  {
   "cell_type": "code",
   "execution_count": null,
   "metadata": {
    "deletable": false,
    "nbgrader": {
     "cell_type": "code",
     "checksum": "123bd06d2f53f93df18360df1af7aae4",
     "grade": true,
     "grade_id": "cell-fd46c84c41e98dbb",
     "locked": false,
     "points": 4,
     "schema_version": 3,
     "solution": true,
     "task": false
    }
   },
   "outputs": [],
   "source": [
    "# Your code here \n"
   ]
  },
  {
   "cell_type": "markdown",
   "metadata": {
    "deletable": false,
    "editable": false,
    "nbgrader": {
     "cell_type": "markdown",
     "checksum": "2b983c6740ea87a7042fc1211148588f",
     "grade": false,
     "grade_id": "cell-0167cdbf54bc637b",
     "locked": true,
     "schema_version": 3,
     "solution": false,
     "task": false
    }
   },
   "source": [
    "### Refresh/save/validate\n",
    "Repeat the usual steps for refreshing and saving your code, and press the \"Validate\" button.\n",
    "\n",
    "### Close/submit/logout\n",
    "1. Close this notebook using the \"File/Close and Halt\" dropdown menu\n",
    "1. Using the Assignments tab, submit this notebook\n",
    "1. Press the Logout tab of the Home Page"
   ]
  }
 ],
 "metadata": {
  "kernelspec": {
   "display_name": "Python 3 (ipykernel)",
   "language": "python",
   "name": "python3"
  },
  "language_info": {
   "codemirror_mode": {
    "name": "ipython",
    "version": 3
   },
   "file_extension": ".py",
   "mimetype": "text/x-python",
   "name": "python",
   "nbconvert_exporter": "python",
   "pygments_lexer": "ipython3",
   "version": "3.10.2"
  }
 },
 "nbformat": 4,
 "nbformat_minor": 2
}

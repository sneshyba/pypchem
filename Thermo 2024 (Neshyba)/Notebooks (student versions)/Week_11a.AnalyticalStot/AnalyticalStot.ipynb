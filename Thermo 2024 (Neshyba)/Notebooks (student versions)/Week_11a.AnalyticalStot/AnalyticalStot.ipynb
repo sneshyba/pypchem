{
 "cells": [
  {
   "cell_type": "markdown",
   "metadata": {
    "deletable": false,
    "editable": false,
    "nbgrader": {
     "cell_type": "markdown",
     "checksum": "ff39f9ca610a032cebea9c301210ab17",
     "grade": false,
     "grade_id": "cell-8860b53df21cb741",
     "locked": true,
     "schema_version": 3,
     "solution": false,
     "task": false
    }
   },
   "source": [
    "### Neshyba, 2024\n",
    "\n",
    "# Analytical $S_{tot}(T)$ for phase transformations\n",
    "\n",
    "This exercise is all about the spontaneity of phase transformations at a given pressure -- we'll say, the standard atmospheric pressure ($P^o$). Because of this, we'll leave out the pressure in the formulas we give below; the notation is a little less cumbersome that way. \n",
    "\n",
    "For a spontaneous process (indicated by *trs* here), the second law requires that\n",
    "\n",
    "$$\n",
    "\\Delta S_{tot}(T) = \\Delta S_{trs}(T) + \\Delta S_{surr}(T) > 0 \\ \\ \\ \\ (1)\n",
    "$$  \n",
    "\n",
    "where we understand the first term on the right hand side to be the *system's* change in entropy, while the second term is the *surrounding's* change in entropy (at $P^o$). Focusing first on the system, we can say \n",
    "\n",
    "$$\n",
    "\\Delta S_{trs}(T) = \\Delta S^o + \\int_{T^o}^T {\\Delta C_P \\over T}dT \\ \\ \\ \\ (2)\n",
    "$$\n",
    "\n",
    "where $trs$ could indicate vaporization, melting, or sublimation, and $T^o$ is the standard temperature, $298 K$. Under the assumption of constant $C_P$, this integrates out to \n",
    "\n",
    "$$\n",
    "\\Delta S_{trs}(T) = \\Delta S^o + \\Delta C_P \\ log \\big ({T \\over T^o} \\big ) \\ \\ \\ \\ (3)\n",
    "$$\n",
    "\n",
    "Meanwhile, we can approximate the second term on the right-hand-side of Eq. (1) as \n",
    "\n",
    "$$\n",
    "\\Delta S_{surr}(T) = -{\\Delta H_{trs} \\over T_{surr}} \\ \\ \\ \\ (4)\n",
    "$$\n",
    "\n",
    "Throughout this exercise, we'll make the additional assumption that the system is in *thermal equilibrium* with the surroundings, i.e., $T=T_{surr}$.\n",
    "\n",
    "## Learning Goals\n",
    "1. I can predict how the entropy change of a system undergoing a phase transformation varies with temperature.\n",
    "1. I can predict how the entropy change of the surroundings associated with this transformation varies with temperature.\n",
    "1. I can put these two together to make predictions about the temperature at which a phase transformation will become spontaneous."
   ]
  },
  {
   "cell_type": "code",
   "execution_count": null,
   "metadata": {
    "deletable": false,
    "editable": false,
    "nbgrader": {
     "cell_type": "code",
     "checksum": "12e305c36083b7fd11550deea7df2662",
     "grade": false,
     "grade_id": "cell-bc4f6e57e58f3c70",
     "locked": true,
     "schema_version": 3,
     "solution": false,
     "task": false
    }
   },
   "outputs": [],
   "source": [
    "import pint; from pint import UnitRegistry; AssignQuantity = UnitRegistry().Quantity\n",
    "import warnings; warnings.filterwarnings(\"ignore\", \"The unit of the quantity is stripped when downcasting to ndarray\")\n",
    "import numpy as np\n",
    "import matplotlib.pyplot as plt"
   ]
  },
  {
   "cell_type": "code",
   "execution_count": null,
   "metadata": {
    "deletable": false,
    "editable": false,
    "nbgrader": {
     "cell_type": "code",
     "checksum": "5b5ae1df7b146e1a01faaf6396cdf134",
     "grade": false,
     "grade_id": "cell-789fc022e2b9d544",
     "locked": true,
     "schema_version": 3,
     "solution": false,
     "task": false
    }
   },
   "outputs": [],
   "source": [
    "%matplotlib notebook"
   ]
  },
  {
   "cell_type": "markdown",
   "metadata": {
    "deletable": false,
    "editable": false,
    "nbgrader": {
     "cell_type": "markdown",
     "checksum": "2a1de32c967dd3e1a4e8b3a53bafa8fa",
     "grade": false,
     "grade_id": "cell-a37575c1d47c5530",
     "locked": true,
     "schema_version": 3,
     "solution": false,
     "task": false
    }
   },
   "source": [
    "### Water transitioning from liquid to vapor\n",
    "The cell below assigns standard-state values for water."
   ]
  },
  {
   "cell_type": "code",
   "execution_count": null,
   "metadata": {
    "deletable": false,
    "editable": false,
    "nbgrader": {
     "cell_type": "code",
     "checksum": "902b84a68874f0063579b80364a5178d",
     "grade": false,
     "grade_id": "cell-79c42e38b1669438",
     "locked": true,
     "schema_version": 3,
     "solution": false,
     "task": false
    }
   },
   "outputs": [],
   "source": [
    "# Here's the standard-state temperature\n",
    "T0 = AssignQuantity(298,'K')\n",
    "\n",
    "# Standard-state enthalpy of vaporation\n",
    "Delta_H0_vap = AssignQuantity(40700,'J/mol'); print(Delta_H0_vap)\n",
    "\n",
    "# Standard-state entropies\n",
    "SS_liq = AssignQuantity(69.95,'J/mol/K')\n",
    "SS_gas = AssignQuantity(188.8,'J/mol/K')\n",
    "\n",
    "# Standard-state heat capacities\n",
    "CP_liq = AssignQuantity(75.4,'J/mol/K')\n",
    "CP_gas = AssignQuantity(33.6,'J/mol/K')"
   ]
  },
  {
   "cell_type": "markdown",
   "metadata": {
    "deletable": false,
    "editable": false,
    "nbgrader": {
     "cell_type": "markdown",
     "checksum": "35af352da7728df98d317cc05a77b024",
     "grade": false,
     "grade_id": "cell-707f3287a6d7904c",
     "locked": true,
     "schema_version": 3,
     "solution": false,
     "task": false
    }
   },
   "source": [
    "### Computing temperature-dependent entropy of vaporization for water\n",
    "In the cell below, the goal is to compute and graph temperature-dependent entropies associated with the vaporization of water."
   ]
  },
  {
   "cell_type": "code",
   "execution_count": null,
   "metadata": {
    "deletable": false,
    "nbgrader": {
     "cell_type": "code",
     "checksum": "c57056655340f3475b99c835f9d48212",
     "grade": true,
     "grade_id": "cell-596476e87ca35060",
     "locked": false,
     "points": 5,
     "schema_version": 3,
     "solution": true,
     "task": false
    }
   },
   "outputs": [],
   "source": [
    "# Lay out an array of temperatures that spans water's boiling temperature\n",
    "Tmax = AssignQuantity(390,'K')\n",
    "T = T_surr = AssignQuantity(np.linspace(T0,Tmax))\n",
    "\n",
    "# Compute the standard-state entropy of vaporization (vapor - liquid)\n",
    "# Your code here \n",
    "\n",
    "\n",
    "# Compute the difference in heat capacities (vapor - liquid)\n",
    "# Your code here \n",
    "\n",
    "\n",
    "# Use Eq. 3 to compute the entropy of vaporization for all the temperatures in our temperature array\n",
    "# Your code here \n",
    "\n",
    "\n",
    "# Use Eq. 4 to compute the change in entropy of the surroundings\n",
    "# Your code here \n",
    "\n",
    "\n",
    "# Use Eq. 1 to calculate the total entropy change of vaporization for all the temperatures in our temperature array\n",
    "# Your code here \n",
    "\n",
    "\n",
    "# Graph all three in J/mol/K (here using assumed variable names -- you may need to change them)\n",
    "plt.figure()\n",
    "plt.plot(T,Delta_S_vap,label='Delta_S_vap')\n",
    "plt.plot(T,Delta_S_tot,label='Delta_S_tot')\n",
    "plt.plot(T,Delta_S_surr,label='Delta_S_surr')\n",
    "plt.grid(True)\n",
    "plt.title('Water transitioning from liquid to vapor')\n",
    "plt.xlabel('T (=T_surr)')\n",
    "plt.ylabel(Delta_S_tot.units)\n",
    "plt.legend()"
   ]
  },
  {
   "cell_type": "markdown",
   "metadata": {
    "deletable": false,
    "editable": false,
    "nbgrader": {
     "cell_type": "markdown",
     "checksum": "4708f25d7ff2d136c6faf4136a07d3f1",
     "grade": false,
     "grade_id": "cell-7d43d64eef027f0f",
     "locked": true,
     "schema_version": 3,
     "solution": false,
     "task": false
    }
   },
   "source": [
    "### Pause for analysis\n",
    "\n",
    "In the space below, offer responses to the following. Relevant ideas could include *positional entropy*, *thermal entropy*, the *Thermodynamic Definition of Entropy*, \n",
    "\n",
    "1. The *sign* of $\\Delta S_{vap}(T)$ is positive. Why?\n",
    "\n",
    "1. The *sign* of $\\Delta S_{surr}(T)$ is negative. Why?\n",
    "\n",
    "1. Given that 2nd law says water boiling will become spontanenous when the temperature rises above the point at which $\\Delta S_{tot} \\approx 0$, use the graph above to predict the boiling temperature of water. \n",
    "\n",
    "1. The number you get for the previous question might be a little different from the known value of $373 K$, because of some approximations that have crept into our analysis. Offer a speculation as to which approximation(s) are the most likely to lead to such errors?"
   ]
  },
  {
   "cell_type": "markdown",
   "metadata": {
    "deletable": false,
    "nbgrader": {
     "cell_type": "markdown",
     "checksum": "399094b2cb58664d5478f2bf8f0f137a",
     "grade": true,
     "grade_id": "cell-2be40dee743e173f",
     "locked": false,
     "points": 4,
     "schema_version": 3,
     "solution": true,
     "task": false
    }
   },
   "source": [
    "YOUR ANSWER HERE"
   ]
  },
  {
   "cell_type": "markdown",
   "metadata": {
    "deletable": false,
    "editable": false,
    "nbgrader": {
     "cell_type": "markdown",
     "checksum": "0f9265ab68af1325821c452ab08b6a0b",
     "grade": false,
     "grade_id": "cell-b5494b1f9073bc58",
     "locked": true,
     "schema_version": 3,
     "solution": false,
     "task": false
    }
   },
   "source": [
    "### Water transitioning from solid (ice) to liquid\n",
    "In the cell below, we assign additional standard-state values for water that we'll need for computing its entropy of fusion."
   ]
  },
  {
   "cell_type": "code",
   "execution_count": null,
   "metadata": {},
   "outputs": [],
   "source": [
    "# Standard-state enthalpy of melting\n",
    "Delta_H_fus = AssignQuantity(6020,'J/mol');  print('Delta_H_fus',Delta_H_fus)\n",
    "\n",
    "# Standard-state entropy of the solid\n",
    "SS_sol = AssignQuantity(44.62,'J/mol/K')\n",
    "\n",
    "# Heat capacity of the solid\n",
    "CP_sol = AssignQuantity(38,'J/mol/K')"
   ]
  },
  {
   "cell_type": "markdown",
   "metadata": {
    "deletable": false,
    "editable": false,
    "nbgrader": {
     "cell_type": "markdown",
     "checksum": "7a709788aa44f60cf6f2b2c6136a0067",
     "grade": false,
     "grade_id": "cell-326e4935fd7b6b1c",
     "locked": true,
     "schema_version": 3,
     "solution": false,
     "task": false
    }
   },
   "source": [
    "### Computing the temperature-dependent entropy of fusion for water"
   ]
  },
  {
   "cell_type": "code",
   "execution_count": null,
   "metadata": {
    "deletable": false,
    "nbgrader": {
     "cell_type": "code",
     "checksum": "e70d396ccdde6bc430a12bdbcbd08334",
     "grade": true,
     "grade_id": "cell-359a731932a48f10",
     "locked": false,
     "points": 5,
     "schema_version": 3,
     "solution": true,
     "task": false
    }
   },
   "outputs": [],
   "source": [
    "# Laying out an array of temperatures that spans water's melting temperature \n",
    "T = T_surr = AssignQuantity(np.linspace(260,298),'K')\n",
    "\n",
    "# Difference in heat capacities (liquid - solid)\n",
    "# Your code here \n",
    "\n",
    "\n",
    "# Standard-state entropy of fusion (liquid - solid)\n",
    "# Your code here \n",
    "\n",
    "\n",
    "# Temperature-dependent entropy of fusion (Eq. 3)\n",
    "# Your code here \n",
    "\n",
    "\n",
    "# Impact of melting on the entropy of the surrounding (Eq. 4)\n",
    "# Your code here \n",
    "\n",
    "\n",
    "# Use Eq. 1 to calculate the total entropy change of fusion for all the temperatures in our temperature array\n",
    "# Your code here \n",
    "\n",
    "\n",
    "# Graph all three () in J/mol/K\n",
    "# Your code here \n"
   ]
  },
  {
   "cell_type": "markdown",
   "metadata": {
    "deletable": false,
    "editable": false,
    "nbgrader": {
     "cell_type": "markdown",
     "checksum": "2e7a1d70c0057b2cf2d5468a36dc41e3",
     "grade": false,
     "grade_id": "cell-99aea82bb6164052",
     "locked": true,
     "schema_version": 3,
     "solution": false,
     "task": false
    }
   },
   "source": [
    "### Pause for analysis\n",
    "\n",
    "In the cell below, write the temperature at which these data predict that ice will melt."
   ]
  },
  {
   "cell_type": "markdown",
   "metadata": {
    "deletable": false,
    "nbgrader": {
     "cell_type": "markdown",
     "checksum": "1b0a73eccadd680f5c35ec4a68ab169d",
     "grade": true,
     "grade_id": "cell-d205c849230645e7",
     "locked": false,
     "points": 2,
     "schema_version": 3,
     "solution": true,
     "task": false
    }
   },
   "source": [
    "YOUR ANSWER HERE"
   ]
  },
  {
   "cell_type": "markdown",
   "metadata": {
    "deletable": false,
    "editable": false,
    "nbgrader": {
     "cell_type": "markdown",
     "checksum": "abbbe583ebee3dd8683b1d38957c4e96",
     "grade": false,
     "grade_id": "cell-3893f52db67762d1",
     "locked": true,
     "schema_version": 3,
     "solution": false,
     "task": false
    }
   },
   "source": [
    "### Ethanol phase transitions\n",
    "In the cell below, repeat the above analysis to find the temperature at which ethanol will boil at standard atmospheric pressure. Some standard-state values for ethanol that will be handy here:\n",
    "\n",
    "$S_o(liq) = 160 \\ J/(mol \\ K)$  \n",
    "$S_o(gas) = 275 \\ J/(mol \\ K)$  \n",
    "$C_P(liq) = 112 \\ J/(mol \\ K)$  \n",
    "$C_P(gas) = 70 \\ J/(mol \\ K)$  \n",
    "$\\Delta H_{vap}^o = 38 \\ kJ/mol$\n",
    "\n",
    "(We're not concerned with melting here -- just vaporization.)"
   ]
  },
  {
   "cell_type": "code",
   "execution_count": null,
   "metadata": {
    "deletable": false,
    "nbgrader": {
     "cell_type": "code",
     "checksum": "f22d4e72b6097e0bedc5ab0eb173cfcf",
     "grade": true,
     "grade_id": "cell-a9156c10e2386f48",
     "locked": false,
     "points": 8,
     "schema_version": 3,
     "solution": true,
     "task": false
    }
   },
   "outputs": [],
   "source": [
    "# Laying out an array of temperatures that (hopefully) spans ethanol's boiling temperature \n",
    "T = T_surr = AssignQuantity(np.linspace(330,390),'K')\n",
    "\n",
    "# Graphing the entropy of vaporization, the entropy change of the surroundings, and the total entropy change, for EtOH\n",
    "# Your code here \n"
   ]
  },
  {
   "cell_type": "markdown",
   "metadata": {
    "deletable": false,
    "editable": false,
    "nbgrader": {
     "cell_type": "markdown",
     "checksum": "29c6d048d72a32066684911dc8c09a84",
     "grade": false,
     "grade_id": "cell-df17f4ff826e2012",
     "locked": true,
     "schema_version": 3,
     "solution": false,
     "task": false
    }
   },
   "source": [
    "### Pause for analysis\n",
    "\n",
    "In the cell below, write the temperature at which these data predict that pure ethanol will boil, and how you came to that conclusion."
   ]
  },
  {
   "cell_type": "markdown",
   "metadata": {
    "deletable": false,
    "nbgrader": {
     "cell_type": "markdown",
     "checksum": "6bb8c64500434d67a6ffe9e8837fa023",
     "grade": true,
     "grade_id": "cell-d3ddffdba01c6593",
     "locked": false,
     "points": 2,
     "schema_version": 3,
     "solution": true,
     "task": false
    }
   },
   "source": [
    "YOUR ANSWER HERE"
   ]
  },
  {
   "cell_type": "markdown",
   "metadata": {
    "deletable": false,
    "editable": false,
    "nbgrader": {
     "cell_type": "markdown",
     "checksum": "8f74f7f5c6c5e4db19c4c0628973fcab",
     "grade": false,
     "grade_id": "cell-5bf41dc653ededf8",
     "locked": true,
     "schema_version": 3,
     "solution": false,
     "task": false
    }
   },
   "source": [
    "### Refresh/save/validate/close/submit/logout"
   ]
  }
 ],
 "metadata": {
  "kernelspec": {
   "display_name": "Python 3 (ipykernel)",
   "language": "python",
   "name": "python3"
  },
  "language_info": {
   "codemirror_mode": {
    "name": "ipython",
    "version": 3
   },
   "file_extension": ".py",
   "mimetype": "text/x-python",
   "name": "python",
   "nbconvert_exporter": "python",
   "pygments_lexer": "ipython3",
   "version": "3.10.2"
  }
 },
 "nbformat": 4,
 "nbformat_minor": 2
}

{
 "cells": [
  {
   "cell_type": "markdown",
   "metadata": {
    "deletable": false,
    "editable": false,
    "nbgrader": {
     "cell_type": "markdown",
     "checksum": "317b82459c8d3ad96630d7f9b5a06114",
     "grade": false,
     "grade_id": "cell-99a12843f492ea5a",
     "locked": true,
     "schema_version": 3,
     "solution": false,
     "task": false
    }
   },
   "source": [
    "### Computational Guided Inquiry for PChem (Neshyba, 2024)\n",
    "\n",
    "# Heat, Work, and the 1st Law\n",
    "\n",
    "## Introduction\n",
    "This CGI is about different ways of manipulating a sample of something -- mostly we're thinking about gases -- by letting the gas expand or compressing it, and at the same time allowing heat to move into it or out of it.\n",
    "\n",
    "As it turns out, there's a constraint on the energetics of these manipulations. It's called the 1st law of Thermodynamics, which (in differential form) looks like\n",
    "\n",
    "$$\n",
    "dU = dq + dw \\ \\ \\ \\ (1)\n",
    "$$\n",
    "\n",
    "where $dq$ is a tiny amount of heat that goes in or out of our system, and $dw$ is a tiny amount of work done on or by the system. \n",
    "\n",
    "What effect might this have on our system? Let's consider that the tiny amount of heat & work that goes undergoes also produces a tiny change in $U(T,V)$ too:\n",
    "\n",
    "$$ \n",
    "dU = C_V dT + \\pi_T dV \\ \\ \\ (2)\n",
    "$$\n",
    "\n",
    "Combining those two equations, we get\n",
    "\n",
    "$$ \n",
    "dq + dw  = C_V dT + \\pi_T dV \\ \\ \\ (3)\n",
    "$$\n",
    "\n",
    "Equation 3 may seem rather abstract, but it's really very useful, as the next few examples will (hopefully) convince you. \n",
    "\n",
    "## When we allow heat to go in/out of a substance while keeping its volume constant\n",
    "OK, keeping the volume constant means $dV=0$ and $dw=0$, so Eq. 3 becomes\n",
    "\n",
    "$$\n",
    "dq = C_V dT \\ \\ \\ \\ (4)\n",
    "$$\n",
    "\n",
    "That means we can figure out $dq$ from $dT$, and vice versa, if only we knew the heat capacity of our substance.\n",
    "\n",
    "\n",
    "## When we want a gas to expand or contract, while allowing the transfer of heat (to keep things isothermal)\n",
    "Suppose we have a process in which work *is* done? For a modest (well, infintessimal) change in volume, the work can be calculated from the change in volume using\n",
    "\n",
    "$$\n",
    "dw = -P_{ex}dV \\ \\ \\ \\ (5)\n",
    "$$\n",
    "\n",
    "Of course, we'd need to know what the external pressure is to evaluate this integral. Therefore, to make progress along these lines, it's useful to make some assumptions. One could be that the expansion is *reversible*, another is that the system we're working with is an *ideal gas*, and a third is that the expansion is *isothermal*. In that case, it can be shown that the PV *work* is given by\n",
    "\n",
    "$$\n",
    "w = -n R T ln\\bigl ({V_2 \\over V_1} \\bigr ) \\ \\ \\ \\ (6)  \n",
    "$$\n",
    "\n",
    "while the *heating* associated with this is given by \n",
    "\n",
    "$$\n",
    "q = +n R T ln\\bigl ({V_2 \\over V_1}\\bigr) \\ \\ \\ \\ (7)\n",
    "$$\n",
    "\n",
    "## When we want a gas to expand or contract, while preventing any transfer of heat (also called an adiabatic process)\n",
    "And what if we don't want to impose the condition of constant temperature? A natural response to this question is, \"well, what *do* you want to do about the temperature?\" One response to that question is to impose the condition of *adiabaticity* -- namely, we won't let *any* heat move across the system/surroundings boundary. For an adiabatic reversible expansion of an ideal gas, the fractional change in temperature can be got from the fractional change in volume according to\n",
    "\n",
    "$$ \n",
    "{\\Delta T \\over T} \\approx -{n R \\over C_V} {\\Delta V \\over V} \\ \\ \\ \\ (8)\n",
    "$$\n",
    "\n",
    "as long as these fractional changes are not too great (say, less than 20%, so ${\\Delta V \\over V}<0.2$). For bigger changes, we need to integrate Eq. 8. The result -- subject to the assumption that a substance's heat capacity doen't change much while you're raising its temperature, \n",
    "\n",
    "$$\n",
    "T_2 \\approx T_1 \\times \\bigl ({V_2 \\over V_1} \\bigr ) ^ {-{nR \\over C_V}} \\ \\ \\ \\ (9)\n",
    "$$\n",
    "\n",
    "$$\n",
    "P_2 \\approx P_1 \\times \\bigl ({V_2 \\over V_1} \\bigr ) ^ {-{nR \\over C_V} -1} \\ \\ \\ \\ (10)\n",
    "$$\n",
    "\n",
    "## Learning Goals\n",
    "1. I can carry out calculations associated with various manipulations of ideal gases (expansions, contractions, isothermal, and adiabatic).\n",
    "1. I can create functions in Python and verify that they are correct."
   ]
  },
  {
   "cell_type": "code",
   "execution_count": null,
   "metadata": {
    "deletable": false,
    "editable": false,
    "nbgrader": {
     "cell_type": "code",
     "checksum": "498e179e9c4159183f13f546c2fffa4f",
     "grade": false,
     "grade_id": "cell-2cefc980288b8f21",
     "locked": true,
     "schema_version": 3,
     "solution": false,
     "task": false
    }
   },
   "outputs": [],
   "source": [
    "# Import resources\n",
    "import pint; from pint import UnitRegistry; AssignQuantity = UnitRegistry().Quantity\n",
    "import warnings; warnings.filterwarnings(\"ignore\", \"The unit of the quantity is stripped when downcasting to ndarray\")\n",
    "import numpy as np\n",
    "import matplotlib.pyplot as plt\n",
    "import sys; sys.path.append('/home'); import PchemLibrary as PL"
   ]
  },
  {
   "cell_type": "code",
   "execution_count": null,
   "metadata": {
    "deletable": false,
    "editable": false,
    "nbgrader": {
     "cell_type": "code",
     "checksum": "c651a5d7dd9257dbb096d9c74d492827",
     "grade": false,
     "grade_id": "cell-e1472b882e71733c",
     "locked": true,
     "schema_version": 3,
     "solution": false,
     "task": false
    }
   },
   "outputs": [],
   "source": [
    "%matplotlib inline"
   ]
  },
  {
   "cell_type": "code",
   "execution_count": null,
   "metadata": {
    "deletable": false,
    "editable": false,
    "nbgrader": {
     "cell_type": "code",
     "checksum": "fa5386d128881222493f7cba2b592913",
     "grade": false,
     "grade_id": "cell-2ce355264247e8be",
     "locked": true,
     "schema_version": 3,
     "solution": false,
     "task": false
    }
   },
   "outputs": [],
   "source": [
    "R = AssignQuantity(8.314,'J/mol/K'); print(R)\n",
    "n = AssignQuantity(1,'mol'); print(n)"
   ]
  },
  {
   "cell_type": "markdown",
   "metadata": {
    "deletable": false,
    "editable": false,
    "nbgrader": {
     "cell_type": "markdown",
     "checksum": "5f590aed612515f776b73d5241a4476b",
     "grade": false,
     "grade_id": "cell-652ca03c71c0c7c8",
     "locked": true,
     "schema_version": 3,
     "solution": false,
     "task": false
    }
   },
   "source": [
    "### Temperature increases when you heat up an ideal gas at a constant volume\n",
    "Here we're looking for the temperature increase in one mole of a monatomic ideal gas when 100 J is added to it, all the while (perhaps unwisely) keeping the gas confined to a constant volume. Considering that\n",
    "\n",
    "- There can't be any work done if the volume is held constant\n",
    "- $\\pi_T=0$ for an ideal gas\n",
    "- $C_V$ is constant (${3 \\over 2}nR$) for a monatomic ideal gas\n",
    "\n",
    "then Eq. 4 can be integrated to \n",
    "\n",
    "$$\n",
    "q = C_V \\Delta T\n",
    "$$\n",
    "\n",
    "which can be solved for $\\Delta T$."
   ]
  },
  {
   "cell_type": "code",
   "execution_count": null,
   "metadata": {
    "deletable": false,
    "nbgrader": {
     "cell_type": "code",
     "checksum": "63431a6965e98c15b1f6732ac5709429",
     "grade": true,
     "grade_id": "cell-f2ec9cf8e4155cbb",
     "locked": false,
     "points": 2,
     "schema_version": 3,
     "solution": true,
     "task": false
    }
   },
   "outputs": [],
   "source": [
    "# Your code here \n"
   ]
  },
  {
   "cell_type": "markdown",
   "metadata": {
    "deletable": false,
    "editable": false,
    "nbgrader": {
     "cell_type": "markdown",
     "checksum": "a274c95bec8c44f3a0d556190aa825ca",
     "grade": false,
     "grade_id": "cell-3255f9ac9c7f5d8a",
     "locked": true,
     "schema_version": 3,
     "solution": false,
     "task": false
    }
   },
   "source": [
    "### Heat and work of an isothermal expansion of an ideal gas when you know the volumes and temperature\n",
    "When one mole of an ideal diatomic gas in the classical limit is expanded from 10 L to 20 L, at 298 K, find the work and the heat. Eqs. (6-7) should help here. Don't forget that in numpy, \"np.log\" is the natural log."
   ]
  },
  {
   "cell_type": "code",
   "execution_count": null,
   "metadata": {
    "deletable": false,
    "nbgrader": {
     "cell_type": "code",
     "checksum": "38983313854b2ae5743885c3b79bed99",
     "grade": true,
     "grade_id": "cell-75f1e7c197db0d52",
     "locked": false,
     "points": 2,
     "schema_version": 3,
     "solution": true,
     "task": false
    }
   },
   "outputs": [],
   "source": [
    "# Your code here \n"
   ]
  },
  {
   "cell_type": "markdown",
   "metadata": {
    "deletable": false,
    "editable": false,
    "nbgrader": {
     "cell_type": "markdown",
     "checksum": "abfb8f89a6628c67fd05295f92e841a5",
     "grade": false,
     "grade_id": "cell-9239f1315b3662fc",
     "locked": true,
     "schema_version": 3,
     "solution": false,
     "task": false
    }
   },
   "source": [
    "### Volume of a gas after it has undergone isothermal expansion of known heat & work\n",
    "Suppose one mole an ideal diatomic gas is expanded isothermally at 298 K, starting at 20 L. Assuming this process absorbed 500 J of heat (which means it did 500 J of work on the surroundings), find the final volume. Equation 6 should help here, although you'll have to solve it for the final volume. Oh, and don't forget that numpy's version of $e^x$ is np.exp(x). "
   ]
  },
  {
   "cell_type": "code",
   "execution_count": null,
   "metadata": {
    "deletable": false,
    "nbgrader": {
     "cell_type": "code",
     "checksum": "4b73bc11d7c234bfe294ba218b687241",
     "grade": true,
     "grade_id": "cell-33cee1ec92468a69",
     "locked": false,
     "points": 2,
     "schema_version": 3,
     "solution": true,
     "task": false
    }
   },
   "outputs": [],
   "source": [
    "# Your code here \n"
   ]
  },
  {
   "cell_type": "markdown",
   "metadata": {
    "deletable": false,
    "editable": false,
    "nbgrader": {
     "cell_type": "markdown",
     "checksum": "7a4a63368c3660c236e0e04543a6d169",
     "grade": false,
     "grade_id": "cell-5274298f01783eac",
     "locked": true,
     "schema_version": 3,
     "solution": false,
     "task": false
    }
   },
   "source": [
    "### Changes in temperature from a small change in volume during adiabatic expansion or compression \n",
    "When one mole of an ideal monatomic gas is expanded adiabatically from 10 L, up 2 L to 12 L, starting at 298 K, what % reduction in temperature will it experience? Equation 8 will help, if you think of this as a 20% expansion, so ${\\Delta V \\over V}={2 \\over 10}$. "
   ]
  },
  {
   "cell_type": "code",
   "execution_count": null,
   "metadata": {
    "deletable": false,
    "nbgrader": {
     "cell_type": "code",
     "checksum": "6c401002f12ad78136a46c6a2c0da482",
     "grade": true,
     "grade_id": "cell-8fbec47ac6bce227",
     "locked": false,
     "points": 2,
     "schema_version": 3,
     "solution": true,
     "task": false
    }
   },
   "outputs": [],
   "source": [
    "# Your code here \n"
   ]
  },
  {
   "cell_type": "markdown",
   "metadata": {
    "deletable": false,
    "editable": false,
    "nbgrader": {
     "cell_type": "markdown",
     "checksum": "165deaf2ae12446cb1d77cad1e8fbeb2",
     "grade": false,
     "grade_id": "cell-65e1b6f6149045cf",
     "locked": true,
     "schema_version": 3,
     "solution": false,
     "task": false
    }
   },
   "source": [
    "### Changes in temperature from in a multi-step adiabatic expansion \n",
    "When one mole an ideal monatomic gas is expanded adiabatically from 20 L to 40 L, starting at 298 K, what's the final temperature? Eq. 8 is not valid in this case because this increase in volume is much bigger than 20% -- so you'll have to resort to the more accurate Eq. 9."
   ]
  },
  {
   "cell_type": "code",
   "execution_count": null,
   "metadata": {
    "deletable": false,
    "nbgrader": {
     "cell_type": "code",
     "checksum": "507d66467874d6e9faad718f49c6be8f",
     "grade": true,
     "grade_id": "cell-67eb8af378dda4c5",
     "locked": false,
     "points": 2,
     "schema_version": 3,
     "solution": true,
     "task": false
    }
   },
   "outputs": [],
   "source": [
    "# Your code here \n"
   ]
  },
  {
   "cell_type": "markdown",
   "metadata": {
    "deletable": false,
    "editable": false,
    "nbgrader": {
     "cell_type": "markdown",
     "checksum": "ff872b8c23255edb9657393363c40b56",
     "grade": false,
     "grade_id": "cell-66c664d807d30431",
     "locked": true,
     "schema_version": 3,
     "solution": false,
     "task": false
    }
   },
   "source": [
    "### Functions\n",
    "Functions in Python are really handy ways to do similar tasks multiple times. You may have already noticed them in our code: we've used one that calculates state spaces (\"StateSpace\"), and others that calculate partial derivatives (\"dF_dx\" and \"dF_dy\"). \n",
    "\n",
    "Another example is given below. This function calculates a Boyle isotherm. Its job is to return an array of volumes from V1 to V2 (you get to specify those limits when you call this function), and another array that corresponds to the pressures at those volumes. \n",
    "\n",
    "Since you'll be learning how to make these functions, it's worth paying attention to some syntax issues here. Note the colon at the end of the first line, and the indentation of the rest of the lines. Also, some semantics: we call the variables in parentheses in the first line (i.e., *V1*, *V2*, *n*, *R*, and *T*) the *arguments* of the function. We call any variables that follow the word \"return\" in the last line (in this case, *Varray* and *Parray*) the *results* of the function.\n",
    "\n",
    "Another way of thinking about this is, *arguments* are what go *into* a function, and *results* are what come *out*.\n",
    "\n",
    "Execute this cell now."
   ]
  },
  {
   "cell_type": "code",
   "execution_count": null,
   "metadata": {
    "deletable": false,
    "editable": false,
    "nbgrader": {
     "cell_type": "code",
     "checksum": "06cc7d59c2dd05520a5e1fd7ad34d369",
     "grade": false,
     "grade_id": "cell-68daec59da8db6d9",
     "locked": true,
     "schema_version": 3,
     "solution": false,
     "task": false
    }
   },
   "outputs": [],
   "source": [
    "# Defining an isothermal expansion/contraction function\n",
    "def func_P_isotherm(V1,V2,n,R,T):\n",
    "    Varray = np.linspace(V1,V2)\n",
    "    Parray = n*R*T/Varray\n",
    "    return Varray, Parray"
   ]
  },
  {
   "cell_type": "markdown",
   "metadata": {
    "deletable": false,
    "editable": false,
    "nbgrader": {
     "cell_type": "markdown",
     "checksum": "a6db385d3265d03969b1529c5665db3f",
     "grade": false,
     "grade_id": "cell-96b2e0b545a8854b",
     "locked": true,
     "schema_version": 3,
     "solution": false,
     "task": false
    }
   },
   "source": [
    "### Pause for analysis\n",
    "Nothing seemed to happen, right? But it did! Python has quietly stored that function in its memory, ready for whenever you want to use it.\n",
    "\n",
    "We do this in the cell below. A key point to note about this is that the *names of arguments and results don't have to be the same as what's in the function definition.* In the code below, for example, the line\n",
    "\n",
    "    V_isotherm, P_isotherm = func_P_isotherm(V1,V2,n,R,T)\n",
    "    \n",
    "specifies that you want the names of the returned volume and pressure arrays to be *V_isotherm* and *P_isotherm*, rather than *Varray* and *Parray*. It doesn't *hurt* to give them the same names as in the function definition, you just don't have to. \n",
    "\n",
    "In this example, the caller has given all the arguments the same names as the function does. Those could have been different too, it's just not necessary. \n",
    "\n",
    "Execute the cell below and you'll see the results displayed graphically!"
   ]
  },
  {
   "cell_type": "code",
   "execution_count": null,
   "metadata": {
    "deletable": false,
    "editable": false,
    "nbgrader": {
     "cell_type": "code",
     "checksum": "80bfd52bd59fa11b7c1c371a4cd1fe3a",
     "grade": false,
     "grade_id": "cell-5b271c83929ea8cc",
     "locked": true,
     "schema_version": 3,
     "solution": false,
     "task": false
    }
   },
   "outputs": [],
   "source": [
    "# Using our isothermal expansion function\n",
    "\n",
    "# Define a temperature\n",
    "T = AssignQuantity(298,'K')\n",
    "\n",
    "# Lay out the range of volumes we want\n",
    "V1 = AssignQuantity(10,'L')\n",
    "V2 = AssignQuantity(20,'L')\n",
    "\n",
    "# Make call to our isotherm function\n",
    "V_isotherm, P_isotherm = func_P_isotherm(V1,V2,n,R,T)\n",
    "\n",
    "# Plot the results\n",
    "plt.figure()\n",
    "plt.plot(V_isotherm, P_isotherm)\n",
    "plt.xlabel('V')\n",
    "plt.ylabel('P')\n",
    "plt.grid(True)"
   ]
  },
  {
   "cell_type": "markdown",
   "metadata": {
    "deletable": false,
    "editable": false,
    "nbgrader": {
     "cell_type": "markdown",
     "checksum": "ce5baae8c26053707d094b81596a2e75",
     "grade": false,
     "grade_id": "cell-9d6c3babb8bccb11",
     "locked": true,
     "schema_version": 3,
     "solution": false,
     "task": false
    }
   },
   "source": [
    "### Your turn\n",
    "In the cell below, your challenge is to create a function called *func_P_adiabat*. This function's job is to calculate the pressure of an adiabat of a gas whose starting volume is V1, and whose starting temperature is T1; then the gas is expanded until its volume reaches V2. As it does so, its pressure and temperature both drop. \n",
    "\n",
    "Some notes:\n",
    "- Equation 10 is the relevant relationship\n",
    "- Make the *arguments* of *func_P_adiabat* V1, V2, n, R, T1, and C_V (all of which are scalars)\n",
    "- Make the *results* V2array and P2array (both of which are arrays)"
   ]
  },
  {
   "cell_type": "code",
   "execution_count": null,
   "metadata": {
    "deletable": false,
    "nbgrader": {
     "cell_type": "code",
     "checksum": "1ff66023b71ec71eeee42b88920cd632",
     "grade": true,
     "grade_id": "cell-989b6a92f7cf5149",
     "locked": false,
     "points": 2,
     "schema_version": 3,
     "solution": true,
     "task": false
    }
   },
   "outputs": [],
   "source": [
    "# Your code here \n"
   ]
  },
  {
   "cell_type": "markdown",
   "metadata": {
    "deletable": false,
    "editable": false,
    "nbgrader": {
     "cell_type": "markdown",
     "checksum": "01b29d9b65dd95a405289b4e73cb2887",
     "grade": false,
     "grade_id": "cell-e381f4d5474732eb",
     "locked": true,
     "schema_version": 3,
     "solution": false,
     "task": false
    }
   },
   "source": [
    "### Exercising your function\n",
    "Let's take *func_P_adiabat* out for a spin! We've set up the first part in the cell below; all you need to do is make the call to your *func_P_adiabat*, and graph the results."
   ]
  },
  {
   "cell_type": "code",
   "execution_count": null,
   "metadata": {
    "deletable": false,
    "nbgrader": {
     "cell_type": "code",
     "checksum": "b076131f1508123c9b1701ab64deb45e",
     "grade": true,
     "grade_id": "cell-3e754eae46246105",
     "locked": false,
     "points": 4,
     "schema_version": 3,
     "solution": true,
     "task": false
    }
   },
   "outputs": [],
   "source": [
    "# Heat capacity for a monatomic ideal gas, 1 mole\n",
    "C_V = 3/2*R*n\n",
    "\n",
    "# Define the starting temperature\n",
    "Tstart = AssignQuantity(298,'K')\n",
    "\n",
    "# Lay out the range of volumes we want\n",
    "V1 = AssignQuantity(10,'L')\n",
    "V2 = AssignQuantity(20,'L')\n",
    "\n",
    "# Make the call to func_P_adiabat, naming the returned arrays \"V_adiabat\" and \"P_adiabat\"\n",
    "# Your code here \n",
    "\n",
    "\n",
    "# Plot the results (P as a function of V)\n",
    "# Your code here \n"
   ]
  },
  {
   "cell_type": "markdown",
   "metadata": {
    "deletable": false,
    "editable": false,
    "nbgrader": {
     "cell_type": "markdown",
     "checksum": "6a1dd476297650c4f3d6ed6ed51e232f",
     "grade": false,
     "grade_id": "cell-00b8c11569aa3d88",
     "locked": true,
     "schema_version": 3,
     "solution": false,
     "task": false
    }
   },
   "source": [
    "### Graphing adiabats and isotherms together\n",
    "It's a bit difficult to tell, from the preceding graphs, how adiabats and isotherms differ. To do that, we need to look at them on the same graph. In the cell below, plot your adiabat (\"P_adiabat\") and isotherm (\"P_isotherm\") on the same graph, as a function of their volume arrays (\"V_adiabat\" and \"V_isotherm\"). Annotate using the label/legend method."
   ]
  },
  {
   "cell_type": "code",
   "execution_count": null,
   "metadata": {
    "deletable": false,
    "nbgrader": {
     "cell_type": "code",
     "checksum": "f6767f33f73eb7b098dd376ccb97d0c2",
     "grade": true,
     "grade_id": "cell-52b12f7728566ed6",
     "locked": false,
     "points": 2,
     "schema_version": 3,
     "solution": true,
     "task": false
    }
   },
   "outputs": [],
   "source": [
    "# Your code here \n"
   ]
  },
  {
   "cell_type": "markdown",
   "metadata": {
    "deletable": false,
    "editable": false,
    "nbgrader": {
     "cell_type": "markdown",
     "checksum": "08ac8ea5176e5af58576634889697305",
     "grade": false,
     "grade_id": "cell-746f718d080f02b0",
     "locked": true,
     "schema_version": 3,
     "solution": false,
     "task": false
    }
   },
   "source": [
    "### Refresh/save/validate/close/submit/logout"
   ]
  }
 ],
 "metadata": {
  "kernelspec": {
   "display_name": "Python 3 (ipykernel)",
   "language": "python",
   "name": "python3"
  },
  "language_info": {
   "codemirror_mode": {
    "name": "ipython",
    "version": 3
   },
   "file_extension": ".py",
   "mimetype": "text/x-python",
   "name": "python",
   "nbconvert_exporter": "python",
   "pygments_lexer": "ipython3",
   "version": "3.10.2"
  }
 },
 "nbformat": 4,
 "nbformat_minor": 2
}

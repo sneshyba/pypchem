{
 "cells": [
  {
   "cell_type": "markdown",
   "metadata": {
    "deletable": false,
    "editable": false,
    "nbgrader": {
     "cell_type": "markdown",
     "checksum": "8a2c5050862f93ffc9e23d39de7ac258",
     "grade": false,
     "grade_id": "cell-dd2df3ea76c02cb9",
     "locked": true,
     "schema_version": 3,
     "solution": false,
     "task": false
    }
   },
   "source": [
    "### Computational Guided Inquiry for PChem (Neshyba, 2024)\n",
    "\n",
    "# Raoult and Blagden\n",
    "\n",
    "## Introduction\n",
    "The phenomenon of freezing point depression appears in lots of places: it's why sea ice freezes at $-2 ^oC$, and it's why roads are often salted in wintertime. Our task here is to see if we can predict the magnitude of that depression from basic thermodynamic principles. On the way, we'll see the connection between two fundamental \"Laws\" of solution chemistry, attributed to Raoult and Blagden.\n",
    "\n",
    "## Raoult and the case of the shifting triple point\n",
    "We'll begin with the liquid-vapor boundary line in a conventional phase diagram, given by the Clausius-Clapeyron Equation as\n",
    "\n",
    "$$\n",
    "P^* = P_3 \\times exp \\big (  -{\\Delta H_{vap} \\over nR} \\times ({1 \\over T} - {1 \\over T_3}) \\big ) \\ \\ \\ (1)\n",
    "$$\n",
    "\n",
    "where we've introduced a \"$*$\" on the left hand to indicate that this expression works for pure solvents. \n",
    "\n",
    "It turns out that when a solute is dissolved in a solvent, this pressure is reduced. You can see the effect in Fig. 1, in which a new solution-vapor boundary (shown in purple) lies below that of the original (teal-colored) liquid solvent boundary. Where the purple curve intersects the solid-liquid curve defines a new triple point, and therefore a new freezing temperature. \n",
    "\n",
    "<p style='text-align: center;'>\n",
    "<img src=\"https://cdn1.byjus.com/wp-content/uploads/2016/10/Freezing-Point-Depression-in-Solutions-768x336.png\" height=\"700\" width=\"700\"/>  \n",
    "<strong>Figure 1</strong>. Freezing point depression in a phase diagram.\n",
    "</p>\n",
    "\n",
    "It's perhaps obvious to you that this shift will be greater when there's more solute dissolved in the solvent. The connection is given by *Raoult's Law*,\n",
    "\n",
    "$$\n",
    "P_{H_2O}=\\chi_{H_2O} \\times P_{H_2O}^* \\ \\ \\ (2)\n",
    "$$\n",
    "\n",
    "where $\\chi_{H_2O}$ is the mole fraction of the *solvent* (here, water) when something is dissolved in it. We can relate that value to the *solute's* concentration according to \n",
    "\n",
    "$$\n",
    "\\chi_{H_2O} = \\frac 1 {1+M_{H_2O} b_B} \\ \\ \\ (3)\n",
    "$$\n",
    "\n",
    "where we've added subscripts to remind ourselves that ${H_2O}$ is the solvent and B is a solute. The quantity $b_B$ in this equation is what's called the *molality* of the solute, defined as the moles of solute (say, aqueous B) divided by kg of solvent (e.g., water). \n",
    "\n",
    "You can see from Eqs. 2 and 3 that the purple curve (the solution-vapor phase boundary) *has* to lie below that of the teal curve (the pure solvent's vapor phase boundary) because $\\chi_{H_2O} < 1$, and therefore The amount by which the new triple point *has* to lie to the left (i.e., be colder) than the original. The shift to the left is called $\\Delta T_F$, or the \"freezing point depression\" of the solution. \n",
    "\n",
    "## Blagden's Law\n",
    "It turns out that linearization of the governing equations (a phrase that buries a lot of theory!) leads to the approximation \n",
    "\n",
    "$$\n",
    "\\Delta T_F = K_A \\times b_B \\ \\ \\ (4) \n",
    "$$ \n",
    "\n",
    "where $K_A$ is called the solvent's *cryoscopic constant*. \n",
    "\n",
    "## The idea of this CGI\n",
    "The idea of this CGI is to use Raoult's Law to tabulate (in a spreadsheet) how the resulting freezing point depression, $\\Delta T_F$, depends on $b$. Once you have enough points, you'll be able to find the slope of $\\Delta T_F$ as a function of $b$, which is $K_A$.\n",
    "\n",
    "## Learning goals\n",
    "1. I can explain what molality is, and compute mole fractions from it.\n",
    "1. I can use the Clausius-Clapeyron equation in combination with Raoult's law to predict the freezing temperature of an aqueous solution with a given concentration of solute.\n",
    "1. I can use Raoult's Law in combination with a spreadsheet to obtain a value of a solvent's cryoscopic constant. "
   ]
  },
  {
   "cell_type": "code",
   "execution_count": null,
   "metadata": {
    "deletable": false,
    "editable": false,
    "nbgrader": {
     "cell_type": "code",
     "checksum": "99fdb6a3a0d83ce1852ed06906ce0419",
     "grade": false,
     "grade_id": "cell-3b9b61d2eaee70dc",
     "locked": true,
     "schema_version": 3,
     "solution": false,
     "task": false
    }
   },
   "outputs": [],
   "source": [
    "# Import resources \n",
    "import pint; from pint import UnitRegistry; AssignQuantity = UnitRegistry().Quantity\n",
    "import warnings; warnings.filterwarnings(\"ignore\", \"The unit of the quantity is stripped when downcasting to ndarray\")\n",
    "import numpy as np\n",
    "import matplotlib.pyplot as plt\n",
    "import sys; sys.path.append('/home'); import PchemLibrary as PL"
   ]
  },
  {
   "cell_type": "code",
   "execution_count": null,
   "metadata": {
    "deletable": false,
    "editable": false,
    "nbgrader": {
     "cell_type": "code",
     "checksum": "b1903318c064d240ffc3e47a1b89ffd5",
     "grade": false,
     "grade_id": "cell-b068d8679f28c349",
     "locked": true,
     "schema_version": 3,
     "solution": false,
     "task": false
    }
   },
   "outputs": [],
   "source": [
    "%matplotlib notebook"
   ]
  },
  {
   "cell_type": "code",
   "execution_count": null,
   "metadata": {
    "deletable": false,
    "editable": false,
    "nbgrader": {
     "cell_type": "code",
     "checksum": "e0652aa5a06b3ec5890091ca93f58a90",
     "grade": false,
     "grade_id": "cell-98c0cbf3a766d642",
     "locked": true,
     "schema_version": 3,
     "solution": false,
     "task": false
    }
   },
   "outputs": [],
   "source": [
    "# Gas constant in SI units\n",
    "R = AssignQuantity(8.314,'J/mol/K'); print(R)\n",
    "\n",
    "# Triple point of water\n",
    "T3 = AssignQuantity(273.16,'K'); print(T3)\n",
    "P3 = AssignQuantity(612,'Pa'); print(P3)\n",
    "\n",
    "# Molar mass of water\n",
    "M = AssignQuantity(18,'g/mol')\n",
    "\n",
    "# Enthalpy of vap and sub\n",
    "DHvap = AssignQuantity(44,'kJ/mol')\n",
    "DHsub = AssignQuantity(50,'kJ/mol')"
   ]
  },
  {
   "cell_type": "markdown",
   "metadata": {
    "deletable": false,
    "editable": false,
    "nbgrader": {
     "cell_type": "markdown",
     "checksum": "ec6d0a52cfc94b066b35fb1346bb88ae",
     "grade": false,
     "grade_id": "cell-2cfe67c7e5a2b020",
     "locked": true,
     "schema_version": 3,
     "solution": false,
     "task": false
    }
   },
   "source": [
    "### Defining an extended (supercooled or superheated) Clausius-Clapeyron function\n",
    "The function below is provided for you and can be run as-is. But if you want to see a different amount of superheating or cooling in your graphs below, you can alter the first few lines to suit."
   ]
  },
  {
   "cell_type": "code",
   "execution_count": null,
   "metadata": {},
   "outputs": [],
   "source": [
    "def Clausius_Clapeyron_super(T,T3,P3,DH,R,AssignQuantity):\n",
    "    \"\"\" This function calculates Clausius-Clapeyron curves past the triple point\"\"\"\n",
    "    \n",
    "    # The numbers here determine how much superheating or supercooling we want to see\n",
    "    superheat = AssignQuantity(5,'K')\n",
    "    supercool = AssignQuantity(5,'K')\n",
    "\n",
    "    # Decide on whether we're superheating or supercooling, and extend appropriately\n",
    "    if T < T3:\n",
    "        print('Supercooling ...')\n",
    "        T_array = AssignQuantity(np.linspace(T,T3+superheat),T.units)\n",
    "    else:\n",
    "        print('Superheating ...')\n",
    "        T_array = AssignQuantity(np.linspace(T3-supercool,T),T.units)\n",
    "    R.ito('J/mol/K')\n",
    "    DH.ito('J/mol')\n",
    "    P_array = P3*np.exp(-DH/R*(1/T_array-1/T3))\n",
    "\n",
    "    # Return the temperature and pressure arrays\n",
    "    return T_array, P_array"
   ]
  },
  {
   "cell_type": "markdown",
   "metadata": {
    "deletable": false,
    "editable": false,
    "nbgrader": {
     "cell_type": "markdown",
     "checksum": "3ceb81f44828367565a7c21bf24f2351",
     "grade": false,
     "grade_id": "cell-494915560aeca186",
     "locked": true,
     "schema_version": 3,
     "solution": false,
     "task": false
    }
   },
   "source": [
    "### Using the extended Clausius-Clapeyron equation\n",
    "The first line below uses Clausius_Clapeyron_super to calculate $P_{H_2O,liq}^*$ *up* to 278 K. The temperature range starts a few degrees below $T_3$, because this is *super* Clausius-Clapeyron! \n",
    "\n",
    "Add another line that uses Clausius_Clapeyron_super to calculate $P_{H_2O,ice}^*$ *down* to 268 K. You can call the resulting arrays T_sv and P_sv, if you like."
   ]
  },
  {
   "cell_type": "code",
   "execution_count": null,
   "metadata": {
    "deletable": false,
    "nbgrader": {
     "cell_type": "code",
     "checksum": "789964b9109eace406a0b04b2513da64",
     "grade": true,
     "grade_id": "cell-d9219c8e96d1b1be",
     "locked": false,
     "points": 3,
     "schema_version": 3,
     "solution": true,
     "task": false
    }
   },
   "outputs": [],
   "source": [
    "# Call Clausius_Clapeyron for the liquid->vapor phase boundary, going up to 278 K.\n",
    "T_lv, P_lv = Clausius_Clapeyron_super(AssignQuantity(278,'K'),T3,P3,DHvap,R,AssignQuantity)\n",
    "\n",
    "# Call Clausius_Clapeyron for the solid->vapor phase boundary, going down to 268 K.\n",
    "# Your code here \n"
   ]
  },
  {
   "cell_type": "markdown",
   "metadata": {
    "deletable": false,
    "editable": false,
    "nbgrader": {
     "cell_type": "markdown",
     "checksum": "386a702d747f961ca98db8509bb9c668",
     "grade": false,
     "grade_id": "cell-fec6b7bdb402c5d6",
     "locked": true,
     "schema_version": 3,
     "solution": false,
     "task": false
    }
   },
   "source": [
    "### Plotting the results\n",
    "Plot these two pressures ($P_{H_2O,liq}^*$ and $P_{H_2O,ice}^*$), with appropriate legends. Our coloring convention is green for liquid->vapor, orange for solid->vapor. "
   ]
  },
  {
   "cell_type": "code",
   "execution_count": null,
   "metadata": {
    "deletable": false,
    "nbgrader": {
     "cell_type": "code",
     "checksum": "e0e39325656db66a9d1652481ff7cc99",
     "grade": true,
     "grade_id": "cell-02cf05b636bb7e74",
     "locked": false,
     "points": 4,
     "schema_version": 3,
     "solution": true,
     "task": false
    }
   },
   "outputs": [],
   "source": [
    "# Plot the solid->vapor, liquid->vapor phase boundaries\n",
    "# Your code here \n"
   ]
  },
  {
   "cell_type": "markdown",
   "metadata": {
    "deletable": false,
    "editable": false,
    "nbgrader": {
     "cell_type": "markdown",
     "checksum": "3a4ab3e0e36081a9fca7881af17a54a4",
     "grade": false,
     "grade_id": "cell-0a707045ef05820b",
     "locked": true,
     "schema_version": 3,
     "solution": false,
     "task": false
    }
   },
   "source": [
    "### Pause for analysis\n",
    "Using the zoom feature, double-check that the intersection really does occur at water's triple point, $T_3=273.16 \\ K$ and $P_3 = 612 \\ Pa$. "
   ]
  },
  {
   "cell_type": "markdown",
   "metadata": {
    "deletable": false,
    "editable": false,
    "nbgrader": {
     "cell_type": "markdown",
     "checksum": "82c28e7ef1ede3d38de364f6c15c5b79",
     "grade": false,
     "grade_id": "cell-25c8f357d368b41f",
     "locked": true,
     "schema_version": 3,
     "solution": false,
     "task": false
    }
   },
   "source": [
    "### Applying Raoult's Law\n",
    "In the cell below, you'll examine the consequences of using a solute molality of $0.5 \\ mol/kg$, when the solvent is water. First, you'll calculate the mole fraction of *water* in that solution, using Eq. 3. \n",
    "\n",
    "Once you have $\\chi_{H_2O}$, plot the pressure of the two phase boundaries you got previously, but add on the Raoult-corrected pressure too, with appropriate legends. Use a dashed line for the Raoult result, something like\n",
    "\n",
    "    plt.plot(T_lv,P_lv*chiH2O,color='green',label='liq-vapor',linestyle='dashed')\n"
   ]
  },
  {
   "cell_type": "code",
   "execution_count": null,
   "metadata": {
    "deletable": false,
    "nbgrader": {
     "cell_type": "code",
     "checksum": "d9f77abc3ffd2718e3a6b684e6dd308f",
     "grade": true,
     "grade_id": "cell-29557c5bf0485e3b",
     "locked": false,
     "points": 4,
     "schema_version": 3,
     "solution": true,
     "task": false
    }
   },
   "outputs": [],
   "source": [
    "# Assign a value of 0.5 mol/kg to b, and use it to calculate the mole fraction of water in this solution \n",
    "# Your code here \n",
    "\n",
    "\n",
    "# Plot the solid->vapor, liquid->vapor, and Raoult-corrected liquid-> vapor phase boundaries\n",
    "# Your code here \n"
   ]
  },
  {
   "cell_type": "markdown",
   "metadata": {
    "deletable": false,
    "editable": false,
    "nbgrader": {
     "cell_type": "markdown",
     "checksum": "983bf75d8401b6121e2557ee5eeae79f",
     "grade": false,
     "grade_id": "cell-ca6dfbc48ea93e39",
     "locked": true,
     "schema_version": 3,
     "solution": false,
     "task": false
    }
   },
   "source": [
    "### Pause for analysis\n",
    "Using the zoom feature, figure out the new freezing temperature, and record your results in spreadsheet. Then run the whole notebook again a few more times, with increasing concentrations of solute b, and record your results. You probably don't want to get much above $b_B=2 {\\ mol \\over kg}$, or else you'll have to expand the limits of your graph. Once you're happy with your data set, use a trendline analysis in your spreadsheet to get the slope; see Eq. 4 in the Introduction. Once you've done all that, in the cell below, \n",
    "\n",
    "1. Report the value of $K_A$ you get, with appropriate units. \n",
    "1. Find a literature value to compare to (e.g., https://en.wikipedia.org/wiki/List_of_boiling_and_freezing_information_of_solvents). Your value should line up fairly well, but if it's not perfect, remember that we made some assumptions getting here. "
   ]
  },
  {
   "cell_type": "markdown",
   "metadata": {
    "deletable": false,
    "nbgrader": {
     "cell_type": "markdown",
     "checksum": "0b83f58b433b9341e05334c3ef79bc7f",
     "grade": true,
     "grade_id": "cell-74387fa7fe9b3534",
     "locked": false,
     "points": 2,
     "schema_version": 3,
     "solution": true,
     "task": false
    }
   },
   "source": [
    "YOUR ANSWER HERE"
   ]
  },
  {
   "cell_type": "markdown",
   "metadata": {
    "deletable": false,
    "editable": false,
    "nbgrader": {
     "cell_type": "markdown",
     "checksum": "c76c134ab06b1784f5d281a4fcbda4dd",
     "grade": false,
     "grade_id": "cell-9c7487a0420fd606",
     "locked": true,
     "schema_version": 3,
     "solution": false,
     "task": false
    }
   },
   "source": [
    "### Refresh/save/validate/close/submit/logout"
   ]
  }
 ],
 "metadata": {
  "kernelspec": {
   "display_name": "Python 3 (ipykernel)",
   "language": "python",
   "name": "python3"
  },
  "language_info": {
   "codemirror_mode": {
    "name": "ipython",
    "version": 3
   },
   "file_extension": ".py",
   "mimetype": "text/x-python",
   "name": "python",
   "nbconvert_exporter": "python",
   "pygments_lexer": "ipython3",
   "version": "3.10.2"
  }
 },
 "nbformat": 4,
 "nbformat_minor": 2
}

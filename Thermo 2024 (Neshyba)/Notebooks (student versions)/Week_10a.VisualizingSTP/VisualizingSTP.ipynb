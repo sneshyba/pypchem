{
 "cells": [
  {
   "cell_type": "markdown",
   "metadata": {
    "deletable": false,
    "editable": false,
    "nbgrader": {
     "cell_type": "markdown",
     "checksum": "a2c739953c66473fd43be1b9772bc942",
     "grade": false,
     "grade_id": "cell-e738c8668287b02a",
     "locked": true,
     "schema_version": 3,
     "solution": false,
     "task": false
    }
   },
   "source": [
    "### Computational Guided Inquiry for PChem (Neshyba, 2024)\n",
    "\n",
    "# Visualizing $S(T,P)$\n",
    "\n",
    "\n",
    "## Learning Goals\n",
    "1. Gain an intuition for the shape of $S(T,P)$ for solids, liquids, and gases: their slopes, isobars, and isotherms\n",
    "1. Explain trends in $\\Delta S_{trs}$ (trs=vap, sub, and fus) with respect to changes in pressure and temperature"
   ]
  },
  {
   "cell_type": "code",
   "execution_count": null,
   "metadata": {
    "deletable": false,
    "editable": false,
    "nbgrader": {
     "cell_type": "code",
     "checksum": "86dac06748addb14579e4a8a4e3e03c3",
     "grade": false,
     "grade_id": "cell-8e8c2cd153b2e3dc",
     "locked": true,
     "schema_version": 3,
     "solution": false,
     "task": false
    }
   },
   "outputs": [],
   "source": [
    "import pint; from pint import UnitRegistry; AssignQuantity = UnitRegistry().Quantity\n",
    "import warnings; warnings.filterwarnings(\"ignore\", \"The unit of the quantity is stripped when downcasting to ndarray\")\n",
    "import numpy as np\n",
    "import matplotlib.pyplot as plt\n",
    "import sys; sys.path.append('/home'); import PchemLibrary as PL"
   ]
  },
  {
   "cell_type": "code",
   "execution_count": null,
   "metadata": {
    "deletable": false,
    "editable": false,
    "nbgrader": {
     "cell_type": "code",
     "checksum": "2d30bef69b417f2ba7fd46fe187b8d26",
     "grade": false,
     "grade_id": "cell-e58c43f0d8a23837",
     "locked": true,
     "schema_version": 3,
     "solution": false,
     "task": false
    }
   },
   "outputs": [],
   "source": [
    "%matplotlib notebook"
   ]
  },
  {
   "cell_type": "markdown",
   "metadata": {
    "deletable": false,
    "editable": false,
    "nbgrader": {
     "cell_type": "markdown",
     "checksum": "0dbb710fc1d64581c9da1d94cb6d9cf1",
     "grade": false,
     "grade_id": "cell-a518b1d966502a55",
     "locked": true,
     "schema_version": 3,
     "solution": false,
     "task": false
    }
   },
   "source": [
    "### Lay out a T,P state space"
   ]
  },
  {
   "cell_type": "code",
   "execution_count": null,
   "metadata": {
    "deletable": false,
    "editable": false,
    "nbgrader": {
     "cell_type": "code",
     "checksum": "7b04e38d919c7d3b3ccdf0527ebc2252",
     "grade": false,
     "grade_id": "cell-cd28037657cabda3",
     "locked": true,
     "schema_version": 3,
     "solution": false,
     "task": false
    }
   },
   "outputs": [],
   "source": [
    "# Lay out the state space\n",
    "Tgrid, Pgrid_bar = PL.Statespace([200,400,100],[1,10,101])\n",
    "Pgrid_bar = AssignQuantity(Pgrid_bar,'bar')\n",
    "Pgrid = Pgrid_bar.to('pascal')\n",
    "Tgrid = AssignQuantity(Tgrid,'K')"
   ]
  },
  {
   "cell_type": "markdown",
   "metadata": {
    "deletable": false,
    "editable": false,
    "nbgrader": {
     "cell_type": "markdown",
     "checksum": "5b8389bddcd53dc2e424b05e39423a82",
     "grade": false,
     "grade_id": "cell-85dd588279a3c9cd",
     "locked": true,
     "schema_version": 3,
     "solution": false,
     "task": false
    }
   },
   "source": [
    "### Some general-purpose constants"
   ]
  },
  {
   "cell_type": "code",
   "execution_count": null,
   "metadata": {
    "deletable": false,
    "editable": false,
    "nbgrader": {
     "cell_type": "code",
     "checksum": "8f01f5c8ce4c50f7f146df3e72effde3",
     "grade": false,
     "grade_id": "cell-1b9be137a7bdc622",
     "locked": true,
     "schema_version": 3,
     "solution": false,
     "task": false
    }
   },
   "outputs": [],
   "source": [
    "# Gas constant in SI units\n",
    "R = AssignQuantity(8.314,'J /mol/K')\n",
    "\n",
    "# Standard state conditions, in SI units\n",
    "T0 = AssignQuantity(298,'K')\n",
    "P0 = AssignQuantity(1e5,'pascal')"
   ]
  },
  {
   "cell_type": "markdown",
   "metadata": {
    "deletable": false,
    "editable": false,
    "nbgrader": {
     "cell_type": "markdown",
     "checksum": "3d30d71f5ef020fd4aa65c765e7ba061",
     "grade": false,
     "grade_id": "cell-dcc9d968b96409eb",
     "locked": true,
     "schema_version": 3,
     "solution": false,
     "task": false
    }
   },
   "source": [
    "### Constants pertaining to water\n",
    "The following cell provides constants for three phases of water - See https://webbook.nist.gov/chemistry/name-ser/ for standard-state entropy values."
   ]
  },
  {
   "cell_type": "code",
   "execution_count": null,
   "metadata": {
    "deletable": false,
    "editable": false,
    "nbgrader": {
     "cell_type": "code",
     "checksum": "01702c6cd6ef048a8508fd36a3848ed1",
     "grade": false,
     "grade_id": "cell-72eafca370b9b281",
     "locked": true,
     "schema_version": 3,
     "solution": false,
     "task": false
    }
   },
   "outputs": [],
   "source": [
    "# Molar mass of water\n",
    "M = AssignQuantity(.018,'kg/mol')\n",
    "\n",
    "# Parameters for gaseous water\n",
    "CP_gas = AssignQuantity(33.6,'J/K/mol')\n",
    "SS_gas = [T0,P0,AssignQuantity(188.835,'J/K/mol')] # Specifying the standard state entropy\n",
    "\n",
    "# Parameters for liquid water\n",
    "Vgrid_liq = AssignQuantity(0.018,'m^3 /mol')*np.ones(np.shape(Pgrid)) # Molar volume, as a state-space grid\n",
    "alpha_P_liq = AssignQuantity(2.1e-4,'1/K') # Thermal expansivity\n",
    "CP_liq = AssignQuantity(75.4,'J/K/mol') # Heat capacity\n",
    "SS_liq = [T0,P0,AssignQuantity(69.95,'J/K/mol')]\n",
    "\n",
    "# Parameters for ice water\n",
    "Vgrid_sol = 1.1*Vgrid_liq # 10% of icebergs are above the water\n",
    "alpha_P_sol = AssignQuantity(0.5e-4,'1/K') \n",
    "CP_sol = AssignQuantity(38,'J/K/mol')\n",
    "SS_sol = [T0,P0,AssignQuantity(46.5,'J/K/mol')]"
   ]
  },
  {
   "cell_type": "markdown",
   "metadata": {
    "deletable": false,
    "editable": false,
    "nbgrader": {
     "cell_type": "markdown",
     "checksum": "76352a4a7d615577bdd6f31dbf8361c4",
     "grade": false,
     "grade_id": "cell-35d28110f5319ccb",
     "locked": true,
     "schema_version": 3,
     "solution": false,
     "task": false
    }
   },
   "source": [
    "### Visualizing $\\big (\\partial S/ \\partial T \\big )_P$ \n",
    "Below, we calculate and display $\\big (\\partial S/ \\partial T \\big )_P = \\frac {C_P}T$, for water in the form of a gas, liquid, and solid."
   ]
  },
  {
   "cell_type": "code",
   "execution_count": null,
   "metadata": {
    "deletable": false,
    "editable": false,
    "nbgrader": {
     "cell_type": "code",
     "checksum": "5e18f24e45c6425ba1161654332c62d5",
     "grade": false,
     "grade_id": "cell-a978fba9410c720a",
     "locked": true,
     "schema_version": 3,
     "solution": false,
     "task": false
    }
   },
   "outputs": [],
   "source": [
    "# dSdT for the gas\n",
    "dSdT_gas = CP_gas/Tgrid\n",
    "\n",
    "# dSdT for the liquid\n",
    "dSdT_liq = CP_liq/Tgrid\n",
    "\n",
    "# dSdT for the solid\n",
    "dSdT_sol = CP_sol/Tgrid\n",
    "\n",
    "# Collected in a list\n",
    "dSdTlist = [dSdT_gas, dSdT_liq, dSdT_sol]\n",
    "\n",
    "# Prepping the labels\n",
    "xlabel = \"T \"+str(Tgrid.units)\n",
    "ylabel = \"P \"+str(Pgrid_bar.units)\n",
    "zlabel = \"dS/dT \"+str(dSdT_liq.units)\n",
    "llist = [xlabel,ylabel,zlabel]\n",
    "\n",
    "# Prepping the colors\n",
    "clist = ['green', 'blue', 'gray']\n",
    "tlist = ['gas', 'liq', 'sol']\n",
    "\n",
    "# Graphics\n",
    "PL.plot_surfaces(Tgrid, Pgrid_bar, dSdTlist, colorlist=clist, titlelist=tlist, labellist=llist)"
   ]
  },
  {
   "cell_type": "markdown",
   "metadata": {
    "deletable": false,
    "editable": false,
    "nbgrader": {
     "cell_type": "markdown",
     "checksum": "0b9a3e9d28fa9b044f191b0b33b329d3",
     "grade": false,
     "grade_id": "cell-776abbebb408ad0e",
     "locked": true,
     "schema_version": 3,
     "solution": false,
     "task": false
    }
   },
   "source": [
    "### Pause for analysis\n",
    "In the cell below, provide an explanation for why the liquid's $\\big (\\partial S/ \\partial T \\big )_P$ is so much bigger than that of the gas or the solid. *Hint: Look at the heat capacities.*"
   ]
  },
  {
   "cell_type": "markdown",
   "metadata": {
    "deletable": false,
    "nbgrader": {
     "cell_type": "markdown",
     "checksum": "634e230703d961178ffd728878643d3f",
     "grade": true,
     "grade_id": "cell-567faee6edf58ced",
     "locked": false,
     "points": 2,
     "schema_version": 3,
     "solution": true,
     "task": false
    }
   },
   "source": [
    "YOUR ANSWER HERE"
   ]
  },
  {
   "cell_type": "markdown",
   "metadata": {
    "deletable": false,
    "editable": false,
    "nbgrader": {
     "cell_type": "markdown",
     "checksum": "96b75f888dea6d0024dcd4c37c812bcb",
     "grade": false,
     "grade_id": "cell-bea50aed374208df",
     "locked": true,
     "schema_version": 3,
     "solution": false,
     "task": false
    }
   },
   "source": [
    "### Visualizing $\\big (\\partial S/ \\partial P \\big )_T$\n",
    "\n",
    "- For the gas, we think $\\big (\\partial S/ \\partial P \\big )_T = -R/P$ is a good approximation.\n",
    "- For the liquid, we think $\\big (\\partial S/ \\partial P \\big )_T = -V_{liq} \\times \\alpha_{P,liq}$, where $V_{liq}$ and $\\alpha_{P,liq}$ are constants. \n",
    "- For the solid, we think $\\big (\\partial S/ \\partial P \\big )_T = -V_{sol} \\times \\alpha_{P,sol}$, where $V_{sol}$ and $\\alpha_{P,sol}$ are constants. \n",
    "\n",
    "All these quantities, as written, are on a per-mole basis, according to the constants we've set up above. In the cell below, we calculate and plot all three."
   ]
  },
  {
   "cell_type": "code",
   "execution_count": null,
   "metadata": {
    "deletable": false,
    "editable": false,
    "nbgrader": {
     "cell_type": "code",
     "checksum": "40a6ac0ea8039010fe630daefdc32c62",
     "grade": false,
     "grade_id": "cell-074f1d2df386f335",
     "locked": true,
     "schema_version": 3,
     "solution": false,
     "task": false
    }
   },
   "outputs": [],
   "source": [
    "# dSdP\n",
    "dSdP_gas = -R/Pgrid\n",
    "dSdP_liq = -Vgrid_liq*alpha_P_liq\n",
    "dSdP_sol = -Vgrid_sol*alpha_P_sol\n",
    "\n",
    "# Collected in a list\n",
    "dSdPlist = [dSdP_gas, dSdP_liq, dSdP_sol]\n",
    "\n",
    "# Prepping the labels\n",
    "zlabel = \"dS/dP \"+str(dSdP_liq.units)\n",
    "llist = [xlabel,ylabel,zlabel]\n",
    "\n",
    "# Prepping the colors\n",
    "clist = ['green', 'blue', 'gray']\n",
    "tlist = ['gas', 'liq', 'sol']\n",
    "\n",
    "# Graphics\n",
    "PL.plot_surfaces(Tgrid, Pgrid_bar, dSdPlist, colorlist=clist, titlelist=tlist, labellist=llist)"
   ]
  },
  {
   "cell_type": "markdown",
   "metadata": {
    "deletable": false,
    "editable": false,
    "nbgrader": {
     "cell_type": "markdown",
     "checksum": "e8c747ee9f6d25812ef0b27d1e03b9f3",
     "grade": false,
     "grade_id": "cell-b1b9af281b05689c",
     "locked": true,
     "schema_version": 3,
     "solution": false,
     "task": false
    }
   },
   "source": [
    "### Pause for analysis\n",
    "In the cell below, provide an explanation for why $\\big (\\partial S/ \\partial P \\big )_T$ so much bigger for the gas compared to the liquid and solid."
   ]
  },
  {
   "cell_type": "markdown",
   "metadata": {
    "deletable": false,
    "nbgrader": {
     "cell_type": "markdown",
     "checksum": "f7f0b6d8cd45a535ad5fcf72ccee462a",
     "grade": true,
     "grade_id": "cell-f01c762ab6a3c31d",
     "locked": false,
     "points": 2,
     "schema_version": 3,
     "solution": true,
     "task": false
    }
   },
   "source": [
    "YOUR ANSWER HERE"
   ]
  },
  {
   "cell_type": "markdown",
   "metadata": {
    "deletable": false,
    "editable": false,
    "nbgrader": {
     "cell_type": "markdown",
     "checksum": "2aa3afe120b0677a5e6f9d7a9f17232e",
     "grade": false,
     "grade_id": "cell-67efe7781d9c37ba",
     "locked": true,
     "schema_version": 3,
     "solution": false,
     "task": false
    }
   },
   "source": [
    "### Visualizing $S(T,P)$ for the gas\n",
    "Below, we show how to use a new state-space integrator function, called PL.Integrator, to calculate and display the entropy of water vapor, with an offset according to standard-state entropy tables (see https://webbook.nist.gov/chemistry/name-ser/)."
   ]
  },
  {
   "cell_type": "code",
   "execution_count": null,
   "metadata": {
    "deletable": false,
    "editable": false,
    "nbgrader": {
     "cell_type": "code",
     "checksum": "5bf240f22ada3501a42dceabd2e24ed6",
     "grade": false,
     "grade_id": "cell-e8013f91c23f9c41",
     "locked": true,
     "schema_version": 3,
     "solution": false,
     "task": false
    }
   },
   "outputs": [],
   "source": [
    "# Calculate the entropies as thermodynamic surfaces\n",
    "S_gas = PL.Integrator([Tgrid, Pgrid], dSdT_gas, dSdP_gas, AssignQuantity, Units='J/K/mol', SState=SS_gas)\n",
    "\n",
    "# Prepping the labels\n",
    "xlabel = \"T \"+str(Tgrid.units)\n",
    "ylabel = \"P \"+str(Pgrid_bar.units)\n",
    "zlabel = \"S \"+str(S_gas.units) \n",
    "llist = [xlabel, ylabel, zlabel]\n",
    "\n",
    "# Graphing S(T,P)\n",
    "PL.plot_surface1(Tgrid, Pgrid_bar, S_gas, color='green',title='S(gas)', labellist=llist)\n",
    "\n",
    "# Graphing an isobaric slice\n",
    "plt.figure()\n",
    "isobar = 0 # This corresponds to about 1 bar\n",
    "print(Pgrid_bar[0,isobar])\n",
    "plt.plot(Tgrid[:,isobar],S_gas[:,isobar], color='green', label='S(gas) isobar')\n",
    "plt.grid(True)\n",
    "plt.xlabel(xlabel)\n",
    "plt.ylabel(zlabel)\n",
    "plt.legend()\n",
    "\n",
    "# Graphing an isothermal slice\n",
    "plt.figure()\n",
    "isotherm = 49 # This corresponds to about 298 K\n",
    "print(Tgrid[isotherm,0])\n",
    "plt.plot(Pgrid_bar[isotherm,:],S_gas[isotherm,:], color='green', label='S(gas) isotherm')\n",
    "plt.grid(True)\n",
    "plt.xlabel(ylabel)\n",
    "plt.ylabel(zlabel)\n",
    "plt.legend()"
   ]
  },
  {
   "cell_type": "markdown",
   "metadata": {
    "deletable": false,
    "editable": false,
    "nbgrader": {
     "cell_type": "markdown",
     "checksum": "e1fe29bf2fda24b5c2ebaa7d97f096c2",
     "grade": false,
     "grade_id": "cell-cf94cd89806bb97a",
     "locked": true,
     "schema_version": 3,
     "solution": false,
     "task": false
    }
   },
   "source": [
    "### Pause for analysis\n",
    "You should double-check that the isobars and isotherms we just plotted are consistent with the thermodynamic surface S(T,P)."
   ]
  },
  {
   "cell_type": "markdown",
   "metadata": {
    "deletable": false,
    "editable": false,
    "nbgrader": {
     "cell_type": "markdown",
     "checksum": "0f472cd054b87c15ff4fdf3b3e338e94",
     "grade": false,
     "grade_id": "cell-3a193e9d9d40f6fb",
     "locked": true,
     "schema_version": 3,
     "solution": false,
     "task": false
    }
   },
   "source": [
    "### Your turn (liquid)\n",
    "Do something similar to what we just did, but for liquid water, i.e., \n",
    "- an S(T,P) surface of liquid water,\n",
    "- an isobaric slice at about 1 bar, and\n",
    "- an isothermal slice at about 298 K"
   ]
  },
  {
   "cell_type": "code",
   "execution_count": null,
   "metadata": {
    "deletable": false,
    "nbgrader": {
     "cell_type": "code",
     "checksum": "ea65459112d80d6e7733ec822c8b2276",
     "grade": true,
     "grade_id": "cell-cdceebd1595171a9",
     "locked": false,
     "points": 5,
     "schema_version": 3,
     "solution": true,
     "task": false
    }
   },
   "outputs": [],
   "source": [
    "# Your code here \n"
   ]
  },
  {
   "cell_type": "markdown",
   "metadata": {
    "deletable": false,
    "editable": false,
    "nbgrader": {
     "cell_type": "markdown",
     "checksum": "bc7f2b375c576d5dddc464da962e8ea7",
     "grade": false,
     "grade_id": "cell-9c54db7d7f6c037f",
     "locked": true,
     "schema_version": 3,
     "solution": false,
     "task": false
    }
   },
   "source": [
    "### Pause for analysis\n",
    "As before, double-check that the isobars and isotherms your just plotted are consistent with the thermodynamic surface S(T,P)."
   ]
  },
  {
   "cell_type": "markdown",
   "metadata": {
    "deletable": false,
    "editable": false,
    "nbgrader": {
     "cell_type": "markdown",
     "checksum": "2057f2c42c0ec53a5d74c9eacb971751",
     "grade": false,
     "grade_id": "cell-e74cb550502f9161",
     "locked": true,
     "schema_version": 3,
     "solution": false,
     "task": false
    }
   },
   "source": [
    "### Your turn (solid)\n",
    "Do something similar to what we just did, but for solid water (ice), i.e.,\n",
    "- an S(T,P) surface of ice,\n",
    "- an isobaric slice at about 1 bar, and\n",
    "- an isothermal slice at about 298 K"
   ]
  },
  {
   "cell_type": "code",
   "execution_count": null,
   "metadata": {
    "deletable": false,
    "nbgrader": {
     "cell_type": "code",
     "checksum": "d01e200d253e06177fbe5e0adef4c68c",
     "grade": true,
     "grade_id": "cell-a4ee724ea6be8964",
     "locked": false,
     "points": 6,
     "schema_version": 3,
     "solution": true,
     "task": false
    }
   },
   "outputs": [],
   "source": [
    "# Your code here \n"
   ]
  },
  {
   "cell_type": "markdown",
   "metadata": {
    "deletable": false,
    "editable": false,
    "nbgrader": {
     "cell_type": "markdown",
     "checksum": "7bdf15b4ebf3b1dc7f277a37fb597c9f",
     "grade": false,
     "grade_id": "cell-d1ef2d43473dbb71",
     "locked": true,
     "schema_version": 3,
     "solution": false,
     "task": false
    }
   },
   "source": [
    "### Comparing entropies of all three phases\n",
    "It's a bit hard to compare one phase to another when looking at separate plots, so in the cell below, combine them:\n",
    "- One plot that shows S(T,P) for all three phases;\n",
    "- Another plot that shows isobaric slices for all three entropy surfaces; and\n",
    "- Another that shows isothermal slices for all three entropy surfaces."
   ]
  },
  {
   "cell_type": "code",
   "execution_count": null,
   "metadata": {
    "deletable": false,
    "nbgrader": {
     "cell_type": "code",
     "checksum": "2d991b111063101c83035eeefa912a54",
     "grade": true,
     "grade_id": "cell-f6691dcec93f21ce",
     "locked": false,
     "points": 6,
     "schema_version": 3,
     "solution": true,
     "task": false
    }
   },
   "outputs": [],
   "source": [
    "# Your code here \n"
   ]
  },
  {
   "cell_type": "markdown",
   "metadata": {
    "deletable": false,
    "editable": false,
    "nbgrader": {
     "cell_type": "markdown",
     "checksum": "d70db01586cdedf24ccf9dfd9e5c5462",
     "grade": false,
     "grade_id": "cell-9560f1fe39783faf",
     "locked": true,
     "schema_version": 3,
     "solution": false,
     "task": false
    }
   },
   "source": [
    "### Pause for analysis\n",
    "Take a moment to study the trends in isobars and isotherms, focusing on liquid and vapor, and offer some speculations as to these questions:\n",
    "\n",
    "1. Is the trend in $\\Delta S_{vap}$ along an isobar due to changes in *energy choice* or *positional choice*? (Explain briefly.)\n",
    "1. Is the trend in $\\Delta S_{vap}$ along an isotherm due to changes in *energy choice* or *positional choice*? (Explain briefly.)\n"
   ]
  },
  {
   "cell_type": "markdown",
   "metadata": {
    "deletable": false,
    "nbgrader": {
     "cell_type": "markdown",
     "checksum": "ab4973967c1be44481cf9d41ebe2a002",
     "grade": true,
     "grade_id": "cell-74cc903ab58a5506",
     "locked": false,
     "points": 4,
     "schema_version": 3,
     "solution": true,
     "task": false
    }
   },
   "source": [
    "YOUR ANSWER HERE"
   ]
  },
  {
   "cell_type": "markdown",
   "metadata": {
    "deletable": false,
    "editable": false,
    "nbgrader": {
     "cell_type": "markdown",
     "checksum": "d8f444dacf5d53e9aff95d5e09b362e3",
     "grade": false,
     "grade_id": "cell-d3927e1a00dc2828",
     "locked": true,
     "schema_version": 3,
     "solution": false,
     "task": false
    }
   },
   "source": [
    "### Refresh/save/validate/close/submit/logout"
   ]
  }
 ],
 "metadata": {
  "kernelspec": {
   "display_name": "Python 3 (ipykernel)",
   "language": "python",
   "name": "python3"
  },
  "language_info": {
   "codemirror_mode": {
    "name": "ipython",
    "version": 3
   },
   "file_extension": ".py",
   "mimetype": "text/x-python",
   "name": "python",
   "nbconvert_exporter": "python",
   "pygments_lexer": "ipython3",
   "version": "3.10.2"
  }
 },
 "nbformat": 4,
 "nbformat_minor": 2
}

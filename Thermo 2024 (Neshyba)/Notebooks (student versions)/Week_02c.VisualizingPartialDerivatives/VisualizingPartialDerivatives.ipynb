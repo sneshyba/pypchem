{
 "cells": [
  {
   "cell_type": "markdown",
   "id": "fb5e6524",
   "metadata": {
    "deletable": false,
    "editable": false,
    "jupyter": {
     "source_hidden": true
    },
    "nbgrader": {
     "cell_type": "markdown",
     "checksum": "70a543047629bfb104f84da815bddb9d",
     "grade": false,
     "grade_id": "cell-b05570620a93bd73",
     "locked": true,
     "schema_version": 3,
     "solution": false,
     "task": false
    },
    "tags": []
   },
   "source": [
    "### Computational Guided Inquiry for PChem (Neshyba, 2024)\n",
    "\n",
    "# Visualizing Partial Derivatives\n",
    "\n",
    "## Partial derivatives are thermodynamic surfaces too!\n",
    "So far, we have visualized $P(T,V)$ as a surface, and we have sliced through it in different dimensions (isochoric and isothermal), and visualized those functions too. Now we're going to be looking at *slopes* of such surfaces, as surfaces (i.e., not just slices). Slopes of $P(T,V)$ in the temperature and volume directions can be expressed formally as\n",
    "\n",
    "$$\n",
    "\\Big( \\dfrac {\\partial P}{\\partial T} \\Big) _V \\ \\ \\ \\ (1)\n",
    "$$ \n",
    "\n",
    "and\n",
    "\n",
    "$$\n",
    "\\Big( \\dfrac {\\partial P}{\\partial V} \\Big) _T \\ \\ \\ \\ (2)\n",
    "$$\n",
    "\n",
    "Part of what we're doing here is predicting what those surfaces look like, based on the appearance of $P(T,V)$. There are other slopes we can consider, however, whose shape we can immediately jump to. Consider for a moment $\\Big( \\dfrac {\\partial T}{\\partial T} \\Big) _V$. How, you may wonder, does the temperature of a gas change when you change its ... temperature? The answer is, perfectly in sync! \"No-brainer #1\" is \n",
    "\n",
    "$$\n",
    "\\Big( \\dfrac {\\partial T}{\\partial T} \\Big) _V=1 \\ \\ \\ \\ (3)\n",
    "$$ \n",
    "\n",
    "We'd expect all state variables to behave just like this, like $\\Big( \\dfrac {\\partial V}{\\partial V} \\Big) _T=1$, and so on. \n",
    "\n",
    "Likewise, you might wonder how the temperature of a gas can change when you change its volume *while holding the temperature constant*. Well, it can't. \"No-brainer #2\" is \n",
    "\n",
    "$$\n",
    "\\Big( \\dfrac {\\partial T}{\\partial V} \\Big) _T=0 \\ \\ \\ \\ (4)\n",
    "$$ \n",
    "\n",
    "For the same reason, we'd also expect $\\Big( \\dfrac {\\partial V}{\\partial T} \\Big) _V=0$, and so on. \n",
    "\n",
    "## Analytical and numerical methods for getting partial derivatives (slopes) of state functions\n",
    "One method of taking partial derivatives is *numerical*. Another way is *analytical*. When do you know which method to employ?\n",
    "\n",
    "If you have an algebraic expression for $P(T,V)$ -- like $P=nRT/V$, then you can use calculus to evaluate its partial derivatives. But suppose somebody has *measured* $P(T,V)$ for a (discrete) set of of temperatures and volumes? In that case, you don't have an analytical representation of $P(T,V)$, so \"numerical calculus\" is your only option. \n",
    "\n",
    "You already know how to do this kind of thing for *slices* through state space; here you'll extend that approach to entire thermodynamic surfaces, using pre-built library functions called dF_dx and dF_dy.\n",
    "\n",
    "## Learning Goals\n",
    "1. Explain circumstances that dictate whether one would need to take a numerical or analytical derivative.\n",
    "1. Given an algebraic form of a state function, obtain an analytical expression for its partial derivatives.\n",
    "1. Given a numerical representation of a state function, obtain and plot its partial derivatives.\n",
    "1. State the values of the \"no-brainer\" partials, and how to recognize them."
   ]
  },
  {
   "cell_type": "code",
   "execution_count": null,
   "id": "e792d428",
   "metadata": {
    "deletable": false,
    "editable": false,
    "nbgrader": {
     "cell_type": "code",
     "checksum": "b55761853ac30475cf8e7eb3ad80db03",
     "grade": false,
     "grade_id": "cell-8f0108199324fbfb",
     "locked": true,
     "schema_version": 3,
     "solution": false,
     "task": false
    }
   },
   "outputs": [],
   "source": [
    "from pint import UnitRegistry; AssignQuantity = UnitRegistry().Quantity\n",
    "import numpy as np\n",
    "import matplotlib.pyplot as plt\n",
    "import sys; sys.path.append('/home'); import PchemLibrary as PL"
   ]
  },
  {
   "cell_type": "code",
   "execution_count": null,
   "id": "cc08d760",
   "metadata": {
    "deletable": false,
    "editable": false,
    "nbgrader": {
     "cell_type": "code",
     "checksum": "b9b528cf32939c9e65b7a9f9ae826953",
     "grade": false,
     "grade_id": "cell-0e77b9581fad1efc",
     "locked": true,
     "schema_version": 3,
     "solution": false,
     "task": false
    }
   },
   "outputs": [],
   "source": [
    "%matplotlib notebook"
   ]
  },
  {
   "cell_type": "markdown",
   "id": "32314e81",
   "metadata": {
    "deletable": false,
    "editable": false,
    "nbgrader": {
     "cell_type": "markdown",
     "checksum": "47eef3ca35968865501ac414b81976a8",
     "grade": false,
     "grade_id": "cell-53ee48efdd7e9ec1",
     "locked": true,
     "schema_version": 3,
     "solution": false,
     "task": false
    }
   },
   "source": [
    "### Loading gridded state-space variables and functions\n",
    "The cell below should look familiar to you -- we use numpy's \"loadtxt\" function to load the state space variables $T$ and $V$, and the state function $P$, from files Vgrid.txt, and Pgrid.txt. You just have to execute the cell and move on."
   ]
  },
  {
   "cell_type": "code",
   "execution_count": null,
   "id": "2a1bc348",
   "metadata": {
    "deletable": false,
    "editable": false,
    "nbgrader": {
     "cell_type": "code",
     "checksum": "17b03810793fb36df2d295e18e4d0d10",
     "grade": false,
     "grade_id": "cell-0e28f1ec234255ff",
     "locked": true,
     "schema_version": 3,
     "solution": false,
     "task": false
    }
   },
   "outputs": [],
   "source": [
    "%ls\n",
    "\n",
    "# Load the temperature grid\n",
    "Tgrid = np.loadtxt('Tgrid.txt')\n",
    "Tgrid = AssignQuantity(Tgrid,'K')\n",
    "print(np.shape(Tgrid))\n",
    "\n",
    "# Now load the volume grid\n",
    "Vgrid = np.loadtxt('Vgrid.txt')\n",
    "Vgrid = AssignQuantity(Vgrid,'L')\n",
    "print(np.shape(Vgrid))\n",
    "\n",
    "# Now load the pressure grid\n",
    "Pgrid = np.loadtxt('Pgrid.txt')\n",
    "Pgrid = AssignQuantity(Pgrid,'atm')\n",
    "print(np.shape(Pgrid))"
   ]
  },
  {
   "cell_type": "markdown",
   "id": "427916e8",
   "metadata": {
    "deletable": false,
    "editable": false,
    "nbgrader": {
     "cell_type": "markdown",
     "checksum": "dbbf828d12ff8f70ed43464db7424ed4",
     "grade": false,
     "grade_id": "cell-73d1b082cb1ff174",
     "locked": true,
     "schema_version": 3,
     "solution": false,
     "task": false
    }
   },
   "source": [
    "### Visualizing $T(T,V)$\n",
    "The next cell plots $T(T,V)$."
   ]
  },
  {
   "cell_type": "code",
   "execution_count": null,
   "id": "8e38f312",
   "metadata": {
    "deletable": false,
    "editable": false,
    "nbgrader": {
     "cell_type": "code",
     "checksum": "0f85a36efd6ec67645f55b21ed698309",
     "grade": false,
     "grade_id": "cell-a1e383303e56ef18",
     "locked": true,
     "schema_version": 3,
     "solution": false,
     "task": false
    }
   },
   "outputs": [],
   "source": [
    "# Prep the axis labels\n",
    "xlabel = \"T \"+str(Tgrid.units)\n",
    "ylabel = \"V \"+str(Vgrid.units) \n",
    "zlabel = \"T \"+str(Tgrid.units)\n",
    "llist = [xlabel,ylabel,zlabel]\n",
    "\n",
    "# Graph the temperature\n",
    "PL.plot_surface1(Tgrid, Vgrid, Tgrid, color='teal',title='T(T,V)',labellist=llist).show()"
   ]
  },
  {
   "cell_type": "markdown",
   "id": "45303e32",
   "metadata": {
    "deletable": false,
    "editable": false,
    "nbgrader": {
     "cell_type": "markdown",
     "checksum": "a55b3c85b95b7fbed96b54104a2ff471",
     "grade": false,
     "grade_id": "cell-a651a42fab13d435",
     "locked": true,
     "schema_version": 3,
     "solution": false,
     "task": false
    }
   },
   "source": [
    "### Your Turn: visualizing $V(T,V)$\n",
    "In the cell below, make a 3d plot of $V(T,V)$ (and label the axes appropriately)."
   ]
  },
  {
   "cell_type": "code",
   "execution_count": null,
   "id": "ba7e64ef",
   "metadata": {
    "deletable": false,
    "nbgrader": {
     "cell_type": "code",
     "checksum": "37d2acfff29e9eecf21ad4922849cecb",
     "grade": true,
     "grade_id": "cell-5117c508ebbf5c41",
     "locked": false,
     "points": 2,
     "schema_version": 3,
     "solution": true,
     "task": false
    }
   },
   "outputs": [],
   "source": [
    "# Prep the axis labels\n",
    "# Your code here \n",
    "\n",
    "\n",
    "# Graph the volume and add labels\n",
    "# Your code here \n"
   ]
  },
  {
   "cell_type": "markdown",
   "id": "e78fd92a",
   "metadata": {
    "deletable": false,
    "editable": false,
    "nbgrader": {
     "cell_type": "markdown",
     "checksum": "3a950bce71aa38c5c7dd6c1e898152cb",
     "grade": false,
     "grade_id": "cell-358e0090cb35c15d",
     "locked": true,
     "schema_version": 3,
     "solution": false,
     "task": false
    }
   },
   "source": [
    "### Visualizing $\\Big( \\dfrac {\\partial T}{\\partial T} \\Big) _V $\n",
    "Next we're going to have a look at a numerical version of $\\Big( \\dfrac {\\partial T}{\\partial T} \\Big) _V $, using the PchemLibrary function PL.dF_dx. Study the cell below to see how this works. Important points to note are:\n",
    "\n",
    "- PL.dF_dx takes the derivative in the \"x\" direction, which corresponds to the temperature.\n",
    "- Because of that, the grids that are returned by PL.df_dx are shorter in the temperature direction."
   ]
  },
  {
   "cell_type": "code",
   "execution_count": null,
   "id": "40a4e496",
   "metadata": {
    "deletable": false,
    "editable": false,
    "nbgrader": {
     "cell_type": "code",
     "checksum": "e6fedd5bcea6d82bb4f62b974c8b1b2a",
     "grade": false,
     "grade_id": "cell-b695ccbb2a255eaa",
     "locked": true,
     "schema_version": 3,
     "solution": false,
     "task": false
    }
   },
   "outputs": [],
   "source": [
    "# Get the partial derivative in the temperature direction (using PL.dF_dx))\n",
    "Tgridnew, Vgridnew, dTgrid_dT = PL.dF_dx([Tgrid,Vgrid],Tgrid)\n",
    "\n",
    "# Prepping the axis labels\n",
    "xlabel = \"T \"+str(Tgridnew.units)\n",
    "ylabel = \"V \"+str(Vgridnew.units) \n",
    "zlabel = \"dT/dT \"+str(dTgrid_dT.units)\n",
    "llist = [xlabel,ylabel,zlabel]\n",
    "\n",
    "# Graph the derivative\n",
    "PL.plot_surface1(Tgridnew, Vgridnew, dTgrid_dT, color='gray', title='dT/dT',labellist=llist).show()"
   ]
  },
  {
   "cell_type": "markdown",
   "id": "c49ca555",
   "metadata": {
    "deletable": false,
    "editable": false,
    "nbgrader": {
     "cell_type": "markdown",
     "checksum": "ee2e67d43789a39c99cb28a0ba7a657c",
     "grade": false,
     "grade_id": "cell-21a059bfe5148ad1",
     "locked": true,
     "schema_version": 3,
     "solution": false,
     "task": false
    }
   },
   "source": [
    "### Pause for analysis\n",
    "Does the function you just made look like what you expected? (Refer to Eqs. 3 or 4 in your response)."
   ]
  },
  {
   "cell_type": "markdown",
   "id": "5386949f",
   "metadata": {
    "deletable": false,
    "nbgrader": {
     "cell_type": "markdown",
     "checksum": "ba1825fd032be142101ea34446558b62",
     "grade": true,
     "grade_id": "cell-6364f18890e961b5",
     "locked": false,
     "points": 1,
     "schema_version": 3,
     "solution": true,
     "task": false
    }
   },
   "source": [
    "YOUR ANSWER HERE"
   ]
  },
  {
   "cell_type": "markdown",
   "id": "45b61d59",
   "metadata": {
    "deletable": false,
    "editable": false,
    "nbgrader": {
     "cell_type": "markdown",
     "checksum": "74f49bad7d5b8ef8e1ac7fff60e13424",
     "grade": false,
     "grade_id": "cell-ad94949ec4d6b1dc",
     "locked": true,
     "schema_version": 3,
     "solution": false,
     "task": false
    }
   },
   "source": [
    "### Your turn\n",
    "In the cell below, calculate and plot the 3d surface $\\Big( \\dfrac {\\partial T}{\\partial V} \\Big) _T $. It's a lot like what you just did, but you'll use the PchemLibrary function PL.dF_dy (instead of PL.dF_dx). Import points to note are:\n",
    "\n",
    "- PL.dF_dy takes the derivative in the \"y\" direction, because that direction corresponds to the volume.\n",
    "- Because of that, the grids that are returned by PL.df_dy are shorter in the volume direction."
   ]
  },
  {
   "cell_type": "code",
   "execution_count": null,
   "id": "28fc59e4",
   "metadata": {
    "deletable": false,
    "nbgrader": {
     "cell_type": "code",
     "checksum": "18f334763fc688ae992220b578c14beb",
     "grade": true,
     "grade_id": "cell-6c455800f96ba968",
     "locked": false,
     "points": 3,
     "schema_version": 3,
     "solution": true,
     "task": false
    }
   },
   "outputs": [],
   "source": [
    "# Get the partial derivative\n",
    "# Your code here \n",
    "\n",
    "\n",
    "# Prep the axis labels\n",
    "# Your code here \n",
    "\n",
    "\n",
    "# Graph the derivative\n",
    "# Your code here \n"
   ]
  },
  {
   "cell_type": "markdown",
   "id": "4f64de46",
   "metadata": {
    "deletable": false,
    "editable": false,
    "nbgrader": {
     "cell_type": "markdown",
     "checksum": "4cbce56bb47af968e60f3eecab83b176",
     "grade": false,
     "grade_id": "cell-d00d659b829f9e66",
     "locked": true,
     "schema_version": 3,
     "solution": false,
     "task": false
    }
   },
   "source": [
    "### Pause for analysis\n",
    "Does this function look like what you expected?"
   ]
  },
  {
   "cell_type": "markdown",
   "id": "52ff3381",
   "metadata": {
    "deletable": false,
    "nbgrader": {
     "cell_type": "markdown",
     "checksum": "ecbda5c2296a46570ae9b232e3b0bf80",
     "grade": true,
     "grade_id": "cell-6e5e8936f7787d9e",
     "locked": false,
     "points": 1,
     "schema_version": 3,
     "solution": true,
     "task": false
    }
   },
   "source": [
    "YOUR ANSWER HERE"
   ]
  },
  {
   "cell_type": "markdown",
   "id": "a10e0ac2",
   "metadata": {
    "deletable": false,
    "editable": false,
    "nbgrader": {
     "cell_type": "markdown",
     "checksum": "c2f63135e21fbcf8fbb7858b537580bf",
     "grade": false,
     "grade_id": "cell-b0b29c4b971b4186",
     "locked": true,
     "schema_version": 3,
     "solution": false,
     "task": false
    }
   },
   "source": [
    "### Visualizing the pressure of a gas.\n",
    "In the cell below, make a 3d graph of the $P(T,V)$ grid you loaded in at the top of this exercise (and label appropriately)."
   ]
  },
  {
   "cell_type": "code",
   "execution_count": null,
   "id": "92732515",
   "metadata": {
    "deletable": false,
    "nbgrader": {
     "cell_type": "code",
     "checksum": "eda04060f64cbc63fcdcfcf3bb7b5be5",
     "grade": true,
     "grade_id": "cell-d7d24771f2a69ae0",
     "locked": false,
     "points": 2,
     "schema_version": 3,
     "solution": true,
     "task": false
    }
   },
   "outputs": [],
   "source": [
    "# Prep the axis labels\n",
    "# Your code here \n",
    "\n",
    "\n",
    "# Graph the pressure using PL.plot_surface and add labels\n",
    "# Your code here \n"
   ]
  },
  {
   "cell_type": "markdown",
   "id": "11f1da4c",
   "metadata": {
    "deletable": false,
    "editable": false,
    "nbgrader": {
     "cell_type": "markdown",
     "checksum": "631d0a1a720aff2885eefcb3590f1599",
     "grade": false,
     "grade_id": "cell-09ee465c3e09ad74",
     "locked": true,
     "schema_version": 3,
     "solution": false,
     "task": false
    }
   },
   "source": [
    "### Using dF_dx to get $\\Big( \\dfrac {\\partial P}{\\partial T} \\Big) _V$\n",
    "\n",
    "The cell below shows how to use the numerical derivative function dF_dx to evaluate $\\Big( \\dfrac {\\partial P}{\\partial T} \\Big) _V$.\n"
   ]
  },
  {
   "cell_type": "code",
   "execution_count": null,
   "id": "01dc7203",
   "metadata": {
    "deletable": false,
    "editable": false,
    "nbgrader": {
     "cell_type": "code",
     "checksum": "0fe266b8066b920c28bb45927ceaff0c",
     "grade": false,
     "grade_id": "cell-b148f93c69b1ce1d",
     "locked": true,
     "schema_version": 3,
     "solution": false,
     "task": false
    }
   },
   "outputs": [],
   "source": [
    "# Get a numerical partial derivative: (dP/dT) holding V constant\n",
    "Tgridnew, Vgridnew, dPgrid_dT = PL.dF_dx([Tgrid,Vgrid],Pgrid)\n",
    "\n",
    "# Prepping the axis labels\n",
    "xlabel = \"T \"+str(Tgridnew.units)\n",
    "ylabel = \"V \"+str(Vgridnew.units) \n",
    "zlabel = \"dP/dT \"+str(dPgrid_dT.units)\n",
    "llist = [xlabel,ylabel,zlabel]\n",
    "\n",
    "# Graph the derivative\n",
    "PL.plot_surface1(Tgridnew, Vgridnew, dPgrid_dT, color='gray',title='dP/dT (numerical)',labellist=llist).show()"
   ]
  },
  {
   "cell_type": "markdown",
   "id": "248d2a55",
   "metadata": {
    "deletable": false,
    "editable": false,
    "nbgrader": {
     "cell_type": "markdown",
     "checksum": "915ed7031f1ddda63f869f8fe52a07b3",
     "grade": false,
     "grade_id": "cell-5889167fe898735f",
     "locked": true,
     "schema_version": 3,
     "solution": false,
     "task": false
    }
   },
   "source": [
    "### Your turn: Using dF_dy to get $\\Big( \\dfrac {\\partial P}{\\partial V} \\Big) _T$\n",
    "\n",
    "\n",
    "In the cell below, use the numerical derivative function dF_dy to evaluate $\\Big( \\dfrac {\\partial P}{\\partial V} \\Big) _T$. "
   ]
  },
  {
   "cell_type": "code",
   "execution_count": null,
   "id": "46bf25b3",
   "metadata": {
    "deletable": false,
    "nbgrader": {
     "cell_type": "code",
     "checksum": "4e466ad82b6a0bd2867cbede8f458b99",
     "grade": true,
     "grade_id": "cell-1c54bd3670d31416",
     "locked": false,
     "points": 3,
     "schema_version": 3,
     "solution": true,
     "task": false
    }
   },
   "outputs": [],
   "source": [
    "# Get a numerical partial derivative: (dP/dV) holding T constant\n",
    "# Your code here \n",
    "\n",
    "\n",
    "# Prep the axis labels\n",
    "# Your code here \n",
    "\n",
    "\n",
    "# Graph the derivative\n",
    "# Your code here \n"
   ]
  },
  {
   "cell_type": "markdown",
   "id": "ef659fb9",
   "metadata": {
    "deletable": false,
    "editable": false,
    "nbgrader": {
     "cell_type": "markdown",
     "checksum": "f6732b193bef246a91f777919a4e1c6f",
     "grade": false,
     "grade_id": "cell-9a46a6c12ec15bf1",
     "locked": true,
     "schema_version": 3,
     "solution": false,
     "task": false
    }
   },
   "source": [
    "### Analytical partial derivatives of the ideal gas\n",
    "As mentioned above, if you have an algebraic expression for the pressure of a gas as a function of its temperature and volume, it's a matter of calculus to find analytical expressions for its partial derivatives. That's what we do in the next cell -- specifically, $\\Big( \\dfrac {\\partial P}{\\partial V} \\Big) _T$. Notice that since this is an analytical result, there's not shortening of the state space, like we had to do with a numerical approach."
   ]
  },
  {
   "cell_type": "code",
   "execution_count": null,
   "id": "ea43bc0e",
   "metadata": {
    "deletable": false,
    "editable": false,
    "nbgrader": {
     "cell_type": "code",
     "checksum": "bfaca7b4e60e4b96617221d4c515774c",
     "grade": false,
     "grade_id": "cell-682fc52b0ae0c22d",
     "locked": true,
     "schema_version": 3,
     "solution": false,
     "task": false
    }
   },
   "outputs": [],
   "source": [
    "# Specify the number of moles, and the gas constant\n",
    "n = AssignQuantity(1,\"mol\"); print(n)\n",
    "R = AssignQuantity(0.082057,\"L atm /(mol K)\"); print(R)\n",
    "\n",
    "# Get dP/dV from calculus; call the result dPgrid_dV_analytical\n",
    "dPgrid_dV_analytical = -n*R*Tgrid/Vgrid**2\n",
    "\n",
    "# Prep the axis labels\n",
    "xlabel = \"T \"+str(Tgridnew.units)\n",
    "ylabel = \"V \"+str(Vgridnew.units) \n",
    "zlabel = \"dP/dV \"+str(dPgrid_dV_analytical.units)\n",
    "llist = [xlabel,ylabel,zlabel]\n",
    "\n",
    "# Graph the analytical derivative\n",
    "PL.plot_surface1(Tgrid, Vgrid, dPgrid_dV_analytical, color='gray',title='dP/dV (analytical, ideal gas)',labellist=llist).show()"
   ]
  },
  {
   "cell_type": "markdown",
   "id": "078f54f9",
   "metadata": {
    "deletable": false,
    "editable": false,
    "nbgrader": {
     "cell_type": "markdown",
     "checksum": "c15c5567c9f85ae1e925b33cdf999ab5",
     "grade": false,
     "grade_id": "cell-90930e813e010ea9",
     "locked": true,
     "schema_version": 3,
     "solution": false,
     "task": false
    }
   },
   "source": [
    "### Analytical partial derivatives of a van der Waals gas\n",
    "This is a lot like what we just did for an ideal gas, but now you'll try it with Ar gas, treated as a van der Waals gas. Remember, this is *not* a numerical derivative, but an *analytical* one! It might help to derive an algebraic expression for $\\Big( \\dfrac {\\partial P}{\\partial V} \\Big) _T$ for a van der Waals gas, on paper, first. \n",
    "\n",
    "By the way, given that Argon, as a van der Waals gas, is pretty close to ideal, you can expect these results to also look pretty similar to what you got for an ideal gas."
   ]
  },
  {
   "cell_type": "code",
   "execution_count": null,
   "id": "e0d54e94",
   "metadata": {
    "deletable": false,
    "nbgrader": {
     "cell_type": "code",
     "checksum": "c290d0f7b108c6580dde6a346d062d55",
     "grade": true,
     "grade_id": "cell-702b2f5d4f8f0941",
     "locked": false,
     "points": 4,
     "schema_version": 3,
     "solution": true,
     "task": false
    }
   },
   "outputs": [],
   "source": [
    "# Assign moles, and the gas constant\n",
    "n = AssignQuantity(1,\"mol\"); print(n)\n",
    "R = AssignQuantity(0.082057,\"L atm /(mol K)\"); print(R)\n",
    "\n",
    "# Assign van der Waals constants \"a\" and \"b\" for Argon\n",
    "a = AssignQuantity(1.355,'L^2 bar / mol^2'); print(a)\n",
    "b = AssignQuantity(0.032,'L /mol'); print(b)\n",
    "\n",
    "# Get dP/dV analytically ... and with a minimum of parentheses\n",
    "# Your code here \n",
    "\n",
    "\n",
    "# Prep the axis labels\n",
    "# Your code here \n",
    "\n",
    "\n",
    "# Graph the derivative\n",
    "# Your code here \n"
   ]
  },
  {
   "cell_type": "markdown",
   "id": "7961bfdb",
   "metadata": {
    "deletable": false,
    "editable": false,
    "nbgrader": {
     "cell_type": "markdown",
     "checksum": "37514255fe57de24087e653b693f520b",
     "grade": false,
     "grade_id": "cell-a57761ca1a630f3b",
     "locked": true,
     "schema_version": 3,
     "solution": false,
     "task": false
    }
   },
   "source": [
    "### Refresh/save/validate\n",
    "Almost done! To double-check everything is OK, repeat the \"Three steps for refreshing and saving your code,\" and press the \"Validate\" button (as usual).\n",
    "\n",
    "### Close/submit/logout\n",
    "1. Close this notebook using the \"File/Close and Halt\" dropdown menu\n",
    "1. Using the Assignments tab, submit this notebook\n",
    "1. Press the Logout tab of the Home Page"
   ]
  }
 ],
 "metadata": {
  "kernelspec": {
   "display_name": "Python 3 (ipykernel)",
   "language": "python",
   "name": "python3"
  },
  "language_info": {
   "codemirror_mode": {
    "name": "ipython",
    "version": 3
   },
   "file_extension": ".py",
   "mimetype": "text/x-python",
   "name": "python",
   "nbconvert_exporter": "python",
   "pygments_lexer": "ipython3",
   "version": "3.10.2"
  }
 },
 "nbformat": 4,
 "nbformat_minor": 5
}

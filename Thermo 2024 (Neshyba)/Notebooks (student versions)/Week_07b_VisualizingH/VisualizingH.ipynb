{
 "cells": [
  {
   "cell_type": "markdown",
   "metadata": {
    "deletable": false,
    "editable": false,
    "nbgrader": {
     "cell_type": "markdown",
     "checksum": "ab62e9b57b41bc972dc8577654b734c7",
     "grade": false,
     "grade_id": "cell-1cc0457740fdadc4",
     "locked": true,
     "schema_version": 3,
     "solution": false,
     "task": false
    }
   },
   "source": [
    "### Computational Guided Inquiry for PChem (Neshyba, 2024)\n",
    "\n",
    "# Visualizing $H(T,P)$\n",
    "\n",
    "## Introduction\n",
    "The enthalpy of a gas can be approximated as \n",
    "\n",
    "$$\n",
    "H(T,P) = [{5 \\over 2}RT + f_{rot}(T) + f_{vib}(T) + f_{intermol}(T,P)] \\times n \\ \\ \\ (1)\n",
    "$$ \n",
    "\n",
    "where, for a vdw gas, \n",
    "\n",
    "$$\n",
    "f_{intermol}(T,P) \\approx P(b - {{2a}\\over{RT}}) \\ \\ \\ (2)\n",
    "$$\n",
    "\n",
    "Other notes about this: \n",
    "- The term ${5 \\over 2}RT$ comes from the fact that there's ${3 \\over 2}RT$ in translational kinetic energy, plus $RT$ as an approximation to the $PV$ in $H=U+PV$. \n",
    "- The terms $f_{rot}(T)$ and $f_{vib}(T)$ are our old friends that appeared in $U(T,V)$.\n",
    "- The slope of $H(T,P)$ in the temperature direction, $\\bigl ( {\\partial H \\over \\partial T} \\bigr )_P$, is called the *constant-pressure heat capacity*, $C_P$.\n",
    "- The slope of $H(T,P)$ in the pressure direction, $\\bigl ( {\\partial H \\over \\partial P} \\bigr )_T$, is called the *isothermal Joule-Thomson coefficient*, $\\mu_T$. \n",
    "\n",
    "## The twist\n",
    "So much for the math ... what does $H(T,P)$ *look like*? That's what we'll be doing here: inspecting the enthalpy of a van der Waals gas as a thermodynamic surface, in a temperature/pressure state space. One thing you'll be able to see from this is that $H(T,P)$ has a kind of twist: at low temperatures, the slope in the pressure direction ($\\mu_T$) is negative, but at a high enough temperature, that slope becomes positive. The temperature at which this transition happens is called the *inversion temperature*. \n",
    "\n",
    "## Isenthalps and the Joule-Thomson experiment\n",
    "We'll be introducing in this exercise a new way of looking at those surfaces: contour plots. What are contour plots? If you're familiar with hiking around in mountains, you might have used *elevation contour* maps. Lines on elevation contour maps tell you paths of constant altitude. Likewise, contour plots of $H(T,P)$ show paths for which the *enthalpy* remains constant. Such paths even have a special term in the lingo of Thermodynamics: they're called *isenthalps*. \n",
    "\n",
    "It turns out that isenthalps are key to an experiment, called the *Joule-Thomson* experiment, in which a compressed gas (i.e., at high pressure) is allowed to escape through a throttle (see, e.g., https://chem.libretexts.org/@api/deki/files/113330/pic1.png?revision=1). In doing so, it turns out that the enthalpy of the gas remains constant -- i.e., the gas follows those isenthalps as it escapes through the throttle. By inspecting contours of $H(T,P)$, we can see how much the temperature is expected to change. We can also use contours of $H(T,P)$ to identify a key switch-over point, namely, the temperature at which isenthalps change from curving toward lower temperatures, to curving toward higher temperatures.\n",
    "\n",
    "## van der Waals prediction of the inversion temperature\n",
    "It turns out that in the case of a van der Waals gas, we can predict the inversion temperature by noting that, at the inversion temperature,\n",
    "\n",
    "$$\n",
    "\\mu_T\\approx b - {{2a}\\over{RT}}=0 \\ \\ \\ (3)\n",
    "$$\n",
    "\n",
    "and solving for the temperature. \n",
    "\n",
    "## Learning Goals\n",
    "1. I can plot $H(T,P)$ for a given van der Waals gas, as a thermodynamic surface and as a contour map, and describe what an *isenthalp* is.\n",
    "1. I can identify the inversion temperature from such plots.\n",
    "1. I can use vdw theory to predict the inversion temperature of a gas."
   ]
  },
  {
   "cell_type": "code",
   "execution_count": null,
   "metadata": {
    "deletable": false,
    "editable": false,
    "nbgrader": {
     "cell_type": "code",
     "checksum": "4b206426957373a90316791a485936c9",
     "grade": false,
     "grade_id": "cell-b884125c81d0dfa3",
     "locked": true,
     "schema_version": 3,
     "solution": false,
     "task": false
    }
   },
   "outputs": [],
   "source": [
    "# Import resources\n",
    "import pint; from pint import UnitRegistry; AssignQuantity = UnitRegistry().Quantity\n",
    "import warnings; warnings.filterwarnings(\"ignore\", \"The unit of the quantity is stripped when downcasting to ndarray\")\n",
    "import numpy as np\n",
    "import matplotlib.pyplot as plt\n",
    "import sys; sys.path.append('/home'); import PchemLibrary as PL"
   ]
  },
  {
   "cell_type": "code",
   "execution_count": null,
   "metadata": {
    "deletable": false,
    "editable": false,
    "nbgrader": {
     "cell_type": "code",
     "checksum": "2b3fb659f181046addc344f9b4c81818",
     "grade": false,
     "grade_id": "cell-5b8b2e66881f10e4",
     "locked": true,
     "schema_version": 3,
     "solution": false,
     "task": false
    }
   },
   "outputs": [],
   "source": [
    "%matplotlib notebook"
   ]
  },
  {
   "cell_type": "markdown",
   "metadata": {
    "deletable": false,
    "editable": false,
    "nbgrader": {
     "cell_type": "markdown",
     "checksum": "32f26f3c0c4905100b63584580af8842",
     "grade": false,
     "grade_id": "cell-78e7245d8fba7b29",
     "locked": true,
     "schema_version": 3,
     "solution": false,
     "task": false
    }
   },
   "source": [
    "### van der Waals parameters\n",
    "Below, we define van der Waals parameters for a particular gas."
   ]
  },
  {
   "cell_type": "code",
   "execution_count": null,
   "metadata": {},
   "outputs": [],
   "source": [
    "# Constants\n",
    "R = AssignQuantity(8.314,'J/mol/K')\n",
    "n = AssignQuantity(1,'mol')\n",
    "\n",
    "# vdw parameters\n",
    "a = AssignQuantity(3.640,'L^2 bar / mol^2'); print(a)\n",
    "b = AssignQuantity(0.04267,'L /mol'); print(b)"
   ]
  },
  {
   "cell_type": "markdown",
   "metadata": {
    "deletable": false,
    "editable": false,
    "nbgrader": {
     "cell_type": "markdown",
     "checksum": "8a6e2c730b82d020eccd4babd5db48a5",
     "grade": false,
     "grade_id": "cell-7f3b94564cf8317f",
     "locked": true,
     "schema_version": 3,
     "solution": false,
     "task": false
    }
   },
   "source": [
    "### Hunting for the inversion temperature\n",
    "In the cell below, we create a new state space grid, in which temperature and pressure are the independent variables. This state space is constructed using the same Python function we've used before, PL.Statespace, but with input parameters that specify the range of temperatures and pressures (rather than temperatures and volumes, as we did previously). \n",
    "\n",
    "On that grid, we'll be looking at the enthalpy of a gas, given by Eq. 1, with $f_{vib}(T)=0$ (i.e., it's not vibrating), $f_{rot}(T)={2 \\over 2}RT$, and $f_{intermolecular}$ given by Eq. 2. In fact, we're displaying this function in two ways: one is the usual 3d surface view, the other is a contour plot, in which lines of constant enthalpy, called *isenthalps*, are drawn.\n",
    "\n",
    "Your task in this cell is to adjust the temperature range of the state space such that *the center of the temperature range equals (approximately) the inversion temperature of the gas.* This is a guess-and-check operation; a reasonable starting point would be room temperature, say\n",
    "\n",
    "    T_center = 300\n",
    "\n",
    "but that value will need to be adjusted."
   ]
  },
  {
   "cell_type": "code",
   "execution_count": null,
   "metadata": {
    "deletable": false,
    "nbgrader": {
     "cell_type": "code",
     "checksum": "60f3706228109f3d43cb0a8894f5e8f3",
     "grade": true,
     "grade_id": "cell-7dcb046dfa2e00ee",
     "locked": false,
     "points": 4,
     "schema_version": 3,
     "solution": true,
     "task": false
    }
   },
   "outputs": [],
   "source": [
    "# Assign a value to T_center (the center of the temperature range for our state space)\n",
    "# Your code here \n",
    "\n",
    "\n",
    "# Specify  a range of temperatures around that to investigate\n",
    "T_min = T_center*.3\n",
    "T_max = T_center*1.7\n",
    "number_of_temperatures = 100\n",
    "\n",
    "# Also choose a range of pressures\n",
    "P_min = 1\n",
    "P_max = 200\n",
    "number_of_pressures = 101\n",
    "\n",
    "# Now make the state space\n",
    "Tgrid,Pgrid = PL.Statespace([T_min, T_max, number_of_temperatures],[P_min, P_max, number_of_pressures])\n",
    "Tgrid = AssignQuantity(Tgrid,'K')\n",
    "Pgrid = AssignQuantity(Pgrid,'bar')\n",
    "\n",
    "# Calculate H(T,P) for the gas\n",
    "f_intermolecular = Pgrid*(b-2*a/(R*Tgrid))\n",
    "H = (5/2*R*Tgrid + 2/2*R*Tgrid +f_intermolecular)*n\n",
    "\n",
    "# Convert H to kJ\n",
    "H.ito('kJ')\n",
    "\n",
    "# Graphing as a thermodynamic surface\n",
    "xlabel = 'T ('+str(Tgrid.units)+')'\n",
    "ylabel = 'P ('+str(Pgrid.units)+')'\n",
    "zlabel = 'H ('+str(H.units)+')'\n",
    "llist = [xlabel,ylabel,zlabel]\n",
    "PL.plot_surface1(Tgrid, Pgrid, H, color='purple', title='H(T,P)',labellist=llist).show() \n",
    "\n",
    "# Graph it as a contour plot\n",
    "plt.figure()\n",
    "plt.grid(True)\n",
    "plt.contour(Tgrid, Pgrid, H,linestyles='solid', linewidths=3)\n",
    "plt.xlabel(xlabel)\n",
    "plt.ylabel(ylabel)"
   ]
  },
  {
   "cell_type": "markdown",
   "metadata": {
    "deletable": false,
    "editable": false,
    "nbgrader": {
     "cell_type": "markdown",
     "checksum": "3186a4546e0d0f8941c28467ad1a1ca8",
     "grade": false,
     "grade_id": "cell-dcbe978fd5b0f4a9",
     "locked": true,
     "schema_version": 3,
     "solution": false,
     "task": false
    }
   },
   "source": [
    "### Pause for analysis\n",
    "In the cell below, answer these questions:\n",
    "\n",
    "1. Suppose our gas is initially at room temperature (say $300 \\ K$), in a tank compressed to $200 \\ bar$. We let some of it escape through a throttle to the lowest pressure indicated in our contour map (regular atmospheric pressure, $\\approx 1 \\ bar$). What does our contour map predict its temperature will be after passing through the throttle?\n",
    "1. What is the value of the inversion temperature for this gas?\n",
    "1. We've said this gas is non-vibrating, but -- based on our use of $f_{rot}(T)={2 \\over 2}RT$ -- which of the following would you guess it is?\n",
    "\n",
    "- An atomic gas (e.g., $Ne$ or $Ar$);\n",
    "- A diatomic or linear gas (e.g., $N_2$ or $CO_2$); or \n",
    "- A polyatomic gas (e.g., $H_2O$)"
   ]
  },
  {
   "cell_type": "markdown",
   "metadata": {
    "deletable": false,
    "nbgrader": {
     "cell_type": "markdown",
     "checksum": "39facfcd4de8746d4af862a2b9ecf315",
     "grade": true,
     "grade_id": "cell-bc970c86fc91eb4e",
     "locked": false,
     "points": 6,
     "schema_version": 3,
     "solution": true,
     "task": false
    }
   },
   "source": [
    "YOUR ANSWER HERE"
   ]
  },
  {
   "cell_type": "markdown",
   "metadata": {
    "deletable": false,
    "editable": false,
    "nbgrader": {
     "cell_type": "markdown",
     "checksum": "228c4d1972ffe92e8f7a49138ae5d37c",
     "grade": false,
     "grade_id": "cell-f2c3e061007ee069",
     "locked": true,
     "schema_version": 3,
     "solution": false,
     "task": false
    }
   },
   "source": [
    "### Comparing to an analytical result\n",
    "In the cell below, use Eq. 3 to predict the inversion temperature for our gas (you'll have to convert to degrees kelvin)."
   ]
  },
  {
   "cell_type": "code",
   "execution_count": null,
   "metadata": {
    "deletable": false,
    "nbgrader": {
     "cell_type": "code",
     "checksum": "69906bdbe44dde46be981c30dcd2e98c",
     "grade": true,
     "grade_id": "cell-db85f8f26d58811b",
     "locked": false,
     "points": 2,
     "schema_version": 3,
     "solution": true,
     "task": false
    }
   },
   "outputs": [],
   "source": [
    "# Your code here \n"
   ]
  },
  {
   "cell_type": "markdown",
   "metadata": {
    "deletable": false,
    "editable": false,
    "nbgrader": {
     "cell_type": "markdown",
     "checksum": "f15fc1912b593ccee5c94cd565911697",
     "grade": false,
     "grade_id": "cell-8662c4316a3f98a9",
     "locked": true,
     "schema_version": 3,
     "solution": false,
     "task": false
    }
   },
   "source": [
    "### Pause for Analysis\n",
    "Did the temperature you just got agree with what you concluded from the isenthalps?"
   ]
  },
  {
   "cell_type": "markdown",
   "metadata": {
    "deletable": false,
    "nbgrader": {
     "cell_type": "markdown",
     "checksum": "820f4bb42372d0200f59f744b389f857",
     "grade": true,
     "grade_id": "cell-1896896e3bbfc329",
     "locked": false,
     "points": 1,
     "schema_version": 3,
     "solution": true,
     "task": false
    }
   },
   "source": [
    "YOUR ANSWER HERE"
   ]
  },
  {
   "cell_type": "markdown",
   "metadata": {
    "deletable": false,
    "editable": false,
    "nbgrader": {
     "cell_type": "markdown",
     "checksum": "848d5253d9135315e26547992c98ce3e",
     "grade": false,
     "grade_id": "cell-1997aedfbf33a9a4",
     "locked": true,
     "schema_version": 3,
     "solution": false,
     "task": false
    }
   },
   "source": [
    "### Refresh/save/validate/close/submit/logout"
   ]
  }
 ],
 "metadata": {
  "kernelspec": {
   "display_name": "Python 3 (ipykernel)",
   "language": "python",
   "name": "python3"
  },
  "language_info": {
   "codemirror_mode": {
    "name": "ipython",
    "version": 3
   },
   "file_extension": ".py",
   "mimetype": "text/x-python",
   "name": "python",
   "nbconvert_exporter": "python",
   "pygments_lexer": "ipython3",
   "version": "3.10.2"
  }
 },
 "nbformat": 4,
 "nbformat_minor": 1
}

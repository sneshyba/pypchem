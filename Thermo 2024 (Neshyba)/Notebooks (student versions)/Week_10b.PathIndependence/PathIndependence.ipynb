{
 "cells": [
  {
   "cell_type": "markdown",
   "metadata": {
    "deletable": false,
    "editable": false,
    "nbgrader": {
     "cell_type": "markdown",
     "checksum": "05b47b25bff10c72ebcb0347c3100f45",
     "grade": false,
     "grade_id": "cell-0c21cec76c710918",
     "locked": true,
     "schema_version": 3,
     "solution": false,
     "task": false
    }
   },
   "source": [
    "### Neshyba, 2024\n",
    "\n",
    "# Path Independence as an existence test\n",
    "\n",
    "## The two-path test of whether a function is a state function\n",
    "How do we test, in general, whether an alleged state function really is a state function? One approach is to literally test for path-independence of integrals of a given differential equation of state. \n",
    "\n",
    "For example, suppose you are considering this differential equation:\n",
    "\n",
    "$$\n",
    "dA = \\frac 1 {T^2} dT + \\frac 1 {TP} dP \\ \\ \\ \\ (1)\n",
    "$$\n",
    "\n",
    "Then we could conclude that $A(T,P)$ really is a state function if we\n",
    "\n",
    "1. Constructed one surface by integrating the slopes *temperature-first*, followed by integrating over the pressure. \n",
    "1. Constructed another surface by integrating the slopes *pressure-first,* then over temperature. \n",
    "\n",
    "If you got the same surface, you could conclude that changes in the function when you cruise through state space really are path-independent -- which in turn would mean that the function $A(T,P)$ really exists. \n",
    "\n",
    "Similar comments would apply to $B(T,P)$, of course:\n",
    "\n",
    "$$\n",
    "dB = P dT + T dP \\ \\ \\ \\ (2)\n",
    "$$\n",
    "\n",
    "## A numerical approach\n",
    "This is a lot easier than you might think, from a numerical perspective, with the help of the function PL.Integrator. Specifically, if you want PL.Integrator to integrate of *temperature* first, specify \"axis=0\" at the end of the argument list. If you want to make it *pressure-first,* specify \"axis=1.\" If it turns out that the resulting difference in $A$ is the same for these two paths, you'd conclude that $A(T,P)$ is a state function (or, equivalently, \"$A(T,P)$ exists.\" Similarly for $B$.\n",
    "\n",
    "## Learning Goal\n",
    "1. I can test whether an alleged thermodynamic function exists by integrating along different paths."
   ]
  },
  {
   "cell_type": "code",
   "execution_count": null,
   "metadata": {
    "deletable": false,
    "editable": false,
    "nbgrader": {
     "cell_type": "code",
     "checksum": "3acf70ea90db87238ae11f3a7baf2964",
     "grade": false,
     "grade_id": "cell-45ace4c6785891f7",
     "locked": true,
     "schema_version": 3,
     "solution": false,
     "task": false
    }
   },
   "outputs": [],
   "source": [
    "import pint; from pint import UnitRegistry; AssignQuantity = UnitRegistry().Quantity\n",
    "import warnings; warnings.filterwarnings(\"ignore\", \"The unit of the quantity is stripped when downcasting to ndarray\")\n",
    "import numpy as np\n",
    "import matplotlib.pyplot as plt\n",
    "import sys; sys.path.append('/home'); import PchemLibrary as PL\n",
    "from mpl_toolkits.mplot3d import axes3d"
   ]
  },
  {
   "cell_type": "code",
   "execution_count": null,
   "metadata": {
    "deletable": false,
    "editable": false,
    "nbgrader": {
     "cell_type": "code",
     "checksum": "c3ac35959831ecc1e6fc324c1f8de813",
     "grade": false,
     "grade_id": "cell-61ffc4426a41b4ae",
     "locked": true,
     "schema_version": 3,
     "solution": false,
     "task": false
    }
   },
   "outputs": [],
   "source": [
    "%matplotlib notebook"
   ]
  },
  {
   "cell_type": "markdown",
   "metadata": {
    "deletable": false,
    "editable": false,
    "nbgrader": {
     "cell_type": "markdown",
     "checksum": "d6df88f1e49d1ddddc5220b5ebe370fd",
     "grade": false,
     "grade_id": "cell-8d42e478084c790f",
     "locked": true,
     "schema_version": 3,
     "solution": false,
     "task": false
    }
   },
   "source": [
    "### State space (this will work for both A and B)\n",
    "The code below loads in a T/P state space."
   ]
  },
  {
   "cell_type": "code",
   "execution_count": null,
   "metadata": {
    "deletable": false,
    "editable": false,
    "nbgrader": {
     "cell_type": "code",
     "checksum": "2aeb1685c2d80867bb28d12b0cb05412",
     "grade": false,
     "grade_id": "cell-21bdf69b2d191be2",
     "locked": true,
     "schema_version": 3,
     "solution": false,
     "task": false
    }
   },
   "outputs": [],
   "source": [
    "Tgrid,Pgrid = PL.Statespace([200,400,50],[1,10,51])\n",
    "Tgrid = AssignQuantity(Tgrid,'K')\n",
    "Pgrid = AssignQuantity(Pgrid,'bar')"
   ]
  },
  {
   "cell_type": "markdown",
   "metadata": {
    "deletable": false,
    "editable": false,
    "nbgrader": {
     "cell_type": "markdown",
     "checksum": "b3e3081ae22ba011194f5a096667f6a4",
     "grade": false,
     "grade_id": "cell-49b7c7a5b62ace39",
     "locked": true,
     "schema_version": 3,
     "solution": false,
     "task": false
    }
   },
   "source": [
    "### Investigating the existence of $A(T,P)$\n",
    "The code below constructs candidate state function \"$A$\" from the coefficients in front of $dT$ and $dP$ in Eq. (1)."
   ]
  },
  {
   "cell_type": "code",
   "execution_count": null,
   "metadata": {
    "deletable": false,
    "nbgrader": {
     "cell_type": "code",
     "checksum": "bb357e80299469a1be259d83077c34ae",
     "grade": true,
     "grade_id": "cell-0dea4c6276c1b8b3",
     "locked": false,
     "points": 2,
     "schema_version": 3,
     "solution": true,
     "task": false
    }
   },
   "outputs": [],
   "source": [
    "# Prepping the labels\n",
    "xlabel = \"T \"+str(Tgrid.units)\n",
    "ylabel = \"P \"+str(Pgrid.units)\n",
    "zlabel = \"A\"\n",
    "llist = [xlabel, ylabel, zlabel]\n",
    "\n",
    "# Getting the coefficients according to Eq. (1)\n",
    "dAdT = 1/Tgrid**2\n",
    "dAdP = 1/(Tgrid*Pgrid)\n",
    "\n",
    "# Integrate with respect to temperature first, then pressure (that's what \"axis=0 does\")\n",
    "A_Tfirst = PL.Integrator([Tgrid, Pgrid], dAdT, dAdP, AssignQuantity, axis=0)\n",
    "PL.plot_surface1(Tgrid, Pgrid, A_Tfirst, color='gray', title='A (T-first) (gas)',labellist=llist)\n",
    "\n",
    "# Now integrate with respect to pressure first, then temperature (\"axis=1\"), and display\n",
    "# Your code here \n"
   ]
  },
  {
   "cell_type": "markdown",
   "metadata": {
    "deletable": false,
    "editable": false,
    "nbgrader": {
     "cell_type": "markdown",
     "checksum": "50ce9f0ae66d79b836cf3f32e4790570",
     "grade": false,
     "grade_id": "cell-464a156dc1cf51c9",
     "locked": true,
     "schema_version": 3,
     "solution": false,
     "task": false
    }
   },
   "source": [
    "### Pause for analysis\n",
    "If it looks like these two functions are the same, then we'd conclude that $A(T,P)$ exists. If they're different then $A(T,P)$ does not exist (it's a \"pretender!\"). What do you think?"
   ]
  },
  {
   "cell_type": "markdown",
   "metadata": {
    "deletable": false,
    "nbgrader": {
     "cell_type": "markdown",
     "checksum": "0bfccdd3579c48fc353e066b9a19766d",
     "grade": true,
     "grade_id": "cell-7206c24d50564fa0",
     "locked": false,
     "points": 2,
     "schema_version": 3,
     "solution": true,
     "task": false
    }
   },
   "source": [
    "YOUR ANSWER HERE"
   ]
  },
  {
   "cell_type": "markdown",
   "metadata": {
    "deletable": false,
    "editable": false,
    "nbgrader": {
     "cell_type": "markdown",
     "checksum": "9e6500bf4c4d7af59f199ff38ba6b848",
     "grade": false,
     "grade_id": "cell-2b2c5e03b40e38f3",
     "locked": true,
     "schema_version": 3,
     "solution": false,
     "task": false
    }
   },
   "source": [
    "### Investigating the existence of $B(T,P)$\n",
    "In the cell below, construct candidate state function \"$B$\" from the coefficients in front of $dT$ and $dP$ in Eq. (2)."
   ]
  },
  {
   "cell_type": "code",
   "execution_count": null,
   "metadata": {
    "deletable": false,
    "nbgrader": {
     "cell_type": "code",
     "checksum": "c1a42e5657ec646b708705e220d809e9",
     "grade": true,
     "grade_id": "cell-8d26254de7b89c7f",
     "locked": false,
     "points": 6,
     "schema_version": 3,
     "solution": true,
     "task": false
    }
   },
   "outputs": [],
   "source": [
    "# Checking out B\n",
    "# Your code here \n"
   ]
  },
  {
   "cell_type": "markdown",
   "metadata": {
    "deletable": false,
    "editable": false,
    "nbgrader": {
     "cell_type": "markdown",
     "checksum": "8d1ae5a1029dca2b51b10ae12b0ce184",
     "grade": false,
     "grade_id": "cell-4a97c13a7f054897",
     "locked": true,
     "schema_version": 3,
     "solution": false,
     "task": false
    }
   },
   "source": [
    "### Pause for analysis\n",
    "If it looks like these two functions are the same, then we'd conclude that $B(T,P)$ exists. If they're different then $B(T,P)$ does not exist (it's a \"pretender!\"). What do you think?"
   ]
  },
  {
   "cell_type": "markdown",
   "metadata": {
    "deletable": false,
    "nbgrader": {
     "cell_type": "markdown",
     "checksum": "b3f9fa33694c85c0b054a007c33486dd",
     "grade": true,
     "grade_id": "cell-5d6e09240d88ee8b",
     "locked": false,
     "points": 2,
     "schema_version": 3,
     "solution": true,
     "task": false
    }
   },
   "source": [
    "YOUR ANSWER HERE"
   ]
  },
  {
   "cell_type": "markdown",
   "metadata": {
    "deletable": false,
    "editable": false,
    "nbgrader": {
     "cell_type": "markdown",
     "checksum": "83d80467af9359f0c01fcdc6b9a01ed7",
     "grade": false,
     "grade_id": "cell-98115ad6bb15b27b",
     "locked": true,
     "schema_version": 3,
     "solution": false,
     "task": false
    }
   },
   "source": [
    "### Refresh/save/validate/close/submit/logout"
   ]
  }
 ],
 "metadata": {
  "kernelspec": {
   "display_name": "Python 3 (ipykernel)",
   "language": "python",
   "name": "python3"
  },
  "language_info": {
   "codemirror_mode": {
    "name": "ipython",
    "version": 3
   },
   "file_extension": ".py",
   "mimetype": "text/x-python",
   "name": "python",
   "nbconvert_exporter": "python",
   "pygments_lexer": "ipython3",
   "version": "3.10.2"
  }
 },
 "nbformat": 4,
 "nbformat_minor": 2
}

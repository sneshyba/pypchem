{
 "cells": [
  {
   "cell_type": "markdown",
   "metadata": {
    "deletable": false,
    "editable": false,
    "nbgrader": {
     "cell_type": "markdown",
     "checksum": "1d6b15362a06860fab7726a08db76109",
     "grade": false,
     "grade_id": "cell-e738c8668287b02a",
     "locked": true,
     "schema_version": 3,
     "solution": false,
     "task": false
    }
   },
   "source": [
    "### Neshyba, 2024\n",
    "\n",
    "# Visualizing $G(T,P)$\n",
    "\n",
    "## A reminder about $S(T,P)$\n",
    "This is just a reminder about how we got $S(T,P)$ back in *VisualizingSTP* (because we're going to use the same techniques to get $G(T,P)$). The basic idea is that the slopes $S(T,P)$ are given by\n",
    "\n",
    "$$\n",
    "\\big (\\partial S/ \\partial T \\big )_P = {C_P \\over T} \\ \\ \\ \\ (1)\n",
    "$$ \n",
    "\n",
    "and \n",
    "\n",
    "$$\n",
    "\\big (\\partial S/ \\partial P \\big )_T = -\\alpha_P V \\ \\ \\ \\ (2)\n",
    "$$ \n",
    "\n",
    "In *VisualizingSTP*, you used PL.Integrator to integrate $dS = \\big (\\partial S/ \\partial T \\big )_P dT + \\big (\\partial S/ \\partial P \\big )_T dP$ to produce surfaces like the ones shown in Fig. 1.\n",
    "\n",
    "<p style='text-align: center;'>\n",
    "<img src=\"http://webspace.pugetsound.edu/facultypages/nesh/Notebook/STP for gas and liquid.png\" height=\"500\" width=\"500\"/>  \n",
    "<p style='text-align: center;'>\n",
    "<strong>Figure 1</strong>. Entropy of a liquid and a gas, in a temperature-pressure state space.\n",
    "</p>\n",
    "\n",
    "Doing so required that we know the heat capacity ($C_P$), isobaric expansivity ($\\alpha_P$), and volume ($V$) of the liquid and gas. In general those are temperature- and pressure-dependent, but there are some approximations we'll make here that will simplify matters:\n",
    "\n",
    "- For water vapor, use of an ideal gas assumption leads to $\\alpha_P  V \\approx {R \\over P}$.\n",
    "\n",
    "- For liquid water, we'll assume $\\alpha_P$ and $V$ to be constants, values for which one can find online (e.g., https://webbook.nist.gov/chemistry/name-ser/). \n",
    "\n",
    "PL.Integrator also required standard-state entropies of formation, $S_f^o$ (also available at https://webbook.nist.gov/chemistry/name-ser/).\n",
    "\n",
    "\n",
    "## Calculating $G(T,P)$ from its differential equation of state\n",
    "Here, you'll be constructing $G(T,P)$ for liquid and gaseous phases of water, using the same methods: by integrating the differential equation of state for the Gibbs energy,\n",
    "\n",
    "$$\n",
    "dG = -S dT + V dP \\ \\ \\ \\ (3)\n",
    "$$\n",
    "\n",
    "To carry out this integration, you'll need the slopes of $G(T,P)$, which (according to Eq. 3) are $S(T,P)$ and $V(T,P)$, as well as the Standard-state Gibbs energies of formation (from https://webbook.nist.gov/chemistry/name-ser/). The result should look something like the surfaces in Fig. 2.\n",
    "\n",
    "<p style='text-align: center;'>\n",
    "<img src=\"http://webspace.pugetsound.edu/facultypages/nesh/Notebook/GTP for gas and liquid.png\" height=\"500\" width=\"500\"/>  \n",
    "<p style='text-align: center;'>\n",
    "<strong>Figure 2</strong>. Gibbs energy of a liquid and a gas, in a temperature-pressure state space.\n",
    "</p>\n",
    "\n",
    "\n",
    "## Connection to *Clausius-Clapeyron*\n",
    "The line of intersection between the Gibbs energy of liquid and gaseous water shown in Fig. 2 is pretty important: it is the set of points at which liquid and gas are in equilibrium. One big take-home of this exercise is that you'll make the connection between this intersection and the phase boundaries in phase diagrams that we've worked with before -- to be precise, the Clausius-Clapeyron liquid/gas phase boundary. \n",
    "\n",
    "## Intensive, not extensive\n",
    "We're going to leave out the $n$ in our formulas for this exercise, treating all variables here as intensive quantities. So, the heat capacities appearing in the above are all molar heat capacities, and the volumes are molar volumes.\n",
    "\n",
    "## Learning Goals\n",
    "- I know how to numerially construct Gibbs energy state functions as thermodynamic surfaces, and how to display those surfaces using *PL.plot_surfaces*.\n",
    "- I can identify where phase boundaries appear in graphs of Gibbs surfaces of vapor and liquid.\n",
    "- I can predict what the Gibbs energy thermodynamic surface of any substance will look like in a temperature-pressure state space, based on general features of the differential equation of state for $G(T,P)$."
   ]
  },
  {
   "cell_type": "code",
   "execution_count": null,
   "metadata": {
    "deletable": false,
    "editable": false,
    "nbgrader": {
     "cell_type": "code",
     "checksum": "d71427095cf3faa630494dc2404cc6cc",
     "grade": false,
     "grade_id": "cell-8e8c2cd153b2e3dc",
     "locked": true,
     "schema_version": 3,
     "solution": false,
     "task": false
    }
   },
   "outputs": [],
   "source": [
    "# Import resources\n",
    "import pint; from pint import UnitRegistry; AssignQuantity = UnitRegistry().Quantity\n",
    "import warnings; warnings.filterwarnings(\"ignore\", \"The unit of the quantity is stripped when downcasting to ndarray\")\n",
    "import numpy as np\n",
    "import sys; sys.path.append('/home'); import PchemLibrary as PL"
   ]
  },
  {
   "cell_type": "markdown",
   "metadata": {
    "deletable": false,
    "editable": false,
    "nbgrader": {
     "cell_type": "markdown",
     "checksum": "2e5a78e46d8df3049fb9c5b6ffb6b707",
     "grade": false,
     "grade_id": "cell-a518b1d966502a55",
     "locked": true,
     "schema_version": 3,
     "solution": false,
     "task": false
    }
   },
   "source": [
    "### $T,P$ state space and constants\n",
    "In the cell below, we lay out a $T,P$ state space, with units."
   ]
  },
  {
   "cell_type": "code",
   "execution_count": null,
   "metadata": {
    "deletable": false,
    "editable": false,
    "nbgrader": {
     "cell_type": "code",
     "checksum": "712906d22f85e0a91e02a6aaa5a4d729",
     "grade": false,
     "grade_id": "cell-0fe18cd0599decac",
     "locked": true,
     "schema_version": 3,
     "solution": false,
     "task": false
    }
   },
   "outputs": [],
   "source": [
    "# Laying out the state space\n",
    "Tgrid,Pgrid = PL.Statespace([273,390,60],[.01,1.5,101])\n",
    "Tgrid = AssignQuantity(Tgrid,'K')\n",
    "Pgrid = AssignQuantity(Pgrid,'bar')\n",
    "\n",
    "# Gas constant in SI units\n",
    "R = AssignQuantity(8.314,'J /mol/K')\n",
    "\n",
    "# Standard state conditions\n",
    "T0 = AssignQuantity(298,'K')\n",
    "P0 = AssignQuantity(1,'bar')"
   ]
  },
  {
   "cell_type": "markdown",
   "metadata": {
    "deletable": false,
    "editable": false,
    "nbgrader": {
     "cell_type": "markdown",
     "checksum": "ed8ef8bc3e7e473ff6e3835217a026b0",
     "grade": false,
     "grade_id": "cell-dcc9d968b96409eb",
     "locked": true,
     "schema_version": 3,
     "solution": false,
     "task": false
    }
   },
   "source": [
    "### Constants pertaining to water\n",
    "The following cell provides constants for water you'll need to calculate the entropy surfaces - see https://webbook.nist.gov/chemistry/name-ser/. All are given as intensive quantities."
   ]
  },
  {
   "cell_type": "code",
   "execution_count": null,
   "metadata": {
    "deletable": false,
    "editable": false,
    "nbgrader": {
     "cell_type": "code",
     "checksum": "a9ebd83b94a027b9546cc9d82ed27c37",
     "grade": false,
     "grade_id": "cell-72eafca370b9b281",
     "locked": true,
     "schema_version": 3,
     "solution": false,
     "task": false
    }
   },
   "outputs": [],
   "source": [
    "# Parameters for gaseous water\n",
    "V_gas = R*Tgrid/Pgrid\n",
    "CP_gas = AssignQuantity(33.6,'J/K/mol')\n",
    "SS_gas = AssignQuantity(188.835,'J/K/mol') # Standard-state entropy at \n",
    "\n",
    "# Parameters for liquid water\n",
    "V_liq = AssignQuantity(0.018,'L/mole')*np.ones(np.shape(Tgrid))\n",
    "alpha_P_liq = AssignQuantity(2.1e-4,'1/K')\n",
    "CP_liq = AssignQuantity(75.4,'J/K/mol')\n",
    "SS_liq = AssignQuantity(69.95,'J/K/mol')"
   ]
  },
  {
   "cell_type": "markdown",
   "metadata": {
    "deletable": false,
    "editable": false,
    "nbgrader": {
     "cell_type": "markdown",
     "checksum": "e0a486e3d02118c195d52c3b47ec9f30",
     "grade": false,
     "grade_id": "cell-35d28110f5319ccb",
     "locked": true,
     "schema_version": 3,
     "solution": false,
     "task": false
    }
   },
   "source": [
    "### Visuaizing $S(T,P)$ \n",
    "Below, we recall how we constructed and visualized $S(T,P)$ for for gaseous and liquid water."
   ]
  },
  {
   "cell_type": "code",
   "execution_count": null,
   "metadata": {},
   "outputs": [],
   "source": [
    "# (dS/dT)_P for the gas; call the result dSdT_gas\n",
    "dSdT_gas = CP_gas/Tgrid\n",
    "\n",
    "# (dS/dT)_P for the liquid; call the result dSdT_liq\n",
    "dSdT_liq = CP_liq/Tgrid\n",
    "\n",
    "# dSdP for the gas; call the result dSdP_gas\n",
    "dSdP_gas = -R/Pgrid\n",
    "\n",
    "# dSdP for the liquid; call the result dSdP_liq\n",
    "dSdP_liq = -V_liq*alpha_P_liq\n",
    "\n",
    "# Calculate the entropy of the gas and liquid as thermodynamic surfaces\n",
    "S_gas = PL.Integrator([Tgrid, Pgrid], dSdT_gas, dSdP_gas, AssignQuantity, Units='J/K/mol', SState=[T0,P0,SS_gas])\n",
    "S_liq = PL.Integrator([Tgrid, Pgrid], dSdT_liq, dSdP_liq, AssignQuantity, Units='J/K/mol', SState=[T0,P0,SS_liq])\n",
    "\n",
    "# Putting both surfaces we want to plot into a Python list\n",
    "Slist = [S_gas, S_liq]\n",
    "\n",
    "# Prepping the labels\n",
    "xlabel = \"T \"+str(Tgrid.units)\n",
    "ylabel = \"P \"+str(Pgrid.units)\n",
    "zlabel = \"S \"+str(S_liq.units)\n",
    "llist = [xlabel,ylabel,zlabel] # There are three elements in this list because we have x, y, and z axes\n",
    "\n",
    "# Prepping the colors\n",
    "clist = ['green', 'blue'] # There are two elements in this list because we are displaying two surfaces\n",
    "tlist = ['gas', 'liq'] # Also two elements in this list, for the same reason\n",
    "\n",
    "# Plotting the entropies using PL.plot_surfaces\n",
    "PL.plot_surfaces(Tgrid,Pgrid,Slist,colorlist=clist,titlelist=tlist,labellist=llist)"
   ]
  },
  {
   "cell_type": "markdown",
   "metadata": {
    "deletable": false,
    "editable": false,
    "nbgrader": {
     "cell_type": "markdown",
     "checksum": "87d2d6f35b6c9d0c025bc78dbbcf81d9",
     "grade": false,
     "grade_id": "cell-2481ac2c2c848d50",
     "locked": true,
     "schema_version": 3,
     "solution": false,
     "task": false
    }
   },
   "source": [
    "### Integrating the differential equation of state for the Gibbs energy of the gas\n",
    "In the cell below, you have two tasks:\n",
    "1. Use PL.Integrator to construct the thermodynamic Gibbs energy surface of water vapor, $G_{gas}(T,P)$, by integrating Eq. 3, specifying units of ${kJ \\over mol}$.\n",
    "1. Do the same for $G_{liq}(T,P)$. \n",
    "1. Use PL.plot_surfaces to plot $G_{gas}(T,P)$ and $G_{liq}(T,P)$ together."
   ]
  },
  {
   "cell_type": "code",
   "execution_count": null,
   "metadata": {
    "deletable": false,
    "nbgrader": {
     "cell_type": "code",
     "checksum": "dcf8163d25a6d146f8226ff1bc2eb17b",
     "grade": true,
     "grade_id": "cell-76731795f88dcbd7",
     "locked": false,
     "points": 10,
     "schema_version": 3,
     "solution": true,
     "task": false
    }
   },
   "outputs": [],
   "source": [
    "# Your code here \n"
   ]
  },
  {
   "cell_type": "markdown",
   "metadata": {
    "deletable": false,
    "editable": false,
    "nbgrader": {
     "cell_type": "markdown",
     "checksum": "ba58aea44ac0ee4e5ef4f128eef75833",
     "grade": false,
     "grade_id": "cell-23861d197776bc1f",
     "locked": true,
     "schema_version": 3,
     "solution": false,
     "task": false
    }
   },
   "source": [
    "### Pause for analysis\n",
    "If you orient the view so that you're looking down on the surface, with temperature increasing left-to-right, and pressure increasing bottom-to-top, you'll be able to \"see\" the Clausius-Clapeyron equation in action."
   ]
  },
  {
   "cell_type": "markdown",
   "metadata": {
    "deletable": false,
    "editable": false,
    "nbgrader": {
     "cell_type": "markdown",
     "checksum": "4bf729af6b7e6127e8a39fc6d799e2b2",
     "grade": false,
     "grade_id": "cell-baacad039b0489db",
     "locked": true,
     "schema_version": 3,
     "solution": false,
     "task": false
    }
   },
   "source": [
    "### Refresh/save/validate/close/submit/logout"
   ]
  }
 ],
 "metadata": {
  "kernelspec": {
   "display_name": "Python 3 (ipykernel)",
   "language": "python",
   "name": "python3"
  },
  "language_info": {
   "codemirror_mode": {
    "name": "ipython",
    "version": 3
   },
   "file_extension": ".py",
   "mimetype": "text/x-python",
   "name": "python",
   "nbconvert_exporter": "python",
   "pygments_lexer": "ipython3",
   "version": "3.10.2"
  }
 },
 "nbformat": 4,
 "nbformat_minor": 2
}

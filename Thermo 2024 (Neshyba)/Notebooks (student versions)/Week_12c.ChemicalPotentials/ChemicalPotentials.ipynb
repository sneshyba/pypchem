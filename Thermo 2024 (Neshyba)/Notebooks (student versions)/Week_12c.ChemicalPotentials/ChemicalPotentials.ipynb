{
 "cells": [
  {
   "cell_type": "markdown",
   "metadata": {
    "deletable": false,
    "editable": false,
    "nbgrader": {
     "cell_type": "markdown",
     "checksum": "819e71a74400237b12bce367d3fa5cf1",
     "grade": false,
     "grade_id": "cell-e25474589ded26e7",
     "locked": true,
     "schema_version": 3,
     "solution": false,
     "task": false
    }
   },
   "source": [
    "### Neshyba, 2024\n",
    "\n",
    "# Chemical Potentials\n",
    "\n",
    "## The idea of chemical potential\n",
    "One definition of chemical potential is \"the energy that can be absorbed or released due to a change of the particle number of the given species, e.g. in a chemical reaction or phase transition\" (https://en.wikipedia.org/wiki/Chemical_potential). A more formal definition is $\\mu_A \\equiv \\bigl ( {\\partial G \\over \\partial n_A } \\bigr )_{n_B,n_C, ... T,P}$, where $n_A$ refers to the amount of chemical species \"A\" in a mixture (and similarly for $n_B$, $n_C$, etc.). There are different approaches to calculating chemical potentials, depending on whether the species in question is a gas, solute, or solvent. Here we'll work with all three.\n",
    "\n",
    "\n",
    "## Key equations\n",
    "\n",
    "$$\n",
    "\\mu_A = \\mu_A^o +RTln \\big ({a_A \\over a^o} \\big) \\ \\ \\ (1)\n",
    "$$\n",
    "\n",
    "where:\n",
    "\n",
    "- If $A$ is a gas, then $a_A$ is the partial pressure of $A$, and $a^o = 1 \\ bar$ \n",
    "- If $A$ is a solute, $a_A$ is the concentration of $A$, and $a^o = 1 \\ \\underline M$ \n",
    "- If $A$ is a solvent then $a_A$ is the mole fraction of $A$, and $a^o = 1$ \n",
    "\n",
    "When we need to take pressure into account (as in an osmotic pressure experiment), we write\n",
    "\n",
    "$$\n",
    "\\mu_A = \\mu_A^o +RTln \\big ({a_A \\over a^o} \\big) +V\\Delta P \\ \\ \\ (2)\n",
    "$$\n",
    "\n",
    "where $V$ is the molar volume of the solvent. For water as a solvent, for example, $V = 18 {ml \\over mol}$.\n",
    "\n",
    "## Learning goals\n",
    "1. I can predict chemical potentials of solutes, gases, and solvents from concentrations, partial pressures, and mole fractions.\n",
    "1. I can predict osmotic pressure from concentration information. \n",
    "1. I can predict equilibrium constants from $\\Delta G^o_{rxn}$."
   ]
  },
  {
   "cell_type": "code",
   "execution_count": null,
   "metadata": {
    "deletable": false,
    "editable": false,
    "nbgrader": {
     "cell_type": "code",
     "checksum": "818e085d0fc0f8c9b3aff83669cc35b1",
     "grade": false,
     "grade_id": "cell-7e2dd986b30edab8",
     "locked": true,
     "schema_version": 3,
     "solution": false,
     "task": false
    }
   },
   "outputs": [],
   "source": [
    "import pint; from pint import UnitRegistry; AssignQuantity = UnitRegistry().Quantity\n",
    "import numpy as np"
   ]
  },
  {
   "cell_type": "markdown",
   "metadata": {
    "deletable": false,
    "editable": false,
    "nbgrader": {
     "cell_type": "markdown",
     "checksum": "b29f1c2dc28ac1bb91d4ca328ca95496",
     "grade": false,
     "grade_id": "cell-7581706f35a07326",
     "locked": true,
     "schema_version": 3,
     "solution": false,
     "task": false
    }
   },
   "source": [
    "### Instructions\n",
    "For this CGI, we'll assume a temperature of 298 K. Also, please report the chemical potential results in units kJ/mol. For that reason it'll be convenient to use an R-value of $8.314 \\times 10^{-3} \\ {kJ \\over mol K}$ (but you can also do conversions at the end)."
   ]
  },
  {
   "cell_type": "markdown",
   "metadata": {
    "deletable": false,
    "editable": false,
    "nbgrader": {
     "cell_type": "markdown",
     "checksum": "c776250308541d3ad7d99a3459ee311d",
     "grade": false,
     "grade_id": "cell-dad506190d63ac65",
     "locked": true,
     "schema_version": 3,
     "solution": false,
     "task": false
    }
   },
   "source": [
    "### Assigning values to T and R. "
   ]
  },
  {
   "cell_type": "code",
   "execution_count": null,
   "metadata": {
    "deletable": false,
    "editable": false,
    "nbgrader": {
     "cell_type": "code",
     "checksum": "c86018caf6b313b2fd668191a19d54e5",
     "grade": false,
     "grade_id": "cell-89de67b36f8645c2",
     "locked": true,
     "schema_version": 3,
     "solution": false,
     "task": false
    }
   },
   "outputs": [],
   "source": [
    "T = AssignQuantity(298,'K')\n",
    "R = AssignQuantity(8.314e-3,'kjoule/mol/K')"
   ]
  },
  {
   "cell_type": "markdown",
   "metadata": {
    "deletable": false,
    "editable": false,
    "nbgrader": {
     "cell_type": "markdown",
     "checksum": "b9fac2603489815b9fdaedc48ef47a64",
     "grade": false,
     "grade_id": "cell-39f925b1d0816f70",
     "locked": true,
     "schema_version": 3,
     "solution": false,
     "task": false
    }
   },
   "source": [
    "### 1. Chemical potential of a solute\n",
    "Solute A in chamber Y is 1/3 its concentration in chamber X. Calculate $\\Delta\\mu$ for the reaction $A(X) → A(Y)$. \n",
    "\n",
    "Managing expectations: If you think this reaction is spontaneous as written, you'd expect $\\Delta\\mu<0$. If you think the *reverse* reaction is spontaneous, you'd expect $\\Delta\\mu>0$. "
   ]
  },
  {
   "cell_type": "code",
   "execution_count": null,
   "metadata": {
    "deletable": false,
    "nbgrader": {
     "cell_type": "code",
     "checksum": "53cb8f69d768c387e599bc013a5902c7",
     "grade": true,
     "grade_id": "cell-db55a1ac62e98c07",
     "locked": false,
     "points": 2,
     "schema_version": 3,
     "solution": true,
     "task": false
    }
   },
   "outputs": [],
   "source": [
    "# Your code here \n"
   ]
  },
  {
   "cell_type": "markdown",
   "metadata": {
    "deletable": false,
    "editable": false,
    "nbgrader": {
     "cell_type": "markdown",
     "checksum": "f4c08dabf85a4bbbfbd476f665bc3e35",
     "grade": false,
     "grade_id": "cell-70a686ef4a37d48c",
     "locked": true,
     "schema_version": 3,
     "solution": false,
     "task": false
    }
   },
   "source": [
    "### 2. Chemical potential of a gas\n",
    "Let's say chamber X contains pure $O_2(g)$, chamber Y contains air. What’s $\\Delta\\mu$ for the reaction $O_2(g)(X) → O_2(g)(Y)$? You can find the composition of air at https://en.wikipedia.org/wiki/Atmosphere_of_Earth."
   ]
  },
  {
   "cell_type": "code",
   "execution_count": null,
   "metadata": {
    "deletable": false,
    "nbgrader": {
     "cell_type": "code",
     "checksum": "480d023ab09b2a3118ea2c756b7ce622",
     "grade": true,
     "grade_id": "cell-5e4acc1928d8b1e3",
     "locked": false,
     "points": 2,
     "schema_version": 3,
     "solution": true,
     "task": false
    }
   },
   "outputs": [],
   "source": [
    "# Your code here \n"
   ]
  },
  {
   "cell_type": "markdown",
   "metadata": {
    "deletable": false,
    "editable": false,
    "nbgrader": {
     "cell_type": "markdown",
     "checksum": "4649ec5d516c6e1c6b465e7fdcd43a42",
     "grade": false,
     "grade_id": "cell-7af48bc8c37f63f2",
     "locked": true,
     "schema_version": 3,
     "solution": false,
     "task": false
    }
   },
   "source": [
    "### 3. Solvents\n",
    "Chamber X is an aqueous solution containing 1 molal NaCl(aq). Chamber Y is pure water. Calculate $\\Delta\\mu$ for the reaction $H_2O(aqueous \\ solution) → H_2O(pure \\ solvent)$. \n",
    "\n",
    "Notes about this:\n",
    "- Remember that 1 molal NaCl(aq) is actually 1 molal Na+(aq) and 1 molal Cl-(aq). That'll be important when you calculate the activity (mole fraction) of the water.\n",
    "- Since we've written $H_2O(aqueous \\ solution) → H_2O(pure \\ solvent)$, the corresponding equation for chemical potential difference is $\\Delta\\mu = \\mu(pure \\ solvent) - \\mu(aqueous \\ solution)$. "
   ]
  },
  {
   "cell_type": "code",
   "execution_count": null,
   "metadata": {
    "deletable": false,
    "nbgrader": {
     "cell_type": "code",
     "checksum": "2565cb4f18d79b85c3b451238f6482ab",
     "grade": true,
     "grade_id": "cell-99e06629ac5749e0",
     "locked": false,
     "points": 2,
     "schema_version": 3,
     "solution": true,
     "task": false
    }
   },
   "outputs": [],
   "source": [
    "# Your code here \n"
   ]
  },
  {
   "cell_type": "markdown",
   "metadata": {
    "deletable": false,
    "editable": false,
    "nbgrader": {
     "cell_type": "markdown",
     "checksum": "56b3b22eaf13db430595a4189129d243",
     "grade": false,
     "grade_id": "cell-94f29bee64a8f7e1",
     "locked": true,
     "schema_version": 3,
     "solution": false,
     "task": false
    }
   },
   "source": [
    "### 4. Osmotic pressure\n",
    "Calculate the osmotic pressure when the solute-containing chamber of an osmotic pressure experiment contains 1 molal NaCl(aq). Report your answer in bars."
   ]
  },
  {
   "cell_type": "code",
   "execution_count": null,
   "metadata": {
    "deletable": false,
    "nbgrader": {
     "cell_type": "code",
     "checksum": "ef1cdc96017c132600504b95e94f417c",
     "grade": true,
     "grade_id": "cell-a2f29f6032349224",
     "locked": false,
     "points": 3,
     "schema_version": 3,
     "solution": true,
     "task": false
    }
   },
   "outputs": [],
   "source": [
    "# Your code here \n"
   ]
  },
  {
   "cell_type": "markdown",
   "metadata": {
    "deletable": false,
    "editable": false,
    "nbgrader": {
     "cell_type": "markdown",
     "checksum": "f9fcd56c93f5ea22d6f8dba8c3c7e907",
     "grade": false,
     "grade_id": "cell-310b5055bffe5ca2",
     "locked": true,
     "schema_version": 3,
     "solution": false,
     "task": false
    }
   },
   "source": [
    "### 5. Predicting an equilibrium constant from the Gibbs energy of a reaction\n",
    "Suppose we have a reaction $A → 2B$ for which $\\Delta G^o_{rxn}=-10 \\ kJ/mol$. Using $\\Delta G^o_{rxn}=-RTln(K)$, find the value of $K$ for this reaction, assuming $T=298 K$."
   ]
  },
  {
   "cell_type": "code",
   "execution_count": null,
   "metadata": {
    "deletable": false,
    "nbgrader": {
     "cell_type": "code",
     "checksum": "29abed7ee9f2eb9648cefe37f1099006",
     "grade": true,
     "grade_id": "cell-5af1b052eeb4b4a1",
     "locked": false,
     "points": 2,
     "schema_version": 3,
     "solution": true,
     "task": false
    }
   },
   "outputs": [],
   "source": [
    "# Your code here \n"
   ]
  },
  {
   "cell_type": "markdown",
   "metadata": {
    "deletable": false,
    "editable": false,
    "nbgrader": {
     "cell_type": "markdown",
     "checksum": "4a3440a4f7aa38da6833dc4ee0bc3aa1",
     "grade": false,
     "grade_id": "cell-e1fbd7263751699d",
     "locked": true,
     "schema_version": 3,
     "solution": false,
     "task": false
    }
   },
   "source": [
    "### Refresh/save/validate/close/submit/logout"
   ]
  }
 ],
 "metadata": {
  "kernelspec": {
   "display_name": "Python 3 (ipykernel)",
   "language": "python",
   "name": "python3"
  },
  "language_info": {
   "codemirror_mode": {
    "name": "ipython",
    "version": 3
   },
   "file_extension": ".py",
   "mimetype": "text/x-python",
   "name": "python",
   "nbconvert_exporter": "python",
   "pygments_lexer": "ipython3",
   "version": "3.10.2"
  }
 },
 "nbformat": 4,
 "nbformat_minor": 2
}

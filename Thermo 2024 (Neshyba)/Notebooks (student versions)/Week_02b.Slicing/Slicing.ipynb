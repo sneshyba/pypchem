{
 "cells": [
  {
   "cell_type": "markdown",
   "id": "1dea8bf4",
   "metadata": {
    "deletable": false,
    "editable": false,
    "nbgrader": {
     "cell_type": "markdown",
     "checksum": "d4a799e0c0fa2bb3a8895379800724a2",
     "grade": false,
     "grade_id": "cell-b05570620a93bd73",
     "locked": true,
     "schema_version": 3,
     "solution": false,
     "task": false
    }
   },
   "source": [
    "### Computational Guided Inquiry for PChem (Neshyba, 2024)\n",
    "\n",
    "\n",
    "# Slicing Thermodynamic Surfaces\n",
    "\n",
    "## Organization of the $P(T,V)$ state function and state space\n",
    "In this exercise, we'll load in a 2-d grid of state-space temperatures and volumes, and the pressure as a function of that state space: $P(T,V)$. We'll explore how to \"slice through\" the pressure in the two dimensions (temperature and volume), and apply what we learned about graphing those slices, and taking their derivatives. \n",
    "\n",
    "First, when we say \"load in\", it means we'll instruct Python to open files \"Pgrid.txt\", \"Tgrid.txt\", and \"Vgrid.txt\", and copy the information in those files into Python variables. Here, those variables are called Pgrid, Tgrid, and Vgrid. \n",
    "\n",
    "You should also recognize that that information is a *discrete representation* of $P(T,V)$. Each combination of temperature and volume has a specific pair of indices -- so we can talk about the \"ith\" temperature and the \"jth\" volume. Connected to that idea is that in Python, indexing starts at *zero* (not one). \n",
    "\n",
    "## Terminology of Slicing: Isochores and Isotherms\n",
    "In a temperature/volume state space, the vocabulary goes like this:\n",
    "\n",
    "An *isochore* in ($T,V$) state space is a path that spans a range of temperatures, but all at the same volume. (Physically, we wouldn't recommend heating up gases in a confined volume, but in Python it's pretty safe.) To specify all these temperatures and the corresponding pressures, we can use Python's colon (\":\") indexing method. Specifically, \":\" means \"*all* of them.\" So for example, the temperatures and pressures belonging to the jth isochore would be the array of numbers \n",
    "\n",
    "    Tgrid[:,j]\n",
    "    Pgrid[:,j]\n",
    "\n",
    "An *isotherm* in ($T,V$) state space is a path in which the temperature stays constant, but the volume varies. You're enacting this physically when you pump up a bicycle tire, as long as you wait for the temperature to equilibrate with the surrounding air. The volumes and pressures belonging to the ith temperature would be the arrays \n",
    "\n",
    "    Vgrid[i,:]\n",
    "    Pgrid[i,:]\n",
    "\n",
    "\n",
    "What we've just described is *slicing*. \n",
    "\n",
    "Sometimes, we'd like to store slices as named variables. Below, for example, we're making new variables (\"Tisochore2\" and \"Pisochore2\") that will store the #2 isochore temperatures and pressures.\n",
    "\n",
    "    Tisochore2 = Tgrid[:,2]\n",
    "    Pisochore2 = Pgrid[:,2]\n",
    "\n",
    "Once the slices are stored this way, we'll be set up to do similar operations, like plotting and taking derivatives. \n",
    "\n",
    "## Learning Goals\n",
    "1. Explain what's meant by a *discrete representation* of a continuous variable.\n",
    "1. Define the terms *isochore* and *isotherm*.\n",
    "1. Extract and plot isochores & isotherms from gridded data (and their derivatives)."
   ]
  },
  {
   "cell_type": "code",
   "execution_count": null,
   "id": "af0765d7",
   "metadata": {
    "deletable": false,
    "editable": false,
    "nbgrader": {
     "cell_type": "code",
     "checksum": "58609966f5642c6b6f0530c2c9240854",
     "grade": false,
     "grade_id": "cell-8f0108199324fbfb",
     "locked": true,
     "schema_version": 3,
     "solution": false,
     "task": false
    }
   },
   "outputs": [],
   "source": [
    "from pint import UnitRegistry; AssignQuantity = UnitRegistry().Quantity\n",
    "import warnings; warnings.filterwarnings(\"ignore\", \"The unit of the quantity is stripped when downcasting to ndarray\")\n",
    "import numpy as np\n",
    "import matplotlib.pyplot as plt\n",
    "import sys; sys.path.append('/home'); import PchemLibrary as PL"
   ]
  },
  {
   "cell_type": "code",
   "execution_count": null,
   "id": "167219b5",
   "metadata": {
    "deletable": false,
    "editable": false,
    "nbgrader": {
     "cell_type": "code",
     "checksum": "b9b528cf32939c9e65b7a9f9ae826953",
     "grade": false,
     "grade_id": "cell-0e77b9581fad1efc",
     "locked": true,
     "schema_version": 3,
     "solution": false,
     "task": false
    }
   },
   "outputs": [],
   "source": [
    "%matplotlib notebook"
   ]
  },
  {
   "cell_type": "markdown",
   "id": "15718de3",
   "metadata": {
    "deletable": false,
    "editable": false,
    "nbgrader": {
     "cell_type": "markdown",
     "checksum": "85f051fa30daff834d7a5626edd2e922",
     "grade": false,
     "grade_id": "cell-53ee48efdd7e9ec1",
     "locked": true,
     "schema_version": 3,
     "solution": false,
     "task": false
    }
   },
   "source": [
    "### Loading gridded state-space variables and functions\n",
    "The cell below uses numpy's \"loadtxt\" function to load the state space variables $T$ and $V$, from files. We'll be using these for all the work we'll be doing in this activity."
   ]
  },
  {
   "cell_type": "code",
   "execution_count": null,
   "id": "ed258a6d",
   "metadata": {
    "deletable": false,
    "editable": false,
    "nbgrader": {
     "cell_type": "code",
     "checksum": "2def102357a8b2a7de9d31fd222e8897",
     "grade": false,
     "grade_id": "cell-0e28f1ec234255ff",
     "locked": true,
     "schema_version": 3,
     "solution": false,
     "task": false
    }
   },
   "outputs": [],
   "source": [
    "# Load the temperature data and attach units\n",
    "Tgrid = np.loadtxt('Tgrid.txt')\n",
    "Tgrid = AssignQuantity(Tgrid,'K')\n",
    "print(np.shape(Tgrid))\n",
    "\n",
    "# Load the volume data and attach units\n",
    "Vgrid = np.loadtxt('Vgrid.txt')\n",
    "Vgrid = AssignQuantity(Vgrid,'L')\n",
    "print(np.shape(Vgrid))"
   ]
  },
  {
   "cell_type": "markdown",
   "id": "7a96fd66",
   "metadata": {
    "deletable": false,
    "editable": false,
    "nbgrader": {
     "cell_type": "markdown",
     "checksum": "4b18616de45d22a0fbec58fa35322730",
     "grade": false,
     "grade_id": "cell-7ceb87f85fc75ffc",
     "locked": true,
     "schema_version": 3,
     "solution": false,
     "task": false
    }
   },
   "source": [
    "### Your turn\n",
    "Use numpy's \"loadtxt\" function to load the state function $P$ from the file \"Pgrid.txt\", and use AssignQuantity to attach units \"atmosphere\". Call the variable \"Pgrid\"."
   ]
  },
  {
   "cell_type": "code",
   "execution_count": null,
   "id": "ea0350a8",
   "metadata": {
    "deletable": false,
    "nbgrader": {
     "cell_type": "code",
     "checksum": "4c776f7fd8ac0bbbe1c1d2664f754975",
     "grade": true,
     "grade_id": "cell-22a68b295400464e",
     "locked": false,
     "points": 1,
     "schema_version": 3,
     "solution": true,
     "task": false
    }
   },
   "outputs": [],
   "source": [
    "# Your code here \n"
   ]
  },
  {
   "cell_type": "markdown",
   "id": "4b07aa62",
   "metadata": {
    "deletable": false,
    "editable": false,
    "nbgrader": {
     "cell_type": "markdown",
     "checksum": "034deab316316a4b0f9e5fb9936a7668",
     "grade": false,
     "grade_id": "cell-df85eb597d91dfe8",
     "locked": true,
     "schema_version": 3,
     "solution": false,
     "task": false
    }
   },
   "source": [
    "### Plotting in 3d\n",
    "Use the cell below to make a 3d surface plot of the state function Pgrid that you just loaded, on the state space defined by Tgrid and Vgrid. Some reminders ... \n",
    "\n",
    "    # Prepping the axis labels\n",
    "    xlabel = \"T \"+str(Tgrid.units)\n",
    "    ylabel = ...\n",
    "    zlabel = ...\n",
    "    llist = [xlabel, ylabel, zlabel]\n",
    "\n",
    "    # Graph the pressure\n",
    "    PL.plot_surface1(Tgrid, Vgrid, Pgrid, color='plum',title='Pgrid.txt',labellist=llist).show() "
   ]
  },
  {
   "cell_type": "code",
   "execution_count": null,
   "id": "a2965809",
   "metadata": {
    "deletable": false,
    "nbgrader": {
     "cell_type": "code",
     "checksum": "82fbcdc2841439e0afa411527b1ae3d2",
     "grade": true,
     "grade_id": "cell-6e6b8b9368671d04",
     "locked": false,
     "points": 2,
     "schema_version": 3,
     "solution": true,
     "task": false
    }
   },
   "outputs": [],
   "source": [
    "# Your code here \n"
   ]
  },
  {
   "cell_type": "markdown",
   "id": "2a6d0d4d",
   "metadata": {
    "deletable": false,
    "editable": false,
    "nbgrader": {
     "cell_type": "markdown",
     "checksum": "cddb617d603a323324f657087fe38bb5",
     "grade": false,
     "grade_id": "cell-8109537562d9b0a6",
     "locked": true,
     "schema_version": 3,
     "solution": false,
     "task": false
    }
   },
   "source": [
    "### Storing and plotting isochores\n",
    "The cell below slices out (creates) new variables containing pressure and temperature of the 0th *isochore* of $P(T,V)$, and plots one against the other."
   ]
  },
  {
   "cell_type": "code",
   "execution_count": null,
   "id": "c2a01f0c",
   "metadata": {
    "deletable": false,
    "editable": false,
    "nbgrader": {
     "cell_type": "code",
     "checksum": "6080cb50186743a4577ff85fd7a68bd7",
     "grade": false,
     "grade_id": "cell-52851678e761d104",
     "locked": true,
     "schema_version": 3,
     "solution": false,
     "task": false
    }
   },
   "outputs": [],
   "source": [
    "Tisochore0 = Tgrid[:,0]; print(\"Tisochore = \", Tisochore0)\n",
    "Visochore0 = Vgrid[:,0]; print(\"Visochore = \", Visochore0) \n",
    "Pisochore0 = Pgrid[:,0]; print(\"Pisochore = \", Pisochore0) \n",
    "\n",
    "xlabel = \"T \"+str(Tisochore0.units)\n",
    "ylabel = \"P \"+str(Pisochore0.units)\n",
    "\n",
    "plt.figure()\n",
    "plt.plot(Tisochore0,Pisochore0)\n",
    "plt.xlabel(xlabel)\n",
    "plt.ylabel(ylabel)\n",
    "plt.grid(True)"
   ]
  },
  {
   "cell_type": "markdown",
   "id": "91b906c2",
   "metadata": {
    "deletable": false,
    "editable": false,
    "nbgrader": {
     "cell_type": "markdown",
     "checksum": "c37e842cc154a588c05070008c0b69a8",
     "grade": false,
     "grade_id": "cell-3b100b2a6b47f387",
     "locked": true,
     "schema_version": 3,
     "solution": false,
     "task": false
    }
   },
   "source": [
    "### Pause for analysis\n",
    "OK, a straight line is kinda boring. But the proportionality of pressure and temperature of a gas -- which we'll call the *Pressure Law*, had to be discovered -- some attributing this to Gay-Lussac, others to Amonton (see https://en.wikipedia.org/wiki/Gay-Lussac%27s_law)."
   ]
  },
  {
   "cell_type": "markdown",
   "id": "8f795044",
   "metadata": {
    "deletable": false,
    "editable": false,
    "nbgrader": {
     "cell_type": "markdown",
     "checksum": "828ac5a22fe99d5d6a870779b638ba74",
     "grade": false,
     "grade_id": "cell-ba77021ad053045e",
     "locked": true,
     "schema_version": 3,
     "solution": false,
     "task": false
    }
   },
   "source": [
    "### Your turn\n",
    "In the cell below, do the following:\n",
    "\n",
    "1. Slice out the pressure and volume corresponding to the 0th *isotherm* of our gas. Name your new variables Pisotherm0 and Visotherm0.\n",
    "1. Plot Pisotherm0 as a function of the Visotherm0. Label axes appropriately."
   ]
  },
  {
   "cell_type": "code",
   "execution_count": null,
   "id": "a462d53c",
   "metadata": {
    "deletable": false,
    "nbgrader": {
     "cell_type": "code",
     "checksum": "32a092fcb4d72e0ab4b9d0378bf7bece",
     "grade": true,
     "grade_id": "cell-df4dc1ac1add7649",
     "locked": false,
     "points": 2,
     "schema_version": 3,
     "solution": true,
     "task": false
    }
   },
   "outputs": [],
   "source": [
    "# Your code here \n"
   ]
  },
  {
   "cell_type": "markdown",
   "id": "b9a0f3d8",
   "metadata": {},
   "source": [
    "### Your turn (again)\n",
    "In the cell below, do the following:\n",
    "\n",
    "1. Store pressure and volume corresponding to the *last* isotherm of our gas (which is also the hottest). Name your new variables Pisothermlast and Visothermlast. Remember, the last element of a list is indexed as \"-1\".\n",
    "1. Plot Pisothermlast as a function of the Visothermlast. Label axes appropriately."
   ]
  },
  {
   "cell_type": "code",
   "execution_count": null,
   "id": "97f297b1",
   "metadata": {
    "deletable": false,
    "nbgrader": {
     "cell_type": "code",
     "checksum": "6cf98fd9478fd9bebb9faf7d2b14fbd3",
     "grade": true,
     "grade_id": "cell-b0b29c4b971b4186",
     "locked": false,
     "points": 2,
     "schema_version": 3,
     "solution": true,
     "task": false
    }
   },
   "outputs": [],
   "source": [
    "# Your code here \n"
   ]
  },
  {
   "cell_type": "markdown",
   "id": "237959e3",
   "metadata": {
    "deletable": false,
    "editable": false,
    "nbgrader": {
     "cell_type": "markdown",
     "checksum": "45e3fe271b891eab1e84e3d18fb9d841",
     "grade": false,
     "grade_id": "cell-f10bfe2cadeaa685",
     "locked": true,
     "schema_version": 3,
     "solution": false,
     "task": false
    }
   },
   "source": [
    "Plots such as these, in which pressure of a gas is plotted as a function of its volume, are also called *Boyle isotherms*. Check out the animation at https://en.wikipedia.org/wiki/Boyle%27s_law for a cartoon of how this is done physically."
   ]
  },
  {
   "cell_type": "markdown",
   "id": "5b7fd9d9",
   "metadata": {
    "deletable": false,
    "editable": false,
    "nbgrader": {
     "cell_type": "markdown",
     "checksum": "e9f7d453797d3de7596df4857926e898",
     "grade": false,
     "grade_id": "cell-d27bb1e654725a66",
     "locked": true,
     "schema_version": 3,
     "solution": false,
     "task": false
    }
   },
   "source": [
    "###  Multiple isotherms on the same plot\n",
    "You might have noticed how similar the first and last Boyle isotherms look -- although if you examine the graphs carefully, you'll see that the vertical scales are quite different. To compare them, it's handy to put both graphs on the same plot, and to label them using the label/legend method."
   ]
  },
  {
   "cell_type": "code",
   "execution_count": null,
   "id": "aa7bb9c3",
   "metadata": {
    "deletable": false,
    "editable": false,
    "nbgrader": {
     "cell_type": "code",
     "checksum": "dff748595d0b71d49f38cd5b7487f809",
     "grade": false,
     "grade_id": "cell-9e030a92069c2df8",
     "locked": true,
     "schema_version": 3,
     "solution": false,
     "task": false
    }
   },
   "outputs": [],
   "source": [
    "xlabel = \"V \"+str(Visothermlast.units)\n",
    "ylabel = \"P \"+str(Pisothermlast.units)\n",
    "\n",
    "plt.figure()\n",
    "plt.plot(Visothermlast,Pisothermlast, 'red', label='last isotherm')\n",
    "plt.plot(Visotherm0,Pisotherm0, 'blue', label='first isotherm')\n",
    "plt.grid(True)\n",
    "plt.xlabel(xlabel)\n",
    "plt.ylabel(ylabel)\n",
    "plt.legend()"
   ]
  },
  {
   "cell_type": "markdown",
   "id": "e1be097d",
   "metadata": {},
   "source": [
    "### Multiple isochores on the same plot\n",
    "You've already extracted one isochore (Pisochore0 as a function of Tisochore0). Extract the last one too, then graph both on the same plot, and label them using the label/legend method. Color Pisochore0 green, and Pisochorelast pink."
   ]
  },
  {
   "cell_type": "code",
   "execution_count": null,
   "id": "ae86bee5",
   "metadata": {
    "deletable": false,
    "nbgrader": {
     "cell_type": "code",
     "checksum": "79a3e322ef88bb6fb34d44c2e73a3919",
     "grade": true,
     "grade_id": "cell-412244f63270738d",
     "locked": false,
     "points": 3,
     "schema_version": 3,
     "solution": true,
     "task": false
    }
   },
   "outputs": [],
   "source": [
    "# Your code here \n"
   ]
  },
  {
   "cell_type": "markdown",
   "id": "10554814",
   "metadata": {
    "deletable": false,
    "editable": false,
    "nbgrader": {
     "cell_type": "markdown",
     "checksum": "cb571383624471bd9253cf9c2d52565e",
     "grade": false,
     "grade_id": "cell-6360f4ccb9cc0cf3",
     "locked": true,
     "schema_version": 3,
     "solution": false,
     "task": false
    }
   },
   "source": [
    "### Your turn\n",
    "In the cell below, use the same techniques to calculate and plot the numerical equivalent to $\\big (\\dfrac {\\partial P}{\\partial V} \\big )_T$ as a function of the volume (shortened by one). Do this at two isotherms: the coldest and the warmest. Plot both on the same graph, and label using the label/legend method."
   ]
  },
  {
   "cell_type": "code",
   "execution_count": null,
   "id": "cd400fc4",
   "metadata": {
    "deletable": false,
    "nbgrader": {
     "cell_type": "code",
     "checksum": "7d97cf6e24278d42ba61d189425e837c",
     "grade": true,
     "grade_id": "cell-c2051a0c15df5702",
     "locked": false,
     "points": 5,
     "schema_version": 3,
     "solution": true,
     "task": false
    }
   },
   "outputs": [],
   "source": [
    "# Your code here \n"
   ]
  },
  {
   "cell_type": "markdown",
   "id": "977c1867",
   "metadata": {
    "deletable": false,
    "editable": false,
    "nbgrader": {
     "cell_type": "markdown",
     "checksum": "d448f7fd05f66c97fddfc01da7430895",
     "grade": false,
     "grade_id": "cell-5b4ce6411048fcec",
     "locked": true,
     "schema_version": 3,
     "solution": false,
     "task": false
    }
   },
   "source": [
    "### Refresh/save/validate\n",
    "Almost done! To double-check everything is OK, repeat the \"Three steps for refreshing and saving your code,\" and press the \"Validate\" button (as usual).\n",
    "\n",
    "### Close/submit/logout\n",
    "1. Close this notebook using the \"File/Close and Halt\" dropdown menu\n",
    "1. Using the Assignments tab, submit this notebook\n",
    "1. Press the Logout tab of the Home Page"
   ]
  }
 ],
 "metadata": {
  "kernelspec": {
   "display_name": "Python 3 (ipykernel)",
   "language": "python",
   "name": "python3"
  },
  "language_info": {
   "codemirror_mode": {
    "name": "ipython",
    "version": 3
   },
   "file_extension": ".py",
   "mimetype": "text/x-python",
   "name": "python",
   "nbconvert_exporter": "python",
   "pygments_lexer": "ipython3",
   "version": "3.10.2"
  }
 },
 "nbformat": 4,
 "nbformat_minor": 5
}

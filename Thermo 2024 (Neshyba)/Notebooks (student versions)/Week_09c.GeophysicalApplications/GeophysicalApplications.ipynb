{
 "cells": [
  {
   "cell_type": "markdown",
   "metadata": {
    "deletable": false,
    "editable": false,
    "nbgrader": {
     "cell_type": "markdown",
     "checksum": "160960b3aa3443ff2f7f4204e6e1bb93",
     "grade": false,
     "grade_id": "cell-2908a7b4c9dc0c6f",
     "locked": true,
     "schema_version": 3,
     "solution": false,
     "task": false
    }
   },
   "source": [
    "### Computational Guided Inquiry for PChem (Neshyba, 2024)\n",
    "\n",
    "# Geophysical applications\n",
    "\n",
    "## Learning Goals\n",
    "1. I can write definitions of the isobaric thermal expansivity and the isothermal compressibility.\n",
    "1. I can manipulate those quantities into approximate relative forms (like ${\\Delta V \\over V} \\approx \\alpha_P \\Delta T$).\n",
    "1. I can explain why ${\\Delta V \\over V} = {\\Delta \\rho \\over \\rho}$.\n",
    "1. I know how *molality* is defined, and can convert between it and solvent mole fraction. \n",
    "1. I can use dimensional analysis to arrive at algebraic expressions for unknown quantities."
   ]
  },
  {
   "cell_type": "code",
   "execution_count": null,
   "metadata": {
    "deletable": false,
    "editable": false,
    "nbgrader": {
     "cell_type": "code",
     "checksum": "0e128bbc98eb665865dbd289a420352b",
     "grade": false,
     "grade_id": "cell-3eac292adff92785",
     "locked": true,
     "schema_version": 3,
     "solution": false,
     "task": false
    }
   },
   "outputs": [],
   "source": [
    "import pint; from pint import UnitRegistry; AssignQuantity = UnitRegistry().Quantity\n",
    "import numpy as np"
   ]
  },
  {
   "cell_type": "markdown",
   "metadata": {
    "deletable": false,
    "editable": false,
    "nbgrader": {
     "cell_type": "markdown",
     "checksum": "e1c994294645573c7e7cafb849024017",
     "grade": false,
     "grade_id": "cell-a83d03eaa1f34371",
     "locked": true,
     "schema_version": 3,
     "solution": false,
     "task": false
    }
   },
   "source": [
    "### 1. Sea level rise\n",
    "Here we'll work with the approximate isobaric thermal expansivity formula,\n",
    "\n",
    "$$\n",
    "{\\Delta V \\over V} = {\\Delta h \\over h} \\approx \\alpha_P \\Delta T\n",
    "$$\n",
    "\n",
    "### Your tasks\n",
    "- It has been estimated that the top 1000 m of the world's oceans had increased in temperature by about $0.8 ^\\circ C$ by the year 2018. Use that information, in combination with $\\alpha = 0.00021 \\ K^{-1}$ (for water), to predict the sea level rise that we can attribute to global warming.\n",
    "\n",
    "- Given that the *observed* sea level rise as of 2018 was about $212 \\ mm$, what percentage of sea level rise must be due to some other factor (e.g., melting of land ice)?"
   ]
  },
  {
   "cell_type": "code",
   "execution_count": null,
   "metadata": {
    "deletable": false,
    "nbgrader": {
     "cell_type": "code",
     "checksum": "fec18477a46a59a15d2d9c7026b63491",
     "grade": true,
     "grade_id": "cell-765342df638f3ce3",
     "locked": false,
     "points": 3,
     "schema_version": 3,
     "solution": true,
     "task": false
    }
   },
   "outputs": [],
   "source": [
    "# Your code here \n"
   ]
  },
  {
   "cell_type": "markdown",
   "metadata": {
    "deletable": false,
    "editable": false,
    "nbgrader": {
     "cell_type": "markdown",
     "checksum": "4f0c4b5fe484980011d15a797c70452c",
     "grade": false,
     "grade_id": "cell-7458f00c724092f3",
     "locked": true,
     "schema_version": 3,
     "solution": false,
     "task": false
    }
   },
   "source": [
    "### 2. Density of deep ocean water\n",
    "Here we'll work with the approximate isothermal compressibility formula,\n",
    "\n",
    "$$\n",
    "{\\Delta V \\over V} = {\\Delta \\rho \\over \\rho} = -\\kappa_T \\Delta P\n",
    "$$\n",
    "\n",
    "were $V$ is the volume of a sample, and $\\rho$ is the density of a sample. \n",
    "\n",
    "### Your task\n",
    "Suppose you send a submarine to a deep part of the ocean, where the pressure is $1000 \\ bar$. How much denser is the water surrounding it at that depth, as a percentage of the density of water at the surface (where the pressure is $1 \\ bar$)? You can assume the same temperature at depth as at the surface for this calculation, and that $\\kappa_T = 5 \\times 10^{-5} \\ bar^{-1}$ for sea water."
   ]
  },
  {
   "cell_type": "code",
   "execution_count": null,
   "metadata": {
    "deletable": false,
    "nbgrader": {
     "cell_type": "code",
     "checksum": "2f10d18b8c5b5e8ca8341cc833204f7a",
     "grade": true,
     "grade_id": "cell-545a425c101c98ac",
     "locked": false,
     "points": 3,
     "schema_version": 3,
     "solution": true,
     "task": false
    }
   },
   "outputs": [],
   "source": [
    "# Your code here \n"
   ]
  },
  {
   "cell_type": "markdown",
   "metadata": {
    "deletable": false,
    "editable": false,
    "nbgrader": {
     "cell_type": "markdown",
     "checksum": "6252151abdf6a063e87d720b51cf7c5c",
     "grade": false,
     "grade_id": "cell-93b8ac62a8cc6037",
     "locked": true,
     "schema_version": 3,
     "solution": false,
     "task": false
    }
   },
   "source": [
    "### 3. $\\alpha_P$ for an ideal gas\n",
    "Given the definition \n",
    "\n",
    "$$\n",
    "\\alpha_P \\equiv {1 \\over V}\\bigl ({\\partial V \\over \\partial T} \\bigr )_P\n",
    "$$\n",
    "\n",
    "- Offline: Derive an algebraic expression for $\\alpha_P$, assuming an ideal gas.  \n",
    "- Below: use your result to get a numerical value for $\\alpha_P$ under typical Earthly conditions."
   ]
  },
  {
   "cell_type": "code",
   "execution_count": null,
   "metadata": {
    "deletable": false,
    "nbgrader": {
     "cell_type": "code",
     "checksum": "f74ba5c6e077f44f1cab873874796843",
     "grade": true,
     "grade_id": "cell-e1603e0985977788",
     "locked": false,
     "points": 3,
     "schema_version": 3,
     "solution": true,
     "task": false
    }
   },
   "outputs": [],
   "source": [
    "# Your code here \n"
   ]
  },
  {
   "cell_type": "markdown",
   "metadata": {
    "deletable": false,
    "editable": false,
    "nbgrader": {
     "cell_type": "markdown",
     "checksum": "daed1318b15ffacbb4945c69ba050b52",
     "grade": false,
     "grade_id": "cell-b1eb966fc4dfb30b",
     "locked": true,
     "schema_version": 3,
     "solution": false,
     "task": false
    }
   },
   "source": [
    "### 2. $\\kappa_T$ for an ideal gas\n",
    "- Offline: Derive an algebraic expression for $\\kappa_T$, assuming an ideal gas.  \n",
    "- Below: Use that result below to get a numerical value for $\\kappa_T$ under typical Earthly conditions."
   ]
  },
  {
   "cell_type": "code",
   "execution_count": null,
   "metadata": {
    "deletable": false,
    "nbgrader": {
     "cell_type": "code",
     "checksum": "e8bfd136f0cf5b65b6be24ac156b970b",
     "grade": true,
     "grade_id": "cell-1e541c9076bb7d54",
     "locked": false,
     "points": 3,
     "schema_version": 3,
     "solution": true,
     "task": false
    }
   },
   "outputs": [],
   "source": [
    "# Your code here \n"
   ]
  },
  {
   "cell_type": "markdown",
   "metadata": {
    "deletable": false,
    "editable": false,
    "nbgrader": {
     "cell_type": "markdown",
     "checksum": "afb22c294d50431f9afae578aa818bba",
     "grade": false,
     "grade_id": "cell-2a0b295c0ab7a945",
     "locked": true,
     "schema_version": 3,
     "solution": false,
     "task": false
    }
   },
   "source": [
    "### 4. Molality and mole fraction\n",
    "In addition to *molarity*, earth system chemists sometimes use *molality*, $b$, to describe solute concentration. It's defined by\n",
    "\n",
    "$$\n",
    "b_B = {n_B \\over m_A}\n",
    "$$\n",
    "\n",
    "The good news is, for dilute aqueous solutions, molarity and molality are numerically very close. Another quantity often used is the *mole fraction of the solvent*, given by \n",
    "\n",
    "$$\n",
    "\\chi_A = {n_A \\over {n_A+n_B}}\n",
    "$$\n",
    "\n",
    "You can convert from molality to mole fraction using\n",
    "\n",
    "$$\n",
    "\\chi_A = \\frac 1 {1+M_A b_B}\n",
    "$$\n",
    "\n",
    "- Offline: Derive the third equation from the preceding equations. Hint: insert the 1st into the 2nd. You’ll eventually need $n_A=m_A/M_A$.\n",
    "- Below: Calculate the mole fraction of water when 2 moles of solute are dissolved in 1 kg of water."
   ]
  },
  {
   "cell_type": "code",
   "execution_count": null,
   "metadata": {
    "deletable": false,
    "nbgrader": {
     "cell_type": "code",
     "checksum": "422c778785ad386f1807733d74ddb4e8",
     "grade": true,
     "grade_id": "cell-eda0d24d2e8014b2",
     "locked": false,
     "points": 3,
     "schema_version": 3,
     "solution": true,
     "task": false
    }
   },
   "outputs": [],
   "source": [
    "# Your code here \n"
   ]
  },
  {
   "cell_type": "markdown",
   "metadata": {
    "deletable": false,
    "editable": false,
    "nbgrader": {
     "cell_type": "markdown",
     "checksum": "b11016443b01dba2f340154e66630056",
     "grade": false,
     "grade_id": "cell-7f93ce491715cd0f",
     "locked": true,
     "schema_version": 3,
     "solution": false,
     "task": false
    }
   },
   "source": [
    "### 5. Deriving $K_A$ of Blagdon’s Law by dimensional analysis\n",
    "Let's assume that the cryoscopic constant in Blagdon's Law, $K_A$, is some function of the variables $M_{H_2O}$, the gas constant $R$, the enthalpy of fusion of the solvent $\\Delta H_{fus}$, and the triple-point temperature $T_3$.\n",
    "- Offline: Use dimensional analysis to find an algebraic expression for $K_A$ in terms of those variables. \n",
    "- Below: Use your result to calculate a value for $K_A$ of water; report your result in ${K \\ kg} \\over mol$."
   ]
  },
  {
   "cell_type": "code",
   "execution_count": null,
   "metadata": {
    "deletable": false,
    "nbgrader": {
     "cell_type": "code",
     "checksum": "ab5dcabad5776ed8f2e133470d71c5d8",
     "grade": true,
     "grade_id": "cell-d23e4441e8eeb790",
     "locked": false,
     "points": 3,
     "schema_version": 3,
     "solution": true,
     "task": false
    }
   },
   "outputs": [],
   "source": [
    "# Your code here \n"
   ]
  },
  {
   "cell_type": "markdown",
   "metadata": {
    "deletable": false,
    "editable": false,
    "nbgrader": {
     "cell_type": "markdown",
     "checksum": "d986b1a4b6628c19cb7dcc18c164723c",
     "grade": false,
     "grade_id": "cell-f83b368808f551ad",
     "locked": true,
     "schema_version": 3,
     "solution": false,
     "task": false
    }
   },
   "source": [
    "### 6. Comparison to the literature\n",
    "Look up a literature value of the cryoscopic constant of water (e.g., Table 6 of https://open.maricopa.edu/chemistryfundamentals/chapter/water-properties-2/), and say something below about how well your result from Problem #5 matches it."
   ]
  },
  {
   "cell_type": "markdown",
   "metadata": {
    "deletable": false,
    "nbgrader": {
     "cell_type": "markdown",
     "checksum": "3589987844b1a86f21090ff9ce728584",
     "grade": true,
     "grade_id": "cell-544ccb7949ae674e",
     "locked": false,
     "points": 1,
     "schema_version": 3,
     "solution": true,
     "task": false
    }
   },
   "source": [
    "YOUR ANSWER HERE"
   ]
  },
  {
   "cell_type": "markdown",
   "metadata": {
    "deletable": false,
    "editable": false,
    "nbgrader": {
     "cell_type": "markdown",
     "checksum": "7509a83d009b03280cfae180ebe34035",
     "grade": false,
     "grade_id": "cell-dcbf4ca031c28e97",
     "locked": true,
     "schema_version": 3,
     "solution": false,
     "task": false
    }
   },
   "source": [
    "### Refresh/save/validate/close/submit/logout"
   ]
  }
 ],
 "metadata": {
  "kernelspec": {
   "display_name": "Python 3 (ipykernel)",
   "language": "python",
   "name": "python3"
  },
  "language_info": {
   "codemirror_mode": {
    "name": "ipython",
    "version": 3
   },
   "file_extension": ".py",
   "mimetype": "text/x-python",
   "name": "python",
   "nbconvert_exporter": "python",
   "pygments_lexer": "ipython3",
   "version": "3.10.2"
  }
 },
 "nbformat": 4,
 "nbformat_minor": 2
}

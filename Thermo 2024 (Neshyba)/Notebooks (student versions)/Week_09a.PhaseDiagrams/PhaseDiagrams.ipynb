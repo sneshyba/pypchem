{
 "cells": [
  {
   "cell_type": "markdown",
   "metadata": {
    "deletable": false,
    "editable": false,
    "nbgrader": {
     "cell_type": "markdown",
     "checksum": "717731644c6d97cadd1e458027805bd7",
     "grade": false,
     "grade_id": "cell-54945120ab4f5224",
     "locked": true,
     "schema_version": 3,
     "solution": false,
     "task": false
    }
   },
   "source": [
    "### Computational Guided Inquiry for PChem (Neshyba, 2024)\n",
    "\n",
    "# Phase Diagrams\n",
    "\n",
    "## Introduction\n",
    "\n",
    "Here we're concerned with equilibria between different phases, especially as indicated in a temperature-pressure space known as a *phase diagram*. An example is shown in Fig. 1.\n",
    "\n",
    "<p style='text-align: center;'>\n",
    "<img src=\"http://webspace.pugetsound.edu/facultypages/nesh/Notebook/phase diagram.png\" height=\"300\" width=\"300\"/>  \n",
    "<strong>Figure 1</strong>. A generic phase diagram. \n",
    "</p>\n",
    "\n",
    "Lines in these diagrams -- called *phase boundaries* -- mark conditions at which two phases are in equilibrium. In general, phase boundaries are obtained from measurements. However, we can make approximations to them using two equations, one called the *Thomson Equation*, and another called the *Clausius-Clapeyron Equation*. We'll tackle those next.\n",
    "\n",
    "## The Thomson Equation\n",
    "The *Thomson equation* allows us to draw the phase boundary between two condensed phases of a substance. If the condensed phases are liquid and solid (the usual situation), we would write\n",
    " \n",
    "$$\n",
    "P = P_3 + {\\Delta H_{fus} \\over \\Delta V_{fus}} ln \\big ( {T \\over T_3} \\big ) \\ \\ \\ (1)\n",
    "$$\n",
    "\n",
    "Here, $T_3$ and $P_3$ refer to the *triple-point* of the substance -- the combination of temperature and pressure at which solid, liquid, and vapor can be simultaneously in equilibrium. We should emphasize that this is actually just a convenient reference point for Eq. (1): any point on the solid/liquid phase boundary would do! But it happens that the triple point is usually known to high accuracy, so it's convenient for us to use it here. \n",
    "\n",
    "To use the Thomson Equation, we also need to know $\\Delta H_{fus}$ and $\\Delta V_{fus}$, both of which are approximated as constants. We'll talk a bit more about that below.\n",
    "\n",
    "## The Clausius-Clapeyron Equation\n",
    "The *Clausius-Clapeyron equation* is relevant when one of the phases we're talking about is the substance's vapor phase, and the other is a condensed phase. If the condensed phase is a *liquid*, we would write\n",
    "\n",
    "$$\n",
    "P = P_3 \\times exp \\big (  -{\\Delta H_{vap} \\over nR} \\times ({1 \\over T} - {1 \\over T_3}) \\big ) \\ \\ \\ (2)\n",
    "$$\n",
    "\n",
    "If the condensed phase is a *solid*, we still use Eq. (2), but in place of $\\Delta H_{vap}$ we substitute $\\Delta H_{sub}$. \n",
    "\n",
    "## Drawing phase boundaries for water\n",
    "For the purposes of drawing a phase diagram, the Thomson and Clausius-Clapeyron equations as laid out above are pretty good, but there are some practical points we should emphasize. \n",
    "\n",
    "- For *liquid/vapor* equilibria, the relevant range of temperatures is between the triple point up to the critical temperature. The lower limit is the triple-point temperature; below that temperature, one would be dealing with *supercooling*, which is a non-equilibrium phenomenon. The upper limit is the critical temperature, above which the substance becaomes *supercritical*. To generate realistic-looking liquid/vapor curves, we have to look up these  temperatures.\n",
    "- For *solid/vapor* equilibria, the *upper* limit of temperatures is the triple point temperature; above that temperature we'd dealing with *superheating*, another non-equilibrium phenomenon. The lower temperature limit is usually taken to be 5-10 degrees below the triple point temperature, but this is more or less arbitrary.\n",
    "- For *solid/liquid equilibria*, most substances have a *forward-sloping* curve, which means the relevant range of temperatures lies *above* the triple point temperature. However, water is different: in that case, the relevant range of temperatures lies *below* the triple-point temperature.\n",
    "- Sometimes, people like to look at the temperature scale of a phase diagram in a log space. We can do that in Python pretty easily, by substituting \"plt.semilogy\" for \"plt.plot\".\n",
    "\n",
    "## Learning goals\n",
    "1. I can use the Thomson and Clausius-Clapeyron equations to draw realistic-looking phase diagrams.\n",
    "1. I can explain how the triple point temperature figures into these formulas.\n",
    "1. I have a sense of the physical constraints governing the temperature ranges in such curves. \n",
    "1. I can generate semi-log plots in Python.\n",
    "1. I can create functions in Python."
   ]
  },
  {
   "cell_type": "code",
   "execution_count": null,
   "metadata": {
    "deletable": false,
    "editable": false,
    "nbgrader": {
     "cell_type": "code",
     "checksum": "99fdb6a3a0d83ce1852ed06906ce0419",
     "grade": false,
     "grade_id": "cell-3b9b61d2eaee70dc",
     "locked": true,
     "schema_version": 3,
     "solution": false,
     "task": false
    }
   },
   "outputs": [],
   "source": [
    "# Import resources \n",
    "import pint; from pint import UnitRegistry; AssignQuantity = UnitRegistry().Quantity\n",
    "import warnings; warnings.filterwarnings(\"ignore\", \"The unit of the quantity is stripped when downcasting to ndarray\")\n",
    "import numpy as np\n",
    "import matplotlib.pyplot as plt\n",
    "import sys; sys.path.append('/home'); import PchemLibrary as PL"
   ]
  },
  {
   "cell_type": "code",
   "execution_count": null,
   "metadata": {
    "deletable": false,
    "editable": false,
    "nbgrader": {
     "cell_type": "code",
     "checksum": "b1903318c064d240ffc3e47a1b89ffd5",
     "grade": false,
     "grade_id": "cell-b068d8679f28c349",
     "locked": true,
     "schema_version": 3,
     "solution": false,
     "task": false
    }
   },
   "outputs": [],
   "source": [
    "%matplotlib notebook"
   ]
  },
  {
   "cell_type": "code",
   "execution_count": null,
   "metadata": {
    "deletable": false,
    "editable": false,
    "nbgrader": {
     "cell_type": "code",
     "checksum": "171260040c2e23be7d55a9ac3b3886cb",
     "grade": false,
     "grade_id": "cell-98c0cbf3a766d642",
     "locked": true,
     "schema_version": 3,
     "solution": false,
     "task": false
    }
   },
   "outputs": [],
   "source": [
    "# Gas constant in SI units\n",
    "R = AssignQuantity(8.314,'J/mol/K'); print(R)\n",
    "\n",
    "# Triple point of water\n",
    "T3 = AssignQuantity(273.16,'K'); print(T3)\n",
    "P3 = AssignQuantity(612,'Pa'); print(P3)\n",
    "\n",
    "# Molar mass of water\n",
    "M = AssignQuantity(18,'g/mol')"
   ]
  },
  {
   "cell_type": "markdown",
   "metadata": {
    "deletable": false,
    "editable": false,
    "nbgrader": {
     "cell_type": "markdown",
     "checksum": "686a2e7ad8774e7b205f97ecf1b84ec4",
     "grade": false,
     "grade_id": "cell-4df1a7046ab357dd",
     "locked": true,
     "schema_version": 3,
     "solution": false,
     "task": false
    }
   },
   "source": [
    "### Defining the Thomson Equation\n",
    "The cell below defines a function that, when given a temperature range, the triple point, and the changes in enthalpy and volume that result from melting a substance, produces arrays of temperature and pressure along a liquid/solid phase boundary."
   ]
  },
  {
   "cell_type": "code",
   "execution_count": null,
   "metadata": {
    "deletable": false,
    "editable": false,
    "nbgrader": {
     "cell_type": "code",
     "checksum": "526b93bc7c9691ab511b76ed7f30aa62",
     "grade": false,
     "grade_id": "cell-6e197fec35d86381",
     "locked": true,
     "schema_version": 3,
     "solution": false,
     "task": false
    }
   },
   "outputs": [],
   "source": [
    "def Thomson(T,T3,P3,DH,DV):\n",
    "    T_array = np.linspace(T3,T)\n",
    "    DH_over_DV = DH/DV\n",
    "    DH_over_DV.ito('pascal')\n",
    "    P_array = P3 + DH_over_DV*np.log(T_array/T3)\n",
    "    return T_array, P_array"
   ]
  },
  {
   "cell_type": "markdown",
   "metadata": {
    "deletable": false,
    "editable": false,
    "nbgrader": {
     "cell_type": "markdown",
     "checksum": "29d78e2a7773bb5ef83a3501166b48b1",
     "grade": false,
     "grade_id": "cell-c43ba9e288155480",
     "locked": true,
     "schema_version": 3,
     "solution": false,
     "task": false
    }
   },
   "source": [
    "### Using the Thomson Equation\n",
    "Below, the goal is to use the Thomson Equation to draw the phase boundary between liquid water and ice. There are a few places you'll need to fill in to complete it. The value of $\\Delta H_{fus}$ is supplied for you (and assumed to be a constant). As for $\\Delta V_{fus}$, for the present purposes all we need to know is that a mole of ice takes up about 10% more volume than a mole of liquid water."
   ]
  },
  {
   "cell_type": "code",
   "execution_count": null,
   "metadata": {
    "deletable": false,
    "nbgrader": {
     "cell_type": "code",
     "checksum": "b46faef0d3951e636c61aba0f8d35c12",
     "grade": true,
     "grade_id": "cell-961b409e2273d7a6",
     "locked": false,
     "points": 4,
     "schema_version": 3,
     "solution": true,
     "task": false
    }
   },
   "outputs": [],
   "source": [
    "# Specify the temperature we want to integrate to, in units K\n",
    "T = AssignQuantity(268,'K')\n",
    "\n",
    "# Specify the enthalpy of fusion (assume the standard value at 298 K, 6 kJ/mol)\n",
    "DHfus = AssignQuantity(6,'kJ/mol')\n",
    "\n",
    "# Specify the volume of liquid water, 1 cm^3/g\n",
    "V_liq_pergram = AssignQuantity(1,'cm^3/g') # 1 gram water has a volume of 1 cm^3\n",
    "\n",
    "# Convert V_liq_pergram to cm^3/mol by multiplying by the molar mass of water; call the result V_liq\n",
    "# Your code here \n",
    "\n",
    "\n",
    "# Estimate the volume of ice as 10% more than that of liquid\n",
    "V_sol = V_liq*1.1; print('Molar volume of solid in SI units:', V_sol)\n",
    "\n",
    "# Get the change in volume liq-sol; call the result DVfus\n",
    "# Your code here \n",
    "\n",
    "\n",
    "# Call Thomson\n",
    "# Your code here \n",
    "\n",
    "\n",
    "# Plot the resulting phase boundary (pressure on the y-axis, temperature on the x-axis)\n",
    "# Your code here \n"
   ]
  },
  {
   "cell_type": "markdown",
   "metadata": {
    "deletable": false,
    "editable": false,
    "nbgrader": {
     "cell_type": "markdown",
     "checksum": "7453b936b9057124bca5c4c2055673ab",
     "grade": false,
     "grade_id": "cell-2cfe67c7e5a2b020",
     "locked": true,
     "schema_version": 3,
     "solution": false,
     "task": false
    }
   },
   "source": [
    "### Defining the Clausius-Clapeyron function\n",
    "In the cell below, your task is to compute arrays of temperatures and pressures along a liquid-vapor or solid-vapor phase boundary using Eq. 2. Some notes:\n",
    "\n",
    "- The returned array of temperatures should range from T3 to T; you should use np.linspace for this purpose.\n",
    "- Because it's the *ratio* of $\\Delta H$ to $R$ that matters here, that's what we're passing into the function."
   ]
  },
  {
   "cell_type": "code",
   "execution_count": null,
   "metadata": {
    "deletable": false,
    "nbgrader": {
     "cell_type": "code",
     "checksum": "481567f832dea3827168778dc4920833",
     "grade": true,
     "grade_id": "cell-0a1cad203df65bf0",
     "locked": false,
     "points": 5,
     "schema_version": 3,
     "solution": true,
     "task": false
    }
   },
   "outputs": [],
   "source": [
    "def Clausius_Clapeyron(T,T3,P3,DH_over_R):\n",
    "    \n",
    "# Your code here \n",
    "\n",
    "\n",
    "    return T_array, P_array"
   ]
  },
  {
   "cell_type": "markdown",
   "metadata": {
    "deletable": false,
    "editable": false,
    "nbgrader": {
     "cell_type": "markdown",
     "checksum": "2c43303aea6bbf36b7e88e2b41001ebb",
     "grade": false,
     "grade_id": "cell-494915560aeca186",
     "locked": true,
     "schema_version": 3,
     "solution": false,
     "task": false
    }
   },
   "source": [
    "### Using the Clausius-Clapeyron Equation, Part 1\n",
    "Below, we use the Clausius-Clapeyron Equation for the liquid-vapor phase boundary."
   ]
  },
  {
   "cell_type": "code",
   "execution_count": null,
   "metadata": {
    "deletable": false,
    "editable": false,
    "nbgrader": {
     "cell_type": "code",
     "checksum": "b6748980969c920928c54a5ee3790298",
     "grade": false,
     "grade_id": "cell-54e33bc937461fe8",
     "locked": true,
     "schema_version": 3,
     "solution": false,
     "task": false
    }
   },
   "outputs": [],
   "source": [
    "# Specify the temperature we want to integrate to\n",
    "T = AssignQuantity(278,'K')\n",
    "\n",
    "# Get the enthalpy of vaporization (liq->vapor) (we'll just assume the standard value at 298 K)\n",
    "DHvap = AssignQuantity(44,'kJ/mol')\n",
    "\n",
    "# Call Clausius_Clapeyron\n",
    "T_lv, P_lv = Clausius_Clapeyron(T,T3,P3,DHvap/R)\n",
    "\n",
    "# Plot the liquid->vapor phase boundary along with the solid->liquid one\n",
    "plt.figure()\n",
    "plt.plot(T_sl,P_sl,color='blue',label='solid-liquid')\n",
    "plt.plot(T_lv,P_lv,color='green',label='liq-vapor')\n",
    "plt.grid(True)\n",
    "plt.xlabel('T ('+str(T_lv.units)+')')\n",
    "plt.ylabel('P ('+str(P_lv.units)+')')\n",
    "plt.legend()"
   ]
  },
  {
   "cell_type": "markdown",
   "metadata": {
    "deletable": false,
    "editable": false,
    "nbgrader": {
     "cell_type": "markdown",
     "checksum": "b6e927d8528bcaf10827debf98e9d5a4",
     "grade": false,
     "grade_id": "cell-8e9199ccbac4aa2b",
     "locked": true,
     "schema_version": 3,
     "solution": false,
     "task": false
    }
   },
   "source": [
    "### Using the Clausius-Clapeyron Equation, Part 2\n",
    "Below, your task is to use the Clausius-Clapeyron Equation for the solid-vapor phase boundary, from the triple-point temperature down to, say, five degrees lower than that (i.e., ~268 K). Add to that the solid-liquid and liquid-vapor phase boundaries you calculated previously."
   ]
  },
  {
   "cell_type": "code",
   "execution_count": null,
   "metadata": {
    "deletable": false,
    "nbgrader": {
     "cell_type": "code",
     "checksum": "09cf7682050b3db5ffbd8d4e702e1291",
     "grade": true,
     "grade_id": "cell-d9219c8e96d1b1be",
     "locked": false,
     "points": 4,
     "schema_version": 3,
     "solution": true,
     "task": false
    }
   },
   "outputs": [],
   "source": [
    "# Your code here \n",
    "\n",
    "\n",
    "# This rescales the vertical axis so we can see more of the liquid->vapor and solid->vapor curves\n",
    "# plt.ylim(200,2000)"
   ]
  },
  {
   "cell_type": "markdown",
   "metadata": {
    "deletable": false,
    "editable": false,
    "nbgrader": {
     "cell_type": "markdown",
     "checksum": "12dc9bbef433a7f077ca2f57ec62d234",
     "grade": false,
     "grade_id": "cell-fc46c2993fe1dca6",
     "locked": true,
     "schema_version": 3,
     "solution": false,
     "task": false
    }
   },
   "source": [
    "### Re-plotting on a semilog (in pressure) scale\n",
    "Copy the plotting commands in your previous cell, but replace every instance of \"plt.plot\" with \"plt.semilogy\"."
   ]
  },
  {
   "cell_type": "code",
   "execution_count": null,
   "metadata": {
    "deletable": false,
    "nbgrader": {
     "cell_type": "code",
     "checksum": "85fd1259e6b5e7779950ed45d68076ab",
     "grade": true,
     "grade_id": "cell-c0fc04b3fa01adbd",
     "locked": false,
     "points": 4,
     "schema_version": 3,
     "solution": true,
     "task": false
    }
   },
   "outputs": [],
   "source": [
    "# Your code here \n",
    "\n",
    "\n",
    "# This rescales the vertical axis so we can see more of the liquid->vapor and solid->vapor curves\n",
    "plt.ylim(300,2000)"
   ]
  },
  {
   "cell_type": "markdown",
   "metadata": {
    "deletable": false,
    "editable": false,
    "nbgrader": {
     "cell_type": "markdown",
     "checksum": "517ce03425c7d6c0df524e3a8b0764b0",
     "grade": false,
     "grade_id": "cell-55cd02007e5c61fc",
     "locked": true,
     "schema_version": 3,
     "solution": false,
     "task": false
    }
   },
   "source": [
    "### Refresh/save/validate/close/submit/logout"
   ]
  }
 ],
 "metadata": {
  "kernelspec": {
   "display_name": "Python 3 (ipykernel)",
   "language": "python",
   "name": "python3"
  },
  "language_info": {
   "codemirror_mode": {
    "name": "ipython",
    "version": 3
   },
   "file_extension": ".py",
   "mimetype": "text/x-python",
   "name": "python",
   "nbconvert_exporter": "python",
   "pygments_lexer": "ipython3",
   "version": "3.10.2"
  }
 },
 "nbformat": 4,
 "nbformat_minor": 2
}

{
 "cells": [
  {
   "cell_type": "markdown",
   "id": "0b861ae1",
   "metadata": {
    "deletable": false,
    "editable": false,
    "nbgrader": {
     "cell_type": "markdown",
     "checksum": "4155d9e8838629c8fd89d7548acf06ef",
     "grade": false,
     "grade_id": "cell-671e4aebf942dfb8",
     "locked": true,
     "schema_version": 3,
     "solution": false,
     "task": false
    }
   },
   "source": [
    "### Computational Guided Inquiry for PChem (Neshyba, 2024)\n",
    "\n",
    "# Intermolecular Bond Strengths\n",
    "\n",
    "## Introduction\n",
    "Here we'll be working with an elecronic structure code (Spartan) to find the energy holding together two molecules. Taking $CO_2$ as an example, we'd say the formation of the dimer looks something like that shown in Fig 1. \n",
    "\n",
    "<p style='text-align: center;'>\n",
    "<img src=\"http://webspace.pugetsound.edu/facultypages/nesh/Notebook/CO2 dimer.png\" height=\"700\" width=\"700\"/>  \n",
    "<p style='text-align: center;'>\n",
    "<strong>Figure 1</strong>. Two $CO_2$ molecules held together by intermolecular forces.\n",
    "</p>\n",
    "\n",
    "\n",
    "Written as a chemical equation, we'd say something like \n",
    "\n",
    "$$\n",
    "2 CO_2 → (CO_2)_2\n",
    "$$\n",
    "\n",
    "In this case, the intermolecular bond strength would be given by\n",
    "\n",
    "$$\n",
    "E_{bond} = 2 E_{CO_2} - E_{(CO_2)_2}\n",
    "$$\n",
    "\n",
    "Similarly, for Argon\n",
    "\n",
    "$$\n",
    "2 Ar → (Ar)_2\n",
    "$$\n",
    "\n",
    "in which case we'd say that the bond strength is given by\n",
    "\n",
    "$$\n",
    "E_{bond} = 2 E_{Ar} - E_{Ar_2}\n",
    "$$\n",
    "\n",
    "Electronic structure codes often give their energies in Hartrees. To convert those numbers into the more conventional chemical unit of kilojoule/mol, we'll convert to kilojoules using pint, then multiply by Avogadro's number. That's done for you in the first example below.\n",
    "\n",
    "## Learning Goals\n",
    "\n",
    "1. I can infer intermolecular potential energies (bond strengths) from electronic structure calculations.\n",
    "1. I can convert energies from hartrees to kjoule/mole."
   ]
  },
  {
   "cell_type": "code",
   "execution_count": null,
   "id": "190d8fee",
   "metadata": {
    "deletable": false,
    "editable": false,
    "nbgrader": {
     "cell_type": "code",
     "checksum": "e595dd7c105d88a70a8251fc59877b0f",
     "grade": false,
     "grade_id": "cell-f152dd3c57762acd",
     "locked": true,
     "schema_version": 3,
     "solution": false,
     "task": false
    }
   },
   "outputs": [],
   "source": [
    "import numpy as np\n",
    "from pint import UnitRegistry; AssignQuantity = UnitRegistry().Quantity"
   ]
  },
  {
   "cell_type": "code",
   "execution_count": null,
   "id": "963ab6a2",
   "metadata": {
    "deletable": false,
    "editable": false,
    "nbgrader": {
     "cell_type": "code",
     "checksum": "795ba5927c02b4cc0637095c04356165",
     "grade": false,
     "grade_id": "cell-6f268ac44468be2d",
     "locked": true,
     "schema_version": 3,
     "solution": false,
     "task": false
    }
   },
   "outputs": [],
   "source": [
    "# Avogadro's number\n",
    "NA = AssignQuantity(6.02e23,'1/mol')"
   ]
  },
  {
   "cell_type": "markdown",
   "id": "87019716",
   "metadata": {
    "deletable": false,
    "editable": false,
    "nbgrader": {
     "cell_type": "markdown",
     "checksum": "94bebddcf72917276584d00ddc8a293f",
     "grade": false,
     "grade_id": "cell-8c669073acfd078b",
     "locked": true,
     "schema_version": 3,
     "solution": false,
     "task": false
    }
   },
   "source": [
    "### Calculating the bond strength for $CO_2$\n",
    "The cell below shows how to do this, but you should enter your own values for the energies of one $CO_2$ molecule and of $(CO_2)_2$. \n",
    "\n",
    "-To find the energy of one $CO_2$ molecule in Spartan$^{TM}$, build it, then solve using the *Calculations* tool. The energy can be found using the *Output* tool.  \n",
    "-To find the energy of $(CO_2)_2$, first construct a single $CO_2$ molecule, then duplicate it, then use the *Measure Distance* tool to separate the two carbon atoms by a distance of about $5  \\mathring{A}$. Then use *Calculations* tool again to solve for the energy of the dimer."
   ]
  },
  {
   "cell_type": "code",
   "execution_count": null,
   "id": "f49fbca3",
   "metadata": {},
   "outputs": [],
   "source": [
    "# Energy of one molecule (substitute your own value here that you get from Spartan)\n",
    "E_1 = AssignQuantity(-188.52001,'hartrees')\n",
    "\n",
    "# Energy of the dimer (substitute your own value here that you get from Spartan)\n",
    "E_dimer = AssignQuantity(-377.04257,'hartrees')\n",
    "\n",
    "# Calculating the energy of the intermolecular bond\n",
    "E_bond = 2*E_1-E_dimer\n",
    "print(E_bond)\n",
    "\n",
    "# This converts that energy into kJ/mol\n",
    "E_bond.ito('kilojoule')\n",
    "print(E_bond)\n",
    "E_bond *= NA\n",
    "print(E_bond)"
   ]
  },
  {
   "cell_type": "markdown",
   "id": "fa4b3fba",
   "metadata": {
    "deletable": false,
    "editable": false,
    "nbgrader": {
     "cell_type": "markdown",
     "checksum": "ca32a6b8a7a5e8e04574f26c469c4e15",
     "grade": false,
     "grade_id": "cell-2eb94fbf3094eb88",
     "locked": true,
     "schema_version": 3,
     "solution": false,
     "task": false
    }
   },
   "source": [
    "### Calculating the bond strength for $Ar_2$\n",
    "In the cell below, do something similar, but for two Argon atoms."
   ]
  },
  {
   "cell_type": "code",
   "execution_count": null,
   "id": "e44672eb",
   "metadata": {
    "deletable": false,
    "nbgrader": {
     "cell_type": "code",
     "checksum": "8f6d2edf1544688dddf2bedea0365cdb",
     "grade": true,
     "grade_id": "cell-19d0f2c0b26cf6b5",
     "locked": false,
     "points": 3,
     "schema_version": 3,
     "solution": true,
     "task": false
    }
   },
   "outputs": [],
   "source": [
    "# Your code here \n"
   ]
  },
  {
   "cell_type": "markdown",
   "id": "53db3264",
   "metadata": {
    "deletable": false,
    "editable": false,
    "nbgrader": {
     "cell_type": "markdown",
     "checksum": "518de94349c94b8da6022c484061d27b",
     "grade": false,
     "grade_id": "cell-905dfccca6f6bf4a",
     "locked": true,
     "schema_version": 3,
     "solution": false,
     "task": false
    }
   },
   "source": [
    "### Refresh/save/validate\n",
    "Almost done! To double-check everything is OK, repeat the \"Three steps for refreshing and saving your code,\" and press the \"Validate\" button (as usual).\n",
    "\n",
    "### Close/submit/logout\n",
    "1. Close this notebook using the \"File/Close and Halt\" dropdown menu\n",
    "1. Using the Assignments tab, submit this notebook\n",
    "1. Press the Logout tab of the Home Page"
   ]
  }
 ],
 "metadata": {
  "kernelspec": {
   "display_name": "Python 3 (ipykernel)",
   "language": "python",
   "name": "python3"
  },
  "language_info": {
   "codemirror_mode": {
    "name": "ipython",
    "version": 3
   },
   "file_extension": ".py",
   "mimetype": "text/x-python",
   "name": "python",
   "nbconvert_exporter": "python",
   "pygments_lexer": "ipython3",
   "version": "3.10.2"
  }
 },
 "nbformat": 4,
 "nbformat_minor": 5
}

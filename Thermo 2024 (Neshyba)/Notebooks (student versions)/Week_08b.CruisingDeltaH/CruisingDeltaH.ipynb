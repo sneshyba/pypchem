{
 "cells": [
  {
   "cell_type": "markdown",
   "metadata": {
    "deletable": false,
    "editable": false,
    "nbgrader": {
     "cell_type": "markdown",
     "checksum": "01eea58101dbfb70a13385b8687811e9",
     "grade": false,
     "grade_id": "cell-5a9e88eb17b5c8bd",
     "locked": true,
     "schema_version": 3,
     "solution": false,
     "task": false
    }
   },
   "source": [
    "### Computational Guided Inquiry for PChem (Neshyba, 2024)\n",
    "\n",
    "# Cruising $\\Delta H_{rxn}$\n",
    "\n",
    "## Introduction\n",
    "Because thermodynamic surfaces generally vary across state space, it follows that the *difference* between two such surfaces will also vary across state space. In this CGI, we'll be examining the enthalpy changes associated with phase changes in a $T,P$ state space, so that you can develop some familiarity with the quantitative application of these ideas. A key additional take-home message is that this kind of analysis applies broadly to other thermodynamic surfaces in other state spaces.\n",
    "\n",
    "## The reference state\n",
    "We start with the assumption that we know the difference between two thermodynamic surfaces at some reference point in state space -- say $T_o$ and $P_o$. In the case of enthalpy in a temperature/pressure state space, for example, we'd symbolize this difference as something like $\\Delta H_{rxn}^o$, which is shorthand for the more careful designation\n",
    "\n",
    "$$\n",
    "\\Delta H_{rxn}^o \\equiv \\Delta H_{rxn}(T_o,P_o) \\ \\ \\ (1)\n",
    "$$\n",
    "\n",
    "At temperatures or pressures other than $T_o$ and $P_o$, we would write\n",
    "\n",
    "$$\n",
    "\\Delta H_{rxn} = \\Delta H_{rxn}^o + \\Delta(\\Delta H_{rxn}) \\ \\ \\ (2)\n",
    "$$\n",
    "\n",
    "Evaluating $\\Delta(\\Delta H_{rxn})$ depends on where in state space we're interested in going, of course. In a temperature/pressure state space, that means isobaric changes in temperature, or isothermal changes in pressure. We'll tackle those next. \n",
    "\n",
    "## Isobaric changes in temperature\n",
    "For isobaric changes in temperature, we could say \n",
    "\n",
    "$$\n",
    "\\Delta(\\Delta H_{rxn}) = \\int_{T^o}^{T'} \\Delta C_P dT \\ \\ \\ (3)\n",
    "$$\n",
    "\n",
    "where $\\Delta C_P$ is the difference in heat capacities of the two states we're considering. To carry out this integration, we'd need to know how $\\Delta C_P$ depends on temperature. Under some circumstances, however, we might be able to get away with pretending the heat capacities are constant, in which case we'd make the approximation\n",
    "\n",
    "$$\n",
    "\\Delta(\\Delta H_{rxn}) \\approx \\Delta C_P^o \\Delta T \\ \\ \\ (4)\n",
    "$$\n",
    "\n",
    "## Isothermal changes in pressure\n",
    "For isothermal changes in pressure, we would say \n",
    "\n",
    "$$\n",
    "\\Delta(\\Delta H_{rxn}) = \\int_{P^o}^{P'} \\Delta \\mu_T dP \\ \\ \\ (5)\n",
    "$$\n",
    "\n",
    "To evaluate the above, we'd need expressions for the isothermal Joule-Thomson coefficient. According to vdw, gases behave according to\n",
    "\n",
    "$$\n",
    "\\mu_T(gas) \\approx b-{2a \\over RT} \\ \\ \\ (6) \n",
    "$$\n",
    "\n",
    "while for liquids, we can say \n",
    "\n",
    "$$\n",
    "\\mu_T \\approx b/3 \\ \\ \\ (7)\n",
    "$$  \n",
    "\n",
    "## Learning goals\n",
    "1. Qualitatively, I can predict whether the enthalpy of a given phase change (vaporization, fusion, or sublimation) is likely to increase or decrease with changing temperature or pressure.\n",
    "1. I can make those predictions quantiative too."
   ]
  },
  {
   "cell_type": "code",
   "execution_count": null,
   "metadata": {},
   "outputs": [],
   "source": [
    "import numpy as np\n",
    "import sympy as sp\n",
    "import pint; from pint import UnitRegistry; AssignQuantity = UnitRegistry().Quantity"
   ]
  },
  {
   "cell_type": "markdown",
   "metadata": {
    "deletable": false,
    "editable": false,
    "nbgrader": {
     "cell_type": "markdown",
     "checksum": "8ea47c7f4149e82e9219fbd78b7a2b5f",
     "grade": false,
     "grade_id": "cell-f61a0b0ede3114f4",
     "locked": true,
     "schema_version": 3,
     "solution": false,
     "task": false
    }
   },
   "source": [
    "### Part 1. Enthalpy of fusion of sea water in equilibrium with ice\n",
    "For water at a temperature of $273 K$, $\\Delta H_{fus} = H_{liq}-H_{ice}= 6.0 {kJ \\over mol}$. But ice in equilibrium with sea water is expected to have a temperature of -2 C, or 271 K. Your goal in the cell below is to calculate $\\Delta H_{fus}$ of water at 271 K, assuming constant heat capacities for both phases. Give your result in ${kJ \\over mol}$.\n",
    "\n",
    "*Hints*: \n",
    "- Assuming constant heat capacities means Eq. 4 is appropriate. \n",
    "- It'll be easiest if you assign $\\Delta T=-2 \\ K$ (i.e., sea water in equilibrium with ice is two degrees colder than fresh water in equilibrium with ice).\n",
    "\n",
    "*Managing expectations*: Because liquid water has a greater heat capacity than ice water, we'd expect the enthalpy difference between these two phases to get smaller as temperature goes down. This observation will help you verify that your numerical result is correct."
   ]
  },
  {
   "cell_type": "code",
   "execution_count": null,
   "metadata": {
    "deletable": false,
    "nbgrader": {
     "cell_type": "code",
     "checksum": "27ba69bcc1dd21a1eb3e2186dfb4447e",
     "grade": true,
     "grade_id": "cell-22ba12c1615420b2",
     "locked": false,
     "points": 4,
     "schema_version": 3,
     "solution": true,
     "task": false
    }
   },
   "outputs": [],
   "source": [
    "# Assuming constant heat capacities\n",
    "CP_liq = AssignQuantity(75.4,'J/mol/K')\n",
    "CP_ice = AssignQuantity(38,'J/mol/K')\n",
    "\n",
    "# Your code here \n"
   ]
  },
  {
   "cell_type": "markdown",
   "metadata": {
    "deletable": false,
    "editable": false,
    "nbgrader": {
     "cell_type": "markdown",
     "checksum": "5292d75bec9572640f48125377cd3f8d",
     "grade": false,
     "grade_id": "cell-f2bfb89cacbeb0bd",
     "locked": true,
     "schema_version": 3,
     "solution": false,
     "task": false
    }
   },
   "source": [
    "### Pause for analysis\n",
    "Well ... is your $\\Delta H_{fus}$ at 271 K smaller than at 273 K?"
   ]
  },
  {
   "cell_type": "markdown",
   "metadata": {
    "deletable": false,
    "nbgrader": {
     "cell_type": "markdown",
     "checksum": "3c1878929929dae1837e9e4cca1aa9a4",
     "grade": true,
     "grade_id": "cell-5c8a73f6c40c470c",
     "locked": false,
     "points": 1,
     "schema_version": 3,
     "solution": true,
     "task": false
    }
   },
   "source": [
    "YOUR ANSWER HERE"
   ]
  },
  {
   "cell_type": "markdown",
   "metadata": {
    "deletable": false,
    "editable": false,
    "nbgrader": {
     "cell_type": "markdown",
     "checksum": "ae772f71a0002b553b2a7cc174bc9f22",
     "grade": false,
     "grade_id": "cell-dad0d05eea50f849",
     "locked": true,
     "schema_version": 3,
     "solution": false,
     "task": false
    }
   },
   "source": [
    "### Part 2. Enthalpy of sublimation of water at 218 K\n",
    "Although at one time Mars had liquid water at the surface, its surface temperature today ($\\approx 218 \\ K$) is far below the triple point temperature of water, and therefore can't support liquid water. But there *are* what appear to be ice caps in the polar regions of Mars, which grow and retreat with the Martian seasons. Your goal in the cell below is to calculate the enthalpy of sublimation of water at $218 \\ K$, given that at $273 \\ K$, \n",
    "\n",
    "$$\n",
    "\\Delta H_{sub} = H_{vap}-H_{ice}= 51.1 {kJ \\over mol}\n",
    "$$\n",
    "\n",
    "assuming constant heat capacities for both phases. \n",
    "\n",
    "*Hints*: Assuming constant heat capacities means Eq. 4 is appropriate, but you'll need to look up the heat capacity of water vapor. A good source is https://en.wikipedia.org/wiki/Water_(data_page). \n",
    "\n",
    "*Managing expectations*: Given that (as you'll see) ice water has a slightly greater heat capacity than water vapor, make a prediction as to whether the enthalpy of sublimation should get smaller or bigger as temperature goes down."
   ]
  },
  {
   "cell_type": "code",
   "execution_count": null,
   "metadata": {
    "deletable": false,
    "nbgrader": {
     "cell_type": "code",
     "checksum": "757bd600e926e5f644099b57a5c401e5",
     "grade": true,
     "grade_id": "cell-4395eacfe6ef7ec3",
     "locked": false,
     "points": 4,
     "schema_version": 3,
     "solution": true,
     "task": false
    }
   },
   "outputs": [],
   "source": [
    "# Your code here \n"
   ]
  },
  {
   "cell_type": "markdown",
   "metadata": {
    "deletable": false,
    "editable": false,
    "nbgrader": {
     "cell_type": "markdown",
     "checksum": "554f78b9e4b7f81fbd5edcc1ff8bcaa3",
     "grade": false,
     "grade_id": "cell-210d3d4e2eaa0c44",
     "locked": true,
     "schema_version": 3,
     "solution": false,
     "task": false
    }
   },
   "source": [
    "### Pause for analysis\n",
    "Well ... did your prediction work out?"
   ]
  },
  {
   "cell_type": "markdown",
   "metadata": {
    "deletable": false,
    "nbgrader": {
     "cell_type": "markdown",
     "checksum": "3f52d309f82281597228810f609da75d",
     "grade": true,
     "grade_id": "cell-64405913f241698f",
     "locked": false,
     "points": 1,
     "schema_version": 3,
     "solution": true,
     "task": false
    }
   },
   "source": [
    "YOUR ANSWER HERE"
   ]
  },
  {
   "cell_type": "markdown",
   "metadata": {
    "deletable": false,
    "editable": false,
    "nbgrader": {
     "cell_type": "markdown",
     "checksum": "0c8c1630e93d3dabfd5724e52f91e84e",
     "grade": false,
     "grade_id": "cell-4b55cced4a52c87c",
     "locked": true,
     "schema_version": 3,
     "solution": false,
     "task": false
    }
   },
   "source": [
    "### Part 3a. Predicting the pressure dependence of the enthalpy of vaporization\n",
    "\n",
    "Here we'll try to anticipate what happens to $\\Delta(\\Delta H_{vap})$ when the pressure is increased. Here are some hints: \n",
    "\n",
    "- Generally, the enthalpy of a liquid is lower than that of its gas -- i.e., i.e., $H(gas)>H(liq)$.\n",
    "- If the temperature is below the inversion temperature of the gas, we know that $\\mu_T$ for gases is *negative* -- i.e., $H(gas)$ slopes down with increasing pressure.\n",
    "- Meanwhile, $\\mu_T$ for liquids is *positive*, so $H(gas)$ must slope up with increasing pressure.\n",
    "\n",
    "Based on those facts, would you expect that $\\Delta(\\Delta H_{vap})$ should be positive with increasing pressure, or negative?"
   ]
  },
  {
   "cell_type": "markdown",
   "metadata": {
    "deletable": false,
    "nbgrader": {
     "cell_type": "markdown",
     "checksum": "a8edf6eb6112ffe3a55992b708348fe4",
     "grade": true,
     "grade_id": "cell-f324ed2987472238",
     "locked": false,
     "points": 2,
     "schema_version": 3,
     "solution": true,
     "task": false
    }
   },
   "source": [
    "YOUR ANSWER HERE"
   ]
  },
  {
   "cell_type": "markdown",
   "metadata": {
    "deletable": false,
    "editable": false,
    "nbgrader": {
     "cell_type": "markdown",
     "checksum": "9ed6c32e3b17803ddd0641965ded855b",
     "grade": false,
     "grade_id": "cell-505c8d183eb2593a",
     "locked": true,
     "schema_version": 3,
     "solution": false,
     "task": false
    }
   },
   "source": [
    "### Part 3b. Deriving an analytical expression for the pressure dependence of the enthalpy of vaporization\n",
    "Your goal in the cell below is to use sympy to come up with an *analytical* expression for $\\Delta(\\Delta H_{vap})$ when the pressure is raised from a starting pressure (call it $P_1$) to a new pressure ($P_2$). \n",
    "\n",
    "*Hints*: \n",
    "- Make symbolic variables that express $\\mu_T(gas)$ and $\\mu_T(liq)$, based on Eqs. 6 and 7.\n",
    "- Make a symbolic variable that expresses the difference, $\\Delta \\mu_T \\equiv \\mu_T(gas)-\\mu_T(liq)$.\n",
    "- Use sympy to integrate $\\Delta \\mu_T$ from $P_1$ to $P_2$."
   ]
  },
  {
   "cell_type": "code",
   "execution_count": null,
   "metadata": {
    "deletable": false,
    "nbgrader": {
     "cell_type": "code",
     "checksum": "e6777c14d3a66f8613dd6f5dd831c592",
     "grade": true,
     "grade_id": "cell-a1ab76f07b8a75cc",
     "locked": false,
     "points": 3,
     "schema_version": 3,
     "solution": true,
     "task": false
    }
   },
   "outputs": [],
   "source": [
    "# Defining symbolic variables\n",
    "sp.var(\"a\")\n",
    "sp.var(\"b\")\n",
    "sp.var(\"n\")\n",
    "sp.var(\"R\")\n",
    "sp.var(\"T\")\n",
    "sp.var(\"P\")\n",
    "sp.var(\"P1\")\n",
    "sp.var(\"P2\")\n",
    "\n",
    "# Get analytical expressions for mu_T_gas, mu_T_liq, and the difference between them\n",
    "# Your code here \n",
    "\n",
    "\n",
    "# Integrate the difference from P1 to P2 and print your result\n",
    "# Your code here \n"
   ]
  },
  {
   "cell_type": "markdown",
   "metadata": {
    "deletable": false,
    "editable": false,
    "nbgrader": {
     "cell_type": "markdown",
     "checksum": "f056f9464aca1e9e606db6959a3b0e62",
     "grade": false,
     "grade_id": "cell-0ec173313eedfab5",
     "locked": true,
     "schema_version": 3,
     "solution": false,
     "task": false
    }
   },
   "source": [
    "### Part 3c. Evaluating your analytical expression for the pressure dependence of the enthalpy of vaporization\n",
    "Your goal in the cell below is to evaluate the analytical expression for $\\Delta(\\Delta H_{vap})$ you just got, for water at $T=273 K$. Part of this includes a check to be sure that $T=273 K$ is below the inversion temperature for water, as we assumed above."
   ]
  },
  {
   "cell_type": "code",
   "execution_count": null,
   "metadata": {
    "deletable": false,
    "nbgrader": {
     "cell_type": "code",
     "checksum": "139178afe46ee3cc4a051c499810ae69",
     "grade": true,
     "grade_id": "cell-ea2246669d3c617e",
     "locked": false,
     "points": 2,
     "schema_version": 3,
     "solution": true,
     "task": false
    }
   },
   "outputs": [],
   "source": [
    "# Moles, the gas constant, and van der Waals parameters for water\n",
    "R = AssignQuantity(8.314,'J/mol/K'); print('R =', R)\n",
    "a = AssignQuantity(5.536,'L^2 bar / mol^2'); print(a)\n",
    "n = AssignQuantity(1,'mol'); print('n =', n)\n",
    "b = AssignQuantity(0.03049,'L/mol'); print(b)\n",
    "\n",
    "# Calculate and print the inversion temperature of water to be sure 273 K is below it\n",
    "T = AssignQuantity(273,'K'); print(T)\n",
    "# Your code here \n",
    "\n",
    "\n",
    "# Specify the range of pressures\n",
    "P1 = AssignQuantity(1,'atm')\n",
    "P2 = AssignQuantity(10,'atm')\n",
    "\n",
    "# Now, the work of computing a numerical value for the change in the enthalpy of vaporization\n",
    "# Your code here \n"
   ]
  },
  {
   "cell_type": "markdown",
   "metadata": {
    "deletable": false,
    "editable": false,
    "nbgrader": {
     "cell_type": "markdown",
     "checksum": "4a2032770ea4a586ba23d3481f4b9bbf",
     "grade": false,
     "grade_id": "cell-4ace921c271bd149",
     "locked": true,
     "schema_version": 3,
     "solution": false,
     "task": false
    }
   },
   "source": [
    "### Pause for analysis\n",
    "Well ... did your prediction from 3a work out?"
   ]
  },
  {
   "cell_type": "markdown",
   "metadata": {
    "deletable": false,
    "nbgrader": {
     "cell_type": "markdown",
     "checksum": "d46b6f1802365012554aa6d31877ebc3",
     "grade": true,
     "grade_id": "cell-4d819c25f99cab72",
     "locked": false,
     "points": 1,
     "schema_version": 3,
     "solution": true,
     "task": false
    }
   },
   "source": [
    "YOUR ANSWER HERE"
   ]
  },
  {
   "cell_type": "markdown",
   "metadata": {},
   "source": [
    "### Refresh/save/validate/close/submit/logout"
   ]
  }
 ],
 "metadata": {
  "kernelspec": {
   "display_name": "Python 3 (ipykernel)",
   "language": "python",
   "name": "python3"
  },
  "language_info": {
   "codemirror_mode": {
    "name": "ipython",
    "version": 3
   },
   "file_extension": ".py",
   "mimetype": "text/x-python",
   "name": "python",
   "nbconvert_exporter": "python",
   "pygments_lexer": "ipython3",
   "version": "3.10.2"
  }
 },
 "nbformat": 4,
 "nbformat_minor": 2
}

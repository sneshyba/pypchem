{
 "cells": [
  {
   "cell_type": "markdown",
   "id": "bf9ba4fb",
   "metadata": {
    "deletable": false,
    "editable": false,
    "nbgrader": {
     "cell_type": "markdown",
     "checksum": "f9408580b62cc13bda36272badf28078",
     "grade": false,
     "grade_id": "cell-c8eb61c7b7195e5d",
     "locked": true,
     "schema_version": 3,
     "solution": false,
     "task": false
    }
   },
   "source": [
    "### Computational Guided Inquiry for PChem (Neshyba, 2024)\n",
    "\n",
    "# Analytical $\\mu_T$\n",
    "\n",
    "## Introduction\n",
    "Here we're going to develop a method for finding analytical formulas for $\\mu_T$ (the *isothermal Joule-Thomson coefficient*) of a non-ideal gas. To do that, we'll leverage what we know about $\\pi _T$ (the *internal pressure*), so the main work is figuring out how to find $\\mu _T$ from $\\pi _T$. On the way, we'll be introducing the \"magic wand\" of Thermodynamics, namely, a set of equations called *Maxwell's Equations*.\n",
    "\n",
    "## Getting $\\pi _T$ from $P(T,V)$\n",
    "We'll begin with the definition of $\\pi _T$,\n",
    "\n",
    "$$\n",
    "\\pi _T \\equiv \\big ( \\frac {\\partial U}{\\partial V} \\big )_T \\ \\ \\ (1)\n",
    "$$\n",
    "\n",
    "If we had $U(T,V)$ for our non-ideal gas in algebraic form, we'd take the above derivative and be done! The problem is, we don't always have that. What we *do* typically have is $P(T,V)$. So our next task is to figure out how to use that knowledge in combination with Eq. 1. \n",
    "\n",
    "That's where *Maxwell's equations* come in. The figure below shows a mnemonic for these equations.\n",
    "\n",
    "<p style='text-align: center;'>\n",
    "<img src=\"http://webspace.pugetsound.edu/facultypages/nesh/Notebook/TheBox.png\" height=\"400\" width=\"400\"/>\n",
    "<strong>Figure 1</strong>. Mnemonic for Maxwell's Equations: The Box.\n",
    "</p>\n",
    "\n",
    "According to Maxwell (and this figure), the differential equation of state for the internal energy is $dU = TdS-PdV$. If we divide by $dV$ while holding the temperature constant, and then apply a Maxwell relation to get rid of the entropy-containing term (also from The Box!), we get  \n",
    "\n",
    "$$\n",
    "\\pi _T = T\\big ( \\frac {\\partial P}{\\partial T} \\big )_V - P \\ \\ \\ (2)\n",
    "$$\n",
    "\n",
    "The great thing about Eq. 2 is, if you have an expression for $P(T,V)$, then with a little calculus you can arrive at an analytical expression for $\\pi_T$ as a function of temperature and volume. For example, the pressure of a van der Waals gas is given by \n",
    "\n",
    "$$\n",
    "P_{vdw} = \\frac {nRT}{V-nb} - \\frac{n^2a}{V^2} \\ \\ \\ (3)\n",
    "$$\n",
    "\n",
    "Substituting $P_{vdw}$ for $P$ in Eq. 2 leads to \n",
    "\n",
    "$$\n",
    "\\pi_T = \\frac{n^2a}{V^2} \\ \\ \\ (4)\n",
    "$$ \n",
    "\n",
    "As another example, the pressure of a Berthelot gas is given by \n",
    "\n",
    "$$\n",
    "P_{Berthelot} = \\frac {nRT}{V-nb} - \\frac{n^2a}{TV^2} \\ \\ \\ (5)\n",
    "$$\n",
    "\n",
    "To get $\\pi_T$ for this type of gas, you'd substitue $P_{Berthelot}$ into Eq. 2.\n",
    "\n",
    "## Getting $\\mu _T$\n",
    "Getting $\\mu _T$ is a little more challenging, but the same basic ideas apply. We'll begin with the definition of $\\mu _T$,\n",
    "\n",
    "$$\n",
    "\\mu _T \\equiv \\big ( \\frac {\\partial H}{\\partial P} \\big )_T \\ \\ \\ (6)\n",
    "$$\n",
    "\n",
    "This time, we'll use the differential equation of state for the *enthalpy*, $dH = TdS+VdP$ (from The Box), divide by $dP$ while holding the temperature constant, and apply a Maxwell relation to get rid of the entropy-containing term (also from The Box). Now we get \n",
    "\n",
    "$$\n",
    "\\mu _T = -T \\big ( \\frac {\\partial V}{\\partial T} \\big )_P + V \\ \\ \\ (7)\n",
    "$$\n",
    "\n",
    "But now we have a new problem: to take the partial derivative indicated here, we'd need an algebraic expression of the volume of our gas as a function of its temperature and pressure, i.e., $V(T,P)$. But we are usually not given that. Instead, we usually have $P(T,V)$, which is not always invertible to yield $V(T,P)$. What to do?\n",
    "\n",
    "Our answer is an Euler Chain Relation for $\\big ( \\frac {\\partial V}{\\partial T} \\big )_P$, namely\n",
    "\n",
    "$$\n",
    "\\big ( \\frac {\\partial V}{\\partial T} \\big )_P = -\\frac {\\big ( \\frac {\\partial P}{\\partial T} \\big )_V} {\\big ( \\frac {\\partial P}{\\partial V} \\big )_T}  \\ \\ \\ (8)\n",
    "$$\n",
    "\n",
    "If you insert Eq. 8 into 7, and take advantage of 2, you get to the general relationship\n",
    "\n",
    "$$\n",
    "\\mu _T = \\frac {P + \\pi_T} {\\big ( \\frac {\\partial P}{\\partial V} \\big )_T} + V \\ \\ \\ (9)\n",
    "$$\n",
    "\n",
    "To use this equation, you'd follow the same pattern as you did with $\\pi_T$, namely substitute $P_{vdw}$ or $P_{Berthelot}$ for $P$, take the derivative, and you'll have $\\mu _T$.\n",
    "\n",
    "## Linearizing\n",
    "It turns out that it can be pretty convenient later on if expressions for $\\pi_T$ and $\\mu_T$ are linear in $a$ and $b$. Our method outlined above, leading to Eq. 4, did that automatically: $\\pi_T$ for a van der Waals gas *is* first-order in $a$. In other cases (as you'll see), the method gives you more complex expressions -- not linear in $a$ and $b$. We still have options, however, in that we can attempt to *linearize* our expressions by taking Taylor expansions in $a$ and/or $b$. The assumption built into this approach is that the changes caused by $a$ and $b$, which convert an ideal gas into a van der Waals or Berthelot gas, are in some sense small.\n",
    "\n",
    "Let's see how this would work in the case of $\\mu_T$. For notational convenience, we'll define the first term in Eq. 9 as a function $F$, \n",
    "\n",
    "$$\n",
    "F(a,b) \\equiv \\frac {P + \\pi_T} {\\big ( \\frac {\\partial P}{\\partial V} \\big )_T} \\ \\ \\ (10)\n",
    "$$ \n",
    "\n",
    "so we have $\\mu _T = F(a,b) + V$. Now we construct a *bilinear Taylor approximation* to $F$,\n",
    "\n",
    "$$\n",
    "F(a,b) \\approx F_{a,b=0} + a\\big (\\frac{\\partial F}{\\partial a}\\big )|_{a,b=0}  + b\\big (\\frac{\\partial F}{\\partial b}\\big )|_{a,b=0} \\ \\ \\ (11)\n",
    "$$\n",
    "\n",
    "so that \n",
    "\n",
    "$$\n",
    "\\mu _T \\approx F_{a,b=0} + a\\big (\\frac{\\partial F}{\\partial a}\\big )|_{a,b=0}  + b\\big (\\frac{\\partial F}{\\partial b}\\big )|_{a,b=0} + V \\ \\ \\ (12)\n",
    "$$\n",
    "\n",
    "How does one know if a bilinear approximation is justified? Figure 2 below shows the actual function $F(a,b)$ (i.e., as given by Eq. 10) at room temperature and pressure. The fact that this function *looks* like a plane means its bilinear representation (as given by Eq. 12) should be a pretty good approximation.\n",
    "\n",
    "<p style='text-align: center;'>\n",
    "<img src=\"http://webspace.pugetsound.edu/facultypages/nesh/Notebook/F(a,b).png\" height=\"700\" width=\"700\"/>\n",
    "<strong>Figure 2</strong>. $F(a,b)$, with $a$ in $L^2 bar / mol^2$ and $b$ in $L/mol$.\n",
    "</p>\n",
    "\n",
    "\n",
    "## Learning Goals\n",
    "1. I can use The Box to obtain Maxwell's equations.\n",
    "1. I can find algebraic expressions for $\\pi _T$ and $\\mu _T$ from $P(T,V)$ for a given non-ideal gas model (e.g., van der Waals, Berthelot).\n",
    "1. I can simplify such expressions using a bilinear expansion in terms of variables that express non-ideality, like $a$ and $b$ of van der Waals or Berthelot."
   ]
  },
  {
   "cell_type": "code",
   "execution_count": null,
   "id": "3ca17cbe",
   "metadata": {
    "deletable": false,
    "editable": false,
    "nbgrader": {
     "cell_type": "code",
     "checksum": "3b075b64f9c9eb4df637e33ba8f548f0",
     "grade": false,
     "grade_id": "cell-014d5e9a3065dcec",
     "locked": true,
     "schema_version": 3,
     "solution": false,
     "task": false
    }
   },
   "outputs": [],
   "source": [
    "import sympy as sp"
   ]
  },
  {
   "cell_type": "markdown",
   "id": "1a919709",
   "metadata": {
    "deletable": false,
    "editable": false,
    "nbgrader": {
     "cell_type": "markdown",
     "checksum": "8f9749e4059a71430c1977325faed1d5",
     "grade": false,
     "grade_id": "cell-2500ba26804f1f99",
     "locked": true,
     "schema_version": 3,
     "solution": false,
     "task": false
    }
   },
   "source": [
    "### Derivation of $\\pi _T$ for a van der Waals gas\n",
    "In the cell below, we derive an analytical expression for $\\pi _T$ for a van der Waals gas, with the help of Sympy. "
   ]
  },
  {
   "cell_type": "code",
   "execution_count": null,
   "id": "d5758f7e",
   "metadata": {
    "deletable": false,
    "editable": false,
    "nbgrader": {
     "cell_type": "code",
     "checksum": "f70b60093fa09362df90cdcde113bd4d",
     "grade": false,
     "grade_id": "cell-14317f91b4ddd3a5",
     "locked": true,
     "schema_version": 3,
     "solution": false,
     "task": false
    }
   },
   "outputs": [],
   "source": [
    "# Lay out some symbolic variables\n",
    "sp.var(\"a\")\n",
    "sp.var(\"b\")\n",
    "sp.var(\"n\")\n",
    "sp.var(\"V\")\n",
    "sp.var(\"R\")\n",
    "sp.var(\"T\")\n",
    "\n",
    "# Express P(T,V) for a van der Waals gas (Eq. 3)\n",
    "P_vdw = n*R*T/(V-n*b) - a*n**2/V**2\n",
    "\n",
    "# Use Sympy, with Eq. 2, to construct pi_T, and print it in \"pretty\" format\n",
    "dPdT = sp.diff(P_vdw,T)\n",
    "pi_T = T*dPdT - P_vdw\n",
    "display(pi_T)"
   ]
  },
  {
   "cell_type": "markdown",
   "id": "cddfc4db",
   "metadata": {
    "deletable": false,
    "editable": false,
    "nbgrader": {
     "cell_type": "markdown",
     "checksum": "aa291d92d6b5b55c34f974340884c8bc",
     "grade": false,
     "grade_id": "cell-d64441bf6ff52afc",
     "locked": true,
     "schema_version": 3,
     "solution": false,
     "task": false
    }
   },
   "source": [
    "### Derivation of $\\mu _T$ for a van der Waals gas\n",
    "In the cell below, use Eq. 9 to derive an analytical expression for $\\mu _T$ for a van der Waals gas, and display the result. "
   ]
  },
  {
   "cell_type": "code",
   "execution_count": null,
   "id": "4a227b88",
   "metadata": {
    "deletable": false,
    "nbgrader": {
     "cell_type": "code",
     "checksum": "b03951e33e777b4ac2057043e10f18d6",
     "grade": true,
     "grade_id": "cell-e94f92847afc2860",
     "locked": false,
     "points": 4,
     "schema_version": 3,
     "solution": true,
     "task": false
    }
   },
   "outputs": [],
   "source": [
    "# Your code here \n"
   ]
  },
  {
   "cell_type": "markdown",
   "id": "b5c97e1a",
   "metadata": {
    "deletable": false,
    "editable": false,
    "nbgrader": {
     "cell_type": "markdown",
     "checksum": "15187952a8d0ee6d49c29868ac0d39c4",
     "grade": false,
     "grade_id": "cell-d64e9d913772d8c6",
     "locked": true,
     "schema_version": 3,
     "solution": false,
     "task": false
    }
   },
   "source": [
    "### $\\mu _T$ as a bilinear function of van der Waals $a$ and $b$ \n",
    "Now, we're going to linearize the result we just got for $\\mu_T$. To do that, we \n",
    "\n",
    "1. Construct $F$ as shown in Eq. 10. Since we'll need it eventually, we also find $F_0$ by substituting $a=0$ and $b=0$.\n",
    "1. Construct $\\big (\\frac{\\partial F}{\\partial a}\\big )|_{a,b=0}$ by taking the derivative of $F$ with respect to $a$, and then substituting $a=0$ and $b=0$.\n",
    "1. Construct $\\big (\\frac{\\partial F}{\\partial b}\\big )|_{a,b=0}$ using a similar approach as step 2.\n",
    "1. Construct $\\mu_T$ using Eq. 12. \n",
    "\n",
    "Hopefully,  you'll get something like $\\mu_T = n \\times (b - \\frac{2a}{RT})$. \n",
    "\n",
    "The substitution command in sympy is not something we've introduced before, but hopefully you get the hang of it by inspecting how it's done below."
   ]
  },
  {
   "cell_type": "code",
   "execution_count": null,
   "id": "3fe919d4",
   "metadata": {
    "deletable": false,
    "nbgrader": {
     "cell_type": "code",
     "checksum": "65ed82876daeb0dcc50804b16fcda249",
     "grade": true,
     "grade_id": "cell-e94f92847afc2860x",
     "locked": false,
     "points": 4,
     "schema_version": 3,
     "solution": true,
     "task": false
    }
   },
   "outputs": [],
   "source": [
    "# Getting F\n",
    "print(\"Here's the exact F\")\n",
    "F = (P_vdw+pi_T)/dPdV\n",
    "display(F)\n",
    "\n",
    "# Getting F0 by substituting a=0 and b=0\n",
    "print(\"Here's F0\")\n",
    "F0 = F.subs({a:0,b:0})\n",
    "display(F0)\n",
    "\n",
    "# Here we get Fa by taking the derivative of F with respect to a, then substituting a=0 and b=0\n",
    "print(\"Here's Fa\")\n",
    "dFda = sp.diff(F,a)\n",
    "Fa = dFda.subs({a:0,b:0})\n",
    "display(Fa)\n",
    "\n",
    "# Now get Fb similarly, then put them all together (Eq. 12)\n",
    "# Your code here \n"
   ]
  },
  {
   "cell_type": "markdown",
   "id": "e6d28ef2",
   "metadata": {
    "deletable": false,
    "editable": false,
    "nbgrader": {
     "cell_type": "markdown",
     "checksum": "34a81c376482811f420e35123be34e20",
     "grade": false,
     "grade_id": "cell-a9bb39b0a77a61e1",
     "locked": true,
     "schema_version": 3,
     "solution": false,
     "task": false
    }
   },
   "source": [
    "### $\\pi_T$ for Berthelot's gas\n",
    "Now we'll do something similar, but with a Berthelot gas (as defined by Eq. 5). The following steps should do it:\n",
    "\n",
    "1. Express P(T,V) for a Berthelow gas (Eq. 5).\n",
    "1. Find an expression for $\\pi_T$ for a Berthelot gas using Eq. 2."
   ]
  },
  {
   "cell_type": "code",
   "execution_count": null,
   "id": "de225746",
   "metadata": {
    "deletable": false,
    "nbgrader": {
     "cell_type": "code",
     "checksum": "4fd470c52763b03a4db828a0e3494c2d",
     "grade": true,
     "grade_id": "cell-1de98603253b1f98",
     "locked": false,
     "points": 4,
     "schema_version": 3,
     "solution": true,
     "task": false
    }
   },
   "outputs": [],
   "source": [
    "# Your code here \n"
   ]
  },
  {
   "cell_type": "markdown",
   "id": "8aef6e65",
   "metadata": {},
   "source": [
    "### Pause for analysis\n",
    "Your result should simplify to something like ${2an^2 \\over TV^2}$. Does it?"
   ]
  },
  {
   "cell_type": "markdown",
   "id": "95ec42d8",
   "metadata": {
    "deletable": false,
    "editable": false,
    "nbgrader": {
     "cell_type": "markdown",
     "checksum": "aeaa00ff2679a4e755334621a8034781",
     "grade": false,
     "grade_id": "cell-30d287b7f604d4c1",
     "locked": true,
     "schema_version": 3,
     "solution": false,
     "task": false
    }
   },
   "source": [
    "### $\\mu_T$ for Berthelot's gas\n",
    "Your next task is to find an algebraic expression for $\\mu_T$ for a Berthelot gas, using Eq. 9 in the Introduction. "
   ]
  },
  {
   "cell_type": "code",
   "execution_count": null,
   "id": "ba773e98",
   "metadata": {
    "deletable": false,
    "nbgrader": {
     "cell_type": "code",
     "checksum": "c1c067dc3ee191d36b6eaf039d5920f0",
     "grade": true,
     "grade_id": "cell-55d7b6a58bdd567f",
     "locked": false,
     "points": 4,
     "schema_version": 3,
     "solution": true,
     "task": false
    }
   },
   "outputs": [],
   "source": [
    "# Your code here \n"
   ]
  },
  {
   "cell_type": "markdown",
   "id": "9334916e",
   "metadata": {
    "deletable": false,
    "editable": false,
    "nbgrader": {
     "cell_type": "markdown",
     "checksum": "9e756f6990cac88b0a96ab04c43ee3c2",
     "grade": false,
     "grade_id": "cell-77306138c78f1062",
     "locked": true,
     "schema_version": 3,
     "solution": false,
     "task": false
    }
   },
   "source": [
    "### Your turn: $\\mu_T$ as a bilinear function of $a$ and $b$ for Berthelot's gas\n",
    "In the cell below, create a symbolic expression for a bilinear Taylor expansion of $\\mu_T$ for a Berthelot gas."
   ]
  },
  {
   "cell_type": "code",
   "execution_count": null,
   "id": "5670ab0e",
   "metadata": {
    "deletable": false,
    "nbgrader": {
     "cell_type": "code",
     "checksum": "5a30ea8c43056f1ebc81f87fc6bbd32e",
     "grade": true,
     "grade_id": "cell-5eb61b58827f1f80",
     "locked": false,
     "points": 4,
     "schema_version": 3,
     "solution": true,
     "task": false
    }
   },
   "outputs": [],
   "source": [
    "# Your code here \n"
   ]
  },
  {
   "cell_type": "markdown",
   "id": "fddea0ae",
   "metadata": {
    "deletable": false,
    "editable": false,
    "nbgrader": {
     "cell_type": "markdown",
     "checksum": "cba14d036890270f05b81027173095dc",
     "grade": false,
     "grade_id": "cell-6513cb5c4d3e591a",
     "locked": true,
     "schema_version": 3,
     "solution": false,
     "task": false
    }
   },
   "source": [
    "### Refresh/save/validate/close/submit/logout"
   ]
  }
 ],
 "metadata": {
  "kernelspec": {
   "display_name": "Python 3 (ipykernel)",
   "language": "python",
   "name": "python3"
  },
  "language_info": {
   "codemirror_mode": {
    "name": "ipython",
    "version": 3
   },
   "file_extension": ".py",
   "mimetype": "text/x-python",
   "name": "python",
   "nbconvert_exporter": "python",
   "pygments_lexer": "ipython3",
   "version": "3.10.2"
  }
 },
 "nbformat": 4,
 "nbformat_minor": 5
}

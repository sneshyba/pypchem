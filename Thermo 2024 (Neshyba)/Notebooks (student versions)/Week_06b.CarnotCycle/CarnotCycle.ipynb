{
 "cells": [
  {
   "cell_type": "markdown",
   "metadata": {
    "deletable": false,
    "editable": false,
    "id": "QMe9-ikJwkVQ",
    "nbgrader": {
     "cell_type": "markdown",
     "checksum": "3c5dddd9dcf98b60e51fb25163b9e4de",
     "grade": false,
     "grade_id": "cell-7620e2340477c81a",
     "locked": true,
     "schema_version": 3,
     "solution": false,
     "task": false
    }
   },
   "source": [
    "### Computational Guided Inquiry for PChem (Neshyba, 2024)\n",
    "\n",
    "# The Carnot Cycle\n",
    "\n",
    "## Introduction\n",
    "\n",
    "The purpose of any heat engine is to generate a useable form of energy (such as electricity) from the heat extracted from a hot reservoir (such as a furnace). A *Carnot heat engine* is a theoretical heat engine in which one imagines taking an ideal gas through a sequence of reversible expansions and contractions, that ends up with the gas in the exact same state it started in. This sequence is called a *Carnot cycle*, and is often depicted in an *indicator diagram* such as Fig. 1. The cycle as a whole is called a *closed thermodynamic cycle* because the gas returns to its initial state at the end. \n",
    "\n",
    "<p style='text-align: center;'>\n",
    "<img src=\"http://webspace.pugetsound.edu/facultypages/nesh/Notebook/cycle1.png\" height=\"400\" width=\"400\"/>\n",
    "\n",
    "__Figure 1__. Indicator diagram showing a Carnot cycle acting as a heat engine. \n",
    "</p>\n",
    "\n",
    "## Reversible PV work\n",
    "An important property of a Carnot cycle is the work done,\n",
    "\n",
    "$$\n",
    "w = -\\int P dV \\space  (each \\ leg) \\ \\ \\ \\ (1)\n",
    "$$\n",
    "\n",
    "where the integration limits are the endpoints of each leg, and it's assumed that the system's pressure, $P$, is never very far from the pressure outside, $P_{ex}$. This is called the condition of *reversibility*. \n",
    "\n",
    "As long as we know the path -- the details of how the pressure changes as a function of volume -- we can calculate the work *numerically* by using the trapezoidal rule. In the special case of isothermal reversible expansion or compression of an ideal gas, we have the *analytical* result that\n",
    "\n",
    "$$\n",
    "w_{isotherm} = -n R T \\ ln \\bigl ( \\frac {V_{final}} {V_{initial}} \\bigr ) \\ \\ \\ \\ (2)\n",
    "$$\n",
    "\n",
    "where, e.g., for the first leg of the Carnot cycle, $V_{final}=V_B$ and $V_{initial}=V_A$. We'll be using both approaches -- numerical and analytical -- in this exercise, to help verify we haven't made a mistake anywhere.\n",
    "\n",
    "## Thermal power generators\n",
    "Both equations above say that *expansions* (leg 1 from A to B, and leg 2 from B to C) should have $w<0$, while *compressions* (legs 3 and 4) should have $w>0$. Since the whole idea of a thermal power generator -- known to Thermodynamics as a *heat engine* -- is that it will \"do work\" on the surroundings, like turn a turbine to make electricity, it had better be that the work associated with expansion (legs 1 and 2) is bigger than the work associated with compression (legs 3 and 4). In other words, a thermal power generator makes electricity because the total work, given by \n",
    "\n",
    "$$\n",
    "w_{tot}=w_1+w_2+w_3+w_4 \\ \\ \\ \\ (3)\n",
    "$$\n",
    "\n",
    "is negative.\n",
    "\n",
    "## Heat associated with the isothermal legs\n",
    "Of special interest is the *heat* extracted from the surroundings, or put into the surroundings, during the isothermal legs of the cycle. In general, the governing formula (for a Carnot cycle) is\n",
    "\n",
    "$$\n",
    "q_{isotherm} = +n R T \\ ln \\bigl ( \\frac {V_{final}} {V_{initial}} \\bigr ) \\ \\ \\ \\ (4)\n",
    "$$\n",
    "\n",
    "We can use this formula for the two isothermal processes in the cycle by making the right replacements of terms: \n",
    "\n",
    "1. When the gas *expands* isthermally (i.e., during the first leg of the cycle), we would replace $T$, $V_{final}$, and $V_{initial}$ with values associated with leg 1. The \"$q$\" in that case -- we could call it $q_{isotherm}(hot)$ -- tells us how much heat moves from the hot reservoir and into the gas as it expands. It's important from an economic point of view: it's directly related to the cost of the fuel you have to buy to keep the furnace hot!\n",
    "1. When the gas is *compressed* isothermally (i.e., during the third leg), we'd make similar substitutions; in particular, we'd call the heat that moves out of the system an into the surroundings $q_{isotherm}(cold)$.\n",
    "\n",
    "About signs: Since $V_2>V_1$, $q_{isotherm}(hot)$ is a positive number, consistent with the idea we just discussed, that heat moves out of the surroundings (the hot furnace, in this case) and into the system (our ideal gas). Likewise, since $V_4<V_3$, $q_{isotherm}(cold)$ is a negative number, consistent with heat moving out the system (our ideal gas) and into the surroundings (air, river).\n",
    "\n",
    "## Efficiency\n",
    "By definition, the *observed efficiency* of a heat engine is ratio of the work one gets out of the engine to the heat extracted from the hot reservoir,\n",
    "\n",
    "$$\n",
    "\\varepsilon_{observed} = -w_{tot}/q_{hot} \\ \\ \\ \\ (5)\n",
    "$$\n",
    "\n",
    "where the negative sign is there so that $\\varepsilon$ is a positive number. Every power plant can be characterized by this number. Of course, engineers try to make $\\varepsilon_{observed}$ as big as possible, because the amount of electricity the operators of the power plant sell is proportional to $w_{tot}$, while the amount of fuel they have to buy is proportional to $q_{hot}$.\n",
    "\n",
    "Although a theoretical construct (because ideal gases are not real), Carnot heat engines let us derive a fundamental theoretical limit. It is this: the *theoretical maximum efficiency* of *any* heat engine is given by\n",
    "\n",
    "$$\n",
    "\\varepsilon_{max} = {T_{hot}-T_{cold} \\over T_{hot}} \\ \\ \\ \\ (6)\n",
    "$$\n",
    "\n",
    "The essence of this equation is the idea that better efficiency results when a furnace is really hot, and the place you are dumping your leftover heat is really cold, so that the numerator in this expression will be big. This principle applies even though real heat engines do not work with ideal gases (because, again, ideal gases are not real). So, for example, in a gas-powered automobile, hotter-running engines are generally more efficient.\n",
    "\n",
    "There's one more important relationship whose engineering implications are worth mentioning. It has to do with how the volumes of the four corners of the Carnot cycle can't be completely independent from one another, since (as we've mentioned) at the end of each Carnot cycle, the gas has to return to its initial state. This in turn translates into a *proportionality requirement*,\n",
    "\n",
    "$$\n",
    "\\dfrac{V_B}{V_A} = \\dfrac{V_C}{V_D} \\ \\ \\ \\ (7)\n",
    "$$\n",
    "\n",
    "## Learning Goals\n",
    "1. I'm familiar with fundamental thermodynamical ideas and formulas associated with a Carnot cycle, and can use the following terms in working with these ideas:\n",
    "\n",
    "    - Carnot heat engine\n",
    "    - Carnot cycle\n",
    "    - Indicator diagram\n",
    "    - Closed thermodynamic cycle\n",
    "    - Reversibility\n",
    "    - Observed heat engine efficiency vs theoretical maximum efficiency\n",
    "    - The proportionality requirement of a closed Carnot cycle\n",
    "    \n",
    "\n",
    "2. I know how to use the trapezoidal rule to compute thermodynamic work."
   ]
  },
  {
   "cell_type": "code",
   "execution_count": null,
   "metadata": {
    "deletable": false,
    "editable": false,
    "id": "5wF8ykbHwkVW",
    "nbgrader": {
     "cell_type": "code",
     "checksum": "ffb9be3f158dcdfc9e8cf37ae56752d3",
     "grade": false,
     "grade_id": "cell-344ec244b09a7b88",
     "locked": true,
     "schema_version": 3,
     "solution": false,
     "task": false
    }
   },
   "outputs": [],
   "source": [
    "# Import resources\n",
    "import pint; from pint import UnitRegistry; AssignQuantity = UnitRegistry().Quantity\n",
    "import warnings; warnings.filterwarnings(\"ignore\", \"The unit of the quantity is stripped when downcasting to ndarray\")\n",
    "import numpy as np\n",
    "import matplotlib.pyplot as plt\n",
    "import sys; sys.path.append('/home'); import PchemLibrary as PL"
   ]
  },
  {
   "cell_type": "code",
   "execution_count": null,
   "metadata": {
    "deletable": false,
    "editable": false,
    "id": "5ZjlrdxawkVW",
    "nbgrader": {
     "cell_type": "code",
     "checksum": "9f2977a9a4464173970ff52cd99a6b84",
     "grade": false,
     "grade_id": "cell-ccb355cdb4b2076f",
     "locked": true,
     "schema_version": 3,
     "solution": false,
     "task": false
    }
   },
   "outputs": [],
   "source": [
    "%matplotlib notebook"
   ]
  },
  {
   "cell_type": "code",
   "execution_count": null,
   "metadata": {
    "deletable": false,
    "editable": false,
    "nbgrader": {
     "cell_type": "code",
     "checksum": "6c1ed2fef886123cdbb87244430d339b",
     "grade": false,
     "grade_id": "cell-df06249fdaae99a4",
     "locked": true,
     "schema_version": 3,
     "solution": false,
     "task": false
    }
   },
   "outputs": [],
   "source": [
    "R = AssignQuantity(8.314,'J/mol/K'); print(R)\n",
    "n = AssignQuantity(1,'mol'); print(n)\n",
    "C_V = 3/2*R*n; print(C_V)"
   ]
  },
  {
   "cell_type": "markdown",
   "metadata": {
    "deletable": false,
    "editable": false,
    "nbgrader": {
     "cell_type": "markdown",
     "checksum": "474a61a641a1cd09f8587a1818202b77",
     "grade": false,
     "grade_id": "cell-fc783df5cf9b0e3d",
     "locked": true,
     "schema_version": 3,
     "solution": false,
     "task": false
    }
   },
   "source": [
    "### Getting all the specs about point A\n",
    "We're starting with a known temperature and volume, so we specify those and deduce the pressure from them using the ideal gas law."
   ]
  },
  {
   "cell_type": "code",
   "execution_count": null,
   "metadata": {
    "deletable": false,
    "editable": false,
    "nbgrader": {
     "cell_type": "code",
     "checksum": "0e04d132aade1bcba0a57085b7dcd335",
     "grade": false,
     "grade_id": "cell-7781d4c50ce2b8d9",
     "locked": true,
     "schema_version": 3,
     "solution": false,
     "task": false
    }
   },
   "outputs": [],
   "source": [
    "# Specify the starting volume and temperature\n",
    "VA = AssignQuantity(10,'L')\n",
    "TA = AssignQuantity(298,'K')\n",
    "\n",
    "# Deduce PA from ideal gas law\n",
    "PA = n*R*TA/VA\n",
    "PA.ito('atm')\n",
    "\n",
    "# Report\n",
    "print(\"VA =\", VA)\n",
    "print(\"TA =\", TA)\n",
    "print(\"PA =\", PA)"
   ]
  },
  {
   "cell_type": "markdown",
   "metadata": {
    "deletable": false,
    "editable": false,
    "nbgrader": {
     "cell_type": "markdown",
     "checksum": "1e9fa1a1556073693e936114b3059749",
     "grade": false,
     "grade_id": "cell-f1adf912d8dffe2e",
     "locked": true,
     "schema_version": 3,
     "solution": false,
     "task": false
    }
   },
   "source": [
    "### Isothermal expansion from A to B"
   ]
  },
  {
   "cell_type": "code",
   "execution_count": null,
   "metadata": {
    "deletable": false,
    "editable": false,
    "id": "GETifGLcwkVX",
    "nbgrader": {
     "cell_type": "code",
     "checksum": "a13e4a386588eabfb18d4b7ff3559ad1",
     "grade": false,
     "grade_id": "cell-cd682e4ebd54b753",
     "locked": true,
     "schema_version": 3,
     "solution": false,
     "task": false
    }
   },
   "outputs": [],
   "source": [
    "# Specify the volume we're going to\n",
    "VB = AssignQuantity(20,'L')\n",
    "\n",
    "# Get the volume & pressure along this isotherm\n",
    "V_leg1, P_leg1 = PL.func_P_isotherm(VA,VB,n,R,TA,AssignQuantity,'atm')\n",
    "\n",
    "# Graph this leg\n",
    "plt.figure()\n",
    "plt.plot(V_leg1,P_leg1,color='red',label='Leg 1 (hot isothermal expansion)')\n",
    "plt.grid(True)\n",
    "plt.legend()"
   ]
  },
  {
   "cell_type": "markdown",
   "metadata": {
    "deletable": false,
    "editable": false,
    "nbgrader": {
     "cell_type": "markdown",
     "checksum": "6ed1f87cbe7f212b14f86f03ef81127d",
     "grade": false,
     "grade_id": "cell-2ba4e004c178748c",
     "locked": true,
     "schema_version": 3,
     "solution": false,
     "task": false
    }
   },
   "source": [
    "### Getting remaining specs about point B\n",
    "We already specified the volume at B, and the end of leg 1 will tell us the pressure at B. The temperature *should* be equal to TA, but here we're deducing it from VB and PB as a check."
   ]
  },
  {
   "cell_type": "code",
   "execution_count": null,
   "metadata": {
    "deletable": false,
    "editable": false,
    "nbgrader": {
     "cell_type": "code",
     "checksum": "a2d658ef040894d29c6c08e0f9378018",
     "grade": false,
     "grade_id": "cell-efbd2c6c274b90fd",
     "locked": true,
     "schema_version": 3,
     "solution": false,
     "task": false
    }
   },
   "outputs": [],
   "source": [
    "# Get PB from the last point of the previous leg \n",
    "PB = P_leg1[-1]\n",
    "\n",
    "# Deduce temperature from ideal gas law (should be equal to TA)\n",
    "TB = PB*VB/(n*R)\n",
    "TB.ito('K')\n",
    "\n",
    "# Report\n",
    "print(\"VB =\", VB)\n",
    "print(\"TB =\", TB)\n",
    "print(\"PB =\", PB)"
   ]
  },
  {
   "cell_type": "markdown",
   "metadata": {
    "deletable": false,
    "editable": false,
    "id": "nhxOujbKwkVX",
    "nbgrader": {
     "cell_type": "markdown",
     "checksum": "163c0c737fc293d3d45e01f91b9332a9",
     "grade": false,
     "grade_id": "cell-be93c2cf584f3411",
     "locked": true,
     "schema_version": 3,
     "solution": false,
     "task": false
    }
   },
   "source": [
    "### Adiabatic expansion from B to C\n",
    "Now we'll specify our next destination volume (VC) and carry out an adiabatic expansion."
   ]
  },
  {
   "cell_type": "code",
   "execution_count": null,
   "metadata": {
    "deletable": false,
    "editable": false,
    "id": "MDBJxc2-wkVY",
    "nbgrader": {
     "cell_type": "code",
     "checksum": "09e7f120e424192f03fd233040e32a90",
     "grade": false,
     "grade_id": "cell-b1f5077e7323b117",
     "locked": true,
     "schema_version": 3,
     "solution": false,
     "task": false
    }
   },
   "outputs": [],
   "source": [
    "# Specify the volume we're going to\n",
    "VC = AssignQuantity(30,'L')\n",
    "\n",
    "# Get the volume & pressure along this adiabat\n",
    "V_leg2, P_leg2 = PL.func_P_adiabat(VB,VC,n,R,TB,C_V,AssignQuantity,'atm')\n",
    "\n",
    "# Graph leg 1 and leg 2\n",
    "plt.figure()\n",
    "plt.plot(V_leg1,P_leg1,color='red',label='Leg 1 (hot isothermal expansion)')\n",
    "plt.plot(V_leg2,P_leg2,color='black',linestyle='dashed',label='Leg 2 (adiabatic expansion)')\n",
    "plt.grid(True)\n",
    "plt.legend()"
   ]
  },
  {
   "cell_type": "markdown",
   "metadata": {
    "deletable": false,
    "editable": false,
    "nbgrader": {
     "cell_type": "markdown",
     "checksum": "0f2c81bb5f93bcddef299062632a3d76",
     "grade": false,
     "grade_id": "cell-d71d1b53de95e7b1",
     "locked": true,
     "schema_version": 3,
     "solution": false,
     "task": false
    }
   },
   "source": [
    "### Your turn: Remaining specs about point C\n",
    "First get the pressure, PC, from the last point of the previous leg. Since you already know VC, you can use the ideal gas law to deduce the temperature, TC."
   ]
  },
  {
   "cell_type": "code",
   "execution_count": null,
   "metadata": {
    "deletable": false,
    "nbgrader": {
     "cell_type": "code",
     "checksum": "f204b0781caedb43d18b26904873cedc",
     "grade": true,
     "grade_id": "cell-2f4e9b90ec88bf37",
     "locked": false,
     "points": 3,
     "schema_version": 3,
     "solution": true,
     "task": false
    }
   },
   "outputs": [],
   "source": [
    "# Get PC from the last point of the previous leg \n",
    "# Your code here \n",
    "\n",
    "\n",
    "# Deduce TC from ideal gas law at point C\n",
    "# Your code here \n",
    "\n",
    "\n",
    "# Report\n",
    "print(\"VC =\", VC)\n",
    "print(\"TC =\", TC)\n",
    "print(\"PC =\", PC)"
   ]
  },
  {
   "cell_type": "markdown",
   "metadata": {
    "deletable": false,
    "editable": false,
    "nbgrader": {
     "cell_type": "markdown",
     "checksum": "96a6da0d3762afc7135ae497b1952cb0",
     "grade": false,
     "grade_id": "cell-a86f48ab7f5e9124",
     "locked": true,
     "schema_version": 3,
     "solution": false,
     "task": false
    }
   },
   "source": [
    "### Your turn: Isothermal compression from C to D\n",
    "Specify a volume, VD, that is *smaller* than VC, and then carry out an isothermal compression."
   ]
  },
  {
   "cell_type": "code",
   "execution_count": null,
   "metadata": {
    "deletable": false,
    "nbgrader": {
     "cell_type": "code",
     "checksum": "d66f9be1cde4ec9e3f070412668d2069",
     "grade": true,
     "grade_id": "cell-4d6d8493c7bed089",
     "locked": false,
     "points": 3,
     "schema_version": 3,
     "solution": true,
     "task": false
    }
   },
   "outputs": [],
   "source": [
    "# Specify the volume we're going to\n",
    "# Your code here \n",
    "\n",
    "\n",
    "# Get the volume & pressure along this isotherm\n",
    "# Your code here \n",
    "\n",
    "\n",
    "# Graph legs 1, 2, and 3\n",
    "# Your code here \n"
   ]
  },
  {
   "cell_type": "markdown",
   "metadata": {
    "deletable": false,
    "editable": false,
    "id": "loJVV1yywkVY",
    "nbgrader": {
     "cell_type": "markdown",
     "checksum": "4bd3ea9a48716f8a0810ee4449e3ff1f",
     "grade": false,
     "grade_id": "cell-8919b12a9efb9a65",
     "locked": true,
     "schema_version": 3,
     "solution": false,
     "task": false
    }
   },
   "source": [
    "### Your turn: Remaining specs about point D\n",
    "First get the pressure, PD, from the last point of leg 3. Since you already know VD, you can use the ideal gas law to deduce the temperature, TD -- but it should equal TC since leg 3 was an isothermal compression."
   ]
  },
  {
   "cell_type": "code",
   "execution_count": null,
   "metadata": {
    "deletable": false,
    "nbgrader": {
     "cell_type": "code",
     "checksum": "16998af452e844bf48fefc527ddb9b1e",
     "grade": true,
     "grade_id": "cell-d063ed1151d1311f",
     "locked": false,
     "points": 3,
     "schema_version": 3,
     "solution": true,
     "task": false
    }
   },
   "outputs": [],
   "source": [
    "# Your code here \n"
   ]
  },
  {
   "cell_type": "markdown",
   "metadata": {
    "deletable": false,
    "editable": false,
    "nbgrader": {
     "cell_type": "markdown",
     "checksum": "6702f6ff080b4e9f5bb52ab888b3ce4e",
     "grade": false,
     "grade_id": "cell-3934fcc0f68c108d",
     "locked": true,
     "schema_version": 3,
     "solution": false,
     "task": false
    }
   },
   "source": [
    "### Your turn: Adiabatic compression from D to A\n",
    "Lastly, carry out an adiabatic compression back to VA, beginning at temperature TD."
   ]
  },
  {
   "cell_type": "code",
   "execution_count": null,
   "metadata": {
    "deletable": false,
    "id": "9fzRsHnxwkVY",
    "nbgrader": {
     "cell_type": "code",
     "checksum": "8df3139e5ab890772c4144e89417b373",
     "grade": true,
     "grade_id": "cell-cce03e8cad0b878f",
     "locked": false,
     "points": 3,
     "schema_version": 3,
     "solution": true,
     "task": false
    }
   },
   "outputs": [],
   "source": [
    "# Your code here \n"
   ]
  },
  {
   "cell_type": "markdown",
   "metadata": {
    "deletable": false,
    "editable": false,
    "nbgrader": {
     "cell_type": "markdown",
     "checksum": "db9d041e1aa2724f95921675589181b0",
     "grade": false,
     "grade_id": "cell-4bc19affa1e27c75",
     "locked": true,
     "schema_version": 3,
     "solution": false,
     "task": false
    }
   },
   "source": [
    "### Pause for revision\n",
    "Unless you were very lucky, you probably didn't end up at the very same state you started at. Go back and revise volumes VB, VC, and/or VD so that you end up with a closed loop for your Carnot cycle. "
   ]
  },
  {
   "cell_type": "markdown",
   "metadata": {
    "deletable": false,
    "editable": false,
    "nbgrader": {
     "cell_type": "markdown",
     "checksum": "d79352a127da0f782e78eadb105c16e3",
     "grade": false,
     "grade_id": "cell-36208ca6d975d904",
     "locked": true,
     "schema_version": 3,
     "solution": false,
     "task": false
    }
   },
   "source": [
    "### Defining PV work\n",
    "The function definition below uses numpy's trapezoidal function to calculate the work done by a given path (defined by Varray and Parray), and attaches units to the result!"
   ]
  },
  {
   "cell_type": "code",
   "execution_count": null,
   "metadata": {
    "deletable": false,
    "editable": false,
    "nbgrader": {
     "cell_type": "code",
     "checksum": "3116ac5f2109d53ca316bc4361005045",
     "grade": false,
     "grade_id": "cell-b20b71175816242e",
     "locked": true,
     "schema_version": 3,
     "solution": false,
     "task": false
    }
   },
   "outputs": [],
   "source": [
    "def func_PVwork(Varray,Parray,AssignQuantity):\n",
    "    w = -np.trapz(Parray,Varray)\n",
    "    w = AssignQuantity(w,Varray.units*Parray.units)\n",
    "    return w"
   ]
  },
  {
   "cell_type": "markdown",
   "metadata": {
    "deletable": false,
    "editable": false,
    "nbgrader": {
     "cell_type": "markdown",
     "checksum": "9393baaa96c315ef77702e4791607c74",
     "grade": false,
     "grade_id": "cell-a0589d4e96acf57d",
     "locked": true,
     "schema_version": 3,
     "solution": false,
     "task": false
    }
   },
   "source": [
    "### Evaluate the work for leg 1\n",
    "Below, we use func_PVwork to calculate the work of leg 1. We also double-check using our analytical formula."
   ]
  },
  {
   "cell_type": "code",
   "execution_count": null,
   "metadata": {
    "deletable": false,
    "editable": false,
    "nbgrader": {
     "cell_type": "code",
     "checksum": "06c629c0afac6eb6730b159a3252f788",
     "grade": false,
     "grade_id": "cell-69898d3660f6f34c",
     "locked": true,
     "schema_version": 3,
     "solution": false,
     "task": false
    }
   },
   "outputs": [],
   "source": [
    "# Evaluate the work using func_PVwork\n",
    "w_leg1 = func_PVwork(V_leg1, P_leg1, AssignQuantity)\n",
    "w_leg1.ito('joule')\n",
    "print(\"work (numerical)\", w_leg1)\n",
    "\n",
    "# Double-check using our analytical result, Eq. 2\n",
    "w_leg1_analytical = -n*R*TA*np.log(VB/VA)\n",
    "print(\"work (analytical)\", w_leg1_analytical)"
   ]
  },
  {
   "cell_type": "markdown",
   "metadata": {
    "deletable": false,
    "editable": false,
    "nbgrader": {
     "cell_type": "markdown",
     "checksum": "6cffb6456f8c4958291a04271ce7d005",
     "grade": false,
     "grade_id": "cell-34e9125f2edfc92b",
     "locked": true,
     "schema_version": 3,
     "solution": false,
     "task": false
    }
   },
   "source": [
    "### Evaluate the work for Leg 2\n",
    "Below, use our numerical work function. We can't double-check though because we haven't derived an analytical formula for the work of an adiabatic expansion."
   ]
  },
  {
   "cell_type": "code",
   "execution_count": null,
   "metadata": {
    "deletable": false,
    "nbgrader": {
     "cell_type": "code",
     "checksum": "a4b585e07dfb710539a7c918c821f1b9",
     "grade": true,
     "grade_id": "cell-03946262a8272ab1",
     "locked": false,
     "points": 2,
     "schema_version": 3,
     "solution": true,
     "task": false
    }
   },
   "outputs": [],
   "source": [
    "# Evaluate the work using func_PVwork\n",
    "# Your code here \n"
   ]
  },
  {
   "cell_type": "markdown",
   "metadata": {
    "deletable": false,
    "editable": false,
    "nbgrader": {
     "cell_type": "markdown",
     "checksum": "5832dbedf2e7fc2887e37de309c52739",
     "grade": false,
     "grade_id": "cell-0940c4192dabb3c5",
     "locked": true,
     "schema_version": 3,
     "solution": false,
     "task": false
    }
   },
   "source": [
    "### Evaluate the work for Leg 3\n",
    "Below, use our numerical work function, and double-check using our analytical formula."
   ]
  },
  {
   "cell_type": "code",
   "execution_count": null,
   "metadata": {
    "deletable": false,
    "nbgrader": {
     "cell_type": "code",
     "checksum": "4c2e5b4276b8f9250791ecbe7f44257f",
     "grade": true,
     "grade_id": "cell-0588cc22ccb96ab0",
     "locked": false,
     "points": 2,
     "schema_version": 3,
     "solution": true,
     "task": false
    }
   },
   "outputs": [],
   "source": [
    "# Evaluate the work using func_PVwork\n",
    "# Your code here \n",
    "\n",
    "\n",
    "# Double-check using our analytical result, Eq. 2\n",
    "# Your code here \n"
   ]
  },
  {
   "cell_type": "markdown",
   "metadata": {
    "deletable": false,
    "editable": false,
    "nbgrader": {
     "cell_type": "markdown",
     "checksum": "c564a8a47db4edaec871e8bf5459177b",
     "grade": false,
     "grade_id": "cell-ee1fe3f51aacb77b",
     "locked": true,
     "schema_version": 3,
     "solution": false,
     "task": false
    }
   },
   "source": [
    "### Evaluate the work for Leg 4\n",
    "Below, use our numerical work function to evaluate the work of leg 4. We can't double-check, however, because we haven't derived an analytical formula for adiabatic compression."
   ]
  },
  {
   "cell_type": "code",
   "execution_count": null,
   "metadata": {
    "deletable": false,
    "nbgrader": {
     "cell_type": "code",
     "checksum": "411f22ba8b1fc1bcc7b32943f298896d",
     "grade": true,
     "grade_id": "cell-889567a90747966c",
     "locked": false,
     "points": 2,
     "schema_version": 3,
     "solution": true,
     "task": false
    }
   },
   "outputs": [],
   "source": [
    "# Evaluate the work using func_PVwork\n",
    "# Your code here \n"
   ]
  },
  {
   "cell_type": "markdown",
   "metadata": {
    "deletable": false,
    "editable": false,
    "id": "DR6lnSRhwkVa",
    "nbgrader": {
     "cell_type": "markdown",
     "checksum": "a14a1d5555d9653b1a710d862d989bc6",
     "grade": false,
     "grade_id": "cell-fb0f467c499103bc",
     "locked": true,
     "schema_version": 3,
     "solution": false,
     "task": false
    }
   },
   "source": [
    "### Pause for analysis\n",
    "The observed efficiency is supposed to be close to the theoretical maximum efficiency. In the cell below, calculate each of these. Some notes about this:\n",
    "- To get the observed efficiency, you need the *total* work, and the heat of Leg 1\n",
    "- To get the theoretical efficiency, you need the temperatures of the hot and cold reservoirs"
   ]
  },
  {
   "cell_type": "code",
   "execution_count": null,
   "metadata": {
    "deletable": false,
    "id": "_-EMdTExwkVb",
    "nbgrader": {
     "cell_type": "code",
     "checksum": "9242029a6f81722eb5a8375d7f7bbf7a",
     "grade": true,
     "grade_id": "cell-d53973c84e10d7ef",
     "locked": false,
     "points": 2,
     "schema_version": 3,
     "solution": true,
     "task": false
    }
   },
   "outputs": [],
   "source": [
    "# Calculate and print the total work (Eq. 3)\n",
    "# Your code here \n",
    "\n",
    "\n",
    "# Calculate and print the heat extracted from the hot reservoir (Eq. 4)\n",
    "# Your code here \n",
    "\n",
    "\n",
    "# Calculate the observed efficiency (Eq. 5)\n",
    "# Your code here \n",
    "\n",
    "\n",
    "# Calulate the theoretical maximum efficiency (Eq. 6)\n",
    "# Your code here \n"
   ]
  },
  {
   "cell_type": "markdown",
   "metadata": {
    "deletable": false,
    "editable": false,
    "nbgrader": {
     "cell_type": "markdown",
     "checksum": "6ea22c6997176de15a4261f4541cd670",
     "grade": false,
     "grade_id": "cell-0759950f8fb2f86a",
     "locked": true,
     "schema_version": 3,
     "solution": false,
     "task": false
    }
   },
   "source": [
    "### Pause for analysis\n",
    "In the following cell, comment on whether the observed efficiency you got is close to the theoretical efficiency."
   ]
  },
  {
   "cell_type": "markdown",
   "metadata": {
    "deletable": false,
    "nbgrader": {
     "cell_type": "markdown",
     "checksum": "ebaf535fd521f11c9e60230622c57625",
     "grade": true,
     "grade_id": "cell-6def971fdcf3c218",
     "locked": false,
     "points": 1,
     "schema_version": 3,
     "solution": true,
     "task": false
    }
   },
   "source": [
    "YOUR ANSWER HERE"
   ]
  },
  {
   "cell_type": "markdown",
   "metadata": {
    "deletable": false,
    "editable": false,
    "id": "Uc6Gxu0dwkVa",
    "nbgrader": {
     "cell_type": "markdown",
     "checksum": "51da7598bfa10da5a999d4e11434a659",
     "grade": false,
     "grade_id": "cell-79054c74099a4908",
     "locked": true,
     "schema_version": 3,
     "solution": false,
     "task": false
    }
   },
   "source": [
    "### Proportionality requirement\n",
    "If you've formed a closed Carnot cycle, the $V_B/V_A$ should be equal to $V_C/V_D$ (see Eq. 7 in the Introduction). In the cell below, calculate these ratios. They should be pretty close to one another!"
   ]
  },
  {
   "cell_type": "code",
   "execution_count": null,
   "metadata": {
    "deletable": false,
    "id": "YflfEqOfwkVa",
    "nbgrader": {
     "cell_type": "code",
     "checksum": "b838b37b577ac2c0056a41bc7b673415",
     "grade": true,
     "grade_id": "cell-eaf1f8c21eee1c64",
     "locked": false,
     "points": 2,
     "schema_version": 3,
     "solution": true,
     "task": false
    }
   },
   "outputs": [],
   "source": [
    "# Calculate and print the volume ratios\n",
    "# Your code here \n"
   ]
  },
  {
   "cell_type": "markdown",
   "metadata": {
    "deletable": false,
    "editable": false,
    "nbgrader": {
     "cell_type": "markdown",
     "checksum": "5ca53fe8baadd63cc3a2f263a4fc1867",
     "grade": false,
     "grade_id": "cell-853251ed461db552",
     "locked": true,
     "schema_version": 3,
     "solution": false,
     "task": false
    }
   },
   "source": [
    "### Refresh/save/validate/close/submit/logout"
   ]
  }
 ],
 "metadata": {
  "colab": {
   "collapsed_sections": [],
   "name": "5. Carnot_cycle.ipynb",
   "provenance": []
  },
  "kernelspec": {
   "display_name": "Python 3 (ipykernel)",
   "language": "python",
   "name": "python3"
  },
  "language_info": {
   "codemirror_mode": {
    "name": "ipython",
    "version": 3
   },
   "file_extension": ".py",
   "mimetype": "text/x-python",
   "name": "python",
   "nbconvert_exporter": "python",
   "pygments_lexer": "ipython3",
   "version": "3.10.2"
  }
 },
 "nbformat": 4,
 "nbformat_minor": 1
}

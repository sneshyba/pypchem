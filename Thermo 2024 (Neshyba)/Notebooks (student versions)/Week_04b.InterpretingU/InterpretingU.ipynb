{
 "cells": [
  {
   "cell_type": "markdown",
   "metadata": {
    "deletable": false,
    "editable": false,
    "id": "M2QMGX4Nuqg4",
    "nbgrader": {
     "cell_type": "markdown",
     "checksum": "334edff32e35d9a40de392f41d64172c",
     "grade": false,
     "grade_id": "cell-63f90496efbfa02b",
     "locked": true,
     "schema_version": 3,
     "solution": false,
     "task": false
    }
   },
   "source": [
    "### Computational Guided Inquiry for PChem (Neshyba & Guasco, 2024)\n",
    "\n",
    "# Interpreting U as a function of temperature and volume\n",
    "\n",
    "## Introduction to $U$\n",
    "We've been introduced already to the thermodynamic surface of $U(T,V)$,\n",
    "<p style='text-align: center;'>\n",
    "<img src=\"http://webspace.pugetsound.edu/facultypages/nesh/Notebook/UVT figure 4.png\" height=\"300\" width=\"300\"/>  \n",
    "<strong>Figure 1</strong>. Thermodynamic surfaces of the internal energy, $U$, in a temperature/volume state space.\n",
    "</p>\n",
    "\n",
    "We've also seen examples of the *slopes* of $U(T,V)$, defined formally as \n",
    "\n",
    "$$\n",
    "C_V =  \\big(\\dfrac{\\partial U}{\\partial T}\\big)_V \\ \\ \\ \\ (1)\n",
    "$$\n",
    "\n",
    "$$ \n",
    "\\pi_T =  \\big(\\dfrac{\\partial U}{\\partial V}\\big)_T \\ \\ \\ \\ (2)\n",
    "$$\n",
    "\n",
    "As you know, $C_V$ and $\\pi_T$ are also thermodynamic surfaces. It also turns out that they are directly measurable: \n",
    "\n",
    "- If you put some gas in a fixed-volume container, heat it up, and measure how much the temperature goes up, you can figure out $C_V$. \n",
    "- The 19th century physicist (and brewer!) James Joule$^1$ was the first to measure $\\pi_T$ for gases. He got a value that was very small, and the uncertainty in his result was too great to make meaningful statements about it. We now know that, while small, $\\pi_T$ is nonzero for real gases. \n",
    "\n",
    "In this exercise, we're going to do a little sleuthing. We'll consider $U$ of three \"mystery\" gases, all in $T,V$ state space, and try to figure out which are depictions of real gases and which are ideal, and which correspond to a monatomic gas, or a polyatomic one. We'll be able to do this by looking closely at the temperature and volume dependence of $U$ for each gas.\n",
    "\n",
    "## Translational contributions to $U$\n",
    "\n",
    "<p style='text-align: center;'>\n",
    "<img src=\"https://miro.medium.com/v2/resize:fit:668/1*avcGLryPlvBJQ6lABc_4dg.gif\" height=\"200\" width=\"200\"/>  \n",
    "<strong>Figure 2</strong>. Translational motion of molecules.\n",
    "</p>\n",
    "\n",
    "As we've seen, the average translational energy of a mole of gas molecules can be deduced from the equipartition theorem: since the atoms making up a monatomic ideal gas have, on average, ${1 \\over 2} RT$ of translational kinetic energy for each of three spatial dimensions, we arrive at ${3 \\over 2} RT$ altogether. For a *monatomic gas*, that's all the energy we need to take account of, so for them the internal energy can be written\n",
    "\n",
    "$$\n",
    "U_{ideal}(T) = {3 \\over 2} RT \\times n \\ \\ \\ \\ (3) \n",
    "$$\n",
    "\n",
    "where $n$ is the number of moles in a gas sample, and R is the universal gas constant.\n",
    "\n",
    "An important aspect of the above formulation is that the dependence of the energy on the temperature is *linear*, which in turn means that monatomic gases have constant $C_V$.  \n",
    "\n",
    "## Rotational contributions to $U$\n",
    "\n",
    "Monatomic gas molecules can't \"rotate\", so Eq. (3) above is a pretty good description. But molecules with two or more atoms *can* rotate, and this represents a different way for them to soak up energy. The key idea is the *moment of inertia* that a molecule has. Here are some guidelines on this:\n",
    "\n",
    "- Polyatomic and linear gas molecules (like $F_2$ and $CO_2$), having just one moment of inertia, can rotate in two directions in space (\"in-plane\" and \"out-of-plane\"). \n",
    "- Nonlinear gas molecules (like $H_2O$), having $three$ distinct moments of inertial, can rotate in three ways (as seen in the figure below).\n",
    "\n",
    "<p style='text-align: center;'>\n",
    "<img src=\"https://www.huntresearchgroup.org.uk/movies/water_rotation_animation.gif\" height=\"200\" width=\"200\"/>  \n",
    "<strong>Figure 3</strong>. Rotational motions of a water molecule.\n",
    "</p>\n",
    "\n",
    "Mathematically, and in keeping with the equipartition theory, we can revise Eq. (3) to read\n",
    "\n",
    "$$\n",
    "U_{ideal}(T) = [{3 \\over 2} RT + f_{rot}(T) ] n \\ \\ \\ \\ (4) \n",
    "$$\n",
    "\n",
    "where $f_{rot}=0$ for a monatomic gas, ${2 \\over 2}RT$ for polyatomic linear gas molecules, and ${3 \\over 2}RT$ nonlinear gas molecules.\n",
    "\n",
    "## Vibrational contributions to $U$ \n",
    "\n",
    "### In the classical regime (i.e., high temperatures)\n",
    "Molecular gases (like $F_2$, $H_2O$, etc.), can also vibrate, provided the temperature is high enough. This high-temperature limit is also called the *classical limit*, for reasons we'll get to presently. Examples are shown in the figure below.\n",
    "\n",
    "<p style='text-align: center;'>\n",
    "<img src=\"https://bestanimations.com/Science/Chemistry/molecules/3-molecules-vibrating.GIF\" height=\"400\" width=\"400\"/>  \n",
    "<strong>Figure 4</strong>. Vibrational motions of a water molecule.\n",
    "</p>\n",
    "\n",
    "As this figure demonstrates, vibrations provide two different ways for a molecule to store energy. One is as *kinetic* energy -- since vibrations involve atoms moving. Another way is as *potential* energy. A good way to think about the latter is that molecules, like springs, can be coiled up or stretched out; either way, there's potential energy. Because of this, we say that each vibrational degree of freedom stores not just ${1 \\over 2} RT$ of energy, but twice that amount: a full $RT$! \n",
    "\n",
    "There is one more complication. Whereas diatomic molecules can only vibrate by stretching, molecules with three or more atoms possess multiple ways (called *vibrational modes*). In the water molecule shown above, for example, we see that there are three vibrational modes: a symmetric stretch, an asymmetric stretch, and a bend. Each one can soak up a full $RT$ of energy! \n",
    "\n",
    "Putting all this together, we can modify Eq. (4) as\n",
    "\n",
    "$$\n",
    "U_{ideal}(T) = [{3 \\over 2} RT + f_{rot}(T) + f_{vib}(T) ] n \\ \\ \\ \\ (5) \n",
    "$$\n",
    "\n",
    "where (in the classical limit):\n",
    "\n",
    "- $f_{vib}(T)=RT$ for diatomic molecules (like $F_2$)\n",
    "- $f_{vib}(T)=3RT$ nonlinear triatomic molecules (like $H_2O$)\n",
    "- $f_{vib}(T)=x \\times RT$ molecules with $x$ vibrational modes\n",
    "\n",
    "### In the sub-classical regime (i.e., low temperatures)\n",
    "What's going on at low temperatures? As it turns out, low temperatures reveal a quantum mechanical effect that's not evident at high temperature. Here's how the story goes:\n",
    "\n",
    "At low enough temperature, quantum mechanics allows (actually, forces) all molecules to vibrate a tiny amount, with an energy called the *ground-state* vibrational energy, but that's *all* the vibrational motion they get or can have. That, in turn, means that when you add heat to a gas sample at very low temperature, *vibrations can't soak up any of that heat*. This is equivalent to saying\n",
    "\n",
    "- $f_{vib} \\approx 0$ for any molecule in the low-temperature limit\n",
    "\n",
    "Equivalently, we'd say that the vibrational contribution to $C_V$ is zero at low temperature.\n",
    "\n",
    "### Transitioning from sub-classical to classical regimes\n",
    "The reason for the above restriction is that molecules require a certain *minimum* amount of energy -- called a *quantum* of energy -- in order to vibrate with any energy in excess of the ground-state energy just mentioned. Typically, that quantum of energy is on the order of a dozens of $kJ \\over mol$. As we've seen, the energy available from collisions with other molecules is given by ${3 \\over 2} RT$, so at really low temperatures ($T$ close to $0 K$), there's not enough collisional energy to excite vibrations. Even at room temperature, when ${3 \\over 2} RT \\approx 4 {kJ/mol}$, the collisional energy is too small to excite the vibrational motion of more than a tiny fraction of molecules.\n",
    "\n",
    "As the temperature goes up, molecules are moving faster, and ${3 \\over 2} RT$ gets closer to that minimum quantum of energy required to make molecules vibrate. Some molecules begin vibrating. As temperature continues to increase, eventually all the molecules in a sample will have access to those higher vibrational states. That's the high-temperature, classical limit!\n",
    "\n",
    "On the way (from low temperature to high), there's a characteristic *thermal activation threshold*, which we'll call $T^*$. Crossing that threshold is called *thermal activation*, or more precisely *vibrational thermal activation*. Each molecule has a characteristic thermal activation temperature: for $F_2$, $T^* \\approx 400 K$, while for $HCl$, $T^* \\approx 1300 K$. Polyatomic molecules would, in principle, exhibit multiple activation temperatures (one for each vibrational mode), although these tend to blend together. In fact, what often sees is that $U(T)$ is increasing nonlinearly with temperature (or, equivalently, that the slope, $C_V$, is not constant). An example is shown in Fig. 2. \n",
    "\n",
    "<p style='text-align: center;'>\n",
    "<img src=\"http://webspace.pugetsound.edu/facultypages/nesh/Notebook/UVT figure 1.png\" height=\"500\" width=\"500\"/>  \n",
    "<strong>Figure 2</strong>. Internal energy of fluorine gas as a function of temperature.\n",
    "</p>\n",
    "\n",
    "To summarize, if you're tasked with determining whether a gas is monatomic or polyatomic, and all you have is a thermodynamic surface of $U$ to look at, just look to see whether $U$ increases linearly or nonlinearly with increasing temperature. If linear, you have a monatomic gas, if nonlinear, it's polyatomic!\n",
    "\n",
    "## Volume dependence of the internal energy\n",
    "You may have noticed there isn’t any volume dependence in the equations we've presented so far. There is a physical meaning behind this: since the ideal gas law neglects molecular size and intermolecular attractions, we say that the atoms or molecules in an ideal gas don’t know about one another. So you can think of the formulas for $U$ presented so far as being the energy of $n$ moles of isolated, non-interacting gas molecules.\n",
    "\n",
    "What happens in real gases, where gaseous molecules *do* interact with one another? Figure 3 illustrates a typical situation. \n",
    "\n",
    "- When two gas molecules are very far from each other (i.e., at the far right of the graph), their intermolecular potential tends to zero -- that means, no interactions between them. \n",
    "- As our two molecules get closer to one another, they usually experience a mutual *attraction*. This attraction is signaled by a *lowering* of potential energy as the molecules get closer. (It's sometimes helpful to think of this in the reverse way: we know molecules are attracted to one another if it costs energy to pull them apart.) \n",
    "- When two molecules get *very* close, they push apart -- an intermolecular *repulsion*. This behavior can be seen in Fig. 3 by an *increase* in potential energy at close intermolecular distances (i.e., at the far left of the graph).\n",
    "\n",
    "<p style='text-align: center;'>\n",
    "<img src=\"https://www.researchgate.net/profile/Amirhessam-Tahmassebi-2/publication/315444340/figure/fig8/AS:473991296098311@1490019739527/Lennard-Jones-potential-intermolecular-potential-energy-indicating-the-repulsive-and_Q640.jpg\" height=\"300\" width=\"400\"/>\n",
    "<strong>Figure 3</strong>. Intermolecular potential energy between two gas molecules as a function of the intermolecular distance $r$ (ref. 2).\n",
    "</p>\n",
    "\n",
    "The foregoing leads us to the following modification of Eq. (5):\n",
    "\n",
    "$$\n",
    "U_{real}(T,V) = [\\dfrac{3}{2} RT + f_{rot}(T) + f_{vib}(T)+ f_{intermol}(T,V)] \\times n \\ \\ \\ \\ (6)\n",
    "$$\n",
    "\n",
    "where $f_{intermol}$ represents the sum of all the intermolecular interactions at any given instant in time. Notice that we're writing this as $f_{intermol}(T,V)$ to reflect the fact that volume makes a difference. We've also introduced a subscript, \"real\", to this formula. Why? If a gas behaves as ideal, its $U$ *can't have any volume dependence.* That means all the equations for $U$ we've presented so far, Eqs. 3-5, could describe an ideal gas, but Eq. 6 can't.\n",
    "\n",
    "So here's a question: will $U_{real}$ be bigger or smaller than $U_{ideal}$, all else equal? That depends on the sign of $f_{intermol}$, which in turn depends on how close the molecules are to each other (as Fig. 3 shows): \n",
    "\n",
    "1. For large volumes, molecules will usually be very far apart (extreme right in Fig. 3), so we can expect $f_{intermol} \\approx 0$. Since the only difference between $U_{real}$ and $U_{ideal}$ is $f_{intermol}$, we can predict that $U_{real} \\approx U_{ideal}$, i.e., real gases will tend to behave as ideal gases at large volumes.\n",
    "\n",
    "1. For intermediate volumes, molecules will be at an intermediate distance from one another (the middle region in Fig. 3), so we can expect $f_{intermol}<0$. Equation (3) says we can therefore predict that $U_{real} < U_{ideal}$.  \n",
    "\n",
    "1. For very small volumes, there will be a lot of molecules close to one another (the region at the extreme left in Fig. 3), so we can expect $f_{intermol} > 0$. That means we can predict that $U_{real}>U_{ideal}$ (but see the caveat below).\n",
    "\n",
    "To summarize, if you're tasked with determining whether a gas is ideal or real, and all you have is a thermodynamic surface of $U$, just look to see whether there's any volume dependence. If there is, you are probably looking at a representation of a real gas. If not, it's probably ideal.\n",
    "\n",
    "## A python note\n",
    "In this exercise, it will be useful to pull out isotherms and isochores from a given thermodynamic surfaces. You already know how to do this for the first and last slice -- but what if you want a slice somewhere in the middle? And what if you want a *particular* isotherm or isochore? This exercise shows you how to do that.\n",
    "\n",
    "## Caveat\n",
    "If you compress a gas to very small volumes, it tends to condense to form a liquid. We won't be getting to such small volumes in this exercise, so don't expect to see $U_{real}>U_{ideal}$.\n",
    "\n",
    "## About units\n",
    "The data stored in the files that you'll be picking up in this exercise are *almost* all SI, with the exception of the energy values stored in Ugrid1.txt, etc. We're going to make this an all-SI CGI, so we'll be converting the energies to Joules \"on the fly\", i.e., as we load that data into Python.\n",
    "\n",
    "## Learning Goals\n",
    "1. Given a thermodynamic surface $U(T,V)$, I can tell whether a gas is ideal vs real, and whether it is monatomic or polyatomic.\n",
    "1. Given a thermodynamic surface  $U(T,V)$, I can slice out isotherms (or isochores) that are as close as possible to a particular temperature (or volume).\n",
    "\n",
    "## References  \n",
    "1. Wikipedia James Prescott Joule - Wikipedia, the free encyclopedia http://en.wikipedia.org/wiki/James_Prescott_Joule (accessed Aug 24, 2013).  \n",
    "1. Lennard-Jones Potential (https://www.researchgate.net/profile/Amirhessam-Tahmassebi-2/publication/315444340/figure/fig8/AS:473991296098311@1490019739527/Lennard-Jones-potential-intermolecular-potential-energy-indicating-the-repulsive-and_Q640.jpg (accessed September 9, 2024).  "
   ]
  },
  {
   "cell_type": "code",
   "execution_count": null,
   "metadata": {
    "deletable": false,
    "editable": false,
    "id": "tVKrPxLxuqhA",
    "nbgrader": {
     "cell_type": "code",
     "checksum": "a2748983b0fd7cc9a5252334a0bcce2a",
     "grade": false,
     "grade_id": "cell-956068ac4508fc69",
     "locked": true,
     "schema_version": 3,
     "solution": false,
     "task": false
    }
   },
   "outputs": [],
   "source": [
    "import pint; from pint import UnitRegistry; AssignQuantity = UnitRegistry().Quantity\n",
    "import warnings; warnings.filterwarnings(\"ignore\", \"The unit of the quantity is stripped when downcasting to ndarray\")\n",
    "import numpy as np\n",
    "import matplotlib.pyplot as plt\n",
    "import sys; sys.path.append('/home'); import PchemLibrary as PL"
   ]
  },
  {
   "cell_type": "code",
   "execution_count": null,
   "metadata": {
    "deletable": false,
    "editable": false,
    "id": "H679WbHZuqhB",
    "nbgrader": {
     "cell_type": "code",
     "checksum": "64db2aa080b9ddcf7bcbb41ea41cf79f",
     "grade": false,
     "grade_id": "cell-b95d48cce28c2ed3",
     "locked": true,
     "schema_version": 3,
     "solution": false,
     "task": false
    }
   },
   "outputs": [],
   "source": [
    "%matplotlib notebook"
   ]
  },
  {
   "cell_type": "markdown",
   "metadata": {
    "deletable": false,
    "editable": false,
    "id": "Z6EcoTrzuqhB",
    "nbgrader": {
     "cell_type": "markdown",
     "checksum": "96b351363158baac3ce949c885218aa4",
     "grade": false,
     "grade_id": "cell-3e3f9a4aa9c35919x",
     "locked": true,
     "schema_version": 3,
     "solution": false,
     "task": false
    }
   },
   "source": [
    "### Inspecting the data\n",
    "The cell below loads and plots three internal energy state functions on a $(T,V)$ state space grid, as previously."
   ]
  },
  {
   "cell_type": "code",
   "execution_count": null,
   "metadata": {
    "deletable": false,
    "editable": false,
    "id": "09pNsJAWuqhB",
    "nbgrader": {
     "cell_type": "code",
     "checksum": "9fb347bdde79ce6c846e3c620dd5d23f",
     "grade": false,
     "grade_id": "cell-6e89822c7f288b89",
     "locked": true,
     "schema_version": 3,
     "solution": false,
     "task": false
    }
   },
   "outputs": [],
   "source": [
    "# Loading the thermodynamic state space\n",
    "Tgrid = np.loadtxt('Tgrid.txt'); Tgrid = AssignQuantity(Tgrid,'K')\n",
    "Vgrid = np.loadtxt('Vgrid.txt'); Vgrid = AssignQuantity(Vgrid,'m^3/mol'); Vgrid.ito('L/mol')\n",
    "print(np.shape(Tgrid))\n",
    "\n",
    "# Loading the three internal energy state functions \n",
    "Ugrid1 = np.loadtxt('Ugrid1.txt'); Ugrid1 = AssignQuantity(Ugrid1,'kJ/mol')\n",
    "Ugrid2 = np.loadtxt('Ugrid2.txt'); Ugrid2 = AssignQuantity(Ugrid2,'kJ/mol')\n",
    "Ugrid3 = np.loadtxt('Ugrid3.txt'); Ugrid3 = AssignQuantity(Ugrid3,'kJ/mol')\n",
    "Ulist = [Ugrid1,Ugrid2,Ugrid3]\n",
    "\n",
    "# Axis labels\n",
    "xlabel = 'T '+str(Tgrid.units)\n",
    "ylabel = 'V '+str(Vgrid.units)\n",
    "zlabel = 'U '+str(Ugrid1.units)\n",
    "llist = [xlabel, ylabel, zlabel]\n",
    "\n",
    "# Labeling lists for multiple surfaces\n",
    "tlist = ['U1','U2','U3']\n",
    "clist = ['reds','greens','blues']\n",
    "\n",
    "# This plots three surfaces with specified colors, titles, and x-y-z labels\n",
    "PL.plot_surfaces(Tgrid,Vgrid,Ulist,colorlist=clist,titlelist=tlist,labellist=llist).show()"
   ]
  },
  {
   "cell_type": "markdown",
   "metadata": {
    "deletable": false,
    "editable": false,
    "id": "Z6EcoTrzuqhB",
    "nbgrader": {
     "cell_type": "markdown",
     "checksum": "702edfc893fb03bca93bc0c07b03760d",
     "grade": false,
     "grade_id": "cell-3e3f9a4aa9c35919",
     "locked": true,
     "schema_version": 3,
     "solution": false,
     "task": false
    }
   },
   "source": [
    "### Plotting volume as a function of the volume index\n",
    "The cell below carries out a plotting command similar to what you've seen before, but the x-axis is just the *index* (position) of the volume. Then, inspect this figure to determine which index corresponds to the volume closest to $V=2 Liters. Don't forget that indexing starts at zero -- and indices are whole numbers. "
   ]
  },
  {
   "cell_type": "code",
   "execution_count": null,
   "metadata": {
    "deletable": false,
    "editable": false,
    "id": "09pNsJAWuqhB",
    "nbgrader": {
     "cell_type": "code",
     "checksum": "5e435ff216610ee75303ed961db72ac1",
     "grade": false,
     "grade_id": "cell-7ab9d2b7d6f2d670",
     "locked": true,
     "schema_version": 3,
     "solution": false,
     "task": false
    }
   },
   "outputs": [],
   "source": [
    "Varray = Vgrid[0,:]\n",
    "plt.figure()\n",
    "plt.plot(Varray,'o')\n",
    "plt.grid(True)\n",
    "plt.xlabel('Index in state space')\n",
    "plt.ylabel('Volume in state space')"
   ]
  },
  {
   "cell_type": "markdown",
   "metadata": {
    "deletable": false,
    "editable": false,
    "nbgrader": {
     "cell_type": "markdown",
     "checksum": "5900b5ab63d0005f033be0314d327b45",
     "grade": false,
     "grade_id": "cell-a258637fb6e36da2",
     "locked": true,
     "schema_version": 3,
     "solution": false,
     "task": false
    }
   },
   "source": [
    "### Verifying that you got the right index\n",
    "\n",
    "Then, in the cell below, create a variable isochoreindex, equal to the index you just chose, and use it to verify your choice. In other words, if you think $V=2 \\ L/mol$ has index=20 (it doesn't), you'd enter\n",
    "\n",
    "\n",
    "    isochoreindex = 20\n",
    "    print(Varray[isochoreindex])\n",
    "    "
   ]
  },
  {
   "cell_type": "code",
   "execution_count": null,
   "metadata": {
    "deletable": false,
    "nbgrader": {
     "cell_type": "code",
     "checksum": "a80e0d3bbc05ec03cf199a947e972970",
     "grade": true,
     "grade_id": "cell-89e72aea12e19edf",
     "locked": false,
     "points": 2,
     "schema_version": 3,
     "solution": true,
     "task": false
    }
   },
   "outputs": [],
   "source": [
    "# Assign a value to isochoreindex\n",
    "# Your code here \n",
    "\n",
    "\n",
    "# Print the actual volume corresponding to that index\n",
    "print('Volume coming closest to 2 L = ', Varray[isochoreindex])"
   ]
  },
  {
   "cell_type": "markdown",
   "metadata": {
    "deletable": false,
    "editable": false,
    "nbgrader": {
     "cell_type": "markdown",
     "checksum": "562f1507e2fa3fd17ab521b0988b70a6",
     "grade": false,
     "grade_id": "cell-da2a6c25776c6eae",
     "locked": true,
     "schema_version": 3,
     "solution": false,
     "task": false
    }
   },
   "source": [
    "### Plotting temperature as a function of the temperature index\n",
    "In the cell below, you'll do something similar to the above:\n",
    "\n",
    "1. Slice out a temperature array from the state space, using something like \"Tarray = Tgrid[:,0]\".\n",
    "1. Make a plot of Tarray as a function of the *index* of Tarray. \n",
    "1. Inspect it to figure out which index corresponds to a temperature closest to 298 K."
   ]
  },
  {
   "cell_type": "code",
   "execution_count": null,
   "metadata": {
    "deletable": false,
    "nbgrader": {
     "cell_type": "code",
     "checksum": "1734f063e39aa5451fe074cee22b29ff",
     "grade": true,
     "grade_id": "cell-44f93882d9743eb1",
     "locked": false,
     "points": 2,
     "schema_version": 3,
     "solution": true,
     "task": false
    }
   },
   "outputs": [],
   "source": [
    "# Slice out a temperature array from the state space\n",
    "# Your code here \n",
    "\n",
    "\n",
    "# Make a plot of Tarray as a function of its index\n",
    "# Your code here \n"
   ]
  },
  {
   "cell_type": "markdown",
   "metadata": {
    "deletable": false,
    "editable": false,
    "nbgrader": {
     "cell_type": "markdown",
     "checksum": "25d93fe739a24fdf59ba81a631ba5a40",
     "grade": false,
     "grade_id": "cell-5e27c20b3070cf86",
     "locked": true,
     "schema_version": 3,
     "solution": false,
     "task": false
    }
   },
   "source": [
    "### Verifying that you got the right index\n",
    "\n",
    "In the cell below, create a variable isothermindex, equal to the index you just chose, and use it to verify your choice. In other words, if you think $T=298 \\ K$ index has index=30 (it doesn't) you'd enter\n",
    "\n",
    "\n",
    "    isothermindex = 30\n",
    "    print(Tarray[isothermindex])"
   ]
  },
  {
   "cell_type": "code",
   "execution_count": null,
   "metadata": {
    "deletable": false,
    "nbgrader": {
     "cell_type": "code",
     "checksum": "2cf990133ef4e06f433ebf2aa74344fa",
     "grade": true,
     "grade_id": "cell-1c01eb48f80d9919",
     "locked": false,
     "points": 2,
     "schema_version": 3,
     "solution": true,
     "task": false
    }
   },
   "outputs": [],
   "source": [
    "# Create a new variable, isothermindex, whose value is the index you just decided on\n",
    "# Your code here \n",
    "\n",
    "\n",
    "# Print out Tarray[isothermindex] to see how close you came.\n",
    "# Your code here \n"
   ]
  },
  {
   "cell_type": "markdown",
   "metadata": {
    "deletable": false,
    "editable": false,
    "id": "vq29pGhxuqhB",
    "nbgrader": {
     "cell_type": "markdown",
     "checksum": "ec895a8fa8bbb2d7352d061da2fcfcab",
     "grade": false,
     "grade_id": "cell-1c2491d2a45110e5",
     "locked": true,
     "schema_version": 3,
     "solution": false,
     "task": false
    }
   },
   "source": [
    "### Plotting isochores\n",
    "The cell below graphs the 2-liter isochore as a function of temperature, for each gas (all on one plot). Note how handy the annotation \"label/legend\" technique is!"
   ]
  },
  {
   "cell_type": "code",
   "execution_count": null,
   "metadata": {
    "deletable": false,
    "editable": false,
    "id": "Ez9ZmQauuqhC",
    "nbgrader": {
     "cell_type": "code",
     "checksum": "053c4bb804c8d39694577c25d4f6af4d",
     "grade": false,
     "grade_id": "cell-ce7c433d2dfb2a55",
     "locked": true,
     "schema_version": 3,
     "solution": false,
     "task": false
    },
    "outputId": "498f5c88-9316-4401-a46c-4e289068b051"
   },
   "outputs": [],
   "source": [
    "# Slice out the desired isochores\n",
    "Ugrid1isochore = Ugrid1[:,isochoreindex]\n",
    "Ugrid2isochore = Ugrid2[:,isochoreindex]\n",
    "Ugrid3isochore = Ugrid3[:,isochoreindex]\n",
    "\n",
    "# Open a figure box and plot the isochores\n",
    "plt.figure()\n",
    "plt.plot(Tarray, Ugrid1isochore, 'red', label='gas 1')\n",
    "plt.plot(Tarray, Ugrid2isochore, 'green', label='gas 2')\n",
    "plt.plot(Tarray, Ugrid3isochore, 'blue', label='gas 3')\n",
    "\n",
    "# Annotate\n",
    "plt.legend()\n",
    "plt.xlabel('T '+ str(Tgrid.units))\n",
    "plt.ylabel('U '+ str(Ugrid1.units))\n",
    "plt.grid(True)"
   ]
  },
  {
   "cell_type": "markdown",
   "metadata": {
    "deletable": false,
    "editable": false,
    "nbgrader": {
     "cell_type": "markdown",
     "checksum": "820406b6c92639f2a8695ba5f4d7e34c",
     "grade": false,
     "grade_id": "cell-5528ba404cbb91a3",
     "locked": true,
     "schema_version": 3,
     "solution": false,
     "task": false
    }
   },
   "source": [
    "### Your turn: plotting isotherms\n",
    "In the cell below, graph the 298-K isotherms as a function of volume, for each gas (all on one plot), using label/legend annotation."
   ]
  },
  {
   "cell_type": "code",
   "execution_count": null,
   "metadata": {
    "deletable": false,
    "id": "7CiuxNuTuqhE",
    "nbgrader": {
     "cell_type": "code",
     "checksum": "a1308d25f4885cdd127492cac500efb7",
     "grade": true,
     "grade_id": "cell-f0ba63aaf7c78825",
     "locked": false,
     "points": 3,
     "schema_version": 3,
     "solution": true,
     "task": false
    },
    "outputId": "31dba1fb-ccb6-4c4f-db32-20c8f5d27e5c"
   },
   "outputs": [],
   "source": [
    "# Slice out the 298 K isotherms\n",
    "# Your code here \n",
    "\n",
    "\n",
    "# Open a figure box and plot the isotherms ... the dashed formatting is for publication, not needed for students\n",
    "# Your code here \n",
    "\n",
    "\n",
    "# Annotate\n",
    "# Your code here \n"
   ]
  },
  {
   "cell_type": "markdown",
   "metadata": {
    "deletable": false,
    "editable": false,
    "id": "JTqIBQBruqhE",
    "nbgrader": {
     "cell_type": "markdown",
     "checksum": "2b075acfb02d775e03cc7bacfb309ebe",
     "grade": false,
     "grade_id": "cell-7bc76859f6e97edc",
     "locked": true,
     "schema_version": 3,
     "solution": false,
     "task": false
    }
   },
   "source": [
    "### Your turn\n",
    "In the cell below, write a short paragraph explaining how you know whether each gas is which:\n",
    "- Whether it's monatomic or diatomic\n",
    "- Whether it's real or ideal"
   ]
  },
  {
   "cell_type": "markdown",
   "metadata": {
    "deletable": false,
    "nbgrader": {
     "cell_type": "markdown",
     "checksum": "bef3ab34e3795a3688c9407cded8d3f5",
     "grade": true,
     "grade_id": "cell-3871c81da7fc3c51",
     "locked": false,
     "points": 6,
     "schema_version": 3,
     "solution": true,
     "task": false
    }
   },
   "source": [
    "Gas 1 is ... because ...\n",
    "YOUR ANSWER HERE\n",
    "\n",
    "\n",
    "Gas 2 is ... because ...\n",
    "YOUR ANSWER HERE\n",
    "\n",
    "\n",
    "Gas 3 is ... because ...\n",
    "YOUR ANSWER HERE\n",
    "\n"
   ]
  },
  {
   "cell_type": "markdown",
   "metadata": {
    "deletable": false,
    "editable": false,
    "nbgrader": {
     "cell_type": "markdown",
     "checksum": "64eb58a7fd230583a431439423464ffd",
     "grade": false,
     "grade_id": "cell-623106aefcf8bf87",
     "locked": true,
     "schema_version": 3,
     "solution": false,
     "task": false
    }
   },
   "source": [
    "### Refresh/save/validate\n",
    "Almost done! To double-check everything is OK, repeat the \"Three steps for refreshing and saving your code,\" and press the \"Validate\" button (as usual).\n",
    "\n",
    "### Close/submit/logout\n",
    "1. Close this notebook using the \"File/Close and Halt\" dropdown menu\n",
    "1. Using the Assignments tab, submit this notebook\n",
    "1. Press the Logout tab of the Home Page"
   ]
  }
 ],
 "metadata": {
  "colab": {
   "collapsed_sections": [],
   "name": "4. Visualizing_U.ipynb",
   "provenance": []
  },
  "kernelspec": {
   "display_name": "Python 3 (ipykernel)",
   "language": "python",
   "name": "python3"
  },
  "language_info": {
   "codemirror_mode": {
    "name": "ipython",
    "version": 3
   },
   "file_extension": ".py",
   "mimetype": "text/x-python",
   "name": "python",
   "nbconvert_exporter": "python",
   "pygments_lexer": "ipython3",
   "version": "3.10.2"
  }
 },
 "nbformat": 4,
 "nbformat_minor": 1
}

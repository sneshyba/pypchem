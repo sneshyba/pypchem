{
 "cells": [
  {
   "cell_type": "code",
   "execution_count": 1,
   "metadata": {
    "nbgrader": {
     "grade": false,
     "grade_id": "cell-6ddaa61942c41168",
     "locked": true,
     "schema_version": 3,
     "solution": false,
     "task": false
    }
   },
   "outputs": [],
   "source": [
    "import sympy as sp\n",
    "import numpy as np\n",
    "from pint import UnitRegistry\n",
    "ureg = UnitRegistry()\n",
    "AssignQuantity = ureg.Quantity"
   ]
  },
  {
   "cell_type": "code",
   "execution_count": 2,
   "metadata": {},
   "outputs": [],
   "source": [
    "M = AssignQuantity(18.0153,'g/mol')\n",
    "R = AssignQuantity(8.314,'J/mol/K')\n",
    "n = AssignQuantity(1,'mol')"
   ]
  },
  {
   "cell_type": "markdown",
   "metadata": {},
   "source": [
    "### Defining heat capacity functions for water"
   ]
  },
  {
   "cell_type": "code",
   "execution_count": 3,
   "metadata": {},
   "outputs": [],
   "source": [
    "def CP_H2Ogas(T,AssignQuantity):\n",
    "    \"\"\" www.engineeringtoolbox.com/water-vapor-d_979.html \"\"\"\n",
    "    m = AssignQuantity(0.0067,'J/mol/K^2')\n",
    "    CP0 = AssignQuantity(33.58,'J/mol/K')\n",
    "    T0 = AssignQuantity(300,'K')\n",
    "    CP = CP0 + m*(T-T0)\n",
    "    return CP"
   ]
  },
  {
   "cell_type": "code",
   "execution_count": 4,
   "metadata": {},
   "outputs": [],
   "source": [
    "def CP_H2Oice(T,AssignQuantity):\n",
    "    \"\"\" www.liquisearch.com/heat_capacity/table_of_specific_heat_capacities \"\"\"\n",
    "    CP = AssignQuantity(38.0,'J/mol/K')\n",
    "    return CP"
   ]
  },
  {
   "cell_type": "markdown",
   "metadata": {},
   "source": [
    "### Your turn\n",
    "In the cell below, create a similar function for evaluating the heat capacity of liquid water. Call your function \"CP_H2Oliq\"."
   ]
  },
  {
   "cell_type": "code",
   "execution_count": 5,
   "metadata": {
    "nbgrader": {
     "grade": true,
     "grade_id": "cell-084e376d3ba6c33c",
     "locked": false,
     "points": 2,
     "schema_version": 3,
     "solution": true,
     "task": false
    }
   },
   "outputs": [],
   "source": [
    "### BEGIN SOLUTION ###\n",
    "def CP_H2Oliq(T,AssignQuantity):\n",
    "    \"\"\" webbook.nist.gov \"\"\"\n",
    "    A = AssignQuantity(-203.606,'J/mol/K')\n",
    "    B = AssignQuantity(1523.290,'J/mol/K^2')\n",
    "    C = AssignQuantity(-3196.413,'J/mol/K^3')\n",
    "    D = AssignQuantity(2474.455,'J/mol/K^4')\n",
    "    E = AssignQuantity(3.855326,'J/mol K')\n",
    "    t = T/1000\n",
    "    CP = A + B*t + C*t**2 + D*t**3 + E/t**2\n",
    "    return CP\n",
    "### END SOLUTION ###"
   ]
  },
  {
   "cell_type": "markdown",
   "metadata": {},
   "source": [
    "### Examining the heat capacities\n",
    "The cell below shows how to use these functions for a temperature of 298 K."
   ]
  },
  {
   "cell_type": "code",
   "execution_count": 6,
   "metadata": {},
   "outputs": [
    {
     "name": "stdout",
     "output_type": "stream",
     "text": [
      "33.5666 joule / kelvin / mole\n",
      "75.37700524361435 joule / kelvin / mole\n",
      "38.0 joule / kelvin / mole\n"
     ]
    }
   ],
   "source": [
    "# Examining values at 298 K\n",
    "T = AssignQuantity(298,'K')\n",
    "CP_gas = CP_H2Ogas(T,AssignQuantity); print(CP_gas)\n",
    "CP_liq = CP_H2Oliq(T,AssignQuantity); print(CP_liq)\n",
    "CP_ice = CP_H2Oice(T,AssignQuantity); print(CP_ice)"
   ]
  },
  {
   "cell_type": "markdown",
   "metadata": {},
   "source": [
    "### Your turn\n",
    "In the cell below, evaluate the heat capacities at 373 K."
   ]
  },
  {
   "cell_type": "code",
   "execution_count": 7,
   "metadata": {
    "nbgrader": {
     "grade": true,
     "grade_id": "cell-2b2293d5e773710d",
     "locked": false,
     "points": 2,
     "schema_version": 3,
     "solution": true,
     "task": false
    }
   },
   "outputs": [
    {
     "name": "stdout",
     "output_type": "stream",
     "text": [
      "34.0691 joule / kelvin / mole\n",
      "75.98999884816186 joule / kelvin / mole\n",
      "38.0 joule / kelvin / mole\n"
     ]
    }
   ],
   "source": [
    "# Examining values at 373 K\n",
    "### BEGIN SOLUTION\n",
    "T = AssignQuantity(373,'K')\n",
    "CP_gas = CP_H2Ogas(T,AssignQuantity); print(CP_gas)\n",
    "CP_liq = CP_H2Oliq(T,AssignQuantity); print(CP_liq)\n",
    "CP_ice = CP_H2Oice(T,AssignQuantity); print(CP_ice)\n",
    "### END SOLUTION"
   ]
  },
  {
   "cell_type": "markdown",
   "metadata": {
    "nbgrader": {
     "grade": false,
     "grade_id": "cell-0e1f6df046bb7d5f",
     "locked": true,
     "schema_version": 3,
     "solution": false,
     "task": false
    }
   },
   "source": [
    "### Comparison to values predicted from equipartition\n",
    "Below, print the values of $C_P$ you'd expect for water if it were an ideal gas, in the low-temperature (non-vibrating) and classical (vibrating) limits."
   ]
  },
  {
   "cell_type": "code",
   "execution_count": 8,
   "metadata": {
    "nbgrader": {
     "grade": true,
     "grade_id": "cell-642d4454a046e5a1",
     "locked": false,
     "points": 2,
     "schema_version": 3,
     "solution": true,
     "task": false
    }
   },
   "outputs": [
    {
     "name": "stdout",
     "output_type": "stream",
     "text": [
      "33.256 joule / kelvin\n",
      "58.198 joule / kelvin\n"
     ]
    }
   ],
   "source": [
    "### BEGIN SOLUTION ###\n",
    "CP_equipartition_LowTemp = (3/2 + 3/2 + 1)*R*n\n",
    "CP_equipartition_Classical = (3/2 + 3/2 + 3 + 1)*R*n\n",
    "\n",
    "print(CP_equipartition_LowTemp)\n",
    "print(CP_equipartition_Classical)\n",
    "### END SOLUTION ### "
   ]
  },
  {
   "cell_type": "markdown",
   "metadata": {
    "nbgrader": {
     "grade": false,
     "grade_id": "cell-d0343dc95c2797cb",
     "locked": true,
     "schema_version": 3,
     "solution": false,
     "task": false
    }
   },
   "source": [
    "### Pause for analysis\n",
    "From your results, would you say that water vapor at 298 K is vibrating? (Explain a little.)"
   ]
  },
  {
   "cell_type": "markdown",
   "metadata": {
    "nbgrader": {
     "grade": true,
     "grade_id": "cell-dc2bf109376e4c4b",
     "locked": false,
     "points": 2,
     "schema_version": 3,
     "solution": true,
     "task": false
    }
   },
   "source": []
  },
  {
   "cell_type": "markdown",
   "metadata": {
    "nbgrader": {
     "grade": false,
     "grade_id": "cell-5bec79057972e1a2",
     "locked": true,
     "schema_version": 3,
     "solution": false,
     "task": false
    }
   },
   "source": [
    "### Comparison to other units\n",
    "Below, do these for comparison:\n",
    "- Create a new variable for the liquid (say, CP_liq_mass) that represents the heat capacity of liquid water on a per-gram basis, and print the results.\n",
    "- Convert your result to cal/g/K (you can use the .ito converter for this if you like!). You should get a number close to 1."
   ]
  },
  {
   "cell_type": "code",
   "execution_count": 9,
   "metadata": {
    "nbgrader": {
     "grade": true,
     "grade_id": "cell-86ad67146a62ffe0",
     "locked": false,
     "points": 2,
     "schema_version": 3,
     "solution": true,
     "task": false
    }
   },
   "outputs": [
    {
     "name": "stdout",
     "output_type": "stream",
     "text": [
      "4.218081233627076 joule / gram / kelvin\n",
      "1.008145610331519 calorie / gram / kelvin\n"
     ]
    }
   ],
   "source": [
    "### BEGIN SOLUTION ###\n",
    "CP_liq_mass = CP_liq/M; print(CP_liq_mass)\n",
    "\n",
    "CP_liq_mass.ito('cal/g/K')\n",
    "print(CP_liq_mass)\n",
    "### END SOLUTION ###"
   ]
  },
  {
   "cell_type": "markdown",
   "metadata": {
    "nbgrader": {
     "grade": false,
     "grade_id": "cell-8616acb89790e870",
     "locked": true,
     "schema_version": 3,
     "solution": false,
     "task": false
    }
   },
   "source": [
    "### Symbolic variables with units(!)\n",
    "Turns out that you can assign symbolic variables units! Which will be very useful, because then we can use our existing functions CP_H2Oliq and CP_H2Ogas. Sadly, however, not all sympy functions work properly with symbolic variables that have units, so in the end we'll have to de-dimensionalize our result.\n",
    "\n",
    "We do all this in three steps below -- you should just fill in the missing parts of Step 2, with a line like\n",
    "\n",
    "    CP_liq = CP_H2Oliq(T,AssignQuantity)\n",
    "    \n",
    "for the liquid, and another one like it for the gas."
   ]
  },
  {
   "cell_type": "code",
   "execution_count": 10,
   "metadata": {
    "nbgrader": {
     "grade": true,
     "grade_id": "cell-2567e41705d43802",
     "locked": false,
     "points": 2,
     "schema_version": 3,
     "solution": true,
     "task": false
    }
   },
   "outputs": [
    {
     "name": "stdout",
     "output_type": "stream",
     "text": [
      "2.474455e-6*T**3 - 0.003196413*T**2 + 1.52329*T - 203.606 + 3855326.0/T**2 joule / kelvin / mole\n",
      "0.0067*T + 31.57 joule / kelvin / mole\n",
      "2.474455e-6*T**3 - 0.003196413*T**2 + 1.52329*T - 203.606 + 3855326.0/T**2\n",
      "0.0067*T + 31.57\n"
     ]
    }
   ],
   "source": [
    "# Step 1. Get a symbolic temperature with units\n",
    "T = AssignQuantity(sp.var(\"T\"),'K')\n",
    "\n",
    "# Step 2. Get the heat capacity of the liquid and gas using symbolic T\n",
    "### BEGIN SOLUTION ###\n",
    "CP_liq = CP_H2Oliq(T,AssignQuantity) ; print(CP_liq)\n",
    "CP_gas = CP_H2Ogas(T,AssignQuantity) ; print(CP_gas)\n",
    "### END SOLUTION\n",
    "\n",
    "# Step 3. Strip the dimensions out of CP_liq\n",
    "T = sp.var(\"T\")\n",
    "CP_liq = CP_liq.subs(T,T); print(CP_liq)\n",
    "CP_gas = CP_gas.subs(T,T); print(CP_gas)"
   ]
  },
  {
   "cell_type": "markdown",
   "metadata": {},
   "source": [
    "### Getting $\\Delta(\\Delta H_{vap})$\n",
    "We can find the *change* in $\\Delta H_{vap}$ in going from 298 to 373 K   \n",
    "\n",
    "$$\n",
    "\\Delta(\\Delta H_{vap}) = \\int_{298}^{373} \\Delta C_P \\ dT\n",
    "$$\n",
    "\n",
    "where $\\Delta C_P = C_P(gas) - C_P(liq)$. From that, we can find the enthalpy of vaporization at 373 K using\n",
    "\n",
    "$$\n",
    "\\Delta H_{vap}(373 \\ K) = \\Delta H_{vap}(298 \\ K) + \\Delta(\\Delta H_{vap}) \n",
    "$$\n",
    "\n",
    "where $\\Delta H_{vap}(298 \\ K) = 44,000$ J/mol.\n",
    "\n",
    "That's your challenge in the cell below. Hopefully, you'll end up with a value close to $41,000$ J/mol."
   ]
  },
  {
   "cell_type": "code",
   "execution_count": 11,
   "metadata": {
    "nbgrader": {
     "grade": true,
     "grade_id": "cell-46927351c58157ad",
     "locked": false,
     "points": 5,
     "schema_version": 3,
     "solution": true,
     "task": false
    }
   },
   "outputs": [
    {
     "name": "stdout",
     "output_type": "stream",
     "text": [
      "-2.474455e-6*T**3 + 0.003196413*T**2 - 1.51659*T + 235.176 - 3855326.0/T**2\n",
      "-3123.73463662321\n",
      "40876.2653633768\n"
     ]
    }
   ],
   "source": [
    "### BEGIN SOLUTION ###\n",
    "DeltaCP = CP_gas - CP_liq; print(DeltaCP)\n",
    "DeltaDeltaHvap = sp.integrate(DeltaCP,T).subs(T,373) - sp.integrate(DeltaCP,T).subs(T,298)\n",
    "print(DeltaDeltaHvap)\n",
    "DeltaHvap = 44000 + DeltaDeltaHvap\n",
    "print(DeltaHvap)\n",
    "### END SOLUTION ###"
   ]
  }
 ],
 "metadata": {
  "celltoolbar": "Create Assignment",
  "kernelspec": {
   "display_name": "Python 3 (ipykernel)",
   "language": "python",
   "name": "python3"
  },
  "language_info": {
   "codemirror_mode": {
    "name": "ipython",
    "version": 3
   },
   "file_extension": ".py",
   "mimetype": "text/x-python",
   "name": "python",
   "nbconvert_exporter": "python",
   "pygments_lexer": "ipython3",
   "version": "3.6.9"
  }
 },
 "nbformat": 4,
 "nbformat_minor": 2
}

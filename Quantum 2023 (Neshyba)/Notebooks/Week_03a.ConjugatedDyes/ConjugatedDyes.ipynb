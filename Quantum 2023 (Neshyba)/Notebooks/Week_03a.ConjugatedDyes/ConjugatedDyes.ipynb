{
 "cells": [
  {
   "cell_type": "markdown",
   "id": "745d347b",
   "metadata": {
    "nbgrader": {
     "grade": false,
     "grade_id": "cell-0bfc994ac7016667",
     "locked": true,
     "schema_version": 3,
     "solution": false,
     "task": false
    }
   },
   "source": [
    "### Neshyba 2023\n",
    "\n",
    "\n",
    "# Conjugated Dyes\n",
    "\n",
    "## The shape of $\\pi$-type molecular orbitals of a conjugated dye\n",
    "\n",
    "Figures 1-2 show $\\pi$-type molecular orbitals of two orbitals of the 1,1’-diethyl-4,4’-cyanine ion, with Particle-on-a-Line quantum number assignments.\n",
    "\n",
    "<p style='text-align: center;'>\n",
    "<img src=\"http://webspace.pugetsound.edu/facultypages/nesh/Notebook/4,4' cyanine, n=7.png\" height=\"500\" width=\"500\"/>\n",
    "<strong>Figure 1</strong>. $\\psi_7$ of 1,1’-diethyl-4,4' cyanine, n=7, according to Spartan<sup>TM</sup>. \n",
    "</p>\n",
    "\n",
    "<p style='text-align: center;'>\n",
    "<img src=\"http://webspace.pugetsound.edu/facultypages/nesh/Notebook/4,4' cyanine, n=6.png\" height=\"500\" width=\"500\"/>\n",
    "<strong>Figure 2</strong>. $\\psi_6$ of 1,1’-diethyl-4,4’-cyanine, n=6, according to Spartan<sup>TM</sup>. \n",
    "</p>\n",
    "\n",
    "Figures 3-4 show $\\pi$-type molecular orbitals of two orbitals of the 1,1’-diethyl-2,2’-cyanine ion, also with Particle-on-a-Line quantum number assignments.\n",
    "\n",
    "<p style='text-align: center;'>\n",
    "<img src=\"http://webspace.pugetsound.edu/facultypages/nesh/Notebook/2,2' cyanine, n=7.png\" height=\"500\" width=\"500\"/>\n",
    "<strong>Figure 3</strong>. $\\psi_7$ of 1,1’-diethyl-2,2' cyanine, n=7, according to Spartan<sup>TM</sup>. \n",
    "</p>\n",
    "\n",
    "<p style='text-align: center;'>\n",
    "<img src=\"http://webspace.pugetsound.edu/facultypages/nesh/Notebook/2,2' cyanine, n=6.png\" height=\"500\" width=\"500\"/>\n",
    "<strong>Figure 4</strong>. $\\psi_6$ of 1,1’-diethyl-2,2’-cyanine, n=6, according to Spartan<sup>TM</sup>. \n",
    "</p>\n",
    "\n",
    "These MOs were computed using Spartan$^{TM}$ at the PM3 level. Spartan/PM3 is thought to provide a reasonable representation of the shapes of the orbitals, but it's *terrible* in a quantitative sense. How do we know that? The real dyes we are considering here have HOMO->LUMO gaps that definitely lie in the visible range. As an  example, Fig. 5 shows a spectrum of an extended version of one of these dyes. The value of $\\lambda_{max} \\approx 700 \\ nm$ you can see in this figure corresponds to red light. If you do the conversion, you'll see that this $\\lambda_{max}$ implies a HOMO->LUMO gap on the order of $1.8 \\ eV$. But Spartan/PM3 predicts HOMO->LUMO gaps for this (and similar) dyes in excess of $5 \\ eV$. If that were really the case, these dyes would be colorless (which is to say, not dyes at all ... at least for humans).\n",
    "\n",
    "This poor quantitative accuracy of Spartan$^{TM}$ at the PM3 level is a pity, but not to be dismayed: we can use other theory for that purpose. What theory? Well, Particle-on-a-Line theory! \n",
    "\n",
    "\n",
    "<p style='text-align: center;'>\n",
    "<img src=\"http://webspace.pugetsound.edu/facultypages/nesh/Notebook/Spectrum of a conjugated dye.png\" height=\"200\" width=\"300\"/>\n",
    "<strong>Figure 5</strong>. Absorption spectrum of a dye. $\\lambda_{max}$ for this dye is defined as the wavelength of maximum absorption, about $700 \\ nm$ in this case.\n",
    "</p>\n",
    "\n",
    "\n",
    "## Measurements\n",
    "We will be considering six dyes altogether, which come in two families. The MOs in Figs. 1-2 belong to the dye 1,1’-diethyl-2,2’-cyanine, which is the shortest in a set of three dyes. We call this the \"2,2'\" family (see also Fig. 6):\n",
    "\n",
    "- 1,1’-diethyl-2,2’-cyanine\n",
    "- 1,1’-diethyl-2,2’-carbocyanine\n",
    "- 1,1’-diethyl-2,2’-dicarbocyanine\n",
    "\n",
    "<p style='text-align: center;'>\n",
    "<img src=\"http://webspace.pugetsound.edu/facultypages/nesh/Notebook/Line drawings of 2,2' family.jpg\" height=\"400\" width=\"500\"/>\n",
    "<strong>Figure 6</strong>. Line drawings of the 2,2' family.\n",
    "</p>\n",
    "\n",
    "The MOs shown in Figs. 3-4 belong to the dye 1,1’-diethyl-4,4’-cyanine, which is also the shortest in a set of three dyes, which we'll call the \"4,4'\" family (see also Fig. 7)\n",
    "\n",
    "- 1,1’-diethyl-4,4’-cyanine\n",
    "- 1,1’-diethyl-4,4’-carbocyanine\n",
    "- 1,1’-diethyl-4,4’-dicarbocyanine\n",
    "\n",
    "<p style='text-align: center;'>\n",
    "<img src=\"http://webspace.pugetsound.edu/facultypages/nesh/Notebook/Line drawings of 4,4' family.jpg\" height=\"400\" width=\"500\"/>\n",
    "<strong>Figure 7</strong>. Line drawings of the 4,4' family.\n",
    "</p>\n",
    "\n",
    "Your group will be assigned a family. Then, you'll use a spectrometer to measure $\\lambda_{max}$ for each dye in that family. But here's the deal: you don't know which family member is which. You'll need to use your spectrometric results in combination with Spartan and Particle-on-a-Line theory to identify them. \n",
    "\n",
    "Part of what we just said will involve inferring values of $\\lambda_{max}$ from your Particle-on-a-Line results. This is provided by the *Planck relation*, which can take various forms (see, e.g., https://en.wikipedia.org/wiki/Planck_relation). One is \n",
    "\n",
    "$$\n",
    "E_{gap} = h \\nu \\ \\ \\ \\ (1)\n",
    "$$\n",
    "\n",
    "which is handy if you have a spectrum in which the x-axis is $\\nu$. In its wavelength form, this translates to \n",
    "\n",
    "$$\n",
    "E_{gap} = h c / \\lambda_{max} \\ \\ \\ \\ (2)\n",
    "$$\n",
    "\n",
    "which is handy when we want to compare a calculated quantity, e.g., $E_{gap}$ from Particle-on-a-Line theory, to an experimentally obtained $\\lambda_{max}$. That's what we'll be doing in this activity.\n",
    "\n",
    "## Theory\n",
    "To make the corresponding prediction using Particle-on-a-Line theory, you'll need some geometric information from Spartan: the length of the \"line\" over which $\\pi$-type orbitals extend (a quantity we've called $a$). We've begun this process by identifying the relevant paths in Figs. 1-4. More particularly, if you follow the arc of high electron density from left to right, and count the bonds along the way -- and apply the short-cut correction we worked out previously -- you'll be able to get $a$. A note about what we just said, however: in the \"2,2'\" family, it's arguable that there are *two* paths in the arc. You might want to average them.\n",
    "\n",
    "You'll also need Particle-on-a-line quantum number assignments, but you can do that in the same way you've done before for other $\\pi$-conjugated systems: along the arc just mentioned, count the number of blotches along the way, and you'll have $n$. These are more obvious in the $n=6$ cases (Figs. 2 and 4) but still discernable for the $n=7$ cases (Figs. 1 and 3), which are the HOMOs for those molecules. You'll have to convince yourself, in Spartan, that the LUMO in each case is $n=8$.\n",
    "\n",
    "Scaling up to the next member of each family entails adding two C-C bond lengths, and bumping up the HOMO and LUMO quantum numbers too. Ditto when you go to the third member of each family.\n",
    "\n",
    "## Learning goals\n",
    "The main learning goals of this exercise are: \n",
    "1. I can quote off the top of my head the range of visible light, in nm, eV, and hartree.\n",
    "1. I know how to use Planck's relation in various ways, e.g., to relate measured $\\lambda_{max}$ values to $E_{gap}$.\n",
    "1. I know how to use theory of delocalized electrons (the \"Particle-on-a-Line\" in combination with electronic structure software, like Spartan) to predict HOMO->LUMO energy gaps of dyes."
   ]
  },
  {
   "cell_type": "code",
   "execution_count": 1,
   "id": "79d49725",
   "metadata": {
    "nbgrader": {
     "grade": false,
     "grade_id": "cell-04fee4222a02e8be",
     "locked": true,
     "schema_version": 3,
     "solution": false,
     "task": false
    }
   },
   "outputs": [],
   "source": [
    "import pint; from pint import UnitRegistry; AssignQuantity = UnitRegistry(system='atomic').Quantity\n",
    "import numpy as np\n",
    "import matplotlib.pyplot as plt\n",
    "%matplotlib notebook"
   ]
  },
  {
   "cell_type": "markdown",
   "id": "a18494fc",
   "metadata": {
    "nbgrader": {
     "grade": false,
     "grade_id": "cell-70696ebb8d3fa4c5",
     "locked": true,
     "schema_version": 3,
     "solution": false,
     "task": false
    }
   },
   "source": [
    "### Quantum-related constants"
   ]
  },
  {
   "cell_type": "code",
   "execution_count": 2,
   "id": "0df07834",
   "metadata": {
    "nbgrader": {
     "grade": false,
     "grade_id": "cell-310226c9ada70352",
     "locked": true,
     "schema_version": 3,
     "solution": false,
     "task": false
    }
   },
   "outputs": [
    {
     "name": "stdout",
     "output_type": "stream",
     "text": [
      "1 atomic_unit_of_time * hartree\n",
      "6.283185307179586 atomic_unit_of_time * hartree\n",
      "1 electron_mass\n"
     ]
    }
   ],
   "source": [
    "# Quantum constants\n",
    "hbar = AssignQuantity(1,'atomic_unit_of_time * hartree'); print(hbar)\n",
    "h = hbar*2*np.pi; print(h)\n",
    "m = AssignQuantity(1,'atomic_unit_of_mass'); print(m)"
   ]
  },
  {
   "cell_type": "markdown",
   "id": "63d822c8",
   "metadata": {
    "nbgrader": {
     "grade": false,
     "grade_id": "cell-e1ef9304bb72c174",
     "locked": true,
     "schema_version": 3,
     "solution": false,
     "task": false
    }
   },
   "source": [
    "### Speed of light\n",
    "We'll need the speed of light too (converted to atomic units)."
   ]
  },
  {
   "cell_type": "code",
   "execution_count": 3,
   "id": "88b3b749",
   "metadata": {
    "nbgrader": {
     "grade": true,
     "grade_id": "cell-2fdd841c1c45e4da",
     "locked": false,
     "points": 1,
     "schema_version": 3,
     "solution": true,
     "task": false
    }
   },
   "outputs": [
    {
     "name": "stdout",
     "output_type": "stream",
     "text": [
      "137.1308671316499 bohr / atomic_unit_of_time\n"
     ]
    }
   ],
   "source": [
    "### BEGIN SOLUTION\n",
    "c = AssignQuantity(3.0e8,'m/s'); c.ito('bohr/atomic_unit_of_time'); print(c)\n",
    "### END SOLUTION"
   ]
  },
  {
   "cell_type": "markdown",
   "id": "627d4cf5",
   "metadata": {
    "nbgrader": {
     "grade": false,
     "grade_id": "cell-64736ef3723bd4bd",
     "locked": true,
     "schema_version": 3,
     "solution": false,
     "task": false
    }
   },
   "source": [
    "### Range of visible light\n",
    "Below, we specify the range of visible light. Convert and print the corresponding energy gaps, in eV and in hartrees."
   ]
  },
  {
   "cell_type": "code",
   "execution_count": 4,
   "id": "497960a1",
   "metadata": {
    "nbgrader": {
     "grade": true,
     "grade_id": "cell-0eb19c23cb34916c",
     "locked": false,
     "points": 4,
     "schema_version": 3,
     "solution": true,
     "task": false
    }
   },
   "outputs": [
    {
     "name": "stdout",
     "output_type": "stream",
     "text": [
      "1.1488248660298381 bohr * hartree / nanometer\n",
      "0.06079319384228053 hartree\n",
      "1.6542670787695435 electron_volt\n",
      "2.2674174987431015 bohr * hartree / nanometer\n",
      "0.11998656679397472 hartree\n",
      "3.265000813360941 electron_volt\n"
     ]
    }
   ],
   "source": [
    "lambda_red = AssignQuantity(750,'nm')\n",
    "lambda_blue = AssignQuantity(380,'nm')\n",
    "### BEGIN SOLUTION\n",
    "Ered = h*c/lambda_red; print(Ered)\n",
    "Ered.ito('hartree'); print(Ered)\n",
    "Ered.ito('eV'); print(Ered)\n",
    "Eblue = h*c/lambda_blue; print(Eblue)\n",
    "Eblue.ito('hartree'); print(Eblue)\n",
    "Eblue.ito('eV'); print(Eblue)\n",
    "### END SOLUTION"
   ]
  },
  {
   "cell_type": "markdown",
   "id": "2b45acf7",
   "metadata": {
    "nbgrader": {
     "grade": false,
     "grade_id": "cell-466ee0103981a168",
     "locked": true,
     "schema_version": 3,
     "solution": false,
     "task": false
    }
   },
   "source": [
    "### The shortcut factor\n",
    "It'll be handy to apply a single shortcutfactor to all your calculations. You can use the value below, or modify it to a value you like better."
   ]
  },
  {
   "cell_type": "code",
   "execution_count": 5,
   "id": "18049ece",
   "metadata": {},
   "outputs": [],
   "source": [
    "# Shortcut factor\n",
    "shortcutfactor = 0.93"
   ]
  },
  {
   "cell_type": "markdown",
   "id": "84783308",
   "metadata": {},
   "source": [
    "### Particle-on-a-Line calculations\n",
    "Use the space below to carry out all the Particle-on-a-Line calcuations relevant to your assigned family (the 4,4' cyanine family, or the 2,2' family). This should culminate in the %error between $\\lambda_{max}$ that you measured, vs what you predicted using Particle-on-a-Line theory."
   ]
  },
  {
   "cell_type": "code",
   "execution_count": 7,
   "id": "8438b6ac",
   "metadata": {
    "nbgrader": {
     "grade": true,
     "grade_id": "cell-ff0d7f3ee39cedef",
     "locked": false,
     "points": 30,
     "schema_version": 3,
     "solution": true,
     "task": false
    }
   },
   "outputs": [
    {
     "name": "stdout",
     "output_type": "stream",
     "text": [
      "Working on the 2,2' family ... \n",
      "\n",
      "long bond-by-bond distance = 16.83 angstrom\n",
      "short bond-by-bond distance = 14.074 angstrom\n",
      "path-averaged bond distance = 15.451999999999998 angstrom\n",
      "adjusted distance =  14.37036 angstrom\n",
      "Analytical result:  0.10037555940042125 hartree\n",
      "8583.94866906976 bohr\n",
      "454.24300152412445 nanometer\n",
      "Error = -13.146653628274482 dimensionless \n",
      "\n",
      "long bond-by-bond distance = 19.648 angstrom\n",
      "short bond-by-bond distance = 16.892 angstrom\n",
      "path-averaged bond distance = 18.27 angstrom\n",
      "Analytical result:  0.08137255362841012 hartree\n",
      "10588.565936580811 bohr\n",
      "560.3227789792695 nanometer\n",
      "Error = 0.2366330911036699 dimensionless \n",
      "\n",
      "long bond-by-bond distance = 22.466 angstrom\n",
      "short bond-by-bond distance = 19.71 angstrom\n",
      "path-averaged bond distance = 21.088 angstrom\n",
      "Analytical result:  0.0682635600504699 hartree\n",
      "12621.941323970657 bohr\n",
      "667.9243706012448 nanometer\n",
      "Error = -5.793459717736975 dimensionless \n",
      "\n"
     ]
    }
   ],
   "source": [
    "# Calculations for your assigned family\n",
    "### BEGIN SOLUTION\n",
    "\n",
    "family = 22\n",
    "\n",
    "if family == 44:\n",
    "    \n",
    "    \n",
    "    print(\"Working on the 4,4' family ... \\n\")\n",
    "    # 4,4' cyanine\n",
    "    \n",
    "    # Getting \"a\"\n",
    "    a = AssignQuantity(2*(1.371+1.428+1.398+1.352+1.432+1.405),'angstrom'); print('bond-by-bond distance =', a)\n",
    "    a *= shortcutfactor\n",
    "    a.ito('bohr')\n",
    "\n",
    "    # Calculate the gap using particle-on-a-line theory\n",
    "    E_HOMO = 7**2*h**2/(8*m*a**2)\n",
    "    E_HOMO.ito('hartree')\n",
    "    E_LUMO = 8**2*h**2/(8*m*a**2)\n",
    "    E_LUMO.ito('hartree')\n",
    "    E_gap = E_LUMO-E_HOMO\n",
    "    print('Analytical result: ', E_gap)\n",
    "\n",
    "    # Predict a wavelength for the HOMO->LUMO transition, using E = hc/lambda\n",
    "    lamb = h*c/E_gap; print(lamb)\n",
    "    lamb.ito('nm'); print(lamb)\n",
    "\n",
    "    # Calculate an error with respect to experiment\n",
    "    lamb_exp = AssignQuantity(590,'nm')\n",
    "    error = (lamb-lamb_exp)/lamb_exp*100\n",
    "    print('Error =', error, '\\n')\n",
    "    \n",
    "    \n",
    "    # 4,4' carbocyanine\n",
    "    # Getting \"a\"\n",
    "    a = AssignQuantity(2*(1.371+1.428+1.398+1.352+1.432+1.405*2),'angstrom'); print('bond-by-bond distance =', a)\n",
    "    a *= shortcutfactor\n",
    "    a.ito('bohr')\n",
    "\n",
    "    # Calculate the gap \n",
    "    E_HOMO = 9**2*h**2/(8*m*a**2)\n",
    "    E_HOMO.ito('hartree')\n",
    "    E_LUMO = 10**2*h**2/(8*m*a**2)\n",
    "    E_LUMO.ito('hartree')\n",
    "    E_gap = E_LUMO-E_HOMO\n",
    "    print('Analytical result: ', E_gap)\n",
    "\n",
    "    # Predict a wavelength for the HOMO->LUMO transition, using E = hc/lambda\n",
    "    lamb = h*c/E_gap; print(lamb)\n",
    "    lamb.ito('nm'); print(lamb)\n",
    "\n",
    "    # Calculate an error with respect to experiment\n",
    "    lamb_exp = AssignQuantity(702,'nm')\n",
    "    error = (lamb-lamb_exp)/lamb_exp*100\n",
    "    print('Error =', error, '\\n')\n",
    "\n",
    "\n",
    "\n",
    "    # 4,4' dicarbocyanine\n",
    "\n",
    "    # Getting \"a\"\n",
    "    a = AssignQuantity(2*(1.371+1.428+1.398+1.352+1.432+1.405*3),'angstrom'); print('bond-by-bond distance =', a)\n",
    "    a *= shortcutfactor\n",
    "    a.ito('bohr')\n",
    "\n",
    "    # Calculate the gap using our analytical result\n",
    "    E_HOMO = 8**2*h**2/(8*m*a**2)\n",
    "    E_HOMO.ito('hartree')\n",
    "    E_LUMO = 9**2*h**2/(8*m*a**2)\n",
    "    E_LUMO.ito('hartree')\n",
    "    E_gap = E_LUMO-E_HOMO\n",
    "    print('Analytical result: ', E_gap)\n",
    "\n",
    "    # Predict a wavelength for the HOMO->LUMO transition, using E = hc/lambda\n",
    "    lamb = h*c/E_gap; print(lamb)\n",
    "    lamb.ito('nm'); print(lamb)\n",
    "\n",
    "    # Calculate an error with respect to experiment\n",
    "    lamb_exp = AssignQuantity(813,'nm')\n",
    "    error = (lamb-lamb_exp)/lamb_exp*100\n",
    "    print('Error =', error, '\\n')\n",
    "\n",
    "    \n",
    "    \n",
    "elif family == 22:\n",
    "    \n",
    "    print(\"Working on the 2,2' family ... \\n\")\n",
    "\n",
    "    # 2,2' cyanine\n",
    "\n",
    "    # Getting \"a\" by averaging over two paths\n",
    "    a1 = AssignQuantity(2*(1.374+1.411+1.430+1.353+1.438+1.409),'angstrom'); print('long bond-by-bond distance =', a1)\n",
    "    a2 = AssignQuantity(2*(1.38+1.415+1.432+1.401+1.409),'angstrom'); print('short bond-by-bond distance =', a2)\n",
    "    a = (a1+a2)/2; print('path-averaged bond distance =',a)\n",
    "    a *= shortcutfactor\n",
    "    print('adjusted distance = ', a)\n",
    "    a.ito('bohr')\n",
    "\n",
    "    # Calculate the gap \n",
    "    E_HOMO = 7**2*h**2/(8*m*a**2)\n",
    "    E_HOMO.ito('hartree')\n",
    "    E_LUMO = 8**2*h**2/(8*m*a**2)\n",
    "    E_LUMO.ito('hartree')\n",
    "    E_gap = E_LUMO-E_HOMO\n",
    "    print('Analytical result: ', E_gap)\n",
    "\n",
    "    # Predict a wavelength for the HOMO->LUMO transition, using E = hc/lambda\n",
    "    lamb = h*c/E_gap; print(lamb)\n",
    "    lamb.ito('nm'); print(lamb)\n",
    "\n",
    "    # Calculate an error with respect to experiment\n",
    "    lamb_exp = AssignQuantity(523,'nm')\n",
    "    error = (lamb-lamb_exp)/lamb_exp*100\n",
    "    print('Error =', error,'\\n')\n",
    "\n",
    "    \n",
    "    # 2,2' carbocyanine\n",
    "\n",
    "    # Getting \"a\" by averaging over two paths\n",
    "    a1 = AssignQuantity(2*(1.374+1.411+1.430+1.353+1.438+1.409*2),'angstrom'); print('long bond-by-bond distance =', a1)\n",
    "    a2 = AssignQuantity(2*(1.380+1.415+1.432+1.401+1.409*2),'angstrom'); print('short bond-by-bond distance =', a2)\n",
    "    a = (a1+a2)/2; print('path-averaged bond distance =',a)\n",
    "    a *= shortcutfactor\n",
    "    a.ito('bohr')\n",
    "\n",
    "    # Calculate the gap \n",
    "    E_HOMO = 8**2*h**2/(8*m*a**2)\n",
    "    E_HOMO.ito('hartree')\n",
    "    E_LUMO = 9**2*h**2/(8*m*a**2)\n",
    "    E_LUMO.ito('hartree')\n",
    "    E_gap = E_LUMO-E_HOMO\n",
    "    print('Analytical result: ', E_gap)\n",
    "\n",
    "    # Predict a wavelength for the HOMO->LUMO transition, using E = hc/lambda\n",
    "    lamb = h*c/E_gap; print(lamb)\n",
    "    lamb.ito('nm'); print(lamb)\n",
    "\n",
    "    # Calculate an error with respect to experiment\n",
    "    lamb_exp = AssignQuantity(559,'nm')\n",
    "    error = (lamb-lamb_exp)/lamb_exp*100\n",
    "    print('Error =', error,'\\n')\n",
    "    \n",
    "    \n",
    "    # 2,2' dicarbocyanine\n",
    "\n",
    "    # Getting \"a\" by averaging over two paths\n",
    "    a1 = AssignQuantity(2*(1.374+1.411+1.430+1.353+1.438+1.409*3),'angstrom'); print('long bond-by-bond distance =', a1)\n",
    "    a2 = AssignQuantity(2*(1.380+1.415+1.432+1.401+1.409*3),'angstrom'); print('short bond-by-bond distance =', a2)\n",
    "    a = (a1+a2)/2; print('path-averaged bond distance =',a)\n",
    "    a *= shortcutfactor\n",
    "    a.ito('bohr')\n",
    "\n",
    "    # Calculate the gap \n",
    "    E_HOMO = 9**2*h**2/(8*m*a**2)\n",
    "    E_HOMO.ito('hartree')\n",
    "    E_LUMO = 10**2*h**2/(8*m*a**2)\n",
    "    E_LUMO.ito('hartree')\n",
    "    E_gap = E_LUMO-E_HOMO\n",
    "    print('Analytical result: ', E_gap)\n",
    "\n",
    "    # Predict a wavelength for the HOMO->LUMO transition, using E = hc/lambda\n",
    "    lamb = h*c/E_gap; print(lamb)\n",
    "    lamb.ito('nm'); print(lamb)\n",
    "\n",
    "    # Calculate an error with respect to experiment\n",
    "    lamb_exp = AssignQuantity(709,'nm')\n",
    "    error = (lamb-lamb_exp)/lamb_exp*100\n",
    "    print('Error =', error, '\\n')\n",
    "\n",
    "\n",
    "### END SOLUTION\n"
   ]
  },
  {
   "cell_type": "markdown",
   "id": "ad181d64",
   "metadata": {
    "nbgrader": {
     "grade": false,
     "grade_id": "cell-e11f4de98cfce719",
     "locked": true,
     "schema_version": 3,
     "solution": false,
     "task": false
    }
   },
   "source": [
    "### Refreshing and saving your code\n",
    "1. Use the dropdown menu Kernel/Restart\n",
    "2. Use the dropdown menu Cell/Run All Above\n",
    "3. Under the \"File\" dropdown menu item in the upper left is a disk icon. Press it now to save your work (you can, do this at any time as you're working on an assignment, actually).\n",
    "\n",
    "### Validating\n",
    "This step will help ensure that you didn't miss something (although it's not a guarantee). Find the \"Validate\" button and press it. If there are any errors or warnings, fix them.\n",
    "\n",
    "### Finishing up\n",
    "Assuming all this has gone smoothly, carry out three more steps (but read this carefully before starting):\n",
    "1. Close this notebook using the \"File/Close and Halt\" dropdown menu\n",
    "1. Using the Assignments tab, submit this notebook\n",
    "1. Press the Logout tab of the Home Page"
   ]
  }
 ],
 "metadata": {
  "celltoolbar": "Create Assignment",
  "kernelspec": {
   "display_name": "Python 3 (ipykernel)",
   "language": "python",
   "name": "python3"
  },
  "language_info": {
   "codemirror_mode": {
    "name": "ipython",
    "version": 3
   },
   "file_extension": ".py",
   "mimetype": "text/x-python",
   "name": "python",
   "nbconvert_exporter": "python",
   "pygments_lexer": "ipython3",
   "version": "3.10.2"
  }
 },
 "nbformat": 4,
 "nbformat_minor": 5
}

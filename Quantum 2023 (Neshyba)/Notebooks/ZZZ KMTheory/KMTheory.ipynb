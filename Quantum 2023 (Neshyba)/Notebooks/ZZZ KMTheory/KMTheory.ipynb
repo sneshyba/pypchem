{
 "cells": [
  {
   "cell_type": "markdown",
   "id": "9077431b",
   "metadata": {
    "nbgrader": {
     "grade": false,
     "grade_id": "cell-d3733011892ac5a3",
     "locked": true,
     "schema_version": 3,
     "solution": false,
     "task": false
    }
   },
   "source": [
    "### Neshyba, 2023\n",
    "\n",
    "\n",
    "# A kinetic-molecular approach to reversible expansion of an ideal gas\n",
    "\n",
    "## Introduction\n",
    "This CGI is all about exploring the question, what's going on at the molecular level when we carry out an isothermal reversible expansion of a gas? Why, for example, does heat go in at all, and why does is that amount of heat equal to $nRT \\ ln \\bigl ({V_{final} \\over V_{initial}} \\bigr )$? Our basic premise here is that if we think about this heat as compensatation for the loss of speed that molecules undergo when they hit a slowly receding wall, then we have achieved a degree of molecular-level insight. \n",
    "\n",
    "\n",
    "## A hybrid (numerical+theoretical) kinetic-molecular approach\n",
    "\n",
    "We'll begin with the result of an analysis of the physics of objects slamming against a receding wall. If that process is elastic (as Physicists are wont to insist on), one can show that those objects will bounce back with their speed reduced by $2v_{wall}$. That reduction in speed, in turn, implies the kinetic energy of those objects (OK, molecules) will also be reduced. If we want our process to be isothermal, then we can say that this reduction in kinetic energy would have to be compensated by an equal inflow of heat from the surroundings. \n",
    "\n",
    "Kinetic-molecular theory says that this inflow of heat is given by\n",
    "\n",
    "$$\n",
    "dq_{kinetic} = -Z \\times \\delta KE \\times A \\times dt \\ \\ \\ \\ (1)\n",
    "$$\n",
    "\n",
    "This is a complex expression, but we hope you can see why it has to work, based on the factors that go into it:\n",
    "\n",
    "- $Z$ is the frequency with which molecules hit our wall (typical units: mole / meter$^2$ / second). Kinetic theory says $Z = {1 \\over 2} \\rho \\times v$, where $\\rho$ is the number density of the gas (mol / m$^2$), the factor ${1 \\over 2}$ is there because only half the molecules at any given moment are heading toward the wall in question, and $v$ is the speed of the molecules in the gas. That speed, in turn, can be inferred from the equipartition theorem, which says that each degree of freedom (in this case, motion in the x-direction) has an average energy of ${1 \\over 2}RT$, and we know that kinetic energy is related to speed by $KE = {1 \\over 2}Mv^2$ (where $M$ is the mass of a mole of molecules).\n",
    "- $\\delta KE$ is the change in kinetic energy of a mole of molecules hitting the receding wall (typical units: J/mol). As mentioned previously, for elastic collisions, each molecule's speed will be reduced by $2v_{wall}$ after it hits the wall.\n",
    "- $A$ is the area of the wall getting hit (meter$^2$)\n",
    "- $dt$ is the time interval (seconds) needed to for the wall to move out some small distance $dx$, i.e, $dt={dx \\over v_{wall}}$. This is also related directly to the final volume, of course.\n",
    "\n",
    "If these considerations don't convince you, you can try one more thing: do a unit analysis on the right hand side of Eq. 1. If the result has dimensions energy, we're on the right track!\n",
    "\n",
    "For an expansion that's too big to be considered \"infinitessimally small\", we'll need to add up a series of tiny $dq_{kinetic}$ values appearing in Eq. 1, until the gas has expanded to our final, desired volume. Written in calculus-y terms, This accumulated heat is \n",
    "\n",
    "$$\n",
    "q_{kinetic} = \\int_{V_{init}}^{V_{final}} dq_{kinetic} \\ \\ \\ \\ (2)\n",
    "$$\n",
    "\n",
    "Simulated numerically, we'd write this as \n",
    "\n",
    "$$\n",
    "q_{kinetic} \\approx \\sum_{V_{init}}^{V_{final}} dq_{kinetic} \\ \\ \\ \\ (3)\n",
    "$$\n",
    "\n",
    "which is what Numpy's np.sum function does. \n",
    "\n",
    "A couple of notes about implementing Eq. (3). First, we'd need to make sure that each $dq_{kinetic}$ in the sum is small enough that it's a good approximation to a bona fide (calculus-y) infinitessimal quantity. Second, we'd need to make sure that the starting volume for each tiny step is the ending volume of the previous step. (Were just mentioning this because we forgot to do that the first time through this.)\n",
    "\n",
    "## A proper kinetic-molecular approach\n",
    "\n",
    "The foregoing has a distinct numerical/algorithmic air to it. It will give results that are as accurate as you please, as long as you make the step size built into Eq. (3) small enough. But the development also shows us how to use kinetic-molecular theory to get an analytical result. Here are some key relationships:\n",
    "\n",
    "$$\n",
    "\\delta KE = {\\partial KE \\over \\partial v} \\delta v \\ \\ \\ \\ (4)\n",
    "$$\n",
    "\n",
    "where ${\\partial KE \\over \\partial v}$ can be got from taking the derivative of $KE = {1 \\over 2}Mv^2$, and $\\delta v=2v_{wall}$. If you put all this together, and notice that $Adx=dV$, you can come up with\n",
    "\n",
    "$$\n",
    "dq_{kinetic,proper} =  n M v^2 {dV \\over V} \\ \\ \\ \\ (5)\n",
    "$$\n",
    "\n",
    "This expression, integrated from initial to final volumes, gives\n",
    "\n",
    "$$\n",
    "q_{kinetic,proper} = n M v^2 ln \\bigl ({V_{final} \\over V_{initial}} \\bigr ) \\ \\ \\ \\ (6)\n",
    "$$\n",
    "\n",
    "where we can justify pulling $v^2$ out of the integral because we're insisting that this be an isothermal process.\n",
    "\n",
    "## Regular old thermodynamic theory\n",
    "\n",
    "And what does Thermodynamics have to say about this? Going back to a very small expansion, we can say that the infinessimal work done by an expanding gas is $dw = -P_{ex}dV$. Under isothermal and reversible conditions, for an ideal gas, and invoking the 1st Law, this translates to \n",
    " \n",
    "$$\n",
    "dq_{thermo} = nRT {dV \\over V} \\ \\ \\ \\ (7)\n",
    "$$\n",
    "\n",
    "For an expansion over many such steps, we can integrate over $V$, giving\n",
    "\n",
    "$$\n",
    "q_{thermo} = nRT \\ ln \\bigl ({V_{final} \\over V_{initial}} \\bigr ) \\ \\ \\ \\ (8)\n",
    "$$\n",
    "\n",
    "## Learning goals\n",
    "The main learning goals of this exercise are \n",
    "1. I can provide a qualitative, molecular-level explanation for why heat must flow into a gas as it expands isothermally and reversibly.\n",
    "1. I can use kinetic-molecular theory to predict the heat that flows into an ideal gas as it expands reversibly and isothermally.\n",
    "1. I can explain the basis for that calculation, including the equipartition theory, elastic collision theory, and the frequency-of-collision theory. \n",
    "1. I can show that this formulation matches predictions using the the 1st Law of Thermodynamics, both for expansions that are tiny, and large (via integration)."
   ]
  },
  {
   "cell_type": "code",
   "execution_count": 1,
   "id": "863f0064",
   "metadata": {
    "nbgrader": {
     "grade": false,
     "grade_id": "cell-543650c0fffd502b",
     "locked": true,
     "schema_version": 3,
     "solution": false,
     "task": false
    }
   },
   "outputs": [],
   "source": [
    "import pint; from pint import UnitRegistry; AssignQuantity = UnitRegistry().Quantity\n",
    "import numpy as np\n",
    "import matplotlib.pyplot as plt"
   ]
  },
  {
   "cell_type": "code",
   "execution_count": 2,
   "id": "3b203456",
   "metadata": {
    "nbgrader": {
     "grade": false,
     "grade_id": "cell-ca2575977bf062e4",
     "locked": true,
     "schema_version": 3,
     "solution": false,
     "task": false
    }
   },
   "outputs": [],
   "source": [
    "# Constants\n",
    "R = AssignQuantity(8.314,'joule/mol/K')\n",
    "NA = AssignQuantity(6.02e23,'1/mol')\n",
    "T = AssignQuantity(293,'K')\n",
    "n = AssignQuantity(1,'mol')\n",
    "M = AssignQuantity(32,'g/mol')"
   ]
  },
  {
   "cell_type": "markdown",
   "id": "7c19b29c",
   "metadata": {
    "nbgrader": {
     "grade": false,
     "grade_id": "cell-fcd6b81bc810a213",
     "locked": true,
     "schema_version": 3,
     "solution": false,
     "task": false
    }
   },
   "source": [
    "### Kinetic theory associated with isothermal processes"
   ]
  },
  {
   "cell_type": "code",
   "execution_count": 3,
   "id": "e56b1fa9",
   "metadata": {},
   "outputs": [
    {
     "name": "stdout",
     "output_type": "stream",
     "text": [
      "1.2180010000000001 kilojoule / mole\n",
      "275.90770648896347 meter / second\n"
     ]
    }
   ],
   "source": [
    "# We'll need the average kinetic energy in the x-direction, using the equipartition theorem\n",
    "KE = 0.5*R*T;\n",
    "KE.ito('kjoule/mol')\n",
    "print(KE)\n",
    "\n",
    "# RMS speed associated with that average\n",
    "v = (2/M*KE)**.5\n",
    "v.ito('m/s')\n",
    "print(v)"
   ]
  },
  {
   "cell_type": "markdown",
   "id": "4c2c895c",
   "metadata": {
    "nbgrader": {
     "grade": false,
     "grade_id": "cell-a4567563005a87c3",
     "locked": true,
     "schema_version": 3,
     "solution": false,
     "task": false
    }
   },
   "source": [
    "### Specifying the initial state of our gas"
   ]
  },
  {
   "cell_type": "code",
   "execution_count": 4,
   "id": "0cdc2d6c",
   "metadata": {},
   "outputs": [
    {
     "name": "stdout",
     "output_type": "stream",
     "text": [
      "Initial volume =  24.000000000000007 decimeter ** 3\n",
      "Initial distance in the x-direction =  5 decimeter\n",
      "Sides of the wall =  2.1908902300206647 decimeter\n"
     ]
    }
   ],
   "source": [
    "# Specify the initial volume of our gas \n",
    "Vinit = AssignQuantity(24,'liter')\n",
    "Vinit.ito('dm^3')\n",
    "print('Initial volume = ', Vinit)\n",
    "\n",
    "# Specify the starting length in the x-direction\n",
    "xinit = AssignQuantity(5,'decimeter')\n",
    "print('Initial distance in the x-direction = ', xinit)\n",
    "\n",
    "# Deduce the area in the y & z directions consistent with the initial x and volume\n",
    "A = Vinit/xinit\n",
    "print('Sides of the wall = ', A**.5)"
   ]
  },
  {
   "cell_type": "markdown",
   "id": "13d2b633",
   "metadata": {},
   "source": [
    "### Hybrid kinetic-molecular theory of a tiny (infinitessimal) expansion of an ideal gas\n",
    "Here, we construct all the factors that go into Eq. 1, and use those factors to find $dq_{kinetic}$."
   ]
  },
  {
   "cell_type": "code",
   "execution_count": 5,
   "id": "cfa635f7",
   "metadata": {},
   "outputs": [
    {
     "name": "stdout",
     "output_type": "stream",
     "text": [
      "Gas density =  41.66666666666665 mole / meter ** 3\n",
      "Final distance in the x-direction =  5.1 decimeter\n",
      "Increase in volume =  48.000000000000014 decimeter ** 2 * millimeter\n",
      "Change in speed =  0.02 meter / second\n",
      "Collision frequency =  5748.07721852007 mole / meter ** 2 / second\n",
      "Change in KE per mole of collisions = -0.00017657453215285204 kilojoule / mole\n",
      "Infinitessimal time needed to expand out a bit =  1.0 second\n",
      "48.718274190655144 joule\n"
     ]
    }
   ],
   "source": [
    "# We'll need the starting mole density of our gas\n",
    "rho = n/Vinit\n",
    "rho.ito('mol/m^3')\n",
    "print('Gas density = ', rho)\n",
    "\n",
    "# Specify the distance the wall will move out (should be small, on the order of millimeters)\n",
    "dx = AssignQuantity(10,'millimeter')\n",
    "xfinal = xinit+dx\n",
    "print('Final distance in the x-direction = ', xfinal)\n",
    "\n",
    "# Calculate the increase in volume\n",
    "dV = dx*A\n",
    "print('Increase in volume = ', dV)\n",
    "\n",
    "# Also specify the wall speed -- this should be small compared to the average molecular speed (for reversibility)\n",
    "wallspeed = AssignQuantity(0.01,'m/s')\n",
    "\n",
    "# Change in speed of a molecule hitting the wall\n",
    "delta_v = 2*wallspeed\n",
    "print('Change in speed = ', delta_v)\n",
    "\n",
    "# Collision frequency if half the molecules (moving at the rms speed) are moving toward the receding wall\n",
    "Z = rho/2*v\n",
    "print('Collision frequency = ', Z)\n",
    "\n",
    "# Resulting change in KE per mole of molecules hitting the wall\n",
    "delta_KE = .5*M*((v-delta_v)**2-v**2)\n",
    "delta_KE.ito('kilojoule/mol')\n",
    "print('Change in KE per mole of collisions =', delta_KE)\n",
    "\n",
    "# How long it takes to move that distance\n",
    "dt = dx/wallspeed\n",
    "dt.ito('sec')\n",
    "print('Infinitessimal time needed to expand out a bit = ', dt)\n",
    "\n",
    "# Heat required to compensate for the kinetic energy that is lost as molecules bounce off a receding wall\n",
    "dq_kinetic = -delta_KE*Z*A*dt\n",
    "dq_kinetic.ito('joule')\n",
    "print(dq_kinetic)"
   ]
  },
  {
   "cell_type": "markdown",
   "id": "a449fd91",
   "metadata": {},
   "source": [
    "### Thermodynamics of a tiny (infinitessimal) expansion\n",
    "Below we calculate the infinitessimal amount of heat that has to go in to maintain isothermal conditions for reversible expansion of an ideal gas by a tiny amount ($dV$)."
   ]
  },
  {
   "cell_type": "code",
   "execution_count": 6,
   "id": "bf6311d8",
   "metadata": {},
   "outputs": [
    {
     "name": "stdout",
     "output_type": "stream",
     "text": [
      "48.72004 joule\n"
     ]
    }
   ],
   "source": [
    "# According to thermo (infinitessimal)\n",
    "dq_thermodynamic = n*R*T*dV/Vinit\n",
    "dq_thermodynamic.ito('joule')\n",
    "print(dq_thermodynamic)"
   ]
  },
  {
   "cell_type": "markdown",
   "id": "c79d6970",
   "metadata": {
    "nbgrader": {
     "grade": false,
     "grade_id": "cell-6173e02b5a5ea820",
     "locked": true,
     "schema_version": 3,
     "solution": false,
     "task": false
    }
   },
   "source": [
    "### Pause for analysis\n",
    "How close (%) does your infinitessimal heat amount obtained from kinetic theory come to your thermodynamic result?"
   ]
  },
  {
   "cell_type": "code",
   "execution_count": 7,
   "id": "e1da2e33",
   "metadata": {},
   "outputs": [
    {
     "name": "stdout",
     "output_type": "stream",
     "text": [
      "Error =  -0.003624400441488047 dimensionless\n"
     ]
    }
   ],
   "source": [
    "error = (dq_kinetic-dq_thermodynamic)/dq_thermodynamic*100\n",
    "print('Error = ', error)"
   ]
  },
  {
   "cell_type": "markdown",
   "id": "5b9eb0e3",
   "metadata": {
    "nbgrader": {
     "grade": false,
     "grade_id": "cell-7c501dc7da5545a6",
     "locked": true,
     "schema_version": 3,
     "solution": false,
     "task": false
    }
   },
   "source": [
    "### A streamlined calculation of $dq_{kinetic}$\n",
    "To integrate our results, it'll be very handy to have a \"functionalized\" way of computing the infinitessimal heating for a small expansion. We do that in the cell below, making use of Eq. 5 in the Introduction."
   ]
  },
  {
   "cell_type": "code",
   "execution_count": 8,
   "id": "9e5f9385",
   "metadata": {},
   "outputs": [
    {
     "name": "stdout",
     "output_type": "stream",
     "text": [
      "dq (test) =  48.72004000000001 joule\n"
     ]
    }
   ],
   "source": [
    "def dq_calculator(n, M, v, V, dx, A):\n",
    "    ###  This is a functionalized computation of the infinitessimal heating for a small expansion. ###\n",
    "    \n",
    "    dV = A*dx\n",
    "    dq_kinetic = n*M*v**2*dV/V\n",
    "    dq_kinetic.ito('joule')\n",
    "    \n",
    "    return dq_kinetic\n",
    "\n",
    "# Testing the algorithm -- hopefully we get the same dq as what we got before\n",
    "dq_kinetic_test = dq_calculator(n, M, v, Vinit, dx, A)\n",
    "print('dq (test) = ', dq_kinetic_test)"
   ]
  },
  {
   "cell_type": "markdown",
   "id": "b193483b",
   "metadata": {},
   "source": [
    "### Numerical integration of our kinetic-molecular results\n",
    "Assuming we're happy with our functionalized dq-calculator, we'll put it in a loop to simulate many steps -- see Eq. 3 in the Introduction."
   ]
  },
  {
   "cell_type": "code",
   "execution_count": 13,
   "id": "f86744a8",
   "metadata": {},
   "outputs": [
    {
     "name": "stdout",
     "output_type": "stream",
     "text": [
      "Moving the wall from  5 decimeter  to  15.0 decimeter\n",
      "2692.5339203831772 joule\n"
     ]
    }
   ],
   "source": [
    "# Specify how much the wall will move out (can be big because we're going to integrate!)\n",
    "deltax = AssignQuantity(100,'centimeter')\n",
    "print('Moving the wall from ', xinit, ' to ', xinit+deltax) \n",
    "\n",
    "# Also need to specify the number of steps, and the dx associated with each step\n",
    "nsteps = 100\n",
    "dx = deltax/nsteps\n",
    "\n",
    "# Loop over our steps, updating our starting volume and recording the heat as we go along\n",
    "dq_kinetic = AssignQuantity([],'joule')\n",
    "for i in range(nsteps):\n",
    "    Vinit_this_step = Vinit + i*dx*A\n",
    "    dq_kinetic_this_step = dq_calculator(n, M, v, Vinit_this_step, dx, A)\n",
    "    dq_kinetic = np.append(dq_kinetic, dq_kinetic_this_step)\n",
    "\n",
    "# This is the numerical equivalent of integrating over all the steps \n",
    "q_kinetic = np.sum(dq_kinetic)\n",
    "print('q_kinetic from numerical integration = ', q_kinetic)"
   ]
  },
  {
   "cell_type": "markdown",
   "id": "95ade140",
   "metadata": {},
   "source": [
    "### Analytical integration of our kinetic-molecular results \n",
    "See Eq. 6."
   ]
  },
  {
   "cell_type": "code",
   "execution_count": 15,
   "id": "e616bed7",
   "metadata": {},
   "outputs": [
    {
     "name": "stdout",
     "output_type": "stream",
     "text": [
      "q_kinetic from analytical integration =  2676.2217324200933 joule\n"
     ]
    }
   ],
   "source": [
    "Vfinal = Vinit + deltax*A\n",
    "q_kinetic_proper = n*M*v**2*np.log(Vfinal/Vinit)\n",
    "q_kinetic_proper.ito('joule')\n",
    "print('q_kinetic from analytical integration = ', q_kinetic_proper)"
   ]
  },
  {
   "cell_type": "markdown",
   "id": "82767543",
   "metadata": {},
   "source": [
    "### Integrating our results -- thermodynamic theory\n",
    "See Eq. 8."
   ]
  },
  {
   "cell_type": "code",
   "execution_count": 10,
   "id": "01ef26bd",
   "metadata": {},
   "outputs": [
    {
     "name": "stdout",
     "output_type": "stream",
     "text": [
      "2676.221732420093 joule\n"
     ]
    }
   ],
   "source": [
    "# According to thermo (integrated)\n",
    "Vfinal = Vinit + A*deltax\n",
    "q_thermodynamic = n*R*T*np.log(Vfinal/Vinit)\n",
    "print(q_thermodynamic)"
   ]
  },
  {
   "cell_type": "markdown",
   "id": "f549f830",
   "metadata": {},
   "source": [
    "### Pause for analysis\n",
    "How close (%) did your numerical result from kinetic theory come to your thermodynamic result? How close did your proper analytical result come? \n",
    "\n",
    "By the way, in situations like this, if an error comes in smaller than, say, $10^{01} \\%$, we can assume that error is due to numerical issues (like how precise Python stores floating point numbers), so it's really zero."
   ]
  },
  {
   "cell_type": "code",
   "execution_count": 18,
   "id": "ed0ccf65",
   "metadata": {},
   "outputs": [
    {
     "name": "stdout",
     "output_type": "stream",
     "text": [
      "Error of the numerical result (%) =  0.609523036356685 dimensionless\n",
      "Error of the analytical result (%) =  2.220446049250313e-14 dimensionless\n"
     ]
    }
   ],
   "source": [
    "# Error\n",
    "error_numerical = (q_kinetic/q_thermodynamic-1)*100\n",
    "print('Error of the numerical result (%) = ', error_numerical)\n",
    "\n",
    "error_analytical = (q_kinetic_proper/q_thermodynamic-1)*100\n",
    "print('Error of the analytical result (%) = ', error_analytical)"
   ]
  },
  {
   "cell_type": "markdown",
   "id": "545838a2",
   "metadata": {},
   "source": [
    "### Refreshing and saving your code\n",
    "1. Use the dropdown menu Kernel/Restart\n",
    "2. Use the dropdown menu Cell/Run All Above\n",
    "3. Under the \"File\" dropdown menu item in the upper left is a disk icon. Press it now to save your work (you can, do this at any time as you're working on an assignment, actually).\n",
    "\n",
    "### Validating\n",
    "This step will help ensure that you didn't miss something (although it's not a guarantee). Find the \"Validate\" button and press it. If there are any errors or warnings, fix them.\n",
    "\n",
    "### Finishing up\n",
    "Assuming all this has gone smoothly, carry out three more steps (but read this carefully before starting):\n",
    "1. Close this notebook using the \"File/Close and Halt\" dropdown menu\n",
    "1. Using the Assignments tab, submit this notebook\n",
    "1. Press the Logout tab of the Home Page"
   ]
  }
 ],
 "metadata": {
  "celltoolbar": "Create Assignment",
  "kernelspec": {
   "display_name": "Python 3 (ipykernel)",
   "language": "python",
   "name": "python3"
  },
  "language_info": {
   "codemirror_mode": {
    "name": "ipython",
    "version": 3
   },
   "file_extension": ".py",
   "mimetype": "text/x-python",
   "name": "python",
   "nbconvert_exporter": "python",
   "pygments_lexer": "ipython3",
   "version": "3.10.2"
  }
 },
 "nbformat": 4,
 "nbformat_minor": 5
}

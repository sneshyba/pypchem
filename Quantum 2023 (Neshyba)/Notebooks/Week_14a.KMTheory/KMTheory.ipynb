{
 "cells": [
  {
   "cell_type": "markdown",
   "id": "9077431b",
   "metadata": {
    "nbgrader": {
     "grade": false,
     "grade_id": "cell-d3733011892ac5a3",
     "locked": true,
     "schema_version": 3,
     "solution": false,
     "task": false
    }
   },
   "source": [
    "### Neshyba, 2023\n",
    "\n",
    "\n",
    "# A kinetic-molecular approach to reversible expansion of an ideal gas\n",
    "\n",
    "## Introduction\n",
    "This CGI is all about exploring the question, what's going on at the molecular level when we carry out an isothermal reversible expansion of a gas? Why, for example, does heat go in at all, and why is that amount of heat equal to $nRT \\ ln \\bigl ({V_{final} \\over V_{initial}} \\bigr )$? Our basic premise here is that if we think about this heat as compensatation for the loss of speed that molecules undergo when they hit a slowly receding wall, then we have achieved a degree of molecular-level insight. \n",
    "\n",
    "\n",
    "## A hybrid (numerical+theoretical) kinetic-molecular approach\n",
    "\n",
    "We'll begin with the result of an analysis of the physics of objects slamming against a receding wall. If we can assume that that process is elastic (as physicists like to do), one can show when those objects will bounce back,  their will be speed reduced by $2v_{wall}$. That reduction in speed, in turn, implies the kinetic energy of those objects (OK, molecules) will also be reduced. If we want our process to be isothermal, then we can say that this reduction in kinetic energy would have to be compensated by an equal inflow of heat from the surroundings. \n",
    "\n",
    "Kinetic-molecular theory says that this inflow of heat is given by\n",
    "\n",
    "$$\n",
    "dq_{kinetic} = -Z \\times \\delta KE \\times A \\times dt \\ \\ \\ \\ (1)\n",
    "$$\n",
    "\n",
    "This is a longish expression, but we hope you can see why it works, based on the factors that go into it:\n",
    "\n",
    "- $Z$ is the frequency with which molecules hit our wall (typical units: mole / meter$^2$ / second). Kinetic theory says $Z = {1 \\over 2} \\rho \\times v$, where $\\rho$ is the number density of the gas (the factor ${1 \\over 2}$ is there because only half the molecules at any given moment are heading toward the wall in question), and $v$ is the speed of the molecules in the gas. That speed, in turn, can be inferred from the equipartition theorem, which says that each degree of freedom (in this case, motion in the x-direction) has an average energy of ${1 \\over 2}RT$. We can get from kinetic energy to speed using $KE = {1 \\over 2}Mv^2$, where $M$ is the mass of a mole of molecules.\n",
    "- $\\delta KE$ is the change in kinetic energy of a mole of molecules hitting the receding wall (typical units: J/mol). As mentioned previously, for elastic collisions, each molecule's speed will be reduced by $2v_{wall}$ after it hits the wall.\n",
    "- $A$ is the area of the wall getting hit (meter$^2$)\n",
    "- $dt$ is the time (seconds) needed to for the wall to move out some distance $dx$, i.e, $dx=v_{wall}dt$. This is also related to the final volume, of course.\n",
    "\n",
    "If these considerations don't convince you that Eq. 1 makes sense, you can try one more thing: do a unit analysis. If the right hand side has dimensions energy, we're on the right track!\n",
    "\n",
    "The notation $dq_{kinetic}$ is supposed bring to mind the idea that Eq. 1 is valid only for infintessimally small expansions -- that is, $dt$, and therefore $dx$, are small in some sense. For an expansion that's too big to be considered infinitessimally small, we'll need to add up a series of $dq_{kinetic}$ values until the gas has expanded to our final, desired volume. In calculus-y terms, we would express this idea as \n",
    "\n",
    "$$\n",
    "q_{kinetic} = \\int_{V_{init}}^{V_{final}} dq_{kinetic} \\ \\ \\ \\ (2)\n",
    "$$\n",
    "\n",
    "Simulated numerically, we'd write this as \n",
    "\n",
    "$$\n",
    "q_{kinetic} \\approx \\sum_{V_{init}}^{V_{final}} dq_{kinetic} \\ \\ \\ \\ (3)\n",
    "$$\n",
    "\n",
    "which is what Numpy's np.sum function does. \n",
    "\n",
    "A couple of notes about Eq. (3). First, we'd need to make sure that each $dq_{kinetic}$ is small enough that the summation is a good approximation to the integral in Eq. 2. That's the sense we intended above, when we said that $dt$ and $dx$ need to be \"small.\" Second, we'd need to make sure that the starting volume for each tiny step is the ending volume of the previous step. (We're just mentioning this because we forgot to do that the first time through this.)\n",
    "\n",
    "## A proper kinetic-molecular approach\n",
    "\n",
    "The foregoing has a distinct numerical/algorithmic air to it. It will give results that are as accurate as you please, as long as you make the step size built into Eq. (3) small enough. But the development also shows us how to use kinetic-molecular theory to get an analytical result. Here are some key relationships:\n",
    "\n",
    "$$\n",
    "\\delta KE = {\\partial KE \\over \\partial v} \\delta v \\ \\ \\ \\ (4)\n",
    "$$\n",
    "\n",
    "where ${\\partial KE \\over \\partial v}$ can be got from taking the derivative of $KE = {1 \\over 2}Mv^2$, and $\\delta v=2v_{wall}$. If you put all this together, and notice that $Adx=dV$, you can come up with\n",
    "\n",
    "$$\n",
    "dq_{kinetic,proper} =  n M v^2 {dV \\over V} \\ \\ \\ \\ (5)\n",
    "$$\n",
    "\n",
    "This expression, integrated from initial to final volumes, gives\n",
    "\n",
    "$$\n",
    "q_{kinetic,proper} = n M v^2 ln \\bigl ({V_{final} \\over V_{initial}} \\bigr ) \\ \\ \\ \\ (6)\n",
    "$$\n",
    "\n",
    "where we can justify pulling $v^2$ out of the integral because we're insisting that enough heat comes in during the process that the gas keeps the same temperature throughout the expansion.\n",
    "\n",
    "## Regular old thermodynamic theory\n",
    "\n",
    "And what does Thermodynamics have to say about this? Going back to a very small expansion, we can say that the infinessimal work done by an expanding gas is $dw = -P_{ex}dV$. Under isothermal and reversible conditions, for an ideal gas, and invoking the 1st Law, this translates to \n",
    " \n",
    "$$\n",
    "dq_{thermo} = nRT {dV \\over V} \\ \\ \\ \\ (7)\n",
    "$$\n",
    "\n",
    "For an expansion over many such steps, we can integrate over $V$, giving\n",
    "\n",
    "$$\n",
    "q_{thermo} = nRT \\ ln \\bigl ({V_{final} \\over V_{initial}} \\bigr ) \\ \\ \\ \\ (8)\n",
    "$$\n",
    "\n",
    "## The idea of this exericse\n",
    "A test of the kinetic-molecular theory laid out above would, naturally, be to evaluate whether Eqs. 1, 5, and 7 give (close to) the same answers. Ditto for Eqs. 3, 6, and 8. If so, we can conclude that there's some validity to the notion that the heat that flows into an expanding gas is compensating for the reduction in the kinetic energy of molecules hitting the receding wall.\n",
    "\n",
    "## Learning goals\n",
    "The main learning goals of this exercise are \n",
    "1. I can provide a qualitative, molecular-level explanation for why heat must flow into a gas as it expands isothermally and reversibly.\n",
    "1. I can use kinetic-molecular theory to predict the heat that flows into an ideal gas as it expands reversibly and isothermally.\n",
    "1. I can explain the basis for that calculation, including the equipartition theory, elastic collision theory, and the frequency-of-collision theory. \n",
    "1. I can show that this formulation matches predictions using the the 1st Law of Thermodynamics, both for expansions that are tiny, and large (via integration)."
   ]
  },
  {
   "cell_type": "code",
   "execution_count": 1,
   "id": "863f0064",
   "metadata": {
    "nbgrader": {
     "grade": false,
     "grade_id": "cell-543650c0fffd502b",
     "locked": true,
     "schema_version": 3,
     "solution": false,
     "task": false
    }
   },
   "outputs": [],
   "source": [
    "import pint; from pint import UnitRegistry; AssignQuantity = UnitRegistry().Quantity\n",
    "import numpy as np\n",
    "import matplotlib.pyplot as plt"
   ]
  },
  {
   "cell_type": "code",
   "execution_count": 2,
   "id": "3b203456",
   "metadata": {
    "nbgrader": {
     "grade": false,
     "grade_id": "cell-ca2575977bf062e4",
     "locked": true,
     "schema_version": 3,
     "solution": false,
     "task": false
    }
   },
   "outputs": [],
   "source": [
    "# Constants\n",
    "R = AssignQuantity(8.314,'joule/mol/K')\n",
    "NA = AssignQuantity(6.02e23,'1/mol')\n",
    "T = AssignQuantity(293,'K')\n",
    "n = AssignQuantity(1,'mol')\n",
    "\n",
    "# We're assuming O2 gas here\n",
    "M = AssignQuantity(32,'g/mol')"
   ]
  },
  {
   "cell_type": "markdown",
   "id": "7c19b29c",
   "metadata": {
    "nbgrader": {
     "grade": false,
     "grade_id": "cell-fcd6b81bc810a213",
     "locked": true,
     "schema_version": 3,
     "solution": false,
     "task": false
    }
   },
   "source": [
    "### Kinetic theory associated with isothermal processes\n",
    "The average kinetic energy in the x-direction, according to the equipartition theorem, is $KE = {1 \\over 2}Mv^2$, where $M$ is the mass of a mole of molecules. Use that in the cell below to evaluate the average kinetic energy of a mole of our gas molecules, and then compute the RMS speed associated with that average."
   ]
  },
  {
   "cell_type": "code",
   "execution_count": 3,
   "id": "e56b1fa9",
   "metadata": {
    "nbgrader": {
     "grade": true,
     "grade_id": "cell-c8d6439897809ae6",
     "locked": false,
     "points": 2,
     "schema_version": 3,
     "solution": true,
     "task": false
    }
   },
   "outputs": [
    {
     "name": "stdout",
     "output_type": "stream",
     "text": [
      "1.2180010000000001 kilojoule / mole\n",
      "275.90770648896347 meter / second\n"
     ]
    }
   ],
   "source": [
    "# Average kinetic energy in the x-direction, using the equipartition theorem\n",
    "### BEGIN SOLUTION\n",
    "KE = 0.5*R*T;\n",
    "KE.ito('kjoule/mol')\n",
    "print(KE)\n",
    "### END SOLUTION\n",
    "\n",
    "# RMS speed associated with that average\n",
    "### BEGIN SOLUTION\n",
    "v = (2/M*KE)**.5\n",
    "v.ito('m/s')\n",
    "print(v)\n",
    "### END SOLUTION"
   ]
  },
  {
   "cell_type": "markdown",
   "id": "4c2c895c",
   "metadata": {
    "nbgrader": {
     "grade": false,
     "grade_id": "cell-a4567563005a87c3",
     "locked": true,
     "schema_version": 3,
     "solution": false,
     "task": false
    }
   },
   "source": [
    "### Specifying the initial state of our gas\n",
    "In the cell below, we specify the initial state of our gas, and the box it's in. "
   ]
  },
  {
   "cell_type": "code",
   "execution_count": 25,
   "id": "0cdc2d6c",
   "metadata": {
    "nbgrader": {
     "grade": false,
     "grade_id": "cell-6b59fd5b0c969dbc",
     "locked": true,
     "schema_version": 3,
     "solution": false,
     "task": false
    }
   },
   "outputs": [
    {
     "name": "stdout",
     "output_type": "stream",
     "text": [
      "Initial volume =  24.000000000000007 decimeter ** 3\n",
      "Initial distance in the x-direction =  5 decimeter\n",
      "Sides of the wall =  2.1908902300206647 decimeter\n"
     ]
    }
   ],
   "source": [
    "# Specify the initial volume of our gas \n",
    "Vinit = AssignQuantity(24,'liter')\n",
    "Vinit.ito('dm^3')\n",
    "print('Initial volume = ', Vinit)\n",
    "\n",
    "# Specify the starting length in the x-direction\n",
    "xinit = AssignQuantity(5,'decimeter')\n",
    "print('Initial distance in the x-direction = ', xinit)\n",
    "\n",
    "# Deduce the area in the y & z directions consistent with the initial x and volume\n",
    "A = Vinit/xinit\n",
    "print('Sides of the wall = ', A**.5)"
   ]
  },
  {
   "cell_type": "markdown",
   "id": "13d2b633",
   "metadata": {
    "nbgrader": {
     "grade": false,
     "grade_id": "cell-2ce8ce5b6fee14fd",
     "locked": true,
     "schema_version": 3,
     "solution": false,
     "task": false
    }
   },
   "source": [
    "### Hybrid kinetic-molecular theory of a tiny (infinitessimal) expansion of an ideal gas\n",
    "In the cell below, we lay out some parameters of our tiny expansion -- which you can leave as-is. After that, all the calculations are meant to lead up to the calculation of $dq_{kinetic}$."
   ]
  },
  {
   "cell_type": "code",
   "execution_count": 26,
   "id": "cfa635f7",
   "metadata": {
    "nbgrader": {
     "grade": true,
     "grade_id": "cell-1ad3ca03064d8b4c",
     "locked": false,
     "points": 7,
     "schema_version": 3,
     "solution": true,
     "task": false
    }
   },
   "outputs": [
    {
     "name": "stdout",
     "output_type": "stream",
     "text": [
      "Final distance in the x-direction =  5.01 decimeter\n",
      "Gas density =  41.66666666666665 mole / meter ** 3\n",
      "Increase in volume =  0.4800000000000002 centimeter * decimeter ** 2\n",
      "Change in speed =  20 centimeter / second\n",
      "Collision frequency =  5748.07721852007 mole / meter ** 2 / second\n",
      "Change in KE per mole of collisions = -0.0017651693215293344 kilojoule / mole\n",
      "Infinitessimal time needed to expand out a bit =  0.01 second\n",
      "4.870238190678385 joule\n"
     ]
    }
   ],
   "source": [
    "# Specify the distance the wall will move out (should be small, on the order of millimeters)\n",
    "dx = AssignQuantity(0.1,'centimeter')\n",
    "xfinal = xinit+dx\n",
    "print('Final distance in the x-direction = ', xfinal)\n",
    "\n",
    "# Also specify the wall speed -- this should be small compared to the average molecular speed (for reversibility)\n",
    "wallspeed = AssignQuantity(10,'cm/s')\n",
    "\n",
    "# We'll need the starting mole density of our gas (call it rho)\n",
    "### BEGIN SOLUTION\n",
    "rho = n/Vinit\n",
    "rho.ito('mol/m^3')\n",
    "print('Gas density = ', rho)\n",
    "### END SOLUTION\n",
    "\n",
    "# Calculate the increase in volume (dV)\n",
    "### BEGIN SOLUTION\n",
    "dV = dx*A\n",
    "print('Increase in volume = ', dV)\n",
    "### END SOLUTION\n",
    "\n",
    "# Calculate the change in speed of a molecule hitting the wall (delta_v)\n",
    "### BEGIN SOLUTION\n",
    "delta_v = 2*wallspeed\n",
    "print('Change in speed = ', delta_v)\n",
    "### END SOLUTION\n",
    "\n",
    "# Calculate the collision frequency (Z) assuming half the molecules are moving toward the receding wall\n",
    "### BEGIN SOLUTION\n",
    "Z = rho/2*v\n",
    "print('Collision frequency = ', Z)\n",
    "### END SOLUTION\n",
    "\n",
    "# Calculate the resulting change in KE per mole of molecules hitting the wall (delta_KE)\n",
    "### BEGIN SOLUTION\n",
    "delta_KE = .5*M*((v-delta_v)**2-v**2)\n",
    "delta_KE.ito('kilojoule/mol')\n",
    "print('Change in KE per mole of collisions =', delta_KE)\n",
    "### END SOLUTION\n",
    "\n",
    "# Calculate how long it takes to move that distance (dt)\n",
    "### BEGIN SOLUTION\n",
    "dt = dx/wallspeed\n",
    "dt.ito('sec')\n",
    "print('Infinitessimal time needed to expand out a bit = ', dt)\n",
    "### END SOLUTION\n",
    "\n",
    "# Calculate the heat required to compensate for the kinetic energy that is lost (dq_kinetic)\n",
    "### BEGIN SOLUTION\n",
    "dq_kinetic = -delta_KE*Z*A*dt\n",
    "dq_kinetic.ito('joule')\n",
    "print(dq_kinetic)\n",
    "### END SOLUTION"
   ]
  },
  {
   "cell_type": "markdown",
   "id": "a449fd91",
   "metadata": {
    "nbgrader": {
     "grade": false,
     "grade_id": "cell-a399737f9ecee116",
     "locked": true,
     "schema_version": 3,
     "solution": false,
     "task": false
    }
   },
   "source": [
    "### Thermodynamics of a tiny (infinitessimal) expansion\n",
    "Below, calculate the infinitessimal amount of heat that has to go in to maintain isothermal conditions for reversible expansion of an ideal gas by a tiny amount ($dV$), according to thermoynamics (Eq. 7)."
   ]
  },
  {
   "cell_type": "code",
   "execution_count": 6,
   "id": "bf6311d8",
   "metadata": {
    "nbgrader": {
     "grade": true,
     "grade_id": "cell-13a6b6e1e2f8131b",
     "locked": false,
     "points": 2,
     "schema_version": 3,
     "solution": true,
     "task": false
    }
   },
   "outputs": [
    {
     "name": "stdout",
     "output_type": "stream",
     "text": [
      "4.8720040000000004 joule\n"
     ]
    }
   ],
   "source": [
    "# The infinitessimal dq according to thermo (dq_thermo) -- see Eq. 7\n",
    "### BEGIN SOLUTION\n",
    "dq_thermo = n*R*T*dV/Vinit\n",
    "dq_thermo.ito('joule')\n",
    "print(dq_thermo)\n",
    "### END SOLUTION"
   ]
  },
  {
   "cell_type": "markdown",
   "id": "c79d6970",
   "metadata": {
    "nbgrader": {
     "grade": false,
     "grade_id": "cell-6173e02b5a5ea820",
     "locked": true,
     "schema_version": 3,
     "solution": false,
     "task": false
    }
   },
   "source": [
    "### Pause for analysis\n",
    "Calculate (and print) the difference (%) between the infinitessimal heat amount obtained from kinetic theory, and your thermodynamic result. "
   ]
  },
  {
   "cell_type": "code",
   "execution_count": 7,
   "id": "e1da2e33",
   "metadata": {
    "nbgrader": {
     "grade": true,
     "grade_id": "cell-4ef140b4da871fc7",
     "locked": false,
     "points": 1,
     "schema_version": 3,
     "solution": true,
     "task": false
    }
   },
   "outputs": [
    {
     "name": "stdout",
     "output_type": "stream",
     "text": [
      "Error =  -0.03624400393792248 dimensionless\n"
     ]
    }
   ],
   "source": [
    "### BEGIN SOLUTION\n",
    "error = (dq_kinetic-dq_thermo)/dq_thermo*100\n",
    "print('Error = ', error)\n",
    "### END SOLUTION"
   ]
  },
  {
   "cell_type": "markdown",
   "id": "5b9eb0e3",
   "metadata": {
    "nbgrader": {
     "grade": false,
     "grade_id": "cell-7c501dc7da5545a6",
     "locked": true,
     "schema_version": 3,
     "solution": false,
     "task": false
    }
   },
   "source": [
    "### $dq_{kinetic,proper}$\n",
    "Thinking ahead to our plans to integrate our results over larger expansions than just the infinitessimal, it'll be handy to have a \"functionalized\" way of computing the infinitessimal heating for a small expansion. We do that in the cell below, making use of Eq. 5 in the Introduction.\n",
    "\n",
    "The second part of this cell makes a call to this function to make sure it works."
   ]
  },
  {
   "cell_type": "code",
   "execution_count": 8,
   "id": "0b66a8fb",
   "metadata": {
    "nbgrader": {
     "grade": false,
     "grade_id": "cell-f9e905452fedd7b0",
     "locked": true,
     "schema_version": 3,
     "solution": false,
     "task": false
    }
   },
   "outputs": [
    {
     "name": "stdout",
     "output_type": "stream",
     "text": [
      "dq (test) =  4.872004000000001 joule\n"
     ]
    }
   ],
   "source": [
    "def get_dq_kinetic_proper(n, M, v, V, dx, A):\n",
    "    ###  This is a functionalized computation of the infinitessimal heating for a small expansion. ###\n",
    "    \n",
    "    dV = A*dx\n",
    "    dq_kinetic = n*M*v**2*dV/V\n",
    "    dq_kinetic.ito('joule')\n",
    "    \n",
    "    return dq_kinetic\n",
    "\n",
    "# Testing the algorithm -- hopefully we get the same dq as what we got before\n",
    "dq_kinetic_proper = get_dq_kinetic_proper(n, M, v, Vinit, dx, A)\n",
    "print('dq (test) = ', dq_kinetic_proper)"
   ]
  },
  {
   "cell_type": "markdown",
   "id": "2bcef059",
   "metadata": {
    "nbgrader": {
     "grade": false,
     "grade_id": "cell-873b082eaea5892e",
     "locked": true,
     "schema_version": 3,
     "solution": false,
     "task": false
    }
   },
   "source": [
    "### Pause for analysis\n",
    "In the cell below, comment on the result you just got: does $dq_{kinetic,proper}$ agree (more or less) with $dq_{kinetic}$ and $dq_{thermo}$? "
   ]
  },
  {
   "cell_type": "markdown",
   "id": "eda3087f",
   "metadata": {
    "nbgrader": {
     "grade": true,
     "grade_id": "cell-2d6f376dc678c3d3",
     "locked": false,
     "points": 1,
     "schema_version": 3,
     "solution": true,
     "task": false
    }
   },
   "source": [
    "### BEGIN SOLUTION\n",
    "\n",
    "Yes\n",
    "\n",
    "### END SOLUTION"
   ]
  },
  {
   "cell_type": "markdown",
   "id": "b193483b",
   "metadata": {
    "nbgrader": {
     "grade": false,
     "grade_id": "cell-806e20016f215eac",
     "locked": true,
     "schema_version": 3,
     "solution": false,
     "task": false
    }
   },
   "source": [
    "### Numerical integration of our kinetic-molecular results\n",
    "Assuming we're happy with our get_dq_kinetic_proper function, we'll put it in a loop to simulate many steps -- see Eq. 3 in the Introduction."
   ]
  },
  {
   "cell_type": "code",
   "execution_count": 23,
   "id": "f86744a8",
   "metadata": {
    "nbgrader": {
     "grade": true,
     "grade_id": "cell-0ed094ad62461a5c",
     "locked": false,
     "points": 2,
     "schema_version": 3,
     "solution": true,
     "task": false
    }
   },
   "outputs": [
    {
     "name": "stdout",
     "output_type": "stream",
     "text": [
      "Moving the wall from  5 decimeter  to  15.0 decimeter\n",
      "Here's our long list of dq values:\n",
      "[97.44008000000002 93.69238461538463 90.2222962962963 87.00007142857143 84.00006896551726 81.20006666666669 78.58070967741938 76.12506250000001 73.81824242424244 71.64711764705882 69.60005714285717 67.66672222222223 65.83789189189191 64.1053157894737 62.461589743589755 60.900050000000014 59.41468292682928 58.000047619047635 56.65120930232558 55.36368181818184 54.13337777777778 52.95656521739131 51.82982978723405 50.750041666666675 49.71432653061225 48.72004000000001 47.76474509803923 46.84619230769231 45.96230188679246 45.11114814814815 44.29094545454546 43.500035714285715 42.73687719298246 42.00003448275863 41.28816949152543 40.600033333333336 39.93445901639345 39.29035483870969 38.66669841269842 38.06253125 37.476953846153854 36.90912121212122 36.35823880597015 35.82355882352941 35.30437681159421 34.800028571428584 34.30988732394367 33.83336111111112 33.36989041095891 32.91894594594596] joule \n",
      "\n",
      "q_kinetic from numerical integration =  2708.9904191479195 joule\n"
     ]
    }
   ],
   "source": [
    "# Specify how much the wall will move out (can be big because we're going to integrate!)\n",
    "deltax = AssignQuantity(100,'centimeter')\n",
    "print('Moving the wall from ', xinit, ' to ', xinit+deltax) \n",
    "\n",
    "# Also need to specify the number of steps, and the dx associated with each step\n",
    "nsteps = 50\n",
    "dx = deltax/nsteps\n",
    "\n",
    "# Loop over our steps, updating our starting volume and recording the heat as we go along\n",
    "dq_kinetic = AssignQuantity([],'joule')\n",
    "for i in range(nsteps):\n",
    "    \n",
    "    # This finds the volume at this point in the expansion\n",
    "    Vinit_this_step = Vinit + i*dx*A\n",
    "    \n",
    "    # Make a call to get_dq_kinetic_proper to get dq_kinetic_this_step\n",
    "    ### BEGIN SOLUTION\n",
    "    dq_kinetic_this_step = get_dq_kinetic_proper(n, M, v, Vinit_this_step, dx, A)\n",
    "    ### END SOLUTION\n",
    "    \n",
    "    # This appends the heat transfer for this step to an ever-growing list of dq's\n",
    "    dq_kinetic = np.append(dq_kinetic, dq_kinetic_this_step)\n",
    "\n",
    "# This is the numerical equivalent of integrating over all the steps \n",
    "print(\"Here's our long list of dq values:\")\n",
    "print(dq_kinetic,'\\n')\n",
    "\n",
    "# This is the numerical equivalent of integrating over all the steps (Eq. 3)\n",
    "q_kinetic = np.sum(dq_kinetic)\n",
    "print('q_kinetic from numerical integration = ', q_kinetic)"
   ]
  },
  {
   "cell_type": "markdown",
   "id": "40a4e028",
   "metadata": {
    "nbgrader": {
     "grade": false,
     "grade_id": "cell-070d955a90cedcb7",
     "locked": true,
     "schema_version": 3,
     "solution": false,
     "task": false
    }
   },
   "source": [
    "### Analytical integration of our kinetic-molecular results \n",
    "In the cell below, we propose a final volume that's a lot bigger than the initial volume. Then we evaluate the heat transferred using our integrated kinetic-molecular formula, Eq. 6."
   ]
  },
  {
   "cell_type": "code",
   "execution_count": 21,
   "id": "1220f761",
   "metadata": {
    "nbgrader": {
     "grade": false,
     "grade_id": "cell-410791f64f9a69ba",
     "locked": true,
     "schema_version": 3,
     "solution": false,
     "task": false
    }
   },
   "outputs": [
    {
     "name": "stdout",
     "output_type": "stream",
     "text": [
      "Initial and final volumes =  24.000000000000007 decimeter ** 3 72.00000000000003 decimeter ** 3\n",
      "q_kinetic from analytical integration =  2676.2217324200933 joule\n"
     ]
    }
   ],
   "source": [
    "Vfinal = Vinit + deltax*A\n",
    "print('Initial and final volumes = ', Vinit, Vfinal)\n",
    "q_kinetic_proper = n*M*v**2*np.log(Vfinal/Vinit)\n",
    "q_kinetic_proper.ito('joule')\n",
    "print('q_kinetic from analytical integration = ', q_kinetic_proper)"
   ]
  },
  {
   "cell_type": "markdown",
   "id": "82767543",
   "metadata": {
    "nbgrader": {
     "grade": false,
     "grade_id": "cell-2cf7dde77ef951c7",
     "locked": true,
     "schema_version": 3,
     "solution": false,
     "task": false
    }
   },
   "source": [
    "### Integrating our results -- thermodynamic theory\n",
    "See Eq. 8."
   ]
  },
  {
   "cell_type": "code",
   "execution_count": 24,
   "id": "01ef26bd",
   "metadata": {
    "nbgrader": {
     "grade": true,
     "grade_id": "cell-d38e9c0f33ca3599",
     "locked": false,
     "points": 2,
     "schema_version": 3,
     "solution": true,
     "task": false
    }
   },
   "outputs": [
    {
     "name": "stdout",
     "output_type": "stream",
     "text": [
      "2676.221732420093 joule\n",
      "Error of the numerical result (%) =  1.2244384062375158 dimensionless\n",
      "Error of the analytical result (%) =  2.220446049250313e-14 dimensionless\n"
     ]
    }
   ],
   "source": [
    "# According to thermo (Eq. 8)\n",
    "### BEGIN SOLUTION\n",
    "q_thermodynamic = n*R*T*np.log(Vfinal/Vinit)\n",
    "print(q_thermodynamic)\n",
    "\n",
    "# Error\n",
    "error_numerical = (q_kinetic/q_thermodynamic-1)*100\n",
    "print('Error of the numerical result (%) = ', error_numerical)\n",
    "\n",
    "error_analytical = (q_kinetic_proper/q_thermodynamic-1)*100\n",
    "print('Error of the analytical result (%) = ', error_analytical)\n",
    "\n",
    "### END SOLUTION"
   ]
  },
  {
   "cell_type": "markdown",
   "id": "f549f830",
   "metadata": {
    "nbgrader": {
     "grade": false,
     "grade_id": "cell-b197a569d05aef1d",
     "locked": true,
     "schema_version": 3,
     "solution": false,
     "task": false
    }
   },
   "source": [
    "### Pause for analysis\n",
    "How close (%) did your numerical result from kinetic theory come to your thermodynamic result? What do you suppose would be a good strategy for improving that agreement?\n",
    "\n",
    "How close did your proper analytical result come to your integrated thermodynamic result? Is the agreement satisfactory, in your view?\n",
    "\n",
    "By the way, in situations like this, if an error comes in at, say, $10^{-10} \\%$ or smaller we can assume that error is due to numerical issues (like how precise Python stores floating point numbers), so it's really zero."
   ]
  },
  {
   "cell_type": "markdown",
   "id": "8b76992f",
   "metadata": {
    "nbgrader": {
     "grade": true,
     "grade_id": "cell-c58eeec91db40093",
     "locked": false,
     "points": 2,
     "schema_version": 3,
     "solution": true,
     "task": false
    }
   },
   "source": [
    "### BEGIN SOLUTION\n",
    "\n",
    "Agreement with the numerical result is around 1%. It could be improved by more steps in the integration loop.  \n",
    "Agreement with the analytical result is 10^-14, which is basically zero.\n",
    "\n",
    "### END SOLUTION"
   ]
  },
  {
   "cell_type": "markdown",
   "id": "9bf6da76",
   "metadata": {
    "nbgrader": {
     "grade": false,
     "grade_id": "cell-a8c5600707a1b0a4",
     "locked": true,
     "schema_version": 3,
     "solution": false,
     "task": false
    }
   },
   "source": [
    "### Refreshing and saving your code\n",
    "1. Use the dropdown menu Kernel/Restart\n",
    "2. Use the dropdown menu Cell/Run All Above\n",
    "3. Under the \"File\" dropdown menu item in the upper left is a disk icon. Press it now to save your work (you can, do this at any time as you're working on an assignment, actually).\n",
    "\n",
    "### Validating\n",
    "This step will help ensure that you didn't miss something (although it's not a guarantee). Find the \"Validate\" button and press it. If there are any errors or warnings, fix them.\n",
    "\n",
    "### Finishing up\n",
    "Assuming all this has gone smoothly, carry out three more steps (but read this carefully before starting):\n",
    "1. Close this notebook using the \"File/Close and Halt\" dropdown menu\n",
    "1. Using the Assignments tab, submit this notebook\n",
    "1. Press the Logout tab of the Home Page"
   ]
  }
 ],
 "metadata": {
  "celltoolbar": "Create Assignment",
  "kernelspec": {
   "display_name": "Python 3 (ipykernel)",
   "language": "python",
   "name": "python3"
  },
  "language_info": {
   "codemirror_mode": {
    "name": "ipython",
    "version": 3
   },
   "file_extension": ".py",
   "mimetype": "text/x-python",
   "name": "python",
   "nbconvert_exporter": "python",
   "pygments_lexer": "ipython3",
   "version": "3.10.2"
  }
 },
 "nbformat": 4,
 "nbformat_minor": 5
}

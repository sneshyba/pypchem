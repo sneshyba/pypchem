{
 "cells": [
  {
   "cell_type": "markdown",
   "id": "f65e01f9",
   "metadata": {
    "nbgrader": {
     "grade": false,
     "grade_id": "cell-e568bbb112436669",
     "locked": true,
     "schema_version": 3,
     "solution": false,
     "task": false
    }
   },
   "source": [
    "### Neshyba 2023\n",
    "\n",
    "# Normalizing a Harmonic Oscillator wavefunction\n",
    "\n"
   ]
  },
  {
   "cell_type": "code",
   "execution_count": 2,
   "id": "d8c39828",
   "metadata": {
    "nbgrader": {
     "grade": false,
     "grade_id": "cell-0bf4825fcc15232c",
     "locked": true,
     "schema_version": 3,
     "solution": false,
     "task": false
    }
   },
   "outputs": [],
   "source": [
    "import sympy as sp\n",
    "import numpy as np"
   ]
  },
  {
   "cell_type": "code",
   "execution_count": 3,
   "id": "2adc12c8",
   "metadata": {
    "nbgrader": {
     "grade": false,
     "grade_id": "cell-8a03c43dda19e59f",
     "locked": true,
     "schema_version": 3,
     "solution": false,
     "task": false
    }
   },
   "outputs": [],
   "source": [
    "# This makes the symbolic variables we'll want\n",
    "x = sp.Symbol('x')\n",
    "k = sp.Symbol('k',positive=True)\n",
    "m = sp.Symbol('m',positive=True)\n",
    "hbar = sp.Symbol('hbar',positive=True)"
   ]
  },
  {
   "cell_type": "code",
   "execution_count": 4,
   "id": "d2b45c20",
   "metadata": {
    "nbgrader": {
     "grade": false,
     "grade_id": "cell-ed9972ae4c5bec9d",
     "locked": true,
     "schema_version": 3,
     "solution": false,
     "task": false
    }
   },
   "outputs": [
    {
     "name": "stdout",
     "output_type": "stream",
     "text": [
      "                         -1.0  0.5  0.5  2 \n",
      "                       -h̅    ⋅k   ⋅m   ⋅x  \n",
      "                       ────────────────────\n",
      "   -0.5  0.25  0.25             2          \n",
      "2⋅h̅    ⋅k    ⋅m    ⋅x⋅ℯ                    \n"
     ]
    }
   ],
   "source": [
    "# Make psi1 without its normalization factor\n",
    "alpha = (k*m/hbar**2)**.5\n",
    "ksi = alpha**.5*x\n",
    "H1 = 2*ksi\n",
    "psi1_unnormalized = H1*sp.exp(-alpha*x**2/2)\n",
    "sp.pprint(psi1_unnormalized)"
   ]
  },
  {
   "cell_type": "code",
   "execution_count": 5,
   "id": "651b7e2b",
   "metadata": {
    "nbgrader": {
     "grade": false,
     "grade_id": "cell-898f44f311556432",
     "locked": true,
     "schema_version": 3,
     "solution": false,
     "task": false
    }
   },
   "outputs": [
    {
     "name": "stdout",
     "output_type": "stream",
     "text": [
      "      0.5  -0.25  -0.25\n",
      "2⋅√π⋅h̅   ⋅k     ⋅m     \n"
     ]
    }
   ],
   "source": [
    "# Integrate the square of our unnormalized wave function from -infinity to +infinity\n",
    "integrand = psi1_unnormalized**2\n",
    "definite_integral = sp.integrate(integrand,(x,-sp.oo,sp.oo))\n",
    "sp.pprint(definite_integral)"
   ]
  },
  {
   "cell_type": "code",
   "execution_count": 6,
   "id": "774ea61f",
   "metadata": {
    "nbgrader": {
     "grade": false,
     "grade_id": "cell-cd15c55651242465",
     "locked": true,
     "schema_version": 3,
     "solution": false,
     "task": false
    }
   },
   "outputs": [
    {
     "name": "stdout",
     "output_type": "stream",
     "text": [
      "                   -0.25  -0.25  0.125  0.125\n",
      "0.707106781186547⋅π     ⋅h̅     ⋅k     ⋅m     \n"
     ]
    }
   ],
   "source": [
    "# Solve for the factor we'd have to include if we want the wave function to be normalized\n",
    "c1 = 1/definite_integral**.5\n",
    "sp.pprint(c1)"
   ]
  },
  {
   "cell_type": "code",
   "execution_count": 7,
   "id": "d693bea4",
   "metadata": {
    "nbgrader": {
     "grade": true,
     "grade_id": "cell-8666c09a2f42f797",
     "locked": false,
     "points": 4,
     "schema_version": 3,
     "solution": true,
     "task": false
    }
   },
   "outputs": [
    {
     "name": "stdout",
     "output_type": "stream",
     "text": [
      "1.00000000000000\n"
     ]
    }
   ],
   "source": [
    "# Test this by integrating (c1*psi1_unnormalized)**2\n",
    "### BEGIN SOLUTION\n",
    "integrand = (c1*psi1_unnormalized)**2\n",
    "definite_integral = sp.integrate(integrand,(x,-sp.oo,sp.oo))\n",
    "sp.pprint(definite_integral)\n",
    "### END SOLUTION"
   ]
  },
  {
   "cell_type": "markdown",
   "id": "91906c7c",
   "metadata": {
    "nbgrader": {
     "grade": false,
     "grade_id": "cell-2e1c38dd9c161354",
     "locked": true,
     "schema_version": 3,
     "solution": false,
     "task": false
    }
   },
   "source": [
    "### Refreshing and saving your code\n",
    "1. Use the dropdown menu Kernel/Restart\n",
    "2. Use the dropdown menu Cell/Run All Above\n",
    "3. Under the \"File\" dropdown menu item in the upper left is a disk icon. Press it now to save your work (you can, do this at any time as you're working on an assignment, actually).\n",
    "\n",
    "### Validating\n",
    "This step will help ensure that you didn't miss something (although it's not a guarantee). Find the \"Validate\" button and press it. If there are any errors or warnings, fix them.\n",
    "\n",
    "### Finishing up\n",
    "Assuming all this has gone smoothly, carry out three more steps (but read this carefully before starting):\n",
    "1. Close this notebook using the \"File/Close and Halt\" dropdown menu\n",
    "1. Using the Assignments tab, submit this notebook\n",
    "1. Press the Logout tab of the Home Page"
   ]
  }
 ],
 "metadata": {
  "celltoolbar": "Create Assignment",
  "kernelspec": {
   "display_name": "Python 3 (ipykernel)",
   "language": "python",
   "name": "python3"
  },
  "language_info": {
   "codemirror_mode": {
    "name": "ipython",
    "version": 3
   },
   "file_extension": ".py",
   "mimetype": "text/x-python",
   "name": "python",
   "nbconvert_exporter": "python",
   "pygments_lexer": "ipython3",
   "version": "3.10.2"
  }
 },
 "nbformat": 4,
 "nbformat_minor": 5
}

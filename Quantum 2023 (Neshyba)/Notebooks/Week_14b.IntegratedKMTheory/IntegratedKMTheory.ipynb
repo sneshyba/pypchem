{
 "cells": [
  {
   "cell_type": "markdown",
   "id": "9077431b",
   "metadata": {
    "nbgrader": {
     "grade": false,
     "grade_id": "cell-d3733011892ac5a3",
     "locked": true,
     "schema_version": 3,
     "solution": false,
     "task": false
    }
   },
   "source": [
    "### Neshyba, 2023\n",
    "\n",
    "\n",
    "# Integrated kinetic-molecular formulas for the reversible expansion of an ideal gas\n",
    "\n",
    "## Introduction\n",
    "This CGI builds on our previous question, what's going on at the molecular level when we carry out an isothermal reversible expansion of a gas? Here, however, we'll extend our previous results to finite (as opposed to infinitessimal) changes in volume. \n",
    "\n",
    "\n",
    "## Numerical integration\n",
    "\n",
    "We argued previously that the kinetic-molecular formula for the inflow of heat during an infinitessimally small expansion is given by $dq_{kinetic} = -Z \\times \\delta KE \\times A \\times dt$, which simplified to $dq_{kinetic,simplified} =  n M v^2 {dV \\over V}$. For an expansion that's too big to be considered infinitessimally small, we'll need to add up a series of $dq_{kinetic}$ values until the gas has expanded to our final, desired volume. To do this numerically, we'd write this as\n",
    "\n",
    "$$\n",
    "q_{kinetic,numerical} \\approx \\sum_{V_{init}}^{V_{final}} n M v^2 {dV \\over V} \\ \\ \\ \\ (1)\n",
    "$$\n",
    "\n",
    "A few notes about this equation. First, this is easy to do in Python -- it's what Numpy's np.sum function does. Second, in doing such a sum, we'd want to be sure that each term in the sum is small enough that it could be considered a good approximation to a truely infinitessimal quantity. (That's the sense we intended previously, when we said that $dt$ and $dx$ need to be \"small.\") Third, in constructing such a sum, we'd need to make sure that the  volume in the denominator is updated for each step. We're just mentioning this because we forgot to do that the first time through this. \n",
    "\n",
    "## Analytical integration\n",
    "\n",
    "If a summation really does contain infinitessimal quantities, we should be able to express it in terms of calculus, right? In other words, the summation in Eq. 1 would be expressed as \n",
    "\n",
    "$$\n",
    "q_{kinetic,analytical} = \\int_{V_{init}}^{V_{final}} n M v^2 {dV \\over V} \\ \\ \\ \\ (2)\n",
    "$$\n",
    "\n",
    "To evaluate this integral, you'll find it convenient to pull out of the integral anything that remains constant over the course of the expansion of the gas. Obviously, $n$ and and $M$ could come out. But do we get to pull $v^2$ out too? The answer to this last question hinges on the question of isothermality: if we're insisting that enough heat comes in during the process, such that the gas keeps the same temperature throughout the expansion, that implies something about $v^2$.\n",
    "\n",
    "## Analytical integration of our thermodynamic formua\n",
    "\n",
    "We said before that, according to Thermodynamics, the infinessimal work done by an expanding ideal gas, $dw = -P_{ex}dV$, under isothermal and reversible conditions, and invoking the 1st Law, translates to $dq_{thermo} = nRT {dV \\over V}$. For an expansion over many such steps, we'd want to integrate over $V$, \n",
    "\n",
    "$$\n",
    "q_{thermo} = \\int_{V_{init}}^{V_{final}} nRT {dV \\over V}  \\ \\ \\ \\ (3)\n",
    "$$\n",
    "\n",
    "## The idea of this exericse\n",
    "A test of the kinetic-molecular theory laid out above would, naturally, be to evaluate whether Eqs. 1, 2, and 3 give (close to) the same answers. If so, it adds support to the notion that the heat that flows into an expanding gas is compensating for the reduction in the kinetic energy of molecules hitting the receding wall.\n",
    "\n",
    "## Learning goals\n",
    "The main learning goals of this exercise are \n",
    "1. I can show that integrated forms of the infinitessimal movements of heat matche predictions using the the 1st Law of Thermodynamics.\n",
    "1. I know how to set up loops for the purpose of numerical integration."
   ]
  },
  {
   "cell_type": "code",
   "execution_count": 1,
   "id": "863f0064",
   "metadata": {
    "nbgrader": {
     "grade": false,
     "grade_id": "cell-543650c0fffd502b",
     "locked": true,
     "schema_version": 3,
     "solution": false,
     "task": false
    }
   },
   "outputs": [],
   "source": [
    "import pint; from pint import UnitRegistry; AssignQuantity = UnitRegistry().Quantity\n",
    "import numpy as np\n",
    "import matplotlib.pyplot as plt"
   ]
  },
  {
   "cell_type": "code",
   "execution_count": 2,
   "id": "3b203456",
   "metadata": {
    "nbgrader": {
     "grade": false,
     "grade_id": "cell-ca2575977bf062e4",
     "locked": true,
     "schema_version": 3,
     "solution": false,
     "task": false
    }
   },
   "outputs": [],
   "source": [
    "# Constants\n",
    "R = AssignQuantity(8.314,'joule/mol/K')\n",
    "NA = AssignQuantity(6.02e23,'1/mol')\n",
    "T = AssignQuantity(293,'K')\n",
    "n = AssignQuantity(1,'mol')\n",
    "\n",
    "# We're assuming O2 gas here\n",
    "M = AssignQuantity(32,'g/mol')"
   ]
  },
  {
   "cell_type": "markdown",
   "id": "7c19b29c",
   "metadata": {
    "nbgrader": {
     "grade": false,
     "grade_id": "cell-fcd6b81bc810a213",
     "locked": true,
     "schema_version": 3,
     "solution": false,
     "task": false
    }
   },
   "source": [
    "### Specifying the initial state of our gas\n",
    "In the cell below, we specify the initial state of our gas, and the box it's in. "
   ]
  },
  {
   "cell_type": "code",
   "execution_count": 3,
   "id": "e56b1fa9",
   "metadata": {
    "nbgrader": {
     "grade": false,
     "grade_id": "cell-c8d6439897809ae6",
     "locked": true,
     "schema_version": 3,
     "solution": false,
     "task": false
    }
   },
   "outputs": [
    {
     "name": "stdout",
     "output_type": "stream",
     "text": [
      "1.2180010000000001 kilojoule / mole\n",
      "275.90770648896347 meter / second\n",
      "Initial volume =  24.000000000000007 decimeter ** 3\n",
      "Initial distance in the x-direction =  5 decimeter\n",
      "Moving the wall from  5 decimeter  to  15.0 decimeter\n",
      "Sides of the wall =  2.1908902300206647 decimeter\n",
      "Final volume =  72.00000000000003 decimeter ** 3\n"
     ]
    }
   ],
   "source": [
    "# Average kinetic energy in the x-direction, using the equipartition theorem\n",
    "KE = 0.5*R*T;\n",
    "KE.ito('kjoule/mol')\n",
    "print(KE)\n",
    "\n",
    "# RMS speed associated with that average\n",
    "v = (2/M*KE)**.5\n",
    "v.ito('m/s')\n",
    "print(v)\n",
    "\n",
    "# Specify the initial volume of our gas \n",
    "Vinit = AssignQuantity(24,'liter')\n",
    "Vinit.ito('dm^3')\n",
    "print('Initial volume = ', Vinit)\n",
    "\n",
    "# Specify the starting length in the x-direction\n",
    "xinit = AssignQuantity(5,'decimeter')\n",
    "print('Initial distance in the x-direction = ', xinit)\n",
    "\n",
    "# Specify how much the wall will move out (can be big because we're going to integrate!)\n",
    "deltax = AssignQuantity(100,'centimeter')\n",
    "print('Moving the wall from ', xinit, ' to ', xinit+deltax) \n",
    "\n",
    "# Deduce the area in the y & z directions consistent with the initial x and volume\n",
    "A = Vinit/xinit\n",
    "print('Sides of the wall = ', A**.5)\n",
    "\n",
    "# Deduce the final volume too\n",
    "Vfinal = Vinit + deltax*A\n",
    "print('Final volume = ', Vfinal)"
   ]
  },
  {
   "cell_type": "markdown",
   "id": "658fef38",
   "metadata": {
    "nbgrader": {
     "grade": false,
     "grade_id": "cell-16b718590a621f70",
     "locked": true,
     "schema_version": 3,
     "solution": false,
     "task": false
    }
   },
   "source": [
    "### A functionalized way of computing the infinitessimal heating for a small expansion\n",
    "It'll be handy to have a \"functionalized\" way of computing the infinitessimal heating for a small expansion. We do that in the cell below, making use of Eq. 2 in the Introduction.\n",
    "\n",
    "The second part of this cell makes a call to this function to make sure it works."
   ]
  },
  {
   "cell_type": "code",
   "execution_count": 4,
   "id": "812801ab",
   "metadata": {},
   "outputs": [],
   "source": [
    "def get_dq_kinetic_simplified(n, M, v, V, dx, A):\n",
    "    ###  This is a functionalized computation of the infinitessimal heating for a small expansion. ###\n",
    "    \n",
    "    dV = A*dx\n",
    "    dq_kinetic = n*M*v**2*dV/V\n",
    "    dq_kinetic.ito('joule')\n",
    "    \n",
    "    return dq_kinetic"
   ]
  },
  {
   "cell_type": "markdown",
   "id": "b193483b",
   "metadata": {
    "nbgrader": {
     "grade": false,
     "grade_id": "cell-806e20016f215eac",
     "locked": true,
     "schema_version": 3,
     "solution": false,
     "task": false
    }
   },
   "source": [
    "### Numerical integration of our kinetic-molecular results\n",
    "Assuming we're happy with our get_dq_kinetic_simplified function, we'll put it in a loop to simulate many steps -- see Eq. 1 in the Introduction."
   ]
  },
  {
   "cell_type": "code",
   "execution_count": 5,
   "id": "f86744a8",
   "metadata": {
    "nbgrader": {
     "grade": true,
     "grade_id": "cell-0ed094ad62461a5c",
     "locked": false,
     "points": 2,
     "schema_version": 3,
     "solution": true,
     "task": false
    }
   },
   "outputs": [
    {
     "name": "stdout",
     "output_type": "stream",
     "text": [
      "Here's our long list of dq values:\n",
      "[97.44008000000002 93.69238461538463 90.2222962962963 87.00007142857143 84.00006896551726 81.20006666666669 78.58070967741938 76.12506250000001 73.81824242424244 71.64711764705882 69.60005714285717 67.66672222222223 65.83789189189191 64.1053157894737 62.461589743589755 60.900050000000014 59.41468292682928 58.000047619047635 56.65120930232558 55.36368181818184 54.13337777777778 52.95656521739131 51.82982978723405 50.750041666666675 49.71432653061225 48.72004000000001 47.76474509803923 46.84619230769231 45.96230188679246 45.11114814814815 44.29094545454546 43.500035714285715 42.73687719298246 42.00003448275863 41.28816949152543 40.600033333333336 39.93445901639345 39.29035483870969 38.66669841269842 38.06253125 37.476953846153854 36.90912121212122 36.35823880597015 35.82355882352941 35.30437681159421 34.800028571428584 34.30988732394367 33.83336111111112 33.36989041095891 32.91894594594596] joule \n",
      "\n",
      "q_kinetic from numerical integration =  2708.9904191479195 joule\n"
     ]
    }
   ],
   "source": [
    "# Also need to specify the number of steps, and the dx associated with each step\n",
    "nsteps = 50\n",
    "dx = deltax/nsteps\n",
    "\n",
    "# Specify an empty array that will hold our list of infinitessimal heating for each step\n",
    "dq_kinetic_array = AssignQuantity([],'joule')\n",
    "\n",
    "# Loop over our steps, updating our starting volume and recording the heat as we go along\n",
    "### BEGIN SOLUTION\n",
    "for i in range(nsteps):\n",
    "    \n",
    "    # This finds the volume at this point in the expansion\n",
    "    Vinit_this_step = Vinit + i*dx*A\n",
    "    \n",
    "    # Make a call to get_dq_kinetic_simplified to get dq_kinetic_this_step\n",
    "    dq_kinetic_this_step = get_dq_kinetic_simplified(n, M, v, Vinit_this_step, dx, A)\n",
    "    \n",
    "    # This appends the heat transfer for this step to an ever-growing list of dq's\n",
    "    dq_kinetic_array = np.append(dq_kinetic_array, dq_kinetic_this_step)\n",
    "### END SOLUTION\n",
    "\n",
    "print(\"Here's our long list of dq values:\")\n",
    "print(dq_kinetic_array,'\\n')\n",
    "\n",
    "# This is the numerical equivalent of integrating over all the steps (Eq. 1)\n",
    "q_kinetic_numerical = np.sum(dq_kinetic_array)\n",
    "print('q_kinetic from numerical integration = ', q_kinetic_numerical)"
   ]
  },
  {
   "cell_type": "markdown",
   "id": "40a4e028",
   "metadata": {
    "nbgrader": {
     "grade": false,
     "grade_id": "cell-070d955a90cedcb7",
     "locked": true,
     "schema_version": 3,
     "solution": false,
     "task": false
    }
   },
   "source": [
    "### Analytical integration of our kinetic-molecular results \n",
    "In the cell below, evaluate the heat transferred using our integrated kinetic-molecular formula (based on Eq. 2)."
   ]
  },
  {
   "cell_type": "code",
   "execution_count": 6,
   "id": "1220f761",
   "metadata": {
    "nbgrader": {
     "grade": true,
     "grade_id": "cell-410791f64f9a69ba",
     "locked": false,
     "points": 0,
     "schema_version": 3,
     "solution": true,
     "task": false
    }
   },
   "outputs": [
    {
     "name": "stdout",
     "output_type": "stream",
     "text": [
      "q_kinetic from analytical integration =  2676.2217324200933 joule\n"
     ]
    }
   ],
   "source": [
    "### BEGIN SOLUTION\n",
    "q_kinetic_analytical = n*M*v**2*np.log(Vfinal/Vinit)\n",
    "q_kinetic_analytical.ito('joule')\n",
    "print('q_kinetic from analytical integration = ', q_kinetic_analytical)\n",
    "### END SOLUTION"
   ]
  },
  {
   "cell_type": "markdown",
   "id": "c79d6970",
   "metadata": {
    "nbgrader": {
     "grade": false,
     "grade_id": "cell-6173e02b5a5ea820",
     "locked": true,
     "schema_version": 3,
     "solution": false,
     "task": false
    }
   },
   "source": [
    "### Pause for analysis\n",
    "Calculate (and print) the difference (%) between the numerical and analytical results you just got (i.e., Eq. 1 vs Eq. 2)."
   ]
  },
  {
   "cell_type": "code",
   "execution_count": 7,
   "id": "e1da2e33",
   "metadata": {
    "nbgrader": {
     "grade": true,
     "grade_id": "cell-4ef140b4da871fc7",
     "locked": false,
     "points": 1,
     "schema_version": 3,
     "solution": true,
     "task": false
    }
   },
   "outputs": [
    {
     "name": "stdout",
     "output_type": "stream",
     "text": [
      "Error =  -1.2244384062375002 dimensionless\n"
     ]
    }
   ],
   "source": [
    "### BEGIN SOLUTION\n",
    "error = (q_kinetic_analytical-q_kinetic_numerical)/q_kinetic_analytical*100\n",
    "print('Error = ', error)\n",
    "### END SOLUTION"
   ]
  },
  {
   "cell_type": "markdown",
   "id": "82767543",
   "metadata": {
    "nbgrader": {
     "grade": false,
     "grade_id": "cell-2cf7dde77ef951c7",
     "locked": true,
     "schema_version": 3,
     "solution": false,
     "task": false
    }
   },
   "source": [
    "### Thermodynamic results\n",
    "In the cell below, evaluate the heat transferred using our integrated thermodynamic formula (based on Eq. 3)."
   ]
  },
  {
   "cell_type": "code",
   "execution_count": 8,
   "id": "01ef26bd",
   "metadata": {
    "nbgrader": {
     "grade": true,
     "grade_id": "cell-d38e9c0f33ca3599",
     "locked": false,
     "points": 2,
     "schema_version": 3,
     "solution": true,
     "task": false
    }
   },
   "outputs": [
    {
     "name": "stdout",
     "output_type": "stream",
     "text": [
      "2676.221732420093 joule\n"
     ]
    }
   ],
   "source": [
    "### BEGIN SOLUTION\n",
    "q_thermodynamic = n*R*T*np.log(Vfinal/Vinit)\n",
    "print(q_thermodynamic)\n",
    "### END SOLUTION"
   ]
  },
  {
   "cell_type": "markdown",
   "id": "f549f830",
   "metadata": {
    "nbgrader": {
     "grade": false,
     "grade_id": "cell-b197a569d05aef1d",
     "locked": true,
     "schema_version": 3,
     "solution": false,
     "task": false
    }
   },
   "source": [
    "### Pause for analysis\n",
    "Calculate (and print) the difference (%) between your analytical results (i.e., Eq. 2 vs Eq. 3).\n",
    "\n",
    "By the way, in situations like this, if an error is $<10^{-10} \\%$, you can assume that it is due to precision issues (like how precise Python stores floating point numbers). That is, differences that small are not meaninful."
   ]
  },
  {
   "cell_type": "code",
   "execution_count": 9,
   "id": "d125208d",
   "metadata": {
    "nbgrader": {
     "grade": true,
     "grade_id": "cell-c58eeec91db40093",
     "locked": false,
     "points": 2,
     "schema_version": 3,
     "solution": true,
     "task": false
    }
   },
   "outputs": [
    {
     "name": "stdout",
     "output_type": "stream",
     "text": [
      "Error of the analytical result (%) =  2.220446049250313e-14 dimensionless\n"
     ]
    }
   ],
   "source": [
    "### BEGIN SOLUTION\n",
    "\n",
    "error = (q_kinetic_analytical/q_thermodynamic-1)*100\n",
    "print('Error of the analytical result (%) = ', error)\n",
    "\n",
    "\n",
    "### END SOLUTION"
   ]
  },
  {
   "cell_type": "markdown",
   "id": "9bf6da76",
   "metadata": {
    "nbgrader": {
     "grade": false,
     "grade_id": "cell-a8c5600707a1b0a4",
     "locked": true,
     "schema_version": 3,
     "solution": false,
     "task": false
    }
   },
   "source": [
    "### Refreshing and saving your code\n",
    "1. Use the dropdown menu Kernel/Restart\n",
    "2. Use the dropdown menu Cell/Run All Above\n",
    "3. Under the \"File\" dropdown menu item in the upper left is a disk icon. Press it now to save your work (you can, do this at any time as you're working on an assignment, actually).\n",
    "\n",
    "### Validating\n",
    "This step will help ensure that you didn't miss something (although it's not a guarantee). Find the \"Validate\" button and press it. If there are any errors or warnings, fix them.\n",
    "\n",
    "### Finishing up\n",
    "Assuming all this has gone smoothly, carry out three more steps (but read this carefully before starting):\n",
    "1. Close this notebook using the \"File/Close and Halt\" dropdown menu\n",
    "1. Using the Assignments tab, submit this notebook\n",
    "1. Press the Logout tab of the Home Page"
   ]
  }
 ],
 "metadata": {
  "celltoolbar": "Create Assignment",
  "kernelspec": {
   "display_name": "Python 3 (ipykernel)",
   "language": "python",
   "name": "python3"
  },
  "language_info": {
   "codemirror_mode": {
    "name": "ipython",
    "version": 3
   },
   "file_extension": ".py",
   "mimetype": "text/x-python",
   "name": "python",
   "nbconvert_exporter": "python",
   "pygments_lexer": "ipython3",
   "version": "3.10.2"
  }
 },
 "nbformat": 4,
 "nbformat_minor": 5
}

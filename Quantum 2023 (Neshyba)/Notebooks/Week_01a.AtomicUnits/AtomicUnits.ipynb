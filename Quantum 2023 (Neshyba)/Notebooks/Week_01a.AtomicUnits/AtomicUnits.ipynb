{
 "cells": [
  {
   "cell_type": "markdown",
   "metadata": {
    "nbgrader": {
     "grade": false,
     "grade_id": "cell-2fbedee8455c6341",
     "locked": true,
     "schema_version": 3,
     "solution": false,
     "task": false
    }
   },
   "source": [
    "### Computational Guided Inquiry for PChem (Neshyba, 2023)\n",
    "\n",
    "## Introduction to atomic units\n",
    "In this module, you'll get an introduction to Python coding in Jupyterhub Notebook. It'll be mostly about navigating your way around this \"ecosystem.\" The context will be what's called the blackbody radiance or Planck formula, which provides the intensity of light energy coming off a solid object,\n",
    "\n",
    "$$\n",
    "B_\\nu = {2 h \\nu^3 \\over c^2}{ 1 \\over exp({h\\nu \\over k_B T})-1} \\ \\ \\ \\ (1)\n",
    "$$\n",
    "\n",
    "where $\\nu$ is the frequency of light, $c$ is the speed of light, $h$ is Planck's constant, $k_B$ is Boltzmann's constant, and $T$ is the temperature of the solid (see https://en.wikipedia.org/wiki/Planck%27s_law; this is analogous to Eq. $I2.3$ in Shepherd & Grushow.). Its derivation by Max Planck -- see https://en.wikipedia.org/wiki/Max_Planck -- was a fundamental step in the path to the development (or should we say \"discovery\"?) of quantum mechanics.\n",
    "\n",
    "### Markdown cells and code cells\n",
    "The text you're reading is enclosed in a box called a \"markdown cell.\" Markdown cells have text, equations, etc. A second type of cell is called a \"code cell.\" Code cells do all the computing work in a Python Notebook. \n",
    "\n",
    "### E-format convention for scientific notation\n",
    "When working in a computational environment like Python, it's important to get used to entering numbers in scientific notation using the *e-format convention*. For example, Boltzmann's constant, $k_B$, might be written $1.3806×10^{-23}$ (in units $m^2 \\ kg \\ s^{-2} \\ K^{-1}$), but in Python you would enter it as \"1.3806e-23\". The \"e\" can be \"E\", by the way; the e-format convention is not case-sensitive.\n",
    "\n",
    "### Named variables\n",
    "Trying to not overload you too much in this introduction, but one more idea that will help as you go through this module is that Python has a built-in way of storing quantities, called *named variables*. What we mean by this is, when you calculate a quantity (say, the intensity of light energy emitted by a solid object), you have the option of giving that intensity a unique  name -- it can be as simple as \"R\" -- then Python will keep that value for you to use later. This might not sound like much, but when you're faced with the complex, multi-step calculations typical of quantum mechanics, it's very handy -- essential, really. \n",
    "\n",
    "### Coherent unit systems\n",
    "The foregoing example brings up a key point: unless a number is dimensionless (like $\\pi$), we need to pay attention to its *units*. Units are always a bit of a bother in ... all of pchem. There are two aspects of this that you need to be aware of, that will make dealing with units a lot easier. \n",
    "\n",
    "*Coherence*. Designed properly, units come in collections called *coherent unit systems*. For example, in the SI unit system (a favorite among thermodynamicists), the unit for time is seconds, for distance it's meters, etc. Turns out, SI is a bit awkward for atomic-scale manipulation, however. For example, Planck's constant $\\hbar=1.055 \\times 10^{-34}$ Joule-seconds (it's just so *small*). A coherent unit system more useful for quantum-mechanical calculations is the Hartree atomic unit system, in which $\\hbar=1$!\n",
    "\n",
    "*The SI guarantee (or Atomic Unit Guarantee)*. A recurring question in any quantitative science is, what are the units of formulas like $B_\\nu$ above? You *could* go through the bother of unit analysis of all the variables that go *into* the calculation ($\\nu$, $c$, etc.), to figure that out. OR you could recognize that in a coherent unit system, you are *guaranteed* that if the inputs belong to a given coherent unit system, then the output (in this case, $B_\\nu$) belongs to the same unit system! That means, if $\\nu$, $c$, etc. are in SI, then $B_\\nu$ is SI, and if $\\nu$, $c$, etc. are in atomic units, then $B_\\nu$ is in atomic units.\n",
    "\n",
    "You can check out https://en.wikipedia.org/wiki/Coherence_(units_of_measurement) for a complete definition of coherence, https://en.wikipedia.org/wiki/International_System_of_Units for details about the SI system, and https://en.wikipedia.org/wiki/Hartree_atomic_units for a description of the Hartree atomic unit system. \n",
    "\n",
    "### Unit managers\n",
    "\n",
    "In Python, the managing of units is all made much simpler thanks to a unit system handler called *pint* (see http://pint.readthedocs.org/en/latest/nonmult.html). This CGI module will get you grounded in the basics. \n",
    "\n",
    "### Python functions\n",
    "\n",
    "Python (and most hand-held calculators) have built-in functions, like $e^x$ or $sin(x)$. But we'll have need to create our own functions too. One example: the Planck blackbody radiance function defined in Eq. (1). You'll get some practice at that in this CGI. \n",
    "\n",
    "### Learning goals\n",
    "The main learning goals of this exercise can be phrased follows. \n",
    "1. I can create named variables in Python.\n",
    "1. I can enter numbers in scientific notation using the E-format convention.\n",
    "1. I'm familiar with key aspects of *pint*, e.g., specifying quantities with units, and making conversions.\n",
    "1. I'm familiar with constants often used in a quantum-mechanical context: $c$ is speed of light, $h$ is Planck's constant, and $k_B$ is Boltzmann's constant.\n",
    "1. I'm familiar with the syntax of Python functions, and can use them."
   ]
  },
  {
   "cell_type": "markdown",
   "metadata": {
    "nbgrader": {
     "grade": false,
     "grade_id": "cell-c9fe89d015f072b8",
     "locked": true,
     "schema_version": 3,
     "solution": false,
     "task": false
    }
   },
   "source": [
    "### Importing resources\n",
    "The next cell imports graphics, numerical algorithms, and unit conversions. It's executed by clicking in the cell and holding down the \"shift\" button as you press enter. Do that now."
   ]
  },
  {
   "cell_type": "code",
   "execution_count": 1,
   "metadata": {
    "nbgrader": {
     "grade": false,
     "grade_id": "cell-46fce2670e3e56be",
     "locked": true,
     "schema_version": 3,
     "solution": false,
     "task": false
    }
   },
   "outputs": [],
   "source": [
    "import pint; from pint import UnitRegistry; AssignQuantity = UnitRegistry(system='atomic').Quantity\n",
    "import numpy as np\n",
    "import matplotlib.pyplot as plt\n",
    "%matplotlib notebook"
   ]
  },
  {
   "cell_type": "markdown",
   "metadata": {
    "nbgrader": {
     "grade": false,
     "grade_id": "cell-a640f3273799cd1e",
     "locked": true,
     "schema_version": 3,
     "solution": false,
     "task": false
    }
   },
   "source": [
    "### Defining variables with units, and making conversions\n",
    "A variable *time* defined in the following cell, in SI units, and then converted into atomic units."
   ]
  },
  {
   "cell_type": "code",
   "execution_count": 2,
   "metadata": {
    "nbgrader": {
     "grade": false,
     "grade_id": "cell-a01fb2a5996becf8",
     "locked": true,
     "schema_version": 3,
     "solution": false,
     "task": false
    }
   },
   "outputs": [
    {
     "name": "stdout",
     "output_type": "stream",
     "text": [
      "1 second\n",
      "4.134137333518244e+16 atomic_unit_of_time\n",
      "4.134137333518244e+16 atomic_unit_of_time\n"
     ]
    }
   ],
   "source": [
    "# Defining a quantity time=1 second\n",
    "time = AssignQuantity(1,'sec')\n",
    "print(time)\n",
    "\n",
    "# Converting and printing\n",
    "time.ito('atomic_unit_of_time')\n",
    "print(time)\n",
    "\n",
    "# Converting and printing on the same line\n",
    "time.ito('atomic_unit_of_time'); print(time)"
   ]
  },
  {
   "cell_type": "markdown",
   "metadata": {
    "nbgrader": {
     "grade": false,
     "grade_id": "cell-67c51ee87075aea6",
     "locked": true,
     "schema_version": 3,
     "solution": false,
     "task": false
    }
   },
   "source": [
    "### Pause for analysis\n",
    "The fact that 1 second equals something like $10^{16}$ atomic time units tells you that the atomic time unit is *very tiny* (compared to 1 second). \n",
    "\n",
    "We also want to point out a Python syntax thing. If you look carefully at the cell above, you'll notice that we put a semicolon between two Python commands on the same line. For example, instead of \n",
    "\n",
    "    time.ito('atomic_unit_of_time')\n",
    "    print(time)\n",
    "\n",
    "we wrote\n",
    "\n",
    "    time.ito('atomic_unit_of_time'); print(time)P_ideal = AssignQuantity(1,\"atm\"); print(P_ideal)\n",
    "\n",
    "These do exactly the same thing, it just makes for more compact code (which some people like)."
   ]
  },
  {
   "cell_type": "markdown",
   "metadata": {
    "nbgrader": {
     "grade": false,
     "grade_id": "cell-3ee4f9c67e04da73",
     "locked": true,
     "schema_version": 3,
     "solution": false,
     "task": false
    }
   },
   "source": [
    "### Your turn\n",
    "In the cell below, do something like the above, but with variable *energy* specified as *1 joule*; then convert to the atomic energy unit *hartree*. Print your results. Repeat for distance (the atomic unit for distance is a *Bohr*)."
   ]
  },
  {
   "cell_type": "code",
   "execution_count": 3,
   "metadata": {
    "nbgrader": {
     "grade": true,
     "grade_id": "cell-2e74872a59c9b847",
     "locked": false,
     "points": 4,
     "schema_version": 3,
     "solution": true,
     "task": false
    }
   },
   "outputs": [
    {
     "name": "stdout",
     "output_type": "stream",
     "text": [
      "1 joule\n",
      "2.2937122783962883e+17 hartree\n",
      "1 meter\n",
      "18897261246.22279 bohr\n"
     ]
    }
   ],
   "source": [
    "# Assign energy = 1 Joule using AssignQuantity\n",
    "### BEGIN SOLUTION\n",
    "energy = AssignQuantity(1,'joule'); print(energy)\n",
    "### END SOLUTION\n",
    "\n",
    "# Convert the energy to Hartrees\n",
    "### BEGIN SOLUTION\n",
    "energy.ito('hartree'); print(energy)\n",
    "### END SOLUTION\n",
    "\n",
    "# Assign distance = 1 meter using AssignQuantity\n",
    "### BEGIN SOLUTION\n",
    "distance = AssignQuantity(1,'meter'); print(distance)\n",
    "### END SOLUTION\n",
    "\n",
    "# Convert the distance to Bohr\n",
    "### BEGIN SOLUTION\n",
    "distance.ito('bohr'); print(distance)\n",
    "### END SOLUTION"
   ]
  },
  {
   "cell_type": "markdown",
   "metadata": {
    "nbgrader": {
     "grade": false,
     "grade_id": "cell-1ed4e19e189e9675",
     "locked": true,
     "schema_version": 3,
     "solution": false,
     "task": false
    }
   },
   "source": [
    "### Pause for analysis\n",
    "In the cell below, use the result you just got to argue whether \n",
    "\n",
    "1. A hartree is *smaller*, or much *bigger*, than a joule.\n",
    "1. A bohr is *smaller*, or much *bigger*, than a meter."
   ]
  },
  {
   "cell_type": "markdown",
   "metadata": {
    "nbgrader": {
     "grade": true,
     "grade_id": "cell-65e243ab2ac20b2c",
     "locked": false,
     "points": 2,
     "schema_version": 3,
     "solution": true,
     "task": false
    }
   },
   "source": [
    "### BEGIN SOLUTION\n",
    "A hartree is much smaller than a joule  \n",
    "A bohr is much smaller than a meter\n",
    "### END SOLUTION"
   ]
  },
  {
   "cell_type": "markdown",
   "metadata": {
    "nbgrader": {
     "grade": false,
     "grade_id": "cell-29d015760a1348c5",
     "locked": true,
     "schema_version": 3,
     "solution": false,
     "task": false
    }
   },
   "source": [
    "### Pause for analysis\n",
    "From the foregoing, you've probably noticed something about atomic units: they're *small*. That's because atoms and molecules are small. For the same reason, we might expect that the magnitude of certain *constants* tend to be really *small* in SI, but of a \"normal\" size in atomic units. \n",
    "\n",
    "To explore this idea in terms of Planck's constant *h*, in the cell below, do the following:\n",
    "\n",
    "- Use AssignQuantity to create variable $h$ with a value of $6.62607015 \\times 10^{34}$ joule seconds (that's the SI value). Use the e-format notation to do this.\n",
    "- Create another variable, $hbar$, equal to $h \\over 2 \\pi$.\n",
    "- Convert both to atomic units (\"hartree atomic_unit_of_time\"), and print the results."
   ]
  },
  {
   "cell_type": "code",
   "execution_count": 4,
   "metadata": {
    "nbgrader": {
     "grade": true,
     "grade_id": "cell-0aabcf96aa827b58",
     "locked": false,
     "points": 2,
     "schema_version": 3,
     "solution": true,
     "task": false
    }
   },
   "outputs": [
    {
     "name": "stdout",
     "output_type": "stream",
     "text": [
      "6.62607015e-34 joule * second\n",
      "6.283185307179585 atomic_unit_of_time * hartree\n",
      "0.9999999999999999 atomic_unit_of_time * hartree\n"
     ]
    }
   ],
   "source": [
    "### BEGIN SOLUTION\n",
    "h = AssignQuantity(6.62607015e-34,'joule second'); print(h)\n",
    "h.ito('hartree atomic_unit_of_time'); print(h)\n",
    "print(h/(2*np.pi))\n",
    "### END SOLUTION"
   ]
  },
  {
   "cell_type": "markdown",
   "metadata": {
    "nbgrader": {
     "grade": false,
     "grade_id": "cell-dc3ed948691d0240",
     "locked": true,
     "schema_version": 3,
     "solution": false,
     "task": false
    }
   },
   "source": [
    "### Pause for analysis\n",
    "If all went well in the cell above, you should have got the result that $\\hbar \\approx 1$ in atomic units. In fact, in fact, in atomic units, $\\hbar = 1$ *exactly*.\n",
    "\n",
    "### Your turn: specifying constants in atomic units\n",
    "In the cell below, use AssignQuantity to create the following four variables, in atomic units, and print them (see https://en.wikipedia.org/wiki/Hartree_atomic_units): \n",
    "\n",
    "- $hbar = 1$ atomic_unit_of_time $\\times$ hartree\n",
    "- $h = 2 \\pi$ atomic_unit_of_time $\\times$ hartree\n",
    "- $c = 137.036$ bohr / atomic_unit_of_time\n",
    "- $k_B = 3.166811 \\times 10^{-6}$ hartree / K\n",
    "\n"
   ]
  },
  {
   "cell_type": "code",
   "execution_count": 5,
   "metadata": {
    "nbgrader": {
     "grade": true,
     "grade_id": "cell-104cf2f288f2cd17",
     "locked": false,
     "points": 2,
     "schema_version": 3,
     "solution": true,
     "task": false
    }
   },
   "outputs": [
    {
     "name": "stdout",
     "output_type": "stream",
     "text": [
      "1 atomic_unit_of_time * hartree\n",
      "6.283185307179586 atomic_unit_of_time * hartree\n",
      "137.036 bohr / atomic_unit_of_time\n",
      "3.166811e-06 hartree / kelvin\n"
     ]
    }
   ],
   "source": [
    "### BEGIN SOLUTION\n",
    "hbar = AssignQuantity(1,'atomic_unit_of_time * hartree'); print(hbar)\n",
    "h = hbar*2*np.pi; print(h)\n",
    "c = AssignQuantity(137.036,'bohr / atomic_unit_of_time'); print(c)\n",
    "kB = AssignQuantity(3.166811e-6, 'hartree / K'); print(kB)\n",
    "### END SOLUTION"
   ]
  },
  {
   "cell_type": "markdown",
   "metadata": {
    "nbgrader": {
     "grade": false,
     "grade_id": "cell-b7bff8ed078dc25b",
     "locked": true,
     "schema_version": 3,
     "solution": false,
     "task": false
    }
   },
   "source": [
    "### Python functions\n",
    "In the next cell, we define a *Python function*. This particular function implements Eq. (1) in the Introduction. This is really handy when you want to use the same formula multiple times."
   ]
  },
  {
   "cell_type": "code",
   "execution_count": 6,
   "metadata": {
    "nbgrader": {
     "grade": false,
     "grade_id": "cell-093f33ac46f08896",
     "locked": true,
     "schema_version": 3,
     "solution": false,
     "task": false
    }
   },
   "outputs": [],
   "source": [
    "def B_nu(nu,T,h,c,kB):\n",
    "    \"Planck blackbody radiance as a function of frequency of light\"\n",
    "    term1 = 2 * h * nu**3  / c**2\n",
    "    term2 = h*nu/(kB*T)\n",
    "    term3 = np.exp(term2)-1\n",
    "    return term1/term3"
   ]
  },
  {
   "cell_type": "markdown",
   "metadata": {
    "nbgrader": {
     "grade": false,
     "grade_id": "cell-32ca01b2da3b52bc",
     "locked": true,
     "schema_version": 3,
     "solution": false,
     "task": false
    }
   },
   "source": [
    "### Using a Python function\n",
    "In the cell below, we \"make a call\" to the function $B_\\nu$. We have already defined the *constants* that go into this function, but we need to say what temperature and frequency of light we want. In this case, we are using the frequecy of green light, $\\nu=5.7 \\times 10^{15} s^{-1}$ (see the electromagnetic spectrum at https://en.wikipedia.org/wiki/Light) and a temperature equal to the surface of the sun."
   ]
  },
  {
   "cell_type": "code",
   "execution_count": 7,
   "metadata": {},
   "outputs": [
    {
     "name": "stdout",
     "output_type": "stream",
     "text": [
      "1.5535886245351956e-11 hartree / bohr ** 2\n"
     ]
    }
   ],
   "source": [
    "# Specifying the frequency of green light, and convert to atomic units\n",
    "nu = AssignQuantity(5.7e14,'1/s')\n",
    "nu.ito('1/atomic_unit_of_time')\n",
    "\n",
    "# Temperature of the surface of the sun\n",
    "T1 = AssignQuantity(5777, 'K')\n",
    "\n",
    "# Getting the intensity of green light according to Planck, in atomic units\n",
    "B_green = B_nu(nu,T1,h,c,kB)\n",
    "print(B_green)"
   ]
  },
  {
   "cell_type": "markdown",
   "metadata": {
    "nbgrader": {
     "grade": false,
     "grade_id": "cell-00b6b9ba969c8f8c",
     "locked": true,
     "schema_version": 3,
     "solution": false,
     "task": false
    }
   },
   "source": [
    "### Your turn\n",
    "In the cell below, make a call to $B_\\nu$ at the same frequency (green light) but coming off a cooler star, say Arcturus (4290 K -- see https://en.wikipedia.org/wiki/Arcturus)."
   ]
  },
  {
   "cell_type": "code",
   "execution_count": 8,
   "metadata": {
    "nbgrader": {
     "grade": true,
     "grade_id": "cell-577794c27c9f607a",
     "locked": false,
     "points": 3,
     "schema_version": 3,
     "solution": true,
     "task": false
    }
   },
   "outputs": [
    {
     "name": "stdout",
     "output_type": "stream",
     "text": [
      "2.988269520983867e-12 hartree / bohr ** 2\n"
     ]
    }
   ],
   "source": [
    "# Specify the frequency of green light, and convert to atomic units\n",
    "### BEGIN SOLUTION\n",
    "nu = AssignQuantity(5.7e14,'1/s')\n",
    "nu.ito('1/atomic_unit_of_time')\n",
    "### END SOLUTION\n",
    "\n",
    "# Specify the temperature of the surface of Arcturus\n",
    "### BEGIN SOLUTION\n",
    "T2 = AssignQuantity(4290, 'K')\n",
    "### END SOLUTION\n",
    "\n",
    "# Get the intensity of this light according to Planck, in atomic units\n",
    "### BEGIN SOLUTION\n",
    "B_red = B_nu(nu,T2,h,c,kB)\n",
    "print(B_red)\n",
    "### END SOLUTION"
   ]
  },
  {
   "cell_type": "markdown",
   "metadata": {
    "nbgrader": {
     "grade": false,
     "grade_id": "cell-56860458da39992c",
     "locked": true,
     "schema_version": 3,
     "solution": false,
     "task": false
    }
   },
   "source": [
    "### Pause for analysis\n",
    "Is the energy of green light coming off Arcturus, less than or greater than the energy coming off the Sun?"
   ]
  },
  {
   "cell_type": "markdown",
   "metadata": {
    "nbgrader": {
     "grade": true,
     "grade_id": "cell-effc4b3e577bb12e",
     "locked": false,
     "points": 1,
     "schema_version": 3,
     "solution": true,
     "task": false
    }
   },
   "source": [
    "### BEGIN SOLUTION\n",
    "Arcturus emits less energy of green light\n",
    "### END SOLUTION"
   ]
  },
  {
   "cell_type": "markdown",
   "metadata": {
    "nbgrader": {
     "grade": false,
     "grade_id": "cell-065a26fe35c05046",
     "locked": true,
     "schema_version": 3,
     "solution": false,
     "task": false
    }
   },
   "source": [
    "### Refreshing and saving your code\n",
    "1. Use the dropdown menu Kernel/Restart\n",
    "2. Use the dropdown menu Cell/Run All Above\n",
    "3. Under the \"File\" dropdown menu item in the upper left is a disk icon. Press it now to save your work (you can, do this at any time as you're working on an assignment, actually).\n",
    "\n",
    "### Validating\n",
    "This step will help ensure that you didn't miss something (although it's not a guarantee). Find the \"Validate\" button and press it. If there are any errors or warnings, fix them.\n",
    "\n",
    "### Finishing up\n",
    "Assuming all this has gone smoothly, carry out three more steps (but read this carefully before starting):\n",
    "1. Close this notebook using the \"File/Close and Halt\" dropdown menu\n",
    "1. Using the Assignments tab, submit this notebook\n",
    "1. Press the Logout tab of the Home Page"
   ]
  }
 ],
 "metadata": {
  "celltoolbar": "Create Assignment",
  "kernelspec": {
   "display_name": "Python 3 (ipykernel)",
   "language": "python",
   "name": "python3"
  },
  "language_info": {
   "codemirror_mode": {
    "name": "ipython",
    "version": 3
   },
   "file_extension": ".py",
   "mimetype": "text/x-python",
   "name": "python",
   "nbconvert_exporter": "python",
   "pygments_lexer": "ipython3",
   "version": "3.10.2"
  }
 },
 "nbformat": 4,
 "nbformat_minor": 4
}

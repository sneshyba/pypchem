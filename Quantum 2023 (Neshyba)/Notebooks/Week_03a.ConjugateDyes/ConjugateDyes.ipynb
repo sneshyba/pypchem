{
 "cells": [
  {
   "cell_type": "markdown",
   "id": "745d347b",
   "metadata": {},
   "source": [
    "### Neshyba 2023\n",
    "\n",
    "\n",
    "# Conjugate Dyes\n",
    "\n",
    "## Introduction\n",
    "\n",
    "### The shape of $\\pi$-type molecular orbitals of a conjugated dye\n",
    "\n",
    "Figures 1-2 show $\\pi$-type molecular orbitals of two orbitals of the 1,1’-diethyl-4,4’-cyanine ion, with Particle-on-a-line quantum number assignments.\n",
    "\n",
    "<p style='text-align: center;'>\n",
    "<img src=\"http://webspace.pugetsound.edu/facultypages/nesh/Notebook/4,4' cyanine, n=7.png\" height=\"500\" width=\"500\"/>\n",
    "<strong>Figure 1</strong>. $\\psi_7$ of 1,1’-diethyl-4,4' cyanine, n=7, according to Spartan<sup>TM</sup>. \n",
    "</p>\n",
    "\n",
    "<p style='text-align: center;'>\n",
    "<img src=\"http://webspace.pugetsound.edu/facultypages/nesh/Notebook/4,4' cyanine, n=6.png\" height=\"500\" width=\"500\"/>\n",
    "<strong>Figure 2</strong>. $\\psi_6$ of 1,1’-diethyl-4,4’-cyanine, n=6, according to Spartan<sup>TM</sup>. \n",
    "</p>\n",
    "\n",
    "Figures 3-4 show $\\pi$-type molecular orbitals of two orbitals of the 1,1’-diethyl-2,2’-cyanine ion, also with Particle-on-a-line quantum number assignments.\n",
    "\n",
    "<p style='text-align: center;'>\n",
    "<img src=\"http://webspace.pugetsound.edu/facultypages/nesh/Notebook/2,2' cyanine, n=7.png\" height=\"500\" width=\"500\"/>\n",
    "<strong>Figure 3</strong>. $\\psi_7$ of 1,1’-diethyl-2,2' cyanine, n=7, according to Spartan<sup>TM</sup>. \n",
    "</p>\n",
    "\n",
    "<p style='text-align: center;'>\n",
    "<img src=\"http://webspace.pugetsound.edu/facultypages/nesh/Notebook/2,2' cyanine, n=6.png\" height=\"500\" width=\"500\"/>\n",
    "<strong>Figure 4</strong>. $\\psi_6$ of 1,1’-diethyl-2,2’-cyanine, n=6, according to Spartan<sup>TM</sup>. \n",
    "</p>\n",
    "\n",
    "These MOs were computed using Spartan$^{TM}$ at the PM3 level, which is thought to provide a reasonable representation of the *shapes* of the orbitals. But PM3 is terrible in a quantitative sense. How do we know that? The real dyes we are considering here have gaps that definitely in the visible range -- they are dyes, after all! As an  example, Figure 7 shows a spectrum of an extended version of one of these dyes: the 1,1’-diethyl-2,2’-dicarbocyanine ion. \n",
    "\n",
    "<p style='text-align: center;'>\n",
    "<img src=\"http://webspace.pugetsound.edu/facultypages/nesh/Notebook/Spectrum of a conjugated dye.png\" height=\"300\" width=\"400\"/>\n",
    "<strong>Figure 7</strong>. Absorption spectrum of 1,1’-diethyl-2,2’-dicarbocyanine. $\\lambda_{max}$ for this dye is defined as the wavelength of maximum absorption, about $700 \\ nm$ in this case.\n",
    "</p>\n",
    "\n",
    "A value of $\\lambda_{max} \\approx 700 \\ nm$ for this dye corresponds to red light. In terms of energy, this implies a HOMO->LUMO gap on the order of $1.8 \\ eV$. \n",
    "\n",
    "By contrast, the gaps produced by Spartan's PM3 calculations (see Figs. 1-4) are in excess of $5 \\ eV$. If that were really the case, these dyes would be colorless (which is to say, not dyes at all ... at least for humans).\n",
    "\n",
    "This poor quantitative accuracy of Spartan$^{TM}$ at the PM3 level is a pity, but not to be dismayed: we can use other theory for that purpose. What theory? Well, Particle-on-a-line theory! \n",
    "\n",
    "### The idea of this exercise\n",
    "The idea of this exercise is to try to reproduce the experimentally-determined wavelengths of peak absorption -- called $\\lambda_{max}$ -- using Particle-on-a-line theory. We will be considering six dyes altogether, which come in two sets. The MOs in Figs. 1-2 belong to the dye 1,1’-diethyl-2,2’-cyanine, which is the first of a set of three dyes, each a little longer than the previous one. We call this the \"2,2'\" family:\n",
    "\n",
    "- 1,1’-diethyl-2,2’-cyanine\n",
    "- 1,1’-diethyl-2,2’-carbocyanine\n",
    "- 1,1’-diethyl-2,2’-dicarbocyanine\n",
    "\n",
    "The MOs shown in Figs. 3-4 belong to the dye 1,1’-diethyl-4,4’-cyanine, which is also the first in a set of three, called the \"4,4'\" family:\n",
    "\n",
    "- 1,1’-diethyl-4,4’-cyanine\n",
    "- 1,1’-diethyl-4,4’-carbocyanine\n",
    "- 1,1’-diethyl-4,4’-dicarbocyanine\n",
    "\n",
    "You'll be measuring $\\lambda_{max}$ for all six dyes. \n",
    "\n",
    "To carry out the Particle-on-a-line calculations, we'll need some geometric information from Spartan, namely, the length of the \"line\" over which $\\pi$-type orbitals extend, a quantity we've called $a$. We've begun this process by identifying the relevant paths in Figs. 1-4. More particularly, if you follow the arc of high electron density from left to right, and count the length of bonds along the way -- and apply the short-cut correction we worked out previously -- you'll be able to get $a$. \n",
    "\n",
    "We'll also need Particle-on-a-line quantum number assignments, but that's easy: along the arc just mentioned, count the number of blotches along the way, and you'll have $n$. These are more obvious in the $n=6$ cases (Figs. 2 and 4) but still discernable for the $n=7$ cases (Figs. 1 and 3). You'll have to convince yourself, in Spartan, that the LUMO is $n=8$.\n",
    "\n",
    "Once you have this information, you'll be able to predict the HOMO->LUMO gap for each dye. From that information, you can use $E_{gap} = h c / \\lambda_{max}$ to compute theoretical values of each $\\lambda_{max}$.\n",
    "\n",
    "If you get a reasonable match between measured and theoretical $\\lambda_{max}$ values, you could conclude that you've gained some insight into the quantum mechanical underpinnings of how dyes work.\n",
    "\n",
    "### Learning goals\n",
    "The main learning goals of this exercise are \n",
    "1. ...\n"
   ]
  },
  {
   "cell_type": "code",
   "execution_count": 1,
   "id": "79d49725",
   "metadata": {},
   "outputs": [],
   "source": [
    "import pint; from pint import UnitRegistry; AssignQuantity = UnitRegistry(system='atomic').Quantity\n",
    "import numpy as np\n",
    "import scipy.linalg as spla\n",
    "import matplotlib.pyplot as plt\n",
    "import PchemLibrary as PL\n",
    "import plotly.graph_objects as go\n",
    "%matplotlib notebook"
   ]
  },
  {
   "cell_type": "code",
   "execution_count": 2,
   "id": "0df07834",
   "metadata": {},
   "outputs": [
    {
     "name": "stdout",
     "output_type": "stream",
     "text": [
      "1 atomic_unit_of_time * hartree\n",
      "6.283185307179586 atomic_unit_of_time * hartree\n",
      "1 electron_mass\n",
      "137.1308671316499 bohr / atomic_unit_of_time\n"
     ]
    }
   ],
   "source": [
    "# Quantum constants\n",
    "hbar = AssignQuantity(1,'atomic_unit_of_time * hartree'); print(hbar)\n",
    "h = hbar*2*np.pi; print(h)\n",
    "m = AssignQuantity(1,'atomic_unit_of_mass'); print(m)\n",
    "c = AssignQuantity(3.0e8,'m/s'); c.ito('bohr/atomic_unit_of_time'); print(c)"
   ]
  },
  {
   "cell_type": "code",
   "execution_count": 3,
   "id": "2d3b231e",
   "metadata": {},
   "outputs": [],
   "source": [
    "# Shortcut factor\n",
    "shortcutfactor = 0.93"
   ]
  },
  {
   "cell_type": "markdown",
   "id": "84783308",
   "metadata": {},
   "source": [
    "### The 4,4' cyanine ion"
   ]
  },
  {
   "cell_type": "code",
   "execution_count": 4,
   "id": "8438b6ac",
   "metadata": {},
   "outputs": [
    {
     "name": "stdout",
     "output_type": "stream",
     "text": [
      "bond-by-bond distance = 16.772 angstrom\n",
      "Analytical result:  0.08519766065415851 hartree\n",
      "10113.172625947247 bohr\n",
      "535.1660483589218 nanometer\n",
      "Error = -9.293890108657326 dimensionless\n"
     ]
    }
   ],
   "source": [
    "# Specify the length of the molecule using the scaled bond-by-bond method (carbon+nitrogen path)\n",
    "### BEGIN SOLUTION\n",
    "\n",
    "# Bond-by-bond method:\n",
    "a = AssignQuantity(2*(1.371+1.428+1.398+1.352+1.432+1.405),'angstrom'); print('bond-by-bond distance =', a)\n",
    "a *= shortcutfactor\n",
    "\n",
    "# Converts to bohr\n",
    "a.ito('bohr')\n",
    "### END SOLUTION\n",
    "\n",
    "# Calculate the gap using our analytical result (Eq. 4)\n",
    "### BEGIN SOLUTION\n",
    "E_HOMO = 7**2*h**2/(8*m*a**2)\n",
    "E_HOMO.ito('hartree')\n",
    "E_LUMO = 8**2*h**2/(8*m*a**2)\n",
    "E_LUMO.ito('hartree')\n",
    "E_gap = E_LUMO-E_HOMO\n",
    "print('Analytical result: ', E_gap)\n",
    "### END SOLUTION\n",
    "\n",
    "# Predict a wavelength for the HOMO->LUMO transition, using E = hc/lambda\n",
    "lamb = h*c/E_gap; print(lamb)\n",
    "lamb.ito('nm'); print(lamb)\n",
    "\n",
    "# Calculate an error with respect to experiment\n",
    "lamb_exp = AssignQuantity(590,'nm')\n",
    "error = (lamb-lamb_exp)/lamb_exp*100\n",
    "print('Error =', error)\n",
    "\n",
    "### END SOLUTION"
   ]
  },
  {
   "cell_type": "markdown",
   "id": "cab881b2",
   "metadata": {},
   "source": [
    "### The 4,4' carbocyanine ion"
   ]
  },
  {
   "cell_type": "code",
   "execution_count": 5,
   "id": "5b437991",
   "metadata": {},
   "outputs": [
    {
     "name": "stdout",
     "output_type": "stream",
     "text": [
      "bond-by-bond distance = 19.582 angstrom\n",
      "Analytical result:  0.07083386631072641 hartree\n",
      "12163.936467095024 bohr\n",
      "643.6877973270525 nanometer\n",
      "Error = -8.306581577342946 dimensionless\n"
     ]
    }
   ],
   "source": [
    "# Specify the length of the molecule using the bond-by-bond method (carbon+nitrogen path)\n",
    "### BEGIN SOLUTION\n",
    "\n",
    "# Bond-by-bond method:\n",
    "a = AssignQuantity(2*(1.371+1.428+1.398+1.352+1.432+1.405*2),'angstrom'); print('bond-by-bond distance =', a)\n",
    "a *= shortcutfactor\n",
    "\n",
    "# Converts to bohr\n",
    "a.ito('bohr')\n",
    "### END SOLUTION\n",
    "\n",
    "# Calculate the gap using our analytical result (Eq. 4)\n",
    "### BEGIN SOLUTION\n",
    "E_HOMO = 8**2*h**2/(8*m*a**2)\n",
    "E_HOMO.ito('hartree')\n",
    "E_LUMO = 9**2*h**2/(8*m*a**2)\n",
    "E_LUMO.ito('hartree')\n",
    "E_gap = E_LUMO-E_HOMO\n",
    "print('Analytical result: ', E_gap)\n",
    "### END SOLUTION\n",
    "\n",
    "# Predict a wavelength for the HOMO->LUMO transition, using E = hc/lambda\n",
    "lamb = h*c/E_gap; print(lamb)\n",
    "lamb.ito('nm'); print(lamb)\n",
    "\n",
    "# Calculate an error with respect to experiment\n",
    "lamb_exp = AssignQuantity(702,'nm')\n",
    "error = (lamb-lamb_exp)/lamb_exp*100\n",
    "print('Error =', error)\n",
    "\n",
    "### END SOLUTION"
   ]
  },
  {
   "cell_type": "markdown",
   "id": "f98b9c65",
   "metadata": {},
   "source": [
    "### The 4,4' dicarbocyanine ion"
   ]
  },
  {
   "cell_type": "code",
   "execution_count": 6,
   "id": "73a572ec",
   "metadata": {},
   "outputs": [
    {
     "name": "stdout",
     "output_type": "stream",
     "text": [
      "bond-by-bond distance = 22.392 angstrom\n",
      "Analytical result:  0.05417130138609294 hartree\n",
      "15905.44490303821 bohr\n",
      "841.6798971976643 nanometer\n",
      "Error = 3.5276626319390325 dimensionless\n"
     ]
    }
   ],
   "source": [
    "# Specify the length of the molecule using the bond-by-bond method (carbon+nitrogen path)\n",
    "### BEGIN SOLUTION\n",
    "\n",
    "# Bond-by-bond method:\n",
    "a = AssignQuantity(2*(1.371+1.428+1.398+1.352+1.432+1.405*3),'angstrom'); print('bond-by-bond distance =', a)\n",
    "a *= shortcutfactor\n",
    "\n",
    "# Converts to bohr\n",
    "a.ito('bohr')\n",
    "### END SOLUTION\n",
    "\n",
    "# Calculate the gap using our analytical result (Eq. 4)\n",
    "### BEGIN SOLUTION\n",
    "E_HOMO = 8**2*h**2/(8*m*a**2)\n",
    "E_HOMO.ito('hartree')\n",
    "E_LUMO = 9**2*h**2/(8*m*a**2)\n",
    "E_LUMO.ito('hartree')\n",
    "E_gap = E_LUMO-E_HOMO\n",
    "print('Analytical result: ', E_gap)\n",
    "### END SOLUTION\n",
    "\n",
    "# Predict a wavelength for the HOMO->LUMO transition, using E = hc/lambda\n",
    "lamb = h*c/E_gap; print(lamb)\n",
    "lamb.ito('nm'); print(lamb)\n",
    "\n",
    "# Calculate an error with respect to experiment\n",
    "lamb_exp = AssignQuantity(813,'nm')\n",
    "error = (lamb-lamb_exp)/lamb_exp*100\n",
    "print('Error =', error)\n",
    "\n",
    "### END SOLUTION"
   ]
  },
  {
   "cell_type": "markdown",
   "id": "19c8b940",
   "metadata": {},
   "source": [
    "### The 2,2' cyanine ion"
   ]
  },
  {
   "cell_type": "code",
   "execution_count": 7,
   "id": "47676194",
   "metadata": {},
   "outputs": [
    {
     "name": "stdout",
     "output_type": "stream",
     "text": [
      "long bond-by-bond distance = 16.83 angstrom\n",
      "short bond-by-bond distance = 14.074 angstrom\n",
      "path-averaged bond distance = 15.451999999999998 angstrom\n",
      "adjusted distance =  14.37036 angstrom\n",
      "Analytical result:  0.10037555940042125 hartree\n",
      "8583.94866906976 bohr\n",
      "454.24300152412445 nanometer\n",
      "Error = -13.146653628274482 dimensionless\n"
     ]
    }
   ],
   "source": [
    "# Specify the length of the molecule using the averaged bond-by-bond method (carbon, carbon+nitrogen path)\n",
    "### BEGIN SOLUTION\n",
    "# Bond-by-bond method:\n",
    "a1 = AssignQuantity(2*(1.374+1.411+1.430+1.353+1.438+1.409),'angstrom'); print('long bond-by-bond distance =', a1)\n",
    "a2 = AssignQuantity(2*(1.38+1.415+1.432+1.401+1.409),'angstrom'); print('short bond-by-bond distance =', a2)\n",
    "a = (a1+a2)/2; print('path-averaged bond distance =',a)\n",
    "a *= shortcutfactor\n",
    "print('adjusted distance = ', a)\n",
    "\n",
    "# Converts to bohr\n",
    "a.ito('bohr')\n",
    "### END SOLUTION\n",
    "\n",
    "# Calculate the gap using our analytical result (Eq. 4)\n",
    "### BEGIN SOLUTION\n",
    "E_HOMO = 7**2*h**2/(8*m*a**2)\n",
    "E_HOMO.ito('hartree')\n",
    "E_LUMO = 8**2*h**2/(8*m*a**2)\n",
    "E_LUMO.ito('hartree')\n",
    "E_gap = E_LUMO-E_HOMO\n",
    "print('Analytical result: ', E_gap)\n",
    "### END SOLUTION\n",
    "\n",
    "# Predict a wavelength for the HOMO->LUMO transition, using E = hc/lambda\n",
    "lamb = h*c/E_gap; print(lamb)\n",
    "lamb.ito('nm'); print(lamb)\n",
    "\n",
    "# Calculate an error with respect to experiment\n",
    "lamb_exp = AssignQuantity(523,'nm')\n",
    "error = (lamb-lamb_exp)/lamb_exp*100\n",
    "print('Error =', error)\n",
    "\n",
    "### END SOLUTION"
   ]
  },
  {
   "cell_type": "markdown",
   "id": "d870856b",
   "metadata": {},
   "source": [
    "### ### The 2,2' carbocyanine ion"
   ]
  },
  {
   "cell_type": "code",
   "execution_count": 8,
   "id": "2ac4b374",
   "metadata": {},
   "outputs": [
    {
     "name": "stdout",
     "output_type": "stream",
     "text": [
      "long bond-by-bond distance = 19.648 angstrom\n",
      "short bond-by-bond distance = 16.892 angstrom\n",
      "path-averaged bond distance = 18.27 angstrom\n",
      "Analytical result:  0.08137255362841012 hartree\n",
      "10588.565936580811 bohr\n",
      "560.3227789792695 nanometer\n",
      "Error = 0.2366330911036699 dimensionless\n"
     ]
    }
   ],
   "source": [
    "# Specify the length of the molecule using the adjusted bond-by-bond method\n",
    "### BEGIN SOLUTION\n",
    "\n",
    "# Bond-by-bond method:\n",
    "a1 = AssignQuantity(2*(1.374+1.411+1.430+1.353+1.438+1.409*2),'angstrom'); print('long bond-by-bond distance =', a1)\n",
    "a2 = AssignQuantity(2*(1.380+1.415+1.432+1.401+1.409*2),'angstrom'); print('short bond-by-bond distance =', a2)\n",
    "a = (a1+a2)/2; print('path-averaged bond distance =',a)\n",
    "a *= shortcutfactor\n",
    "\n",
    "# Converts to bohr\n",
    "a.ito('bohr')\n",
    "### END SOLUTION\n",
    "\n",
    "# Calculate the gap using our analytical result (Eq. 4)\n",
    "### BEGIN SOLUTION\n",
    "E_HOMO = 8**2*h**2/(8*m*a**2)\n",
    "E_HOMO.ito('hartree')\n",
    "E_LUMO = 9**2*h**2/(8*m*a**2)\n",
    "E_LUMO.ito('hartree')\n",
    "E_gap = E_LUMO-E_HOMO\n",
    "print('Analytical result: ', E_gap)\n",
    "### END SOLUTION\n",
    "\n",
    "# Predict a wavelength for the HOMO->LUMO transition, using E = hc/lambda\n",
    "lamb = h*c/E_gap; print(lamb)\n",
    "lamb.ito('nm'); print(lamb)\n",
    "\n",
    "# Calculate an error with respect to experiment\n",
    "lamb_exp = AssignQuantity(559,'nm')\n",
    "error = (lamb-lamb_exp)/lamb_exp*100\n",
    "print('Error =', error)\n",
    "\n",
    "### END SOLUTION"
   ]
  },
  {
   "cell_type": "markdown",
   "id": "c54bb202",
   "metadata": {},
   "source": [
    "### The 2,2' dicarbocyanine ion"
   ]
  },
  {
   "cell_type": "code",
   "execution_count": 9,
   "id": "6775621d",
   "metadata": {},
   "outputs": [
    {
     "name": "stdout",
     "output_type": "stream",
     "text": [
      "long bond-by-bond distance = 22.466 angstrom\n",
      "short bond-by-bond distance = 19.71 angstrom\n",
      "path-averaged bond distance = 21.088 angstrom\n",
      "Analytical result:  0.0682635600504699 hartree\n",
      "12621.941323970657 bohr\n",
      "667.9243706012448 nanometer\n",
      "Error = -5.793459717736975 dimensionless\n"
     ]
    }
   ],
   "source": [
    "# Specify the length of the molecule using the 2-path bond-by-bond method\n",
    "### BEGIN SOLUTION\n",
    "\n",
    "# Bond-by-bond method:\n",
    "a1 = AssignQuantity(2*(1.374+1.411+1.430+1.353+1.438+1.409*3),'angstrom'); print('long bond-by-bond distance =', a1)\n",
    "a2 = AssignQuantity(2*(1.380+1.415+1.432+1.401+1.409*3),'angstrom'); print('short bond-by-bond distance =', a2)\n",
    "a = (a1+a2)/2; print('path-averaged bond distance =',a)\n",
    "a *= shortcutfactor\n",
    "\n",
    "# Converts to bohr\n",
    "a.ito('bohr')\n",
    "### END SOLUTION\n",
    "\n",
    "# Calculate the gap using our analytical result (Eq. 4)\n",
    "### BEGIN SOLUTION\n",
    "E_HOMO = 9**2*h**2/(8*m*a**2)\n",
    "E_HOMO.ito('hartree')\n",
    "E_LUMO = 10**2*h**2/(8*m*a**2)\n",
    "E_LUMO.ito('hartree')\n",
    "E_gap = E_LUMO-E_HOMO\n",
    "print('Analytical result: ', E_gap)\n",
    "### END SOLUTION\n",
    "\n",
    "# Predict a wavelength for the HOMO->LUMO transition, using E = hc/lambda\n",
    "lamb = h*c/E_gap; print(lamb)\n",
    "lamb.ito('nm'); print(lamb)\n",
    "\n",
    "# Calculate an error with respect to experiment\n",
    "lamb_exp = AssignQuantity(709,'nm')\n",
    "error = (lamb-lamb_exp)/lamb_exp*100\n",
    "print('Error =', error)\n",
    "\n",
    "### END SOLUTION"
   ]
  },
  {
   "cell_type": "code",
   "execution_count": null,
   "id": "b321fbef",
   "metadata": {},
   "outputs": [],
   "source": []
  }
 ],
 "metadata": {
  "kernelspec": {
   "display_name": "Python 3 (ipykernel)",
   "language": "python",
   "name": "python3"
  },
  "language_info": {
   "codemirror_mode": {
    "name": "ipython",
    "version": 3
   },
   "file_extension": ".py",
   "mimetype": "text/x-python",
   "name": "python",
   "nbconvert_exporter": "python",
   "pygments_lexer": "ipython3",
   "version": "3.10.2"
  }
 },
 "nbformat": 4,
 "nbformat_minor": 5
}

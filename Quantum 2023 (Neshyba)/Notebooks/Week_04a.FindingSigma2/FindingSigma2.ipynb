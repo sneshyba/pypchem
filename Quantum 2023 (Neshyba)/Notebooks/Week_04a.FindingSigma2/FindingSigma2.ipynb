{
 "cells": [
  {
   "cell_type": "markdown",
   "id": "f65e01f9",
   "metadata": {
    "nbgrader": {
     "grade": false,
     "grade_id": "cell-e568bbb112436669",
     "locked": true,
     "schema_version": 3,
     "solution": false,
     "task": false
    }
   },
   "source": [
    "### Neshyba 2023\n",
    "\n",
    "# Finding  $\\sigma^2$ for a particle on a line\n",
    "\n",
    "## Introduction\n",
    "The focus of this CGI is to find the *variance* of a particle's position,\n",
    "\n",
    "$$\n",
    "\\sigma^2 = \\lt x^2 \\gt-\\lt x \\gt^2 \\ \\ \\ \\ (1)\n",
    "$$\n",
    "\n",
    "where the notation $\\lt ... \\gt$ means \"take the average of ....\" For a particle on a line, already know that $\\lt x\\gt={L \\over 2}$, so the hard work is $\\lt x^2 \\gt$. We'll be using Sympy's symbolic integration package for that. \n",
    "\n",
    "An important point from statistics is that variance has to be a positive number. So that'll be a way for us to verify that our method is correct, or at least not embarrasingly wrong.  \n",
    "\n",
    "## A formula for finding $\\lt x^2 \\gt$\n",
    "Our formula for finding the average of $x^2$ when a particle is in some state $\\psi(x)$, is \n",
    "\n",
    "$$\n",
    "\\lt x^2 \\gt \\ = \\int_0^L \\psi^* x^2 \\psi dx \\ \\ \\ \\ (2)\n",
    "$$\n",
    "\n",
    "In this CGI, we'll be assuing this wave function is the first eigenfunction of the particle-on-a-line hamiltonian,\n",
    "\n",
    "$$\n",
    "\\psi_1 = \\bigl ({2 \\over L} \\bigr )^{1/2}sin\\bigl ({\\pi x \\over L}\\bigr ) \\ \\ \\ \\ (3)\n",
    "$$\n",
    "\n",
    "\n",
    "## Learning goals\n",
    "The main learning goals of this exercise are \n",
    "1. I can use Sympy's integrating features to evaluate a definite integral.\n",
    "1. I can evaluate the variance, $\\sigma^2$, for a particle in a box wave function."
   ]
  },
  {
   "cell_type": "code",
   "execution_count": 1,
   "id": "d8c39828",
   "metadata": {
    "nbgrader": {
     "grade": false,
     "grade_id": "cell-0bf4825fcc15232c",
     "locked": true,
     "schema_version": 3,
     "solution": false,
     "task": false
    }
   },
   "outputs": [],
   "source": [
    "import sympy as sp\n",
    "import numpy as np"
   ]
  },
  {
   "cell_type": "markdown",
   "id": "d89c8509",
   "metadata": {
    "nbgrader": {
     "grade": false,
     "grade_id": "cell-10565c9e2c0b7093",
     "locked": true,
     "schema_version": 3,
     "solution": false,
     "task": false
    }
   },
   "source": [
    "### Define some symbolic variables\n",
    "Below, we define $L$ and $x$ as symbolic variables. $\\pi$ is built in to Sympy, so we don't have to define it."
   ]
  },
  {
   "cell_type": "code",
   "execution_count": 2,
   "id": "2adc12c8",
   "metadata": {
    "nbgrader": {
     "grade": false,
     "grade_id": "cell-8a03c43dda19e59f",
     "locked": true,
     "schema_version": 3,
     "solution": false,
     "task": false
    }
   },
   "outputs": [],
   "source": [
    "x = sp.Symbol('x')\n",
    "L = sp.Symbol('L')"
   ]
  },
  {
   "cell_type": "markdown",
   "id": "970fcdf4",
   "metadata": {
    "nbgrader": {
     "grade": false,
     "grade_id": "cell-723ecf8d6c88a36b",
     "locked": true,
     "schema_version": 3,
     "solution": false,
     "task": false
    }
   },
   "source": [
    "### How to use Sympy's symbolic integrator\n",
    "Below, we use Sympy to evaluate $\\int_0^L \\psi^* x^2 \\psi dx$ when $\\psi = sin\\bigl ({\\pi x \\over L}\\bigr )$. This won't give us $\\lt x^2 \\gt$, of course, because $sin\\bigl ({\\pi x \\over L}\\bigr )$ isn't normalized, but this way you can see how it's done."
   ]
  },
  {
   "cell_type": "code",
   "execution_count": 3,
   "id": "d2b45c20",
   "metadata": {
    "nbgrader": {
     "grade": false,
     "grade_id": "cell-ed9972ae4c5bec9d",
     "locked": true,
     "schema_version": 3,
     "solution": false,
     "task": false
    }
   },
   "outputs": [
    {
     "name": "stdout",
     "output_type": "stream",
     "text": [
      "\n",
      " Our wave function is ... \n",
      "   ⎛π⋅x⎞\n",
      "sin⎜───⎟\n",
      "   ⎝ L ⎠\n",
      "\n",
      " Our integrand is ... \n",
      " 2    2⎛π⋅x⎞\n",
      "x ⋅sin ⎜───⎟\n",
      "       ⎝ L ⎠\n",
      "\n",
      " The result for <x^2> (unnormalized) is ...\n",
      "    3     3\n",
      "   L     L \n",
      "- ──── + ──\n",
      "     2   6 \n",
      "  4⋅π      \n"
     ]
    }
   ],
   "source": [
    "psi = sp.sin(sp.pi*x/L)\n",
    "print('\\n Our wave function is ... ')\n",
    "sp.pprint(psi)\n",
    "\n",
    "integrand = psi*x**2*psi\n",
    "print('\\n Our integrand is ... ')\n",
    "sp.pprint(integrand)\n",
    "\n",
    "# This gets the indefinite integral\n",
    "indefinite_integral = sp.integrate(integrand,x)\n",
    "\n",
    "# This evaluates the definite integral from 0 to L\n",
    "F1 = indefinite_integral.subs(x,0)\n",
    "F2 = indefinite_integral.subs(x,L)\n",
    "definite_integral = F2-F1\n",
    "\n",
    "# This tries to simplify it (doesn't always help much, but worth a try)\n",
    "definite_integral = sp.simplify(definite_integral) \n",
    "\n",
    "# This prints the result\n",
    "print('\\n The result for <x^2> (unnormalized) is ...')\n",
    "sp.pprint(definite_integral)"
   ]
  },
  {
   "cell_type": "markdown",
   "id": "99f8ab22",
   "metadata": {
    "nbgrader": {
     "grade": false,
     "grade_id": "cell-0bdb6d2a41bbb0e8",
     "locked": true,
     "schema_version": 3,
     "solution": false,
     "task": false
    }
   },
   "source": [
    "### Your turn\n",
    "Your task in the cell below is to repeat what we just did, but with the *normalized* wave function, $\\psi = \\bigl ({2 \\over L} \\bigr )^{1/2}sin\\bigl ({\\pi x \\over L}\\bigr )$."
   ]
  },
  {
   "cell_type": "code",
   "execution_count": 4,
   "id": "c3a31322",
   "metadata": {
    "nbgrader": {
     "grade": true,
     "grade_id": "cell-da6aaa9049be4378",
     "locked": false,
     "points": 3,
     "schema_version": 3,
     "solution": true,
     "task": false
    }
   },
   "outputs": [
    {
     "name": "stdout",
     "output_type": "stream",
     "text": [
      "The result ...\n",
      "                                    1.0\n",
      " 3 ⎛                          2⎞ ⎛1⎞   \n",
      "L ⋅⎝-0.5 + 0.333333333333333⋅π ⎠⋅⎜─⎟   \n",
      "                                 ⎝L⎠   \n",
      "───────────────────────────────────────\n",
      "                    2                  \n",
      "                   π                   \n"
     ]
    }
   ],
   "source": [
    "### BEGIN SOLUTION\n",
    "\n",
    "psi = (2/L)**.5 * sp.sin(sp.pi*x/L)\n",
    "\n",
    "integrand = psi*x**2*psi\n",
    "\n",
    "indefinite_integral = sp.integrate(integrand,x)\n",
    "\n",
    "F1 = indefinite_integral.subs(x,0)\n",
    "F2 = indefinite_integral.subs(x,L)\n",
    "definite_integral = F2-F1\n",
    "definite_integral = sp.simplify(definite_integral) \n",
    "print('The result ...')\n",
    "sp.pprint(definite_integral)\n",
    "\n",
    "### END SOLUTION"
   ]
  },
  {
   "cell_type": "markdown",
   "id": "8a6c8fbb",
   "metadata": {
    "nbgrader": {
     "grade": false,
     "grade_id": "cell-7990a16aec030c73",
     "locked": true,
     "schema_version": 3,
     "solution": false,
     "task": false
    }
   },
   "source": [
    "### Pause for analysis\n",
    "When simplified a little more, your result can be expressed in the form $<x^2> = A L^2$, where $A$ is a constant. In the cell below, calculate the numerical value of $A$ (to, say, 3 sig figs)."
   ]
  },
  {
   "cell_type": "code",
   "execution_count": 5,
   "id": "6dec2751",
   "metadata": {
    "nbgrader": {
     "grade": true,
     "grade_id": "cell-389233cd350e0821",
     "locked": false,
     "points": 3,
     "schema_version": 3,
     "solution": true,
     "task": false
    }
   },
   "outputs": [
    {
     "name": "stdout",
     "output_type": "stream",
     "text": [
      "The constant factor A = \n",
      "0.282672741512164\n",
      "0.2826727415121641\n"
     ]
    }
   ],
   "source": [
    "### BEGIN SOLUTION\n",
    "\n",
    "A = definite_integral.subs(L,1)\n",
    "A = A.subs(sp.pi,np.pi)\n",
    "print('The constant factor A = ')\n",
    "sp.pprint(A)\n",
    "\n",
    "A = (-0.5 + 0.333333333333333*np.pi**2)/np.pi**2\n",
    "sp.pprint(A)\n",
    "\n",
    "### END SOLUTION"
   ]
  },
  {
   "cell_type": "markdown",
   "id": "4c109a37",
   "metadata": {
    "nbgrader": {
     "grade": false,
     "grade_id": "cell-d7071e618ec266e8",
     "locked": true,
     "schema_version": 3,
     "solution": false,
     "task": false
    }
   },
   "source": [
    "### Pause for analysis\n",
    "We know that $\\lt x \\gt = {1 \\over 2}L$, and therefore $\\lt x \\gt^2 = {1 \\over 4}L^2$. That means we can write the variance as  \n",
    "\n",
    "$$\n",
    "\\sigma^2 = <x^2>-<x>^2 = (A - {1 \\over 4})  L^2 \n",
    "$$\n",
    "\n",
    "In the cell below, we calculate $(A - {1 \\over 4})$ for you. As mentioned in the Introduction, this should be a positive number (since variance is positive). If you get a positive number below, great! If not, it might be worth checking for an error somewhere."
   ]
  },
  {
   "cell_type": "code",
   "execution_count": 6,
   "id": "2abcf235",
   "metadata": {
    "nbgrader": {
     "grade": false,
     "grade_id": "cell-a20d6eab273710f7",
     "locked": true,
     "schema_version": 3,
     "solution": false,
     "task": false
    }
   },
   "outputs": [
    {
     "name": "stdout",
     "output_type": "stream",
     "text": [
      "0.032672741512164094\n"
     ]
    }
   ],
   "source": [
    "print(A - 1/4)"
   ]
  },
  {
   "cell_type": "markdown",
   "id": "91906c7c",
   "metadata": {
    "nbgrader": {
     "grade": false,
     "grade_id": "cell-2e1c38dd9c161354",
     "locked": true,
     "schema_version": 3,
     "solution": false,
     "task": false
    }
   },
   "source": [
    "### Refreshing and saving your code\n",
    "1. Use the dropdown menu Kernel/Restart\n",
    "2. Use the dropdown menu Cell/Run All Above\n",
    "3. Under the \"File\" dropdown menu item in the upper left is a disk icon. Press it now to save your work (you can, do this at any time as you're working on an assignment, actually).\n",
    "\n",
    "### Validating\n",
    "This step will help ensure that you didn't miss something (although it's not a guarantee). Find the \"Validate\" button and press it. If there are any errors or warnings, fix them.\n",
    "\n",
    "### Finishing up\n",
    "Assuming all this has gone smoothly, carry out three more steps (but read this carefully before starting):\n",
    "1. Close this notebook using the \"File/Close and Halt\" dropdown menu\n",
    "1. Using the Assignments tab, submit this notebook\n",
    "1. Press the Logout tab of the Home Page"
   ]
  },
  {
   "cell_type": "code",
   "execution_count": null,
   "id": "bb988c62",
   "metadata": {},
   "outputs": [],
   "source": []
  }
 ],
 "metadata": {
  "celltoolbar": "Create Assignment",
  "kernelspec": {
   "display_name": "Python 3 (ipykernel)",
   "language": "python",
   "name": "python3"
  },
  "language_info": {
   "codemirror_mode": {
    "name": "ipython",
    "version": 3
   },
   "file_extension": ".py",
   "mimetype": "text/x-python",
   "name": "python",
   "nbconvert_exporter": "python",
   "pygments_lexer": "ipython3",
   "version": "3.10.2"
  }
 },
 "nbformat": 4,
 "nbformat_minor": 5
}

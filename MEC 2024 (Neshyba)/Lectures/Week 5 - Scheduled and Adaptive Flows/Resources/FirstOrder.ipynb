{
 "cells": [
  {
   "cell_type": "code",
   "execution_count": 1,
   "id": "ff2beb6f",
   "metadata": {},
   "outputs": [],
   "source": [
    "from sympy import *\n",
    "import numpy as np"
   ]
  },
  {
   "cell_type": "code",
   "execution_count": 2,
   "id": "7598ba69",
   "metadata": {},
   "outputs": [],
   "source": [
    "C = Symbol('C')\n",
    "a = Symbol('a')\n",
    "F0 = Symbol('F0')\n",
    "Inc = Symbol('Inc')\n",
    "C0 = Symbol('C0')"
   ]
  },
  {
   "cell_type": "code",
   "execution_count": 3,
   "id": "6941a0f3",
   "metadata": {},
   "outputs": [],
   "source": [
    "f = (atan((C-C0)/a)/(pi/2)*Inc+1)*F0"
   ]
  },
  {
   "cell_type": "code",
   "execution_count": 4,
   "id": "a221d2a0",
   "metadata": {},
   "outputs": [
    {
     "name": "stdout",
     "output_type": "stream",
     "text": [
      "   ⎛          ⎛C - C₀⎞    ⎞\n",
      "   ⎜2⋅Inc⋅atan⎜──────⎟    ⎟\n",
      "   ⎜          ⎝  a   ⎠    ⎟\n",
      "F₀⋅⎜────────────────── + 1⎟\n",
      "   ⎝        π             ⎠\n"
     ]
    }
   ],
   "source": [
    "pprint(f)"
   ]
  },
  {
   "cell_type": "code",
   "execution_count": 5,
   "id": "8ff32731",
   "metadata": {},
   "outputs": [
    {
     "name": "stdout",
     "output_type": "stream",
     "text": [
      "      2⋅F₀⋅Inc     \n",
      "───────────────────\n",
      "    ⎛            2⎞\n",
      "    ⎜    (C - C₀) ⎟\n",
      "π⋅a⋅⎜1 + ─────────⎟\n",
      "    ⎜         2   ⎟\n",
      "    ⎝        a    ⎠\n"
     ]
    }
   ],
   "source": [
    "fp = f.diff(C)\n",
    "pprint(fp)"
   ]
  },
  {
   "cell_type": "code",
   "execution_count": 6,
   "id": "f88957fc",
   "metadata": {},
   "outputs": [
    {
     "data": {
      "text/latex": [
       "$\\displaystyle \\frac{2 F_{0} Inc}{\\pi a}$"
      ],
      "text/plain": [
       "2*F0*Inc/(pi*a)"
      ]
     },
     "execution_count": 6,
     "metadata": {},
     "output_type": "execute_result"
    }
   ],
   "source": [
    "fp.subs(C,C0)"
   ]
  }
 ],
 "metadata": {
  "kernelspec": {
   "display_name": "Python 3",
   "language": "python",
   "name": "python3"
  },
  "language_info": {
   "codemirror_mode": {
    "name": "ipython",
    "version": 3
   },
   "file_extension": ".py",
   "mimetype": "text/x-python",
   "name": "python",
   "nbconvert_exporter": "python",
   "pygments_lexer": "ipython3",
   "version": "3.8.8"
  }
 },
 "nbformat": 4,
 "nbformat_minor": 5
}

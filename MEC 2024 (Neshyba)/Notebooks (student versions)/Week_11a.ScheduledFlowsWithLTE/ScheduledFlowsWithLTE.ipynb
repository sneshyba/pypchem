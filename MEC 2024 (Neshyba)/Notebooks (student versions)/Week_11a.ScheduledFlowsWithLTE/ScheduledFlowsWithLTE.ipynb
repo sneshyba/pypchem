{
 "cells": [
  {
   "cell_type": "markdown",
   "metadata": {
    "deletable": false,
    "editable": false,
    "id": "pXKK1rEgGCO1",
    "nbgrader": {
     "cell_type": "markdown",
     "checksum": "f68fdcf27a28f4ea18f781a5bb2e7c3c",
     "grade": false,
     "grade_id": "cell-36214a5cdb483adb",
     "locked": true,
     "schema_version": 3,
     "solution": false,
     "task": false
    }
   },
   "source": [
    "### Computational Guided Inquiry for Modeling Earth's Climate (Neshyba, 2024)\n",
    "\n",
    "# Scheduled Flows with Long-term Emissions\n",
    "\n",
    "## Overview\n",
    "The idea of this module is to create an emissions scenario -- a _schedule_ -- that describes how much carbon humans have released to the atmosphere in the past, and that makes projections about future emissions. We've done this before (ScheduledFlows), but this will allow us to specify long-term emissions.\n",
    "\n",
    "### Magic methods\n",
    "Sometimes it is just useful to be able to ask Python to tell you key information. Here are a couple of examples:\n",
    "\n",
    "- %ls (produces a listing of all the files in your current working folder)\n",
    "- %whos (shows what variables and functions your session of Python knows about)\n",
    "\n",
    "## Skills\n",
    "\n",
    "- I know how to use the function ScheduledFlowsWithLTE to generate a emissions scenario.\n",
    "- I know how to use \"magic methods\" Python "
   ]
  },
  {
   "cell_type": "code",
   "execution_count": null,
   "metadata": {
    "deletable": false,
    "editable": false,
    "nbgrader": {
     "cell_type": "code",
     "checksum": "6604aaaf12ee08e9b244f1e42bd0c743",
     "grade": false,
     "grade_id": "cell-055ab63638c64e26",
     "locked": true,
     "schema_version": 3,
     "solution": false,
     "task": false
    }
   },
   "outputs": [],
   "source": [
    "import numpy as np\n",
    "import pandas as pd\n",
    "import matplotlib.pyplot as plt\n",
    "import h5io\n",
    "import sys; sys.path.append('/home'); import MECLib as CL\n",
    "%matplotlib notebook"
   ]
  },
  {
   "cell_type": "markdown",
   "metadata": {
    "deletable": false,
    "editable": false,
    "nbgrader": {
     "cell_type": "markdown",
     "checksum": "5007039cc8a8815951c5417bc73ba2b5",
     "grade": false,
     "grade_id": "cell-4bbbf44da96900b3",
     "locked": true,
     "schema_version": 3,
     "solution": false,
     "task": false
    }
   },
   "source": [
    "### The \"%whos\" magic\n",
    "In the cell below, we use the \"%whos\" magic to show the variables and modules that are in Python's variable space."
   ]
  },
  {
   "cell_type": "code",
   "execution_count": null,
   "metadata": {
    "deletable": false,
    "editable": false,
    "nbgrader": {
     "cell_type": "code",
     "checksum": "f6b529aa920fedb7c89975a1c28f4163",
     "grade": false,
     "grade_id": "cell-d519e111ec45af01",
     "locked": true,
     "schema_version": 3,
     "solution": false,
     "task": false
    }
   },
   "outputs": [],
   "source": [
    "x = 1\n",
    "y = 1.0\n",
    "%whos"
   ]
  },
  {
   "cell_type": "markdown",
   "metadata": {
    "deletable": false,
    "editable": false,
    "nbgrader": {
     "cell_type": "markdown",
     "checksum": "ec0f4537604358f6d42718dcb99a4b6c",
     "grade": false,
     "grade_id": "cell-bb9a79937e78327f",
     "locked": true,
     "schema_version": 3,
     "solution": false,
     "task": false
    }
   },
   "source": [
    "### Pause for analysis\n",
    "What are the different variable types you see?"
   ]
  },
  {
   "cell_type": "markdown",
   "metadata": {
    "deletable": false,
    "nbgrader": {
     "cell_type": "markdown",
     "checksum": "e9f764ad7bee5580936990498e5b6625",
     "grade": true,
     "grade_id": "cell-985eea03fc872560",
     "locked": false,
     "points": 1,
     "schema_version": 3,
     "solution": true,
     "task": false
    }
   },
   "source": [
    "YOUR ANSWER HERE"
   ]
  },
  {
   "cell_type": "markdown",
   "metadata": {
    "deletable": false,
    "editable": false,
    "nbgrader": {
     "cell_type": "markdown",
     "checksum": "7e8402b422a239db6118c941b1fdd5d3",
     "grade": false,
     "grade_id": "cell-7149c152fb094c4f",
     "locked": true,
     "schema_version": 3,
     "solution": false,
     "task": false
    }
   },
   "source": [
    "### Adding to the variable space\n",
    "In the cell below, we add an array to our variable space. Use the \"%whos\" magic at the bottom of the cell to see the result."
   ]
  },
  {
   "cell_type": "code",
   "execution_count": null,
   "metadata": {
    "deletable": false,
    "nbgrader": {
     "cell_type": "code",
     "checksum": "877f37f893cdcd1baf6dd8e7e5b6af3d",
     "grade": true,
     "grade_id": "cell-4b0a6d05574e21c1",
     "locked": false,
     "points": 1,
     "schema_version": 3,
     "solution": true,
     "task": false
    }
   },
   "outputs": [],
   "source": [
    "# Adding an array to the variable space\n",
    "xarray = np.linspace(0,1)\n",
    "\n",
    "# Use the \"%whos\" magic again\n",
    "# your code here \n"
   ]
  },
  {
   "cell_type": "markdown",
   "metadata": {
    "deletable": false,
    "editable": false,
    "nbgrader": {
     "cell_type": "markdown",
     "checksum": "621b5e19205c4ca73961787ccd047d44",
     "grade": false,
     "grade_id": "cell-537a93ebe1cca5fe",
     "locked": true,
     "schema_version": 3,
     "solution": false,
     "task": false
    }
   },
   "source": [
    "### Pause for analysis\n",
    "In the cell below, make a note of any new variables that have appear, and their types."
   ]
  },
  {
   "cell_type": "markdown",
   "metadata": {
    "deletable": false,
    "nbgrader": {
     "cell_type": "markdown",
     "checksum": "d166f3ca1047a6c322119e9afbdd11b4",
     "grade": true,
     "grade_id": "cell-2b34e9c14931313b",
     "locked": false,
     "points": 1,
     "schema_version": 3,
     "solution": true,
     "task": false
    }
   },
   "source": [
    "YOUR ANSWER HERE"
   ]
  },
  {
   "cell_type": "markdown",
   "metadata": {
    "deletable": false,
    "editable": false,
    "nbgrader": {
     "cell_type": "markdown",
     "checksum": "d99d1fbb71626d6107debf5fbc8d7984",
     "grade": false,
     "grade_id": "cell-6559d2a5e4a0ab6b",
     "locked": true,
     "schema_version": 3,
     "solution": false,
     "task": false
    }
   },
   "source": [
    "### The \"%ls\" magic\n",
    "In the cell below, we use the \"%ls\" magic to show what files are present in your working folder on the server. There's no \"Pause for analysis\" here - but do take note of the results, so we can compare later."
   ]
  },
  {
   "cell_type": "code",
   "execution_count": null,
   "metadata": {
    "deletable": false,
    "editable": false,
    "nbgrader": {
     "cell_type": "code",
     "checksum": "a93e41a7002ef2b349a5d5d7c12a8be5",
     "grade": false,
     "grade_id": "cell-d63a1748319620d6",
     "locked": true,
     "schema_version": 3,
     "solution": false,
     "task": false
    }
   },
   "outputs": [],
   "source": [
    "%ls"
   ]
  },
  {
   "cell_type": "markdown",
   "metadata": {
    "deletable": false,
    "editable": false,
    "nbgrader": {
     "cell_type": "markdown",
     "checksum": "6cac47861082576ab2ff4f58f0b2a7f4",
     "grade": false,
     "grade_id": "cell-8d40309d66f9f8b0",
     "locked": true,
     "schema_version": 3,
     "solution": false,
     "task": false
    }
   },
   "source": [
    "### Using ScheduledFlowsWithLTE\n",
    "In the cell below, we calculate and plot an emissions scenario, $\\epsilon (t)$, using MakeEmissionsScenarioLTE (which includes long-term emissions)."
   ]
  },
  {
   "cell_type": "code",
   "execution_count": null,
   "metadata": {
    "deletable": false,
    "editable": false,
    "nbgrader": {
     "cell_type": "code",
     "checksum": "2e2728c39030e096c820f962c3e5ec0a",
     "grade": false,
     "grade_id": "cell-313bbca2562c8f2a",
     "locked": true,
     "schema_version": 3,
     "solution": false,
     "task": false
    }
   },
   "outputs": [],
   "source": [
    "# Parameters\n",
    "t_start = 1750\n",
    "t_stop = 2150\n",
    "nsteps = 600\n",
    "t = np.linspace(t_start,t_stop,nsteps)\n",
    "t_peak = 2060\n",
    "t_decarb = 15\n",
    "k = 0.022\n",
    "t_0 = 2003\n",
    "eps_0 = 9\n",
    "epslongterm = 10\n",
    "\n",
    "# Create the scenario\n",
    "t, myeps = CL.MakeEmissionsScenarioLTE(t_start,t_stop,nsteps,k,eps_0,t_0,t_peak,t_decarb,epslongterm)\n",
    "\n",
    "# Plot the scenario\n",
    "plt.figure()\n",
    "plt.plot(t,myeps)\n",
    "plt.grid(True)\n",
    "plt.title('Emission scenario (GtC/year)')\n",
    "plt.xlabel('year')\n",
    "plt.ylabel('GtC/year')"
   ]
  },
  {
   "cell_type": "markdown",
   "metadata": {
    "deletable": false,
    "editable": false,
    "nbgrader": {
     "cell_type": "markdown",
     "checksum": "40893aa00434706133b14fcf4b9faf03",
     "grade": false,
     "grade_id": "cell-5fa0804646c577ab",
     "locked": true,
     "schema_version": 3,
     "solution": false,
     "task": false
    }
   },
   "source": [
    "### Your turn\n",
    "In the cell below, create another emissions scenario using CL.MakeEmissionsScenarioLTE. The parameters can be whatever you like, but you should make at least two changes:\n",
    "\n",
    "- give it a lower long-term emissions amount (since 10 GtC/year is far too high)\n",
    "- give it an earlier peak emissions year (since 2060 is too late)\n",
    "\n",
    "Then plot myeps as a function of time (t) to make sure it looks OK."
   ]
  },
  {
   "cell_type": "code",
   "execution_count": null,
   "metadata": {
    "deletable": false,
    "nbgrader": {
     "cell_type": "code",
     "checksum": "05a6c2820ec946b3d60a0f23a99d82c6",
     "grade": true,
     "grade_id": "cell-bb193f74faf1deb5",
     "locked": false,
     "points": 2,
     "schema_version": 3,
     "solution": true,
     "task": false
    }
   },
   "outputs": [],
   "source": [
    "# your code here \n"
   ]
  },
  {
   "cell_type": "markdown",
   "metadata": {
    "deletable": false,
    "editable": false,
    "nbgrader": {
     "cell_type": "markdown",
     "checksum": "3514b2273531f9f7c40cdac4f1889f7b",
     "grade": false,
     "grade_id": "cell-e47ef9ba21946628",
     "locked": true,
     "schema_version": 3,
     "solution": false,
     "task": false
    }
   },
   "source": [
    "### Saving your emissions scenario\n",
    "In the cell below we create the dictionary, etc., and save it to a file. You can use this almost as-is -- but you should change the name to something more descriptive of the scenario you actually created."
   ]
  },
  {
   "cell_type": "code",
   "execution_count": null,
   "metadata": {
    "colab": {
     "base_uri": "https://localhost:8080/",
     "height": 442
    },
    "id": "fk0YrAY_8RXu",
    "outputId": "f4005649-0786-41ff-dcad-d73ca9e40e5b"
   },
   "outputs": [],
   "source": [
    "# Create an empty dictionary\n",
    "epsdictionary = dict()\n",
    "\n",
    "# Create an empty dataframe\n",
    "epsdf = pd.DataFrame()\n",
    "\n",
    "# Insert the time and emissions columns into the dataframe\n",
    "epsdf.insert(loc=0, column='time', value=t)\n",
    "epsdf.insert(loc=1, column='emissions', value=myeps)\n",
    "\n",
    "# Add the dataframe to the dictionary\n",
    "epsdictionary['dataframe']=epsdf\n",
    "\n",
    "# Add metadata\n",
    "epsdictionary['t_0'] = t_0\n",
    "epsdictionary['eps_0'] = eps_0\n",
    "epsdictionary['t_peak'] = t_peak\n",
    "epsdictionary['t_decarb'] = t_decarb\n",
    "epsdictionary['k'] = k\n",
    "\n",
    "# Report the contents of the dictionary\n",
    "display(epsdictionary)\n",
    "\n",
    "# Saving the dictionary as a file on the server\n",
    "scenario_file_name = 'Peaks_in_2040_noLTE.hdf5'\n",
    "h5io.write_hdf5(scenario_file_name, epsdictionary, overwrite=True)"
   ]
  },
  {
   "cell_type": "markdown",
   "metadata": {
    "deletable": false,
    "editable": false,
    "nbgrader": {
     "cell_type": "markdown",
     "checksum": "4f1ef41aab99821bec34f393692ac88c",
     "grade": false,
     "grade_id": "cell-c9bcef6948b30bee",
     "locked": true,
     "schema_version": 3,
     "solution": false,
     "task": false
    }
   },
   "source": [
    "### Using the \"%ls\" magic again\n",
    "In the cell below, use the \"%ls\" magic to list the files that are (now) in your current working folder."
   ]
  },
  {
   "cell_type": "code",
   "execution_count": null,
   "metadata": {
    "colab": {
     "base_uri": "https://localhost:8080/",
     "height": 442
    },
    "deletable": false,
    "id": "fk0YrAY_8RXu",
    "nbgrader": {
     "cell_type": "code",
     "checksum": "a0b2813cd882473c24fc3054b2d9c3d0",
     "grade": true,
     "grade_id": "cell-bfe06bf895da5d69",
     "locked": false,
     "points": 1,
     "schema_version": 3,
     "solution": true,
     "task": false
    },
    "outputId": "f4005649-0786-41ff-dcad-d73ca9e40e5b"
   },
   "outputs": [],
   "source": [
    "# your code here \n"
   ]
  },
  {
   "cell_type": "markdown",
   "metadata": {
    "deletable": false,
    "editable": false,
    "nbgrader": {
     "cell_type": "markdown",
     "checksum": "c403c6eb45c87d4836779d4347ae62c0",
     "grade": false,
     "grade_id": "cell-9e7177d5c2a06f61",
     "locked": true,
     "schema_version": 3,
     "solution": false,
     "task": false
    }
   },
   "source": [
    "### Pause for analysis\n",
    "Nothing to do here, except verify that the file you thought you created really are there."
   ]
  },
  {
   "cell_type": "markdown",
   "metadata": {
    "deletable": false,
    "editable": false,
    "nbgrader": {
     "cell_type": "markdown",
     "checksum": "b371ced881185121ed9b479d2ae4e9fb",
     "grade": false,
     "grade_id": "cell-1c37ad9f7cb0b589",
     "locked": true,
     "schema_version": 3,
     "solution": false,
     "task": false
    }
   },
   "source": [
    "### Refresh/save/validate\n",
    "Almost done! To double-check everything is OK, repeat the \"Three steps for refreshing and saving your code,\" and press the \"Validate\" button (as usual). Then submit."
   ]
  }
 ],
 "metadata": {
  "colab": {
   "collapsed_sections": [],
   "name": "MakeEmissionsScenario.ipynb",
   "provenance": []
  },
  "kernelspec": {
   "display_name": "Python 3 (ipykernel)",
   "language": "python",
   "name": "python3"
  },
  "language_info": {
   "codemirror_mode": {
    "name": "ipython",
    "version": 3
   },
   "file_extension": ".py",
   "mimetype": "text/x-python",
   "name": "python",
   "nbconvert_exporter": "python",
   "pygments_lexer": "ipython3",
   "version": "3.10.2"
  }
 },
 "nbformat": 4,
 "nbformat_minor": 1
}

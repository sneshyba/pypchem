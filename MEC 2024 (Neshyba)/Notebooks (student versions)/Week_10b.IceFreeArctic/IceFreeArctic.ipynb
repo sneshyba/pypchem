{
 "cells": [
  {
   "cell_type": "markdown",
   "metadata": {
    "deletable": false,
    "editable": false,
    "nbgrader": {
     "cell_type": "markdown",
     "checksum": "1f8f59c8b769ff99796b7a366f4f8d3a",
     "grade": false,
     "grade_id": "cell-81be5d389b5d95f8",
     "locked": true,
     "schema_version": 3,
     "solution": false,
     "task": false
    }
   },
   "source": [
    "### PENGUIN (Neshyba, Rowe, & Rivers, 2024)\n",
    "\n",
    "# Warming of an ice-free Arctic\n",
    "\n",
    "## Introduction\n",
    "Over the last few decades, the temperature of the Arctic region has been rising fast -- at a rate of about 1 degree per decade (see https://climate.copernicus.eu/esotc/2020/arctic-temperatures). That's as much as *four times* faster than the rest of the Earth has been warming (see https://www.nature.com/articles/s43247-022-00498-3). This extra warming, called *Arctic amplification*, is thought to be due primarily to the reduction in the coverage of ice and snow in the Arctic region, over land and sea.\n",
    "\n",
    "The temperature difference you'll calculate here is all about an *additional* kind of Arctic amplification due to the *complete disappearence of summertime ice and snow over the Arctic Ocean*. Arctic amplification due to this mechanism hasn't fully kicked in yet because Arctic sea ice is still present in the summer, but we know it is happening -- you can see the trend in Figs. 1 and 2 below.\n",
    "\n",
    "<p style='text-align: center;'>\n",
    "<img src=https://media-cldnry.s-nbcnews.com/image/upload/t_nbcnews-ux-2880-1000,f_auto,q_auto:best/newscms/2015_38/1223536/150915-science-arctic_ice.jpg height=\"500\" width=\"500\"/>\n",
    "Figure 1. The 2015 Arctic sea ice summertime minimum, compared to the 1981-2010 average (from https://www.nbcnews.com/science/environment/rapid-melt-arctic-sea-ice-shrinks-fourth-lowest-level-record-n427866?cid=par-sy-_all). \n",
    "</p>\n",
    "\n",
    "<p style='text-align: center;'>    \n",
    "<img src=\"http://webspace.pugetsound.edu/facultypages/nesh/Notebook/Arctic Sea Ice over time.png\" height=\"500\" width=\"500\"/>\n",
    "Figure 2. Seasonal and interannual variation in Arctic sea ice areal extent (from https://zacklabe.com/arctic-sea-ice-extentconcentration/).\n",
    "</p>\n",
    "\n",
    "## Positive feedbacks and climate tipping points\n",
    "Thinking about the relationship between the disappearance of sea ice and $CO_2$-induced global warming, you might make the following objection: isn't the disappearance of sea ice the *result* of an increase in temperature due to human emissions of $CO_2$? How can it be both cause and effect? The answer is, $CO_2$-induced warming and sea ice loss feed off one another, known in climate science as a *positive feedback* between the two processes.\n",
    "\n",
    "Positive feedbacks are especially worrisome because embedded in them is the idea that at a certain point, these feedback mechanisms might lead to what is called a *tipping point*. Dynamical systems that experience positive feedback are susceptible to taking on a life of their own. One big worry regarding the Arctic is that it has already passed, or is at least very close to, a tipping point in which summertime Arctic sea ice will go away permanently, and therefore the warming will continue even if humans back off on the $CO_2$ that got the warming started.\n",
    "\n",
    "There are lots of other ways the climate system could accidentally trigger tipping points when the global temperature rises above $1.5-2$ degrees Celsius -- for further reading, you can check out https://rmets.onlinelibrary.wiley.com/doi/full/10.1002/wea.4058. Avoiding these climate tipping points is a big reason the signers of the Paris Climate Agreement (https://unfccc.int/process-and-meetings/the-paris-agreement) stipulated that we should really, really keep warming *under* $1.5-2$ degrees Celsius. \n",
    "\n",
    "## The idea of this CGI\n",
    "This CGI is an exploration of how much the Arctic's temperature would go up as a result of the additional loss of ice and snow in the Arctic Ocean. Figure 3 shows the factors we'll be considering here. The questions we'll be focusing on are: How much additional warming might there be? and How does that compare with the Arctic amplification we've seen so far? \n",
    "\n",
    "<p style='text-align: center;'>\n",
    "<img src=http://webspace.pugetsound.edu/facultypages/nesh/Notebook/IceFreeArctic.png height=\"800\" width=\"800\"/>\n",
    "Figure 3. Factors influencing the heating effect of loss of summertime Arctic Ocean ice. \n",
    "</p>\n",
    "\n",
    "\n",
    "## Part 1. Heat capacity of the photic layer of the Arctic Ocean\n",
    "Where to start? You probably have an intuition about this: when you try to heat something up, the more massive it is, the harder it is to heat it up. In our case, we'll need the total mass of the *photic layer* of the ocean (top 200 meters) of the Arctic Ocean, since that's the layer that will be absorbing most of that additional sunlight once the cover of sea ice is gone.\n",
    "\n",
    "$$\n",
    "mass = Area \\times Depth \\times Density \\ \\ \\ \\ (1)\n",
    "$$\n",
    "\n",
    "Those quantities have been measured -- some by satellite, others in laboratories. Check out these sources for values:\n",
    "\n",
    "- https://en.wikipedia.org/wiki/Arctic_Ocean\n",
    "- https://www.noaa.gov/jetstream/ocean/layers-of-ocean\n",
    "- https://en.wikipedia.org/wiki/Photic_zone\n",
    "- https://en.wikipedia.org/wiki/Seawater\n",
    "\n",
    "To get the heat capacity, $C$, of the photic layer, we can use\n",
    "\n",
    "$$\n",
    "C = C_s \\times mass \\ \\ \\ \\ (2)\n",
    "$$\n",
    "\n",
    "where $C_s$ is called the *specific heat capacity* of water. That's also a known quantity (see https://en.wikipedia.org/wiki/Table_of_specific_heat_capacities).\n",
    "\n",
    "## Part 2. The insolation impact\n",
    "We'll also need to know the difference in solar energy getting into the Arctic Ocean when the ice is gone. We can start with how much light is hitting the surface in the first place. That's called the *insolation*, and symbolized as $I$. Insolation varies with the time of year, and with the latitude, but that's all been worked out -- check out the 8th figure down at http://arctic-news.blogspot.com/2013/06/open-water-in-areas-around-north-pole.html, as an example. \n",
    "\n",
    "Now, melting ice doesn't change $I$ -- that's controlled by the sun. But melting does change the fraction of $I$ that actually warms the surface. That's because sea ice reflects away a lot more sunlight than the open ocean does. This reflectivity has a special name in climate science: it's called the *albedo*. Albedos of all kinds of surface types have been measured -- see https://en.wikipedia.org/wiki/Albedo. \n",
    "\n",
    "One more note about this -- there are clouds above the ocean in the Arctic that also reflect sunlight. What that means is, the sensitivity, $s_{sur}$, of the overall albedo of the Arctic to changes in the surface albedo, is small -- only about 11% (see https://www.mdpi.com/2073-4433/10/1/12). \n",
    "\n",
    "So in the end, we have a total solar insolation difference given by\n",
    "\n",
    "$$\n",
    "\\Delta I = (\\alpha_{ice} - \\alpha_{ocean}) \\times Area \\times s_{sur} \\times I \\ \\ \\ \\ (3)\n",
    "$$\n",
    "\n",
    "where $Area$ is the same as what we've already considered, namely, the areal extent of the Arctic Ocean. \n",
    "\n",
    "## Part 3. The energy impact\n",
    "Now we're ready to find the energy difference resulting from the extra sunlight being absorbed after the cover of snow and ice is gone. It's given by\n",
    "\n",
    "$$\n",
    "\\Delta E = \\Delta I \\times \\Delta t \\ \\ \\ \\ (4)\n",
    "$$\n",
    "\n",
    "where $\\Delta t$ is the length of time the Arctic Ocean will be ice-free. If we say the entire summer is ice-free, we'd specify $\\Delta t \\approx 3 $ months.\n",
    "\n",
    "\n",
    "## Part 4. The temperature impact\n",
    "\n",
    "A pretty straightforward thermodynamic analysis says that the temperature change we can expect when that additional energy is absorbed by the photic layer of the Arctic Ocean will be given by\n",
    "\n",
    "$$\n",
    "\\Delta T = {\\Delta E  \\over C}  \\ \\ \\ \\ (5)\n",
    "$$\n",
    " \n",
    "## Background reading\n",
    "Useful background reading for this activity is https://e360.yale.edu/features/as_arctic_ocean_ice_disappears_global_climate_impacts_intensify_wadhams. \n",
    "\n",
    "\n",
    "## Learning goals\n",
    "\n",
    "1. I know the months of the year when Arctic sea ice extent is at a maximum and a minimum;\n",
    "1. I can explain how the following terms relate to climate: *positive feedback*, *albedo*, *specific heat capacity*, *insolation*, *photic layer*, *Arctic Amplification*, and *tipping point*;\n",
    "1. Given the mass and specific heat capacity of a substance, I can find its *total heat capacity*;\n",
    "1. Given the area and insolation of geographical region (like the Arctic), I can find the region's *total insolation*; and\n",
    "1. I can predict how much the Arctic is likely to warm when summertime ice disappears."
   ]
  },
  {
   "cell_type": "code",
   "execution_count": null,
   "metadata": {
    "deletable": false,
    "editable": false,
    "nbgrader": {
     "cell_type": "code",
     "checksum": "aebf92dd847efdaf1de95cf7537ecb65",
     "grade": false,
     "grade_id": "cell-5053492bb3c512e5",
     "locked": true,
     "schema_version": 3,
     "solution": false,
     "task": false
    }
   },
   "outputs": [],
   "source": [
    "import numpy as np\n",
    "from pint import UnitRegistry; AssignQuantity = UnitRegistry().Quantity"
   ]
  },
  {
   "cell_type": "markdown",
   "metadata": {
    "deletable": false,
    "editable": false,
    "nbgrader": {
     "cell_type": "markdown",
     "checksum": "fc7e4e9675cb43e1e59006c69cf63aa8",
     "grade": false,
     "grade_id": "cell-bf048d9b335d27c0",
     "locked": true,
     "schema_version": 3,
     "solution": false,
     "task": false
    }
   },
   "source": [
    "### 1. Heat capacity of the photic layer of the Arctic Ocean\n",
    "\n",
    "Your task in the cell below is to calculate the heat capacity of the photic layer of the Arctic ocean. All intermediate values (density, areal extent, etc.) should be assigned as you go along, with units using AssignQuantity, and printed using f-string syntax. For example, the first assignment in the cell below could look something like\n",
    "\n",
    "    density = AssignQuantity(1020,'kg/m^3')\n",
    "    \n",
    "(assuming that's the value you get from https://en.wikipedia.org/wiki/Seawater)."
   ]
  },
  {
   "cell_type": "code",
   "execution_count": null,
   "metadata": {
    "deletable": false,
    "nbgrader": {
     "cell_type": "code",
     "checksum": "e90ee273d2f66dad76755ab0f0245213",
     "grade": true,
     "grade_id": "cell-a2fc51dc56101bd2",
     "locked": false,
     "points": 6,
     "schema_version": 3,
     "solution": true,
     "task": false
    }
   },
   "outputs": [],
   "source": [
    "# Use AssignQuantity to assign (and print) a value for the density of sea water\n",
    "# Reference: https://en.wikipedia.org/wiki/Seawater\n",
    "# your code here \n",
    "\n",
    "\n",
    "# Areal extent of the Arctic Ocean\n",
    "# Reference: https://en.wikipedia.org/wiki/Arctic_Ocean\n",
    "# your code here \n",
    "\n",
    "\n",
    "# Depth of the part of the ocean that will heat up -- the photic layer\n",
    "# Reference: https://en.wikipedia.org/wiki/Photic_zone\n",
    "# your code here \n",
    "\n",
    "\n",
    "# Mass of the Arctic photic zone (see Eq. 1 of the Introduction)\n",
    "# your code here \n",
    "\n",
    "\n",
    "# Specific Heat capacity of water\n",
    "# Reference: https://en.wikipedia.org/wiki/Table_of_specific_heat_capacities (you can use the 25C value)\n",
    "# your code here \n",
    "\n",
    "\n",
    "# Heat capacity of the entire photic layer of the Arctic (Eq. 2 of the Introduction)\n",
    "# (You can expect a number on the order of 10^22 joule/kelvin)\n",
    "# your code here \n"
   ]
  },
  {
   "cell_type": "markdown",
   "metadata": {
    "deletable": false,
    "editable": false,
    "nbgrader": {
     "cell_type": "markdown",
     "checksum": "45dbfa451211f561e2cb9de2008df3c7",
     "grade": false,
     "grade_id": "cell-964105fa614d024a",
     "locked": true,
     "schema_version": 3,
     "solution": false,
     "task": false
    }
   },
   "source": [
    "### 2. The insolation impact\n",
    "As previously, you should assign all intermediate values (insolation, etc.) should be assigned with units using AssignQuantity, and printed using f-string syntax."
   ]
  },
  {
   "cell_type": "code",
   "execution_count": null,
   "metadata": {
    "deletable": false,
    "nbgrader": {
     "cell_type": "code",
     "checksum": "f2e3d4c46e006d174baf346029222bdf",
     "grade": true,
     "grade_id": "cell-79e431985800cba8",
     "locked": false,
     "points": 5,
     "schema_version": 3,
     "solution": true,
     "task": false
    }
   },
   "outputs": [],
   "source": [
    "# Insolation in the Arctic (say, at 90 degrees north, average between the June solstice and the September equinox\n",
    "# Reference: http://arctic-news.blogspot.com/2013/06/open-water-in-areas-around-north-pole.html\n",
    "# your code here \n",
    "\n",
    "\n",
    "# Sensitivity to surface changes because clouds are overhead (i.e., $11%$ as a fraction, so $0.11$)\n",
    "# Note that this is a dimensionless quantity, so you can simply assign it using something like \"s_sur = 0.11\"\n",
    "# your code here \n",
    "\n",
    "\n",
    "# Albedo of the open ocean -- also a dimensionless quantity\n",
    "# Reference: check out the \"sample albedos\" table at https://en.wikipedia.org/wiki/Albedo\n",
    "# your code here \n",
    "\n",
    "\n",
    "# Albedo of sea ice ... according to the above reference, this is about 60%, so 0.6 as a fraction\n",
    "# your code here \n",
    "\n",
    "\n",
    "# Now we can get the insolation difference (Eq. 3 in the Introduction) -- and convert your result into gigawatts\n",
    "# your code here \n"
   ]
  },
  {
   "cell_type": "markdown",
   "metadata": {},
   "source": [
    "### Pause for analysis\n",
    "A gigawatt is a pretty conventional power unit -- for example, the US Grand Coulee dam power station generates about 7 gigawatts of power. But the number you just got is so much bigger than that, that many people have a hard time getting some kind of intuition about it. One approach that some climate scientists have used to bring it to Earth (so to speak) is to compare it to something else that they might have some intuition about. For example, the energy released by the plutonium-239 fission bomb deployed by the US military over the city of Nagasaki in 1945 was almost 100 terajoules (see https://en.wikipedia.org/wiki/Nuclear_weapon_yield). \n",
    "\n",
    "In the space below, use that figure to calculate the number of those plutonium-239 fission bombs that correspond to the insolation difference you just calculated. Code for something like that could look like the following: \n",
    "\n",
    "    energy_of_one_p239 = AssignQuantity(100, 'terajoules')\n",
    "    nbombs_per_time = insolation_difference/energy_of_one_p239\n",
    "    print(f\"nbombs_per_time: {nbombs_per_time}\")                   \n",
    "    \n",
    "Your first try might end up with crazy units, however, like \"gigawatt / terajoule\". If so, you should convert it (using *pint*, of course) to \"1/second\", and print it again."
   ]
  },
  {
   "cell_type": "code",
   "execution_count": null,
   "metadata": {
    "deletable": false,
    "nbgrader": {
     "cell_type": "code",
     "checksum": "35707dd7559d274362bc1b92a0e7688b",
     "grade": true,
     "grade_id": "cell-f57d3e07fd5d3579",
     "locked": false,
     "points": 3,
     "schema_version": 3,
     "solution": true,
     "task": false
    }
   },
   "outputs": [],
   "source": [
    "# your code here \n"
   ]
  },
  {
   "cell_type": "markdown",
   "metadata": {
    "deletable": false,
    "editable": false,
    "nbgrader": {
     "cell_type": "markdown",
     "checksum": "f28d609a86009f5a6b33e215a763bb09",
     "grade": false,
     "grade_id": "cell-6bc01b6ff06764ff",
     "locked": true,
     "schema_version": 3,
     "solution": false,
     "task": false
    }
   },
   "source": [
    "### Pause for analysis\n",
    "Just to review, the figure you just got is the extra energy that will be absorbed by the Arctic Ocean once the cover of sea ice is gone, in \"number of plutonium-239 fission bomb equivalents per second.\" Is there anything about your result that surprised you? Does it seem especially small, or especially big, for example?"
   ]
  },
  {
   "cell_type": "markdown",
   "metadata": {
    "deletable": false,
    "nbgrader": {
     "cell_type": "markdown",
     "checksum": "a48c635f2912e18f36375bc2f69bb280",
     "grade": true,
     "grade_id": "cell-30496c66bc811696",
     "locked": false,
     "points": 2,
     "schema_version": 3,
     "solution": true,
     "task": false
    }
   },
   "source": [
    "YOUR ANSWER HERE"
   ]
  },
  {
   "cell_type": "markdown",
   "metadata": {
    "deletable": false,
    "editable": false,
    "nbgrader": {
     "cell_type": "markdown",
     "checksum": "481eca87aea4e5aef6e129e55cb81332",
     "grade": false,
     "grade_id": "cell-8c8a8095a25801e3",
     "locked": true,
     "schema_version": 3,
     "solution": false,
     "task": false
    }
   },
   "source": [
    "### 3. The energy impact\n",
    "The $\\Delta t$ assigned at the beginning of the cell below assumes three months of ice-free Arctic summer."
   ]
  },
  {
   "cell_type": "code",
   "execution_count": null,
   "metadata": {
    "deletable": false,
    "nbgrader": {
     "cell_type": "code",
     "checksum": "30a19839272d3a868c0d37c155afb434",
     "grade": true,
     "grade_id": "cell-43d61fa71c4eba7a",
     "locked": false,
     "points": 3,
     "schema_version": 3,
     "solution": true,
     "task": false
    }
   },
   "outputs": [],
   "source": [
    "# Let's talk about the summer months (late summer/early fall) of ice-free Arctic, so three months\n",
    "deltat = AssignQuantity(3, 'month')\n",
    "\n",
    "# Extra energy delivered to the Arctic in that time (Eq. 4) ... convert to terajoules\n",
    "# your code here \n"
   ]
  },
  {
   "cell_type": "markdown",
   "metadata": {},
   "source": [
    "### 4. The temperature impact\n",
    "In the cell below, compute the change in temperature we'd expect from one ice-free Arctic summer (Eq. 5 of the Introduction), and convert to degrees kelvin if it's not that automatically."
   ]
  },
  {
   "cell_type": "code",
   "execution_count": null,
   "metadata": {
    "deletable": false,
    "nbgrader": {
     "cell_type": "code",
     "checksum": "a31ae4b4c56ab4d299787a3dfabe0b1b",
     "grade": true,
     "grade_id": "cell-a0db0438265a80f4",
     "locked": false,
     "points": 2,
     "schema_version": 3,
     "solution": true,
     "task": false
    }
   },
   "outputs": [],
   "source": [
    "# The resulting change in temperature for one summer (Eq. 5) ... convert to kelvin\n",
    "# your code here \n"
   ]
  },
  {
   "cell_type": "markdown",
   "metadata": {
    "deletable": false,
    "editable": false,
    "nbgrader": {
     "cell_type": "markdown",
     "checksum": "5e94224ba251ec344a98f57201269579",
     "grade": false,
     "grade_id": "cell-744561822be4bb0d",
     "locked": true,
     "schema_version": 3,
     "solution": false,
     "task": false
    }
   },
   "source": [
    "### Warming per decade\n",
    "The number you just got would correspond to the first summer the Arctic goes ice free (for $\\Delta t$ months). After another year, it'll warm up that much again. So, how much temperature rise do we expect from this mechansm over a full decade? \n",
    "\n",
    "This is easy -- just multiply the value of $\\Delta T$ you just got by 10, and print the result."
   ]
  },
  {
   "cell_type": "code",
   "execution_count": null,
   "metadata": {
    "deletable": false,
    "nbgrader": {
     "cell_type": "code",
     "checksum": "51c38b73d2f5b1d497a0d8b933106643",
     "grade": true,
     "grade_id": "cell-3a3806bb0f72238e",
     "locked": false,
     "points": 1,
     "schema_version": 3,
     "solution": true,
     "task": false
    }
   },
   "outputs": [],
   "source": [
    "# your code here \n"
   ]
  },
  {
   "cell_type": "markdown",
   "metadata": {
    "deletable": false,
    "editable": false,
    "nbgrader": {
     "cell_type": "markdown",
     "checksum": "1ef595b1c7860c578ce0d6c4978faa98",
     "grade": false,
     "grade_id": "cell-7af044a93e5156fb",
     "locked": true,
     "schema_version": 3,
     "solution": false,
     "task": false
    }
   },
   "source": [
    "### Pause for analysis\n",
    "In the cell below, offer some perspective. How does the *additional* heating of the Arctic you just got compare to the heating the Arctic has experienced over the last few decades ($~1^oC$/decade)?"
   ]
  },
  {
   "cell_type": "markdown",
   "metadata": {
    "deletable": false,
    "nbgrader": {
     "cell_type": "markdown",
     "checksum": "df8dab48e0d16f4b9858f6018b66a435",
     "grade": true,
     "grade_id": "cell-c65b8b9296dcbdac",
     "locked": false,
     "points": 2,
     "schema_version": 3,
     "solution": true,
     "task": false
    }
   },
   "source": [
    "YOUR ANSWER HERE"
   ]
  },
  {
   "cell_type": "markdown",
   "metadata": {
    "deletable": false,
    "editable": false,
    "nbgrader": {
     "cell_type": "markdown",
     "checksum": "65d10a7f2b31a405bc38eed2dcbd87c3",
     "grade": false,
     "grade_id": "cell-27cee8789a88572f",
     "locked": true,
     "schema_version": 3,
     "solution": false,
     "task": false
    }
   },
   "source": [
    "### Validating and finishing up\n",
    "Assuming all this has gone smoothly and a Kernel/Restart & Run All has run without error, don't forget to\n",
    "1. Close this notebook using the \"File/Close and Halt\" dropdown menu, and submit it for evaluation.\n",
    "1. Press the Logout tab of the Home Page"
   ]
  }
 ],
 "metadata": {
  "kernelspec": {
   "display_name": "Python 3 (ipykernel)",
   "language": "python",
   "name": "python3"
  },
  "language_info": {
   "codemirror_mode": {
    "name": "ipython",
    "version": 3
   },
   "file_extension": ".py",
   "mimetype": "text/x-python",
   "name": "python",
   "nbconvert_exporter": "python",
   "pygments_lexer": "ipython3",
   "version": "3.10.2"
  }
 },
 "nbformat": 4,
 "nbformat_minor": 2
}

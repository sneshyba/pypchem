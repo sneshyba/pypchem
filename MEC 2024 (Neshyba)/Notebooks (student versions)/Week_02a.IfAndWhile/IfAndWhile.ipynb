{
 "cells": [
  {
   "cell_type": "markdown",
   "id": "d04b4845",
   "metadata": {
    "deletable": false,
    "editable": false,
    "nbgrader": {
     "cell_type": "markdown",
     "checksum": "ccc10556b059eb9d526ff3f81304fc66",
     "grade": false,
     "grade_id": "cell-b05570620a93bd73",
     "locked": true,
     "schema_version": 3,
     "solution": false,
     "task": false
    }
   },
   "source": [
    "### Computational Guided Inquiry for Modeling Earth's Climate (Neshyba, 2024)\n",
    "\n",
    "# If and While\n",
    "\n",
    "\n",
    "## \"If\" blocks\n",
    "Lots of times in climate modeling, we want to check whether some condition is met before going ahead. Python does this with an *if* block, which looks like \n",
    "\n",
    "    if (some condition is met):\n",
    "        line1\n",
    "        line2\n",
    "        ...\n",
    "        \n",
    "This is not actually Python code -- it's what we call *pseudo code* because it's supposed to be a little more intuitive than actual code$^*$. The point for now is, the entire set (\"block\") of indented commands line1, line2, ... will be executed only if that condition is met. \n",
    "\n",
    "$*$That said, some people refer to Python as \"executable pseudo code.\"\n",
    "\n",
    "\n",
    "## \"While\" loops\n",
    "A similar situation also arises when we want to do something over and over again, like march our climate model forward over time, and make that *also* contingent on meeting some kind of condition. That kind of thing calls for a *loop*. Among the many ways to set up a loop, the one we'll explore here is called a *while* loop (sometimes referred to as a *pre-test loop*). It looks a lot like the *if* syntax:\n",
    "\n",
    "    while (some condition is met):\n",
    "        line1\n",
    "        line2\n",
    "        ...\n",
    "\n",
    "only now, those lines will be executed over and over again. If we've set things up right, the condition eventually stops being true, and we exit from the loop. *while* loops often require a little more setup, and are often followed by more reporting, than *if* statements -- but we'll talk about that later. \n",
    "\n",
    "## Emergency exits\n",
    "An emergency exit from a loop is a kind of failsafe that you build into your loop, in case something goes wrong and the condition you thought would terminate the loop is never met. Yeah, maybe your loop will never trigger it, but everybody makes mistakes (that's why we call it an *emergency* exit). In this exercise, you'll be equipping a *while* loop with an emergency exit using a *nested if block* -- i.e., an *if* condition that's *inside* the loop.\n",
    "\n",
    "\n",
    "## Learning Goals\n",
    "1. Become familiar with the syntax of \"if\" blocks and \"while\" loops.\n",
    "1. Set up emergency exits from \"while\" loops. \n",
    "1. Use lists to accumulate information from each iteration of a loop.\n",
    "1. Be able to query the last few elements of a list, even if you don't know the length of the list."
   ]
  },
  {
   "cell_type": "code",
   "execution_count": null,
   "id": "e2e12108",
   "metadata": {
    "deletable": false,
    "editable": false,
    "nbgrader": {
     "cell_type": "code",
     "checksum": "8ba8e50ddba4486dd1cb8ef7e8002c54",
     "grade": false,
     "grade_id": "cell-8f0108199324fbfb",
     "locked": true,
     "schema_version": 3,
     "solution": false,
     "task": false
    }
   },
   "outputs": [],
   "source": [
    "import numpy as np\n",
    "import matplotlib.pyplot as plt"
   ]
  },
  {
   "cell_type": "code",
   "execution_count": null,
   "id": "346d7c97",
   "metadata": {
    "deletable": false,
    "editable": false,
    "nbgrader": {
     "cell_type": "code",
     "checksum": "b9b528cf32939c9e65b7a9f9ae826953",
     "grade": false,
     "grade_id": "cell-0e77b9581fad1efc",
     "locked": true,
     "schema_version": 3,
     "solution": false,
     "task": false
    }
   },
   "outputs": [],
   "source": [
    "%matplotlib notebook"
   ]
  },
  {
   "cell_type": "markdown",
   "id": "68b3b174",
   "metadata": {
    "deletable": false,
    "editable": false,
    "nbgrader": {
     "cell_type": "markdown",
     "checksum": "92cb8aba2e75431ce94293733e28e108",
     "grade": false,
     "grade_id": "cell-ab2d21d5ee642abd",
     "locked": true,
     "schema_version": 3,
     "solution": false,
     "task": false
    }
   },
   "source": [
    "### Syntax of an \"if\" statement\n",
    "Below is an example of an if statement. You'll see that the test of whether two numbers are equal is a little unusual -- Python uses \"==\" instead of \"=\". The signs \">\" and \"<\" work as expected, however. Check it out."
   ]
  },
  {
   "cell_type": "code",
   "execution_count": null,
   "id": "f251f863",
   "metadata": {
    "deletable": false,
    "editable": false,
    "nbgrader": {
     "cell_type": "code",
     "checksum": "9618b798021f89e03d24eef3c7ae941b",
     "grade": false,
     "grade_id": "cell-b44857f54b986686",
     "locked": true,
     "schema_version": 3,
     "solution": false,
     "task": false
    }
   },
   "outputs": [],
   "source": [
    "print(\"testing whether 2+2<4\")\n",
    "if 2+2<4:\n",
    "    print(\"This should not print because 2+2 is not less than 4\")\n",
    "    print(\"have a nice day\")\n",
    "    \n",
    "print(\"testing whether 2+2=4\")\n",
    "if 2+2==4:\n",
    "    print(\"This should print because 2+2 really does equal 4\")\n",
    "    print(\"have a nice day\")"
   ]
  },
  {
   "cell_type": "markdown",
   "id": "705d1ea2",
   "metadata": {
    "deletable": false,
    "editable": false,
    "nbgrader": {
     "cell_type": "markdown",
     "checksum": "c9b16995b713b5ba188b2baa13d5c120",
     "grade": false,
     "grade_id": "cell-e7df692160c22525",
     "locked": true,
     "schema_version": 3,
     "solution": false,
     "task": false
    }
   },
   "source": [
    "### Your turn\n",
    "In the cell below, set up three if-blocks like the ones above, but testing these conditions:\n",
    "\n",
    "1. whether 2+2 is less than 3\n",
    "1. whether 2+2 is equal to 3\n",
    "1. whether 2+2 is greater than 3\n",
    "\n",
    "Obviously, only the last should print stuff out."
   ]
  },
  {
   "cell_type": "code",
   "execution_count": null,
   "id": "a88e746f",
   "metadata": {
    "deletable": false,
    "nbgrader": {
     "cell_type": "code",
     "checksum": "39e237013ca272c116680b752f428e36",
     "grade": true,
     "grade_id": "cell-838d44b080591f1b",
     "locked": false,
     "points": 1,
     "schema_version": 3,
     "solution": true,
     "task": false
    }
   },
   "outputs": [],
   "source": [
    "# your code here \n"
   ]
  },
  {
   "cell_type": "markdown",
   "id": "fecc2751",
   "metadata": {
    "deletable": false,
    "editable": false,
    "nbgrader": {
     "cell_type": "markdown",
     "checksum": "ff9fa88dbadb462c06b879713802f8d0",
     "grade": false,
     "grade_id": "cell-b239f57e2bcb1c44",
     "locked": true,
     "schema_version": 3,
     "solution": false,
     "task": false
    }
   },
   "source": [
    "### Syntax of a \"while\" loop\n",
    "Below is an example of a \"while\" loop. You can think of it as being in three parts: \n",
    "\n",
    "- The lines *before* the loop, tagged as \"Loop control\", set things up -- there's a variable (my_number) that's going to be getting bigger and bigger as the loop progresses, and another variable (big_enough) that puts an upper limit on that variable.\n",
    "- The loop itself. It starts with the word \"while\", that tests whether the condition has been met. If so, then the indented lines below it will be executed. And on and on, until the condition is *not* met.  \n",
    "- A reporting line that executes after the loop is completed. The reporting line isn't indented; if it were, it would be executed every iteration of the loop!"
   ]
  },
  {
   "cell_type": "code",
   "execution_count": null,
   "id": "c028780a",
   "metadata": {
    "deletable": false,
    "editable": false,
    "nbgrader": {
     "cell_type": "code",
     "checksum": "3ce9515665645188b1f3c024128e60be",
     "grade": false,
     "grade_id": "cell-0940929df5374abe",
     "locked": true,
     "schema_version": 3,
     "solution": false,
     "task": false
    }
   },
   "outputs": [],
   "source": [
    "# Loop control\n",
    "my_number = 0\n",
    "big_enough = 30\n",
    "\n",
    "# Looping\n",
    "while my_number < big_enough:\n",
    "    my_number += 5\n",
    "    print(my_number)\n",
    "\n",
    "# Reporting\n",
    "print(\"After the loop, my_number=\", my_number)"
   ]
  },
  {
   "cell_type": "markdown",
   "id": "a448bd43",
   "metadata": {
    "deletable": false,
    "editable": false,
    "nbgrader": {
     "cell_type": "markdown",
     "checksum": "47109f56ac581d4232d3780ded304d7c",
     "grade": false,
     "grade_id": "cell-b8c9d7e1a7f392f3",
     "locked": true,
     "schema_version": 3,
     "solution": false,
     "task": false
    }
   },
   "source": [
    "### Your turn\n",
    "In the cell below, set up a \"while\" loop that does the same thing, but with some differences:\n",
    "- Start off my_number at 10\n",
    "- Make the condition that the maximum value my_number can have is 60\n",
    "- Increment my_number by 15 every time through the loop"
   ]
  },
  {
   "cell_type": "code",
   "execution_count": null,
   "id": "48c9cafe",
   "metadata": {
    "deletable": false,
    "nbgrader": {
     "cell_type": "code",
     "checksum": "d4ef6d2dbfe7cb0d8efa0ff85abd9a1d",
     "grade": true,
     "grade_id": "cell-05b7636b4e0990fd",
     "locked": false,
     "points": 2,
     "schema_version": 3,
     "solution": true,
     "task": false
    }
   },
   "outputs": [],
   "source": [
    "# your code here \n"
   ]
  },
  {
   "cell_type": "markdown",
   "id": "37a2af17",
   "metadata": {
    "deletable": false,
    "editable": false,
    "nbgrader": {
     "cell_type": "markdown",
     "checksum": "61287d90f84cb98744ae452514ffca1b",
     "grade": false,
     "grade_id": "cell-3fd703c2b928102f",
     "locked": true,
     "schema_version": 3,
     "solution": false,
     "task": false
    }
   },
   "source": [
    "### Pause for analysis\n",
    "Did the output of the loop you just executed surprise you? Write a sentence or two in the cell below explaining why you think my_number got *above* big_enough. (If you'd like a more general perspective on this, check out https://en.wikipedia.org/wiki/While_loop).\n"
   ]
  },
  {
   "cell_type": "markdown",
   "id": "a0c0fc6e",
   "metadata": {
    "deletable": false,
    "nbgrader": {
     "cell_type": "markdown",
     "checksum": "3c77a95f0143ab317bfc32d2b2aa4c6b",
     "grade": true,
     "grade_id": "cell-5c290e5bf41a7d8d",
     "locked": false,
     "points": 1,
     "schema_version": 3,
     "solution": true,
     "task": false
    }
   },
   "source": [
    "YOUR ANSWER HERE"
   ]
  },
  {
   "cell_type": "markdown",
   "id": "a3a3e42a",
   "metadata": {
    "deletable": false,
    "editable": false,
    "nbgrader": {
     "cell_type": "markdown",
     "checksum": "62d43be9f283c4253e0a0618e18bfb01",
     "grade": false,
     "grade_id": "cell-dabb93dbbef4e5f6",
     "locked": true,
     "schema_version": 3,
     "solution": false,
     "task": false
    }
   },
   "source": [
    "### Accumulating\n",
    "Sometimes, instead of just printing a variable to the screen as we go through a loop, we'd like to accumulate information as we go along. Here we'll do this with a *Python list*. \n",
    "\n",
    "What's a Python list? It's a set of numbers enclosed in square brackets**. Lists can be empty, which is how we set things up before the loop starts. Then, inside the loop, numbers are appended to it. The key command in the loop below is\n",
    "\n",
    "    my_number_list.append(my_number)\n",
    "    \n",
    "Execute the cell below to see how this works. \n",
    "\n",
    "**Python lists can actually contain character strings too, but here we're just going to make lists of numbers."
   ]
  },
  {
   "cell_type": "code",
   "execution_count": null,
   "id": "c6b13f78",
   "metadata": {
    "deletable": false,
    "editable": false,
    "nbgrader": {
     "cell_type": "code",
     "checksum": "37ea3ba75495f1be78c9badb64202ca6",
     "grade": false,
     "grade_id": "cell-b274060e79dc79af",
     "locked": true,
     "schema_version": 3,
     "solution": false,
     "task": false
    }
   },
   "outputs": [],
   "source": [
    "# Loop control\n",
    "my_number = 0\n",
    "big_enough = 30\n",
    "\n",
    "# Starting out with an empty list\n",
    "my_number_list = []\n",
    "\n",
    "# Looping\n",
    "while my_number < big_enough:\n",
    "    my_number += 5\n",
    "    my_number_list.append(my_number)\n",
    "    print(my_number_list)\n",
    "    \n",
    "# Reporting\n",
    "print(\"After the loop, my_number_list=\", my_number_list)"
   ]
  },
  {
   "cell_type": "markdown",
   "id": "c96aa009",
   "metadata": {
    "deletable": false,
    "editable": false,
    "nbgrader": {
     "cell_type": "markdown",
     "checksum": "9256c58e6e7fb121c42dc4d69d225b0d",
     "grade": false,
     "grade_id": "cell-bf00fba647cfa9",
     "locked": true,
     "schema_version": 3,
     "solution": false,
     "task": false
    }
   },
   "source": [
    "### Your turn\n",
    "In the cell below, duplicate *your* \"while\" loop (starting at 0, max value of 100, increment of 10), but accumulating my_number in a list. Name your list *my_number_list*."
   ]
  },
  {
   "cell_type": "code",
   "execution_count": null,
   "id": "3f123a26",
   "metadata": {
    "deletable": false,
    "nbgrader": {
     "cell_type": "code",
     "checksum": "a38dfa29f06ca8a8e16fc220ea7dd580",
     "grade": true,
     "grade_id": "cell-e08c9396d8cd95xx",
     "locked": false,
     "points": 2,
     "schema_version": 3,
     "solution": true,
     "task": false
    }
   },
   "outputs": [],
   "source": [
    "# your code here \n"
   ]
  },
  {
   "cell_type": "markdown",
   "id": "c7965a88",
   "metadata": {
    "deletable": false,
    "editable": false,
    "nbgrader": {
     "cell_type": "markdown",
     "checksum": "152499da3b729c15417e2f8b5d88ecfe",
     "grade": false,
     "grade_id": "cell-e08c9396d8cd95xy",
     "locked": true,
     "schema_version": 3,
     "solution": false,
     "task": false
    }
   },
   "source": [
    "### Emergency exit \n",
    "Sometimes, you make a mistake, and the condition set up to terminate your loop is never reached! You just sit there, waiting for you loop to finish, and it never does. It happens to *everybody* sooner or later.\n",
    "\n",
    "So, it can be judicious to add an emergency exit to your loop. Yeah, maybe your loop will never need it ... but that's why we call it an *emergency* exit. \n",
    "\n",
    "In the cell below, the emergency exit is triggered when the number of items in the list we're generating (called the *length* of the list) gets bigger than 4. The exit itself is accomplished with the \"break\" key word, which is inside an \"if\" block, which is inside a while loop."
   ]
  },
  {
   "cell_type": "code",
   "execution_count": null,
   "id": "4cb5d948",
   "metadata": {
    "deletable": false,
    "editable": false,
    "nbgrader": {
     "cell_type": "code",
     "checksum": "56abe35b596ef0026530f294e003cf0a",
     "grade": false,
     "grade_id": "cell-82f211fc29a37566",
     "locked": true,
     "schema_version": 3,
     "solution": false,
     "task": false
    }
   },
   "outputs": [],
   "source": [
    "# Loop control\n",
    "my_number = 0\n",
    "big_enough = 30\n",
    "\n",
    "# Starting out with an empty list\n",
    "my_number_list = []\n",
    "\n",
    "# Looping\n",
    "while my_number < big_enough:\n",
    "    my_number += 5\n",
    "    my_number_list.append(my_number)\n",
    "    print(my_number_list)\n",
    "    \n",
    "    # Emergency exit\n",
    "    if (len(my_number_list) > 4): \n",
    "        print('Emergency exit!')\n",
    "        break\n",
    "    \n",
    "# Reporting\n",
    "print(\"After the loop, my_number_list=\", my_number_list)"
   ]
  },
  {
   "cell_type": "markdown",
   "id": "98064600",
   "metadata": {
    "deletable": false,
    "editable": false,
    "nbgrader": {
     "cell_type": "markdown",
     "checksum": "ec255eb56c144ac59f5a9a24d1757bc1",
     "grade": false,
     "grade_id": "cell-6d48e9eab7617f47",
     "locked": true,
     "schema_version": 3,
     "solution": false,
     "task": false
    }
   },
   "source": [
    "### Your turn\n",
    "In the cell below, duplicate the \"while\" loop you created three cells above (the loop that starts at 0, with a max value of 100, increment of 10, accumulating my_number in *my_number_list*), but add an emergency exit if the length of my_number_list exceeds 5 items."
   ]
  },
  {
   "cell_type": "code",
   "execution_count": null,
   "id": "6ed65d83",
   "metadata": {
    "deletable": false,
    "nbgrader": {
     "cell_type": "code",
     "checksum": "09093810327042b947d61a0d8531b143",
     "grade": true,
     "grade_id": "cell-c85006bbf2fa051d",
     "locked": false,
     "points": 2,
     "schema_version": 3,
     "solution": true,
     "task": false
    }
   },
   "outputs": [],
   "source": [
    "# your code here \n"
   ]
  },
  {
   "cell_type": "markdown",
   "id": "e9edeb43",
   "metadata": {
    "deletable": false,
    "editable": false,
    "nbgrader": {
     "cell_type": "markdown",
     "checksum": "82bbffc32d99a8b31ce6d70cb991aafd",
     "grade": false,
     "grade_id": "cell-9abaffa5d01e851b",
     "locked": true,
     "schema_version": 3,
     "solution": false,
     "task": false
    }
   },
   "source": [
    "### Examining elements of a list\n",
    "When a list is short, it's fine to print it out in its entirety, as we've done. But if a list gets too long, there's no point in looking at all that. In such situations, it's often to useful to examine the *first* and the *last* element of the list. \n",
    "\n",
    "In the example below, we create a list, called *my_football_list*, that contains a combination of numbers and character strings (it's supposed to be what might be said at a football scrimmage line, in case you're wondering). A few notes about this:\n",
    "\n",
    "1. my_football_list[0] refers to the *first* element of this list.\n",
    "1. my_football_list[4] refers to the *last* element of this list.\n",
    "1. my_football_list[-1] refers to the last element of a list. \n",
    "1. my_football_list[-2] refers to the second-to-last last element of a list. \n",
    "\n",
    "Why would we be interested in #3? It's just kind of handy -- it allows us to print the last element of a list without actually knowing how long it is. Here's an example:"
   ]
  },
  {
   "cell_type": "code",
   "execution_count": null,
   "id": "dcef5fc5",
   "metadata": {
    "deletable": false,
    "editable": false,
    "nbgrader": {
     "cell_type": "code",
     "checksum": "7efa99c2e45b578be27fca9fa4d1118d",
     "grade": false,
     "grade_id": "cell-f3d168c540f18e22",
     "locked": true,
     "schema_version": 3,
     "solution": false,
     "task": false
    }
   },
   "outputs": [],
   "source": [
    "my_football_list = [25, 32, 'hut', 'hut', 'hike']\n",
    "print(my_football_list)\n",
    "print(\"First element:\", my_football_list[0])\n",
    "print(\"Last element:\", my_football_list[-1])\n",
    "print(\"Second-to-last element:\", my_football_list[-2])"
   ]
  },
  {
   "cell_type": "markdown",
   "id": "3597cb56",
   "metadata": {
    "deletable": false,
    "editable": false,
    "nbgrader": {
     "cell_type": "markdown",
     "checksum": "60c41a3452f039f27a44ee31aa4092f5",
     "grade": false,
     "grade_id": "cell-191100c9d6aaa198",
     "locked": true,
     "schema_version": 3,
     "solution": false,
     "task": false
    }
   },
   "source": [
    "### Your turn\n",
    "Using the above syntax, print the *first*, *last*, and *second-to-last* elements of the list you created a few cells back, which you named *my_number_list*."
   ]
  },
  {
   "cell_type": "code",
   "execution_count": null,
   "id": "0edd153b",
   "metadata": {
    "deletable": false,
    "nbgrader": {
     "cell_type": "code",
     "checksum": "99451f61ba9bad61bdb1e4fb8b75f7e9",
     "grade": true,
     "grade_id": "cell-0cead8685260d51c",
     "locked": false,
     "points": 3,
     "schema_version": 3,
     "solution": true,
     "task": false
    }
   },
   "outputs": [],
   "source": [
    "# your code here \n"
   ]
  },
  {
   "cell_type": "markdown",
   "id": "903a1bf3",
   "metadata": {
    "deletable": false,
    "editable": false,
    "nbgrader": {
     "cell_type": "markdown",
     "checksum": "8b8c632c186918cd936543de7260a148",
     "grade": false,
     "grade_id": "cell-933a2189ae1fd45f",
     "locked": true,
     "schema_version": 3,
     "solution": false,
     "task": false
    }
   },
   "source": [
    "### Refresh/save/validate\n",
    "Almost done! To double-check everything is OK, repeat the \"Three steps for refreshing and saving your code,\" and press the \"Validate\" button (as usual).\n",
    "\n",
    "### Close/submit/logout\n",
    "1. Close this notebook using the \"File/Close and Halt\" dropdown menu\n",
    "1. Using the Assignments tab, submit this notebook\n",
    "1. Press the Logout tab of the Home Page"
   ]
  }
 ],
 "metadata": {
  "kernelspec": {
   "display_name": "Python 3 (ipykernel)",
   "language": "python",
   "name": "python3"
  },
  "language_info": {
   "codemirror_mode": {
    "name": "ipython",
    "version": 3
   },
   "file_extension": ".py",
   "mimetype": "text/x-python",
   "name": "python",
   "nbconvert_exporter": "python",
   "pygments_lexer": "ipython3",
   "version": "3.10.2"
  }
 },
 "nbformat": 4,
 "nbformat_minor": 5
}

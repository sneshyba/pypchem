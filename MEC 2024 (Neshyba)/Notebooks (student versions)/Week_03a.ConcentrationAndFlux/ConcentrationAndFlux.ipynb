{
 "cells": [
  {
   "cell_type": "markdown",
   "id": "1303fca8",
   "metadata": {
    "deletable": false,
    "editable": false,
    "nbgrader": {
     "cell_type": "markdown",
     "checksum": "268233dc8f53d9f1a5364063ae088cda",
     "grade": false,
     "grade_id": "cell-f6a06c60ae8cc0e3",
     "locked": true,
     "schema_version": 3,
     "solution": false,
     "task": false
    }
   },
   "source": [
    "### Computational Guided Inquiry for Modeling Earth's Climate (Neshyba, 2024)\n",
    "\n",
    "# Concentration and Flux\n",
    "\n",
    "\n",
    "## Units of concentration and flux of Carbon and Carbon Dioxide\n",
    "\n",
    "Figure 1 below is NASA's GCC (\"Global Carbon Cycle\") figure, showing carbon fluxes in Earth's climate system. \n",
    "\n",
    "<p style='text-align: center;'>\n",
    "<img src=\"http://webspace.pugetsound.edu/facultypages/nesh/Notebook/carbon_cycle.jpg\" height=\"500\" width=\"500\"/>  \n",
    "<strong>Figure 1</strong>. Carbon fluxes through Earth's climate system. Source: https://earthobservatory.nasa.gov/features/CarbonCycle.\n",
    "</p>\n",
    "\n",
    "Two values appearing in this figure will be of particular concern to us here. One appears in the upper right -- $800$ (units: $GtC$). That's the mass of Carbon in the atmosphere in the year described by the figure. A second appears in the center of the figure, the red-colored value labeled \"human emissions\" -- $9$ (units: $GtC/year$). That's the anthropogenic emission amount in the year described by the figure.\n",
    "\n",
    "The question we'll be focusing on here is, what year does this figure describe? To answer that, we'll need measured atmospheric carbon concentrations -- such as the Mauna Loa measurements available at https://gml.noaa.gov/ccgg/trends/graph.html, and emissions -- such as the graphics shown at https://ourworldindata.org/co2-emissions.\n",
    "\n",
    "We'll also need some conversion factors. Here are some useful ones:\n",
    "\n",
    "- To convert parts-per-million (ppm) of $CO_2$ to $GtC$ in Earth's atmosphere, multiply by 2.123 (see https://acp.copernicus.org/articles/13/2793/2013/acp-13-2793-2013-supplement.pdf).\n",
    "- To convert $GtC$ to $GtCO_2$, multiply by 3.667.\n",
    "- In each case, to convert the other way round, you would divide by the conversion factor.\n",
    "- These conversion factors also work for fluxes (like converting $GtC/year$ to $GtCO_2/year$).\n",
    "\n",
    "\n",
    "## Learning Goals\n",
    "1. To familiarize yourself with Global Carbon Cycle values.\n",
    "1. Be able to convert concentrations of carbon in Earth's climate reservoirs, and fluxes among them."
   ]
  },
  {
   "cell_type": "code",
   "execution_count": null,
   "id": "39d6e13c",
   "metadata": {
    "deletable": false,
    "editable": false,
    "nbgrader": {
     "cell_type": "code",
     "checksum": "6bf82facdec734e2ab6a11ef0f255e29",
     "grade": false,
     "grade_id": "cell-411d9c8783c036ab",
     "locked": true,
     "schema_version": 3,
     "solution": false,
     "task": false
    }
   },
   "outputs": [],
   "source": [
    "import numpy as np"
   ]
  },
  {
   "cell_type": "markdown",
   "id": "1ba6c531",
   "metadata": {
    "deletable": false,
    "editable": false,
    "nbgrader": {
     "cell_type": "markdown",
     "checksum": "9de6e28f125f7e7a463ac63634c30250",
     "grade": false,
     "grade_id": "cell-d85ac94747f39109",
     "locked": true,
     "schema_version": 3,
     "solution": false,
     "task": false
    }
   },
   "source": [
    "### Getting started: Finding concentrations of $CO_2$ the year you were born\n",
    "Go to the NOAA website mentioned above listed above and find the closest year and month you were born. Print the value of $CO_2$ you find (in ppm), then convert to $GtC$ and $GtCO_2$, and print those values too."
   ]
  },
  {
   "cell_type": "code",
   "execution_count": null,
   "id": "7d4ef6a0",
   "metadata": {
    "deletable": false,
    "nbgrader": {
     "cell_type": "code",
     "checksum": "253d9ed274780fddda4d470c7d54d983",
     "grade": true,
     "grade_id": "cell-c77e7da5f7b439b2",
     "locked": false,
     "points": 2,
     "schema_version": 3,
     "solution": true,
     "task": false
    }
   },
   "outputs": [],
   "source": [
    "# your code here \n"
   ]
  },
  {
   "cell_type": "markdown",
   "id": "49e945fc",
   "metadata": {
    "deletable": false,
    "editable": false,
    "nbgrader": {
     "cell_type": "markdown",
     "checksum": "961ca54414ea96efb64858d8fbd16055",
     "grade": false,
     "grade_id": "cell-2b67d2cce027e2c9",
     "locked": true,
     "schema_version": 3,
     "solution": false,
     "task": false
    }
   },
   "source": [
    "### Finding the concentrations of $CO_2$ appearing in NASA's GCC figure\n",
    "Convert the amount of atmospheric $CO_2$ in Fig. 1 ($800 \\ GtC$) to ppm -- you'll have to divide by the conversion factor this time -- and print that value. Then locate the closest year and month you can find in the NOAA website. Print that year and month."
   ]
  },
  {
   "cell_type": "code",
   "execution_count": null,
   "id": "5e0241a7",
   "metadata": {
    "deletable": false,
    "nbgrader": {
     "cell_type": "code",
     "checksum": "b09f8f266dbba253c1d75eabaf3f264b",
     "grade": true,
     "grade_id": "cell-4ce70e874f1c1ac3",
     "locked": false,
     "points": 3,
     "schema_version": 3,
     "solution": true,
     "task": false
    }
   },
   "outputs": [],
   "source": [
    "# your code here \n"
   ]
  },
  {
   "cell_type": "markdown",
   "id": "ab87e19e",
   "metadata": {
    "deletable": false,
    "editable": false,
    "nbgrader": {
     "cell_type": "markdown",
     "checksum": "3e19ed5afce64ddd9643d3852285c909",
     "grade": false,
     "grade_id": "cell-a1d800d5322fabd7",
     "locked": true,
     "schema_version": 3,
     "solution": false,
     "task": false
    }
   },
   "source": [
    "### Comparing emissions of $CO_2$ appearing in Fig. 1 to measurements\n",
    "Now that we know the year and month that Fig. 1 corresponds to, we'd like to know how well the anthropogenic emission appearing in that figure compares to measurements. To do that, look up the nearest year at https://ourworldindata.org/co2-emissions, and make a note of the emissions that year. The units are \"billion t (of $CO_2$) per year\", which is the same as $GtCO_2/year$. Convert that value to $GtC/year$ and print the result. Hopefully the value will be close to $9 \\ GtC /year$!"
   ]
  },
  {
   "cell_type": "code",
   "execution_count": null,
   "id": "7d701f0f",
   "metadata": {
    "deletable": false,
    "nbgrader": {
     "cell_type": "code",
     "checksum": "341eb1f72fa1d87ddb1537f39735eeea",
     "grade": true,
     "grade_id": "cell-35be5c1c4ab28bb2",
     "locked": false,
     "points": 3,
     "schema_version": 3,
     "solution": true,
     "task": false
    }
   },
   "outputs": [],
   "source": [
    "# your code here \n"
   ]
  },
  {
   "cell_type": "markdown",
   "id": "d5132857",
   "metadata": {
    "deletable": false,
    "editable": false,
    "nbgrader": {
     "cell_type": "markdown",
     "checksum": "b358030dc4abafdd7c1360c3986b4d36",
     "grade": false,
     "grade_id": "cell-0d12656df261c4c4",
     "locked": true,
     "schema_version": 3,
     "solution": false,
     "task": false
    }
   },
   "source": [
    "### Pause for Analysis\n",
    "In the cell below, comment briefly on your result. Approximately what percentage is NASA's GCC estimate at variance with the value you got from  *Our World in Data*? If the *Our World in Data* value were to include land-use change, would that inclusion tend to make the agreement with NASA's GCC estimate better, or worse?"
   ]
  },
  {
   "cell_type": "markdown",
   "id": "fea50f0d",
   "metadata": {
    "deletable": false,
    "nbgrader": {
     "cell_type": "markdown",
     "checksum": "6d2d6197dc90f5bf72c7d2434d914f73",
     "grade": true,
     "grade_id": "cell-a4e78f7453399e7d",
     "locked": false,
     "points": 2,
     "schema_version": 3,
     "solution": true,
     "task": false
    }
   },
   "source": [
    "YOUR ANSWER HERE"
   ]
  },
  {
   "cell_type": "markdown",
   "id": "f151d931",
   "metadata": {
    "deletable": false,
    "editable": false,
    "nbgrader": {
     "cell_type": "markdown",
     "checksum": "010a72fb2de3c30ea9659b9ba41ab6ff",
     "grade": false,
     "grade_id": "cell-2a6270d99e08471e",
     "locked": true,
     "schema_version": 3,
     "solution": false,
     "task": false
    }
   },
   "source": [
    "### Refresh/save/validate\n",
    "Almost done! To double-check everything is OK, repeat the \"Three steps for refreshing and saving your code,\" and press the \"Validate\" button (as usual).\n",
    "\n",
    "### Close/submit/logout\n",
    "1. Close this notebook using the \"File/Close and Halt\" dropdown menu\n",
    "1. Using the Assignments tab, submit this notebook\n",
    "1. Press the Logout tab of the Home Page"
   ]
  }
 ],
 "metadata": {
  "kernelspec": {
   "display_name": "Python 3 (ipykernel)",
   "language": "python",
   "name": "python3"
  },
  "language_info": {
   "codemirror_mode": {
    "name": "ipython",
    "version": 3
   },
   "file_extension": ".py",
   "mimetype": "text/x-python",
   "name": "python",
   "nbconvert_exporter": "python",
   "pygments_lexer": "ipython3",
   "version": "3.10.2"
  }
 },
 "nbformat": 4,
 "nbformat_minor": 5
}

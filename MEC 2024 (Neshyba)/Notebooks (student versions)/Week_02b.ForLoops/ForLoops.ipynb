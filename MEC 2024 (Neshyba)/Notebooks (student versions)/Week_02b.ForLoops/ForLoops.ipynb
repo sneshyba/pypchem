{
 "cells": [
  {
   "cell_type": "markdown",
   "metadata": {
    "deletable": false,
    "editable": false,
    "id": "HEFjocdv1OeY",
    "nbgrader": {
     "cell_type": "markdown",
     "checksum": "9b32b5d75397e5c8d9f00d911b9011ad",
     "grade": false,
     "grade_id": "cell-874687ffa1551337",
     "locked": true,
     "schema_version": 3,
     "solution": false,
     "task": false
    }
   },
   "source": [
    "### Computational Guided Inquiry for Modeling Earth's Climate (Neshyba, 2024)\n",
    "\n",
    "# For Loops\n",
    "\n",
    "## Overview\n",
    "Our numerical method for simulating Earth's climate will be to set up a loop, but the type of loop we'll use for this time is a little different from the *while* loop we used previously: it's called a *for* loop. The main reason for the switch is, we're going to specify exactly how far forward in time we want to go, and *for looping* is better suited for that kind of thing. \n",
    "\n",
    "As it turns out, inside our loop, it'll also to collect values in an array, for plotting later. Sometimes we'll want to accumulate multiple arrays!\n",
    "\n",
    "## Learning objectives\n",
    "1. I can set up \"for\" loops of specifed length\n",
    "1. I can accumulate values in a numpy array\n",
    "1. I can plot multiple arrays on a single graph, and annotate using the \"label/legend\" method\n",
    "1. I can interpret exponential growth and decay curves in terms of $t_{1/2}$, and predict $t_{1/2}$ from a rate constant $k$ using the \"70s rule.\""
   ]
  },
  {
   "cell_type": "code",
   "execution_count": null,
   "metadata": {
    "deletable": false,
    "editable": false,
    "executionInfo": {
     "elapsed": 3,
     "status": "ok",
     "timestamp": 1624579410347,
     "user": {
      "displayName": "Steven Neshyba",
      "photoUrl": "https://lh3.googleusercontent.com/a-/AOh14GhNBBB4oUDYM5LFwp5QBiZMax8b3ieYXI_9F1wa=s64",
      "userId": "12688310908552577631"
     },
     "user_tz": 420
    },
    "id": "xdh4_81TpIUV",
    "nbgrader": {
     "cell_type": "code",
     "checksum": "03a524f069ffa7bc90d7d43830b21339",
     "grade": false,
     "grade_id": "cell-0bc2fe1310aa0761",
     "locked": true,
     "schema_version": 3,
     "solution": false,
     "task": false
    }
   },
   "outputs": [],
   "source": [
    "# Bring in resources\n",
    "import numpy as np # linear algebra\n",
    "import matplotlib.pyplot as plt"
   ]
  },
  {
   "cell_type": "code",
   "execution_count": null,
   "metadata": {
    "deletable": false,
    "editable": false,
    "nbgrader": {
     "cell_type": "code",
     "checksum": "a54a4d9459f1342936945b818e5cd02b",
     "grade": false,
     "grade_id": "cell-f106a61341516ab2",
     "locked": true,
     "schema_version": 3,
     "solution": false,
     "task": false
    }
   },
   "outputs": [],
   "source": [
    "%matplotlib notebook"
   ]
  },
  {
   "cell_type": "markdown",
   "metadata": {
    "deletable": false,
    "editable": false,
    "nbgrader": {
     "cell_type": "markdown",
     "checksum": "8426361cd3d4e5e43387713b74dc1b32",
     "grade": false,
     "grade_id": "cell-777ffb0e9bf5460",
     "locked": true,
     "schema_version": 3,
     "solution": false,
     "task": false
    }
   },
   "source": [
    "### A couple of examples of \"for\" loops\n",
    " We lay out a couple of examples in the cells below. Some notes about this:\n",
    "\n",
    "- Like a \"while\" loop, everything indented below the \"for\" line is part of the loop. Once you stop indenting, the loop is over. \n",
    "- We're using Python's \"range\" function to specify how many iterations we want. \n",
    "- The assumed lower limit of \"range\" is zero, and looping stops one short of the upper limit."
   ]
  },
  {
   "cell_type": "code",
   "execution_count": null,
   "metadata": {
    "deletable": false,
    "editable": false,
    "nbgrader": {
     "cell_type": "code",
     "checksum": "a68719cc72f1cd90c070f6b0c32d8d47",
     "grade": false,
     "grade_id": "cell-ab07baef0ac1cd20",
     "locked": true,
     "schema_version": 3,
     "solution": false,
     "task": false
    }
   },
   "outputs": [],
   "source": [
    "# A loop that starts at 0 and goes to 4\n",
    "for i in range(5):\n",
    "    print(i)\n",
    "print(\"i's last value was\",i)"
   ]
  },
  {
   "cell_type": "code",
   "execution_count": null,
   "metadata": {
    "deletable": false,
    "editable": false,
    "nbgrader": {
     "cell_type": "code",
     "checksum": "ff5bcc78d53b060295092bb0b2f48aa8",
     "grade": false,
     "grade_id": "cell-4bd60d75096b6135",
     "locked": true,
     "schema_version": 3,
     "solution": false,
     "task": false
    }
   },
   "outputs": [],
   "source": [
    "# A loop that starts at 1 and goes to 4\n",
    "for j in range(1,5):\n",
    "    print(j)\n",
    "print(\"j's last value was\",j)"
   ]
  },
  {
   "cell_type": "markdown",
   "metadata": {
    "deletable": false,
    "editable": false,
    "nbgrader": {
     "cell_type": "markdown",
     "checksum": "9debb36c618ba9a1f6209c7751d52184",
     "grade": false,
     "grade_id": "cell-6ade604e4f0f509d",
     "locked": true,
     "schema_version": 3,
     "solution": false,
     "task": false
    }
   },
   "source": [
    "### Your turn\n",
    "Set up a loop using the \"range\" function that starts at 10 and goes to 13, printing the index as you go along."
   ]
  },
  {
   "cell_type": "code",
   "execution_count": null,
   "metadata": {
    "deletable": false,
    "nbgrader": {
     "cell_type": "code",
     "checksum": "86baab8c436d55a82b3332e6dbd3624b",
     "grade": true,
     "grade_id": "cell-3f195f6e35eddee3",
     "locked": false,
     "points": 2,
     "schema_version": 3,
     "solution": true,
     "task": false
    }
   },
   "outputs": [],
   "source": [
    "# your code here \n"
   ]
  },
  {
   "cell_type": "markdown",
   "metadata": {
    "deletable": false,
    "editable": false,
    "nbgrader": {
     "cell_type": "markdown",
     "checksum": "c6b234dcfc8fb8c0b61803b9a3974fc2",
     "grade": false,
     "grade_id": "cell-777ffb0e9bf54609",
     "locked": true,
     "schema_version": 3,
     "solution": false,
     "task": false
    }
   },
   "source": [
    "### Looping over a numpy array\n",
    "This is a little different. We're going to create a numpy array first, and loop over it letting \"range\" figure out how long it is."
   ]
  },
  {
   "cell_type": "code",
   "execution_count": null,
   "metadata": {
    "deletable": false,
    "editable": false,
    "executionInfo": {
     "elapsed": 8,
     "status": "ok",
     "timestamp": 1624579410916,
     "user": {
      "displayName": "Steven Neshyba",
      "photoUrl": "https://lh3.googleusercontent.com/a-/AOh14GhNBBB4oUDYM5LFwp5QBiZMax8b3ieYXI_9F1wa=s64",
      "userId": "12688310908552577631"
     },
     "user_tz": 420
    },
    "id": "fJ4a7Vfe0tzb",
    "nbgrader": {
     "cell_type": "code",
     "checksum": "81695ba39bd0bb3cf1268ed178e0b8cc",
     "grade": false,
     "grade_id": "cell-71373ad8868f9494",
     "locked": true,
     "schema_version": 3,
     "solution": false,
     "task": false
    }
   },
   "outputs": [],
   "source": [
    "# Here's a Numpy array\n",
    "time = np.linspace(0,10,5)\n",
    "print('The length of this array is', len(time))\n",
    "\n",
    "# Here's looping over the contents of \"time\"\n",
    "for i in range(len(time)):\n",
    "    thistime = time[i]\n",
    "    print(i,thistime)"
   ]
  },
  {
   "cell_type": "markdown",
   "metadata": {
    "deletable": false,
    "editable": false,
    "nbgrader": {
     "cell_type": "markdown",
     "checksum": "3f288f357de3a3b755093ea051f3a6c0",
     "grade": false,
     "grade_id": "cell-ed2759ea9379e06b",
     "locked": true,
     "schema_version": 3,
     "solution": false,
     "task": false
    }
   },
   "source": [
    "### Your turn\n",
    "Repeat almost exactly what you just did, but give *time* 6 elements, starting at 1 and ending at 20. Then loop over the elements in *time*, printing *i* and the time corresponding to it each iteration."
   ]
  },
  {
   "cell_type": "code",
   "execution_count": null,
   "metadata": {
    "deletable": false,
    "nbgrader": {
     "cell_type": "code",
     "checksum": "995a382c4a7faa125d6ffc961655334f",
     "grade": true,
     "grade_id": "cell-19397c8215cd2e52",
     "locked": false,
     "points": 4,
     "schema_version": 3,
     "solution": true,
     "task": false
    }
   },
   "outputs": [],
   "source": [
    "# Make a numpy array as described above, using np.linspace\n",
    "# your code here \n",
    "\n",
    "\n",
    "# Loop over the elements in the \"time\" array and print i and the ith time\n",
    "# your code here \n"
   ]
  },
  {
   "cell_type": "markdown",
   "metadata": {
    "deletable": false,
    "editable": false,
    "nbgrader": {
     "cell_type": "markdown",
     "checksum": "8c20a79d88b16120292b6563d14047cc",
     "grade": false,
     "grade_id": "cell-4097951da0628611",
     "locked": true,
     "schema_version": 3,
     "solution": false,
     "task": false
    }
   },
   "source": [
    "### Building arrays of numbers within a loop\n",
    "Next we'll examine how to accumulate values calculated within a loop. Previously, we used a Python \"list\" for this kind of thing, but this time we'll be using *numpy arrays*. Why? Numpy arrays are a little more versatile in terms of the kind of mathematical operation they permit. \n",
    "\n",
    "We're also taking this opportunity to introduce how to annotate two curves on the same graph using the \"label/legend\" method (which can be very handy). "
   ]
  },
  {
   "cell_type": "code",
   "execution_count": null,
   "metadata": {
    "deletable": false,
    "editable": false,
    "nbgrader": {
     "cell_type": "code",
     "checksum": "0367bd3f8a3122d62fdd66fd170ccb8e",
     "grade": false,
     "grade_id": "cell-4aec815638c49665",
     "locked": true,
     "schema_version": 3,
     "solution": false,
     "task": false
    }
   },
   "outputs": [],
   "source": [
    "# Create a time array (this one will have 30 elements)\n",
    "time = np.linspace(0,20,30)\n",
    "\n",
    "# Initialize a couple empty lists\n",
    "myarray1 = np.empty(0)\n",
    "myarray2 = np.empty(0)\n",
    "\n",
    "# Loop over the elements of time\n",
    "for i in range(len(time)):\n",
    "    \n",
    "    # Extract the time in this iteration, and square it\n",
    "    thisvalue1 = time[i]**2\n",
    "    \n",
    "    # Make another value that's twice what we just got\n",
    "    thisvalue2 = 2*thisvalue1\n",
    "    \n",
    "    # append both of these values to our lists\n",
    "    myarray1 = np.append(myarray1,thisvalue1)\n",
    "    myarray2 = np.append(myarray2,thisvalue2)\n",
    "\n",
    "# Graph the results using the label/legend method\n",
    "plt.figure()\n",
    "plt.plot(time,myarray1,label='t^2')\n",
    "plt.plot(time,myarray2,label='2xt^2')\n",
    "plt.legend()\n",
    "plt.grid(True)"
   ]
  },
  {
   "cell_type": "markdown",
   "metadata": {
    "deletable": false,
    "editable": false,
    "nbgrader": {
     "cell_type": "markdown",
     "checksum": "7fa9d0b5aabb7961ea3151cec8702c4d",
     "grade": false,
     "grade_id": "cell-5f4c37f2ce7f92b2",
     "locked": true,
     "schema_version": 3,
     "solution": false,
     "task": false
    }
   },
   "source": [
    "### Your turn\n",
    "Do this again, but with a new time array that has 500 elements ranging from 0 to 100 (years). In the loop, you'll construct two numpy arrays. One should describe exponential *growth*, which in mathematical terms would be written $e^{kt}$. We'll use $k=0.014$ for this. In Python, you'll need to write something like \n",
    "\n",
    "    thisvalue1 = np.exp(k*time[i])\n",
    "\n",
    "We also want to compute exponential *decay*, i.e., $e^{-kt}$ (with the same value of $k$), for each time step:\n",
    "\n",
    "    thisvalue2 = np.exp(-k*time[i])\n",
    "\n",
    "Accumulate these values to their own numpy arrays (say, myarray1 and myarray2). Once the loop is done, plot these arrays on the same graph, and annotate them using the label/legend method."
   ]
  },
  {
   "cell_type": "code",
   "execution_count": null,
   "metadata": {
    "deletable": false,
    "nbgrader": {
     "cell_type": "code",
     "checksum": "ecd9aab7abd707dcd452bdf63bca9673",
     "grade": true,
     "grade_id": "cell-3026538dbe60c452",
     "locked": false,
     "points": 5,
     "schema_version": 3,
     "solution": true,
     "task": false
    }
   },
   "outputs": [],
   "source": [
    "# Define the rate constant\n",
    "k = 0.014\n",
    "\n",
    "# Create our x array\n",
    "# your code here \n",
    "\n",
    "\n",
    "# Initialize a couple of empty numpy arrays using np.empty\n",
    "# your code here \n",
    "\n",
    "\n",
    "# Loop over all the elements in x, calculate e^kx and e^(-kx), append them to your two numpy arrays\n",
    "# your code here \n",
    "\n",
    "\n",
    "# Graph the results using the label/legend method; also turn the grid display to True\n",
    "# your code here \n"
   ]
  },
  {
   "cell_type": "markdown",
   "metadata": {
    "deletable": false,
    "editable": false,
    "nbgrader": {
     "cell_type": "markdown",
     "checksum": "23f9cdbb7d1e24045869f4d72427797c",
     "grade": false,
     "grade_id": "cell-561e4f3880e53905",
     "locked": true,
     "schema_version": 3,
     "solution": false,
     "task": false
    }
   },
   "source": [
    "### Pause for analysis\n",
    "You may have noticed something about these two graphs: the time it took for $e^{kt}$ to double is about the same time it took for $e^{-kt}$ to drop by a factor of 2. We'll use the notation $t_{1/2}$ for this time. Carry out the following analysis along these lines:\n",
    "\n",
    "1. Guestimating from the graph, what's the value of $t_{1/2}$?\n",
    "1. Using the rule of 70s, what do you get for $t_{1/2}$? (Don't forget the factor of 100.)"
   ]
  },
  {
   "cell_type": "markdown",
   "metadata": {
    "deletable": false,
    "nbgrader": {
     "cell_type": "markdown",
     "checksum": "10a5e7a83fd057c94c1f15d45153a08b",
     "grade": true,
     "grade_id": "cell-e565e7c8ae8b2b91",
     "locked": false,
     "points": 3,
     "schema_version": 3,
     "solution": true,
     "task": false
    }
   },
   "source": [
    "YOUR ANSWER HERE"
   ]
  },
  {
   "cell_type": "markdown",
   "metadata": {
    "deletable": false,
    "editable": false,
    "nbgrader": {
     "cell_type": "markdown",
     "checksum": "f9166818ce12503b8df46f27c10eb2ce",
     "grade": false,
     "grade_id": "cell-4e77fce91fa3077c",
     "locked": true,
     "schema_version": 3,
     "solution": false,
     "task": false
    }
   },
   "source": [
    "### Refresh/save/validate\n",
    "Double-check everything is OK, and press the \"Validate\" button (as usual).\n",
    "\n",
    "### Close/submit/logout\n",
    "Close, submit, and log out."
   ]
  }
 ],
 "metadata": {
  "colab": {
   "collapsed_sections": [],
   "name": "SimpleCMB.ipynb",
   "provenance": []
  },
  "kernelspec": {
   "display_name": "Python 3 (ipykernel)",
   "language": "python",
   "name": "python3"
  },
  "language_info": {
   "codemirror_mode": {
    "name": "ipython",
    "version": 3
   },
   "file_extension": ".py",
   "mimetype": "text/x-python",
   "name": "python",
   "nbconvert_exporter": "python",
   "pygments_lexer": "ipython3",
   "version": "3.10.2"
  }
 },
 "nbformat": 4,
 "nbformat_minor": 1
}

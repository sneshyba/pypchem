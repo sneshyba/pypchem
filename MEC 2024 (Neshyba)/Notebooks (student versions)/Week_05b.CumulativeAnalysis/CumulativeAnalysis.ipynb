{
 "cells": [
  {
   "cell_type": "code",
   "execution_count": null,
   "metadata": {},
   "outputs": [],
   "source": []
  },
  {
   "cell_type": "markdown",
   "metadata": {
    "deletable": false,
    "editable": false,
    "id": "pXKK1rEgGCO1",
    "nbgrader": {
     "cell_type": "markdown",
     "checksum": "8735fb11bf823afc7b47691cd46fefbf",
     "grade": false,
     "grade_id": "cell-b6aeed010bcbde26",
     "locked": true,
     "schema_version": 3,
     "solution": false,
     "task": false
    }
   },
   "source": [
    "### Computational Guided Inquiry for Modeling Earth's Climate (Neshyba & Posta, 2024)\n",
    "\n",
    "# CumulativeAnalysis\n",
    "\n",
    "## Introduction\n",
    "Here, we're going to focus on the accumulated sum of emissions over time, written mathematically as\n",
    "\n",
    "$$\n",
    "E(t) = \\int_{-\\infty}^t \\epsilon(t) \\ dt \\ \\ \\ \\ \\ (1)\n",
    "$$\n",
    "\n",
    "where $\\epsilon(t)$ is the annual emission rate we created in ScheduledFlows.\n",
    "\n",
    "Why would we care about this accumulation? There's a school of thought in climate science, that what really counts is not so much how much carbon goes into the air any given year, but total amount humans put there.\n",
    "\n",
    "There's an easy way to do this integration in Python. The key is a numpy function called \"np.cumsum,\" which adds up the emissions year after year. To convert the result of np.cumsum into a total accumulated emission in GtC, we need to multiply it by the time interval between steps in the array we're using to represent the emissions. Details are given in the code below.\n",
    "\n",
    "## Goals\n",
    "\n",
    "- I can use pandas and dictionaries to read data with metadata.\n",
    "- I can use np.cumsum to numerically integrate a function.\n",
    "- I am familiar with quantitative features of cumulative anthropogenic carbon emissions."
   ]
  },
  {
   "cell_type": "code",
   "execution_count": null,
   "metadata": {
    "deletable": false,
    "editable": false,
    "id": "8duXe1pBP7Px",
    "nbgrader": {
     "cell_type": "code",
     "checksum": "cbed6a7646edc039c6611fbf99b04366",
     "grade": false,
     "grade_id": "cell-456175985ea64373",
     "locked": true,
     "schema_version": 3,
     "solution": false,
     "task": false
    }
   },
   "outputs": [],
   "source": [
    "import numpy as np\n",
    "import pandas as pd\n",
    "import matplotlib.pyplot as plt\n",
    "import h5io"
   ]
  },
  {
   "cell_type": "code",
   "execution_count": null,
   "metadata": {
    "deletable": false,
    "editable": false,
    "nbgrader": {
     "cell_type": "code",
     "checksum": "b56df9f0f9c7c9ce8b7639cb1280e5fc",
     "grade": false,
     "grade_id": "cell-9130073ba9ab01da",
     "locked": true,
     "schema_version": 3,
     "solution": false,
     "task": false
    }
   },
   "outputs": [],
   "source": [
    "%matplotlib inline\n",
    "plt.rcParams[\"figure.figsize\"] = (12, 8)\n",
    "plt.rcParams['font.size'] = 18"
   ]
  },
  {
   "cell_type": "markdown",
   "metadata": {},
   "source": [
    "## Cumulative flow"
   ]
  },
  {
   "cell_type": "markdown",
   "metadata": {
    "deletable": false,
    "editable": false,
    "id": "d-spkuM-yZsC",
    "nbgrader": {
     "cell_type": "markdown",
     "checksum": "b1d942ee99cdc169278444daac8ff162",
     "grade": false,
     "grade_id": "cell-4d86cb0eaf61fc77",
     "locked": true,
     "schema_version": 3,
     "solution": false,
     "task": false
    }
   },
   "source": [
    "### Load your scenario\n",
    "To get the file you generated in *ScheduledFlows* into your current work space, _download_ it to your laptop or desktop, then _upload_ it to the current folder. \n",
    "\n",
    "Once you've done that, in the cell below, use h5io.read_hdf5 to load the scenario into Python as a dictionary named epsdictionary_fromfile (just as you did in *ScheduledFlows*). "
   ]
  },
  {
   "cell_type": "code",
   "execution_count": null,
   "metadata": {
    "deletable": false,
    "nbgrader": {
     "cell_type": "code",
     "checksum": "7f9399656720453d571a3965c523888b",
     "grade": true,
     "grade_id": "cell-fca8e9f777607e64",
     "locked": false,
     "points": 2,
     "schema_version": 3,
     "solution": true,
     "task": false
    }
   },
   "outputs": [],
   "source": [
    "# Load in your scenario as a dictionary, using h5io.read\n",
    "# your code here \n"
   ]
  },
  {
   "cell_type": "markdown",
   "metadata": {
    "deletable": false,
    "editable": false,
    "nbgrader": {
     "cell_type": "markdown",
     "checksum": "ef26d03a3a4b9ef6bcb10a795987239e",
     "grade": false,
     "grade_id": "cell-07cadc99867f270d",
     "locked": true,
     "schema_version": 3,
     "solution": false,
     "task": false
    }
   },
   "source": [
    "### From dictionary -> dataframe -> Numpy data arrays\n",
    "The cell below extracts time and emissions arrays in the scenario."
   ]
  },
  {
   "cell_type": "code",
   "execution_count": null,
   "metadata": {
    "deletable": false,
    "editable": false,
    "nbgrader": {
     "cell_type": "code",
     "checksum": "4309d91bbc05e252d6b9e3733bbd8f7d",
     "grade": false,
     "grade_id": "cell-a67ca961a1c728e8",
     "locked": true,
     "schema_version": 3,
     "solution": false,
     "task": false
    }
   },
   "outputs": [],
   "source": [
    "# Here we're using \"display\" to double-check the metadata in your dictionary\n",
    "display(epsdictionary_fromfile)\n",
    "\n",
    "# This extracts the dataframe from the dictionary\n",
    "epsdf = epsdictionary_fromfile['dataframe']\n",
    "\n",
    "# This extracts the time and emissions from the dataframe\n",
    "time = np.array(epsdf['time'])\n",
    "eps = np.array(epsdf['emissions'])"
   ]
  },
  {
   "cell_type": "markdown",
   "metadata": {
    "deletable": false,
    "editable": false,
    "nbgrader": {
     "cell_type": "markdown",
     "checksum": "655635a98b9f5ea01adf0e632510890f",
     "grade": false,
     "grade_id": "cell-3d76bdbc613a979a",
     "locked": true,
     "schema_version": 3,
     "solution": false,
     "task": false
    }
   },
   "source": [
    "### Plotting to see what we stored\n",
    "In the cell below, plot the emissions we just extracted as a function of time (this will remind us what the scenario looks like, and also verify that the data haven't been corrupted)."
   ]
  },
  {
   "cell_type": "code",
   "execution_count": null,
   "metadata": {
    "deletable": false,
    "nbgrader": {
     "cell_type": "code",
     "checksum": "6e5f0c91e682dc7be71e30d0d26107fc",
     "grade": true,
     "grade_id": "cell-29126d76acfcd1dc",
     "locked": false,
     "points": 2,
     "schema_version": 3,
     "solution": true,
     "task": false
    }
   },
   "outputs": [],
   "source": [
    "# your code here \n"
   ]
  },
  {
   "cell_type": "markdown",
   "metadata": {
    "deletable": false,
    "editable": false,
    "id": "uGSamItz9Fzw",
    "nbgrader": {
     "cell_type": "markdown",
     "checksum": "74a3306082b550033bcb40220b84a421",
     "grade": false,
     "grade_id": "cell-aef877c58e46e729",
     "locked": true,
     "schema_version": 3,
     "solution": false,
     "task": false
    }
   },
   "source": [
    "### Calculating the accumulated anthropogenic carbon emission\n",
    "The code below attempts to carry out the integration indicated in Eq. 1 numerically. It's *almost* correct. Execute the cell, then read on to see what the error is."
   ]
  },
  {
   "cell_type": "code",
   "execution_count": null,
   "metadata": {
    "colab": {
     "base_uri": "https://localhost:8080/",
     "height": 333
    },
    "deletable": false,
    "editable": false,
    "id": "aZn-W2KU9DmL",
    "nbgrader": {
     "cell_type": "code",
     "checksum": "9fcf7fbe976acf7d8d9ce42013791542",
     "grade": false,
     "grade_id": "cell-460eba74e18e0126",
     "locked": true,
     "schema_version": 3,
     "solution": false,
     "task": false
    },
    "outputId": "d68abbac-efd3-438e-8783-2c0abaa8cf99"
   },
   "outputs": [],
   "source": [
    "# This specifies beginning accumulated amount of anthropogenic carbon in the atmosphere\n",
    "E = 0\n",
    "\n",
    "# Initialize an empty numpy array that will hold new values over time\n",
    "E_array = np.empty(0)\n",
    "\n",
    "# Loop over all the times\n",
    "for i in range(len(time)):\n",
    "    E += eps[i]\n",
    "    E_array = np.append(E_array,E)\n",
    "\n",
    "# Graph it\n",
    "plt.figure()\n",
    "plt.plot(time,E_array)\n",
    "plt.grid()\n",
    "plt.xlabel('year')\n",
    "plt.ylabel('GtC')\n",
    "plt.title('(Improperly) integrated anthropogenic carbon')"
   ]
  },
  {
   "cell_type": "markdown",
   "metadata": {
    "deletable": false,
    "editable": false,
    "id": "uGSamItz9Fzw",
    "nbgrader": {
     "cell_type": "markdown",
     "checksum": "d0a9f3ce58fc5f3a0fe8ea40beb89f66",
     "grade": false,
     "grade_id": "cell-aef877c58e46e720",
     "locked": true,
     "schema_version": 3,
     "solution": false,
     "task": false
    }
   },
   "source": [
    "### Your turn \n",
    "OK, what's the error in the above code? There's nothing in the loop that takes into account the length of each time step! (Like, is it a year? Half a year? What?) \n",
    "\n",
    "To fix that, we need to figure out what that time step is. An easy way to do that is to say \n",
    "\n",
    "    dt = t[1]-t[0])\n",
    "    print('dt =', dt)\n",
    "    \n",
    "Then, in each pass through the loop, multiply the emission rate by that time interval, something along the lines of\n",
    "\n",
    "    E += eps[i]*dt\n",
    "\n",
    "In the cell below, make this correction, then graph your result."
   ]
  },
  {
   "cell_type": "code",
   "execution_count": null,
   "metadata": {
    "colab": {
     "base_uri": "https://localhost:8080/",
     "height": 333
    },
    "deletable": false,
    "id": "aZn-W2KU9DmL",
    "nbgrader": {
     "cell_type": "code",
     "checksum": "e1518d691826289b34812fae8c172d95",
     "grade": true,
     "grade_id": "cell-460eba74e18e012",
     "locked": false,
     "points": 4,
     "schema_version": 3,
     "solution": true,
     "task": false
    },
    "outputId": "d68abbac-efd3-438e-8783-2c0abaa8cf99"
   },
   "outputs": [],
   "source": [
    "# your code here \n"
   ]
  },
  {
   "cell_type": "markdown",
   "metadata": {
    "deletable": false,
    "editable": false,
    "nbgrader": {
     "cell_type": "markdown",
     "checksum": "e4cc935e8f69bfb23cd3acb9bd6bcbda",
     "grade": false,
     "grade_id": "cell-1dc11b85d7e4620a",
     "locked": true,
     "schema_version": 3,
     "solution": false,
     "task": false
    }
   },
   "source": [
    "### Pause for analysis\n",
    "It is thought that known reserves of fossil carbon (mostly in the form of coal) tally up to around 4000 GtC (see https://www.nature.com/articles/nature14016). Hopefully, your cumulative total is less than that amount (otherwise, we have an unrealistic scenario!). In the cell below, calculate the percentage of known reserves of fossil carbon does your schedule *leaves in the ground*.\n",
    "\n",
    "Some hints on how to do this: \n",
    "- The last value of the accumulated emission array you just calculated can be accessed by E_array[-1].\n",
    "- The fraction of known reserves used by that time must be that number divided by 4000.\n",
    "- The fraction of known reserves remaining by that time must be 1 minus that number; multiplying that by 100 will give us what we're looking for, namely, the percent of known reserves remaining in the ground by the time humans stop mining fossil fuels and burning them."
   ]
  },
  {
   "cell_type": "code",
   "execution_count": null,
   "metadata": {
    "deletable": false,
    "nbgrader": {
     "cell_type": "code",
     "checksum": "c0738cdbb9ecca2bbd5da12d13d7a315",
     "grade": true,
     "grade_id": "cell-5bd1f1e152b85a8c",
     "locked": false,
     "points": 2,
     "schema_version": 3,
     "solution": true,
     "task": false
    }
   },
   "outputs": [],
   "source": [
    "# your code here \n"
   ]
  },
  {
   "cell_type": "markdown",
   "metadata": {
    "deletable": false,
    "editable": false,
    "id": "L4X8uvvtRRpN",
    "nbgrader": {
     "cell_type": "markdown",
     "checksum": "c059dc53497ec0b1d038cceed72774e3",
     "grade": false,
     "grade_id": "cell-83d6f1884c6599e2",
     "locked": true,
     "schema_version": 3,
     "solution": false,
     "task": false
    }
   },
   "source": [
    "### Refresh/save/validate\n",
    "Almost done! To double-check everything is OK, repeat the \"Three steps for refreshing and saving your code,\" and press the \"Validate\" button (as usual).\n",
    "\n",
    "### Close/submit/logout\n",
    "1. Close this notebook using the \"File/Close and Halt\" dropdown menu\n",
    "1. Using the Assignments tab, submit this notebook\n",
    "1. Press the Logout tab of the Home Page"
   ]
  }
 ],
 "metadata": {
  "colab": {
   "collapsed_sections": [],
   "name": "MakeEmissionsScenario.ipynb",
   "provenance": []
  },
  "kernelspec": {
   "display_name": "Python 3 (ipykernel)",
   "language": "python",
   "name": "python3"
  },
  "language_info": {
   "codemirror_mode": {
    "name": "ipython",
    "version": 3
   },
   "file_extension": ".py",
   "mimetype": "text/x-python",
   "name": "python",
   "nbconvert_exporter": "python",
   "pygments_lexer": "ipython3",
   "version": "3.10.2"
  }
 },
 "nbformat": 4,
 "nbformat_minor": 1
}

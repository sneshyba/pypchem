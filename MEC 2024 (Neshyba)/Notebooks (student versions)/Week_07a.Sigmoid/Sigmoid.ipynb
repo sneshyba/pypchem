{
 "cells": [
  {
   "cell_type": "markdown",
   "id": "2c92ebe3",
   "metadata": {
    "deletable": false,
    "editable": false,
    "nbgrader": {
     "cell_type": "markdown",
     "checksum": "e3bd24b552928007d21880ad0ccb432d",
     "grade": false,
     "grade_id": "cell-947be4c753fb716f",
     "locked": true,
     "schema_version": 3,
     "solution": false,
     "task": false
    }
   },
   "source": [
    "### Computational Guided Inquiry for Modeling Earth's Climate (Neshyba & Pfalzgraff, 2025)\n",
    "\n",
    "# Sigmoid Functions\n",
    "\n",
    "### Introduction\n",
    "A sigmoid function is a function that has some kind of change -- like a tipping point. Sigmoid functions generally have a starting value, an ending value, and some transition between them. An example, what we're calling the $\\sigma_{floor}$ function, is shown in Fig. 1.\n",
    "\n",
    "<p style='text-align: center;'>    \n",
    "<img src=\"http://webspace.pugetsound.edu/facultypages/nesh/Notebook/Sigmafloor.png\" height=\"500\" width=\"500\"/>\n",
    "Figure 1. The $\\sigma_{floor}$ function.\n",
    "</p>\n",
    "\n",
    "The \"$x$\" in this figure is what we'll call the *independent variable*. But what is the meaning of \"$x$\"? Well, it could be a temperature, in which we're thinking that some tipping point is crossed at when the temperature increases. Or $x$ could be a carbon amount in the atmosphere, or even time. The sigmoid function we'll be using here is flexible in that it can accommodate all those possibilities. \n",
    "\n",
    "$\\sigma_{floor}$ also has three *parameters*, which we'll call $x_{trans}$, $x_{interval}$, and \n",
    "$\\sigma_{floor,\\infty}$. The idea of this CGI is to get you familiar with how each of those controls the shape of $\\sigma_{floor,\\infty}$ as a function of $x$.\n",
    "\n",
    "### Learning goals\n",
    "1. I can use $\\sigma_{floor}$ with a specified range of the independent variable (e.g., $x=temperature$).\n",
    "1. I can describe how the three parameters of $\\sigma_{floor}$ affect the appearance of $\\sigma_{floor}(x)$."
   ]
  },
  {
   "cell_type": "code",
   "execution_count": null,
   "id": "75c37fdc",
   "metadata": {
    "deletable": false,
    "editable": false,
    "nbgrader": {
     "cell_type": "code",
     "checksum": "07f857d202a46dc8f25eefb9a5d18ef8",
     "grade": false,
     "grade_id": "cell-f3181d8dc01421ef",
     "locked": true,
     "schema_version": 3,
     "solution": false,
     "task": false
    }
   },
   "outputs": [],
   "source": [
    "import numpy as np\n",
    "import matplotlib.pyplot as plt"
   ]
  },
  {
   "cell_type": "code",
   "execution_count": null,
   "id": "877a84b9",
   "metadata": {},
   "outputs": [],
   "source": [
    "%matplotlib inline\n",
    "plt.rcParams[\"figure.figsize\"] = (12, 8)\n",
    "plt.rcParams['font.size'] = 18"
   ]
  },
  {
   "cell_type": "markdown",
   "id": "09bd8371",
   "metadata": {
    "deletable": false,
    "editable": false,
    "nbgrader": {
     "cell_type": "markdown",
     "checksum": "5025500121a08fb0db698503d92f20f2",
     "grade": false,
     "grade_id": "cell-13d47991ed40ca80",
     "locked": true,
     "schema_version": 3,
     "solution": false,
     "task": false
    }
   },
   "source": [
    "### $\\sigma_{floor}$  as a Python function"
   ]
  },
  {
   "cell_type": "code",
   "execution_count": null,
   "id": "81833b97",
   "metadata": {
    "deletable": false,
    "editable": false,
    "nbgrader": {
     "cell_type": "code",
     "checksum": "c255339f9d0425f9cfb43590d1880b40",
     "grade": false,
     "grade_id": "cell-065023d8e74029ce",
     "locked": true,
     "schema_version": 3,
     "solution": false,
     "task": false
    }
   },
   "outputs": [],
   "source": [
    "def sigmafloor(x,x_trans=0,x_interval=1,sigma_floor_infinity=0):\n",
    "    \"\"\"Generates a sigmoid (smooth step-down) function with a floor\"\"\"\n",
    "    temp = 1 - 1/(1 + np.exp(-(x-x_trans)*3/x_interval))\n",
    "    return temp*(1-sigma_floor_infinity)+sigma_floor_infinity"
   ]
  },
  {
   "cell_type": "markdown",
   "id": "bfd4cccc",
   "metadata": {
    "deletable": false,
    "editable": false,
    "nbgrader": {
     "cell_type": "markdown",
     "checksum": "aa63497576b98e4daa6f6ab9169139a3",
     "grade": false,
     "grade_id": "cell-00de49bc55065858",
     "locked": true,
     "schema_version": 3,
     "solution": false,
     "task": false
    }
   },
   "source": [
    "### Specifying the independent variable\n",
    "The cell below specifies an array of temperatures that will be used by $\\sigma_{floor}$ as the independent variable."
   ]
  },
  {
   "cell_type": "code",
   "execution_count": null,
   "id": "00ad72f1",
   "metadata": {
    "deletable": false,
    "editable": false,
    "nbgrader": {
     "cell_type": "code",
     "checksum": "8ded94f811e465d542ca2b797ed658a1",
     "grade": false,
     "grade_id": "cell-a82549d28a5e2971",
     "locked": true,
     "schema_version": 3,
     "solution": false,
     "task": false
    }
   },
   "outputs": [],
   "source": [
    "T = np.linspace(-2,4)"
   ]
  },
  {
   "cell_type": "markdown",
   "id": "aa5bec9b",
   "metadata": {
    "deletable": false,
    "editable": false,
    "nbgrader": {
     "cell_type": "markdown",
     "checksum": "e98a28f3af80ef4cec5557c1e95b2d63",
     "grade": false,
     "grade_id": "cell-e6fab6a86648b094",
     "locked": true,
     "schema_version": 3,
     "solution": false,
     "task": false
    }
   },
   "source": [
    "### How $\\sigma_{floor}$  depends on  $x_{trans}$.\n",
    "Execute the cell below and take a look a the results."
   ]
  },
  {
   "cell_type": "code",
   "execution_count": null,
   "id": "b3e99741",
   "metadata": {
    "deletable": false,
    "editable": false,
    "nbgrader": {
     "cell_type": "code",
     "checksum": "68af1025d294a58ceda11cd1ee2b20ce",
     "grade": false,
     "grade_id": "cell-e1c0e9a9f413338a",
     "locked": true,
     "schema_version": 3,
     "solution": false,
     "task": false
    }
   },
   "outputs": [],
   "source": [
    "plt.figure()\n",
    "plt.plot(T,sigmafloor(T,x_trans=0,x_interval=1,sigma_floor_infinity=0),label='x_trans=0')\n",
    "plt.plot(T,sigmafloor(T,x_trans=1,x_interval=1,sigma_floor_infinity=0),label='x_trans=1')\n",
    "plt.plot(T,sigmafloor(T,x_trans=2,x_interval=1,sigma_floor_infinity=0),label='x_trans=2')\n",
    "plt.grid(True)\n",
    "plt.xlabel('x')\n",
    "plt.ylabel('sigma_floor(x)')\n",
    "plt.legend()"
   ]
  },
  {
   "cell_type": "markdown",
   "id": "bdcf86a9",
   "metadata": {
    "deletable": false,
    "editable": false,
    "nbgrader": {
     "cell_type": "markdown",
     "checksum": "79c479a483572e5a5baee5b1452585f3",
     "grade": false,
     "grade_id": "cell-7ed658b64527f4e6",
     "locked": true,
     "schema_version": 3,
     "solution": false,
     "task": false
    }
   },
   "source": [
    "### Pause for analysis\n",
    "In the cell below, write a sentence describing how $x_{trans}$ controls $\\sigma_{floor}$, being as quantitative as possible."
   ]
  },
  {
   "cell_type": "markdown",
   "id": "00516a5e",
   "metadata": {
    "deletable": false,
    "nbgrader": {
     "cell_type": "markdown",
     "checksum": "7d33006f8261eb461c5ba8e378c5c478",
     "grade": true,
     "grade_id": "cell-853c4cde7ff2e468",
     "locked": false,
     "points": 1,
     "schema_version": 3,
     "solution": true,
     "task": false
    }
   },
   "source": [
    "YOUR ANSWER HERE"
   ]
  },
  {
   "cell_type": "markdown",
   "id": "83ec7130",
   "metadata": {
    "deletable": false,
    "editable": false,
    "nbgrader": {
     "cell_type": "markdown",
     "checksum": "667856d9c5695dfd9baabec148ac65c2",
     "grade": false,
     "grade_id": "cell-5ab42c8e215dc67a",
     "locked": true,
     "schema_version": 3,
     "solution": false,
     "task": false
    }
   },
   "source": [
    "### How $\\sigma_{floor}$  depends on  $x_{interval}$.\n",
    "In the cell below, your task is to create three graphs on the same figure, much as was done above but exploring the role of $x_{interval}$. Let $x_{interval}$ vary (1, 1.5, and 2), but keep a constant $x_{trans}=1$ and $\\sigma_{floor,\\infty}=0$. Use the label/legend method to annotate your figure."
   ]
  },
  {
   "cell_type": "code",
   "execution_count": null,
   "id": "53642dde",
   "metadata": {
    "deletable": false,
    "nbgrader": {
     "cell_type": "code",
     "checksum": "d86f1f4eb46cd5d9de94e2721b02b42e",
     "grade": true,
     "grade_id": "cell-170c93fb9296d5f8",
     "locked": false,
     "points": 3,
     "schema_version": 3,
     "solution": true,
     "task": false
    }
   },
   "outputs": [],
   "source": [
    "# your code here \n"
   ]
  },
  {
   "cell_type": "markdown",
   "id": "006a5234",
   "metadata": {
    "deletable": false,
    "editable": false,
    "nbgrader": {
     "cell_type": "markdown",
     "checksum": "b229ae6fc0fa76529852563c78e047ac",
     "grade": false,
     "grade_id": "cell-b0c47ef3d9b27da8",
     "locked": true,
     "schema_version": 3,
     "solution": false,
     "task": false
    }
   },
   "source": [
    "### Pause for analysis\n",
    "In the cell below, describe how $x_{interval}$ controls $\\sigma_{floor}$. Try to make your description as quantitative as possible."
   ]
  },
  {
   "cell_type": "markdown",
   "id": "c750f363",
   "metadata": {
    "deletable": false,
    "nbgrader": {
     "cell_type": "markdown",
     "checksum": "29abecf857a403a326ac5b58298fe8e0",
     "grade": true,
     "grade_id": "cell-e95a6ea1d35c4da8",
     "locked": false,
     "points": 2,
     "schema_version": 3,
     "solution": true,
     "task": false
    }
   },
   "source": [
    "YOUR ANSWER HERE"
   ]
  },
  {
   "cell_type": "markdown",
   "id": "3d0081cd",
   "metadata": {
    "deletable": false,
    "editable": false,
    "nbgrader": {
     "cell_type": "markdown",
     "checksum": "55702b6372cc3d460929d1aaaf9da10e",
     "grade": false,
     "grade_id": "cell-3ddad6316d1bb0c1",
     "locked": true,
     "schema_version": 3,
     "solution": false,
     "task": false
    }
   },
   "source": [
    "### How $\\sigma_{floor}$  depends on  $\\sigma_{floor,\\infty}$.\n",
    "In the cell below, your task is to create three graphs on the same figure, much as was done above but exploring the role of $\\sigma_{floor,\\infty}$. Let $\\sigma_{floor,\\infty}$ vary (0, 0.2, 0.4), but keep a constant $x_{trans}=1$ and $x_{interval}=1$. Use the label/legend method to annotate your figure."
   ]
  },
  {
   "cell_type": "code",
   "execution_count": null,
   "id": "7fd4d796",
   "metadata": {
    "deletable": false,
    "nbgrader": {
     "cell_type": "code",
     "checksum": "9fddc3b544d0e08f7026c40d80915e8b",
     "grade": true,
     "grade_id": "cell-d16d621fdebe424c",
     "locked": false,
     "points": 3,
     "schema_version": 3,
     "solution": true,
     "task": false
    }
   },
   "outputs": [],
   "source": [
    "# your code here \n"
   ]
  },
  {
   "cell_type": "markdown",
   "id": "be0d93ae",
   "metadata": {
    "deletable": false,
    "editable": false,
    "nbgrader": {
     "cell_type": "markdown",
     "checksum": "82921e2918ea5f8c0b25dec209a981fa",
     "grade": false,
     "grade_id": "cell-eeb3c7859a2d8539",
     "locked": true,
     "schema_version": 3,
     "solution": false,
     "task": false
    }
   },
   "source": [
    "### Pause for analysis\n",
    "In the cell below, describe how $\\sigma_{floor,\\infty}$ controls $\\sigma_{floor}$. Try to make your description as quantitative as possible."
   ]
  },
  {
   "cell_type": "markdown",
   "id": "6475026a",
   "metadata": {
    "deletable": false,
    "nbgrader": {
     "cell_type": "markdown",
     "checksum": "e66073c23b406abc178ea339b3d929c3",
     "grade": true,
     "grade_id": "cell-eb0827b544542ad2",
     "locked": false,
     "points": 2,
     "schema_version": 3,
     "solution": true,
     "task": false
    }
   },
   "source": [
    "YOUR ANSWER HERE"
   ]
  },
  {
   "cell_type": "markdown",
   "id": "ace00b12",
   "metadata": {
    "deletable": false,
    "editable": false,
    "nbgrader": {
     "cell_type": "markdown",
     "checksum": "b54330dec4598cf2cde47396b60975f2",
     "grade": false,
     "grade_id": "cell-2f55322afc3de97d",
     "locked": true,
     "schema_version": 3,
     "solution": false,
     "task": false
    }
   },
   "source": [
    "### Deducing parameters from a given sigmoid function\n",
    "Take a look at Fig. 1 again, and in the cell below, write what you think the three parameters are for the blue dashed-line sigmoid."
   ]
  },
  {
   "cell_type": "markdown",
   "id": "b9196ab4",
   "metadata": {
    "deletable": false,
    "nbgrader": {
     "cell_type": "markdown",
     "checksum": "ec692e024b6525b3fbc463f839def4d3",
     "grade": true,
     "grade_id": "cell-1f175a88d99c3191",
     "locked": false,
     "points": 3,
     "schema_version": 3,
     "solution": true,
     "task": false
    }
   },
   "source": [
    "YOUR ANSWER HERE"
   ]
  },
  {
   "cell_type": "markdown",
   "id": "fdbb15df",
   "metadata": {
    "deletable": false,
    "editable": false,
    "nbgrader": {
     "cell_type": "markdown",
     "checksum": "96d7d7264e046c2310f4138066cc2e91",
     "grade": false,
     "grade_id": "cell-dd9580431fb77502",
     "locked": true,
     "schema_version": 3,
     "solution": false,
     "task": false
    }
   },
   "source": [
    "### Refresh/save/validate\n",
    "Double-check everything is OK, and press the \"Validate\" button (as usual).\n",
    "\n",
    "### Close/submit/logout\n",
    "Close, submit, and log out."
   ]
  }
 ],
 "metadata": {
  "kernelspec": {
   "display_name": "Python 3 (ipykernel)",
   "language": "python",
   "name": "python3"
  },
  "language_info": {
   "codemirror_mode": {
    "name": "ipython",
    "version": 3
   },
   "file_extension": ".py",
   "mimetype": "text/x-python",
   "name": "python",
   "nbconvert_exporter": "python",
   "pygments_lexer": "ipython3",
   "version": "3.10.2"
  }
 },
 "nbformat": 4,
 "nbformat_minor": 5
}

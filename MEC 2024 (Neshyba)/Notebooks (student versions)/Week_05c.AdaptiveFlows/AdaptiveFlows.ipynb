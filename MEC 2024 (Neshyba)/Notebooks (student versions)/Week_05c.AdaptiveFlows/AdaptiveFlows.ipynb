{
 "cells": [
  {
   "cell_type": "markdown",
   "metadata": {
    "deletable": false,
    "editable": false,
    "id": "pXKK1rEgGCO1",
    "nbgrader": {
     "cell_type": "markdown",
     "checksum": "5415c37445c438056d211f305b6c449a",
     "grade": false,
     "grade_id": "cell-b6aeed010bcbde26",
     "locked": true,
     "schema_version": 3,
     "solution": false,
     "task": false
    }
   },
   "source": [
    "### Computational Guided Inquiry for Modeling Earth's Climate (Neshyba, Pfalzgraff, & Posta, 2025)\n",
    "\n",
    "# AdaptiveFlows\n",
    "\n",
    "## Introduction\n",
    "In this exercise, we'll consider a \"negative feedback\" in the atmosphere-land carbon flux, also known as \"$CO_2$ fertilization.\"\n",
    "\n",
    "<p style='text-align: center;'>\n",
    "<img src=\"http://webspace.pugetsound.edu/facultypages/nesh/Notebook/carbon_cycle.jpg\" height=\"500\" width=\"500\"/>  \n",
    "<strong>Figure 1</strong>. Carbon fluxes through Earth's climate system. Source: https://earthobservatory.nasa.gov/features/CarbonCycle.\n",
    "</p>\n",
    "\n",
    "## $CO_2$ feedback\n",
    "Below, we reproduce the five equations of motion of Cambio1.0. Note that these equations are missing some feedback terms: there's no sigmoid term in Eq. 2 (we'll get to that in Cambio4.0) and there's no Henry's term in Eq. 3 (we'll get to that in Cambio2.0).\n",
    "\n",
    "$$\n",
    "F_{land->atm} =  k_{la} \\ \\ \\ (1)\n",
    "$$\n",
    "\n",
    "$$\n",
    "F_{atm->land} = k_{al0} +  k_{al1} \\times C_{atm} \\ \\ \\ (2)\n",
    "$$\n",
    "\n",
    "$$\n",
    "F_{ocean->atm} = k_{oa} \\times C_{ocean} \\ \\ \\ (3)\n",
    "$$\n",
    "\n",
    "$$\n",
    "F_{atm->ocean} = k_{ao} C_{atm} \\ \\ \\ (4) \n",
    "$$\n",
    "\n",
    "$$\n",
    "F_{human->atm} = \\epsilon(t) \\ \\ \\ (5)\n",
    "$$\n",
    "\n",
    "There is, however, a very important feedback built into Eq. 2: as long as $k_{al1}$ is a positive number (which it is), Eq. 2 says that as humans put more carbon in the atmosphere (bigger $C_{atm}$), there will be an offsetting effect of greater flux from the atmosphere to the land (bigger $F_{atm->land}$). How does that happen physically? Experiments have shown that if you pump $CO_2$ into a greenhouse, plants in the greenhouse photosynthesize faster. \n",
    "\n",
    "In Chemistry, you might have run across this idea in the form of *Le Chatelier's principle*. In climate science, the effect is referred to as *$CO_2$ fertilization*. It is also an example of a more general idea you are familiar with, namely, a *negative climate feedback*. \n",
    "\n",
    "## Learning Goals\n",
    "- I can describe the meaning of all the terms in Eq. 2.\n",
    "- I can use Eq. 2 to predict the $CO_2$ fertilization one can expect for a given amount of atmospheric $CO_2$.\n",
    "- I can explain how Eq. 2 represents a negative climate feedback."
   ]
  },
  {
   "cell_type": "code",
   "execution_count": null,
   "metadata": {
    "deletable": false,
    "editable": false,
    "id": "8duXe1pBP7Px",
    "nbgrader": {
     "cell_type": "code",
     "checksum": "267c4c11d9f40084da3fb1335a01af11",
     "grade": false,
     "grade_id": "cell-456175985ea64373",
     "locked": true,
     "schema_version": 3,
     "solution": false,
     "task": false
    }
   },
   "outputs": [],
   "source": [
    "import numpy as np\n",
    "import matplotlib.pyplot as plt"
   ]
  },
  {
   "cell_type": "code",
   "execution_count": null,
   "metadata": {},
   "outputs": [],
   "source": [
    "%matplotlib inline\n",
    "plt.rcParams[\"figure.figsize\"] = (12, 8)\n",
    "plt.rcParams['font.size'] = 18"
   ]
  },
  {
   "cell_type": "markdown",
   "metadata": {
    "deletable": false,
    "editable": false,
    "nbgrader": {
     "cell_type": "markdown",
     "checksum": "aa29de70abc3ef8cb9e27a202727f280",
     "grade": false,
     "grade_id": "cell-e84f52f2df63b84b",
     "locked": true,
     "schema_version": 3,
     "solution": false,
     "task": false
    }
   },
   "source": [
    "### Getting a sense for the pre-industrial atmosphere->land flux.\n",
    "\n",
    "We'll start with the atmosphere-to-land flux according to Eq. (2). To do this, we need to know a few things:\n",
    "\n",
    "1. The pre-industrial atmospheric $CO_2$ concentration in the atmosphere (about 615 GtC).\n",
    "1. The rate constants in Eq. (1). We'll use these values:\n",
    "\n",
    "        k_al0 = 110.03\n",
    "        k_al1 = 0.01622\n",
    "\n",
    "In the cell below, use Eq. (2) to compute and print the pre-industrial flux of carbon from the atmosphere to Earth's surface."
   ]
  },
  {
   "cell_type": "code",
   "execution_count": null,
   "metadata": {
    "deletable": false,
    "nbgrader": {
     "cell_type": "code",
     "checksum": "abe3e12046682db9333fdc07e4882ef0",
     "grade": true,
     "grade_id": "cell-9c64ce47bde0ac0f",
     "locked": false,
     "points": 3,
     "schema_version": 3,
     "solution": true,
     "task": false
    }
   },
   "outputs": [],
   "source": [
    "# your code here \n"
   ]
  },
  {
   "cell_type": "markdown",
   "metadata": {
    "deletable": false,
    "editable": false,
    "nbgrader": {
     "cell_type": "markdown",
     "checksum": "b2f8795768067659a302571c3eed4ae2",
     "grade": false,
     "grade_id": "cell-40e6dc367e8d1cc5",
     "locked": true,
     "schema_version": 3,
     "solution": false,
     "task": false
    }
   },
   "source": [
    "### Pause for analysis\n",
    "The flux you just calculated should correspond to a value you can find in Fig. 1. Where is that value in the figure?"
   ]
  },
  {
   "cell_type": "markdown",
   "metadata": {
    "deletable": false,
    "nbgrader": {
     "cell_type": "markdown",
     "checksum": "d6fd9107c6c1bcc4f5beef9896f854b5",
     "grade": true,
     "grade_id": "cell-27692ec2a76bbf82",
     "locked": false,
     "points": 1,
     "schema_version": 3,
     "solution": true,
     "task": false
    }
   },
   "source": [
    "YOUR ANSWER HERE"
   ]
  },
  {
   "cell_type": "markdown",
   "metadata": {
    "deletable": false,
    "editable": false,
    "nbgrader": {
     "cell_type": "markdown",
     "checksum": "52608e73997d50374f9c58d27d3249c3",
     "grade": false,
     "grade_id": "cell-8a752add00502ff1",
     "locked": true,
     "schema_version": 3,
     "solution": false,
     "task": false
    }
   },
   "source": [
    "### Visualizing $CO_2$ fertilization\n",
    "In the cell below, we start by laying out a range of atmospheric $CO_2$ amounts (from pre-industrial to 1000 GtC). Your task is to compute the atmosphere-to-land flux over this range, and plot it as a function of the $CO_2$ amount using Eq. 1. Add labels accordingly."
   ]
  },
  {
   "cell_type": "code",
   "execution_count": null,
   "metadata": {
    "deletable": false,
    "nbgrader": {
     "cell_type": "code",
     "checksum": "117885686355872f3a3ed994bbac7251",
     "grade": true,
     "grade_id": "cell-8c58310067ed138a",
     "locked": false,
     "points": 3,
     "schema_version": 3,
     "solution": true,
     "task": false
    }
   },
   "outputs": [],
   "source": [
    "# Lay out an array of atmospheric CO2 amounts\n",
    "C_atm_array = np.linspace(615,1000)\n",
    "\n",
    "# Plot the flux (Eq. 2) as a function of C_atm_array\n",
    "# your code here \n"
   ]
  },
  {
   "cell_type": "markdown",
   "metadata": {
    "deletable": false,
    "editable": false,
    "nbgrader": {
     "cell_type": "markdown",
     "checksum": "2c196c3f906d8dd627724c0fba05e862",
     "grade": false,
     "grade_id": "cell-3a2d8b55edeaf129",
     "locked": true,
     "schema_version": 3,
     "solution": false,
     "task": false
    }
   },
   "source": [
    "### Pause for analysis\n",
    "1. In the year the NASA figure was made (2003), there was about 800 GtC in the air (see the upper-right of the figure). According to your graph, what was $F_{atm->land}$ that year?\n",
    "1. You can get the *net* atmosphere-to-land flux in 2003 by subtracting 120 GtC/year. What value do you get? And where in the NASA figure does this net atmosphere-to-land flux appear? \n",
    "1. What does your graph predict for $F_{atm->land}$ in the year 2023? To answer this, you'll need the amount of $CO_2$ in the atmosphere that year. To get *that*, you can go to https://gml.noaa.gov/ccgg/trends/, estimate the average ppm for the year 2023, then convert to GtC by multiplying by 2.12.\n",
    "1. Based on your answer to #3, calculate the *net* flux from atmosphere to land you'd expect happened in the year 2023, by subtracting 120 GtC/year again. "
   ]
  },
  {
   "cell_type": "markdown",
   "metadata": {
    "deletable": false,
    "nbgrader": {
     "cell_type": "markdown",
     "checksum": "650332e465b31cefed1f54e472119726",
     "grade": true,
     "grade_id": "cell-a0f032fd03e584be",
     "locked": false,
     "points": 4,
     "schema_version": 3,
     "solution": true,
     "task": false
    }
   },
   "source": [
    "YOUR ANSWER HERE"
   ]
  },
  {
   "cell_type": "markdown",
   "metadata": {
    "deletable": false,
    "editable": false,
    "nbgrader": {
     "cell_type": "markdown",
     "checksum": "7da946529a6f118e09b6ca99d7eef01e",
     "grade": false,
     "grade_id": "cell-c73073740374c151",
     "locked": true,
     "schema_version": 3,
     "solution": false,
     "task": false
    }
   },
   "source": [
    "### Putting things on a human scale\n",
    "Numbers like the above sometimes make more sense if we can put them on more of a human scale. Here, we'll attempt that by converting the global atmospheric flux to a flux per square meter. \n",
    "\n",
    "To do that, we'll need some numbers. It turns out that Earth's surface area is about $1.5 \\times 10^{14} \\ m^2$. There are also a trillion ($10^{12}$) kilograms of carbon in every gigatonne of carbon. \n",
    "\n",
    "In the cell below, use these conversion factors to re-draw the graph you just made, but in units ${kg \\over m^2 year}$ (on the y-axis). Label your axes appropriately."
   ]
  },
  {
   "cell_type": "code",
   "execution_count": null,
   "metadata": {
    "deletable": false,
    "nbgrader": {
     "cell_type": "code",
     "checksum": "9032488c50658b2bcc1ec7e62dd330f1",
     "grade": true,
     "grade_id": "cell-9d89865d3316547b",
     "locked": false,
     "points": 3,
     "schema_version": 3,
     "solution": true,
     "task": false
    }
   },
   "outputs": [],
   "source": [
    "# your code here \n"
   ]
  },
  {
   "cell_type": "markdown",
   "metadata": {
    "deletable": false,
    "editable": false,
    "nbgrader": {
     "cell_type": "markdown",
     "checksum": "052da622c0fa329e4ce2014c208d22ca",
     "grade": false,
     "grade_id": "cell-784cd7e2cbbf961d",
     "locked": true,
     "schema_version": 3,
     "solution": false,
     "task": false
    }
   },
   "source": [
    "### Pause for analysis\n",
    "It's worth taking a moment to reflect on the magnitudes of fluxes appearing in this graph ... back in pre-industrial times when there were 615 GtC in the air, each square meter of land of the planet photosynthesized around $0.86$ kg of carbon every year. By the year 2023, when atmospheric $CO_2$ had risen to around 893 GtC, that photosynthesis had risen to $0.89 \\ {kg \\over m^2 year}$. That $3\\%$ increase is the negative feedback of $CO_2$ fertilization.\n",
    "\n",
    "(Not all of that carbon stayed in the ground, of course -- plant respiration returns carbon to the atmosphere too.)"
   ]
  },
  {
   "cell_type": "markdown",
   "metadata": {
    "deletable": false,
    "editable": false,
    "id": "L4X8uvvtRRpN",
    "nbgrader": {
     "cell_type": "markdown",
     "checksum": "c059dc53497ec0b1d038cceed72774e3",
     "grade": false,
     "grade_id": "cell-83d6f1884c6599e2",
     "locked": true,
     "schema_version": 3,
     "solution": false,
     "task": false
    }
   },
   "source": [
    "### Refresh/save/validate\n",
    "Almost done! To double-check everything is OK, repeat the \"Three steps for refreshing and saving your code,\" and press the \"Validate\" button (as usual).\n",
    "\n",
    "### Close/submit/logout\n",
    "1. Close this notebook using the \"File/Close and Halt\" dropdown menu\n",
    "1. Using the Assignments tab, submit this notebook\n",
    "1. Press the Logout tab of the Home Page"
   ]
  }
 ],
 "metadata": {
  "colab": {
   "collapsed_sections": [],
   "name": "MakeEmissionsScenario.ipynb",
   "provenance": []
  },
  "kernelspec": {
   "display_name": "Python 3 (ipykernel)",
   "language": "python",
   "name": "python3"
  },
  "language_info": {
   "codemirror_mode": {
    "name": "ipython",
    "version": 3
   },
   "file_extension": ".py",
   "mimetype": "text/x-python",
   "name": "python",
   "nbconvert_exporter": "python",
   "pygments_lexer": "ipython3",
   "version": "3.10.2"
  }
 },
 "nbformat": 4,
 "nbformat_minor": 1
}

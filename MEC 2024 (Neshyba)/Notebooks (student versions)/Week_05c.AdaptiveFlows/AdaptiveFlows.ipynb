{
 "cells": [
  {
   "cell_type": "markdown",
   "metadata": {
    "deletable": false,
    "editable": false,
    "id": "pXKK1rEgGCO1",
    "nbgrader": {
     "cell_type": "markdown",
     "checksum": "bac274d5222de43cef550677d75ad2e1",
     "grade": false,
     "grade_id": "cell-b6aeed010bcbde26",
     "locked": true,
     "schema_version": 3,
     "solution": false,
     "task": false
    }
   },
   "source": [
    "### Computational Guided Inquiry for Modeling Earth's Climate (Neshyba & Posta, 2024)\n",
    "\n",
    "# AdaptiveFlows\n",
    "\n",
    "## Introduction\n",
    "In this exercise, we'll consider two kinds of feedback affecting the atmosphere-land carbon flux: $CO_2$ feedback (which acts as a negative feedback on anthropogenic forcing) and temperature feedback (which acts as a positive feedback).\n",
    "\n",
    "<p style='text-align: center;'>\n",
    "<img src=\"http://webspace.pugetsound.edu/facultypages/nesh/Notebook/carbon_cycle.jpg\" height=\"500\" width=\"500\"/>  \n",
    "<strong>Figure 1</strong>. Carbon fluxes through Earth's climate system. Source: https://earthobservatory.nasa.gov/features/CarbonCycle.\n",
    "</p>\n",
    "\n",
    "## $CO_2$ feedback\n",
    "Here we'll be considering how a particular flow (or *flux*) of carbon through the climate system, namely the atmosphere-to-land flux ($F_{atm->land}$), depends on the amount of carbon that is in the atmosphere. This idea can be represented mathematically as \n",
    "\n",
    "$$\n",
    "F_{atm->land} = k_{al0} + k_{al1} [C_{atm}] \\ \\ \\ \\ (1) \n",
    "$$\n",
    "\n",
    "where $k_{al0}$ and $k_{al1}$ are what we call *rate constants*, and $[C_{atm}]$ is the *reservoir amount* (or *concentration*) of carbon in the air, e.g., https://worldoceanreview.com/en/wor-1/ocean-chemistry/co2-reservoir/. Equation 1 represents what is called a *1st-order kinetic* approach to climate modeling; other names for it include *box modeling* and *stock-and-flow modeling* (see, e.g., https://publish.illinois.edu/olaogunbayo/2015/11/17/2-box-models-and-climate/).\n",
    "\n",
    "Equation 1 represents an adaptative flow because greater concentrations of $CO_2$ in the atmosphere lead to  faster flow of carbon from the atmosphere to the land. Sometimes this effect is referred to as *$CO_2$ fertilization*. It is also an example of a more general idea you are familiar with, namely, a *negative climate feedback*. \n",
    "\n",
    "## Temperature feedback\n",
    "As alluded to above, a problem one encounters with 1st-order kinetics in the context of climate change is that the \"rules of the game\" might be different in a future climate. One way of describing this change would be to modify Eq. 1 to include an additional factor, $\\sigma_{floor}$:\n",
    "\n",
    "$$\n",
    "F_{atm->land} = (k_{al0} + k_{al1} [C_{atm}])\\times \\sigma_{floor}   \\ \\ \\ \\ (2)\n",
    "$$\n",
    "\n",
    "We envision $\\sigma_{floor}(T)$ to be a sigmoid function that embodies the fact that, in a warmer climate, the ability of Earth's surface to capture carbon would be reduced to some new, smaller value. For example, if we thought the ability of Earth's surface to capture carbon would be reduced by $3 \\%$ relative to its pre-industrial value, we would specify the high-temperature limit of $\\sigma_{floor}$ to be $0.97$ (i.e., $97 \\%$). As long as that limit is less than $1$, more $CO_2$ would be left in the air, thereby heating the planet even more: a *positive climate feedback*.\n",
    "\n",
    "## Learning Goals\n",
    "- I can describe the physical ideas behind the mathematics of first-order kinetics, including the meaning behind all the terms in Eq. 1, and how negative climate feedback is realized mathematically.\n",
    "- I can identify which parts of Eq. 2 represent positive climate feedback, and explain why.\n",
    "- I'm getting pretty good at interconverting ways of representing the amount of $CO_2$ in the atmosphere, and at coding up complex mathematical expressions (like those appearing in Eqs. 1-2)."
   ]
  },
  {
   "cell_type": "code",
   "execution_count": null,
   "metadata": {
    "deletable": false,
    "editable": false,
    "id": "8duXe1pBP7Px",
    "nbgrader": {
     "cell_type": "code",
     "checksum": "267c4c11d9f40084da3fb1335a01af11",
     "grade": false,
     "grade_id": "cell-456175985ea64373",
     "locked": true,
     "schema_version": 3,
     "solution": false,
     "task": false
    }
   },
   "outputs": [],
   "source": [
    "import numpy as np\n",
    "import matplotlib.pyplot as plt"
   ]
  },
  {
   "cell_type": "code",
   "execution_count": null,
   "metadata": {},
   "outputs": [],
   "source": [
    "%matplotlib inline\n",
    "plt.rcParams[\"figure.figsize\"] = (12, 8)\n",
    "plt.rcParams['font.size'] = 18"
   ]
  },
  {
   "cell_type": "markdown",
   "metadata": {
    "deletable": false,
    "editable": false,
    "nbgrader": {
     "cell_type": "markdown",
     "checksum": "9084ebc4e3eae5ec475c91ac4390d494",
     "grade": false,
     "grade_id": "cell-e84f52f2df63b84b",
     "locked": true,
     "schema_version": 3,
     "solution": false,
     "task": false
    }
   },
   "source": [
    "### Getting a sense for the pre-industrial atmosphere->land flux.\n",
    "\n",
    "We'll start with the atmosphere-to-land flux according to Eq. (1). To do this, we need to know a few things:\n",
    "\n",
    "1. The pre-industrial atmospheric $CO_2$ concentration in the atmosphere (about 615 GtC).\n",
    "1. The rate constants in Eq. (1). We'll use these values:\n",
    "\n",
    "        k_al0 = 110.03\n",
    "        k_al1 = 0.01622\n",
    "\n",
    "In the cell below, use Eq. (1) to compute and print the pre-industrial flux of carbon from the atmosphere to Earth's surface."
   ]
  },
  {
   "cell_type": "code",
   "execution_count": null,
   "metadata": {
    "deletable": false,
    "nbgrader": {
     "cell_type": "code",
     "checksum": "abe3e12046682db9333fdc07e4882ef0",
     "grade": true,
     "grade_id": "cell-9c64ce47bde0ac0f",
     "locked": false,
     "points": 3,
     "schema_version": 3,
     "solution": true,
     "task": false
    }
   },
   "outputs": [],
   "source": [
    "# your code here \n"
   ]
  },
  {
   "cell_type": "markdown",
   "metadata": {
    "deletable": false,
    "editable": false,
    "nbgrader": {
     "cell_type": "markdown",
     "checksum": "b2f8795768067659a302571c3eed4ae2",
     "grade": false,
     "grade_id": "cell-40e6dc367e8d1cc5",
     "locked": true,
     "schema_version": 3,
     "solution": false,
     "task": false
    }
   },
   "source": [
    "### Pause for analysis\n",
    "The flux you just calculated should correspond to a value you can find in Fig. 1. Where is that value in the figure?"
   ]
  },
  {
   "cell_type": "markdown",
   "metadata": {
    "deletable": false,
    "nbgrader": {
     "cell_type": "markdown",
     "checksum": "d6fd9107c6c1bcc4f5beef9896f854b5",
     "grade": true,
     "grade_id": "cell-27692ec2a76bbf82",
     "locked": false,
     "points": 1,
     "schema_version": 3,
     "solution": true,
     "task": false
    }
   },
   "source": [
    "YOUR ANSWER HERE"
   ]
  },
  {
   "cell_type": "markdown",
   "metadata": {
    "deletable": false,
    "editable": false,
    "nbgrader": {
     "cell_type": "markdown",
     "checksum": "599ef969974218f28657bd0073c629a2",
     "grade": false,
     "grade_id": "cell-23375dbe769f0cd8",
     "locked": true,
     "schema_version": 3,
     "solution": false,
     "task": false
    }
   },
   "source": [
    "### Your turn\n",
    "In the year Fig. 1 corresponds to (2003), the concentration of carbon in the atmosphere was 800 GtC. In the cell below, use Eq. (1) to compute and print the flux of carbon from the atmosphere to Earth's surface in that year."
   ]
  },
  {
   "cell_type": "code",
   "execution_count": null,
   "metadata": {
    "deletable": false,
    "nbgrader": {
     "cell_type": "code",
     "checksum": "fa3d259018113d5c7335abf9bd5283e6",
     "grade": true,
     "grade_id": "cell-d19a57c6b92716ab",
     "locked": false,
     "points": 2,
     "schema_version": 3,
     "solution": true,
     "task": false
    }
   },
   "outputs": [],
   "source": [
    "# your code here \n"
   ]
  },
  {
   "cell_type": "markdown",
   "metadata": {
    "deletable": false,
    "editable": false,
    "nbgrader": {
     "cell_type": "markdown",
     "checksum": "65f3f8e5bb3c8a95f7a8280c6b329288",
     "grade": false,
     "grade_id": "cell-de5bd704c9a07b18",
     "locked": true,
     "schema_version": 3,
     "solution": false,
     "task": false
    }
   },
   "source": [
    "### Pause for analysis\n",
    "The flux you just calculated should correspond to another value you can find in Fig. 1 (actually, the sum of two values in Fig. 1). In the cell below, explain where that occurs in the figure, and what it has to do with $CO_2$ fertilization."
   ]
  },
  {
   "cell_type": "markdown",
   "metadata": {
    "deletable": false,
    "nbgrader": {
     "cell_type": "markdown",
     "checksum": "f64e436457c92ef4d360266e98f93f25",
     "grade": true,
     "grade_id": "cell-0d5913cdba84fc63",
     "locked": false,
     "points": 2,
     "schema_version": 3,
     "solution": true,
     "task": false
    }
   },
   "source": [
    "YOUR ANSWER HERE"
   ]
  },
  {
   "cell_type": "markdown",
   "metadata": {
    "deletable": false,
    "editable": false,
    "nbgrader": {
     "cell_type": "markdown",
     "checksum": "c4ab07c9aa8ed61a6b7da3bf4977c843",
     "grade": false,
     "grade_id": "cell-8a752add00502ff1",
     "locked": true,
     "schema_version": 3,
     "solution": false,
     "task": false
    }
   },
   "source": [
    "### Visualizing $CO_2$ fertilization\n",
    "In the cell below, we start by laying out a range of atmospheric $CO_2$ amounts (from pre-industrial to 2x that). Your task is to compute the atmosphere-to-land flux over this range, and plot it as a function of the $CO_2$ amount using Eq. 1. Add labels accordingly."
   ]
  },
  {
   "cell_type": "code",
   "execution_count": null,
   "metadata": {
    "deletable": false,
    "nbgrader": {
     "cell_type": "code",
     "checksum": "63702e4026d4f96d967eeaa4020514c3",
     "grade": true,
     "grade_id": "cell-8c58310067ed138a",
     "locked": false,
     "points": 3,
     "schema_version": 3,
     "solution": true,
     "task": false
    }
   },
   "outputs": [],
   "source": [
    "# Lay out an array of atmospheric CO2 amounts (from pre-industrial to 2x that)\n",
    "C_atm_array = np.linspace(615,2*615)\n",
    "\n",
    "# Plot the flux (Eq. 1) as a function of atmospheric CO2 amount\n",
    "# your code here \n"
   ]
  },
  {
   "cell_type": "markdown",
   "metadata": {
    "deletable": false,
    "editable": false,
    "nbgrader": {
     "cell_type": "markdown",
     "checksum": "757850f95a9bf199da2751b15d70abf8",
     "grade": false,
     "grade_id": "cell-3a2d8b55edeaf129",
     "locked": true,
     "schema_version": 3,
     "solution": false,
     "task": false
    }
   },
   "source": [
    "### Pause for analysis\n",
    "This is just a double-check -- is your graph consistent with the preindustrial flux and the flux in the year 2003 you got in the previous cells?"
   ]
  },
  {
   "cell_type": "markdown",
   "metadata": {
    "deletable": false,
    "editable": false,
    "nbgrader": {
     "cell_type": "markdown",
     "checksum": "f1b00af3a672feb689c125a7b8a1954b",
     "grade": false,
     "grade_id": "cell-c73073740374c151",
     "locked": true,
     "schema_version": 3,
     "solution": false,
     "task": false
    }
   },
   "source": [
    "### Putting things on a human scale\n",
    "Numbers like the above sometimes make more sense if we can put them on more of a human scale. Here, we'll attempt that by converting the global atmospheric flux to a flux per square meter. \n",
    "\n",
    "To do that, we'll need some numbers. It turns out that Earth's surface area is about $1.4 \\times 10^{14} \\ m^2$. There are also a trillion ($10^{12}$) kilograms of carbon in every gigatonne of carbon. \n",
    "\n",
    "In the cell below, use these conversion factors to re-draw the graph you just made, but in units ${kg \\over m^2 year}$ (on the y-axis). Label your axes appropriately."
   ]
  },
  {
   "cell_type": "code",
   "execution_count": null,
   "metadata": {
    "deletable": false,
    "nbgrader": {
     "cell_type": "code",
     "checksum": "9032488c50658b2bcc1ec7e62dd330f1",
     "grade": true,
     "grade_id": "cell-9d89865d3316547b",
     "locked": false,
     "points": 3,
     "schema_version": 3,
     "solution": true,
     "task": false
    }
   },
   "outputs": [],
   "source": [
    "# your code here \n"
   ]
  },
  {
   "cell_type": "markdown",
   "metadata": {
    "deletable": false,
    "editable": false,
    "nbgrader": {
     "cell_type": "markdown",
     "checksum": "55ea98fa529cf1ad536425bde57111c4",
     "grade": false,
     "grade_id": "cell-784cd7e2cbbf961d",
     "locked": true,
     "schema_version": 3,
     "solution": false,
     "task": false
    }
   },
   "source": [
    "### Pause for analysis\n",
    "It's worth taking a moment to reflect on the range of fluxes you just got ... on average, back in pre-industrial times, each square meter of the planet sequestered around $0.86$ kg of carbon every year. By the time atmospheric $CO_2$ had risen to 425 $ppm$ (the value in the year 2023), that sequestration rate had risen to $0.88 \\ {kg \\over m^2 year}$. That $2\\%$ increase is the negative feedback of $CO_2$ fertilization.\n",
    "\n",
    "(Not all of that carbon stayed in the ground, of course -- in our preindustrial homeostatis, plant respiration would have returned the same amount of carbon to the atmosphere every year.)"
   ]
  },
  {
   "cell_type": "markdown",
   "metadata": {
    "deletable": false,
    "editable": false,
    "nbgrader": {
     "cell_type": "markdown",
     "checksum": "1f0d08b87e12626116f8a309fd4c8718",
     "grade": false,
     "grade_id": "cell-cc07a464e633307fc",
     "locked": true,
     "schema_version": 3,
     "solution": false,
     "task": false
    }
   },
   "source": [
    "### Adaptive flows with temperature-dependent rate constants\n",
    "\n",
    "Now we're going to tackle a second adaptive part of this exercise -- namely, Eq. 2. To help with this, we've provided a Python function corresponding to $\\sigma_{floor}$ in the cell below. Execute the cell to activate it."
   ]
  },
  {
   "cell_type": "code",
   "execution_count": null,
   "metadata": {
    "deletable": false,
    "editable": false,
    "nbgrader": {
     "cell_type": "code",
     "checksum": "182a42fb1d1de3d26e3b41ee37df87a5",
     "grade": false,
     "grade_id": "cell-0988e6feb3682ee7",
     "locked": true,
     "schema_version": 3,
     "solution": false,
     "task": false
    }
   },
   "outputs": [],
   "source": [
    "def sigmafloor(T,Tstar,deltaT,floor):\n",
    "    # Generates a sigmoid (smooth step-down) function with a floor \n",
    "    # The floor should be given as a fraction (i.e., between 0 and 1)\n",
    "    temp = 1 - 1/(1 + np.exp(-(T-Tstar)*3/deltaT))\n",
    "    return temp*(1-floor)+floor"
   ]
  },
  {
   "cell_type": "markdown",
   "metadata": {
    "deletable": false,
    "editable": false,
    "nbgrader": {
     "cell_type": "markdown",
     "checksum": "41006d0a80a241a3ae93c4d36540b79b",
     "grade": false,
     "grade_id": "cell-14e9cfb3e1a26c94",
     "locked": true,
     "schema_version": 3,
     "solution": false,
     "task": false
    }
   },
   "source": [
    "### Trying out the $\\sigma_{floor}$ function\n",
    "Here are some brief descriptions of the parameters of $\\sigma_{floor}$:\n",
    "\n",
    "- $T_{current}$ specifies the current temperature.\n",
    "- $T^*$ specifies the threshold temperature at which sigmafloor is mid-way in its transition from its pre-industrial value of 1, to its new value.\n",
    "- $T_{transition}$ specifies the range of temperatures over which that transition takes place.\n",
    "- $\\sigma_{post-trans}$ is the new, post-threshold value.\n",
    "\n",
    "In the cell below, we plot $\\sigma_{floor}$ for a range of possible current temperatures and values of $\\sigma_{post-trans}$, to show you how it works."
   ]
  },
  {
   "cell_type": "code",
   "execution_count": null,
   "metadata": {},
   "outputs": [],
   "source": [
    "# Parameters\n",
    "T_star = 291\n",
    "T_transition = 0.25\n",
    "T_current = np.linspace(288,293,100)\n",
    "\n",
    "\n",
    "# This explores the consequences of varying sigma_post_trans\n",
    "plt.figure()\n",
    "sigma_post_trans = 0.97\n",
    "mysigma = sigmafloor(T_current,T_star,T_transition,sigma_post_trans)\n",
    "plt.plot(T_current,mysigma,label='floor='+str(sigma_post_trans))\n",
    "sigma_post_trans = 0.95\n",
    "mysigma = sigmafloor(T_current,T_star,T_transition,sigma_post_trans)\n",
    "plt.plot(T_current,mysigma,label='floor='+str(sigma_post_trans))\n",
    "sigma_post_trans = 0.90\n",
    "mysigma = sigmafloor(T_current,T_star,T_transition,sigma_post_trans)\n",
    "plt.plot(T_current,mysigma,label='floor='+str(sigma_post_trans))\n",
    "plt.grid(True)\n",
    "plt.xlabel('Temperature (K)')\n",
    "plt.ylabel('sigmafloor')\n",
    "plt.legend()\n",
    "\n",
    "# This explores the consequences of varying T*\n",
    "plt.figure()\n",
    "T_star = 290\n",
    "mysigma = sigmafloor(T_current,T_star,T_transition,sigma_post_trans)\n",
    "plt.plot(T_current,mysigma,label='T* ='+str(T_star))\n",
    "T_star = 291\n",
    "mysigma = sigmafloor(T_current,T_star,T_transition,sigma_post_trans)\n",
    "plt.plot(T_current,mysigma,label='T* ='+str(T_star))\n",
    "T_star = 292\n",
    "mysigma = sigmafloor(T_current,T_star,T_transition,sigma_post_trans)\n",
    "plt.plot(T_current,mysigma,label='T* ='+str(T_star))\n",
    "plt.grid(True)\n",
    "plt.xlabel('Temperature (K)')\n",
    "plt.ylabel('sigmafloor')\n",
    "plt.legend()"
   ]
  },
  {
   "cell_type": "markdown",
   "metadata": {
    "deletable": false,
    "editable": false,
    "nbgrader": {
     "cell_type": "markdown",
     "checksum": "8b6aae7aa317c2388edbbac6d834872e",
     "grade": false,
     "grade_id": "cell-399c2dc41f79c49d",
     "locked": true,
     "schema_version": 3,
     "solution": false,
     "task": false
    }
   },
   "source": [
    "### Your turn\n",
    "In the cell below, repeat what we did in the previous cell, keeping these values the same,\n",
    "\n",
    "- $T^*=291$\n",
    "- $\\sigma_{post-trans}=0.97$\n",
    "\n",
    "but exploring the effect of $T_{transition}$. Try out three different values (like $T_{transition}=2, 1, 0.5$), with results all plotted on the same graph"
   ]
  },
  {
   "cell_type": "code",
   "execution_count": null,
   "metadata": {
    "deletable": false,
    "nbgrader": {
     "cell_type": "code",
     "checksum": "8ab34f4577c5f7ab9cebfcb7898dd3bc",
     "grade": true,
     "grade_id": "cell-f88bbe15fd58ae51",
     "locked": false,
     "points": 2,
     "schema_version": 3,
     "solution": true,
     "task": false
    }
   },
   "outputs": [],
   "source": [
    "# your code here \n"
   ]
  },
  {
   "cell_type": "markdown",
   "metadata": {
    "deletable": false,
    "editable": false,
    "nbgrader": {
     "cell_type": "markdown",
     "checksum": "df5d932d464b3afcc45d27217463a0ca",
     "grade": false,
     "grade_id": "cell-acb9382810552c3d",
     "locked": true,
     "schema_version": 3,
     "solution": false,
     "task": false
    }
   },
   "source": [
    "### Pause for analysis\n",
    "In the cell below, describe the effect of making this change in $T_{transition}$."
   ]
  },
  {
   "cell_type": "markdown",
   "metadata": {
    "deletable": false,
    "nbgrader": {
     "cell_type": "markdown",
     "checksum": "8afc1a285f6712f7c108eea7b6529927",
     "grade": true,
     "grade_id": "cell-3c942328c7f17fbb",
     "locked": false,
     "points": 1,
     "schema_version": 3,
     "solution": true,
     "task": false
    }
   },
   "source": [
    "YOUR ANSWER HERE"
   ]
  },
  {
   "cell_type": "markdown",
   "metadata": {
    "deletable": false,
    "editable": false,
    "nbgrader": {
     "cell_type": "markdown",
     "checksum": "ba9e30b57a6d9d0200492d4d67b6f761",
     "grade": false,
     "grade_id": "cell-b8255a2e547fc450",
     "locked": true,
     "schema_version": 3,
     "solution": false,
     "task": false
    }
   },
   "source": [
    "### Consequences of temperature-dependent adaptive flux\n",
    "To put the above in more physical terms, we're going to compare the fluxes represented by Eqs. 1-3 over the same range of temperatures. This is a little tricky, because we have to make guesses as to values of $T^*$, $T_{transition}$, and $\\sigma_{post-trans}$. So it's done for you."
   ]
  },
  {
   "cell_type": "code",
   "execution_count": null,
   "metadata": {
    "deletable": false,
    "editable": false,
    "nbgrader": {
     "cell_type": "code",
     "checksum": "234c51f80914a0994d43086a2463f824",
     "grade": true,
     "grade_id": "cell-7df95bc619dc267e",
     "locked": true,
     "points": 0,
     "schema_version": 3,
     "solution": false,
     "task": false
    }
   },
   "outputs": [],
   "source": [
    "# A range of atmospheric CO2 amounts (preindustrial to 2x that)\n",
    "C_atm_array = np.linspace(615,2*615)\n",
    "\n",
    "# Eq. 1 calculation of the flux\n",
    "flux_Eq_1 = k_al0 + k_al1*C_atm_array\n",
    "\n",
    "# Applying the ECS (Equilibrium Climate Sensitivity)\n",
    "# Eq. 2 calculation of the flux\n",
    "CS = 0.004878 # Climate sensitivity\n",
    "T_with_feedback = 288 + CS*(C_atm_array-C_atm_array[0])\n",
    "\n",
    "# Incorporating feedback on the CO2 feedback process, specifying flux dropping to 97%  \n",
    "# of its pre-industrial value at a threshold temperature of T* = +3 degrees warming,\n",
    "# kicking in at +1.5 degrees (because T_transition = 1.5), a\n",
    "mysigma_with_feedback = sigmafloor(T_with_feedback,291,1.5,0.97)\n",
    "flux_Eq_2 = (k_al0 + k_al1*C_atm_array)*mysigma_with_feedback\n",
    "\n",
    "# Plotting them side by side\n",
    "plt.figure()\n",
    "plt.plot(C_atm_array,flux_Eq_1,'k',label=\"Eq. 1\")\n",
    "plt.plot(C_atm_array,flux_Eq_2,'r',label=\"Eq. 2\")\n",
    "plt.grid(True)\n",
    "plt.xlabel('C_atm (GtC)')\n",
    "plt.ylabel('Atmosphere-to-land flux')\n",
    "plt.legend()"
   ]
  },
  {
   "cell_type": "markdown",
   "metadata": {
    "deletable": false,
    "editable": false,
    "nbgrader": {
     "cell_type": "markdown",
     "checksum": "c2f7284645805e5a239fec11ac7bf31b",
     "grade": false,
     "grade_id": "cell-3b2850c931f1a172",
     "locked": true,
     "schema_version": 3,
     "solution": false,
     "task": false
    }
   },
   "source": [
    "### Pause for analysis\n",
    "With the caveat that the figure above is generated with estimates of $T^*$, $T_{transition}$, and $\\sigma_{post-trans}$, use the figure to make contingent responses to the following questions:\n",
    "1. At what concentration of atmospheric $CO_2$ does the atmosphere-to-land flux appear to be significantly affected by temperature feedbacks?\n",
    "1. How close are we to that concentration (i.e., what is the current concentration of atmospheric $CO_2$, in GtC)?"
   ]
  },
  {
   "cell_type": "markdown",
   "metadata": {
    "deletable": false,
    "nbgrader": {
     "cell_type": "markdown",
     "checksum": "0245b165dc10cf8fe0d3b12e0bed9bfa",
     "grade": true,
     "grade_id": "cell-336718870a476053",
     "locked": false,
     "points": 2,
     "schema_version": 3,
     "solution": true,
     "task": false
    }
   },
   "source": [
    "YOUR ANSWER HERE"
   ]
  },
  {
   "cell_type": "markdown",
   "metadata": {
    "deletable": false,
    "editable": false,
    "id": "L4X8uvvtRRpN",
    "nbgrader": {
     "cell_type": "markdown",
     "checksum": "c059dc53497ec0b1d038cceed72774e3",
     "grade": false,
     "grade_id": "cell-83d6f1884c6599e2",
     "locked": true,
     "schema_version": 3,
     "solution": false,
     "task": false
    }
   },
   "source": [
    "### Refresh/save/validate\n",
    "Almost done! To double-check everything is OK, repeat the \"Three steps for refreshing and saving your code,\" and press the \"Validate\" button (as usual).\n",
    "\n",
    "### Close/submit/logout\n",
    "1. Close this notebook using the \"File/Close and Halt\" dropdown menu\n",
    "1. Using the Assignments tab, submit this notebook\n",
    "1. Press the Logout tab of the Home Page"
   ]
  }
 ],
 "metadata": {
  "colab": {
   "collapsed_sections": [],
   "name": "MakeEmissionsScenario.ipynb",
   "provenance": []
  },
  "kernelspec": {
   "display_name": "Python 3 (ipykernel)",
   "language": "python",
   "name": "python3"
  },
  "language_info": {
   "codemirror_mode": {
    "name": "ipython",
    "version": 3
   },
   "file_extension": ".py",
   "mimetype": "text/x-python",
   "name": "python",
   "nbconvert_exporter": "python",
   "pygments_lexer": "ipython3",
   "version": "3.10.2"
  }
 },
 "nbformat": 4,
 "nbformat_minor": 1
}

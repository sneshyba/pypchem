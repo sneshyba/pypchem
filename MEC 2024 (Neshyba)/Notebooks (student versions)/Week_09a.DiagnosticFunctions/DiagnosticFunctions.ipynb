{
 "cells": [
  {
   "cell_type": "markdown",
   "metadata": {
    "deletable": false,
    "editable": false,
    "id": "HEFjocdv1OeY",
    "nbgrader": {
     "cell_type": "markdown",
     "checksum": "f8220da573a49680b39c382e6d65d30a",
     "grade": false,
     "grade_id": "cell-874687ffa1551337",
     "locked": true,
     "schema_version": 3,
     "solution": false,
     "task": false
    }
   },
   "source": [
    "### Computational Guided Inquiry for Modeling Earth's Climate (Neshyba, 2024)\n",
    "\n",
    "\n",
    "# Diagnostic Functions\n",
    "\n",
    "## Three types of modeled variable\n",
    "Here we are laying the groundwork for a revision of Cambio that provides little more organizational structure to our model. To do this, it's useful to distinguish between three different types of variables in climate modeling: *parametric*, *prognostic*, and *diagnostic*.\n",
    "\n",
    "1. *Parametric variables* are variables that define a given climate model, such as the anthropogenic emission schedule or the climate sensitivity parameter. \n",
    "1. *Prognostic variables* are variables that are used to predict the future evolution of the climate, including (crucially) their own values! In our case, prognostic variables are concentrations of carbon in the carbon reservoirs (atmosphere and oceans), and the fluxes between these reservoirs. \n",
    "1. *Diagnostic variables* are values that can be calculated from parametric and prognostic variables that we're interested in, but are not otherwise essential to the model. Examples include the global temperature and ocean pH -- important for the health of the planet, but not needed by the Euler algorithm to calculate concentrations and fluxes as the model progresses from one year to the next.\n",
    "\n",
    "(We should add that it's possible that as we re-envision our model, we could convert some variables from one type to another. For example, suppose we wanted to recognize a  perfectly plausible feedback loop in which humans actually modified their future carbon emissions in response to the warming caused by past carbon emissions. That would promote global temperature from a diagnostic variable to a prognostic one. But we'll tackle that kind of thing in Cambio3.0.)\n",
    "\n",
    "## Using dictionaries to organize data\n",
    "Keeping track of all the variables and metadata involved in this can be very messy business. We've already seen one way to reduce that messiness in our emissions scheduyles through the use of structured variables defined by *Python Dictionaries*. We'll continue that idea here, by collecting *parametric* variables into a Python dictionary called *ClimateParams*.\n",
    "\n",
    "## Using Python functions to compute diagnostic variables\n",
    "Going hand in hand with the structural revisions described above, it will be useful to organize how we compute diagnostic variables. We'll do this here by means of Python functions, one function for each diagnostic variable. As you'll see, some of these will be pretty trivial, like adding a constant to a temperature anomaly to compute an actual temperature. And in other cases, the algorithms will get more complex. Here, we'll be using Python functions to take care of that -- along with validation tests (also called \"unit tests\") that make sure their algorithms are working properly.\n",
    "\n",
    "## Uploading your emissions file\n",
    "You'll need to upload your favorite emissions scenario into this space. \n",
    "\n",
    "## Learning goals\n",
    "1. From inspecting the Python code, I can say whether a variable is prognostic, diagnostic, or parameteric.\n",
    "1. I'm getting really good at creating Python functions.\n",
    "1. I can extract information from Python dictionaries, and tailor them too."
   ]
  },
  {
   "cell_type": "code",
   "execution_count": null,
   "metadata": {
    "deletable": false,
    "editable": false,
    "executionInfo": {
     "elapsed": 3,
     "status": "ok",
     "timestamp": 1624579410347,
     "user": {
      "displayName": "Steven Neshyba",
      "photoUrl": "https://lh3.googleusercontent.com/a-/AOh14GhNBBB4oUDYM5LFwp5QBiZMax8b3ieYXI_9F1wa=s64",
      "userId": "12688310908552577631"
     },
     "user_tz": 420
    },
    "id": "xdh4_81TpIUV",
    "nbgrader": {
     "cell_type": "code",
     "checksum": "e8c437fb1dd0ea79e0d43155031a0f5a",
     "grade": false,
     "grade_id": "cell-0bc2fe1310aa0761",
     "locked": true,
     "schema_version": 3,
     "solution": false,
     "task": false
    }
   },
   "outputs": [],
   "source": [
    "import numpy as np\n",
    "import pandas as pd\n",
    "import matplotlib.pyplot as plt\n",
    "import sys; sys.path.append('/home'); import MECLib as CL"
   ]
  },
  {
   "cell_type": "code",
   "execution_count": null,
   "metadata": {},
   "outputs": [],
   "source": [
    "%matplotlib inline\n",
    "plt.rcParams[\"figure.figsize\"] = (12, 8)\n",
    "plt.rcParams['font.size'] = 18"
   ]
  },
  {
   "cell_type": "markdown",
   "metadata": {
    "deletable": false,
    "editable": false,
    "nbgrader": {
     "cell_type": "markdown",
     "checksum": "f7c4a60c4c2cd20ea10aa6d491b435a9",
     "grade": false,
     "grade_id": "cell-ff5834866c0ddcae",
     "locked": true,
     "schema_version": 3,
     "solution": false,
     "task": false
    }
   },
   "source": [
    "### Loading the scheduled flow\n",
    "In the cell below, we read in a default emissions scenario -- but you should replace this with your own."
   ]
  },
  {
   "cell_type": "code",
   "execution_count": null,
   "metadata": {},
   "outputs": [],
   "source": [
    "# Here's loading it in, with graphics\n",
    "time, eps, epsdictionary = CL.GetMyScenario('Peaks_in_2040_default.hdf5')\n",
    "\n",
    "# Here's displaying it\n",
    "display(epsdictionary)"
   ]
  },
  {
   "cell_type": "markdown",
   "metadata": {
    "deletable": false,
    "editable": false,
    "nbgrader": {
     "cell_type": "markdown",
     "checksum": "1037535ac7896058e6881c4e3aad9a25",
     "grade": false,
     "grade_id": "cell-f2b4cbcaf3de9679",
     "locked": true,
     "schema_version": 3,
     "solution": false,
     "task": false
    }
   },
   "source": [
    "### Creating a ClimateParams dictionary\n",
    "In the cell below, use the CreateClimateParams function -- which resides in the MECLib library -- to create a dictionary. Assuming you named your emissions dictionary \"epsdictionary,\" a command like the following will do it:\n",
    "\n",
    "    ClimateParams = CL.CreateClimateParams(epsdictionary)\n",
    "\n",
    "Then, display ClimateParams to make sure you did that correctly."
   ]
  },
  {
   "cell_type": "code",
   "execution_count": null,
   "metadata": {
    "deletable": false,
    "nbgrader": {
     "cell_type": "code",
     "checksum": "466d6976a996c96ba75c0dbb88497600",
     "grade": true,
     "grade_id": "cell-9d0e659d41abdc1f",
     "locked": false,
     "points": 2,
     "schema_version": 3,
     "solution": true,
     "task": false
    }
   },
   "outputs": [],
   "source": [
    "# your code here \n"
   ]
  },
  {
   "cell_type": "markdown",
   "metadata": {
    "deletable": false,
    "editable": false,
    "nbgrader": {
     "cell_type": "markdown",
     "checksum": "db609e97b519162287c8f4e552e20c7d",
     "grade": false,
     "grade_id": "cell-1391a9afe7b7cd4d",
     "locked": true,
     "schema_version": 3,
     "solution": false,
     "task": false
    }
   },
   "source": [
    "### Tailoring your ClimateParams dictionary\n",
    "It's easy to add items to a dictionary. Below is an example -- the item 'Description' is added."
   ]
  },
  {
   "cell_type": "code",
   "execution_count": null,
   "metadata": {
    "deletable": false,
    "editable": false,
    "nbgrader": {
     "cell_type": "code",
     "checksum": "c14e952aeb4bcf9015c90e36e1efbe74",
     "grade": false,
     "grade_id": "cell-a3d38c9794bc3c2e",
     "locked": true,
     "schema_version": 3,
     "solution": false,
     "task": false
    }
   },
   "outputs": [],
   "source": [
    "# Create a description \n",
    "ClimateParams['Description'] = \"This scenario, authored by ..., peaks is the year 2040\"\n",
    "\n",
    "# Check it got added right\n",
    "display(ClimateParams)"
   ]
  },
  {
   "cell_type": "markdown",
   "metadata": {
    "deletable": false,
    "editable": false,
    "nbgrader": {
     "cell_type": "markdown",
     "checksum": "4b8cbbab95af8bc986005551d6f505ac",
     "grade": false,
     "grade_id": "cell-5e5cb52f81faff32",
     "locked": true,
     "schema_version": 3,
     "solution": false,
     "task": false
    }
   },
   "source": [
    "### Your turn\n",
    "In the cell below, replace the 'Description' field with something that has your name in it. Then use the display command to verify it was added properly."
   ]
  },
  {
   "cell_type": "code",
   "execution_count": null,
   "metadata": {
    "deletable": false,
    "nbgrader": {
     "cell_type": "code",
     "checksum": "7baacabb1c27b9d0e713e7758ae8887d",
     "grade": true,
     "grade_id": "cell-bdc891da6998ca51",
     "locked": false,
     "points": 1,
     "schema_version": 3,
     "solution": true,
     "task": false
    }
   },
   "outputs": [],
   "source": [
    "# your code here \n"
   ]
  },
  {
   "cell_type": "markdown",
   "metadata": {
    "deletable": false,
    "editable": false,
    "nbgrader": {
     "cell_type": "markdown",
     "checksum": "e1d10cd665933baabd44673de7743597",
     "grade": false,
     "grade_id": "cell-5a915fafe6dcf43d",
     "locked": true,
     "schema_version": 3,
     "solution": false,
     "task": false
    }
   },
   "source": [
    "## Diagnostic algorithms in functional form\n",
    "In this part, you'll be writing Python functions that calculate values of diagnostic variables. For each algorithm, we have described the algorithm in mathematical terms. Your task is implement the algorithm as a Python function, then run the function through some benchmark tests. The first one is meant as an example."
   ]
  },
  {
   "cell_type": "markdown",
   "metadata": {
    "deletable": false,
    "editable": false,
    "nbgrader": {
     "cell_type": "markdown",
     "checksum": "c6cd71d7995a944f5391aff1f42b1dc8",
     "grade": false,
     "grade_id": "cell-7e0affccca54b5f7",
     "locked": true,
     "schema_version": 3,
     "solution": false,
     "task": false
    }
   },
   "source": [
    "### Temperature in Fahrenheit from temperature in Celsius\n",
    "Algorithm: $T(F) = T(C) \\times 9 /5 + 32$, where $T(C)$ is in degrees Celsius.\n",
    "\n",
    "Benchmark values:\n",
    "- a temperature of $32 \\ F$ if $T(C)=0 \\ C$ (freezing temperature of water)\n",
    "- a temperature of $212 \\ F$ if $T(C)=100 \\ C$ (boiling temperature of water)"
   ]
  },
  {
   "cell_type": "code",
   "execution_count": null,
   "metadata": {
    "deletable": false,
    "nbgrader": {
     "cell_type": "code",
     "checksum": "f2fda372a66786ec5911e073b9b711a3",
     "grade": true,
     "grade_id": "cell-6953a5bfb5412802",
     "locked": false,
     "points": 1,
     "schema_version": 3,
     "solution": true,
     "task": false
    }
   },
   "outputs": [],
   "source": [
    "def Diagnose_degreesF(T_C):\n",
    "    \"\"\"Returns an actual temperature in degrees F from an actual temperature in degrees C\"\"\"\n",
    "\n",
    "    # Do the conversion to F\n",
    "    T_F = T_C*9/5+32\n",
    "\n",
    "    # Return the diagnosed temperature in F\n",
    "    return(T_F)\n",
    "\n",
    "# Benchmarking for freezing water (T = 0 degrees C)\n",
    "print(Diagnose_degreesF(0))\n",
    "\n",
    "# Benchmarking for boiling water (T = 100 degrees C)\n",
    "# your code here \n"
   ]
  },
  {
   "cell_type": "markdown",
   "metadata": {
    "deletable": false,
    "editable": false,
    "nbgrader": {
     "cell_type": "markdown",
     "checksum": "ea04a6dc1b6b2e6ce8fc15b57aa71340",
     "grade": false,
     "grade_id": "cell-0a47f6a0c9ab3950",
     "locked": true,
     "schema_version": 3,
     "solution": false,
     "task": false
    }
   },
   "source": [
    "### Temperature anomaly\n",
    "Algorithm: \n",
    "\n",
    "$$\n",
    "T_{anomaly} = CS\\times(C_{atm}-C_{atm,pre-industrial}) + AS\\times(\\alpha-\\alpha_{pre-industrial})\n",
    "$$\n",
    "\n",
    "where $CS$ is the climate sensitivity parameter (degrees warming per GtC increase in atmospheric $CO_2$), and $AS$ is the albedo sensitivity parameter (degrees warming per unit increase in albedo). Note that you'll have to extract the following parameters from ClimateParams (an example is provided in the cell below):\n",
    "\n",
    "- climate sensitivity\n",
    "- preindustrial C_atm\n",
    "- albedo sensitivity\n",
    "- preindustrial albedo\n",
    "\n",
    "Benchmarking:\n",
    "- When $C_{atm}=615 \\ GtC$ and $\\alpha=03$, we should get $T_{anomaly} = 0$.  \n",
    "- When $C_{atm}=900 \\ GtC$ and $\\alpha=0.299$, we should get $T_{anomaly} \\approx 1.5$.  "
   ]
  },
  {
   "cell_type": "code",
   "execution_count": null,
   "metadata": {
    "deletable": false,
    "nbgrader": {
     "cell_type": "code",
     "checksum": "27ef2d15575c54e61c7814a460d02a44",
     "grade": true,
     "grade_id": "cell-bc14f2279496157c",
     "locked": false,
     "points": 4,
     "schema_version": 3,
     "solution": true,
     "task": false
    }
   },
   "outputs": [],
   "source": [
    "# Implementing the algorithm\n",
    "def Diagnose_T_anomaly(C_atm, alpha, ClimateParams):\n",
    "    \"\"\"Returns a temperature anomaly from the carbon amount in the atmosphere\"\"\"\n",
    "    \"\"\"and ClimateParams' climate_sensitivity and preindust_C_atm\"\"\"\n",
    "\n",
    "    # Extract the climate sensitivity from ClimateParams\n",
    "    CS = ClimateParams['climate sensitivity']\n",
    "\n",
    "    # Extract other information we need from ClimateParams, then calculate and return the temperature anomaly\n",
    "    # your code here \n",
    "    \n",
    "\n",
    "# Benchmarking\n",
    "# your code here \n"
   ]
  },
  {
   "cell_type": "markdown",
   "metadata": {
    "deletable": false,
    "editable": false,
    "nbgrader": {
     "cell_type": "markdown",
     "checksum": "710dcf6dffc1d06cf65e2c4beda80d1e",
     "grade": false,
     "grade_id": "cell-791b5b79a9bc0d78",
     "locked": true,
     "schema_version": 3,
     "solution": false,
     "task": false
    }
   },
   "source": [
    "### Actual temperature from temperature anomaly\n",
    "Algorithm: $T(actual,C) = (T_{anomaly}+14) $. This algorithm doesn't require any climate parameters, so only T_anomaly is in the argument list. \n",
    "\n",
    "Benchmarking:\n",
    "- return a temperature of 14 degrees C if the temperature anomaly is zero\n",
    "- return a temperature of 15 degrees C if the temperature anomaly is +1"
   ]
  },
  {
   "cell_type": "code",
   "execution_count": null,
   "metadata": {
    "deletable": false,
    "nbgrader": {
     "cell_type": "code",
     "checksum": "ebecc9513c3f9c7e318e0498783d2649",
     "grade": true,
     "grade_id": "cell-792cd90d96d065d7",
     "locked": false,
     "points": 2,
     "schema_version": 3,
     "solution": true,
     "task": false
    }
   },
   "outputs": [],
   "source": [
    "# Implementing the algorithm\n",
    "def Diagnose_actual_temperature(T_anomaly):\n",
    "    \"\"\"Returns degrees C from a temperature anomaly\"\"\"\n",
    "    # your code here \n",
    "    \n",
    "\n",
    "# Benchmarking\n",
    "# your code here \n"
   ]
  },
  {
   "cell_type": "markdown",
   "metadata": {
    "deletable": false,
    "editable": false,
    "nbgrader": {
     "cell_type": "markdown",
     "checksum": "ecc55e4e2af06dd61e1c1346d6f8e8be",
     "grade": false,
     "grade_id": "cell-e2bd0c0e4fabf2cf",
     "locked": true,
     "schema_version": 3,
     "solution": false,
     "task": false
    }
   },
   "source": [
    "### Ocean surface pH from C_atm\n",
    "Algorithm: \n",
    "\n",
    "$$\n",
    "pH = -log_{10}(\\frac {C_{atm}}{C_{atm,pre-industrial}})+pH_{pre-industrial}\n",
    "$$\n",
    "\n",
    "For this function, you'll need to extract some variables from the ClimateParams dictionary:\n",
    "- \"preindustrial pH\"\n",
    "- \"preindustrial C_atm\"  \n",
    "\n",
    "Notice that we've added the concentration of carbon in the atmosphere to the argument list (as shown below). Also, numpy's the natural log is np.log; for log-base-ten (which is needed here), you'll need to use np.log10.\n",
    "\n",
    "Benchmarking:\n",
    "- When C_atm is the preindustrial value (615 GtC), the resulting pH should be $8.2$.\n",
    "- When C_atm is double the preindustrial value (1230 GtC), the resulting pH should be about $7.9$. "
   ]
  },
  {
   "cell_type": "code",
   "execution_count": null,
   "metadata": {
    "deletable": false,
    "nbgrader": {
     "cell_type": "code",
     "checksum": "61742abe9e1f834ff316c2470433903d",
     "grade": true,
     "grade_id": "cell-bb30ae86dd67fedc",
     "locked": false,
     "points": 5,
     "schema_version": 3,
     "solution": true,
     "task": false
    }
   },
   "outputs": [],
   "source": [
    "# Implementing the algorithm as a Python function\n",
    "def Diagnose_OceanSurfacepH(C_atm,ClimateParams):\n",
    "    \"\"\"Returns ocean pH from the carbon amount in the atmosphere\"\"\"\n",
    "    \"\"\"and ClimateParams' preindust_pH and preindust_C_atm\"\"\"\n",
    "    # your code here \n",
    "    \n",
    "\n",
    "# Benchmarking\n",
    "# your code here \n"
   ]
  },
  {
   "cell_type": "markdown",
   "metadata": {
    "deletable": false,
    "editable": false,
    "nbgrader": {
     "cell_type": "markdown",
     "checksum": "f9166818ce12503b8df46f27c10eb2ce",
     "grade": false,
     "grade_id": "cell-4e77fce91fa3077c",
     "locked": true,
     "schema_version": 3,
     "solution": false,
     "task": false
    }
   },
   "source": [
    "### Refresh/save/validate\n",
    "Double-check everything is OK, and press the \"Validate\" button (as usual).\n",
    "\n",
    "### Close/submit/logout\n",
    "Close, submit, and log out."
   ]
  }
 ],
 "metadata": {
  "colab": {
   "collapsed_sections": [],
   "name": "SimpleCMB.ipynb",
   "provenance": []
  },
  "kernelspec": {
   "display_name": "Python 3 (ipykernel)",
   "language": "python",
   "name": "python3"
  },
  "language_info": {
   "codemirror_mode": {
    "name": "ipython",
    "version": 3
   },
   "file_extension": ".py",
   "mimetype": "text/x-python",
   "name": "python",
   "nbconvert_exporter": "python",
   "pygments_lexer": "ipython3",
   "version": "3.10.2"
  }
 },
 "nbformat": 4,
 "nbformat_minor": 1
}

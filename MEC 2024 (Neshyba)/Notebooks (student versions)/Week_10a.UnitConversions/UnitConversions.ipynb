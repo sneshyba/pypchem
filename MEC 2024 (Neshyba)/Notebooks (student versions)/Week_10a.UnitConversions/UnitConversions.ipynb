{
 "cells": [
  {
   "cell_type": "markdown",
   "metadata": {
    "deletable": false,
    "editable": false,
    "nbgrader": {
     "cell_type": "markdown",
     "checksum": "0100ec1bf0d3b8b8545a073df2d449f3",
     "grade": false,
     "grade_id": "cell-2fbedee8455c6341",
     "locked": true,
     "schema_version": 3,
     "solution": false,
     "task": false
    }
   },
   "source": [
    "### Computational Guided Inquiry for Modeling Earth's Climate (Neshyba, 2024)\n",
    "\n",
    "## Unit conversions with *pint*\n",
    "The goal of this module is to introduce you to a super-handy unit manipulation package called *pint*.\n",
    "\n",
    "### Units vs dimensions\n",
    "Units are always a bit of a bother in, well, *all* quantitative sciences. But a package called *pint* can help quite a lot. For one, it has a ton of built-in conversions, and it is easy to convert from one unit to another. But a more important point is that this kind of tool takes the focus off units, and puts it on the *dimensions* of the quantities you're dealing with, which is arguably more fundamental.   \n",
    "\n",
    "### Climate context\n",
    "To have something to familiar work with, we'll be using math around the idea of Outgoing Longwave Radiation (*OLR*) that we considered previously. As a reminder: we imagine that we are standing above the earth's surface (like on a satellite), armed with a *longwave radiometer*. Looking down at the earth's surface, the quantity our longwave radiometer will measure can be predicted by the formula \n",
    "\n",
    "$$ \n",
    "OLR = \\kappa \\sigma T^4 \\ \\ \\ \\ (1)\n",
    "$$\n",
    "\n",
    "where $T$ is the temperature of Earth's surface, $\\sigma$ is called the *Stefan-Boltzmann* constant, and $\\kappa$ is a dimensionless value related to how Earth's atmosphere intercepts longwave radiation emitted by Earth's surface.\n",
    "\n",
    "### Learning goals\n",
    "1. I'm familiar with key aspects of *pint*, e.g., specifying quantities with units, and using the \".ito\" syntax for conversions.\n",
    "1. I can print using f-string syntax."
   ]
  },
  {
   "cell_type": "code",
   "execution_count": null,
   "metadata": {
    "deletable": false,
    "editable": false,
    "nbgrader": {
     "cell_type": "code",
     "checksum": "e1e3bfb9ff8f77dd8a3e467e0841054f",
     "grade": false,
     "grade_id": "cell-46fce2670e3e56be",
     "locked": true,
     "schema_version": 3,
     "solution": false,
     "task": false
    }
   },
   "outputs": [],
   "source": [
    "from pint import UnitRegistry; AssignQuantity = UnitRegistry().Quantity"
   ]
  },
  {
   "cell_type": "markdown",
   "metadata": {
    "deletable": false,
    "editable": false,
    "nbgrader": {
     "cell_type": "markdown",
     "checksum": "1a7c0d85b6ca31344be84c00161094f4",
     "grade": false,
     "grade_id": "cell-3ef4656de74397d0",
     "locked": true,
     "schema_version": 3,
     "solution": false,
     "task": false
    }
   },
   "source": [
    "### Defining variables with units\n",
    "In the cell below, we use *pint's* AssignQuantity function to define $c$ as a variable with units."
   ]
  },
  {
   "cell_type": "code",
   "execution_count": null,
   "metadata": {
    "deletable": false,
    "editable": false,
    "nbgrader": {
     "cell_type": "code",
     "checksum": "f4ec4a59a207f687660ff8bb19cc0311",
     "grade": false,
     "grade_id": "cell-6da8c33f740a1e3d",
     "locked": true,
     "schema_version": 3,
     "solution": false,
     "task": false
    }
   },
   "outputs": [],
   "source": [
    "c = AssignQuantity(3e8,'m/s')\n",
    "print(c)"
   ]
  },
  {
   "cell_type": "markdown",
   "metadata": {
    "deletable": false,
    "editable": false,
    "nbgrader": {
     "cell_type": "markdown",
     "checksum": "3a1cbce133cffffb4320207d69bae8a8",
     "grade": false,
     "grade_id": "cell-35dde58a42ff8a06",
     "locked": true,
     "schema_version": 3,
     "solution": false,
     "task": false
    }
   },
   "source": [
    "### Your turn\n",
    "Now use AssignQuantity to define $\\sigma=5.67 \\times 10^{-8} {W \\over m^2 K^4}$ as a variable with units (call it \"sigma\" again). While you're at it, do this too:\n",
    "\n",
    "- Use AssignQuantity to define $T=287 K$, the average temperature of the earth in pre-industrial times (call it \"T\");\n",
    "- Use AssignQuantity to define $m=1.67 \\times 10^{-24} g$, the mass of a proton (and call it \"m\"). \n",
    "\n",
    "Print all three variables."
   ]
  },
  {
   "cell_type": "code",
   "execution_count": null,
   "metadata": {
    "deletable": false,
    "nbgrader": {
     "cell_type": "code",
     "checksum": "c5b50e42da9eada971a47e77b153f3fa",
     "grade": true,
     "grade_id": "cell-9acffd7673159c0a",
     "locked": false,
     "points": 3,
     "schema_version": 3,
     "solution": true,
     "task": false
    }
   },
   "outputs": [],
   "source": [
    "# your code here \n"
   ]
  },
  {
   "cell_type": "markdown",
   "metadata": {
    "deletable": false,
    "editable": false,
    "nbgrader": {
     "cell_type": "markdown",
     "checksum": "90fd77261e2a8dfa4555c33e34d837ab",
     "grade": false,
     "grade_id": "cell-1ed4e19e189e9675",
     "locked": true,
     "schema_version": 3,
     "solution": false,
     "task": false
    }
   },
   "source": [
    "### Unit conversions\n",
    "The cell below shows how to convert a quantity that has units, to other units."
   ]
  },
  {
   "cell_type": "code",
   "execution_count": null,
   "metadata": {
    "deletable": false,
    "editable": false,
    "nbgrader": {
     "cell_type": "code",
     "checksum": "4737e469a27b51f0f06192c027b41c66",
     "grade": false,
     "grade_id": "cell-93cce7126f6657c9",
     "locked": true,
     "schema_version": 3,
     "solution": false,
     "task": false
    }
   },
   "outputs": [],
   "source": [
    "c.ito('miles/hour')\n",
    "print(c)"
   ]
  },
  {
   "cell_type": "markdown",
   "metadata": {
    "deletable": false,
    "editable": false,
    "nbgrader": {
     "cell_type": "markdown",
     "checksum": "20d616e767f0813eac40940a6a9ee38d",
     "grade": false,
     "grade_id": "cell-3ffcdceda75e735a",
     "locked": true,
     "schema_version": 3,
     "solution": false,
     "task": false
    }
   },
   "source": [
    "### Your turn\n",
    "For each of these steps, print the result.\n",
    "1. Use AssignQuantity to create a variable $\\sigma=5.67 \\times 10^{-8} {W \\over m^2 K^4}$.\n",
    "1. Then use the \".ito\" syntax to convert $\\sigma$'s units to ${W \\over cm^2 K^4}$.\n",
    "1. Then convert back to ${W \\over m^2 K^4}$."
   ]
  },
  {
   "cell_type": "code",
   "execution_count": null,
   "metadata": {
    "deletable": false,
    "nbgrader": {
     "cell_type": "code",
     "checksum": "a702330aba70b2faa078a405c1c273dd",
     "grade": true,
     "grade_id": "cell-8c73063daf2b2b7a",
     "locked": false,
     "points": 3,
     "schema_version": 3,
     "solution": true,
     "task": false
    }
   },
   "outputs": [],
   "source": [
    "# your code here \n"
   ]
  },
  {
   "cell_type": "markdown",
   "metadata": {
    "deletable": false,
    "editable": false,
    "nbgrader": {
     "cell_type": "markdown",
     "checksum": "d71cd7e7aec178d2d55e7818eefec284",
     "grade": false,
     "grade_id": "cell-6fd13459c424b8bd",
     "locked": true,
     "schema_version": 3,
     "solution": false,
     "task": false
    }
   },
   "source": [
    "### Calculating with variables that have units\n",
    "If you calculate a number that has units, the result has units too! Assuming you've defined the mass as Python variable \"m\", and the speed of light as Python variable \"c\", the cell below computes the energy released when a proton's mass is converted into energy according to Einstein's $E=mc^2$. You'll notice that the first result has crazy units, but then we convert to the more conventional energy unit of Joules."
   ]
  },
  {
   "cell_type": "code",
   "execution_count": null,
   "metadata": {},
   "outputs": [],
   "source": [
    "E = m*c**2; print(E)\n",
    "E.ito('J'); print(E)"
   ]
  },
  {
   "cell_type": "markdown",
   "metadata": {
    "deletable": false,
    "editable": false,
    "nbgrader": {
     "cell_type": "markdown",
     "checksum": "6b769d27a28c61c9a3638d0a25b1fa1d",
     "grade": false,
     "grade_id": "cell-9ee6e548b9bbe53a",
     "locked": true,
     "schema_version": 3,
     "solution": false,
     "task": false
    }
   },
   "source": [
    "### Predicting units\n",
    "According to Eq. 1 in the Introduction, *OLR* is the product of three quantities: $\\kappa$, $\\sigma$, and $T$. In the cell below, enter what you think the units of *OLR* should be, given that $\\kappa$ is dimensionless, $\\sigma$ has units ${Watts \\over m^2 K^4}$, and $T$ has units $K$."
   ]
  },
  {
   "cell_type": "markdown",
   "metadata": {
    "deletable": false,
    "nbgrader": {
     "cell_type": "markdown",
     "checksum": "207c4fa6229532fcb7c10d59ddc00222",
     "grade": true,
     "grade_id": "cell-8b677baf0aa575d5",
     "locked": false,
     "points": 2,
     "schema_version": 3,
     "solution": true,
     "task": false
    }
   },
   "source": [
    "YOUR ANSWER HERE"
   ]
  },
  {
   "cell_type": "markdown",
   "metadata": {
    "deletable": false,
    "editable": false,
    "nbgrader": {
     "cell_type": "markdown",
     "checksum": "739f4c4cd8f35e0b254183cad9dec238",
     "grade": false,
     "grade_id": "cell-7bd15e4868791ae4",
     "locked": true,
     "schema_version": 3,
     "solution": false,
     "task": false
    }
   },
   "source": [
    "### Your turn\n",
    "Now we'll see about your prediction! \n",
    "- Use AssignQuantity to create a variable kappa, whose value is $0.614$, and whose units are 'dimensionless'.\n",
    "- Then use Eq. 1 in the Introduction to calculate the *OLR* , and print the result."
   ]
  },
  {
   "cell_type": "code",
   "execution_count": null,
   "metadata": {
    "deletable": false,
    "nbgrader": {
     "cell_type": "code",
     "checksum": "2fe0c104077dbb9f58a5d554c9fbe2a9",
     "grade": true,
     "grade_id": "cell-e05291bd7fb73bc9",
     "locked": false,
     "points": 2,
     "schema_version": 3,
     "solution": true,
     "task": false
    }
   },
   "outputs": [],
   "source": [
    "# your code here \n"
   ]
  },
  {
   "cell_type": "markdown",
   "metadata": {
    "deletable": false,
    "editable": false,
    "nbgrader": {
     "cell_type": "markdown",
     "checksum": "6ba371a905199a2bbdb4b87d3c98e0bb",
     "grade": false,
     "grade_id": "cell-a2bcce5460fb6b5d",
     "locked": true,
     "schema_version": 3,
     "solution": false,
     "task": false
    }
   },
   "source": [
    "### Pause for Analysis\n",
    "Well ... did your prediction work out?"
   ]
  },
  {
   "cell_type": "markdown",
   "metadata": {
    "deletable": false,
    "nbgrader": {
     "cell_type": "markdown",
     "checksum": "a8c38c40c1183b1c59e0427748edeb3d",
     "grade": true,
     "grade_id": "cell-021866cb99b0bcce",
     "locked": false,
     "points": 1,
     "schema_version": 3,
     "solution": true,
     "task": false
    }
   },
   "source": [
    "YOUR ANSWER HERE"
   ]
  },
  {
   "cell_type": "markdown",
   "metadata": {
    "deletable": false,
    "editable": false,
    "nbgrader": {
     "cell_type": "markdown",
     "checksum": "3c76dc182d9422bdfe9295f68c735941",
     "grade": false,
     "grade_id": "cell-befa79db2088abbf",
     "locked": true,
     "schema_version": 3,
     "solution": false,
     "task": false
    }
   },
   "source": [
    "### f-string printing\n",
    "It's sometimes handy to format print statements in a way that's a bit more descriptive than what we've been doing so far. One such method uses the f-string syntax, as shown below."
   ]
  },
  {
   "cell_type": "code",
   "execution_count": null,
   "metadata": {},
   "outputs": [],
   "source": [
    "print(f\"sigma: {sigma}\")"
   ]
  },
  {
   "cell_type": "markdown",
   "metadata": {
    "deletable": false,
    "editable": false,
    "nbgrader": {
     "cell_type": "markdown",
     "checksum": "537dfc3be03095a42005e8f4568feb97",
     "grade": false,
     "grade_id": "cell-5af69c5877fd7439",
     "locked": true,
     "schema_version": 3,
     "solution": false,
     "task": false
    }
   },
   "source": [
    "### Your turn\n",
    "In the cell below, print the temperature and the OLR using the f-string method."
   ]
  },
  {
   "cell_type": "code",
   "execution_count": null,
   "metadata": {
    "deletable": false,
    "nbgrader": {
     "cell_type": "code",
     "checksum": "3036a2cd5293e6e1aba4167cc6bfd6cb",
     "grade": true,
     "grade_id": "cell-8d11944145cfa605",
     "locked": false,
     "points": 2,
     "schema_version": 3,
     "solution": true,
     "task": false
    }
   },
   "outputs": [],
   "source": [
    "# your code here \n"
   ]
  },
  {
   "cell_type": "markdown",
   "metadata": {
    "deletable": false,
    "editable": false,
    "nbgrader": {
     "cell_type": "markdown",
     "checksum": "ae5da10a5502ff0746fd0f73b566ed91",
     "grade": false,
     "grade_id": "cell-065a26fe35c05046",
     "locked": true,
     "schema_version": 3,
     "solution": false,
     "task": false
    }
   },
   "source": [
    "### Validating and finishing up\n",
    "Assuming all this has gone smoothly and a Kernel/Restart & Run All has run without error, don't forget to\n",
    "1. Close this notebook using the \"File/Close and Halt\" dropdown menu\n",
    "1. Using the Assignments tab, submit this notebook\n",
    "1. Press the Logout tab of the Home Page"
   ]
  }
 ],
 "metadata": {
  "kernelspec": {
   "display_name": "Python 3 (ipykernel)",
   "language": "python",
   "name": "python3"
  },
  "language_info": {
   "codemirror_mode": {
    "name": "ipython",
    "version": 3
   },
   "file_extension": ".py",
   "mimetype": "text/x-python",
   "name": "python",
   "nbconvert_exporter": "python",
   "pygments_lexer": "ipython3",
   "version": "3.10.2"
  }
 },
 "nbformat": 4,
 "nbformat_minor": 4
}

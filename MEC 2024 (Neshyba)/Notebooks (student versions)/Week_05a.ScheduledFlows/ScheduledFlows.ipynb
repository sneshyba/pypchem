{
 "cells": [
  {
   "cell_type": "markdown",
   "metadata": {
    "deletable": false,
    "editable": false,
    "id": "pXKK1rEgGCO1",
    "nbgrader": {
     "cell_type": "markdown",
     "checksum": "159dbbd072f6ae92f1df28e4bb9572d4",
     "grade": false,
     "grade_id": "cell-36214a5cdb483adb",
     "locked": true,
     "schema_version": 3,
     "solution": false,
     "task": false
    }
   },
   "source": [
    "### Computational Guided Inquiry for Modeling Earth's Climate (Neshyba & Posta, 2024)\n",
    "\n",
    "# Scheduled Flows\n",
    "\n",
    "## Overview\n",
    "The idea of this module is to create an emissions scenario -- a _schedule_ -- that describes how much carbon humans have released to the atmosphere in the past, and that makes projections about future emissions. \n",
    "\n",
    "## Mathematical form of anthropogenic emissions\n",
    "The emissions scenario generated here has the form \n",
    "\n",
    "$$ \n",
    "\\epsilon(t) = e^{kt}  \\cdot \\epsilon_0 e^{-kt_0} \\cdot \\frac{e^{3 (t_{p_1}-t)/t_{decarb}}}{1+e^{3(t_{p_1}-t)/t_{decarb}}} \\ \\ \\ \\ (1)\n",
    "$$\n",
    "\n",
    "\n",
    "where $\\epsilon$ is understood to be a rate of emission of carbon into the atmosphere, on a per-year basis, as a function of time, $t$. You can see that there are three parts to this expression, which we can understand as follows:\n",
    "\n",
    "### Exponential growth\n",
    "The first term, $e^{kt}$, is all about *exponential growth*. We can expect $k \\approx 0.02-0.03 \\ yr^{-1}$ (i.e., $2\\%-3\\% \\ yr^{-1}$), since that's about the growth rate of human population over the last few hundred years.\n",
    "\n",
    "### Pegging\n",
    "The second term in Eq. 1, $\\epsilon_0 e^{-kt_0}$, is there to let us \"peg\" anthropogenic emissions to some known, historical value. For example, in the year $t_0=2003$, we think the rate anthropogenic emissions was about $\\epsilon_0=9 \\ GtC/year$.\n",
    "\n",
    "### Specifying a year of peak emissions, and the decarbonization time\n",
    "To complete the third term in Eq. 1, we'll have to assign a value for the *decarbonization time*, $t_{decarb}$. That's  the number of years starting from when we're 20% into decarbonization, until the year we're 80% done. We also have to decide on a year of peak emissions, which we'll call $t_{peak}$. Then the parameter $t_{p_1}$ appearing in Eq. 1 is given by\n",
    "\n",
    "$$\n",
    "t_{p_1} = t_{peak} + {t_{decarb} \\over 3} log( {3 \\over t_{decarb} k}-1) \\ \\ \\ \\ (2)\n",
    "$$\n",
    "\n",
    "\n",
    "## Metadata and functions\n",
    "Part of good coding practice is finding ways to save data in a way that is \"self-documenting.\" Like, including the units of your data, or other parameters. Fortunately, with a combination of Python's _Pandas_ package, and a built-in Python feature called _dictionaries_, we can do all that. So we'll be learning a bit about _Pandas_ and _dictionaries_ too.\n",
    "\n",
    "Another part of good coding practice is to find ways to re-use code. Here, you'll be doing that using Python _functions_.\n",
    "\n",
    "## Learning goals\n",
    "\n",
    "1. I can explain the physical meaning behind all the terms in Eqs. 1 and 2.\n",
    "1. I can generate an emissions scenario with desired properties (like a desired emission rate in a certain year).\n",
    "1. I can use pandas and dictionaries to write and read data and associated metadata to a file."
   ]
  },
  {
   "cell_type": "code",
   "execution_count": null,
   "metadata": {
    "deletable": false,
    "editable": false,
    "id": "8duXe1pBP7Px",
    "nbgrader": {
     "cell_type": "code",
     "checksum": "3719e9b90b6523cdf1aaa7789163c667",
     "grade": false,
     "grade_id": "cell-c7adc37bc8177933",
     "locked": true,
     "schema_version": 3,
     "solution": false,
     "task": false
    }
   },
   "outputs": [],
   "source": [
    "import numpy as np\n",
    "import pandas as pd\n",
    "import matplotlib.pyplot as plt\n",
    "import h5io"
   ]
  },
  {
   "cell_type": "code",
   "execution_count": null,
   "metadata": {
    "deletable": false,
    "editable": false,
    "nbgrader": {
     "cell_type": "code",
     "checksum": "e75fc6e298a5b2358bac2a1a29c797fb",
     "grade": false,
     "grade_id": "cell-7504d322e99273e0",
     "locked": true,
     "schema_version": 3,
     "solution": false,
     "task": false
    }
   },
   "outputs": [],
   "source": [
    "%matplotlib inline\n",
    "plt.rcParams[\"figure.figsize\"] = (12, 8)\n",
    "plt.rcParams['font.size'] = 18"
   ]
  },
  {
   "cell_type": "markdown",
   "metadata": {
    "deletable": false,
    "editable": false,
    "nbgrader": {
     "cell_type": "markdown",
     "checksum": "81d541f13547c01e2aac70d5b0c864f0",
     "grade": false,
     "grade_id": "cell-3959a84c45d3dcac",
     "locked": true,
     "schema_version": 3,
     "solution": false,
     "task": false
    }
   },
   "source": [
    "### Calculating an emission scenario that peaks at a desired year\n",
    "Our first task is to compute an emission scenario as described in Eqs. 1 and 2. An example is shown below."
   ]
  },
  {
   "cell_type": "code",
   "execution_count": null,
   "metadata": {
    "deletable": false,
    "editable": false,
    "nbgrader": {
     "cell_type": "code",
     "checksum": "ed9e9e3825ce60206ef831869f8d12fb",
     "grade": false,
     "grade_id": "cell-5f4464c4da3203b3",
     "locked": true,
     "schema_version": 3,
     "solution": false,
     "task": false
    }
   },
   "outputs": [],
   "source": [
    "t_start = 1900\n",
    "t_stop = 2080\n",
    "nsteps = 500\n",
    "t = np.linspace(t_start,t_stop,nsteps)\n",
    "t_peak = 2030\n",
    "t_decarb = 10\n",
    "k = 0.025\n",
    "t_0 = 2000\n",
    "eps_0 = 8.5\n",
    "\n",
    "tp1 = t_peak + (t_decarb/3)*np.log(3/(k*t_decarb)-1)\n",
    "myeps = np.exp(k*t) * eps_0*np.exp(-k*t_0) * np.exp(3/t_decarb*(tp1-t)) / (1+np.exp(3/t_decarb*(tp1-t)))\n",
    "\n",
    "plt.figure()\n",
    "plt.plot(t,myeps)\n",
    "plt.xlabel('time (year)')\n",
    "plt.ylabel('GtC/year')\n",
    "plt.grid()"
   ]
  },
  {
   "cell_type": "markdown",
   "metadata": {
    "deletable": false,
    "editable": false,
    "nbgrader": {
     "cell_type": "markdown",
     "checksum": "56fafcd9389566ce5f22ee4932309fb2",
     "grade": false,
     "grade_id": "cell-5938f1f97e6ff0a8",
     "locked": true,
     "schema_version": 3,
     "solution": false,
     "task": false
    }
   },
   "source": [
    "### Pause for analysis\n",
    "You should verify that that the rate of emission really is 8.5 GtC/year in the \"pegged\" year (2000), that the emissions really did peak in the desired year (in this case, 2030), and that decarbonization after that year really did take about 10 years."
   ]
  },
  {
   "cell_type": "markdown",
   "metadata": {
    "deletable": false,
    "editable": false,
    "nbgrader": {
     "cell_type": "markdown",
     "checksum": "e3752e582ed7e7d61f06a6e62ccac608",
     "grade": false,
     "grade_id": "cell-1719a83d7072729d",
     "locked": true,
     "schema_version": 3,
     "solution": false,
     "task": false
    }
   },
   "source": [
    "### Your turn\n",
    "In the cell below, create an emissions scenario with the following parameters:\n",
    "\n",
    "- a timeline running from the year 1750 to the year 2150, with 600 steps;\n",
    "- a growth rate of 2.2%/year;\n",
    "- emissions pegged at 9 GtC/year in the year 2003, peaking in the year 2040, with a decarbonization time  ($t_{decarb}$) of 15 years.\n",
    "\n",
    "It will be convenient for what follows if you name your emissions scenario array \"myeps.\"\n",
    "\n",
    "Make a graph of your scenario, labeling axes appropriately."
   ]
  },
  {
   "cell_type": "code",
   "execution_count": null,
   "metadata": {
    "deletable": false,
    "nbgrader": {
     "cell_type": "code",
     "checksum": "457a94b1509310fe40d526335d37b884",
     "grade": true,
     "grade_id": "cell-31b19babea2c40fc",
     "locked": false,
     "points": 4,
     "schema_version": 3,
     "solution": true,
     "task": false
    }
   },
   "outputs": [],
   "source": [
    "# your code here \n"
   ]
  },
  {
   "cell_type": "markdown",
   "metadata": {
    "deletable": false,
    "editable": false,
    "nbgrader": {
     "cell_type": "markdown",
     "checksum": "6ba4a5801a406ba58cfd95b6be868be4",
     "grade": false,
     "grade_id": "cell-b6a8dad52cb1ff4c",
     "locked": true,
     "schema_version": 3,
     "solution": false,
     "task": false
    }
   },
   "source": [
    "### Pause for analysis\n",
    "Once again, you should verify that the emissions scenario has all the properties you expect it to have."
   ]
  },
  {
   "cell_type": "markdown",
   "metadata": {
    "deletable": false,
    "editable": false,
    "id": "IfiwAMIq4QsP",
    "nbgrader": {
     "cell_type": "markdown",
     "checksum": "395899f1b2431113454f0f76139f8e8a",
     "grade": false,
     "grade_id": "cell-83f8ff8d69648761",
     "locked": true,
     "schema_version": 3,
     "solution": false,
     "task": false
    }
   },
   "source": [
    "### Setting up your data with metadata for storage\n",
    "The code below packages your results into a _Pandas_ dataframe. Why? Well, we want to save the data for use later, and _Pandas_ is a kind of industry standard. It's not quite enough, however, to store data: we really need to attach _metadata_ to these data. Metadata include things like the units, and also parameters like the growth rate, the transition year, etc., that went into generating the emissions schedule.\n",
    "\n",
    "As you can see from the example below, we do this by creating a bigger structure -- a _dictionary_. A dictionary has the capability of holding lots of different pieces -- called _elements_ -- of various sizes and shapes. In the example below, the dictionary starts out empty, then we add an element (the _Pandas_ dataframe, of course). Later we'll be adding more elements to this dictionary, using the same procedure."
   ]
  },
  {
   "cell_type": "code",
   "execution_count": null,
   "metadata": {
    "colab": {
     "base_uri": "https://localhost:8080/",
     "height": 442
    },
    "deletable": false,
    "editable": false,
    "id": "fk0YrAY_8RXu",
    "nbgrader": {
     "cell_type": "code",
     "checksum": "146a7a6f2410795eb1396da9197ab334",
     "grade": false,
     "grade_id": "cell-4962ee725a58a8e3",
     "locked": true,
     "schema_version": 3,
     "solution": false,
     "task": false
    },
    "outputId": "f4005649-0786-41ff-dcad-d73ca9e40e5b"
   },
   "outputs": [],
   "source": [
    "# Create an empty dictionary\n",
    "epsdictionary = dict()\n",
    "\n",
    "# Create an empty dataframe\n",
    "epsdf = pd.DataFrame()\n",
    "\n",
    "# Insert the time and emissions columns into the dataframe\n",
    "epsdf.insert(loc=0, column='time', value=t)\n",
    "epsdf.insert(loc=1, column='emissions', value=myeps)\n",
    "\n",
    "# Add the dataframe to the dictionary\n",
    "epsdictionary['dataframe']=epsdf\n",
    "\n",
    "# Report the contents of the dictionary\n",
    "display(epsdictionary)"
   ]
  },
  {
   "cell_type": "markdown",
   "metadata": {
    "deletable": false,
    "editable": false,
    "nbgrader": {
     "cell_type": "markdown",
     "checksum": "ba8e70da998e0fe8fec92af604d07367",
     "grade": false,
     "grade_id": "cell-b4bcceb6bf2f5675",
     "locked": true,
     "schema_version": 3,
     "solution": false,
     "task": false
    }
   },
   "source": [
    "### Adding elements to our dictionary\n",
    "The first two lines of the cell below add two elements of metadata to our dictionary."
   ]
  },
  {
   "cell_type": "code",
   "execution_count": null,
   "metadata": {
    "deletable": false,
    "editable": false,
    "nbgrader": {
     "cell_type": "code",
     "checksum": "e6e0a3c6abe09bc3d4c0f8ef83bf785b",
     "grade": false,
     "grade_id": "cell-f33a6dcb2d051e53",
     "locked": true,
     "schema_version": 3,
     "solution": false,
     "task": false
    }
   },
   "outputs": [],
   "source": [
    "# This adds two elements to the dictionary\n",
    "epsdictionary['emission units']='GtC/year'\n",
    "epsdictionary['k']=k\n",
    "\n",
    "# This displays the contents of the dictionary\n",
    "display(epsdictionary)"
   ]
  },
  {
   "cell_type": "markdown",
   "metadata": {
    "deletable": false,
    "editable": false,
    "nbgrader": {
     "cell_type": "markdown",
     "checksum": "c7294809c10c37223cd74a7bfff5f996",
     "grade": false,
     "grade_id": "cell-8a931592c9bbf5df",
     "locked": true,
     "schema_version": 3,
     "solution": false,
     "task": false
    }
   },
   "source": [
    "### Your turn\n",
    "Add the following elements of metadata to your dictionary:\n",
    "1. the pegged year;\n",
    "1. the emissions at that pegged year;\n",
    "1. the year of peak emissions;\n",
    "1. the decarbonization time.\n",
    "\n",
    "Then use \"display\" to confirm they were added properly."
   ]
  },
  {
   "cell_type": "code",
   "execution_count": null,
   "metadata": {
    "deletable": false,
    "nbgrader": {
     "cell_type": "code",
     "checksum": "3ac8f3e80b616294d43aa09ec1ff8336",
     "grade": true,
     "grade_id": "cell-55020896190947eb",
     "locked": false,
     "points": 2,
     "schema_version": 3,
     "solution": true,
     "task": false
    }
   },
   "outputs": [],
   "source": [
    "# Add the additional elements mentioned above to your dictionary\n",
    "# your code here \n"
   ]
  },
  {
   "cell_type": "markdown",
   "metadata": {
    "deletable": false,
    "editable": false,
    "nbgrader": {
     "cell_type": "markdown",
     "checksum": "50bafe019f08296753326cfb5adc6a8d",
     "grade": false,
     "grade_id": "cell-e47ef9ba21946628",
     "locked": true,
     "schema_version": 3,
     "solution": false,
     "task": false
    }
   },
   "source": [
    "### Saving your emissions scenario\n",
    "Use the cell below to save your emissions scenario (the entire dictionary -- data and metadata) as a file. Here's some sample code -- although you might want to modify the filename to something more meaningful, especially since we'll be eventually saving multiple scenarios.\n",
    "\n",
    "    # Decide on a name for the file, and then save to that file\n",
    "    filename = 'Peaks_in_2040.hdf5'\n",
    "    h5io.write_hdf5(filename, epsdictionary, overwrite=True)"
   ]
  },
  {
   "cell_type": "code",
   "execution_count": null,
   "metadata": {
    "colab": {
     "base_uri": "https://localhost:8080/",
     "height": 442
    },
    "deletable": false,
    "id": "fk0YrAY_8RXu",
    "nbgrader": {
     "cell_type": "code",
     "checksum": "2fd064c1b424272f50c96f9f3280d854",
     "grade": true,
     "grade_id": "cell-b3a1f6e92749c49a",
     "locked": false,
     "points": 1,
     "schema_version": 3,
     "solution": true,
     "task": false
    },
    "outputId": "f4005649-0786-41ff-dcad-d73ca9e40e5b"
   },
   "outputs": [],
   "source": [
    "# Assign a name for the file, and save it\n",
    "# your code here \n"
   ]
  },
  {
   "cell_type": "markdown",
   "metadata": {
    "deletable": false,
    "editable": false,
    "nbgrader": {
     "cell_type": "markdown",
     "checksum": "695515b4e8bcccd767bce51516811124",
     "grade": false,
     "grade_id": "cell-df6c135967bf00b9",
     "locked": true,
     "schema_version": 3,
     "solution": false,
     "task": false
    }
   },
   "source": [
    "### Double-checking\n",
    "It's often nice to double-check that you really did save what you thought you did. The cell below will load (read) the file you just saved and print out some information about it."
   ]
  },
  {
   "cell_type": "code",
   "execution_count": null,
   "metadata": {},
   "outputs": [],
   "source": [
    "# This shows what I thought I saved\n",
    "print('What I thought I saved:')\n",
    "display(epsdictionary)\n",
    "      \n",
    "# This loads the stored dictionary\n",
    "epsdictionary_fromfile = h5io.read_hdf5(filename)\n",
    "\n",
    "# This shows what's in it\n",
    "print('What I retrieved:')\n",
    "display(epsdictionary_fromfile)"
   ]
  },
  {
   "cell_type": "markdown",
   "metadata": {
    "deletable": false,
    "editable": false,
    "nbgrader": {
     "cell_type": "markdown",
     "checksum": "bf9dc7da0106765d90dd83528233c9af",
     "grade": false,
     "grade_id": "cell-1c37ad9f7cb0b589",
     "locked": true,
     "schema_version": 3,
     "solution": false,
     "task": false
    }
   },
   "source": [
    "### Refresh/save/validate\n",
    "Almost done! To double-check everything is OK, repeat the \"Three steps for refreshing and saving your code,\" and press the \"Validate\" button (as usual).\n",
    "\n",
    "### Close/submit/logout\n",
    "1. Close this notebook using the \"File/Close and Halt\" dropdown menu\n",
    "1. Using the Assignments tab, submit this notebook\n",
    "1. Press the Logout tab of the Home Page"
   ]
  }
 ],
 "metadata": {
  "colab": {
   "collapsed_sections": [],
   "name": "MakeEmissionsScenario.ipynb",
   "provenance": []
  },
  "kernelspec": {
   "display_name": "Python 3 (ipykernel)",
   "language": "python",
   "name": "python3"
  },
  "language_info": {
   "codemirror_mode": {
    "name": "ipython",
    "version": 3
   },
   "file_extension": ".py",
   "mimetype": "text/x-python",
   "name": "python",
   "nbconvert_exporter": "python",
   "pygments_lexer": "ipython3",
   "version": "3.10.2"
  }
 },
 "nbformat": 4,
 "nbformat_minor": 1
}

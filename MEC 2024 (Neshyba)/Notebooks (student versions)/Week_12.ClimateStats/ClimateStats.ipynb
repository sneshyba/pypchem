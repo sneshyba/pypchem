{
 "cells": [
  {
   "cell_type": "markdown",
   "metadata": {
    "deletable": false,
    "editable": false,
    "id": "21nAfvT78Auq",
    "nbgrader": {
     "cell_type": "markdown",
     "checksum": "ff5af08d7d3da13adb1dfe54856e3bd5",
     "grade": false,
     "grade_id": "Intro_to_Climatestats",
     "locked": true,
     "schema_version": 3,
     "solution": false,
     "task": false
    }
   },
   "source": [
    "### Neshyba & Deloya Garcia, 2024\n",
    "\n",
    "# ClimateStats\n",
    "\n",
    "## Overview\n",
    "The idea of this module is to develop your skill and insights into the statistical analysis of weather records that lead to climate. The weather data we'll be accessing is archived at the NOAA website, https://gml.noaa.gov/dv/data/index.php?category=Meteorology&frequency=Hourly%2BAverages. We'll focus (as the name suggests) on statistics of _hourly_ measurements of key weather variables, including temperature, wind speed, wind direction. \n",
    "\n",
    "The main computing resource we'll be using to look at these data is the data management tool *pandas* to organize data and metadata associated with carbon emissions over time. We'll be using *pandas* a little more here than previously, in that we'll be using it to search for flags that indicate missing or bad data. \n",
    "\n",
    "In term of climate literacy, important lessons here are idea that climate science is a statistical science, specifically the statistics of weather, and therefore we would expect that statistical evidence of climate change would be most pronounced in polar regions.   \n",
    "\n",
    "\n",
    "## Learning goals\n",
    "1. I can find and interpret metadata for NOAA weather records.\n",
    "1. I can use *pandas* to read in tables of data as dataframes, implement quality-control measures, and combine dataframes.\n",
    "1. I can explain how probabilities densities are related to histograms, describe circumstances under which they might preferable, and compute them from measurements.\n",
    "1. I can use historical weather records to describe statistical evidence of polar amplification.  "
   ]
  },
  {
   "cell_type": "code",
   "execution_count": null,
   "metadata": {
    "deletable": false,
    "editable": false,
    "id": "We7uMXqcRKH2",
    "nbgrader": {
     "cell_type": "code",
     "checksum": "f2e10544ab30070f6b7fbb4e3c4be94f",
     "grade": false,
     "grade_id": "importing_resources",
     "locked": true,
     "schema_version": 3,
     "solution": false,
     "task": false
    }
   },
   "outputs": [],
   "source": [
    "# Get some resources\n",
    "import numpy as np\n",
    "import matplotlib.pyplot as plt\n",
    "import pandas as pd"
   ]
  },
  {
   "cell_type": "code",
   "execution_count": null,
   "metadata": {
    "deletable": false,
    "editable": false,
    "nbgrader": {
     "cell_type": "code",
     "checksum": "e59a73479ee6eaf8ae2eb68279f44d86",
     "grade": false,
     "grade_id": "cell-90e45677255621ae",
     "locked": true,
     "schema_version": 3,
     "solution": false,
     "task": false
    }
   },
   "outputs": [],
   "source": [
    "%matplotlib notebook"
   ]
  },
  {
   "cell_type": "markdown",
   "metadata": {
    "deletable": false,
    "editable": false,
    "id": "tJTGO6Fph3Yp",
    "nbgrader": {
     "cell_type": "markdown",
     "checksum": "00a8883b08d862e9d9b54c1514209262",
     "grade": false,
     "grade_id": "interpreting_metadata",
     "locked": true,
     "schema_version": 3,
     "solution": false,
     "task": false
    }
   },
   "source": [
    "### Interpreting metadata\n",
    "It's often useful to inspect metadata associated with a data set before diving in. A good way to start out this module is to just go to the NOAA website and look around! Locate the \"i\" icons on the right-hand side, and find  answers to the following questions:\n",
    "\n",
    "1. The three-letter _region code_ tells you where the data were collected. What does \"BRW\" stand for?\n",
    "1. The _units_ of numerical data are specified in there somewhere. What are the units of temperature? Of wind speed?\n",
    "1. _flags_ let you know if data are missing. For the NOAA dataset, these flags all look something like \"-99.9\", but specfics vary. What's the flag for missing temperature?\n",
    "\n",
    "Enter your answers in the cell below."
   ]
  },
  {
   "cell_type": "markdown",
   "metadata": {
    "deletable": false,
    "nbgrader": {
     "cell_type": "markdown",
     "checksum": "e0d4dc1f0f2ce0234ccff9dff417ab88",
     "grade": true,
     "grade_id": "cell-4ad91ae3bed5f3b6",
     "locked": false,
     "points": 3,
     "schema_version": 3,
     "solution": true,
     "task": false
    }
   },
   "source": [
    "YOUR ANSWER HERE"
   ]
  },
  {
   "cell_type": "markdown",
   "metadata": {
    "deletable": false,
    "editable": false,
    "id": "OaAclVhB7nSr",
    "nbgrader": {
     "cell_type": "markdown",
     "checksum": "181f99f82c0dc1a617a822149b19a759",
     "grade": false,
     "grade_id": "prompt_for_loading",
     "locked": true,
     "schema_version": 3,
     "solution": false,
     "task": false
    }
   },
   "source": [
    "### Loading (and plotting) time series of hourly temperature data, using Pandas\n",
    "Next, we'll collect some data for a recent year from the NOAA website, as a *pandas dataframe*. Execute the cell below and have a look at the output."
   ]
  },
  {
   "cell_type": "code",
   "execution_count": null,
   "metadata": {
    "colab": {
     "base_uri": "https://localhost:8080/",
     "height": 424
    },
    "deletable": false,
    "editable": false,
    "executionInfo": {
     "elapsed": 489,
     "status": "ok",
     "timestamp": 1624063505091,
     "user": {
      "displayName": "Steven Neshyba",
      "photoUrl": "https://lh3.googleusercontent.com/a-/AOh14GhNBBB4oUDYM5LFwp5QBiZMax8b3ieYXI_9F1wa=s64",
      "userId": "12688310908552577631"
     },
     "user_tz": 420
    },
    "id": "pA2AjUMRZIBS",
    "nbgrader": {
     "cell_type": "code",
     "checksum": "95d8a9123cd0dbc3af36a34131b1d91f",
     "grade": false,
     "grade_id": "loading_and_plotting_time_series",
     "locked": true,
     "schema_version": 3,
     "solution": false,
     "task": false
    },
    "outputId": "029b116d-126b-4867-8c57-3aee33beb172"
   },
   "outputs": [],
   "source": [
    "# Load the 2022 data\n",
    "df2023 = pd.read_csv('https://gml.noaa.gov/aftp/data/meteorology/in-situ/brw/met_brw_insitu_1_obop_hour_2023.txt',\n",
    "                        delimiter=r\"\\s+\",header=None, \n",
    "                        usecols=[0,1,2,3,4,5,6,9],\n",
    "                        names=['station','year','month','day','hour','winddirection','windspeed','temperature']) \n",
    "\n",
    "# Print some information about the dataframe\n",
    "display(df2023)\n",
    "\n",
    "# Plotting the temperatures as a function of month\n",
    "plt.figure()\n",
    "plt.plot(df2023['month'], df2023['temperature'], 'kx', label='2023')\n",
    "plt.xlabel('month')\n",
    "plt.ylabel('Temperature (C)')\n",
    "plt.title('Hourly temperatures, by month, for year 2023')\n",
    "plt.grid()\n",
    "plt.legend()"
   ]
  },
  {
   "cell_type": "markdown",
   "metadata": {
    "deletable": false,
    "editable": false,
    "nbgrader": {
     "cell_type": "markdown",
     "checksum": "1ec7a7530f26a0d90e0b2153789d14bb",
     "grade": false,
     "grade_id": "prompt_for_day_after_tomorrow",
     "locked": true,
     "schema_version": 3,
     "solution": false,
     "task": false
    }
   },
   "source": [
    "### Pause for analysis\n",
    "Take a close look at this graph. You'll probably notice some absurdly low \"temperatures\", close to -1000 degrees! Don't be alarmed -- this is not https://en.wikipedia.org/wiki/The_Day_After_Tomorrow. Those values are flags that mark the data as being bad or missing. This is a quality-control issue that we'll attend to in a bit, but in the meantime we'll practice getting other data.\n",
    "\n",
    "In the cell below, do the same, but for data from the year 1977 (load, display, and plot)."
   ]
  },
  {
   "cell_type": "code",
   "execution_count": null,
   "metadata": {
    "deletable": false,
    "nbgrader": {
     "cell_type": "code",
     "checksum": "529c5bc78033f2f85e6321cdf88877cd",
     "grade": true,
     "grade_id": "loading_1977_data",
     "locked": false,
     "points": 4,
     "schema_version": 3,
     "solution": true,
     "task": false
    }
   },
   "outputs": [],
   "source": [
    "# your code here \n"
   ]
  },
  {
   "cell_type": "markdown",
   "metadata": {
    "deletable": false,
    "editable": false,
    "id": "QE62_J6qBzNm",
    "nbgrader": {
     "cell_type": "markdown",
     "checksum": "24bc27bd5272f7d2e0ecea7df0c778f1",
     "grade": false,
     "grade_id": "cell-1c887d46cb9613cb",
     "locked": true,
     "schema_version": 3,
     "solution": false,
     "task": false
    }
   },
   "source": [
    "### Quality control\n",
    "The code below directs *pandas* to look at each row, and if the temperature is -999.9, it records the index of that row, in a list called \"badindices\". The next line of code is a very cool Pandas functionality: it drops (gets rid of) those indices from the dataframe! We also re-plot the data, just to be sure.\n",
    "\n",
    "By the way, if you execute this cell twice, you'll see that the second time it says it isn't dropping any points -- because (as I'm sure you've guessed) it got all the bad data the first time."
   ]
  },
  {
   "cell_type": "code",
   "execution_count": null,
   "metadata": {
    "colab": {
     "base_uri": "https://localhost:8080/"
    },
    "executionInfo": {
     "elapsed": 7,
     "status": "ok",
     "timestamp": 1624063505341,
     "user": {
      "displayName": "Steven Neshyba",
      "photoUrl": "https://lh3.googleusercontent.com/a-/AOh14GhNBBB4oUDYM5LFwp5QBiZMax8b3ieYXI_9F1wa=s64",
      "userId": "12688310908552577631"
     },
     "user_tz": 420
    },
    "id": "BiPzPFsxtw3m",
    "outputId": "15a3d9e6-ea96-4f26-dab1-8ec76bbd8d00"
   },
   "outputs": [],
   "source": [
    "# Find bad temperatures\n",
    "badindices = df2023[ df2023['temperature'] == -999.9 ].index\n",
    "print('I am dropping this many missing data points: ', len(badindices))\n",
    "df2023.drop(badindices,inplace=True)\n",
    "\n",
    "# Plot\n",
    "plt.figure()\n",
    "plt.plot(df2023['month'],df2023['temperature'], 'kx', label='2023')\n",
    "plt.xlabel('month')\n",
    "plt.ylabel('Temperature (C)')\n",
    "plt.title('Hourly temperatures, by month, for year 2023')\n",
    "plt.grid()\n",
    "plt.legend()"
   ]
  },
  {
   "cell_type": "markdown",
   "metadata": {
    "deletable": false,
    "editable": false,
    "nbgrader": {
     "cell_type": "markdown",
     "checksum": "aef76d83d059e5919d542cc4c6876843",
     "grade": false,
     "grade_id": "cell-4c74b496b427ad3e",
     "locked": true,
     "schema_version": 3,
     "solution": false,
     "task": false
    }
   },
   "source": [
    "### Your turn\n",
    "In the cells below, do the same for the \"1977\" dataframe (get rid of bad data, and plot hourly temperatures by month)."
   ]
  },
  {
   "cell_type": "code",
   "execution_count": null,
   "metadata": {
    "deletable": false,
    "nbgrader": {
     "cell_type": "code",
     "checksum": "4b5d142912be0b44a01a71fab3c5e36f",
     "grade": true,
     "grade_id": "getting_rid_of_bad_1977_data",
     "locked": false,
     "points": 4,
     "schema_version": 3,
     "solution": true,
     "task": false
    }
   },
   "outputs": [],
   "source": [
    "# your code here \n"
   ]
  },
  {
   "cell_type": "markdown",
   "metadata": {
    "deletable": false,
    "editable": false,
    "id": "4YaiPA3WKYyo",
    "nbgrader": {
     "cell_type": "markdown",
     "checksum": "01240441ca926b2b6d51cb548cc20399",
     "grade": false,
     "grade_id": "cell-188126bc5455b547",
     "locked": true,
     "schema_version": 3,
     "solution": false,
     "task": false
    }
   },
   "source": [
    "### Plotting hourly temperatures on the same graph\n",
    "You have probably already noticed that it's a bit difficult to compare two datasets unless you graph them together. In the cell below, plot the 1977 and 2023 hourly temperature data on the same graph (still by month), using the black/blue coding you did before and the label/legend method."
   ]
  },
  {
   "cell_type": "code",
   "execution_count": null,
   "metadata": {
    "colab": {
     "base_uri": "https://localhost:8080/",
     "height": 313
    },
    "deletable": false,
    "executionInfo": {
     "elapsed": 274,
     "status": "ok",
     "timestamp": 1624063506453,
     "user": {
      "displayName": "Steven Neshyba",
      "photoUrl": "https://lh3.googleusercontent.com/a-/AOh14GhNBBB4oUDYM5LFwp5QBiZMax8b3ieYXI_9F1wa=s64",
      "userId": "12688310908552577631"
     },
     "user_tz": 420
    },
    "id": "it3UkriJ_JQo",
    "nbgrader": {
     "cell_type": "code",
     "checksum": "c5fc676eb37396b7f9f4e27eca4c7def",
     "grade": true,
     "grade_id": "plotting_temperatures_on_same_graph",
     "locked": false,
     "points": 2,
     "schema_version": 3,
     "solution": true,
     "task": false
    },
    "outputId": "84059fd6-3afb-4d65-a74e-cba535dd726c"
   },
   "outputs": [],
   "source": [
    "# your code here \n"
   ]
  },
  {
   "cell_type": "markdown",
   "metadata": {
    "deletable": false,
    "editable": false,
    "id": "sNxUP0rGhfRf",
    "nbgrader": {
     "cell_type": "markdown",
     "checksum": "acc8bd44d7c6585aefc951ee105e1edc",
     "grade": false,
     "grade_id": "cell-f9acd0583aa5eb88",
     "locked": true,
     "schema_version": 3,
     "solution": false,
     "task": false
    }
   },
   "source": [
    "### Pause for analysis\n",
    "Take a moment to examine the plot you just made, and use the cell below to record a few observations about the seasonal variation it reveals. \n",
    "\n",
    "1. What are the hottest months at BRW (Utqiagvik)?\n",
    "1. What are the coldest months?\n",
    "1. Although it's not considered \"climate\" unless one is averaging over (ideally) 30 years, sometimes we look at shorter time periods anyway, because that's the data we have. What stands out about the data you see? If you were to choose two months in which warming seems to be amplified over other months, what two months would those be?"
   ]
  },
  {
   "cell_type": "markdown",
   "metadata": {
    "deletable": false,
    "nbgrader": {
     "cell_type": "markdown",
     "checksum": "44b7ab6a3cdfd9edaddc19589323fd4c",
     "grade": true,
     "grade_id": "cell-2e1f6c8b5fb30665",
     "locked": false,
     "points": 3,
     "schema_version": 3,
     "solution": true,
     "task": false
    }
   },
   "source": [
    "YOUR ANSWER HERE"
   ]
  },
  {
   "cell_type": "markdown",
   "metadata": {
    "deletable": false,
    "editable": false,
    "nbgrader": {
     "cell_type": "markdown",
     "checksum": "fa4e86bb85ca7766c2d94802860066ef",
     "grade": false,
     "grade_id": "cell-6fbf8fcfebacd138",
     "locked": true,
     "schema_version": 3,
     "solution": false,
     "task": false
    }
   },
   "source": [
    "### Focusing on a month of interest\n",
    "The cell below will be used to focus on March as the \"month of interest.\""
   ]
  },
  {
   "cell_type": "code",
   "execution_count": null,
   "metadata": {},
   "outputs": [],
   "source": [
    "# Specify which month we want to focus on\n",
    "month_of_interest = 3"
   ]
  },
  {
   "cell_type": "markdown",
   "metadata": {
    "deletable": false,
    "editable": false,
    "id": "vbLBsCNEZrqq",
    "nbgrader": {
     "cell_type": "markdown",
     "checksum": "092a34cc4a6df1347fbe314244e60be2",
     "grade": false,
     "grade_id": "cell-9a8f66ed6253ef13",
     "locked": true,
     "schema_version": 3,
     "solution": false,
     "task": false
    }
   },
   "source": [
    "### Examining hourly temperatures by day of month\n",
    "The cell below shows how to extract and display hourly temperatures belonging to a certain month of the year."
   ]
  },
  {
   "cell_type": "code",
   "execution_count": null,
   "metadata": {
    "deletable": false,
    "editable": false,
    "id": "ZSH7UkmzzhXy",
    "nbgrader": {
     "cell_type": "code",
     "checksum": "960f00432ae11d99977c91490e1eec97",
     "grade": false,
     "grade_id": "cell-a96c9f6794860b13",
     "locked": true,
     "schema_version": 3,
     "solution": false,
     "task": false
    }
   },
   "outputs": [],
   "source": [
    "# Extract data belonging to the month of interest\n",
    "df2023_month_of_interest = df2023[df2023['month'] == month_of_interest]\n",
    "display(df2023_month_of_interest) \n",
    "\n",
    "# Open a figure\n",
    "plt.figure()\n",
    "\n",
    "# Convert to numpy arrays and plot the day and temperature\n",
    "plt.plot(df2023_month_of_interest['day'], df2023_month_of_interest['temperature'], 'kx')\n",
    "plt.title('Hourly temperatures, by day, for month '+str(month_of_interest)+', year 2023')\n",
    "plt.xlabel('day')\n",
    "plt.ylabel('Temperature (C)')\n",
    "plt.grid()"
   ]
  },
  {
   "cell_type": "markdown",
   "metadata": {
    "deletable": false,
    "editable": false,
    "nbgrader": {
     "cell_type": "markdown",
     "checksum": "7f04c22b98b0bdbbd74d3cb3d3d530b4",
     "grade": false,
     "grade_id": "cell-b6a112b043a828c4",
     "locked": true,
     "schema_version": 3,
     "solution": false,
     "task": false
    }
   },
   "source": [
    "### Your turn\n",
    "Repeat what we just did, but for 1977. Let's stick with the '+' and 'blue' representation we used before."
   ]
  },
  {
   "cell_type": "code",
   "execution_count": null,
   "metadata": {
    "deletable": false,
    "nbgrader": {
     "cell_type": "code",
     "checksum": "f46c014222d7a0360b2f8b9209336ce4",
     "grade": true,
     "grade_id": "cell-0b356b71486477dc",
     "locked": false,
     "points": 4,
     "schema_version": 3,
     "solution": true,
     "task": false
    }
   },
   "outputs": [],
   "source": [
    "# your code here \n"
   ]
  },
  {
   "cell_type": "markdown",
   "metadata": {
    "deletable": false,
    "editable": false,
    "id": "xyxH0C24aJLH",
    "nbgrader": {
     "cell_type": "markdown",
     "checksum": "cf42b2fae6281e04af25365fe6b88136",
     "grade": false,
     "grade_id": "cell-6e3d6085ad207c4f",
     "locked": true,
     "schema_version": 3,
     "solution": false,
     "task": false
    }
   },
   "source": [
    "### Histograms of hourly temperatures\n",
    "In the foregoing, you might have noticed that it's a little hard to infer trends from visual inspection of a time series. A more useful statistical strategy is called *binning*. Binning involves grouping data into ranges of the weather variable of interest -- in this case, temperatures in a given month. Binning is a key statistical method of climate science. Numpy's binning function is the _histogram_ function, referred to below as \"np.histogram\".\n",
    "\n",
    "The cell below does this for the 2023 dataset."
   ]
  },
  {
   "cell_type": "code",
   "execution_count": null,
   "metadata": {
    "colab": {
     "base_uri": "https://localhost:8080/",
     "height": 350
    },
    "executionInfo": {
     "elapsed": 312,
     "status": "ok",
     "timestamp": 1624063506949,
     "user": {
      "displayName": "Steven Neshyba",
      "photoUrl": "https://lh3.googleusercontent.com/a-/AOh14GhNBBB4oUDYM5LFwp5QBiZMax8b3ieYXI_9F1wa=s64",
      "userId": "12688310908552577631"
     },
     "user_tz": 420
    },
    "id": "TFrC4lteSwgp",
    "outputId": "8bf0d394-6d61-45eb-9727-dda974b4f1d7"
   },
   "outputs": [],
   "source": [
    "# Get the histogram for the modern dataset\n",
    "h2023_month_of_interest, e2023_month_of_interest = np.histogram(df2023_month_of_interest['temperature'],density=True)\n",
    "\n",
    "# Check on some array lengths\n",
    "print(np.size(h2023_month_of_interest))\n",
    "print(np.size(e2023_month_of_interest))\n",
    "print(np.size(e2023_month_of_interest[0:-1]))\n",
    "\n",
    "# Plot the histogram \n",
    "plt.figure()\n",
    "plt.plot(e2023_month_of_interest[0:-1],h2023_month_of_interest,'k')\n",
    "plt.title('Hourly temperature probability density for month '+str(month_of_interest)+', year 2023')\n",
    "plt.xlabel('Temperature (C)')\n",
    "plt.grid()"
   ]
  },
  {
   "cell_type": "markdown",
   "metadata": {
    "deletable": false,
    "editable": false,
    "id": "mwuEUP0ENcCq",
    "nbgrader": {
     "cell_type": "markdown",
     "checksum": "54864dad2943771ba96bdd7deb63d31f",
     "grade": false,
     "grade_id": "cell-efd5ad08ef5d303d",
     "locked": true,
     "schema_version": 3,
     "solution": false,
     "task": false
    }
   },
   "source": [
    "### Bins and bin edges in a probability density\n",
    "\n",
    "It's worth pausing for a moment on the meaning of the x-axis in figures like the above. If we see that the peak in a probability density occurs at an x-value of (say) -22, it means that the most probable hourly temperature that month fell within a certain range of -22 degrees C. That range is called a *bin*, and is decided automatically by np.histogram -- in this case, it has decided that each bin should be about three degrees in width, e.g., -22 to -19 degrees. \n",
    "\n",
    "You might have noticed a strange notation here too: Why are we specifying e2023_month_of_interest[0:-1]? The short story is, a set of 10 *bins* requires that we specify 11 *edges* (AKA _bin boundaries_). So when we plot the number of observations, we leave off either the last edge. That's what the \"-1\" in  edgesmonthlymodern[0:-1] does.\n",
    "\n",
    "### Your turn\n",
    "In the cell below, do the following:\n",
    "\n",
    "1. Calculate and plot the probability density of the 1977 dataset. \n",
    "1. Plot both the 2023 and 1977 probability densities on the same graph, with the label/legend method."
   ]
  },
  {
   "cell_type": "code",
   "execution_count": null,
   "metadata": {
    "colab": {
     "base_uri": "https://localhost:8080/",
     "height": 295
    },
    "deletable": false,
    "executionInfo": {
     "elapsed": 333,
     "status": "ok",
     "timestamp": 1624063507278,
     "user": {
      "displayName": "Steven Neshyba",
      "photoUrl": "https://lh3.googleusercontent.com/a-/AOh14GhNBBB4oUDYM5LFwp5QBiZMax8b3ieYXI_9F1wa=s64",
      "userId": "12688310908552577631"
     },
     "user_tz": 420
    },
    "id": "evsDMcp0NO_w",
    "nbgrader": {
     "cell_type": "code",
     "checksum": "2b1ff92ca766d92c17af794df1e90f70",
     "grade": true,
     "grade_id": "cell-fc7c2a6b00b9f66a",
     "locked": false,
     "points": 4,
     "schema_version": 3,
     "solution": true,
     "task": false
    },
    "outputId": "80c6e5ca-aebd-461a-9536-8ccd58092dca"
   },
   "outputs": [],
   "source": [
    "# your code here \n"
   ]
  },
  {
   "cell_type": "markdown",
   "metadata": {
    "deletable": false,
    "editable": false,
    "nbgrader": {
     "cell_type": "markdown",
     "checksum": "9c4eb7b65bdbe81dacf8199745916fb7",
     "grade": false,
     "grade_id": "cell-fb050554639d5c0a",
     "locked": true,
     "schema_version": 3,
     "solution": false,
     "task": false
    }
   },
   "source": [
    "### Pause for analysis\n",
    "Use the cell below to comment on what these data are telling us about climate changes in Utqiakvik between the years 1977 and 2023. Key ideas would include *most-probable temperature* and *temperature variability*. If you notice any significant bimodal behavior, make a note of it."
   ]
  },
  {
   "cell_type": "markdown",
   "metadata": {
    "deletable": false,
    "nbgrader": {
     "cell_type": "markdown",
     "checksum": "61a271d68ddd36f4bad587216014ddff",
     "grade": true,
     "grade_id": "cell-5561fbbf4f19808b",
     "locked": false,
     "points": 4,
     "schema_version": 3,
     "solution": true,
     "task": false
    }
   },
   "source": [
    "YOUR ANSWER HERE"
   ]
  },
  {
   "cell_type": "markdown",
   "metadata": {
    "deletable": false,
    "editable": false,
    "id": "Y9FYdfBDH_Y0",
    "nbgrader": {
     "cell_type": "markdown",
     "checksum": "32dcf08b3326c6f49627535ef0f9679d",
     "grade": false,
     "grade_id": "cell-656c26ff8dcc09cd",
     "locked": true,
     "schema_version": 3,
     "solution": false,
     "task": false
    }
   },
   "source": [
    "### Combining dataframes from multiple years\n",
    "Below is an example of how to merge dataframes from multiple years. This will come in handy for building confidence in statistical inferences we can draw from these data."
   ]
  },
  {
   "cell_type": "code",
   "execution_count": null,
   "metadata": {
    "colab": {
     "base_uri": "https://localhost:8080/",
     "height": 1000
    },
    "executionInfo": {
     "elapsed": 5539,
     "status": "ok",
     "timestamp": 1624063513137,
     "user": {
      "displayName": "Steven Neshyba",
      "photoUrl": "https://lh3.googleusercontent.com/a-/AOh14GhNBBB4oUDYM5LFwp5QBiZMax8b3ieYXI_9F1wa=s64",
      "userId": "12688310908552577631"
     },
     "user_tz": 420
    },
    "id": "VfFFpiZ8IWey",
    "outputId": "edc8ecea-8600-40e9-ffde-f969e92dc625"
   },
   "outputs": [],
   "source": [
    "# Modern data: load three years of data as separate dataframes\n",
    "df2020 = pd.read_csv('https://gml.noaa.gov/aftp/data/meteorology/in-situ/brw/met_brw_insitu_1_obop_hour_2020.txt', \n",
    "                        delimiter=r\"\\s+\",header=None, \n",
    "                        usecols=[0,1,2,3,5,6,9], \n",
    "                        names=['station','year','month','day','winddirection','windspeed','temperature']) \n",
    "\n",
    "df2021 = pd.read_csv('https://gml.noaa.gov/aftp/data/meteorology/in-situ/brw/met_brw_insitu_1_obop_hour_2021.txt', \n",
    "                        delimiter=r\"\\s+\",header=None, \n",
    "                        usecols=[0,1,2,3,5,6,9], \n",
    "                        names=['station','year','month','day','winddirection','windspeed','temperature']) \n",
    "\n",
    "df2022 = pd.read_csv('https://gml.noaa.gov/aftp/data/meteorology/in-situ/brw/met_brw_insitu_1_obop_hour_2022.txt', \n",
    "                        delimiter=r\"\\s+\",header=None, \n",
    "                        usecols=[0,1,2,3,5,6,9], \n",
    "                        names=['station','year','month','day','winddirection','windspeed','temperature']) \n",
    "\n",
    "# Now join them and display the result\n",
    "df2020s = pd.concat( [df2020, df2021, df2022, df2023])\n",
    "display(df2020s)"
   ]
  },
  {
   "cell_type": "markdown",
   "metadata": {
    "deletable": false,
    "editable": false,
    "nbgrader": {
     "cell_type": "markdown",
     "checksum": "c3161e2574f674f26fed1ca6d9d96c3b",
     "grade": false,
     "grade_id": "cell-1b337aded4ff208c",
     "locked": true,
     "schema_version": 3,
     "solution": false,
     "task": false
    }
   },
   "source": [
    "### Your turn\n",
    "Do the same for three years in the 1970s, starting in 1977. Call the resulting dataframe \"df1970s\"."
   ]
  },
  {
   "cell_type": "code",
   "execution_count": null,
   "metadata": {
    "colab": {
     "base_uri": "https://localhost:8080/",
     "height": 1000
    },
    "deletable": false,
    "executionInfo": {
     "elapsed": 5539,
     "status": "ok",
     "timestamp": 1624063513137,
     "user": {
      "displayName": "Steven Neshyba",
      "photoUrl": "https://lh3.googleusercontent.com/a-/AOh14GhNBBB4oUDYM5LFwp5QBiZMax8b3ieYXI_9F1wa=s64",
      "userId": "12688310908552577631"
     },
     "user_tz": 420
    },
    "id": "VfFFpiZ8IWey",
    "nbgrader": {
     "cell_type": "code",
     "checksum": "2a1c96cfcb4856518e9089c0509b1f85",
     "grade": true,
     "grade_id": "cell-5c79a2bdb74ba3e6",
     "locked": false,
     "points": 4,
     "schema_version": 3,
     "solution": true,
     "task": false
    },
    "outputId": "edc8ecea-8600-40e9-ffde-f969e92dc625"
   },
   "outputs": [],
   "source": [
    "# your code here \n"
   ]
  },
  {
   "cell_type": "markdown",
   "metadata": {
    "deletable": false,
    "editable": false,
    "nbgrader": {
     "cell_type": "markdown",
     "checksum": "fda675d621cb115d049db6b16ba3ba4f",
     "grade": false,
     "grade_id": "cell-0f433bad9f9dfb48",
     "locked": true,
     "schema_version": 3,
     "solution": false,
     "task": false
    }
   },
   "source": [
    "### Comparisons\n",
    "In the cell below, the goal is to produce a plot of the probability density of hourly temperatures for the combined \"2020s\" dataframe, on the same graph as for the combined \"1970s\" dataframe (using label/legend, other annotation)."
   ]
  },
  {
   "cell_type": "code",
   "execution_count": null,
   "metadata": {
    "deletable": false,
    "nbgrader": {
     "cell_type": "code",
     "checksum": "39c94e57d6ad1ccd6e093d6172dcfe4a",
     "grade": true,
     "grade_id": "cell-46bcb3b90d99d7d5",
     "locked": false,
     "points": 6,
     "schema_version": 3,
     "solution": true,
     "task": false
    }
   },
   "outputs": [],
   "source": [
    "# your code here \n"
   ]
  },
  {
   "cell_type": "markdown",
   "metadata": {
    "deletable": false,
    "editable": false,
    "nbgrader": {
     "cell_type": "markdown",
     "checksum": "78acb384596f5ee7875655e509a14250",
     "grade": false,
     "grade_id": "cell-5cc60ac82bc5c38d",
     "locked": true,
     "schema_version": 3,
     "solution": false,
     "task": false
    }
   },
   "source": [
    "### Pause for analysis\n",
    "In the space below, comment on the following:\n",
    "\n",
    "1. Does it seem to you that inferences made from the 3-year probability density curves you just got are more or less reliable than from the 1-year probability densities you got before? One criterion you can use for this purpose: spiky probability densities tend to be an indicator of less reliable statistics.\n",
    "1. What *is* the trend we're seeing in terms of temperature at Utqiakvik? Say, from most probable in the 1970s to most probable in the 2020s.\n",
    "1. Go to https://www.ncei.noaa.gov/access/monitoring/climate-at-a-glance/global/time-series/globe/land_ocean/1/3/1850-2023 select the options shown below, and plot the results. Based on what you see, which season (Spring/Summer/Fall/Winter) in the Arctic seems to be warming the fastest? How does that warming rate compare with the global average of $~1.5^o C$ for the year 2023? \n",
    "\n",
    "- Parameter: Average Temperature Anomaly\n",
    "- Time Scale: 12-Month\n",
    "- Month: All Months\n",
    "- Start Year: 2023\n",
    "- End Year: 2023\n",
    "- Surface: Land and Ocean\n"
   ]
  },
  {
   "cell_type": "markdown",
   "metadata": {
    "deletable": false,
    "nbgrader": {
     "cell_type": "markdown",
     "checksum": "f1f110b54c9cb90cf2222ea9be22aac4",
     "grade": true,
     "grade_id": "cell-0a81810f3a5abbd6",
     "locked": false,
     "points": 3,
     "schema_version": 3,
     "solution": true,
     "task": false
    }
   },
   "source": [
    "YOUR ANSWER HERE"
   ]
  },
  {
   "cell_type": "markdown",
   "metadata": {
    "deletable": false,
    "editable": false,
    "nbgrader": {
     "cell_type": "markdown",
     "checksum": "cf2fa7b809784f2f42b35703ca71802f",
     "grade": false,
     "grade_id": "Extensions_prompt",
     "locked": true,
     "schema_version": 3,
     "solution": false,
     "task": false
    }
   },
   "source": [
    "### Extensions\n",
    "Your last task is to extend these ideas to other meteorological variables, both using the two multi-year dataframes (1970s and 2020s at BRW) you've already built. You have two choices:\n",
    "\n",
    "1. Compare monthly time series and probability densities of the daily *wind direction* ('winddirection'). If you choose this option, you need to know that the flag for bad wind direction is -999.0. You'll also need to check NOAA's metadata for units so you can annotate your graphs appropriately.\n",
    "1. Compare monthly time series and probability densities of the daily *wind speed* ('windspeed'). If you choose this option, you need to know that the flag for bad wind speed data back in the 1970s was -99.9, and the flag for bad windspeed in the 2020s is -999.9. You'll also need to check NOAA's metadata for units so you can annotate your graphs appropriately."
   ]
  },
  {
   "cell_type": "code",
   "execution_count": null,
   "metadata": {
    "deletable": false,
    "nbgrader": {
     "cell_type": "code",
     "checksum": "deeed2fafae34678038a957898b4f43e",
     "grade": true,
     "grade_id": "cell-10ce8652003ebf30",
     "locked": false,
     "points": 8,
     "schema_version": 3,
     "solution": true,
     "task": false
    }
   },
   "outputs": [],
   "source": [
    "# your code here \n"
   ]
  },
  {
   "cell_type": "markdown",
   "metadata": {
    "deletable": false,
    "editable": false,
    "nbgrader": {
     "cell_type": "markdown",
     "checksum": "fc4f8d211b384aabd0fc6aaabc6041c6",
     "grade": false,
     "grade_id": "cell-079da2cdfc1fd8bf",
     "locked": true,
     "schema_version": 3,
     "solution": false,
     "task": false
    }
   },
   "source": [
    "### Pause for analysis\n",
    "Describe the trend you see; as before, key ideas are most-probable values, and variablity. Examples ... \n",
    "- \"Winds nowadays in Utqiakvik appear to be coming more from the ____ (North/South/West/East)\"  \n",
    "- \"Utqiakvik appears to be getting windier (or less windy) in today's warmer climate\"\n",
    "- \"Wind speed in Utqiakvik seems to have remained about the same since the 1970s\""
   ]
  },
  {
   "cell_type": "markdown",
   "metadata": {
    "deletable": false,
    "nbgrader": {
     "cell_type": "markdown",
     "checksum": "fe40e6c53f62898d485a9f005e3a7ca6",
     "grade": true,
     "grade_id": "cell-ab8ff54ebf105a6c",
     "locked": false,
     "points": 4,
     "schema_version": 3,
     "solution": true,
     "task": false
    }
   },
   "source": [
    "YOUR ANSWER HERE"
   ]
  },
  {
   "cell_type": "markdown",
   "metadata": {
    "deletable": false,
    "editable": false,
    "nbgrader": {
     "cell_type": "markdown",
     "checksum": "608f522ee629d195474b3ea6e7606ab8",
     "grade": false,
     "grade_id": "cell-4f651762bd7853b2",
     "locked": true,
     "schema_version": 3,
     "solution": false,
     "task": false
    }
   },
   "source": [
    "### Refresh/save/validate\n",
    "Double-check everything is OK, and press the \"Validate\" button (as usual).\n",
    "\n",
    "### Close/submit/logout\n",
    "Close, submit, and log out."
   ]
  }
 ],
 "metadata": {
  "colab": {
   "collapsed_sections": [
    "Y9FYdfBDH_Y0",
    "ZtUNpoFJvuNV"
   ],
   "name": "Climatestats.ipynb",
   "provenance": []
  },
  "kernelspec": {
   "display_name": "Python 3 (ipykernel)",
   "language": "python",
   "name": "python3"
  },
  "language_info": {
   "codemirror_mode": {
    "name": "ipython",
    "version": 3
   },
   "file_extension": ".py",
   "mimetype": "text/x-python",
   "name": "python",
   "nbconvert_exporter": "python",
   "pygments_lexer": "ipython3",
   "version": "3.10.2"
  }
 },
 "nbformat": 4,
 "nbformat_minor": 1
}

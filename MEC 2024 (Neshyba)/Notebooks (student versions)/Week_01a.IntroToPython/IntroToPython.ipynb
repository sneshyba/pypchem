{
 "cells": [
  {
   "cell_type": "markdown",
   "metadata": {
    "deletable": false,
    "editable": false,
    "id": "72Dt7fEhD9y-",
    "nbgrader": {
     "cell_type": "markdown",
     "checksum": "b8a84a7b4994a2a78fe32baf380c4747",
     "grade": false,
     "grade_id": "cell-7f22f7773acda3eb",
     "locked": true,
     "schema_version": 3,
     "solution": false,
     "task": false
    }
   },
   "source": [
    "### Computational Guided Inquiry for Modeling Earth's Climate (Pfalzgraff & Neshyba, 2024)\n",
    "\n",
    "# Introduction to Python\n",
    "\n",
    "## Overview\n",
    "Python is a widely used, open source programming language developed by Guido van Rossum. It was first released in 1991. Python is a great language for beginner programmers because it was designed with the newcomer in mind, but it also has extensive mathematical and scientific libraries. And it's free!\n",
    "\n",
    "Here, the goal is for you to get used to some of the basics of python usage: how to use it as a calculator, and how to generate and plot arrays of numbers.\n",
    "\n",
    "## The *e-format* convention for very big and very small numbers\n",
    "\n",
    "When working in a computational environment like Python, it's important to get used to entering numbers that are very big, or very small, using the *e-format* convention. For example, the *Stefan-Boltzmann Constant*, $\\sigma$, has the value $5.67 \\times 10^{-9} \\ {W \\over {m^2 K^4}}$. In Python you would enter that value using the e-format convention, as \"5.67e-8\". The \"e\" can be \"E\", by the way; the e-format convention is not case-sensitive.\n",
    "\n",
    "## Named variables\n",
    "\n",
    "Another idea that will help as you go through this module is that Python has a built-in way of storing quantities, called *named variables*. What we mean by this is, when you calculate a quantity (say, the pressure of a gas), you have the option of giving that pressure a unique name -- it can be as simple as \"x\". Then Python will keep that value for you to use later. This might not sound like much, but when you're faced with complex, multi-step calculations, it's very handy -- essential, really. \n",
    "\n",
    "\n",
    "## Computing skills\n",
    "\n",
    "1. I can use python to print text, numbers, and the results of algebraic expressions.\n",
    "1. I can use the *e-format convention* to enter numbers that are very big or very small.\n",
    "1. I can create arrays of numbers \"from scratch\" using linspace, and other arrays of numbers from them.\n",
    "1. I know how to use pyplot to make simple graphs with basic annotation.\n",
    "1. I understand what named variables are, and can explain why they're useful.\n",
    "1. I understand what the *order of operations* rules are, and can apply them."
   ]
  },
  {
   "cell_type": "markdown",
   "metadata": {
    "deletable": false,
    "editable": false,
    "id": "Z_x-kxEB8A__",
    "nbgrader": {
     "cell_type": "markdown",
     "checksum": "07d99753054bf4f74d466774d5ee702f",
     "grade": false,
     "grade_id": "cell-310399c563a36c22",
     "locked": true,
     "schema_version": 3,
     "solution": false,
     "task": false
    }
   },
   "source": [
    "### Importing resources\n",
    "Generally, you'll need to bring in the libraries for numerical operations and graphics. That's what the next two cells do. Click in the two boxes below, and press shift-enter to execute one after another."
   ]
  },
  {
   "cell_type": "code",
   "execution_count": null,
   "metadata": {
    "deletable": false,
    "editable": false,
    "executionInfo": {
     "elapsed": 136,
     "status": "ok",
     "timestamp": 1624505477391,
     "user": {
      "displayName": "Jesus Deloya Garcia",
      "photoUrl": "",
      "userId": "00001932609572610710"
     },
     "user_tz": 420
    },
    "id": "AGlAnVvG8A__",
    "nbgrader": {
     "cell_type": "code",
     "checksum": "aacd3896996186f8b2eaeeb2b236e9b7",
     "grade": false,
     "grade_id": "cell-18156fa86d41a7a7",
     "locked": true,
     "schema_version": 3,
     "solution": false,
     "task": false
    }
   },
   "outputs": [],
   "source": [
    "import numpy as np\n",
    "import matplotlib.pyplot as plt"
   ]
  },
  {
   "cell_type": "code",
   "execution_count": null,
   "metadata": {
    "deletable": false,
    "editable": false,
    "nbgrader": {
     "cell_type": "code",
     "checksum": "4a5599cabe652f6426c7b67e3f339408",
     "grade": false,
     "grade_id": "cell-792c5c29f84a3d76",
     "locked": true,
     "schema_version": 3,
     "solution": false,
     "task": false
    }
   },
   "outputs": [],
   "source": [
    "%matplotlib notebook"
   ]
  },
  {
   "cell_type": "markdown",
   "metadata": {
    "deletable": false,
    "editable": false,
    "id": "bOeoOSG28BAA",
    "nbgrader": {
     "cell_type": "markdown",
     "checksum": "f6940239946c595d76c0a8f14a8a5886",
     "grade": false,
     "grade_id": "cell-8a9871b295032508",
     "locked": true,
     "schema_version": 3,
     "solution": false,
     "task": false
    }
   },
   "source": [
    "### Printing to the screen\n",
    "The purpose of the cell below is to get your program to output the phrase _Hello, world!_ You can run this cell by pressing shift-enter, like before."
   ]
  },
  {
   "cell_type": "code",
   "execution_count": null,
   "metadata": {
    "colab": {
     "base_uri": "https://localhost:8080/"
    },
    "deletable": false,
    "editable": false,
    "executionInfo": {
     "elapsed": 6,
     "status": "ok",
     "timestamp": 1623957240100,
     "user": {
      "displayName": "Steven Neshyba",
      "photoUrl": "https://lh3.googleusercontent.com/a-/AOh14GhNBBB4oUDYM5LFwp5QBiZMax8b3ieYXI_9F1wa=s64",
      "userId": "12688310908552577631"
     },
     "user_tz": 420
    },
    "id": "_WdJUSXp8BAA",
    "nbgrader": {
     "cell_type": "code",
     "checksum": "02680cf1ed44ddf060112e1b67a7e629",
     "grade": false,
     "grade_id": "cell-b43d6e30a72ab008",
     "locked": true,
     "schema_version": 3,
     "solution": false,
     "task": false
    },
    "outputId": "4317ca4b-d201-47d9-da84-ba3fb4af3279"
   },
   "outputs": [],
   "source": [
    "print(\"Hello, World!\")"
   ]
  },
  {
   "cell_type": "markdown",
   "metadata": {
    "deletable": false,
    "editable": false,
    "id": "eBvcJdn88BAA",
    "nbgrader": {
     "cell_type": "markdown",
     "checksum": "bb25a3e03b76e4159ae23ecd78d75fbc",
     "grade": false,
     "grade_id": "cell-697722fe3692cb2a",
     "locked": true,
     "schema_version": 3,
     "solution": false,
     "task": false
    }
   },
   "source": [
    "### Your turn\n",
    "Use the cell below to output the statement \"Python is cool!\" (remember you need to put the text in quotation marks): "
   ]
  },
  {
   "cell_type": "code",
   "execution_count": null,
   "metadata": {
    "colab": {
     "base_uri": "https://localhost:8080/"
    },
    "deletable": false,
    "executionInfo": {
     "elapsed": 4,
     "status": "ok",
     "timestamp": 1623957240100,
     "user": {
      "displayName": "Steven Neshyba",
      "photoUrl": "https://lh3.googleusercontent.com/a-/AOh14GhNBBB4oUDYM5LFwp5QBiZMax8b3ieYXI_9F1wa=s64",
      "userId": "12688310908552577631"
     },
     "user_tz": 420
    },
    "id": "eUOoj8pR8BAB",
    "nbgrader": {
     "cell_type": "code",
     "checksum": "5455d5b6b8c05bf2e3498bb44990cc3f",
     "grade": true,
     "grade_id": "cell-f0ebc8114a22e723",
     "locked": false,
     "points": 3,
     "schema_version": 3,
     "solution": true,
     "task": false
    },
    "outputId": "063f5514-3450-405c-bed7-dc6abb7be1ac"
   },
   "outputs": [],
   "source": [
    "# your code here \n"
   ]
  },
  {
   "cell_type": "markdown",
   "metadata": {
    "deletable": false,
    "editable": false,
    "id": "cpkHKvjO8BAB",
    "nbgrader": {
     "cell_type": "markdown",
     "checksum": "155aee34ffcfac63bc7ccbb19b9c97aa",
     "grade": false,
     "grade_id": "cell-efc41cc25e593da2",
     "locked": true,
     "schema_version": 3,
     "solution": false,
     "task": false
    }
   },
   "source": [
    "### Using Python as a calculator\n",
    "\n",
    "Execute (i.e., press shift-enter) the cell below."
   ]
  },
  {
   "cell_type": "code",
   "execution_count": null,
   "metadata": {
    "colab": {
     "base_uri": "https://localhost:8080/"
    },
    "deletable": false,
    "editable": false,
    "executionInfo": {
     "elapsed": 4,
     "status": "ok",
     "timestamp": 1623957240101,
     "user": {
      "displayName": "Steven Neshyba",
      "photoUrl": "https://lh3.googleusercontent.com/a-/AOh14GhNBBB4oUDYM5LFwp5QBiZMax8b3ieYXI_9F1wa=s64",
      "userId": "12688310908552577631"
     },
     "user_tz": 420
    },
    "id": "Zt2eqWvo8BAB",
    "nbgrader": {
     "cell_type": "code",
     "checksum": "7882b0e1e3220627884d979af4c52533",
     "grade": false,
     "grade_id": "cell-ffa4082477321d7e",
     "locked": true,
     "schema_version": 3,
     "solution": false,
     "task": false
    },
    "outputId": "2bb01879-bddd-4fac-fce3-32104138d325"
   },
   "outputs": [],
   "source": [
    "# Adding: 5 + 10\n",
    "print(5 + 10) \n",
    "print(5 + 10.0) "
   ]
  },
  {
   "cell_type": "markdown",
   "metadata": {
    "deletable": false,
    "editable": false,
    "id": "AEWMkCa88BAC",
    "nbgrader": {
     "cell_type": "markdown",
     "checksum": "13c543dab95fe399eaa0ba91dbb80195",
     "grade": false,
     "grade_id": "cell-96b318007f78cd90",
     "locked": true,
     "schema_version": 3,
     "solution": false,
     "task": false
    }
   },
   "source": [
    "A few things to note about the cell above: \n",
    "\n",
    "1. We have used the pound symbol (#) at the top of the cell. This is used to indicate a _comment_. Comments are used to make it easier to read and understand, but they don't _do_ anything.   \n",
    "2. Python will output _integers_ if you add or multiply integers, otherwise you're likely to get a _floating point_ number (which is Python's equivalent of a real number).  \n",
    "3. We've placed a space before and after the plus signs, but that's just cosmetic; we'd get the exact same answers if the spaces weren't there."
   ]
  },
  {
   "cell_type": "markdown",
   "metadata": {
    "deletable": false,
    "editable": false,
    "id": "cJhaneAW8BAD",
    "nbgrader": {
     "cell_type": "markdown",
     "checksum": "fa8fc326950090ddd42f2087792be5b7",
     "grade": false,
     "grade_id": "cell-cb3fd39f741f524e",
     "locked": true,
     "schema_version": 3,
     "solution": false,
     "task": false
    }
   },
   "source": [
    "### Raising to a power\n",
    "We can also get exponents, although the syntax might be different than what you are used to: python uses double asterisks. Execute the cell below to get a feel for it."
   ]
  },
  {
   "cell_type": "code",
   "execution_count": null,
   "metadata": {
    "colab": {
     "base_uri": "https://localhost:8080/"
    },
    "deletable": false,
    "editable": false,
    "executionInfo": {
     "elapsed": 2,
     "status": "ok",
     "timestamp": 1623957240223,
     "user": {
      "displayName": "Steven Neshyba",
      "photoUrl": "https://lh3.googleusercontent.com/a-/AOh14GhNBBB4oUDYM5LFwp5QBiZMax8b3ieYXI_9F1wa=s64",
      "userId": "12688310908552577631"
     },
     "user_tz": 420
    },
    "id": "IGwYTXGa8BAD",
    "nbgrader": {
     "cell_type": "code",
     "checksum": "10d0b7038f4b6b0497b823b9318281b2",
     "grade": false,
     "grade_id": "cell-95eccb04e68bda20",
     "locked": true,
     "schema_version": 3,
     "solution": false,
     "task": false
    },
    "outputId": "319f1baf-1d96-4026-ff95-603312674f1f"
   },
   "outputs": [],
   "source": [
    "# Double asterisks (*) are used to represent an exponent\n",
    "print(2**2)\n",
    "\n",
    "# Sometimes you'll need to put the exponent in parentheses\n",
    "print(2**(1/2))"
   ]
  },
  {
   "cell_type": "markdown",
   "metadata": {
    "deletable": false,
    "editable": false,
    "id": "MXZ8qGTr8BAE",
    "nbgrader": {
     "cell_type": "markdown",
     "checksum": "97deec1a86bc0ac601e95fb0543a3274",
     "grade": false,
     "grade_id": "cell-90eaec43986cdc59",
     "locked": true,
     "schema_version": 3,
     "solution": false,
     "task": false
    }
   },
   "source": [
    "### Storing data as named variables\n",
    "Python can also make use of _named variables_ for computation. It's super handy! Execute the cell below and study the results."
   ]
  },
  {
   "cell_type": "code",
   "execution_count": null,
   "metadata": {
    "deletable": false,
    "editable": false,
    "executionInfo": {
     "elapsed": 140,
     "status": "ok",
     "timestamp": 1624504861818,
     "user": {
      "displayName": "Jesus Deloya Garcia",
      "photoUrl": "",
      "userId": "00001932609572610710"
     },
     "user_tz": 420
    },
    "id": "8nE-y0SU8BAE",
    "nbgrader": {
     "cell_type": "code",
     "checksum": "3337ac215cc0cebfeb71559b8fd04ce5",
     "grade": false,
     "grade_id": "cell-60a1575f2b05f70b",
     "locked": true,
     "schema_version": 3,
     "solution": false,
     "task": false
    }
   },
   "outputs": [],
   "source": [
    "x = 5\n",
    "X = 10\n",
    "CO2_emission_per_average_American = 20.0\n",
    "print(x)\n",
    "print(X)\n",
    "print(CO2_emission_per_average_American)\n",
    "print(x,X,CO2_emission_per_average_American)"
   ]
  },
  {
   "cell_type": "markdown",
   "metadata": {
    "deletable": false,
    "editable": false,
    "nbgrader": {
     "cell_type": "markdown",
     "checksum": "e9959289b015c4d79c962bb754765c97",
     "grade": false,
     "grade_id": "cell-30659d5b2d0c6dec",
     "locked": true,
     "schema_version": 3,
     "solution": false,
     "task": false
    }
   },
   "source": [
    "OK, some things to note about this: \n",
    "\n",
    "- Variable names are case-sensitive (so \"x\" and \"X\" were different variables).   \n",
    "- Once a variable is assigned a value, it'll keep that value until you change it -- this even carries over into different cells.  \n",
    "- Some names should never be used for variables because Python has reserved them for special purposes. For example, you shouldn't enter things like \"print = 5\", because if you do, you won't be able to print anything to the screen!. You will know you have typed a reserved word because it will appear green in your Notebook.  \n",
    "- Speaking of printing, you'll notice that you can print multiple things, as long as they're separated by commas.\n",
    "- Python accepts values in scientific notation (like 6.6e-34)."
   ]
  },
  {
   "cell_type": "markdown",
   "metadata": {
    "deletable": false,
    "editable": false,
    "nbgrader": {
     "cell_type": "markdown",
     "checksum": "60ec16762fc171e5a9aa6ce1c03c3cd4",
     "grade": false,
     "grade_id": "cell-0db1bf406f59ca9b",
     "locked": true,
     "schema_version": 3,
     "solution": false,
     "task": false
    }
   },
   "source": [
    "### The *e-format* convention\n",
    "The cell below demonstrates how to enter a big number -- in this case the annual anthropogenic emission of $CO_2$, $45 \\times 10^9$ tonnes of $CO_2$ per year. A *tonne* is a *metric ton*, by the way: it's equal to 1000 kg, or about the mass of a hippopotamous.\n",
    "\n",
    "We also have an example of a small number -- in this case, the mass of a single $CO_2$ molecule, $7.3 \\times 10^{-23}$ grams."
   ]
  },
  {
   "cell_type": "code",
   "execution_count": null,
   "metadata": {
    "deletable": false,
    "editable": false,
    "nbgrader": {
     "cell_type": "code",
     "checksum": "5f3aec7e27770a332d867ba0d562e0d4",
     "grade": false,
     "grade_id": "cell-aded7514329c5305",
     "locked": true,
     "schema_version": 3,
     "solution": false,
     "task": false
    }
   },
   "outputs": [],
   "source": [
    "annual_CO2_emissions = 45e9\n",
    "print('annual_emissions of CO2 =', annual_CO2_emissions)\n",
    "mass_of_one_CO2 = 7.3e-23\n",
    "print('mass_of_CO2 =', mass_of_one_CO2)"
   ]
  },
  {
   "cell_type": "markdown",
   "metadata": {
    "deletable": false,
    "editable": false,
    "nbgrader": {
     "cell_type": "markdown",
     "checksum": "4e9e513e0304f9f7e46c064fce0a5dff",
     "grade": false,
     "grade_id": "cell-81c022e7c3c2c1d2",
     "locked": true,
     "schema_version": 3,
     "solution": false,
     "task": false
    }
   },
   "source": [
    "### Your turn\n",
    "Some climatologists prefer to think about anthropogenic emissions in terms of just the carbon part of it. That number is about $12 \\times 10^9$ tonnes. In the cell below, enter that number as a named variable (you can choose the name).\n",
    "\n",
    "While you're at it, enter the mass of the carbon atom in a molecule of $CO_2$, $2.0 \\times 10^{-23} grams$, as a named variable (again, your choice of name).\n",
    "\n",
    "Print both values."
   ]
  },
  {
   "cell_type": "code",
   "execution_count": null,
   "metadata": {
    "deletable": false,
    "nbgrader": {
     "cell_type": "code",
     "checksum": "d73ab57e600f06bde7fac18819b99afc",
     "grade": true,
     "grade_id": "cell-b1837d0c4fbca934",
     "locked": false,
     "points": 2,
     "schema_version": 3,
     "solution": true,
     "task": false
    }
   },
   "outputs": [],
   "source": [
    "# your code here \n"
   ]
  },
  {
   "cell_type": "markdown",
   "metadata": {
    "deletable": false,
    "editable": false,
    "id": "LjjIwmkG8BAE",
    "nbgrader": {
     "cell_type": "markdown",
     "checksum": "c6de14acba0422bfed0493a1bd6a8562",
     "grade": false,
     "grade_id": "cell-986045a42b605dfb",
     "locked": true,
     "schema_version": 3,
     "solution": false,
     "task": false
    }
   },
   "source": [
    "### Three steps for refreshing and saving your code\n",
    "It's good practice to, periodically, re-run the notebook up to a given point, from the beginning, refreshing all the named variables:\n",
    "\n",
    "1. Use the dropdown menu Kernel/Restart\n",
    "2. Use the dropdown menu Cell/Run All Above\n",
    "\n",
    "Try this now! Assuming all goes well, take this additional step:\n",
    "\n",
    "3. Under the \"File\" dropdown menu item in the upper left is a disk icon. Press it now to save your work (and do it again every few minutes!)"
   ]
  },
  {
   "cell_type": "markdown",
   "metadata": {
    "deletable": false,
    "editable": false,
    "nbgrader": {
     "cell_type": "markdown",
     "checksum": "9997970593174d8a510056815f4ccbe9",
     "grade": false,
     "grade_id": "cell-f0e5b8f781e3b7ef",
     "locked": true,
     "schema_version": 3,
     "solution": false,
     "task": false
    }
   },
   "source": [
    "### Order of operations\n",
    "Python follows the standard order of operations that hand calculators and spreadsheets use: multiply and divide take precedence over adding and subtracting, and parentheses take precedence over that.\n",
    "\n",
    "In the cell below, make three named variables ($a$, $b$, $c$), according to \n",
    "\n",
    "- $a = 9 * 8^2 - 13$  \n",
    "- $b = 9 * (8^2-13)$  \n",
    "- $c = (9 * 8^2)-13$  \n",
    "\n",
    "Print each named variable."
   ]
  },
  {
   "cell_type": "code",
   "execution_count": null,
   "metadata": {
    "colab": {
     "base_uri": "https://localhost:8080/"
    },
    "deletable": false,
    "executionInfo": {
     "elapsed": 125,
     "status": "ok",
     "timestamp": 1623957240223,
     "user": {
      "displayName": "Steven Neshyba",
      "photoUrl": "https://lh3.googleusercontent.com/a-/AOh14GhNBBB4oUDYM5LFwp5QBiZMax8b3ieYXI_9F1wa=s64",
      "userId": "12688310908552577631"
     },
     "user_tz": 420
    },
    "id": "pJ_DUATi8BAD",
    "nbgrader": {
     "cell_type": "code",
     "checksum": "bc99651343e127d8184c863038ad2395",
     "grade": true,
     "grade_id": "cell-055dab71634d14aa",
     "locked": false,
     "points": 2,
     "schema_version": 3,
     "solution": true,
     "task": false
    },
    "outputId": "e359d05b-ed0c-4039-fbbf-ce54124cb98e"
   },
   "outputs": [],
   "source": [
    "# your code here \n"
   ]
  },
  {
   "cell_type": "markdown",
   "metadata": {
    "deletable": false,
    "editable": false,
    "nbgrader": {
     "cell_type": "markdown",
     "checksum": "0bd58ee5cfa14518c1fb01d48e57fd2a",
     "grade": false,
     "grade_id": "cell-535d43644b523142",
     "locked": true,
     "schema_version": 3,
     "solution": false,
     "task": false
    }
   },
   "source": [
    "### Pause for Analysis\n",
    "In the cell below, explain why one of the values you just got is different from the other two. "
   ]
  },
  {
   "cell_type": "markdown",
   "metadata": {
    "deletable": false,
    "nbgrader": {
     "cell_type": "markdown",
     "checksum": "0db61aad8879375c484f611a95b271e6",
     "grade": true,
     "grade_id": "cell-3cdbb69db9f0016a",
     "locked": false,
     "points": 1,
     "schema_version": 3,
     "solution": true,
     "task": false
    }
   },
   "source": [
    "YOUR ANSWER HERE"
   ]
  },
  {
   "cell_type": "markdown",
   "metadata": {
    "deletable": false,
    "editable": false,
    "id": "XZrSuYB08BAF",
    "nbgrader": {
     "cell_type": "markdown",
     "checksum": "83cb74b787e8f9559b5b539cc622587f",
     "grade": false,
     "grade_id": "cell-9f20b0134b9661a0",
     "locked": true,
     "schema_version": 3,
     "solution": false,
     "task": false
    }
   },
   "source": [
    "### Scalars vs arrays\n",
    "So far we have discussed variables having just a single value. These are called _scalars_. Often, however, we want to work with _arrays_ of numbers. Numpy's _linspace_ function is an easy way to set that up. In the example below, we create an array of twenty numbers, from -5 to +5, and store it as variable xarray."
   ]
  },
  {
   "cell_type": "code",
   "execution_count": null,
   "metadata": {
    "colab": {
     "base_uri": "https://localhost:8080/"
    },
    "deletable": false,
    "editable": false,
    "executionInfo": {
     "elapsed": 136,
     "status": "ok",
     "timestamp": 1624505490865,
     "user": {
      "displayName": "Jesus Deloya Garcia",
      "photoUrl": "",
      "userId": "00001932609572610710"
     },
     "user_tz": 420
    },
    "id": "y3zMLxKd8BAF",
    "nbgrader": {
     "cell_type": "code",
     "checksum": "9ca08dad19fd0bcf548597d79e23db6d",
     "grade": false,
     "grade_id": "cell-2dc5fd7face34844",
     "locked": true,
     "schema_version": 3,
     "solution": false,
     "task": false
    },
    "outputId": "3acf98cd-214d-4c91-a884-069a60c7980c"
   },
   "outputs": [],
   "source": [
    "# Create an array\n",
    "xarray = np.linspace(-5,5,num=20)\n",
    "\n",
    "# Print it\n",
    "print(xarray)"
   ]
  },
  {
   "cell_type": "markdown",
   "metadata": {
    "deletable": false,
    "editable": false,
    "nbgrader": {
     "cell_type": "markdown",
     "checksum": "0d8b10b5010f93de0545d993e5eabf61",
     "grade": false,
     "grade_id": "cell-238bba071f133f43",
     "locked": true,
     "schema_version": 3,
     "solution": false,
     "task": false
    }
   },
   "source": [
    "### Your turn\n",
    "Remake the x-array, but running from 0 to 2, with 50 values, and print it."
   ]
  },
  {
   "cell_type": "code",
   "execution_count": null,
   "metadata": {
    "deletable": false,
    "nbgrader": {
     "cell_type": "code",
     "checksum": "971e1b7ed2c1295cf93612a47b5bcc3a",
     "grade": true,
     "grade_id": "cell-e273c30921cd5e8f",
     "locked": false,
     "points": 2,
     "schema_version": 3,
     "solution": true,
     "task": false
    }
   },
   "outputs": [],
   "source": [
    "# your code here \n"
   ]
  },
  {
   "cell_type": "markdown",
   "metadata": {
    "deletable": false,
    "editable": false,
    "id": "s3UwX3nh8BAF",
    "nbgrader": {
     "cell_type": "markdown",
     "checksum": "cb0ec60c884c650538186cdc47f946fa",
     "grade": false,
     "grade_id": "cell-865ce8a40ca95aee",
     "locked": true,
     "schema_version": 3,
     "solution": false,
     "task": false
    }
   },
   "source": [
    "### Making arrays from other arrays\n",
    "Here's something cool: when you use an array in an algebraic expression, the resulting variable is also an array! The cell below calculates the array version of $x^2$, for example, and stores the result in a new variable called \"xsquared\"."
   ]
  },
  {
   "cell_type": "code",
   "execution_count": null,
   "metadata": {
    "colab": {
     "base_uri": "https://localhost:8080/"
    },
    "deletable": false,
    "editable": false,
    "executionInfo": {
     "elapsed": 2,
     "status": "ok",
     "timestamp": 1623957240334,
     "user": {
      "displayName": "Steven Neshyba",
      "photoUrl": "https://lh3.googleusercontent.com/a-/AOh14GhNBBB4oUDYM5LFwp5QBiZMax8b3ieYXI_9F1wa=s64",
      "userId": "12688310908552577631"
     },
     "user_tz": 420
    },
    "id": "2ENJGI6w8BAG",
    "nbgrader": {
     "cell_type": "code",
     "checksum": "8501873af9a6422cdda7ed178af26a1e",
     "grade": false,
     "grade_id": "cell-a5a02b920c8b82a3",
     "locked": true,
     "schema_version": 3,
     "solution": false,
     "task": false
    },
    "outputId": "37f7280d-b0ce-4e78-f2c5-80f3015fca02"
   },
   "outputs": [],
   "source": [
    "xsquared = xarray**2\n",
    "print(xsquared)"
   ]
  },
  {
   "cell_type": "markdown",
   "metadata": {
    "deletable": false,
    "editable": false,
    "nbgrader": {
     "cell_type": "markdown",
     "checksum": "5a793daa704728717631d50af965b958",
     "grade": false,
     "grade_id": "cell-798a897b9ea545a7",
     "locked": true,
     "schema_version": 3,
     "solution": false,
     "task": false
    }
   },
   "source": [
    "### Your turn\n",
    "In the cell below, make an array corresponding to $x^{1/2}$; name this new array \"rootx\", and print it."
   ]
  },
  {
   "cell_type": "code",
   "execution_count": null,
   "metadata": {
    "deletable": false,
    "nbgrader": {
     "cell_type": "code",
     "checksum": "577efca1b9c926259cee318cbc6da4b1",
     "grade": true,
     "grade_id": "cell-2cdd596a9617d4da",
     "locked": false,
     "points": 2,
     "schema_version": 3,
     "solution": true,
     "task": false
    }
   },
   "outputs": [],
   "source": [
    "# your code here \n"
   ]
  },
  {
   "cell_type": "markdown",
   "metadata": {
    "deletable": false,
    "editable": false,
    "nbgrader": {
     "cell_type": "markdown",
     "checksum": "fa572834647e9cf74ddcf4be05fcc59b",
     "grade": false,
     "grade_id": "cell-de532e92e2fcb4d4",
     "locked": true,
     "schema_version": 3,
     "solution": false,
     "task": false
    }
   },
   "source": [
    "### Graphing\n",
    "How about visualizing these relationships? The cell below shows how to do this with the arrays you've created. There's also some annotating -- the x- and y-axes are labeled, and we've added a grid."
   ]
  },
  {
   "cell_type": "code",
   "execution_count": null,
   "metadata": {
    "deletable": false,
    "editable": false,
    "nbgrader": {
     "cell_type": "code",
     "checksum": "b0901c123ee923c61ffd814b6729dd88",
     "grade": false,
     "grade_id": "cell-b1acdd862efabfe9",
     "locked": true,
     "schema_version": 3,
     "solution": false,
     "task": false
    }
   },
   "outputs": [],
   "source": [
    "# Initialize the plot window\n",
    "plt.figure()\n",
    "\n",
    "# Plot x^2 as a function of x\n",
    "plt.plot(xarray,xsquared)\n",
    "\n",
    "# Annotate the axes\n",
    "plt.xlabel('x')\n",
    "plt.ylabel('x^2')\n",
    "plt.grid(True)"
   ]
  },
  {
   "cell_type": "markdown",
   "metadata": {
    "deletable": false,
    "editable": false,
    "nbgrader": {
     "cell_type": "markdown",
     "checksum": "c38b93bbd54cc57b3922fd41d54356ea",
     "grade": false,
     "grade_id": "cell-732b24cf20724c85",
     "locked": true,
     "schema_version": 3,
     "solution": false,
     "task": false
    }
   },
   "source": [
    "### Your turn\n",
    "In the cell below, plot $x^{1/2}$ as a function of x, and annotate like above."
   ]
  },
  {
   "cell_type": "code",
   "execution_count": null,
   "metadata": {
    "deletable": false,
    "nbgrader": {
     "cell_type": "code",
     "checksum": "0f7dc81138a6bfbcc7d34e09d9a391d3",
     "grade": true,
     "grade_id": "cell-4646e09e5363d0a4",
     "locked": false,
     "points": 3,
     "schema_version": 3,
     "solution": true,
     "task": false
    }
   },
   "outputs": [],
   "source": [
    "# Initialize the plot window\n",
    "# your code here \n",
    "\n",
    "\n",
    "# Plot x^(1/2) as a function of x\n",
    "# your code here \n",
    "\n",
    "\n",
    "# Annotate the axes\n",
    "# your code here \n"
   ]
  },
  {
   "cell_type": "markdown",
   "metadata": {
    "deletable": false,
    "editable": false,
    "id": "pqU9z2Jx8BAH",
    "nbgrader": {
     "cell_type": "markdown",
     "checksum": "147c3f9f8385bf28ab1303846cc9e1a4",
     "grade": false,
     "grade_id": "cell-1707d53b1246184a",
     "locked": true,
     "schema_version": 3,
     "solution": false,
     "task": false
    }
   },
   "source": [
    "### One last refresh and save\n",
    "We're at the end of the notebook. You should repeat the \"Three steps for refreshing and saving your code\" you did before. Instead of using the dropdown menu \"Cell/Run All Above\", however, you may as well use \"Cell/Run All\".\n",
    "\n",
    "### Validating\n",
    "This step will help ensure that you didn't miss a cell. Find the \"Validate\" button and press it. If there are any errors or warnings, fix them.\n",
    "\n",
    "### Three steps for finishing up\n",
    "Assuming all this has gone smoothly, there will be three more steps (but read this carefully before carrying them out, because after the first one, this notebook will disappear):\n",
    "1. Close this notebook using the \"File/Close and Halt\" dropdown menu\n",
    "1. Using the Assignments tab, submit this notebook\n",
    "1. Press the Logout tab of the Home Page"
   ]
  }
 ],
 "metadata": {
  "colab": {
   "collapsed_sections": [],
   "name": "1.Introduction_to_python3.ipynb",
   "provenance": []
  },
  "kernelspec": {
   "display_name": "Python 3 (ipykernel)",
   "language": "python",
   "name": "python3"
  },
  "language_info": {
   "codemirror_mode": {
    "name": "ipython",
    "version": 3
   },
   "file_extension": ".py",
   "mimetype": "text/x-python",
   "name": "python",
   "nbconvert_exporter": "python",
   "pygments_lexer": "ipython3",
   "version": "3.10.2"
  }
 },
 "nbformat": 4,
 "nbformat_minor": 1
}

{
 "cells": [
  {
   "cell_type": "markdown",
   "metadata": {
    "deletable": false,
    "editable": false,
    "id": "HEFjocdv1OeY",
    "nbgrader": {
     "cell_type": "markdown",
     "checksum": "724dda815671a69032f2362e85ddf66e",
     "grade": false,
     "grade_id": "cell-874687ffa1551337",
     "locked": true,
     "schema_version": 3,
     "solution": false,
     "task": false
    }
   },
   "source": [
    "### Computational Guided Inquiry for Modeling Earth's Climate (Neshyba & Posta, 2024)\n",
    "\n",
    "# Cambio 1.0\n",
    "\n",
    "### Overview\n",
    "Here we'll put together a climate model based on carbon mass balance involving the atmosphere, land, and the oceans.\n",
    "\n",
    "$$\n",
    "F_{land->atm} =  k_{la} \\ \\ \\ (1) \n",
    "$$\n",
    "\n",
    "$$\n",
    "F_{atm->land} = k_{al0} +  k_{al1} [C_{atm}] \\ \\ \\ (2)\n",
    "$$\n",
    "\n",
    "$$\n",
    "F_{ocean->atm} = k_{oa} [C_{ocean}] \\ \\ \\ (3)\n",
    "$$\n",
    "\n",
    "$$\n",
    "F_{atm->ocean} = k_{ao} [C_{atm}] \\ \\ \\ (4)\n",
    "$$\n",
    "\n",
    "$$\n",
    "F_{human->atm} = \\epsilon(t) \\ \\ \\ (5)\n",
    "$$\n",
    "\n",
    "### Euler's method\n",
    "As previously, we'll solve this problem numerically by setting up a loop. We'll be tracking the concentration of carbon in the *ocean* reservoir, as well as the atmospheric reservoir:\n",
    "\n",
    "$$\n",
    "[C_{atm}]_{n+1} = [C_{atm}]_{n}+(F_{land->atm}+F_{ocean->atm}+F_{human->atm}-F_{atm->land}-F_{atm->ocean}) \\times \\Delta t \\ \\ \\ (6)\n",
    "$$\n",
    "\n",
    "$$\n",
    "[C_{ocean}]_{n+1} = [C_{ocean}]_{n}+(F_{atm->ocean}-F_{ocean->atm}) \\times \\Delta t \\ \\ \\ (7)\n",
    "$$\n",
    "\n",
    "where $[C_{atm}]_{n+1}$ means \"amount of carbon in the atmosphere in the next step\" and $[C_{atm}]_{n}$ means \"amount of carbon in the atmosphere in the last step,\" and so on. In Python, we'll be implementing Eqs. 6 and 7 using the \"+=\" construct, which we encountered before in CumulativeAnalysis. You'll also need to upload your emission scenario file into the Cambio1.0 folder.\n",
    "\n",
    "### Learning goals\n",
    "1. I can set up and numerically solve coupled ordinary differential equations describing the carbon mass balance between the atmosphere, land, and oceans.\n",
    "1. I can describe what the \"+=\" construct does in Python.\n",
    "1. I have a sense of the % of annual anthropogenic emissions that are absorbed by the oceans and the land at present, and of when the ocean will stop being a sink and start to become a net source of $CO_2$ to the atmosphere. \n",
    "1. I have a sense of the delay between the *timing of peak anthropogenic emissions* and *the timing of maximum atmospheric $CO_2$*, and of the reason behind that delay.\n",
    "1. I can translate between carbon amounts in the atmosphere from GtC to ppm, and back."
   ]
  },
  {
   "cell_type": "code",
   "execution_count": null,
   "metadata": {
    "deletable": false,
    "editable": false,
    "executionInfo": {
     "elapsed": 3,
     "status": "ok",
     "timestamp": 1624579410347,
     "user": {
      "displayName": "Steven Neshyba",
      "photoUrl": "https://lh3.googleusercontent.com/a-/AOh14GhNBBB4oUDYM5LFwp5QBiZMax8b3ieYXI_9F1wa=s64",
      "userId": "12688310908552577631"
     },
     "user_tz": 420
    },
    "id": "xdh4_81TpIUV",
    "nbgrader": {
     "cell_type": "code",
     "checksum": "b4e8e8b03efe98d885db7ed1e1058378",
     "grade": false,
     "grade_id": "cell-0bc2fe1310aa0761",
     "locked": true,
     "schema_version": 3,
     "solution": false,
     "task": false
    }
   },
   "outputs": [],
   "source": [
    "import numpy as np\n",
    "import pandas as pd\n",
    "import matplotlib.pyplot as plt\n",
    "import h5io"
   ]
  },
  {
   "cell_type": "code",
   "execution_count": null,
   "metadata": {
    "deletable": false,
    "editable": false,
    "nbgrader": {
     "cell_type": "code",
     "checksum": "f6d9ac9077d45ee24c9a9b80a3b4b2c5",
     "grade": false,
     "grade_id": "cell-f106a61341516ab2",
     "locked": true,
     "schema_version": 3,
     "solution": false,
     "task": false
    }
   },
   "outputs": [],
   "source": [
    "%matplotlib inline\n",
    "plt.rcParams[\"figure.figsize\"] = (12, 8)\n",
    "plt.rcParams['font.size'] = 18"
   ]
  },
  {
   "cell_type": "markdown",
   "metadata": {
    "deletable": false,
    "editable": false,
    "nbgrader": {
     "cell_type": "markdown",
     "checksum": "92907a9cafb4bcd2134dd6d3a41e9675",
     "grade": false,
     "grade_id": "cell-c1c1acd0f634f75f",
     "locked": true,
     "schema_version": 3,
     "solution": false,
     "task": false
    }
   },
   "source": [
    "### Reading in the scheduled emission scenario\n",
    "In the cell below, do the following (all of which we've done before in previous CGIs, if you want to refresh your memory):\n",
    "\n",
    "1. Use \"h5io.read_hdf5\" to read in your scheduled emissions scenario as a Python dictionary\n",
    "1. Use the \"display\" command to show the contents of the dictionary\n",
    "1. Extract the dataframe from the dictionary, and make separate time and emissions arrays from the dataframe\n",
    "1. Plot the emissions as a function of time to make sure the data are good and what you expected"
   ]
  },
  {
   "cell_type": "code",
   "execution_count": null,
   "metadata": {
    "deletable": false,
    "nbgrader": {
     "cell_type": "code",
     "checksum": "6558242f3eb89ba5fa6ebebc4033eee8",
     "grade": true,
     "grade_id": "cell-5065898134f1c477",
     "locked": false,
     "points": 8,
     "schema_version": 3,
     "solution": true,
     "task": false
    }
   },
   "outputs": [],
   "source": [
    "# your code here \n"
   ]
  },
  {
   "cell_type": "markdown",
   "metadata": {
    "deletable": false,
    "editable": false,
    "nbgrader": {
     "cell_type": "markdown",
     "checksum": "148ca21adfd4f2bfb561c71b320d60c1",
     "grade": false,
     "grade_id": "cell-8bff00b1fd337d10",
     "locked": true,
     "schema_version": 3,
     "solution": false,
     "task": false
    }
   },
   "source": [
    "### Rate constants and initial conditions\n",
    "In the cell below, we'll get started with the time step, which you can get from the difference between the first two elements of your $t$ array. \n",
    "\n",
    "You'll also need to specify the 1st order rate constants, as follows:\n",
    "\n",
    "    k_la = 120\n",
    "    k_al0 = 110.03 \n",
    "    k_al1 = 0.01622\n",
    "    k_oa = 0.212\n",
    "    k_ao = 0.115"
   ]
  },
  {
   "cell_type": "code",
   "execution_count": null,
   "metadata": {
    "deletable": false,
    "nbgrader": {
     "cell_type": "code",
     "checksum": "e9c5d080280b95ac15aabf7263bfa3ef",
     "grade": true,
     "grade_id": "cell-d54d646e8f1eb8d4",
     "locked": false,
     "points": 5,
     "schema_version": 3,
     "solution": true,
     "task": false
    }
   },
   "outputs": [],
   "source": [
    "# your code here \n"
   ]
  },
  {
   "cell_type": "markdown",
   "metadata": {
    "deletable": false,
    "editable": false,
    "nbgrader": {
     "cell_type": "markdown",
     "checksum": "0911add437431e2ee2cdeadf3eb82b54",
     "grade": false,
     "grade_id": "cell-c543f7839dd914ba",
     "locked": true,
     "schema_version": 3,
     "solution": false,
     "task": false
    }
   },
   "source": [
    "### Solving the model using Euler's method\n",
    "Your challenge is to solve the model laid out in Eqs. (1-5) using Euler's method, using the algorithms laid out in Eqs. (6-7). We've specified the starting concentrations of carbon in the atmosphere, as the pre-industrial amounts (see below). After that, the loop you set up should look a lot like what you did in CumulativeEmissions (e.g., the time frame should be the times embedded in your anthropogenic emissions model).\n",
    "\n",
    "After you have done that, you should provide some graphical output, as follows.\n",
    "\n",
    "1. A flux timeline, in which timelines of the anthopogenic flux ($\\epsilon(t)$), the net land-to-atmosphere flux ($F_{land->atm}-F_{atm->land}$), and the net ocean-to-atmosphere flux ($F_{ocean->atm}-F_{atm->ocean}$) all appear on a single graph;\n",
    "1. A concentration timeline, in which the concentrations (in GtC) of carbon in the atmosphere and oceans appear on a single graph;\n",
    "1. Another concentration timeline, this one only of the concentration of carbon in the atmosphere, but converted to ppm (i.e., your array of C_atm divided by 2.12).\n",
    "\n",
    "Annotate all these graphs using the label/legend method. "
   ]
  },
  {
   "cell_type": "code",
   "execution_count": null,
   "metadata": {
    "deletable": false,
    "nbgrader": {
     "cell_type": "code",
     "checksum": "953e57c6c1bb782316d4f805c022a71e",
     "grade": true,
     "grade_id": "cell-d54d646e8f1eb8d3",
     "locked": false,
     "points": 15,
     "schema_version": 3,
     "solution": true,
     "task": false
    }
   },
   "outputs": [],
   "source": [
    "# This specifies beginning reservoir amounts in the atmosphere (C_atm) and oceans (C_ocean), in GtC. \n",
    "C_atm = 615\n",
    "C_ocean = 334\n",
    "\n",
    "# Initialize empty numpy arrays that will hold the atmospheric & oceanic carbon amounts \n",
    "C_atm_array = np.empty(0)\n",
    "C_ocean_array = np.empty(0)\n",
    "\n",
    "# Also initialize empty numpy arrays that will hold the fluxes (you can call them F_la_array, etc)\n",
    "# your code here \n",
    "\n",
    "\n",
    "# Use an Euler's loop over time to calculate reservoir amounts and fluxes, then plot results as described above\n",
    "# your code here \n"
   ]
  },
  {
   "cell_type": "markdown",
   "metadata": {
    "deletable": false,
    "editable": false,
    "nbgrader": {
     "cell_type": "markdown",
     "checksum": "1975d867e0db34aa17abc4990ec01df3",
     "grade": false,
     "grade_id": "cell-a677111202dfef89",
     "locked": true,
     "schema_version": 3,
     "solution": false,
     "task": false
    }
   },
   "source": [
    "### A little more graphical analysis\n",
    "In the cell below, calculate the *excess* carbon in the atmosphere, i.e., \n",
    "$[C_{atm,excess}] = [C_{atm}]-[C_{atm}]^{preindustrial}$, where $[C_{atm}]^{preindustrial}$ is the starting concentration of $CO_2$ (i.e., C_atm_array[0]). Do the same for the ocean atmospheric carbon, $[C_{ocean,excess}] = [C_{ocean}]-[C_{ocean}]^{preindustrial}$.\n",
    "\n",
    "Then, plot $[C_{atm,excess}]$ and $[C_{ocean,excess}]$ on the same graph, as a function of time -- but instead of using Python's *plt.plot* command, use *plt.semilogy* (which puts the vertical axis on a log scale). Annotate using the label/legend method."
   ]
  },
  {
   "cell_type": "code",
   "execution_count": null,
   "metadata": {
    "deletable": false,
    "nbgrader": {
     "cell_type": "code",
     "checksum": "f6bde03458cba8a9ef2bdc19abe52572",
     "grade": true,
     "grade_id": "cell-8e31dd28b02058c0",
     "locked": false,
     "points": 5,
     "schema_version": 3,
     "solution": true,
     "task": false
    }
   },
   "outputs": [],
   "source": [
    "# your code here \n",
    "\n"
   ]
  },
  {
   "cell_type": "markdown",
   "metadata": {
    "deletable": false,
    "editable": false,
    "nbgrader": {
     "cell_type": "markdown",
     "checksum": "d5af26e3930005deabff59d7cd2edf79",
     "grade": false,
     "grade_id": "cell-81e10d682a09d1f0",
     "locked": true,
     "schema_version": 3,
     "solution": false,
     "task": false
    }
   },
   "source": [
    "### Pause for analyis\n",
    "In the cell below, do some analysis of your results:\n",
    "\n",
    "1. You may have noticed that the timing of maximum atmospheric $CO_2$ concentration is delayed a few years after the timing of maximum anthropogenic *emissions*. How many years is this delay? \n",
    "1. What is concentration of $CO_2$, in ppm, at its maximum? \n",
    "1. It's subtle, but if you look at the timelines of carbon in the atmosphere and ocean, you'll see that one peaks a few years after the other. Which peaks first, and why do you suppose there is a delay?\n",
    "1. Based on your \"Net fluxes\" graph, estimate the % of anthropogenic emissions in the year 2023 that will be absorbed by land, and the % that will be absorbed by oceans. You'll need to use the \"zoom\" feature to get these numbers accurately.\n",
    "1. In approximately what year will the ocean will start to become a net source of $CO_2$ to the atmosphere?\n",
    "1. Have a look at https://en.wikipedia.org/wiki/Shared_Socioeconomic_Pathways, and identify the SSP scenario that best matches your results. There's no unique answer to this, by the way, because there are timing issues and concentration issues. \n",
    "1. Have a look at that last graph you made, where you put $[C_{atm,excess}]$ and $[C_{ocean,excess}]$ on the same graph on a log scale. Approximately what ranges of time seems to produce increasing straight lines? What ranges of time seem to produce decreasing straight lines?"
   ]
  },
  {
   "cell_type": "markdown",
   "metadata": {
    "deletable": false,
    "nbgrader": {
     "cell_type": "markdown",
     "checksum": "53bab30dc758ccdcaa7786b7d77fd17e",
     "grade": true,
     "grade_id": "cell-87a68ac1f6b4be73",
     "locked": false,
     "points": 7,
     "schema_version": 3,
     "solution": true,
     "task": false
    }
   },
   "source": [
    "YOUR ANSWER HERE"
   ]
  },
  {
   "cell_type": "markdown",
   "metadata": {
    "deletable": false,
    "editable": false,
    "nbgrader": {
     "cell_type": "markdown",
     "checksum": "f9166818ce12503b8df46f27c10eb2ce",
     "grade": false,
     "grade_id": "cell-4e77fce91fa3077c",
     "locked": true,
     "schema_version": 3,
     "solution": false,
     "task": false
    }
   },
   "source": [
    "### Refresh/save/validate\n",
    "Double-check everything is OK, and press the \"Validate\" button (as usual).\n",
    "\n",
    "### Close/submit/logout\n",
    "Close, submit, and log out."
   ]
  }
 ],
 "metadata": {
  "colab": {
   "collapsed_sections": [],
   "name": "SimpleCMB.ipynb",
   "provenance": []
  },
  "kernelspec": {
   "display_name": "Python 3 (ipykernel)",
   "language": "python",
   "name": "python3"
  },
  "language_info": {
   "codemirror_mode": {
    "name": "ipython",
    "version": 3
   },
   "file_extension": ".py",
   "mimetype": "text/x-python",
   "name": "python",
   "nbconvert_exporter": "python",
   "pygments_lexer": "ipython3",
   "version": "3.10.2"
  }
 },
 "nbformat": 4,
 "nbformat_minor": 1
}

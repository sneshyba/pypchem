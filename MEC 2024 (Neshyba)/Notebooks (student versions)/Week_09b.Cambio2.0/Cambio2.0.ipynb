{
 "cells": [
  {
   "cell_type": "markdown",
   "metadata": {
    "deletable": false,
    "editable": false,
    "id": "HEFjocdv1OeY",
    "nbgrader": {
     "cell_type": "markdown",
     "checksum": "c2b110682bcc9b1d44c7477908c515d7",
     "grade": false,
     "grade_id": "cell-874687ffa1551337",
     "locked": true,
     "schema_version": 3,
     "solution": false,
     "task": false
    }
   },
   "source": [
    "### Computational Guided Inquiry for Modeling Earth's Climate (Neshyba, 2024)\n",
    "\n",
    "# Cambio 2.0\n",
    "\n",
    "## Equations of motion of Cambio2.0\n",
    "The equations of motion of Cambio2.0 are almost the same as Cambio1.0. The sole difference is that Cambio2.0 takes into account the *Henry effect*, by which the temperature dependence of the solubility of carbon dioxide in the ocean is taken into account.\n",
    "\n",
    "$$\n",
    "F_{land->atm} =  k_{la} \\ \\ \\ (1) \n",
    "$$\n",
    "\n",
    "$$\n",
    "F_{atm->land} = k_{al0} +  k_{al1} [C_{atm}] \\ \\ \\ (2)\n",
    "$$\n",
    "\n",
    "$$\n",
    "F_{ocean->atm} = k_{oa} \\times (1+DC\\times T_{anomaly}) [C_{ocean}] \\ \\ \\ (3)\n",
    "$$\n",
    "\n",
    "$$\n",
    "F_{atm->ocean} = k_{ao} [C_{atm}] \\ \\ \\ (4)\n",
    "$$\n",
    "\n",
    "$$\n",
    "F_{human->atm} = \\epsilon(t) \\ \\ \\ (5)\n",
    "$$\n",
    "\n",
    "This innovation is a first step toward incorporating feedbacks into Cambio (of which more to come later).\n",
    "\n",
    "## The *MECLib* library and other resources\n",
    "We've packed a lot of functions that you're familiar with into a resources library, *Conn350Lib*. Here's a partial list of them:\n",
    "\n",
    "- Diagnose_OceanSurfacepH  \n",
    "- Diagnose_T_anomaly  \n",
    "- Diagnose_actual_temperature  \n",
    "- Diagnose_degreesF  \n",
    "\n",
    "We're also introducing a new dictionary to contain variables that define the current state of the climate (called *ClimateState*), and new functions that solve the Cambio equations of motion (called *PropagateClimateState_Cambio1* and *PropagateClimateState_Cambio2*).\n",
    "\n",
    "## Uploading your climate emissions scenario\n",
    "As before, you'll need to upload a climate emissions scenario file (like \"Peaks_in_2040.hdf5\", or whichever one you prefer) to the Cambio2.0 folder.\n",
    "\n",
    "## Learning goals\n",
    "1. I can make effective use of Python's \"help\" command.\n",
    "1. I can explain how the *Henry effect* plays a role in these equations, and in their results.\n",
    "1. I can make lists of Python dictionaries."
   ]
  },
  {
   "cell_type": "code",
   "execution_count": null,
   "metadata": {
    "deletable": false,
    "editable": false,
    "executionInfo": {
     "elapsed": 3,
     "status": "ok",
     "timestamp": 1624579410347,
     "user": {
      "displayName": "Steven Neshyba",
      "photoUrl": "https://lh3.googleusercontent.com/a-/AOh14GhNBBB4oUDYM5LFwp5QBiZMax8b3ieYXI_9F1wa=s64",
      "userId": "12688310908552577631"
     },
     "user_tz": 420
    },
    "id": "xdh4_81TpIUV",
    "nbgrader": {
     "cell_type": "code",
     "checksum": "37aab3b250b3b93cca58ae37a18c3b95",
     "grade": false,
     "grade_id": "cell-0bc2fe1310aa0761",
     "locked": true,
     "schema_version": 3,
     "solution": false,
     "task": false
    }
   },
   "outputs": [],
   "source": [
    "import numpy as np\n",
    "import pandas as pd\n",
    "import matplotlib.pyplot as plt\n",
    "import h5io\n",
    "import sys; sys.path.append('/home'); import MECLib as CL\n",
    "from copy import copy as makeacopy"
   ]
  },
  {
   "cell_type": "code",
   "execution_count": null,
   "metadata": {
    "deletable": false,
    "editable": false,
    "nbgrader": {
     "cell_type": "code",
     "checksum": "78f6173d48342ec51f9a68736f336c0b",
     "grade": false,
     "grade_id": "cell-6c7e1cdef04e6b2f",
     "locked": true,
     "schema_version": 3,
     "solution": false,
     "task": false
    }
   },
   "outputs": [],
   "source": [
    "%matplotlib inline\n",
    "plt.rcParams[\"figure.figsize\"] = (12, 8)\n",
    "plt.rcParams['font.size'] = 18"
   ]
  },
  {
   "cell_type": "markdown",
   "metadata": {
    "deletable": false,
    "editable": false,
    "nbgrader": {
     "cell_type": "markdown",
     "checksum": "2a00d5ea248966c7506906891a1e5b7a",
     "grade": false,
     "grade_id": "cell-b88588d49859b20d",
     "locked": true,
     "schema_version": 3,
     "solution": false,
     "task": false
    }
   },
   "source": [
    "### Python's \"help\" command\n",
    "The cell below shows how to get details about functions. Try it!"
   ]
  },
  {
   "cell_type": "code",
   "execution_count": null,
   "metadata": {
    "deletable": false,
    "editable": false,
    "nbgrader": {
     "cell_type": "code",
     "checksum": "168af17b356933b7261c73b404f29b31",
     "grade": false,
     "grade_id": "cell-1154e24436ea04a3",
     "locked": true,
     "schema_version": 3,
     "solution": false,
     "task": false
    }
   },
   "outputs": [],
   "source": [
    "help(np.log10)\n",
    "help(CL.Diagnose_OceanSurfacepH)"
   ]
  },
  {
   "cell_type": "markdown",
   "metadata": {
    "deletable": false,
    "editable": false,
    "nbgrader": {
     "cell_type": "markdown",
     "checksum": "74c9f8b92a1a81970cc3c394d748b907",
     "grade": false,
     "grade_id": "cell-eb6dc4cccf9ab7d4",
     "locked": true,
     "schema_version": 3,
     "solution": false,
     "task": false
    }
   },
   "source": [
    "### Your turn\n",
    "Use Python's \"help\" command to get help on a couple of functions in the CL library (check out the list in the Introduction)."
   ]
  },
  {
   "cell_type": "code",
   "execution_count": null,
   "metadata": {
    "deletable": false,
    "nbgrader": {
     "cell_type": "code",
     "checksum": "5636b20d75047d7cd14e6c83d1d73964",
     "grade": true,
     "grade_id": "cell-72b3a3f10ed85c84",
     "locked": false,
     "points": 2,
     "schema_version": 3,
     "solution": true,
     "task": false
    }
   },
   "outputs": [],
   "source": [
    "# your code here \n"
   ]
  },
  {
   "cell_type": "markdown",
   "metadata": {
    "deletable": false,
    "editable": false,
    "nbgrader": {
     "cell_type": "markdown",
     "checksum": "d4208ff84cdbe57f8697f61fa6b944d8",
     "grade": false,
     "grade_id": "cell-8b59e81c0f82e136",
     "locked": true,
     "schema_version": 3,
     "solution": false,
     "task": false
    }
   },
   "source": [
    "### Loading the scheduled flow\n",
    "In the cell below, do what you did before in DiagnosticFunctions -- i.e., load in the scheduled flows file you have uploaded. It'll be most convenient if you use the following naming convention: \n",
    "\n",
    "    time, eps, epsdictionary = CL.GetMyScenario('...')\n",
    "\n",
    "(but of course supplying the name of your own scheduled flows file)."
   ]
  },
  {
   "cell_type": "code",
   "execution_count": null,
   "metadata": {
    "deletable": false,
    "nbgrader": {
     "cell_type": "code",
     "checksum": "47f06ab56d44fd31bf22f707e332776d",
     "grade": true,
     "grade_id": "cell-4cd65b5c982936ae",
     "locked": false,
     "points": 2,
     "schema_version": 3,
     "solution": true,
     "task": false
    }
   },
   "outputs": [],
   "source": [
    "# your code here \n"
   ]
  },
  {
   "cell_type": "markdown",
   "metadata": {
    "deletable": false,
    "editable": false,
    "nbgrader": {
     "cell_type": "markdown",
     "checksum": "2d1dd0f5ed8e4a9953309351559d17fa",
     "grade": false,
     "grade_id": "cell-c00434c2339fabee",
     "locked": true,
     "schema_version": 3,
     "solution": false,
     "task": false
    }
   },
   "source": [
    "### Creating a dictionary for climate parameters\n",
    "In the cell below, we use the CreateClimateParams function to create a dictionary of climate parameters."
   ]
  },
  {
   "cell_type": "code",
   "execution_count": null,
   "metadata": {},
   "outputs": [],
   "source": [
    "ClimateParams = CL.CreateClimateParams(epsdictionary)\n",
    "display(ClimateParams)"
   ]
  },
  {
   "cell_type": "markdown",
   "metadata": {
    "deletable": false,
    "editable": false,
    "nbgrader": {
     "cell_type": "markdown",
     "checksum": "5618b6de9d6d83d59c8059106d971c39",
     "grade": false,
     "grade_id": "cell-7d7db7b0b1293434",
     "locked": true,
     "schema_version": 3,
     "solution": false,
     "task": false
    }
   },
   "source": [
    "### Creating a climate state"
   ]
  },
  {
   "cell_type": "code",
   "execution_count": null,
   "metadata": {},
   "outputs": [],
   "source": [
    "ClimateState = CL.CreateClimateState(ClimateParams)\n",
    "display(ClimateState)"
   ]
  },
  {
   "cell_type": "markdown",
   "metadata": {
    "deletable": false,
    "editable": false,
    "nbgrader": {
     "cell_type": "markdown",
     "checksum": "e5ce0b61b8f4ed4276ab64db73b7287c",
     "grade": false,
     "grade_id": "cell-86264153666f150e",
     "locked": true,
     "schema_version": 3,
     "solution": false,
     "task": false
    }
   },
   "source": [
    "### Making a list of climate states\n",
    "Eventually, we're going to want to make list of climate states. In the next cell, we practice that process by making a very simple and boring list -- two identical preindustrial climate states. \n",
    "\n",
    "You might notice that the syntax for this is different from how we appended to make lists before. That's because here we're creating a regular Python list, whereas before we were creating a list of numpy arrays."
   ]
  },
  {
   "cell_type": "code",
   "execution_count": null,
   "metadata": {
    "deletable": false,
    "editable": false,
    "nbgrader": {
     "cell_type": "code",
     "checksum": "f75f96b583a0affcc44c01284b3ff0d5",
     "grade": false,
     "grade_id": "cell-8ae8bdb2a22eeba1",
     "locked": true,
     "schema_version": 3,
     "solution": false,
     "task": false
    }
   },
   "outputs": [],
   "source": [
    "ClimateState_list = []\n",
    "ClimateState_list.append(ClimateState)\n",
    "ClimateState_list.append(ClimateState)\n",
    "display(ClimateState_list)"
   ]
  },
  {
   "cell_type": "markdown",
   "metadata": {
    "deletable": false,
    "editable": false,
    "nbgrader": {
     "cell_type": "markdown",
     "checksum": "ef2b7ab60b8c210067f29b0e049134e4",
     "grade": false,
     "grade_id": "cell-b8aef8c7b9518c7c",
     "locked": true,
     "schema_version": 3,
     "solution": false,
     "task": false
    }
   },
   "source": [
    "### Extracting a time series from a climate list\n",
    "The \"display\" capability we just used is handy to get a view of the contents of a list, but sometimes we're more interested in particular items in the list. The function CollectClimateTimeSeries does just that. In the cell below, you can see how it works. Of course there are just two values, but when you use CollectClimateTimeSeries later, there will be hundreds of values."
   ]
  },
  {
   "cell_type": "code",
   "execution_count": null,
   "metadata": {
    "deletable": false,
    "editable": false,
    "nbgrader": {
     "cell_type": "code",
     "checksum": "e081faeb76af0694414b65c58a5a32ac",
     "grade": false,
     "grade_id": "cell-2780dc269b37f37d",
     "locked": true,
     "schema_version": 3,
     "solution": false,
     "task": false
    }
   },
   "outputs": [],
   "source": [
    "time_array = CL.CollectClimateTimeSeries(ClimateState_list,'time')\n",
    "print(time_array)"
   ]
  },
  {
   "cell_type": "markdown",
   "metadata": {
    "deletable": false,
    "editable": false,
    "nbgrader": {
     "cell_type": "markdown",
     "checksum": "ca8887bcc6f921cfb1970850dcbc0b07",
     "grade": false,
     "grade_id": "cell-42bac88d9d7cc2f0",
     "locked": true,
     "schema_version": 3,
     "solution": false,
     "task": false
    }
   },
   "source": [
    "### Your turn\n",
    "Collect and print all the atmospheric reservoir carbon amounts (C_atm) in ClimateState_list."
   ]
  },
  {
   "cell_type": "code",
   "execution_count": null,
   "metadata": {
    "deletable": false,
    "nbgrader": {
     "cell_type": "code",
     "checksum": "23f0aa380eb85f3adebbba64c92b3cb0",
     "grade": true,
     "grade_id": "cell-8bd350e5fdefcc3e",
     "locked": false,
     "points": 2,
     "schema_version": 3,
     "solution": true,
     "task": false
    }
   },
   "outputs": [],
   "source": [
    "# your code here \n"
   ]
  },
  {
   "cell_type": "markdown",
   "metadata": {
    "deletable": false,
    "editable": false,
    "nbgrader": {
     "cell_type": "markdown",
     "checksum": "eafb9fbf02dfcc56d0284565f4c66f52",
     "grade": false,
     "grade_id": "cell-2f9327f4b134d918",
     "locked": true,
     "schema_version": 3,
     "solution": false,
     "task": false
    }
   },
   "source": [
    "### Duplicating the Cambio1.0 algorithm using Python dictionaries\n",
    "The cell below duplicates Cambio1.0's algorithm for propagating the climate state forward, but implemented as a Python function. This is all done for you, but it's worth taking a few minutes to inspect the code so you understand how it works.\n",
    "\n",
    "One item in particular to note: with this architecture, the array of climate states stored as a list is one shorter than the original. That's why the time plots have \"time_array\" on the x-axis (instead of \"time\")."
   ]
  },
  {
   "cell_type": "code",
   "execution_count": null,
   "metadata": {
    "deletable": false,
    "editable": false,
    "nbgrader": {
     "cell_type": "code",
     "checksum": "8ced09f08f70c1de1b53c1d488b6b519",
     "grade": false,
     "grade_id": "cell-fe97241c50b7a858",
     "locked": true,
     "schema_version": 3,
     "solution": false,
     "task": false
    }
   },
   "outputs": [],
   "source": [
    "def PropagateClimateState_Cambio1(previousClimateState, ClimateParams, dt, F_ha):\n",
    "    \"\"\"Propagates the state of the climate, with a specified anthropogenic carbon flux\"\"\"\n",
    "    \"\"\"Returns a new climate state\"\"\"\n",
    "\n",
    "    # Extract constants from ClimateParams\n",
    "    k_la = ClimateParams['k_la']\n",
    "    k_al0 = ClimateParams['k_al0']\n",
    "    k_al1 = ClimateParams['k_al1']\n",
    "    k_oa = ClimateParams['k_oa']\n",
    "    k_ao = ClimateParams['k_ao']\n",
    "    \n",
    "    # Extract concentrations, albedo, etc, from the previous climate state\n",
    "    C_atm = previousClimateState['C_atm']\n",
    "    C_ocean = previousClimateState['C_ocean']\n",
    "    albedo = previousClimateState['albedo']\n",
    "    time = previousClimateState['time']\n",
    "    \n",
    "    # Get new fluxes (including the effect of temperature anomaly on the ocean-to-atmosphere flux)\n",
    "    F_la = k_la    \n",
    "    F_al = k_al0 + k_al1*C_atm\n",
    "    F_oa = k_oa*C_ocean    \n",
    "    F_ao = k_ao*C_atm\n",
    "\n",
    "    # Get new concentrations of carbon that depend on the fluxes\n",
    "    C_atm += (F_la + F_oa - F_ao - F_al + F_ha)*dt\n",
    "    C_ocean += (F_ao - F_oa)*dt\n",
    "    time += dt\n",
    "    \n",
    "    # Create a new climate state with these updates\n",
    "    ClimateState = makeacopy(previousClimateState)\n",
    "    ClimateState['C_atm'] = C_atm\n",
    "    ClimateState['C_ocean'] = C_ocean\n",
    "    ClimateState['F_al'] = F_al\n",
    "    ClimateState['F_la'] = F_la\n",
    "    ClimateState['F_ao'] = F_ao\n",
    "    ClimateState['F_oa'] = F_oa\n",
    "    ClimateState['F_ha'] = F_ha\n",
    "    ClimateState['time'] = time\n",
    "\n",
    "    # Return the new climate state\n",
    "    return ClimateState\n",
    "\n",
    "# Running Cambio1.0\n",
    "\n",
    "# Make the starting state the preindustrial\n",
    "ClimateState = CL.CreateClimateState(ClimateParams)\n",
    "\n",
    "# Initialize our list of climate states \n",
    "ClimateState_list = []\n",
    "\n",
    "# The time interval\n",
    "dt = time[1]-time[0]\n",
    "\n",
    "# Loop over all the times after the initial one in the scheduled flow\n",
    "for i in range(1,len(time)):\n",
    "\n",
    "    # Propagate\n",
    "    ClimateState = PropagateClimateState_Cambio1(ClimateState,ClimateParams,dt,eps[i])\n",
    "    \n",
    "    # Add to our list of climate states\n",
    "    ClimateState_list.append(ClimateState)\n",
    "\n",
    "# Extracting data from ClimateState_list\n",
    "time_array = CL.CollectClimateTimeSeries(ClimateState_list,'time')\n",
    "C_atm_array = CL.CollectClimateTimeSeries(ClimateState_list,'C_atm')\n",
    "C_ocean_array = CL.CollectClimateTimeSeries(ClimateState_list,'C_ocean')\n",
    "F_ao_array = CL.CollectClimateTimeSeries(ClimateState_list,'F_ao')\n",
    "F_oa_array = CL.CollectClimateTimeSeries(ClimateState_list,'F_oa')\n",
    "F_al_array = CL.CollectClimateTimeSeries(ClimateState_list,'F_al')\n",
    "F_la_array = CL.CollectClimateTimeSeries(ClimateState_list,'F_la')\n",
    "F_ha_array = CL.CollectClimateTimeSeries(ClimateState_list,'F_ha')\n",
    "\n",
    "# Plotting the concentrations (C_atm and C_ocean) on one graph, in GtC\n",
    "plt.figure()\n",
    "plt.plot(time_array,C_atm_array,'red',label='C_atm')\n",
    "plt.plot(time_array,C_ocean_array,label='C_ocean')\n",
    "plt.grid(True)\n",
    "plt.xlabel('time (years)')\n",
    "plt.ylabel(\"GtC\")\n",
    "plt.title('Cambio1.0 results')\n",
    "plt.legend()\n",
    "\n",
    "# Plot the atmospheric concentration (C_atm), in ppm (by dividing C_atm by 2.12)\n",
    "plt.figure()\n",
    "plt.plot(time_array,C_atm_array/2.12,'red',label='C_atm')\n",
    "plt.grid(True)\n",
    "plt.xlabel('time (years)')\n",
    "plt.ylabel(\"ppm\")\n",
    "plt.legend()\n",
    "plt.title('Cambio1.0 results')\n",
    "\n",
    "# Plot the net fluxes\n",
    "plt.figure()\n",
    "F_land_net = F_la_array-F_al_array\n",
    "F_ocean_net = F_oa_array-F_ao_array\n",
    "plt.plot(time_array,F_ha_array,label='F_ha',color='black')\n",
    "plt.plot(time_array,F_land_net,label='F_la-F_al',color='brown')\n",
    "plt.plot(time_array,F_ocean_net,label='F_oa-F_ao',color='blue')\n",
    "plt.grid(True)\n",
    "plt.xlabel('time (years)')\n",
    "plt.ylabel(\"Flux differences (GtC/year)\")\n",
    "plt.legend()\n",
    "plt.title('Cambio1.0 results')"
   ]
  },
  {
   "cell_type": "markdown",
   "metadata": {
    "deletable": false,
    "editable": false,
    "nbgrader": {
     "cell_type": "markdown",
     "checksum": "6e6b5d64f40c901732e63b21337db8b9",
     "grade": false,
     "grade_id": "cell-3d000f96d48fd75f",
     "locked": true,
     "schema_version": 3,
     "solution": false,
     "task": false
    }
   },
   "source": [
    "### Upgrading to Cambio2.0\n",
    "Below, the idea is to tweak what we just did such that we include Henry's effect (Eq. 3 in the Introduction). It's highly recommended that you make these tweaks one at a time, with plenty of testing after each one.\n",
    "\n",
    "Here are the changes we'll need in the cell below:\n",
    "1. Don't forget to name your functio  PropagateClimateState_Cambio2 (not PropagateClimateState_Cambio1), and to invoke it (not PropagateClimateState_Cambio1) in your Euler loop.\n",
    "1. Inside PropagateClimateState_Cambio2, use the CL library's CL.Diagnose_T_anomaly function to calculate the temperature anomaly, and use that to Implement Henry's effect -- as represented by Eq. 3 in the Introduction; you'll have to retrieve the climate parameter ClimateParams['DC'] to do this. Also compute the actual temperature (using CL.Diagnose_actual_temperature) and the ocean surface pH (using CL.Diagnose_OceanSurfacepH) at each time step.\n",
    "1. After the Euler loop, in addition to plotting the timelines you made for Cambio1.0, also plot timelines of:\n",
    "- the temperature anomaly\n",
    "- the actual temperature, and \n",
    "- the ocean surface pH. \n",
    "\n",
    "To keep things organized, it would be best to title these graphs something like \"Cambio2.0 results\"."
   ]
  },
  {
   "cell_type": "code",
   "execution_count": null,
   "metadata": {
    "deletable": false,
    "nbgrader": {
     "cell_type": "code",
     "checksum": "192be707627ad8ff72540bf65104b675",
     "grade": true,
     "grade_id": "cell-aecdd27072e82a87",
     "locked": false,
     "points": 12,
     "schema_version": 3,
     "solution": true,
     "task": false
    }
   },
   "outputs": [],
   "source": [
    "# your code here \n"
   ]
  },
  {
   "cell_type": "markdown",
   "metadata": {
    "deletable": false,
    "editable": false,
    "nbgrader": {
     "cell_type": "markdown",
     "checksum": "bcb2fbc9a10ba4026b6be9870a32c573",
     "grade": false,
     "grade_id": "cell-33e1902263febd0c",
     "locked": true,
     "schema_version": 3,
     "solution": false,
     "task": false
    }
   },
   "source": [
    "### Pause for analysis\n",
    "1. Make an assessment of the impact Henry's effect made on the atmospheric amount of carbon. To do that, you can compare the peak amounts of C_atm -- either in GtC or in ppm -- for the two algorithms. Which results in a higher atmospheric peak carbon?\n",
    "1. What is the peak temperature according to your Cambio2.0 results? In what year does it occur? How much of a time lag is there between peak emissions and peak temperature?\n",
    "1. What's the most acidic pH?"
   ]
  },
  {
   "cell_type": "markdown",
   "metadata": {
    "deletable": false,
    "nbgrader": {
     "cell_type": "markdown",
     "checksum": "0481713814ea6f127d2b6e3a8f1d2921",
     "grade": true,
     "grade_id": "cell-de9081f97eeecfd5",
     "locked": false,
     "points": 3,
     "schema_version": 3,
     "solution": true,
     "task": false
    }
   },
   "source": [
    "YOUR ANSWER HERE"
   ]
  },
  {
   "cell_type": "markdown",
   "metadata": {
    "deletable": false,
    "editable": false,
    "nbgrader": {
     "cell_type": "markdown",
     "checksum": "f9166818ce12503b8df46f27c10eb2ce",
     "grade": false,
     "grade_id": "cell-4e77fce91fa3077c",
     "locked": true,
     "schema_version": 3,
     "solution": false,
     "task": false
    }
   },
   "source": [
    "### Refresh/save/validate\n",
    "Double-check everything is OK, and press the \"Validate\" button (as usual).\n",
    "\n",
    "### Close/submit/logout\n",
    "Close, submit, and log out."
   ]
  }
 ],
 "metadata": {
  "colab": {
   "collapsed_sections": [],
   "name": "SimpleCMB.ipynb",
   "provenance": []
  },
  "kernelspec": {
   "display_name": "Python 3 (ipykernel)",
   "language": "python",
   "name": "python3"
  },
  "language_info": {
   "codemirror_mode": {
    "name": "ipython",
    "version": 3
   },
   "file_extension": ".py",
   "mimetype": "text/x-python",
   "name": "python",
   "nbconvert_exporter": "python",
   "pygments_lexer": "ipython3",
   "version": "3.10.2"
  }
 },
 "nbformat": 4,
 "nbformat_minor": 1
}

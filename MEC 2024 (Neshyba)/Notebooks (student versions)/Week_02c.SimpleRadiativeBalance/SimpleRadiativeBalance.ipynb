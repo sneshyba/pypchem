{
 "cells": [
  {
   "cell_type": "markdown",
   "id": "4ffb7a3e",
   "metadata": {
    "deletable": false,
    "editable": false,
    "nbgrader": {
     "cell_type": "markdown",
     "checksum": "09f44c4464a65ef0f50585279c3e82d7",
     "grade": false,
     "grade_id": "cell-b05570620a93bd73",
     "locked": true,
     "schema_version": 3,
     "solution": false,
     "task": false
    }
   },
   "source": [
    "### Computational Guided Inquiry for Modeling Earth's Climate (Neshyba, 2024)\n",
    "\n",
    "# Simple Radiative Balance\n",
    "\n",
    "## Absorbed Solar Radiation\n",
    "The energy responsible for keeping Earth warm comes almost entirely from the Sun. This energy is all \"light\", but humans can see only part of it; of the rest, some comes in the form of ultraviolet light (which we can detect because it burns our skin) and near-infrared light (which is what you are feeling when you hold your hands out in front of a fire). All three forms of light (uv, visible, and near-IR) are collectively called *shortwave radiation*. \n",
    "\n",
    "How intense is shortwave radiation from the sun? To answer that, we need to talk about an instrument for measuring shortwave flux, called a *shortwave radiometer*. Shortwave radiometers measure the amount of shortwave energy (remember, that's uv, visible, and near-IR) passing through a 1 meter x 1 meter hoop. Real shortwave radiometers aren't actually that big, but they still tell you that key number: the energy intensity of sunlight on a per-meter-squared basis.) \n",
    "\n",
    "OK, now imagine you were are floating in space, just outside Earth's atmosphere, armed with your shortwave radiometer. It should read a number around $1367 \\ W m^{-2}$. Is that a lot? Well, $1367 \\ W m^{-2}$ is almost fourteen 100-Watt light bulbs, for every 1x1 square meter! This number is called the *solar constant*, and symbolized by $S_0$, so we say $S_0=1367 \\ W m^{-2}$. $S_0$ varies a little over the course of a year (and of course is smaller for planets farther from the sun, bigger for planets that are closer), but $1367$ is a good average for us.\n",
    "\n",
    "As it turns out, however, that $1367 \\ W m^{-2}$ doesn't actually make it down to every square meter of Earth's surface below you. There are two reasons for this:\n",
    "\n",
    "1. The sun shines only on one side of the planet at a time, and it usually hits Earth's surface at an oblique angle. Turns out, this reduces the average energy potentially received by earth by a factor of 4, i.e., we're talking $S_0/4=342 \\ Wm^{-2}$.\n",
    "2. Clouds, snowpacks, desert sand, even forests, tend to reflect the shortwave light away, back out to space. The overall fraction reflected is called Earth's *albedo*, and it's about 30%. The albedo is typically given the symbol $\\alpha$, and it's given as a fraction rather than a percent. So the statement \"Earth's albedo is 30%\" is written mathematically as $\\alpha=0.3$. \n",
    "\n",
    "If we put this all together, we can write down something called the *Absorbed Shortwave Radiation*, which we'll symbolize here as $ASR$. It can be expressed as\n",
    "\n",
    "$$\n",
    "ASR = \\dfrac{S_0}{4}(1-\\alpha) \\ \\ \\ \\ (1)\n",
    "$$\n",
    "\n",
    "Like $S_0$, the units of $ASR$ are $W m^{-2}$. If you plug in the above numbers for $S_0$ and $\\alpha$, you get $ASR=239 \\ W m^{-2}$. That's still a lot if you think about it in terms of light bulbs: it's like there are over two 100-W lightbulbs of sunlight being absorbed by Earth's surface, day and night, over every square meter of the planet's surface.\n",
    "\n",
    "\n",
    "## Outgoing Longwave Radiation\n",
    "Imagine now that you are standing at the earth's surface, armed with a *longwave radiometer*. That's an instrument that measures the longwave radiant energy passing through a 1 meter x 1 meter hoop. To a good approximation, we'd expect that number to be given by the expression $\\sigma T^4$, where $T$ is the temperature of the ground you're standing on. $\\sigma$ is known as the Stefan-Boltzmann constant, $5.67 \\times 10^{-8} W m^{-2}K^{-4}$. That's just physics, it doesn't depend on climate. \n",
    "\n",
    "For the purpose of radiative balance calculations, however, we need to re-position ourselves back to where we were at the beginning of this story: hovering in space just above Earth's atmosphere. Looking down at the earth's surface, the quantity our longwave radiometer measures now is called the Outgoing Longwave Radiation, or OLR. It will be, it turns out, not quite equal to the $\\sigma T^4$ coming off Earth's surface. Why? Well first, something like 85% of the longwave radiation emitted by Earth's surface gets captured by water vapor, $CO_2$ and $CH_4$ in the atmosphere (they're all *greenhouse gases*). So we'd expect OLR to be reduced to something like 15% of $\\sigma T^4$, right? However, it turns out that *the atmosphere itself emits longwave radiation*. Combining these influences, we can write \n",
    "\n",
    "$$ \n",
    "OLR = \\kappa \\sigma T^4 \\ \\ \\ \\ (2)\n",
    "$$\n",
    "\n",
    "where (as it turns out) $\\kappa=0.614$. \n",
    "\n",
    "(Here's a more technical version of what we just said: Atmospheric greenhouse gases absorb 85% of the longwave photons that originate from Earth's surface, but those same gases emit their own longwave photons. Those longwave photons that are emitted by the atmosphere back down toward the earth's surface are responsible for greenhouse warming. Those longwave photons that are emitted by the atmosphere out to space combine with the 15% of Earth's surface photons that manage to get through the atmosphere unscathed, adding up to 64% of the orignal Stefan-Boltzmann ($\\sigma T^4$) energy intensity coming off the earth's surface. That leads to the expression for the Outgoing Longwave Radiation in Eq. (2), with $\\kappa=0.614$.)\n",
    "\n",
    "\n",
    "## Radiative Balance\n",
    "All this leads to an algorithm for modeling climate, based on radiative balance. It goes like this: suppose the earth were initially really cold. Then $T$ in Eq. (2) would be small, and that would mean the outgoing longwave radiation, $OLR$, would also be small -- smaller than our ASR of $239 \\ W m^{-2}$ coming in. That means the earth's surface would be experiencing a *positive flux imbalance* -- more energy coming in than going out. What will the earth do then? Well, heat up of course! \n",
    "\n",
    "Things don't heat up instantly, however. If you're familiar with trying to boil water on a stovetop, you know that the more water in your pot, the longer it takes to heat up. We say that two gallons of water have twice the *heat capacity* as one gallon. The relevance of heat capacity to our climate model is, even when there's a positive flux imbalance, it would still take time to heat up. We can even write an equation for this:\n",
    "\n",
    "$$\n",
    "\\Delta T = \\dfrac{ASR-OLR}{C_p}\\times \\Delta t \\ \\ \\ \\ (3)\n",
    "$$\n",
    "\n",
    "where $\\Delta T$ is the change in temperature of the earth's surface in the time $\\Delta t$, and $C_P$ is our symbol for the heat capacity -- in our model, the heat capacity of a square meter of the average Earth's surface. It turns out that this second number is known: $C_P\\approx 2.2\\times 10^8 \\ J \\ m^{-2}K^{-1}$. And notice that it's in the denominator -- which means larger heat capacity means smaller change in temperature. Another term in this equation worth noticing is $ASR-OLR$. $ASR-OLR$ is likely to be positive when the earth is cold (because Eq. (2) says $OLR$ will be small), which means there would be a positive flux difference, which would mean $\\Delta T>0$ (i.e. the temperature of the earth will *rise*). \n",
    "\n",
    "You can imagine the opposite process when Earth's temperature is initially very high. \n",
    "\n",
    "We haven't mentioned the factor $\\Delta t$ yet. The lower case means we're talking about time, not temperature. And hopefully its appearance in Eq. (3) is fairly intuitive: the longer you heat something (bigger $\\Delta t$), the more it will heat up (bigger $\\Delta T$).\n",
    "\n",
    "Equation (3) is the key equation in our model. It allows us to start with a given temperature, $T$, then march through time, at each time step either raising the temperature or lowering it, according to whether $ASR-OLR$ is positive or negative. In \"pseudo-code\", we could say we have a loop:\n",
    "\n",
    "    while (Delta_T is big):\n",
    "        calculate OLR from the current temperature using Eq. (2)\n",
    "        calculate Delta_T from Eq. (3)\n",
    "        update temperature using T(new) = T(old) + Delta_T\n",
    "\n",
    "where Delta_T is what we've written here, mathematically, as $\\Delta T$. \n",
    "\n",
    "Why is the condition that we keep going as long as Delta_T is big? Well, there's no point in continuing on if there's no change in temperature, right? In fact, what you'll see is that the temperature calculated in this way evolves toward a *steady-state* value. If Earth is initially too cold, it gets warmer; if it's too hot, it cools down. That means it's not just any old steady state, it's a *stable* steady state. This is also called *homeostasis*.\n",
    "\n",
    "\n",
    "## Climate sensitivity to changes in albedo\n",
    "It turns out that in modeling the climate, a key thing one looks for is what's called the *climate sensitivity*. For example, we could say\n",
    "\n",
    "$$\n",
    "S = \\dfrac {\\Delta T_{SS}}{\\Delta \\alpha} \\ \\ \\ \\ (4)\n",
    "$$\n",
    "\n",
    "where $S$ is the sensitivity of Earth's temperature to its albedo ($\\alpha$). To find this number from our model, we'd need to run the model once with a \"reference\" value of the albedo, and then again with a new value of the albedo. We'll call the difference in these two albedos $\\Delta \\alpha$, and the difference in the resulting steady-state temperatures  $\\Delta T_{SS}$. From that, we can use Eq. (4) to calculate the climate sensitivity, $S$.\n",
    "\n",
    "In the code below, you'll do this, and then use the resulting value of $S$ to predict the impact some new albiedo might have on the temperature of the planet -- details to be given below.\n",
    "\n",
    "## Caveats\n",
    "The model described here ignores a key feature of climate called *feedbacks*. For example, if lots of snow melts because of higher temperatures (which it will do), Earth's albedo will go down, which will cause Earth's temperature to rise, which will cause more snow to melt: a positive feedback. But that's a challenge for another day.\n",
    "\n",
    "\n",
    "## Learning Goals\n",
    "1. I'm conversant with fundamental quantities associated with radiative balance, like $\\alpha$, $S_o$, $ASR$, $OLR$, $\\kappa$, and $\\sigma$, and I can supply typical values, with units.\n",
    "1. I can explain the sense in which the termination of \"while\" loop in the model is consistent with a stable steady-state temperature (or *homeostasis*).\n",
    "1. I can explain how to calculate a *climate sensitivity (to albedo)*, and how to use that value as a predictive tool."
   ]
  },
  {
   "cell_type": "code",
   "execution_count": null,
   "id": "f298a3bc",
   "metadata": {
    "deletable": false,
    "editable": false,
    "nbgrader": {
     "cell_type": "code",
     "checksum": "8ba8e50ddba4486dd1cb8ef7e8002c54",
     "grade": false,
     "grade_id": "cell-8f0108199324fbfb",
     "locked": true,
     "schema_version": 3,
     "solution": false,
     "task": false
    }
   },
   "outputs": [],
   "source": [
    "import numpy as np\n",
    "import matplotlib.pyplot as plt"
   ]
  },
  {
   "cell_type": "code",
   "execution_count": null,
   "id": "71ee3765",
   "metadata": {},
   "outputs": [],
   "source": [
    "%matplotlib notebook"
   ]
  },
  {
   "cell_type": "markdown",
   "id": "808ccbc0",
   "metadata": {
    "deletable": false,
    "editable": false,
    "nbgrader": {
     "cell_type": "markdown",
     "checksum": "e80091331f243ccdbbab8557011e3c05",
     "grade": false,
     "grade_id": "cell-344f86e9f6412418",
     "locked": true,
     "schema_version": 3,
     "solution": false,
     "task": false
    }
   },
   "source": [
    "### Model Definition\n",
    "The parameters in this cell don't need to be changed from run to run (unless you want to change the model)."
   ]
  },
  {
   "cell_type": "code",
   "execution_count": null,
   "id": "c109402b",
   "metadata": {},
   "outputs": [],
   "source": [
    "def SRB(temperature_start,alpha):\n",
    "\n",
    "    # Some constants\n",
    "    solar_constant=342  # in units W m^-2\n",
    "    kappa=0.614         # dimensionless\n",
    "    sigma=5.67e-8       # in units W m^-2 K^-4\n",
    "    heat_capacity=2.2e8 # in units J m^-2 K^-1\n",
    "    \n",
    "    # Time step parameters\n",
    "    delta_time_years = .1    # Number of years for each time step\n",
    "    delta_time = delta_time_years*24*60*60*365 # This converts the time step to seconds\n",
    "    \n",
    "    # Loop control \n",
    "    small_enough = 0.001\n",
    "    delta_temp = 1000\n",
    "\n",
    "    # Emergency exit parameter\n",
    "    maximum_steps = 10000\n",
    "\n",
    "    # Initializing the arrays that will contain our results\n",
    "    temperature_list = [temperature_start]\n",
    "    time_list = [0]\n",
    "    fluxdiff_list = [0]\n",
    "\n",
    "    # Looping\n",
    "    while abs(delta_temp) > small_enough:\n",
    "\n",
    "        # Let's extract the latest temperature and time\n",
    "        temperature = temperature_list[-1]\n",
    "        time = time_list[-1]\n",
    "\n",
    "        # Outgoing longwave radiation (Wm^{-2})\n",
    "        OLR=kappa*sigma*temperature**4\n",
    "\n",
    "        # Absorbed solar radiation (also Wm^{-2})\n",
    "        ASR=(1-alpha)*solar_constant\n",
    "\n",
    "        # Flux difference (also Wm^{-2})\n",
    "        fluxdiff=ASR-OLR\n",
    "\n",
    "        # What's the temperature adjustment this time period?\n",
    "        delta_temp = fluxdiff/heat_capacity*delta_time\n",
    "\n",
    "        # Adjust Earth's temperature for this step\n",
    "        newtemperature = temperature + delta_temp\n",
    "        newtime = time + delta_time_years\n",
    "\n",
    "        # Add to our list of temperatures and times\n",
    "        temperature_list.append(newtemperature) \n",
    "        time_list.append(newtime)\n",
    "        fluxdiff_list.append(fluxdiff)\n",
    "\n",
    "        # Emergency exit\n",
    "        if (len(time_list)>maximum_steps):\n",
    "            break\n",
    "            \n",
    "    return time_list[1:], fluxdiff_list[1:], temperature_list[1:]"
   ]
  },
  {
   "cell_type": "markdown",
   "id": "a5b7d90d",
   "metadata": {
    "deletable": false,
    "editable": false,
    "nbgrader": {
     "cell_type": "markdown",
     "checksum": "1c7a7250a467e225d4d693f12d9b8b9f",
     "grade": false,
     "grade_id": "cell-8e7b1e5b071a71e6",
     "locked": true,
     "schema_version": 3,
     "solution": false,
     "task": false
    }
   },
   "source": [
    "### Pause for analysis\n",
    "Spend a little time getting to know this function:\n",
    "1. What is the physical meaning of the condition that terminates the \"while\" loop? (Not talking about the emergency exit.)\n",
    "1. There is one quantity that is calculated in the loop, that doesn't need to be in the loop, since it could easily (and more efficiently) be calculated before the loop begins. Which quantity is that?"
   ]
  },
  {
   "cell_type": "markdown",
   "id": "03e6866b",
   "metadata": {
    "deletable": false,
    "nbgrader": {
     "cell_type": "markdown",
     "checksum": "cc00d8ad5f4980788659b0d98860f634",
     "grade": true,
     "grade_id": "cell-db0d20fed7b6fdf4",
     "locked": false,
     "points": 2,
     "schema_version": 3,
     "solution": true,
     "task": false
    }
   },
   "source": [
    "YOUR ANSWER HERE"
   ]
  },
  {
   "cell_type": "markdown",
   "id": "b9f40f6f",
   "metadata": {
    "deletable": false,
    "editable": false,
    "nbgrader": {
     "cell_type": "markdown",
     "checksum": "2940fb39ddc22bbe2f5652d5a4cb6856",
     "grade": false,
     "grade_id": "cell-5b53e8dc63bffaff",
     "locked": true,
     "schema_version": 3,
     "solution": false,
     "task": false
    }
   },
   "source": [
    "### Experiment 1\n",
    "Run the cell below to see how the model responds to an initial temperature of 200 degrees K and an albedo of 0.3."
   ]
  },
  {
   "cell_type": "code",
   "execution_count": null,
   "id": "c83ac91c",
   "metadata": {
    "deletable": false,
    "editable": false,
    "nbgrader": {
     "cell_type": "code",
     "checksum": "a1ba490e6c17ee08c473b5bbda519831",
     "grade": false,
     "grade_id": "cell-31690264fcad873f",
     "locked": true,
     "schema_version": 3,
     "solution": false,
     "task": false
    }
   },
   "outputs": [],
   "source": [
    "# Experiment 1\n",
    "\n",
    "# Run the model\n",
    "time_list_expt1, fluxdiff_list_expt1, temperature_list_expt1 = SRB(200,0.3)\n",
    "\n",
    "# Plot the flux differences\n",
    "plt.figure()\n",
    "plt.plot(time_list_expt1,fluxdiff_list_expt1,'black')\n",
    "plt.xlabel('time (years)')\n",
    "plt.ylabel('Net Flux (W/m^2)')\n",
    "plt.title('Experiment 1')\n",
    "plt.grid(True)\n",
    "\n",
    "# Plot the temperatures\n",
    "plt.figure()\n",
    "plt.plot(time_list_expt1,temperature_list_expt1,'black')\n",
    "plt.xlabel('time (years)')\n",
    "plt.ylabel('temperature (K)')\n",
    "plt.title('Experiment 1')\n",
    "plt.grid(True)\n",
    "\n",
    "# Report the final (steady-state) temperature\n",
    "print(\"The temperature ends up at \", temperature_list_expt1[-1])"
   ]
  },
  {
   "cell_type": "markdown",
   "id": "434abfea",
   "metadata": {
    "deletable": false,
    "editable": false,
    "nbgrader": {
     "cell_type": "markdown",
     "checksum": "798eefc686462c1f12e47327c48d2742",
     "grade": false,
     "grade_id": "cell-c0a20242c279206b",
     "locked": true,
     "schema_version": 3,
     "solution": false,
     "task": false
    }
   },
   "source": [
    "### Pause for analysis\n",
    "In the cell below, write a few descriptive sentences about this:\n",
    "1. Is the initial net flux positive or negative?\n",
    "1. Is the temperature initially rising or falling?\n",
    "1. What does it mean, physically, that the net flux levels off to a value of zero?"
   ]
  },
  {
   "cell_type": "markdown",
   "id": "7151e48a",
   "metadata": {
    "deletable": false,
    "nbgrader": {
     "cell_type": "markdown",
     "checksum": "43cea385c9e6a18479cb3456e9c3860c",
     "grade": true,
     "grade_id": "cell-2cd4152189d81b68",
     "locked": false,
     "points": 3,
     "schema_version": 3,
     "solution": true,
     "task": false
    }
   },
   "source": [
    "YOUR ANSWER HERE"
   ]
  },
  {
   "cell_type": "markdown",
   "id": "2421d8ea",
   "metadata": {
    "deletable": false,
    "editable": false,
    "nbgrader": {
     "cell_type": "markdown",
     "checksum": "7bbff0c6488ae6c316898a939c40eb8d",
     "grade": false,
     "grade_id": "cell-0fc8e360df5f3435",
     "locked": true,
     "schema_version": 3,
     "solution": false,
     "task": false
    }
   },
   "source": [
    "### Your turn\n",
    "Carry out two more numerical experiments: \n",
    "- In the first cell below, carry out \"Experiment 2\". This experiment should have a starting temperature of 250 K. In your graph, use a blue line.\n",
    "- In the following cell, carry out \"Experiment 3\". This experiment should have a starting temperature of 350 K. In your graph, use a red line."
   ]
  },
  {
   "cell_type": "code",
   "execution_count": null,
   "id": "224ce2a7",
   "metadata": {
    "deletable": false,
    "nbgrader": {
     "cell_type": "code",
     "checksum": "278064ab62a426ff65858c5569d00686",
     "grade": true,
     "grade_id": "cell-9dd6f2e7bcca47af",
     "locked": false,
     "points": 4,
     "schema_version": 3,
     "solution": true,
     "task": false
    }
   },
   "outputs": [],
   "source": [
    "# Experiment 2\n",
    "\n",
    "# Run the model with a starting temperature of 250 K\n",
    "# your code here \n",
    "\n",
    "\n",
    "# Plot the flux differences\n",
    "# your code here \n",
    "\n",
    "\n",
    "# Plot the temperatures\n",
    "# your code here \n",
    "\n",
    "\n",
    "# Report the final (steady-state) temperature\n",
    "# your code here \n"
   ]
  },
  {
   "cell_type": "code",
   "execution_count": null,
   "id": "d6ce0c44",
   "metadata": {
    "deletable": false,
    "nbgrader": {
     "cell_type": "code",
     "checksum": "182139e22b1a9cb0965f27a8abd0db8c",
     "grade": true,
     "grade_id": "cell-e4eee6497cc8a54a",
     "locked": false,
     "points": 4,
     "schema_version": 3,
     "solution": true,
     "task": false
    }
   },
   "outputs": [],
   "source": [
    "# Experiment 3\n",
    "\n",
    "# Run the model with a starting temperature of 350 K\n",
    "# your code here \n",
    "\n",
    "\n",
    "# Plot the flux differences\n",
    "# your code here \n",
    "\n",
    "\n",
    "# Plot the temperatures\n",
    "# your code here \n",
    "\n",
    "\n",
    "# Report the final (steady-state) temperature\n",
    "# your code here \n"
   ]
  },
  {
   "cell_type": "markdown",
   "id": "465974a9",
   "metadata": {
    "deletable": false,
    "editable": false,
    "nbgrader": {
     "cell_type": "markdown",
     "checksum": "e8067564609884212d2d9f3d89e85446",
     "grade": false,
     "grade_id": "cell-82bd91fcf8177d85",
     "locked": true,
     "schema_version": 3,
     "solution": false,
     "task": false
    }
   },
   "source": [
    "### Your turn (again)\n",
    "Assuming you've given your results unique names, plot all three temperatures on the same graph, as a function of time."
   ]
  },
  {
   "cell_type": "code",
   "execution_count": null,
   "id": "cff1bea8",
   "metadata": {
    "deletable": false,
    "nbgrader": {
     "cell_type": "code",
     "checksum": "fa87fbcdd3ea752158b3065f3a7a249f",
     "grade": true,
     "grade_id": "cell-f206156e389e3962",
     "locked": false,
     "points": 3,
     "schema_version": 3,
     "solution": true,
     "task": false
    }
   },
   "outputs": [],
   "source": [
    "# your code here \n"
   ]
  },
  {
   "cell_type": "markdown",
   "id": "2c34205e",
   "metadata": {
    "deletable": false,
    "editable": false,
    "nbgrader": {
     "cell_type": "markdown",
     "checksum": "dcc10fa783dad5a1450a394511223518",
     "grade": false,
     "grade_id": "cell-9a46a6c12ec15bf1",
     "locked": true,
     "schema_version": 3,
     "solution": false,
     "task": false
    }
   },
   "source": [
    "### Climate sensitivity\n",
    "Here, we'd like to see how the steady-state temperature depends on the albedo. In order to calculate it, we could go about it in the following way. First, specify a new value of the albedo. For example, you could set up Experiment #4, with $\\alpha=0.35$. Then, since Experiment #3 used $\\alpha=0.3$, we could say\n",
    "\n",
    "$$\n",
    "\\Delta \\alpha = 0.05\n",
    "$$\n",
    "\n",
    "When you run Experiment #4, you'll get a different steady-state temperature, of course. If we said $T_4$ is that temperature, and $T_3$ was the steady-state temperature you got in experiment #3, you could find the change in temperature resulting from the change in albedo by calculating\n",
    "\n",
    "$$\n",
    "\\Delta T_{SS} = T_4-T_3\n",
    "$$\n",
    "\n",
    "Of course, the bigger the change in the albedo, the bigger we expect $\\Delta T$ to be. What's key, therefore, is the ratio, $\\dfrac {\\Delta T_{SS}}{\\Delta \\alpha}$. As described in the introduction, this is called the *climate sensitivity* to changes in albedo. Doing this in Python, it will be helpful to create a variable holding this value, with a line like the following:\n",
    "\n",
    "    sensitivity = delta_T_SS/delta_alpha\n",
    "\n",
    "Note that the sign of the sensitivity is important here: if you get a negative number, you're probably on track. "
   ]
  },
  {
   "cell_type": "code",
   "execution_count": null,
   "id": "af9b2ad6",
   "metadata": {
    "deletable": false,
    "nbgrader": {
     "cell_type": "code",
     "checksum": "cb1858438a80c22db12cd47835708249",
     "grade": true,
     "grade_id": "cell-5a3bfe8ad56e6615",
     "locked": false,
     "points": 3,
     "schema_version": 3,
     "solution": true,
     "task": false
    }
   },
   "outputs": [],
   "source": [
    "# your code here \n"
   ]
  },
  {
   "cell_type": "markdown",
   "id": "3ee8a011",
   "metadata": {
    "deletable": false,
    "editable": false,
    "nbgrader": {
     "cell_type": "markdown",
     "checksum": "588d81ab4f603e5c6db216e30f353d27",
     "grade": false,
     "grade_id": "cell-2aa5604c0cc76630",
     "locked": true,
     "schema_version": 3,
     "solution": false,
     "task": false
    }
   },
   "source": [
    "### Pause for analysis\n",
    "But *will* Earth's albedo change in a warming climate? That's a big question, which we won't be able to do justice to here. What we can do, is use the foregoing Simple Radiative Balance (\"SRB\") theory to predict the temperature impact of a hypothetical change. Here's how: if you solve Eq. (4) for $\\Delta T_{SS}$, you get \n",
    "\n",
    "$$\n",
    "\\Delta T_{SS} = S \\ \\Delta \\alpha\n",
    "$$\n",
    "\n",
    "So what's a reasonable guess for $\\Delta \\alpha$? A recent study by Goode et al, described in a press release at https://news.agu.org/press-release/Earth-is-dimming-due-to-climate-change, reported that over the past two decades, Earth's average albedo dropped from $0.30$ to $0.295$ -- a change in albedo of $-0.005$. In that case, the corresponding Python code could look like\n",
    "\n",
    "    deltaT_SS = sensitivity*(-0.005)\n",
    "    \n",
    "In the cell below, use SRB theory to predict the change in temperature resulting from this reduction in albedo. "
   ]
  },
  {
   "cell_type": "code",
   "execution_count": null,
   "id": "99a01048",
   "metadata": {
    "deletable": false,
    "nbgrader": {
     "cell_type": "code",
     "checksum": "2f020f6d1ddc3395550e92076fd09947",
     "grade": true,
     "grade_id": "cell-c24e5c47070b61ec",
     "locked": false,
     "points": 2,
     "schema_version": 3,
     "solution": true,
     "task": false
    }
   },
   "outputs": [],
   "source": [
    "# your code here \n"
   ]
  },
  {
   "cell_type": "markdown",
   "id": "19b2f51d",
   "metadata": {
    "deletable": false,
    "editable": false,
    "nbgrader": {
     "cell_type": "markdown",
     "checksum": "88e7f5939a2e1efe70b54502b90fc571",
     "grade": false,
     "grade_id": "cell-9d38a3725b3fe626",
     "locked": true,
     "schema_version": 3,
     "solution": false,
     "task": false
    }
   },
   "source": [
    "### Pause for analysis\n",
    "\n",
    "1. What phenomenon are Goode et al actually measuring, that led to the reduction in albedo they report? It will help to take a look at the press release and the paper by Goode et al to answer this. Hint: the phenomenon has been noticed for a long time -- including by Leonardo da Vinci!\n",
    "1. By comparison with measurements by NASA’s Clouds and the Earth’s Radiant Energy System, Goode et al speculate a reason behind the albedo reduction. What is that reason?"
   ]
  },
  {
   "cell_type": "markdown",
   "id": "a04b52fd",
   "metadata": {
    "deletable": false,
    "nbgrader": {
     "cell_type": "markdown",
     "checksum": "5ecfd6674dabc696bd76a5961932ea3c",
     "grade": true,
     "grade_id": "cell-9a15729761f09cd8",
     "locked": false,
     "points": 4,
     "schema_version": 3,
     "solution": true,
     "task": false
    }
   },
   "source": [
    "YOUR ANSWER HERE"
   ]
  },
  {
   "cell_type": "markdown",
   "id": "437c38a3",
   "metadata": {
    "deletable": false,
    "editable": false,
    "nbgrader": {
     "cell_type": "markdown",
     "checksum": "c6312c9da34fce32b27a9cec9c497656",
     "grade": false,
     "grade_id": "cell-84137412c25de25e",
     "locked": true,
     "schema_version": 3,
     "solution": false,
     "task": false
    }
   },
   "source": [
    "### Refresh/save/validate\n",
    "Almost done! To double-check everything is OK, repeat the \"Three steps for refreshing and saving your code,\" and press the \"Validate\" button (as usual).\n",
    "\n",
    "### Close/submit/logout\n",
    "1. Close this notebook using the \"File/Close and Halt\" dropdown menu\n",
    "1. Using the Assignments tab, submit this notebook\n",
    "1. Press the Logout tab of the Home Page"
   ]
  }
 ],
 "metadata": {
  "kernelspec": {
   "display_name": "Python 3 (ipykernel)",
   "language": "python",
   "name": "python3"
  },
  "language_info": {
   "codemirror_mode": {
    "name": "ipython",
    "version": 3
   },
   "file_extension": ".py",
   "mimetype": "text/x-python",
   "name": "python",
   "nbconvert_exporter": "python",
   "pygments_lexer": "ipython3",
   "version": "3.10.2"
  }
 },
 "nbformat": 4,
 "nbformat_minor": 5
}

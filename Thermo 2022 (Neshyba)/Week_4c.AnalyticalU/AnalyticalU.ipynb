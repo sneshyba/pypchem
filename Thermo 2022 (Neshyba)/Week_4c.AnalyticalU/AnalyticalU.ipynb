{
 "cells": [
  {
   "cell_type": "markdown",
   "metadata": {
    "nbgrader": {
     "grade": false,
     "grade_id": "cell-cfee71f6d079d191",
     "locked": true,
     "schema_version": 3,
     "solution": false,
     "task": false
    }
   },
   "source": [
    "### Computational Guided Inquiry for PChem (Neshyba, 2022)\n",
    "\n",
    "# Analytical $U(TV)$\n",
    "\n",
    "## Introduction\n",
    "\n",
    "We've been introduced already to the thermodynamic surface of $U(T,V)$ shown below in Fig. (1), as well as the *slopes* of $U(T,V)$,\n",
    "\n",
    "$$\n",
    "C_V =  \\big(\\dfrac{\\partial U}{\\partial T}\\big)_V \\ \\ \\ \\ (1)\n",
    "$$\n",
    "\n",
    "$$ \n",
    "\\pi_T =  \\big(\\dfrac{\\partial U}{\\partial V}\\big)_T \\ \\ \\ \\ (2)\n",
    "$$\n",
    "\n",
    "Now, we're going to do some analytical work related to $U(T,V)$, and its slopes $C_V$ and $\\pi_T$."
   ]
  },
  {
   "cell_type": "code",
   "execution_count": 1,
   "metadata": {
    "nbgrader": {
     "grade": false,
     "grade_id": "cell-61ab37bc366e7e0e",
     "locked": true,
     "schema_version": 3,
     "solution": false,
     "task": false
    }
   },
   "outputs": [],
   "source": [
    "import numpy as np\n",
    "import matplotlib.pyplot as plt\n",
    "from mpl_toolkits.mplot3d import axes3d\n",
    "import pint; from pint import UnitRegistry; AssignQuantity = UnitRegistry().Quantity"
   ]
  },
  {
   "cell_type": "markdown",
   "metadata": {
    "nbgrader": {
     "grade": false,
     "grade_id": "cell-519efe04db98e2c0",
     "locked": true,
     "schema_version": 3,
     "solution": false,
     "task": false
    }
   },
   "source": [
    "For reference:  \n",
    "\n",
    "$\n",
    "U(V,T) = [{3 \\over 2} RT + f_{rot}(T) + f_{vib}(T) + f_{intermol}(V,T)] \\times n\n",
    "$"
   ]
  },
  {
   "cell_type": "markdown",
   "metadata": {
    "nbgrader": {
     "grade": false,
     "grade_id": "cell-c5c3c871cff0dc75",
     "locked": true,
     "schema_version": 3,
     "solution": false,
     "task": false
    }
   },
   "source": [
    "### Problem 1. Analytical expressions for $C_V$ and $\\pi_T$\n",
    "Derive analytical expressions for $C_V$ and $\\pi_T$ for a diatomic vdw gas in the classical limit, and write your results in the cell below."
   ]
  },
  {
   "cell_type": "markdown",
   "metadata": {
    "nbgrader": {
     "grade": true,
     "grade_id": "cell-365f2f4c3a4c54ee",
     "locked": false,
     "points": 2,
     "schema_version": 3,
     "solution": true,
     "task": false
    }
   },
   "source": [
    "### BEGIN SOLUTION\n",
    "A diatomic molecule has $f_{rot}=nRT$ and $f_{vib}=nRT$. Moreover, for a van der Waals gas, we have $f_{intermol}(V,T)=-{an \\over V}$. Therefore we get\n",
    "\n",
    "$C_V = \\big ( \\partial U/\\partial T \\big )_V = {7 \\over 2}nR $\n",
    "\n",
    "$\\pi_T = \\big ( \\partial U/\\partial V \\big )_T = {a n^2 \\over V^2}$\n",
    "### END SOLUTION"
   ]
  },
  {
   "cell_type": "markdown",
   "metadata": {
    "nbgrader": {
     "grade": false,
     "grade_id": "cell-edb59e4354bdb188",
     "locked": true,
     "schema_version": 3,
     "solution": false,
     "task": false
    }
   },
   "source": [
    "### Problem 2. Getting numerical values of $C_V$ and $\\pi_T$\n",
    "Using the analytical results you just got, calculate $C_V$ and $\\pi_T$ for one mole of $N_2$ gas (treated as a van der Waals gas) confined to a volume of one liter.\n",
    "See https://en.wikipedia.org/wiki/Van_der_Waals_constants_(data_page)."
   ]
  },
  {
   "cell_type": "code",
   "execution_count": 2,
   "metadata": {
    "nbgrader": {
     "grade": true,
     "grade_id": "cell-cf8d3a848b781b88",
     "locked": false,
     "points": 2,
     "schema_version": 3,
     "solution": true,
     "task": false
    }
   },
   "outputs": [
    {
     "name": "stdout",
     "output_type": "stream",
     "text": [
      "29.099 joule / kelvin / mole\n",
      "0.3425 bar\n"
     ]
    }
   ],
   "source": [
    "### BEGIN SOLUTION\n",
    "R = AssignQuantity(8.314,'J/mol/K')\n",
    "\n",
    "C_V = 7/2*R; print(C_V)\n",
    "\n",
    "a = AssignQuantity(1.37,'L^2 bar / mol^2')\n",
    "b = AssignQuantity(0.0387,'L/mol')\n",
    "n = AssignQuantity(1,'mol')\n",
    "V = AssignQuantity(2,'L')\n",
    "\n",
    "pi_T = a*n**2/V**2; print(pi_T)\n",
    "### END SOLUTION"
   ]
  },
  {
   "cell_type": "markdown",
   "metadata": {
    "nbgrader": {
     "grade": false,
     "grade_id": "cell-eb4921605ef3dce3",
     "locked": true,
     "schema_version": 3,
     "solution": false,
     "task": false
    }
   },
   "source": [
    "### Problem 3. Finding $\\Delta U$ for isochoric heating\n",
    "Calculate $\\Delta U$ for one mole of $N_2$ gas, vdw, that results from heating it from $T=300$ to $400 \\ K$ at a fixed volume of $2 L$."
   ]
  },
  {
   "cell_type": "code",
   "execution_count": 3,
   "metadata": {
    "nbgrader": {
     "grade": true,
     "grade_id": "cell-18bdc18c4dae6aaf",
     "locked": false,
     "points": 2,
     "schema_version": 3,
     "solution": true,
     "task": false
    }
   },
   "outputs": [
    {
     "name": "stdout",
     "output_type": "stream",
     "text": [
      "300 kelvin\n",
      "8661.2 joule\n",
      "400 kelvin\n",
      "11571.1 joule\n",
      "2909.8999999999996 joule\n",
      "2.9098999999999995 kilojoule\n"
     ]
    }
   ],
   "source": [
    "### BEGIN SOLUTION\n",
    "T1 = AssignQuantity(300,'K'); print(T1)\n",
    "U1 = (3/2*R*T1 + 2/2*R*T1 + 1*R*T1 -a*n/V)*n; print(U1)\n",
    "T2 = AssignQuantity(400,'K'); print(T2)\n",
    "U2 = (3/2*R*T2 + 2/2*R*T2 + 1*R*T2 -a*n/V)*n; print(U2)\n",
    "delta_U = U2-U1; print(delta_U)\n",
    "delta_U.ito('kilojoule'); print(delta_U)\n",
    "### END SOLUTION"
   ]
  },
  {
   "cell_type": "markdown",
   "metadata": {
    "nbgrader": {
     "grade": false,
     "grade_id": "cell-9cd38066915a5ead",
     "locked": true,
     "schema_version": 3,
     "solution": false,
     "task": false
    }
   },
   "source": [
    "### Problem 4. Analytical expressions for $C_V$ and $\\pi_T$ for a Berthelot. \n",
    "\n",
    "Similarly to vdw's theory, Berthelot represents the rotational and vibrational parts of $U(T,V)$, for a diatomic molecule, as $f_{rot}=nRT$ and $f_{vib}=nRT$. The difference comes in the description of intermolecular forces: for a Berthelot gas, $f_{intermol}(V,T)=-{2an \\over VT}$. \n",
    "\n",
    "Your task is to derive analytical expressions for $C_V$ and $\\pi_T$, for a Berthelot gas."
   ]
  },
  {
   "cell_type": "markdown",
   "metadata": {
    "nbgrader": {
     "grade": true,
     "grade_id": "cell-144f76ec1c0d73cb",
     "locked": false,
     "points": 2,
     "schema_version": 3,
     "solution": true,
     "task": false
    }
   },
   "source": [
    "### BEGIN SOLUTION\n",
    "\n",
    "$C_V = \\big ( \\partial U/\\partial T \\big )_V = {7 \\over 2}nR \\ + {2an^2 \\over VT^2} $\n",
    "\n",
    "$\\pi_T = \\big ( \\partial U/\\partial V \\big )_T = {2a n^2 \\over V^2T}$\n",
    "\n",
    "### END SOLUTION"
   ]
  }
 ],
 "metadata": {
  "celltoolbar": "Create Assignment",
  "kernelspec": {
   "display_name": "Python 3 (ipykernel)",
   "language": "python",
   "name": "python3"
  },
  "language_info": {
   "codemirror_mode": {
    "name": "ipython",
    "version": 3
   },
   "file_extension": ".py",
   "mimetype": "text/x-python",
   "name": "python",
   "nbconvert_exporter": "python",
   "pygments_lexer": "ipython3",
   "version": "3.10.2"
  }
 },
 "nbformat": 4,
 "nbformat_minor": 2
}

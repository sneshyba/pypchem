{
 "cells": [
  {
   "cell_type": "markdown",
   "metadata": {
    "nbgrader": {
     "grade": false,
     "grade_id": "cell-7ae5501b3f4f28d9",
     "locked": true,
     "schema_version": 3,
     "solution": false,
     "task": false
    }
   },
   "source": [
    "### Computational Guided Inquiry for PChem (Neshyba)\n",
    "\n",
    "# Analytical Comparisons\n",
    "\n",
    "## Learning Goals\n",
    "1. Understand how numerical equivalents to $\\bar c$, $c$, and $\\tilde c$ are obtained from moments (which themselves are obtained from numerical integration).\n",
    "1. Be familiar with evaluating analytical expressions for $\\bar c$, $c$, and $\\tilde c$."
   ]
  },
  {
   "cell_type": "code",
   "execution_count": 4,
   "metadata": {
    "nbgrader": {
     "grade": false,
     "grade_id": "cell-b6c9039c79f92143",
     "locked": true,
     "schema_version": 3,
     "solution": false,
     "task": false
    }
   },
   "outputs": [],
   "source": [
    "import numpy as np\n",
    "import matplotlib.pyplot as plt\n",
    "from mpl_toolkits.mplot3d import axes3d\n",
    "import pint\n",
    "from pint import UnitRegistry\n",
    "ureg = UnitRegistry()\n",
    "AssignQuantity = ureg.Quantity"
   ]
  },
  {
   "cell_type": "markdown",
   "metadata": {
    "nbgrader": {
     "grade": false,
     "grade_id": "cell-c7b82ea449d00761",
     "locked": true,
     "schema_version": 3,
     "solution": false,
     "task": false
    }
   },
   "source": [
    "### Numerical results\n",
    "As mentioned previously, it doesn't make sense to directly compare $\\langle v \\rangle$, $\\langle v^2 \\rangle$, and $\\langle v^3 \\rangle$, because they have different units. In the cell below, print the values you obtained previously for these moments, but taken to appropriate powers."
   ]
  },
  {
   "cell_type": "code",
   "execution_count": 5,
   "metadata": {
    "nbgrader": {
     "grade": true,
     "grade_id": "cell-d18bd3bee8ac45af",
     "locked": false,
     "points": 1,
     "schema_version": 3,
     "solution": true,
     "task": false
    }
   },
   "outputs": [
    {
     "name": "stdout",
     "output_type": "stream",
     "text": [
      "moment1 = 194.4 meter / second\n",
      "moment2^(1/2) = 211.04501889407388 meter / second\n",
      "moment3**(1/3) = 226.04452616834195 meter / second\n"
     ]
    }
   ],
   "source": [
    "# These are numerical results at the low temperature (50 K)\n",
    "\n",
    "# 1st moment\n",
    "moment1 = 1.944e+02\n",
    "moment1 = AssignQuantity(moment1,'m/s')\n",
    "print('moment1 =', moment1)\n",
    "\n",
    "# Square root of 2nd moment\n",
    "moment2 = 4.454e+04\n",
    "moment2 = AssignQuantity(moment2,'m^2/s^2')\n",
    "print('moment2^(1/2) =', moment2**(1/2))\n",
    "\n",
    "# Cubed root of 3rd moment\n",
    "### BEGIN SOLUTION\n",
    "moment3 = 1.155e+07\n",
    "moment3 = AssignQuantity(moment3,'m^3/s^3')\n",
    "print('moment3**(1/3) =', moment3**(1/3))\n",
    "### END SOLUTION"
   ]
  },
  {
   "cell_type": "markdown",
   "metadata": {
    "nbgrader": {
     "grade": false,
     "grade_id": "cell-5ba6251c2bb08804",
     "locked": true,
     "schema_version": 3,
     "solution": false,
     "task": false
    }
   },
   "source": [
    "### Comparing to analytical values\n",
    "In the cell below, calculate values of $\\bar c$, $c$, and $\\tilde c$ from analytical expressions:\n",
    "\n",
    "- $\\bar c = \\bigl( \\frac{8RT}{\\pi M} \\bigr)^{1/2}$\n",
    "- $ c = \\bigl( \\frac{3RT}{M} \\bigr)^{1/2}$\n",
    "- $\\tilde c =$ your expression"
   ]
  },
  {
   "cell_type": "code",
   "execution_count": 10,
   "metadata": {
    "nbgrader": {
     "grade": true,
     "grade_id": "cell-f290c7b7c1ab556f",
     "locked": false,
     "points": 4,
     "schema_version": 3,
     "solution": true,
     "task": false
    }
   },
   "outputs": [
    {
     "name": "stdout",
     "output_type": "stream",
     "text": [
      "cbar = 194.43795902667165 meter / second\n",
      "c = 211.04332662817296 meter / second\n",
      "ctilde (approx) = 226.02418427017935 meter / second\n",
      "ctilde =  226.02389050349163 meter / second\n"
     ]
    }
   ],
   "source": [
    "# Constants for T=50 K, M=28 g/mol\n",
    "T = AssignQuantity(50,'K')           # Assuming the low-temperature results\n",
    "M = AssignQuantity(0.028,'kg/mol')   # Assuming N2 gas\n",
    "R = AssignQuantity(8.314,'J/mol/K')  # SI gas constant\n",
    "\n",
    "# cbar\n",
    "cbar = (8*R*T/(np.pi*M))**(1/2)\n",
    "print('cbar =', cbar.to('m/s'))\n",
    "\n",
    "# c\n",
    "### BEGIN SOLUTION\n",
    "c = (3*R*T/M)**(1/2)\n",
    "print('c =', c.to('m/s'))\n",
    "### END SOLUTION\n",
    "\n",
    "# ctilde\n",
    "### BEGIN SOLUTION\n",
    "ctilde = 1.855*(R*T/M)**(1/2)\n",
    "print('ctilde (approx) =', ctilde.to('m/s'))\n",
    "\n",
    "ctilde=(128*R**3*T**3*np.pi**5/M**3)**(1/6)/np.pi; \n",
    "print('ctilde = ',ctilde.to('m/s'))\n",
    "\n",
    "### END SOLUTION\n",
    "\n"
   ]
  },
  {
   "cell_type": "markdown",
   "metadata": {
    "nbgrader": {
     "grade": false,
     "grade_id": "cell-366d723ea54fdc48",
     "locked": true,
     "schema_version": 3,
     "solution": false,
     "task": false
    }
   },
   "source": [
    "### Pause for analysis\n",
    "Hopefully, you got \n",
    "- cbar pretty close to $<v>$\n",
    "- c pretty close to $<v^2>^{1/2}$\n",
    "- ctilde pretty close to $<v^3>^{1/3}$. \n",
    "\n",
    "Did you?"
   ]
  }
 ],
 "metadata": {
  "celltoolbar": "Create Assignment",
  "kernelspec": {
   "display_name": "Python 3",
   "language": "python",
   "name": "python3"
  },
  "language_info": {
   "codemirror_mode": {
    "name": "ipython",
    "version": 3
   },
   "file_extension": ".py",
   "mimetype": "text/x-python",
   "name": "python",
   "nbconvert_exporter": "python",
   "pygments_lexer": "ipython3",
   "version": "3.6.9"
  }
 },
 "nbformat": 4,
 "nbformat_minor": 2
}

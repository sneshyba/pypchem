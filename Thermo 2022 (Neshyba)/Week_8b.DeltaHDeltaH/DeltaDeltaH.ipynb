{
 "cells": [
  {
   "cell_type": "markdown",
   "metadata": {
    "nbgrader": {
     "grade": false,
     "grade_id": "cell-56fbf5af1558f805",
     "locked": true,
     "schema_version": 3,
     "solution": false,
     "task": false
    }
   },
   "source": [
    "### Computational Guided Inquiry for PChem (Neshyba)\n",
    "\n",
    "# $\\Delta \\Delta H$\n",
    "\n",
    "## Introduction \n",
    "\n",
    "Here we'll be using empirical formulas for finding the heat capacity of water, in its three phases (solid, liquid, and gas). Empirical formulas are explicit functions of temperature that are based on observations. \n",
    "\n",
    "### Water ice\n",
    "The site www.liquisearch.com/heat_capacity/table_of_specific_heat_capacities says the heat capacity of ice is just  a constant,\n",
    "\n",
    "$$\n",
    "C_P \\ (ice) = 38.0 \\frac J {mol \\ K} \\ \\ \\ \\ (1)\n",
    "$$\n",
    "\n",
    "### Liquid water\n",
    "The site https://webbook.nist.gov/cgi/cbook.cgi?ID=C7732185&Units=SI&Mask=2#Thermo-Condensed, maintained by NIST, uses the *Shomate Equation*, \n",
    "\n",
    "$$\n",
    "C_P \\ (liquid) = A + Bt + Ct^22 + Dt^3 + E/t^2 \\ \\ \\ \\ (2)\n",
    "$$\n",
    "\n",
    "where $t = temperature (K) / 1000$ and the constants A-E are given at the NIST website.\n",
    "\n",
    "### Water vapor \n",
    "The site www.engineeringtoolbox.com/water-vapor-d_979.html provides a linear formula, \n",
    "\n",
    "$$\n",
    "C_P \\ (vapor) = C_{P,0} + m(T-T_0) \\ \\ \\ \\ (3)\n",
    "$$\n",
    "\n",
    "where $m=0.0067 \\ \\frac J {mol \\ K^2}$, $C_{P,0}=33.58 \\ \\frac J {mol \\ K}$, and $T_0=300 \\ K$.\n",
    "\n",
    "\n",
    "### Heat capacities in other units\n",
    "\n",
    "Another way of expressing the heat capacity of a substance is on a *per mass* basis,\n",
    "\n",
    "$$\n",
    "C_P \\ (mass \\ basis) = C_P/M \\ \\ \\ \\ (4)\n",
    "$$\n",
    "\n",
    "where $M$ is the molar mass of the substance. For example, if $M$ is expressed in g/mol, $C_P \\ (mass \\ basis)$ would have units $\\frac J {g \\ K}$.\n",
    "\n",
    "Another way of expressing the heat capacity is in terms of calories rather than joules. To convert from $\\frac J {g \\ K}$ to $\\frac {cal} {g \\ K}$, you divide by 4.18 (or use the \".ito\" conversion capability in Python's unit registry).\n",
    "\n",
    "### Kirchoff's enthalpy law\n",
    "\n",
    "We can find the *change* in $\\Delta H_{vap}$ in going from one temperature to another using Kirchoff's enthalpy law,   \n",
    "\n",
    "$$\n",
    "\\Delta(\\Delta H_{vap}) = \\int_{T^o}^{T} \\Delta C_P \\ dT \\ \\ \\ \\ (5)\n",
    "$$\n",
    "\n",
    "where $\\Delta C_P = C_P(gas) - C_P(liq)$, and $T_o$ is some reference temperature. How is this useful? Suppose we want to know the enthalpy of vaporization of water at its boiling temperature, 373 K, given that tables say $\\Delta H_{vap}(298 \\ K) = 44,000$ J/mol. Then we'd say  \n",
    "\n",
    "$$\n",
    "\\Delta H_{vap}(373 \\ K) = \\Delta H_{vap}(298 \\ K) + \\Delta(\\Delta H_{vap}) \\ \\ \\ \\ (6)\n",
    "$$\n",
    "\n",
    "where we'd use Eq. (5) to calculate $\\Delta(\\Delta H_{vap})$, $T^o=298 \\ K$ and $T=373 \\ K$.\n",
    "\n",
    "One additional note about this: if the heat capacities of the liquid and vapor, $C_P(gas)$ and $C_P(liq)$, were *constant* between $T^o$ and $T$, then $\\Delta(\\Delta H_{vap})$ is easily solved: $\\Delta C_P$ comes out of the integral, and we're left with $\\Delta C_P \\ (T-T^o)$. But the empirical formulas given above, Eqs. (2) and (3), say otherwise: $\\Delta C_P$ *is* temperature-dependent. So for precise work, we're stuck evaluating the integral in Eq. (5). Fortunately, we have Python's symbolic manipulation package Sympy to do the heavy lifting on this.\n",
    "\n",
    "\n",
    "## Learning Goals\n",
    "- Become familiar with the use of empirical formulas (like the Shomate Equation) for computing temperature-dependent heat capacities\n",
    "- Become familiar with how to define and use your own, custom-built Python functions\n",
    "- Gain some practice using Sympy for solving \\Delta(\\Delta H_{vap}) according to Kirchoff's entropy law"
   ]
  },
  {
   "cell_type": "code",
   "execution_count": 1,
   "metadata": {
    "nbgrader": {
     "grade": false,
     "grade_id": "cell-6ddaa61942c41168",
     "locked": true,
     "schema_version": 3,
     "solution": false,
     "task": false
    }
   },
   "outputs": [],
   "source": [
    "# Import resources stored in the Pchem Library\n",
    "%run ../PchemLibrary/ImportResources.ipynb"
   ]
  },
  {
   "cell_type": "markdown",
   "metadata": {
    "nbgrader": {
     "grade": false,
     "grade_id": "cell-ecf248e33a465c45",
     "locked": true,
     "schema_version": 3,
     "solution": false,
     "task": false
    }
   },
   "source": [
    "### Defining the system"
   ]
  },
  {
   "cell_type": "code",
   "execution_count": 2,
   "metadata": {
    "nbgrader": {
     "grade": false,
     "grade_id": "cell-2c3b77ef736748af",
     "locked": true,
     "schema_version": 3,
     "solution": false,
     "task": false
    }
   },
   "outputs": [],
   "source": [
    "M = AssignQuantity(18.0153,'g/mol')\n",
    "R = AssignQuantity(8.314,'J/mol/K')\n",
    "n = AssignQuantity(1,'mol')"
   ]
  },
  {
   "cell_type": "markdown",
   "metadata": {
    "nbgrader": {
     "grade": false,
     "grade_id": "cell-2fc89386f89e4d26",
     "locked": true,
     "schema_version": 3,
     "solution": false,
     "task": false
    }
   },
   "source": [
    "### Empirical heat capacity functions for water\n",
    "Below, we define two inline Python functions that evaluate empirical forumlas in the literature for the heat capacity of water, described in Eqs. (1) and (2) in the Introduction. \"Inline\" means we can use them anywhere in this Python Notebook (but they are not available in other Notebooks)."
   ]
  },
  {
   "cell_type": "code",
   "execution_count": 3,
   "metadata": {
    "nbgrader": {
     "grade": false,
     "grade_id": "cell-5b8a25ccb21ae0ac",
     "locked": true,
     "schema_version": 3,
     "solution": false,
     "task": false
    }
   },
   "outputs": [],
   "source": [
    "def CP_H2Ogas(T,AssignQuantity):\n",
    "    \"\"\" www.engineeringtoolbox.com/water-vapor-d_979.html \"\"\"\n",
    "    m = AssignQuantity(0.0067,'J/mol/K^2')\n",
    "    CP0 = AssignQuantity(33.58,'J/mol/K')\n",
    "    T0 = AssignQuantity(300,'K')\n",
    "    CP = CP0 + m*(T-T0)\n",
    "    return CP"
   ]
  },
  {
   "cell_type": "code",
   "execution_count": 4,
   "metadata": {
    "nbgrader": {
     "grade": false,
     "grade_id": "cell-76188d9a5b2a1c04",
     "locked": true,
     "schema_version": 3,
     "solution": false,
     "task": false
    }
   },
   "outputs": [],
   "source": [
    "def CP_H2Oice(T,AssignQuantity):\n",
    "    \"\"\" www.liquisearch.com/heat_capacity/table_of_specific_heat_capacities \"\"\"\n",
    "    CP = AssignQuantity(38.0,'J/mol/K')\n",
    "    return CP"
   ]
  },
  {
   "cell_type": "markdown",
   "metadata": {
    "nbgrader": {
     "grade": false,
     "grade_id": "cell-b6e054e4f604c0ff",
     "locked": true,
     "schema_version": 3,
     "solution": false,
     "task": false
    }
   },
   "source": [
    "### Your turn\n",
    "In the cell below, create a similar function for evaluating the heat capacity of liquid water, given the same inputs (T and AssignQuantity). Call your function \"CP_H2Oliq\"."
   ]
  },
  {
   "cell_type": "code",
   "execution_count": 5,
   "metadata": {
    "nbgrader": {
     "grade": true,
     "grade_id": "cell-084e376d3ba6c33c",
     "locked": false,
     "points": 2,
     "schema_version": 3,
     "solution": true,
     "task": false
    }
   },
   "outputs": [],
   "source": [
    "### BEGIN SOLUTION ###\n",
    "def CP_H2Oliq(T,AssignQuantity):\n",
    "    \"\"\" https://webbook.nist.gov/cgi/cbook.cgi?ID=C7732185&Units=SI&Mask=2#Thermo-Condensed \"\"\"\n",
    "    A = AssignQuantity(-203.606,'J/mol/K')\n",
    "    B = AssignQuantity(1523.290,'J/mol/K^2')\n",
    "    C = AssignQuantity(-3196.413,'J/mol/K^3')\n",
    "    D = AssignQuantity(2474.455,'J/mol/K^4')\n",
    "    E = AssignQuantity(3.855326,'J/mol K')\n",
    "    t = T/1000\n",
    "    CP = A + B*t + C*t**2 + D*t**3 + E/t**2\n",
    "    return CP\n",
    "### END SOLUTION ###"
   ]
  },
  {
   "cell_type": "markdown",
   "metadata": {
    "nbgrader": {
     "grade": false,
     "grade_id": "cell-20eeda7ebc9c7c27",
     "locked": true,
     "schema_version": 3,
     "solution": false,
     "task": false
    }
   },
   "source": [
    "### Exercising the heat capacity functions\n",
    "The cell below shows how to use these functions for a temperature of 298 K."
   ]
  },
  {
   "cell_type": "code",
   "execution_count": 6,
   "metadata": {
    "nbgrader": {
     "grade": false,
     "grade_id": "cell-08b1f383549daba8",
     "locked": true,
     "schema_version": 3,
     "solution": false,
     "task": false
    }
   },
   "outputs": [
    {
     "name": "stdout",
     "output_type": "stream",
     "text": [
      "33.5666 joule / kelvin / mole\n",
      "75.37700524361435 joule / kelvin / mole\n",
      "38.0 joule / kelvin / mole\n"
     ]
    }
   ],
   "source": [
    "# Examining values at 298 K\n",
    "T = AssignQuantity(298,'K')\n",
    "CP_gas = CP_H2Ogas(T,AssignQuantity); print(CP_gas)\n",
    "CP_liq = CP_H2Oliq(T,AssignQuantity); print(CP_liq)\n",
    "CP_ice = CP_H2Oice(T,AssignQuantity); print(CP_ice)"
   ]
  },
  {
   "cell_type": "markdown",
   "metadata": {
    "nbgrader": {
     "grade": false,
     "grade_id": "cell-58e119c2089dd0b6",
     "locked": true,
     "schema_version": 3,
     "solution": false,
     "task": false
    }
   },
   "source": [
    "### Your turn\n",
    "In the cell below, evaluate the heat capacities of gaseous, liquid, and ice water, at 373 K."
   ]
  },
  {
   "cell_type": "code",
   "execution_count": 7,
   "metadata": {
    "nbgrader": {
     "grade": true,
     "grade_id": "cell-2b2293d5e773710d",
     "locked": false,
     "points": 2,
     "schema_version": 3,
     "solution": true,
     "task": false
    }
   },
   "outputs": [
    {
     "name": "stdout",
     "output_type": "stream",
     "text": [
      "34.0691 joule / kelvin / mole\n",
      "75.98999884816186 joule / kelvin / mole\n",
      "38.0 joule / kelvin / mole\n"
     ]
    }
   ],
   "source": [
    "# Examining values at 373 K\n",
    "### BEGIN SOLUTION\n",
    "T = AssignQuantity(373,'K')\n",
    "CP_gas = CP_H2Ogas(T,AssignQuantity); print(CP_gas)\n",
    "CP_liq = CP_H2Oliq(T,AssignQuantity); print(CP_liq)\n",
    "CP_ice = CP_H2Oice(T,AssignQuantity); print(CP_ice)\n",
    "### END SOLUTION"
   ]
  },
  {
   "cell_type": "markdown",
   "metadata": {
    "nbgrader": {
     "grade": false,
     "grade_id": "cell-0e1f6df046bb7d5f",
     "locked": true,
     "schema_version": 3,
     "solution": false,
     "task": false
    }
   },
   "source": [
    "### Heat capacities predicted from the equipartition theorem\n",
    "Below, calculate and print the values of $C_P$ you'd expect for water if it were an ideal gas, in two limits: first, the low-temperature (non-vibrating), and second, the classical (vibrating) limits. For the latter, remember that water has three vibrational modes: the symmetric stretch, the asymmetric stretch, and the bend."
   ]
  },
  {
   "cell_type": "code",
   "execution_count": 8,
   "metadata": {
    "nbgrader": {
     "grade": true,
     "grade_id": "cell-642d4454a046e5a1",
     "locked": false,
     "points": 2,
     "schema_version": 3,
     "solution": true,
     "task": false
    }
   },
   "outputs": [
    {
     "name": "stdout",
     "output_type": "stream",
     "text": [
      "33.256 joule / kelvin\n",
      "58.198 joule / kelvin\n"
     ]
    }
   ],
   "source": [
    "### BEGIN SOLUTION ###\n",
    "CV_equipartition_LowTemp = (3/2 + 3/2)*R*n\n",
    "CV_equipartition_Classical = (3/2 + 3/2 + 3)*R*n\n",
    "\n",
    "CP_equipartition_LowTemp = CV_equipartition_LowTemp + R*n\n",
    "CP_equipartition_Classical = CV_equipartition_Classical + R*n\n",
    "\n",
    "print(CP_equipartition_LowTemp)\n",
    "print(CP_equipartition_Classical)\n",
    "### END SOLUTION ### "
   ]
  },
  {
   "cell_type": "markdown",
   "metadata": {
    "nbgrader": {
     "grade": false,
     "grade_id": "cell-d0343dc95c2797cb",
     "locked": true,
     "schema_version": 3,
     "solution": false,
     "task": false
    }
   },
   "source": [
    "### Pause for analysis\n",
    "Comparing the equipartition predictions you just made to the empirical results, would you say that water vapor at 298 K is vibrating? (Explain your reasoning.)"
   ]
  },
  {
   "cell_type": "markdown",
   "metadata": {
    "nbgrader": {
     "grade": true,
     "grade_id": "cell-dc2bf109376e4c4b",
     "locked": false,
     "points": 2,
     "schema_version": 3,
     "solution": true,
     "task": false
    }
   },
   "source": []
  },
  {
   "cell_type": "markdown",
   "metadata": {
    "nbgrader": {
     "grade": false,
     "grade_id": "cell-5bec79057972e1a2",
     "locked": true,
     "schema_version": 3,
     "solution": false,
     "task": false
    }
   },
   "source": [
    "### Converting to other units\n",
    "Below, do these for comparison:\n",
    "- Create a new variable for the liquid (say, CP_liq_mass) that represents the heat capacity of liquid water on a per-gram basis, and print the results.\n",
    "- Convert your result to cal/g/K (you can use the .ito converter for this if you like!). You should get a number close to 1."
   ]
  },
  {
   "cell_type": "code",
   "execution_count": 9,
   "metadata": {
    "nbgrader": {
     "grade": true,
     "grade_id": "cell-86ad67146a62ffe0",
     "locked": false,
     "points": 2,
     "schema_version": 3,
     "solution": true,
     "task": false
    }
   },
   "outputs": [
    {
     "name": "stdout",
     "output_type": "stream",
     "text": [
      "4.218081233627076 joule / gram / kelvin\n",
      "1.008145610331519 calorie / gram / kelvin\n"
     ]
    }
   ],
   "source": [
    "### BEGIN SOLUTION ###\n",
    "CP_liq_mass = CP_liq/M; print(CP_liq_mass)\n",
    "CP_liq_mass.ito('cal/g/K')\n",
    "print(CP_liq_mass)\n",
    "### END SOLUTION ###"
   ]
  },
  {
   "cell_type": "markdown",
   "metadata": {
    "nbgrader": {
     "grade": false,
     "grade_id": "cell-8616acb89790e870",
     "locked": true,
     "schema_version": 3,
     "solution": false,
     "task": false
    }
   },
   "source": [
    "### Creating $C_P$ expressions as symbolic variables\n",
    "Turns out that you can assign units to symbolic variables! Which will be very useful, because then we can use our existing functions CP_H2Oliq and CP_H2Ogas. Sadly, however, not all sympy functions work properly with symbolic variables that have units, so in the end we'll have to de-dimensionalize our result.\n",
    "\n",
    "We do all this in two steps below -- you should just fill in the missing parts of Step 2, with a line like\n",
    "\n",
    "    CP_liq = CP_H2Oliq(T,AssignQuantity)\n",
    "    \n",
    "for the liquid, and another one like it for the gas."
   ]
  },
  {
   "cell_type": "code",
   "execution_count": 10,
   "metadata": {
    "nbgrader": {
     "grade": true,
     "grade_id": "cell-2567e41705d43802",
     "locked": false,
     "points": 2,
     "schema_version": 3,
     "solution": true,
     "task": false
    }
   },
   "outputs": [
    {
     "name": "stdout",
     "output_type": "stream",
     "text": [
      "2.474455e-6*T**3 - 0.003196413*T**2 + 1.52329*T - 203.606 + 3855326.0/T**2 joule / kelvin / mole\n",
      "0.0067*T + 31.57 joule / kelvin / mole\n"
     ]
    }
   ],
   "source": [
    "# Step 1. Get a symbolic temperature with units\n",
    "T = AssignQuantity(sp.var(\"T\"),'K')\n",
    "\n",
    "# Step 2. Get heat capacities of liquid and gas using the same calls to our functions (CP_H2Oliq and CP_H2Ogas)\n",
    "### BEGIN SOLUTION\n",
    "CP_liq = CP_H2Oliq(T,AssignQuantity) ; print(CP_liq)\n",
    "CP_gas = CP_H2Ogas(T,AssignQuantity) ; print(CP_gas)\n",
    "### END SOLUTION"
   ]
  },
  {
   "cell_type": "markdown",
   "metadata": {
    "nbgrader": {
     "grade": false,
     "grade_id": "cell-f0da10d843ad8ae0",
     "locked": true,
     "schema_version": 3,
     "solution": false,
     "task": false
    }
   },
   "source": [
    "### Getting $\\Delta(\\Delta H_{vap})$  in going from 298 to 373 K\n",
    "\n",
    "Your challenge in the cell below is to compute $\\Delta H_{vap, \\ 373}$. Some hints: it'll be handy to get the *indefinite* integral appearing in Eq. (5) first. For that purpose, you can use something like  \n",
    "\n",
    "    DDHvap_indef = sp.integrate(DeltaCP,T)\n",
    "    \n",
    "To get the corresponding definite integral, use something like\n",
    "\n",
    "    DDHvap_def = DDHvap_indef.subs(T,373) - DDHvap_indef.subs(T,298)\n",
    "   "
   ]
  },
  {
   "cell_type": "code",
   "execution_count": 11,
   "metadata": {
    "nbgrader": {
     "grade": true,
     "grade_id": "cell-46927351c58157ad",
     "locked": false,
     "points": 2,
     "schema_version": 3,
     "solution": true,
     "task": false
    }
   },
   "outputs": [
    {
     "name": "stdout",
     "output_type": "stream",
     "text": [
      "-2.474455e-6*T**3 + 0.003196413*T**2 - 1.51659*T + 235.176 - 3855326.0/T**2\n",
      "-3123.73463662321\n"
     ]
    }
   ],
   "source": [
    "# First construct the difference in heat capacities, and (awkwardly) strip away units because Sympy can't handle them\n",
    "T = sp.var(\"T\")\n",
    "DeltaCP = (CP_gas - CP_liq).subs(T,T); print(DeltaCP)\n",
    "\n",
    "# Now use Sympy to find the indefinite integral in Eq. (5)\n",
    "### BEGIN SOLUTION\n",
    "DDHvap_indef = sp.integrate(DeltaCP,T)\n",
    "### END SOLUTION\n",
    "\n",
    "# Now find the definite integral\n",
    "### BEGIN SOLUTION\n",
    "DDHvap_def = DDHvap_indef.subs(T,373) - DDHvap_indef.subs(T,298)\n",
    "print(DDHvap_def)\n",
    "### END SOLUTION ###"
   ]
  },
  {
   "cell_type": "markdown",
   "metadata": {
    "nbgrader": {
     "grade": false,
     "grade_id": "cell-4e5772a0456dd501",
     "locked": true,
     "schema_version": 3,
     "solution": false,
     "task": false
    }
   },
   "source": [
    "### Pause for analysis\n",
    "Hopefully, you ended up with a value for $\\Delta(\\Delta H_{vap})$ close to $-3,000$ J/mol. If not, see whether you might have made any errors in the cell above."
   ]
  },
  {
   "cell_type": "markdown",
   "metadata": {},
   "source": [
    "### Getting $\\Delta H_{vap, \\ 373}$\n",
    "\n",
    "Don't forget that, to get $\\Delta H_{vap, \\ 373}$, you'll need to use Eq. (6)."
   ]
  },
  {
   "cell_type": "code",
   "execution_count": 12,
   "metadata": {
    "nbgrader": {
     "grade": true,
     "grade_id": "cell-2a79a55bde0619ca",
     "locked": false,
     "points": 2,
     "schema_version": 3,
     "solution": true,
     "task": false
    }
   },
   "outputs": [
    {
     "name": "stdout",
     "output_type": "stream",
     "text": [
      "40876.2653633768\n"
     ]
    }
   ],
   "source": [
    "# Calculating and printing the enthalpy of vaporization of water at 373 K\n",
    "### BEGIN SOLUTION\n",
    "DeltaHvap = 44000 + DDHvap_def\n",
    "print(DeltaHvap)\n",
    "### END SOLUTION ###"
   ]
  }
 ],
 "metadata": {
  "celltoolbar": "Create Assignment",
  "kernelspec": {
   "display_name": "Python 3.6",
   "language": "python",
   "name": "python3"
  },
  "language_info": {
   "codemirror_mode": {
    "name": "ipython",
    "version": 3
   },
   "file_extension": ".py",
   "mimetype": "text/x-python",
   "name": "python",
   "nbconvert_exporter": "python",
   "pygments_lexer": "ipython3",
   "version": "3.6.9"
  }
 },
 "nbformat": 4,
 "nbformat_minor": 2
}

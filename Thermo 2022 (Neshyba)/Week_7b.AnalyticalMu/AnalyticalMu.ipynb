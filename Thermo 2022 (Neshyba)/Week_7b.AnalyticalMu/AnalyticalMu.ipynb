{
 "cells": [
  {
   "cell_type": "markdown",
   "metadata": {},
   "source": [
    "### Computational Guided Inquiry for PChem (Neshyba)\n",
    "\n",
    "# Analytical $\\mu$\n",
    "\n",
    "### van der Waals and Berthelot's gases \n",
    "You probably remember this, but just as a reminder, a van der Waals gas is defined according to \n",
    "\n",
    "$$\n",
    "P(T,V) = {{n R T} \\over {V - nb}} - {{n^2 a} \\over V^2}  \\ \\ \\ \\ (1)\n",
    "$$\n",
    "\n",
    "There are other ways of formulating a non-ideal gas, however! Here's Berthelot's formula:\n",
    "\n",
    "$$\n",
    "P(T,V) = {{n R T} \\over {V - nb}} - {{n^2 a} \\over TV^2}  \\ \\ \\ \\ (2)\n",
    "$$ \n",
    "\n",
    "These two formulas look pretty similar, right? But extra $T$ in Berthelot's formula means Berthelot's $a$ and $b$ constants are not the same as van der Waals' $a$ and $b$. That won't matter for our purposes here, since we're focused on analytical properties of gases -- especially as they related to the slopes $\\pi _T$ and $\\mu _T$ that appear in differential equations of state for $dU$ and $dH$.\n",
    "\n",
    "### Derivation of $\\pi _T$\n",
    "A useful formula for $\\pi _T$, which is quite general$^*$, is \n",
    "$$\n",
    "\\pi _T = T\\big ( \\frac {\\partial P}{\\partial T} \\big )_V - P \\ \\ \\ \\ (3)\n",
    "$$\n",
    "\n",
    "$^*$This comes from a set of equations known as *Maxwell's Equations* -- which we'll get to later.\n",
    "\n",
    "\n",
    "### Derivation of $\\mu _T$ for a van der Waals gas\n",
    "Our formula for this (which also comes from *Maxwell's Equations*!) is \n",
    "\n",
    "$$\n",
    "\\mu _T = \\frac {P + \\pi_T}{(\\partial P/\\partial V)_T} + V \\ \\ \\ \\ (4)\n",
    "$$\n",
    "\n",
    "To simplify matters, we'll take the bilinear Taylor expansion of the first term. That is, if we say \n",
    "\n",
    "$$\n",
    "\\frac {P + \\pi_T}{(\\partial P/\\partial V)_T}=F(a,b) \\ \\ \\ \\ (5)\n",
    "$$\n",
    "\n",
    "then\n",
    "\n",
    "$$\n",
    "\\frac {P + \\pi_T}{(\\partial P/\\partial V)_T} \\approx F_{a,b=0} + a\\big (\\frac{\\partial F}{\\partial a}\\big )|_{a,b=0}  + b\\big (\\frac{\\partial F}{\\partial b}\\big )|_{a,b=0} \\ \\ \\ \\ (6)\n",
    "$$\n",
    "\n",
    "### Getting the intermolecular part of $H(T,P)$ from $\\mu_T$ for a van der Waals gas\n",
    "If we say that \n",
    "\n",
    "$$\n",
    "U(T,V) = [{3 \\over 2}RT + f_{rot}(T) + f_{vib}(T) + f_{intermol}(T,V)] \\times n \\ \\ \\ \\ (7)\n",
    "$$ \n",
    "\n",
    "then it's a pretty good approximation to say \n",
    "\n",
    "$$\n",
    "H(T,P) = [{5 \\over 2}RT + f_{rot}(T) + f_{vib}(T) + f'_{intermol}(T,P)] \\times n \\ \\ \\ \\ (8)\n",
    "$$\n",
    "\n",
    "where \n",
    "\n",
    "$$\n",
    "f'_{intermol}(T,P) = {1 \\over n} \\int^P \\mu_T dP \\ \\ \\ \\ (9)\n",
    "$$\n",
    "\n",
    "(i.e., the indefinite integral of $\\mu_T$). \n",
    "\n",
    "\n",
    "## Learning Goal\n",
    "Gain familiarity with the use of Python's analytical tools (the Sympy package) to derive key relationships between $\\pi _T$ and $\\mu _T$ for a van der Waals gas and a Berthelot gas."
   ]
  },
  {
   "cell_type": "code",
   "execution_count": 1,
   "metadata": {
    "nbgrader": {
     "grade": false,
     "grade_id": "cell-014d5e9a3065dcec",
     "locked": true,
     "schema_version": 3,
     "solution": false,
     "task": false
    }
   },
   "outputs": [],
   "source": [
    "# Import resources - execute 2x if you want interactive graphics\n",
    "import pint; from pint import UnitRegistry; AssignQuantity = UnitRegistry().Quantity\n",
    "import numpy as np\n",
    "import matplotlib.pyplot as plt\n",
    "import PchemLibrary as PL\n",
    "from mpl_toolkits.mplot3d import axes3d\n",
    "import sympy as sp\n",
    "%matplotlib notebook"
   ]
  },
  {
   "cell_type": "markdown",
   "metadata": {
    "nbgrader": {
     "grade": false,
     "grade_id": "cell-c8eb61c7b7195e5d",
     "locked": true,
     "schema_version": 3,
     "solution": false,
     "task": false
    }
   },
   "source": [
    "### Derivation of $\\pi _T$ for a van der Waals gas\n",
    "In the cell below, derive an analytical expression for $\\pi _T$ for a van der Waals gas, using Sympy. The key relationships are Eqs. (1) and (3). Since the goal here is for you to get some practice at this kind of thing, here's a big tip: the answer you're looking for is $\\pi_T=n^2a/V^2$. "
   ]
  },
  {
   "cell_type": "code",
   "execution_count": 2,
   "metadata": {
    "nbgrader": {
     "grade": true,
     "grade_id": "cell-14317f91b4ddd3a5",
     "locked": false,
     "points": 3,
     "schema_version": 3,
     "solution": true,
     "task": false
    }
   },
   "outputs": [
    {
     "name": "stdout",
     "output_type": "stream",
     "text": [
      "   2\n",
      "a⋅n \n",
      "────\n",
      "  2 \n",
      " V  \n",
      "a*n**2/V**2\n"
     ]
    }
   ],
   "source": [
    "# pi_T for a vdw gas\n",
    "\n",
    "### BEGIN SOLUTION\n",
    "sp.var(\"a\")\n",
    "sp.var(\"b\")\n",
    "sp.var(\"n\")\n",
    "sp.var(\"V\")\n",
    "sp.var(\"R\")\n",
    "sp.var(\"T\")\n",
    "sp.var(\"x\")\n",
    "\n",
    "P = n*R*T/(V-n*b) - a*n**2/V**2\n",
    "dPdT = sp.diff(P,T)\n",
    "pi_T = T*dPdT - P\n",
    "sp.pprint(pi_T)\n",
    "print(pi_T)\n",
    "### END SOLUTION"
   ]
  },
  {
   "cell_type": "markdown",
   "metadata": {
    "nbgrader": {
     "grade": false,
     "grade_id": "cell-d64441bf6ff52afc",
     "locked": true,
     "schema_version": 3,
     "solution": false,
     "task": false
    }
   },
   "source": [
    "### Derivation of $\\mu _T$ for a van der Waals gas\n",
    "In the cell below, derive an analytical expression for $\\mu _T$ for a van der Waals gas. The key relationships are the relationship you just derived ($\\pi_T=n^2a/V^2$), plus Eqs. (1), and (4)-(6).\n",
    "\n",
    "Some hints: To find $\\big (\\frac{\\partial F}{\\partial a}\\big )|_{a,b=0}$, first take the derivative of $F$ with respect to $a$, and *then* substitute zeros for $a$ and $b$. Similarly with $\\big (\\frac{\\partial F}{\\partial b}\\big )|_{a,b=0}$. Sympy can help."
   ]
  },
  {
   "cell_type": "code",
   "execution_count": 3,
   "metadata": {
    "nbgrader": {
     "grade": true,
     "grade_id": "cell-e94f92847afc2860",
     "locked": false,
     "points": 3,
     "schema_version": 3,
     "solution": true,
     "task": false
    }
   },
   "outputs": [
    {
     "name": "stdout",
     "output_type": "stream",
     "text": [
      "F =  R*T*n/((V - b*n)*(-R*T*n/(V - b*n)**2 + 2*a*n**2/V**3))\n",
      "              R⋅T⋅n              \n",
      "─────────────────────────────────\n",
      "          ⎛                    2⎞\n",
      "          ⎜    R⋅T⋅n      2⋅a⋅n ⎟\n",
      "(V - b⋅n)⋅⎜- ────────── + ──────⎟\n",
      "          ⎜           2      3  ⎟\n",
      "          ⎝  (V - b⋅n)      V   ⎠\n",
      "Exact result for mu_T =\n",
      "              R⋅T⋅n                  \n",
      "───────────────────────────────── + V\n",
      "          ⎛                    2⎞    \n",
      "          ⎜    R⋅T⋅n      2⋅a⋅n ⎟    \n",
      "(V - b⋅n)⋅⎜- ────────── + ──────⎟    \n",
      "          ⎜           2      3  ⎟    \n",
      "          ⎝  (V - b⋅n)      V   ⎠    \n",
      "F0= -V\n",
      "Approximate result for mu_T =\n",
      "      2⋅a⋅n\n",
      "b⋅n - ─────\n",
      "       R⋅T \n",
      "b*n - 2*a*n/(R*T)\n",
      "24.436/((20 - b)*(a/4000 - 24.436/(20 - b)**2))\n"
     ]
    },
    {
     "data": {
      "text/plain": [
       "Text(0.5, 0, 'b')"
      ]
     },
     "execution_count": 3,
     "metadata": {},
     "output_type": "execute_result"
    },
    {
     "data": {
      "image/png": "[encoded data removed]",
      "text/plain": [
       "<Figure size 432x288 with 1 Axes>"
      ]
     },
     "metadata": {
      "needs_background": "light"
     },
     "output_type": "display_data"
    }
   ],
   "source": [
    "# mu_T for a vdw gas\n",
    "\n",
    "### BEGIN SOLUTION\n",
    "sp.var(\"a\")\n",
    "sp.var(\"b\")\n",
    "sp.var(\"n\")\n",
    "sp.var(\"V\")\n",
    "sp.var(\"R\")\n",
    "sp.var(\"T\")\n",
    "\n",
    "P = n*R*T/(V-n*b) - a*n**2/V**2\n",
    "pi_T = n**2*a/V**2\n",
    "dPdV = sp.diff(P,V)\n",
    "F = (P+pi_T)/dPdV\n",
    "print(\"F = \", F)\n",
    "sp.pprint(F)\n",
    "mu_T_exact = F+V\n",
    "print('Exact result for mu_T =')\n",
    "sp.pprint(mu_T_exact)\n",
    "\n",
    "\n",
    "F0 = F.subs({a:0,b:0}); print(\"F0=\",F0)\n",
    "Fa = sp.diff(F,a).subs({a:0,b:0})\n",
    "Fb = sp.diff(F,b).subs({a:0,b:0})\n",
    "mu_T = F0 + Fa*a + Fb*b + V\n",
    "print('Approximate result for mu_T =')\n",
    "sp.pprint(mu_T)\n",
    "print(mu_T)\n",
    "\n",
    "# This is not part of the solution, but motivation for the bilinear approach\n",
    "import PchemLibrary as PL\n",
    "import numpy as np\n",
    "import matplotlib.pyplot as plt\n",
    "from mpl_toolkits.mplot3d import axes3d\n",
    "\n",
    "agrid, bgrid = PL.Statespace([0,4,21],[0,.5,20])\n",
    "Ftrial = R*T*n/((V - b*n)*(-R*T*n/(V - b*n)**2 + 2*a*n**2/V**3))\n",
    "Ftrial = Ftrial.subs({n:1,P:1,V:20,R:.082,T:298}); print(Ftrial)\n",
    "Fgrid = 24.436/((20 - bgrid)*(agrid/4000 - 24.436/(20 - bgrid)**2))\n",
    "\n",
    "# Graph it -- if this looks like a plane, then a bilinear expansion would be justified\n",
    "ax = PL.plot_surface(agrid, bgrid, Fgrid, color='plum') # Make the mesh plot\n",
    "ax.set_xlabel(\"a\")\n",
    "ax.set_ylabel(\"b\")\n",
    "\n",
    "# So ... F0 = V, which cancels with the other V\n",
    "# And the graph just made shows that a bilinear appoximation should be pretty accurate\n",
    "\n",
    "### END SOLUTION"
   ]
  },
  {
   "cell_type": "markdown",
   "metadata": {
    "nbgrader": {
     "grade": false,
     "grade_id": "cell-50443ca2f00a8621",
     "locked": true,
     "schema_version": 3,
     "solution": false,
     "task": false
    }
   },
   "source": [
    "### Getting the intermolecular part of $H(T,P)$ from $\\mu_T$ for a van der Waals gas\n",
    "In the cell below, derive an expression for $f'_{intermol}(T,P)$, using Eqs. (8) & (9). You'll need an expression for $\\mu_T$ to do this -- hopefully, you got something like $bn - 2an/(RT)$ in the previous problem. \n",
    "\n",
    "Some hints: you might find Sympy's simplify function useful in this. That is, after you've obtained an expression for $f'_{intermol}$, try this:\n",
    "\n",
    "    fpintermol = sp.simplify(fpintermol)\n",
    "    \n",
    "and then print the result again."
   ]
  },
  {
   "cell_type": "code",
   "execution_count": 4,
   "metadata": {
    "nbgrader": {
     "grade": true,
     "grade_id": "cell-e026932c2b9022c4",
     "locked": false,
     "points": 3,
     "schema_version": 3,
     "solution": true,
     "task": false
    }
   },
   "outputs": [
    {
     "name": "stdout",
     "output_type": "stream",
     "text": [
      "      2⋅P⋅a\n",
      "P⋅b - ─────\n",
      "       R⋅T \n"
     ]
    }
   ],
   "source": [
    "# f' intermolecular for vdw\n",
    "### BEGIN SOLUTION\n",
    "sp.var(\"a\")\n",
    "sp.var(\"b\")\n",
    "sp.var(\"n\")\n",
    "sp.var(\"R\")\n",
    "sp.var(\"T\")\n",
    "sp.var(\"P\")\n",
    "\n",
    "mu_T = b*n - 2*a*n/(R*T)\n",
    "\n",
    "fpintermol = sp.integrate(mu_T,P)/n\n",
    "fpintermol = sp.simplify(fpintermol)\n",
    "sp.pprint(fpintermol)\n",
    "### END SOLUTION"
   ]
  },
  {
   "cell_type": "markdown",
   "metadata": {
    "nbgrader": {
     "grade": false,
     "grade_id": "cell-a9bb39b0a77a61e1",
     "locked": true,
     "schema_version": 3,
     "solution": false,
     "task": false
    }
   },
   "source": [
    "### Berthelot's gas\n",
    "Berthelot's definition of a real gas is given in Eq. (2). In the three cells below, use the methods you just employed for a van der Waals gas to find Berthelot's expressions for\n",
    "\n",
    "- $\\pi_T$\n",
    "- $\\mu_T$\n",
    "- $f'_{intermol}(T,P)$\n",
    "\n",
    "Assuming you're using Sympy for this, you might find useful the \"simplify\" functionality for each result."
   ]
  },
  {
   "cell_type": "code",
   "execution_count": 5,
   "metadata": {
    "nbgrader": {
     "grade": true,
     "grade_id": "cell-1de98603253b1f98",
     "locked": false,
     "points": 2,
     "schema_version": 3,
     "solution": true,
     "task": false
    }
   },
   "outputs": [
    {
     "name": "stdout",
     "output_type": "stream",
     "text": [
      "pi_T =\n",
      "-R*T*n/(V - b*n) + T*(R*n/(V - b*n) + a*n**2/(T**2*V**2)) + a*n**2/(T*V**2)\n",
      "2*a*n**2/(T*V**2)\n",
      "     2\n",
      "2⋅a⋅n \n",
      "──────\n",
      "    2 \n",
      " T⋅V  \n"
     ]
    }
   ],
   "source": [
    "# pi_T for a Berthelot gas\n",
    "### BEGIN SOLUTION\n",
    "sp.var(\"a\")\n",
    "sp.var(\"b\")\n",
    "sp.var(\"n\")\n",
    "sp.var(\"V\")\n",
    "sp.var(\"R\")\n",
    "sp.var(\"T\")\n",
    "sp.var(\"x\")\n",
    "\n",
    "P = n*R*T/(V-n*b) - a*n**2/(V**2*T)\n",
    "dPdT = sp.diff(P,T)\n",
    "pi_T = T*dPdT - P\n",
    "print('pi_T =')\n",
    "print(pi_T)\n",
    "pi_T = sp.simplify(pi_T)\n",
    "print(pi_T)\n",
    "sp.pprint(pi_T)\n",
    "\n",
    "### END SOLUTION"
   ]
  },
  {
   "cell_type": "code",
   "execution_count": 6,
   "metadata": {
    "nbgrader": {
     "grade": true,
     "grade_id": "cell-55d7b6a58bdd567f",
     "locked": false,
     "points": 2,
     "schema_version": 3,
     "solution": true,
     "task": false
    }
   },
   "outputs": [
    {
     "name": "stdout",
     "output_type": "stream",
     "text": [
      "Exact result for mu_T =\n",
      "                     2   \n",
      "         R⋅T⋅n    a⋅n    \n",
      "        ─────── + ────   \n",
      "        V - b⋅n      2   \n",
      "                  T⋅V    \n",
      "V + ─────────────────────\n",
      "                        2\n",
      "        R⋅T⋅n      2⋅a⋅n \n",
      "    - ────────── + ──────\n",
      "               2       3 \n",
      "      (V - b⋅n)     T⋅V  \n",
      "F0= -V\n",
      "Fa= -3*n/(R*T**2)\n",
      "Fb= n\n",
      "mu_T =\n",
      "      3⋅a⋅n\n",
      "b⋅n - ─────\n",
      "          2\n",
      "       R⋅T \n",
      "b*n - 3*a*n/(R*T**2)\n"
     ]
    }
   ],
   "source": [
    "# mu_T\n",
    "### BEGIN SOLUTION\n",
    "\n",
    "\n",
    "sp.var(\"a\")\n",
    "sp.var(\"b\")\n",
    "sp.var(\"n\")\n",
    "sp.var(\"V\")\n",
    "sp.var(\"R\")\n",
    "sp.var(\"T\")\n",
    "sp.var(\"x\")\n",
    "\n",
    "P = n*R*T/(V-n*b) - a*n**2/(V**2*T)\n",
    "pi_T = 2*a*n**2/(T*V**2)\n",
    "dPdV = sp.diff(P,V)\n",
    "F = (P+pi_T)/dPdV\n",
    "mu_T_exact = F+V\n",
    "print('Exact result for mu_T =')\n",
    "sp.pprint(mu_T_exact)\n",
    "\n",
    "\n",
    "F0 = F.subs({a:0,b:0}); print(\"F0=\",F0)\n",
    "Fa = sp.diff(F,a).subs({a:0,b:0}); print(\"Fa=\",Fa)\n",
    "Fb = sp.diff(F,b).subs({a:0,b:0}); print(\"Fb=\",Fb)\n",
    "mu_T = F0 + Fa*a + Fb*b + V\n",
    "print('mu_T =')\n",
    "sp.pprint(mu_T)\n",
    "print(mu_T)\n",
    "### END SOLUTION"
   ]
  },
  {
   "cell_type": "code",
   "execution_count": 7,
   "metadata": {
    "nbgrader": {
     "grade": true,
     "grade_id": "cell-de48fdae3a0adca9",
     "locked": false,
     "points": 2,
     "schema_version": 3,
     "solution": true,
     "task": false
    }
   },
   "outputs": [
    {
     "name": "stdout",
     "output_type": "stream",
     "text": [
      "f' intermol =\n",
      "      3⋅P⋅a\n",
      "P⋅b - ─────\n",
      "          2\n",
      "       R⋅T \n"
     ]
    }
   ],
   "source": [
    "# f'_intermol\n",
    "### BEGIN SOLUTION\n",
    "sp.var(\"a\")\n",
    "sp.var(\"b\")\n",
    "sp.var(\"n\")\n",
    "sp.var(\"R\")\n",
    "sp.var(\"T\")\n",
    "sp.var(\"P\")\n",
    "\n",
    "mu_T = b*n - 3*a*n/(R*T**2)\n",
    "\n",
    "fpintermol = sp.integrate(mu_T,P)/n\n",
    "fpintermol = sp.simplify(fpintermol)\n",
    "print(\"f' intermol =\")\n",
    "sp.pprint(fpintermol)\n",
    "### END SOLUTION"
   ]
  }
 ],
 "metadata": {
  "celltoolbar": "Create Assignment",
  "kernelspec": {
   "display_name": "Python 3.6",
   "language": "python",
   "name": "python3"
  },
  "language_info": {
   "codemirror_mode": {
    "name": "ipython",
    "version": 3
   },
   "file_extension": ".py",
   "mimetype": "text/x-python",
   "name": "python",
   "nbconvert_exporter": "python",
   "pygments_lexer": "ipython3",
   "version": "3.6.9"
  }
 },
 "nbformat": 4,
 "nbformat_minor": 5
}

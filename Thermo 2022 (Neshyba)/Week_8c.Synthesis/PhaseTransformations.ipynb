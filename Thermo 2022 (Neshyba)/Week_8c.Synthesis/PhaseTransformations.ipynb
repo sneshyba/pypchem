{
 "cells": [
  {
   "cell_type": "markdown",
   "metadata": {
    "nbgrader": {
     "grade": false,
     "grade_id": "cell-977c2e71835f4141",
     "locked": true,
     "schema_version": 3,
     "solution": false,
     "task": false
    }
   },
   "source": [
    "### Computational Guided Inquiry for PChem (Neshyba)\n",
    "\n",
    "# Phase transformations\n",
    "\n",
    "### Temperature dependence of the enthalpy \n",
    "As you well know, the slope of the enthalpy in the temperature direction, holding pressure constant, is given by the heat capacity $C_p$. In general, heat capacities are temperature-dependent, but to simplify matters for this homework, we're going to assume they are constants. The figure below shows schematically (i.e., not to scale) the temperature dependence of the enthalpy of water assuming constant heat capacities, and therefore constant slopes.\n",
    "\n",
    "<p style='text-align: center;'>\n",
    "<img src=\"Enthalpy of water.png\" height=\"500\" width=\"500\"/>\n",
    "\n",
    "__Figure 1__. Enthalpy of water assuming constant heat capacities for the three phases. The vertical arrows occur at the reference temperature of 298 K.\n",
    "</p>\n",
    "\n",
    "As a reminder, Kirchoff's law for changes in $\\Delta H$ as a function of temperature is\n",
    "\n",
    "$$\n",
    "\\Delta(\\Delta H_{vap}) = \\int_{T^o}^{T} \\Delta C_P \\ dT \\ \\ \\ \\ (1)\n",
    "$$\n",
    "\n",
    "Constant heat capacities mean you can easily integrate the integral appearing in this equation,\n",
    "\n",
    "$$\n",
    "\\Delta(\\Delta H_{vap}) \\approx \\Delta C_P \\ (T-T^o) \\ \\ \\ \\ (2)\n",
    "$$\n",
    "\n",
    "where (as previously discussed) $T$ is the desired temperature, $T^o$ is the reference temperature (usually 298 K), and $\\Delta C_P=C_P(vap)-C_P(liq)$.\n",
    "\n",
    "### Pressure dependence of the enthalpy\n",
    "To find the *pressure* dependence of the enthalpy of a transformation, we're going to need to know the slopes of the enthalpy in the pressure direction along an isotherm. For gases, van der Waals theory says \n",
    "\n",
    "$$\n",
    "\\mu_T(gas) \\approx n(b-\\frac {2a}{RT}) \\ \\ \\ \\ (3a)\n",
    "$$ \n",
    "\n",
    "If you want these quantities on a per-mole basis, you should use \n",
    "\n",
    "$$\n",
    "\\mu_T(gas) \\approx b-\\frac {2a}{RT} \\ \\ \\ \\ (3b)\n",
    "$$ \n",
    "\n",
    "Note that $\\mu_T(gas)$ *is* explicitly temperature dependent, but for the purposes of finding the pressure dependence of $H$ along an isotherm, $T$ would be considered constant! For condensed phases, van der Waals theory predicts\n",
    "\n",
    "$$\n",
    "\\mu_T(liq) \\approx \\mu_T(solid) \\approx nb/3 \\ \\ \\ \\ (4a)\n",
    "$$\n",
    "\n",
    "$$\n",
    "\\mu_T(liq) \\approx \\mu_T(solid) \\approx b/3 \\ \\ \\ \\ (4b)\n",
    "$$\n",
    "\n",
    "where the second equation describes $\\mu_T$ on a per-mole basis. The analog to Kirchoff's law for finding the change in the enthalpy of a transformation as a function of pressure is therefore\n",
    "\n",
    "$$\n",
    "\\Delta(\\Delta H_{vap}) = \\int_{P^o}^{P} \\Delta \\mu_T \\ dP \\ \\ \\ \\ (5)\n",
    "$$\n",
    "\n",
    "where $P$ is the desired pressure, $P^o$ is the reference pressure (usually 1 atm), and $\\Delta \\mu_T=\\mu_T(vap)-\\mu_T(liq)$. To the extent to which we  accept Eqs. (3) and (4) as good descriptions of reality, the integral in Eq. (5) is readily evaluated, yielding,\n",
    "\n",
    "$$\n",
    "\\Delta(\\Delta H_{vap}) \\approx \\Delta \\mu_P \\ (P-P^o) \\ \\ \\ \\ (6)\n",
    "$$\n",
    "\n",
    "### Learning goals\n"
   ]
  },
  {
   "cell_type": "code",
   "execution_count": 1,
   "metadata": {
    "nbgrader": {
     "grade": false,
     "grade_id": "cell-b5069bf04904ca8a",
     "locked": true,
     "schema_version": 3,
     "solution": false,
     "task": false
    }
   },
   "outputs": [],
   "source": [
    "# Import resources - execute 2x if you want interactive graphics\n",
    "import pint; from pint import UnitRegistry; AssignQuantity = UnitRegistry().Quantity\n",
    "import numpy as np\n",
    "import matplotlib.pyplot as plt\n",
    "import PchemLibrary as PL\n",
    "from mpl_toolkits.mplot3d import axes3d\n",
    "%matplotlib notebook"
   ]
  },
  {
   "cell_type": "markdown",
   "metadata": {
    "nbgrader": {
     "grade": false,
     "grade_id": "cell-e836cd1c95096511",
     "locked": true,
     "schema_version": 3,
     "solution": false,
     "task": false
    }
   },
   "source": [
    "### Standard-state values"
   ]
  },
  {
   "cell_type": "code",
   "execution_count": 2,
   "metadata": {
    "nbgrader": {
     "grade": false,
     "grade_id": "cell-173629ae10cfbe96",
     "locked": true,
     "schema_version": 3,
     "solution": false,
     "task": false
    }
   },
   "outputs": [],
   "source": [
    "DeltaHfus0 = AssignQuantity(6,'kJ/mol')\n",
    "DeltaHsub0 = AssignQuantity(50,'kJ/mol')\n",
    "DeltaHvap0 = AssignQuantity(44,'kJ/mol')"
   ]
  },
  {
   "cell_type": "markdown",
   "metadata": {
    "nbgrader": {
     "grade": false,
     "grade_id": "cell-f61a0b0ede3114f4",
     "locked": true,
     "schema_version": 3,
     "solution": false,
     "task": false
    }
   },
   "source": [
    "### 1. Enthalpy of fusion of water at 271 K\n",
    "Figure 1 in the Introduction indicates an enthalpy of fusion of water of 6.0 kJ/mol, at the standard temperature (298 K). But ice in equilibrium with sea water is expected to have a temperature of -2 C, or 271 K, so we can expect its enthalpy of fusion to be different.\n",
    "\n",
    "Part 1. Based on Figure 1, predict whether the enthalpy of fusion should be bigger or smaller at 271 K, compared to 298 K."
   ]
  },
  {
   "cell_type": "markdown",
   "metadata": {
    "nbgrader": {
     "grade": true,
     "grade_id": "cell-85c89f13de95f163",
     "locked": false,
     "points": 1,
     "schema_version": 3,
     "solution": true,
     "task": false
    }
   },
   "source": []
  },
  {
   "cell_type": "markdown",
   "metadata": {
    "nbgrader": {
     "grade": false,
     "grade_id": "cell-6cc4a2bf39a98201",
     "locked": true,
     "schema_version": 3,
     "solution": false,
     "task": false
    }
   },
   "source": [
    "Part 2. In the cell below, *calculate* the enthalpy of fusion of water at 271 K. \n",
    "\n",
    "Hint: Assuming temperature-independent heat capacities as indicated in Figure 1, we can get away with Eq. (2)."
   ]
  },
  {
   "cell_type": "code",
   "execution_count": 3,
   "metadata": {
    "nbgrader": {
     "grade": true,
     "grade_id": "cell-22ba12c1615420b2",
     "locked": false,
     "points": 2,
     "schema_version": 3,
     "solution": true,
     "task": false
    }
   },
   "outputs": [
    {
     "name": "stdout",
     "output_type": "stream",
     "text": [
      "37.400000000000006 joule / kelvin / mole\n",
      "-1009.8000000000002 joule / mole\n",
      "Delta H(fus) at 271 K = 4.9902 kilojoule / mole\n"
     ]
    }
   ],
   "source": [
    "### BEGIN SOLUTION\n",
    "CP_liq = AssignQuantity(75.4,'J/mol/K')\n",
    "CP_ice = AssignQuantity(38,'J/mol/K')\n",
    "\n",
    "DeltaCP = CP_liq-CP_ice; print(DeltaCP)\n",
    "DeltaT = AssignQuantity(271 - 298,'K')\n",
    "DeltaDelta = DeltaCP*DeltaT; \n",
    "print(DeltaDelta)\n",
    "\n",
    "DeltaHfus271 = DeltaHfus0 + DeltaDelta\n",
    "print('Delta H(fus) at 271 K =', DeltaHfus271)\n",
    "\n",
    "### END SOLUTION"
   ]
  },
  {
   "cell_type": "markdown",
   "metadata": {
    "nbgrader": {
     "grade": false,
     "grade_id": "cell-258432142d6a2b1d",
     "locked": true,
     "schema_version": 3,
     "solution": false,
     "task": false
    }
   },
   "source": [
    "### Pause for analysis\n",
    "Your qualitative prediction from Part 1 should agree with the quantitative result from Part 2. If they don't, you might want to revisit one or both parts."
   ]
  },
  {
   "cell_type": "markdown",
   "metadata": {
    "nbgrader": {
     "grade": false,
     "grade_id": "cell-dad0d05eea50f849",
     "locked": true,
     "schema_version": 3,
     "solution": false,
     "task": false
    }
   },
   "source": [
    "### 2. Enthalpy of sublimation of water at 218 K\n",
    "At 218 K, Mars is much colder than Earth -- far below the triple point temperature of ice. So we don't expect any liquid water on the surface of Mars (now). But there *are* what appear to be ice caps in the polar regions of Mars, which grow and retreat with the Martian seasons. As thermodynamicists, we'd like to know the enthalpy of sublimation of water ice under those conditions.\n",
    "\n",
    "Part 1. Based on Figure 1, predict whether the enthalpy of sublimation should be bigger or smaller at 218 K, compared to 298 K."
   ]
  },
  {
   "cell_type": "markdown",
   "metadata": {
    "nbgrader": {
     "grade": true,
     "grade_id": "cell-f0741493c2ea0fa2",
     "locked": false,
     "points": 1,
     "schema_version": 3,
     "solution": true,
     "task": false
    }
   },
   "source": []
  },
  {
   "cell_type": "markdown",
   "metadata": {
    "nbgrader": {
     "grade": false,
     "grade_id": "cell-b18796c37ebf9db4",
     "locked": true,
     "schema_version": 3,
     "solution": false,
     "task": false
    }
   },
   "source": [
    "\n",
    "Part 2. *Calculate* the enthalpy of sublimation of water at 218 K. Since you can assume constant heat capacities, the hint for Problem 1 applies here too."
   ]
  },
  {
   "cell_type": "code",
   "execution_count": 4,
   "metadata": {
    "nbgrader": {
     "grade": true,
     "grade_id": "cell-4395eacfe6ef7ec3",
     "locked": false,
     "points": 3,
     "schema_version": 3,
     "solution": true,
     "task": false
    }
   },
   "outputs": [
    {
     "name": "stdout",
     "output_type": "stream",
     "text": [
      "-4.399999999999999 joule / kelvin / mole\n",
      "351.9999999999999 joule / mole\n",
      "Delta H(sub) at 218 K = 50.352 kilojoule / mole\n"
     ]
    }
   ],
   "source": [
    "### BEGIN SOLUTION\n",
    "CP_gas = AssignQuantity(33.6,'J/mol/K')\n",
    "CP_ice = AssignQuantity(38,'J/mol/K')\n",
    "\n",
    "DeltaCP = CP_gas-CP_ice; print(DeltaCP)\n",
    "DeltaT = AssignQuantity(218 - 298,'K')\n",
    "DeltaDelta = DeltaCP*DeltaT; \n",
    "print(DeltaDelta)\n",
    "\n",
    "DeltaHsub218 = DeltaHsub0 + DeltaDelta\n",
    "print('Delta H(sub) at 218 K =', DeltaHsub218)\n",
    "\n",
    "### END SOLUTION"
   ]
  },
  {
   "cell_type": "markdown",
   "metadata": {
    "nbgrader": {
     "grade": false,
     "grade_id": "cell-2b10e78d5d08b176",
     "locked": true,
     "schema_version": 3,
     "solution": false,
     "task": false
    }
   },
   "source": [
    "### Pause for analysis\n",
    "Your qualitative prediction from Part 1 should agree with the quantitative result from Part 2. If they don't, you might want to revisit one or both parts."
   ]
  },
  {
   "cell_type": "markdown",
   "metadata": {
    "nbgrader": {
     "grade": false,
     "grade_id": "cell-505c8d183eb2593a",
     "locked": true,
     "schema_version": 3,
     "solution": false,
     "task": false
    }
   },
   "source": [
    "### Pressure dependence of the enthalpy of vaporization\n",
    "Part 1. Along a 298 K isotherm, predict whether the enthalpy of sublimation should be bigger at a higher pressure (say, 10 atm), or smaller, than the enthalpy of sublimation a a reference pressure of 1 atm (at which point it is $\\Delta H_{vap} = 44,000 \\ J/mol$).\n",
    "\n",
    "Here's a big hint: Everything depends on the sign of $\\Delta \\mu_T=\\mu_T(vap)-\\mu_T(liq)$, and $\\mu_T(gas)$ is much bigger in magnitude than $\\mu_T(liq)$; also, $\\mu_T(vap)$ is negative at 298 K. So, it's a good bet that $\\Delta \\mu_T$ is negative at 298 K."
   ]
  },
  {
   "cell_type": "markdown",
   "metadata": {
    "nbgrader": {
     "grade": true,
     "grade_id": "cell-1afa8048c1f6340e",
     "locked": false,
     "points": 1,
     "schema_version": 3,
     "solution": true,
     "task": false
    }
   },
   "source": []
  },
  {
   "cell_type": "markdown",
   "metadata": {
    "nbgrader": {
     "grade": false,
     "grade_id": "cell-49ec1a17afc708ae",
     "locked": true,
     "schema_version": 3,
     "solution": false,
     "task": false
    }
   },
   "source": [
    "Part 2. Find $\\Delta H_{vap}$ for one mole of water at a pressure of 10 atm, assuming a reference pressure of 1 atm, all at 298 K. van der Waals parameters for water are $a = 1.370 \\ L^2 bar / mol^2$ and $b = 0.0387 \\ L/mol$. \n",
    "\n",
    "Hints: You'll want to find $\\Delta\\Delta H_{vap}$ first, as usual, using Eq. (6). Also, because you'll eventually need to add $\\Delta\\Delta H_{vap}$ to the standard-state value, $\\Delta H_{vap}(1 \\ atm)$, you should use Eqs. (3b) and (4b) instead of (3a) and (4a), and convert (using .ito) to kJ/mol."
   ]
  },
  {
   "cell_type": "code",
   "execution_count": 5,
   "metadata": {
    "nbgrader": {
     "grade": true,
     "grade_id": "cell-a1ab76f07b8a75cc",
     "locked": false,
     "points": 5,
     "schema_version": 3,
     "solution": true,
     "task": false
    }
   },
   "outputs": [
    {
     "name": "stdout",
     "output_type": "stream",
     "text": [
      "1.37 bar * liter ** 2 / mole ** 2\n",
      "0.0387 liter / mole\n",
      "gas: -0.0718921442444458 liter / mole\n",
      "liq: 0.0129 liter / mole\n",
      "difference: -0.0847921442444458 liter / mole\n",
      "DeltaDelta: -0.7631292982000122 liter * standard_atmosphere / mole\n",
      "DeltaDelta: -0.07732407614011624 kilojoule / mole\n",
      "DeltaHvap: 43.922675923859885 kilojoule / mole\n"
     ]
    }
   ],
   "source": [
    "# State variables\n",
    "n = AssignQuantity(1,'mol')\n",
    "R = AssignQuantity(8.314,'J/mol/K')\n",
    "T = AssignQuantity(298,'K')\n",
    "P0 = AssignQuantity(1,'atm')\n",
    "P = AssignQuantity(10,'atm')\n",
    "\n",
    "# van der Waals constants, etc. \n",
    "### BEGIN SOLUTION\n",
    "a = AssignQuantity(1.370,'L^2 bar / mol^2'); print(a)\n",
    "b = AssignQuantity(0.0387,'L / mol'); print(b)\n",
    "### END SOLUTION\n",
    "\n",
    "# Joule-Thomson coefficients (Eqs. 3b and 4b)\n",
    "### BEGIN SOLUTION\n",
    "mu_T_gas = b - 2*a/(R*T); print('gas:', mu_T_gas)\n",
    "mu_T_liq = b/3; print('liq:', mu_T_liq)\n",
    "Delta_mu_T = mu_T_gas - mu_T_liq; print('difference:',Delta_mu_T)\n",
    "### END SOLUTION\n",
    "\n",
    "# Using equation (6) to get DeltaDelta\n",
    "### BEGIN SOLUTION\n",
    "DeltaDelta = Delta_mu_T*(P-P0); print('DeltaDelta:',DeltaDelta)\n",
    "### END SOLUTION\n",
    "\n",
    "# Converting DeltaDelta to kJ\n",
    "### BEGIN SOLUTION\n",
    "DeltaDelta.ito('kJ/mol'); print('DeltaDelta:',DeltaDelta)\n",
    "### END SOLUTION\n",
    "\n",
    "# Enthalpy of vaporization at 10 atm\n",
    "### BEGIN SOLUTION\n",
    "DeltaHvap = DeltaHvap0 + DeltaDelta; print('DeltaHvap:',DeltaHvap)\n",
    "### END SOLUTION"
   ]
  },
  {
   "cell_type": "markdown",
   "metadata": {
    "nbgrader": {
     "grade": false,
     "grade_id": "cell-a6bf505d0158da54",
     "locked": true,
     "schema_version": 3,
     "solution": false,
     "task": false
    }
   },
   "source": [
    "### Pause for analysis\n",
    "Your qualitative prediction from Part 1 should agree with the quantitative result from Part 2. If they don't, you might want to revisit one or both parts."
   ]
  }
 ],
 "metadata": {
  "celltoolbar": "Create Assignment",
  "kernelspec": {
   "display_name": "Python 3.6",
   "language": "python",
   "name": "python3"
  },
  "language_info": {
   "codemirror_mode": {
    "name": "ipython",
    "version": 3
   },
   "file_extension": ".py",
   "mimetype": "text/x-python",
   "name": "python",
   "nbconvert_exporter": "python",
   "pygments_lexer": "ipython3",
   "version": "3.6.9"
  }
 },
 "nbformat": 4,
 "nbformat_minor": 2
}

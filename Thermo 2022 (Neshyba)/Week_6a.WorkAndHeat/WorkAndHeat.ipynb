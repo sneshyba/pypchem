{
 "cells": [
  {
   "cell_type": "markdown",
   "metadata": {
    "nbgrader": {
     "grade": false,
     "grade_id": "cell-99a12843f492ea5a",
     "locked": true,
     "schema_version": 3,
     "solution": false,
     "task": false
    }
   },
   "source": [
    "### Computational Guided Inquiry for PChem (Neshyba)\n",
    "\n",
    "# Work and Heat\n",
    "\n",
    "## Introduction\n",
    "\n",
    "1st law, infinitesimal form:\n",
    "$$\n",
    "dU = dq + dw \\ \\ \\ \\ (1)\n",
    "$$\n",
    "\n",
    "\n",
    "Finding dU from dT and dV, for a single step:\n",
    "$$ \n",
    "dU = C_V dT \\ \\ \\ (2)\n",
    "$$\n",
    "\n",
    "PV work for a single step:\n",
    "$$\n",
    "dw = -P_{ex}dV \\ \\ \\ \\ (3)\n",
    "$$\n",
    "\n",
    "\n",
    "Multistep isothermal PV work, and associated heating, for an ideal gas:\n",
    "$$\n",
    "w = -n R T ln\\bigl ({V_2 \\over V_1} \\bigr ) \\ \\ \\ \\ (4)  \n",
    "$$\n",
    "\n",
    "$$\n",
    "q = +n R T ln\\bigl ({V_2 \\over V_1}\\bigr) \\ \\ \\ \\ (5)\n",
    "$$\n",
    "\n",
    "$$\n",
    "V_2 = V_1 e^{-{w \\over {nRT}}} \\ \\ \\ \\ (6)\n",
    "$$\n",
    "\n",
    "Single-step adiabatic expansion of an ideal gas, assuming constant $C_V$:\n",
    "\n",
    "$$ \n",
    "{1 \\over T}dT = -{n R \\over C_V} {1 \\over V}dV \\ \\ \\ \\ (7)\n",
    "$$\n",
    "\n",
    "Multi-step adiabatic expansion of an ideal gas: the temperature:\n",
    "$$\n",
    "T_2 = T_1 \\times \\bigl ({V_2 \\over V_1} \\bigr ) ^ {-{nR \\over C_V}} \\ \\ \\ \\ (8)\n",
    "$$\n",
    "\n",
    "Multistep adiabatic expansion of an ideal gas: The pressure:\n",
    "$$\n",
    "P_2 = P_1 \\times \\bigl ({V_2 \\over V_1} \\bigr ) ^ {-{nR \\over C_V} -1} \\ \\ \\ \\ (9)\n",
    "$$\n",
    "\n",
    "\n",
    "## Learning Goals\n",
    "1. Carry out calculations associated with various manipulations of ideal gases (expansions, contractions, isochoric, isothermal, adiabatic).\n",
    "1. Create functions in Python, and verify they are correct."
   ]
  },
  {
   "cell_type": "code",
   "execution_count": 1,
   "metadata": {
    "nbgrader": {
     "grade": false,
     "grade_id": "cell-2cefc980288b8f21",
     "locked": true,
     "schema_version": 3,
     "solution": false,
     "task": false
    }
   },
   "outputs": [],
   "source": [
    "# Import resources stored in the Pchem Library\n",
    "%run ../PchemLibrary/ImportResources.ipynb"
   ]
  },
  {
   "cell_type": "code",
   "execution_count": 2,
   "metadata": {
    "nbgrader": {
     "grade": false,
     "grade_id": "cell-2ce355264247e8be",
     "locked": true,
     "schema_version": 3,
     "solution": false,
     "task": false
    }
   },
   "outputs": [
    {
     "name": "stdout",
     "output_type": "stream",
     "text": [
      "8.314 joule / kelvin / mole\n",
      "1 mole\n"
     ]
    }
   ],
   "source": [
    "R = AssignQuantity(8.314,'J/mol/K'); print(R)\n",
    "n = AssignQuantity(1,'mol'); print(n)"
   ]
  },
  {
   "cell_type": "markdown",
   "metadata": {
    "nbgrader": {
     "grade": false,
     "grade_id": "cell-652ca03c71c0c7c8",
     "locked": true,
     "schema_version": 3,
     "solution": false,
     "task": false
    }
   },
   "source": [
    "### Using $dU=C_V dT$\n",
    "Using Eq. (2), find the temperature increase in one mole of a monatomic ideal gas when you add 100 J to it."
   ]
  },
  {
   "cell_type": "code",
   "execution_count": 3,
   "metadata": {
    "nbgrader": {
     "grade": true,
     "grade_id": "cell-f2ec9cf8e4155cbb",
     "locked": false,
     "points": 1,
     "schema_version": 3,
     "solution": true,
     "task": false
    }
   },
   "outputs": [
    {
     "name": "stdout",
     "output_type": "stream",
     "text": [
      "12.471 joule / kelvin\n",
      "100 joule\n",
      "8.018603159329645 kelvin\n"
     ]
    }
   ],
   "source": [
    "### BEGIN SOLUTION\n",
    "C_V = 3/2*R*n; print(C_V)\n",
    "q = AssignQuantity(100,'J');print(q)\n",
    "delta_T = q/C_V; print(delta_T)\n",
    "### END SOLUTION"
   ]
  },
  {
   "cell_type": "markdown",
   "metadata": {
    "nbgrader": {
     "grade": false,
     "grade_id": "cell-3255f9ac9c7f5d8a",
     "locked": true,
     "schema_version": 3,
     "solution": false,
     "task": false
    }
   },
   "source": [
    "### Finding the work and heat of a multi-step isothermal expansion of an ideal gas when you know the volumes and temperature\n",
    "When one mole an ideal diatomic gas in the classical limit is expanded from 10 L to 20 L, at 298 K, find the work and the heat. Eqs. (4-5) should help here. Don't forget that in numpy, \"np.log\" is the natural log."
   ]
  },
  {
   "cell_type": "code",
   "execution_count": 4,
   "metadata": {
    "nbgrader": {
     "grade": true,
     "grade_id": "cell-75f1e7c197db0d52",
     "locked": false,
     "points": 1,
     "schema_version": 3,
     "solution": true,
     "task": false
    }
   },
   "outputs": [
    {
     "name": "stdout",
     "output_type": "stream",
     "text": [
      "-1717.3220464342648 joule\n",
      "1717.3220464342648 joule\n"
     ]
    }
   ],
   "source": [
    "### BEGIN SOLUTION\n",
    "T = AssignQuantity(298,'K')\n",
    "V1 = AssignQuantity(10,'L')\n",
    "V2 = AssignQuantity(20,'L')\n",
    "w = -n*R*T*np.log(V2/V1); print(w)\n",
    "q = -w; print(q)\n",
    "### END SOLUTION"
   ]
  },
  {
   "cell_type": "markdown",
   "metadata": {
    "nbgrader": {
     "grade": false,
     "grade_id": "cell-9239f1315b3662fc",
     "locked": true,
     "schema_version": 3,
     "solution": false,
     "task": false
    }
   },
   "source": [
    "### Finding the new volume of a gas after it's undergone isothermal expansion of known heat & work\n",
    "Suppose one mole an ideal diatomic gas is expanded isothermally at 298 K, starting at 20 L. Assuming this process absorbed 500 J of heat (which means it did 500 J of work on the surroundings), find the final volume. Don't forget that numpy's version of $e^x$ is np.exp(x). Eq. (6) should help here."
   ]
  },
  {
   "cell_type": "code",
   "execution_count": 5,
   "metadata": {
    "nbgrader": {
     "grade": true,
     "grade_id": "cell-33cee1ec92468a69",
     "locked": false,
     "points": 1,
     "schema_version": 3,
     "solution": true,
     "task": false
    }
   },
   "outputs": [
    {
     "name": "stdout",
     "output_type": "stream",
     "text": [
      "500 joule\n",
      "298 kelvin\n",
      "1.2236160891038332 dimensionless\n",
      "20 liter\n",
      "24.472321782076666 liter\n"
     ]
    }
   ],
   "source": [
    "### BEGIN SOLUTION\n",
    "q = AssignQuantity(500,'J'); print(q)\n",
    "T = AssignQuantity(298,'K'); print(T)\n",
    "V2_over_V1 = np.exp(q/(n*R*T)); print(V2_over_V1)\n",
    "V1 = AssignQuantity(20,'L'); print(V1)\n",
    "V2 = V1*V2_over_V1; print(V2)\n",
    "### END SOLUTION"
   ]
  },
  {
   "cell_type": "markdown",
   "metadata": {
    "nbgrader": {
     "grade": false,
     "grade_id": "cell-5274298f01783eac",
     "locked": true,
     "schema_version": 3,
     "solution": false,
     "task": false
    }
   },
   "source": [
    "### % changes in temperature from % changes in volume in a single-step adiabatic expansion \n",
    "When one mole an ideal monatomic gas is expanded adiabatically from 10 L to 12 L, starting a t 298 K, what's its % reduction in temperature? Eq. (7) should help."
   ]
  },
  {
   "cell_type": "code",
   "execution_count": 6,
   "metadata": {
    "nbgrader": {
     "grade": true,
     "grade_id": "cell-8fbec47ac6bce227",
     "locked": false,
     "points": 1,
     "schema_version": 3,
     "solution": true,
     "task": false
    }
   },
   "outputs": [
    {
     "name": "stdout",
     "output_type": "stream",
     "text": [
      "-13.333333333333332 dimensionless\n"
     ]
    }
   ],
   "source": [
    "### BEGIN SOLUTION\n",
    "dV_over_V = 2/10 * 100\n",
    "C_V = 3/2*R*n\n",
    "dT_over_T = -n*R/C_V * dV_over_V; print(dT_over_T)\n",
    "### END SOLUTION"
   ]
  },
  {
   "cell_type": "markdown",
   "metadata": {
    "nbgrader": {
     "grade": false,
     "grade_id": "cell-65e1b6f6149045cf",
     "locked": true,
     "schema_version": 3,
     "solution": false,
     "task": false
    }
   },
   "source": [
    "### Changes in temperature from in a multi-step adiabatic expansion \n",
    "When one mole an ideal monatomic gas is expanded adiabatically from 20 L to 40 L, starting at 298 K, what's the final temperature? Eq. (8) should help."
   ]
  },
  {
   "cell_type": "code",
   "execution_count": 7,
   "metadata": {
    "nbgrader": {
     "grade": true,
     "grade_id": "cell-67eb8af378dda4c5",
     "locked": false,
     "points": 1,
     "schema_version": 3,
     "solution": true,
     "task": false
    }
   },
   "outputs": [
    {
     "name": "stdout",
     "output_type": "stream",
     "text": [
      "0.6299605249474366\n",
      "187.7282364343361 kelvin\n"
     ]
    }
   ],
   "source": [
    "### BEGIN SOLUTION\n",
    "C_V = 3/2*R*n\n",
    "nR_over_C_V = n*R/C_V\n",
    "V2_over_V1 = 40/20\n",
    "T2_over_T1 = (V2_over_V1)**(-nR_over_C_V);print(T2_over_T1)\n",
    "T1 = AssignQuantity(298,'K')\n",
    "T2 = T1*T2_over_T1; print(T2)\n",
    "### END SOLUTION"
   ]
  },
  {
   "cell_type": "markdown",
   "metadata": {
    "nbgrader": {
     "grade": false,
     "grade_id": "cell-66c664d807d30431",
     "locked": true,
     "schema_version": 3,
     "solution": false,
     "task": false
    }
   },
   "source": [
    "### Functions\n",
    "Functions in Python are really handy ways to do similar tasks multiple times. You may have already noticed them in our code: we've used one that calculates state spaces (\"StateSpace\"), and others that calculate partial derivatives (\"dF_dx\" and \"dF_dy\"). \n",
    "\n",
    "Another example is given below. This function calculates a Boyle isotherm. Its job is to return an array of pressures from V1 to V2 (which you get to specify when you call this function), and another array that corresponds to the pressures at those volumes. \n",
    "\n",
    "Since you'll be learning how to make these functions, it's worth paying attention to some syntax issues here. Note the colon at the of the first line, and the indentation of the rest of the lines. Also, some semantics: we call the variables in parentheses in the first line (i.e., *V1*, *V2*, *n*, *R*, and *T*) the *arguments* of the function. We call any variables that follow the word \"return\" in the last line (in this case, *Varray* and *Parray*) the *results* of the function.\n",
    "\n",
    "Execute this cell now."
   ]
  },
  {
   "cell_type": "code",
   "execution_count": 8,
   "metadata": {
    "nbgrader": {
     "grade": false,
     "grade_id": "cell-68daec59da8db6d9",
     "locked": true,
     "schema_version": 3,
     "solution": false,
     "task": false
    }
   },
   "outputs": [],
   "source": [
    "# Defining an isothermal expansion/contraction function\n",
    "def func_P_isotherm(V1,V2,n,R,T):\n",
    "    Varray = np.linspace(V1,V2)\n",
    "    Parray = n*R*T/Varray\n",
    "    return Varray, Parray"
   ]
  },
  {
   "cell_type": "markdown",
   "metadata": {
    "nbgrader": {
     "grade": false,
     "grade_id": "cell-96b2e0b545a8854b",
     "locked": true,
     "schema_version": 3,
     "solution": false,
     "task": false
    }
   },
   "source": [
    "### Pause for analysis\n",
    "Nothing seemed to happen, right. But it did: Python has stored that function for whenever you want to use it later.\n",
    "\n",
    "We do this in the cell below. A key point to note about this is that the *names of arguments and results don't have to be the same as what's in the function definition.* That's actually a key strength of functions! In the code below, for example, the line\n",
    "\n",
    "    V_isotherm, P_isotherm = func_P_isotherm(V1,V2,n,R,T)\n",
    "    \n",
    "specifies that the user (you) want the names of the returned volume and pressure arrays to be *V_isotherm* and *P_isotherm*, rather than *Varray* and *Parray*. It doesn't *hurt* to give them the same names -- in this case, the caller has given all the arguments the same names as the function does. It's just not necessary. (Under the hood: the truth is, func_P_isotherm will make its own copies of the arguments when it starts its work, regardless of how the caller named them. And when it's finished its work, the caller will make its own copy of the returned variables, regardless of how the function named them.)\n",
    "\n",
    "Execute this cell now, and you'll see the results displayed graphically!"
   ]
  },
  {
   "cell_type": "code",
   "execution_count": 9,
   "metadata": {
    "nbgrader": {
     "grade": false,
     "grade_id": "cell-5b271c83929ea8cc",
     "locked": true,
     "schema_version": 3,
     "solution": false,
     "task": false
    }
   },
   "outputs": [
    {
     "name": "stderr",
     "output_type": "stream",
     "text": [
      "/usr/local/lib/python3.6/dist-packages/numpy/core/numeric.py:591: UnitStrippedWarning: The unit of the quantity is stripped when downcasting to ndarray.\n",
      "  return array(a, dtype, copy=False, order=order, subok=True)\n",
      "/usr/local/lib/python3.6/dist-packages/numpy/core/numeric.py:538: UnitStrippedWarning: The unit of the quantity is stripped when downcasting to ndarray.\n",
      "  return array(a, dtype, copy=False, order=order)\n"
     ]
    },
    {
     "data": {
      "image/png": "[encoded data removed]",
      "text/plain": [
       "<Figure size 432x288 with 1 Axes>"
      ]
     },
     "metadata": {
      "needs_background": "light"
     },
     "output_type": "display_data"
    }
   ],
   "source": [
    "# Using our isothermal expansion function\n",
    "\n",
    "# Define a temperature\n",
    "T = AssignQuantity(298,'K')\n",
    "\n",
    "# Lay out the range of volumes we want\n",
    "V1 = AssignQuantity(10,'L')\n",
    "V2 = AssignQuantity(20,'L')\n",
    "\n",
    "# Make call to our isotherm function\n",
    "V_isotherm, P_isotherm = func_P_isotherm(V1,V2,n,R,T)\n",
    "\n",
    "# Plot the results\n",
    "plt.figure()\n",
    "plt.plot(V_isotherm, P_isotherm)\n",
    "plt.xlabel('V')\n",
    "plt.ylabel('P')\n",
    "plt.grid(True)"
   ]
  },
  {
   "cell_type": "markdown",
   "metadata": {
    "nbgrader": {
     "grade": false,
     "grade_id": "cell-9d6c3babb8bccb11",
     "locked": true,
     "schema_version": 3,
     "solution": false,
     "task": false
    }
   },
   "source": [
    "### Your turn\n",
    "In the cell below, your challenge is to create a function called *func_P_adiabat*. This function's job is to calculate the pressure of an adiabat of a gas whose starting volume is V1, and whose starting temperature is T1; then the gas is expanded until its volume reaches V2 (see Eq. (9) in the Introduction). As it does so, as you know, its pressure and temperature both drop. \n",
    "\n",
    "More specifically, give your function the following specifications:\n",
    "- Make the *arguments* V1, V2, n, R, T1, and C_V (all of which are scalars)\n",
    "- Make the *results* V2array and P2array (both of which are arrays)"
   ]
  },
  {
   "cell_type": "code",
   "execution_count": 10,
   "metadata": {
    "nbgrader": {
     "grade": true,
     "grade_id": "cell-989b6a92f7cf5149",
     "locked": false,
     "points": 3,
     "schema_version": 3,
     "solution": true,
     "task": false
    }
   },
   "outputs": [],
   "source": [
    "### BEGIN SOLUTION\n",
    "def func_P_adiabat(V1,V2,n,R,T1,C_V):\n",
    "    V2array = np.linspace(V1,V2)\n",
    "    P1 = n*R*T1/V1\n",
    "    nR_over_C_V = n*R/C_V\n",
    "    P2array = P1*(V2array/V1)**(-nR_over_C_V-1)\n",
    "    return V2array, P2array\n",
    "### END SOLUTION"
   ]
  },
  {
   "cell_type": "markdown",
   "metadata": {
    "nbgrader": {
     "grade": false,
     "grade_id": "cell-e381f4d5474732eb",
     "locked": true,
     "schema_version": 3,
     "solution": false,
     "task": false
    }
   },
   "source": [
    "### Exercising your function\n",
    "In the cell below, you'll exercise your function. We've set up the first part, actually: all you need to do is make the call to your adiabat function, and graph the results."
   ]
  },
  {
   "cell_type": "code",
   "execution_count": 11,
   "metadata": {
    "nbgrader": {
     "grade": true,
     "grade_id": "cell-3e754eae46246105",
     "locked": false,
     "points": 3,
     "schema_version": 3,
     "solution": true,
     "task": false
    }
   },
   "outputs": [
    {
     "data": {
      "image/png": "[encoded data removed]",
      "text/plain": [
       "<Figure size 432x288 with 1 Axes>"
      ]
     },
     "metadata": {
      "needs_background": "light"
     },
     "output_type": "display_data"
    }
   ],
   "source": [
    "# Heat capacity for a monatomic ideal gas, 1 mole\n",
    "C_V = 3/2*R*n\n",
    "\n",
    "# Define the starting temperature\n",
    "Tstart = AssignQuantity(298,'K')\n",
    "\n",
    "# Lay out the range of volumes we want\n",
    "V1 = AssignQuantity(10,'L')\n",
    "V2 = AssignQuantity(20,'L')\n",
    "\n",
    "# Call to your adiabat function, naming the returned arrays \"V_adiabat\" and \"P_adiabat\"\n",
    "### BEGIN SOLUTION\n",
    "V_adiabat, P_adiabat = func_P_adiabat(V1,V2,n,R,Tstart,C_V)\n",
    "### END SOLUTION\n",
    "\n",
    "# Plot the results\n",
    "### BEGIN SOLUTION\n",
    "plt.figure()\n",
    "plt.plot(V_adiabat, P_adiabat)\n",
    "plt.xlabel('V')\n",
    "plt.ylabel('P')\n",
    "plt.grid(True)\n",
    "### END SOLUTION"
   ]
  },
  {
   "cell_type": "markdown",
   "metadata": {
    "nbgrader": {
     "grade": false,
     "grade_id": "cell-00b8c11569aa3d88",
     "locked": true,
     "schema_version": 3,
     "solution": false,
     "task": false
    }
   },
   "source": [
    "### Graphing adiabats and isotherms together\n",
    "It's a bit difficult to tell, from the preceding graphs, how adiabats and isotherms differ. To do that, we need to look at them on the same graph. In the cell below, plot your adiabat (\"P_adiabat\") and isotherm (\"P_isotherm\") on the same graph, as a function of their volume arrays (\"V_adiabat\" and \"V_isotherm\"). Annotate using the label/legend method."
   ]
  },
  {
   "cell_type": "code",
   "execution_count": 12,
   "metadata": {
    "nbgrader": {
     "grade": true,
     "grade_id": "cell-52b12f7728566ed6",
     "locked": false,
     "points": 2,
     "schema_version": 3,
     "solution": true,
     "task": false
    }
   },
   "outputs": [
    {
     "data": {
      "image/png": "[encoded data removed]",
      "text/plain": [
       "<Figure size 432x288 with 1 Axes>"
      ]
     },
     "metadata": {
      "needs_background": "light"
     },
     "output_type": "display_data"
    },
    {
     "data": {
      "image/png": "[encoded data removed]",
      "text/plain": [
       "<Figure size 432x288 with 1 Axes>"
      ]
     },
     "metadata": {
      "needs_background": "light"
     },
     "output_type": "display_data"
    },
    {
     "data": {
      "image/png": "[encoded data removed]",
      "text/plain": [
       "<Figure size 432x288 with 1 Axes>"
      ]
     },
     "metadata": {
      "needs_background": "light"
     },
     "output_type": "display_data"
    }
   ],
   "source": [
    "### BEGIN SOLUTION\n",
    "plt.figure()\n",
    "plt.plot(V_adiabat, P_adiabat, label='adiabat')\n",
    "plt.plot(V_isotherm, P_isotherm, label='isotherm')\n",
    "plt.xlabel('V')\n",
    "plt.ylabel('P')\n",
    "plt.grid(True)\n",
    "plt.legend()\n",
    "\n",
    "# These are for exploration/exam presentations, not the assignment\n",
    "plt.figure()\n",
    "plt.plot(V_adiabat, P_adiabat, label='adiabat')\n",
    "plt.plot(V_isotherm, P_isotherm, label='isotherm')\n",
    "plt.xlabel('V')\n",
    "plt.ylabel('P')\n",
    "plt.title('Expansion of an ideal gas')\n",
    "plt.grid(True)\n",
    "\n",
    "V_adiabat2, P_adiabat2 = func_P_adiabat(V2,V1,n,R,Tstart,C_V)\n",
    "plt.figure()\n",
    "plt.plot(V_adiabat2, P_adiabat2, label='adiabat')\n",
    "plt.plot(V_isotherm, P_isotherm, label='isotherm')\n",
    "plt.xlabel('V')\n",
    "plt.ylabel('P')\n",
    "plt.title('Compression of an ideal gas')\n",
    "plt.grid(True)\n",
    "\n",
    "### END SOLUTION"
   ]
  },
  {
   "cell_type": "markdown",
   "metadata": {
    "nbgrader": {
     "grade": false,
     "grade_id": "cell-746f718d080f02b0",
     "locked": true,
     "schema_version": 3,
     "solution": false,
     "task": false
    }
   },
   "source": [
    "### Refresh/save/validate/close/submit/logout"
   ]
  }
 ],
 "metadata": {
  "celltoolbar": "Create Assignment",
  "kernelspec": {
   "display_name": "Python 3.6",
   "language": "python",
   "name": "python3"
  },
  "language_info": {
   "codemirror_mode": {
    "name": "ipython",
    "version": 3
   },
   "file_extension": ".py",
   "mimetype": "text/x-python",
   "name": "python",
   "nbconvert_exporter": "python",
   "pygments_lexer": "ipython3",
   "version": "3.6.9"
  }
 },
 "nbformat": 4,
 "nbformat_minor": 2
}

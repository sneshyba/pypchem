{
 "cells": [
  {
   "cell_type": "markdown",
   "id": "9077431b",
   "metadata": {
    "nbgrader": {
     "grade": false,
     "grade_id": "cell-d3733011892ac5a3",
     "locked": true,
     "schema_version": 3,
     "solution": false,
     "task": false
    }
   },
   "source": [
    "### Neshyba, 2022\n",
    "\n",
    "# Practical Stuff\n",
    "\n",
    "## Introduction\n",
    "Here, we'll engage in some practical applications of thermodynamics.\n",
    "\n",
    "### *The Gibbs-Helmholtz Equation*\n",
    "One application concerns the temperature dependence of the Gibbs energy of reaction. The formula we'll use is the *integrated Gibbs-Helmholtz* equation,\n",
    "\n",
    "$$\n",
    "{\\Delta G_{rxn}(T_2) \\over T_2} - {\\Delta G_{rxn}(T_1) \\over T_1} = {\\Delta H_{rxn}} \\big ({1 \\over T_2} - {1 \\over T_1}  \\big ) \\ \\ \\ (1)\n",
    "$$\n",
    "\n",
    "where the notation $\\Delta G_{rxn}(T_2)$ means the Gibbs energy of reaction at temperature $T_2$, etc. This formula is of great practical value for predicting the Gibbs energy of a reaction at temperatures other than the reference temperature ($298 K$), because the only assumption built into it is that $\\Delta H_{rxn}$ doesn't change much with temperature, which is often a pretty reasonable assumption. \n",
    "\n",
    "Because this might be the first time you've grappled with Gibbs-Helmholtz, in the exercise below we're going to combine its application with some qualitative thinking designed to provide some confidence in your results. \n",
    "\n",
    "### *Colligative Properties*\n",
    "A second problem concerns boiling point elevation and freezing point depression, phenomena that (as it turns out) are examples of a more general category of phenomena called *colligative properties*. You might recall that we've dealt with these before, by investigating the intersection of phase boundaries after they've been changed by Raoult's Law. Here we'll take a simpler, more practical (and therefore very popular) method, in which it's asserted that the degrees above the normal temperature at which we'd expect a solution to boil would be given by\n",
    "\n",
    "$$\n",
    "\\Delta T = i K_b b  \\ \\ \\ (2)\n",
    "$$\n",
    "\n",
    "where $K_b$ is called the solvent's *ebullioscopic constant*, $b$ is the *molality of the solution* (which, when water is the solvent, is numerically pretty close to the solution's *molarity*), and $i$ is the van't Hoff factor of the solute. Values of $K_b$ for various solvents are tabulated -- see, e.g., https://en.wikipedia.org/wiki/Ebullioscopic_constant.\n",
    "\n",
    "Similarly, the degrees below the normal temperature at which we'd expect a solution to freeze would be given by\n",
    "\n",
    "$$\n",
    "\\Delta T = i K_f b  \\ \\ \\ (3)\n",
    "$$\n",
    "\n",
    "where $K_f$ is called the solvent's *cryoscopic constant* (see https://en.wikipedia.org./wiki/Cryoscopic_constant).\n",
    "\n",
    "\n",
    "### *The Coefficient of performance of heat pumps*\n",
    "The *coefficient of performance*, or COP, of a heat pump is defined as the amount of heat put into a living space divided by the work (electrical energy) required to move it there from a colder place (usually, the great outdoors):\n",
    "\n",
    "$$\n",
    "COP = {q_H \\over w} \\ \\ \\ (4)\n",
    "$$\n",
    "\n",
    "According to https://www.engineeringtoolbox.com/heat-pump-efficiency-ratings-d_1117.html, COP values for commercial heat pumps range from 2 to 4; this is an average, since this performance depends a lot on the temperature outside,  as well as your thermostat setting. \n",
    "\n",
    "To get some insight into the statement just made, practicing thermodynamicists are likely to refer back to a *theoretical maximum* $COP$, \n",
    "\n",
    "$$\n",
    "COP_{max} = {T_h  \\over {T_h - T_c}} \\ \\ \\ (5)\n",
    "$$\n",
    "\n",
    "which you might recognize as the inverse of the *efficiency* of an ideal heat engine (that's because when you run a heat engine in reverse, it's a heat pump!). Anyway, the big point here is that a smaller denominator leads to a higher $COP_{max}$, which, in physical terms, means that your heat pump performs better (moves more heat at less cost) when the temperature at which you're trying to keep your inside space ($T_h$) is not too much greater than the temperature outside ($T_c$).\n",
    "\n",
    "\n",
    "## Learning Goals\n",
    "1. I can use stoichiometry to make qualitative predictions, and Gibbs-Helmholtz equation to make quantitative predictions, about $\\Delta G_{rxn}$ at temperatures other than the standard temperature \n",
    "1. I can explain why $K_F$ and $K_b$ (ebullioscopic and cryoscopic constants) have the same values in units ${K \\ kg \\over mol}$ and ${\\Delta C \\ kg \\over mol}$.\n",
    "1. I can use $K_F$ and $K_b$ to predict the boiling point elevation and freezing point depression of solutions.\n",
    "1. I can explain how the Coefficient of Performance is defined, and make predictions as to its theoretical upper limit."
   ]
  },
  {
   "cell_type": "code",
   "execution_count": 1,
   "id": "863f0064",
   "metadata": {
    "nbgrader": {
     "grade": false,
     "grade_id": "cell-543650c0fffd502b",
     "locked": true,
     "schema_version": 3,
     "solution": false,
     "task": false
    }
   },
   "outputs": [],
   "source": [
    "import pint; from pint import UnitRegistry; AssignQuantity = UnitRegistry().Quantity\n",
    "import numpy as np\n",
    "import matplotlib.pyplot as plt"
   ]
  },
  {
   "cell_type": "markdown",
   "id": "1130bdee",
   "metadata": {
    "nbgrader": {
     "grade": false,
     "grade_id": "cell-4f5c11da0a4bf6b7",
     "locked": true,
     "schema_version": 3,
     "solution": false,
     "task": false
    }
   },
   "source": [
    "### 1. Gibbs-Helmholtz\n",
    "\n",
    "For this exercise, we'd like to know the Gibbs energy of burning methane,\n",
    "\n",
    "$$\n",
    "CH_4(g) + 2 O_2(g) → \\underline {} \\underline {} \\underline {} CO_2 (g) + \\underline {} \\underline {} \\underline {}  H_2O(l)\n",
    "$$\n",
    "\n",
    "at a temperature of $400 \\ K$. First we'll tackle this qualitatively, according to the following steps:\n",
    "\n",
    "1. Balance the equation.\n",
    "1. Based on the fact that the reaction is very thermodynamically favored at room temperature (methane does burn after all), decide whether the Gibbs energy of the products is higher or lower than that of the reactants.\n",
    "1. Get an idea of whether the products or reactants have higher *entropy*. You can do this with a table, but there's a quicker way: which side of the equation has more moles of gas? \n",
    "1.  Armed with the knowledge that $dG=-SdT+VdP$, you're now in a position to sketch the Gibbs energy of the reactants and the products as a function of temperature. A big question you'll need to answer is, which curve will go down *faster* with increasing temperature? Your answer to #3 should lead you to the right conclusion here. \n",
    "1. After you've made your sketch, make a prediction: does it look like the magnitude of the Gibbs energy of the reaction will get smaller, or bigger, with increasing temperature?\n",
    "\n",
    "Second, do a calculation: \n",
    "\n",
    "1. From tables, find $\\Delta G_{rxn}$ and $\\Delta H_{rxn}$ at $298 \\ K$ for this reaction. You might find it useful to compare to https://socratic.org/questions/calculate-the-enthalpy-of-combustion-of-methane-if-the-standard-enthalpies-of-fo. \n",
    "1. Use the results you just got in combination with the integrated Gibbs-Helmholtz equation, Eq. (1), to get a value of ${\\Delta G_{rxn}}$ at a temperature of $400 \\ K$. Prints your result in $kJ/mol$.\n",
    "\n",
    "Third, make sure your qualitative and quantitative results agree!"
   ]
  },
  {
   "cell_type": "code",
   "execution_count": 2,
   "id": "fd05ad37",
   "metadata": {
    "nbgrader": {
     "grade": true,
     "grade_id": "cell-c409934f18003dcf",
     "locked": false,
     "points": 4,
     "schema_version": 3,
     "solution": true,
     "task": false
    }
   },
   "outputs": [
    {
     "name": "stdout",
     "output_type": "stream",
     "text": [
      "DeltaG(298)= -817.86 kilojoule / mole\n",
      "DeltaG(400)= -793.0445637583894 kilojoule / mole\n"
     ]
    }
   ],
   "source": [
    "### Begin Solution\n",
    "\n",
    "#The missing coefficients are 1 and 2, so\n",
    "DHf_CO2 = -393.5\n",
    "DHf_H2O = -285.83\n",
    "DHf_CH4 = -74.8\n",
    "\n",
    "DGf_CO2 = -394.4\n",
    "DGf_H2O = -237.13\n",
    "DGf_CH4 = -50.8\n",
    "\n",
    "DH  = DHf_CO2 + 2*DHf_H2O - DHf_CH4; DH  = AssignQuantity(DH,\"kJ/mol\")\n",
    "DG1 = DGf_CO2 + 2*DGf_H2O - DGf_CH4; DG1 = AssignQuantity(DG1,\"kJ/mol\")\n",
    "\n",
    "T1 = AssignQuantity(298,'K')\n",
    "T2 = AssignQuantity(400,'K')\n",
    "\n",
    "print('DeltaG(298)=', DG1)\n",
    "DG2 = T2*(DG1/T1+DH*(1/T2-1/T1)); print('DeltaG(400)=', DG2)\n",
    "\n",
    "### End Solution"
   ]
  },
  {
   "cell_type": "markdown",
   "id": "512403d2",
   "metadata": {
    "nbgrader": {
     "grade": false,
     "grade_id": "cell-d4d960334b86a7e3",
     "locked": true,
     "schema_version": 3,
     "solution": false,
     "task": false
    }
   },
   "source": [
    "### 2. Boiling point elevation and freezing point depression\n",
    "Using water's cryoscopic and ebullioscopic constants, predict the new freezing and boiling temperatures (in degrees Celsius, please) of a 3.0 molal solution of $NaCl(aq)$.\n",
    "\n",
    "Hints:\n",
    "- Remember that the van't Hoff factor for $NaCl$ is 2.\n",
    "- Although many sources (including Wikipedia) will list $K_f$ and $K_b$ in units ${K \\ kg \\over mol}$, it's going to be better here to specify these values in terms of *degree intervals* -- even though they are numerically identical -- because the latter will produce the right units in your results. Here's an example:\n",
    "\n",
    "        Kf = AssignQuantity(1.853,'delta_degree_Celsius kg /mol')\n",
    "        \n"
   ]
  },
  {
   "cell_type": "code",
   "execution_count": 3,
   "id": "eddc614b",
   "metadata": {
    "nbgrader": {
     "grade": true,
     "grade_id": "cell-4548d5d8d857165e",
     "locked": false,
     "points": 2,
     "schema_version": 3,
     "solution": true,
     "task": false
    }
   },
   "outputs": [
    {
     "name": "stdout",
     "output_type": "stream",
     "text": [
      "Tf= -11.118 delta_degree_Celsius\n",
      "Tb= 103.072 degree_Celsius\n"
     ]
    }
   ],
   "source": [
    "### Begin Solution\n",
    "b = AssignQuantity(3,'mol/kg')\n",
    "i = AssignQuantity(2,'dimensionless')\n",
    "Kf = AssignQuantity(1.853,'delta_degree_Celsius kg /mol')\n",
    "Tf = -b*i*Kf; print('Tf=',Tf)\n",
    "Kb = AssignQuantity(0.512,'delta_degree_Celsius kg /mol')\n",
    "Tb_normal = AssignQuantity(100,'degC')\n",
    "Tb = Tb_normal + b*i*Kb; print('Tb=',Tb)\n",
    "### End Solution"
   ]
  },
  {
   "cell_type": "markdown",
   "id": "f204e19b",
   "metadata": {
    "nbgrader": {
     "grade": false,
     "grade_id": "cell-9839d7e880fae8ed",
     "locked": true,
     "schema_version": 3,
     "solution": false,
     "task": false
    }
   },
   "source": [
    "### 3. COP of a heat pump\n",
    "If you go to https://www.timeanddate.com/weather/usa/tacoma/climate, you'll find the mean temperature in Tacoma, in November. Using that value, and an assumption that people want to keep their living spaces at about $68^oF$, calculate and print $COP_{max}$. \n",
    "\n",
    "Hints:\n",
    "- In pint, degrees Fahrenheit are specifed as 'degF'. \n",
    "- To use Eq. (5), you can (and should) use \".ito\" to convert from Fahrenheit to Kelvin. "
   ]
  },
  {
   "cell_type": "code",
   "execution_count": 4,
   "id": "c153f7c2",
   "metadata": {
    "nbgrader": {
     "grade": true,
     "grade_id": "cell-d643a3d11f2e87cb",
     "locked": false,
     "points": 3,
     "schema_version": 3,
     "solution": true,
     "task": false
    }
   },
   "outputs": [
    {
     "name": "stdout",
     "output_type": "stream",
     "text": [
      "293.15000000000003 kelvin\n",
      "293.15000000000003 kelvin\n",
      "23.98499999999999 dimensionless\n"
     ]
    }
   ],
   "source": [
    "### Begin Solution\n",
    "T_h = AssignQuantity(68,'degF').to('K'); print(T_h)\n",
    "T_c = AssignQuantity(46,'degF').to('K'); print(T_h)\n",
    "COP_max = T_h/(T_h-T_c); print(COP_max)\n",
    "### End Solution"
   ]
  },
  {
   "cell_type": "markdown",
   "id": "64ef0c3e",
   "metadata": {
    "nbgrader": {
     "grade": false,
     "grade_id": "cell-6fa631ce07755eed",
     "locked": true,
     "schema_version": 3,
     "solution": false,
     "task": false
    }
   },
   "source": [
    "### Refresh/save/validate/close/submit/logout"
   ]
  }
 ],
 "metadata": {
  "celltoolbar": "Create Assignment",
  "kernelspec": {
   "display_name": "Python 3 (ipykernel)",
   "language": "python",
   "name": "python3"
  },
  "language_info": {
   "codemirror_mode": {
    "name": "ipython",
    "version": 3
   },
   "file_extension": ".py",
   "mimetype": "text/x-python",
   "name": "python",
   "nbconvert_exporter": "python",
   "pygments_lexer": "ipython3",
   "version": "3.10.2"
  }
 },
 "nbformat": 4,
 "nbformat_minor": 5
}

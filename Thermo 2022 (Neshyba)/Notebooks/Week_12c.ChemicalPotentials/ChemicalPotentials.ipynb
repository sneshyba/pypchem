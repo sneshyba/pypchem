{
 "cells": [
  {
   "cell_type": "markdown",
   "metadata": {
    "nbgrader": {
     "grade": false,
     "grade_id": "cell-e25474589ded26e7",
     "locked": true,
     "schema_version": 3,
     "solution": false,
     "task": false
    }
   },
   "source": [
    "### Neshyba, 2022\n",
    "# Chemical Potentials\n",
    "\n",
    "## Key equations\n",
    "\n",
    "$$\n",
    "\\mu_A = \\mu_A^o +RTln \\big ({a_A \\over a^o} \\big) \\ \\ \\ (1)\n",
    "$$\n",
    "\n",
    "where:\n",
    "\n",
    "- If $A$ is a gas, then $a_A$ is the partial pressure of $A$, and $a^o = 1 \\ bar$ \n",
    "- If $A$ is a solute, $a_A$ is the concentration of $A$, and $a^o = 1 \\ \\underline M$ \n",
    "- If $A$ is a solvent then $a_A$ is the mole fraction of $A$, and $a^o = 1$ \n",
    "\n",
    "When we need to take pressure into account (as in an osmotic pressure experiment), we write\n",
    "\n",
    "$$\n",
    "\\mu_A = \\mu_A^o +RTln \\big ({a_A \\over a^o} \\big) +V\\Delta P \\ \\ \\ (2)\n",
    "$$\n",
    "\n",
    "where $V$ is the molar volume of the solvent. For water as a solvent, for example, $V = 18 {ml \\over mol}$."
   ]
  },
  {
   "cell_type": "code",
   "execution_count": 1,
   "metadata": {
    "nbgrader": {
     "grade": false,
     "grade_id": "cell-7e2dd986b30edab8",
     "locked": true,
     "schema_version": 3,
     "solution": false,
     "task": false
    }
   },
   "outputs": [],
   "source": [
    "import pint; from pint import UnitRegistry; AssignQuantity = UnitRegistry().Quantity\n",
    "import numpy as np"
   ]
  },
  {
   "cell_type": "markdown",
   "metadata": {
    "nbgrader": {
     "grade": false,
     "grade_id": "cell-7581706f35a07326",
     "locked": true,
     "schema_version": 3,
     "solution": false,
     "task": false
    }
   },
   "source": [
    "### Instructions\n",
    "For this CGI, we'll assume a temperature of 298 K. Also, please report the chemical potential results in units kJ/mol. For that reason it'll be convenient to use an R-value of $8.314 \\times 10^{-3} \\ kJ/mol/K$ (but you can also do conversions at the end)."
   ]
  },
  {
   "cell_type": "markdown",
   "metadata": {
    "nbgrader": {
     "grade": false,
     "grade_id": "cell-dad506190d63ac65",
     "locked": true,
     "schema_version": 3,
     "solution": false,
     "task": false
    }
   },
   "source": [
    "### Assigning values to T and R. "
   ]
  },
  {
   "cell_type": "code",
   "execution_count": 2,
   "metadata": {
    "nbgrader": {
     "grade": false,
     "grade_id": "cell-89de67b36f8645c2",
     "locked": true,
     "schema_version": 3,
     "solution": false,
     "task": false
    }
   },
   "outputs": [],
   "source": [
    "T = AssignQuantity(298,'K')\n",
    "R = AssignQuantity(8.314e-3,'kjoule/mol/K')"
   ]
  },
  {
   "cell_type": "markdown",
   "metadata": {
    "nbgrader": {
     "grade": false,
     "grade_id": "cell-39f925b1d0816f70",
     "locked": true,
     "schema_version": 3,
     "solution": false,
     "task": false
    }
   },
   "source": [
    "### 1. Chemical potential of a solute\n",
    "Solute A in chamber Y is 1/3 its concentration in chamber X. Calculate $\\Delta\\mu$ for the reaction $A(X) → A(Y)$. \n",
    "\n",
    "Expectations: If you think this reaction is spontaneous as written, you'd expect $\\Delta\\mu<0$. If you think the *reverse* reaction is spontaneous, you'd expect $\\Delta\\mu>0$. "
   ]
  },
  {
   "cell_type": "code",
   "execution_count": 3,
   "metadata": {
    "nbgrader": {
     "grade": true,
     "grade_id": "cell-db55a1ac62e98c07",
     "locked": false,
     "points": 2,
     "schema_version": 3,
     "solution": true,
     "task": false
    }
   },
   "outputs": [
    {
     "name": "stdout",
     "output_type": "stream",
     "text": [
      "-2.721891045260026 kilojoule / mole\n"
     ]
    }
   ],
   "source": [
    "### BEGIN SOLUTION\n",
    "Delta_mu = R*T*np.log(1/3)\n",
    "print(Delta_mu)\n",
    "### END SOLUTION"
   ]
  },
  {
   "cell_type": "markdown",
   "metadata": {
    "nbgrader": {
     "grade": false,
     "grade_id": "cell-70a686ef4a37d48c",
     "locked": true,
     "schema_version": 3,
     "solution": false,
     "task": false
    }
   },
   "source": [
    "### 2. Chemical potential of a gas\n",
    "Let's say chamber X contains pure $O_2(g)$, chamber Y contains air. What’s $\\Delta\\mu$ for the reaction $O_2(g)(X) → O_2(g)(Y)$?"
   ]
  },
  {
   "cell_type": "code",
   "execution_count": 4,
   "metadata": {
    "nbgrader": {
     "grade": true,
     "grade_id": "cell-5e4acc1928d8b1e3",
     "locked": false,
     "points": 2,
     "schema_version": 3,
     "solution": true,
     "task": false
    }
   },
   "outputs": [
    {
     "name": "stdout",
     "output_type": "stream",
     "text": [
      "-3.866617162963591 kilojoule / mole\n"
     ]
    }
   ],
   "source": [
    "### BEGIN SOLUTION\n",
    "Delta_mu = R*T*np.log(.21)\n",
    "print(Delta_mu)\n",
    "### END SOLUTION"
   ]
  },
  {
   "cell_type": "markdown",
   "metadata": {
    "nbgrader": {
     "grade": false,
     "grade_id": "cell-7af48bc8c37f63f2",
     "locked": true,
     "schema_version": 3,
     "solution": false,
     "task": false
    }
   },
   "source": [
    "### 3. Solvents\n",
    "Chamber X is an aqueous solution containing 1 molal NaCl(aq). Chamber Y is pure water. Calculate $\\Delta\\mu$ for the reaction $H_2O(aqueous \\ solution) → H_2O(pure \\ solvent)$. \n",
    "\n",
    "Notes about this:\n",
    "- Remember that 1 molal NaCl(aq) is actually 1 molal Na+(aq) and 1 molal Cl-(aq). That'll be important when you calculate the activity (mole fraction) of the water.\n",
    "- Since we've written $H_2O(aqueous \\ solution) → H_2O(pure \\ solvent)$, the corresponding equation for chemical potential difference is $\\Delta\\mu = \\mu(pure \\ solvent) - \\mu(aqueous \\ solution)$. "
   ]
  },
  {
   "cell_type": "code",
   "execution_count": 5,
   "metadata": {
    "nbgrader": {
     "grade": true,
     "grade_id": "cell-99e06629ac5749e0",
     "locked": false,
     "points": 2,
     "schema_version": 3,
     "solution": true,
     "task": false
    }
   },
   "outputs": [
    {
     "name": "stdout",
     "output_type": "stream",
     "text": [
      "0.9652777777777778\n",
      "0.08755582480263674 kilojoule / mole\n"
     ]
    }
   ],
   "source": [
    "### BEGIN SOLUTION\n",
    "chi_water = 55.6/57.6; print(chi_water)\n",
    "Delta_mu = -R*T*np.log(chi_water)\n",
    "print(Delta_mu)\n",
    "### END SOLUTION"
   ]
  },
  {
   "cell_type": "markdown",
   "metadata": {
    "nbgrader": {
     "grade": false,
     "grade_id": "cell-94f29bee64a8f7e1",
     "locked": true,
     "schema_version": 3,
     "solution": false,
     "task": false
    }
   },
   "source": [
    "### 4. Osmotic pressure\n",
    "Calculate the osmotic pressure when the solute-containing chamber of an osmotic pressure experiment contains 1 molal NaCl(aq). Report your answer in bars."
   ]
  },
  {
   "cell_type": "code",
   "execution_count": 6,
   "metadata": {
    "nbgrader": {
     "grade": true,
     "grade_id": "cell-a2f29f6032349224",
     "locked": false,
     "points": 3,
     "schema_version": 3,
     "solution": true,
     "task": false
    }
   },
   "outputs": [
    {
     "name": "stdout",
     "output_type": "stream",
     "text": [
      "48.64212489035374 bar\n",
      "496.3482131668749 meter\n"
     ]
    }
   ],
   "source": [
    "### BEGIN SOLUTION\n",
    "chi_water = 55.6/57.6\n",
    "Delta_mu = R*T*np.log(chi_water)\n",
    "\n",
    "V = AssignQuantity(18,'mL/mol')\n",
    "OP = -R*T*np.log(chi_water)/V\n",
    "print(OP.to('bar'))\n",
    "\n",
    "# Related, but not assigned:\n",
    "M = AssignQuantity(.018,'kg/mol')\n",
    "chi_water = 55.6/57.6\n",
    "g = AssignQuantity(9.8,'m/s^2')\n",
    "h = -R*T*np.log(chi_water)/(M*g)\n",
    "print(h.to('m'))\n",
    "\n",
    "### END SOLUTION"
   ]
  },
  {
   "cell_type": "markdown",
   "metadata": {
    "nbgrader": {
     "grade": false,
     "grade_id": "cell-310b5055bffe5ca2",
     "locked": true,
     "schema_version": 3,
     "solution": false,
     "task": false
    }
   },
   "source": [
    "### 5. Predicting an equilibrium constant from the Gibbs energy of a reaction\n",
    "Suppose we have a reaction $A → 2B$ for which $\\Delta G^o_{rxn}=-10 \\ kJ/mol$. Using $G^o_{rxn}=-RTln(K)$, find the value of $K$ for this reaction, assuming $T=298 K$."
   ]
  },
  {
   "cell_type": "code",
   "execution_count": 7,
   "metadata": {
    "nbgrader": {
     "grade": true,
     "grade_id": "cell-5af1b052eeb4b4a1",
     "locked": false,
     "points": 2,
     "schema_version": 3,
     "solution": true,
     "task": false
    }
   },
   "outputs": [
    {
     "name": "stdout",
     "output_type": "stream",
     "text": [
      "56.61135842472409 dimensionless\n"
     ]
    }
   ],
   "source": [
    "### BEGIN SOLUTION\n",
    "G = AssignQuantity(-10,'kJ/mol')\n",
    "K = np.exp(-G/(R*T))\n",
    "print(K)\n",
    "### END SOLUTION"
   ]
  },
  {
   "cell_type": "markdown",
   "metadata": {
    "nbgrader": {
     "grade": false,
     "grade_id": "cell-e1fbd7263751699d",
     "locked": true,
     "schema_version": 3,
     "solution": false,
     "task": false
    }
   },
   "source": [
    "### Refresh/save/validate/close/submit/logout"
   ]
  }
 ],
 "metadata": {
  "celltoolbar": "Create Assignment",
  "kernelspec": {
   "display_name": "Python 3 (ipykernel)",
   "language": "python",
   "name": "python3"
  },
  "language_info": {
   "codemirror_mode": {
    "name": "ipython",
    "version": 3
   },
   "file_extension": ".py",
   "mimetype": "text/x-python",
   "name": "python",
   "nbconvert_exporter": "python",
   "pygments_lexer": "ipython3",
   "version": "3.10.2"
  }
 },
 "nbformat": 4,
 "nbformat_minor": 2
}

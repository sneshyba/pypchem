{
 "cells": [
  {
   "cell_type": "markdown",
   "id": "f6948923",
   "metadata": {
    "deletable": false,
    "editable": false,
    "nbgrader": {
     "cell_type": "markdown",
     "checksum": "dfb53527e3ab3b40c7afef6d2e421ff9",
     "grade": false,
     "grade_id": "cell-8b5a0a7b06988096",
     "locked": true,
     "schema_version": 3,
     "solution": false,
     "task": false
    }
   },
   "source": [
    "### Computational Guided Inquiry (Topper, 2022; adapted to Python by Neshyba, 2023)\n",
    "\n",
    "# The Heat (Capacity) Is On$^{1,2}$\n",
    "\n",
    "## Introduction\n",
    "In this project you’ll use Python to predict the enthalpy of a combustion reaction as a function of temperature. Qualitatively, we know that combustion reactions are exothermic. As the combustion temperature increases, does the exothermicity increase, decrease, or stay pretty much the same? This project will answer that question, at least for one compound, by making the estimate two different ways - one highly approximate way, and one very accurate way.\n",
    "\n",
    "## The *KL1* method\n",
    "The simplest way to do this is to use *Kirchoff’s Law*$^3$ which is described on pp. 107-109 of Chang and Thoman. Starting with the standard enthalpy of reaction (at 298 K), one can predict how it changes by using heat capacities for the products and reactants. The textbook makes an approximation to Kirchoff’s Law by assuming that the heat capacities of products and reactants are constant and equal to their values at 298 K. We’ll call this “Kirchoff’s Law 1” (*KL1*). See Example 3.11 for how this works, using heat capacity data from Appendix B of the textbook.\n",
    "\n",
    "## The *KL2* method\n",
    "A second way is to *not* assume that the heat capacities are constants and integrate the temperature-dependent heat capacity as a function of temperature from 298 K to each particular temperature of interest. This gives rise to a temperature-dependent correction to the enthalpy of formation for each reactant and product that depends nonlinearly on the temperature change. These corrections are then used in the same way that enthalpies of formations are used, to come up with a correction to the enthalpy of combustion at each temperature. This way of doing things will be called “Kirchoff’s Law 2” (*KL2*). \n",
    "\n",
    "## The NIST data repository and the Shomate Equation\n",
    "Both these methods require that you look up heat capacities for the compounds in your reaction. Probably the most convenient and reliable place to find appropriate functions is the NIST Chemistry Webbook. See https://webbook.nist.gov/chemistry/ . If you use the Search by Formula tool and search for $O_2$, (O2) you’ll see that you can scroll down and click on a link entitled “Gas phase thermochemistry data.” You’ll see an entry called the Shomate Equation and a table of its parameters, which are used together to predict the heat capacity as a function of temperature above 100 K. The formula is straightforward and can be integrated analytically – and in fact this page has already done that for you and shows the result as a formula for (H-H298.15). This quantity is the temperature correction to the enthalpy of formation for $O_2$, defined as Hcorr (T) = (H-H298.15). If you can find correction formulas like this one for all reactants and products you can use them as given to predict the enthalpy of formation as a function of temperature; otherwise you will have to figure out the formulas yourself.\n",
    "\n",
    "Be careful - note that the coefficients you need to use are different for the range (100 K, 700 K) and (700 K, 2000 K) and (2000 K, 6000 K), so you’ll need to switch from one set to the other as the temperature increases. Also note the definition of t in the equation, which is not the same as T.... Finally, you may find it interesting to use the site’s built in plotter to display the heat capacity of $O_2$ as a function of temperature. This shows how the thermal activation of excited vibrational states affects the heat capacity of $O_2$, as explained in Chapter 2.\n",
    "\n",
    "## The idea of this exercise\n",
    "You will be assigned a compound and you will predict its enthalpy of combustion as a function of temperature. For simplicity, all reactants and products (including $H_2O$) will be assumed to be in the gas phase. Make sure that you take this into account when calculating the enthalpy of combustion at (1 bar, 298.15 K). Your calculations will start at 300 K and end at 4000 K, using both of the Kirchoff methods (*KL1* and *KL2*). The result we're going for is a \n",
    "well-formatted, titled plot with both curves, labeling the T and Enthalpy axes clearly and indicating the units (K and kJ/mole), like the one shown in Fig. 1 below. \n",
    "\n",
    "<p style='text-align: center;'>\n",
    "<img src=\"http://webspace.pugetsound.edu/facultypages/nesh/Notebook/cycle1.png\" height=\"400\" width=\"400\"/>\n",
    "\n",
    "__Figure 1__. Indicator diagram showing a Carnot cycle acting as a heat engine. \n",
    "</p>\n",
    "\n",
    "## Deliverables\n",
    "1. Submit this Notebook in the usual way.\n",
    "2. The project requires a brief report (this need only be 2-3 pages) in which you will explain how you did your calculations and clearly document all sources that you used to obtain data and information. This should be in the form (Introduction, Methods, Results and Discussion, References); no Abstract or Conclusion sections are needed. In the introduction, make sure to include the balanced combustion reaction for your compound as well as the enthalpy of combustion and molar heat capacities of all reactants and products at (1 bar, 298.15 K). Your writing should be easy for me to read and understand, without using informal language. Describe whether the two methods agree with one another well or poorly throughout the temperature range. Your plot should be included in this report.\n",
    "\n",
    "## Python-specific learning goals\n",
    "1. I can create named variables that contain single numbers, as well as variables that contain arrays of numbers.\n",
    "1. I know how to use tailor-made Python functions.\n",
    "1. I can plot and annotate multiple curves on the same graph.\n",
    "\n",
    "## Thermodynamic-related learning goals\n",
    "1. I can explain how the Shomate Equation works, and use it to predict corrections to the enthalpy of a reaction.\n",
    "1. I can describe assumptions built into the *KL1* and *KL2* methods.\n",
    "1. I can use the *KL1* and *KL2* methods to predict the enthalpy of reactions that take place under conditions other than the standard-state temperature.\n",
    "\n",
    "## References\n",
    "1. With apologies to Glenn Frey. See https://www.youtube.com/watch?v=uZD8HKVKneI\n",
    "1. This module was developed by R.Q. Topper solely for use at the Cooper Union. Copyright 2021; all rights reserved. Version 1.0; last edited March 6, 2021.\n",
    "1. This is perhaps more precisely referred to as “Kirchoff’s Law of Thermochemistry.” Gustav Kirchoff proposed this idea in 1858. He was a polymath who has had several “laws” named after him, including the one about circuits that you may already know about. See https://en.wikipedia.org/wiki/Kirchhoff%27s_laws (accessed March 7, 2021)."
   ]
  },
  {
   "cell_type": "markdown",
   "id": "8ae4b94c",
   "metadata": {
    "deletable": false,
    "editable": false,
    "nbgrader": {
     "cell_type": "markdown",
     "checksum": "abb98198a89d64ec7b39dce5a7cf8de2",
     "grade": false,
     "grade_id": "cell-28204465f245110c",
     "locked": true,
     "schema_version": 3,
     "solution": false,
     "task": false
    }
   },
   "source": [
    "### Importing resources\n",
    "The cell below gathers some resources we'll need for this exercise. You don't need to change anything, just execute the cell (e.g., using shift-return)."
   ]
  },
  {
   "cell_type": "code",
   "execution_count": null,
   "id": "36b03f10",
   "metadata": {
    "deletable": false,
    "editable": false,
    "nbgrader": {
     "cell_type": "code",
     "checksum": "ecbb4592cb139f3574d8aed7744bb7ff",
     "grade": false,
     "grade_id": "cell-27cb7cedefa7485a",
     "locked": true,
     "schema_version": 3,
     "solution": false,
     "task": false
    }
   },
   "outputs": [],
   "source": [
    "import numpy as np\n",
    "import matplotlib.pyplot as plt\n",
    "%matplotlib notebook"
   ]
  },
  {
   "cell_type": "markdown",
   "id": "dbc8d223",
   "metadata": {
    "deletable": false,
    "editable": false,
    "nbgrader": {
     "cell_type": "markdown",
     "checksum": "847eac0ae07d34838a7cc794c15bcf96",
     "grade": false,
     "grade_id": "cell-5c0b2aa4f0203456",
     "locked": true,
     "schema_version": 3,
     "solution": false,
     "task": false
    }
   },
   "source": [
    "### Creating a tailor-made Python function\n",
    "You're no doubt familiar with built-in functions like *exp(x)* and *sin(y)* on your calculator. But what do you do when you have a need for a function that's *not* built-in? Well, in Python you can *create* it! \n",
    "\n",
    "The cell below does just that for the *Shomate Equation*. For now, all you need to do is execute the cell so that it'll be available when we need it later in this exercise. "
   ]
  },
  {
   "cell_type": "code",
   "execution_count": null,
   "id": "be07c023",
   "metadata": {
    "deletable": false,
    "editable": false,
    "nbgrader": {
     "cell_type": "code",
     "checksum": "09f58c4eb22199d81323fa779f26a442",
     "grade": false,
     "grade_id": "cell-acd47f08b019976a",
     "locked": true,
     "schema_version": 3,
     "solution": false,
     "task": false
    }
   },
   "outputs": [],
   "source": [
    "def getShomate(Hcorr,T,T1,T2,Sdata):\n",
    "    for i in range(len(T)):\n",
    "        if T[i] > T1 and T[i] <= T2:\n",
    "            t = T[i]/1000\n",
    "            t0 = Sdata[0]*t\n",
    "            t1 = Sdata[1]*t**2/2\n",
    "            t2 = Sdata[2]*t**3/3\n",
    "            t3 = Sdata[3]*t**4/4\n",
    "            t4 = Sdata[4]/t\n",
    "            t5 = Sdata[5]\n",
    "            t6 = Sdata[6]\n",
    "            t7 = Sdata[7]\n",
    "            Hcorr[i] = t0 + t1 + t2 + t3 - t4 + t5 - t7\n",
    "    return Hcorr"
   ]
  },
  {
   "cell_type": "markdown",
   "id": "fb83d912",
   "metadata": {
    "deletable": false,
    "editable": false,
    "nbgrader": {
     "cell_type": "markdown",
     "checksum": "316755a252a31255e03e2366e0992ae1",
     "grade": false,
     "grade_id": "cell-bdc6e25cd88bfc33",
     "locked": true,
     "schema_version": 3,
     "solution": false,
     "task": false
    }
   },
   "source": [
    "### Pause for analysis\n",
    "In the cell below, explain in your own words what the Shomate equation does. For example, what information goes *into* the equation, and what quantities does it produce? It might help to refer to online sources for this, such as https://s3.studylib.net/store/data/009453117_1-c58939ac0e049a2bda1a1c4395175868.png."
   ]
  },
  {
   "cell_type": "markdown",
   "id": "5784b492",
   "metadata": {
    "deletable": false,
    "nbgrader": {
     "cell_type": "markdown",
     "checksum": "4f1ffcbd16201ac360046cc759724d51",
     "grade": true,
     "grade_id": "cell-fe43e28104d03df4",
     "locked": false,
     "points": 2,
     "schema_version": 3,
     "solution": true,
     "task": false
    }
   },
   "source": [
    "YOUR ANSWER HERE"
   ]
  },
  {
   "cell_type": "markdown",
   "id": "a6b69fad",
   "metadata": {
    "deletable": false,
    "editable": false,
    "nbgrader": {
     "cell_type": "markdown",
     "checksum": "1d6529866057e97fdc596e63374599f6",
     "grade": false,
     "grade_id": "cell-87cf0798fa46d720",
     "locked": true,
     "schema_version": 3,
     "solution": false,
     "task": false
    }
   },
   "source": [
    "### Creating named variables\n",
    "Since this exercise will often refer to standard-state conditions, it'll be handy to have variables that contain those numbers -- that way, anytime we want to use them, we can just refer to the variable name.\n",
    "\n",
    "In the cell below, we create a variable named P0, that contains the standard-state pressure. Using that as a model, create another variable named T0 (equal to 298.15). "
   ]
  },
  {
   "cell_type": "code",
   "execution_count": null,
   "id": "61d4877a",
   "metadata": {
    "deletable": false,
    "nbgrader": {
     "cell_type": "code",
     "checksum": "39b9478541e5eabf7e223e6146a03c63",
     "grade": true,
     "grade_id": "cell-8e8dba361b0645e0",
     "locked": false,
     "points": 1,
     "schema_version": 3,
     "solution": true,
     "task": false
    }
   },
   "outputs": [],
   "source": [
    "# Defining the standard-state pressure (variable name P0)\n",
    "P0 = 1\n",
    "print('The standard-state pressure is', P0, 'atm')\n",
    "\n",
    "# Define and print the standard-state temperature (naming the variable T0)\n",
    "# Your code here \n"
   ]
  },
  {
   "cell_type": "markdown",
   "id": "05240c8f",
   "metadata": {
    "deletable": false,
    "editable": false,
    "nbgrader": {
     "cell_type": "markdown",
     "checksum": "68b2bd67bcd6a6c86dc457fc6adeb25c",
     "grade": false,
     "grade_id": "cell-e7579ced5915e506",
     "locked": true,
     "schema_version": 3,
     "solution": false,
     "task": false
    }
   },
   "source": [
    "### Creating named *array* variables\n",
    "In subsequent cells, we'll also have need for *arrays* of numbers -- for example, temperatures. The cell below shows how to do that using numpy's *np.arange* function. Execute the cell to see how this works. If you like, you can experiment a bit, by changing some the arguments of *np.arange*, executing again, and seeing how the results change."
   ]
  },
  {
   "cell_type": "code",
   "execution_count": null,
   "id": "ee5e3db3",
   "metadata": {},
   "outputs": [],
   "source": [
    "myarray1 = np.arange(0,10,1); print(myarray1)\n",
    "myarray2 = np.arange(0,10,2); print(myarray2)\n",
    "myarray3 = np.arange(300,200,-10); print(myarray3)"
   ]
  },
  {
   "cell_type": "markdown",
   "id": "0fa6a4d6",
   "metadata": {
    "deletable": false,
    "editable": false,
    "nbgrader": {
     "cell_type": "markdown",
     "checksum": "d28006eacb94faa05a56aefceeeb8b88",
     "grade": false,
     "grade_id": "cell-c28d543f2733aab3",
     "locked": true,
     "schema_version": 3,
     "solution": false,
     "task": false
    }
   },
   "source": [
    "### Pause for analysis\n",
    "As you can see from the above cell, np.arange takes three arguments (for myarray1, for example, these were 0, 10, and 1). In the cell below, describe in your own words what these three arguments do."
   ]
  },
  {
   "cell_type": "markdown",
   "id": "3b8eb6e9",
   "metadata": {
    "deletable": false,
    "nbgrader": {
     "cell_type": "markdown",
     "checksum": "873e8ee21fd6dc34734fde1269b97c41",
     "grade": true,
     "grade_id": "cell-aa056e9d27adc3f3",
     "locked": false,
     "points": 3,
     "schema_version": 3,
     "solution": true,
     "task": false
    }
   },
   "source": [
    "YOUR ANSWER HERE"
   ]
  },
  {
   "cell_type": "markdown",
   "id": "c41c6e3f",
   "metadata": {
    "deletable": false,
    "editable": false,
    "nbgrader": {
     "cell_type": "markdown",
     "checksum": "5ed6a7f9df24af4cf03f409b34809234",
     "grade": false,
     "grade_id": "cell-c8cf9abea831a47e",
     "locked": true,
     "schema_version": 3,
     "solution": false,
     "task": false
    }
   },
   "source": [
    "### Your turn\n",
    "In the cell below, use np.arange to define an array of temperatures starting at 300, increasing in steps of 25, ending at 4000. You should print the result to make sure you got the result you wanted!"
   ]
  },
  {
   "cell_type": "code",
   "execution_count": null,
   "id": "79afa3b2",
   "metadata": {
    "deletable": false,
    "nbgrader": {
     "cell_type": "code",
     "checksum": "b2782e9fad9d917c5a8db314c5aa8a5f",
     "grade": true,
     "grade_id": "cell-1e6401c2f974e07a",
     "locked": false,
     "points": 3,
     "schema_version": 3,
     "solution": true,
     "task": false
    }
   },
   "outputs": [],
   "source": [
    "# Specify an array of temperatures (specifying variable name \"T\")\n",
    "# Your code here \n"
   ]
  },
  {
   "cell_type": "markdown",
   "id": "c1a658c6",
   "metadata": {
    "deletable": false,
    "editable": false,
    "nbgrader": {
     "cell_type": "markdown",
     "checksum": "afe7361fd4587f227e5508fd02911211",
     "grade": false,
     "grade_id": "cell-0cfc8bc7ee0ec8b6",
     "locked": true,
     "schema_version": 3,
     "solution": false,
     "task": false
    }
   },
   "source": [
    "### The KL1 method\n",
    "The cell below shows how to carry out the KL1 method for the combustion of $C_2 H_4$. You can execute it as-is, but you might want to study it a bit because you'll be doing something similar for your assigned fuel."
   ]
  },
  {
   "cell_type": "code",
   "execution_count": null,
   "id": "335b141c",
   "metadata": {
    "deletable": false,
    "editable": false,
    "nbgrader": {
     "cell_type": "code",
     "checksum": "e1cbcf08c02ca0cadd071f991ffae502",
     "grade": false,
     "grade_id": "cell-299f3e24ecebe646",
     "locked": true,
     "schema_version": 3,
     "solution": false,
     "task": false
    }
   },
   "outputs": [],
   "source": [
    "# Load in the standard-state data\n",
    "DHf_C2H4, Cpm_C2H4 = np.loadtxt('StandardStateInfo_C2H4'); print(DHf_C2H4, Cpm_C2H4)\n",
    "DHf_O2, Cpm_O2 = np.loadtxt('StandardStateInfo_O2'); print(DHf_O2, Cpm_O2)\n",
    "DHf_CO2, CPm_CO2 = np.loadtxt('StandardStateInfo_CO2'); print(DHf_CO2, CPm_CO2)\n",
    "DHf_H2O, CPm_H2O = np.loadtxt('StandardStateInfo_H2O'); print(DHf_H2O, CPm_H2O)\n",
    "\n",
    "# Calculate the enthalpy of combustion at 298\n",
    "DHC_298 = 2*DHf_CO2 +2*DHf_H2O -(DHf_C2H4 + 3*DHf_O2)\n",
    "print(DHC_298)\n",
    "\n",
    "# Calculate the difference in heat capacities\n",
    "DCPc = 2*CPm_CO2 +2*CPm_H2O -(Cpm_C2H4 +3*Cpm_O2)\n",
    "print(DCPc)\n",
    "\n",
    "# Get the enthalpy of combustion using KL1\n",
    "DHC1 = DHC_298 + DCPc/1000*(T-T0)\n",
    "\n",
    "# Plotting\n",
    "plt.figure()\n",
    "plt.plot(T,DHC1,label='KL1 method')\n",
    "plt.grid(True)\n",
    "plt.xlabel('T (K)')\n",
    "plt.ylabel('kJ/mol')\n",
    "plt.title(r'$\\Delta H_{combustion}$ of $C_2H_4$')\n",
    "plt.legend()"
   ]
  },
  {
   "cell_type": "markdown",
   "id": "acf96166",
   "metadata": {
    "deletable": false,
    "editable": false,
    "nbgrader": {
     "cell_type": "markdown",
     "checksum": "17eff113814123319129be0bd46ce3a1",
     "grade": false,
     "grade_id": "cell-b001043d279eccb2",
     "locked": true,
     "schema_version": 3,
     "solution": false,
     "task": false
    }
   },
   "source": [
    "### The KL2 method\n",
    "The cell below shows how to carry out the KL2 method for the combustion of $C_2H_4$. You can execute it as-is, but you might want to study this one too. In particular, some new things that are being used here:\n",
    "\n",
    "- We're calling our tailor-made function *getShomate*.\n",
    "- We're also plotting two curves on the same graph (results of KL1 and KL2), for comparison."
   ]
  },
  {
   "cell_type": "code",
   "execution_count": null,
   "id": "0781dab2",
   "metadata": {
    "deletable": false,
    "editable": false,
    "nbgrader": {
     "cell_type": "code",
     "checksum": "034b91fa27b712ea2ee2d428df7d41fe",
     "grade": false,
     "grade_id": "cell-819e6c20c537fe6b",
     "locked": true,
     "schema_version": 3,
     "solution": false,
     "task": false
    }
   },
   "outputs": [],
   "source": [
    "# Load in the Shomate data\n",
    "Shomate_C2H4 = np.loadtxt('Shomate_C2H4'); print('Shomate for C2H4:', np.shape(Shomate_C2H4))\n",
    "Shomate_O2 = np.loadtxt('Shomate_O2'); print('Shomate for O2:', np.shape(Shomate_O2))\n",
    "Shomate_CO2 = np.loadtxt('Shomate_CO2'); print('Shomate for CO2:', np.shape(Shomate_CO2))\n",
    "Shomate_H2O = np.loadtxt('Shomate_H2O'); print('Shomate for H2O:', np.shape(Shomate_H2O))\n",
    "\n",
    "# Get corrections for O2\n",
    "Hcorr_O2 = np.zeros(len(T))\n",
    "Hcorr_O2 = getShomate(Hcorr_O2,T,100,700,Shomate_O2[:,0])\n",
    "Hcorr_O2 = getShomate(Hcorr_O2,T,700,2000,Shomate_O2[:,1])\n",
    "Hcorr_O2 = getShomate(Hcorr_O2,T,2000,6000,Shomate_O2[:,2])\n",
    "\n",
    "# Plotting those corrections\n",
    "plt.figure()\n",
    "plt.plot(T,Hcorr_O2)\n",
    "plt.grid(True)\n",
    "plt.xlabel('T (K)')\n",
    "plt.ylabel('kJ/mol')\n",
    "plt.title(r'$\\Delta H_{combustion}$ correction for $O_2$ using the KL2 method')\n",
    "\n",
    "# Get corrections for C2H4\n",
    "Hcorr_C2H4 = np.zeros(len(T))\n",
    "Hcorr_C2H4 = getShomate(Hcorr_C2H4,T,298,1200,Shomate_C2H4[:,0])\n",
    "Hcorr_C2H4 = getShomate(Hcorr_C2H4,T,1200,6000,Shomate_C2H4[:,1])\n",
    "\n",
    "# Get corrections for CO2\n",
    "Hcorr_CO2 = np.zeros(len(T))\n",
    "Hcorr_CO2 = getShomate(Hcorr_CO2,T,298,1200,Shomate_CO2[:,0])\n",
    "Hcorr_CO2 = getShomate(Hcorr_CO2,T,1200,6000,Shomate_CO2[:,1])\n",
    "\n",
    "# Get corrections for H2O\n",
    "Hcorr_H2O = np.zeros(len(T))\n",
    "Hcorr_H2O = getShomate(Hcorr_H2O,T,298,1200,Shomate_H2O[:,0]) # The lower limit should be 500, but this used anyway\n",
    "Hcorr_H2O = getShomate(Hcorr_H2O,T,1200,6000,Shomate_H2O[:,1])\n",
    "\n",
    "# Now we'll add 'em all up\n",
    "DHC2 = DHC_298 + 2*Hcorr_CO2 +2*Hcorr_H2O -(Hcorr_C2H4 +3*Hcorr_O2)\n",
    "\n",
    "# Plotting\n",
    "plt.figure()\n",
    "plt.plot(T,DHC1,label='KL1 method')\n",
    "plt.plot(T,DHC2,label='KL2 method')\n",
    "plt.grid(True)\n",
    "plt.xlabel('T (K)')\n",
    "plt.ylabel('kJ/mol')\n",
    "plt.title(r'$\\Delta H_{combustion}$ of $C_2H_4$')\n",
    "plt.legend()"
   ]
  },
  {
   "cell_type": "markdown",
   "id": "9f0495d2",
   "metadata": {
    "deletable": false,
    "editable": false,
    "nbgrader": {
     "cell_type": "markdown",
     "checksum": "2c0344ea56293519a876d62b7e3d7da4",
     "grade": false,
     "grade_id": "cell-e9feb9260414b715",
     "locked": true,
     "schema_version": 3,
     "solution": false,
     "task": false
    }
   },
   "source": [
    "### Your turn: KL1 for your assigned fuel\n",
    "In the cell below, use the KL1 method to compute the enthalpy of combustion of your assigned fuel, over the same temperature range as done above."
   ]
  },
  {
   "cell_type": "code",
   "execution_count": null,
   "id": "152c0f31",
   "metadata": {
    "deletable": false,
    "nbgrader": {
     "cell_type": "code",
     "checksum": "a83024fcf3f80268f907e4e12e8ca4a4",
     "grade": true,
     "grade_id": "cell-91d185c53fdfab54",
     "locked": false,
     "points": 4,
     "schema_version": 3,
     "solution": true,
     "task": false
    }
   },
   "outputs": [],
   "source": [
    "# Your code here \n"
   ]
  },
  {
   "cell_type": "markdown",
   "id": "e590764f",
   "metadata": {
    "deletable": false,
    "editable": false,
    "nbgrader": {
     "cell_type": "markdown",
     "checksum": "43b0a8f3821b8714a441d88742aab277",
     "grade": false,
     "grade_id": "cell-01b436699d045547",
     "locked": true,
     "schema_version": 3,
     "solution": false,
     "task": false
    }
   },
   "source": [
    "### Your turn: KL2 for your assigned fuel\n",
    "In the cell below, use the KL2 method to compute the enthalpy of combustion of your assigned fuel, over the same temperature range as done above. Then plot those results along with the KL1 result for your assigned fuel for comparison.\n",
    "\n",
    "A shortcut: you already have named variables containing Shomate corrections for $O_2$, $CO_2$, and $H_2O$, so the only correction you really need here is for your assigned fuel! (On the other hand, recomputing these values takes negligible computing time, so there's no harm in doing so.)"
   ]
  },
  {
   "cell_type": "code",
   "execution_count": null,
   "id": "bebbc8cf",
   "metadata": {
    "deletable": false,
    "nbgrader": {
     "cell_type": "code",
     "checksum": "9cd7ff0c6efa1c73d94814a55f6034bf",
     "grade": true,
     "grade_id": "cell-8897bcc1c7575c1b",
     "locked": false,
     "points": 4,
     "schema_version": 3,
     "solution": true,
     "task": false
    }
   },
   "outputs": [],
   "source": [
    "# Your code here \n"
   ]
  },
  {
   "cell_type": "markdown",
   "id": "3c7fcced",
   "metadata": {
    "deletable": false,
    "editable": false,
    "nbgrader": {
     "cell_type": "markdown",
     "checksum": "4ea3f0fb183017462c93d23db4b0b1a3",
     "grade": false,
     "grade_id": "cell-905ded5b2243010e",
     "locked": true,
     "schema_version": 3,
     "solution": false,
     "task": false
    }
   },
   "source": [
    "### One last refresh and save\n",
    "We're at the end of the notebook. You should repeat the \"Three steps for refreshing and saving your code\" you did before. Instead of using the dropdown menu \"Cell/Run All Above\", however, you may as well use \"Cell/Run All\".\n",
    "\n",
    "### Validating\n",
    "This step will help ensure that you didn't miss something (although it's not a guarantee). Find the \"Validate\" button and press it. If there are any errors or warnings, fix them.\n",
    "\n",
    "### Three steps for finishing up\n",
    "Assuming all this has gone smoothly, there will be three more steps (but read this carefully before carrying them out):\n",
    "1. Close this notebook using the \"File/Close and Halt\" dropdown menu\n",
    "1. Using the Assignments tab, submit this notebook\n",
    "1. Press the Logout tab of the Home Page"
   ]
  }
 ],
 "metadata": {
  "kernelspec": {
   "display_name": "Python 3 (ipykernel)",
   "language": "python",
   "name": "python3"
  },
  "language_info": {
   "codemirror_mode": {
    "name": "ipython",
    "version": 3
   },
   "file_extension": ".py",
   "mimetype": "text/x-python",
   "name": "python",
   "nbconvert_exporter": "python",
   "pygments_lexer": "ipython3",
   "version": "3.10.2"
  }
 },
 "nbformat": 4,
 "nbformat_minor": 5
}

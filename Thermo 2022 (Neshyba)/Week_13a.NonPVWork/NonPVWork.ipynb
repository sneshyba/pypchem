{
 "cells": [
  {
   "cell_type": "markdown",
   "metadata": {
    "nbgrader": {
     "grade": false,
     "grade_id": "cell-97fc885a35c0607c",
     "locked": true,
     "schema_version": 3,
     "solution": false,
     "task": false
    }
   },
   "source": [
    "# Non-PV work\n",
    "### Neshyba, 2021\n",
    "\n",
    "<p style='text-align: center;'>\n",
    "<img src=\"ElectricalWork.png\" height=\"300\" width=\"300\"/>\n",
    "\n",
    "__Figure 1__. Schematic of the work associated with moving ions in an electric field.  \n",
    "</p>\n",
    "\n",
    "\n",
    "<p style='text-align: center;'>\n",
    "<img src=\"ConcentrationWork.png\" height=\"400\" width=\"400\"/>\n",
    "\n",
    "__Figure 2__. Schematic of the work associated with moving solutes into regions with higher concentation.  \n",
    "</p>\n",
    "\n",
    "\n",
    "## Learning Goals\n",
    "1. Write the \"forces\" associated with electrical and concentration non-PV work.\n",
    "1. Explain how to numerically integrate those forces to obtain values of the work for given paths. \n",
    "1. Describe methods for probing the path dependence of non-PV work.\n",
    "1. Gain experience transforming integrals into path-independent form."
   ]
  },
  {
   "cell_type": "code",
   "execution_count": 1,
   "metadata": {},
   "outputs": [],
   "source": [
    "# Import resources - execute 2x if you want interactive graphics\n",
    "import pint; from pint import UnitRegistry; AssignQuantity = UnitRegistry().Quantity\n",
    "import numpy as np\n",
    "import matplotlib.pyplot as plt\n",
    "import PchemLibrary as PL\n",
    "from mpl_toolkits.mplot3d import axes3d\n",
    "import sympy as sp\n",
    "%matplotlib notebook"
   ]
  },
  {
   "cell_type": "code",
   "execution_count": 2,
   "metadata": {},
   "outputs": [],
   "source": [
    "R = AssignQuantity(8.314, 'J/mol/K')\n",
    "T = AssignQuantity(310,'K') # Physiological temperature"
   ]
  },
  {
   "cell_type": "markdown",
   "metadata": {
    "nbgrader": {
     "grade": false,
     "grade_id": "cell-0cefb211cfacedd2",
     "locked": true,
     "schema_version": 3,
     "solution": false,
     "task": false
    }
   },
   "source": [
    "### Moving $H^+$ ions up an electrical potential\n",
    "Suppose you move five $H^+$ ions up an electrical potential of 0.1 Volts. What's the work done? Express your answer in Joules."
   ]
  },
  {
   "cell_type": "code",
   "execution_count": 3,
   "metadata": {
    "nbgrader": {
     "grade": true,
     "grade_id": "cell-08db6b038ad44f3f",
     "locked": false,
     "points": 2,
     "schema_version": 3,
     "solution": true,
     "task": false
    }
   },
   "outputs": [
    {
     "name": "stdout",
     "output_type": "stream",
     "text": [
      "8.000000000000001e-20 coulomb * volt\n",
      "8.000000000000001e-20 joule\n"
     ]
    }
   ],
   "source": [
    "### BEGIN SOLUTION\n",
    "Q = AssignQuantity(1.6e-19,'C')\n",
    "deltaphi = AssignQuantity(0.1,'V')\n",
    "work = 5*Q*deltaphi\n",
    "print(work)\n",
    "work.ito('J')\n",
    "print(work)\n",
    "### END SOLUTION"
   ]
  },
  {
   "cell_type": "markdown",
   "metadata": {
    "nbgrader": {
     "grade": false,
     "grade_id": "cell-2893ecbbf16b6029",
     "locked": true,
     "schema_version": 3,
     "solution": false,
     "task": false
    }
   },
   "source": [
    "### Moving a mole of $H^+$ ions up an electrical potential\n",
    "Suppose the electrical potential of an intermembrane space is 0.17 V greater than that of the matrix, separated by a membrane. Find the electrical work ($w^\\prime$) (not the concentration work) required to move one mole of $H^+(aq)$ from the matrix and into the intermembrane space. Express your answer in kJ."
   ]
  },
  {
   "cell_type": "code",
   "execution_count": 4,
   "metadata": {
    "nbgrader": {
     "grade": true,
     "grade_id": "cell-8b8f6c72533a919e",
     "locked": false,
     "points": 2,
     "schema_version": 3,
     "solution": true,
     "task": false
    }
   },
   "outputs": [
    {
     "name": "stdout",
     "output_type": "stream",
     "text": [
      "16405.0 coulomb * volt\n",
      "16.405 kilojoule\n"
     ]
    }
   ],
   "source": [
    "### BEGIN SOLUTION\n",
    "n = AssignQuantity(1,'mol')\n",
    "F = AssignQuantity(9.65e4,'C/mol')\n",
    "deltaphi = AssignQuantity(0.17,'V')\n",
    "work = n*F*deltaphi\n",
    "print(work)\n",
    "work.ito('kJ')\n",
    "print(work)\n",
    "### END SOLUTION"
   ]
  },
  {
   "cell_type": "markdown",
   "metadata": {
    "nbgrader": {
     "grade": false,
     "grade_id": "cell-17d61544371db575",
     "locked": true,
     "schema_version": 3,
     "solution": false,
     "task": false
    }
   },
   "source": [
    "### Work against a concentration gradient, Part 1: Linear gradient\n",
    "Our theory says that the work done in moving $n$ moles of solute up a concentration gradient parameterized by $c(\\epsilon)$ is given by\n",
    "\n",
    "$$\n",
    "w^\\prime = \\int_0^1 n R T {1 \\over c} {dc \\over d \\epsilon} d\\epsilon \\ \\ \\ \\ (1)\n",
    "$$\n",
    "\n",
    "Suppose a cell transports a mole of $H^+$ ions at $pH$ of $8$ across a membrane into a region having a $pH$ of $7$. Assume, furthermore, that the path these $H^+$ ions take is a linear function of $\\epsilon$, i.e.,\n",
    "\n",
    "$$\n",
    "c(\\epsilon)= c_1+\\epsilon*(c_2-c_1)  \\ \\ \\ \\  (2)\n",
    "$$\n",
    "\n",
    "Your task: using our trapz function as an approximation to Eq. (1), find the work done at physiological temperature."
   ]
  },
  {
   "cell_type": "code",
   "execution_count": 5,
   "metadata": {
    "nbgrader": {
     "grade": true,
     "grade_id": "cell-089fe3c4a3019f24",
     "locked": false,
     "points": 2,
     "schema_version": 3,
     "solution": true,
     "task": false
    }
   },
   "outputs": [
    {
     "name": "stdout",
     "output_type": "stream",
     "text": [
      "mole / liter\n",
      "joule / mole\n",
      "Reversible work for path 2 is 5934.56192100825 joule / mole\n",
      "joule / mole\n"
     ]
    },
    {
     "name": "stderr",
     "output_type": "stream",
     "text": [
      "/usr/local/lib/python3.6/dist-packages/numpy/core/numeric.py:538: UnitStrippedWarning: The unit of the quantity is stripped when downcasting to ndarray.\n",
      "  return array(a, dtype, copy=False, order=order)\n"
     ]
    },
    {
     "data": {
      "image/png": "[encoded data removed]",
      "text/plain": [
       "<Figure size 432x288 with 1 Axes>"
      ]
     },
     "metadata": {
      "needs_background": "light"
     },
     "output_type": "display_data"
    }
   ],
   "source": [
    "# Here we'll use np.linspace to lay out a variable, \"eps\", that runs from zero to one.\n",
    "# We'll use 1000 points for more accuracy in the numerical integration later\n",
    "eps = AssignQuantity(np.linspace(0,1,1000),'dimensionless')\n",
    "\n",
    "# Specify the starting and ending concentrations (c1 and c2) of H+ based on the pH\n",
    "### BEGIN SOLUTION\n",
    "pH1 = 8; c1 = AssignQuantity(10**(-pH1),'mol/L')\n",
    "pH2 = 7; c2 = AssignQuantity(10**(-pH2),'mol/L')\n",
    "### END SOLUTION\n",
    "\n",
    "# Define the concentration as a simple linear path from c1 to c2 (see Eq. (1) above), \n",
    "# and graph the concentration as a function of eps\n",
    "### BEGIN SOLUTION\n",
    "c = c1 + eps*(c2-c1)\n",
    "plt.figure()\n",
    "plt.plot(eps,c,linewidth=2)\n",
    "plt.xlabel(r'$\\varepsilon $')\n",
    "plt.ylabel('[$H^+$]')\n",
    "plt.grid(True)\n",
    "### END SOLUTION\n",
    "\n",
    "# Calculate dc/deps\n",
    "### BEGIN SOLUTION\n",
    "dc_deps = c2-c1\n",
    "print(dc_deps.units)\n",
    "### END SOLUTION\n",
    "\n",
    "# Form the integrand (including dc/deps)\n",
    "### BEGIN SOLUTION\n",
    "integrand = R*T/c*dc_deps\n",
    "print(integrand.units)\n",
    "### END SOLUTION\n",
    "\n",
    "# This integrates using PchemLibrary's trapz (which can handle units!)\n",
    "w = PL.trapz(integrand,eps,AssignQuantity)\n",
    "print(\"Reversible work for path 2 is\", w)\n",
    "\n",
    "# Report the units of the result you just got\n",
    "print(w.units)"
   ]
  },
  {
   "cell_type": "markdown",
   "metadata": {
    "nbgrader": {
     "grade": false,
     "grade_id": "cell-eeeb6a435d7ebf7e",
     "locked": true,
     "schema_version": 3,
     "solution": false,
     "task": false
    }
   },
   "source": [
    "### Work against a concentration gradient, Part 2: Non-linear gradient\n",
    "This is like the previous problem, but we're assuming the concentration of $H^+$ rises as a *nonlinear* function of $\\epsilon$. This can be any function you like, it just has to satisfy the boundary conditions, namely that $c(\\epsilon=0)=10^{-8}$, and $c(\\epsilon=1)=10^{-7}$. Here's one possibility:\n",
    "\n",
    "$$\n",
    "c(\\epsilon)= c_1+\\epsilon^2*(c_2-c_1) \\ \\ \\ \\ (3)\n",
    "$$\n",
    "\n",
    "Your task: using our PchemLibrary's trapz function as an approximation to Eq. (1), find the work done at physiological temperature. Don't forget that $\\dfrac {dc}{d\\varepsilon}$ will have to be modified too.  "
   ]
  },
  {
   "cell_type": "code",
   "execution_count": 6,
   "metadata": {
    "nbgrader": {
     "grade": true,
     "grade_id": "cell-b0bd067f2f377d1d",
     "locked": false,
     "points": 2,
     "schema_version": 3,
     "solution": true,
     "task": false
    }
   },
   "outputs": [
    {
     "name": "stdout",
     "output_type": "stream",
     "text": [
      "Reversible work for path 2 is 5934.540479919866 joule / mole\n",
      "J/mol\n"
     ]
    },
    {
     "data": {
      "image/png": "[encoded data removed]",
      "text/plain": [
       "<Figure size 432x288 with 1 Axes>"
      ]
     },
     "metadata": {
      "needs_background": "light"
     },
     "output_type": "display_data"
    }
   ],
   "source": [
    "### BEGIN SOLUTION\n",
    "\n",
    "# Again, we'll use np.linspace to lay out a variable, \"eps\", that runs from zero to one, 1000 points\n",
    "eps = AssignQuantity(np.linspace(0,1,1000),'dimensionless')\n",
    "\n",
    "# Specify the starting and ending concentrations\n",
    "pH1 = 8; c1 = AssignQuantity(10**(-pH1),'mol/L')\n",
    "pH2 = 7; c2 = AssignQuantity(10**(-pH2),'mol/L')\n",
    "\n",
    "# Define the concentration as a nonlinear path from c1 to c2 (e.g. Eq. (2) above, or your own), and graph it\n",
    "c = c1 + eps**2*(c2-c1)\n",
    "plt.figure()\n",
    "plt.plot(eps,c,linewidth=2)\n",
    "plt.xlabel(r'$\\varepsilon $')\n",
    "plt.ylabel('[$H^+$]')\n",
    "plt.grid(True)\n",
    "\n",
    "# Calculate dc/deps\n",
    "dc_deps = 2*eps*(c2-c1)\n",
    "\n",
    "# Form the integrand (including dc/deps)\n",
    "integrand = R*T/c*dc_deps\n",
    "\n",
    "# Integrate using trapz and report the results\n",
    "w = PL.trapz(integrand,eps,AssignQuantity)\n",
    "print(\"Reversible work for path 2 is\", w)\n",
    "\n",
    "# Report the units of the result you just got\n",
    "print('J/mol')\n",
    "\n",
    "### END SOLUTION"
   ]
  },
  {
   "cell_type": "markdown",
   "metadata": {
    "nbgrader": {
     "grade": false,
     "grade_id": "cell-00bcc8481f3cd47f",
     "locked": true,
     "schema_version": 3,
     "solution": false,
     "task": false
    }
   },
   "source": [
    "### Pause for analysis\n",
    "How well do the two paths agree in terms of the work done? How many significant figures do they agree? What does this tell you about the possible existence of a state function whose changes are given by  $w^\\prime$?"
   ]
  },
  {
   "cell_type": "markdown",
   "metadata": {
    "nbgrader": {
     "grade": true,
     "grade_id": "cell-2a6c34d95ab6413c",
     "locked": false,
     "points": 2,
     "schema_version": 3,
     "solution": true,
     "task": false
    }
   },
   "source": [
    "They agree very well, so path-independent"
   ]
  },
  {
   "cell_type": "markdown",
   "metadata": {
    "nbgrader": {
     "grade": false,
     "grade_id": "cell-dd681d598427be37",
     "locked": true,
     "schema_version": 3,
     "solution": false,
     "task": false
    }
   },
   "source": [
    "### Work against a concentration gradient, Part 3: Analytical solution\n",
    "As a last step, let's compare the results of your numerical integration (using trapz) to analytical results. An easy way to do the latter is to note that we can carry out a change-of-variables transformation of the integral appearing in Eq. (1). \n",
    "\n",
    "Your task: solve this integral analytically (using pen and paper), then use it in the cell below to evaluate the work done. "
   ]
  },
  {
   "cell_type": "code",
   "execution_count": 9,
   "metadata": {
    "nbgrader": {
     "grade": true,
     "grade_id": "cell-8e24a26aedc473ae",
     "locked": false,
     "points": 2,
     "schema_version": 3,
     "solution": true,
     "task": false
    }
   },
   "outputs": [
    {
     "name": "stdout",
     "output_type": "stream",
     "text": [
      "5934.544663577274 joule / mole\n"
     ]
    }
   ],
   "source": [
    "### BEGIN SOLUTION\n",
    "\n",
    "w_analytical = R*T*np.log(c2/c1)\n",
    "print(w_analytical)\n",
    "\n",
    "### END SOLUTION"
   ]
  },
  {
   "cell_type": "markdown",
   "metadata": {
    "nbgrader": {
     "grade": false,
     "grade_id": "cell-23a6eef4aa08a228",
     "locked": true,
     "schema_version": 3,
     "solution": false,
     "task": false
    }
   },
   "source": [
    "### Pause for analysis\n",
    "To how many significant figures do your analytical result agree with your numerical results? "
   ]
  },
  {
   "cell_type": "markdown",
   "metadata": {
    "nbgrader": {
     "grade": true,
     "grade_id": "cell-43f77c75d81e67ec",
     "locked": false,
     "points": 1,
     "schema_version": 3,
     "solution": true,
     "task": false
    }
   },
   "source": [
    "Six sig figs"
   ]
  }
 ],
 "metadata": {
  "celltoolbar": "Create Assignment",
  "kernelspec": {
   "display_name": "Python 3.6",
   "language": "python",
   "name": "python3"
  },
  "language_info": {
   "codemirror_mode": {
    "name": "ipython",
    "version": 3
   },
   "file_extension": ".py",
   "mimetype": "text/x-python",
   "name": "python",
   "nbconvert_exporter": "python",
   "pygments_lexer": "ipython3",
   "version": "3.6.9"
  }
 },
 "nbformat": 4,
 "nbformat_minor": 1
}

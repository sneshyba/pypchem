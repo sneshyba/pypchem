{
 "cells": [
  {
   "cell_type": "markdown",
   "metadata": {
    "nbgrader": {
     "grade": false,
     "grade_id": "cell-e738c8668287b02a",
     "locked": true,
     "schema_version": 3,
     "solution": false,
     "task": false
    }
   },
   "source": [
    "# Visualizing $G(T,P)$\n",
    "### Neshyba, 2021\n",
    "\n",
    "## Introduction\n",
    "Here, we're going to construct $G(T,P)$ for various phases of water. How do we do that? One strategy is by integrating the differential equation of state for the Gibbs energy,\n",
    "\n",
    "$$\n",
    "dG = -S dT + V dP \\ \\ \\ \\ (1)\n",
    "$$\n",
    "\n",
    "That might seem like a lot of work, but we already have a lot of the tools for this: we know how to construct $S(T,P)$ from *its* slopes (see *Cruising through $S(T,P)$*), and we have expressions for the volume of water in its various phases too. And we have code that does the integration over temperature and pressure state space. So why not?\n",
    "\n",
    "## Learning Goals\n",
    "- Gain familiarity with what the Gibbs energy thermodynamic surface looks like in a temperature-pressure state space\n",
    "- Recognize the relationship between the *intersection of Gibbs energy* surfaces (liquid and gas) and the *Clausius-Clapeyron* equation. "
   ]
  },
  {
   "cell_type": "code",
   "execution_count": 1,
   "metadata": {
    "nbgrader": {
     "grade": false,
     "grade_id": "cell-8e8c2cd153b2e3dc",
     "locked": true,
     "schema_version": 3,
     "solution": false,
     "task": false
    }
   },
   "outputs": [
    {
     "name": "stdout",
     "output_type": "stream",
     "text": [
      "Notebook initialized with ipy backend.\n"
     ]
    }
   ],
   "source": [
    "# Import resources\n",
    "import pint; from pint import UnitRegistry; AssignQuantity = UnitRegistry().Quantity\n",
    "import numpy as np\n",
    "import matplotlib.pyplot as plt\n",
    "import PchemLibrary as PL\n",
    "# from mpl_toolkits.mplot3d import axes3d\n",
    "\n",
    "\n",
    "import matplotlib\n",
    "matplotlib.use('Qt5Agg')\n",
    "from mayavi import mlab\n",
    "mlab.init_notebook()"
   ]
  },
  {
   "cell_type": "code",
   "execution_count": 2,
   "metadata": {},
   "outputs": [],
   "source": [
    "%matplotlib notebook"
   ]
  },
  {
   "cell_type": "code",
   "execution_count": 4,
   "metadata": {},
   "outputs": [
    {
     "data": {
      "application/vnd.jupyter.widget-view+json": {
       "model_id": "bcd2cfd49a614d5493583ef0b3784f7b",
       "version_major": 2,
       "version_minor": 0
      },
      "text/plain": [
       "Image(value=b'\\x89PNG\\r\\n\\x1a\\n\\x00\\x00\\x00\\rIHDR\\x00\\x00\\x01\\x90\\x00\\x00\\x01^\\x08\\x02\\x00\\x00\\x00$?\\xde_\\x00\\…"
      ]
     },
     "metadata": {},
     "output_type": "display_data"
    }
   ],
   "source": [
    "x, y, z, value = np.random.random((4, 40))\n",
    "mlab.points3d(x, y, z, value)"
   ]
  },
  {
   "cell_type": "markdown",
   "metadata": {
    "nbgrader": {
     "grade": false,
     "grade_id": "cell-a518b1d966502a55",
     "locked": true,
     "schema_version": 3,
     "solution": false,
     "task": false
    }
   },
   "source": [
    "### T,P state space\n",
    "In the cell below, lay out a T,P state space with the following specifications:\n",
    "\n",
    "- Temperature should run from 273 K to 400 K (and have at least 100 points)\n",
    "- Pressure should runn from 1000 Pa to 200000 Pa (also at least 100 points)\n",
    "\n",
    "Also, attach units to each."
   ]
  },
  {
   "cell_type": "code",
   "execution_count": 5,
   "metadata": {
    "nbgrader": {
     "grade": true,
     "grade_id": "cell-cd28037657cabda3",
     "locked": false,
     "points": 2,
     "schema_version": 3,
     "solution": true,
     "task": false
    }
   },
   "outputs": [],
   "source": [
    "# Laying out the state space\n",
    "### BEGIN SOLUTION\n",
    "Tgrid, Pgrid = PL.Statespace([273,400,100],[1000,200000,101])\n",
    "### END SOLUTION\n",
    "\n",
    "# Attach units to Tgrid (K) and Pgrid (Pa)\n",
    "### BEGIN SOLUTION\n",
    "Pgrid = AssignQuantity(Pgrid,'Pa')\n",
    "Tgrid = AssignQuantity(Tgrid,'K')\n",
    "### END SOLUTION"
   ]
  },
  {
   "cell_type": "markdown",
   "metadata": {
    "nbgrader": {
     "grade": false,
     "grade_id": "cell-85dd588279a3c9cd",
     "locked": true,
     "schema_version": 3,
     "solution": false,
     "task": false
    }
   },
   "source": [
    "### Some general-purpose constants\n",
    "Values in the cell below correspond to \"standard state\" conditions."
   ]
  },
  {
   "cell_type": "code",
   "execution_count": 6,
   "metadata": {
    "nbgrader": {
     "grade": false,
     "grade_id": "cell-1b9be137a7bdc622",
     "locked": true,
     "schema_version": 3,
     "solution": false,
     "task": false
    }
   },
   "outputs": [],
   "source": [
    "# Gas constant in SI units\n",
    "R = AssignQuantity(8.314,'J /mol/K')\n",
    "\n",
    "# Standard state conditions, in SI units\n",
    "T0 = AssignQuantity(298,'K')\n",
    "P0 = AssignQuantity(1e5,'pascal')"
   ]
  },
  {
   "cell_type": "markdown",
   "metadata": {
    "nbgrader": {
     "grade": false,
     "grade_id": "cell-dcc9d968b96409eb",
     "locked": true,
     "schema_version": 3,
     "solution": false,
     "task": false
    }
   },
   "source": [
    "### Constants pertaining to water\n",
    "The following cell provides constants for three phases of water - See https://webbook.nist.gov/chemistry/name-ser/ for standard-state entropy values. "
   ]
  },
  {
   "cell_type": "code",
   "execution_count": 7,
   "metadata": {
    "nbgrader": {
     "grade": false,
     "grade_id": "cell-72eafca370b9b281",
     "locked": true,
     "schema_version": 3,
     "solution": false,
     "task": false
    }
   },
   "outputs": [],
   "source": [
    "# Some SI units related to entropy\n",
    "EUnits = 'J/K/mol'\n",
    "dSdTUnits = 'J / kelvin^2 /mole'\n",
    "dSdPUnits = 'meter ** 3 / kelvin / mole'\n",
    "EnergyUnits = 'J/mol'\n",
    "\n",
    "# Molar mass of water\n",
    "M = AssignQuantity(0.018,'kg/mol')\n",
    "\n",
    "# Parameters for gaseous water\n",
    "Vgrid_gas = R*Tgrid/Pgrid\n",
    "CP_gas = AssignQuantity(33.6,EUnits)\n",
    "SS_gas = [T0,P0,AssignQuantity(188.835,EUnits)] # The standard state entropy\n",
    "GS_gas = [T0,P0,AssignQuantity(-228600,'J/mol')] # The standard state Gibbs energy\n",
    "\n",
    "# Parameters for liquid water\n",
    "Vgrid_liq = AssignQuantity(18e-6,'m^3 /mol')*np.ones(np.shape(Pgrid)) # Molar volume, as a state-space grid\n",
    "alpha_P_liq = AssignQuantity(2.1e-4,'1/K') # Thermal expansivity\n",
    "CP_liq = AssignQuantity(75.4,EUnits) # Heat capacity\n",
    "SS_liq = [T0,P0,AssignQuantity(69.95,EUnits)] # The standard state entropy\n",
    "GS_liq = [T0,P0,AssignQuantity(-237100,EnergyUnits)] # The standard state Gibbs energy"
   ]
  },
  {
   "cell_type": "markdown",
   "metadata": {
    "nbgrader": {
     "grade": false,
     "grade_id": "cell-35d28110f5319ccb",
     "locked": true,
     "schema_version": 3,
     "solution": false,
     "task": false
    }
   },
   "source": [
    "### Calculating $\\big (\\partial S/ \\partial T \\big )_P$ for gaseous and liquid water\n",
    "Below, calculate $\\big (\\partial S_{gas}/ \\partial T \\big )_P$ and $\\big (\\partial S_{liq}/ \\partial T \\big )_P$.\n",
    "\n",
    "Hint: See Eq. (2) in *Cruising through $S(T,P)$*."
   ]
  },
  {
   "cell_type": "code",
   "execution_count": 8,
   "metadata": {
    "nbgrader": {
     "grade": true,
     "grade_id": "cell-a978fba9410c720a",
     "locked": false,
     "points": 2,
     "schema_version": 3,
     "solution": true,
     "task": false
    },
    "scrolled": false
   },
   "outputs": [],
   "source": [
    "# dSdT for the gas; call the result dSdT_gas\n",
    "### BEGIN SOLUTION\n",
    "dSdT_gas = CP_gas/Tgrid\n",
    "### END SOLUTION\n",
    "\n",
    "# dSdT for the liquid; call the result dSdT_liq\n",
    "### BEGIN SOLUTION\n",
    "dSdT_liq = CP_liq/Tgrid\n",
    "### END SOLUTION"
   ]
  },
  {
   "cell_type": "markdown",
   "metadata": {
    "nbgrader": {
     "grade": false,
     "grade_id": "cell-bea50aed374208df",
     "locked": true,
     "schema_version": 3,
     "solution": false,
     "task": false
    }
   },
   "source": [
    "### Calculating $\\big (\\partial S/ \\partial P \\big )_T$  for gaseous and liquid water\n",
    "Below, calculate $\\big (\\partial S_{gas}/ \\partial P \\big )_T$ and $\\big (\\partial S_{liq}/ \\partial P \\big )_T$.\n",
    "\n",
    "Hint: See Eqs. (3)-(5) in *Cruising through $S(T,P)$*."
   ]
  },
  {
   "cell_type": "code",
   "execution_count": 9,
   "metadata": {
    "nbgrader": {
     "grade": true,
     "grade_id": "cell-074f1d2df386f335",
     "locked": false,
     "points": 2,
     "schema_version": 3,
     "solution": true,
     "task": false
    }
   },
   "outputs": [],
   "source": [
    "# dSdP for the gas; call the result dSdP_gas\n",
    "### BEGIN SOLUTION\n",
    "dSdP_gas = -R/Pgrid\n",
    "### END SOLUTION\n",
    "\n",
    "# dSdP for the liquid; call the result dSdP_liq\n",
    "### BEGIN SOLUTION\n",
    "dSdP_liq = -Vgrid_liq*alpha_P_liq\n",
    "### END SOLUTION"
   ]
  },
  {
   "cell_type": "markdown",
   "metadata": {
    "nbgrader": {
     "grade": false,
     "grade_id": "cell-67efe7781d9c37ba",
     "locked": true,
     "schema_version": 3,
     "solution": false,
     "task": false
    }
   },
   "source": [
    "### Integrating the differential equation of state for entropy\n",
    "Below, we use the same state-space integrator we used in *Cruising through $S(T,P)$*) to calculate and display the entropy of water."
   ]
  },
  {
   "cell_type": "code",
   "execution_count": 10,
   "metadata": {
    "nbgrader": {
     "grade": false,
     "grade_id": "cell-e8013f91c23f9c41",
     "locked": true,
     "schema_version": 3,
     "solution": false,
     "task": false
    },
    "scrolled": false
   },
   "outputs": [
    {
     "name": "stdout",
     "output_type": "stream",
     "text": [
      "Assigning units: J/K/mol\n",
      "Assigning units: J/K/mol\n"
     ]
    },
    {
     "name": "stderr",
     "output_type": "stream",
     "text": [
      "/Users/nesh/Documents/Repositories/pypchem/Thermo 2022 (Neshyba)/Week_12a.VisualizingG/PchemLibrary.py:136: UnitStrippedWarning: The unit of the quantity is stripped when downcasting to ndarray.\n",
      "  Fgrid[i,:] = integral_along_y\n",
      "/Users/nesh/opt/anaconda3/lib/python3.9/site-packages/numpy/core/_asarray.py:102: UnitStrippedWarning: The unit of the quantity is stripped when downcasting to ndarray.\n",
      "  return array(a, dtype, copy=False, order=order)\n",
      "/Users/nesh/opt/anaconda3/lib/python3.9/site-packages/scipy/interpolate/fitpack2.py:1345: UnitStrippedWarning: The unit of the quantity is stripped when downcasting to ndarray.\n",
      "  nx, tx, ny, ty, c, fp, ier = dfitpack.regrid_smth(x, y, z, xb, xe, yb,\n"
     ]
    }
   ],
   "source": [
    "# Calculate the entropy of the gas, liquid, and solid as thermodynamic surfaces\n",
    "S_gas = PL.Integrator([Tgrid, Pgrid], dSdT_gas, dSdP_gas, AssignQuantity, Units=EUnits, SState=SS_gas)\n",
    "S_liq = PL.Integrator([Tgrid, Pgrid], dSdT_liq, dSdP_liq, AssignQuantity, Units=EUnits, SState=SS_liq)"
   ]
  },
  {
   "cell_type": "markdown",
   "metadata": {
    "nbgrader": {
     "grade": false,
     "grade_id": "cell-2481ac2c2c848d50",
     "locked": true,
     "schema_version": 3,
     "solution": false,
     "task": false
    }
   },
   "source": [
    "### Integrating the differential equation of state for the Gibbs energy\n",
    "In the cell below, we calculate the $G(T,P)$ thermodynamic surface of water vapor by integrating $dG = -S_{gas}dT+V_{gas}dP$."
   ]
  },
  {
   "cell_type": "code",
   "execution_count": 11,
   "metadata": {
    "nbgrader": {
     "grade": false,
     "grade_id": "cell-a99b36737c6a7ad1",
     "locked": true,
     "schema_version": 3,
     "solution": false,
     "task": false
    }
   },
   "outputs": [
    {
     "name": "stdout",
     "output_type": "stream",
     "text": [
      "Assigning units: J/mol\n"
     ]
    }
   ],
   "source": [
    "G_gas = PL.Integrator([Tgrid, Pgrid], -S_gas, Vgrid_gas, AssignQuantity, Units=EnergyUnits, SState=GS_gas)"
   ]
  },
  {
   "cell_type": "markdown",
   "metadata": {
    "nbgrader": {
     "grade": false,
     "grade_id": "cell-10595d5c6153298b",
     "locked": true,
     "schema_version": 3,
     "solution": false,
     "task": false
    }
   },
   "source": [
    "### Your turn: Calculating $G(T,P)$ for the liquid\n",
    "In the cell below, calculate $G(T,P)$ of liquid water by integrating $dG = -S_{liq}dT+V_{liq}dP$. Don't forget to specify the standard-state Gibbs energy of the liquid!"
   ]
  },
  {
   "cell_type": "code",
   "execution_count": 12,
   "metadata": {
    "nbgrader": {
     "grade": true,
     "grade_id": "cell-76731795f88dcbd7",
     "locked": false,
     "points": 2,
     "schema_version": 3,
     "solution": true,
     "task": false
    }
   },
   "outputs": [
    {
     "name": "stdout",
     "output_type": "stream",
     "text": [
      "Assigning units: J/mol\n"
     ]
    }
   ],
   "source": [
    "### BEGIN SOLUTION\n",
    "G_liq = PL.Integrator([Tgrid, Pgrid], -S_liq, Vgrid_liq, AssignQuantity, Units=EnergyUnits, SState=GS_liq)\n",
    "### END SOLUTION"
   ]
  },
  {
   "cell_type": "markdown",
   "metadata": {
    "nbgrader": {
     "grade": false,
     "grade_id": "cell-9344ecd9255bc5ed",
     "locked": true,
     "schema_version": 3,
     "solution": false,
     "task": false
    }
   },
   "source": [
    "### Visualizing $G(T,P)$\n"
   ]
  },
  {
   "cell_type": "code",
   "execution_count": 51,
   "metadata": {},
   "outputs": [
    {
     "name": "stdout",
     "output_type": "stream",
     "text": [
      "36873.32699733379\n",
      "36.87332699733088\n"
     ]
    }
   ],
   "source": [
    "offset = np.min(G_gas.magnitude)\n",
    "difference = np.max(G_gas.magnitude) - np.min(G_gas.magnitude); print(difference)\n",
    "\n",
    "test = (G_gas.magnitude-offset)*1.001 - (G_gas.magnitude-offset)\n",
    "difference = np.max(test) - np.min(test); print(difference)"
   ]
  },
  {
   "cell_type": "code",
   "execution_count": 55,
   "metadata": {
    "nbgrader": {
     "grade": false,
     "grade_id": "cell-32a924b3eb1bd302",
     "locked": true,
     "schema_version": 3,
     "solution": false,
     "task": false
    }
   },
   "outputs": [
    {
     "data": {
      "application/vnd.jupyter.widget-view+json": {
       "model_id": "9398d84b4dc444f5966db68ccd6cdbff",
       "version_major": 2,
       "version_minor": 0
      },
      "text/plain": [
       "Image(value=b'\\x89PNG\\r\\n\\x1a\\n\\x00\\x00\\x00\\rIHDR\\x00\\x00\\x01\\x90\\x00\\x00\\x01^\\x08\\x02\\x00\\x00\\x00$?\\xde_\\x00\\…"
      ]
     },
     "metadata": {},
     "output_type": "display_data"
    }
   ],
   "source": [
    "# Set limits\n",
    "myzlim = [-260000, -220000]\n",
    "\n",
    "# Plot the gas' G\n",
    "# mlab.figure()\n",
    "# mlab.surf(Tgrid.magnitude, Pgrid.magnitude, G_gas.magnitude, warp_scale='auto')\n",
    "# # ax = PL.plot_surface(Tgrid, Pgrid, G_gas, color='gray')\n",
    "# # ax.set_xlabel(str(Tgrid.units))\n",
    "# # ax.set_ylabel(str(Pgrid.units))\n",
    "# # ax.set_zlabel(str(G_gas.units))\n",
    "# # ax.set_zlim(myzlim)\n",
    "# # ax.set_title('G (gas)')\n",
    "\n",
    "#  # Plot the liquid's G\n",
    "# mlab.figure()\n",
    "# mlab.surf(Tgrid.magnitude, Pgrid.magnitude, G_liq.magnitude, warp_scale='auto')\n",
    "# # ax = PL.plot_surface(Tgrid, Pgrid, G_liq, color='blue')\n",
    "# # ax.set_xlabel(str(Tgrid.units))\n",
    "# # ax.set_ylabel(str(Pgrid.units))\n",
    "# # ax.set_zlabel(str(G_liq.units))\n",
    "# # ax.set_zlim(myzlim)\n",
    "# # ax.set_title('G (blue)')\n",
    "\n",
    "# Plot them together\n",
    "mlab.figure()\n",
    "# mlab.surf(Tgrid.magnitude, Pgrid.magnitude, G_gas.magnitude, warp_scale='auto')\n",
    "mlab.surf(Tgrid.magnitude, Pgrid.magnitude, G_gas.magnitude-offset, warp_scale='auto')\n",
    "mlab.surf(Tgrid.magnitude, Pgrid.magnitude, (G_gas.magnitude-offset)*1.001, warp_scale='auto')\n",
    "# ax = PL.plot_surface(Tgrid, Pgrid, G_gas, color='gray')\n",
    "# ax = PL.plot_surface(Tgrid, Pgrid, G_liq, color='blue', overlay=True,ax=ax)\n",
    "# ax.set_xlabel(str(Tgrid.units))\n",
    "# ax.set_ylabel(str(Pgrid.units))\n",
    "# ax.set_zlabel(str(G_liq.units))\n",
    "# ax.set_zlim(myzlim)\n",
    "# ax.set_title('G (liq=blue, gas=gray)')"
   ]
  },
  {
   "cell_type": "code",
   "execution_count": null,
   "metadata": {
    "nbgrader": {
     "grade": false,
     "grade_id": "cell-32a924b3eb1bd302b",
     "locked": true,
     "schema_version": 3,
     "solution": false,
     "task": false
    },
    "scrolled": false
   },
   "outputs": [],
   "source": [
    "# This gets the locus of points where they intersect\n",
    "G_diff2 = (G_gas-G_liq)**2\n",
    "Temperatures = Tgrid[:,0]\n",
    "iPlist = []\n",
    "for i in range(len(Temperatures)):\n",
    "    iP = np.argmin(G_diff2[i,:])\n",
    "    iPlist.append(iP)\n",
    "Pressures = AssignQuantity([],'pascal')\n",
    "Gvals = AssignQuantity([],'joule/mol')\n",
    "for i in range(len(Temperatures)):\n",
    "    j = iPlist[i]\n",
    "    Pressures = np.append(Pressures,Pgrid[0,j])\n",
    "    Gvals = np.append(Gvals,G_gas[i,j])\n",
    "\n",
    "# This makes a 2d plot    \n",
    "plt.figure()\n",
    "plt.plot(Temperatures,Pressures,color='black')\n",
    "plt.xlabel('Temperature')\n",
    "plt.ylabel('Pressure')\n",
    "plt.grid(True)"
   ]
  },
  {
   "cell_type": "markdown",
   "metadata": {
    "nbgrader": {
     "grade": false,
     "grade_id": "cell-23861d197776bc1f",
     "locked": true,
     "schema_version": 3,
     "solution": false,
     "task": false
    }
   },
   "source": [
    "### Pause for analysis\n",
    "The last graph displayed above shows the locus of points (pressure and temperature) at which the Gibbs energy of the gas equals that of the liquid. What you see should look a lot like the Clausius-Clapeyron equation results for gas/liquid equilibria!"
   ]
  }
 ],
 "metadata": {
  "celltoolbar": "Create Assignment",
  "kernelspec": {
   "display_name": "Python 3 (ipykernel)",
   "language": "python",
   "name": "python3"
  },
  "language_info": {
   "codemirror_mode": {
    "name": "ipython",
    "version": 3
   },
   "file_extension": ".py",
   "mimetype": "text/x-python",
   "name": "python",
   "nbconvert_exporter": "python",
   "pygments_lexer": "ipython3",
   "version": "3.9.7"
  }
 },
 "nbformat": 4,
 "nbformat_minor": 2
}

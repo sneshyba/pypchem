{
 "cells": [
  {
   "cell_type": "markdown",
   "metadata": {
    "nbgrader": {
     "grade": false,
     "grade_id": "cell-6e498d8972a2d017",
     "locked": true,
     "schema_version": 3,
     "solution": false,
     "task": false
    }
   },
   "source": [
    "# Phase equilibria\n",
    "\n",
    "## Introduction\n",
    "\n",
    "### Phase diagrams and the Clapeyron equation\n",
    "Figure 1 shows how the pressure along a phase boundary varies with a change in temperature, in accordance with the Clapeyron equation. \n",
    "\n",
    "<p style='text-align: center;'>\n",
    "<img src=\"Clapeyron.png\" height=\"500\" width=\"500\"/>\n",
    "\n",
    "__Figure 1__. Phase diagram of water and differential forms of the Clapeyron equation.  \n",
    "</p>\n",
    "\n",
    "### Integrated forms of the Clapeyron equation: Thomson and Clausius-Clapeyron\n",
    "Integrating these equations takes two forms. One is known as the *Thomson equation*,\n",
    "\n",
    "$$\n",
    "P = P_3 + \\frac {\\Delta H_{fus}} {\\Delta V_{fus}} ln( \\frac T {T_3}) \\ \\ \\ \\ (1)\n",
    "$$\n",
    "\n",
    "where $T_3$ and $P_3$ indicate the *triple point*; we should note that this is an arbitrary choice; $T_3$ and $P_3$ could be replaced by any point on the phase boundary. Another form is the *Clausius-Clapeyron equation*, \n",
    "\n",
    "$$\n",
    "P = P_3 \\ exp \\big (-\\frac {\\Delta H_{vap}}{nR} (\\frac 1 T - \\frac 1 {T_3}) \\big ) \\ \\ \\ \\ (2)\n",
    "$$\n",
    "\n",
    "which works for the liquid-vapor phase boundary. The same form, but with a different enthalpy term is \n",
    "\n",
    "$$\n",
    "P = P_3 \\ exp \\big (-\\frac {\\Delta H_{sub}}{nR} (\\frac 1 T - \\frac 1 {T_3}) \\big ) \\ \\ \\ \\ (3)\n",
    "$$\n",
    "\n",
    "which works for the solid-vapor phase boundary.\n",
    "\n",
    "### Semi-log plots\n",
    "One more note about this -- many times, the pressures one is interested in looking at spans such a large range, that a *semi-log* plot is used (linear in temperature, logarithmic in pressure).\n",
    "\n",
    "\n",
    "### Learning goals\n",
    "- Develop hands-on experience with using the Clausius-Clapeyron and Thomson equations\n",
    "- Gain some experience with semi-log plotting\n"
   ]
  },
  {
   "cell_type": "code",
   "execution_count": 1,
   "metadata": {
    "nbgrader": {
     "grade": false,
     "grade_id": "cell-3b9b61d2eaee70dc",
     "locked": true,
     "schema_version": 3,
     "solution": false,
     "task": false
    }
   },
   "outputs": [],
   "source": [
    "# Import resources - execute 2x if you want interactive graphics\n",
    "import pint; from pint import UnitRegistry; AssignQuantity = UnitRegistry().Quantity\n",
    "import numpy as np\n",
    "import matplotlib.pyplot as plt\n",
    "import PchemLibrary as PL\n",
    "from mpl_toolkits.mplot3d import axes3d\n",
    "%matplotlib notebook"
   ]
  },
  {
   "cell_type": "code",
   "execution_count": 2,
   "metadata": {
    "nbgrader": {
     "grade": false,
     "grade_id": "cell-98c0cbf3a766d642",
     "locked": true,
     "schema_version": 3,
     "solution": false,
     "task": false
    }
   },
   "outputs": [
    {
     "name": "stdout",
     "output_type": "stream",
     "text": [
      "8.314 joule / kelvin / mole\n",
      "273.16 kelvin\n",
      "612 pascal\n"
     ]
    }
   ],
   "source": [
    "# Gas constant in SI units\n",
    "R = AssignQuantity(8.314,'J/mol/K'); print(R)\n",
    "\n",
    "# Triple point of water\n",
    "T3 = AssignQuantity(273.16,'K'); print(T3)\n",
    "P3 = AssignQuantity(612,'Pa'); print(P3)\n",
    "\n",
    "# Molar mass of water\n",
    "M = AssignQuantity(18,'g/mol')"
   ]
  },
  {
   "cell_type": "markdown",
   "metadata": {
    "nbgrader": {
     "grade": false,
     "grade_id": "cell-4df1a7046ab357dd",
     "locked": true,
     "schema_version": 3,
     "solution": false,
     "task": false
    }
   },
   "source": [
    "### Define the Thomson function\n",
    "Below, we've defined a function that calculates a solid-liquid phase boundary. Input arguments are as follows:\n",
    "\n",
    "- T, the temperature you want to integrate *to*\n",
    "- T3, the triple point temperature\n",
    "- P3, the triple point pressure\n",
    "- DH, the enthalpy of fusion\n",
    "- DV, the change in volume (liquid minus solid)\n",
    "- R, the gas constant\n",
    "- AssignQuantity (our unit registry function)\n",
    "\n",
    "This function returns arrays of values (temperature and pressure) along the solid-liquid phase boundary."
   ]
  },
  {
   "cell_type": "code",
   "execution_count": 3,
   "metadata": {
    "nbgrader": {
     "grade": false,
     "grade_id": "cell-6e197fec35d86381",
     "locked": true,
     "schema_version": 3,
     "solution": false,
     "task": false
    }
   },
   "outputs": [],
   "source": [
    "def Thomson(T,T3,P3,DH,DV,R,AssignQuantity):\n",
    "    T_array = AssignQuantity(np.linspace(T3,T),T.units)\n",
    "    DH_over_DV = DH/DV\n",
    "    DH_over_DV.ito('pascal')\n",
    "    P_array = P3 + DH_over_DV*np.log(T_array/T3)\n",
    "    print('Units of resulting temperature:', T_array.units)\n",
    "    print('Units of resulting pressure:', P_array.units)\n",
    "    return T_array, P_array"
   ]
  },
  {
   "cell_type": "markdown",
   "metadata": {
    "nbgrader": {
     "grade": false,
     "grade_id": "cell-c43ba9e288155480",
     "locked": true,
     "schema_version": 3,
     "solution": false,
     "task": false
    }
   },
   "source": [
    "### Solid -> liquid phase boundary using Thomson\n",
    "In the cell below, supply the missing ingredients."
   ]
  },
  {
   "cell_type": "code",
   "execution_count": 4,
   "metadata": {
    "nbgrader": {
     "grade": true,
     "grade_id": "cell-961b409e2273d7a6",
     "locked": false,
     "points": 2,
     "schema_version": 3,
     "solution": true,
     "task": false
    },
    "scrolled": false
   },
   "outputs": [
    {
     "name": "stdout",
     "output_type": "stream",
     "text": [
      "Molar volume of liquid: 18 centimeter ** 3 / mole\n",
      "Molar volume of liquid in SI units: 1.8000000000000004e-05 meter ** 3 / mole\n",
      "Molar volume of solid in SI units: 1.9800000000000007e-05 meter ** 3 / mole\n",
      "Molar volume difference: -1.800000000000003e-06 meter ** 3 / mole\n",
      "Units of resulting temperature: kelvin\n",
      "Units of resulting pressure: pascal\n"
     ]
    },
    {
     "name": "stderr",
     "output_type": "stream",
     "text": [
      "/usr/local/lib/python3.6/dist-packages/numpy/core/numeric.py:591: UnitStrippedWarning: The unit of the quantity is stripped when downcasting to ndarray.\n",
      "  return array(a, dtype, copy=False, order=order, subok=True)\n",
      "/usr/local/lib/python3.6/dist-packages/numpy/core/numeric.py:538: UnitStrippedWarning: The unit of the quantity is stripped when downcasting to ndarray.\n",
      "  return array(a, dtype, copy=False, order=order)\n"
     ]
    },
    {
     "data": {
      "text/plain": [
       "<matplotlib.legend.Legend at 0x7f88cd03b940>"
      ]
     },
     "execution_count": 4,
     "metadata": {},
     "output_type": "execute_result"
    },
    {
     "data": {
      "image/png": "[encoded data removed]",
      "text/plain": [
       "<Figure size 432x288 with 1 Axes>"
      ]
     },
     "metadata": {
      "needs_background": "light"
     },
     "output_type": "display_data"
    }
   ],
   "source": [
    "# Specify the temperature we want to integrate to, in units K\n",
    "T = AssignQuantity(268,'K')\n",
    "\n",
    "# Specify the enthalpy of fusion (we'll just assume the standard value at 298 K, 6 kJ/mol)\n",
    "### BEGIN SOLUTION\n",
    "DHfus = AssignQuantity(6,'kJ/mol')\n",
    "### END SOLUTION\n",
    "\n",
    "# Specify the volume of liquid water, 1 cm^3/g\n",
    "V_liq_pergram = AssignQuantity(1,'cm^3/g') # 1 gram water has a volume of 1 cm^3\n",
    "\n",
    "# Convert V_liq_pergram to cm^3/mol by multiplying by the molar mass of water; call the result V_liq\n",
    "### BEGIN SOLUTION\n",
    "V_liq = V_liq_pergram*M; print('Molar volume of liquid:', V_liq)\n",
    "### END SOLUTION\n",
    "\n",
    "# Convert V_liq to SI (m^3/mol)\n",
    "### BEGIN SOLUTION\n",
    "V_liq.ito('m^3/mol'); print('Molar volume of liquid in SI units:', V_liq)\n",
    "### END SOLUTION\n",
    "\n",
    "# Estimate the volume of ice as 10% more than that of liquid\n",
    "V_sol = V_liq*1.1; print('Molar volume of solid in SI units:', V_sol)\n",
    "\n",
    "# Get the change in volume (liquid minus solid); call the result DVfus\n",
    "### BEGIN SOLUTION\n",
    "DVfus = V_liq-V_sol; print('Molar volume difference:', DVfus)\n",
    "### END SOLUTION\n",
    "\n",
    "# Call Thompson\n",
    "T_sl, P_sl = Thomson(T,T3,P3,DHfus,DVfus,R,AssignQuantity)\n",
    "\n",
    "# Plot the solid->liquid phase boundary\n",
    "plt.figure()\n",
    "plt.plot(T_sl,P_sl,color='blue',label='solid-liquid')\n",
    "plt.grid(True)\n",
    "plt.xlabel('T ('+str(T_sl.units)+')')\n",
    "plt.ylabel('P ('+str(P_sl.units)+')')\n",
    "plt.legend()"
   ]
  },
  {
   "cell_type": "markdown",
   "metadata": {
    "nbgrader": {
     "grade": false,
     "grade_id": "cell-2cfe67c7e5a2b020",
     "locked": true,
     "schema_version": 3,
     "solution": false,
     "task": false
    }
   },
   "source": [
    "### Define the Clausius-Clapeyron function\n",
    "Your task below is to finish the definition of the Clausius-Clapeyron equation. Input arguments are as follows:\n",
    "\n",
    "- T, the temperature you want to integrate *to*\n",
    "- T3, the triple point temperature\n",
    "- P3, the triple point pressure\n",
    "- DH, the enthalpy of sublimation or vaporization\n",
    "- R, the gas constant\n",
    "- AssignQuantity (our unit registry function)\n",
    "\n",
    "This function shoud return arrays of values (temperature and pressure) along a solid-vapor or liquid-vapor phase boundary."
   ]
  },
  {
   "cell_type": "code",
   "execution_count": 5,
   "metadata": {
    "nbgrader": {
     "grade": true,
     "grade_id": "cell-0a1cad203df65bf0",
     "locked": false,
     "points": 4,
     "schema_version": 3,
     "solution": true,
     "task": false
    }
   },
   "outputs": [],
   "source": [
    "def Clausius_Clapeyron(T,T3,P3,DH,R,AssignQuantity):\n",
    "    \n",
    "### BEGIN SOLUTION\n",
    "    T_array = AssignQuantity(np.linspace(T3,T),T.units)\n",
    "    R.ito('J/mol/K')\n",
    "    DH.ito('J/mol')\n",
    "    P_array = P3*np.exp(-DH/R*(1/T_array-1/T3))\n",
    "    print('Units of resulting temperature:', T_array.units)\n",
    "    print('Units of resulting pressure:', P_array.units)\n",
    "### END SOLUTION\n",
    "\n",
    "    return T_array, P_array"
   ]
  },
  {
   "cell_type": "markdown",
   "metadata": {
    "nbgrader": {
     "grade": false,
     "grade_id": "cell-494915560aeca186",
     "locked": true,
     "schema_version": 3,
     "solution": false,
     "task": false
    }
   },
   "source": [
    "### Liquid -> vapor phase boundary using Clausius-Clapeyron\n",
    "The cell below uses the Clausius_Clapeyron to compute the liquid-vapor phase boundary. Then it plots those points, along with the solid-liquid phase boundary."
   ]
  },
  {
   "cell_type": "code",
   "execution_count": 6,
   "metadata": {
    "nbgrader": {
     "grade": false,
     "grade_id": "cell-54e33bc937461fe8",
     "locked": true,
     "schema_version": 3,
     "solution": false,
     "task": false
    }
   },
   "outputs": [
    {
     "name": "stdout",
     "output_type": "stream",
     "text": [
      "Units of resulting temperature: kelvin\n",
      "Units of resulting pressure: pascal\n"
     ]
    },
    {
     "data": {
      "text/plain": [
       "<matplotlib.legend.Legend at 0x7f88cd0045c0>"
      ]
     },
     "execution_count": 6,
     "metadata": {},
     "output_type": "execute_result"
    },
    {
     "data": {
      "image/png": "[encoded data removed]",
      "text/plain": [
       "<Figure size 432x288 with 1 Axes>"
      ]
     },
     "metadata": {
      "needs_background": "light"
     },
     "output_type": "display_data"
    }
   ],
   "source": [
    "# Specify the temperature we want to integrate to\n",
    "T = AssignQuantity(278,'K')\n",
    "\n",
    "# Get the enthalpy of vaporization (liq->vapor) (we'll just assume the standard value at 298 K)\n",
    "DHvap = AssignQuantity(44,'kJ/mol')\n",
    "\n",
    "# Call Clausius_Clapeyron\n",
    "T_lv, P_lv = Clausius_Clapeyron(T,T3,P3,DHvap,R,AssignQuantity)\n",
    "\n",
    "# Plot the liquid->vapor phase boundary along with the solid->liquid one\n",
    "plt.figure()\n",
    "plt.plot(T_sl,P_sl,color='blue',label='solid-liquid')\n",
    "plt.plot(T_lv,P_lv,color='green',label='liq-vapor')\n",
    "plt.grid(True)\n",
    "plt.xlabel('T ('+str(T_lv.units)+')')\n",
    "plt.ylabel('P ('+str(P_lv.units)+')')\n",
    "plt.legend()"
   ]
  },
  {
   "cell_type": "markdown",
   "metadata": {
    "nbgrader": {
     "grade": false,
     "grade_id": "cell-8e9199ccbac4aa2b",
     "locked": true,
     "schema_version": 3,
     "solution": false,
     "task": false
    }
   },
   "source": [
    "### Solid -> vapor phase boundary using Clausius-Clapeyron\n",
    "In the cell below, use the Clausius_Clapeyron to compute the solid-vapor phase boundary. Then plot those points along with the solid-liquid and liquid-vapor phase boundaries."
   ]
  },
  {
   "cell_type": "code",
   "execution_count": 7,
   "metadata": {
    "nbgrader": {
     "grade": true,
     "grade_id": "cell-d9219c8e96d1b1be",
     "locked": false,
     "points": 2,
     "schema_version": 3,
     "solution": true,
     "task": false
    }
   },
   "outputs": [
    {
     "name": "stdout",
     "output_type": "stream",
     "text": [
      "Units of resulting temperature: kelvin\n",
      "Units of resulting pressure: pascal\n"
     ]
    },
    {
     "data": {
      "text/plain": [
       "<matplotlib.legend.Legend at 0x7f88ccf68eb8>"
      ]
     },
     "execution_count": 7,
     "metadata": {},
     "output_type": "execute_result"
    },
    {
     "data": {
      "image/png": "[encoded data removed]",
      "text/plain": [
       "<Figure size 432x288 with 1 Axes>"
      ]
     },
     "metadata": {
      "needs_background": "light"
     },
     "output_type": "display_data"
    }
   ],
   "source": [
    "### BEGIN SOLUTION\n",
    "\n",
    "# Specify the temperature we want to integrate to\n",
    "T = AssignQuantity(268,'K')\n",
    "\n",
    "# Get the enthalpy of sublimation (we'll just assume the standard value at 298 K)\n",
    "DHsub = AssignQuantity(50,'kJ/mol')\n",
    "\n",
    "# Call Clausius_Clapeyron\n",
    "T_sv, P_sv = Clausius_Clapeyron(T,T3,P3,DHsub,R,AssignQuantity)\n",
    "\n",
    "# Plot the solid-vapor phase boundary along with the liquid-vapor phase boundary\n",
    "plt.figure()\n",
    "plt.plot(T_sl,P_sl,color='blue',label='solid-liquid')\n",
    "plt.plot(T_lv,P_lv,color='green',label='liq-vapor')\n",
    "plt.plot(T_sv,P_sv,color='orange',label='solid-vapor')\n",
    "plt.grid(True)\n",
    "plt.xlabel('T ('+str(T_sv.units)+')')\n",
    "plt.ylabel('P ('+str(P_sv.units)+')')\n",
    "plt.legend()\n",
    "\n",
    "### END SOLUTION"
   ]
  },
  {
   "cell_type": "markdown",
   "metadata": {
    "nbgrader": {
     "grade": false,
     "grade_id": "cell-fc46c2993fe1dca6",
     "locked": true,
     "schema_version": 3,
     "solution": false,
     "task": false
    }
   },
   "source": [
    "### Re-plotting on a semilog (in pressure) scale\n",
    "Copy the plotting commands in your previous cell, but replace every instance of \"plt.plot\" with \"plt.semilogy\"."
   ]
  },
  {
   "cell_type": "code",
   "execution_count": 8,
   "metadata": {
    "nbgrader": {
     "grade": true,
     "grade_id": "cell-c0fc04b3fa01adbd",
     "locked": false,
     "points": 2,
     "schema_version": 3,
     "solution": true,
     "task": false
    }
   },
   "outputs": [
    {
     "data": {
      "text/plain": [
       "<matplotlib.legend.Legend at 0x7f88ccf2d908>"
      ]
     },
     "execution_count": 8,
     "metadata": {},
     "output_type": "execute_result"
    },
    {
     "data": {
      "image/png": "[encoded data removed]",
      "text/plain": [
       "<Figure size 432x288 with 1 Axes>"
      ]
     },
     "metadata": {
      "needs_background": "light"
     },
     "output_type": "display_data"
    }
   ],
   "source": [
    "### BEGIN SOLUTION\n",
    "\n",
    "# Plot the solid-vapor phase boundary along with the liquid-vapor phase boundary\n",
    "plt.figure()\n",
    "plt.semilogy(T_sl,P_sl,color='blue',label='solid-liquid')\n",
    "plt.semilogy(T_lv,P_lv,color='green',label='liq-vapor')\n",
    "plt.semilogy(T_sv,P_sv,color='orange',label='solid-vapor')\n",
    "plt.grid(True)\n",
    "plt.xlabel('T ('+str(T_sv.units)+')')\n",
    "plt.ylabel('P ('+str(P_sv.units)+')')\n",
    "plt.legend()\n",
    "\n",
    "### END SOLUTION"
   ]
  }
 ],
 "metadata": {
  "celltoolbar": "Create Assignment",
  "kernelspec": {
   "display_name": "Python 3.6",
   "language": "python",
   "name": "python3"
  },
  "language_info": {
   "codemirror_mode": {
    "name": "ipython",
    "version": 3
   },
   "file_extension": ".py",
   "mimetype": "text/x-python",
   "name": "python",
   "nbconvert_exporter": "python",
   "pygments_lexer": "ipython3",
   "version": "3.6.9"
  }
 },
 "nbformat": 4,
 "nbformat_minor": 2
}

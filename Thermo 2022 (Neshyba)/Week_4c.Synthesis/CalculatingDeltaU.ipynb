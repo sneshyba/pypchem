{
 "cells": [
  {
   "cell_type": "code",
   "execution_count": 1,
   "metadata": {
    "nbgrader": {
     "grade": false,
     "grade_id": "cell-61ab37bc366e7e0e",
     "locked": true,
     "schema_version": 3,
     "solution": false,
     "task": false
    }
   },
   "outputs": [],
   "source": [
    "# Import resources - execute 2x if you want interactive graphics\n",
    "import pint; from pint import UnitRegistry; AssignQuantity = UnitRegistry().Quantity\n",
    "import numpy as np\n",
    "import matplotlib.pyplot as plt\n",
    "import PchemLibrary as PL\n",
    "from mpl_toolkits.mplot3d import axes3d\n",
    "%matplotlib notebook"
   ]
  },
  {
   "cell_type": "markdown",
   "metadata": {
    "nbgrader": {
     "grade": false,
     "grade_id": "cell-519efe04db98e2c0",
     "locked": true,
     "schema_version": 3,
     "solution": false,
     "task": false
    }
   },
   "source": [
    "For reference:  \n",
    "\n",
    "$U(V,T) = [3/2 RT + f_{rot}(T) + f_{vib}(T) + f_{intermol}(V,T)] \\times n$"
   ]
  },
  {
   "cell_type": "code",
   "execution_count": 2,
   "metadata": {
    "nbgrader": {
     "grade": false,
     "grade_id": "cell-6421e505685c402e",
     "locked": true,
     "schema_version": 3,
     "solution": false,
     "task": false
    }
   },
   "outputs": [],
   "source": [
    "R = AssignQuantity(8.314,'J/mol/K')"
   ]
  },
  {
   "cell_type": "markdown",
   "metadata": {
    "nbgrader": {
     "grade": false,
     "grade_id": "cell-edb59e4354bdb188",
     "locked": true,
     "schema_version": 3,
     "solution": false,
     "task": false
    }
   },
   "source": [
    "Problem 2b. $𝐶_𝑉$ (in units $J/mol K$ ) for $𝑁_2$ gas in the classical limit, assuming it behaves as an ideal gas."
   ]
  },
  {
   "cell_type": "code",
   "execution_count": 3,
   "metadata": {
    "nbgrader": {
     "grade": true,
     "grade_id": "cell-cf8d3a848b781b88",
     "locked": false,
     "points": 2,
     "schema_version": 3,
     "solution": true,
     "task": false
    }
   },
   "outputs": [
    {
     "name": "stdout",
     "output_type": "stream",
     "text": [
      "29.099 joule / kelvin / mole\n"
     ]
    }
   ],
   "source": [
    "### BEGIN SOLUTION\n",
    "C_V = (3/2 + 2/2 + 1)*R\n",
    "print(C_V)\n",
    "### END SOLUTION"
   ]
  },
  {
   "cell_type": "markdown",
   "metadata": {
    "nbgrader": {
     "grade": false,
     "grade_id": "cell-eb4921605ef3dce3",
     "locked": true,
     "schema_version": 3,
     "solution": false,
     "task": false
    }
   },
   "source": [
    "Problem 3. $\\Delta U$ for one mole of $N_2$ gas, vdw, heating it from $T=200$ to $300 \\ K$ at a fixed volume of $0.002 \\ m^3$. Assume the classical limit throughout the process."
   ]
  },
  {
   "cell_type": "code",
   "execution_count": 4,
   "metadata": {
    "nbgrader": {
     "grade": true,
     "grade_id": "cell-18bdc18c4dae6aaf",
     "locked": false,
     "points": 3,
     "schema_version": 3,
     "solution": true,
     "task": false
    }
   },
   "outputs": [
    {
     "name": "stdout",
     "output_type": "stream",
     "text": [
      "First method -- being very careful with units\n",
      "0.13700000000000007 meter ** 6 * pascal / mole ** 2\n",
      "0.002 meter ** 3\n",
      "200 kelvin\n",
      "5751.3 joule\n",
      "300 kelvin\n",
      "8661.2 joule\n",
      "2909.9000000000005 joule\n",
      "2.909900000000001 kilojoule\n",
      "\n",
      "Second method -- being sloppy with units\n",
      "1.37 bar * liter ** 2 / mole ** 2\n",
      "2 liter\n",
      "200 kelvin\n",
      "5751.3 joule\n",
      "300 kelvin\n",
      "8661.2 joule\n",
      "2909.9000000000005 joule\n",
      "2.909900000000001 kilojoule\n"
     ]
    }
   ],
   "source": [
    "### BEGIN SOLUTION\n",
    "n = AssignQuantity(1,'mol')\n",
    "\n",
    "print('First method -- being very careful with units')\n",
    "a = AssignQuantity(1.37,'L^2 bar / mol^2')\n",
    "a.ito('m^6 pascal / mol^2'); print(a)\n",
    "V = AssignQuantity(0.002,'m^3'); print(V)\n",
    "T1 = AssignQuantity(200,'K'); print(T1)\n",
    "U1 = (3/2*R*T1 + 2/2*R*T1 + 1*R*T1 -a*n/V)*n; print(U1)\n",
    "T2 = AssignQuantity(300,'K'); print(T2)\n",
    "U2 = (3/2*R*T2 + 2/2*R*T2 + 1*R*T2 -a*n/V)*n; print(U2)\n",
    "delta_U = U2-U1; print(delta_U)\n",
    "delta_U.ito('kilojoule'); print(delta_U)\n",
    "print('')\n",
    "\n",
    "print('Second method -- being sloppy with units')\n",
    "a = AssignQuantity(1.37,'L^2 bar / mol^2'); print(a)\n",
    "V = AssignQuantity(2,'L'); print(V)\n",
    "T1 = AssignQuantity(200,'K'); print(T1)\n",
    "U1 = (3/2*R*T1 + 2/2*R*T1 + 1*R*T1 -a*n/V)*n; print(U1)\n",
    "T2 = AssignQuantity(300,'K'); print(T2)\n",
    "U2 = (3/2*R*T2 + 2/2*R*T2 + 1*R*T2 -a*n/V)*n; print(U2)\n",
    "delta_U = U2-U1; print(delta_U)\n",
    "delta_U.ito('kilojoule'); print(delta_U)\n",
    "\n",
    "### END SOLUTION"
   ]
  },
  {
   "cell_type": "code",
   "execution_count": null,
   "metadata": {},
   "outputs": [],
   "source": []
  }
 ],
 "metadata": {
  "celltoolbar": "Create Assignment",
  "kernelspec": {
   "display_name": "Python 3.6",
   "language": "python",
   "name": "python3"
  },
  "language_info": {
   "codemirror_mode": {
    "name": "ipython",
    "version": 3
   },
   "file_extension": ".py",
   "mimetype": "text/x-python",
   "name": "python",
   "nbconvert_exporter": "python",
   "pygments_lexer": "ipython3",
   "version": "3.6.9"
  }
 },
 "nbformat": 4,
 "nbformat_minor": 2
}

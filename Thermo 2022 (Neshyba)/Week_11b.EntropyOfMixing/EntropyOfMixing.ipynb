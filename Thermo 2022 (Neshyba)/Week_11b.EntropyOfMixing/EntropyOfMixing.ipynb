{
 "cells": [
  {
   "cell_type": "markdown",
   "metadata": {
    "nbgrader": {
     "grade": false,
     "grade_id": "cell-702df8f53394fbe4",
     "locked": true,
     "schema_version": 3,
     "solution": false,
     "task": false
    }
   },
   "source": [
    "# Entropy of Mixing\n",
    "### Neshyba, 2021\n",
    "\n",
    "## Key equations\n",
    "Key equations for this exercise are:\n",
    "\n",
    "1. The n-C-V (\"moles-concentration-volume) equation,\n",
    "\n",
    "$$\n",
    "n = C \\times V\n",
    "$$\n",
    "\n",
    "2. The dilution equation,\n",
    "\n",
    "$$\n",
    "C_f/C_i = V_i/V_f\n",
    "$$\n",
    "\n",
    "3. The E-ICE (\"equal initial concentrations entropy\") equation, \n",
    "\n",
    "$$\n",
    "\\Delta S = -n_{tot}R \\times [\\chi_A ln(\\chi_A) + \\chi_B ln(\\chi_B) + ...]\n",
    "$$\n",
    "\n",
    "## Learning Goals\n",
    "1. Gain familiarity with basic solution equations involving moles, concentrations, and mole fractions.\n",
    "1. Gain familiarity with how concentrations change with dilution\n",
    "1. Gain familiarity with the entropy changes attending dilution and mixing of solutions "
   ]
  },
  {
   "cell_type": "code",
   "execution_count": 1,
   "metadata": {
    "nbgrader": {
     "grade": false,
     "grade_id": "cell-9d1207df8c39b9cf",
     "locked": true,
     "schema_version": 3,
     "solution": false,
     "task": false
    }
   },
   "outputs": [],
   "source": [
    "# Import resources - execute 2x if you want interactive graphics\n",
    "import pint; from pint import UnitRegistry; AssignQuantity = UnitRegistry().Quantity\n",
    "import numpy as np\n",
    "import matplotlib.pyplot as plt\n",
    "import PchemLibrary as PL\n",
    "from mpl_toolkits.mplot3d import axes3d\n",
    "%matplotlib notebook"
   ]
  },
  {
   "cell_type": "code",
   "execution_count": 2,
   "metadata": {
    "nbgrader": {
     "grade": false,
     "grade_id": "cell-ea90352070a7a85f",
     "locked": true,
     "schema_version": 3,
     "solution": false,
     "task": false
    }
   },
   "outputs": [],
   "source": [
    "R = AssignQuantity(8.314,'J/mol/K')"
   ]
  },
  {
   "cell_type": "markdown",
   "metadata": {
    "nbgrader": {
     "grade": false,
     "grade_id": "cell-044a9aab060fbfe3",
     "locked": true,
     "schema_version": 3,
     "solution": false,
     "task": false
    }
   },
   "source": [
    "### Finding moles\n",
    "Calculate the number of moles of solute in $20 \\ mL$ of a $0.5$ <u>M</u> solution."
   ]
  },
  {
   "cell_type": "code",
   "execution_count": 3,
   "metadata": {
    "nbgrader": {
     "grade": true,
     "grade_id": "cell-0dd3c1706b066aee",
     "locked": false,
     "points": 2,
     "schema_version": 3,
     "solution": true,
     "task": false
    }
   },
   "outputs": [
    {
     "name": "stdout",
     "output_type": "stream",
     "text": [
      "0.01 mole\n"
     ]
    }
   ],
   "source": [
    "### BEGIN SOLUTION\n",
    "C = AssignQuantity(0.5,'mol/L')\n",
    "V = AssignQuantity(20,'mL')\n",
    "V.ito('L')\n",
    "n = C*V\n",
    "print(n)\n",
    "### END SOLUTION"
   ]
  },
  {
   "cell_type": "markdown",
   "metadata": {
    "nbgrader": {
     "grade": false,
     "grade_id": "cell-48d389d44a0ede3c",
     "locked": true,
     "schema_version": 3,
     "solution": false,
     "task": false
    }
   },
   "source": [
    "### Finding the entropy of dilution\n",
    "Calculate the solute concentration after $20 \\ mL$ of a $0.5$ <u>M</u> solution is diluted to $100 \\ mL$. Then calculate the entropy change associated with this dilution."
   ]
  },
  {
   "cell_type": "code",
   "execution_count": 4,
   "metadata": {
    "nbgrader": {
     "grade": true,
     "grade_id": "cell-934c166da865493d",
     "locked": false,
     "points": 2,
     "schema_version": 3,
     "solution": true,
     "task": false
    }
   },
   "outputs": [
    {
     "name": "stdout",
     "output_type": "stream",
     "text": [
      "0.1 mole / liter\n",
      "0.1338086680397711 joule / kelvin\n"
     ]
    }
   ],
   "source": [
    "### BEGIN SOLUTION\n",
    "C1 = AssignQuantity(0.5,'mol/L')\n",
    "V1 = AssignQuantity(20,'mL')\n",
    "V2 = AssignQuantity(100,'mL')\n",
    "C2 = C1 * V1/V2\n",
    "print (C2)\n",
    "\n",
    "DeltaS = -n*R*np.log(C2/C1)\n",
    "print(DeltaS)\n",
    "\n",
    "### END SOLUTION"
   ]
  },
  {
   "cell_type": "markdown",
   "metadata": {
    "nbgrader": {
     "grade": false,
     "grade_id": "cell-e8a16319f944a451",
     "locked": true,
     "schema_version": 3,
     "solution": false,
     "task": false
    }
   },
   "source": [
    "### Finding the entropy of mixing\n",
    "Use the \"mole fraction\" equation to calculate the entropy change when $10 \\ mL$ of A and $20 \\ mL$ of B (both 1 <u>M</u> solutions) are combined."
   ]
  },
  {
   "cell_type": "code",
   "execution_count": 5,
   "metadata": {
    "nbgrader": {
     "grade": true,
     "grade_id": "cell-0f82d907a183b455",
     "locked": false,
     "points": 2,
     "schema_version": 3,
     "solution": true,
     "task": false
    }
   },
   "outputs": [
    {
     "name": "stdout",
     "output_type": "stream",
     "text": [
      "0.01 liter\n",
      "0.02 liter\n",
      "0.33333333333333337 dimensionless\n",
      "0.6666666666666667 dimensionless\n",
      "0.1587593638560922 joule / kelvin\n"
     ]
    }
   ],
   "source": [
    "### BEGIN SOLUTION\n",
    "C = AssignQuantity(1,'mol/L')\n",
    "VA = AssignQuantity(10,'L')/1000; print(VA)\n",
    "VB = AssignQuantity(20,'L')/1000; print(VB)\n",
    "nA = C*VA\n",
    "nB = C*VB\n",
    "ntot = nA+nB\n",
    "chiA = nA/ntot; print(chiA)\n",
    "chiB = nB/ntot; print(chiB)\n",
    "DeltaS = -ntot*R*(chiA*np.log(chiA)+chiB*np.log(chiB)); print(DeltaS)\n",
    "### END SOLUTION"
   ]
  },
  {
   "cell_type": "markdown",
   "metadata": {
    "nbgrader": {
     "grade": false,
     "grade_id": "cell-a8b1ade9a26403e4",
     "locked": true,
     "schema_version": 3,
     "solution": false,
     "task": false
    }
   },
   "source": [
    "### Entropy of mixing for a range of volume ratios\n",
    "Starting with the following volumes, calculate the entropy of mixing, assuming 1 <u>M</u> initial concentrations and volumes ranging in the following ways:\n",
    "\n",
    "$V_A = 0$ to $1 \\ L$  \n",
    "$V_B = 1$ to $0 \\ L$\n"
   ]
  },
  {
   "cell_type": "code",
   "execution_count": 6,
   "metadata": {
    "nbgrader": {
     "grade": true,
     "grade_id": "cell-26565c488c2a713c",
     "locked": false,
     "points": 2,
     "schema_version": 3,
     "solution": true,
     "task": false
    }
   },
   "outputs": [
    {
     "name": "stderr",
     "output_type": "stream",
     "text": [
      "/usr/local/lib/python3.6/dist-packages/pint/numpy_func.py:303: RuntimeWarning: divide by zero encountered in log\n",
      "  result_magnitude = func(*stripped_args, **stripped_kwargs)\n",
      "/usr/local/lib/python3.6/dist-packages/pint/quantity.py:1237: RuntimeWarning: invalid value encountered in multiply\n",
      "  magnitude = magnitude_op(new_self._magnitude, other._magnitude)\n",
      "/usr/local/lib/python3.6/dist-packages/numpy/core/numeric.py:538: UnitStrippedWarning: The unit of the quantity is stripped when downcasting to ndarray.\n",
      "  return array(a, dtype, copy=False, order=order)\n"
     ]
    },
    {
     "data": {
      "text/plain": [
       "Text(0, 0.5, 'Entropy of mixing using E-ICE')"
      ]
     },
     "execution_count": 6,
     "metadata": {},
     "output_type": "execute_result"
    },
    {
     "data": {
      "image/png": "[encoded data removed]",
      "text/plain": [
       "<Figure size 432x288 with 1 Axes>"
      ]
     },
     "metadata": {
      "needs_background": "light"
     },
     "output_type": "display_data"
    }
   ],
   "source": [
    "### BEGIN SOLUTION\n",
    "VA = AssignQuantity(np.linspace(0,1),'L')\n",
    "VB = AssignQuantity(np.linspace(1,0),'L')\n",
    "C = AssignQuantity(1,'mol/L')\n",
    "ntot = C*AssignQuantity(1,'L')\n",
    "nA = C*VA\n",
    "nB = C*VB\n",
    "ntot = nA + nB\n",
    "chiA = nA/ntot\n",
    "chiB = nB/ntot\n",
    "DeltaS = -ntot*R*(chiA*np.log(chiA)+chiB*np.log(chiB))\n",
    "plt.figure()\n",
    "plt.plot(chiA,DeltaS)\n",
    "plt.grid('True')\n",
    "plt.xlabel('chi_A (mole fraction of A)')\n",
    "plt.ylabel('Entropy of mixing using E-ICE')\n",
    "### END SOLUTION"
   ]
  },
  {
   "cell_type": "markdown",
   "metadata": {
    "nbgrader": {
     "grade": false,
     "grade_id": "cell-5845831575a80b25",
     "locked": true,
     "schema_version": 3,
     "solution": false,
     "task": false
    }
   },
   "source": [
    "### Pause for analysis\n",
    "What's the maximum entropy of mixing (with units)? What proportions of reagents give rise to it?"
   ]
  },
  {
   "cell_type": "markdown",
   "metadata": {
    "nbgrader": {
     "grade": true,
     "grade_id": "cell-c050f378cc5b8300",
     "locked": false,
     "points": 2,
     "schema_version": 3,
     "solution": true,
     "task": false
    }
   },
   "source": [
    "The maximum is 8.8 J/K. It occurs with equal portions of A and B."
   ]
  },
  {
   "cell_type": "code",
   "execution_count": null,
   "metadata": {},
   "outputs": [],
   "source": []
  }
 ],
 "metadata": {
  "celltoolbar": "Create Assignment",
  "kernelspec": {
   "display_name": "Python 3.6",
   "language": "python",
   "name": "python3"
  },
  "language_info": {
   "codemirror_mode": {
    "name": "ipython",
    "version": 3
   },
   "file_extension": ".py",
   "mimetype": "text/x-python",
   "name": "python",
   "nbconvert_exporter": "python",
   "pygments_lexer": "ipython3",
   "version": "3.6.9"
  }
 },
 "nbformat": 4,
 "nbformat_minor": 2
}

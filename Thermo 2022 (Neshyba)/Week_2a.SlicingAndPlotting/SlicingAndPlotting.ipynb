{
 "cells": [
  {
   "cell_type": "markdown",
   "metadata": {
    "nbgrader": {
     "grade": false,
     "grade_id": "cell-b05570620a93bd73",
     "locked": true,
     "schema_version": 3,
     "solution": false,
     "task": false
    }
   },
   "source": [
    "# Slicing and plotting\n",
    "### Neshyba, 2022\n",
    "\n",
    "## Organization of the $P(T,V)$ state function and state space\n",
    "In this exercise, we'll load in a 2-d grid of pressures, temperatures, and volumes. Then, we'll explore how that information is organized.\n",
    "\n",
    "First, when we say \"load in\", it means we'll instruct Python to open files \"Pgrid.txt\", \"Tgrid.txt\", and \"Vgrid.txt\", and copy the information in those files into Python variables. Here, those variables are called Pgrid, Tgrid, and Vgrid. \n",
    "\n",
    "Next, you should know that that information is a *discrete representation* of what you might think of mathematically as $P(T,V)$. What that means is, it's a *discrete set* of temperatures and volumes -- not continuously varying. Each combination of temperature and volume has a specific pair of indices -- so we can talk about the \"ith\" temperature and the \"jth\" volume. Another thing to bear in mind is that in Python, indexing starts at *zero* (not one). So hopefully it makes sense to you if we talk about the temperature, volume, and pressure at the zeroth temperature and the zeroth volume being located at Tgrid[0,0], Vgrid[0,0], and Pgrid[0,0]. After that,\n",
    "\n",
    "- Pgrid[1,0], Pgrid[2,0], ... Pgrid[-1,0] contain pressures at the first temperature, the second, up to the last temperature (the index \"-1\" means \"last one\"), all at volume #0.\n",
    "\n",
    "- Pgrid[0,1], Pgrid[0,2], ... Pgrid[0,-1] contain the pressures at the first volumes, the second, up to the last one, all at temperature #1. \n",
    "\n",
    "Tgrid and Vgrid are organized similarly.\n",
    "\n",
    "\n",
    "## Isochores and isotherms\n",
    "It's often handy to imagine how our thermodynamic function behaves along an entire range of temperatures or volumes. The terminology goes like this:\n",
    "\n",
    "An *isochore* in ($T,V$) state space is a path in which the volume is held constant, but the temperatures vary. We don't normally recommend heating up gases in a confined volume, but in Python it's pretty safe. To specify all these temperatures and the corresponding pressures, we can use Python's colon (\":\") indexer. A \":\" means \"all of them.\" So for example, the temperatures and pressures belonging to the jth isochore would be the array of numbers \n",
    "\n",
    "    Tgrid[:,j]\n",
    "    Pgrid[:,j]\n",
    "\n",
    "An *isotherm* in ($T,V$) state space is a path in which the temperature stays constant, but the volume varies. You're enacting this physically when you pump up a bicycle tire, as long as you wait for the temperature to equilibrate with the surrounding air. The volumes and pressures belonging to the ith temperature would be the array of numbers \n",
    "\n",
    "    Vgrid[i,:]\n",
    "    Pgrid[i,:]\n",
    "\n",
    "\n",
    "## Slicing \n",
    "*Slicing* is the process of extracting isotherms and isochores from a full-blown thermodynamic surface. Below, for example, we're making new variables (\"Tisochore2\" and \"Pisochore2\") that will store the #2 isochore temperatures and pressures.\n",
    "\n",
    "    Tisochore2 = Tgrid[:,2]\n",
    "    Pisochore2 = Pgrid[:,2]\n",
    "\n",
    "Once the slies are stored this way, we'll be set up to do visual examination, like plotting. \n",
    "\n",
    "## Numerical 1st derivatives of slices\n",
    "Numpy has a nice way of numerical getting the slope of an array. It's based on the np.diff function. You'll get some practice at that here too.\n",
    "\n",
    "## Learning Goals\n",
    "1. Explain what's meant by a *discrete representation* of a continuous variable.\n",
    "1. Define the terms *isochore* and *isotherm*.\n",
    "1. Extract and plot isochores & isotherms from gridded data.\n",
    "1. Plot multiple curves on the same graph.\n",
    "1. Take numerical derivatives."
   ]
  },
  {
   "cell_type": "code",
   "execution_count": 1,
   "metadata": {
    "nbgrader": {
     "grade": false,
     "grade_id": "cell-8f0108199324fbfb",
     "locked": true,
     "schema_version": 3,
     "solution": false,
     "task": false
    }
   },
   "outputs": [],
   "source": [
    "# Import resources - execute 2x if you want interactive graphics\n",
    "import pint; from pint import UnitRegistry; AssignQuantity = UnitRegistry().Quantity\n",
    "import numpy as np\n",
    "import matplotlib.pyplot as plt\n",
    "from mpl_toolkits.mplot3d import axes3d\n",
    "import PchemLibrary as PL\n",
    "%matplotlib notebook"
   ]
  },
  {
   "cell_type": "markdown",
   "metadata": {
    "nbgrader": {
     "grade": false,
     "grade_id": "cell-53ee48efdd7e9ec1",
     "locked": true,
     "schema_version": 3,
     "solution": false,
     "task": false
    }
   },
   "source": [
    "### Loading gridded state-space variables and functions\n",
    "The cell below uses numpy's \"loadtxt\" function to load the state space variables $T$ and $V$, from files. We'll be using these for all the work we'll be doing in this activity."
   ]
  },
  {
   "cell_type": "code",
   "execution_count": 2,
   "metadata": {
    "nbgrader": {
     "grade": false,
     "grade_id": "cell-0e28f1ec234255ff",
     "locked": true,
     "schema_version": 3,
     "solution": false,
     "task": false
    }
   },
   "outputs": [
    {
     "name": "stdout",
     "output_type": "stream",
     "text": [
      "(51, 42)\n",
      "(51, 42)\n"
     ]
    }
   ],
   "source": [
    "# Load the temperature data and attach units\n",
    "Tgrid = np.loadtxt('Tgrid.txt')\n",
    "Tgrid = AssignQuantity(Tgrid,'K')\n",
    "print(np.shape(Tgrid))\n",
    "\n",
    "# Load the volume data and attach units\n",
    "Vgrid = np.loadtxt('Vgrid.txt')\n",
    "Vgrid = AssignQuantity(Vgrid,'L')\n",
    "print(np.shape(Vgrid))"
   ]
  },
  {
   "cell_type": "markdown",
   "metadata": {
    "nbgrader": {
     "grade": false,
     "grade_id": "cell-7ceb87f85fc75ffc",
     "locked": true,
     "schema_version": 3,
     "solution": false,
     "task": false
    }
   },
   "source": [
    "### Your turn\n",
    "Use numpy's \"loadtxt\" function to load the state function $P$ from the file \"Pgrid.txt\", and use AssignQuantity to attach units \"atm\". Call the variable \"Pgrid\"."
   ]
  },
  {
   "cell_type": "code",
   "execution_count": 3,
   "metadata": {
    "nbgrader": {
     "grade": true,
     "grade_id": "cell-22a68b295400464e",
     "locked": false,
     "points": 1,
     "schema_version": 3,
     "solution": true,
     "task": false
    }
   },
   "outputs": [
    {
     "name": "stdout",
     "output_type": "stream",
     "text": [
      "(51, 42)\n"
     ]
    }
   ],
   "source": [
    "### BEGIN SOLUTION\n",
    "Pgrid = np.loadtxt('Pgrid.txt')\n",
    "Pgrid = AssignQuantity(Pgrid,'atm')\n",
    "print(np.shape(Pgrid))\n",
    "### END SOLUTION"
   ]
  },
  {
   "cell_type": "markdown",
   "metadata": {
    "nbgrader": {
     "grade": false,
     "grade_id": "cell-df85eb597d91dfe8",
     "locked": true,
     "schema_version": 3,
     "solution": false,
     "task": false
    }
   },
   "source": [
    "### Plotting in 3d\n",
    "Use the cell below to make a 3d surface plot of the state function Pgrid that you just loaded, on the state space defined by Tgrid and Vgrid. Some reminders ... \n",
    "\n",
    "    # Prepping the axis labels\n",
    "    xlabel = \"T \"+str(Tgrid.units)\n",
    "    ylabel = ...\n",
    "    zlabel = ...\n",
    "\n",
    "    # Graph the pressure\n",
    "    ax = PL.plot_surface(Tgrid, Vgrid, Pgrid, color='plum') # Make the mesh plot P(V,T) \n"
   ]
  },
  {
   "cell_type": "code",
   "execution_count": 4,
   "metadata": {
    "nbgrader": {
     "grade": true,
     "grade_id": "cell-6e6b8b9368671d04",
     "locked": false,
     "points": 2,
     "schema_version": 3,
     "solution": true,
     "task": false
    }
   },
   "outputs": [
    {
     "data": {
      "text/plain": [
       "Text(0.5, 0, 'P standard_atmosphere')"
      ]
     },
     "execution_count": 4,
     "metadata": {},
     "output_type": "execute_result"
    },
    {
     "data": {
      "image/png": "[encoded data removed]",
      "text/plain": [
       "<Figure size 432x288 with 1 Axes>"
      ]
     },
     "metadata": {
      "needs_background": "light"
     },
     "output_type": "display_data"
    }
   ],
   "source": [
    "### BEGIN SOLUTION\n",
    "# Prepping the axis labels\n",
    "xlabel = \"T \"+str(Tgrid.units)\n",
    "ylabel = \"V \"+str(Vgrid.units) \n",
    "zlabel = \"P \"+str(Pgrid.units)\n",
    "\n",
    "# Graph the pressure\n",
    "ax = PL.plot_surface(Tgrid, Vgrid, Pgrid, color='plum') # Make the mesh plot P(V,T)\n",
    "ax.set_xlabel(xlabel)\n",
    "ax.set_ylabel(ylabel)\n",
    "ax.set_zlabel(zlabel)\n",
    "### END SOLUTION"
   ]
  },
  {
   "cell_type": "markdown",
   "metadata": {
    "nbgrader": {
     "grade": false,
     "grade_id": "cell-135d75be24763815",
     "locked": true,
     "schema_version": 3,
     "solution": false,
     "task": false
    }
   },
   "source": [
    "### Pause for analysis\n",
    "In your paper notebook, sketch this surface from a couple of different angles -- and make sure to label your axes."
   ]
  },
  {
   "cell_type": "markdown",
   "metadata": {
    "nbgrader": {
     "grade": false,
     "grade_id": "cell-8109537562d9b0a6",
     "locked": true,
     "schema_version": 3,
     "solution": false,
     "task": false
    }
   },
   "source": [
    "### Storing and plotting isochores\n",
    "The cell below slices out (creates) new variables containing pressure and temperature of the 0th *isochore* of $P(T,V)$, and plots one against the other."
   ]
  },
  {
   "cell_type": "code",
   "execution_count": 5,
   "metadata": {
    "nbgrader": {
     "grade": false,
     "grade_id": "cell-52851678e761d104",
     "locked": true,
     "schema_version": 3,
     "solution": false,
     "task": false
    }
   },
   "outputs": [
    {
     "name": "stdout",
     "output_type": "stream",
     "text": [
      "Tisochore =  [100.0 110.0 120.0 130.0 140.0 150.0 160.0 170.0 180.0 190.0 200.0 210.0 220.0 230.0 240.0 250.0 260.0 270.0 280.0 290.0 300.0 310.0 320.0 330.0 340.0 350.0 360.0 370.0 380.0 390.0 400.0 410.0 420.0 430.0 440.0 450.0 460.0 470.0 480.0 490.0 500.0 510.0 520.0 530.0 540.0 550.0 560.0 570.0 580.0 590.0 600.0] kelvin\n",
      "Visochore =  [1.0 1.0 1.0 1.0 1.0 1.0 1.0 1.0 1.0 1.0 1.0 1.0 1.0 1.0 1.0 1.0 1.0 1.0 1.0 1.0 1.0 1.0 1.0 1.0 1.0 1.0 1.0 1.0 1.0 1.0 1.0 1.0 1.0 1.0 1.0 1.0 1.0 1.0 1.0 1.0 1.0 1.0 1.0 1.0 1.0 1.0 1.0 1.0 1.0 1.0 1.0] liter\n",
      "Pisochore =  [8.2057 9.02627 9.84684 10.66741 11.48798 12.30855 13.12912 13.94969 14.77026 15.59083 16.4114 17.23197 18.05254 18.87311 19.69368 20.51425 21.33482 22.15539 22.97596 23.79653 24.6171 25.43767 26.25824 27.07881 27.89938 28.71995 29.54052 30.36109 31.18166 32.002230000000004 32.8228 33.643370000000004 34.46394 35.284510000000004 36.10508 36.925650000000005 37.74622 38.566790000000005 39.38736 40.207930000000005 41.0285 41.849070000000005 42.66964 43.490210000000005 44.31078 45.131350000000005 45.95192 46.772490000000005 47.59306 48.413630000000005 49.2342] standard_atmosphere\n"
     ]
    },
    {
     "name": "stderr",
     "output_type": "stream",
     "text": [
      "/usr/local/lib/python3.6/dist-packages/numpy/core/numeric.py:538: UnitStrippedWarning: The unit of the quantity is stripped when downcasting to ndarray.\n",
      "  return array(a, dtype, copy=False, order=order)\n"
     ]
    },
    {
     "data": {
      "image/png": "[encoded data removed]",
      "text/plain": [
       "<Figure size 432x288 with 1 Axes>"
      ]
     },
     "metadata": {
      "needs_background": "light"
     },
     "output_type": "display_data"
    }
   ],
   "source": [
    "Tisochore0 = Tgrid[:,0]; print(\"Tisochore = \", Tisochore0)\n",
    "Visochore0 = Vgrid[:,0]; print(\"Visochore = \", Visochore0) \n",
    "Pisochore0 = Pgrid[:,0]; print(\"Pisochore = \", Pisochore0) \n",
    "\n",
    "xlabel = \"T \"+str(Tisochore0.units)\n",
    "ylabel = \"P \"+str(Pisochore0.units)\n",
    "\n",
    "plt.figure()\n",
    "plt.plot(Tisochore0,Pisochore0)\n",
    "plt.xlabel(xlabel)\n",
    "plt.ylabel(ylabel)\n",
    "plt.grid(True)"
   ]
  },
  {
   "cell_type": "markdown",
   "metadata": {
    "nbgrader": {
     "grade": false,
     "grade_id": "cell-3b100b2a6b47f387",
     "locked": true,
     "schema_version": 3,
     "solution": false,
     "task": false
    }
   },
   "source": [
    "### Pause for analysis\n",
    "- OK, a straight line is kinda boring. But the proportionality of pressure and temperature of a gas -- which we'll call the *Pressure Law*, had to be discovered -- some attributing this to Gay-Lussac, others to Amonton (see https://en.wikipedia.org/wiki/Gay-Lussac%27s_law). \n",
    "- The arguments of the plt.plot command come in a specific order: horizontal axis first, then vertical axis. So, the command plt.plot(Tisochore0,Pisochore0) puts temperature on the x-axis, pressure on the y-axis (which gives it a feel of pressure as a function of temperature)."
   ]
  },
  {
   "cell_type": "markdown",
   "metadata": {
    "nbgrader": {
     "grade": false,
     "grade_id": "cell-ba77021ad053045e",
     "locked": true,
     "schema_version": 3,
     "solution": false,
     "task": false
    }
   },
   "source": [
    "### Your turn\n",
    "In the cell below, do the following:\n",
    "\n",
    "1. Slice out the pressure and volume corresponding to the 0th *isotherm* of our gas. Name your new variables Pisotherm0 and Visotherm0.\n",
    "1. Plot Pisotherm0 as a function of the Visotherm0. Label axes appropriately."
   ]
  },
  {
   "cell_type": "code",
   "execution_count": 6,
   "metadata": {
    "nbgrader": {
     "grade": true,
     "grade_id": "cell-df4dc1ac1add7649",
     "locked": false,
     "points": 2,
     "schema_version": 3,
     "solution": true,
     "task": false
    }
   },
   "outputs": [
    {
     "name": "stdout",
     "output_type": "stream",
     "text": [
      "Tisotherm =  [100.0 100.0 100.0 100.0 100.0 100.0 100.0 100.0 100.0 100.0 100.0 100.0 100.0 100.0 100.0 100.0 100.0 100.0 100.0 100.0 100.0 100.0 100.0 100.0 100.0 100.0 100.0 100.0 100.0 100.0 100.0 100.0 100.0 100.0 100.0 100.0 100.0 100.0 100.0 100.0 100.0 100.0] kelvin\n",
      "Visotherm =  [1.0 2.0 3.0 4.0 5.0 6.0 7.0 8.0 9.0 10.0 11.0 12.0 13.0 14.0 15.0 16.0 17.0 18.0 19.0 20.0 21.0 22.0 23.0 24.0 25.0 26.0 27.0 28.0 29.0 30.0 31.0 32.0 33.0 34.0 35.0 36.0 37.0 38.0 39.0 40.0 41.0 42.0] liter\n",
      "Pisotherm =  [8.2057 4.10285 2.7352333333333334 2.051425 1.64114 1.3676166666666667 1.1722428571428571 1.0257125 0.9117444444444445 0.82057 0.7459727272727273 0.6838083333333334 0.6312076923076924 0.5861214285714286 0.5470466666666667 0.51285625 0.48268823529411764 0.45587222222222223 0.4318789473684211 0.410285 0.39074761904761907 0.37298636363636367 0.35676956521739134 0.3419041666666667 0.328228 0.3156038461538462 0.3039148148148148 0.2930607142857143 0.2829551724137931 0.27352333333333334 0.2647 0.256428125 0.24865757575757577 0.24134411764705882 0.23444857142857142 0.22793611111111112 0.2217756756756757 0.21593947368421054 0.2104025641025641 0.2051425 0.20013902439024392 0.19537380952380953] standard_atmosphere\n"
     ]
    },
    {
     "data": {
      "text/plain": [
       "Text(0, 0.5, 'P standard_atmosphere')"
      ]
     },
     "execution_count": 6,
     "metadata": {},
     "output_type": "execute_result"
    },
    {
     "data": {
      "image/png": "[encoded data removed]",
      "text/plain": [
       "<Figure size 432x288 with 1 Axes>"
      ]
     },
     "metadata": {
      "needs_background": "light"
     },
     "output_type": "display_data"
    }
   ],
   "source": [
    "### BEGIN SOLUTION\n",
    "Tisotherm0 = Tgrid[0,:]; print(\"Tisotherm = \", Tisotherm0)\n",
    "Visotherm0 = Vgrid[0,:]; print(\"Visotherm = \", Visotherm0)\n",
    "Pisotherm0 = Pgrid[0,:]; print(\"Pisotherm = \", Pisotherm0)\n",
    "\n",
    "xlabel = \"V \"+str(Visotherm0.units)\n",
    "ylabel = \"P \"+str(Pisotherm0.units)\n",
    "\n",
    "plt.figure()\n",
    "plt.plot(Visotherm0,Pisotherm0)\n",
    "plt.grid(True)\n",
    "plt.xlabel(xlabel)\n",
    "plt.ylabel(ylabel)\n",
    "### END SOLUTION"
   ]
  },
  {
   "cell_type": "markdown",
   "metadata": {},
   "source": [
    "### Your turn (again)\n",
    "In the cell below, do the following:\n",
    "\n",
    "1. Store pressure and volume corresponding to the *last* isotherm of our gas (which is also the hottest). Name your new variables Pisothermlast and Visothermlast. Remember, the last element of a list is indexed as \"-1\".\n",
    "1. Plot Pisothermlast as a function of the Visothermlast. Label axes appropriately."
   ]
  },
  {
   "cell_type": "code",
   "execution_count": 7,
   "metadata": {
    "nbgrader": {
     "grade": true,
     "grade_id": "cell-b0b29c4b971b4186",
     "locked": false,
     "points": 2,
     "schema_version": 3,
     "solution": true,
     "task": false
    }
   },
   "outputs": [
    {
     "data": {
      "text/plain": [
       "Text(0, 0.5, 'P standard_atmosphere')"
      ]
     },
     "execution_count": 7,
     "metadata": {},
     "output_type": "execute_result"
    },
    {
     "data": {
      "image/png": "[encoded data removed]",
      "text/plain": [
       "<Figure size 432x288 with 1 Axes>"
      ]
     },
     "metadata": {
      "needs_background": "light"
     },
     "output_type": "display_data"
    }
   ],
   "source": [
    "### BEGIN SOLUTION\n",
    "Pisothermlast = Pgrid[-1,:]\n",
    "Visothermlast = Vgrid[-1,:]\n",
    "\n",
    "xlabel = \"V \"+str(Visothermlast.units)\n",
    "ylabel = \"P \"+str(Pisothermlast.units)\n",
    "\n",
    "plt.figure()\n",
    "plt.plot(Visothermlast,Pisothermlast)\n",
    "plt.grid(True)\n",
    "plt.xlabel(xlabel)\n",
    "plt.ylabel(ylabel)\n",
    "### END SOLUTION"
   ]
  },
  {
   "cell_type": "markdown",
   "metadata": {
    "nbgrader": {
     "grade": false,
     "grade_id": "cell-f10bfe2cadeaa685",
     "locked": true,
     "schema_version": 3,
     "solution": false,
     "task": false
    }
   },
   "source": [
    "As you know, plots such as these, in which pressure of a gas is plotted as a function of its volume, are also called *Boyle isotherms*. Check out the animation at https://en.wikipedia.org/wiki/Boyle%27s_law for a cartoon of how this is done physically."
   ]
  },
  {
   "cell_type": "markdown",
   "metadata": {
    "nbgrader": {
     "grade": false,
     "grade_id": "cell-d27bb1e654725a66",
     "locked": true,
     "schema_version": 3,
     "solution": false,
     "task": false
    }
   },
   "source": [
    "###  Multiple graphs on the same plot\n",
    "You might have noticed how similar the first and last Boyle isotherms look -- although if you examine the graphs carefully, you'll see that the vertical scales are quite different. To compare them, it's handy to put both graphs on the same plot. The next cell shows you how to do that."
   ]
  },
  {
   "cell_type": "code",
   "execution_count": 8,
   "metadata": {
    "nbgrader": {
     "grade": false,
     "grade_id": "cell-9e030a92069c2df8",
     "locked": true,
     "schema_version": 3,
     "solution": false,
     "task": false
    }
   },
   "outputs": [
    {
     "data": {
      "text/plain": [
       "Text(0, 0.5, 'P standard_atmosphere')"
      ]
     },
     "execution_count": 8,
     "metadata": {},
     "output_type": "execute_result"
    },
    {
     "data": {
      "image/png": "[encoded data removed]",
      "text/plain": [
       "<Figure size 432x288 with 1 Axes>"
      ]
     },
     "metadata": {
      "needs_background": "light"
     },
     "output_type": "display_data"
    }
   ],
   "source": [
    "xlabel = \"V \"+str(Visothermlast.units)\n",
    "ylabel = \"P \"+str(Pisothermlast.units)\n",
    "\n",
    "plt.figure()\n",
    "plt.plot(Visothermlast,Pisothermlast, 'b--')\n",
    "plt.plot(Visotherm0,Pisotherm0, 'blue')\n",
    "plt.grid(True)\n",
    "plt.xlabel(xlabel)\n",
    "plt.ylabel(ylabel)"
   ]
  },
  {
   "cell_type": "markdown",
   "metadata": {
    "nbgrader": {
     "grade": false,
     "grade_id": "cell-4e7560c2444413e6",
     "locked": true,
     "schema_version": 3,
     "solution": false,
     "task": false
    }
   },
   "source": [
    "### Pause for analysis\n",
    "In your physical notebook, sketch these Boyle isotherms."
   ]
  },
  {
   "cell_type": "markdown",
   "metadata": {
    "nbgrader": {
     "grade": false,
     "grade_id": "cell-e7073177752f813d",
     "locked": true,
     "schema_version": 3,
     "solution": false,
     "task": false
    }
   },
   "source": [
    "### Your turn\n",
    "You've already extracted one isochore (Pisochore0 as a function of Tisochore0). Extract the last one too, then graph both first and last isotherms on the same plot (both pressure as a function of temperature). Color Pisochore0 green, and Pisochorelast pink."
   ]
  },
  {
   "cell_type": "code",
   "execution_count": 9,
   "metadata": {
    "nbgrader": {
     "grade": true,
     "grade_id": "cell-412244f63270738d",
     "locked": false,
     "points": 2,
     "schema_version": 3,
     "solution": true,
     "task": false
    }
   },
   "outputs": [
    {
     "data": {
      "image/png": "[encoded data removed]",
      "text/plain": [
       "<Figure size 432x288 with 1 Axes>"
      ]
     },
     "metadata": {
      "needs_background": "light"
     },
     "output_type": "display_data"
    }
   ],
   "source": [
    "### BEGIN SOLUTION\n",
    "Pisochorelast = Pgrid[:,-1]\n",
    "Tisochorelast = Tgrid[:,-1]\n",
    "\n",
    "xlabel = \"T \"+str(Tisochore0.units)\n",
    "ylabel = \"P \"+str(Pisochore0.units)\n",
    "\n",
    "plt.figure()\n",
    "plt.plot(Tisochore0,Pisochore0,'green')\n",
    "plt.plot(Tisochorelast,Pisochorelast,'pink')\n",
    "plt.xlabel(xlabel)\n",
    "plt.ylabel(ylabel)\n",
    "plt.grid(True)\n",
    "### END SOLUTION"
   ]
  },
  {
   "cell_type": "markdown",
   "metadata": {
    "nbgrader": {
     "grade": false,
     "grade_id": "cell-8f15048df591fdce",
     "locked": true,
     "schema_version": 3,
     "solution": false,
     "task": false
    }
   },
   "source": [
    "### Pause for analysis\n",
    "In your physical notebook, sketch this pressure-temperature plot."
   ]
  },
  {
   "cell_type": "markdown",
   "metadata": {
    "nbgrader": {
     "grade": false,
     "grade_id": "cell-24a814a1d55ce29b",
     "locked": true,
     "schema_version": 3,
     "solution": false,
     "task": false
    }
   },
   "source": [
    "### Slopes of isotherms and isochores\n",
    "It's very useful, as a thermodynamicist, to be able to visualize the slopes of these curves. In your paper notebook:\n",
    "\n",
    "- Sketch what you think $\\big (\\dfrac {\\partial P}{\\partial V} \\big )_T$ would look like as a function of $V$ (red as well as blue curves).\n",
    "- Do the same for $\\big (\\dfrac {\\partial P}{\\partial T} \\big )_V$ as a function of $T$ (green and pink curves)."
   ]
  },
  {
   "cell_type": "markdown",
   "metadata": {
    "nbgrader": {
     "grade": false,
     "grade_id": "cell-975b04758b1eae50",
     "locked": true,
     "schema_version": 3,
     "solution": false,
     "task": false
    }
   },
   "source": [
    "### Numerical derivatives\n",
    "The cell below shows how to calculate a *numerical* derivative. This uses Numpy's \"diff\" function, which takes differences between numbers in a list. "
   ]
  },
  {
   "cell_type": "code",
   "execution_count": 10,
   "metadata": {
    "nbgrader": {
     "grade": false,
     "grade_id": "cell-bc548ef4c5b0bc57",
     "locked": true,
     "schema_version": 3,
     "solution": false,
     "task": false
    }
   },
   "outputs": [
    {
     "name": "stdout",
     "output_type": "stream",
     "text": [
      "x = [1 2 3 4]\n",
      "f(x)= [ 1  4  9 16]\n",
      "dx= [1 1 1]\n",
      "df= [3 5 7]\n",
      "df/dx= [3. 5. 7.]\n",
      "Shortened x= [2 3 4]\n",
      "Another shortened x= [1 2 3]\n"
     ]
    },
    {
     "data": {
      "text/plain": [
       "Text(0, 0.5, 'df/dx')"
      ]
     },
     "execution_count": 10,
     "metadata": {},
     "output_type": "execute_result"
    },
    {
     "data": {
      "image/png": "[encoded data removed]",
      "text/plain": [
       "<Figure size 432x288 with 1 Axes>"
      ]
     },
     "metadata": {
      "needs_background": "light"
     },
     "output_type": "display_data"
    }
   ],
   "source": [
    "# Lay out a sequence of numbers\n",
    "x = np.array([1, 2, 3, 4]); print('x =',x)\n",
    "\n",
    "# Calculate f=x^2\n",
    "f = x**2; print('f(x)=',f)\n",
    "\n",
    "# Find differences\n",
    "dx = np.diff(x); print('dx=',dx)\n",
    "df = np.diff(f); print('df=',df)\n",
    "\n",
    "# Calculate the derivative\n",
    "dfdx = df/dx; print('df/dx=',dfdx)\n",
    "\n",
    "# Report out a shorter x-array\n",
    "print('Shortened x=',x[1:])\n",
    "print('Another shortened x=',x[:-1])\n",
    "\n",
    "# Plot it\n",
    "plt.figure()\n",
    "plt.plot(x[1:],dfdx)\n",
    "plt.xlabel('x')\n",
    "plt.ylabel('df/dx')"
   ]
  },
  {
   "cell_type": "markdown",
   "metadata": {
    "nbgrader": {
     "grade": false,
     "grade_id": "cell-551d10f75753f68f",
     "locked": true,
     "schema_version": 3,
     "solution": false,
     "task": false
    }
   },
   "source": [
    "### Pause for analysis\n",
    "Study the results above for a moment. There are some peculiarities associated with numerical derivatives that take some getting used to:\n",
    "\n",
    "1. Although x and f(x) each contain *four* numbers, dx, df, and dfdx contain only *three*. That's because there are  three *differences* between four numbers. Numerical differentiation of arrays of numbers always produces new arrays that are \"one shorter.\"\n",
    "1. Because of this, when we go to plot the numerical version of $\\dfrac{dx^2}{dx}$ as a function of $x$, we need to shorten $x$ by one. Should we cut out the *first* value of $x$, or the *last* one? As long as the difference between successive values of $x$ is small, this choice shouldn't matter very much. In the code here, we have chosen \"x[1:]\", which cuts out the first value of $x$ (the syntax \"x[:-1]\" would have cut out the last one).\n",
    "1. The results are offset a bit. When $x=[1, 2, 3, 4]$, $\\dfrac{dx^2}{dx}=2x$ should result in $[2, 4, 6, 8]$  but instead we're getting $[3, 5, 7]$. That's a consequence of the discrete (non-continuous) representation of $x$. If it's any consolation, these three numerical results are intermediate in a sense: 3 is halfway between $2$ and $4$ (etc.)."
   ]
  },
  {
   "cell_type": "markdown",
   "metadata": {
    "nbgrader": {
     "grade": false,
     "grade_id": "cell-6360f4ccb9cc0cf3",
     "locked": true,
     "schema_version": 3,
     "solution": false,
     "task": false
    }
   },
   "source": [
    "### Your turn\n",
    "In the cell below, use the same techniques to calculate and plot the numerical equivalent to $\\big (\\dfrac {\\partial P}{\\partial V} \\big )_T$."
   ]
  },
  {
   "cell_type": "code",
   "execution_count": 11,
   "metadata": {
    "nbgrader": {
     "grade": true,
     "grade_id": "cell-c2051a0c15df5702",
     "locked": false,
     "points": 1,
     "schema_version": 3,
     "solution": true,
     "task": false
    }
   },
   "outputs": [
    {
     "name": "stderr",
     "output_type": "stream",
     "text": [
      "/usr/local/lib/python3.6/dist-packages/numpy/core/numeric.py:591: UnitStrippedWarning: The unit of the quantity is stripped when downcasting to ndarray.\n",
      "  return array(a, dtype, copy=False, order=order, subok=True)\n"
     ]
    },
    {
     "data": {
      "image/png": "[encoded data removed]",
      "text/plain": [
       "<Figure size 432x288 with 1 Axes>"
      ]
     },
     "metadata": {
      "needs_background": "light"
     },
     "output_type": "display_data"
    }
   ],
   "source": [
    "### BEGIN SOLUTION\n",
    "xlabel = \"V \"+str(Visothermlast.units)\n",
    "ylabel = \"dP/dV at fixed T\"\n",
    "\n",
    "plt.figure()\n",
    "dPdV = np.diff(Pisothermlast)/np.diff(Visothermlast)\n",
    "plt.plot(Visothermlast[1:],dPdV)\n",
    "plt.xlabel(xlabel)\n",
    "plt.ylabel(ylabel)\n",
    "plt.grid(True)\n",
    "### END SOLUTION"
   ]
  },
  {
   "cell_type": "markdown",
   "metadata": {},
   "source": [
    "### Pause for analysis\n",
    "How'd your sketches square up with your numerical predictions?"
   ]
  },
  {
   "cell_type": "markdown",
   "metadata": {
    "nbgrader": {
     "grade": false,
     "grade_id": "cell-5b4ce6411048fcec",
     "locked": true,
     "schema_version": 3,
     "solution": false,
     "task": false
    }
   },
   "source": [
    "### Refresh/save/validate\n",
    "Almost done! To double-check everything is OK, repeat the \"Three steps for refreshing and saving your code,\" and press the \"Validate\" button (as usual).\n",
    "\n",
    "### Close/submit/logout\n",
    "1. Close this notebook using the \"File/Close and Halt\" dropdown menu\n",
    "1. Using the Assignments tab, submit this notebook\n",
    "1. Press the Logout tab of the Home Page"
   ]
  }
 ],
 "metadata": {
  "celltoolbar": "Create Assignment",
  "kernelspec": {
   "display_name": "Python 3.6",
   "language": "python",
   "name": "python3"
  },
  "language_info": {
   "codemirror_mode": {
    "name": "ipython",
    "version": 3
   },
   "file_extension": ".py",
   "mimetype": "text/x-python",
   "name": "python",
   "nbconvert_exporter": "python",
   "pygments_lexer": "ipython3",
   "version": "3.6.9"
  }
 },
 "nbformat": 4,
 "nbformat_minor": 5
}

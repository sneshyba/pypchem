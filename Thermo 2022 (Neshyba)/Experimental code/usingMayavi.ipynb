{
 "cells": [
  {
   "cell_type": "code",
   "execution_count": 1,
   "id": "1c573f4c",
   "metadata": {},
   "outputs": [
    {
     "name": "stdout",
     "output_type": "stream",
     "text": [
      "Notebook initialized with ipy backend.\n"
     ]
    }
   ],
   "source": [
    "import numpy as np\n",
    "import matplotlib.pyplot as plt\n",
    "import matplotlib\n",
    "matplotlib.use('Qt5Agg')\n",
    "plt.get_backend()\n",
    "from mayavi import mlab\n",
    "mlab.init_notebook()"
   ]
  },
  {
   "cell_type": "code",
   "execution_count": 23,
   "id": "3f573ad0",
   "metadata": {},
   "outputs": [
    {
     "data": {
      "text/plain": [
       "'/Users/nesh'"
      ]
     },
     "execution_count": 23,
     "metadata": {},
     "output_type": "execute_result"
    }
   ],
   "source": [
    "pwd"
   ]
  },
  {
   "cell_type": "code",
   "execution_count": 2,
   "id": "22fadb88",
   "metadata": {},
   "outputs": [],
   "source": [
    "%matplotlib notebook"
   ]
  },
  {
   "cell_type": "code",
   "execution_count": 20,
   "id": "72e7fd56",
   "metadata": {},
   "outputs": [
    {
     "data": {
      "application/vnd.jupyter.widget-view+json": {
       "model_id": "ac1d8ed1fc8e4a50998bb6399fe095ae",
       "version_major": 2,
       "version_minor": 0
      },
      "text/plain": [
       "Image(value=b'\\x89PNG\\r\\n\\x1a\\n\\x00\\x00\\x00\\rIHDR\\x00\\x00\\x01\\x90\\x00\\x00\\x01^\\x08\\x02\\x00\\x00\\x00$?\\xde_\\x00\\…"
      ]
     },
     "metadata": {},
     "output_type": "display_data"
    }
   ],
   "source": [
    "mlab.figure()\n",
    "x, y, z, value = np.random.random((4, 40))\n",
    "mlab.points3d(x, y, z, value)"
   ]
  },
  {
   "cell_type": "code",
   "execution_count": 19,
   "id": "ec6667c0",
   "metadata": {},
   "outputs": [
    {
     "data": {
      "application/vnd.jupyter.widget-view+json": {
       "model_id": "fee792313aa24087be3cbd71d10b5ae7",
       "version_major": 2,
       "version_minor": 0
      },
      "text/plain": [
       "Image(value=b'\\x89PNG\\r\\n\\x1a\\n\\x00\\x00\\x00\\rIHDR\\x00\\x00\\x01\\x90\\x00\\x00\\x01^\\x08\\x02\\x00\\x00\\x00$?\\xde_\\x00\\…"
      ]
     },
     "metadata": {},
     "output_type": "display_data"
    }
   ],
   "source": [
    "mlab.figure()\n",
    "x, y = np.mgrid[-10:10:100j, -10:10:100j]\n",
    "r = np.sqrt(x**2 + y**2)\n",
    "z = np.sin(r)/r\n",
    "mlab.surf(x,y,z, warp_scale='auto')\n",
    "x, y, z, value = np.random.random((4, 40))\n",
    "mlab.points3d(x*20, y*20, z, value*5)"
   ]
  },
  {
   "cell_type": "code",
   "execution_count": 22,
   "id": "ecfa9f36",
   "metadata": {},
   "outputs": [
    {
     "data": {
      "application/vnd.jupyter.widget-view+json": {
       "model_id": "07bf6d4bc4ab4a15bc84c2ad91394d1f",
       "version_major": 2,
       "version_minor": 0
      },
      "text/plain": [
       "Image(value=b'\\x89PNG\\r\\n\\x1a\\n\\x00\\x00\\x00\\rIHDR\\x00\\x00\\x01\\x90\\x00\\x00\\x01^\\x08\\x02\\x00\\x00\\x00$?\\xde_\\x00\\…"
      ]
     },
     "metadata": {},
     "output_type": "display_data"
    }
   ],
   "source": [
    "mlab.figure()\n",
    "x, y = np.mgrid[-10:10:100j, -10:10:100j]\n",
    "z1 = x\n",
    "z2 = y\n",
    "mlab.surf(x,y,z1, warp_scale='auto')\n",
    "mlab.surf(x,y,z2, warp_scale='auto')"
   ]
  },
  {
   "cell_type": "code",
   "execution_count": 4,
   "id": "be3ab959",
   "metadata": {},
   "outputs": [],
   "source": [
    "# from platform import python_version\n",
    "# print(python_version())\n",
    "\n",
    "# #!/usr/bin/env python\n",
    "# from __future__ import print_function\n",
    "# import matplotlib.pyplot as plt\n",
    "# import matplotlib\n",
    "\n",
    "# backends = matplotlib.rcsetup.interactive_bk\n",
    "# # validate backends\n",
    "# backends_valid = []\n",
    "# for b in backends:\n",
    "#     try:\n",
    "#         plt.switch_backend(b)\n",
    "#         backends_valid += [b]\n",
    "#     except:\n",
    "#         continue\n",
    "# print(backends_valid)"
   ]
  }
 ],
 "metadata": {
  "kernelspec": {
   "display_name": "Python 3 (ipykernel)",
   "language": "python",
   "name": "python3"
  },
  "language_info": {
   "codemirror_mode": {
    "name": "ipython",
    "version": 3
   },
   "file_extension": ".py",
   "mimetype": "text/x-python",
   "name": "python",
   "nbconvert_exporter": "python",
   "pygments_lexer": "ipython3",
   "version": "3.9.7"
  }
 },
 "nbformat": 4,
 "nbformat_minor": 5
}

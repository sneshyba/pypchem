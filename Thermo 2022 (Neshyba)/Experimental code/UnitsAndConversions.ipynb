{
 "cells": [
  {
   "cell_type": "markdown",
   "metadata": {
    "nbgrader": {
     "grade": false,
     "grade_id": "cell-c066a326dd399b30",
     "locked": true,
     "schema_version": 3,
     "solution": false,
     "task": false
    }
   },
   "source": [
    "# Units and Conversions\n",
    "### Neshyba, 2022\n",
    "\n",
    "### Unit systems\n",
    "Chemists who work a lot with numbers tend to \"think\" in particular units. Many have even committed various constants to memory, because they use them so often. For example, if you ask a practicing chemist for the universal gas constant, they are likely to give you one the following values off the top of their head:\n",
    "\n",
    "$$  \n",
    "R = 0.082 \\ \\frac {L \\cdot atm}{mol \\ K}  \n",
    "$$  \n",
    "\n",
    "$$\n",
    "R = 8.314 \\ \\frac J {mol \\cdot K}\n",
    "$$\n",
    "\n",
    "Units sometimes come in collections called *self-consistent systems*. One popular self-consistent system (among chemists) is referred to as *SI* (https://en.wikipedia.org/wiki/International_System_of_Units); when we said above that $R = 8.314 \\ \\frac J {mol \\cdot K}$, we were using SI. Another one is the *Liter-atmosphere* system. This is often preferred when working with gases, and yet another is the *Hartree atomic unit* (or *au*) system, which  is handy when dealing with atomic properties. \n",
    "\n",
    "Regretably -- but inevitably -- chemists find they need reliable methods for converting numbers from one unit system to another. In this exercise, you'll be getting used to two such methods. One is what we'll call the \"manual\" method, in which you multiply or divide by conversion factors. To use this method, you really have to know what you're doing, and you have to have conversion factors at the ready. A second method uses a Python package called *pint* (https://pint.readthedocs.io/en/stable/). To use *pint*, you still have to know what you're doing, but conversion factors are built in.\n",
    "\n",
    "### Manual unit conversions\n",
    "\n",
    "Our convention here will be to define multiplicative factors like this:\n",
    "\n",
    "    volume_L_to_m3 = 1e-3 \n",
    "    \n",
    "This is the same as saying $1 \\ L = 0.001 \\ m^3$. To convert a volume in Liters *to* the SI unit ($m^3$), you *multiply* by volume_L_to_m3. For example, if you know your volume is 3 liters, you could say \n",
    "\n",
    "    V_L = 3\n",
    "    V_m3 = V_L * volume_L_to_m3\n",
    "    \n",
    "To convert a quantity from $m^3$ *to* liters, you'd *divide* by our conversion factor. For example, converting    V_m3 *back* to liters, you could say\n",
    "\n",
    "    V_L_back = V_m3 / volume_L_to_m3\n",
    "\n",
    "Presumably, the Python variable V_L_back will have the correct value -- 3 Liters. \n",
    "    \n",
    "### Unit conversions using *pint*\n",
    "\n",
    "*Creating variables with pint*. Using *pint* begins with creating a variable that has both the *value* and the *unit* of the quantity you want. Taking the volume example we were just talking about, we'd say\n",
    "\n",
    "    V = AssignQuantity(3,'L')\n",
    "    \n",
    "*Converting variables to other units*. To convert the variable V to the SI unit for volume ($m^3$), you just use the \".ito\" method:\n",
    "\n",
    "    V.ito('m^3')\n",
    "    \n",
    "What if you tried to convert to a quantity that is not compatible? *pint* will tell you that's not possible! For example, this command will throw an error:\n",
    "\n",
    "    V.ito('K')\n",
    "\n",
    "### Insight\n",
    "*pint* provides a kind of bridge between algebra and arithmetic. What do we mean by this? Let's take an example: suppose you're a gas molecule getting slammed by other gas molecules. It turns out that the quantity $E_{collision} \\approx RT$ tells you, roughly, the kinetic energy with which those other gas molecules will be slamming into you. And here's the point: depending on your choice of $R$, the *units* of $E_{collision}$ may not be anything you've seen before, but it's still an *energy*. Armed with that knowledge, you can use *pint* to convert it into an energy unit that you *do* recognize (for reference, $E_{collision} \\approx 2-3 \\frac {kJ} {mol}$ at room temperature). You'll be playing with this idea a bit in this exercise. \n",
    "\n",
    "### Reinforcing past learning goals\n",
    "We've worked with running individual cells of Python notebooks before. Here you'll get a little more practice with it. \n",
    "\n",
    "### New learning goals\n",
    "1. To gain familiarity with manual conversion of quantities to and from SI units.\n",
    "1. To gain familiarity with using *pint* to perform unit conversions."
   ]
  },
  {
   "cell_type": "code",
   "execution_count": 1,
   "metadata": {
    "nbgrader": {
     "grade": false,
     "grade_id": "cell-9af09337895caaeb",
     "locked": true,
     "schema_version": 3,
     "solution": false,
     "task": false
    }
   },
   "outputs": [],
   "source": [
    "import pint; from pint import UnitRegistry; AssignQuantity = UnitRegistry().Quantity\n",
    "import numpy as np"
   ]
  },
  {
   "cell_type": "markdown",
   "metadata": {
    "nbgrader": {
     "grade": false,
     "grade_id": "cell-ccc7f242981e1898",
     "locked": true,
     "schema_version": 3,
     "solution": false,
     "task": false
    }
   },
   "source": [
    "### Specifying conversion factors\n",
    "In the following cell, after the example, add the following conversion factors.  \n",
    "\n",
    "    energy_hartree_to_J = 4.35975e-18 \n",
    "    volume_L_to_m3 = 1e-3 # 1 L = 0.001 m^3\n",
    "   "
   ]
  },
  {
   "cell_type": "code",
   "execution_count": 2,
   "metadata": {
    "nbgrader": {
     "grade": true,
     "grade_id": "cell-bbe2f24a4233acf7",
     "locked": false,
     "points": 2,
     "schema_version": 3,
     "solution": true,
     "task": false
    }
   },
   "outputs": [],
   "source": [
    "# The hartree-to-Joule conversion factor\n",
    "### BEGIN SOLUTION\n",
    "energy_hartree_to_J = 4.35975e-18 \n",
    "### END SOLUTION\n",
    "\n",
    "# The Liter-to-m^3 conversion factor\n",
    "### BEGIN SOLUTION\n",
    "volume_L_to_m3 = 1e-3  \n",
    "### END SOLUTION"
   ]
  },
  {
   "cell_type": "markdown",
   "metadata": {
    "nbgrader": {
     "grade": false,
     "grade_id": "cell-d0dfef15b01815e0",
     "locked": true,
     "schema_version": 3,
     "solution": false,
     "task": false
    }
   },
   "source": [
    "### Assigning varibles\n",
    "Below we assign two variables: one is non-SI, the other is SI."
   ]
  },
  {
   "cell_type": "code",
   "execution_count": 3,
   "metadata": {
    "nbgrader": {
     "grade": false,
     "grade_id": "cell-1195015903e13a35",
     "locked": true,
     "schema_version": 3,
     "solution": false,
     "task": false
    }
   },
   "outputs": [
    {
     "name": "stdout",
     "output_type": "stream",
     "text": [
      "1 units: L\n",
      "10 units: L\n"
     ]
    }
   ],
   "source": [
    "# Making a variable equal to 1 L (a non-SI unit), and print\n",
    "V_L = 1\n",
    "print(V_L, 'units: L')\n",
    "\n",
    "# Making a variable equal to 10 Joules (the SI unit of energy), and print\n",
    "Energy_Joules = 10\n",
    "print(Energy_Joules,'units: L')"
   ]
  },
  {
   "cell_type": "markdown",
   "metadata": {
    "nbgrader": {
     "grade": false,
     "grade_id": "cell-214f72f7b33b0415",
     "locked": true,
     "schema_version": 3,
     "solution": false,
     "task": false
    }
   },
   "source": [
    "### Manual conversions to/from SI\n",
    "\n",
    "Use the above conversion factors to convert the volume to $m^3$ and the energy to au, remembering the conventions \n",
    "\n",
    "- to convert a quantity *to* SI from the non-SI unit, *multiply* by the factor\n",
    "- to convert a quantity *from* SI to the non-SI unit, *divide* by the factor"
   ]
  },
  {
   "cell_type": "code",
   "execution_count": 4,
   "metadata": {
    "nbgrader": {
     "grade": true,
     "grade_id": "cell-c7932231a0c30fbe",
     "locked": false,
     "points": 2,
     "schema_version": 3,
     "solution": true,
     "task": false
    }
   },
   "outputs": [
    {
     "name": "stdout",
     "output_type": "stream",
     "text": [
      "0.001 units: meters^3\n",
      "2.2937095016916106e+18 units: Hartrees\n"
     ]
    }
   ],
   "source": [
    "# Convert your volume in liters to cubic meters (the SI unit of volume), and print\n",
    "### BEGIN SOLUTION\n",
    "V_m3 = V_L * volume_L_to_m3\n",
    "print(V_m3, 'units: meters^3')\n",
    "### END SOLUTION\n",
    "\n",
    "# Convert your energy in Joules (the SI unit of energy) to au, and print\n",
    "### BEGIN SOLUTION\n",
    "Energy_au = Energy_Joules/energy_hartree_to_J\n",
    "print(Energy_au,'units: Hartrees')\n",
    "### END SOLUTION"
   ]
  },
  {
   "cell_type": "markdown",
   "metadata": {
    "nbgrader": {
     "grade": false,
     "grade_id": "cell-b1ecf8e32bed3541",
     "locked": true,
     "schema_version": 3,
     "solution": false,
     "task": false
    }
   },
   "source": [
    "### Assigning quantities using *pint*.\n",
    "Below, you'll make the same assignments as you did before -- but this time the variables will have values *and* units."
   ]
  },
  {
   "cell_type": "code",
   "execution_count": 5,
   "metadata": {
    "nbgrader": {
     "grade": true,
     "grade_id": "cell-07c1d02d41659555",
     "locked": false,
     "points": 2,
     "schema_version": 3,
     "solution": true,
     "task": false
    }
   },
   "outputs": [
    {
     "name": "stdout",
     "output_type": "stream",
     "text": [
      "1 liter\n",
      "10 joule\n"
     ]
    }
   ],
   "source": [
    "# Here's an example\n",
    "V = AssignQuantity(1,'L')\n",
    "print(V)\n",
    "\n",
    "# Your turn: create a pint variable, Energy, equal to 10 Joule (and print)\n",
    "### BEGIN SOLUTION\n",
    "Energy = AssignQuantity(10,'J')\n",
    "print(Energy)\n",
    "### END SOLUTION"
   ]
  },
  {
   "cell_type": "markdown",
   "metadata": {
    "nbgrader": {
     "grade": false,
     "grade_id": "cell-2b5e715fbfe19d54",
     "locked": true,
     "schema_version": 3,
     "solution": false,
     "task": false
    }
   },
   "source": [
    "### Conversions using *pint*.\n",
    "Below, you're prompted to repeat the conversions you did before -- hopefully, you'll get the same answers!"
   ]
  },
  {
   "cell_type": "code",
   "execution_count": 6,
   "metadata": {
    "nbgrader": {
     "grade": true,
     "grade_id": "cell-b98e33109d552f58",
     "locked": false,
     "points": 1,
     "schema_version": 3,
     "solution": true,
     "task": false
    }
   },
   "outputs": [
    {
     "name": "stdout",
     "output_type": "stream",
     "text": [
      "0.0010000000000000002 meter ** 3\n",
      "2.2937122783962883e+18 hartree\n"
     ]
    }
   ],
   "source": [
    "# Here's an example\n",
    "V.ito('m^3')\n",
    "print(V)\n",
    "\n",
    "# Your turn: convert your pint-defined energy to hartree (and print)\n",
    "### BEGIN SOLUTION\n",
    "Energy.ito('hartree')\n",
    "print(Energy)\n",
    "### END SOLUTION"
   ]
  },
  {
   "cell_type": "markdown",
   "metadata": {
    "nbgrader": {
     "grade": false,
     "grade_id": "cell-a6e727eba3ff6b7f",
     "locked": true,
     "schema_version": 3,
     "solution": false,
     "task": false
    }
   },
   "source": [
    "### Pause for analysis\n",
    "Suppose somebody tells you to convert 1 Liter of volume into some other unit that's definitely not an volume -- like degrees Kelvin. That's crazy, right? Volume and temperature totally do not have *compatible units*. But just to see what would happen if you tried, replace the line V.ito('m^3') in the cell above with V.ito('K'), and execute the cell. Hopefully, *pint* will throw an informative error.\n",
    "\n",
    "Don't forget to change the line back to V.ito('m^3') before moving on."
   ]
  },
  {
   "cell_type": "markdown",
   "metadata": {
    "nbgrader": {
     "grade": false,
     "grade_id": "cell-83129d60389c8db0",
     "locked": true,
     "schema_version": 3,
     "solution": false,
     "task": false
    }
   },
   "source": [
    "### Finding compatible units using ureg\n",
    "The cell below shows how to ask UnitRegistry for units with dimension temperature. It can be pretty handy! "
   ]
  },
  {
   "cell_type": "code",
   "execution_count": 7,
   "metadata": {
    "nbgrader": {
     "grade": false,
     "grade_id": "cell-ede509b79f08bf5c",
     "locked": true,
     "schema_version": 3,
     "solution": false,
     "task": false
    }
   },
   "outputs": [
    {
     "data": {
      "text/plain": [
       "frozenset({<Unit('degree_Rankine')>,\n",
       "           <Unit('kelvin')>,\n",
       "           <Unit('degree_Fahrenheit')>,\n",
       "           <Unit('degree_Reaumur')>,\n",
       "           <Unit('degree_Celsius')>,\n",
       "           <Unit('atomic_unit_of_temperature')>,\n",
       "           <Unit('planck_temperature')>})"
      ]
     },
     "execution_count": 7,
     "metadata": {},
     "output_type": "execute_result"
    }
   ],
   "source": [
    "UnitRegistry().get_compatible_units('[temperature]')"
   ]
  },
  {
   "cell_type": "markdown",
   "metadata": {
    "nbgrader": {
     "grade": false,
     "grade_id": "cell-993a965e28afb1e7",
     "locked": true,
     "schema_version": 3,
     "solution": false,
     "task": false
    }
   },
   "source": [
    "### Your turn\n",
    "In the cell below, ask UnitRegistry to list all units compatible with '[energy]'."
   ]
  },
  {
   "cell_type": "code",
   "execution_count": 8,
   "metadata": {
    "nbgrader": {
     "grade": true,
     "grade_id": "cell-b521e7676c17a868",
     "locked": false,
     "points": 1,
     "schema_version": 3,
     "solution": true,
     "task": false
    }
   },
   "outputs": [
    {
     "data": {
      "text/plain": [
       "frozenset({<Unit('electron_volt')>,\n",
       "           <Unit('rydberg')>,\n",
       "           <Unit('hartree')>,\n",
       "           <Unit('erg')>,\n",
       "           <Unit('joule')>,\n",
       "           <Unit('foot_pound')>,\n",
       "           <Unit('calorie')>,\n",
       "           <Unit('fifteen_degree_calorie')>,\n",
       "           <Unit('international_calorie')>,\n",
       "           <Unit('atmosphere_liter')>,\n",
       "           <Unit('thermochemical_british_thermal_unit')>,\n",
       "           <Unit('international_british_thermal_unit')>,\n",
       "           <Unit('british_thermal_unit')>,\n",
       "           <Unit('watt_hour')>,\n",
       "           <Unit('US_therm')>,\n",
       "           <Unit('therm')>,\n",
       "           <Unit('ton_TNT')>,\n",
       "           <Unit('tonne_of_oil_equivalent')>,\n",
       "           <Unit('quadrillion_Btu')>})"
      ]
     },
     "execution_count": 8,
     "metadata": {},
     "output_type": "execute_result"
    }
   ],
   "source": [
    "### BEGIN SOLUTION\n",
    "UnitRegistry().get_compatible_units('[energy]')\n",
    "### END SOLUTION"
   ]
  },
  {
   "cell_type": "markdown",
   "metadata": {
    "nbgrader": {
     "grade": false,
     "grade_id": "cell-736cb0f3aca0b1b1",
     "locked": true,
     "schema_version": 3,
     "solution": false,
     "task": false
    }
   },
   "source": [
    "### How pint provides a bridge between algebra and arithmetic\n",
    "In the introduction, we talked about how $E_{collision} \\approx RT$ tells us about the kinetic energy with which gas molecules collide with one another. Our claim was that even if you use crazy units for $R$ and $T$, as long as they are dimensionally correct, the resulting $E_{collision}$ is still an *energy*, and therefore we can use *pint* to convert it into an energy unit that we *do* recognize. \n",
    "\n",
    "The cell below has you explore this a bit. We'll stick with temperature in degrees Kelvin, but rather than any of the values of $R$ given in the introduction, go to https://en.wikipedia.org/wiki/Gas_constant and choose one of the \"Other Common Units\" -- for example, $62 \\frac {L \\cdot torr} {K \\cdot mol}$. "
   ]
  },
  {
   "cell_type": "code",
   "execution_count": 9,
   "metadata": {
    "nbgrader": {
     "grade": true,
     "grade_id": "cell-40e05e9584324d27",
     "locked": false,
     "points": 3,
     "schema_version": 3,
     "solution": true,
     "task": false
    }
   },
   "outputs": [
    {
     "name": "stdout",
     "output_type": "stream",
     "text": [
      "18166 liter * torr / mole\n",
      "2.4219341447368423 kilojoule / mole\n"
     ]
    }
   ],
   "source": [
    "# Start with room temperature\n",
    "T = AssignQuantity(293,'K')\n",
    "\n",
    "# Assign a value of R (different from any value given in the introduction)\n",
    "### BEGIN SOLUTION\n",
    "R = AssignQuantity(62,'L torr /mol /K')\n",
    "### END SOLUTION\n",
    "\n",
    "# Calculate and print the resulting collision energy\n",
    "### BEGIN SOLUTION\n",
    "E = R*T\n",
    "print(E)\n",
    "### END SOLUTION\n",
    "\n",
    "# Convert your collision energy to kjoule/mol, and print the result\n",
    "### BEGIN SOLUTION\n",
    "E.ito('kjoule/mol')\n",
    "print(E)\n",
    "### END SOLUTION"
   ]
  },
  {
   "cell_type": "markdown",
   "metadata": {
    "nbgrader": {
     "grade": false,
     "grade_id": "cell-64945de7d3ed13b4",
     "locked": true,
     "schema_version": 3,
     "solution": false,
     "task": false
    }
   },
   "source": [
    "### Clean-up\n",
    "We're at the end of the notebook. Use the Kernel/Restart & Run All, just to make sure your code works from top to bottom, and fix any errors or warnings.\n",
    "\n",
    "### Validate\n",
    "Find the \"Validate\" button and press it. If there are any errors or warnings, fix them.\n",
    "\n",
    "### Finish up\n",
    "1. Close this notebook using the \"File/Close and Halt\" dropdown menu\n",
    "1. Using the Assignments tab, submit this notebook\n",
    "1. Press the Logout tab of the Home Page"
   ]
  }
 ],
 "metadata": {
  "celltoolbar": "Create Assignment",
  "kernelspec": {
   "display_name": "Python 3 (ipykernel)",
   "language": "python",
   "name": "python3"
  },
  "language_info": {
   "codemirror_mode": {
    "name": "ipython",
    "version": 3
   },
   "file_extension": ".py",
   "mimetype": "text/x-python",
   "name": "python",
   "nbconvert_exporter": "python",
   "pygments_lexer": "ipython3",
   "version": "3.10.2"
  }
 },
 "nbformat": 4,
 "nbformat_minor": 2
}

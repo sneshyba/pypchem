{
 "cells": [
  {
   "cell_type": "code",
   "execution_count": 1,
   "metadata": {
    "nbgrader": {
     "grade": false,
     "grade_id": "cell-b5069bf04904ca8a",
     "locked": true,
     "schema_version": 3,
     "solution": false,
     "task": false
    }
   },
   "outputs": [],
   "source": [
    "import numpy as np\n",
    "import sympy as sp\n",
    "import matplotlib.pyplot as plt\n",
    "from pint import UnitRegistry\n",
    "ureg = UnitRegistry()\n",
    "AssignQuantity = ureg.Quantity"
   ]
  },
  {
   "cell_type": "markdown",
   "metadata": {
    "nbgrader": {
     "grade": false,
     "grade_id": "cell-f61a0b0ede3114f4",
     "locked": true,
     "schema_version": 3,
     "solution": false,
     "task": false
    }
   },
   "source": [
    "### 1. Enthalpy of fusion of water at 271 K\n",
    "We know that the enthalpy of fusion of water at the standard temperature (298 K) is 6.0 kJ/mol. But ice in equilibrium with sea water is expected to have a temperature of -2 C, or 271 K, so we can expect its enthalpy of fusion to be different.\n",
    "\n",
    "Part 1. Based on what you know about $H(T)$ for water in its three forms, predict whether the enthalpy of fusion should be bigger or smaller at 271 K (compared to 298 K).\n",
    "\n",
    "Part 2. Calculate the enthalpy of fusion of water at 271 K. You can assume constant heat capacities (see our lecture slides)."
   ]
  },
  {
   "cell_type": "code",
   "execution_count": 2,
   "metadata": {
    "nbgrader": {
     "grade": true,
     "grade_id": "cell-22ba12c1615420b2",
     "locked": false,
     "points": 3,
     "schema_version": 3,
     "solution": true,
     "task": false
    }
   },
   "outputs": [
    {
     "name": "stdout",
     "output_type": "stream",
     "text": [
      "37.400000000000006 joule / kelvin / mole\n",
      "-1009.8000000000002 joule / mole\n",
      "Delta H(fus) at 271 K = 4.9902 kilojoule / mole\n"
     ]
    }
   ],
   "source": [
    "### BEGIN SOLUTION\n",
    "CP_liq = AssignQuantity(75.4,'J/mol/K')\n",
    "CP_ice = AssignQuantity(38,'J/mol/K')\n",
    "\n",
    "DeltaCP = CP_liq-CP_ice; print(DeltaCP)\n",
    "DeltaT = AssignQuantity(271 - 298,'K')\n",
    "DeltaDelta = DeltaCP*DeltaT; \n",
    "print(DeltaDelta)\n",
    "\n",
    "DeltaHfus0 = AssignQuantity(6,'kJ/mol')\n",
    "\n",
    "DeltaHfus271 = DeltaHfus0 + DeltaDelta\n",
    "print('Delta H(fus) at 271 K =', DeltaHfus271)\n",
    "\n",
    "### END SOLUTION"
   ]
  },
  {
   "cell_type": "markdown",
   "metadata": {
    "nbgrader": {
     "grade": false,
     "grade_id": "cell-dad0d05eea50f849",
     "locked": true,
     "schema_version": 3,
     "solution": false,
     "task": false
    }
   },
   "source": [
    "### 2. Enthalpy of sublimation of water at 218 K\n",
    "At 218 K, Mars is much colder than Earth -- far below the triple point temperature of ice. So we don't expect any liquid water on the surface of Mars (now). But there *are* what appear to be ice caps in the polar regions of Mars, which grow and retreat with the Martian seasons. As thermodynamicists, we'd like to know the enthalpy of sublimation of water ice under those conditions.\n",
    "\n",
    "Part 1. Based on what you know about 𝐻(𝑇) for water in its three forms, predict whether the enthalpy of sublimation should be bigger or smaller at 218 K (compared to 298 K).\n",
    "\n",
    "Part 2. Calculate the enthalpy of sublimation of water at 218 K. You can assume constant heat capacities. "
   ]
  },
  {
   "cell_type": "code",
   "execution_count": 3,
   "metadata": {
    "nbgrader": {
     "grade": true,
     "grade_id": "cell-4395eacfe6ef7ec3",
     "locked": false,
     "points": 3,
     "schema_version": 3,
     "solution": true,
     "task": false
    }
   },
   "outputs": [
    {
     "name": "stdout",
     "output_type": "stream",
     "text": [
      "-4.399999999999999 joule / kelvin / mole\n",
      "351.9999999999999 joule / mole\n",
      "Delta H(sub) at 218 K = 50.352 kilojoule / mole\n"
     ]
    }
   ],
   "source": [
    "### BEGIN SOLUTION\n",
    "CP_gas = AssignQuantity(33.6,'J/mol/K')\n",
    "CP_ice = AssignQuantity(38,'J/mol/K')\n",
    "\n",
    "DeltaCP = CP_gas-CP_ice; print(DeltaCP)\n",
    "DeltaT = AssignQuantity(218 - 298,'K')\n",
    "DeltaDelta = DeltaCP*DeltaT; \n",
    "print(DeltaDelta)\n",
    "\n",
    "DeltaHsub0 = AssignQuantity(50,'kJ/mol')\n",
    "\n",
    "DeltaHsub218 = DeltaHsub0 + DeltaDelta\n",
    "print('Delta H(sub) at 218 K =', DeltaHsub218)\n",
    "\n",
    "### END SOLUTION"
   ]
  },
  {
   "cell_type": "markdown",
   "metadata": {
    "nbgrader": {
     "grade": false,
     "grade_id": "cell-505c8d183eb2593a",
     "locked": true,
     "schema_version": 3,
     "solution": false,
     "task": false
    }
   },
   "source": [
    "### Pressure dependence of the enthalpy of vaporization\n",
    "For water vapor, the vdw formula for the isothermal Joule-Thomson coefficient is $\\mu_T(gas) \\approx n(b-2a/RT)$. For liquid water, we can say $\\mu_T \\approx nb/3$.\n",
    "\n",
    "Part 1. Based on what you know about 𝐻(𝑇) for water in its three forms, predict whether the enthalpy of sublimation should be bigger or smaller at a higher pressure (compared to 1 atm). Here's a big hint: $\\mu_T(gas)$ is much bigger in magnitude than $\\mu_T(liq)$, and negative, at this temperature.\n",
    "\n",
    "Part 2. Derive an analytical expression for $\\Delta(\\Delta H_{vap})$ when the pressure is raised from a starting pressure (call it $P_1$) to a new pressure ($P_2$), assuming the above dependence of the Joule-Thomson coefficients on vdw parameters $a$ and $b$.\n",
    "\n",
    "Part 3. Get a numerical result for $\\Delta(\\Delta H_{vap})$ when one mole of water is taken from 1 atm to 10 atm, at 298 K. You'll have to be careful about units here! A good set of units to use is the L-atm system, in which\n",
    "\n",
    "- $R = 0.082 \\ L \\ atm /mol \\ K$\n",
    "- $a = 1.35 L^2 \\ atm / mol^2$\n",
    "- $b = 0.0387 L /mol$\n",
    "\n",
    "If you use these units, your result for $\\Delta(\\Delta H_{vap})$ will be in the units \"$L \\ atm$\". To convert to Joules, multiply by $101$. One way to check your result: the sign of $\\Delta(\\Delta H_{vap})$ should be consistent with your prediction in Part 1."
   ]
  },
  {
   "cell_type": "code",
   "execution_count": 8,
   "metadata": {
    "nbgrader": {
     "grade": true,
     "grade_id": "cell-a1ab76f07b8a75cc",
     "locked": false,
     "points": 4,
     "schema_version": 3,
     "solution": true,
     "task": false
    }
   },
   "outputs": [
    {
     "name": "stdout",
     "output_type": "stream",
     "text": [
      "gas: b*n - 2*a*n/(R*T)\n",
      "liq: b*n/3\n",
      "2*b*n/3 - 2*a*n/(R*T)\n",
      "  ⎛2⋅b⋅n   2⋅a⋅n⎞\n",
      "P⋅⎜───── - ─────⎟\n",
      "  ⎝  3      R⋅T ⎠\n",
      "     ⎛2⋅b⋅n   2⋅a⋅n⎞      ⎛2⋅b⋅n   2⋅a⋅n⎞\n",
      "- P₁⋅⎜───── - ─────⎟ + P₂⋅⎜───── - ─────⎟\n",
      "     ⎝  3      R⋅T ⎠      ⎝  3      R⋅T ⎠\n",
      "mu_T_gas: -0.0717927156654117\n",
      "mu_T_liq: 0.0129000000000000\n",
      "Delta(Delta H)= -0.762234440988705 L-atm\n",
      "Delta(Delta H)= -76.9856785398592 Joule\n",
      "Delta(Delta H)= -77.2143488721558 Joule (more precise)\n"
     ]
    }
   ],
   "source": [
    "### BEGIN SOLUTION ###\n",
    "# Analytical work\n",
    "sp.var(\"a\")\n",
    "sp.var(\"b\")\n",
    "sp.var(\"n\")\n",
    "sp.var(\"R\")\n",
    "sp.var(\"T\")\n",
    "sp.var(\"P\")\n",
    "sp.var(\"P1\")\n",
    "sp.var(\"P2\")\n",
    "\n",
    "mu_T_gas = b*n - 2*a*n/(R*T); print('gas:', mu_T_gas)\n",
    "mu_T_liq = n*b/3; print('liq:', mu_T_liq)\n",
    "Deltamu_T = mu_T_gas - mu_T_liq; print(Deltamu_T)\n",
    "DeltaDelta = sp.integrate(Deltamu_T,P); sp.pprint(DeltaDelta)\n",
    "DeltaDelta = DeltaDelta.subs({P:P2})-DeltaDelta.subs({P:P1}); sp.pprint(DeltaDelta)\n",
    "\n",
    "# Numerical evaluation\n",
    "\n",
    "# # Moles, and the gas constant\n",
    "# a = AssignQuantity(1.370,'L^2 bar / mol^2'); print(a)\n",
    "# a.ito('L^2 atm /mol^2'); print(a)\n",
    "\n",
    "a_num = 1.35 # L^2 atm / mol^2\n",
    "b_num = 0.0387 # L /mol\n",
    "n_num = 1\n",
    "R_num = 0.082 # L atm / mol / K\n",
    "T_num = 298 # K\n",
    "P1_num = 1 # atm\n",
    "P2_num = 10 # atm\n",
    "\n",
    "mu_T_gas_num = mu_T_gas.subs({R:R_num,n:n_num,a:a_num,b:b_num,T:T_num})\n",
    "print('mu_T_gas:', mu_T_gas_num)\n",
    "\n",
    "mu_T_liq_num = mu_T_liq.subs({R:R_num,n:n_num,a:a_num,b:b_num,T:T_num})\n",
    "print('mu_T_liq:', mu_T_liq_num)\n",
    "\n",
    "DeltaDelta_numerical = \\\n",
    "    DeltaDelta.subs({R:R_num,n:n_num,a:a_num,b:b_num,T:T_num,P1:P1_num,P2:P2_num})\n",
    "print('Delta(Delta H)=',DeltaDelta_numerical,'L-atm')\n",
    "print('Delta(Delta H)=',DeltaDelta_numerical*101,'Joule')\n",
    "print('Delta(Delta H)=',DeltaDelta_numerical*101.3,'Joule (more precise)')\n",
    "\n",
    "\n",
    "# CP_liq = AssignQuantity(75.4,'J/mol/K')\n",
    "# mu_liq = AssignQuantity(-.22,'K / MPa'); print(mu_liq)\n",
    "# mu_liq.ito('K/Pa'); print(mu_liq)\n",
    "\n",
    "# mu_T_gas = b*n - 2*a*n/(R*T); print('gas:', mu_T_gas)\n",
    "# mu_T_liq_reference = -CP_liq*mu_liq; print('liq, reference:', mu_T_liq_reference.to('L/mol'))\n",
    "# mu_T_liq = n*b/3; print('liq:', mu_T_liq)\n",
    "\n",
    "# DeltaDelta = sp.integrate(Deltamu_T,P); print('DeltaDelta:', DeltaDelta)\n",
    "# P1 = 1\n",
    "# P2 = 2\n",
    "\n",
    "# DeltaDelta_P2 = DeltaDelta.subs(P,P2); print(DeltaDelta_P2)\n",
    "# DeltaDelta_P1 = DeltaDelta.subs(P,P1); print(DeltaDelta_P1)\n",
    "# DeltaDelta = DeltaDelta_P2 - DeltaDelta_P1; print('DeltaDelta:', DeltaDelta)\n",
    "\n",
    "# print(AssignQuantity(1,'L atm').to('J'))\n",
    "\n",
    "\n",
    "\n",
    "### END SOLUTION"
   ]
  },
  {
   "cell_type": "code",
   "execution_count": null,
   "metadata": {},
   "outputs": [],
   "source": []
  }
 ],
 "metadata": {
  "celltoolbar": "Create Assignment",
  "kernelspec": {
   "display_name": "Python 3.6",
   "language": "python",
   "name": "python3"
  },
  "language_info": {
   "codemirror_mode": {
    "name": "ipython",
    "version": 3
   },
   "file_extension": ".py",
   "mimetype": "text/x-python",
   "name": "python",
   "nbconvert_exporter": "python",
   "pygments_lexer": "ipython3",
   "version": "3.6.9"
  }
 },
 "nbformat": 4,
 "nbformat_minor": 2
}

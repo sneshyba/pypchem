{
 "cells": [
  {
   "cell_type": "markdown",
   "metadata": {
    "id": "QMe9-ikJwkVQ",
    "nbgrader": {
     "grade": false,
     "grade_id": "cell-7620e2340477c81a",
     "locked": true,
     "schema_version": 3,
     "solution": false,
     "task": false
    }
   },
   "source": [
    "### Computational Guided Inquiry for PChem (Neshyba, 2021)\n",
    "\n",
    "# The Carnot Cycle\n",
    "\n",
    "## Introduction\n",
    "\n",
    "The purpose of any heat engine is to generate a useable form of energy (such as electricity) from the heat extracted from a hot reservoir (such as a furnace). A *Carnot heat engine* is a theoretical heat engine in which one imagines taking an ideal gas through a sequence of reversible expansions and contractions of an ideal gas that ends up with the gas in the exact same state it started in. This sequence is called a *Carnot cycle*, and is often depicted in an *indicator diagram* such as Fig. 1. The upper curve of this cycle (from point A to B) is the isothermal heat extraction leg that gets the engine started: during this leg, the gas is in thermal contact with the hot reservoir and extracts heat from it. Subsequent legs of the cycle trace out a clockwise closed loop in this diagram, as indicated by the arrows in the figure. The cycle is called a *closed thermodynamic cycle* because the gas returns to its initial state at the end. \n",
    "\n",
    "<p style='text-align: center;'>\n",
    "<img src=\"cycle1.jpg\" height=\"400\" width=\"400\"/>\n",
    "\n",
    "__Figure 1__. Indicator diagram showing a Carnot cycle acting as a heat engine. \n",
    "</p>\n",
    "\n",
    "\n",
    "## Reversible PV work\n",
    "An important property of a Carnot cycle is the work done,\n",
    "\n",
    "$$\n",
    "w = -\\int P dV \\space  (each \\ leg) \\ \\ \\ \\ (1)\n",
    "$$\n",
    "\n",
    "where the integration limits are the endpoints of each leg, and it's assumed that the system's pressure, $P$, is is never very far from the pressure outside, $P_{ex}$. This is called the condition of *reversibility*. \n",
    "\n",
    "As long as we know the path -- the details of how the pressure changes as a function of volume -- we can calculate the work *numerically* by using the trapezoidal rule. In the special case of isothermal reversible expansion or compression of an ideal gas, we have the *analytical* result that\n",
    "\n",
    "$$\n",
    "w_{isotherm} = -n R T \\ ln \\bigl ( \\frac {V_{final}} {V_{initial}} \\bigr ) \\ \\ \\ \\ (2)\n",
    "$$\n",
    "\n",
    "where, e.g., for the first leg of the Carnot cycle, $V_{final}=V_B$ and $V_{initial}=V_A$. We'll be using both approaches -- numerical and analytical -- in this exercise, to help verify we haven't made a mistake anywhere.\n",
    "\n",
    "\n",
    "## Thermal power generators\n",
    "Both equations above say that *expansions* (leg 1 from A to B, and leg 2 from B to C) should have $w<0$, while *compressions* (legs 3 and 4) should have $w>0$. Since the whole idea of a thermal power generator -- known to Thermodynamics as a *heat engine* -- is that it will \"do work\" on the surroundings, like turn a turbine to make electricity, it had better be that the work associated with expansion (legs 1 and 2) is bigger than the work associated with compression (legs 3 and 4). In other words, a thermal power generator makes electricity because the total work, given by \n",
    "\n",
    "$$\n",
    "w_{tot}=w_1+w_2+w_3+w_4 \\ \\ \\ \\ (3)\n",
    "$$\n",
    "\n",
    "is less than zero.\n",
    "\n",
    "## Heat\n",
    "Of special interest is the heat extracted from the surroundings when an ideal gas expands,\n",
    "\n",
    "$$\n",
    "q_{isotherm} = +n R T \\ ln \\bigl ( \\frac {V_{final}} {V_{initial}} \\bigr ) \\ \\ \\ \\ (4)\n",
    "$$\n",
    "\n",
    "where, e.g., we would replace $T$, $V_{final}$, and $V_{initial}$ with values associated with leg 1 if we want the heat extracted from the hot furnace. The value in that case -- we could call it $q_{isotherm}(hot)$ -- is important for that very reason: it's directly related to the cost of the fuel you have to buy to keep the furnace hot!\n",
    "\n",
    "Also of special interest is the heat released by our ideal gas to the surroundings -- usually the air, or sometimes a nearby river or ocean -- during the third leg, in which we'd call it $q_{isotherm}(cold)$.\n",
    "\n",
    "About signs: Since $V_2>V_1$, $q_{isotherm}(hot)$ is a positive number, consistent with the idea we just discussed, that heat moves out of the air surrounding our ideal gas -- the hot furnace -- and into our ideal gas. Likewise, since $V_4<V_3$, $q_{isotherm}(cold)$ is a negative number, consistent with heat moving out the system (our ideal gas) and into the surroundings (air, river).\n",
    "\n",
    "## Efficiency\n",
    "The *observed efficiency* of a heat engine, by definition, is ratio of the work one gets out of the engine, to the heat extracted from the hot reservoir,\n",
    "\n",
    "$$\n",
    "\\varepsilon_{observed} = -w_{tot}/q_{hot} \\ \\ \\ \\ (5)\n",
    "$$\n",
    "\n",
    "where the negative sign is there so that $\\varepsilon$ is a positive number. We're calling this the *observed* effiency because any power plant, regardless of what gas or other substance it's working with (usually it's a combination of liquid water and steam) has an efficiency. To go back to an earlier idea: engineers try to make $\\varepsilon_{observed}$ as big as possible, because the amount of electricity it sells is proportional to $w_{tot}$, while the amount of fuel it has to buy is proportional to $q_{hot}$.\n",
    "\n",
    "Although a theoretical construct (because ideal gases are not real), Carnot heat engines let us derive a fundamental theoretical limit, namely that the *theoretical maximum efficiency* of *any* heat engine is given by\n",
    "\n",
    "$$\n",
    "\\varepsilon_{max} = {T_{hot}-T_{cold} \\over T_{hot}} \\ \\ \\ \\ (6)\n",
    "$$\n",
    "\n",
    "Engineers use this equation too, even though they don't have ideal gases to work with, because what it fundamentally says goes way beyond heat engines made from ideal gases. It is the idea that better efficiency results when a furnace is really hot, and the place you are dumping your leftover heat is really cold. The same principle governs the efficiency of gas-powered automobiles, in fact: hotter engines are generally more efficient.\n",
    "\n",
    "One more important relationship also has engineering implications. It has to do with how the volumes of the four corners of the Carnot cycle can't be completely independent from one another, since (as we've mentioned) at the end of each Carnot cycle, the gas has to return to its initial state. This in turn translates into a *proportionality requirement*,\n",
    "\n",
    "$$\n",
    "\\dfrac{V_B}{V_A} = \\dfrac{V_C}{V_D} \\ \\ \\ \\ (7)\n",
    "$$\n",
    "\n",
    "## Learning Goals\n",
    "1. Familiarity with fundamental thermodynamical ideas and formulas associated with a Carnot cycle. Some key vocabulary:\n",
    "\n",
    "    - Carnot heat engine\n",
    "    - Carnot cycle\n",
    "    - Indicator diagram\n",
    "    - Closed thermodynamic cycle\n",
    "    - Reversibility\n",
    "    - Observed heat engine efficiency vs theoretical maximum efficiency\n",
    "    - The proportionality requirement of a closed Carnot cycle\n",
    "    \n",
    "\n",
    "2. Familiarity with numerical approaches to computing work.\n",
    "3. Familiarity with relationships between Carnot cycle and thermal power generation. \n"
   ]
  },
  {
   "cell_type": "code",
   "execution_count": 1,
   "metadata": {
    "id": "5wF8ykbHwkVW"
   },
   "outputs": [],
   "source": [
    "# Import resources - execute 2x if you want interactive graphics\n",
    "import pint; from pint import UnitRegistry; AssignQuantity = UnitRegistry().Quantity\n",
    "import numpy as np\n",
    "import matplotlib.pyplot as plt\n",
    "import PchemLibrary as PL\n",
    "from mpl_toolkits.mplot3d import axes3d\n",
    "%matplotlib notebook"
   ]
  },
  {
   "cell_type": "code",
   "execution_count": 2,
   "metadata": {
    "nbgrader": {
     "grade": false,
     "grade_id": "cell-df06249fdaae99a4",
     "locked": true,
     "schema_version": 3,
     "solution": false,
     "task": false
    }
   },
   "outputs": [
    {
     "name": "stdout",
     "output_type": "stream",
     "text": [
      "8.314 joule / kelvin / mole\n",
      "1 mole\n",
      "12.471 joule / kelvin\n"
     ]
    }
   ],
   "source": [
    "R = AssignQuantity(8.314,'J/mol/K'); print(R)\n",
    "n = AssignQuantity(1,'mol'); print(n)\n",
    "C_V = 3/2*R*n; print(C_V)"
   ]
  },
  {
   "cell_type": "markdown",
   "metadata": {
    "nbgrader": {
     "grade": false,
     "grade_id": "cell-fc783df5cf9b0e3d",
     "locked": true,
     "schema_version": 3,
     "solution": false,
     "task": false
    }
   },
   "source": [
    "### Getting all the specs about point A\n",
    "We're starting with a known temperature and volume, so we specify those and deduce the pressure from them using the ideal gas law."
   ]
  },
  {
   "cell_type": "code",
   "execution_count": 3,
   "metadata": {
    "nbgrader": {
     "grade": false,
     "grade_id": "cell-7781d4c50ce2b8d9",
     "locked": true,
     "schema_version": 3,
     "solution": false,
     "task": false
    }
   },
   "outputs": [
    {
     "name": "stdout",
     "output_type": "stream",
     "text": [
      "VA = 10 liter\n",
      "TA = 298 kelvin\n",
      "PA = 2.4451734517641253 standard_atmosphere\n"
     ]
    }
   ],
   "source": [
    "# Specify the starting volume and temperature\n",
    "VA = AssignQuantity(10,'L')\n",
    "TA = AssignQuantity(298,'K')\n",
    "\n",
    "# Deduce PA from ideal gas law\n",
    "PA = n*R*TA/VA\n",
    "PA.ito('atm')\n",
    "\n",
    "# Report\n",
    "print(\"VA =\", VA)\n",
    "print(\"TA =\", TA)\n",
    "print(\"PA =\", PA)"
   ]
  },
  {
   "cell_type": "markdown",
   "metadata": {
    "nbgrader": {
     "grade": false,
     "grade_id": "cell-f1adf912d8dffe2e",
     "locked": true,
     "schema_version": 3,
     "solution": false,
     "task": false
    }
   },
   "source": [
    "### Isothermal expansion from A to B"
   ]
  },
  {
   "cell_type": "code",
   "execution_count": 4,
   "metadata": {
    "id": "GETifGLcwkVX",
    "nbgrader": {
     "grade": false,
     "grade_id": "cell-cd682e4ebd54b753",
     "locked": true,
     "schema_version": 3,
     "solution": false,
     "task": false
    }
   },
   "outputs": [
    {
     "name": "stderr",
     "output_type": "stream",
     "text": [
      "/usr/local/lib/python3.6/dist-packages/numpy/core/numeric.py:591: UnitStrippedWarning: The unit of the quantity is stripped when downcasting to ndarray.\n",
      "  return array(a, dtype, copy=False, order=order, subok=True)\n",
      "/usr/local/lib/python3.6/dist-packages/numpy/core/numeric.py:538: UnitStrippedWarning: The unit of the quantity is stripped when downcasting to ndarray.\n",
      "  return array(a, dtype, copy=False, order=order)\n"
     ]
    },
    {
     "data": {
      "text/plain": [
       "<matplotlib.legend.Legend at 0x7f0e6dd86780>"
      ]
     },
     "execution_count": 4,
     "metadata": {},
     "output_type": "execute_result"
    },
    {
     "data": {
      "image/png": "[encoded data removed]",
      "text/plain": [
       "<Figure size 432x288 with 1 Axes>"
      ]
     },
     "metadata": {
      "needs_background": "light"
     },
     "output_type": "display_data"
    }
   ],
   "source": [
    "# Specify the volume we're going to\n",
    "VB = AssignQuantity(20,'L')\n",
    "\n",
    "# Get the volume & pressure along this isotherm\n",
    "V_leg1, P_leg1 = PL.func_P_isotherm(VA,VB,n,R,TA,AssignQuantity,'atm')\n",
    "\n",
    "# Graph this leg\n",
    "plt.figure()\n",
    "plt.plot(V_leg1,P_leg1,color='red',label='Leg 1 (hot isothermal expansion)')\n",
    "plt.grid(True)\n",
    "plt.legend()"
   ]
  },
  {
   "cell_type": "markdown",
   "metadata": {
    "nbgrader": {
     "grade": false,
     "grade_id": "cell-2ba4e004c178748c",
     "locked": true,
     "schema_version": 3,
     "solution": false,
     "task": false
    }
   },
   "source": [
    "### Getting remaining specs about point B\n",
    "We already specified volume at B, and the end of leg 1 will tell us the pressure at B. The temperature *should* be equal to TA, but here we're deducing it from VB and PB as a check."
   ]
  },
  {
   "cell_type": "code",
   "execution_count": 5,
   "metadata": {
    "nbgrader": {
     "grade": false,
     "grade_id": "cell-efbd2c6c274b90fd",
     "locked": true,
     "schema_version": 3,
     "solution": false,
     "task": false
    }
   },
   "outputs": [
    {
     "name": "stdout",
     "output_type": "stream",
     "text": [
      "VB = 20 liter\n",
      "TB = 298.0000000000001 kelvin\n",
      "PB = 1.2225867258820626 standard_atmosphere\n"
     ]
    }
   ],
   "source": [
    "# Get PB from the last point of the previous leg \n",
    "PB = P_leg1[-1]\n",
    "\n",
    "# Deduce temperature from ideal gas law (should be equal to TA)\n",
    "TB = PB*VB/(n*R)\n",
    "TB.ito('K')\n",
    "\n",
    "# Report\n",
    "print(\"VB =\", VB)\n",
    "print(\"TB =\", TB)\n",
    "print(\"PB =\", PB)"
   ]
  },
  {
   "cell_type": "markdown",
   "metadata": {
    "id": "nhxOujbKwkVX",
    "nbgrader": {
     "grade": false,
     "grade_id": "cell-be93c2cf584f3411",
     "locked": true,
     "schema_version": 3,
     "solution": false,
     "task": false
    }
   },
   "source": [
    "### Adiabatic expansion from B to C\n",
    "Now we'll specify our next destination volume (VC) and carry out an adiabatic expansion."
   ]
  },
  {
   "cell_type": "code",
   "execution_count": 6,
   "metadata": {
    "id": "MDBJxc2-wkVY",
    "nbgrader": {
     "grade": false,
     "grade_id": "cell-b1f5077e7323b117",
     "locked": true,
     "schema_version": 3,
     "solution": false,
     "task": false
    }
   },
   "outputs": [
    {
     "data": {
      "text/plain": [
       "<matplotlib.legend.Legend at 0x7f0e6bc53fd0>"
      ]
     },
     "execution_count": 6,
     "metadata": {},
     "output_type": "execute_result"
    },
    {
     "data": {
      "image/png": "[encoded data removed]",
      "text/plain": [
       "<Figure size 432x288 with 1 Axes>"
      ]
     },
     "metadata": {
      "needs_background": "light"
     },
     "output_type": "display_data"
    }
   ],
   "source": [
    "# Specify the volume we're going to\n",
    "VC = AssignQuantity(30,'L')\n",
    "\n",
    "# Get the volume & pressure along this adiabat\n",
    "V_leg2, P_leg2 = PL.func_P_adiabat(VB,VC,n,R,TB,C_V,AssignQuantity,'atm')\n",
    "\n",
    "# Graph leg 1 and leg 2\n",
    "plt.figure()\n",
    "plt.plot(V_leg1,P_leg1,color='red',label='Leg 1 (hot isothermal expansion)')\n",
    "plt.plot(V_leg2,P_leg2,color='black',linestyle='dashed',label='Leg 2 (adiabatic expansion)')\n",
    "plt.grid(True)\n",
    "plt.legend()"
   ]
  },
  {
   "cell_type": "markdown",
   "metadata": {
    "nbgrader": {
     "grade": false,
     "grade_id": "cell-d71d1b53de95e7b1",
     "locked": true,
     "schema_version": 3,
     "solution": false,
     "task": false
    }
   },
   "source": [
    "### Your turn: Remaining specs about point C\n",
    "First get the pressure, PC, from the last point of the previous leg. Since you already know VC, you can use the ideal gas law to deduce the temperature, TC."
   ]
  },
  {
   "cell_type": "code",
   "execution_count": 7,
   "metadata": {
    "nbgrader": {
     "grade": true,
     "grade_id": "cell-2f4e9b90ec88bf37",
     "locked": false,
     "points": 2,
     "schema_version": 3,
     "solution": true,
     "task": false
    }
   },
   "outputs": [
    {
     "name": "stdout",
     "output_type": "stream",
     "text": [
      "VC = 30 liter\n",
      "TC = 227.41656285392875 kelvin\n",
      "PC = 0.6220055279439306 standard_atmosphere\n"
     ]
    }
   ],
   "source": [
    "# Get PC from the last point of the previous leg \n",
    "### BEGIN SOLUTION\n",
    "PC = P_leg2[-1]\n",
    "### END SOLUTION\n",
    "\n",
    "# Deduce TC from ideal gas law at point C\n",
    "### BEGIN SOLUTION\n",
    "TC = PC*VC/(n*R)\n",
    "TC.ito('K')\n",
    "### END SOLUTION\n",
    "\n",
    "# Report\n",
    "### BEGIN SOLUTION\n",
    "print(\"VC =\", VC)\n",
    "print(\"TC =\", TC)\n",
    "print(\"PC =\", PC)\n",
    "### END SOLUTION"
   ]
  },
  {
   "cell_type": "markdown",
   "metadata": {
    "nbgrader": {
     "grade": false,
     "grade_id": "cell-a86f48ab7f5e9124",
     "locked": true,
     "schema_version": 3,
     "solution": false,
     "task": false
    }
   },
   "source": [
    "### Your turn (again): Isothermal compression from C to D\n",
    "Specify a volume, VD, that is *smaller* than VC, and then carry out an isothermal compression."
   ]
  },
  {
   "cell_type": "code",
   "execution_count": 8,
   "metadata": {
    "nbgrader": {
     "grade": true,
     "grade_id": "cell-4d6d8493c7bed089",
     "locked": false,
     "points": 2,
     "schema_version": 3,
     "solution": true,
     "task": false
    }
   },
   "outputs": [
    {
     "data": {
      "text/plain": [
       "<matplotlib.legend.Legend at 0x7f0e6bbe6d30>"
      ]
     },
     "execution_count": 8,
     "metadata": {},
     "output_type": "execute_result"
    },
    {
     "data": {
      "image/png": "[encoded data removed]",
      "text/plain": [
       "<Figure size 432x288 with 1 Axes>"
      ]
     },
     "metadata": {
      "needs_background": "light"
     },
     "output_type": "display_data"
    }
   ],
   "source": [
    "# Specify the volume we're going to\n",
    "### BEGIN SOLUTION\n",
    "VD = AssignQuantity(15,'L')\n",
    "### END SOLUTION\n",
    "\n",
    "# Get the volume & pressure along this isotherm\n",
    "### BEGIN SOLUTION\n",
    "V_leg3, P_leg3 = PL.func_P_isotherm(VC,VD,n,R,TC,AssignQuantity,'atm')\n",
    "### END SOLUTION\n",
    "\n",
    "# Graph legs 1, 2, and 3\n",
    "### BEGIN SOLUTION\n",
    "plt.figure()\n",
    "plt.plot(V_leg1,P_leg1,'red',label='Leg 1 (hot isothermal expansion)')\n",
    "plt.plot(V_leg2,P_leg2,'--k',label='Leg 2 (adiabatic expansion)')\n",
    "plt.plot(V_leg3,P_leg3,'blue',label='Leg 3 (cold isothermal compression)')\n",
    "plt.grid(True)\n",
    "plt.legend()\n",
    "### END SOLUTION"
   ]
  },
  {
   "cell_type": "markdown",
   "metadata": {
    "id": "loJVV1yywkVY",
    "nbgrader": {
     "grade": false,
     "grade_id": "cell-8919b12a9efb9a65",
     "locked": true,
     "schema_version": 3,
     "solution": false,
     "task": false
    }
   },
   "source": [
    "### Your turn (again): Remaining specs about point D\n",
    "First get the pressure, PD, from the last point of leg 3. Since you already know VD, you can use the ideal gas law to deduce the temperature, TD -- but it should equal TC since leg 3 was an isothermal compression."
   ]
  },
  {
   "cell_type": "code",
   "execution_count": 9,
   "metadata": {
    "nbgrader": {
     "grade": true,
     "grade_id": "cell-d063ed1151d1311f",
     "locked": false,
     "points": 2,
     "schema_version": 3,
     "solution": true,
     "task": false
    }
   },
   "outputs": [
    {
     "name": "stdout",
     "output_type": "stream",
     "text": [
      "VD = 15 liter\n",
      "TD = 227.4165628539288 kelvin\n",
      "PD = 1.2440110558878614 standard_atmosphere\n"
     ]
    }
   ],
   "source": [
    "### BEGIN SOLUTION\n",
    "PD = P_leg3[-1]\n",
    "TD = PD*VD/(n*R)\n",
    "TD.ito('K')\n",
    "print(\"VD =\", VD)\n",
    "print(\"TD =\", TD)\n",
    "print(\"PD =\", PD)\n",
    "### END SOLUTION"
   ]
  },
  {
   "cell_type": "markdown",
   "metadata": {
    "nbgrader": {
     "grade": false,
     "grade_id": "cell-3934fcc0f68c108d",
     "locked": true,
     "schema_version": 3,
     "solution": false,
     "task": false
    }
   },
   "source": [
    "### Your turn (again): Adiabatic compression from D to A\n",
    "Lastly, carry out an adiabatic compression back to VA, beginning at temperature TD."
   ]
  },
  {
   "cell_type": "code",
   "execution_count": 10,
   "metadata": {
    "id": "9fzRsHnxwkVY",
    "nbgrader": {
     "grade": true,
     "grade_id": "cell-cce03e8cad0b878f",
     "locked": false,
     "points": 2,
     "schema_version": 3,
     "solution": true,
     "task": false
    }
   },
   "outputs": [
    {
     "data": {
      "text/plain": [
       "<matplotlib.legend.Legend at 0x7f0e6bafd668>"
      ]
     },
     "execution_count": 10,
     "metadata": {},
     "output_type": "execute_result"
    },
    {
     "data": {
      "image/png": "[encoded data removed]",
      "text/plain": [
       "<Figure size 432x288 with 1 Axes>"
      ]
     },
     "metadata": {
      "needs_background": "light"
     },
     "output_type": "display_data"
    }
   ],
   "source": [
    "### BEGIN SOLUTION\n",
    "\n",
    "# Get the volume & pressure along this adiabat\n",
    "V_leg4, P_leg4 = PL.func_P_adiabat(VD,VA,n,R,TD,C_V,AssignQuantity,'atm')\n",
    "\n",
    "# Graph it\n",
    "plt.figure()\n",
    "plt.plot(V_leg1,P_leg1,'red',label='Leg 1 (hot isothermal expansion)')\n",
    "plt.plot(V_leg2,P_leg2,'--k',label='Leg 2 (adiabatic expansion)')\n",
    "plt.plot(V_leg3,P_leg3,'blue',label='Leg 3 (cold isothermal compression)')\n",
    "plt.plot(V_leg4,P_leg4,'--k',label='Leg 4 (adiabatic compression)')\n",
    "plt.grid(True)\n",
    "plt.legend()\n",
    "\n",
    "### END SOLUTION"
   ]
  },
  {
   "cell_type": "markdown",
   "metadata": {
    "nbgrader": {
     "grade": false,
     "grade_id": "cell-4bc19affa1e27c75",
     "locked": true,
     "schema_version": 3,
     "solution": false,
     "task": false
    }
   },
   "source": [
    "### Pause for revision\n",
    "Unless you were very lucky, you probably didn't end up at the very same state you started at. Go back and revise volumes VB, VC, and/or VD so that you end up with a closed loop for your Carnot cycle. "
   ]
  },
  {
   "cell_type": "markdown",
   "metadata": {},
   "source": [
    "### Defining PV work\n",
    "The function definition below uses numpy's trapezoidal function to calculate the work done by a given path (defined by Varray and Parray), and attaches units to the result!"
   ]
  },
  {
   "cell_type": "code",
   "execution_count": 11,
   "metadata": {
    "nbgrader": {
     "grade": false,
     "grade_id": "cell-b20b71175816242e",
     "locked": true,
     "schema_version": 3,
     "solution": false,
     "task": false
    }
   },
   "outputs": [],
   "source": [
    "def func_PVwork(Varray,Parray,AssignQuantity):\n",
    "    w = -np.trapz(Parray,Varray)\n",
    "    w = AssignQuantity(w,Varray.units*Parray.units)\n",
    "    return w"
   ]
  },
  {
   "cell_type": "markdown",
   "metadata": {
    "nbgrader": {
     "grade": false,
     "grade_id": "cell-a0589d4e96acf57d",
     "locked": true,
     "schema_version": 3,
     "solution": false,
     "task": false
    }
   },
   "source": [
    "### Evaluate the work for leg 1\n",
    "Below, we use func_PVwork to calculate the work of leg 1. We also double-check using our analytical formula."
   ]
  },
  {
   "cell_type": "code",
   "execution_count": 12,
   "metadata": {
    "nbgrader": {
     "grade": false,
     "grade_id": "cell-69898d3660f6f34c",
     "locked": true,
     "schema_version": 3,
     "solution": false,
     "task": false
    }
   },
   "outputs": [
    {
     "name": "stdout",
     "output_type": "stream",
     "text": [
      "work (numerical) -1717.386536309327 joule\n",
      "work (analytical) -1717.3220464342648 joule\n"
     ]
    }
   ],
   "source": [
    "# Evaluate the work using func_PVwork\n",
    "w_leg1 = func_PVwork(V_leg1, P_leg1, AssignQuantity)\n",
    "w_leg1.ito('joule')\n",
    "print(\"work (numerical)\", w_leg1)\n",
    "\n",
    "# Double-check using our analytical result, Eq. 2\n",
    "w_leg1_analytical = -n*R*TA*np.log(VB/VA)\n",
    "print(\"work (analytical)\", w_leg1_analytical)"
   ]
  },
  {
   "cell_type": "markdown",
   "metadata": {
    "nbgrader": {
     "grade": false,
     "grade_id": "cell-34e9125f2edfc92b",
     "locked": true,
     "schema_version": 3,
     "solution": false,
     "task": false
    }
   },
   "source": [
    "### Evaluate the work for Leg 2\n",
    "Below, use our numerical work function. We can't double-check though because we haven't derived an analytical formula for the work of an adiabatic expansion."
   ]
  },
  {
   "cell_type": "code",
   "execution_count": 13,
   "metadata": {
    "nbgrader": {
     "grade": true,
     "grade_id": "cell-03946262a8272ab1",
     "locked": false,
     "points": 1,
     "schema_version": 3,
     "solution": true,
     "task": false
    }
   },
   "outputs": [
    {
     "name": "stdout",
     "output_type": "stream",
     "text": [
      "-880.269721224846 joule\n"
     ]
    }
   ],
   "source": [
    "# Evaluate the work using func_PVwork\n",
    "### BEGIN SOLUTION\n",
    "w_leg2 = func_PVwork(V_leg2, P_leg2, AssignQuantity)\n",
    "w_leg2.ito('joule')\n",
    "print(w_leg2)\n",
    "### END SOLUTION"
   ]
  },
  {
   "cell_type": "markdown",
   "metadata": {
    "nbgrader": {
     "grade": false,
     "grade_id": "cell-0940c4192dabb3c5",
     "locked": true,
     "schema_version": 3,
     "solution": false,
     "task": false
    }
   },
   "source": [
    "### Evaluate the work for Leg 3\n",
    "Below, use our numerical work function, and double-check using our analytical formula."
   ]
  },
  {
   "cell_type": "code",
   "execution_count": 14,
   "metadata": {
    "nbgrader": {
     "grade": true,
     "grade_id": "cell-0588cc22ccb96ab0",
     "locked": false,
     "points": 1,
     "schema_version": 3,
     "solution": true,
     "task": false
    }
   },
   "outputs": [
    {
     "name": "stdout",
     "output_type": "stream",
     "text": [
      "work (numerical) 1310.6112187217489 joule\n",
      "work (analytical) 1310.5620037360923 joule\n"
     ]
    }
   ],
   "source": [
    "# Evaluate the work using func_PVwork\n",
    "### BEGIN SOLUTION\n",
    "w_leg3 = func_PVwork(V_leg3, P_leg3, AssignQuantity)\n",
    "w_leg3.ito('joule')\n",
    "print(\"work (numerical)\", w_leg3)\n",
    "### END SOLUTION\n",
    "\n",
    "# Double-check using our analytical result, Eq. 2\n",
    "### BEGIN SOLUTION\n",
    "w_leg3_analytical = -n*R*TC*np.log(VD/VC)\n",
    "print(\"work (analytical)\", w_leg3_analytical)\n",
    "### END SOLUTION"
   ]
  },
  {
   "cell_type": "markdown",
   "metadata": {
    "nbgrader": {
     "grade": false,
     "grade_id": "cell-ee1fe3f51aacb77b",
     "locked": true,
     "schema_version": 3,
     "solution": false,
     "task": false
    }
   },
   "source": [
    "### Evaluate the work for Leg 4\n",
    "Below, use our numerical work function to evaluate the work of leg 4. We can't double-check, however, because we haven't derived an analytical formula for adiabatic compression."
   ]
  },
  {
   "cell_type": "code",
   "execution_count": 15,
   "metadata": {
    "nbgrader": {
     "grade": true,
     "grade_id": "cell-889567a90747966c",
     "locked": false,
     "points": 1,
     "schema_version": 3,
     "solution": true,
     "task": false
    }
   },
   "outputs": [
    {
     "name": "stdout",
     "output_type": "stream",
     "text": [
      "880.2697212248463 joule\n"
     ]
    }
   ],
   "source": [
    "# Evaluate the work using func_PVwork\n",
    "### BEGIN SOLUTION\n",
    "# Evaluating the work (theory and numerical)\n",
    "w_leg4 = func_PVwork(V_leg4, P_leg4, AssignQuantity)\n",
    "w_leg4.ito('joule')\n",
    "print(w_leg4)\n",
    "### END SOLUTION"
   ]
  },
  {
   "cell_type": "markdown",
   "metadata": {
    "id": "DR6lnSRhwkVa",
    "nbgrader": {
     "grade": false,
     "grade_id": "cell-fb0f467c499103bc",
     "locked": true,
     "schema_version": 3,
     "solution": false,
     "task": false
    }
   },
   "source": [
    "### Your turn: calculating efficiency\n",
    "The observed efficiency is supposed to be close to the theoretical maximum efficiency. In the cell below, calculate each of these. Some notes about this:\n",
    "\n",
    "- To get the observed efficiency, you need the *total* work, and the heat of Leg 1\n",
    "- To get the theoretical efficiency, you need the temperatures of the hot and cold reservoirs"
   ]
  },
  {
   "cell_type": "code",
   "execution_count": 16,
   "metadata": {
    "id": "_-EMdTExwkVb",
    "nbgrader": {
     "grade": true,
     "grade_id": "cell-d53973c84e10d7ef",
     "locked": false,
     "points": 1,
     "schema_version": 3,
     "solution": true,
     "task": false
    }
   },
   "outputs": [
    {
     "name": "stdout",
     "output_type": "stream",
     "text": [
      "-1717.386536309327 joule\n",
      "-880.269721224846 joule\n",
      "1310.6112187217489 joule\n",
      "880.2697212248463 joule\n",
      "Observed efficiency = 23.68571716311113 dimensionless %\n",
      "Theoretical efficiency = 23.685717163111157 dimensionless %\n"
     ]
    }
   ],
   "source": [
    "# Calculate the total work (Eq. 3)\n",
    "### BEGIN SOLUTION\n",
    "print(w_leg1)\n",
    "print(w_leg2)\n",
    "print(w_leg3)\n",
    "print(w_leg4)\n",
    "w_tot = w_leg1+w_leg2+w_leg3+w_leg4\n",
    "### END SOLUTION\n",
    "\n",
    "# Calculate the heat extracted from the hot reservoir (Eq. 4)\n",
    "### BEGIN SOLUTION\n",
    "q_hot = -w_leg1\n",
    "### END SOLUTION\n",
    "\n",
    "# Calculate the observed efficiency (Eq. 5)\n",
    "### BEGIN SOLUTION\n",
    "observed_efficiency = -w_tot/q_hot\n",
    "print('Observed efficiency =', observed_efficiency*100, '%')\n",
    "### END SOLUTION\n",
    "\n",
    "# Calulate the theoretical maximum efficiency (Eq. 6)\n",
    "### BEGIN SOLUTION\n",
    "theoretical_efficiency = (TA-TC)/TA\n",
    "print('Theoretical efficiency =', theoretical_efficiency*100, '%')\n",
    "### END SOLUTION"
   ]
  },
  {
   "cell_type": "markdown",
   "metadata": {
    "nbgrader": {
     "grade": false,
     "grade_id": "cell-ae8829390e8e04a8",
     "locked": true,
     "schema_version": 3,
     "solution": false,
     "task": false
    }
   },
   "source": [
    "### Pause for analysis\n",
    "Your observed and theoretical maximum efficiencies should come pretty close to one another. If they don't, you should probably check your code in the cell above."
   ]
  },
  {
   "cell_type": "markdown",
   "metadata": {
    "nbgrader": {
     "grade": false,
     "grade_id": "cell-576689fb038b01c2",
     "locked": true,
     "schema_version": 3,
     "solution": false,
     "task": false
    }
   },
   "source": [
    "### Your turn: volume ratios\n",
    "In the cell below, calculate the ratios $\\dfrac{V_B}{V_A}$ and $\\dfrac{V_C}{V_D}$ (see Eq. 7 in the Introduction). "
   ]
  },
  {
   "cell_type": "code",
   "execution_count": 17,
   "metadata": {
    "id": "YflfEqOfwkVa",
    "nbgrader": {
     "grade": true,
     "grade_id": "cell-eaf1f8c21eee1c64",
     "locked": false,
     "points": 1,
     "schema_version": 3,
     "solution": true,
     "task": false
    }
   },
   "outputs": [
    {
     "name": "stdout",
     "output_type": "stream",
     "text": [
      "VB/VA = 2.0 dimensionless\n",
      "VC/VD = 2.0 dimensionless\n"
     ]
    }
   ],
   "source": [
    "# Calculate and print the volume ratios\n",
    "### BEGIN SOLUTION\n",
    "print('VB/VA =', VB/VA)\n",
    "print('VC/VD =', VC/VD)\n",
    "### END SOLUTION"
   ]
  },
  {
   "cell_type": "markdown",
   "metadata": {
    "nbgrader": {
     "grade": false,
     "grade_id": "cell-a1e386d68cf173fd",
     "locked": true,
     "schema_version": 3,
     "solution": false,
     "task": false
    }
   },
   "source": [
    "### Pause for analysis\n",
    "These ratios should come pretty close to one another. If they don't, you should probably check your code in the cell above."
   ]
  },
  {
   "cell_type": "markdown",
   "metadata": {
    "nbgrader": {
     "grade": false,
     "grade_id": "cell-853251ed461db552",
     "locked": true,
     "schema_version": 3,
     "solution": false,
     "task": false
    }
   },
   "source": [
    "### Refresh/save/validate/close/submit/logout"
   ]
  }
 ],
 "metadata": {
  "celltoolbar": "Create Assignment",
  "colab": {
   "collapsed_sections": [],
   "name": "5. Carnot_cycle.ipynb",
   "provenance": []
  },
  "kernelspec": {
   "display_name": "Python 3.6",
   "language": "python",
   "name": "python3"
  },
  "language_info": {
   "codemirror_mode": {
    "name": "ipython",
    "version": 3
   },
   "file_extension": ".py",
   "mimetype": "text/x-python",
   "name": "python",
   "nbconvert_exporter": "python",
   "pygments_lexer": "ipython3",
   "version": "3.6.9"
  }
 },
 "nbformat": 4,
 "nbformat_minor": 1
}

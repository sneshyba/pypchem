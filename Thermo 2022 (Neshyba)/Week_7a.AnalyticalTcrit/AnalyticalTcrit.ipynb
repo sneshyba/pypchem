{
 "cells": [
  {
   "cell_type": "markdown",
   "metadata": {
    "nbgrader": {
     "grade": false,
     "grade_id": "cell-e5c57a47a6734dda",
     "locked": true,
     "schema_version": 3,
     "solution": false,
     "task": false
    }
   },
   "source": [
    "### Computational Guided Inquiry for PChem (Neshyba, 2021)\n",
    "\n",
    "# Analytical derivation of the critical point of a real gas\n",
    "\n",
    "## Introduction\n",
    "Here, we'll learn how to harness the power of the *sympy* package of Python to derive the critical temperature and volume of a van der Waals gas.\n",
    "\n",
    "## Learning Goals\n",
    "1. Familiarity with how to use sympy for calculus and algebraic manipulations\n",
    "\n",
    "    - Taking derivatives and integrals (sp.diff and sp.integrate)\n",
    "    - Setting up equations (sp.Eq)\n",
    "    - Solving multiple simultaneous equations (sp.solve) for unknowns\n",
    "    - Looping over all possible solutions, and extracting one of them\n",
    "    - Verifying solutions (sp.subs)\n",
    "    - Solving multiple simultaneous equations, and verifying them  \n",
    "    \n",
    "    \n",
    "2. Familiarity with putting these tools together to derive the critical point of a real gas\n",
    "    \n",
    " "
   ]
  },
  {
   "cell_type": "code",
   "execution_count": 2,
   "metadata": {
    "nbgrader": {
     "grade": false,
     "grade_id": "cell-f872d19a92bf3153",
     "locked": true,
     "schema_version": 3,
     "solution": false,
     "task": false
    }
   },
   "outputs": [],
   "source": [
    "# Import resources - execute 2x if you want interactive graphics\n",
    "import pint; from pint import UnitRegistry; AssignQuantity = UnitRegistry().Quantity\n",
    "import numpy as np\n",
    "import matplotlib.pyplot as plt\n",
    "import PchemLibrary as PL\n",
    "from mpl_toolkits.mplot3d import axes3d\n",
    "import sympy as sp\n",
    "%matplotlib notebook"
   ]
  },
  {
   "cell_type": "markdown",
   "metadata": {
    "nbgrader": {
     "grade": false,
     "grade_id": "cell-70f05a578e68150a",
     "locked": true,
     "schema_version": 3,
     "solution": false,
     "task": false
    }
   },
   "source": [
    "### Differentiating with sympy\n",
    "Here, we use the sp.diff function to take a derivative. We also try out sympy's \"pretty print\" (sp.pprint) for formatting the result (some people prefer this to Python's print)."
   ]
  },
  {
   "cell_type": "code",
   "execution_count": 3,
   "metadata": {
    "nbgrader": {
     "grade": false,
     "grade_id": "cell-9e6eaf7c97d2c405",
     "locked": true,
     "schema_version": 3,
     "solution": false,
     "task": false
    }
   },
   "outputs": [
    {
     "name": "stdout",
     "output_type": "stream",
     "text": [
      "Regular print:\n",
      "2*x\n",
      "Pretty print:\n",
      "2⋅x\n"
     ]
    }
   ],
   "source": [
    "# Practice at using sympy's differential function\n",
    "sp.var(\"x\")\n",
    "f = x**2\n",
    "dfdx = sp.diff(f,x)\n",
    "print('Regular print:')\n",
    "print(dfdx)\n",
    "print('Pretty print:')\n",
    "sp.pprint(dfdx)"
   ]
  },
  {
   "cell_type": "markdown",
   "metadata": {
    "nbgrader": {
     "grade": false,
     "grade_id": "cell-d816e2ca9fb068e5",
     "locked": true,
     "schema_version": 3,
     "solution": false,
     "task": false
    }
   },
   "source": [
    "### Your turn\n",
    "Below, use sympy to find $\\frac {d (x^{-1})}{dx}$. Print the result using Python's regular \"print.\" and again sympy's \"pprint.\""
   ]
  },
  {
   "cell_type": "code",
   "execution_count": 4,
   "metadata": {
    "nbgrader": {
     "grade": true,
     "grade_id": "cell-d678dfc2122bb25d",
     "locked": false,
     "points": 1,
     "schema_version": 3,
     "solution": true,
     "task": false
    }
   },
   "outputs": [
    {
     "name": "stdout",
     "output_type": "stream",
     "text": [
      "Regular print:\n",
      "-1/x**2\n",
      "Pretty print:\n",
      "-1 \n",
      "───\n",
      "  2\n",
      " x \n"
     ]
    }
   ],
   "source": [
    "### BEGIN SOLUTION\n",
    "# Practice at using sympy's differential function\n",
    "sp.var(\"x\")\n",
    "f = x**(-1)\n",
    "dfdx = sp.diff(f,x)\n",
    "print('Regular print:')\n",
    "print(dfdx)\n",
    "print('Pretty print:')\n",
    "sp.pprint(dfdx)\n",
    "### END SOLUTION"
   ]
  },
  {
   "cell_type": "markdown",
   "metadata": {
    "nbgrader": {
     "grade": false,
     "grade_id": "cell-12ddc8293f364688",
     "locked": true,
     "schema_version": 3,
     "solution": false,
     "task": false
    }
   },
   "source": [
    "### Integrating with sympy\n",
    "If we want to integrate, we can use sympy's integral function. For example, to get $\\int xdx$, \n",
    "\n",
    "    x = sp.var(\"x\")\n",
    "    f = x\n",
    "    F_indef = sp.integrate(f,x)\n",
    "\n",
    "\n",
    "Try this below, but with the integrand being $\\frac {1}{x}$. "
   ]
  },
  {
   "cell_type": "code",
   "execution_count": 5,
   "metadata": {
    "nbgrader": {
     "grade": true,
     "grade_id": "cell-7a1ed0199f09e558",
     "locked": false,
     "points": 1,
     "schema_version": 3,
     "solution": true,
     "task": false
    }
   },
   "outputs": [
    {
     "name": "stdout",
     "output_type": "stream",
     "text": [
      "log(x)\n"
     ]
    }
   ],
   "source": [
    "### BEGIN SOLUTION\n",
    "sp.var(\"x\")\n",
    "f = 1/x\n",
    "F_indef = sp.integrate(f,x)\n",
    "sp.pprint(F_indef)\n",
    "### END SOLUTION"
   ]
  },
  {
   "cell_type": "markdown",
   "metadata": {
    "nbgrader": {
     "grade": false,
     "grade_id": "cell-f6b352838c9f194d",
     "locked": true,
     "schema_version": 3,
     "solution": false,
     "task": false
    }
   },
   "source": [
    "### Solving for $x$\n",
    "Below, we try out using sympy's solver function. First we create expressions for the left and right hand sides of $Ax+B=0$, then we create the equation itself. Then we ask solver to find the value of $x$ that satisfies LHS=RHS. \n",
    "\n",
    "The code in the second part of this cell loops through all of the solutions solver has found. In this case, solver found only one solution, but in other situations, multiple solutions are possible. "
   ]
  },
  {
   "cell_type": "code",
   "execution_count": 6,
   "metadata": {
    "nbgrader": {
     "grade": false,
     "grade_id": "cell-44b0d0f563099593",
     "locked": true,
     "schema_version": 3,
     "solution": false,
     "task": false
    }
   },
   "outputs": [
    {
     "name": "stdout",
     "output_type": "stream",
     "text": [
      "Solutions I found\n",
      "x = -B/A\n"
     ]
    }
   ],
   "source": [
    "# Using solver\n",
    "sp.var(\"A\")\n",
    "sp.var(\"B\")\n",
    "sp.var(\"x\")\n",
    "LHS = A*x+B\n",
    "RHS = 0\n",
    "eq = sp.Eq(LHS,RHS)\n",
    "result = sp.solve(eq,x)\n",
    "\n",
    "# Listing the solutions\n",
    "print(\"Solutions I found\")\n",
    "for i in range(len(result)):\n",
    "    print('x =',result[i])"
   ]
  },
  {
   "cell_type": "markdown",
   "metadata": {
    "nbgrader": {
     "grade": false,
     "grade_id": "cell-f2ad3c5428336193",
     "locked": true,
     "schema_version": 3,
     "solution": false,
     "task": false
    }
   },
   "source": [
    "### Your turn\n",
    "Use solver find all the solutions to the equation $x^2=4$."
   ]
  },
  {
   "cell_type": "code",
   "execution_count": 7,
   "metadata": {
    "nbgrader": {
     "grade": true,
     "grade_id": "cell-0cd3bb59cae1d5c3",
     "locked": false,
     "points": 1,
     "schema_version": 3,
     "solution": true,
     "task": false
    }
   },
   "outputs": [
    {
     "name": "stdout",
     "output_type": "stream",
     "text": [
      "Solutions I found\n",
      "x = -2\n",
      "x = 2\n"
     ]
    }
   ],
   "source": [
    "### BEGIN SOLUTION\n",
    "sp.var(\"x\")\n",
    "eq = sp.Eq(x**2,4)\n",
    "result = sp.solve(eq,x)\n",
    "\n",
    "# Listing the solutions\n",
    "print(\"Solutions I found\")\n",
    "for i in range(len(result)):\n",
    "    print('x =',result[i])\n",
    "### END SOLUTION"
   ]
  },
  {
   "cell_type": "markdown",
   "metadata": {
    "nbgrader": {
     "grade": false,
     "grade_id": "cell-116915dcbe275ee5",
     "locked": true,
     "schema_version": 3,
     "solution": false,
     "task": false
    }
   },
   "source": [
    "### Substituting\n",
    "You may well imagine that a skeptical physical chemist is never quite satisfied that sympy has done its job properly. How to verify that it has? One excellent method is to substitute the alleged solution back into the equation and see if it's satisfied. The two cells below demonstrate the idea."
   ]
  },
  {
   "cell_type": "code",
   "execution_count": 8,
   "metadata": {
    "nbgrader": {
     "grade": false,
     "grade_id": "cell-5777fea42ed5caf0",
     "locked": true,
     "schema_version": 3,
     "solution": false,
     "task": false
    }
   },
   "outputs": [
    {
     "name": "stdout",
     "output_type": "stream",
     "text": [
      "Solutions I found\n",
      "x = -3\n",
      "x = 3\n"
     ]
    }
   ],
   "source": [
    "# Solving\n",
    "sp.var(\"x\")\n",
    "sp.var(\"A\")\n",
    "LHS = x**2\n",
    "RHS = 9\n",
    "eq = sp.Eq(LHS,RHS)\n",
    "result = sp.solve(eq,x)\n",
    "\n",
    "# Listing the solutions\n",
    "print(\"Solutions I found\")\n",
    "for i in range(len(result)):\n",
    "    print('x =',result[i])"
   ]
  },
  {
   "cell_type": "code",
   "execution_count": 9,
   "metadata": {
    "nbgrader": {
     "grade": false,
     "grade_id": "cell-5777fea42ed5caf2",
     "locked": true,
     "schema_version": 3,
     "solution": false,
     "task": false
    }
   },
   "outputs": [
    {
     "name": "stdout",
     "output_type": "stream",
     "text": [
      "True\n",
      "True\n",
      "False\n"
     ]
    }
   ],
   "source": [
    "# Verifying\n",
    "is_it_true = eq.subs(x,3); print(is_it_true)\n",
    "is_it_true = eq.subs(x,-3); print(is_it_true)\n",
    "is_it_true = eq.subs(x,4); print(is_it_true)"
   ]
  },
  {
   "cell_type": "markdown",
   "metadata": {
    "nbgrader": {
     "grade": false,
     "grade_id": "cell-3d981f65accd7411",
     "locked": true,
     "schema_version": 3,
     "solution": false,
     "task": false
    }
   },
   "source": [
    "### Your turn\n",
    "In a previous cell, solver said that a solution to $Ax+B=0$. In the cell below, recreate that equation, and then use substitution to verify that $x=-B/A$ really is a solution."
   ]
  },
  {
   "cell_type": "code",
   "execution_count": 10,
   "metadata": {
    "nbgrader": {
     "grade": true,
     "grade_id": "cell-8e11d53522b3cbae",
     "locked": false,
     "points": 1,
     "schema_version": 3,
     "solution": true,
     "task": false
    }
   },
   "outputs": [
    {
     "name": "stdout",
     "output_type": "stream",
     "text": [
      "True\n"
     ]
    }
   ],
   "source": [
    "### BEGIN SOLUTION\n",
    "sp.var(\"A\")\n",
    "sp.var(\"B\")\n",
    "sp.var(\"x\")\n",
    "LHS = A*x+B\n",
    "RHS = 0\n",
    "eq = sp.Eq(LHS,RHS)\n",
    "is_it_true = eq.subs(x,-B/A); print(is_it_true)\n",
    "### END SOLUTION"
   ]
  },
  {
   "cell_type": "markdown",
   "metadata": {
    "nbgrader": {
     "grade": false,
     "grade_id": "cell-0e4f2d0389cac273",
     "locked": true,
     "schema_version": 3,
     "solution": false,
     "task": false
    }
   },
   "source": [
    "### Extracting the solution\n",
    "What do we do if we want to use a solution later, but we're too lazy to copy it \"by hand\" (as you did above)? Well, we could ask Python to extract if for us! The first cell below finds solutions to the equation $3x^3+5x+1=0$. The second cell *extracts* the first solution, and then verifies it. Try it!"
   ]
  },
  {
   "cell_type": "code",
   "execution_count": 11,
   "metadata": {
    "nbgrader": {
     "grade": false,
     "grade_id": "cell-20b49e6a79009e3e",
     "locked": true,
     "schema_version": 3,
     "solution": false,
     "task": false
    }
   },
   "outputs": [
    {
     "name": "stdout",
     "output_type": "stream",
     "text": [
      "Solutions I found\n",
      "x = -5/6 - sqrt(13)/6\n",
      "x = -5/6 + sqrt(13)/6\n"
     ]
    }
   ],
   "source": [
    "# Setting up the equation\n",
    "sp.var(\"x\")\n",
    "LHS = 3*x**2 + 5*x +1\n",
    "RHS = 0\n",
    "eq = sp.Eq(LHS,RHS)\n",
    "\n",
    "# Solving the equation\n",
    "result = sp.solve(eq,x)\n",
    "\n",
    "# Listing the solutions\n",
    "print(\"Solutions I found\")\n",
    "for i in range(len(result)):\n",
    "    print('x =',result[i])"
   ]
  },
  {
   "cell_type": "code",
   "execution_count": 12,
   "metadata": {
    "nbgrader": {
     "grade": false,
     "grade_id": "cell-20b49e6a79009e3ed",
     "locked": true,
     "schema_version": 3,
     "solution": false,
     "task": false
    }
   },
   "outputs": [
    {
     "name": "stdout",
     "output_type": "stream",
     "text": [
      "-5/6 - sqrt(13)/6\n",
      "True\n"
     ]
    }
   ],
   "source": [
    "# Extracting the first solution (which we're calling x0)\n",
    "x0 = result[0]; print(x0)\n",
    "\n",
    "# Verifying this is a good solution\n",
    "is_it_true = eq.subs(x,x0); print(is_it_true)"
   ]
  },
  {
   "cell_type": "markdown",
   "metadata": {
    "nbgrader": {
     "grade": false,
     "grade_id": "cell-38b477f07e7439d4",
     "locked": true,
     "schema_version": 3,
     "solution": false,
     "task": false
    }
   },
   "source": [
    "### Your turn\n",
    "In the cell below, extract the *second* solution solver just found, and verify that it's a good solution using substitution."
   ]
  },
  {
   "cell_type": "code",
   "execution_count": 13,
   "metadata": {
    "nbgrader": {
     "grade": true,
     "grade_id": "cell-608d5884d7dda6ea",
     "locked": false,
     "points": 1,
     "schema_version": 3,
     "solution": true,
     "task": false
    }
   },
   "outputs": [
    {
     "name": "stdout",
     "output_type": "stream",
     "text": [
      "-5/6 + sqrt(13)/6\n",
      "True\n"
     ]
    }
   ],
   "source": [
    "# Extract the second solution (you can call it x1 if you like)\n",
    "### BEGIN SOLUTION\n",
    "x1 = result[1]; print(x1)\n",
    "### END SOLUTION\n",
    "\n",
    "# Verify this is a good solution\n",
    "### BEGIN SOLUTION\n",
    "is_it_true = eq.subs(x,x1); print(is_it_true)\n",
    "### END SOLUTION"
   ]
  },
  {
   "cell_type": "markdown",
   "metadata": {
    "nbgrader": {
     "grade": false,
     "grade_id": "cell-fc5faf7553c91d45",
     "locked": true,
     "schema_version": 3,
     "solution": false,
     "task": false
    }
   },
   "source": [
    "### Solving multiple simultaneous equations\n",
    "OK, how about *two* simultaneous equations? Below we find the values of $x$ and $y$ that satisfy $x+y=5$ *and* $x^2+y^2=17$."
   ]
  },
  {
   "cell_type": "code",
   "execution_count": 14,
   "metadata": {
    "nbgrader": {
     "grade": false,
     "grade_id": "cell-20495c7f3a92e45b",
     "locked": true,
     "schema_version": 3,
     "solution": false,
     "task": false
    }
   },
   "outputs": [
    {
     "name": "stdout",
     "output_type": "stream",
     "text": [
      "Solutions I found\n",
      "x,y = (1, 4)\n",
      "x,y = (4, 1)\n"
     ]
    }
   ],
   "source": [
    "# Practice at solving simulaneous equations\n",
    "sp.var(\"x\")\n",
    "sp.var(\"y\")\n",
    "eq1 = sp.Eq(x+y,5)\n",
    "eq2 = sp.Eq(x**2+y**2,17)\n",
    "result = sp.solve([eq1,eq2],(x,y))\n",
    "print(\"Solutions I found\")\n",
    "for i in range(len(result)):\n",
    "    print('x,y =',result[i])"
   ]
  },
  {
   "cell_type": "markdown",
   "metadata": {
    "nbgrader": {
     "grade": false,
     "grade_id": "cell-5939f93733c2c991",
     "locked": true,
     "schema_version": 3,
     "solution": false,
     "task": false
    }
   },
   "source": [
    "### Extracting  and verifying when a solution has multiple variables\n",
    "Below, we show how to extract the first solution's x and y values. Then we verify by substitution that x and y simultaneously satisfy both equation (notice the syntax is a little different here)."
   ]
  },
  {
   "cell_type": "code",
   "execution_count": 15,
   "metadata": {
    "nbgrader": {
     "grade": false,
     "grade_id": "cell-3977f7b1dbb73bbe",
     "locked": true,
     "schema_version": 3,
     "solution": false,
     "task": false
    }
   },
   "outputs": [
    {
     "name": "stdout",
     "output_type": "stream",
     "text": [
      "x of first solution = 1\n",
      "y of first solution = 4\n",
      "True\n",
      "True\n"
     ]
    }
   ],
   "source": [
    "# Extracting the first solution\n",
    "x0 = result[0][0]; print('x of first solution =',x0)\n",
    "y0 = result[0][1]; print('y of first solution =',y0)\n",
    "\n",
    "# Substituting\n",
    "print(eq1.subs({x:x0,y:y0}))\n",
    "print(eq2.subs({x:x0,y:y0}))"
   ]
  },
  {
   "cell_type": "markdown",
   "metadata": {
    "nbgrader": {
     "grade": false,
     "grade_id": "cell-15c0a8021d361731",
     "locked": true,
     "schema_version": 3,
     "solution": false,
     "task": false
    }
   },
   "source": [
    "### Your turn\n",
    "Extract the second set of solutions you got before, and verify they are also a solution."
   ]
  },
  {
   "cell_type": "code",
   "execution_count": 16,
   "metadata": {
    "nbgrader": {
     "grade": true,
     "grade_id": "cell-5a46101bd756ade1",
     "locked": false,
     "points": 1,
     "schema_version": 3,
     "solution": true,
     "task": false
    }
   },
   "outputs": [
    {
     "name": "stdout",
     "output_type": "stream",
     "text": [
      "x of first solution = 4\n",
      "y of first solution = 1\n",
      "True\n",
      "True\n"
     ]
    }
   ],
   "source": [
    "# Extract the second solution (you can call it x1 if you like)\n",
    "### BEGIN SOLUTION\n",
    "x1 = result[1][0]; print('x of first solution =',x1)\n",
    "y1 = result[1][1]; print('y of first solution =',y1)\n",
    "### END SOLUTION\n",
    "\n",
    "# Verify this is a good solution\n",
    "### BEGIN SOLUTION\n",
    "print(eq1.subs({x:x1,y:y1}))\n",
    "print(eq2.subs({x:x1,y:y1}))\n",
    "# ### END SOLUTION"
   ]
  },
  {
   "cell_type": "markdown",
   "metadata": {
    "nbgrader": {
     "grade": false,
     "grade_id": "cell-61922d19d7b56fb1",
     "locked": true,
     "schema_version": 3,
     "solution": false,
     "task": false
    }
   },
   "source": [
    "### Your turn\n",
    "In the cell below, do the whole thing for the equations $x^2+y^2=1$ and $x=0$."
   ]
  },
  {
   "cell_type": "code",
   "execution_count": 17,
   "metadata": {
    "nbgrader": {
     "grade": true,
     "grade_id": "cell-149d8720afdef16d",
     "locked": false,
     "points": 2,
     "schema_version": 3,
     "solution": true,
     "task": false
    }
   },
   "outputs": [
    {
     "name": "stdout",
     "output_type": "stream",
     "text": [
      "Solutions I found\n",
      "x,y = (0, -1)\n",
      "x,y = (0, 1)\n",
      "0\n",
      "-1\n",
      "True\n",
      "True\n"
     ]
    }
   ],
   "source": [
    "# Set up the equations\n",
    "### BEGIN SOLUTION\n",
    "sp.var(\"x\")\n",
    "sp.var(\"y\")\n",
    "eq1 = sp.Eq(x**2+y**2,1)\n",
    "eq2 = sp.Eq(x,0)\n",
    "### END SOLUTION\n",
    "\n",
    "# Solve the equations\n",
    "### BEGIN SOLUTION\n",
    "result = sp.solve([eq1,eq2],(x,y))\n",
    "### END SOLUTION\n",
    "\n",
    "# List the solutions\n",
    "### BEGIN SOLUTION\n",
    "print(\"Solutions I found\")\n",
    "for i in range(len(result)):\n",
    "    print('x,y =',result[i])\n",
    "### END SOLUTION\n",
    "\n",
    "# Extract the first solution (you can call them x0 and y0 if you like)\n",
    "### BEGIN SOLUTION\n",
    "x0 = result[0][0]; print(x0)\n",
    "y0 = result[0][1]; print(y0)\n",
    "### END SOLUTION\n",
    "\n",
    "# Verify this is a good solution\n",
    "### BEGIN SOLUTION\n",
    "print(eq1.subs({x:x0,y:y0}))\n",
    "print(eq2.subs({x:x0,y:y0}))\n",
    "### END SOLUTION"
   ]
  },
  {
   "cell_type": "markdown",
   "metadata": {
    "nbgrader": {
     "grade": false,
     "grade_id": "cell-f0aee752fde3d4bf",
     "locked": true,
     "schema_version": 3,
     "solution": false,
     "task": false
    }
   },
   "source": [
    "### Finding the critical temperature and volume for a vdw gas\n",
    "Finally, we're ready to do some thermodynamics with this! In the cell below, do the following, as prompted."
   ]
  },
  {
   "cell_type": "code",
   "execution_count": 18,
   "metadata": {
    "nbgrader": {
     "grade": true,
     "grade_id": "cell-93bc6043aeb40d61",
     "locked": false,
     "points": 2,
     "schema_version": 3,
     "solution": true,
     "task": false
    }
   },
   "outputs": [
    {
     "name": "stdout",
     "output_type": "stream",
     "text": [
      "Eq(-R*T*n/(V - b*n)**2 + 2*a*n**2/V**3, 0)\n",
      "Eq(2*R*T*n/(V - b*n)**3 - 6*a*n**2/V**4, 0)\n",
      "I found  1  solution(s)\n",
      "0 T,V = (8*a/(27*R*b), 3*b*n)\n",
      "T0 = 8*a/(27*R*b)\n",
      "V0 = 3*b*n\n",
      "True\n",
      "True\n"
     ]
    }
   ],
   "source": [
    "# Preliminaries -- this defines a van der Waals gas\n",
    "sp.var(\"a\")\n",
    "sp.var(\"b\")\n",
    "sp.var(\"n\")\n",
    "sp.var(\"R\")\n",
    "sp.var(\"T\")\n",
    "sp.var(\"V\")\n",
    "P = n*R*T/(V-n*b) -a*n**2/V**2\n",
    "\n",
    "# Differentiate P with respect to V -- you can call the result dPdV if you like.\n",
    "### BEGIN SOLUTION\n",
    "dPdV = sp.diff(P,V)\n",
    "### END SOLUTION\n",
    "\n",
    "# Now differentiate dPdV with respect to V -- you can call the result d2PdV2 if you like.\n",
    "### BEGIN SOLUTION\n",
    "d2PdV2 = sp.diff(dPdV,V)\n",
    "### END SOLUTION\n",
    "\n",
    "# Now set up two equations (RHS = 0 in both cases)\n",
    "### BEGIN SOLUTION\n",
    "eq1 = sp.Eq(dPdV, 0);print(eq1)\n",
    "eq2 = sp.Eq(d2PdV2,0);print(eq2)\n",
    "### END SOLUTION\n",
    "\n",
    "# Solve the two equations simultaneously for T and V\n",
    "### BEGIN SOLUTION\n",
    "result = sp.solve([eq1,eq2],[T,V])\n",
    "### END SOLUTION\n",
    "\n",
    "# List the solutions\n",
    "### BEGIN SOLUTION\n",
    "print(\"I found \",len(result),\" solution(s)\")\n",
    "for i in range(len(result)):\n",
    "    print(i,'T,V =',result[i])\n",
    "### END SOLUTION\n",
    "\n",
    "# Extract the first solution (you can call them T0 and V0 if you like)\n",
    "### BEGIN SOLUTION\n",
    "T0 = result[0][0]; print('T0 =', T0)\n",
    "V0 = result[0][1]; print('V0 =', V0)\n",
    "### END SOLUTION\n",
    "\n",
    "# Verify\n",
    "### BEGIN SOLUTION\n",
    "print(eq1.subs({V:V0,T:T0}))\n",
    "print(eq2.subs({V:V0,T:T0}))\n",
    "### END SOLUTION"
   ]
  }
 ],
 "metadata": {
  "celltoolbar": "Create Assignment",
  "kernelspec": {
   "display_name": "Python 3.6",
   "language": "python",
   "name": "python3"
  },
  "language_info": {
   "codemirror_mode": {
    "name": "ipython",
    "version": 3
   },
   "file_extension": ".py",
   "mimetype": "text/x-python",
   "name": "python",
   "nbconvert_exporter": "python",
   "pygments_lexer": "ipython3",
   "version": "3.6.9"
  }
 },
 "nbformat": 4,
 "nbformat_minor": 5
}

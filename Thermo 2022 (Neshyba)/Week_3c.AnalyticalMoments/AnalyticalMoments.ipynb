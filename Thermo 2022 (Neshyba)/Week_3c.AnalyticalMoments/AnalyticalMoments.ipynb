{
 "cells": [
  {
   "cell_type": "markdown",
   "metadata": {
    "nbgrader": {
     "grade": false,
     "grade_id": "cell-7ae5501b3f4f28d9",
     "locked": true,
     "schema_version": 3,
     "solution": false,
     "task": false
    }
   },
   "source": [
    "### Computational Guided Inquiry for PChem (Neshyba)\n",
    "\n",
    "# Analytical Moments\n",
    "\n",
    "## Learning Goals\n",
    "1. Understand how numerical equivalents to $\\bar c$, $c$, and $\\tilde c$ are obtained from moments (which themselves are obtained from numerical integration).\n",
    "1. Be familiar with obtaining analytical expressions for $\\bar c$, $c$, and $\\tilde c$."
   ]
  },
  {
   "cell_type": "code",
   "execution_count": 1,
   "metadata": {
    "nbgrader": {
     "grade": false,
     "grade_id": "cell-b6c9039c79f92143",
     "locked": true,
     "schema_version": 3,
     "solution": false,
     "task": false
    }
   },
   "outputs": [],
   "source": [
    "# Import resources stored in the Pchem Library\n",
    "%run ../PchemLibrary/ImportResources.ipynb"
   ]
  },
  {
   "cell_type": "markdown",
   "metadata": {
    "nbgrader": {
     "grade": false,
     "grade_id": "cell-c7b82ea449d00761",
     "locked": true,
     "schema_version": 3,
     "solution": false,
     "task": false
    }
   },
   "source": [
    "### Converting your numerical second moment to a speed\n",
    "Presumably, you got for the first moment of the speed something like $\\langle v \\rangle=194 \\ m/s$ at the low temperature (50 K). As mentioned previously, it doesn't make sense to compare that value to the second or third moments ($\\langle v^2 \\rangle$, and $\\langle v^3 \\rangle$), however, because they have different units. In the cell below, we print the values obtained previously for the second numerical moments, and take its square root."
   ]
  },
  {
   "cell_type": "code",
   "execution_count": 2,
   "metadata": {
    "nbgrader": {
     "grade": false,
     "grade_id": "cell-d18bd3bee8ac45af",
     "locked": true,
     "schema_version": 3,
     "solution": false,
     "task": false
    }
   },
   "outputs": [
    {
     "name": "stdout",
     "output_type": "stream",
     "text": [
      "moment2^(1/2) = 211.04501889407388 meter / second\n"
     ]
    }
   ],
   "source": [
    "# Assign a value for the 2nd moment, numerical result\n",
    "moment2 = 4.454e+04\n",
    "moment2 = AssignQuantity(moment2,'m^2/s^2')\n",
    "\n",
    "# Reporting its square root\n",
    "print('moment2^(1/2) =', moment2**(1/2))"
   ]
  },
  {
   "cell_type": "markdown",
   "metadata": {
    "nbgrader": {
     "grade": false,
     "grade_id": "cell-8bac139a3bb80c36",
     "locked": true,
     "schema_version": 3,
     "solution": false,
     "task": false
    }
   },
   "source": [
    "### Your turn: converting your numerical third moment to a speed\n",
    "Below, do something analogous for the third moment you obtained numerically."
   ]
  },
  {
   "cell_type": "code",
   "execution_count": 3,
   "metadata": {
    "nbgrader": {
     "grade": true,
     "grade_id": "cell-dc6e588d42b1640d",
     "locked": false,
     "points": 1,
     "schema_version": 3,
     "solution": true,
     "task": false
    }
   },
   "outputs": [
    {
     "name": "stdout",
     "output_type": "stream",
     "text": [
      "moment3**(1/3) = 226.04452616834195 meter / second\n"
     ]
    }
   ],
   "source": [
    "# Assign a value for the 3rd moment, numerical result\n",
    "### BEGIN SOLUTION\n",
    "moment3 = 1.155e+07\n",
    "moment3 = AssignQuantity(moment3,'m^3/s^3')\n",
    "### END SOLUTION\n",
    "\n",
    "# Report its cubed root\n",
    "### BEGIN SOLUTION\n",
    "print('moment3**(1/3) =', moment3**(1/3))\n",
    "### END SOLUTION"
   ]
  },
  {
   "cell_type": "markdown",
   "metadata": {
    "nbgrader": {
     "grade": false,
     "grade_id": "cell-5ba6251c2bb08804",
     "locked": true,
     "schema_version": 3,
     "solution": false,
     "task": false
    }
   },
   "source": [
    "### Comparing to analytical values\n",
    "In the cell below, we'll be calculating analytical values of $\\bar c$, $c$, and $\\tilde c$ from analytical expressions. These equations will help get you started:\n",
    "\n",
    "- $\\bar c = \\bigl( \\frac{8RT}{\\pi M} \\bigr)^{1/2}$\n",
    "- $ c = \\bigl( \\frac{3RT}{M} \\bigr)^{1/2}$\n",
    "- $\\tilde c =$ your expression"
   ]
  },
  {
   "cell_type": "code",
   "execution_count": 4,
   "metadata": {
    "nbgrader": {
     "grade": true,
     "grade_id": "cell-f290c7b7c1ab556f",
     "locked": false,
     "points": 4,
     "schema_version": 3,
     "solution": true,
     "task": false
    }
   },
   "outputs": [
    {
     "name": "stdout",
     "output_type": "stream",
     "text": [
      "cbar = 194.43795902667165 meter / second\n",
      "c = 211.04332662817296 meter / second\n",
      "ctilde =  226.02389050349163 meter / second\n"
     ]
    }
   ],
   "source": [
    "# Constants for T=50 K, M=28 g/mol\n",
    "T = AssignQuantity(50,'K')           # Assuming the low-temperature results\n",
    "M = AssignQuantity(0.028,'kg/mol')   # Assuming N2 gas\n",
    "R = AssignQuantity(8.314,'J/mol/K')  # SI gas constant\n",
    "\n",
    "# Calculate and report cbar\n",
    "cbar = (8*R*T/(np.pi*M))**(1/2)\n",
    "print('cbar =', cbar.to('m/s'))\n",
    "\n",
    "# Calculate and report c\n",
    "### BEGIN SOLUTION\n",
    "c = (3*R*T/M)**(1/2)\n",
    "print('c =', c.to('m/s'))\n",
    "### END SOLUTION\n",
    "\n",
    "# Calculate and report ctilde\n",
    "### BEGIN SOLUTION\n",
    "ctilde=(128*R**3*T**3*np.pi**5/M**3)**(1/6)/np.pi; \n",
    "print('ctilde = ',ctilde.to('m/s'))\n",
    "### END SOLUTION"
   ]
  },
  {
   "cell_type": "markdown",
   "metadata": {
    "nbgrader": {
     "grade": false,
     "grade_id": "cell-366d723ea54fdc48",
     "locked": true,
     "schema_version": 3,
     "solution": false,
     "task": false
    }
   },
   "source": [
    "### Pause for analysis\n",
    "Hopefully, you got \n",
    "- cbar pretty close to $<v>$\n",
    "- c pretty close to $<v^2>^{1/2}$\n",
    "- ctilde pretty close to $<v^3>^{1/3}$. \n",
    "\n",
    "Did you?\n",
    "\n",
    "In the cell below, supply an answer to this question, along with your reasoning: Suppose you calculated the fourth root of the fourth moment, $\\langle v^4 \\rangle ^{1/4}$. Where do you suppose that value would line up relative to $\\bar c$,  $c$, and $\\tilde c$?"
   ]
  },
  {
   "cell_type": "markdown",
   "metadata": {
    "nbgrader": {
     "grade": true,
     "grade_id": "cell-5f541180aa203f15",
     "locked": false,
     "points": 2,
     "schema_version": 3,
     "solution": true,
     "task": false
    }
   },
   "source": []
  }
 ],
 "metadata": {
  "celltoolbar": "Create Assignment",
  "kernelspec": {
   "display_name": "Python 3.6",
   "language": "python",
   "name": "python3"
  },
  "language_info": {
   "codemirror_mode": {
    "name": "ipython",
    "version": 3
   },
   "file_extension": ".py",
   "mimetype": "text/x-python",
   "name": "python",
   "nbconvert_exporter": "python",
   "pygments_lexer": "ipython3",
   "version": "3.6.9"
  }
 },
 "nbformat": 4,
 "nbformat_minor": 2
}

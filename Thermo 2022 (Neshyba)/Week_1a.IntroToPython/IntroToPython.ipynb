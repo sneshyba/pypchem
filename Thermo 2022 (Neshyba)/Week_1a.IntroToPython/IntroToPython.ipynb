{
 "cells": [
  {
   "cell_type": "markdown",
   "metadata": {
    "nbgrader": {
     "grade": false,
     "grade_id": "cell-2fbedee8455c6341",
     "locked": true,
     "schema_version": 3,
     "solution": false,
     "task": false
    }
   },
   "source": [
    "## Introduction to Python\n",
    "In this module, you'll get an introduction to Python coding in Jupyterhub Notebook. It'll be mostly about navigating your way around this \"ecosystem.\" The context will be something you're hopefully a little familiar with -- the ideal gas law.\n",
    "\n",
    "### Markdown cells and code cells\n",
    "The text you're reading is enclosed in a box called a \"markdown cell.\" Markdown cells have text, equations, etc. Most markdown cells you'll be working with will be read-only, meaning you're not supposed to change them. You can execute a markdown cell by pressing the return key while holding down shift. Try it now! You'll see that not much seems to have happened (because this is a read-only cell). As we go along, however, you'll see that some markdown cells are set aside for you to respond to a prompt of some kind -- usually to reflect or analyze something you've just done or seen. You execute those in the same way: after editing, you'll press return while holding down shift.\n",
    "\n",
    "A second type of cell is called a \"code cell.\" Code cells do all the computing work in a Python Notebook. You'll also be executing code cells, in the same way (shift-return). But more on that later.\n",
    "\n",
    "### E-format convention for scientific notation\n",
    "When working in a computational environment like Python, it's important to get used to entering numbers in scientific notation using the *e-format convention*. For example, Boltzmann's constant, $k_B$, might be written $1.3806×10^{-23}$ (in units $m^2 \\ kg \\ s^{-2} \\ K^{-1}$), but in Python you would enter it as \"1.3806e-23\". The \"e\" can be \"E\", by the way; the e-format convention is not case-sensitive.\n",
    "\n",
    "### Unit conversions and coherent unit systems\n",
    "The foregoing example brings up a key point: unless a number is dimensionless (like $\\pi$), we need to pay attention to its *units*. Units are always a bit of a bother in ... all of pchem ... because one is frequently faced with having to do unit conversions. Fortunately, Python has a nice package, call *pint*. *pint*  has a ton of built-in conversions, it knows how to convert from one to another, and it's pretty intuitive (more on this below). If you've wrestled in the past with unit conversions, this might seem just a bit too easy. But mainly it removes the drudgery of unit conversions; you still have to know what you're doing.  \n",
    "\n",
    "Another thing about units, is that they're not as arbitrary as you might think. Units come in collections, called *unit systems*. For example, in the SI unit system (a favorite among thermodynamicists), the unit for time is seconds, for distance it's meters, etc. Moreover, if a unit system been designed properly, it has a property called *coherence*. Lots of calculations become simplified when a unit system has coherence. For example, say you are working in the SI unit system, and you have calculated an acceleration using $a=F/m$. You *could* go through the bother of unit analysis of $F$ and $a$ to figure out the units of $a$. OR you could recognize that SI is a coherent unit system, so you are *guaranteed* that if $F$ and $a$ are SI, then $a$ is *guaranteed* to be $m/s^2$ (and not $miles/hour^2$ or something else). Yes, guaranteed! \n",
    "\n",
    "You can check out https://en.wikipedia.org/wiki/Coherence_(units_of_measurement) for a complete definition of coherence, https://en.wikipedia.org/wiki/International_System_of_Units for details about the SI system, and http://pint.readthedocs.org/en/latest/nonmult.html for a description of *pint*. The point for now is, the combination of unit coherenence and *pint* is pretty powerful, and this module will get you grounded in the basics. \n",
    "\n",
    "### Named variables\n",
    "Trying to not overload you too much in this introduction, but one more idea that will help as you go through this module is that Python has a built-in way of storing quantities, called *named variables*. That means if you use Eqs. (1) and (2) to calculate two pressures, and you give these pressures different names (like \"P\" and \"Pvdw\"), then Python will keep those values for you to use later. This might not sound like much, but when you're faced with the complex, multi-step calculations typical of thermodynamcis, it's very handy -- essential, really. \n",
    "\n",
    "### Chemical context - ideal gases and van der Waals gases\n",
    "\n",
    "One way of predicting the pressure of a gas is to use what's called the *Ideal Gas Law*,\n",
    "\n",
    "$$\n",
    "P = {{n R T} \\over V} \\ \\ \\ (1)\n",
    "$$\n",
    "\n",
    "where $P$ is the pressure of a gas, $V$ is the volume of the container it's in, $n$ is the amount of gas in that container, and $R$ is called the *Universal Gas Constant*, $8.314 {{J \\over {mol \\ K}}}$. You might be familiar with Eq. (1) in different forms, like $PV = n R T$, $n = {{PV} \\over {RT}}$, etc., but of course those are just different algebraic expressions of the same relationship. \n",
    "\n",
    "Another prediction is given by the *van der Waals* (vdw) equation, \n",
    "\n",
    "$$\n",
    "P = {{n R T} \\over {V - nb}} - {{n^2 a} \\over V^2}  \\ \\ \\ (2)\n",
    "$$\n",
    "\n",
    "where $a$ and $b$ are called van der Waals constants. These constants -- they are specific to each gas -- are tabulated in various places, inluding your text, and at https://en.wikipedia.org/wiki/Van_der_Waals_constants_(data_page). \n",
    "\n",
    "### Comparison metrics\n",
    "So, how good are these formulas? (Chemists tend to ask this about *any* \"law\", for that matter; we're a suspicious lot.) The best comparison, of course, would be to compare the pressure predicted by Eq. (1) to an experimental value, but that's not always very convenient. \n",
    "\n",
    "Regarding that question about the accuracy of the ideal gas law, there are several options we can imagine. \n",
    "- We could just inspect the difference, $P_{vdw} - P_{ideal}$ (or $P_{ideal} - P_{vdw}$).  \n",
    "\n",
    "- The percent difference, $({P_{vdw}}/{P_{ideal}}-1)\\times 100$, etc.\n",
    "\n",
    "- The ratio, $P_{vdw}/P_{ideal}$, etc. In that case, of course, you'd be interested in deviations from one.  \n",
    "\n",
    "For this module, we'll be evaluating these differences at more or less room conditions, and for a particular gas (Argon), but later we'll be exploring how that varies from gas to gas, and why.\n",
    "\n",
    "\n",
    "### Learning goals\n",
    "The main learning goals of this exercise can be phrased follows. \n",
    "1. I can create named variables in Python.\n",
    "1. I can enter numbers in scientific notation using the E-format convention.\n",
    "1. I'm familiar with key aspects of *pint*, e.g., specifying quantities with units, and making persistent or on-the-fly conversions.\n",
    "1. I'm familiar with common pressure units (atm, bar, pascal, and torr), and can sort them in order of how big they are.\n",
    "1. I can carry out algebraic and numerical calculations involving the ideal gas law, and evaluate the error in it relative to more accurate formulations, such as vdw's equation."
   ]
  },
  {
   "cell_type": "markdown",
   "metadata": {
    "nbgrader": {
     "grade": false,
     "grade_id": "cell-c9fe89d015f072b8",
     "locked": true,
     "schema_version": 3,
     "solution": false,
     "task": false
    }
   },
   "source": [
    "The next cell -- like all cells in a Python Notebook -- is executed by clicking in the cell and holding down the \"shift\" button as you press enter. Do that now."
   ]
  },
  {
   "cell_type": "code",
   "execution_count": 3,
   "metadata": {
    "nbgrader": {
     "grade": false,
     "grade_id": "cell-46fce2670e3e56be",
     "locked": true,
     "schema_version": 3,
     "solution": false,
     "task": false
    }
   },
   "outputs": [],
   "source": [
    "# Import resources stored in the Pchem Library\n",
    "%run ../PchemLibrary/ImportResources.ipynb"
   ]
  },
  {
   "cell_type": "markdown",
   "metadata": {
    "nbgrader": {
     "grade": false,
     "grade_id": "cell-a640f3273799cd1e",
     "locked": true,
     "schema_version": 3,
     "solution": false,
     "task": false
    }
   },
   "source": [
    "### Defining constants\n",
    "The universal gas constant is defined in the following cell, in SI units. Then it's converted to base SI units. These two are numerically the same, but in the second case the derived unit \"Joule\" has been broken down into its base SI units."
   ]
  },
  {
   "cell_type": "code",
   "execution_count": 4,
   "metadata": {
    "nbgrader": {
     "grade": false,
     "grade_id": "cell-e558333a248ec15c",
     "locked": true,
     "schema_version": 3,
     "solution": false,
     "task": false
    }
   },
   "outputs": [
    {
     "name": "stdout",
     "output_type": "stream",
     "text": [
      "8.314 joule / kelvin / mole\n",
      "8.314 kilogram * meter ** 2 / kelvin / mole / second ** 2\n"
     ]
    }
   ],
   "source": [
    "R = AssignQuantity(8.314,\"J/(mol K)\")\n",
    "print(R)\n",
    "R.ito_base_units()\n",
    "print(R)"
   ]
  },
  {
   "cell_type": "markdown",
   "metadata": {
    "nbgrader": {
     "grade": false,
     "grade_id": "cell-1ed4e19e189e9675",
     "locked": true,
     "schema_version": 3,
     "solution": false,
     "task": false
    }
   },
   "source": [
    "### Pause for analysis\n",
    "Study these results for a moment. The value of $R$ is the same in $J \\over {mol \\ K}$ as it is in $kg \\ m^2 \\over {mol \\ K \\ s^2}$.  So that means the base unit of a \"Joule\" must be $kg \\ m^2 \\over s^2$, right? Double-check that this is correct by inspecting the \"SI derived units with special names and symbols\" table at https://en.wikipedia.org/wiki/International_System_of_Units.\n",
    "\n",
    "Another point about what you just did: the \".ito_base_units\" made it so that R's units will be $kg \\ m^2 \\over {mol \\ K \\ s^2}$ from now on; we say that \".ito ...\" is a *persistent* conversion. You'll see below that there are ways to carry out more fleeting conversions too, which is sometimes handy."
   ]
  },
  {
   "cell_type": "markdown",
   "metadata": {
    "nbgrader": {
     "grade": false,
     "grade_id": "cell-29d015760a1348c5",
     "locked": true,
     "schema_version": 3,
     "solution": false,
     "task": false
    }
   },
   "source": [
    "### Your turn\n",
    "1. Using *pint*, specify R as $0.082057 {{\\ L \\ atm} \\over {mol \\ K}}$.\n",
    "1. Convert that value of R to $J \\over {mol \\ K}$. \n",
    "1. Print both values"
   ]
  },
  {
   "cell_type": "code",
   "execution_count": 5,
   "metadata": {
    "nbgrader": {
     "grade": true,
     "grade_id": "cell-e05291bd7fb73bc9",
     "locked": false,
     "points": 2,
     "schema_version": 3,
     "solution": true,
     "task": false
    }
   },
   "outputs": [
    {
     "name": "stdout",
     "output_type": "stream",
     "text": [
      "0.082057 liter * standard_atmosphere / kelvin / mole\n",
      "8.314425525000003 joule / kelvin / mole\n"
     ]
    }
   ],
   "source": [
    "### BEGIN SOLUTION\n",
    "R = AssignQuantity(0.082057,\"L atm /(mol K)\")\n",
    "print(R)\n",
    "R.ito(\"J /mol /K\")\n",
    "print(R)\n",
    "### END SOLUTION"
   ]
  },
  {
   "cell_type": "markdown",
   "metadata": {
    "nbgrader": {
     "grade": false,
     "grade_id": "cell-ab34b45ea02638a7",
     "locked": true,
     "schema_version": 3,
     "solution": false,
     "task": false
    }
   },
   "source": [
    "### On-the-fly unit conversion\n",
    "The code below highlights the fact that we can also do unit conversions \"on the fly\", using \".to\" instead of \".ito\")."
   ]
  },
  {
   "cell_type": "code",
   "execution_count": 6,
   "metadata": {
    "nbgrader": {
     "grade": false,
     "grade_id": "cell-c0cc7a00eaf9077c",
     "locked": true,
     "schema_version": 3,
     "solution": false,
     "task": false
    }
   },
   "outputs": [
    {
     "name": "stdout",
     "output_type": "stream",
     "text": [
      "8.314425525000003 joule / kelvin / mole\n",
      "0.08205700000000002 liter * standard_atmosphere / kelvin / mole\n",
      "8.314425525000003 joule / kelvin / mole\n"
     ]
    }
   ],
   "source": [
    "# This prints R from the last cell\n",
    "print(R)\n",
    "\n",
    "# This converts R back to L-atm units only for as long as it takes to print it\n",
    "print(R.to(\"L atm/(mol K)\"))\n",
    "\n",
    "# R is unchanged\n",
    "print(R)"
   ]
  },
  {
   "cell_type": "markdown",
   "metadata": {
    "nbgrader": {
     "grade": false,
     "grade_id": "cell-dc3ed948691d0240",
     "locked": true,
     "schema_version": 3,
     "solution": false,
     "task": false
    }
   },
   "source": [
    "### Your turn\n",
    "In the cell below,\n",
    "1. Define Boltzmann's constant, $1.3806×10^{-23} m^2 \\ kg \\ s^{-2} \\ K^{-1}$, using the E-format convention (i.e., \"1.3806e-23\"). Name the variable \"kB\". \n",
    "1. Do a persistent unit conversion to \"J/K\". The result should be numerically the same, since $1 \\ J = 1 \\ {kg \\ m^2 \\over s^2 } $, as you already figured out.\n",
    "1. Do an on-the-fly conversion to print the value of kB in units \"kiloJ/K\"."
   ]
  },
  {
   "cell_type": "code",
   "execution_count": 7,
   "metadata": {
    "nbgrader": {
     "grade": true,
     "grade_id": "cell-104cf2f288f2cd17",
     "locked": false,
     "points": 2,
     "schema_version": 3,
     "solution": true,
     "task": false
    }
   },
   "outputs": [
    {
     "name": "stdout",
     "output_type": "stream",
     "text": [
      "1.3806e-23 kilogram * meter ** 2 / kelvin / second ** 2\n",
      "1.3806e-23 joule / kelvin\n",
      "1.3806e-26 kilojoule / kelvin\n"
     ]
    }
   ],
   "source": [
    "### BEGIN SOLUTION\n",
    "kB = AssignQuantity(1.3806e-23,\"m^2 kg s^-2 K^-1\")\n",
    "print(kB)\n",
    "\n",
    "kB.ito(\"J/K\")\n",
    "print(kB)\n",
    "\n",
    "print(kB.to(\"kiloJ/K\"))\n",
    "### END SOLUTION"
   ]
  },
  {
   "cell_type": "markdown",
   "metadata": {
    "nbgrader": {
     "grade": false,
     "grade_id": "cell-adf2fd1e26e3873c",
     "locked": true,
     "schema_version": 3,
     "solution": false,
     "task": false
    }
   },
   "source": [
    "### Ideal gas law calculations\n",
    "\n",
    "The next cell uses the ideal gas law, Eq. (1). "
   ]
  },
  {
   "cell_type": "code",
   "execution_count": 8,
   "metadata": {
    "nbgrader": {
     "grade": false,
     "grade_id": "cell-36ebbf63d318f8dc",
     "locked": true,
     "schema_version": 3,
     "solution": false,
     "task": false
    }
   },
   "outputs": [
    {
     "name": "stdout",
     "output_type": "stream",
     "text": [
      "1 standard_atmosphere\n",
      "250 milliliter\n",
      "298 kelvin\n",
      "0.10090007685728163 milliliter * mole * standard_atmosphere / joule\n",
      "0.010223700287564062 mole\n"
     ]
    }
   ],
   "source": [
    "P_ideal = AssignQuantity(1,\"atm\"); print(P_ideal)\n",
    "V = AssignQuantity(250,\"ml\"); print(V)\n",
    "T = AssignQuantity(298,\"K\"); print(T)\n",
    "\n",
    "n = P_ideal*V/(R*T); print(n)\n",
    "n.ito_base_units(); print(n)"
   ]
  },
  {
   "cell_type": "markdown",
   "metadata": {
    "nbgrader": {
     "grade": false,
     "grade_id": "cell-67c51ee87075aea6",
     "locked": true,
     "schema_version": 3,
     "solution": false,
     "task": false
    }
   },
   "source": [
    "### Pause for analysis\n",
    "If you look carefully at cell, you'll notice that we've introduced a new syntax option: the semicolon. A semicolon lets you put two Python commands on the same line. For example, instead of \n",
    "\n",
    "    P_ideal = AssignQuantity(1,\"atm\")\n",
    "    print(P_ideal)\n",
    "\n",
    "we've elected to write\n",
    "\n",
    "    P_ideal = AssignQuantity(1,\"atm\"); print(P_ideal)\n",
    "\n",
    "These do exactly the same thing, it just makes for more compact code (which some people like)."
   ]
  },
  {
   "cell_type": "markdown",
   "metadata": {
    "nbgrader": {
     "grade": false,
     "grade_id": "cell-b7bff8ed078dc25b",
     "locked": true,
     "schema_version": 3,
     "solution": false,
     "task": false
    }
   },
   "source": [
    "### Your turn\n",
    "In the next cell, \n",
    "1. Replicating the syntax just described (i.e., with the semicolon), define variables $n=0.01 \\ mol$, $V=250 \\ mL$, and $T=298 \\ K$.\n",
    "1. Calculate the gas pressure based on the ideal gas law -- and name the new pressure \"P_ideal\". \n",
    "1. Print P_ideal -- you'll see that the units are nothing you've seen before. That's because we have a unit mismatch: the volume was given in mL, but R was in L-atm/mol/K. Not to dismay, however: see the next step.\n",
    "1. Do four on-the-fly conversions to atm, bar, pascals, and torr, printing the results as you go. Your resulting pressure in atm in should be pretty close to 1  -- just a little smaller because you're using 0.01 moles instead of 0.0102 moles. The others might be bigger or smaller. \n",
    "\n",
    "Then \n",
    "\n",
    "5. Rearrange the order of your four on-the-fly print statements (atm, bar, pascals, and torr -- leave out the wonky \"joule / milliliter\" result) so that the numbers are numerically smallest to largest. "
   ]
  },
  {
   "cell_type": "code",
   "execution_count": 9,
   "metadata": {
    "nbgrader": {
     "grade": true,
     "grade_id": "cell-093f33ac46f08896",
     "locked": false,
     "points": 2,
     "schema_version": 3,
     "solution": true,
     "task": false
    }
   },
   "outputs": [
    {
     "name": "stdout",
     "output_type": "stream",
     "text": [
      "0.01 mole\n",
      "250 milliliter\n",
      "298 kelvin\n",
      "0.09910795225800002 joule / milliliter\n",
      "0.9781194400000002 standard_atmosphere\n",
      "0.9910795225800002 bar\n",
      "743.3707744000001 torr\n",
      "99107.952258 pascal\n"
     ]
    }
   ],
   "source": [
    "### BEGIN SOLUTION\n",
    "\n",
    "n = AssignQuantity(0.01,\"mol\"); print(n)\n",
    "V = AssignQuantity(250,\"ml\"); print(V)\n",
    "T = AssignQuantity(298,\"K\"); print(T)\n",
    "\n",
    "P_ideal = n*R*T/V\n",
    "print(P_ideal)\n",
    "print(P_ideal.to(\"atm\"))\n",
    "print(P_ideal.to(\"bar\"))\n",
    "print(P_ideal.to(\"torr\"))\n",
    "print(P_ideal.to(\"pascal\"))\n",
    "\n",
    "### END SOLUTION"
   ]
  },
  {
   "cell_type": "markdown",
   "metadata": {
    "nbgrader": {
     "grade": false,
     "grade_id": "cell-32ca01b2da3b52bc",
     "locked": true,
     "schema_version": 3,
     "solution": false,
     "task": false
    }
   },
   "source": [
    "### Pause for analysis\n",
    "Based on what you you just got, you should be able to tell which pressure unit is the *tiniest*, and which is the *biggest*. Then enter your responses to these three prompts in the cell below:\n",
    "\n",
    "1. The tiniest unit of pressure of these four is: \n",
    "\n",
    "2. The biggest unit of pressure of these four is: \n",
    "\n",
    "3. 1 atm is almost the same as 1 bar, but is a pressure of 1 atm bigger than 1 bar, or smaller? "
   ]
  },
  {
   "cell_type": "markdown",
   "metadata": {
    "nbgrader": {
     "grade": true,
     "grade_id": "cell-d263e1d0d46fdfd0",
     "locked": false,
     "points": 1,
     "schema_version": 3,
     "solution": true,
     "task": false
    }
   },
   "source": []
  },
  {
   "cell_type": "markdown",
   "metadata": {
    "nbgrader": {
     "grade": false,
     "grade_id": "cell-1ca9c5961befa0b2",
     "locked": true,
     "schema_version": 3,
     "solution": false,
     "task": false
    }
   },
   "source": [
    "### Three steps for refreshing and saving your code\n",
    "It's good practice to, periodically, re-run the notebook up to here, from the beginning, refreshing all the variables:\n",
    "\n",
    "1. Use the dropdown menu Kernel/Restart\n",
    "2. Use the dropdown menu Cell/Run All Above\n",
    "\n",
    "Try this now! Assuming all goes well, take this additional step:\n",
    "\n",
    "3. Under the \"File\" dropdown menu item in the upper left is a disk icon. Press it now to save your work (and do it again every few minutes!)"
   ]
  },
  {
   "cell_type": "markdown",
   "metadata": {
    "nbgrader": {
     "grade": false,
     "grade_id": "cell-2cabb17ff7fdb66c",
     "locked": true,
     "schema_version": 3,
     "solution": false,
     "task": false
    }
   },
   "source": [
    "### The flexibility of *pint*\n",
    "Turns out, *pint* offers remarkable flexibility in specifying units, as demonstrated in the cell below."
   ]
  },
  {
   "cell_type": "code",
   "execution_count": 10,
   "metadata": {},
   "outputs": [
    {
     "name": "stdout",
     "output_type": "stream",
     "text": [
      "1.355 bar * liter ** 2 / mole ** 2\n",
      "1.355 bar * liter ** 2 / mole ** 2\n"
     ]
    }
   ],
   "source": [
    "a = AssignQuantity(1.355,'L^2 bar mol^-2'); print(a)\n",
    "a = AssignQuantity(1.355,'L**2 bar mol**-2'); print(a)"
   ]
  },
  {
   "cell_type": "markdown",
   "metadata": {
    "nbgrader": {
     "grade": false,
     "grade_id": "cell-86e1486d2eed29b8",
     "locked": true,
     "schema_version": 3,
     "solution": false,
     "task": false
    }
   },
   "source": [
    "### A difference between *pint* and *Python*\n",
    "While *pint* recognizes ^ and \\** to mean the same thing -- raising a quantity to a power -- *Python* recognizes only latter. That means it's fine to say either of these:\n",
    "\n",
    "    Volume = 22.4*ureg.m**3     # OK syntax\n",
    "    Area = 3**2                 # OK syntax\n",
    "    \n",
    "but Python will throw an error if you try this:\n",
    "\n",
    "    Volume = 22.4*ureg.m^3      # bad syntax\n",
    "    Area = 3^2                  # bad syntax\n"
   ]
  },
  {
   "cell_type": "markdown",
   "metadata": {
    "nbgrader": {
     "grade": false,
     "grade_id": "cell-4b6bd15b1562d288",
     "locked": true,
     "schema_version": 3,
     "solution": false,
     "task": false
    }
   },
   "source": [
    "### Your challenge\n",
    "Your challenge for the rest of this exercise is to evaluate the error in approximating the pressure of Argon gas using the ideal gas law, considering the \"truth\" as being what vdw's equation yields for the pressure. Specifically,\n",
    "\n",
    "1. Find vdw constants $a$ and $b$ for Argon gas, noting the units.\n",
    "1. Use  Eq. (2) to calculate the pressure of Argon gas under the same conditions as previously (0.01 mol in a 250 mL flask, etc). Store this result as the variable \"P_vdw\" so you don't clobber the value stored in P_ideal.\n",
    "1. Print the van der Waals pressure and the ideal gas law pressure in the same units (your choice!).\n",
    "1. Evaluate the difference between an ideal gas law and a vdw gas using one of the metrics mentioned above, and print that result too."
   ]
  },
  {
   "cell_type": "code",
   "execution_count": 11,
   "metadata": {
    "nbgrader": {
     "grade": true,
     "grade_id": "cell-f574219b881cd1a2",
     "locked": false,
     "points": 3,
     "schema_version": 3,
     "solution": true,
     "task": false
    }
   },
   "outputs": [
    {
     "name": "stdout",
     "output_type": "stream",
     "text": [
      "1.355 bar * liter ** 2 / mole ** 2\n",
      "0.032 liter / mole\n",
      "vdw gas in the units used: 0.09901817302347006 joule / milliliter\n",
      "vdw gas converted to atm: 0.9772333878457445 standard_atmosphere\n",
      "ideal gas converted to atm: 0.9781194400000002 standard_atmosphere\n",
      "difference: -89.7792345299531 pascal\n",
      "%difference: -0.09058731664259856 dimensionless\n",
      "ratio: 0.999094126833574 dimensionless\n"
     ]
    }
   ],
   "source": [
    "### BEGIN SOLUTION\n",
    "a = AssignQuantity(1.355,'L^2 bar / mol^2'); print(a)\n",
    "b = AssignQuantity(0.032,'L /mol'); print(b)\n",
    "P_vdw = n*R*T/(V-n*b)-n**2*a/V**2\n",
    "\n",
    "print(\"vdw gas in the units used:\", P_vdw)\n",
    "print(\"vdw gas converted to atm:\", P_vdw.to(\"atm\"))\n",
    "print(\"ideal gas converted to atm:\", P_ideal.to(\"atm\"))\n",
    "\n",
    "error = P_vdw.to(\"pascal\")-P_ideal.to(\"pascal\")\n",
    "print(\"difference:\", error)\n",
    "\n",
    "error = (P_vdw.to(\"atm\")/P_ideal.to(\"atm\")-1)*100\n",
    "print(\"%difference:\", error)\n",
    "\n",
    "error = P_vdw.to(\"atm\")/P_ideal.to(\"atm\")\n",
    "print(\"ratio:\", error)\n",
    "\n",
    "### END SOLUTION"
   ]
  },
  {
   "cell_type": "markdown",
   "metadata": {
    "nbgrader": {
     "grade": false,
     "grade_id": "cell-065a26fe35c05046",
     "locked": true,
     "schema_version": 3,
     "solution": false,
     "task": false
    }
   },
   "source": [
    "### One last refresh and save\n",
    "We're at the end of the notebook. You should repeat the \"Three steps for refreshing and saving your code\" you did before. Instead of using the dropdown menu \"Cell/Run All Above\", however, you may as well use \"Cell/Run All\".\n",
    "\n",
    "### Validating\n",
    "This step will help ensure that you didn't miss something (although it's not a guarantee). Find the \"Validate\" button and press it. If there are any errors or warnings, fix them.\n",
    "\n",
    "### Three steps for finishing up\n",
    "Assuming all this has gone smoothly, there will be three more steps (but read this carefully before carrying them out):\n",
    "1. Close this notebook using the \"File/Close and Halt\" dropdown menu\n",
    "1. Using the Assignments tab, submit this notebook\n",
    "1. Press the Logout tab of the Home Page"
   ]
  }
 ],
 "metadata": {
  "celltoolbar": "Create Assignment",
  "kernelspec": {
   "display_name": "Python 3.6",
   "language": "python",
   "name": "python3"
  },
  "language_info": {
   "codemirror_mode": {
    "name": "ipython",
    "version": 3
   },
   "file_extension": ".py",
   "mimetype": "text/x-python",
   "name": "python",
   "nbconvert_exporter": "python",
   "pygments_lexer": "ipython3",
   "version": "3.6.9"
  }
 },
 "nbformat": 4,
 "nbformat_minor": 2
}

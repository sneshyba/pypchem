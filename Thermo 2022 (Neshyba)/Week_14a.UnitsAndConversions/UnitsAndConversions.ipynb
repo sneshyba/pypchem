{
 "cells": [
  {
   "cell_type": "markdown",
   "metadata": {
    "nbgrader": {
     "grade": false,
     "grade_id": "cell-c066a326dd399b30",
     "locked": true,
     "schema_version": 3,
     "solution": false,
     "task": false
    }
   },
   "source": [
    "# Units and Conversions\n",
    "### Neshyba, 2021\n",
    "\n",
    "## Learning Goals\n",
    "1. Carry out conversions of quantities to and from SI using conventional methods, and using the Unit Registry\n",
    "1. Describe how to list compatible units in the unit registry. "
   ]
  },
  {
   "cell_type": "code",
   "execution_count": 1,
   "metadata": {
    "nbgrader": {
     "grade": false,
     "grade_id": "cell-9af09337895caaeb",
     "locked": true,
     "schema_version": 3,
     "solution": false,
     "task": false
    }
   },
   "outputs": [],
   "source": [
    "import pint; from pint import UnitRegistry; AssignQuantity = UnitRegistry().Quantity\n",
    "import numpy as np\n",
    "import matplotlib.pyplot as plt\n",
    "import PchemLibrary as PL\n",
    "from mpl_toolkits.mplot3d import axes3d\n",
    "import sympy as sp\n",
    "%matplotlib notebook"
   ]
  },
  {
   "cell_type": "markdown",
   "metadata": {
    "nbgrader": {
     "grade": false,
     "grade_id": "cell-ccc7f242981e1898",
     "locked": true,
     "schema_version": 3,
     "solution": false,
     "task": false
    }
   },
   "source": [
    "### The conventional way to do unit conversions\n",
    "Our convention here will be the following\n",
    "\n",
    "    energy_LiterAtm_to_J = 101.3 # 1 L-atm = 101.3 J\n",
    "    \n",
    "Therefore to convert a quantity containing energy in L-atm (in the numerator) *to* J, we should *multiply* by LiterAtm_to_J. Other conversion factors we'll use here follow the same convention:\n",
    "\n",
    "    energy_hartree_to_J = 4.35975e-18 # 1 hartree = 4.360 x 10^-18 J\n",
    "    volume_L_to_m3 = 1e-3 # 1 L = 0.001 m^3\n",
    "    time_au_to_s = 2.41888e-17\n",
    "    \n",
    "To go the other way, *from* the non-SI unit to the SI unit, we would *divide* by the conversion factor. "
   ]
  },
  {
   "cell_type": "code",
   "execution_count": 2,
   "metadata": {
    "nbgrader": {
     "grade": true,
     "grade_id": "cell-bbe2f24a4233acf7",
     "locked": false,
     "points": 2,
     "schema_version": 3,
     "solution": true,
     "task": false
    }
   },
   "outputs": [],
   "source": [
    "# Specify the conversion factors\n",
    "### BEGIN SOLUTION\n",
    "energy_LiterAtm_to_J = 101.32 # 1 L-atm = 101.3 J\n",
    "energy_hartree_to_J = 4.35975e-18 # 1 au = 4.360 x 10^-18 J\n",
    "volume_L_to_m3 = 1e-3 # 1 L = 0.001 m^3\n",
    "time_au_to_s = 2.41888e-17\n",
    "### END SOLUTION"
   ]
  },
  {
   "cell_type": "markdown",
   "metadata": {
    "nbgrader": {
     "grade": false,
     "grade_id": "cell-d0dfef15b01815e0",
     "locked": true,
     "schema_version": 3,
     "solution": false,
     "task": false
    }
   },
   "source": [
    "### Conversions to/from SI using the conventional method"
   ]
  },
  {
   "cell_type": "code",
   "execution_count": 3,
   "metadata": {
    "nbgrader": {
     "grade": true,
     "grade_id": "cell-1195015903e13a35",
     "locked": false,
     "points": 3,
     "schema_version": 3,
     "solution": true,
     "task": false
    }
   },
   "outputs": [
    {
     "name": "stdout",
     "output_type": "stream",
     "text": [
      "0.001 meters^3\n",
      "8.314319199999998 J/(mol*K)\n",
      "2.2937095016916106e+18 au (same as Hartrees)\n",
      "6.283122419553105 au*t0\n"
     ]
    }
   ],
   "source": [
    "# Example: converting 1 liter to SI\n",
    "V = 1 # liter\n",
    "V = V * volume_L_to_m3\n",
    "print(V, 'meters^3')\n",
    "\n",
    "# Your turn: convert R in L-Atm/mol-K to SI (and print)\n",
    "R = 0.08206 # L-atm/mol-K\n",
    "### BEGIN SOLUTION\n",
    "R = R * energy_LiterAtm_to_J\n",
    "print(R,'J/(mol*K)')\n",
    "### END SOLUTION\n",
    "\n",
    "# Your turn: convert 10 Joules to au (and print)\n",
    "Energy = 10 # J\n",
    "### BEGIN SOLUTION\n",
    "Energy = Energy/energy_hartree_to_J\n",
    "print(Energy,'au (same as Hartrees)')\n",
    "### END SOLUTION\n",
    "\n",
    "# Your turn: convert Planck's constant to au\n",
    "h = 6.626e-34 # J-seconds\n",
    "### BEGIN SOLUTION\n",
    "h = h /energy_hartree_to_J / time_au_to_s\n",
    "print(h,'au*t0')\n",
    "### END SOLUTION"
   ]
  },
  {
   "cell_type": "markdown",
   "metadata": {
    "nbgrader": {
     "grade": false,
     "grade_id": "cell-83129d60389c8db0",
     "locked": true,
     "schema_version": 3,
     "solution": false,
     "task": false
    }
   },
   "source": [
    "### Finding compatible units using ureg\n",
    "The first cell below shows how to ask UnitRegistry for compatible units. It can be pretty handy! "
   ]
  },
  {
   "cell_type": "code",
   "execution_count": 4,
   "metadata": {
    "nbgrader": {
     "grade": false,
     "grade_id": "cell-be5bc3b069c63716",
     "locked": true,
     "schema_version": 3,
     "solution": false,
     "task": false
    }
   },
   "outputs": [
    {
     "data": {
      "text/plain": [
       "frozenset({<Unit('electron_volt')>,\n",
       "           <Unit('rydberg')>,\n",
       "           <Unit('hartree')>,\n",
       "           <Unit('erg')>,\n",
       "           <Unit('joule')>,\n",
       "           <Unit('foot_pound')>,\n",
       "           <Unit('calorie')>,\n",
       "           <Unit('fifteen_degree_calorie')>,\n",
       "           <Unit('international_calorie')>,\n",
       "           <Unit('atmosphere_liter')>,\n",
       "           <Unit('thermochemical_british_thermal_unit')>,\n",
       "           <Unit('international_british_thermal_unit')>,\n",
       "           <Unit('british_thermal_unit')>,\n",
       "           <Unit('watt_hour')>,\n",
       "           <Unit('US_therm')>,\n",
       "           <Unit('therm')>,\n",
       "           <Unit('ton_TNT')>,\n",
       "           <Unit('tonne_of_oil_equivalent')>,\n",
       "           <Unit('quadrillion_Btu')>})"
      ]
     },
     "execution_count": 4,
     "metadata": {},
     "output_type": "execute_result"
    }
   ],
   "source": [
    "UnitRegistry().get_compatible_units('[energy]')"
   ]
  },
  {
   "cell_type": "markdown",
   "metadata": {
    "nbgrader": {
     "grade": false,
     "grade_id": "cell-993a965e28afb1e7",
     "locked": true,
     "schema_version": 3,
     "solution": false,
     "task": false
    }
   },
   "source": [
    "### Your turn\n",
    "In the cell below, ask UnitRegistry to list all units compatible with '[time]' instead of '[energy]'!"
   ]
  },
  {
   "cell_type": "code",
   "execution_count": 5,
   "metadata": {
    "nbgrader": {
     "grade": true,
     "grade_id": "cell-b521e7676c17a868",
     "locked": false,
     "points": 1,
     "schema_version": 3,
     "solution": true,
     "task": false
    }
   },
   "outputs": [
    {
     "data": {
      "text/plain": [
       "frozenset({<Unit('planck_time')>,\n",
       "           <Unit('atomic_unit_of_time')>,\n",
       "           <Unit('svedberg')>,\n",
       "           <Unit('shake')>,\n",
       "           <Unit('second')>,\n",
       "           <Unit('minute')>,\n",
       "           <Unit('hour')>,\n",
       "           <Unit('sidereal_day')>,\n",
       "           <Unit('day')>,\n",
       "           <Unit('week')>,\n",
       "           <Unit('fortnight')>,\n",
       "           <Unit('tropical_month')>,\n",
       "           <Unit('sidereal_month')>,\n",
       "           <Unit('synodic_month')>,\n",
       "           <Unit('month')>,\n",
       "           <Unit('common_year')>,\n",
       "           <Unit('tropical_year')>,\n",
       "           <Unit('gregorian_year')>,\n",
       "           <Unit('year')>,\n",
       "           <Unit('sidereal_year')>,\n",
       "           <Unit('leap_year')>,\n",
       "           <Unit('century')>,\n",
       "           <Unit('millennium')>,\n",
       "           <Unit('eon')>})"
      ]
     },
     "execution_count": 5,
     "metadata": {},
     "output_type": "execute_result"
    }
   ],
   "source": [
    "### BEGIN SOLUTION\n",
    "UnitRegistry().get_compatible_units('[time]')\n",
    "### END SOLUTION"
   ]
  },
  {
   "cell_type": "markdown",
   "metadata": {
    "nbgrader": {
     "grade": false,
     "grade_id": "cell-b1ecf8e32bed3541",
     "locked": true,
     "schema_version": 3,
     "solution": false,
     "task": false
    }
   },
   "source": [
    "### Conversions using the unit registry.\n",
    "Below, you're prompted to repeat the conversions you did before -- hopefully, you'll get the same numerical answers!"
   ]
  },
  {
   "cell_type": "code",
   "execution_count": 6,
   "metadata": {
    "nbgrader": {
     "grade": true,
     "grade_id": "cell-07c1d02d41659555",
     "locked": false,
     "points": 6,
     "schema_version": 3,
     "solution": true,
     "task": false
    }
   },
   "outputs": [
    {
     "name": "stdout",
     "output_type": "stream",
     "text": [
      "0.0010000000000000002 meter ** 3\n",
      "8.3147295 joule / kelvin / mole\n",
      "2.2937122783962883e+18 hartree\n",
      "6.2831187872908245 atomic_unit_of_time * hartree\n"
     ]
    }
   ],
   "source": [
    "# Here's an example\n",
    "V = AssignQuantity(1,'L')\n",
    "V.ito('m^3')\n",
    "print(V)\n",
    "\n",
    "# Your turn: convert R in L-Atm/mol-K (0.08206) to SI (and print)\n",
    "### BEGIN SOLUTION\n",
    "R = AssignQuantity(0.08206, 'L atm/mol/K')\n",
    "R.ito('J/mol/K')\n",
    "print(R)\n",
    "### END SOLUTION\n",
    "\n",
    "# Your turn: convert 10 Joule to au (and print)\n",
    "### BEGIN SOLUTION\n",
    "Energy = AssignQuantity(10,'J')\n",
    "Energy.ito('hartree')\n",
    "print(Energy)\n",
    "### END SOLUTION\n",
    "\n",
    "# Your turn: convert Planck's constant in SI (6.626e-34 J-seconds) to atomic units\n",
    "### BEGIN SOLUTION\n",
    "h = AssignQuantity(6.626e-34,'J s')\n",
    "h.ito('hartree atomic_unit_of_time')\n",
    "print(h)\n",
    "### END SOLUTION"
   ]
  },
  {
   "cell_type": "markdown",
   "metadata": {
    "nbgrader": {
     "grade": false,
     "grade_id": "cell-f761cdce4d85b3a9",
     "locked": true,
     "schema_version": 3,
     "solution": false,
     "task": false
    }
   },
   "source": [
    "### An interesting fact about atomic units\n",
    "Turns out, Planck's constant, in atomic units is $2 \\pi$. To verify, divide the value you just got by $2\\pi$."
   ]
  },
  {
   "cell_type": "code",
   "execution_count": 7,
   "metadata": {
    "nbgrader": {
     "grade": true,
     "grade_id": "cell-520d4022df524637",
     "locked": false,
     "points": 1,
     "schema_version": 3,
     "solution": true,
     "task": false
    }
   },
   "outputs": [
    {
     "name": "stdout",
     "output_type": "stream",
     "text": [
      "0.9999894130308896 atomic_unit_of_time * hartree\n"
     ]
    }
   ],
   "source": [
    "### BEGIN SOLUTION\n",
    "print(h/np.pi/2)\n",
    "### END SOLUTION"
   ]
  }
 ],
 "metadata": {
  "celltoolbar": "Create Assignment",
  "kernelspec": {
   "display_name": "Python 3.6",
   "language": "python",
   "name": "python3"
  },
  "language_info": {
   "codemirror_mode": {
    "name": "ipython",
    "version": 3
   },
   "file_extension": ".py",
   "mimetype": "text/x-python",
   "name": "python",
   "nbconvert_exporter": "python",
   "pygments_lexer": "ipython3",
   "version": "3.6.9"
  }
 },
 "nbformat": 4,
 "nbformat_minor": 2
}

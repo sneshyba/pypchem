{
 "cells": [
  {
   "cell_type": "markdown",
   "metadata": {
    "nbgrader": {
     "grade": false,
     "grade_id": "cell-9914c4d66eb1dd68",
     "locked": true,
     "schema_version": 3,
     "solution": false,
     "task": false
    }
   },
   "source": [
    "### Computational Guided Inquiry for PChem (Neshyba, 2021)\n",
    "\n",
    "# Numerical $\\mu$\n",
    "\n",
    "## Introduction\n",
    "\n",
    "As a reminder, a van der Waals gas is defined according to \n",
    "\n",
    "$$\n",
    "P(T,V) = {{n R T} \\over {V - nb}} - {{n^2 a} \\over V^2}  \\ \\ \\ \\ (1)\n",
    "$$\n",
    "\n",
    "where $a$ is understood to be a measure of the attractions between molecules, and $b$ is understood to be a measure of the repulsions between molecules. The quantity ${{n^2 a} \\over V^2}$ has to have dimensions pressure, since it's being subtracted from ${{n R T} \\over {V - nb}}$, which definitely has dimensions pressure. In previous work, we've found that the isothermal Joule coefficient -- the slope of $U(T,V)$ in the volume direction -- is given by\n",
    "\n",
    "$$\n",
    "\\pi_T = \\frac {n^2 a} {V^2} \\ \\ \\ \\ (2)\n",
    "$$\n",
    "\n",
    "for a van der Waals gas. You'll notice that $\\pi_T$ is exactly the negative of the second term in Eq. (1)!. Therefore it must have dimensions pressure! Putting these ideas together, $\\pi_T$ is sometimes referred to as the *negative internal pressure* of a gas due to attractions between molecules.\n",
    "\n",
    "We've also found that the isothermal Joule-Thomson coefficient (which we've called $\\mu_T$) is given approximately by\n",
    "\n",
    "$$\n",
    "\\mu_T = bn - \\frac {2an} {RT} \\ \\ \\ \\ (3)\n",
    "$$\n",
    "\n",
    "for a van der Waals gas. The *adiabatic* Joule-Thomson coeffient -- which is the quantity one measures in an adiabatic Joule-Thomson experiment -- is related by\n",
    "\n",
    "$$\n",
    "\\mu = - \\frac {\\mu_T} {C_p} \\ \\ \\ \\ (4)\n",
    "$$\n",
    "\n",
    "Here, we'll exampine $\\pi_T$, $\\mu_T$, and $\\mu$ over a range of temperatures. As you'll see, but $\\mu_T$ and $\\mu$ are both functions of temperature. In fact, the temperature at which $\\mu_T$ and $\\mu$ cross (it's the same temperature whichever one you look at) is the *inversion temperature*.\n",
    "\n",
    "\n",
    "## Learning Goals\n",
    "1. Gain some practice finding and using van der Waals parameters to calculate $\\pi_T$, $\\mu_T$ and $\\mu$\n",
    "1. Gain familiarity with the behavior of $\\mu_T$ and $\\mu$ as a function of temperature, and how that relates to the inversion temperature"
   ]
  },
  {
   "cell_type": "code",
   "execution_count": 1,
   "metadata": {
    "nbgrader": {
     "grade": false,
     "grade_id": "cell-e9dc406bc7e63773",
     "locked": true,
     "schema_version": 3,
     "solution": false,
     "task": false
    }
   },
   "outputs": [],
   "source": [
    "# Import resources - execute 2x if you want interactive graphics\n",
    "import pint; from pint import UnitRegistry; AssignQuantity = UnitRegistry().Quantity\n",
    "import numpy as np\n",
    "import matplotlib.pyplot as plt\n",
    "import PchemLibrary as PL\n",
    "from mpl_toolkits.mplot3d import axes3d\n",
    "%matplotlib notebook"
   ]
  },
  {
   "cell_type": "markdown",
   "metadata": {
    "nbgrader": {
     "grade": false,
     "grade_id": "cell-59aa800929c2101b",
     "locked": true,
     "schema_version": 3,
     "solution": false,
     "task": false
    }
   },
   "source": [
    "### Finding vdw parameters for $H_2$\n",
    "Look up vdw parameters $a$ and $b$ for $H_2$ (e.g., https://en.wikipedia.org/wiki/Van_der_Waals_constants_(data_page)), and create those two variables (using AssignQuantity) in the cell below."
   ]
  },
  {
   "cell_type": "code",
   "execution_count": 2,
   "metadata": {
    "nbgrader": {
     "grade": true,
     "grade_id": "cell-fcecfcecbd4517a6",
     "locked": false,
     "points": 2,
     "schema_version": 3,
     "solution": true,
     "task": false
    }
   },
   "outputs": [
    {
     "name": "stdout",
     "output_type": "stream",
     "text": [
      "0.2475 bar * liter ** 2 / mole ** 2\n",
      "0.02661 liter / mole\n"
     ]
    }
   ],
   "source": [
    "# Specify vdw parameters for H2\n",
    "### BEGIN SOLUTION ###\n",
    "# For H2\n",
    "a = AssignQuantity(0.2475,'L^2 bar / mol^2'); print(a)\n",
    "b = AssignQuantity(0.02661,'L /mol'); print(b)\n",
    "\n",
    "# # For N2 ... this produces an inversion temperature that's 250 degrees too high, however\n",
    "# a = AssignQuantity(1.370,'L^2 bar / mol^2'); print(a)\n",
    "# b = AssignQuantity(0.0387,'L /mol'); print(b)\n",
    "\n",
    "### END SOLUTION ###"
   ]
  },
  {
   "cell_type": "markdown",
   "metadata": {
    "nbgrader": {
     "grade": false,
     "grade_id": "cell-74a7c5582b6c9775",
     "locked": true,
     "schema_version": 3,
     "solution": false,
     "task": false
    }
   },
   "source": [
    "### Specifying the state of the system\n",
    "Below, we specify the state of the system: one mole of $H_2$ gas in a volume of $20 \\ L$, for a range of temperatures. "
   ]
  },
  {
   "cell_type": "code",
   "execution_count": 3,
   "metadata": {
    "nbgrader": {
     "grade": false,
     "grade_id": "cell-01c96e5bb985d8ea",
     "locked": true,
     "schema_version": 3,
     "solution": false,
     "task": false
    }
   },
   "outputs": [
    {
     "name": "stdout",
     "output_type": "stream",
     "text": [
      "0.082057 liter * standard_atmosphere / kelvin / mole\n",
      "1 mole\n",
      "20 liter\n",
      "[100.0 118.36734693877551 136.73469387755102 155.10204081632654 173.46938775510205 191.83673469387756 210.20408163265307 228.57142857142858 246.9387755102041 265.30612244897964 283.6734693877551 302.0408163265306 320.40816326530614 338.7755102040817 357.14285714285717 375.51020408163265 393.8775510204082 412.24489795918373 430.6122448979592 448.9795918367347 467.34693877551024 485.7142857142858 504.08163265306126 522.4489795918367 540.8163265306123 559.1836734693878 577.5510204081634 595.9183673469388 614.2857142857143 632.6530612244899 651.0204081632653 669.3877551020408 687.7551020408164 706.1224489795919 724.4897959183675 742.8571428571429 761.2244897959184 779.591836734694 797.9591836734694 816.3265306122449 834.6938775510205 853.061224489796 871.4285714285716 889.795918367347 908.1632653061225 926.5306122448981 944.8979591836735 963.265306122449 981.6326530612246 1000.0] kelvin\n"
     ]
    }
   ],
   "source": [
    "# The gas constant\n",
    "R = AssignQuantity(0.082057,\"L atm /(mol K)\"); print(R)\n",
    "\n",
    "# Scalar values for moles, and the gas constant\n",
    "n = AssignQuantity(1,\"mol\"); print(n)\n",
    "V = AssignQuantity(20,'L'); print(V)\n",
    "\n",
    "# We'll be using a range of temperatures\n",
    "T = AssignQuantity(np.linspace(100,1000),'K'); print(T)"
   ]
  },
  {
   "cell_type": "markdown",
   "metadata": {
    "nbgrader": {
     "grade": false,
     "grade_id": "cell-729e5d37b246696a",
     "locked": true,
     "schema_version": 3,
     "solution": false,
     "task": false
    }
   },
   "source": [
    "### Calculating $\\pi_T$ \n",
    "With the help of Eq. (2), calculate (and print) $\\pi_T$ using state variables you specified above."
   ]
  },
  {
   "cell_type": "code",
   "execution_count": 4,
   "metadata": {
    "nbgrader": {
     "grade": true,
     "grade_id": "cell-2bf80455cf069762",
     "locked": false,
     "points": 2,
     "schema_version": 3,
     "solution": true,
     "task": false
    }
   },
   "outputs": [
    {
     "name": "stdout",
     "output_type": "stream",
     "text": [
      "0.0006187499999999999 bar\n"
     ]
    }
   ],
   "source": [
    "# Calculate pi_T for this range of states\n",
    "### BEGIN SOLUTION ###\n",
    "pi_T = a*n**2/V**2\n",
    "print(pi_T)\n",
    "### END SOLUTION ###"
   ]
  },
  {
   "cell_type": "markdown",
   "metadata": {
    "nbgrader": {
     "grade": false,
     "grade_id": "cell-eeb3cf82ea744cbf",
     "locked": true,
     "schema_version": 3,
     "solution": false,
     "task": false
    }
   },
   "source": [
    "### Pause for analysis\n",
    "The main take-home is to notice that $\\pi_T$ really does have dimensions pressure. "
   ]
  },
  {
   "cell_type": "markdown",
   "metadata": {},
   "source": [
    "### Calculating $\\mu_T$\n",
    "With the help of Eq. (3), calculate (and print) $\\mu_T$ using the state variables you specified above. Since $\\mu_T$ depends on temperature, make a plot of $\\mu_T$ as a function of $T$."
   ]
  },
  {
   "cell_type": "code",
   "execution_count": 5,
   "metadata": {
    "nbgrader": {
     "grade": true,
     "grade_id": "cell-ed8b492a75e04cb5",
     "locked": false,
     "points": 2,
     "schema_version": 3,
     "solution": true,
     "task": false
    }
   },
   "outputs": [
    {
     "name": "stderr",
     "output_type": "stream",
     "text": [
      "/usr/local/lib/python3.6/dist-packages/numpy/core/numeric.py:538: UnitStrippedWarning: The unit of the quantity is stripped when downcasting to ndarray.\n",
      "  return array(a, dtype, copy=False, order=order)\n"
     ]
    },
    {
     "data": {
      "text/plain": [
       "Text(0, 0.5, 'mu_T')"
      ]
     },
     "execution_count": 5,
     "metadata": {},
     "output_type": "execute_result"
    },
    {
     "data": {
      "image/png": "[encoded data removed]",
      "text/plain": [
       "<Figure size 432x288 with 1 Axes>"
      ]
     },
     "metadata": {
      "needs_background": "light"
     },
     "output_type": "display_data"
    }
   ],
   "source": [
    "# Calculate and plot mu_T as a function of temperature\n",
    "### BEGIN SOLUTION ###\n",
    "mu_T = b*n - 2*a*n/(R*T)\n",
    "plt.figure()\n",
    "plt.plot(T,mu_T)\n",
    "plt.grid(True)\n",
    "plt.xlabel(\"T\")\n",
    "plt.ylabel(\"mu_T\")\n",
    "### END SOLUTION ###"
   ]
  },
  {
   "cell_type": "markdown",
   "metadata": {
    "nbgrader": {
     "grade": false,
     "grade_id": "cell-264bf7e58ffe2957",
     "locked": true,
     "schema_version": 3,
     "solution": false,
     "task": false
    }
   },
   "source": [
    "### Calculating $\\mu$\n",
    "For the same range of temperatures, use Eq. (4) to calculate $\\mu$ (calling your variable \"mu\"). Then make a plot of $\\mu$ as a function of $T$. You'll need the heat capacity of $H_2$ for this -- you can use the high-temperature limit (don't forget to add $nR$ to convert $C_V$ to $C_P$). Also, for comparison with the literature, you should convert your $\\mu$ to units K/bar."
   ]
  },
  {
   "cell_type": "code",
   "execution_count": 6,
   "metadata": {
    "nbgrader": {
     "grade": true,
     "grade_id": "cell-b20e5f93af61eda7",
     "locked": false,
     "points": 3,
     "schema_version": 3,
     "solution": true,
     "task": false
    }
   },
   "outputs": [
    {
     "name": "stdout",
     "output_type": "stream",
     "text": [
      "0.2871995 liter * standard_atmosphere / kelvin\n",
      "0.3692565 liter * standard_atmosphere / kelvin\n",
      "kelvin / bar\n"
     ]
    },
    {
     "data": {
      "text/plain": [
       "Text(0, 0.5, 'mu')"
      ]
     },
     "execution_count": 6,
     "metadata": {},
     "output_type": "execute_result"
    },
    {
     "data": {
      "image/png": "[encoded data removed]",
      "text/plain": [
       "<Figure size 432x288 with 1 Axes>"
      ]
     },
     "metadata": {
      "needs_background": "light"
     },
     "output_type": "display_data"
    }
   ],
   "source": [
    "# Calculate Cv and Cp for N2 in the high-temperature limit\n",
    "### BEGIN SOLUTION ###\n",
    "Cv = AssignQuantity(7/2*R*n); print(Cv)\n",
    "Cp = AssignQuantity(Cv + R*n); print(Cp)\n",
    "### END SOLUTION ###\n",
    "\n",
    "# Calculate mu for these temperatures, convert to K/bar, and plot as a function of temperature\n",
    "### BEGIN SOLUTION ###\n",
    "mu = -mu_T/Cp\n",
    "mu.ito('K/bar')\n",
    "print(mu.units)\n",
    "plt.figure()\n",
    "plt.plot(T,mu)\n",
    "plt.grid(True)\n",
    "plt.xlabel(\"T\")\n",
    "plt.ylabel(\"mu\")\n",
    "### END SOLUTION ###"
   ]
  },
  {
   "cell_type": "markdown",
   "metadata": {
    "nbgrader": {
     "grade": false,
     "grade_id": "cell-f51224d6c1465d84",
     "locked": true,
     "schema_version": 3,
     "solution": false,
     "task": false
    }
   },
   "source": [
    "### Pause for analysis\n",
    "In the cell below, comment on how well your result lines up with the literature (see, e.g., https://en.wikipedia.org/wiki/Joule-Thomson_effect). For example, is the curve qualitatively correct? What's the inversion temperature your results predict, compared to Wikipedia's?"
   ]
  },
  {
   "cell_type": "markdown",
   "metadata": {
    "nbgrader": {
     "grade": true,
     "grade_id": "cell-72395ba8656d2781",
     "locked": false,
     "points": 2,
     "schema_version": 3,
     "solution": true,
     "task": false
    }
   },
   "source": []
  }
 ],
 "metadata": {
  "celltoolbar": "Create Assignment",
  "kernelspec": {
   "display_name": "Python 3.6",
   "language": "python",
   "name": "python3"
  },
  "language_info": {
   "codemirror_mode": {
    "name": "ipython",
    "version": 3
   },
   "file_extension": ".py",
   "mimetype": "text/x-python",
   "name": "python",
   "nbconvert_exporter": "python",
   "pygments_lexer": "ipython3",
   "version": "3.6.9"
  }
 },
 "nbformat": 4,
 "nbformat_minor": 2
}

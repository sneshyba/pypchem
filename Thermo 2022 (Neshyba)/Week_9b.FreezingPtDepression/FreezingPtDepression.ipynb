{
 "cells": [
  {
   "cell_type": "markdown",
   "metadata": {
    "nbgrader": {
     "grade": false,
     "grade_id": "cell-a11fcea97d2f7303",
     "locked": true,
     "schema_version": 3,
     "solution": false,
     "task": false
    }
   },
   "source": [
    "### Computational Guided Inquiry for PChem (Neshyba, 2021)\n",
    "\n",
    "\n",
    "# Freezing Point Depression\n",
    "\n",
    "\n",
    "## Introduction\n",
    "\n",
    "The phrase *Freezing Point Depression* describes an effect in which a solvent, when it contains dissolved solutes, freezes at a lower temperature than the pure solvent would. Freezing point depression is the principle behind the salting of roads in winter, and the making of ice cream!\n",
    "\n",
    "It turns out that freezing point depression is closely tied to another effect, namely the reduction in a solvent's equilibrium vapor pressure, $P_A$, due to the presence of dissolved solute $B$. This effect, called *Raoult's Law*, is described graphically in Figure 1.\n",
    "\n",
    "<p style='text-align: center;'>\n",
    "<img src=\"Freezing Point Depression.png\" height=\"500\" width=\"500\"/>\n",
    "\n",
    "__Figure 1__. Phase diagram of water showing the effect of Raoult's Law on the liquid-vapor phase boundary. \n",
    "</p>\n",
    "\n",
    "Here, our goal is to put this relationship on a quantitative basis. To do that, we'll explore two methods: one we'll call the *Intersection Method*, and another known as *Blagden's Law*. \n",
    "\n",
    "### The Intersection Method for finding freezing point depression\n",
    "\n",
    "We first define the mole fraction of solvent, $A$, in a soution containing solute $B$,\n",
    "\n",
    "$$\n",
    "\\chi_A = \\frac 1 {1 + M_A b_B} \\ \\ \\ \\ (1)\n",
    "$$\n",
    "\n",
    "where $b_B$ is $B$'s *molality* (typically expressed as $\\frac {mol B}{kg A}$) and $M_A$ is the molar mass of the solvent ($\\frac {kg A}{mol A}$). Then Raoult's Law says the new equilibrium pressure of solvent A, $P_A$ is related to the vapor pressure above pure solvent, $P_A^*$, according to\n",
    "\n",
    "$$\n",
    "P_A = P_A^*\\chi_A \\ \\ \\ \\ (2)\n",
    "$$\n",
    "\n",
    "Since $\\chi_A<1$, the dashed green line in Figure 1 lies below the solid green line. And where the dashed green line intersects with the solid-vapor equilibrium curve, that's the new freezing temperature! That means there's a freezing point reduction, $\\Delta T_F$, indicated by an arrow in the figure. \n",
    "\n",
    "In this exercise, you'll be evaluating $\\Delta T_F$ of water containing a hypothetical constant, which we're calling *B*, using this method. \n",
    "\n",
    "### Blagden's Law\n",
    "It turns out the Intersection Method can be used to derive a simple analytical relationship, called *Blagden's Law*. We won't derive it here, we'll just quote the main results. First, each solvent has its own *cryoscopic constant*, designated here as $K_A$. While there are tables listing them, we'll focus on its theoretical value, given by\n",
    "\n",
    "$$ \n",
    "K_A = \\frac {R \\times M \\times T_f^2}{\\Delta H_{fus}} \\ \\ \\ \\ (3)\n",
    "$$\n",
    "\n",
    "where $T_f$ is the normal freezing temperature of the solvent, and $\\Delta H_{fus}$ is the enthalpy of fusion at that temperature. \n",
    "\n",
    "The second result is that the freezing point depression is given by the simple linear relationship\n",
    "\n",
    "$$\n",
    "\\Delta T_F = -i K_A \\times b \\ \\ \\ \\ (4)\n",
    "$$\n",
    "\n",
    "where $i$ is called the *van't Hoff factor*. There's a very interesting story behind *van't Hoff factor*, especially where it applies to ionic solutes like $NaCl$, but for our present purposes we'll just say $i=1$.\n",
    "\n",
    "\n",
    "## Learning Objectives\n",
    "- What Raoult's Law is, and how to use it\n",
    "- How Raoult's Law allows one to predict freezing point depression\n",
    "- How to predict a solvent's cryoscopic constant, $K_A$\n",
    "- How to use Blagden's Law to predict freezing point depression"
   ]
  },
  {
   "cell_type": "code",
   "execution_count": 1,
   "metadata": {
    "nbgrader": {
     "grade": false,
     "grade_id": "cell-3b9b61d2eaee70dc",
     "locked": true,
     "schema_version": 3,
     "solution": false,
     "task": false
    }
   },
   "outputs": [],
   "source": [
    "# Import resources - execute 2x if you want interactive graphics\n",
    "import pint; from pint import UnitRegistry; AssignQuantity = UnitRegistry().Quantity\n",
    "import numpy as np\n",
    "import matplotlib.pyplot as plt\n",
    "import PchemLibrary as PL\n",
    "from mpl_toolkits.mplot3d import axes3d\n",
    "%matplotlib notebook"
   ]
  },
  {
   "cell_type": "code",
   "execution_count": 2,
   "metadata": {
    "nbgrader": {
     "grade": false,
     "grade_id": "cell-98c0cbf3a766d642",
     "locked": true,
     "schema_version": 3,
     "solution": false,
     "task": false
    }
   },
   "outputs": [
    {
     "name": "stdout",
     "output_type": "stream",
     "text": [
      "8.314 joule / kelvin / mole\n",
      "273.16 kelvin\n",
      "612 pascal\n"
     ]
    }
   ],
   "source": [
    "# Gas constant in SI units\n",
    "R = AssignQuantity(8.314,'J/mol/K'); print(R)\n",
    "\n",
    "# Triple point of water\n",
    "T3 = AssignQuantity(273.16,'K'); print(T3)\n",
    "P3 = AssignQuantity(612,'Pa'); print(P3)\n",
    "\n",
    "# Molar mass of water\n",
    "M = AssignQuantity(18,'g/mol')\n",
    "\n",
    "# Enthalpy of vap and sub\n",
    "DHvap = AssignQuantity(44,'kJ/mol')\n",
    "DHsub = AssignQuantity(50,'kJ/mol')"
   ]
  },
  {
   "cell_type": "markdown",
   "metadata": {
    "nbgrader": {
     "grade": false,
     "grade_id": "cell-2cfe67c7e5a2b020",
     "locked": true,
     "schema_version": 3,
     "solution": false,
     "task": false
    }
   },
   "source": [
    "### Define an extended (supercooled or superheated) Clausius-Clapeyron function\n",
    "The function below is provided for you and can be run as-is. But if you want to see a different amount of superheating or cooling in your graphs below, you can alter the first few lines to suit you."
   ]
  },
  {
   "cell_type": "code",
   "execution_count": 3,
   "metadata": {},
   "outputs": [],
   "source": [
    "def Clausius_Clapeyron_super(T,T3,P3,DH,R,AssignQuantity):\n",
    "    \"\"\" This function calculates Clausius-Clapeyron curves past the triple point\"\"\"\n",
    "    \n",
    "    # The numbers here determine how much superheating or supercooling we want to see\n",
    "    superheat = AssignQuantity(5,'K')\n",
    "    supercool = AssignQuantity(5,'K')\n",
    "\n",
    "    # Decide on whether we're superheating or supercooling, and extend appropriately\n",
    "    if T < T3:\n",
    "        print('Superheating ...')\n",
    "        T_array = AssignQuantity(np.linspace(T,T3+superheat),T.units)\n",
    "    else:\n",
    "        print('Supercooling ...')\n",
    "        T_array = AssignQuantity(np.linspace(T3-supercool,T),T.units)\n",
    "    R.ito('J/mol/K')\n",
    "    DH.ito('J/mol')\n",
    "    P_array = P3*np.exp(-DH/R*(1/T_array-1/T3))\n",
    "    print('Units of resulting temperature:', T_array.units)\n",
    "    print('Units of resulting pressure:', P_array.units)\n",
    "\n",
    "    # Return the temperature and pressure arrays\n",
    "    return T_array, P_array"
   ]
  },
  {
   "cell_type": "markdown",
   "metadata": {
    "nbgrader": {
     "grade": false,
     "grade_id": "cell-494915560aeca186",
     "locked": true,
     "schema_version": 3,
     "solution": false,
     "task": false
    }
   },
   "source": [
    "### Using the extended Clausius-Clapeyron equation\n",
    "The first line below uses Clausius_Clapeyron_super to calculate $P_{H_2O,liq}^*$ *up* to 278 K. The temperature range starts a few degrees below $T_3$, because this is *super* Clausius-Clapeyron! \n",
    "\n",
    "Add another line that uses Clausius_Clapeyron_super to calculate $P_{H_2O,ice}^*$ *down* to 268 K. You can call the resulting arrays T_sv and P_sv, if you like."
   ]
  },
  {
   "cell_type": "code",
   "execution_count": 4,
   "metadata": {
    "nbgrader": {
     "grade": true,
     "grade_id": "cell-d9219c8e96d1b1be",
     "locked": false,
     "points": 2,
     "schema_version": 3,
     "solution": true,
     "task": false
    }
   },
   "outputs": [
    {
     "name": "stdout",
     "output_type": "stream",
     "text": [
      "Supercooling ...\n",
      "Units of resulting temperature: kelvin\n",
      "Units of resulting pressure: pascal\n",
      "Superheating ...\n",
      "Units of resulting temperature: kelvin\n",
      "Units of resulting pressure: pascal\n"
     ]
    },
    {
     "name": "stderr",
     "output_type": "stream",
     "text": [
      "/usr/local/lib/python3.6/dist-packages/numpy/core/numeric.py:591: UnitStrippedWarning: The unit of the quantity is stripped when downcasting to ndarray.\n",
      "  return array(a, dtype, copy=False, order=order, subok=True)\n"
     ]
    }
   ],
   "source": [
    "# Call Clausius_Clapeyron for the liquid->vapor phase boundary, going up to 278 K.\n",
    "T_lv, P_lv = Clausius_Clapeyron_super(AssignQuantity(278,'K'),T3,P3,DHvap,R,AssignQuantity)\n",
    "\n",
    "# Call Clausius_Clapeyron for the solid->vapor phase boundary, going down to 268 K.\n",
    "### BEGIN SOLUTION\n",
    "T_sv, P_sv = Clausius_Clapeyron_super(AssignQuantity(268,'K'),T3,P3,DHsub,R,AssignQuantity)\n",
    "### END SOLUTION"
   ]
  },
  {
   "cell_type": "markdown",
   "metadata": {
    "nbgrader": {
     "grade": false,
     "grade_id": "cell-fec6b7bdb402c5d6",
     "locked": true,
     "schema_version": 3,
     "solution": false,
     "task": false
    }
   },
   "source": [
    "### Plotting the results\n",
    "Plot these two pressures ($P_{H_2O,liq}^*$ and $P_{H_2O,ice}^*$), with appropriate legends. Our coloring convention is green for liquid->vapor, orange for solid->vapor. "
   ]
  },
  {
   "cell_type": "code",
   "execution_count": 5,
   "metadata": {
    "nbgrader": {
     "grade": true,
     "grade_id": "cell-02cf05b636bb7e74",
     "locked": false,
     "points": 2,
     "schema_version": 3,
     "solution": true,
     "task": false
    }
   },
   "outputs": [
    {
     "name": "stderr",
     "output_type": "stream",
     "text": [
      "/usr/local/lib/python3.6/dist-packages/numpy/core/numeric.py:538: UnitStrippedWarning: The unit of the quantity is stripped when downcasting to ndarray.\n",
      "  return array(a, dtype, copy=False, order=order)\n"
     ]
    },
    {
     "data": {
      "text/plain": [
       "<matplotlib.legend.Legend at 0x7ffae2030b38>"
      ]
     },
     "execution_count": 5,
     "metadata": {},
     "output_type": "execute_result"
    },
    {
     "data": {
      "image/png": "[encoded data removed]",
      "text/plain": [
       "<Figure size 432x288 with 1 Axes>"
      ]
     },
     "metadata": {
      "needs_background": "light"
     },
     "output_type": "display_data"
    }
   ],
   "source": [
    "# Plot the solid->vapor, liquid->vapor phase boundaries\n",
    "### BEGIN SOLUTION\n",
    "plt.figure()\n",
    "plt.plot(T_lv,P_lv,color='green',label='liq-vapor')\n",
    "plt.plot(T_sv,P_sv,color='orange',label='solid-vapor')\n",
    "plt.grid(True)\n",
    "plt.xlabel('T ('+str(T_sv.units)+')')\n",
    "plt.ylabel('P ('+str(P_sv.units)+')')\n",
    "plt.legend()\n",
    "### END SOLUTION"
   ]
  },
  {
   "cell_type": "markdown",
   "metadata": {
    "nbgrader": {
     "grade": false,
     "grade_id": "cell-0a707045ef05820b",
     "locked": true,
     "schema_version": 3,
     "solution": false,
     "task": false
    }
   },
   "source": [
    "### Pause for analysis\n",
    "Using the zoom feature, double-check that the intersection really does occur at water's triple point, $T_3=273.16 \\ K$ and $P_3 = 612 \\ Pa$. "
   ]
  },
  {
   "cell_type": "markdown",
   "metadata": {
    "nbgrader": {
     "grade": false,
     "grade_id": "cell-25c8f357d368b41f",
     "locked": true,
     "schema_version": 3,
     "solution": false,
     "task": false
    }
   },
   "source": [
    "### Applying Raoult's Law to the liquid->vapor pressure\n",
    "\n",
    "Some key ideas:\n",
    "- The units of molality, $b$, are moles (of solute B) divided by kg (of solvent, in this case water).\n",
    "- You can convert from molality to mole fraction using\n",
    "$$\n",
    "\\chi_{H_2O} = \\frac 1 {1+M_{H_2O} b_B}\n",
    "$$\n",
    "\n",
    "\n",
    "- Applying Raoult's Law to a solution consists of computing a new pressure, $P_{H_2O}=\\chi_{H_2O} \\times P_{H_2O}^*$, which of course will be smaller than $P_{H_2O}^*$ because $\\chi_{H_2O} < 1$.\n",
    "\n",
    "where we've added subscripts to remind ourselves that ${H_2O}$ is the solvent and B is a solute.\n",
    "\n",
    "Once you have $\\chi_{H_2O}$, plot the pressure of the two phase boundaries you got previously, but add on the Raoult-corrected pressure too, with appropriate legends. Use a dashed line for the Raoult result, something like\n",
    "\n",
    "    plt.plot(T_lv,P_lv*chiH2O,color='green',label='liq-vapor',linestyle='dashed')\n"
   ]
  },
  {
   "cell_type": "code",
   "execution_count": 6,
   "metadata": {
    "nbgrader": {
     "grade": true,
     "grade_id": "cell-29557c5bf0485e3b",
     "locked": false,
     "points": 4,
     "schema_version": 3,
     "solution": true,
     "task": false
    }
   },
   "outputs": [
    {
     "name": "stdout",
     "output_type": "stream",
     "text": [
      "0.9910802775024778 dimensionless\n"
     ]
    },
    {
     "data": {
      "text/plain": [
       "<matplotlib.legend.Legend at 0x7ffae1f8bb00>"
      ]
     },
     "execution_count": 6,
     "metadata": {},
     "output_type": "execute_result"
    },
    {
     "data": {
      "image/png": "[encoded data removed]",
      "text/plain": [
       "<Figure size 432x288 with 1 Axes>"
      ]
     },
     "metadata": {
      "needs_background": "light"
     },
     "output_type": "display_data"
    }
   ],
   "source": [
    "# Assign a value of 0.5 mol/kg to b, and use it to calculate the mole fraction of water in this solution \n",
    "### BEGIN SOLUTION\n",
    "b = AssignQuantity(0.5,'mol/kg')\n",
    "chiH2O = 1/(1+M*b); print(chiH2O)\n",
    "### END SOLUTION\n",
    "\n",
    "# Plot the solid->vapor, liquid->vapor, and Raoult-corrected liquid-> vapor phase boundaries\n",
    "### BEGIN SOLUTION\n",
    "plt.figure()\n",
    "plt.plot(T_lv,P_lv,color='green',label='liq-vapor')\n",
    "plt.plot(T_lv,P_lv*chiH2O,color='green',label='liq-vapor w/Raoult',linestyle='dashed')\n",
    "plt.plot(T_sv,P_sv,color='orange',label='solid-vapor')\n",
    "plt.grid(True)\n",
    "plt.xlabel('T ('+str(T_sv.units)+')')\n",
    "plt.ylabel('P ('+str(P_sv.units)+')')\n",
    "plt.legend()\n",
    "### END SOLUTION"
   ]
  },
  {
   "cell_type": "markdown",
   "metadata": {
    "nbgrader": {
     "grade": false,
     "grade_id": "cell-ca6dfbc48ea93e39",
     "locked": true,
     "schema_version": 3,
     "solution": false,
     "task": false
    }
   },
   "source": [
    "### Using the phase diagram method\n",
    "1. Using the zoom feature, figure out the reduction in the freezing temperature, and record your results in spreadsheet. \n",
    "1. Run the whole notebook again a few more times, with increasing concentrations of solute b, and record your results. You probably don't want to get much above $b_B=2 {\\ mol \\over kg}$, or else you'll have to expand the limits of your graph.\n",
    "1. Once you're happy with your data set, use a trendline analysis in your spreadsheet to get the slope (assuming the form given in Eq. (4), assuming $i=1$). \n",
    "1. In the cell below, report the value of $K_A$ you get using this method, with appropriate units. "
   ]
  },
  {
   "cell_type": "markdown",
   "metadata": {
    "nbgrader": {
     "grade": true,
     "grade_id": "cell-74387fa7fe9b3534",
     "locked": false,
     "points": 4,
     "schema_version": 3,
     "solution": true,
     "task": false
    }
   },
   "source": [
    "My value: 1.85 kg K / mol"
   ]
  },
  {
   "cell_type": "markdown",
   "metadata": {
    "nbgrader": {
     "grade": false,
     "grade_id": "cell-d02b462ed38bd95d",
     "locked": true,
     "schema_version": 3,
     "solution": false,
     "task": false
    }
   },
   "source": [
    "### Using Blagden's Law\n",
    "\n",
    "In the cell below,\n",
    "1. Calculate the value of $K_A$ using Eq. (3). You can use $\\Delta H_{fus}=6 \\ kJ/mol$ and a freezing temperature of $273 \\ K$. Report your result in units kg K /mol, and comment on how well it compares to the value of $K_A$ you got in the previous cell.\n",
    "1. Use Blagden's Law, Eq. (4), to predict the freezing point depression of water in a saturated sodium chloride solution, for which $b=6.2 \\ mol/kg$. In this case, the van't Hoff factor is $i=2$."
   ]
  },
  {
   "cell_type": "code",
   "execution_count": 7,
   "metadata": {
    "nbgrader": {
     "grade": true,
     "grade_id": "cell-fc72414352495b56",
     "locked": false,
     "points": 2,
     "schema_version": 3,
     "solution": true,
     "task": false
    }
   },
   "outputs": [
    {
     "name": "stdout",
     "output_type": "stream",
     "text": [
      "273 kelvin\n",
      "6 kilojoule / mole\n",
      "1858902.318 gram * joule * kelvin / kilojoule / mole\n",
      "1.858902318 kelvin * kilogram / mole\n",
      "1.858902318 kelvin * kilogram / mole\n",
      "6.206896551724138 mole / kilogram\n",
      "23.076028775172414 kelvin\n"
     ]
    }
   ],
   "source": [
    "# BEGIN SOLUTION\n",
    "T_f = AssignQuantity(273,'K'); print(T_f)\n",
    "DHfus = AssignQuantity(6,'kJ/mol'); print(DHfus)\n",
    "K_A = R * M * T_f**2/DHfus; print(K_A)\n",
    "K_A.ito('kg K /mol'); print(K_A)\n",
    "print(K_A)\n",
    "\n",
    "b = AssignQuantity(360,'g/kg')/AssignQuantity(58,'g/mol'); print(b)\n",
    "i = 2\n",
    "DT = i*K_A*b; print(DT)\n",
    "\n",
    "### END SOLUTION"
   ]
  }
 ],
 "metadata": {
  "celltoolbar": "Create Assignment",
  "kernelspec": {
   "display_name": "Python 3.6",
   "language": "python",
   "name": "python3"
  },
  "language_info": {
   "codemirror_mode": {
    "name": "ipython",
    "version": 3
   },
   "file_extension": ".py",
   "mimetype": "text/x-python",
   "name": "python",
   "nbconvert_exporter": "python",
   "pygments_lexer": "ipython3",
   "version": "3.6.9"
  }
 },
 "nbformat": 4,
 "nbformat_minor": 2
}

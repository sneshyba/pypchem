{
 "cells": [
  {
   "cell_type": "markdown",
   "metadata": {
    "nbgrader": {
     "grade": false,
     "grade_id": "cell-7ae5501b3f4f28d9",
     "locked": true,
     "schema_version": 3,
     "solution": false,
     "task": false
    }
   },
   "source": [
    "### Computational Guided Inquiry for PChem (Neshyba, 2023)\n",
    "\n",
    "# Analytical Moments\n",
    "\n",
    "## Goals\n",
    "Here we'll be working with analytical formulas for the moments of speed. To review, we have \n",
    "\n",
    "- The first moment of the speed is the *average speed*. Its name is $\\bar c$,\n",
    "\n",
    "$$\n",
    "\\bar c = \\langle v \\rangle \\ \\ \\ \\ (1)\n",
    "$$ \n",
    "\n",
    "- The square root of the second moment of the speed is the *root mean square* speed. Its name is $c$,\n",
    "\n",
    "$$\n",
    "c = \\langle v^2 \\rangle ^\\frac{1}{2} \\ \\ \\ \\ (2)\n",
    "$$ \n",
    "\n",
    "- The cubed root of the third moment of the speed is the *cubed-root-mean-cubed speed*. Its name is $\\tilde c$,\n",
    "\n",
    "$$\n",
    "\\tilde c = \\langle v^3 \\rangle ^\\frac{1}{3} \\ \\ \\ \\ (3)\n",
    "$$\n",
    "\n",
    "We'll also be looking at analytical formulas for $\\bar c$, $c$, and $\\tilde c$. You should find these expressions, or derive them, before diving into this exercise.\n",
    "\n",
    "## Learning Goals\n",
    "\n",
    "1. Be familiar with evaluating analytical expressions for $\\bar c$, $c$, and $\\tilde c$."
   ]
  },
  {
   "cell_type": "code",
   "execution_count": 1,
   "metadata": {
    "nbgrader": {
     "grade": false,
     "grade_id": "cell-b6c9039c79f92143",
     "locked": true,
     "schema_version": 3,
     "solution": false,
     "task": false
    }
   },
   "outputs": [],
   "source": [
    "import numpy as np\n",
    "from pint import UnitRegistry; AssignQuantity = UnitRegistry().Quantity"
   ]
  },
  {
   "cell_type": "markdown",
   "metadata": {
    "nbgrader": {
     "grade": false,
     "grade_id": "cell-c7b82ea449d00761",
     "locked": true,
     "schema_version": 3,
     "solution": false,
     "task": false
    }
   },
   "source": [
    "### Numerical results\n",
    "In the cell below, we print values of $\\bar c$, $c$, and $\\tilde c$ for $N_2$ gas that we got previously (all at $500 \\ K$)."
   ]
  },
  {
   "cell_type": "code",
   "execution_count": 2,
   "metadata": {
    "nbgrader": {
     "grade": false,
     "grade_id": "cell-d18bd3bee8ac45af",
     "locked": true,
     "schema_version": 3,
     "solution": false,
     "task": false
    }
   },
   "outputs": [
    {
     "name": "stdout",
     "output_type": "stream",
     "text": [
      "cbar = 615 meter / second\n",
      "c = 667 meter / second\n",
      "ctilde = 715 meter / second\n"
     ]
    }
   ],
   "source": [
    "# cbar (average speed)\n",
    "cbar = AssignQuantity(615,'m/s')\n",
    "print('cbar =', cbar)\n",
    "\n",
    "# c (rms speed)\n",
    "c = AssignQuantity(667,'m/s')\n",
    "print('c =', c)\n",
    "\n",
    "# ctilde\n",
    "ctilde = AssignQuantity(715,'m/s')\n",
    "print('ctilde =', ctilde)"
   ]
  },
  {
   "cell_type": "markdown",
   "metadata": {
    "nbgrader": {
     "grade": false,
     "grade_id": "cell-5ba6251c2bb08804",
     "locked": true,
     "schema_version": 3,
     "solution": false,
     "task": false
    }
   },
   "source": [
    "### Comparing your previous (numerical) values to analytical results\n",
    "In the cell below, calculate values of $\\bar c$, $c$, and $\\tilde c$ from analytical expressions (with a minimum of parentheses), and print the results. For the first two of these, we have $\\bar c = \\bigl( \\frac{8RT}{\\pi M} \\bigr)^{1/2}$ and $ c = \\bigl( \\frac{3RT}{M} \\bigr)^{1/2}$. For $\\tilde c =$, use your own result."
   ]
  },
  {
   "cell_type": "code",
   "execution_count": 3,
   "metadata": {
    "nbgrader": {
     "grade": true,
     "grade_id": "cell-f290c7b7c1ab556f",
     "locked": false,
     "points": 6,
     "schema_version": 3,
     "solution": true,
     "task": false
    }
   },
   "outputs": [
    {
     "name": "stdout",
     "output_type": "stream",
     "text": [
      "cbar:  614.8668141187784 meter / second\n",
      "c:  667.3775971238898 meter / second\n",
      "ctilde:  714.7512285753693 meter / second\n"
     ]
    }
   ],
   "source": [
    "# Constants for T=500 K, M=28 g/mol\n",
    "T = AssignQuantity(500,'K')          # Assuming the high-temperature results\n",
    "M = AssignQuantity(0.028,'kg/mol')   # Assuming N2 gas\n",
    "R = AssignQuantity(8.314,'J/mol/K')  # SI gas constant\n",
    "\n",
    "# cbar\n",
    "### BEGIN SOLUTION\n",
    "cbar = (8*R*T/(np.pi*M))**(1/2)\n",
    "cbar.ito('m/s')\n",
    "print('cbar: ', cbar)\n",
    "### END SOLUTION\n",
    "\n",
    "# c\n",
    "### BEGIN SOLUTION\n",
    "c = (3*R*T/M)**(1/2)\n",
    "c.ito('m/s')\n",
    "print('c: ', c)\n",
    "### END SOLUTION\n",
    "\n",
    "# ctilde\n",
    "### BEGIN SOLUTION\n",
    "ctilde = 1.855*(R*T/M)**(1/2)\n",
    "ctilde.ito('m/s')\n",
    "print('ctilde: ',ctilde)\n",
    "### END SOLUTION"
   ]
  },
  {
   "cell_type": "markdown",
   "metadata": {
    "nbgrader": {
     "grade": false,
     "grade_id": "cell-366d723ea54fdc48",
     "locked": true,
     "schema_version": 3,
     "solution": false,
     "task": false
    }
   },
   "source": [
    "### Pause for analysis\n",
    "One check on your code and theory here is whether you got values close to your numerical results. Another check is to verify that $\\bar c < c < \\tilde c$. If you find any big discrepancies along these lines, you might want to go back and see what might have gone wrong."
   ]
  },
  {
   "cell_type": "markdown",
   "metadata": {
    "nbgrader": {
     "grade": false,
     "grade_id": "cell-f22604fb95da13d7",
     "locked": true,
     "schema_version": 3,
     "solution": false,
     "task": false
    }
   },
   "source": [
    "### Refresh/save/validate\n",
    "Almost done! To double-check everything is OK, repeat the \"Three steps for refreshing and saving your code,\" and press the \"Validate\" button (as usual).\n",
    "\n",
    "### Close/submit/logout\n",
    "1. Close this notebook using the \"File/Close and Halt\" dropdown menu\n",
    "1. Using the Assignments tab, submit this notebook\n",
    "1. Press the Logout tab of the Home Page"
   ]
  }
 ],
 "metadata": {
  "celltoolbar": "Create Assignment",
  "kernelspec": {
   "display_name": "Python 3 (ipykernel)",
   "language": "python",
   "name": "python3"
  },
  "language_info": {
   "codemirror_mode": {
    "name": "ipython",
    "version": 3
   },
   "file_extension": ".py",
   "mimetype": "text/x-python",
   "name": "python",
   "nbconvert_exporter": "python",
   "pygments_lexer": "ipython3",
   "version": "3.10.2"
  }
 },
 "nbformat": 4,
 "nbformat_minor": 2
}

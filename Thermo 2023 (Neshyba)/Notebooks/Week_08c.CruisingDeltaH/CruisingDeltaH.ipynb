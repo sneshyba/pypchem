{
 "cells": [
  {
   "cell_type": "markdown",
   "metadata": {
    "nbgrader": {
     "grade": false,
     "grade_id": "cell-5a9e88eb17b5c8bd",
     "locked": true,
     "schema_version": 3,
     "solution": false,
     "task": false
    }
   },
   "source": [
    "### Computational Guided Inquiry for PChem (Neshyba, 2023)\n",
    "\n",
    "# Cruising $\\Delta H_{rxn}$\n",
    "\n",
    "## Introduction\n",
    "Because thermodynamic surfaces generally vary across state space, it follows that the *difference* between two such surfaces will also vary across state space. In this CGI, we'll be examining the enthalpy changes associated with phase changes in a $T,P$ state space, so that you can develop some familiarity with the quantitative application of these ideas. A key additional take-home message is that this kind of analysis applies much more broadly, to other thermodynamic surfaces in other state spaces.\n",
    "\n",
    "## The reference state\n",
    "We start with the assumption that we know the difference between two thermodynamic surfaces at some reference point in state space -- say $T_o$ and $P_o$. In the case of enthalpy in a temperature/volume state space, for example, we'd symbolize this difference as something like $\\Delta H_{rxn}^o$, which is shorthand for the more careful designation\n",
    "\n",
    "$$\n",
    "\\Delta H_{rxn}^o = \\Delta H_{rxn}(T_o,P_o) \\ \\ \\ (1)\n",
    "$$\n",
    "\n",
    "At a temperatures or pressures other than $T_o$, we would write\n",
    "\n",
    "$$\n",
    "\\Delta H_{rxn} = \\Delta H_{rxn}^o + \\Delta(\\Delta H_{rxn}) \\ \\ \\ (2)\n",
    "$$\n",
    "\n",
    "Evaluating $\\Delta(\\Delta H_{rxn})$ depends on where in state space we're interested in going, of course. In a temperature/pressure state space, that means isobaric changes in temperature, or isothermal changes in pressure. We'll tackle those next. \n",
    "\n",
    "## Isobaric changes in temperature\n",
    "For isobaric changes in temperature, we could say \n",
    "\n",
    "$$\n",
    "\\Delta(\\Delta H_{rxn}) = \\int_{T^o}^{T'} \\Delta C_P dT \\ \\ \\ (3)\n",
    "$$\n",
    "\n",
    "where $\\Delta C_P$ is the difference in heat capacities of the two states we're considering. To carry out this integration, we'd need to know how $\\Delta C_P$ depends on temperature. Under some circumstances, however, we might be able to get away with pretending the heat capacities are constant, in which case we'd make the approximation\n",
    "\n",
    "$$\n",
    "\\Delta(\\Delta H_{rxn}) \\approx \\Delta C_P^o \\Delta T \\ \\ \\ (4)\n",
    "$$\n",
    "\n",
    "## Isothermal changes in pressure\n",
    "For isothermal changes in pressure, by contrast, we would say \n",
    "\n",
    "$$\n",
    "\\Delta(\\Delta H_{rxn}) = \\int_{P^o}^{P'} \\Delta \\mu_T dP \\ \\ \\ (5)\n",
    "$$\n",
    "\n",
    "To evaluate the above, we'd need expressions for the isothermal Joule-Thomson coefficient. According to vdw, gases behave according to\n",
    "\n",
    "$$\n",
    "\\mu_T(gas) \\approx b-{2a \\over RT} \\ \\ \\ (6) \n",
    "$$\n",
    "\n",
    "while for liquids, we can say \n",
    "\n",
    "$$\n",
    "\\mu_T \\approx b/3 \\ \\ \\ (7)\n",
    "$$  \n",
    "\n",
    "## Learning goals\n",
    "1. Qualitatively, I can predict whether the enthalpy of a given phase change (vaporization, fusion, or sublimation) is likely to increase or decrease with changing temperature or pressure.\n",
    "1. I can make those predictions quantiative too."
   ]
  },
  {
   "cell_type": "code",
   "execution_count": 1,
   "metadata": {},
   "outputs": [],
   "source": [
    "import numpy as np\n",
    "import sympy as sp\n",
    "import pint; from pint import UnitRegistry; AssignQuantity = UnitRegistry().Quantity\n",
    "import matplotlib.pyplot as plt\n",
    "import sys; sys.path.append('/home'); import PchemLibrary as PL"
   ]
  },
  {
   "cell_type": "code",
   "execution_count": 2,
   "metadata": {
    "nbgrader": {
     "grade": false,
     "grade_id": "cell-cfe0fc9fa011b7f6",
     "locked": true,
     "schema_version": 3,
     "solution": false,
     "task": false
    }
   },
   "outputs": [],
   "source": [
    "%matplotlib notebook"
   ]
  },
  {
   "cell_type": "markdown",
   "metadata": {
    "nbgrader": {
     "grade": false,
     "grade_id": "cell-f61a0b0ede3114f4",
     "locked": true,
     "schema_version": 3,
     "solution": false,
     "task": false
    }
   },
   "source": [
    "### 1. Enthalpy of fusion of sea water in equilibrium with ice\n",
    "For water at a temperature of $273 K$, $\\Delta H_{fus} = H_{liq}-H_{ice}= 6.0 {kJ \\over mol}$. But ice in equilibrium with sea water is expected to have a temperature of -2 C, or 271 K. Your goal in the cell below is to calculate $\\Delta H_{fus}$ of water at 271 K, assuming constant heat capacities for both phases. Give your result in ${kJ \\over mol}$.\n",
    "\n",
    "*Hint*: Assuming constant heat capacities means Eq. 4 is appropriate. \n",
    "\n",
    "*Managing expectations*: Because liquid water has a greater heat capacity than ice water, we'd expect the enthalpy difference between these two phases to get smaller as temperature goes down. This observation will help you verify that your numerical result is correct."
   ]
  },
  {
   "cell_type": "code",
   "execution_count": 3,
   "metadata": {
    "nbgrader": {
     "grade": true,
     "grade_id": "cell-22ba12c1615420b2",
     "locked": false,
     "points": 4,
     "schema_version": 3,
     "solution": true,
     "task": false
    }
   },
   "outputs": [
    {
     "name": "stdout",
     "output_type": "stream",
     "text": [
      "37.400000000000006 joule / kelvin / mole\n",
      "-74.80000000000001 joule / mole\n",
      "Delta H(fus) at 271 K = 5.9252 kilojoule / mole\n"
     ]
    }
   ],
   "source": [
    "# Assuming constant heat capacities\n",
    "CP_liq = AssignQuantity(75.4,'J/mol/K')\n",
    "CP_ice = AssignQuantity(38,'J/mol/K')\n",
    "\n",
    "### BEGIN SOLUTION\n",
    "DeltaCP = CP_liq-CP_ice; print(DeltaCP)\n",
    "DeltaT = AssignQuantity(271 - 273,'K')\n",
    "DeltaDelta = DeltaCP*DeltaT; \n",
    "print(DeltaDelta)\n",
    "\n",
    "DeltaHfus0 = AssignQuantity(6,'kJ/mol')\n",
    "\n",
    "DeltaHfus271 = DeltaHfus0 + DeltaDelta\n",
    "print('Delta H(fus) at 271 K =', DeltaHfus271)\n",
    "\n",
    "### END SOLUTION"
   ]
  },
  {
   "cell_type": "markdown",
   "metadata": {
    "nbgrader": {
     "grade": false,
     "grade_id": "cell-f2bfb89cacbeb0bd",
     "locked": true,
     "schema_version": 3,
     "solution": false,
     "task": false
    }
   },
   "source": [
    "### Pause for analysis\n",
    "Well ... did our prediction work out?"
   ]
  },
  {
   "cell_type": "markdown",
   "metadata": {
    "nbgrader": {
     "grade": true,
     "grade_id": "cell-5c8a73f6c40c470c",
     "locked": false,
     "points": 1,
     "schema_version": 3,
     "solution": true,
     "task": false
    }
   },
   "source": [
    "### BEGIN SOLUTION\n",
    "\n",
    "\n",
    "### END SOLUTION"
   ]
  },
  {
   "cell_type": "markdown",
   "metadata": {
    "nbgrader": {
     "grade": false,
     "grade_id": "cell-dad0d05eea50f849",
     "locked": true,
     "schema_version": 3,
     "solution": false,
     "task": false
    }
   },
   "source": [
    "### 2. Enthalpy of sublimation of water at 218 K\n",
    "Although at one time Mars had liquid water at the surface, its surface temperature today ($\\approx 218 \\ K$) is far below the triple point temperature of water, and therefore can't support liquid water. But there *are* what appear to be ice caps in the polar regions of Mars, which grow and retreat with the Martian seasons. Your goal in the cell below is to calculate the enthalpy of sublimation of water at $218 \\ K$, given that at $273 \\ K$, $\\Delta H_{sub} = H_{vap}-H_{ice}= 51.1 {kJ \\over mol}$, assuming constant heat capacities for both phases. \n",
    "\n",
    "*Hints*: Assuming constant heat capacities means Eq. 4 is appropriate, but you'll need to look up the heat capacity of water vapor. A good source is https://en.wikipedia.org/wiki/Water_(data_page). \n",
    "\n",
    "*Managing expectations*: Given that (as you'll see) ice water has a slightly greater heat capacity than water vapor, make a prediction as to whether the enthalpy of sublimation should get smaller or bigger as temperature goes down."
   ]
  },
  {
   "cell_type": "code",
   "execution_count": 4,
   "metadata": {
    "nbgrader": {
     "grade": true,
     "grade_id": "cell-4395eacfe6ef7ec3",
     "locked": false,
     "points": 4,
     "schema_version": 3,
     "solution": true,
     "task": false
    }
   },
   "outputs": [
    {
     "name": "stdout",
     "output_type": "stream",
     "text": [
      "-4.399999999999999 joule / kelvin / mole\n",
      "241.99999999999991 joule / mole\n",
      "Delta H(sub) at 218 K = 51.342 kilojoule / mole\n"
     ]
    }
   ],
   "source": [
    "### BEGIN SOLUTION\n",
    "\n",
    "CP_gas = AssignQuantity(33.6,'J/mol/K')\n",
    "CP_ice = AssignQuantity(38,'J/mol/K')\n",
    "\n",
    "DeltaCP = CP_gas-CP_ice; print(DeltaCP)\n",
    "DeltaT = AssignQuantity(218 - 273,'K')\n",
    "DeltaDelta = DeltaCP*DeltaT; \n",
    "print(DeltaDelta)\n",
    "\n",
    "DeltaHsub0 = AssignQuantity(51.1,'kJ/mol')\n",
    "\n",
    "DeltaHsub218 = DeltaHsub0 + DeltaDelta\n",
    "print('Delta H(sub) at 218 K =', DeltaHsub218)\n",
    "\n",
    "### END SOLUTION"
   ]
  },
  {
   "cell_type": "markdown",
   "metadata": {
    "nbgrader": {
     "grade": false,
     "grade_id": "cell-210d3d4e2eaa0c44",
     "locked": true,
     "schema_version": 3,
     "solution": false,
     "task": false
    }
   },
   "source": [
    "### Pause for analysis\n",
    "Well ... did your prediction work out?"
   ]
  },
  {
   "cell_type": "markdown",
   "metadata": {
    "nbgrader": {
     "grade": true,
     "grade_id": "cell-64405913f241698f",
     "locked": false,
     "points": 1,
     "schema_version": 3,
     "solution": true,
     "task": false
    }
   },
   "source": [
    "### BEGIN SOLUTION\n",
    "\n",
    "\n",
    "### END SOLUTION"
   ]
  },
  {
   "cell_type": "markdown",
   "metadata": {
    "nbgrader": {
     "grade": false,
     "grade_id": "cell-505c8d183eb2593a",
     "locked": true,
     "schema_version": 3,
     "solution": false,
     "task": false
    }
   },
   "source": [
    "### 3. Pressure dependence of the enthalpy of vaporization (analytical)\n",
    "Your goal in the cell below is to use sympy to come up with an *analytical* expression for $\\Delta(\\Delta H_{vap})$ when the pressure is raised from a starting pressure (call it $P_1$) to a new pressure ($P_2$). You should use Eqs. 5-7 for this purpose. \n",
    "\n",
    "*Hint*: Because there's no pressure dependence in either of Eqs. 6 and 7, you could easily evaluate Eq. 5 (to get $\\Delta(\\Delta H_{vap})$) by hand. The idea of using sympy for this purpose is to get a little more comfortable with sympy's syntax for definite integrals, which we haven't used yet. That syntax follows the pattern\n",
    "\n",
    "    integrate(f, (x, x1, x2)) \n",
    "\n",
    "(but of course you'll be doing this with pressure as the integrating variable)."
   ]
  },
  {
   "cell_type": "code",
   "execution_count": 5,
   "metadata": {
    "nbgrader": {
     "grade": true,
     "grade_id": "cell-a1ab76f07b8a75cc",
     "locked": false,
     "points": 4,
     "schema_version": 3,
     "solution": true,
     "task": false
    }
   },
   "outputs": [
    {
     "name": "stdout",
     "output_type": "stream",
     "text": [
      "gas mu_T: b - 2*a/(R*T)\n",
      "liq mu_T: b/3\n",
      "Delta(mu_T): 2*b/3 - 2*a/(R*T)\n",
      "-P1*(2*b/3 - 2*a/(R*T)) + P2*(2*b/3 - 2*a/(R*T))\n"
     ]
    }
   ],
   "source": [
    "# Defining symbolic variables\n",
    "sp.var(\"a\")\n",
    "sp.var(\"b\")\n",
    "sp.var(\"n\")\n",
    "sp.var(\"R\")\n",
    "sp.var(\"T\")\n",
    "sp.var(\"P\")\n",
    "sp.var(\"P1\")\n",
    "sp.var(\"P2\")\n",
    "\n",
    "# Getting analytical expressions for mu_T_gas and mu_T_liq (Eqs. 6 and 7)\n",
    "### BEGIN SOLUTION ###\n",
    "mu_T_gas = b - 2*a/(R*T); print('gas mu_T:', mu_T_gas)\n",
    "mu_T_liq = b/3; print('liq mu_T:', mu_T_liq)\n",
    "### END SOLUTION\n",
    "\n",
    "# Integrating (Eq. 5) from P1 to P2; don't forget to print your result\n",
    "### BEGIN SOLUTION ###\n",
    "# DeltaDelta = sp.integrate(Deltamu_T,P); print('Delta(Delta):'); sp.pprint(DeltaDelta)\n",
    "# DeltaDelta = DeltaDelta.subs({P:P2})-DeltaDelta.subs({P:P1}); print('Delta(Delta):'); sp.pprint(DeltaDelta)\n",
    "Deltamu_T = mu_T_gas - mu_T_liq; print('Delta(mu_T):', Deltamu_T)\n",
    "DeltaDelta = sp.integrate(Deltamu_T,(P,P1,P2))\n",
    "print(DeltaDelta)\n",
    "# DeltaDelta = DeltaDelta.subs({P:P2})-DeltaDelta.subs({P:P1}); print('Delta(Delta):'); sp.pprint(DeltaDelta)\n",
    "\n",
    "### END SOLUTION"
   ]
  },
  {
   "cell_type": "markdown",
   "metadata": {
    "nbgrader": {
     "grade": false,
     "grade_id": "cell-4b55cced4a52c87c",
     "locked": true,
     "schema_version": 3,
     "solution": false,
     "task": false
    }
   },
   "source": [
    "### 3. Pressure dependence of the enthalpy of vaporization (numerical)\n",
    "Using the analytical result you just got, calculate $\\Delta(\\Delta H_{vap})$ when one mole of water is taken from 1 atm to 10 atm, at 273 K, in $kJ \\over mol$. \n",
    "\n",
    "*Managing expectations*: As you know, as long as the temperature is below the inversion temperature, $\\mu_T$ for gases is *negative*. Meanwhile, $\\mu_T$ for liquids is *positive*. Based on those facts, would you expect that $\\Delta(\\Delta H_{vap})$ should be positive with increasing pressure, or negative?"
   ]
  },
  {
   "cell_type": "code",
   "execution_count": 6,
   "metadata": {
    "nbgrader": {
     "grade": true,
     "grade_id": "cell-6fe2fb9304db1ef9",
     "locked": false,
     "points": 4,
     "schema_version": 3,
     "solution": true,
     "task": false
    },
    "scrolled": false
   },
   "outputs": [
    {
     "name": "stdout",
     "output_type": "stream",
     "text": [
      "5.536 bar * liter ** 2 / mole ** 2\n",
      "0.03049 liter / mole\n",
      "R = 8.314 joule / kelvin / mole\n",
      "273 kelvin\n",
      "n = 1 mole\n",
      "Tinv =  4367.758651037939 kelvin\n",
      "DeltaDeltaH =  -0.42631251551200955 kilojoule / mole\n"
     ]
    }
   ],
   "source": [
    "# Moles, and the gas constant\n",
    "a = AssignQuantity(5.536,'L^2 bar / mol^2'); print(a)\n",
    "b = AssignQuantity(0.03049,'L/mol'); print(b)\n",
    "R = AssignQuantity(8.314,'J/mol/K'); print('R =', R)\n",
    "T = AssignQuantity(273,'K'); print(T)\n",
    "n = AssignQuantity(1,'mol'); print('n =', n)\n",
    "P1 = AssignQuantity(1,'atm')\n",
    "P2 = AssignQuantity(10,'atm')\n",
    "\n",
    "# Just checking whether we're below the inversion temperature\n",
    "Tinv = 2*a/(b*R)\n",
    "Tinv.ito('K')\n",
    "print('Tinv = ', Tinv)\n",
    "\n",
    "# Now, the work of computing the change in the enthalpy of vaporization\n",
    "### BEGIN SOLUTION\n",
    "\n",
    "DeltaDeltaH = -P1*(2*b/3 - 2*a/(R*T)) + P2*(2*b/3 - 2*a/(R*T))\n",
    "DeltaDeltaH.ito('kJ/mol')\n",
    "print('DeltaDeltaH = ', DeltaDeltaH)\n",
    "\n",
    "# mu_T_gas = b*n - 2*a*n/(R*T); print('gas mu_T:', mu_T_gas)\n",
    "# mu_T_liq = n*b/3; print('liq mu_T:', mu_T_liq)\n",
    "\n",
    "# DeltaDelta = P2*( (b - 2*a/(R*T)) - (b/3) ) -P1*( (b - 2*a/(R*T)) - (b/3) ); \n",
    "# DeltaDelta.ito('kJ/mol')\n",
    "# print('DeltaDelta H = ', DeltaDelta)\n",
    "\n",
    "# # The rest is not part of the solution\n",
    "\n",
    "# # Building and displaying the surfaces\n",
    "# T1 = T\n",
    "# T2 = AssignQuantity(500,'K')\n",
    "# Tgrid,Pgrid = PL.Statespace([T1, T2, 100],[P1, P2, 101])\n",
    "# Tgrid = AssignQuantity(Tgrid,'K')\n",
    "# Pgrid = AssignQuantity(Pgrid,'bar')\n",
    "\n",
    "# # Making the slopes in the pressure direction\n",
    "# mu_T_liq = b/3; #print('liq mu_T:', mu_T_liq)\n",
    "# mu_T_gas = b - 2*a/(R*Tgrid); #print('gas mu_T:', mu_T_gas)\n",
    "# mu_T_ice = mu_T_liq*1.1; #print('ice  mu_T:', mu_T_ice)\n",
    "\n",
    "# # The liquid\n",
    "# H0_liq = AssignQuantity(-286,'kJ/mol'); #print(H0_liq)\n",
    "# Hgrid_liq = PL.Integrator_pint([Tgrid,Pgrid],CP_liq,mu_T_liq,AssignQuantity,SState=[T0,P0,H0_liq])\n",
    "# Hgrid_liq.ito('kJ/mol')\n",
    "\n",
    "# # The gas\n",
    "# H0_gas = H0_liq + AssignQuantity(44,'kJ/mol')\n",
    "# H0_gas.ito('kJ/mol'); #print(H0_gas)\n",
    "# Hgrid_gas = PL.Integrator_pint([Tgrid,Pgrid],CP_gas,mu_T_gas,AssignQuantity,SState=[T0,P0,H0_gas])\n",
    "# Hgrid_gas.ito('kJ/mol')\n",
    "\n",
    "# # The solid\n",
    "# H0_ice = H0_liq - AssignQuantity(6,'kJ/mol')\n",
    "# H0_ice.ito('kJ/mol'); #print(H0_ice)\n",
    "# Hgrid_ice = PL.Integrator_pint([Tgrid,Pgrid],CP_ice,mu_T_ice,AssignQuantity,SState=[T0,P0,H0_ice])\n",
    "# Hgrid_ice.ito('kJ/mol')\n",
    "\n",
    "# # Graphing as thermodynamic surfaces\n",
    "# ax = PL.plot_surface(Tgrid, Pgrid, Hgrid_gas, color='plum')\n",
    "# ax = PL.plot_surface(Tgrid, Pgrid, Hgrid_liq, color='blue', overlay=True, ax=ax)\n",
    "# ax = PL.plot_surface(Tgrid, Pgrid, Hgrid_ice, color='black', overlay=True, ax=ax)\n",
    "# ax.set_xlabel('T ('+str(Tgrid.units)+')')\n",
    "# ax.set_ylabel('P ('+str(Pgrid.units)+')')\n",
    "# ax.set_zlabel('H ('+str(Hgrid_gas.units)+')')\n",
    "\n",
    "# # Graphing as thermodynamic surfaces\n",
    "# Hgrid_vap = Hgrid_gas-Hgrid_liq\n",
    "# ax = PL.plot_surface(Tgrid, Pgrid, Hgrid_vap, color='blue')\n",
    "# ax.set_xlabel('T ('+str(Tgrid.units)+')')\n",
    "# ax.set_ylabel('P ('+str(Pgrid.units)+')')\n",
    "# ax.set_zlabel('DeltaH_vap ('+str(Hgrid_gas.units)+')')\n",
    "# print('\\n')\n",
    "\n",
    "# # Checking\n",
    "# plt.figure()\n",
    "# plt.plot(Pgrid[0,:],Hgrid_vap[0,:])\n",
    "# plt.grid(True)\n",
    "\n",
    "# print('Checking at ', Tgrid[0,0],Pgrid[0,0])\n",
    "# print(Hgrid_gas[0,0],Hgrid_liq[0,0])\n",
    "# term1 = Hgrid_gas[0,0]-Hgrid_liq[0,0]; print('DeltaH0: ', term1)\n",
    "\n",
    "# print('Checking at ', Tgrid[0,-1],Pgrid[0,-1])\n",
    "# print(Hgrid_gas[0,-1],Hgrid_liq[0,-1])\n",
    "# term2 = Hgrid_gas[0,-1]-Hgrid_liq[0,-1]; print('DeltaH0:', term2)\n",
    "\n",
    "# print('Trend')\n",
    "# term3 = term2 - term1; print('DeltaDeltaH = ', term2-term1)\n",
    "### END SOLUTION"
   ]
  },
  {
   "cell_type": "markdown",
   "metadata": {
    "nbgrader": {
     "grade": false,
     "grade_id": "cell-4ace921c271bd149",
     "locked": true,
     "schema_version": 3,
     "solution": false,
     "task": false
    }
   },
   "source": [
    "### Pause for analysis\n",
    "Well ... how'd your prediction work out?"
   ]
  },
  {
   "cell_type": "markdown",
   "metadata": {
    "nbgrader": {
     "grade": true,
     "grade_id": "cell-4d819c25f99cab72",
     "locked": false,
     "points": 1,
     "schema_version": 3,
     "solution": true,
     "task": false
    }
   },
   "source": [
    "### BEGIN SOLUTION\n",
    "\n",
    "\n",
    "### END SOLUTION"
   ]
  },
  {
   "cell_type": "markdown",
   "metadata": {},
   "source": [
    "### Refresh/save/validate/close/submit/logout"
   ]
  }
 ],
 "metadata": {
  "celltoolbar": "Create Assignment",
  "kernelspec": {
   "display_name": "Python 3 (ipykernel)",
   "language": "python",
   "name": "python3"
  },
  "language_info": {
   "codemirror_mode": {
    "name": "ipython",
    "version": 3
   },
   "file_extension": ".py",
   "mimetype": "text/x-python",
   "name": "python",
   "nbconvert_exporter": "python",
   "pygments_lexer": "ipython3",
   "version": "3.10.2"
  }
 },
 "nbformat": 4,
 "nbformat_minor": 2
}

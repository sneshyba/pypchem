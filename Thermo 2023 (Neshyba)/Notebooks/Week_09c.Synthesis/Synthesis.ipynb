{
 "cells": [
  {
   "cell_type": "markdown",
   "metadata": {
    "nbgrader": {
     "grade": false,
     "grade_id": "cell-2908a7b4c9dc0c6f",
     "locked": true,
     "schema_version": 3,
     "solution": false,
     "task": false
    }
   },
   "source": [
    "### Computational Guided Inquiry for PChem (Neshyba, 2023)\n",
    "\n",
    "# Homework problems\n",
    "\n",
    "## Key equations\n",
    "\n",
    "Molality, $b$, is understood to be the amount (moles) of a solute divided by the mass (kg) of a solvent, \n",
    "\n",
    "$$\n",
    "b_B = {n_B \\over m_A} \\ \\ \\ (1)\n",
    "$$\n",
    "\n",
    "The mole fraction of the solvent is given by \n",
    "\n",
    "$$\n",
    "\\chi_A = {n_A \\over {n_A+n_B}} \\ \\ \\ (2)\n",
    "$$\n",
    "\n",
    "You can convert from molality to mole fraction using\n",
    "\n",
    "$$\n",
    "\\chi_A = \\frac 1 {1+M_A b_B} \\ \\ \\ (3)\n",
    "$$"
   ]
  },
  {
   "cell_type": "code",
   "execution_count": 1,
   "metadata": {
    "nbgrader": {
     "grade": false,
     "grade_id": "cell-3eac292adff92785",
     "locked": true,
     "schema_version": 3,
     "solution": false,
     "task": false
    }
   },
   "outputs": [],
   "source": [
    "import pint; from pint import UnitRegistry; AssignQuantity = UnitRegistry().Quantity\n",
    "import numpy as np"
   ]
  },
  {
   "cell_type": "markdown",
   "metadata": {
    "nbgrader": {
     "grade": false,
     "grade_id": "cell-93b8ac62a8cc6037",
     "locked": true,
     "schema_version": 3,
     "solution": false,
     "task": false
    }
   },
   "source": [
    "### 1. $\\alpha_P$ for an ideal gas\n",
    "Offline: Derive an algebraic expression for $\\alpha_P$, assuming an ideal gas.  \n",
    "Python: Use that result below to get a numerical value for $\\alpha_P$ under typical Earthly conditions."
   ]
  },
  {
   "cell_type": "code",
   "execution_count": 2,
   "metadata": {
    "nbgrader": {
     "grade": true,
     "grade_id": "cell-e1603e0985977788",
     "locked": false,
     "points": 3,
     "schema_version": 3,
     "solution": true,
     "task": false
    }
   },
   "outputs": [
    {
     "name": "stdout",
     "output_type": "stream",
     "text": [
      "0.003355704697986577 / kelvin\n"
     ]
    }
   ],
   "source": [
    "### BEGIN SOLUTION ###\n",
    "alpha_P = AssignQuantity(1/298,'K^-1'); print(alpha_P)\n",
    "### END SOLUTION ###"
   ]
  },
  {
   "cell_type": "markdown",
   "metadata": {
    "nbgrader": {
     "grade": false,
     "grade_id": "cell-b1eb966fc4dfb30b",
     "locked": true,
     "schema_version": 3,
     "solution": false,
     "task": false
    }
   },
   "source": [
    "### 2. $\\kappa_T$ for an ideal gas\n",
    "Offline: Derive an algebraic expression for $\\kappa_T$, assuming an ideal gas.  \n",
    "Python: Use that result below to get a numerical value for $\\kappa_T$ under typical Earthly conditions."
   ]
  },
  {
   "cell_type": "code",
   "execution_count": 3,
   "metadata": {
    "nbgrader": {
     "grade": true,
     "grade_id": "cell-1e541c9076bb7d54",
     "locked": false,
     "points": 3,
     "schema_version": 3,
     "solution": true,
     "task": false
    }
   },
   "outputs": [
    {
     "name": "stdout",
     "output_type": "stream",
     "text": [
      "1 / bar\n"
     ]
    }
   ],
   "source": [
    "### BEGIN SOLUTION ###\n",
    "kappa_T = AssignQuantity(1,'bar^-1'); print(kappa_T)\n",
    "### END SOLUTION ###"
   ]
  },
  {
   "cell_type": "markdown",
   "metadata": {
    "nbgrader": {
     "grade": false,
     "grade_id": "cell-2a0b295c0ab7a945",
     "locked": true,
     "schema_version": 3,
     "solution": false,
     "task": false
    }
   },
   "source": [
    "### 3. Molality and mole fraction\n",
    "Offline: Derive Eq. (3) from the preceding equations.  \n",
    "Python: Calculate the mole fraction of the solvent when 2 moles of solute are dissolved in 1 kg of water (i.e., water is the solvent)."
   ]
  },
  {
   "cell_type": "code",
   "execution_count": 4,
   "metadata": {
    "nbgrader": {
     "grade": true,
     "grade_id": "cell-eda0d24d2e8014b2",
     "locked": false,
     "points": 3,
     "schema_version": 3,
     "solution": true,
     "task": false
    }
   },
   "outputs": [
    {
     "name": "stdout",
     "output_type": "stream",
     "text": [
      "0.9652509652509652 dimensionless\n"
     ]
    }
   ],
   "source": [
    "### BEGIN SOLUTION ###\n",
    "M = AssignQuantity(.018,'kg/mol')\n",
    "b = AssignQuantity(2,'mol/kg')\n",
    "chi = 1/(1+M*b); print(chi)\n",
    "### END SOLUTION ###"
   ]
  },
  {
   "cell_type": "markdown",
   "metadata": {
    "nbgrader": {
     "grade": false,
     "grade_id": "cell-7f93ce491715cd0f",
     "locked": true,
     "schema_version": 3,
     "solution": false,
     "task": false
    }
   },
   "source": [
    "### 4. Deriving Blagdon’s Law by dimensional analysis\n",
    "Offline: Assuming $K_A$ is some function of $M_{H_2O}$, the gas constant $R$, the enthalpy of fusion of the solvent $\\Delta H_{fus}$, and the triple-point temperature $T_3$, use dimensional analysis to find an algebraic expression for $K_A$. \n",
    "\n",
    "Python: Use your result to calculate a value for $K_A$ of water, using *pint* for the values on the right-hand-side of your equation. Report your result in ${K \\ kg} \\over mol$."
   ]
  },
  {
   "cell_type": "code",
   "execution_count": 5,
   "metadata": {
    "nbgrader": {
     "grade": true,
     "grade_id": "cell-d23e4441e8eeb790",
     "locked": false,
     "points": 3,
     "schema_version": 3,
     "solution": true,
     "task": false
    }
   },
   "outputs": [
    {
     "name": "stdout",
     "output_type": "stream",
     "text": [
      "1.8589023179999997 kelvin * kilogram / mole\n"
     ]
    }
   ],
   "source": [
    "### BEGIN SOLUTION ###\n",
    "MA = AssignQuantity(.018,'kg/mol')\n",
    "R = AssignQuantity(8.314,'J/mol/K')\n",
    "T3 = AssignQuantity(273,'K')\n",
    "DHfus = AssignQuantity(6000,'J/mol')\n",
    "K = M*R*T3**2/DHfus; print(K)\n",
    "### END SOLUTION ###"
   ]
  },
  {
   "cell_type": "markdown",
   "metadata": {
    "nbgrader": {
     "grade": false,
     "grade_id": "cell-dcbf4ca031c28e97",
     "locked": true,
     "schema_version": 3,
     "solution": false,
     "task": false
    }
   },
   "source": [
    "### Refresh/save/validate/close/submit/logout"
   ]
  }
 ],
 "metadata": {
  "celltoolbar": "Create Assignment",
  "kernelspec": {
   "display_name": "Python 3 (ipykernel)",
   "language": "python",
   "name": "python3"
  },
  "language_info": {
   "codemirror_mode": {
    "name": "ipython",
    "version": 3
   },
   "file_extension": ".py",
   "mimetype": "text/x-python",
   "name": "python",
   "nbconvert_exporter": "python",
   "pygments_lexer": "ipython3",
   "version": "3.10.2"
  }
 },
 "nbformat": 4,
 "nbformat_minor": 2
}

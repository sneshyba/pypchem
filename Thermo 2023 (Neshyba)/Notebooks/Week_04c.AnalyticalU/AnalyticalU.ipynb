{
 "cells": [
  {
   "cell_type": "markdown",
   "metadata": {
    "nbgrader": {
     "grade": false,
     "grade_id": "cell-cfee71f6d079d191",
     "locked": true,
     "schema_version": 3,
     "solution": false,
     "task": false
    }
   },
   "source": [
    "### Computational Guided Inquiry for PChem (Neshyba, 2023)\n",
    "\n",
    "# Analytical $U(T,V)$\n",
    "\n",
    "## Introduction\n",
    "\n",
    "We've been introduced already to what the thermodynamic surfaces of $U(T,V)$ look like. An analytical form for such surfaces can be written\n",
    " \n",
    "$$\n",
    "U(V,T) = [{3 \\over 2} RT + f_{rot}(T) + f_{vib}(T) + f_{intermol}(V,T)] \\times n \\ \\ \\ \\ (1)\n",
    "$$\n",
    "\n",
    "The form for $f_{intermol}(V,T)$ depends on the type of gas one is dealing with:\n",
    "\n",
    "- If an ideal gas, $f_{intermol}=0$\n",
    "- If a van der Waals gas, $f_{intermol}=-{{an} \\over V}$\n",
    "\n",
    "The *slopes* of $U(T,V)$ are given by\n",
    "\n",
    "$$\n",
    "C_V =  \\big(\\dfrac{\\partial U}{\\partial T}\\big)_V \\ \\ \\ \\ (2)\n",
    "$$\n",
    "\n",
    "$$ \n",
    "\\pi_T =  \\big(\\dfrac{\\partial U}{\\partial V}\\big)_T \\ \\ \\ \\ (3)\n",
    "$$\n",
    "\n",
    "For this exercise, you'll have to do some analytical work beforehand (like on a blackboard) related to these equations."
   ]
  },
  {
   "cell_type": "code",
   "execution_count": 1,
   "metadata": {
    "nbgrader": {
     "grade": false,
     "grade_id": "cell-61ab37bc366e7e0e",
     "locked": true,
     "schema_version": 3,
     "solution": false,
     "task": false
    }
   },
   "outputs": [],
   "source": [
    "import numpy as np\n",
    "import pint; from pint import UnitRegistry; AssignQuantity = UnitRegistry().Quantity"
   ]
  },
  {
   "cell_type": "markdown",
   "metadata": {
    "nbgrader": {
     "grade": false,
     "grade_id": "cell-48371b924b62644a",
     "locked": true,
     "schema_version": 3,
     "solution": false,
     "task": false
    }
   },
   "source": [
    "### Some constants\n",
    "The vdw parameters used below are for $N_2$ gas (see \n",
    "https://en.wikipedia.org/wiki/Van_der_Waals_constants_(data_page))"
   ]
  },
  {
   "cell_type": "code",
   "execution_count": 2,
   "metadata": {
    "nbgrader": {
     "grade": false,
     "grade_id": "cell-268c53737472110f",
     "locked": true,
     "schema_version": 3,
     "solution": false,
     "task": false
    }
   },
   "outputs": [],
   "source": [
    "# The gas constant\n",
    "R = AssignQuantity(8.314,'J/mol/K')\n",
    "\n",
    "# van der Waals constants for N2\n",
    "a = AssignQuantity(1.37,'L^2 bar / mol^2')\n",
    "b = AssignQuantity(0.0387,'L/mol')\n",
    "\n",
    "# Working with one mole throughout\n",
    "n = AssignQuantity(1,'mol')"
   ]
  },
  {
   "cell_type": "markdown",
   "metadata": {
    "nbgrader": {
     "grade": false,
     "grade_id": "cell-eb4921605ef3dce3",
     "locked": true,
     "schema_version": 3,
     "solution": false,
     "task": false
    }
   },
   "source": [
    "### Problem 1. Finding a value for $\\Delta U$ for isochoric heating\n",
    "Using Eq. (1), calculate $\\Delta U$ for our sample of $N_2$ gas, treated as a vdw gas in the classical limit, that results when it is heated from $T=300$ to $400 \\ K$ at a fixed volume of $2 L$. Write your answer in $kJ$."
   ]
  },
  {
   "cell_type": "code",
   "execution_count": 3,
   "metadata": {
    "nbgrader": {
     "grade": true,
     "grade_id": "cell-18bdc18c4dae6aaf",
     "locked": false,
     "points": 4,
     "schema_version": 3,
     "solution": true,
     "task": false
    }
   },
   "outputs": [
    {
     "name": "stdout",
     "output_type": "stream",
     "text": [
      "300 kelvin\n",
      "400 kelvin\n",
      "8661.2 joule\n",
      "11571.1 joule\n",
      "2909.8999999999996 joule\n",
      "2.9098999999999995 kilojoule\n"
     ]
    }
   ],
   "source": [
    "# Assign values to V and the starting and ending temperatures (say, T1 and T2)\n",
    "### BEGIN SOLUTION\n",
    "V = AssignQuantity(2,'L')\n",
    "T1 = AssignQuantity(300,'K'); print(T1)\n",
    "T2 = AssignQuantity(400,'K'); print(T2)\n",
    "### END SOLUTION\n",
    "\n",
    "# Calculate U1 and U2 using Eq. (1), and report the difference (U2-U1) between them\n",
    "### BEGIN SOLUTION\n",
    "U1 = (3/2*R*T1 + 2/2*R*T1 + 1*R*T1 -a*n/V)*n; print(U1)\n",
    "U2 = (3/2*R*T2 + 2/2*R*T2 + 1*R*T2 -a*n/V)*n; print(U2)\n",
    "delta_U = U2-U1; print(delta_U)\n",
    "delta_U.ito('kilojoule'); print(delta_U)\n",
    "### END SOLUTION"
   ]
  },
  {
   "cell_type": "markdown",
   "metadata": {
    "nbgrader": {
     "grade": false,
     "grade_id": "cell-5b81b380be8b8bd3",
     "locked": true,
     "schema_version": 3,
     "solution": false,
     "task": false
    }
   },
   "source": [
    "### Problem 2. Finding a value for $\\Delta U$ for isothermal expansion\n",
    "Using Eq. (1), calculate $\\Delta U$ for our sample of $N_2$ gas, treated as a vdw gas in the classical limit, that results when it is expanded it from $V=2 \\ L$ to $20 \\ L$ at a fixed temperature of $300 \\ K$. Write your answer in $kJ$."
   ]
  },
  {
   "cell_type": "code",
   "execution_count": 4,
   "metadata": {
    "nbgrader": {
     "grade": true,
     "grade_id": "cell-ca8fcc90751e9039",
     "locked": false,
     "points": 4,
     "schema_version": 3,
     "solution": true,
     "task": false
    }
   },
   "outputs": [
    {
     "name": "stdout",
     "output_type": "stream",
     "text": [
      "300 kelvin\n",
      "8661.2 joule\n",
      "8722.85 joule\n",
      "61.649999999999636 joule\n",
      "0.061649999999999636 kilojoule\n"
     ]
    }
   ],
   "source": [
    "# Assign values to the temperature and and the starting and ending volumes (say, V1 and V2)\n",
    "### BEGIN SOLUTION\n",
    "V1 = AssignQuantity(2,'L')\n",
    "V2 = AssignQuantity(20,'L')\n",
    "T = AssignQuantity(300,'K'); print(T)\n",
    "### END SOLUTION\n",
    "\n",
    "# Calculate U1 and U2 using Eq. (1), and report the difference (U2-U1) between them\n",
    "### BEGIN SOLUTION\n",
    "U1 = (3/2*R*T + 2/2*R*T + 1*R*T -a*n/V1)*n; print(U1)\n",
    "U2 = (3/2*R*T + 2/2*R*T + 1*R*T -a*n/V2)*n; print(U2)\n",
    "delta_U = U2-U1; print(delta_U)\n",
    "delta_U.ito('kilojoule'); print(delta_U)\n",
    "### END SOLUTION"
   ]
  },
  {
   "cell_type": "markdown",
   "metadata": {
    "nbgrader": {
     "grade": false,
     "grade_id": "cell-c5c3c871cff0dc75",
     "locked": true,
     "schema_version": 3,
     "solution": false,
     "task": false
    }
   },
   "source": [
    "### Problem 3. Finding a value for $C_V$\n",
    "As preparation for this, you'll need to derive an analytical expression for $C_V$ for this gas. Then use that formula in the cell below to calculate $C_V$. It may/may not be important, but let's assume a temperature of $T=300 \\ K$ and a volume of $2$ Liters. Report your result in $J \\over {mol \\ K}$."
   ]
  },
  {
   "cell_type": "code",
   "execution_count": 5,
   "metadata": {
    "nbgrader": {
     "grade": true,
     "grade_id": "cell-00bdd3f7ad0eab09",
     "locked": false,
     "points": 2,
     "schema_version": 3,
     "solution": true,
     "task": false
    }
   },
   "outputs": [
    {
     "name": "stdout",
     "output_type": "stream",
     "text": [
      "29.099 joule / kelvin / mole\n"
     ]
    }
   ],
   "source": [
    "### BEGIN SOLUTION\n",
    "C_V = 7/2*R; print(C_V)\n",
    "### END SOLUTION"
   ]
  },
  {
   "cell_type": "markdown",
   "metadata": {
    "nbgrader": {
     "grade": false,
     "grade_id": "cell-6fb5cffcab80616b",
     "locked": true,
     "schema_version": 3,
     "solution": false,
     "task": false
    }
   },
   "source": [
    "### Problem 4. Finding a value for $\\pi_T$\n",
    "As preparation, derive an analytical expression for $\\pi_T$ for this gas. Then use that formula in the cell below to calculate $\\pi_T$. Once again, let's assume a temperature of $T=300 \\ K$ and a volume of $2$ Liters. Report your result in $bar$."
   ]
  },
  {
   "cell_type": "code",
   "execution_count": 6,
   "metadata": {
    "nbgrader": {
     "grade": true,
     "grade_id": "cell-673baca9b157e773",
     "locked": false,
     "points": 2,
     "schema_version": 3,
     "solution": true,
     "task": false
    }
   },
   "outputs": [
    {
     "name": "stdout",
     "output_type": "stream",
     "text": [
      "0.3425 bar\n"
     ]
    }
   ],
   "source": [
    "### BEGIN SOLUTION\n",
    "pi_T = a*n**2/V**2; print(pi_T)\n",
    "### END SOLUTION"
   ]
  },
  {
   "cell_type": "markdown",
   "metadata": {
    "nbgrader": {
     "grade": false,
     "grade_id": "cell-49fc41eb15956ddf",
     "locked": true,
     "schema_version": 3,
     "solution": false,
     "task": false
    }
   },
   "source": [
    "### Refresh/save/validate\n",
    "Repeat the usual steps for refreshing and saving your code, and press the \"Validate\" button.\n",
    "\n",
    "### Close/submit/logout\n",
    "1. Close this notebook using the \"File/Close and Halt\" dropdown menu\n",
    "1. Using the Assignments tab, submit this notebook\n",
    "1. Press the Logout tab of the Home Page"
   ]
  }
 ],
 "metadata": {
  "celltoolbar": "Create Assignment",
  "kernelspec": {
   "display_name": "Python 3 (ipykernel)",
   "language": "python",
   "name": "python3"
  },
  "language_info": {
   "codemirror_mode": {
    "name": "ipython",
    "version": 3
   },
   "file_extension": ".py",
   "mimetype": "text/x-python",
   "name": "python",
   "nbconvert_exporter": "python",
   "pygments_lexer": "ipython3",
   "version": "3.10.2"
  }
 },
 "nbformat": 4,
 "nbformat_minor": 2
}

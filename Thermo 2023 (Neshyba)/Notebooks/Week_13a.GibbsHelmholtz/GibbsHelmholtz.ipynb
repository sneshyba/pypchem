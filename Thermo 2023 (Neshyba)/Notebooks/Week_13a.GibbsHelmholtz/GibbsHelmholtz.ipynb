{
 "cells": [
  {
   "cell_type": "markdown",
   "id": "9077431b",
   "metadata": {
    "nbgrader": {
     "grade": false,
     "grade_id": "cell-d3733011892ac5a3",
     "locked": true,
     "schema_version": 3,
     "solution": false,
     "task": false
    }
   },
   "source": [
    "### Computational Guided Inquiry for PChem (Neshyba, 2023)\n",
    "\n",
    "# The Gibbs-Helmholtz Equation¶\n",
    "\n",
    "## Introduction\n",
    "In this exercise we'll be using an integrated form of the *Gibbs-Helmholtz* equation,\n",
    "\n",
    "$$\n",
    "{\\Delta G^o_{rxn}(T_2) \\over T_2} - {\\Delta G^o_{rxn}(T_1) \\over T_1} = {\\Delta H^o_{rxn}} \\big ({1 \\over T_2} - {1 \\over T_1}  \\big ) \\ \\ \\ \\ (1)\n",
    "$$\n",
    "\n",
    "where the notation $\\Delta G^o_{rxn}(T_2)$ means the (unmixed) Gibbs energy of reaction at temperature $T_2$, etc. This formula is of great practical value for predicting the Gibbs energy of a reaction at temperatures other than the reference temperature ($298 K$), because the only assumption built into it is that $\\Delta H^o_{rxn}$ doesn't change much with temperature, which is often a pretty reasonable assumption. \n",
    "\n",
    "## Application to a combustion reaction\n",
    "For this exercise, the goal is to predict the Gibbs energy of burning methane,\n",
    "\n",
    "$$\n",
    "CH_4(g) + 2 O_2(g) → \\_\\_ CO_2 (g) + \\_\\_ H_2O(l) \\ \\ \\ \\ (2)\n",
    "$$\n",
    "\n",
    "at $T=400 \\ K$. You'll have to do a little work before you start, namely, to balance the equation, and then from a table (like https://engineering.wayne.edu/mechanical/pdfs/thermodynamic-_tables-updated.pdf) find $\\Delta G^o_{rxn}$ and $\\Delta H^o_{rxn}$. Don't forget that water in the products is in liquid form. You'll also want to solve Eq. 1 for $\\Delta G^o_{rxn}(T_2)$.\n",
    "\n",
    "## Historical note\n",
    "Wikipedia gives a derivation of the Gibbs-Helmholtz equation, and some interesting historical background, at https://en.wikipedia.org/wiki/Gibbs-Helmholtz_equation. Here's part of their description:\n",
    "\n",
    "\"It was originally presented in an 1882 paper entitled \"Die Thermodynamik chemischer Vorgänge\" by Hermann von Helmholtz. It describes how the Gibbs free energy, which was presented originally by Josiah Willard Gibbs, varies with temperature. It was derived by Helmholtz first, and Gibbs derived it only 6 years later. The attribution to Gibbs goes back to Wilhelm Ostwald, who first translated Gibbs' monograph into German and promoted it in Europe.\"\n",
    "\n",
    "## Learning Goals\n",
    "I can use the Gibbs-Helmholtz equation to make quantitative predictions about the temperature dependence of $\\Delta G^o_{rxn}$."
   ]
  },
  {
   "cell_type": "code",
   "execution_count": 1,
   "id": "863f0064",
   "metadata": {
    "nbgrader": {
     "grade": false,
     "grade_id": "cell-543650c0fffd502b",
     "locked": true,
     "schema_version": 3,
     "solution": false,
     "task": false
    }
   },
   "outputs": [],
   "source": [
    "import pint; from pint import UnitRegistry; AssignQuantity = UnitRegistry().Quantity\n",
    "import numpy as np\n",
    "import matplotlib.pyplot as plt"
   ]
  },
  {
   "cell_type": "markdown",
   "id": "1130bdee",
   "metadata": {
    "nbgrader": {
     "grade": false,
     "grade_id": "cell-4f5c11da0a4bf6b7",
     "locked": true,
     "schema_version": 3,
     "solution": false,
     "task": false
    }
   },
   "source": [
    "### Using Gibbs-Helmholtz\n",
    "In the cell below, use Eq. 1 to compute a value of ${\\Delta G^o_{rxn}}$ at $400 \\ K$. Print your result in $kJ/mol$."
   ]
  },
  {
   "cell_type": "code",
   "execution_count": 2,
   "id": "fd05ad37",
   "metadata": {
    "nbgrader": {
     "grade": true,
     "grade_id": "cell-c409934f18003dcf",
     "locked": false,
     "points": 11,
     "schema_version": 3,
     "solution": true,
     "task": false
    }
   },
   "outputs": [
    {
     "name": "stdout",
     "output_type": "stream",
     "text": [
      "DeltaG(298)= -817.86 kilojoule / mole\n",
      "DeltaG(400)= -793.0445637583894 kilojoule / mole\n"
     ]
    }
   ],
   "source": [
    "### Begin Solution\n",
    "\n",
    "DGf_CO2 = AssignQuantity(-394.4,'kJ/mol')\n",
    "DGf_H2O = AssignQuantity(-237.13,'kJ/mol')\n",
    "DGf_CH4 = AssignQuantity(-50.8,'kJ/mol')\n",
    "\n",
    "DHf_CO2 = AssignQuantity(-393.5,'kJ/mol')\n",
    "DHf_H2O = AssignQuantity(-285.83,'kJ/mol')\n",
    "DHf_CH4 = AssignQuantity(-74.8,'kJ/mol')\n",
    "\n",
    "#The missing coefficients are 1 and 2, so\n",
    "DH  = DHf_CO2 + 2*DHf_H2O - DHf_CH4\n",
    "DG1 = DGf_CO2 + 2*DGf_H2O - DGf_CH4\n",
    "\n",
    "T1 = AssignQuantity(298,'K')\n",
    "T2 = AssignQuantity(400,'K')\n",
    "\n",
    "print('DeltaG(298)=', DG1)\n",
    "DG2 = T2*(DG1/T1+DH*(1/T2-1/T1)); print('DeltaG(400)=', DG2)\n",
    "\n",
    "### End Solution"
   ]
  },
  {
   "cell_type": "markdown",
   "id": "64ef0c3e",
   "metadata": {
    "nbgrader": {
     "grade": false,
     "grade_id": "cell-6fa631ce07755eed",
     "locked": true,
     "schema_version": 3,
     "solution": false,
     "task": false
    }
   },
   "source": [
    "### Refresh/save/validate/close/submit/logout"
   ]
  }
 ],
 "metadata": {
  "celltoolbar": "Create Assignment",
  "kernelspec": {
   "display_name": "Python 3 (ipykernel)",
   "language": "python",
   "name": "python3"
  },
  "language_info": {
   "codemirror_mode": {
    "name": "ipython",
    "version": 3
   },
   "file_extension": ".py",
   "mimetype": "text/x-python",
   "name": "python",
   "nbconvert_exporter": "python",
   "pygments_lexer": "ipython3",
   "version": "3.10.2"
  }
 },
 "nbformat": 4,
 "nbformat_minor": 5
}

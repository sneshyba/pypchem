{
 "cells": [
  {
   "cell_type": "markdown",
   "id": "bdf44b91",
   "metadata": {
    "nbgrader": {
     "grade": false,
     "grade_id": "cell-e5c57a47a6734dda",
     "locked": true,
     "schema_version": 3,
     "solution": false,
     "task": false
    }
   },
   "source": [
    "### Computational Guided Inquiry for PChem (Neshyba, 2023)\n",
    "\n",
    "# Analytical derivation of the critical point of a real gas\n",
    "\n",
    "## Introduction\n",
    "Here, we'll learn how to harness the power of the *sympy* package of Python to derive what are called *critical values* -- the critical temperature, pressure, and volume -- of a van der Waals gas. \n",
    "\n",
    "First, we'll have a look at a PV diagram of a real gas, Fig. 1.\n",
    "\n",
    "<img align='center' src=\"http://webspace.pugetsound.edu/facultypages/nesh/Notebook/Pr(Vr) air.png\" height=\"500\" width=\"500\"/>\n",
    "<p style='text-align: center;'>\n",
    "<strong>Figure 1</strong>. Reduced pressure of air as a function of its reduced volume. \n",
    "</p>\n",
    "\n",
    "There are several things to notice about this graph. First, the y-axis been rescaled so that we're actually plotting something called the *reduced pressure*, $P_r$, of the air. What is that? It's a dimensionless quantity, defined as the *actual* pressure of the air divided by the *critical* pressure of air,\n",
    "    \n",
    "$$\n",
    "P_r = {P \\over P_{crit}} \\ \\ \\ \\ (1)\n",
    "$$\n",
    "\n",
    "We'll get to what $P_{crit}$ is later. For now, let's say that every type of gas has a specific critical pressure that can be measured. The second thing to note about Fig. (1) is that we can see that the x-axis has also been rescaled, so that we're plotting the *reduced volume*. This is defined similarly to what we just did with pressure, namely\n",
    "    \n",
    "$$\n",
    "V_r = {V \\over V_{crit}} \\ \\ \\ \\ (2)\n",
    "$$\n",
    "\n",
    "Like the critical pressure, every type of gas has a specific critical volume that can be measured. Third, each line in Fig. 1 is an isotherm, labeled by its *reduced temperature*, \n",
    "    \n",
    "$$\n",
    "T_r = {T \\over T_{crit}} \\ \\ \\ \\ (3)\n",
    "$$\n",
    "\n",
    "(yes, measurable). And fourth, you may be able to detect that, as one goes from higher temperature (like $T_r=2$) to closer to the critical temperature (the closest one is $T_r=1.1$), the curves get flatter and flatter. \n",
    "    \n",
    "So ... why plot these isotherms in such a weird space? The main reason is that doing so exposes a remarkable generality: the pressure of *all* gases look a lot like this, when you plot their reduced pressure as a function of reduced volume! And the flattening that we just noted is key to this generality. Crazy.\n",
    "    \n",
    "To move forward on this idea, we have to explain what these things called critical values ($P_{crit}$, $V_{crit}$, and $T_{crit})$ are. Here goes:\n",
    "    \n",
    "- The critical temperature is the highest temperature to which you can heat a gas and still be able to condense it into a liquid by compressing it. Above $T_{crit}$, it's like there is no \"liquid\" or \"gas\", but single phase, called a \"supercritical\" phase. Every gas has a distinctive critical temperature. In fact, if you take a look at tabulations of $T_{crit}$ (such as https://en.wikipedia.org/wiki/Critical_point_%28thermodynamics%29), you'll see that most of them -- including the $N_2$ and $O_2$ that make up most of Earth's atmosphere, have values of $T_{crit}$ that are well below room temperature. That means, for your entire life, you have been breathing in and out supercritical fluids. \n",
    "- The critical pressure is a little trickier to see in Fig. 1, so we're going to resort to the modeled data shown in Fig. 2. \n",
    "    \n",
    "<img align='center' src=\"http://webspace.pugetsound.edu/facultypages/nesh/Notebook/Pr(Vr).png\" height=\"500\" width=\"500\"/>\n",
    "<p style='text-align: center;'>\n",
    "<strong>Figure 2</strong>. Reduced pressure of an ideal gas as a function of its reduced volume. \n",
    "</p>\n",
    "\n",
    "Figure 2 shows the properties a van der Waals gas -- which are close to a real gas, we hope -- in reduced variables. The line to focus on is the green one, since it corresponds to the critical temperature ($T_r=1$, so $T=T_c$, according to Eq. 3). This line is also called the *critical isotherm*.\n",
    "    \n",
    "Now focus on the point in Fig. 2 where the critical isotherm flattens out. That flattening-out signals what's called an inflection point in $P_r(V_r)$ -- namely, a point along an isotherm at which not only is the *slope* zero,\n",
    "    \n",
    "$$\n",
    "\\big (\n",
    "{ {\\partial P} \\over {\\partial V} }\n",
    "\\big )_T  = 0 \\ \\ \\ \\ (4)\n",
    "$$\n",
    " \n",
    "but also the *curvature* is zero,\n",
    "\n",
    "$$\n",
    "\\big (\n",
    "{ {\\partial ^2 P} \\over {\\partial V ^2} } \n",
    "\\big )_T = 0 \\ \\ \\ \\ (5)\n",
    "$$\n",
    "\n",
    "This point has a special name: it's called the *critical point* in the PV diagram. If you inspect Fig. 2 carefully, you'll see that, like the reduced temperature, this critical point occurs at $P_r=1$ and $V_r=1$ -- in fact, that's why we defined $P_r=1$ and $V_r=1$ the way we did, in Eqs. 1 and 2.\n",
    "    \n",
    "It turns out that we can deduce the critical point values of a van der Waals gas with the help of a little calculus. How? Let's suppose we find the values of the temperature, pressure, and volume, for which Eqs. 4 and 5 are both true at the same time. Then we'd have the critical point! Presumably, these critial point values will depend on the van der Waals parameters of the gas in question. And that's exactly what we're looking for in this CGI: expressions for $P_{crit}$, $V_{crit}$, and $T_{crit}$ in terms of van der Waals parameters $a$ and $b$.\n",
    "\n",
    "To get there, we're going to learn to use a new Python tool. The tool is the Python package called Sympy, which not only knows calculus, it also knows how to solve simultaneous equations. You just need to learn how to use Sympy. \n",
    "  \n",
    "## Learning Goals\n",
    "1. Familiarity with how to use Sympy for calculus and algebraic manipulations\n",
    "\n",
    "    - Taking derivatives and integrals (sp.diff and sp.integrate)\n",
    "    - Setting up equations\n",
    "    - Solving multiple simultaneous equations for unknowns\n",
    "    - Looping over all possible solutions, and extracting one of them\n",
    "    - Verifying solutions\n",
    "    - Verifying multiple simultaneous equations\n",
    "    \n",
    "    \n",
    "2. Familiarity with putting these tools together to derive the critical point of a real gas"
   ]
  },
  {
   "cell_type": "code",
   "execution_count": 1,
   "id": "babd8808",
   "metadata": {
    "nbgrader": {
     "grade": false,
     "grade_id": "cell-f872d19a92bf3153",
     "locked": true,
     "schema_version": 3,
     "solution": false,
     "task": false
    }
   },
   "outputs": [],
   "source": [
    "import sympy as sp\n",
    "import numpy as np\n",
    "import matplotlib.pyplot as plt\n",
    "import pint; from pint import UnitRegistry; AssignQuantity = UnitRegistry().Quantity"
   ]
  },
  {
   "cell_type": "code",
   "execution_count": 2,
   "id": "15a27275",
   "metadata": {},
   "outputs": [],
   "source": [
    "%matplotlib notebook"
   ]
  },
  {
   "cell_type": "markdown",
   "id": "cea251d7",
   "metadata": {
    "nbgrader": {
     "grade": false,
     "grade_id": "cell-70f05a578e68150a",
     "locked": true,
     "schema_version": 3,
     "solution": false,
     "task": false
    }
   },
   "source": [
    "### Differentiating with sympy\n",
    "Here, we use the sp.diff function to take a derivative. We also try out sympy's \"pretty print\" (sp.pprint) for formatting the result (some people prefer this to Python's print)."
   ]
  },
  {
   "cell_type": "code",
   "execution_count": 3,
   "id": "1079640d",
   "metadata": {
    "nbgrader": {
     "grade": false,
     "grade_id": "cell-9e6eaf7c97d2c405",
     "locked": true,
     "schema_version": 3,
     "solution": false,
     "task": false
    }
   },
   "outputs": [
    {
     "name": "stdout",
     "output_type": "stream",
     "text": [
      "Regular print:\n",
      "3*x**2\n",
      "Pretty print:\n",
      "   2\n",
      "3⋅x \n"
     ]
    }
   ],
   "source": [
    "# Practice at using sympy's differential function\n",
    "\n",
    "# Set up the symbolic variable x\n",
    "sp.var(\"x\")\n",
    "\n",
    "# Create the function x^3\n",
    "f = x**3\n",
    "\n",
    "# Differentiate f with respect to x\n",
    "dfdx = sp.diff(f,x)\n",
    "\n",
    "# Print the results\n",
    "print('Regular print:')\n",
    "print(dfdx)\n",
    "print('Pretty print:')\n",
    "sp.pprint(dfdx)"
   ]
  },
  {
   "cell_type": "markdown",
   "id": "3ee978c0",
   "metadata": {
    "nbgrader": {
     "grade": false,
     "grade_id": "cell-d816e2ca9fb068e5",
     "locked": true,
     "schema_version": 3,
     "solution": false,
     "task": false
    }
   },
   "source": [
    "### Your turn\n",
    "Below, use sympy to find $\\frac {d (x^{-1})}{dx}$. Print the result using Python's regular \"print\" and sympy's \"pprint.\""
   ]
  },
  {
   "cell_type": "code",
   "execution_count": 4,
   "id": "5efb3885",
   "metadata": {
    "nbgrader": {
     "grade": true,
     "grade_id": "cell-d678dfc2122bb25d",
     "locked": false,
     "points": 2,
     "schema_version": 3,
     "solution": true,
     "task": false
    }
   },
   "outputs": [
    {
     "name": "stdout",
     "output_type": "stream",
     "text": [
      "Regular print:\n",
      "-1/x**2\n",
      "Pretty print:\n",
      "-1 \n",
      "───\n",
      "  2\n",
      " x \n"
     ]
    }
   ],
   "source": [
    "### BEGIN SOLUTION\n",
    "sp.var(\"x\")\n",
    "f = x**(-1)\n",
    "dfdx = sp.diff(f,x)\n",
    "print('Regular print:')\n",
    "print(dfdx)\n",
    "print('Pretty print:')\n",
    "sp.pprint(dfdx)\n",
    "\n",
    "# This is not part of the solution, just a side calculation that generated Fig. (1) in the Introduction\n",
    "Iwantthis = False\n",
    "if Iwantthis:\n",
    "    R = AssignQuantity(8.314,'J/mol/K')\n",
    "    airdata = np.loadtxt('airdata.txt')\n",
    "    T_air = AssignQuantity(airdata[1:,0],'K')\n",
    "    P_air = AssignQuantity(airdata[0,1:],'bar')\n",
    "    Z_air = AssignQuantity(airdata[1:,1:],'dimensionless')\n",
    "    V_air = np.empty(0)\n",
    "    nT,nP = np.shape(Z_air)\n",
    "    for i in range(nT):\n",
    "        this_V_air = Z_air[i,:]/P_air*T_air[i]*R\n",
    "        V_air = np.append(V_air,this_V_air)\n",
    "    V_air = np.reshape(V_air,(nT,nP))\n",
    "    V_air.ito('L/mol')\n",
    "\n",
    "    # These are values for Nitrogen\n",
    "    T_crit = AssignQuantity(126.2,'K')\n",
    "    P_crit = AssignQuantity(33.5,'atm'); P_crit.ito('bar'); print(P_crit)\n",
    "    V_crit = R*T_crit/P_crit; V_crit.ito('L/mol'); print(V_crit)\n",
    "    \n",
    "    # These are guessed values for air\n",
    "    T_crit = AssignQuantity(126.2,'K')\n",
    "    P_crit = AssignQuantity(33.5,'atm'); P_crit.ito('bar'); print(P_crit)\n",
    "    V_crit = R*T_crit/P_crit; V_crit.ito('L/mol'); print(V_crit)\n",
    "    \n",
    "    selected_temperatures = [7,4,3]\n",
    "    selected_colors = ['gray','blue','orange']\n",
    "    plt.figure()\n",
    "    P_r = P_air/P_crit\n",
    "    j = 0\n",
    "    for i in selected_temperatures:\n",
    "        V_r = V_air[i,:]/V_crit\n",
    "        thisisotherm = T_air[i].magnitude/T_crit.magnitude\n",
    "        thisisotherm = np.round(thisisotherm*10)/10\n",
    "        plt.plot(V_r,P_r,'-o',label=str(thisisotherm),color=selected_colors[j])\n",
    "        j+=1\n",
    "    plt.legend()\n",
    "    plt.xlim([0,5])\n",
    "    plt.ylim([0,3])\n",
    "    plt.ylabel('$P_r$')\n",
    "    plt.xlabel('$V_r$')\n",
    "    plt.title('PV diagram of air (in reduced variables)')\n",
    "    plt.grid(True)\n",
    "\n",
    "### END SOLUTION"
   ]
  },
  {
   "cell_type": "markdown",
   "id": "e6adc4bf",
   "metadata": {
    "nbgrader": {
     "grade": false,
     "grade_id": "cell-12ddc8293f364688",
     "locked": true,
     "schema_version": 3,
     "solution": false,
     "task": false
    }
   },
   "source": [
    "### Integrating with sympy\n",
    "If we want to integrate, we can use sympy's integral function. For example, to get $\\int x^2dx$, we could say\n",
    "\n",
    "    x = sp.var(\"x\")\n",
    "    integrand = x**2\n",
    "    F_indef = sp.integrate(integrand,x)\n",
    "\n",
    "\n",
    "Try this below, but with the integrand being $\\frac {1}{x}$. "
   ]
  },
  {
   "cell_type": "code",
   "execution_count": 5,
   "id": "0116926d",
   "metadata": {
    "nbgrader": {
     "grade": true,
     "grade_id": "cell-7a1ed0199f09e558",
     "locked": false,
     "points": 2,
     "schema_version": 3,
     "solution": true,
     "task": false
    }
   },
   "outputs": [
    {
     "name": "stdout",
     "output_type": "stream",
     "text": [
      "log(x)\n"
     ]
    }
   ],
   "source": [
    "### BEGIN SOLUTION\n",
    "sp.var(\"x\")\n",
    "integrand = 1/x\n",
    "F_indef = sp.integrate(integrand,x)\n",
    "sp.pprint(F_indef)\n",
    "### END SOLUTION"
   ]
  },
  {
   "cell_type": "markdown",
   "id": "5ff04f80",
   "metadata": {
    "nbgrader": {
     "grade": false,
     "grade_id": "cell-f6b352838c9f194d",
     "locked": true,
     "schema_version": 3,
     "solution": false,
     "task": false
    }
   },
   "source": [
    "### Solving for $x$\n",
    "Below, we try out sympy's solver function. Here are the steps:\n",
    "\n",
    "- Set up some symbolic variables that we'll need\n",
    "- Create expressions for the left and right hand sides of $Ax+B=0$ \n",
    "- Create the equation itself \n",
    "- Use *solver* to find the value of $x$ that satisfies LHS=RHS\n",
    "\n",
    "In some situations, as you know, multiple solutions to an equation are possible. It may gratify you to know, that *solver* will try to find all of them! The code in the second part of this cell loops through all of the solutions *solver* has found -- which in this case is only one. "
   ]
  },
  {
   "cell_type": "code",
   "execution_count": 6,
   "id": "0282bfa7",
   "metadata": {
    "nbgrader": {
     "grade": false,
     "grade_id": "cell-44b0d0f563099593",
     "locked": true,
     "schema_version": 3,
     "solution": false,
     "task": false
    }
   },
   "outputs": [
    {
     "name": "stdout",
     "output_type": "stream",
     "text": [
      "Solutions I found\n",
      "x = -B/A\n"
     ]
    }
   ],
   "source": [
    "# Set up the symbolic variables\n",
    "sp.var(\"A\")\n",
    "sp.var(\"B\")\n",
    "sp.var(\"x\")\n",
    "\n",
    "# Create expressions for the left- and right-hand sides of an equation\n",
    "LHS = A*x+B\n",
    "RHS = 0\n",
    "\n",
    "# Create the equation itself\n",
    "eq = sp.Eq(LHS,RHS)\n",
    "\n",
    "# Use solver to find the value of x that satisfies LHS=RHS\n",
    "result = sp.solve(eq,x)\n",
    "\n",
    "# List the solutions solver found\n",
    "print(\"Solutions I found\")\n",
    "for i in range(len(result)):\n",
    "    print('x =',result[i])"
   ]
  },
  {
   "cell_type": "markdown",
   "id": "dc317ff4",
   "metadata": {
    "nbgrader": {
     "grade": false,
     "grade_id": "cell-f2ad3c5428336193",
     "locked": true,
     "schema_version": 3,
     "solution": false,
     "task": false
    }
   },
   "source": [
    "### Your turn\n",
    "Use solver find all the solutions to the equation $x^2=4$."
   ]
  },
  {
   "cell_type": "code",
   "execution_count": 7,
   "id": "fe16ae0a",
   "metadata": {},
   "outputs": [
    {
     "name": "stdout",
     "output_type": "stream",
     "text": [
      "Solutions I found\n",
      "x = -2\n",
      "x = 2\n"
     ]
    }
   ],
   "source": [
    "# Set up the symbolic variable x\n",
    "sp.var(\"x\")\n",
    "\n",
    "# Create expressions for the left and right hand sides of an equation\n",
    "LHS = x**2\n",
    "RHS = 4\n",
    "\n",
    "# Create the equation itself\n",
    "eq = sp.Eq(LHS,RHS)\n",
    "\n",
    "# Use solver to find the value of x that satisfies LHS=RHS\n",
    "result = sp.solve(eq,x)\n",
    "\n",
    "# List the solutions\n",
    "print(\"Solutions I found\")\n",
    "for i in range(len(result)):\n",
    "    print('x =',result[i])"
   ]
  },
  {
   "cell_type": "code",
   "execution_count": 8,
   "id": "61e01047",
   "metadata": {
    "nbgrader": {
     "grade": true,
     "grade_id": "cell-0cd3bb59cae1d5c3",
     "locked": false,
     "points": 5,
     "schema_version": 3,
     "solution": true,
     "task": false
    }
   },
   "outputs": [
    {
     "name": "stdout",
     "output_type": "stream",
     "text": [
      "Solutions I found\n",
      "x = -2\n",
      "x = 2\n"
     ]
    }
   ],
   "source": [
    "# Set up the symbolic variable x\n",
    "### BEGIN SOLUTION\n",
    "sp.var(\"x\")\n",
    "### END SOLUTION\n",
    "\n",
    "# Create expressions for the left and right hand sides of an equation\n",
    "### BEGIN SOLUTION\n",
    "LHS = x**2\n",
    "RHS = 4\n",
    "### END SOLUTION\n",
    "\n",
    "# Create the equation itself\n",
    "### BEGIN SOLUTION\n",
    "eq = sp.Eq(LHS,RHS)\n",
    "### END SOLUTION\n",
    "\n",
    "# Use solver to find the value of x that satisfies LHS=RHS\n",
    "### BEGIN SOLUTION\n",
    "result = sp.solve(eq,x)\n",
    "### END SOLUTION\n",
    "\n",
    "# List the solutions\n",
    "### BEGIN SOLUTION\n",
    "print(\"Solutions I found\")\n",
    "for i in range(len(result)):\n",
    "    print('x =',result[i])\n",
    "### END SOLUTION"
   ]
  },
  {
   "cell_type": "markdown",
   "id": "36244960",
   "metadata": {
    "nbgrader": {
     "grade": false,
     "grade_id": "cell-116915dcbe275ee5",
     "locked": true,
     "schema_version": 3,
     "solution": false,
     "task": false
    }
   },
   "source": [
    "### Substituting\n",
    "You may well imagine that a skeptical physical chemist is never quite satisfied that sympy has done its job properly. How to verify that it has? One (excellent) method is to substitute the alleged solution back into the equation and see if it's satisfied. The cell below demonstrates the idea."
   ]
  },
  {
   "cell_type": "code",
   "execution_count": 9,
   "id": "b93d6f09",
   "metadata": {
    "nbgrader": {
     "grade": false,
     "grade_id": "cell-5777fea42ed5caf0",
     "locked": true,
     "schema_version": 3,
     "solution": false,
     "task": false
    }
   },
   "outputs": [
    {
     "name": "stdout",
     "output_type": "stream",
     "text": [
      "Solutions I found\n",
      "x = -3\n",
      "x = 3\n",
      "True\n",
      "True\n",
      "False\n"
     ]
    }
   ],
   "source": [
    "# Solving\n",
    "sp.var(\"x\")\n",
    "sp.var(\"A\")\n",
    "LHS = x**2\n",
    "RHS = 9\n",
    "eq = sp.Eq(LHS,RHS)\n",
    "result = sp.solve(eq,x)\n",
    "print(\"Solutions I found\")\n",
    "for i in range(len(result)):\n",
    "    print('x =',result[i])\n",
    "    \n",
    "# Verifying that some proposed expressions really are (or are not) solutions\n",
    "is_it_true = eq.subs(x,3); print(is_it_true)\n",
    "is_it_true = eq.subs(x,-3); print(is_it_true)\n",
    "is_it_true = eq.subs(x,4); print(is_it_true)"
   ]
  },
  {
   "cell_type": "markdown",
   "id": "15752e6e",
   "metadata": {
    "nbgrader": {
     "grade": false,
     "grade_id": "cell-3d981f65accd7411",
     "locked": true,
     "schema_version": 3,
     "solution": false,
     "task": false
    }
   },
   "source": [
    "### Your turn\n",
    "In a previous cell, we considered the equation $Ax+B=0$. In the cell below, use substitution to verify that this equation really is satisfied when $x=-B/A$."
   ]
  },
  {
   "cell_type": "code",
   "execution_count": 10,
   "id": "1211c895",
   "metadata": {
    "nbgrader": {
     "grade": true,
     "grade_id": "cell-8e11d53522b3cbae",
     "locked": false,
     "points": 2,
     "schema_version": 3,
     "solution": true,
     "task": false
    }
   },
   "outputs": [
    {
     "name": "stdout",
     "output_type": "stream",
     "text": [
      "Our equation is:\n",
      "A⋅x + B = 0\n",
      "Is x=-B/A a solution?\n",
      "True\n"
     ]
    }
   ],
   "source": [
    "# Set up the symbolic variables A, B, and x\n",
    "sp.var(\"A\")\n",
    "sp.var(\"B\")\n",
    "sp.var(\"x\")\n",
    "\n",
    "# Here's our equation\n",
    "LHS = A*x+B\n",
    "RHS = 0\n",
    "eq = sp.Eq(LHS,RHS)\n",
    "print('Our equation is:')\n",
    "sp.pprint(eq)\n",
    "\n",
    "# Verify by substituting -B/A for x, that the equation is satisfied\n",
    "print('Is x=-B/A a solution?')\n",
    "### BEGIN SOLUTION\n",
    "is_it_true = eq.subs(x,-B/A)\n",
    "print(is_it_true)\n",
    "### END SOLUTION"
   ]
  },
  {
   "cell_type": "markdown",
   "id": "74fce038",
   "metadata": {
    "nbgrader": {
     "grade": false,
     "grade_id": "cell-0e4f2d0389cac273",
     "locked": true,
     "schema_version": 3,
     "solution": false,
     "task": false
    }
   },
   "source": [
    "### Extracting the solution\n",
    "What do we do if we want to use a solution later, but we're too lazy to copy it \"by hand\" (as you did above)? Well, we could ask Python to extract it for us! The first cell below finds solutions to the equation $3x^3+5x+1=0$. The second cell *extracts* the first solution (which has index zero, since this is Python), and then verifies it. Try it!"
   ]
  },
  {
   "cell_type": "code",
   "execution_count": 11,
   "id": "e1c5104c",
   "metadata": {
    "nbgrader": {
     "grade": false,
     "grade_id": "cell-20b49e6a79009e3e",
     "locked": true,
     "schema_version": 3,
     "solution": false,
     "task": false
    }
   },
   "outputs": [
    {
     "name": "stdout",
     "output_type": "stream",
     "text": [
      "   2              \n",
      "3⋅x  + 5⋅x + 1 = 0\n",
      "Solutions I found\n",
      "x = -5/6 - sqrt(13)/6\n",
      "x = -5/6 + sqrt(13)/6\n"
     ]
    }
   ],
   "source": [
    "# Set up the symbolic variable x\n",
    "sp.var(\"x\")\n",
    "\n",
    "# Here's our equation\n",
    "LHS = 3*x**2 + 5*x +1\n",
    "RHS = 0\n",
    "eq = sp.Eq(LHS,RHS)\n",
    "sp.pprint(eq)\n",
    "\n",
    "# Solving the equation\n",
    "result = sp.solve(eq,x)\n",
    "\n",
    "# Listing the solutions\n",
    "print(\"Solutions I found\")\n",
    "for i in range(len(result)):\n",
    "    print('x =',result[i])"
   ]
  },
  {
   "cell_type": "code",
   "execution_count": 12,
   "id": "537978b7",
   "metadata": {
    "nbgrader": {
     "grade": false,
     "grade_id": "cell-20b49e6a79009e3ed",
     "locked": true,
     "schema_version": 3,
     "solution": false,
     "task": false
    }
   },
   "outputs": [
    {
     "name": "stdout",
     "output_type": "stream",
     "text": [
      "-5/6 - sqrt(13)/6\n",
      "True\n"
     ]
    }
   ],
   "source": [
    "# Extracting the first solution (which we're calling x0)\n",
    "x0 = result[0]; print(x0)\n",
    "\n",
    "# Verifying this is a good solution\n",
    "is_it_true = eq.subs(x,x0); print(is_it_true)"
   ]
  },
  {
   "cell_type": "markdown",
   "id": "cb7f5819",
   "metadata": {
    "nbgrader": {
     "grade": false,
     "grade_id": "cell-38b477f07e7439d4",
     "locked": true,
     "schema_version": 3,
     "solution": false,
     "task": false
    }
   },
   "source": [
    "### Your turn\n",
    "In the cell below, extract the *second* solution solver just found, and verify that it's a good solution using substitution."
   ]
  },
  {
   "cell_type": "code",
   "execution_count": 13,
   "id": "8b93d632",
   "metadata": {
    "nbgrader": {
     "grade": true,
     "grade_id": "cell-608d5884d7dda6ea",
     "locked": false,
     "points": 2,
     "schema_version": 3,
     "solution": true,
     "task": false
    }
   },
   "outputs": [
    {
     "name": "stdout",
     "output_type": "stream",
     "text": [
      "-5/6 + sqrt(13)/6\n",
      "True\n"
     ]
    }
   ],
   "source": [
    "# Extract the second solution (you can call it x1 if you like)\n",
    "### BEGIN SOLUTION\n",
    "x1 = result[1]; print(x1)\n",
    "### END SOLUTION\n",
    "\n",
    "# Verify this is a good solution\n",
    "### BEGIN SOLUTION\n",
    "is_it_true = eq.subs(x,x1); print(is_it_true)\n",
    "### END SOLUTION"
   ]
  },
  {
   "cell_type": "markdown",
   "id": "5547c6fe",
   "metadata": {
    "nbgrader": {
     "grade": false,
     "grade_id": "cell-fc5faf7553c91d45",
     "locked": true,
     "schema_version": 3,
     "solution": false,
     "task": false
    }
   },
   "source": [
    "### Solving multiple simultaneous equations\n",
    "OK, how about *two* simultaneous equations? \n",
    "\n",
    "Breaking the 4th wall:\n",
    "\n",
    "    You: \"Aaaaarrrrggggghhh! Nesh, please, why are you doing this to us?\"\n",
    "    Nesh: It'll be useful later.\n",
    "        \n",
    "Below we find the values of $x$ and $y$ that satisfy $x+y=5$ *and* $x^2+y^2=17$."
   ]
  },
  {
   "cell_type": "code",
   "execution_count": 14,
   "id": "25fc2372",
   "metadata": {
    "nbgrader": {
     "grade": false,
     "grade_id": "cell-20495c7f3a92e45b",
     "locked": true,
     "schema_version": 3,
     "solution": false,
     "task": false
    }
   },
   "outputs": [
    {
     "name": "stdout",
     "output_type": "stream",
     "text": [
      "Solutions I found\n",
      "x,y = (1, 4)\n",
      "x,y = (4, 1)\n"
     ]
    }
   ],
   "source": [
    "# Practice at solving simulaneous equations\n",
    "sp.var(\"x\")\n",
    "sp.var(\"y\")\n",
    "eq1 = sp.Eq(x+y,5)\n",
    "eq2 = sp.Eq(x**2+y**2,17)\n",
    "result = sp.solve([eq1,eq2],(x,y))\n",
    "print(\"Solutions I found\")\n",
    "for i in range(len(result)):\n",
    "    print('x,y =',result[i])"
   ]
  },
  {
   "cell_type": "markdown",
   "id": "b17be2fb",
   "metadata": {
    "nbgrader": {
     "grade": false,
     "grade_id": "cell-5939f93733c2c991",
     "locked": true,
     "schema_version": 3,
     "solution": false,
     "task": false
    }
   },
   "source": [
    "### Extracting  and verifying when a solution has multiple variables\n",
    "Below, we extract the first solution's x and y values, and then we verify by substitution that x and y simultaneously satisfy both equations. Notice that we've short-cutted the bit above where we defined a variable called \"is_it_true\"."
   ]
  },
  {
   "cell_type": "code",
   "execution_count": 15,
   "id": "e34facc2",
   "metadata": {
    "nbgrader": {
     "grade": false,
     "grade_id": "cell-3977f7b1dbb73bbe",
     "locked": true,
     "schema_version": 3,
     "solution": false,
     "task": false
    }
   },
   "outputs": [
    {
     "name": "stdout",
     "output_type": "stream",
     "text": [
      "x of first solution = 1\n",
      "y of first solution = 4\n",
      "True\n",
      "True\n"
     ]
    }
   ],
   "source": [
    "# Extracting the first solution\n",
    "x0 = result[0][0]; print('x of first solution =',x0)\n",
    "y0 = result[0][1]; print('y of first solution =',y0)\n",
    "\n",
    "# Substituting\n",
    "print(eq1.subs({x:x0,y:y0}))\n",
    "print(eq2.subs({x:x0,y:y0}))"
   ]
  },
  {
   "cell_type": "markdown",
   "id": "a377dd89",
   "metadata": {
    "nbgrader": {
     "grade": false,
     "grade_id": "cell-15c0a8021d361731",
     "locked": true,
     "schema_version": 3,
     "solution": false,
     "task": false
    }
   },
   "source": [
    "### Your turn\n",
    "Extract the second set of solutions you got before, and verify they are also a solution."
   ]
  },
  {
   "cell_type": "code",
   "execution_count": 16,
   "id": "6d07ec54",
   "metadata": {
    "nbgrader": {
     "grade": true,
     "grade_id": "cell-5a46101bd756ade1",
     "locked": false,
     "points": 2,
     "schema_version": 3,
     "solution": true,
     "task": false
    }
   },
   "outputs": [
    {
     "name": "stdout",
     "output_type": "stream",
     "text": [
      "x of first solution = 4\n",
      "y of first solution = 1\n",
      "True\n",
      "True\n"
     ]
    }
   ],
   "source": [
    "# Extract the second set of solutions (you can call them x1 and y1 if you like)\n",
    "### BEGIN SOLUTION\n",
    "x1 = result[1][0]; print('x of first solution =',x1)\n",
    "y1 = result[1][1]; print('y of first solution =',y1)\n",
    "### END SOLUTION\n",
    "\n",
    "# Verify by substitution that these are good solutions to both equations\n",
    "### BEGIN SOLUTION\n",
    "print(eq1.subs({x:x1,y:y1}))\n",
    "print(eq2.subs({x:x1,y:y1}))\n",
    "# ### END SOLUTION"
   ]
  },
  {
   "cell_type": "markdown",
   "id": "6df576a1",
   "metadata": {
    "nbgrader": {
     "grade": false,
     "grade_id": "cell-61922d19d7b56fb1",
     "locked": true,
     "schema_version": 3,
     "solution": false,
     "task": false
    }
   },
   "source": [
    "### Your turn\n",
    "In the cell below, repeat what we just did, but for the simultaneous equations $x^2+y^2=1$ and $x=0$."
   ]
  },
  {
   "cell_type": "code",
   "execution_count": 17,
   "id": "06d63f8e",
   "metadata": {
    "nbgrader": {
     "grade": true,
     "grade_id": "cell-149d8720afdef16d",
     "locked": false,
     "points": 4,
     "schema_version": 3,
     "solution": true,
     "task": false
    }
   },
   "outputs": [
    {
     "name": "stdout",
     "output_type": "stream",
     "text": [
      "Solutions I found\n",
      "x,y = (0, -1)\n",
      "x,y = (0, 1)\n",
      "0\n",
      "-1\n",
      "True\n",
      "True\n"
     ]
    }
   ],
   "source": [
    "# Set up symbolic variables x and y\n",
    "sp.var(\"x\")\n",
    "sp.var(\"y\")\n",
    "\n",
    "# Set up the equations\n",
    "### BEGIN SOLUTION\n",
    "eq1 = sp.Eq(x**2+y**2,1)\n",
    "eq2 = sp.Eq(x,0)\n",
    "### END SOLUTION\n",
    "\n",
    "# Use sp.solve to solve the simultaneous equations\n",
    "### BEGIN SOLUTION\n",
    "result = sp.solve([eq1,eq2],(x,y))\n",
    "### END SOLUTION\n",
    "\n",
    "# List the solutions\n",
    "### BEGIN SOLUTION\n",
    "print(\"Solutions I found\")\n",
    "for i in range(len(result)):\n",
    "    print('x,y =',result[i])\n",
    "### END SOLUTION\n",
    "\n",
    "# Extract the first solution (you can call them x0 and y0 if you like)\n",
    "### BEGIN SOLUTION\n",
    "x0 = result[0][0]; print(x0)\n",
    "y0 = result[0][1]; print(y0)\n",
    "### END SOLUTION\n",
    "\n",
    "# Verify this is a good solution\n",
    "### BEGIN SOLUTION\n",
    "print(eq1.subs({x:x0,y:y0}))\n",
    "print(eq2.subs({x:x0,y:y0}))\n",
    "### END SOLUTION"
   ]
  },
  {
   "cell_type": "markdown",
   "id": "d1f197f1",
   "metadata": {
    "nbgrader": {
     "grade": false,
     "grade_id": "cell-f0aee752fde3d4bf",
     "locked": true,
     "schema_version": 3,
     "solution": false,
     "task": false
    }
   },
   "source": [
    "### Finding the critical temperature and volume for a vdw gas\n",
    "Finally, we're ready to do some thermodynamics with this! Follow the prompts in the cell below."
   ]
  },
  {
   "cell_type": "code",
   "execution_count": 18,
   "id": "8cde63df",
   "metadata": {
    "nbgrader": {
     "grade": true,
     "grade_id": "cell-93bc6043aeb40d61",
     "locked": false,
     "points": 5,
     "schema_version": 3,
     "solution": true,
     "task": false
    }
   },
   "outputs": [
    {
     "name": "stdout",
     "output_type": "stream",
     "text": [
      "Eq(-R*T*n/(V - b*n)**2 + 2*a*n**2/V**3, 0)\n",
      "Eq(2*R*T*n/(V - b*n)**3 - 6*a*n**2/V**4, 0)\n",
      "I found  1  solution(s)\n",
      "0 T,V = (8*a/(27*R*b), 3*b*n)\n",
      "T0 = 8*a/(27*R*b)\n",
      "V0 = 3*b*n\n",
      "True\n",
      "True\n"
     ]
    }
   ],
   "source": [
    "# Preliminaries -- this defines a van der Waals gas\n",
    "sp.var(\"a\")\n",
    "sp.var(\"b\")\n",
    "sp.var(\"n\")\n",
    "sp.var(\"R\")\n",
    "sp.var(\"T\")\n",
    "sp.var(\"V\")\n",
    "P = n*R*T/(V-n*b) -a*n**2/V**2\n",
    "\n",
    "# Differentiate P with respect to V using Sympy -- you can call the result dPdV if you like.\n",
    "### BEGIN SOLUTION\n",
    "dPdV = sp.diff(P,V)\n",
    "### END SOLUTION\n",
    "\n",
    "# Now differentiate dPdV with respect to V using Sympy -- you can call the result d2PdV2 if you like.\n",
    "### BEGIN SOLUTION\n",
    "d2PdV2 = sp.diff(dPdV,V)\n",
    "### END SOLUTION\n",
    "\n",
    "# Now use these to define the two equations, Eqs. 4 and 5 in the Introduction (RHS = 0 in both cases)\n",
    "### BEGIN SOLUTION\n",
    "eq1 = sp.Eq(dPdV, 0);print(eq1)\n",
    "eq2 = sp.Eq(d2PdV2,0);print(eq2)\n",
    "### END SOLUTION\n",
    "\n",
    "# Use sympy's solver to solve these two equations simultaneously for T and V\n",
    "### BEGIN SOLUTION\n",
    "result = sp.solve([eq1,eq2],[T,V])\n",
    "### END SOLUTION\n",
    "\n",
    "# List the solutions\n",
    "### BEGIN SOLUTION\n",
    "print(\"I found \",len(result),\" solution(s)\")\n",
    "for i in range(len(result)):\n",
    "    print(i,'T,V =',result[i])\n",
    "### END SOLUTION\n",
    "\n",
    "# Extract the first solution (you can call them T0 and V0 if you like)\n",
    "### BEGIN SOLUTION\n",
    "T0 = result[0][0]; print('T0 =', T0)\n",
    "V0 = result[0][1]; print('V0 =', V0)\n",
    "### END SOLUTION\n",
    "\n",
    "# Verify that T0 and V0 really are solutions \n",
    "### BEGIN SOLUTION\n",
    "print(eq1.subs({V:V0,T:T0}))\n",
    "print(eq2.subs({V:V0,T:T0}))\n",
    "### END SOLUTION"
   ]
  },
  {
   "cell_type": "markdown",
   "id": "86877c2b",
   "metadata": {
    "nbgrader": {
     "grade": false,
     "grade_id": "cell-686fd7f4e9cd989c",
     "locked": true,
     "schema_version": 3,
     "solution": false,
     "task": false
    }
   },
   "source": [
    "### Refresh/save/validate/close/submit/logout"
   ]
  }
 ],
 "metadata": {
  "celltoolbar": "Create Assignment",
  "kernelspec": {
   "display_name": "Python 3 (ipykernel)",
   "language": "python",
   "name": "python3"
  },
  "language_info": {
   "codemirror_mode": {
    "name": "ipython",
    "version": 3
   },
   "file_extension": ".py",
   "mimetype": "text/x-python",
   "name": "python",
   "nbconvert_exporter": "python",
   "pygments_lexer": "ipython3",
   "version": "3.10.2"
  }
 },
 "nbformat": 4,
 "nbformat_minor": 5
}

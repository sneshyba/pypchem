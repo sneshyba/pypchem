{
 "cells": [
  {
   "cell_type": "markdown",
   "id": "0b861ae1",
   "metadata": {
    "nbgrader": {
     "grade": false,
     "grade_id": "cell-671e4aebf942dfb8",
     "locked": true,
     "schema_version": 3,
     "solution": false,
     "task": false
    }
   },
   "source": [
    "### Computational Guided Inquiry for PChem (Neshyba, 2023)\n",
    "\n",
    "# Intermolecular Bond Strengths\n",
    "\n",
    "## Introduction\n",
    "Here we'll be working with an elecronic structure code (Spartan) to find the energy holding together two molecules. Taking $CO_2$ as an example, we'd say the formation of the dimer looks something like that shown in Fig 1. \n",
    "\n",
    "<p style='text-align: center;'>\n",
    "<img src=\"http://webspace.pugetsound.edu/facultypages/nesh/Notebook/CO2 dimer.png\" height=\"700\" width=\"700\"/>  \n",
    "<p style='text-align: center;'>\n",
    "<strong>Figure 1</strong>. Two $CO_2$ molecules held together by intermolecular forces.\n",
    "</p>\n",
    "\n",
    "\n",
    "Written as a chemical equation, we'd say something like \n",
    "\n",
    "$$\n",
    "2 CO_2 → (CO_2)_2\n",
    "$$\n",
    "\n",
    "In this case, the intermolecular bond strength would be given by\n",
    "\n",
    "$$\n",
    "E_{bond} = 2 E_{CO_2} - E_{(CO_2)_2}\n",
    "$$\n",
    "\n",
    "Similarly, for Argon\n",
    "\n",
    "$$\n",
    "2 Ar → (Ar)_2\n",
    "$$\n",
    "\n",
    "in which case we'd say that the bond strength is given by\n",
    "\n",
    "$$\n",
    "E_{bond} = 2 E_{Ar} - E_{Ar_2}\n",
    "$$\n",
    "\n",
    "Electronic structure codes often give their energies in Hartrees. To convert those numbers into the more conventional chemical unit of kilojoule/mol, we'll convert to kilojoules using pint, then multiply by Avogadro's number. That's done for you in the first example below.\n",
    "\n",
    "## Learning Goals\n",
    "\n",
    "1. I can infer intermolecular potential energies (bond strengths) from electronic structure calculations.\n",
    "1. I can convert energies from hartrees to kjoule/mole."
   ]
  },
  {
   "cell_type": "code",
   "execution_count": 1,
   "id": "190d8fee",
   "metadata": {
    "nbgrader": {
     "grade": false,
     "grade_id": "cell-f152dd3c57762acd",
     "locked": true,
     "schema_version": 3,
     "solution": false,
     "task": false
    }
   },
   "outputs": [],
   "source": [
    "import numpy as np\n",
    "from pint import UnitRegistry; AssignQuantity = UnitRegistry().Quantity"
   ]
  },
  {
   "cell_type": "code",
   "execution_count": 2,
   "id": "963ab6a2",
   "metadata": {
    "nbgrader": {
     "grade": false,
     "grade_id": "cell-6f268ac44468be2d",
     "locked": true,
     "schema_version": 3,
     "solution": false,
     "task": false
    }
   },
   "outputs": [],
   "source": [
    "# Avogadro's number\n",
    "NA = AssignQuantity(6.02e23,'1/mol')"
   ]
  },
  {
   "cell_type": "markdown",
   "id": "87019716",
   "metadata": {
    "nbgrader": {
     "grade": false,
     "grade_id": "cell-8c669073acfd078b",
     "locked": true,
     "schema_version": 3,
     "solution": false,
     "task": false
    }
   },
   "source": [
    "### Calculating the bond strength for $CO_2$\n",
    "The cell below shows how to do this, but you should enter your own values for the energies of one molecule and of the dimer. "
   ]
  },
  {
   "cell_type": "code",
   "execution_count": 3,
   "id": "f49fbca3",
   "metadata": {},
   "outputs": [
    {
     "name": "stdout",
     "output_type": "stream",
     "text": [
      "0.0025479999999902248 hartree\n",
      "1.1108629552141253e-23 kilojoule\n",
      "6.687394990389034 kilojoule / mole\n"
     ]
    }
   ],
   "source": [
    "# Energy of one molecule (substitute your own value here that you get from Spartan)\n",
    "E_1 = AssignQuantity(-188.52001,'hartrees')\n",
    "\n",
    "# Energy of the dimer (substitute your own value here that you get from Spartan)\n",
    "E_dimer = AssignQuantity(-377.042568,'hartrees')\n",
    "\n",
    "# Calculating the energy of the intermolecular bond\n",
    "E_bond = 2*E_1-E_dimer\n",
    "print(E_bond)\n",
    "\n",
    "# This converts that energy into kJ/mol\n",
    "E_bond.ito('kilojoule')\n",
    "print(E_bond)\n",
    "E_bond *= NA\n",
    "print(E_bond)"
   ]
  },
  {
   "cell_type": "markdown",
   "id": "fa4b3fba",
   "metadata": {
    "nbgrader": {
     "grade": false,
     "grade_id": "cell-2eb94fbf3094eb88",
     "locked": true,
     "schema_version": 3,
     "solution": false,
     "task": false
    }
   },
   "source": [
    "### Calculating the bond strength for $Ar_2$\n",
    "In the cell below, do something similar, but for Argon"
   ]
  },
  {
   "cell_type": "code",
   "execution_count": 4,
   "id": "e44672eb",
   "metadata": {
    "nbgrader": {
     "grade": true,
     "grade_id": "cell-19d0f2c0b26cf6b5",
     "locked": false,
     "points": 3,
     "schema_version": 3,
     "solution": true,
     "task": false
    }
   },
   "outputs": [
    {
     "name": "stdout",
     "output_type": "stream",
     "text": [
      "0.00030800000013186946 hartree\n",
      "1.3428013750147256e-24 kilojoule\n",
      "0.8083664277588648 kilojoule / mole\n"
     ]
    }
   ],
   "source": [
    "### BEGIN SOLUTION\n",
    "\n",
    "# Energy of one molecule\n",
    "E_1 = AssignQuantity(-527.503741 ,'hartrees')\n",
    "\n",
    "# Energy of the dimer\n",
    "E_dimer = AssignQuantity(-1055.007790,'hartrees')\n",
    "\n",
    "# Calculating the energy of the intermolecular bond\n",
    "E_bond = 2*E_1-E_dimer\n",
    "print(E_bond)\n",
    "\n",
    "# This converts that energy into kJ/mol\n",
    "E_bond.ito('kilojoule')\n",
    "print(E_bond)\n",
    "E_bond *= NA\n",
    "print(E_bond)\n",
    "\n",
    "### END SOLUTION"
   ]
  },
  {
   "cell_type": "markdown",
   "id": "53db3264",
   "metadata": {
    "nbgrader": {
     "grade": false,
     "grade_id": "cell-905dfccca6f6bf4a",
     "locked": true,
     "schema_version": 3,
     "solution": false,
     "task": false
    }
   },
   "source": [
    "### Refresh/save/validate\n",
    "Almost done! To double-check everything is OK, repeat the \"Three steps for refreshing and saving your code,\" and press the \"Validate\" button (as usual).\n",
    "\n",
    "### Close/submit/logout\n",
    "1. Close this notebook using the \"File/Close and Halt\" dropdown menu\n",
    "1. Using the Assignments tab, submit this notebook\n",
    "1. Press the Logout tab of the Home Page"
   ]
  }
 ],
 "metadata": {
  "celltoolbar": "Create Assignment",
  "kernelspec": {
   "display_name": "Python 3 (ipykernel)",
   "language": "python",
   "name": "python3"
  },
  "language_info": {
   "codemirror_mode": {
    "name": "ipython",
    "version": 3
   },
   "file_extension": ".py",
   "mimetype": "text/x-python",
   "name": "python",
   "nbconvert_exporter": "python",
   "pygments_lexer": "ipython3",
   "version": "3.10.2"
  }
 },
 "nbformat": 4,
 "nbformat_minor": 5
}

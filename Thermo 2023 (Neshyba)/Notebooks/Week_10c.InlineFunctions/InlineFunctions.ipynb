{
 "cells": [
  {
   "cell_type": "markdown",
   "id": "a45dc8e0",
   "metadata": {},
   "source": [
    "### Computational Guided Inquiry for PChem (Neshyba, 2023)\n",
    "\n",
    "# Inline Functions\n",
    "\n",
    "## Introduction\n",
    "Here, we'll learn some basics of how inline functions work, with particular emphasis on what goes in, what comes out, and the way functions share (or don't share) the variable space with the rest of the notebook.\n",
    "\n",
    "Some terms that we'll need to be clear on here:\n",
    "- *argument list* -- these are variables that appear in parentheses of the line that defines an inline function\n",
    "- *return variable(s)* -- variables that a function calculates and returns to the main notebook \n",
    "- *Conventional input rule* -- a rule that says the only information a function uses as input are variables in the argument list\n",
    "\n",
    "  \n",
    "## Learning Goals\n",
    "1. I can explain the difference between local function variables and global variables.\n",
    "1. I can identify variables that belong to the argument list, and variables that are returned, by a function.\n",
    "1. I can explain what the *Conventional input rule* is, and identify functions that adhere to it, and those that do not."
   ]
  },
  {
   "cell_type": "code",
   "execution_count": 1,
   "id": "5414d178",
   "metadata": {},
   "outputs": [],
   "source": [
    "import numpy as np"
   ]
  },
  {
   "cell_type": "markdown",
   "id": "156f84a3",
   "metadata": {},
   "source": [
    "### Here's a simple function that strictly adheres to the conventional input rule"
   ]
  },
  {
   "cell_type": "code",
   "execution_count": 2,
   "id": "ceb21765",
   "metadata": {},
   "outputs": [],
   "source": [
    "def add_two_numbers(a,b):\n",
    "    print(\"local variable inputs: a,b =\", a,b)\n",
    "    c = a+b\n",
    "    print(\"output:\", c)\n",
    "    return c"
   ]
  },
  {
   "cell_type": "markdown",
   "id": "584ffc08",
   "metadata": {},
   "source": [
    "### Here we use the function"
   ]
  },
  {
   "cell_type": "code",
   "execution_count": 3,
   "id": "090655d5",
   "metadata": {},
   "outputs": [
    {
     "name": "stdout",
     "output_type": "stream",
     "text": [
      "local variable inputs: a,b = 1 2\n",
      "output: 3\n",
      "3\n"
     ]
    }
   ],
   "source": [
    "x = add_two_numbers(1,2)\n",
    "print(x)"
   ]
  },
  {
   "cell_type": "markdown",
   "id": "8bb1b02a",
   "metadata": {},
   "source": [
    "### Your turn\n",
    "Use our *add_two_numbers* function to create another variable -- you can call it \"y\" if you like -- that's the sum of 3 and 4."
   ]
  },
  {
   "cell_type": "code",
   "execution_count": 4,
   "id": "87373f56",
   "metadata": {
    "nbgrader": {
     "grade": true,
     "grade_id": "cell-192e925c4fdef569",
     "locked": false,
     "points": 2,
     "schema_version": 3,
     "solution": true,
     "task": false
    }
   },
   "outputs": [
    {
     "name": "stdout",
     "output_type": "stream",
     "text": [
      "local variable inputs: a,b = 3 4\n",
      "output: 7\n",
      "7\n"
     ]
    }
   ],
   "source": [
    "### BEGIN SOLUTION\n",
    "y = add_two_numbers(3,4)\n",
    "print(y)\n",
    "### END SOLUTION"
   ]
  },
  {
   "cell_type": "markdown",
   "id": "b9009972",
   "metadata": {},
   "source": [
    "### Demonstrating the difference between global variables and local (function) variables"
   ]
  },
  {
   "cell_type": "code",
   "execution_count": 5,
   "id": "4255615d",
   "metadata": {},
   "outputs": [
    {
     "name": "stdout",
     "output_type": "stream",
     "text": [
      "global variable a = 10\n",
      "local variable inputs: a,b = 1 2\n",
      "output: 3\n",
      "3\n",
      "global variable a = 10\n"
     ]
    }
   ],
   "source": [
    "a = 10\n",
    "print(\"global variable a =\", a)\n",
    "z = add_two_numbers(1,2); print(z)\n",
    "print(\"global variable a =\", a)"
   ]
  },
  {
   "cell_type": "markdown",
   "id": "07e058ef",
   "metadata": {},
   "source": [
    "### Pause for analysis\n",
    "You're supposed to notice that the variable *a* here is *not* the same as the function's local variable *a*, and in fact it wasn't changed by the call to the function."
   ]
  },
  {
   "cell_type": "markdown",
   "id": "e1557dc2",
   "metadata": {},
   "source": [
    "### Here's a sloppy function\n",
    "The argument list of *sloppy_add_two_numbers* is missing one variable it needs -- specifically, variable $a$. Because of that, *sloppy_add_two_numbers* resorts to using the global variable variable $a$. This violates the *conventional input rule*, and is therefore potentially confusing. \n",
    "\n",
    "Of course, we would never intentionally put together such a sloppy function; it's shown here as an example of how *not* to code."
   ]
  },
  {
   "cell_type": "code",
   "execution_count": 1,
   "id": "6d5ab139",
   "metadata": {},
   "outputs": [],
   "source": [
    "def sloppy_add_two_numbers(b):\n",
    "    print(\"global variable input: a =\", a)\n",
    "    print(\"local variable input: b =\", b)\n",
    "    c = a+b\n",
    "    return c"
   ]
  },
  {
   "cell_type": "code",
   "execution_count": 7,
   "id": "22cc46ea",
   "metadata": {},
   "outputs": [
    {
     "name": "stdout",
     "output_type": "stream",
     "text": [
      "global variable a = 10\n",
      "global variable input: a = 10\n",
      "local variable input: b = 1\n",
      "11\n"
     ]
    }
   ],
   "source": [
    "a = 10\n",
    "print(\"global variable a =\", a)\n",
    "z = sloppy_add_two_numbers(1); print(z)"
   ]
  },
  {
   "cell_type": "markdown",
   "id": "9ecbdbcb",
   "metadata": {},
   "source": [
    "### Pause for analysis\n",
    "How did *sloppy_add_two_numbers* know that variable *a* is global?"
   ]
  },
  {
   "cell_type": "markdown",
   "id": "c7e41fc2",
   "metadata": {
    "nbgrader": {
     "grade": true,
     "grade_id": "cell-9c5786e36c59c882",
     "locked": false,
     "points": 2,
     "schema_version": 3,
     "solution": true,
     "task": false
    }
   },
   "source": [
    "### BEGIN SOLUTION\n",
    "\n",
    "Because it's not in the argument list\n",
    "\n",
    "### END SOLUTION"
   ]
  },
  {
   "cell_type": "markdown",
   "id": "221e12f2",
   "metadata": {},
   "source": [
    "### Refresh/save/validate/close/submit/logout"
   ]
  }
 ],
 "metadata": {
  "celltoolbar": "Create Assignment",
  "kernelspec": {
   "display_name": "Python 3 (ipykernel)",
   "language": "python",
   "name": "python3"
  },
  "language_info": {
   "codemirror_mode": {
    "name": "ipython",
    "version": 3
   },
   "file_extension": ".py",
   "mimetype": "text/x-python",
   "name": "python",
   "nbconvert_exporter": "python",
   "pygments_lexer": "ipython3",
   "version": "3.10.2"
  }
 },
 "nbformat": 4,
 "nbformat_minor": 5
}

{
 "cells": [
  {
   "cell_type": "markdown",
   "metadata": {
    "nbgrader": {
     "grade": false,
     "grade_id": "cell-1cc0457740fdadc4",
     "locked": true,
     "schema_version": 3,
     "solution": false,
     "task": false
    }
   },
   "source": [
    "### Computational Guided Inquiry for PChem (Neshyba, 2023)\n",
    "\n",
    "# Analytical $U(T,V)$ and $H(T,P)$ \n",
    "\n",
    "## Using integral calculus to construct analytical formulas for $U(T,V)$\n",
    "We've seen that the internal energy of a gas can be written \n",
    "\n",
    "$$\n",
    "U(T,V) = [{3 \\over 2}RT + f_{rot}(T) + f_{vib}(T) + f_{intermol}(T,V)] \\times n \\ \\ \\ (1)\n",
    "$$ \n",
    "\n",
    "where, for an ideal gas, $f_{intermol}(T,V)$ is zero, while for real gases it is not. We've also seen how to use expressions like this to get $C_V$ and $\\pi_T$, using differential calculus. But here's the deal: what if we are *starting out* with analytical expressions for $C_V$ and $\\pi_T$, and we want to construct an analytical expression for $U$? How do we do that? \n",
    "\n",
    "Well, integral calculus, of course! It turns out that, because only $f_{intermol}(T,V)$ on the right-hand side of Eq. 1 depends on volume, we can say\n",
    "\n",
    "$$\n",
    "f_{intermol}(T,V) = {1 \\over n} \\int^V \\pi_T dV \\ \\ \\ (2)\n",
    "$$\n",
    "\n",
    "## Using integral calculus to construct analytical formulas for $H(T,P)$\n",
    "Our next challenge is to construct an analogous expression for the enthalpy in a temperature/pressure state space, i.e. $H(T,P)$. A lot of this problem turns out to be pretty easy, thanks to the fact that $H=U+PV$. The equipartition parts of $U$, for example, also appear in $H(T,P)$. We can also figure that, since $PV\\approx nRT$ even for real gases, there's going to be an extra $RT$ in the brackets. In other words, we can say this:\n",
    "\n",
    "$$\n",
    "H(T,P) = [{5 \\over 2}RT + f_{rot}(T) + f_{vib}(T) + f_{intermol}(T,P)] \\times n \\ \\ \\ (3)\n",
    "$$ \n",
    "\n",
    "\n",
    "So really the only tricky part is $f_{intermol}(T,P)$. But if you consider that $\\mu_T$ is the derivative of $H$ with respect to $P$, it must be that \n",
    "\n",
    "$$\n",
    "f_{intermol}(T,P) = {1 \\over n} \\int^P \\mu_T dP \\ \\ \\ (4)\n",
    "$$\n",
    "\n",
    "where note that we're trying to be economical in the notation: $f_{intermol}(T,P)$ is not the same function as $f_{intermol}(T,V)$.\n",
    "\n",
    "## Learning Goals\n",
    "1. I can construct the intermolecular part of $U(T,V)$ from $\\pi_T$ using integral calculus.\n",
    "1. I can construct the intermolecular part of $H(T,P)$ from $\\mu_T$ using integral calculus."
   ]
  },
  {
   "cell_type": "code",
   "execution_count": 1,
   "metadata": {
    "nbgrader": {
     "grade": false,
     "grade_id": "cell-b884125c81d0dfa3",
     "locked": true,
     "schema_version": 3,
     "solution": false,
     "task": false
    }
   },
   "outputs": [],
   "source": [
    "import sympy as sp"
   ]
  },
  {
   "cell_type": "code",
   "execution_count": 2,
   "metadata": {},
   "outputs": [
    {
     "data": {
      "text/latex": [
       "$\\displaystyle R$"
      ],
      "text/plain": [
       "R"
      ]
     },
     "execution_count": 2,
     "metadata": {},
     "output_type": "execute_result"
    }
   ],
   "source": [
    "# Symbolic variables we'll need\n",
    "sp.var(\"n\")\n",
    "sp.var(\"a\")\n",
    "sp.var(\"b\")\n",
    "sp.var(\"P\")\n",
    "sp.var(\"V\")\n",
    "sp.var(\"T\")\n",
    "sp.var(\"R\")"
   ]
  },
  {
   "cell_type": "markdown",
   "metadata": {
    "nbgrader": {
     "grade": false,
     "grade_id": "cell-0c14c8eb26865638",
     "locked": true,
     "schema_version": 3,
     "solution": false,
     "task": false
    }
   },
   "source": [
    "### Getting the intermolecular part of $U(T,V)$ from $\\pi_T$ for a van der Waals gas\n",
    "\n",
    "To show you how this works, we derive in the cell below $f_{intermol}(T,V)$ from $\\pi_T$, using Sympy's *integrate* method, according to Eq. 2. We'll assume a van der Waals gas, so $\\pi_T = {{an^2}\\over{V^2}}$."
   ]
  },
  {
   "cell_type": "code",
   "execution_count": 3,
   "metadata": {
    "nbgrader": {
     "grade": false,
     "grade_id": "cell-5192d410f599350a",
     "locked": true,
     "schema_version": 3,
     "solution": false,
     "task": false
    }
   },
   "outputs": [
    {
     "name": "stdout",
     "output_type": "stream",
     "text": [
      "-a*n/V\n",
      "-a⋅n \n",
      "─────\n",
      "  V  \n"
     ]
    }
   ],
   "source": [
    "# van der Waals pi_T\n",
    "pi_T = a*n**2/V**2\n",
    "\n",
    "# Integrating over V\n",
    "fintermol_V = sp.integrate(pi_T,V)/n\n",
    "print(fintermol_V)\n",
    "sp.pprint(fintermol_V)"
   ]
  },
  {
   "cell_type": "markdown",
   "metadata": {
    "nbgrader": {
     "grade": false,
     "grade_id": "cell-eae77c54f2ae96f0",
     "locked": true,
     "schema_version": 3,
     "solution": false,
     "task": false
    }
   },
   "source": [
    "### Getting the intermolecular part of $H(T,P)$ from $\\mu_T$ for a van der Waals gas\n",
    "\n",
    "Our task in the cell below is to derive an expression for $f_{intermol}(T,P)$ from $\\mu_T$ for a van der Waals gas, using Sympy's *integrate* method, according to Eq. 4. Don't forget that the variable you need to be integrating over now is $P$ (not $V$). For $\\mu_T$, you could use the complicated, exact expression we derived previously, but it's a lot easier to use the bilinear expression approximation, $\\mu_T = n(b - {{2a} \\over {RT}})$."
   ]
  },
  {
   "cell_type": "code",
   "execution_count": 4,
   "metadata": {
    "nbgrader": {
     "grade": true,
     "grade_id": "cell-74dde27801008281",
     "locked": false,
     "points": 3,
     "schema_version": 3,
     "solution": true,
     "task": false
    }
   },
   "outputs": [
    {
     "name": "stdout",
     "output_type": "stream",
     "text": [
      "  ⎛    2⋅a⎞\n",
      "P⋅⎜b - ───⎟\n",
      "  ⎝    R⋅T⎠\n"
     ]
    }
   ],
   "source": [
    "# van der Waals mu_T\n",
    "### BEGIN SOLUTION\n",
    "mu_T = n*(b-2*a/(R*T))\n",
    "### END SOLUTION\n",
    "\n",
    "# Integrating over P\n",
    "### BEGIN SOLUTION\n",
    "fpintermol = sp.integrate(mu_T,P)/n\n",
    "sp.pprint(fpintermol)\n",
    "### END SOLUTION"
   ]
  },
  {
   "cell_type": "markdown",
   "metadata": {
    "nbgrader": {
     "grade": false,
     "grade_id": "cell-48a871c4b3e3b136",
     "locked": true,
     "schema_version": 3,
     "solution": false,
     "task": false
    }
   },
   "source": [
    "### Getting the intermolecular part of $U(T,V)$ from $\\pi_T$ for a Berthelot gas\n",
    "In the cell below, derive $f_{intermol}(T,V)$ from $\\pi_T$, using Sympy's *integrate* method, according to Eq. 2, assuming a Berthelot gas (for which $\\pi_T = {{2an^2}\\over{TV^2}}$)."
   ]
  },
  {
   "cell_type": "code",
   "execution_count": 5,
   "metadata": {
    "nbgrader": {
     "grade": true,
     "grade_id": "cell-af5687826da044de",
     "locked": false,
     "points": 3,
     "schema_version": 3,
     "solution": true,
     "task": false
    }
   },
   "outputs": [
    {
     "name": "stdout",
     "output_type": "stream",
     "text": [
      "-2*a*n/(T*V)\n",
      "-2⋅a⋅n \n",
      "───────\n",
      "  T⋅V  \n"
     ]
    }
   ],
   "source": [
    "# van der Waals pi_T\n",
    "pi_T = 2*a*n**2/(T*V**2)\n",
    "\n",
    "# Integrating over V\n",
    "fintermol_V = sp.integrate(pi_T,V)/n\n",
    "print(fintermol_V)\n",
    "sp.pprint(fintermol_V)"
   ]
  },
  {
   "cell_type": "markdown",
   "metadata": {
    "nbgrader": {
     "grade": false,
     "grade_id": "cell-a4f3d084d11b8463",
     "locked": true,
     "schema_version": 3,
     "solution": false,
     "task": false
    }
   },
   "source": [
    "### Getting the intermolecular part of $H(T,P)$ from $\\mu_T$ for a Berthelot gas\n",
    "\n",
    "In the cell below, derive an expression for $f_{intermol}(T,P)$ for a Berthelot gas using the same methods you just used for a van der Waals gas. For $\\mu_T$, it's a lot easier to use the bilinear version we derived previously, $\\mu_T = n(b - {{3a} \\over {RT^2}})$."
   ]
  },
  {
   "cell_type": "code",
   "execution_count": 6,
   "metadata": {
    "nbgrader": {
     "grade": true,
     "grade_id": "cell-7af9f4b4cbd373bd",
     "locked": false,
     "points": 3,
     "schema_version": 3,
     "solution": true,
     "task": false
    }
   },
   "outputs": [
    {
     "name": "stdout",
     "output_type": "stream",
     "text": [
      "  ⎛    3⋅a ⎞\n",
      "P⋅⎜b - ────⎟\n",
      "  ⎜       2⎟\n",
      "  ⎝    R⋅T ⎠\n"
     ]
    }
   ],
   "source": [
    "# van der Waals mu_T\n",
    "### BEGIN SOLUTION\n",
    "mu_T = n*(b-3*a/(R*T**2))\n",
    "### END SOLUTION\n",
    "\n",
    "# Integrating over P\n",
    "### BEGIN SOLUTION\n",
    "fpintermol = sp.integrate(mu_T,P)/n\n",
    "sp.pprint(fpintermol)\n",
    "### END SOLUTION"
   ]
  },
  {
   "cell_type": "markdown",
   "metadata": {
    "nbgrader": {
     "grade": false,
     "grade_id": "cell-1247b6314b5f6a7a",
     "locked": true,
     "schema_version": 3,
     "solution": false,
     "task": false
    }
   },
   "source": [
    "### Refresh/save/validate/close/submit/logout"
   ]
  }
 ],
 "metadata": {
  "celltoolbar": "Create Assignment",
  "kernelspec": {
   "display_name": "Python 3 (ipykernel)",
   "language": "python",
   "name": "python3"
  },
  "language_info": {
   "codemirror_mode": {
    "name": "ipython",
    "version": 3
   },
   "file_extension": ".py",
   "mimetype": "text/x-python",
   "name": "python",
   "nbconvert_exporter": "python",
   "pygments_lexer": "ipython3",
   "version": "3.10.2"
  }
 },
 "nbformat": 4,
 "nbformat_minor": 1
}

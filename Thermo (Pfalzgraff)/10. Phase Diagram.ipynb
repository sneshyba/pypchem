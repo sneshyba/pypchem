{
 "cells": [
  {
   "cell_type": "markdown",
   "metadata": {},
   "source": [
    "## Computational Guided Inquiry for PChem\n",
    "\n",
    "## Objective: Use Python to construct the phase diagram of water. ##\n"
   ]
  },
  {
   "cell_type": "markdown",
   "metadata": {},
   "source": [
    "### Pre-class activities\n",
    "1. Using a resource of your choice, look up and record the following constants:\n",
    "    - The enthalpy of vaporization of water at a temperature of your choice.\n",
    "    - The enthalpy of sublimation of ice at the freezing point.\n",
    "    - The enthalpy of fusion of ice at the freezing point.\n",
    "    - The densities of ice and water at the freezing point.\n",
    "    - The temperature and pressure at the triple point of water.\n",
    "    - The temperature and pressure at the critical point of water.\n",
    "\n",
    "\n",
    "2. Using your values for the density of ice and water at the freezing point, calculate $\\Delta V_m = V_{m, liquid} - V_{m, solid}$. Report your final answer in SI units of $m^3/mol$"
   ]
  },
  {
   "cell_type": "markdown",
   "metadata": {},
   "source": [
    "## Introduction\n",
    "_Phase Diagrams_  \n",
    "Figure 1 shows a phase diagram of pure water.\n",
    "\n",
    "<p style ='text-align: center;'>\n",
    "<img src=\"https://opentextbc.ca/chemistry/wp-content/uploads/sites/150/2016/05/CNX_Chem_10_04_H2OPhasDi2.jpg\" height=\"300\" width=\"600\"/> \n",
    "Figure 1. Phase diagram of water.\n",
    "</p>\n"
   ]
  },
  {
   "cell_type": "markdown",
   "metadata": {},
   "source": [
    "The lines in a phase diagram are called _phase boundaries_, and the point of intersection between all three phase boundaries is called the _triple point_. Phase diagrams are generally constructed from observations, but it turns out that a useful analytical tool for understanding them is the _Clapeyron equation_,\n",
    "\n",
    "<p style = 'text-align: right;'>\n",
    "$ \\dfrac{dP}{dT} = \\dfrac{\\Delta H}{T\\Delta V}$\n",
    "$\\qquad\\qquad\\qquad\\qquad\\qquad\\qquad\\qquad\\qquad\\qquad\\qquad (3) $\n",
    "</p>\n",
    "\n",
    "which gives the slope of a line along a phase boundary. The \"$\\Delta$\" terms in this equation refer to the transition itself. For example, if one were interested in the liquid-solid phase boundary, then $\\Delta H$ and $\\Delta V$ would be $\\Delta H_{fus}$ and $\\Delta V_{fus}$. Here these are _molar_ values, i.e., $\\Delta H_{fus}$ is the enthalpy of fusion of one mole of a substance. \n",
    "\n",
    "The Clapeyron equation is quite general, but a problem with it is that it gives only the _slope_ of the phase boundary. Often it's useful to have expressions for the line itself, which means one must obtain the definite integral of this equation. In doing so, different assumptions come into play, according to the type of transition one is considering.  As we saw in class, these are:\n",
    "\n",
    "<p style = 'text-align: right;'>\n",
    "$ P = P^* + \\dfrac{\\Delta H}{\\Delta V} ln(\\dfrac T {T^*}) $\n",
    "$\\qquad\\qquad\\qquad\\qquad\\qquad\\qquad\\qquad\\qquad\\qquad\\qquad (5) $\n",
    "</p>\n",
    "where $P^*$ and $T^*$ are a single point (temperature and pressure) that we know for sure is on the curve.  For the liquid-vapor phase boundary, we use the Clausius-Clapeyron equation:\n",
    "<p style = 'text-align: right;'>\n",
    "$ P = P^* \\exp(\\dfrac{\\Delta H}{\\Delta V})( \\dfrac{1}{T} - \\dfrac{1}{T^*}) $\n",
    "$\\qquad\\qquad\\qquad\\qquad\\qquad\\qquad\\qquad\\qquad\\qquad\\qquad (5) $\n",
    "</p>\n",
    "\n",
    "where $\\exp(...)$ denotes the exponential, i.e. $\\exp(...) = e^{...}$"
   ]
  },
  {
   "cell_type": "markdown",
   "metadata": {},
   "source": [
    "## In-class work\n",
    "Now, using the information from your prelab, plot the phase diagram of water.  Use a log-log scale. If you would like help getting started, here are a few hints:\n",
    "- Ask yourself: What does the phase diagram of water look like?  What will you need to calculate to plot the phase diagram?  What equations do you need, and how will you use them? \n",
    "- Be careful of units!  Convert _everything_ to SI units, if you haven’t already.    \n",
    "\n",
    "Once you have constructed your phase diagram, ask your instructor for feedback.\n"
   ]
  },
  {
   "cell_type": "code",
   "execution_count": null,
   "metadata": {},
   "outputs": [],
   "source": []
  },
  {
   "cell_type": "markdown",
   "metadata": {},
   "source": [
    "### Post-class work\n",
    "Answer the following questions in your comp. notebook.\n",
    "1. What range of temperatures did you choose for the liquid-vapor coexistence line?  Justify your choice.\n",
    "2. Is the slope of the solid-liquid coexistence line positive or negative?  Why does water have this slope?"
   ]
  },
  {
   "cell_type": "code",
   "execution_count": null,
   "metadata": {},
   "outputs": [],
   "source": []
  }
 ],
 "metadata": {
  "kernelspec": {
   "display_name": "Python 3",
   "language": "python",
   "name": "python3"
  },
  "language_info": {
   "codemirror_mode": {
    "name": "ipython",
    "version": 3
   },
   "file_extension": ".py",
   "mimetype": "text/x-python",
   "name": "python",
   "nbconvert_exporter": "python",
   "pygments_lexer": "ipython3",
   "version": "3.6.5"
  }
 },
 "nbformat": 4,
 "nbformat_minor": 2
}

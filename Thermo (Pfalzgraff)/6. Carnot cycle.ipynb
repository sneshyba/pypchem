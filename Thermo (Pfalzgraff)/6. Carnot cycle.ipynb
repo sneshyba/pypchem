{
 "cells": [
  {
   "cell_type": "markdown",
   "metadata": {},
   "source": [
    "### Computational Guided Inquiry for PChem \n",
    "\n",
    "# The Carnot Cycle\n",
    "\n",
    "## Objective: Use Python graphics to visualize a Carnot Cycle##\n"
   ]
  },
  {
   "cell_type": "markdown",
   "metadata": {},
   "source": [
    "## Pre-class activities:\n",
    "Read the Introduction below.  \n",
    "\n",
    "1. Read the introduction carefully.\n",
    "2. On a sheet of paper, write down all the equations in the introduction, and define the terms _Carnot heat engine_, _Carnot cycle_, _indicator diagram_, _closed thermodynamic cycle_, _adiabat_, and _engine efficiency_."
   ]
  },
  {
   "cell_type": "markdown",
   "metadata": {},
   "source": [
    "## Introduction\n",
    "\n",
    "The purpose of any heat engine is to generate a useable form of energy (such as electricity) from the heat extracted from a hot reservoir (such as a furnace). A _Carnot heat engine_ is a theoretical heat engine in which one imagines taking an ideal gas through a sequence of reversible expansions and contractions of an ideal gas that ends up with the gas in the exact same state it started in. This sequence is called a _Carnot cycle_, and is often depicted in an _indicator diagram_ such as Fig. 1. The upper curve of this cycle (from point A to B) is the isothermal heat extraction leg that gets the engine started: during this leg, the gas is in thermal contact with the hot reservoir and extracts heat from it. Subsequent legs of the cycle trace out a clockwise closed loop in this diagram, as indicated by the arrows in the figure. The cycle is called a _closed thermodynamic cycle_ because the gas returns to its initial state at the end. \n",
    "\n",
    "<p style='text-align: center;'>\n",
    "<img src=\"http://webspace.pugetsound.edu/facultypages/nesh/Notebook/cycle1.png\" height=\"400\" width=\"400\"/>\n",
    "__Figure 1__. Indicator diagram showing a Carnot cycle acting as a heat engine. \n",
    "</p>"
   ]
  },
  {
   "cell_type": "markdown",
   "metadata": {},
   "source": [
    "Although a theoretical construct (because ideal gases are not real), Carnot heat engines let us derive some pretty fundamental theoretical results about the maximum efficiency with which similar processes occur in real life, such as in power plants.\n",
    "\n",
    "The idea of this exercise is that you'll gain insight into the formulas for isothermal and adiabatic reversible changes in an ideal gas, by generating a numerical representation of the Carnot cycle. You will also gain some practice at numerical integrate, by numerically finding the work generated or consumed at each leg. That, in turn, will allow you to test the fundamental theoretical results mentioned above."
   ]
  },
  {
   "cell_type": "markdown",
   "metadata": {},
   "source": [
    "_Obtaining a numerical representation of the Carnot cycle_  \n",
    "The key insight in this is understanding how pressure changes as a function of volume. During isothermal reversible expansion or compression, all you need is the ideal gas law, \n",
    "\n",
    "<p style='text-align: right;'>\n",
    "$P = {nRT \\over V}$\n",
    "$\\qquad\\qquad\\qquad\\qquad\\qquad\\qquad\\qquad\\qquad\\qquad\\qquad  (1) $\n",
    "</p>\n",
    "\n",
    "For example, suppose we start at point A on the hot isotherm in Fig. 1, and we want to compute the pressure over a range of volumes, all for the same temperature. We could call the temperature of this isotherm $T_{hot}$, and then use $P={nRT_{hot} \\over V}$ to calculate the pressure over a range of volumes. That's the first leg of our Carnot cycle."
   ]
  },
  {
   "cell_type": "markdown",
   "metadata": {},
   "source": [
    "The second leg of the cycle is an adiabatic reversible expansion. The pressure of this leg is called an _adiabat_. We'd like to calculate the pressure of this adiabat as volume increases (and the temperature drops). Fortunately, we have an equation for that too! The temperature depends, not surprisingly, on the heat capacity of the gas. Here it will be convenient to define a $\\gamma$ parameter (it doesn't seem to have a name), \n",
    "<p style='text-align: right;'>\n",
    "$\\gamma = \\frac{C_V + nR}{C_V}$ \n",
    "$\\qquad\\qquad\\qquad\\qquad\\qquad\\qquad\\qquad\\qquad\\qquad\\qquad (3) $\n",
    "</p>"
   ]
  },
  {
   "cell_type": "markdown",
   "metadata": {},
   "source": [
    "Using the $\\gamma$ parameter, the pressure of a gas during adiabatic reversible expansion can be compactly expressed as\n",
    "\n",
    "<p style='text-align: right;'>\n",
    "$P = {P_{ref} ({V_{ref} \\over V})^\\gamma } $\n",
    "$\\qquad\\qquad\\qquad\\qquad\\qquad\\qquad\\qquad\\qquad\\qquad\\qquad  (4) $\n",
    "</p>\n",
    "\n",
    "So, if we take $P_{ref}$ and $V_{ref}$ to be some point on the hot isotherm (like point B), Eq. 4 lets us calculate points along an adiabat that crosses the isotherm at that point. "
   ]
  },
  {
   "cell_type": "markdown",
   "metadata": {},
   "source": [
    "The third leg of the Carnot cycle is an isothermal reversible compression. The physical idea here is that the gas is compressed while in thermal contact with a cold reservoir, like a body of water. Heat generated by this compression will be soaked up by the cold reservoir. Points on this isotherm can be calculated by Eq. 1 again, only using $P={nRT_{cold} \\over V}$ "
   ]
  },
  {
   "cell_type": "markdown",
   "metadata": {},
   "source": [
    "Finally, we have the fourth leg of the Carnot cycle. Equation 4 is good for this again, provided $P_{ref}$ and $V_{ref}$ specify a point on the cold isotherm (e.g., point D).  "
   ]
  },
  {
   "cell_type": "markdown",
   "metadata": {},
   "source": [
    "_Numerical analysis_  \n",
    "Once you have a set of points $P(V)$ for the Carnot cycle, you can obtain some properties of the cycle using numerical methods. One is that the volumes of the four corners of the Carnot cycle are supposed to obey a _proportionality relationship_,\n",
    "\n",
    "<p style='text-align: right;'>\n",
    "$V_B/V_A = V_C/V_D$\n",
    "$\\qquad\\qquad\\qquad\\qquad\\qquad\\qquad\\qquad\\qquad\\qquad\\qquad  (5) $\n",
    "</p>\n",
    "\n",
    "You'll be able to examine your numerically-obtained volumes to see whether they satisfy this proportionality.  \n",
    "\n",
    "Another important property is the work done during each leg. You can get the work numerically by using the trapezoidal rule to integrate\n",
    "\n",
    "<p style='text-align: right;'>\n",
    "$w = -\\int P dV \\space$ (each leg)\n",
    "$\\qquad\\qquad\\qquad\\qquad\\qquad\\qquad\\qquad\\qquad\\qquad\\qquad  (6) $\n",
    "</p>\n",
    "\n",
    "where the integration limits are the endpoints of each leg. Equation 6 is supposed to have $P_{ex}$ as the integrand, but since the Carnot cycle is a quasistatic or reversible process, $P_{ex}$ is never very different from the gas' pressure, $P$. Equation also 6 says that expansions (legs 1 and 2) should have $w<0$, while compressions (legs 3 and 4) should have $w>0$. You'll be able to compare that prediction to your numerically-obtained values. "
   ]
  },
  {
   "cell_type": "markdown",
   "metadata": {},
   "source": [
    "It'll also be useful to calculate the total work done in one complete Carnot cycle, \n",
    "\n",
    "<p style='text-align: right;'>\n",
    "$w_{tot} = w_1+w_2+w_3+w_4$ \n",
    "$\\qquad\\qquad\\qquad\\qquad\\qquad\\qquad\\qquad\\qquad\\qquad\\qquad  (7) $\n",
    "</p>\n",
    "\n",
    "The whole idea of a heat engine is that cycle will \"do work\" on the surroundings, like turn a turbine to make electricity. So if this is a heat engine, it better be that $w_{tot}<0$. You'll want to verify that.  \n",
    "\n",
    "We can numerically estimate the heat extracted from the hot reservoir from the work during that leg,\n",
    "\n",
    "<p style='text-align: right;'>\n",
    "$q_{hot} = -w_1 $\n",
    "$\\qquad\\qquad\\qquad\\qquad\\qquad\\qquad\\qquad\\qquad\\qquad\\qquad (8) $  \n",
    "</p>"
   ]
  },
  {
   "cell_type": "markdown",
   "metadata": {},
   "source": [
    "You can use the above results to calculate the _engine efficiency_ of your engine. By definition, this is the ratio of the work you get out of the engine, to the heat extracted from the hot reservoir,\n",
    "\n",
    "<p style='text-align: right;'>\n",
    "$\\varepsilon = -w_{tot}/q_{hot}$ \n",
    "$\\qquad\\qquad\\qquad\\qquad\\qquad\\qquad\\qquad\\qquad\\qquad\\qquad  (9) $\n",
    "</p>\n",
    "\n",
    "where the negative sign is there so that $\\varepsilon$ is a positive number. "
   ]
  },
  {
   "cell_type": "markdown",
   "metadata": {},
   "source": [
    "_Theoretical analysis_  \n",
    "Now for some theory. The heat extracted from the hot reservoir can be shown to be given by\n",
    "\n",
    "<p style='text-align: right;'>\n",
    "$q_{hot} = nRT_{hot} \\ ln(V_B/V_A)$ \n",
    "$\\qquad\\qquad\\qquad\\qquad\\qquad\\qquad\\qquad\\qquad\\qquad\\qquad  (10) $\n",
    "</p>\n",
    "\n",
    "This value can be compared to your numerical result, Eq. 8. Theory also predicts that the efficiency of the Carnot engine will be given by\n",
    "\n",
    "<p style='text-align: right;'>\n",
    "$\\varepsilon = {T_{hot}-T_{cold} \\over T_{hot}}$ \n",
    "$\\qquad\\qquad\\qquad\\qquad\\qquad\\qquad\\qquad\\qquad\\qquad\\qquad (11) $\n",
    "</p>\n",
    "\n",
    "which can be compared to your numerical result, Eq. 9. Equation 11 should be thought of as a theoretical maximum. Designers of real heat engines, from power plants to automobiles, can hope to approach this value using sound engineering, but they cannot exceed it. That's the power of thermodyanmics!"
   ]
  },
  {
   "cell_type": "markdown",
   "metadata": {},
   "source": [
    "## In-class activities  \n",
    "\n",
    "This imports various libraries."
   ]
  },
  {
   "cell_type": "code",
   "execution_count": null,
   "metadata": {},
   "outputs": [],
   "source": [
    "import numpy as np\n",
    "import matplotlib.pyplot as plt"
   ]
  },
  {
   "cell_type": "code",
   "execution_count": null,
   "metadata": {},
   "outputs": [],
   "source": [
    "%matplotlib notebook"
   ]
  },
  {
   "cell_type": "markdown",
   "metadata": {},
   "source": [
    "Next we need to define a function that extracts a specified range of curves (we'll use this to extract just the Carnot parts of the cycle)."
   ]
  },
  {
   "cell_type": "code",
   "execution_count": null,
   "metadata": {},
   "outputs": [],
   "source": [
    "def extract(V,P,Vstart,Vstop):\n",
    "    if Vstop > Vstart:\n",
    "        index = np.argwhere((V>Vstart) & (V<Vstop))\n",
    "    else:\n",
    "        index = np.argwhere((V<Vstart) & (V>Vstop))\n",
    "    return np.squeeze(V[index]), np.squeeze(P[index])"
   ]
  },
  {
   "cell_type": "markdown",
   "metadata": {},
   "source": [
    "Define some properties of our gas and the Carnot cycle. The heat capacity below is just a placeholder; you'll be assigned an actual heat capacity."
   ]
  },
  {
   "cell_type": "code",
   "execution_count": null,
   "metadata": {},
   "outputs": [],
   "source": [
    "# Gas properties\n",
    "R = 8.314\n",
    "n = 1\n",
    "C_V = 3./2*R*n # This is a monatomic ideal gas\n",
    "gamma = (C_V + n*R) / (C_V)\n",
    "print('gamma =', gamma)\n",
    "\n",
    "# For the Carnot cycle, define the hot/cold reservoirs and the volume arrays that span the four legs\n",
    "T_hot = 400.0\n",
    "T_cold = 300.0\n",
    "V_leg1 = np.linspace(0.01, 0.10, 200)\n",
    "V_leg2 = np.linspace(0.01, 0.10, 200)\n",
    "V_leg3 = np.linspace(0.10, 0.01, 200) # Going backward because we're compressing on these legs\n",
    "V_leg4 = np.linspace(0.10, 0.01, 200) # Going backward because we're compressing on these legs"
   ]
  },
  {
   "cell_type": "markdown",
   "metadata": {},
   "source": [
    "Leg 1 is the hot isothermal expansion."
   ]
  },
  {
   "cell_type": "code",
   "execution_count": null,
   "metadata": {},
   "outputs": [],
   "source": [
    "# Hot Boyle isotherm\n",
    "P_leg1 = R*T_hot/V_leg1\n",
    "\n",
    "# Graph it\n",
    "plt.figure()\n",
    "plt.plot(V_leg1,P_leg1,'r',label='hot isothermal expansion')\n",
    "plt.grid(True)\n",
    "plt.legend()\n",
    "plt.xlabel('V (m^3')\n",
    "plt.ylabel('P (Pa)')"
   ]
  },
  {
   "cell_type": "markdown",
   "metadata": {},
   "source": [
    "Leg 2 is an adiabatic expansion."
   ]
  },
  {
   "cell_type": "code",
   "execution_count": null,
   "metadata": {},
   "outputs": [],
   "source": [
    "# Choose a point on the hot isotherm that we want the adiabat to intersect\n",
    "V_on_hot_isotherm = 0.04\n",
    "P_on_hot_isotherm = R*T_hot/V_on_hot_isotherm\n",
    "\n",
    "# Calculate an adiabat that crosses the hot isotherm at that point\n",
    "P_leg2 = P_on_hot_isotherm*(V_on_hot_isotherm/V_leg2)**gamma # Formula for adiabatic reversible expansion\n",
    "\n",
    "# Graph them together\n",
    "plt.figure()\n",
    "plt.plot(V_leg1,P_leg1,'r',label='hot isothermal expansion')\n",
    "plt.plot(V_leg2,P_leg2,'k--',label='adiabatic expansion')\n",
    "plt.grid(True)\n",
    "plt.legend()"
   ]
  },
  {
   "cell_type": "markdown",
   "metadata": {},
   "source": [
    "### Pause for Analysis: If you adiabatically & reversibly expand a gas initially at $T_{hot}$ from a volume of $0.04 \\space m^3$, will it cool down or heat up?  What if you compress it?"
   ]
  },
  {
   "cell_type": "markdown",
   "metadata": {},
   "source": [
    "Leg 3 is a cold isothermal compression."
   ]
  },
  {
   "cell_type": "code",
   "execution_count": null,
   "metadata": {},
   "outputs": [],
   "source": [
    "# Calculate the cold Boyle isotherm (call it \"P_leg3\")\n",
    "\n",
    "# Graph legs 1-3 together\n"
   ]
  },
  {
   "cell_type": "markdown",
   "metadata": {},
   "source": [
    "Leg 4 is an adiabatic compression."
   ]
  },
  {
   "cell_type": "code",
   "execution_count": null,
   "metadata": {
    "scrolled": true
   },
   "outputs": [],
   "source": [
    "# Choose a point on the cold isotherm that we want the adiabat to intersect\n",
    "V_on_cold_isotherm = 0.04\n",
    "P_on_cold_isotherm = R*T_cold/V_on_cold_isotherm\n",
    "\n",
    "# Calculate an adiabat that crosses the cold isotherm at that point (call it \"P_leg4\")\n",
    "\n",
    "# Graph legs 1-4 together\n"
   ]
  },
  {
   "cell_type": "markdown",
   "metadata": {},
   "source": [
    "#### Pause for Analysis: Using the zoom and pan functions, write down the volumes associated with the four points of the Carnot cycle."
   ]
  },
  {
   "cell_type": "markdown",
   "metadata": {},
   "source": [
    "OK, now you can extract just the part of the legs that belong to the Carnot cycle. You'll need to modify volumes A-D to get this right."
   ]
  },
  {
   "cell_type": "code",
   "execution_count": null,
   "metadata": {},
   "outputs": [],
   "source": [
    "# Specify the volumes that define the intersections of the Carnot cycle\n",
    "VA = 0.01\n",
    "VB = 0.05\n",
    "VC = 0.07\n",
    "VD = 0.04\n",
    "\n",
    "# Extract the Carnot range of the first leg\n",
    "V_leg1_Carnot, P_leg1_Carnot = extract(V_leg1,P_leg1,VA,VB)\n",
    "\n",
    "# Extract the Carnot range of the second leg\n",
    "V_leg2_Carnot, P_leg2_Carnot = extract(V_leg2,P_leg2,VB,VC)\n",
    "\n",
    "# Extract the Carnot range of the third leg ... you'll need to \"uncomment\" this line (remove hash-tags and space)\n",
    "# V_leg3_Carnot, P_leg3_Carnot = extract(V_leg3,P_leg3,VC,VD)\n",
    "\n",
    "# Extract the Carnot range of the fourth leg ... you'll need to \"uncomment\" this line \n",
    "# V_leg4_Carnot, P_leg4_Carnot = extract(V_leg4,P_leg4,VD,VA)\n",
    "\n",
    "# Graph them all together ... you'll need to \"uncomment\" these lines \n",
    "# plt.figure()\n",
    "# plt.plot(V_leg1_Carnot,P_leg1_Carnot,'r', label='hot isothermal expansion')\n",
    "# plt.plot(V_leg2_Carnot,P_leg2_Carnot,'k--', label='adiabatic expansion')\n",
    "# plt.plot(V_leg3_Carnot,P_leg3_Carnot,'b', label='cold isothermal compression')\n",
    "# plt.plot(V_leg4_Carnot,P_leg4_Carnot,'k-.',label='adiabatic compression')\n",
    "# plt.grid(True)\n",
    "# plt.legend()"
   ]
  },
  {
   "cell_type": "markdown",
   "metadata": {},
   "source": [
    "### Pause for Analysis: Supposedly, the ratio $V_B/V_A$ should be equal to $V_C/V_D$. Is it close? "
   ]
  },
  {
   "cell_type": "code",
   "execution_count": null,
   "metadata": {},
   "outputs": [],
   "source": [
    "# Calculating and printing the volume ratios (for comparison)\n",
    "print('VB/VA =', VB/VA)\n",
    "print('VC/VD =', VC/VD)"
   ]
  },
  {
   "cell_type": "markdown",
   "metadata": {},
   "source": [
    "Now we're going to calculate the work associated with the cycle"
   ]
  },
  {
   "cell_type": "code",
   "execution_count": null,
   "metadata": {},
   "outputs": [],
   "source": [
    "# Get the work of each leg (w_leg1, w_leg2, etc)\n",
    "w_leg1 = -np.trapz(P_leg1_Carnot,V_leg1_Carnot); print('w1 =', w_leg1)\n",
    "# w_leg2 = ...\n",
    "# w_leg3 = ... \n",
    "# w_leg4 = ..."
   ]
  },
  {
   "cell_type": "markdown",
   "metadata": {},
   "source": [
    "### Pause for Analysis: For each leg, determine whether work was done *by* the system *on* the surroundings, or vice versa (the sign of $w$ tells you this). "
   ]
  },
  {
   "cell_type": "markdown",
   "metadata": {},
   "source": [
    "Now, let's get the total work by adding up the four legs (Eq. 7; you can use the code below, but un-comment it)."
   ]
  },
  {
   "cell_type": "code",
   "execution_count": null,
   "metadata": {},
   "outputs": [],
   "source": [
    "# w_tot = w_leg1+w_leg2+w_leg3+w_leg4\n",
    "# print(w_tot)"
   ]
  },
  {
   "cell_type": "markdown",
   "metadata": {},
   "source": [
    "### Pause for Analysis: based on your result, for the entire Carnot cycle, was work was done *by* the system *on* the surroundings, or vice versa?"
   ]
  },
  {
   "cell_type": "markdown",
   "metadata": {},
   "source": [
    "Now we want the efficiency of our heat engine. "
   ]
  },
  {
   "cell_type": "code",
   "execution_count": null,
   "metadata": {},
   "outputs": [],
   "source": [
    "# Calculate & print q_hot from the work done on leg 1 (Eq. 8)\n",
    "\n",
    "# Calculate & print the actual efficiency of the heat engine (based on the heat and work, Eq. 9)\n"
   ]
  },
  {
   "cell_type": "markdown",
   "metadata": {},
   "source": [
    "Next, we're going to get some theoretical results for comparison. The first is the theoretical value of the heat extracted from the hot reservoir during leg 1. "
   ]
  },
  {
   "cell_type": "code",
   "execution_count": null,
   "metadata": {},
   "outputs": [],
   "source": [
    "# Calculate & print the theoretical q_hot from Eq. 10\n"
   ]
  },
  {
   "cell_type": "code",
   "execution_count": null,
   "metadata": {},
   "outputs": [],
   "source": [
    "# Now calculate & print the theoretical efficiency (based on the temperatures of the reservoirs) from Eq. 11\n"
   ]
  },
  {
   "cell_type": "markdown",
   "metadata": {},
   "source": [
    "### Pause for Analysis: How well do the theoretical and numerical values of $\\varepsilon$ agree?"
   ]
  },
  {
   "cell_type": "markdown",
   "metadata": {},
   "source": [
    "## Post-class activities:  \n",
    "In your lab notebook, enter the following:\n",
    "\n",
    "1. Your responses to the \"pause for analysis\" items.\n",
    "2. In your own words, explain why people are interested in the quantity $\\varepsilon = -w_{tot}/q_{hot}$ .\n",
    "3. Of the terms you defined as part of the pre-lab, choose one (or more) that you'd like to modify the definition of, based on what you did in this exercise.\n",
    "\n",
    "I'll also be looking at your python notebook (the .ipynb file) in our shared OneDrive folder. I will be looking for evidence of your mastery of the computational methods embedded in the exercise: whether the notebook is complete and your results accurate."
   ]
  },
  {
   "cell_type": "code",
   "execution_count": null,
   "metadata": {},
   "outputs": [],
   "source": []
  }
 ],
 "metadata": {
  "kernelspec": {
   "display_name": "Python 3",
   "language": "python",
   "name": "python3"
  },
  "language_info": {
   "codemirror_mode": {
    "name": "ipython",
    "version": 3
   },
   "file_extension": ".py",
   "mimetype": "text/x-python",
   "name": "python",
   "nbconvert_exporter": "python",
   "pygments_lexer": "ipython3",
   "version": "3.6.5"
  }
 },
 "nbformat": 4,
 "nbformat_minor": 1
}

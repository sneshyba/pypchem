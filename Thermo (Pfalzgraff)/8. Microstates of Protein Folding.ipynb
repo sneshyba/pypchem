{
 "cells": [
  {
   "cell_type": "markdown",
   "metadata": {},
   "source": [
    "### Computational Guided Inquiry for PChem\n",
    "\n",
    "# Microstates, Entropy, and the Second Law\n",
    "\n",
    "## Objective: Simulate a protein with multiple states."
   ]
  },
  {
   "cell_type": "markdown",
   "metadata": {},
   "source": [
    "## Pre-class activities:\n",
    "\n",
    "1. Read the Introduction below. \n",
    "2. Why is there more chance of moving from a low energy state to a high energy state at high temperature?\n",
    "3. Imagine that you played this game for 10,000 steps, starting in the F state.  Make prediction about how many steps (out of 10,000) the protein will be in the F state.  The prediction can be a rough guess (e.g. more than 50%?  less than 50%?). Explain your logic for your prediction. \n",
    "4. Watch the video about if statements in python that is posted to Moodle.  \n",
    "5. Explain in your own words what an if-else statement is.  Give an example of an if-else statement (other than the one in the video) and explain what the statement says and what will happen if you execute your example code."
   ]
  },
  {
   "cell_type": "markdown",
   "metadata": {},
   "source": [
    "## Introduction\n",
    "\n",
    "The entropy of a system is directly related to the number of  microstates in a system.  A microstate is  a way that energy can be stored in the system, or a way that the system can be arranged.  If a state has multiple ways to obtain a certain arrangement (more microstates at a given energy level level) then it will be more probable that a system can end up in that state. \n",
    "\n",
    "In class, we discussed a 'game' in which we have a protein that has multiple 'states' (conformations, or 3D shapes of the protein).  The folded 'F' state is lower in energy becuase of attractions between the atoms in the protein in the folded state.  The unfolded 'U' state is higher in energy because the protein is more spread out so the attractions are weaker.  However, the 'U' state is \"floppy\" and there are multiple different 'U' states (numbered 'U1', 'U2', ...) that have the same energy, corresponding to different unfolded conformations of the protein.  \n",
    "\n",
    "At low temperature, there is less kinetic energy, so when a protein enters the low energy 'F' state it is hard for it to break the attractions between the atoms in the protein.  This means  that there is a low (but not zero) probability of leaving the F state once you are in it.  \n",
    "\n",
    "At high temperature, there is more kinetic energy, so when a protein enters the low energy 'F' state it is easier for the protein to break its intermolecular interactions and unfold into one of the 'U' states.  \n",
    "\n",
    "We then discussed a 'game' in which we imagine the protein starting in one of the states.  At each step of the game, we do the following:\n",
    "1. Note which state the molecule is in.\n",
    "\n",
    "\n",
    "2. Roll a green die.  The green die selects which state the protein will randomly try to move to, where\n",
    "        1 - F\n",
    "        2 - U1\n",
    "        3 - U2\n",
    "        4 - U3\n",
    "        5 - U4\n",
    "        6 - U5\n",
    "        \n",
    "3. a. If the new state the protein is moving to is *lower* in energy (i.e. we are moving from one of the 'U' states to and 'F' state), the protein makes the move, and the game starts over at (1)   \n",
    "\n",
    "   b. If the new state the protein is moving to is *the same* energy (a move from F to F, or from U to U), the protein makes the move, and the game starts over at (1)   \n",
    "   \n",
    "   c. If the new state we are moving to is *higher in energy* then the protein has a *chance* of making the move.  The liklihood of making the move depends on the temperature.  Continue to step 4.\n",
    "   \n",
    "   \n",
    "4. To check whether the protein moves to a higher energy state, roll the blue die.  At low temperature, the chance of moving to a higher energy state is low, so the protein makes the move only if the blue die roll is a '6'.  If the blue die is not a '6', then the protein stays in its current state.\n",
    "\n",
    " At high temperature, the probability of moving to the high energy state is higher, so the  protein makes the move if the blue die comes up 3, 4, 5, or 6.\n",
    " \n",
    "The purpose of this CGI is to play this game using Python, so that we can analyze the behavior of the protein over a long period of time."
   ]
  },
  {
   "cell_type": "markdown",
   "metadata": {},
   "source": [
    "## In-class activities  \n",
    "\n",
    "Import various libraries."
   ]
  },
  {
   "cell_type": "code",
   "execution_count": null,
   "metadata": {},
   "outputs": [],
   "source": [
    "import numpy as np\n",
    "import matplotlib.pyplot as plt\n",
    "import random\n",
    "%matplotlib notebook"
   ]
  },
  {
   "cell_type": "markdown",
   "metadata": {},
   "source": [
    "The function below simulates rolling a die.  "
   ]
  },
  {
   "cell_type": "code",
   "execution_count": null,
   "metadata": {},
   "outputs": [],
   "source": [
    "def roll_die():\n",
    "    return random.randint(1,6)"
   ]
  },
  {
   "cell_type": "markdown",
   "metadata": {},
   "source": [
    "Let's test our function.  Execute the cell below a few times to make sure you get different die rolls each time."
   ]
  },
  {
   "cell_type": "code",
   "execution_count": null,
   "metadata": {},
   "outputs": [],
   "source": [
    "print(\"I rolled a\", roll_die())"
   ]
  },
  {
   "cell_type": "markdown",
   "metadata": {},
   "source": [
    "In our game, there is a green die and a blue die.  The green die tells you which state to try to move to.  The python object below describes the rule for which state to move to when a given number is rolled.  This kind of object is called a \"dictionary,\" because it allows us to 'look up' what to do for each possible roll of the dice.  The cell below sets up the dictionary which we will use to look up which state to move to depending on the roll of the dice.  The first three numbers are done for you.  Based on context, you figure out how to fill in the rule for 4, 5, and 6."
   ]
  },
  {
   "cell_type": "code",
   "execution_count": null,
   "metadata": {},
   "outputs": [],
   "source": [
    "green_die = {1:'F', 2:'U1', 3:'U2', } #you fill in the rule for 4, 5, 6."
   ]
  },
  {
   "cell_type": "markdown",
   "metadata": {},
   "source": [
    "We *use* the dictionary as shown in the cell below.  Try executing the cell below a few times to see that it's different every time you roll the die."
   ]
  },
  {
   "cell_type": "code",
   "execution_count": null,
   "metadata": {},
   "outputs": [],
   "source": [
    "die_roll = roll_die() # roll the die\n",
    "new_state = green_die[die_roll] # look up which state to move to, depending on the die roll.\n",
    "print(\"We rolled a\", die_roll, \". That means we want to try to move to state\", new_state)"
   ]
  },
  {
   "cell_type": "markdown",
   "metadata": {},
   "source": [
    "We're also told that the result is different if the new state is higher or lower energy.  We'll be checking this often, so here is a helpful function to check if the new state is higher in energy than the current state.  In particular, U conformations are higher in energy than F conformations. "
   ]
  },
  {
   "cell_type": "code",
   "execution_count": null,
   "metadata": {},
   "outputs": [],
   "source": [
    "def is_higher_energy(current_state,new_state):\n",
    "    if 'F' in current_state and 'U' in new_state: \n",
    "        return True\n",
    "    else:\n",
    "        return False"
   ]
  },
  {
   "cell_type": "markdown",
   "metadata": {},
   "source": [
    "Let's test this function to make sure that it gives the expected result.  Choose any current state and any new state (not necessarily what you rolled above), and make sure the function does what you expect for the two states you picked.  "
   ]
  },
  {
   "cell_type": "code",
   "execution_count": null,
   "metadata": {},
   "outputs": [],
   "source": [
    "current_state = # you fill this in with a state, e.g. 'F' or 'U1'\n",
    "new_state = # you fill this in.  Could be the same state or a different state.\n",
    "if is_higher_energy(current_state,new_state):\n",
    "    print(new_state,\"is higher energy than\", current_state)\n",
    "else:\n",
    "    print(new_state,\"is not higher energy than\", current_state)"
   ]
  },
  {
   "cell_type": "markdown",
   "metadata": {},
   "source": [
    "We will also make a dictionary where our program can look up what to do when we roll the blue die, either at high or low temperature.  Here we'll represent a failed transition to the new state by '<b>False</b>', and an accepted transition to the new state by '<b>True</b>'.  The rule for rolling the blue die at high temperature is done for you.  You fill in the dictionary for low temperature."
   ]
  },
  {
   "cell_type": "code",
   "execution_count": null,
   "metadata": {},
   "outputs": [],
   "source": [
    "blue_die_high_temp = {1:False, 2:False, 3:True, 4:True, 5:True, 6:True} \n",
    "blue_die_low_temp = {} # you do this one."
   ]
  },
  {
   "cell_type": "markdown",
   "metadata": {},
   "source": [
    "Again, let's try out our dictionary.  Below we've created a variable called ```transition_happens``` which can be either True or False.  I can then use 'if ```transition_happens``` to check if the transition succeeded."
   ]
  },
  {
   "cell_type": "code",
   "execution_count": null,
   "metadata": {},
   "outputs": [],
   "source": [
    "die_roll = roll_die()\n",
    "# The below line 'looks up' whether the transition happens based on the die roll.\n",
    "transition_happens = blue_die_low_temp[die_roll] \n",
    "if transition_happens: \n",
    "    print(\"We rolled a\", die_roll, \"so the transition should happen.\")\n",
    "else: \n",
    "    print(\"We rolled a\", die_roll, \"so the transition doesn't happen.\")"
   ]
  },
  {
   "cell_type": "markdown",
   "metadata": {},
   "source": [
    "### Pause for Analysis #1.  \n",
    "#### a. What does the variable ```transition_happens``` represent?  \n",
    "#### b. What is the value of the ```transition_happens``` in the cell above?  "
   ]
  },
  {
   "cell_type": "markdown",
   "metadata": {},
   "source": [
    "Now, <b>your task is to complete the function below, which plays one step of the game.</b>  Let's review what we do in one step:\n",
    "1. Roll the green die using the roll_die() function.\n",
    "2. Look up which state to move to using the 'green_die' dictionary.\n",
    "3. Check whether the new state is higher in energy using the 'is_higher_energy' function.\n",
    "4. If the state is higher in energy, check whether the transition happens.  If the state is lower or the same in energy, the transition happens automatically.\n",
    "5. If the transition succeeds, return the new state.  Otherwise, return the current state.\n",
    "\n",
    "The function takes as input the current state, and returns which state the protein moved to.  The state the protein moved to might be the same as the current state.  Work through each of these steps sequentially. It might help to remember that we tested out all of these steps individually in the cells above, so you can take a look up there.  If you have questions, feel free to ask your instructor."
   ]
  },
  {
   "cell_type": "code",
   "execution_count": null,
   "metadata": {},
   "outputs": [],
   "source": [
    "def move_protein(current_state):\n",
    "    # roll the green die.  \n",
    "    # check which state to move to using the 'green_die' dictionary. call this new_state\n",
    "    \n",
    "    if is_higher_energy(current_state,new_state):\n",
    "        # if the new state is higher energy, use the blue die to check \n",
    "        # whether the transition happens.\n",
    "    else:\n",
    "        #  if the new state is not higher in energy, the transition happens automatically\n",
    "\n",
    "    # If the transition happens, move to the new state.  Otherwise, stay where you are.\n",
    "    # This part is done for you.\n",
    "    if transition_happens:\n",
    "        return new_state\n",
    "    else:\n",
    "        return current_state"
   ]
  },
  {
   "cell_type": "markdown",
   "metadata": {},
   "source": [
    "The code below uses your move_protein function to play the game for some number of steps.  It records what state the protein is in at each step and prints some statistics once the game is over. \n",
    "\n",
    "Once you're happy that move_protein is correct, change number_of_steps to 10000 (or more).  "
   ]
  },
  {
   "cell_type": "code",
   "execution_count": null,
   "metadata": {},
   "outputs": [],
   "source": [
    "current_state = 'F'\n",
    "number_of_steps = 1 # play the game for this many steps.  Set to 1 for testing.  \n",
    "# Make a list of the states.  It's currently empty -- that's what [] means, an empty list.\n",
    "states = [] \n",
    "for i in range(number_of_steps):\n",
    "    # Record the current state in the list of states.\n",
    "    if 'F' in current_state:\n",
    "        states.append('F')\n",
    "    else:\n",
    "        states.append('U')\n",
    "    # Try to move the protein to a new state\n",
    "    current_state = move_protein(current_state)\n",
    "# Print out the results\n",
    "print('There are', states.count('F'), 'F states and', states.count('U'), 'U states.')\n",
    "print('The probability of being in the F conformation is ', states.count('F') / len(states))\n",
    "print('The probability of being in the U conformation is ', states.count('U') / len(states))"
   ]
  },
  {
   "cell_type": "markdown",
   "metadata": {},
   "source": [
    "### Pause for Analysis #2.  \n",
    "#### a. Record the probabilities of being in the two configurations at low temperature.  How do they compare to your predictions?\n",
    "#### b. The probability of moving from the F state one of the U states is only $\\frac{1}{6}$ = 16.67%.  And yet you should see more than 16.67% of the proteins in the U state.  Why do you see this?  Refer to the number of 'U' microstates in your answer."
   ]
  },
  {
   "cell_type": "markdown",
   "metadata": {},
   "source": [
    "Now, go back and rerun the simulation at high temperature.  To do this, go back up and change which blue die you were using.  Then re-run the simulation."
   ]
  },
  {
   "cell_type": "markdown",
   "metadata": {},
   "source": [
    "### Pause for Analysis #3.  \n",
    "#### a. Record the probabilities of being in the two configurations at high temperature.  How do they compare to your predictions?\n",
    "#### b. How is the probability of being in the U state different at high temperature?  How do you explain this difference?"
   ]
  },
  {
   "cell_type": "markdown",
   "metadata": {},
   "source": [
    "What do you think would happen if there were <i>two</i> 'F' states and <i>four</i> 'U' states?\n",
    "Discuss your prediction with a partner or group of three.  Once you've made a prediction,  go back up to the top and change the rule for the green die so that there are two 'F' states and four 'U' states.  Then re-run the simulation by executing all the cells below.  "
   ]
  },
  {
   "cell_type": "markdown",
   "metadata": {},
   "source": [
    "\n",
    "### Pause for Analysis #4.  \n",
    "#### a. Record the probability of being in the F state at high and low temperature with the two F states.\n",
    "#### b. Analyze your result -- what happens when you increase the number of F states?  Why does this happen?"
   ]
  },
  {
   "cell_type": "markdown",
   "metadata": {},
   "source": [
    "## Post-class activities:\n",
    "In your CGI notebook, enter:\n",
    "\n",
    "1. Your responses to the \"pause for analysis\" items.\n",
    "2. Is it theoretically possible for the protein to stay only in the F state for all 10,000 plays of the game?  Is it likely?\n",
    "3. Most proteins are functional in their folded state and not functional in their unfolded state.  Given this, why is it important for our body temperatures to not get too high?\n",
    "4. What were the advantages of playing this game on the computer vs. using actual dice?  What were the disadvantages?\n",
    "\n",
    "I'll also be looking at your python notebook (the .ipynb file) in our shared folder. I will be looking for evidence of your mastery of the computational methods embedded in the exercise: whether the notebook is complete and your results accurate."
   ]
  },
  {
   "cell_type": "code",
   "execution_count": null,
   "metadata": {},
   "outputs": [],
   "source": []
  }
 ],
 "metadata": {
  "kernelspec": {
   "display_name": "Python 3",
   "language": "python",
   "name": "python3"
  },
  "language_info": {
   "codemirror_mode": {
    "name": "ipython",
    "version": 3
   },
   "file_extension": ".py",
   "mimetype": "text/x-python",
   "name": "python",
   "nbconvert_exporter": "python",
   "pygments_lexer": "ipython3",
   "version": "3.6.5"
  }
 },
 "nbformat": 4,
 "nbformat_minor": 2
}
